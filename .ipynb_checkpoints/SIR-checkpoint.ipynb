{
 "cells": [
  {
   "cell_type": "markdown",
   "metadata": {},
   "source": [
    "#### Import required package"
   ]
  },
  {
   "cell_type": "code",
   "execution_count": 1,
   "metadata": {},
   "outputs": [],
   "source": [
    "import numpy as np\n",
    "import matplotlib.pyplot as plt\n",
    "import ca_utils"
   ]
  },
  {
   "cell_type": "code",
   "execution_count": 2,
   "metadata": {},
   "outputs": [],
   "source": [
    "plt.rcParams['figure.figsize'] = (5,5)"
   ]
  },
  {
   "cell_type": "markdown",
   "metadata": {},
   "source": [
    "#### Initilisation Model 1 (Visualisation, Phase Diagram & Variance)"
   ]
  },
  {
   "cell_type": "code",
   "execution_count": 4,
   "metadata": {},
   "outputs": [],
   "source": [
    "N           = 10                            # lattice size\n",
    "p1, p2, p3  = 0.05, 0.5, 0.05               # p for visualisation\n",
    "S0, I0, R0  = 0.2, 0.3, 0.50                # initial fraction of S, I, R\n",
    "equistep    = 100                           # equilibrate sweep\n",
    "calcstep    = 1000                          # measurement sweep\n",
    "factor      = int(calcstep/10)              # because of 'if (j%10 == 0):' in 'analyse' fn\n",
    "\n",
    "p = [p1, p2, p3]\n",
    "fraction = [S0, I0, R0]\n",
    "\n",
    "np.random.seed(0)\n",
    "sir_model = ca_utils.SIR(N, fraction, p, factor, equistep, calcstep)"
   ]
  },
  {
   "cell_type": "markdown",
   "metadata": {},
   "source": [
    "#### Results"
   ]
  },
  {
   "cell_type": "markdown",
   "metadata": {},
   "source": [
    "- Animation"
   ]
  },
  {
   "cell_type": "markdown",
   "metadata": {},
   "source": [
    "\n",
    "<font color='orange'>Absorbing Phase ( S only )</font>\n",
    "    - p1, p2, p3  = 0.05, 0.5, 0.05 \n",
    "<font color='cyan'>Absorbing Phase ( S and I )</font>\n",
    "    - p1, p2, p3  = 0.05, 0.5, 0.0\n",
    "<font color='green'>Dynamic Equilibrium ( Cyclic Permutation if S, I and R )</font>\n",
    "    - p1, p2, p3  = 0.05, 0.5, 0.05\n",
    "<font color='grey'>Wave</font>\n",
    "    - p1, p2, p3  ="
   ]
  },
  {
   "cell_type": "code",
   "execution_count": 5,
   "metadata": {
    "scrolled": false
   },
   "outputs": [
    {
     "data": {
      "image/png": "[encoded data removed]",
      "text/plain": [
       "<Figure size 360x360 with 1 Axes>"
      ]
     },
     "metadata": {},
     "output_type": "display_data"
    }
   ],
   "source": [
    "sir_model.DynamicPlot(50)"
   ]
  },
  {
   "cell_type": "markdown",
   "metadata": {},
   "source": [
    "- Method behavior\n",
    "    - Phase Diagram of SIR model\n",
    "    - Variance, < $\\psi$ >"
   ]
  },
  {
   "cell_type": "code",
   "execution_count": 6,
   "metadata": {
    "scrolled": false
   },
   "outputs": [
    {
     "data": {
      "application/vnd.jupyter.widget-view+json": {
       "model_id": "",
       "version_major": 2,
       "version_minor": 0
      },
      "text/plain": [
       "HBox(children=(IntProgress(value=0, description='Row', max=10, style=ProgressStyle(description_width='initial'…"
      ]
     },
     "metadata": {},
     "output_type": "display_data"
    },
    {
     "data": {
      "application/vnd.jupyter.widget-view+json": {
       "model_id": "",
       "version_major": 2,
       "version_minor": 0
      },
      "text/plain": [
       "HBox(children=(IntProgress(value=0, description='Col', max=10, style=ProgressStyle(description_width='initial'…"
      ]
     },
     "metadata": {},
     "output_type": "display_data"
    },
    {
     "data": {
      "application/vnd.jupyter.widget-view+json": {
       "model_id": "",
       "version_major": 2,
       "version_minor": 0
      },
      "text/plain": [
       "HBox(children=(IntProgress(value=0, description='Equilibrate sweep', style=ProgressStyle(description_width='in…"
      ]
     },
     "metadata": {},
     "output_type": "display_data"
    },
    {
     "data": {
      "application/vnd.jupyter.widget-view+json": {
       "model_id": "",
       "version_major": 2,
       "version_minor": 0
      },
      "text/plain": [
       "HBox(children=(IntProgress(value=0, description='Measurement sweep', max=1000, style=ProgressStyle(description…"
      ]
     },
     "metadata": {},
     "output_type": "display_data"
    },
    {
     "data": {
      "application/vnd.jupyter.widget-view+json": {
       "model_id": "",
       "version_major": 2,
       "version_minor": 0
      },
      "text/plain": [
       "HBox(children=(IntProgress(value=0, description='Equilibrate sweep', style=ProgressStyle(description_width='in…"
      ]
     },
     "metadata": {},
     "output_type": "display_data"
    },
    {
     "data": {
      "application/vnd.jupyter.widget-view+json": {
       "model_id": "",
       "version_major": 2,
       "version_minor": 0
      },
      "text/plain": [
       "HBox(children=(IntProgress(value=0, description='Measurement sweep', max=1000, style=ProgressStyle(description…"
      ]
     },
     "metadata": {},
     "output_type": "display_data"
    },
    {
     "data": {
      "application/vnd.jupyter.widget-view+json": {
       "model_id": "",
       "version_major": 2,
       "version_minor": 0
      },
      "text/plain": [
       "HBox(children=(IntProgress(value=0, description='Equilibrate sweep', style=ProgressStyle(description_width='in…"
      ]
     },
     "metadata": {},
     "output_type": "display_data"
    },
    {
     "data": {
      "application/vnd.jupyter.widget-view+json": {
       "model_id": "",
       "version_major": 2,
       "version_minor": 0
      },
      "text/plain": [
       "HBox(children=(IntProgress(value=0, description='Measurement sweep', max=1000, style=ProgressStyle(description…"
      ]
     },
     "metadata": {},
     "output_type": "display_data"
    },
    {
     "data": {
      "application/vnd.jupyter.widget-view+json": {
       "model_id": "",
       "version_major": 2,
       "version_minor": 0
      },
      "text/plain": [
       "HBox(children=(IntProgress(value=0, description='Equilibrate sweep', style=ProgressStyle(description_width='in…"
      ]
     },
     "metadata": {},
     "output_type": "display_data"
    },
    {
     "data": {
      "application/vnd.jupyter.widget-view+json": {
       "model_id": "",
       "version_major": 2,
       "version_minor": 0
      },
      "text/plain": [
       "HBox(children=(IntProgress(value=0, description='Measurement sweep', max=1000, style=ProgressStyle(description…"
      ]
     },
     "metadata": {},
     "output_type": "display_data"
    },
    {
     "data": {
      "application/vnd.jupyter.widget-view+json": {
       "model_id": "",
       "version_major": 2,
       "version_minor": 0
      },
      "text/plain": [
       "HBox(children=(IntProgress(value=0, description='Equilibrate sweep', style=ProgressStyle(description_width='in…"
      ]
     },
     "metadata": {},
     "output_type": "display_data"
    },
    {
     "data": {
      "application/vnd.jupyter.widget-view+json": {
       "model_id": "",
       "version_major": 2,
       "version_minor": 0
      },
      "text/plain": [
       "HBox(children=(IntProgress(value=0, description='Measurement sweep', max=1000, style=ProgressStyle(description…"
      ]
     },
     "metadata": {},
     "output_type": "display_data"
    },
    {
     "data": {
      "application/vnd.jupyter.widget-view+json": {
       "model_id": "",
       "version_major": 2,
       "version_minor": 0
      },
      "text/plain": [
       "HBox(children=(IntProgress(value=0, description='Equilibrate sweep', style=ProgressStyle(description_width='in…"
      ]
     },
     "metadata": {},
     "output_type": "display_data"
    },
    {
     "data": {
      "application/vnd.jupyter.widget-view+json": {
       "model_id": "",
       "version_major": 2,
       "version_minor": 0
      },
      "text/plain": [
       "HBox(children=(IntProgress(value=0, description='Measurement sweep', max=1000, style=ProgressStyle(description…"
      ]
     },
     "metadata": {},
     "output_type": "display_data"
    },
    {
     "data": {
      "application/vnd.jupyter.widget-view+json": {
       "model_id": "",
       "version_major": 2,
       "version_minor": 0
      },
      "text/plain": [
       "HBox(children=(IntProgress(value=0, description='Equilibrate sweep', style=ProgressStyle(description_width='in…"
      ]
     },
     "metadata": {},
     "output_type": "display_data"
    },
    {
     "data": {
      "application/vnd.jupyter.widget-view+json": {
       "model_id": "",
       "version_major": 2,
       "version_minor": 0
      },
      "text/plain": [
       "HBox(children=(IntProgress(value=0, description='Measurement sweep', max=1000, style=ProgressStyle(description…"
      ]
     },
     "metadata": {},
     "output_type": "display_data"
    },
    {
     "data": {
      "application/vnd.jupyter.widget-view+json": {
       "model_id": "",
       "version_major": 2,
       "version_minor": 0
      },
      "text/plain": [
       "HBox(children=(IntProgress(value=0, description='Equilibrate sweep', style=ProgressStyle(description_width='in…"
      ]
     },
     "metadata": {},
     "output_type": "display_data"
    },
    {
     "data": {
      "application/vnd.jupyter.widget-view+json": {
       "model_id": "",
       "version_major": 2,
       "version_minor": 0
      },
      "text/plain": [
       "HBox(children=(IntProgress(value=0, description='Measurement sweep', max=1000, style=ProgressStyle(description…"
      ]
     },
     "metadata": {},
     "output_type": "display_data"
    },
    {
     "data": {
      "application/vnd.jupyter.widget-view+json": {
       "model_id": "",
       "version_major": 2,
       "version_minor": 0
      },
      "text/plain": [
       "HBox(children=(IntProgress(value=0, description='Equilibrate sweep', style=ProgressStyle(description_width='in…"
      ]
     },
     "metadata": {},
     "output_type": "display_data"
    },
    {
     "data": {
      "application/vnd.jupyter.widget-view+json": {
       "model_id": "",
       "version_major": 2,
       "version_minor": 0
      },
      "text/plain": [
       "HBox(children=(IntProgress(value=0, description='Measurement sweep', max=1000, style=ProgressStyle(description…"
      ]
     },
     "metadata": {},
     "output_type": "display_data"
    },
    {
     "data": {
      "application/vnd.jupyter.widget-view+json": {
       "model_id": "",
       "version_major": 2,
       "version_minor": 0
      },
      "text/plain": [
       "HBox(children=(IntProgress(value=0, description='Equilibrate sweep', style=ProgressStyle(description_width='in…"
      ]
     },
     "metadata": {},
     "output_type": "display_data"
    },
    {
     "data": {
      "application/vnd.jupyter.widget-view+json": {
       "model_id": "",
       "version_major": 2,
       "version_minor": 0
      },
      "text/plain": [
       "HBox(children=(IntProgress(value=0, description='Measurement sweep', max=1000, style=ProgressStyle(description…"
      ]
     },
     "metadata": {},
     "output_type": "display_data"
    },
    {
     "data": {
      "application/vnd.jupyter.widget-view+json": {
       "model_id": "",
       "version_major": 2,
       "version_minor": 0
      },
      "text/plain": [
       "HBox(children=(IntProgress(value=0, description='Col', max=10, style=ProgressStyle(description_width='initial'…"
      ]
     },
     "metadata": {},
     "output_type": "display_data"
    },
    {
     "data": {
      "application/vnd.jupyter.widget-view+json": {
       "model_id": "",
       "version_major": 2,
       "version_minor": 0
      },
      "text/plain": [
       "HBox(children=(IntProgress(value=0, description='Equilibrate sweep', style=ProgressStyle(description_width='in…"
      ]
     },
     "metadata": {},
     "output_type": "display_data"
    },
    {
     "data": {
      "application/vnd.jupyter.widget-view+json": {
       "model_id": "",
       "version_major": 2,
       "version_minor": 0
      },
      "text/plain": [
       "HBox(children=(IntProgress(value=0, description='Measurement sweep', max=1000, style=ProgressStyle(description…"
      ]
     },
     "metadata": {},
     "output_type": "display_data"
    },
    {
     "data": {
      "application/vnd.jupyter.widget-view+json": {
       "model_id": "",
       "version_major": 2,
       "version_minor": 0
      },
      "text/plain": [
       "HBox(children=(IntProgress(value=0, description='Equilibrate sweep', style=ProgressStyle(description_width='in…"
      ]
     },
     "metadata": {},
     "output_type": "display_data"
    },
    {
     "data": {
      "application/vnd.jupyter.widget-view+json": {
       "model_id": "",
       "version_major": 2,
       "version_minor": 0
      },
      "text/plain": [
       "HBox(children=(IntProgress(value=0, description='Measurement sweep', max=1000, style=ProgressStyle(description…"
      ]
     },
     "metadata": {},
     "output_type": "display_data"
    },
    {
     "data": {
      "application/vnd.jupyter.widget-view+json": {
       "model_id": "",
       "version_major": 2,
       "version_minor": 0
      },
      "text/plain": [
       "HBox(children=(IntProgress(value=0, description='Equilibrate sweep', style=ProgressStyle(description_width='in…"
      ]
     },
     "metadata": {},
     "output_type": "display_data"
    },
    {
     "data": {
      "application/vnd.jupyter.widget-view+json": {
       "model_id": "",
       "version_major": 2,
       "version_minor": 0
      },
      "text/plain": [
       "HBox(children=(IntProgress(value=0, description='Measurement sweep', max=1000, style=ProgressStyle(description…"
      ]
     },
     "metadata": {},
     "output_type": "display_data"
    },
    {
     "data": {
      "application/vnd.jupyter.widget-view+json": {
       "model_id": "",
       "version_major": 2,
       "version_minor": 0
      },
      "text/plain": [
       "HBox(children=(IntProgress(value=0, description='Equilibrate sweep', style=ProgressStyle(description_width='in…"
      ]
     },
     "metadata": {},
     "output_type": "display_data"
    },
    {
     "data": {
      "application/vnd.jupyter.widget-view+json": {
       "model_id": "",
       "version_major": 2,
       "version_minor": 0
      },
      "text/plain": [
       "HBox(children=(IntProgress(value=0, description='Measurement sweep', max=1000, style=ProgressStyle(description…"
      ]
     },
     "metadata": {},
     "output_type": "display_data"
    },
    {
     "data": {
      "application/vnd.jupyter.widget-view+json": {
       "model_id": "",
       "version_major": 2,
       "version_minor": 0
      },
      "text/plain": [
       "HBox(children=(IntProgress(value=0, description='Equilibrate sweep', style=ProgressStyle(description_width='in…"
      ]
     },
     "metadata": {},
     "output_type": "display_data"
    },
    {
     "data": {
      "application/vnd.jupyter.widget-view+json": {
       "model_id": "",
       "version_major": 2,
       "version_minor": 0
      },
      "text/plain": [
       "HBox(children=(IntProgress(value=0, description='Measurement sweep', max=1000, style=ProgressStyle(description…"
      ]
     },
     "metadata": {},
     "output_type": "display_data"
    },
    {
     "data": {
      "application/vnd.jupyter.widget-view+json": {
       "model_id": "",
       "version_major": 2,
       "version_minor": 0
      },
      "text/plain": [
       "HBox(children=(IntProgress(value=0, description='Equilibrate sweep', style=ProgressStyle(description_width='in…"
      ]
     },
     "metadata": {},
     "output_type": "display_data"
    },
    {
     "data": {
      "application/vnd.jupyter.widget-view+json": {
       "model_id": "",
       "version_major": 2,
       "version_minor": 0
      },
      "text/plain": [
       "HBox(children=(IntProgress(value=0, description='Measurement sweep', max=1000, style=ProgressStyle(description…"
      ]
     },
     "metadata": {},
     "output_type": "display_data"
    },
    {
     "data": {
      "application/vnd.jupyter.widget-view+json": {
       "model_id": "",
       "version_major": 2,
       "version_minor": 0
      },
      "text/plain": [
       "HBox(children=(IntProgress(value=0, description='Equilibrate sweep', style=ProgressStyle(description_width='in…"
      ]
     },
     "metadata": {},
     "output_type": "display_data"
    },
    {
     "data": {
      "application/vnd.jupyter.widget-view+json": {
       "model_id": "",
       "version_major": 2,
       "version_minor": 0
      },
      "text/plain": [
       "HBox(children=(IntProgress(value=0, description='Measurement sweep', max=1000, style=ProgressStyle(description…"
      ]
     },
     "metadata": {},
     "output_type": "display_data"
    },
    {
     "data": {
      "application/vnd.jupyter.widget-view+json": {
       "model_id": "",
       "version_major": 2,
       "version_minor": 0
      },
      "text/plain": [
       "HBox(children=(IntProgress(value=0, description='Equilibrate sweep', style=ProgressStyle(description_width='in…"
      ]
     },
     "metadata": {},
     "output_type": "display_data"
    },
    {
     "data": {
      "application/vnd.jupyter.widget-view+json": {
       "model_id": "",
       "version_major": 2,
       "version_minor": 0
      },
      "text/plain": [
       "HBox(children=(IntProgress(value=0, description='Measurement sweep', max=1000, style=ProgressStyle(description…"
      ]
     },
     "metadata": {},
     "output_type": "display_data"
    },
    {
     "data": {
      "application/vnd.jupyter.widget-view+json": {
       "model_id": "",
       "version_major": 2,
       "version_minor": 0
      },
      "text/plain": [
       "HBox(children=(IntProgress(value=0, description='Equilibrate sweep', style=ProgressStyle(description_width='in…"
      ]
     },
     "metadata": {},
     "output_type": "display_data"
    },
    {
     "data": {
      "application/vnd.jupyter.widget-view+json": {
       "model_id": "",
       "version_major": 2,
       "version_minor": 0
      },
      "text/plain": [
       "HBox(children=(IntProgress(value=0, description='Measurement sweep', max=1000, style=ProgressStyle(description…"
      ]
     },
     "metadata": {},
     "output_type": "display_data"
    },
    {
     "data": {
      "application/vnd.jupyter.widget-view+json": {
       "model_id": "",
       "version_major": 2,
       "version_minor": 0
      },
      "text/plain": [
       "HBox(children=(IntProgress(value=0, description='Equilibrate sweep', style=ProgressStyle(description_width='in…"
      ]
     },
     "metadata": {},
     "output_type": "display_data"
    },
    {
     "data": {
      "application/vnd.jupyter.widget-view+json": {
       "model_id": "",
       "version_major": 2,
       "version_minor": 0
      },
      "text/plain": [
       "HBox(children=(IntProgress(value=0, description='Measurement sweep', max=1000, style=ProgressStyle(description…"
      ]
     },
     "metadata": {},
     "output_type": "display_data"
    },
    {
     "data": {
      "application/vnd.jupyter.widget-view+json": {
       "model_id": "",
       "version_major": 2,
       "version_minor": 0
      },
      "text/plain": [
       "HBox(children=(IntProgress(value=0, description='Col', max=10, style=ProgressStyle(description_width='initial'…"
      ]
     },
     "metadata": {},
     "output_type": "display_data"
    },
    {
     "data": {
      "application/vnd.jupyter.widget-view+json": {
       "model_id": "",
       "version_major": 2,
       "version_minor": 0
      },
      "text/plain": [
       "HBox(children=(IntProgress(value=0, description='Equilibrate sweep', style=ProgressStyle(description_width='in…"
      ]
     },
     "metadata": {},
     "output_type": "display_data"
    },
    {
     "data": {
      "application/vnd.jupyter.widget-view+json": {
       "model_id": "",
       "version_major": 2,
       "version_minor": 0
      },
      "text/plain": [
       "HBox(children=(IntProgress(value=0, description='Measurement sweep', max=1000, style=ProgressStyle(description…"
      ]
     },
     "metadata": {},
     "output_type": "display_data"
    },
    {
     "data": {
      "application/vnd.jupyter.widget-view+json": {
       "model_id": "",
       "version_major": 2,
       "version_minor": 0
      },
      "text/plain": [
       "HBox(children=(IntProgress(value=0, description='Equilibrate sweep', style=ProgressStyle(description_width='in…"
      ]
     },
     "metadata": {},
     "output_type": "display_data"
    },
    {
     "data": {
      "application/vnd.jupyter.widget-view+json": {
       "model_id": "",
       "version_major": 2,
       "version_minor": 0
      },
      "text/plain": [
       "HBox(children=(IntProgress(value=0, description='Measurement sweep', max=1000, style=ProgressStyle(description…"
      ]
     },
     "metadata": {},
     "output_type": "display_data"
    },
    {
     "data": {
      "application/vnd.jupyter.widget-view+json": {
       "model_id": "",
       "version_major": 2,
       "version_minor": 0
      },
      "text/plain": [
       "HBox(children=(IntProgress(value=0, description='Equilibrate sweep', style=ProgressStyle(description_width='in…"
      ]
     },
     "metadata": {},
     "output_type": "display_data"
    },
    {
     "data": {
      "application/vnd.jupyter.widget-view+json": {
       "model_id": "",
       "version_major": 2,
       "version_minor": 0
      },
      "text/plain": [
       "HBox(children=(IntProgress(value=0, description='Measurement sweep', max=1000, style=ProgressStyle(description…"
      ]
     },
     "metadata": {},
     "output_type": "display_data"
    },
    {
     "data": {
      "application/vnd.jupyter.widget-view+json": {
       "model_id": "",
       "version_major": 2,
       "version_minor": 0
      },
      "text/plain": [
       "HBox(children=(IntProgress(value=0, description='Equilibrate sweep', style=ProgressStyle(description_width='in…"
      ]
     },
     "metadata": {},
     "output_type": "display_data"
    },
    {
     "data": {
      "application/vnd.jupyter.widget-view+json": {
       "model_id": "",
       "version_major": 2,
       "version_minor": 0
      },
      "text/plain": [
       "HBox(children=(IntProgress(value=0, description='Measurement sweep', max=1000, style=ProgressStyle(description…"
      ]
     },
     "metadata": {},
     "output_type": "display_data"
    },
    {
     "data": {
      "application/vnd.jupyter.widget-view+json": {
       "model_id": "",
       "version_major": 2,
       "version_minor": 0
      },
      "text/plain": [
       "HBox(children=(IntProgress(value=0, description='Equilibrate sweep', style=ProgressStyle(description_width='in…"
      ]
     },
     "metadata": {},
     "output_type": "display_data"
    },
    {
     "data": {
      "application/vnd.jupyter.widget-view+json": {
       "model_id": "",
       "version_major": 2,
       "version_minor": 0
      },
      "text/plain": [
       "HBox(children=(IntProgress(value=0, description='Measurement sweep', max=1000, style=ProgressStyle(description…"
      ]
     },
     "metadata": {},
     "output_type": "display_data"
    },
    {
     "data": {
      "application/vnd.jupyter.widget-view+json": {
       "model_id": "",
       "version_major": 2,
       "version_minor": 0
      },
      "text/plain": [
       "HBox(children=(IntProgress(value=0, description='Equilibrate sweep', style=ProgressStyle(description_width='in…"
      ]
     },
     "metadata": {},
     "output_type": "display_data"
    },
    {
     "data": {
      "application/vnd.jupyter.widget-view+json": {
       "model_id": "",
       "version_major": 2,
       "version_minor": 0
      },
      "text/plain": [
       "HBox(children=(IntProgress(value=0, description='Measurement sweep', max=1000, style=ProgressStyle(description…"
      ]
     },
     "metadata": {},
     "output_type": "display_data"
    },
    {
     "data": {
      "application/vnd.jupyter.widget-view+json": {
       "model_id": "",
       "version_major": 2,
       "version_minor": 0
      },
      "text/plain": [
       "HBox(children=(IntProgress(value=0, description='Equilibrate sweep', style=ProgressStyle(description_width='in…"
      ]
     },
     "metadata": {},
     "output_type": "display_data"
    },
    {
     "data": {
      "application/vnd.jupyter.widget-view+json": {
       "model_id": "",
       "version_major": 2,
       "version_minor": 0
      },
      "text/plain": [
       "HBox(children=(IntProgress(value=0, description='Measurement sweep', max=1000, style=ProgressStyle(description…"
      ]
     },
     "metadata": {},
     "output_type": "display_data"
    },
    {
     "data": {
      "application/vnd.jupyter.widget-view+json": {
       "model_id": "",
       "version_major": 2,
       "version_minor": 0
      },
      "text/plain": [
       "HBox(children=(IntProgress(value=0, description='Equilibrate sweep', style=ProgressStyle(description_width='in…"
      ]
     },
     "metadata": {},
     "output_type": "display_data"
    },
    {
     "data": {
      "application/vnd.jupyter.widget-view+json": {
       "model_id": "",
       "version_major": 2,
       "version_minor": 0
      },
      "text/plain": [
       "HBox(children=(IntProgress(value=0, description='Measurement sweep', max=1000, style=ProgressStyle(description…"
      ]
     },
     "metadata": {},
     "output_type": "display_data"
    },
    {
     "data": {
      "application/vnd.jupyter.widget-view+json": {
       "model_id": "",
       "version_major": 2,
       "version_minor": 0
      },
      "text/plain": [
       "HBox(children=(IntProgress(value=0, description='Equilibrate sweep', style=ProgressStyle(description_width='in…"
      ]
     },
     "metadata": {},
     "output_type": "display_data"
    },
    {
     "data": {
      "application/vnd.jupyter.widget-view+json": {
       "model_id": "",
       "version_major": 2,
       "version_minor": 0
      },
      "text/plain": [
       "HBox(children=(IntProgress(value=0, description='Measurement sweep', max=1000, style=ProgressStyle(description…"
      ]
     },
     "metadata": {},
     "output_type": "display_data"
    },
    {
     "data": {
      "application/vnd.jupyter.widget-view+json": {
       "model_id": "",
       "version_major": 2,
       "version_minor": 0
      },
      "text/plain": [
       "HBox(children=(IntProgress(value=0, description='Equilibrate sweep', style=ProgressStyle(description_width='in…"
      ]
     },
     "metadata": {},
     "output_type": "display_data"
    },
    {
     "data": {
      "application/vnd.jupyter.widget-view+json": {
       "model_id": "",
       "version_major": 2,
       "version_minor": 0
      },
      "text/plain": [
       "HBox(children=(IntProgress(value=0, description='Measurement sweep', max=1000, style=ProgressStyle(description…"
      ]
     },
     "metadata": {},
     "output_type": "display_data"
    },
    {
     "data": {
      "application/vnd.jupyter.widget-view+json": {
       "model_id": "",
       "version_major": 2,
       "version_minor": 0
      },
      "text/plain": [
       "HBox(children=(IntProgress(value=0, description='Col', max=10, style=ProgressStyle(description_width='initial'…"
      ]
     },
     "metadata": {},
     "output_type": "display_data"
    },
    {
     "data": {
      "application/vnd.jupyter.widget-view+json": {
       "model_id": "",
       "version_major": 2,
       "version_minor": 0
      },
      "text/plain": [
       "HBox(children=(IntProgress(value=0, description='Equilibrate sweep', style=ProgressStyle(description_width='in…"
      ]
     },
     "metadata": {},
     "output_type": "display_data"
    },
    {
     "data": {
      "application/vnd.jupyter.widget-view+json": {
       "model_id": "",
       "version_major": 2,
       "version_minor": 0
      },
      "text/plain": [
       "HBox(children=(IntProgress(value=0, description='Measurement sweep', max=1000, style=ProgressStyle(description…"
      ]
     },
     "metadata": {},
     "output_type": "display_data"
    },
    {
     "data": {
      "application/vnd.jupyter.widget-view+json": {
       "model_id": "",
       "version_major": 2,
       "version_minor": 0
      },
      "text/plain": [
       "HBox(children=(IntProgress(value=0, description='Equilibrate sweep', style=ProgressStyle(description_width='in…"
      ]
     },
     "metadata": {},
     "output_type": "display_data"
    },
    {
     "data": {
      "application/vnd.jupyter.widget-view+json": {
       "model_id": "",
       "version_major": 2,
       "version_minor": 0
      },
      "text/plain": [
       "HBox(children=(IntProgress(value=0, description='Measurement sweep', max=1000, style=ProgressStyle(description…"
      ]
     },
     "metadata": {},
     "output_type": "display_data"
    },
    {
     "data": {
      "application/vnd.jupyter.widget-view+json": {
       "model_id": "",
       "version_major": 2,
       "version_minor": 0
      },
      "text/plain": [
       "HBox(children=(IntProgress(value=0, description='Equilibrate sweep', style=ProgressStyle(description_width='in…"
      ]
     },
     "metadata": {},
     "output_type": "display_data"
    },
    {
     "data": {
      "application/vnd.jupyter.widget-view+json": {
       "model_id": "",
       "version_major": 2,
       "version_minor": 0
      },
      "text/plain": [
       "HBox(children=(IntProgress(value=0, description='Measurement sweep', max=1000, style=ProgressStyle(description…"
      ]
     },
     "metadata": {},
     "output_type": "display_data"
    },
    {
     "data": {
      "application/vnd.jupyter.widget-view+json": {
       "model_id": "",
       "version_major": 2,
       "version_minor": 0
      },
      "text/plain": [
       "HBox(children=(IntProgress(value=0, description='Equilibrate sweep', style=ProgressStyle(description_width='in…"
      ]
     },
     "metadata": {},
     "output_type": "display_data"
    },
    {
     "data": {
      "application/vnd.jupyter.widget-view+json": {
       "model_id": "",
       "version_major": 2,
       "version_minor": 0
      },
      "text/plain": [
       "HBox(children=(IntProgress(value=0, description='Measurement sweep', max=1000, style=ProgressStyle(description…"
      ]
     },
     "metadata": {},
     "output_type": "display_data"
    },
    {
     "data": {
      "application/vnd.jupyter.widget-view+json": {
       "model_id": "",
       "version_major": 2,
       "version_minor": 0
      },
      "text/plain": [
       "HBox(children=(IntProgress(value=0, description='Equilibrate sweep', style=ProgressStyle(description_width='in…"
      ]
     },
     "metadata": {},
     "output_type": "display_data"
    },
    {
     "data": {
      "application/vnd.jupyter.widget-view+json": {
       "model_id": "",
       "version_major": 2,
       "version_minor": 0
      },
      "text/plain": [
       "HBox(children=(IntProgress(value=0, description='Measurement sweep', max=1000, style=ProgressStyle(description…"
      ]
     },
     "metadata": {},
     "output_type": "display_data"
    },
    {
     "data": {
      "application/vnd.jupyter.widget-view+json": {
       "model_id": "",
       "version_major": 2,
       "version_minor": 0
      },
      "text/plain": [
       "HBox(children=(IntProgress(value=0, description='Equilibrate sweep', style=ProgressStyle(description_width='in…"
      ]
     },
     "metadata": {},
     "output_type": "display_data"
    },
    {
     "data": {
      "application/vnd.jupyter.widget-view+json": {
       "model_id": "",
       "version_major": 2,
       "version_minor": 0
      },
      "text/plain": [
       "HBox(children=(IntProgress(value=0, description='Measurement sweep', max=1000, style=ProgressStyle(description…"
      ]
     },
     "metadata": {},
     "output_type": "display_data"
    },
    {
     "data": {
      "application/vnd.jupyter.widget-view+json": {
       "model_id": "",
       "version_major": 2,
       "version_minor": 0
      },
      "text/plain": [
       "HBox(children=(IntProgress(value=0, description='Equilibrate sweep', style=ProgressStyle(description_width='in…"
      ]
     },
     "metadata": {},
     "output_type": "display_data"
    },
    {
     "data": {
      "application/vnd.jupyter.widget-view+json": {
       "model_id": "",
       "version_major": 2,
       "version_minor": 0
      },
      "text/plain": [
       "HBox(children=(IntProgress(value=0, description='Measurement sweep', max=1000, style=ProgressStyle(description…"
      ]
     },
     "metadata": {},
     "output_type": "display_data"
    },
    {
     "data": {
      "application/vnd.jupyter.widget-view+json": {
       "model_id": "",
       "version_major": 2,
       "version_minor": 0
      },
      "text/plain": [
       "HBox(children=(IntProgress(value=0, description='Equilibrate sweep', style=ProgressStyle(description_width='in…"
      ]
     },
     "metadata": {},
     "output_type": "display_data"
    },
    {
     "data": {
      "application/vnd.jupyter.widget-view+json": {
       "model_id": "",
       "version_major": 2,
       "version_minor": 0
      },
      "text/plain": [
       "HBox(children=(IntProgress(value=0, description='Measurement sweep', max=1000, style=ProgressStyle(description…"
      ]
     },
     "metadata": {},
     "output_type": "display_data"
    },
    {
     "data": {
      "application/vnd.jupyter.widget-view+json": {
       "model_id": "",
       "version_major": 2,
       "version_minor": 0
      },
      "text/plain": [
       "HBox(children=(IntProgress(value=0, description='Equilibrate sweep', style=ProgressStyle(description_width='in…"
      ]
     },
     "metadata": {},
     "output_type": "display_data"
    },
    {
     "data": {
      "application/vnd.jupyter.widget-view+json": {
       "model_id": "",
       "version_major": 2,
       "version_minor": 0
      },
      "text/plain": [
       "HBox(children=(IntProgress(value=0, description='Measurement sweep', max=1000, style=ProgressStyle(description…"
      ]
     },
     "metadata": {},
     "output_type": "display_data"
    },
    {
     "data": {
      "application/vnd.jupyter.widget-view+json": {
       "model_id": "",
       "version_major": 2,
       "version_minor": 0
      },
      "text/plain": [
       "HBox(children=(IntProgress(value=0, description='Equilibrate sweep', style=ProgressStyle(description_width='in…"
      ]
     },
     "metadata": {},
     "output_type": "display_data"
    },
    {
     "data": {
      "application/vnd.jupyter.widget-view+json": {
       "model_id": "",
       "version_major": 2,
       "version_minor": 0
      },
      "text/plain": [
       "HBox(children=(IntProgress(value=0, description='Measurement sweep', max=1000, style=ProgressStyle(description…"
      ]
     },
     "metadata": {},
     "output_type": "display_data"
    },
    {
     "data": {
      "application/vnd.jupyter.widget-view+json": {
       "model_id": "",
       "version_major": 2,
       "version_minor": 0
      },
      "text/plain": [
       "HBox(children=(IntProgress(value=0, description='Col', max=10, style=ProgressStyle(description_width='initial'…"
      ]
     },
     "metadata": {},
     "output_type": "display_data"
    },
    {
     "data": {
      "application/vnd.jupyter.widget-view+json": {
       "model_id": "",
       "version_major": 2,
       "version_minor": 0
      },
      "text/plain": [
       "HBox(children=(IntProgress(value=0, description='Equilibrate sweep', style=ProgressStyle(description_width='in…"
      ]
     },
     "metadata": {},
     "output_type": "display_data"
    },
    {
     "data": {
      "application/vnd.jupyter.widget-view+json": {
       "model_id": "",
       "version_major": 2,
       "version_minor": 0
      },
      "text/plain": [
       "HBox(children=(IntProgress(value=0, description='Measurement sweep', max=1000, style=ProgressStyle(description…"
      ]
     },
     "metadata": {},
     "output_type": "display_data"
    },
    {
     "data": {
      "application/vnd.jupyter.widget-view+json": {
       "model_id": "",
       "version_major": 2,
       "version_minor": 0
      },
      "text/plain": [
       "HBox(children=(IntProgress(value=0, description='Equilibrate sweep', style=ProgressStyle(description_width='in…"
      ]
     },
     "metadata": {},
     "output_type": "display_data"
    },
    {
     "data": {
      "application/vnd.jupyter.widget-view+json": {
       "model_id": "",
       "version_major": 2,
       "version_minor": 0
      },
      "text/plain": [
       "HBox(children=(IntProgress(value=0, description='Measurement sweep', max=1000, style=ProgressStyle(description…"
      ]
     },
     "metadata": {},
     "output_type": "display_data"
    },
    {
     "data": {
      "application/vnd.jupyter.widget-view+json": {
       "model_id": "",
       "version_major": 2,
       "version_minor": 0
      },
      "text/plain": [
       "HBox(children=(IntProgress(value=0, description='Equilibrate sweep', style=ProgressStyle(description_width='in…"
      ]
     },
     "metadata": {},
     "output_type": "display_data"
    },
    {
     "data": {
      "application/vnd.jupyter.widget-view+json": {
       "model_id": "",
       "version_major": 2,
       "version_minor": 0
      },
      "text/plain": [
       "HBox(children=(IntProgress(value=0, description='Measurement sweep', max=1000, style=ProgressStyle(description…"
      ]
     },
     "metadata": {},
     "output_type": "display_data"
    },
    {
     "data": {
      "application/vnd.jupyter.widget-view+json": {
       "model_id": "",
       "version_major": 2,
       "version_minor": 0
      },
      "text/plain": [
       "HBox(children=(IntProgress(value=0, description='Equilibrate sweep', style=ProgressStyle(description_width='in…"
      ]
     },
     "metadata": {},
     "output_type": "display_data"
    },
    {
     "data": {
      "application/vnd.jupyter.widget-view+json": {
       "model_id": "",
       "version_major": 2,
       "version_minor": 0
      },
      "text/plain": [
       "HBox(children=(IntProgress(value=0, description='Measurement sweep', max=1000, style=ProgressStyle(description…"
      ]
     },
     "metadata": {},
     "output_type": "display_data"
    },
    {
     "data": {
      "application/vnd.jupyter.widget-view+json": {
       "model_id": "",
       "version_major": 2,
       "version_minor": 0
      },
      "text/plain": [
       "HBox(children=(IntProgress(value=0, description='Equilibrate sweep', style=ProgressStyle(description_width='in…"
      ]
     },
     "metadata": {},
     "output_type": "display_data"
    },
    {
     "data": {
      "application/vnd.jupyter.widget-view+json": {
       "model_id": "",
       "version_major": 2,
       "version_minor": 0
      },
      "text/plain": [
       "HBox(children=(IntProgress(value=0, description='Measurement sweep', max=1000, style=ProgressStyle(description…"
      ]
     },
     "metadata": {},
     "output_type": "display_data"
    },
    {
     "data": {
      "application/vnd.jupyter.widget-view+json": {
       "model_id": "",
       "version_major": 2,
       "version_minor": 0
      },
      "text/plain": [
       "HBox(children=(IntProgress(value=0, description='Equilibrate sweep', style=ProgressStyle(description_width='in…"
      ]
     },
     "metadata": {},
     "output_type": "display_data"
    },
    {
     "data": {
      "application/vnd.jupyter.widget-view+json": {
       "model_id": "",
       "version_major": 2,
       "version_minor": 0
      },
      "text/plain": [
       "HBox(children=(IntProgress(value=0, description='Measurement sweep', max=1000, style=ProgressStyle(description…"
      ]
     },
     "metadata": {},
     "output_type": "display_data"
    },
    {
     "data": {
      "application/vnd.jupyter.widget-view+json": {
       "model_id": "",
       "version_major": 2,
       "version_minor": 0
      },
      "text/plain": [
       "HBox(children=(IntProgress(value=0, description='Equilibrate sweep', style=ProgressStyle(description_width='in…"
      ]
     },
     "metadata": {},
     "output_type": "display_data"
    },
    {
     "data": {
      "application/vnd.jupyter.widget-view+json": {
       "model_id": "",
       "version_major": 2,
       "version_minor": 0
      },
      "text/plain": [
       "HBox(children=(IntProgress(value=0, description='Measurement sweep', max=1000, style=ProgressStyle(description…"
      ]
     },
     "metadata": {},
     "output_type": "display_data"
    },
    {
     "data": {
      "application/vnd.jupyter.widget-view+json": {
       "model_id": "",
       "version_major": 2,
       "version_minor": 0
      },
      "text/plain": [
       "HBox(children=(IntProgress(value=0, description='Equilibrate sweep', style=ProgressStyle(description_width='in…"
      ]
     },
     "metadata": {},
     "output_type": "display_data"
    },
    {
     "data": {
      "application/vnd.jupyter.widget-view+json": {
       "model_id": "",
       "version_major": 2,
       "version_minor": 0
      },
      "text/plain": [
       "HBox(children=(IntProgress(value=0, description='Measurement sweep', max=1000, style=ProgressStyle(description…"
      ]
     },
     "metadata": {},
     "output_type": "display_data"
    },
    {
     "data": {
      "application/vnd.jupyter.widget-view+json": {
       "model_id": "",
       "version_major": 2,
       "version_minor": 0
      },
      "text/plain": [
       "HBox(children=(IntProgress(value=0, description='Equilibrate sweep', style=ProgressStyle(description_width='in…"
      ]
     },
     "metadata": {},
     "output_type": "display_data"
    },
    {
     "data": {
      "application/vnd.jupyter.widget-view+json": {
       "model_id": "",
       "version_major": 2,
       "version_minor": 0
      },
      "text/plain": [
       "HBox(children=(IntProgress(value=0, description='Measurement sweep', max=1000, style=ProgressStyle(description…"
      ]
     },
     "metadata": {},
     "output_type": "display_data"
    },
    {
     "data": {
      "application/vnd.jupyter.widget-view+json": {
       "model_id": "",
       "version_major": 2,
       "version_minor": 0
      },
      "text/plain": [
       "HBox(children=(IntProgress(value=0, description='Equilibrate sweep', style=ProgressStyle(description_width='in…"
      ]
     },
     "metadata": {},
     "output_type": "display_data"
    },
    {
     "data": {
      "application/vnd.jupyter.widget-view+json": {
       "model_id": "",
       "version_major": 2,
       "version_minor": 0
      },
      "text/plain": [
       "HBox(children=(IntProgress(value=0, description='Measurement sweep', max=1000, style=ProgressStyle(description…"
      ]
     },
     "metadata": {},
     "output_type": "display_data"
    },
    {
     "data": {
      "application/vnd.jupyter.widget-view+json": {
       "model_id": "",
       "version_major": 2,
       "version_minor": 0
      },
      "text/plain": [
       "HBox(children=(IntProgress(value=0, description='Col', max=10, style=ProgressStyle(description_width='initial'…"
      ]
     },
     "metadata": {},
     "output_type": "display_data"
    },
    {
     "data": {
      "application/vnd.jupyter.widget-view+json": {
       "model_id": "",
       "version_major": 2,
       "version_minor": 0
      },
      "text/plain": [
       "HBox(children=(IntProgress(value=0, description='Equilibrate sweep', style=ProgressStyle(description_width='in…"
      ]
     },
     "metadata": {},
     "output_type": "display_data"
    },
    {
     "data": {
      "application/vnd.jupyter.widget-view+json": {
       "model_id": "",
       "version_major": 2,
       "version_minor": 0
      },
      "text/plain": [
       "HBox(children=(IntProgress(value=0, description='Measurement sweep', max=1000, style=ProgressStyle(description…"
      ]
     },
     "metadata": {},
     "output_type": "display_data"
    },
    {
     "data": {
      "application/vnd.jupyter.widget-view+json": {
       "model_id": "",
       "version_major": 2,
       "version_minor": 0
      },
      "text/plain": [
       "HBox(children=(IntProgress(value=0, description='Equilibrate sweep', style=ProgressStyle(description_width='in…"
      ]
     },
     "metadata": {},
     "output_type": "display_data"
    },
    {
     "data": {
      "application/vnd.jupyter.widget-view+json": {
       "model_id": "",
       "version_major": 2,
       "version_minor": 0
      },
      "text/plain": [
       "HBox(children=(IntProgress(value=0, description='Measurement sweep', max=1000, style=ProgressStyle(description…"
      ]
     },
     "metadata": {},
     "output_type": "display_data"
    },
    {
     "data": {
      "application/vnd.jupyter.widget-view+json": {
       "model_id": "",
       "version_major": 2,
       "version_minor": 0
      },
      "text/plain": [
       "HBox(children=(IntProgress(value=0, description='Equilibrate sweep', style=ProgressStyle(description_width='in…"
      ]
     },
     "metadata": {},
     "output_type": "display_data"
    },
    {
     "data": {
      "application/vnd.jupyter.widget-view+json": {
       "model_id": "",
       "version_major": 2,
       "version_minor": 0
      },
      "text/plain": [
       "HBox(children=(IntProgress(value=0, description='Measurement sweep', max=1000, style=ProgressStyle(description…"
      ]
     },
     "metadata": {},
     "output_type": "display_data"
    },
    {
     "data": {
      "application/vnd.jupyter.widget-view+json": {
       "model_id": "",
       "version_major": 2,
       "version_minor": 0
      },
      "text/plain": [
       "HBox(children=(IntProgress(value=0, description='Equilibrate sweep', style=ProgressStyle(description_width='in…"
      ]
     },
     "metadata": {},
     "output_type": "display_data"
    },
    {
     "data": {
      "application/vnd.jupyter.widget-view+json": {
       "model_id": "",
       "version_major": 2,
       "version_minor": 0
      },
      "text/plain": [
       "HBox(children=(IntProgress(value=0, description='Measurement sweep', max=1000, style=ProgressStyle(description…"
      ]
     },
     "metadata": {},
     "output_type": "display_data"
    },
    {
     "data": {
      "application/vnd.jupyter.widget-view+json": {
       "model_id": "",
       "version_major": 2,
       "version_minor": 0
      },
      "text/plain": [
       "HBox(children=(IntProgress(value=0, description='Equilibrate sweep', style=ProgressStyle(description_width='in…"
      ]
     },
     "metadata": {},
     "output_type": "display_data"
    },
    {
     "data": {
      "application/vnd.jupyter.widget-view+json": {
       "model_id": "",
       "version_major": 2,
       "version_minor": 0
      },
      "text/plain": [
       "HBox(children=(IntProgress(value=0, description='Measurement sweep', max=1000, style=ProgressStyle(description…"
      ]
     },
     "metadata": {},
     "output_type": "display_data"
    },
    {
     "data": {
      "application/vnd.jupyter.widget-view+json": {
       "model_id": "",
       "version_major": 2,
       "version_minor": 0
      },
      "text/plain": [
       "HBox(children=(IntProgress(value=0, description='Equilibrate sweep', style=ProgressStyle(description_width='in…"
      ]
     },
     "metadata": {},
     "output_type": "display_data"
    },
    {
     "data": {
      "application/vnd.jupyter.widget-view+json": {
       "model_id": "",
       "version_major": 2,
       "version_minor": 0
      },
      "text/plain": [
       "HBox(children=(IntProgress(value=0, description='Measurement sweep', max=1000, style=ProgressStyle(description…"
      ]
     },
     "metadata": {},
     "output_type": "display_data"
    },
    {
     "data": {
      "application/vnd.jupyter.widget-view+json": {
       "model_id": "",
       "version_major": 2,
       "version_minor": 0
      },
      "text/plain": [
       "HBox(children=(IntProgress(value=0, description='Equilibrate sweep', style=ProgressStyle(description_width='in…"
      ]
     },
     "metadata": {},
     "output_type": "display_data"
    },
    {
     "data": {
      "application/vnd.jupyter.widget-view+json": {
       "model_id": "",
       "version_major": 2,
       "version_minor": 0
      },
      "text/plain": [
       "HBox(children=(IntProgress(value=0, description='Measurement sweep', max=1000, style=ProgressStyle(description…"
      ]
     },
     "metadata": {},
     "output_type": "display_data"
    },
    {
     "data": {
      "application/vnd.jupyter.widget-view+json": {
       "model_id": "",
       "version_major": 2,
       "version_minor": 0
      },
      "text/plain": [
       "HBox(children=(IntProgress(value=0, description='Equilibrate sweep', style=ProgressStyle(description_width='in…"
      ]
     },
     "metadata": {},
     "output_type": "display_data"
    },
    {
     "data": {
      "application/vnd.jupyter.widget-view+json": {
       "model_id": "",
       "version_major": 2,
       "version_minor": 0
      },
      "text/plain": [
       "HBox(children=(IntProgress(value=0, description='Measurement sweep', max=1000, style=ProgressStyle(description…"
      ]
     },
     "metadata": {},
     "output_type": "display_data"
    },
    {
     "data": {
      "application/vnd.jupyter.widget-view+json": {
       "model_id": "",
       "version_major": 2,
       "version_minor": 0
      },
      "text/plain": [
       "HBox(children=(IntProgress(value=0, description='Equilibrate sweep', style=ProgressStyle(description_width='in…"
      ]
     },
     "metadata": {},
     "output_type": "display_data"
    },
    {
     "data": {
      "application/vnd.jupyter.widget-view+json": {
       "model_id": "",
       "version_major": 2,
       "version_minor": 0
      },
      "text/plain": [
       "HBox(children=(IntProgress(value=0, description='Measurement sweep', max=1000, style=ProgressStyle(description…"
      ]
     },
     "metadata": {},
     "output_type": "display_data"
    },
    {
     "data": {
      "application/vnd.jupyter.widget-view+json": {
       "model_id": "",
       "version_major": 2,
       "version_minor": 0
      },
      "text/plain": [
       "HBox(children=(IntProgress(value=0, description='Equilibrate sweep', style=ProgressStyle(description_width='in…"
      ]
     },
     "metadata": {},
     "output_type": "display_data"
    },
    {
     "data": {
      "application/vnd.jupyter.widget-view+json": {
       "model_id": "",
       "version_major": 2,
       "version_minor": 0
      },
      "text/plain": [
       "HBox(children=(IntProgress(value=0, description='Measurement sweep', max=1000, style=ProgressStyle(description…"
      ]
     },
     "metadata": {},
     "output_type": "display_data"
    },
    {
     "data": {
      "application/vnd.jupyter.widget-view+json": {
       "model_id": "",
       "version_major": 2,
       "version_minor": 0
      },
      "text/plain": [
       "HBox(children=(IntProgress(value=0, description='Col', max=10, style=ProgressStyle(description_width='initial'…"
      ]
     },
     "metadata": {},
     "output_type": "display_data"
    },
    {
     "data": {
      "application/vnd.jupyter.widget-view+json": {
       "model_id": "",
       "version_major": 2,
       "version_minor": 0
      },
      "text/plain": [
       "HBox(children=(IntProgress(value=0, description='Equilibrate sweep', style=ProgressStyle(description_width='in…"
      ]
     },
     "metadata": {},
     "output_type": "display_data"
    },
    {
     "data": {
      "application/vnd.jupyter.widget-view+json": {
       "model_id": "",
       "version_major": 2,
       "version_minor": 0
      },
      "text/plain": [
       "HBox(children=(IntProgress(value=0, description='Measurement sweep', max=1000, style=ProgressStyle(description…"
      ]
     },
     "metadata": {},
     "output_type": "display_data"
    },
    {
     "data": {
      "application/vnd.jupyter.widget-view+json": {
       "model_id": "",
       "version_major": 2,
       "version_minor": 0
      },
      "text/plain": [
       "HBox(children=(IntProgress(value=0, description='Equilibrate sweep', style=ProgressStyle(description_width='in…"
      ]
     },
     "metadata": {},
     "output_type": "display_data"
    },
    {
     "data": {
      "application/vnd.jupyter.widget-view+json": {
       "model_id": "",
       "version_major": 2,
       "version_minor": 0
      },
      "text/plain": [
       "HBox(children=(IntProgress(value=0, description='Measurement sweep', max=1000, style=ProgressStyle(description…"
      ]
     },
     "metadata": {},
     "output_type": "display_data"
    },
    {
     "data": {
      "application/vnd.jupyter.widget-view+json": {
       "model_id": "",
       "version_major": 2,
       "version_minor": 0
      },
      "text/plain": [
       "HBox(children=(IntProgress(value=0, description='Equilibrate sweep', style=ProgressStyle(description_width='in…"
      ]
     },
     "metadata": {},
     "output_type": "display_data"
    },
    {
     "data": {
      "application/vnd.jupyter.widget-view+json": {
       "model_id": "",
       "version_major": 2,
       "version_minor": 0
      },
      "text/plain": [
       "HBox(children=(IntProgress(value=0, description='Measurement sweep', max=1000, style=ProgressStyle(description…"
      ]
     },
     "metadata": {},
     "output_type": "display_data"
    },
    {
     "data": {
      "application/vnd.jupyter.widget-view+json": {
       "model_id": "",
       "version_major": 2,
       "version_minor": 0
      },
      "text/plain": [
       "HBox(children=(IntProgress(value=0, description='Equilibrate sweep', style=ProgressStyle(description_width='in…"
      ]
     },
     "metadata": {},
     "output_type": "display_data"
    },
    {
     "data": {
      "application/vnd.jupyter.widget-view+json": {
       "model_id": "",
       "version_major": 2,
       "version_minor": 0
      },
      "text/plain": [
       "HBox(children=(IntProgress(value=0, description='Measurement sweep', max=1000, style=ProgressStyle(description…"
      ]
     },
     "metadata": {},
     "output_type": "display_data"
    },
    {
     "data": {
      "application/vnd.jupyter.widget-view+json": {
       "model_id": "",
       "version_major": 2,
       "version_minor": 0
      },
      "text/plain": [
       "HBox(children=(IntProgress(value=0, description='Equilibrate sweep', style=ProgressStyle(description_width='in…"
      ]
     },
     "metadata": {},
     "output_type": "display_data"
    },
    {
     "data": {
      "application/vnd.jupyter.widget-view+json": {
       "model_id": "",
       "version_major": 2,
       "version_minor": 0
      },
      "text/plain": [
       "HBox(children=(IntProgress(value=0, description='Measurement sweep', max=1000, style=ProgressStyle(description…"
      ]
     },
     "metadata": {},
     "output_type": "display_data"
    },
    {
     "data": {
      "application/vnd.jupyter.widget-view+json": {
       "model_id": "",
       "version_major": 2,
       "version_minor": 0
      },
      "text/plain": [
       "HBox(children=(IntProgress(value=0, description='Equilibrate sweep', style=ProgressStyle(description_width='in…"
      ]
     },
     "metadata": {},
     "output_type": "display_data"
    },
    {
     "data": {
      "application/vnd.jupyter.widget-view+json": {
       "model_id": "",
       "version_major": 2,
       "version_minor": 0
      },
      "text/plain": [
       "HBox(children=(IntProgress(value=0, description='Measurement sweep', max=1000, style=ProgressStyle(description…"
      ]
     },
     "metadata": {},
     "output_type": "display_data"
    },
    {
     "data": {
      "application/vnd.jupyter.widget-view+json": {
       "model_id": "",
       "version_major": 2,
       "version_minor": 0
      },
      "text/plain": [
       "HBox(children=(IntProgress(value=0, description='Equilibrate sweep', style=ProgressStyle(description_width='in…"
      ]
     },
     "metadata": {},
     "output_type": "display_data"
    },
    {
     "data": {
      "application/vnd.jupyter.widget-view+json": {
       "model_id": "",
       "version_major": 2,
       "version_minor": 0
      },
      "text/plain": [
       "HBox(children=(IntProgress(value=0, description='Measurement sweep', max=1000, style=ProgressStyle(description…"
      ]
     },
     "metadata": {},
     "output_type": "display_data"
    },
    {
     "data": {
      "application/vnd.jupyter.widget-view+json": {
       "model_id": "",
       "version_major": 2,
       "version_minor": 0
      },
      "text/plain": [
       "HBox(children=(IntProgress(value=0, description='Equilibrate sweep', style=ProgressStyle(description_width='in…"
      ]
     },
     "metadata": {},
     "output_type": "display_data"
    },
    {
     "data": {
      "application/vnd.jupyter.widget-view+json": {
       "model_id": "",
       "version_major": 2,
       "version_minor": 0
      },
      "text/plain": [
       "HBox(children=(IntProgress(value=0, description='Measurement sweep', max=1000, style=ProgressStyle(description…"
      ]
     },
     "metadata": {},
     "output_type": "display_data"
    },
    {
     "data": {
      "application/vnd.jupyter.widget-view+json": {
       "model_id": "",
       "version_major": 2,
       "version_minor": 0
      },
      "text/plain": [
       "HBox(children=(IntProgress(value=0, description='Equilibrate sweep', style=ProgressStyle(description_width='in…"
      ]
     },
     "metadata": {},
     "output_type": "display_data"
    },
    {
     "data": {
      "application/vnd.jupyter.widget-view+json": {
       "model_id": "",
       "version_major": 2,
       "version_minor": 0
      },
      "text/plain": [
       "HBox(children=(IntProgress(value=0, description='Measurement sweep', max=1000, style=ProgressStyle(description…"
      ]
     },
     "metadata": {},
     "output_type": "display_data"
    },
    {
     "data": {
      "application/vnd.jupyter.widget-view+json": {
       "model_id": "",
       "version_major": 2,
       "version_minor": 0
      },
      "text/plain": [
       "HBox(children=(IntProgress(value=0, description='Equilibrate sweep', style=ProgressStyle(description_width='in…"
      ]
     },
     "metadata": {},
     "output_type": "display_data"
    },
    {
     "data": {
      "application/vnd.jupyter.widget-view+json": {
       "model_id": "",
       "version_major": 2,
       "version_minor": 0
      },
      "text/plain": [
       "HBox(children=(IntProgress(value=0, description='Measurement sweep', max=1000, style=ProgressStyle(description…"
      ]
     },
     "metadata": {},
     "output_type": "display_data"
    },
    {
     "data": {
      "application/vnd.jupyter.widget-view+json": {
       "model_id": "",
       "version_major": 2,
       "version_minor": 0
      },
      "text/plain": [
       "HBox(children=(IntProgress(value=0, description='Col', max=10, style=ProgressStyle(description_width='initial'…"
      ]
     },
     "metadata": {},
     "output_type": "display_data"
    },
    {
     "data": {
      "application/vnd.jupyter.widget-view+json": {
       "model_id": "",
       "version_major": 2,
       "version_minor": 0
      },
      "text/plain": [
       "HBox(children=(IntProgress(value=0, description='Equilibrate sweep', style=ProgressStyle(description_width='in…"
      ]
     },
     "metadata": {},
     "output_type": "display_data"
    },
    {
     "data": {
      "application/vnd.jupyter.widget-view+json": {
       "model_id": "",
       "version_major": 2,
       "version_minor": 0
      },
      "text/plain": [
       "HBox(children=(IntProgress(value=0, description='Measurement sweep', max=1000, style=ProgressStyle(description…"
      ]
     },
     "metadata": {},
     "output_type": "display_data"
    },
    {
     "data": {
      "application/vnd.jupyter.widget-view+json": {
       "model_id": "",
       "version_major": 2,
       "version_minor": 0
      },
      "text/plain": [
       "HBox(children=(IntProgress(value=0, description='Equilibrate sweep', style=ProgressStyle(description_width='in…"
      ]
     },
     "metadata": {},
     "output_type": "display_data"
    },
    {
     "data": {
      "application/vnd.jupyter.widget-view+json": {
       "model_id": "",
       "version_major": 2,
       "version_minor": 0
      },
      "text/plain": [
       "HBox(children=(IntProgress(value=0, description='Measurement sweep', max=1000, style=ProgressStyle(description…"
      ]
     },
     "metadata": {},
     "output_type": "display_data"
    },
    {
     "data": {
      "application/vnd.jupyter.widget-view+json": {
       "model_id": "",
       "version_major": 2,
       "version_minor": 0
      },
      "text/plain": [
       "HBox(children=(IntProgress(value=0, description='Equilibrate sweep', style=ProgressStyle(description_width='in…"
      ]
     },
     "metadata": {},
     "output_type": "display_data"
    },
    {
     "data": {
      "application/vnd.jupyter.widget-view+json": {
       "model_id": "",
       "version_major": 2,
       "version_minor": 0
      },
      "text/plain": [
       "HBox(children=(IntProgress(value=0, description='Measurement sweep', max=1000, style=ProgressStyle(description…"
      ]
     },
     "metadata": {},
     "output_type": "display_data"
    },
    {
     "data": {
      "application/vnd.jupyter.widget-view+json": {
       "model_id": "",
       "version_major": 2,
       "version_minor": 0
      },
      "text/plain": [
       "HBox(children=(IntProgress(value=0, description='Equilibrate sweep', style=ProgressStyle(description_width='in…"
      ]
     },
     "metadata": {},
     "output_type": "display_data"
    },
    {
     "data": {
      "application/vnd.jupyter.widget-view+json": {
       "model_id": "",
       "version_major": 2,
       "version_minor": 0
      },
      "text/plain": [
       "HBox(children=(IntProgress(value=0, description='Measurement sweep', max=1000, style=ProgressStyle(description…"
      ]
     },
     "metadata": {},
     "output_type": "display_data"
    },
    {
     "data": {
      "application/vnd.jupyter.widget-view+json": {
       "model_id": "",
       "version_major": 2,
       "version_minor": 0
      },
      "text/plain": [
       "HBox(children=(IntProgress(value=0, description='Equilibrate sweep', style=ProgressStyle(description_width='in…"
      ]
     },
     "metadata": {},
     "output_type": "display_data"
    },
    {
     "data": {
      "application/vnd.jupyter.widget-view+json": {
       "model_id": "",
       "version_major": 2,
       "version_minor": 0
      },
      "text/plain": [
       "HBox(children=(IntProgress(value=0, description='Measurement sweep', max=1000, style=ProgressStyle(description…"
      ]
     },
     "metadata": {},
     "output_type": "display_data"
    },
    {
     "data": {
      "application/vnd.jupyter.widget-view+json": {
       "model_id": "",
       "version_major": 2,
       "version_minor": 0
      },
      "text/plain": [
       "HBox(children=(IntProgress(value=0, description='Equilibrate sweep', style=ProgressStyle(description_width='in…"
      ]
     },
     "metadata": {},
     "output_type": "display_data"
    },
    {
     "data": {
      "application/vnd.jupyter.widget-view+json": {
       "model_id": "",
       "version_major": 2,
       "version_minor": 0
      },
      "text/plain": [
       "HBox(children=(IntProgress(value=0, description='Measurement sweep', max=1000, style=ProgressStyle(description…"
      ]
     },
     "metadata": {},
     "output_type": "display_data"
    },
    {
     "data": {
      "application/vnd.jupyter.widget-view+json": {
       "model_id": "",
       "version_major": 2,
       "version_minor": 0
      },
      "text/plain": [
       "HBox(children=(IntProgress(value=0, description='Equilibrate sweep', style=ProgressStyle(description_width='in…"
      ]
     },
     "metadata": {},
     "output_type": "display_data"
    },
    {
     "data": {
      "application/vnd.jupyter.widget-view+json": {
       "model_id": "",
       "version_major": 2,
       "version_minor": 0
      },
      "text/plain": [
       "HBox(children=(IntProgress(value=0, description='Measurement sweep', max=1000, style=ProgressStyle(description…"
      ]
     },
     "metadata": {},
     "output_type": "display_data"
    },
    {
     "data": {
      "application/vnd.jupyter.widget-view+json": {
       "model_id": "",
       "version_major": 2,
       "version_minor": 0
      },
      "text/plain": [
       "HBox(children=(IntProgress(value=0, description='Equilibrate sweep', style=ProgressStyle(description_width='in…"
      ]
     },
     "metadata": {},
     "output_type": "display_data"
    },
    {
     "data": {
      "application/vnd.jupyter.widget-view+json": {
       "model_id": "",
       "version_major": 2,
       "version_minor": 0
      },
      "text/plain": [
       "HBox(children=(IntProgress(value=0, description='Measurement sweep', max=1000, style=ProgressStyle(description…"
      ]
     },
     "metadata": {},
     "output_type": "display_data"
    },
    {
     "data": {
      "application/vnd.jupyter.widget-view+json": {
       "model_id": "",
       "version_major": 2,
       "version_minor": 0
      },
      "text/plain": [
       "HBox(children=(IntProgress(value=0, description='Equilibrate sweep', style=ProgressStyle(description_width='in…"
      ]
     },
     "metadata": {},
     "output_type": "display_data"
    },
    {
     "data": {
      "application/vnd.jupyter.widget-view+json": {
       "model_id": "",
       "version_major": 2,
       "version_minor": 0
      },
      "text/plain": [
       "HBox(children=(IntProgress(value=0, description='Measurement sweep', max=1000, style=ProgressStyle(description…"
      ]
     },
     "metadata": {},
     "output_type": "display_data"
    },
    {
     "data": {
      "application/vnd.jupyter.widget-view+json": {
       "model_id": "",
       "version_major": 2,
       "version_minor": 0
      },
      "text/plain": [
       "HBox(children=(IntProgress(value=0, description='Equilibrate sweep', style=ProgressStyle(description_width='in…"
      ]
     },
     "metadata": {},
     "output_type": "display_data"
    },
    {
     "data": {
      "application/vnd.jupyter.widget-view+json": {
       "model_id": "",
       "version_major": 2,
       "version_minor": 0
      },
      "text/plain": [
       "HBox(children=(IntProgress(value=0, description='Measurement sweep', max=1000, style=ProgressStyle(description…"
      ]
     },
     "metadata": {},
     "output_type": "display_data"
    },
    {
     "data": {
      "application/vnd.jupyter.widget-view+json": {
       "model_id": "",
       "version_major": 2,
       "version_minor": 0
      },
      "text/plain": [
       "HBox(children=(IntProgress(value=0, description='Col', max=10, style=ProgressStyle(description_width='initial'…"
      ]
     },
     "metadata": {},
     "output_type": "display_data"
    },
    {
     "data": {
      "application/vnd.jupyter.widget-view+json": {
       "model_id": "",
       "version_major": 2,
       "version_minor": 0
      },
      "text/plain": [
       "HBox(children=(IntProgress(value=0, description='Equilibrate sweep', style=ProgressStyle(description_width='in…"
      ]
     },
     "metadata": {},
     "output_type": "display_data"
    },
    {
     "data": {
      "application/vnd.jupyter.widget-view+json": {
       "model_id": "",
       "version_major": 2,
       "version_minor": 0
      },
      "text/plain": [
       "HBox(children=(IntProgress(value=0, description='Measurement sweep', max=1000, style=ProgressStyle(description…"
      ]
     },
     "metadata": {},
     "output_type": "display_data"
    },
    {
     "data": {
      "application/vnd.jupyter.widget-view+json": {
       "model_id": "",
       "version_major": 2,
       "version_minor": 0
      },
      "text/plain": [
       "HBox(children=(IntProgress(value=0, description='Equilibrate sweep', style=ProgressStyle(description_width='in…"
      ]
     },
     "metadata": {},
     "output_type": "display_data"
    },
    {
     "data": {
      "application/vnd.jupyter.widget-view+json": {
       "model_id": "",
       "version_major": 2,
       "version_minor": 0
      },
      "text/plain": [
       "HBox(children=(IntProgress(value=0, description='Measurement sweep', max=1000, style=ProgressStyle(description…"
      ]
     },
     "metadata": {},
     "output_type": "display_data"
    },
    {
     "data": {
      "application/vnd.jupyter.widget-view+json": {
       "model_id": "",
       "version_major": 2,
       "version_minor": 0
      },
      "text/plain": [
       "HBox(children=(IntProgress(value=0, description='Equilibrate sweep', style=ProgressStyle(description_width='in…"
      ]
     },
     "metadata": {},
     "output_type": "display_data"
    },
    {
     "data": {
      "application/vnd.jupyter.widget-view+json": {
       "model_id": "",
       "version_major": 2,
       "version_minor": 0
      },
      "text/plain": [
       "HBox(children=(IntProgress(value=0, description='Measurement sweep', max=1000, style=ProgressStyle(description…"
      ]
     },
     "metadata": {},
     "output_type": "display_data"
    },
    {
     "data": {
      "application/vnd.jupyter.widget-view+json": {
       "model_id": "",
       "version_major": 2,
       "version_minor": 0
      },
      "text/plain": [
       "HBox(children=(IntProgress(value=0, description='Equilibrate sweep', style=ProgressStyle(description_width='in…"
      ]
     },
     "metadata": {},
     "output_type": "display_data"
    },
    {
     "data": {
      "application/vnd.jupyter.widget-view+json": {
       "model_id": "",
       "version_major": 2,
       "version_minor": 0
      },
      "text/plain": [
       "HBox(children=(IntProgress(value=0, description='Measurement sweep', max=1000, style=ProgressStyle(description…"
      ]
     },
     "metadata": {},
     "output_type": "display_data"
    },
    {
     "data": {
      "application/vnd.jupyter.widget-view+json": {
       "model_id": "",
       "version_major": 2,
       "version_minor": 0
      },
      "text/plain": [
       "HBox(children=(IntProgress(value=0, description='Equilibrate sweep', style=ProgressStyle(description_width='in…"
      ]
     },
     "metadata": {},
     "output_type": "display_data"
    },
    {
     "data": {
      "application/vnd.jupyter.widget-view+json": {
       "model_id": "",
       "version_major": 2,
       "version_minor": 0
      },
      "text/plain": [
       "HBox(children=(IntProgress(value=0, description='Measurement sweep', max=1000, style=ProgressStyle(description…"
      ]
     },
     "metadata": {},
     "output_type": "display_data"
    },
    {
     "data": {
      "application/vnd.jupyter.widget-view+json": {
       "model_id": "",
       "version_major": 2,
       "version_minor": 0
      },
      "text/plain": [
       "HBox(children=(IntProgress(value=0, description='Equilibrate sweep', style=ProgressStyle(description_width='in…"
      ]
     },
     "metadata": {},
     "output_type": "display_data"
    },
    {
     "data": {
      "application/vnd.jupyter.widget-view+json": {
       "model_id": "",
       "version_major": 2,
       "version_minor": 0
      },
      "text/plain": [
       "HBox(children=(IntProgress(value=0, description='Measurement sweep', max=1000, style=ProgressStyle(description…"
      ]
     },
     "metadata": {},
     "output_type": "display_data"
    },
    {
     "data": {
      "application/vnd.jupyter.widget-view+json": {
       "model_id": "",
       "version_major": 2,
       "version_minor": 0
      },
      "text/plain": [
       "HBox(children=(IntProgress(value=0, description='Equilibrate sweep', style=ProgressStyle(description_width='in…"
      ]
     },
     "metadata": {},
     "output_type": "display_data"
    },
    {
     "data": {
      "application/vnd.jupyter.widget-view+json": {
       "model_id": "",
       "version_major": 2,
       "version_minor": 0
      },
      "text/plain": [
       "HBox(children=(IntProgress(value=0, description='Measurement sweep', max=1000, style=ProgressStyle(description…"
      ]
     },
     "metadata": {},
     "output_type": "display_data"
    },
    {
     "data": {
      "application/vnd.jupyter.widget-view+json": {
       "model_id": "",
       "version_major": 2,
       "version_minor": 0
      },
      "text/plain": [
       "HBox(children=(IntProgress(value=0, description='Equilibrate sweep', style=ProgressStyle(description_width='in…"
      ]
     },
     "metadata": {},
     "output_type": "display_data"
    },
    {
     "data": {
      "application/vnd.jupyter.widget-view+json": {
       "model_id": "",
       "version_major": 2,
       "version_minor": 0
      },
      "text/plain": [
       "HBox(children=(IntProgress(value=0, description='Measurement sweep', max=1000, style=ProgressStyle(description…"
      ]
     },
     "metadata": {},
     "output_type": "display_data"
    },
    {
     "data": {
      "application/vnd.jupyter.widget-view+json": {
       "model_id": "",
       "version_major": 2,
       "version_minor": 0
      },
      "text/plain": [
       "HBox(children=(IntProgress(value=0, description='Equilibrate sweep', style=ProgressStyle(description_width='in…"
      ]
     },
     "metadata": {},
     "output_type": "display_data"
    },
    {
     "data": {
      "application/vnd.jupyter.widget-view+json": {
       "model_id": "",
       "version_major": 2,
       "version_minor": 0
      },
      "text/plain": [
       "HBox(children=(IntProgress(value=0, description='Measurement sweep', max=1000, style=ProgressStyle(description…"
      ]
     },
     "metadata": {},
     "output_type": "display_data"
    },
    {
     "data": {
      "application/vnd.jupyter.widget-view+json": {
       "model_id": "",
       "version_major": 2,
       "version_minor": 0
      },
      "text/plain": [
       "HBox(children=(IntProgress(value=0, description='Equilibrate sweep', style=ProgressStyle(description_width='in…"
      ]
     },
     "metadata": {},
     "output_type": "display_data"
    },
    {
     "data": {
      "application/vnd.jupyter.widget-view+json": {
       "model_id": "",
       "version_major": 2,
       "version_minor": 0
      },
      "text/plain": [
       "HBox(children=(IntProgress(value=0, description='Measurement sweep', max=1000, style=ProgressStyle(description…"
      ]
     },
     "metadata": {},
     "output_type": "display_data"
    },
    {
     "data": {
      "application/vnd.jupyter.widget-view+json": {
       "model_id": "",
       "version_major": 2,
       "version_minor": 0
      },
      "text/plain": [
       "HBox(children=(IntProgress(value=0, description='Col', max=10, style=ProgressStyle(description_width='initial'…"
      ]
     },
     "metadata": {},
     "output_type": "display_data"
    },
    {
     "data": {
      "application/vnd.jupyter.widget-view+json": {
       "model_id": "",
       "version_major": 2,
       "version_minor": 0
      },
      "text/plain": [
       "HBox(children=(IntProgress(value=0, description='Equilibrate sweep', style=ProgressStyle(description_width='in…"
      ]
     },
     "metadata": {},
     "output_type": "display_data"
    },
    {
     "data": {
      "application/vnd.jupyter.widget-view+json": {
       "model_id": "",
       "version_major": 2,
       "version_minor": 0
      },
      "text/plain": [
       "HBox(children=(IntProgress(value=0, description='Measurement sweep', max=1000, style=ProgressStyle(description…"
      ]
     },
     "metadata": {},
     "output_type": "display_data"
    },
    {
     "data": {
      "application/vnd.jupyter.widget-view+json": {
       "model_id": "",
       "version_major": 2,
       "version_minor": 0
      },
      "text/plain": [
       "HBox(children=(IntProgress(value=0, description='Equilibrate sweep', style=ProgressStyle(description_width='in…"
      ]
     },
     "metadata": {},
     "output_type": "display_data"
    },
    {
     "data": {
      "application/vnd.jupyter.widget-view+json": {
       "model_id": "",
       "version_major": 2,
       "version_minor": 0
      },
      "text/plain": [
       "HBox(children=(IntProgress(value=0, description='Measurement sweep', max=1000, style=ProgressStyle(description…"
      ]
     },
     "metadata": {},
     "output_type": "display_data"
    },
    {
     "data": {
      "application/vnd.jupyter.widget-view+json": {
       "model_id": "",
       "version_major": 2,
       "version_minor": 0
      },
      "text/plain": [
       "HBox(children=(IntProgress(value=0, description='Equilibrate sweep', style=ProgressStyle(description_width='in…"
      ]
     },
     "metadata": {},
     "output_type": "display_data"
    },
    {
     "data": {
      "application/vnd.jupyter.widget-view+json": {
       "model_id": "",
       "version_major": 2,
       "version_minor": 0
      },
      "text/plain": [
       "HBox(children=(IntProgress(value=0, description='Measurement sweep', max=1000, style=ProgressStyle(description…"
      ]
     },
     "metadata": {},
     "output_type": "display_data"
    },
    {
     "data": {
      "application/vnd.jupyter.widget-view+json": {
       "model_id": "",
       "version_major": 2,
       "version_minor": 0
      },
      "text/plain": [
       "HBox(children=(IntProgress(value=0, description='Equilibrate sweep', style=ProgressStyle(description_width='in…"
      ]
     },
     "metadata": {},
     "output_type": "display_data"
    },
    {
     "data": {
      "application/vnd.jupyter.widget-view+json": {
       "model_id": "",
       "version_major": 2,
       "version_minor": 0
      },
      "text/plain": [
       "HBox(children=(IntProgress(value=0, description='Measurement sweep', max=1000, style=ProgressStyle(description…"
      ]
     },
     "metadata": {},
     "output_type": "display_data"
    },
    {
     "data": {
      "application/vnd.jupyter.widget-view+json": {
       "model_id": "",
       "version_major": 2,
       "version_minor": 0
      },
      "text/plain": [
       "HBox(children=(IntProgress(value=0, description='Equilibrate sweep', style=ProgressStyle(description_width='in…"
      ]
     },
     "metadata": {},
     "output_type": "display_data"
    },
    {
     "data": {
      "application/vnd.jupyter.widget-view+json": {
       "model_id": "",
       "version_major": 2,
       "version_minor": 0
      },
      "text/plain": [
       "HBox(children=(IntProgress(value=0, description='Measurement sweep', max=1000, style=ProgressStyle(description…"
      ]
     },
     "metadata": {},
     "output_type": "display_data"
    },
    {
     "data": {
      "application/vnd.jupyter.widget-view+json": {
       "model_id": "",
       "version_major": 2,
       "version_minor": 0
      },
      "text/plain": [
       "HBox(children=(IntProgress(value=0, description='Equilibrate sweep', style=ProgressStyle(description_width='in…"
      ]
     },
     "metadata": {},
     "output_type": "display_data"
    },
    {
     "data": {
      "application/vnd.jupyter.widget-view+json": {
       "model_id": "",
       "version_major": 2,
       "version_minor": 0
      },
      "text/plain": [
       "HBox(children=(IntProgress(value=0, description='Measurement sweep', max=1000, style=ProgressStyle(description…"
      ]
     },
     "metadata": {},
     "output_type": "display_data"
    },
    {
     "data": {
      "application/vnd.jupyter.widget-view+json": {
       "model_id": "",
       "version_major": 2,
       "version_minor": 0
      },
      "text/plain": [
       "HBox(children=(IntProgress(value=0, description='Equilibrate sweep', style=ProgressStyle(description_width='in…"
      ]
     },
     "metadata": {},
     "output_type": "display_data"
    },
    {
     "data": {
      "application/vnd.jupyter.widget-view+json": {
       "model_id": "",
       "version_major": 2,
       "version_minor": 0
      },
      "text/plain": [
       "HBox(children=(IntProgress(value=0, description='Measurement sweep', max=1000, style=ProgressStyle(description…"
      ]
     },
     "metadata": {},
     "output_type": "display_data"
    },
    {
     "data": {
      "application/vnd.jupyter.widget-view+json": {
       "model_id": "",
       "version_major": 2,
       "version_minor": 0
      },
      "text/plain": [
       "HBox(children=(IntProgress(value=0, description='Equilibrate sweep', style=ProgressStyle(description_width='in…"
      ]
     },
     "metadata": {},
     "output_type": "display_data"
    },
    {
     "data": {
      "application/vnd.jupyter.widget-view+json": {
       "model_id": "",
       "version_major": 2,
       "version_minor": 0
      },
      "text/plain": [
       "HBox(children=(IntProgress(value=0, description='Measurement sweep', max=1000, style=ProgressStyle(description…"
      ]
     },
     "metadata": {},
     "output_type": "display_data"
    },
    {
     "data": {
      "application/vnd.jupyter.widget-view+json": {
       "model_id": "",
       "version_major": 2,
       "version_minor": 0
      },
      "text/plain": [
       "HBox(children=(IntProgress(value=0, description='Equilibrate sweep', style=ProgressStyle(description_width='in…"
      ]
     },
     "metadata": {},
     "output_type": "display_data"
    },
    {
     "data": {
      "application/vnd.jupyter.widget-view+json": {
       "model_id": "",
       "version_major": 2,
       "version_minor": 0
      },
      "text/plain": [
       "HBox(children=(IntProgress(value=0, description='Measurement sweep', max=1000, style=ProgressStyle(description…"
      ]
     },
     "metadata": {},
     "output_type": "display_data"
    },
    {
     "data": {
      "application/vnd.jupyter.widget-view+json": {
       "model_id": "",
       "version_major": 2,
       "version_minor": 0
      },
      "text/plain": [
       "HBox(children=(IntProgress(value=0, description='Equilibrate sweep', style=ProgressStyle(description_width='in…"
      ]
     },
     "metadata": {},
     "output_type": "display_data"
    },
    {
     "data": {
      "application/vnd.jupyter.widget-view+json": {
       "model_id": "",
       "version_major": 2,
       "version_minor": 0
      },
      "text/plain": [
       "HBox(children=(IntProgress(value=0, description='Measurement sweep', max=1000, style=ProgressStyle(description…"
      ]
     },
     "metadata": {},
     "output_type": "display_data"
    },
    {
     "name": "stdout",
     "output_type": "stream",
     "text": [
      "\r"
     ]
    },
    {
     "data": {
      "application/javascript": [
       "/* Put everything inside the global mpl namespace */\n",
       "window.mpl = {};\n",
       "\n",
       "\n",
       "mpl.get_websocket_type = function() {\n",
       "    if (typeof(WebSocket) !== 'undefined') {\n",
       "        return WebSocket;\n",
       "    } else if (typeof(MozWebSocket) !== 'undefined') {\n",
       "        return MozWebSocket;\n",
       "    } else {\n",
       "        alert('Your browser does not have WebSocket support.' +\n",
       "              'Please try Chrome, Safari or Firefox ≥ 6. ' +\n",
       "              'Firefox 4 and 5 are also supported but you ' +\n",
       "              'have to enable WebSockets in about:config.');\n",
       "    };\n",
       "}\n",
       "\n",
       "mpl.figure = function(figure_id, websocket, ondownload, parent_element) {\n",
       "    this.id = figure_id;\n",
       "\n",
       "    this.ws = websocket;\n",
       "\n",
       "    this.supports_binary = (this.ws.binaryType != undefined);\n",
       "\n",
       "    if (!this.supports_binary) {\n",
       "        var warnings = document.getElementById(\"mpl-warnings\");\n",
       "        if (warnings) {\n",
       "            warnings.style.display = 'block';\n",
       "            warnings.textContent = (\n",
       "                \"This browser does not support binary websocket messages. \" +\n",
       "                    \"Performance may be slow.\");\n",
       "        }\n",
       "    }\n",
       "\n",
       "    this.imageObj = new Image();\n",
       "\n",
       "    this.context = undefined;\n",
       "    this.message = undefined;\n",
       "    this.canvas = undefined;\n",
       "    this.rubberband_canvas = undefined;\n",
       "    this.rubberband_context = undefined;\n",
       "    this.format_dropdown = undefined;\n",
       "\n",
       "    this.image_mode = 'full';\n",
       "\n",
       "    this.root = $('<div/>');\n",
       "    this._root_extra_style(this.root)\n",
       "    this.root.attr('style', 'display: inline-block');\n",
       "\n",
       "    $(parent_element).append(this.root);\n",
       "\n",
       "    this._init_header(this);\n",
       "    this._init_canvas(this);\n",
       "    this._init_toolbar(this);\n",
       "\n",
       "    var fig = this;\n",
       "\n",
       "    this.waiting = false;\n",
       "\n",
       "    this.ws.onopen =  function () {\n",
       "            fig.send_message(\"supports_binary\", {value: fig.supports_binary});\n",
       "            fig.send_message(\"send_image_mode\", {});\n",
       "            if (mpl.ratio != 1) {\n",
       "                fig.send_message(\"set_dpi_ratio\", {'dpi_ratio': mpl.ratio});\n",
       "            }\n",
       "            fig.send_message(\"refresh\", {});\n",
       "        }\n",
       "\n",
       "    this.imageObj.onload = function() {\n",
       "            if (fig.image_mode == 'full') {\n",
       "                // Full images could contain transparency (where diff images\n",
       "                // almost always do), so we need to clear the canvas so that\n",
       "                // there is no ghosting.\n",
       "                fig.context.clearRect(0, 0, fig.canvas.width, fig.canvas.height);\n",
       "            }\n",
       "            fig.context.drawImage(fig.imageObj, 0, 0);\n",
       "        };\n",
       "\n",
       "    this.imageObj.onunload = function() {\n",
       "        fig.ws.close();\n",
       "    }\n",
       "\n",
       "    this.ws.onmessage = this._make_on_message_function(this);\n",
       "\n",
       "    this.ondownload = ondownload;\n",
       "}\n",
       "\n",
       "mpl.figure.prototype._init_header = function() {\n",
       "    var titlebar = $(\n",
       "        '<div class=\"ui-dialog-titlebar ui-widget-header ui-corner-all ' +\n",
       "        'ui-helper-clearfix\"/>');\n",
       "    var titletext = $(\n",
       "        '<div class=\"ui-dialog-title\" style=\"width: 100%; ' +\n",
       "        'text-align: center; padding: 3px;\"/>');\n",
       "    titlebar.append(titletext)\n",
       "    this.root.append(titlebar);\n",
       "    this.header = titletext[0];\n",
       "}\n",
       "\n",
       "\n",
       "\n",
       "mpl.figure.prototype._canvas_extra_style = function(canvas_div) {\n",
       "\n",
       "}\n",
       "\n",
       "\n",
       "mpl.figure.prototype._root_extra_style = function(canvas_div) {\n",
       "\n",
       "}\n",
       "\n",
       "mpl.figure.prototype._init_canvas = function() {\n",
       "    var fig = this;\n",
       "\n",
       "    var canvas_div = $('<div/>');\n",
       "\n",
       "    canvas_div.attr('style', 'position: relative; clear: both; outline: 0');\n",
       "\n",
       "    function canvas_keyboard_event(event) {\n",
       "        return fig.key_event(event, event['data']);\n",
       "    }\n",
       "\n",
       "    canvas_div.keydown('key_press', canvas_keyboard_event);\n",
       "    canvas_div.keyup('key_release', canvas_keyboard_event);\n",
       "    this.canvas_div = canvas_div\n",
       "    this._canvas_extra_style(canvas_div)\n",
       "    this.root.append(canvas_div);\n",
       "\n",
       "    var canvas = $('<canvas/>');\n",
       "    canvas.addClass('mpl-canvas');\n",
       "    canvas.attr('style', \"left: 0; top: 0; z-index: 0; outline: 0\")\n",
       "\n",
       "    this.canvas = canvas[0];\n",
       "    this.context = canvas[0].getContext(\"2d\");\n",
       "\n",
       "    var backingStore = this.context.backingStorePixelRatio ||\n",
       "\tthis.context.webkitBackingStorePixelRatio ||\n",
       "\tthis.context.mozBackingStorePixelRatio ||\n",
       "\tthis.context.msBackingStorePixelRatio ||\n",
       "\tthis.context.oBackingStorePixelRatio ||\n",
       "\tthis.context.backingStorePixelRatio || 1;\n",
       "\n",
       "    mpl.ratio = (window.devicePixelRatio || 1) / backingStore;\n",
       "\n",
       "    var rubberband = $('<canvas/>');\n",
       "    rubberband.attr('style', \"position: absolute; left: 0; top: 0; z-index: 1;\")\n",
       "\n",
       "    var pass_mouse_events = true;\n",
       "\n",
       "    canvas_div.resizable({\n",
       "        start: function(event, ui) {\n",
       "            pass_mouse_events = false;\n",
       "        },\n",
       "        resize: function(event, ui) {\n",
       "            fig.request_resize(ui.size.width, ui.size.height);\n",
       "        },\n",
       "        stop: function(event, ui) {\n",
       "            pass_mouse_events = true;\n",
       "            fig.request_resize(ui.size.width, ui.size.height);\n",
       "        },\n",
       "    });\n",
       "\n",
       "    function mouse_event_fn(event) {\n",
       "        if (pass_mouse_events)\n",
       "            return fig.mouse_event(event, event['data']);\n",
       "    }\n",
       "\n",
       "    rubberband.mousedown('button_press', mouse_event_fn);\n",
       "    rubberband.mouseup('button_release', mouse_event_fn);\n",
       "    // Throttle sequential mouse events to 1 every 20ms.\n",
       "    rubberband.mousemove('motion_notify', mouse_event_fn);\n",
       "\n",
       "    rubberband.mouseenter('figure_enter', mouse_event_fn);\n",
       "    rubberband.mouseleave('figure_leave', mouse_event_fn);\n",
       "\n",
       "    canvas_div.on(\"wheel\", function (event) {\n",
       "        event = event.originalEvent;\n",
       "        event['data'] = 'scroll'\n",
       "        if (event.deltaY < 0) {\n",
       "            event.step = 1;\n",
       "        } else {\n",
       "            event.step = -1;\n",
       "        }\n",
       "        mouse_event_fn(event);\n",
       "    });\n",
       "\n",
       "    canvas_div.append(canvas);\n",
       "    canvas_div.append(rubberband);\n",
       "\n",
       "    this.rubberband = rubberband;\n",
       "    this.rubberband_canvas = rubberband[0];\n",
       "    this.rubberband_context = rubberband[0].getContext(\"2d\");\n",
       "    this.rubberband_context.strokeStyle = \"#000000\";\n",
       "\n",
       "    this._resize_canvas = function(width, height) {\n",
       "        // Keep the size of the canvas, canvas container, and rubber band\n",
       "        // canvas in synch.\n",
       "        canvas_div.css('width', width)\n",
       "        canvas_div.css('height', height)\n",
       "\n",
       "        canvas.attr('width', width * mpl.ratio);\n",
       "        canvas.attr('height', height * mpl.ratio);\n",
       "        canvas.attr('style', 'width: ' + width + 'px; height: ' + height + 'px;');\n",
       "\n",
       "        rubberband.attr('width', width);\n",
       "        rubberband.attr('height', height);\n",
       "    }\n",
       "\n",
       "    // Set the figure to an initial 600x600px, this will subsequently be updated\n",
       "    // upon first draw.\n",
       "    this._resize_canvas(600, 600);\n",
       "\n",
       "    // Disable right mouse context menu.\n",
       "    $(this.rubberband_canvas).bind(\"contextmenu\",function(e){\n",
       "        return false;\n",
       "    });\n",
       "\n",
       "    function set_focus () {\n",
       "        canvas.focus();\n",
       "        canvas_div.focus();\n",
       "    }\n",
       "\n",
       "    window.setTimeout(set_focus, 100);\n",
       "}\n",
       "\n",
       "mpl.figure.prototype._init_toolbar = function() {\n",
       "    var fig = this;\n",
       "\n",
       "    var nav_element = $('<div/>')\n",
       "    nav_element.attr('style', 'width: 100%');\n",
       "    this.root.append(nav_element);\n",
       "\n",
       "    // Define a callback function for later on.\n",
       "    function toolbar_event(event) {\n",
       "        return fig.toolbar_button_onclick(event['data']);\n",
       "    }\n",
       "    function toolbar_mouse_event(event) {\n",
       "        return fig.toolbar_button_onmouseover(event['data']);\n",
       "    }\n",
       "\n",
       "    for(var toolbar_ind in mpl.toolbar_items) {\n",
       "        var name = mpl.toolbar_items[toolbar_ind][0];\n",
       "        var tooltip = mpl.toolbar_items[toolbar_ind][1];\n",
       "        var image = mpl.toolbar_items[toolbar_ind][2];\n",
       "        var method_name = mpl.toolbar_items[toolbar_ind][3];\n",
       "\n",
       "        if (!name) {\n",
       "            // put a spacer in here.\n",
       "            continue;\n",
       "        }\n",
       "        var button = $('<button/>');\n",
       "        button.addClass('ui-button ui-widget ui-state-default ui-corner-all ' +\n",
       "                        'ui-button-icon-only');\n",
       "        button.attr('role', 'button');\n",
       "        button.attr('aria-disabled', 'false');\n",
       "        button.click(method_name, toolbar_event);\n",
       "        button.mouseover(tooltip, toolbar_mouse_event);\n",
       "\n",
       "        var icon_img = $('<span/>');\n",
       "        icon_img.addClass('ui-button-icon-primary ui-icon');\n",
       "        icon_img.addClass(image);\n",
       "        icon_img.addClass('ui-corner-all');\n",
       "\n",
       "        var tooltip_span = $('<span/>');\n",
       "        tooltip_span.addClass('ui-button-text');\n",
       "        tooltip_span.html(tooltip);\n",
       "\n",
       "        button.append(icon_img);\n",
       "        button.append(tooltip_span);\n",
       "\n",
       "        nav_element.append(button);\n",
       "    }\n",
       "\n",
       "    var fmt_picker_span = $('<span/>');\n",
       "\n",
       "    var fmt_picker = $('<select/>');\n",
       "    fmt_picker.addClass('mpl-toolbar-option ui-widget ui-widget-content');\n",
       "    fmt_picker_span.append(fmt_picker);\n",
       "    nav_element.append(fmt_picker_span);\n",
       "    this.format_dropdown = fmt_picker[0];\n",
       "\n",
       "    for (var ind in mpl.extensions) {\n",
       "        var fmt = mpl.extensions[ind];\n",
       "        var option = $(\n",
       "            '<option/>', {selected: fmt === mpl.default_extension}).html(fmt);\n",
       "        fmt_picker.append(option)\n",
       "    }\n",
       "\n",
       "    // Add hover states to the ui-buttons\n",
       "    $( \".ui-button\" ).hover(\n",
       "        function() { $(this).addClass(\"ui-state-hover\");},\n",
       "        function() { $(this).removeClass(\"ui-state-hover\");}\n",
       "    );\n",
       "\n",
       "    var status_bar = $('<span class=\"mpl-message\"/>');\n",
       "    nav_element.append(status_bar);\n",
       "    this.message = status_bar[0];\n",
       "}\n",
       "\n",
       "mpl.figure.prototype.request_resize = function(x_pixels, y_pixels) {\n",
       "    // Request matplotlib to resize the figure. Matplotlib will then trigger a resize in the client,\n",
       "    // which will in turn request a refresh of the image.\n",
       "    this.send_message('resize', {'width': x_pixels, 'height': y_pixels});\n",
       "}\n",
       "\n",
       "mpl.figure.prototype.send_message = function(type, properties) {\n",
       "    properties['type'] = type;\n",
       "    properties['figure_id'] = this.id;\n",
       "    this.ws.send(JSON.stringify(properties));\n",
       "}\n",
       "\n",
       "mpl.figure.prototype.send_draw_message = function() {\n",
       "    if (!this.waiting) {\n",
       "        this.waiting = true;\n",
       "        this.ws.send(JSON.stringify({type: \"draw\", figure_id: this.id}));\n",
       "    }\n",
       "}\n",
       "\n",
       "\n",
       "mpl.figure.prototype.handle_save = function(fig, msg) {\n",
       "    var format_dropdown = fig.format_dropdown;\n",
       "    var format = format_dropdown.options[format_dropdown.selectedIndex].value;\n",
       "    fig.ondownload(fig, format);\n",
       "}\n",
       "\n",
       "\n",
       "mpl.figure.prototype.handle_resize = function(fig, msg) {\n",
       "    var size = msg['size'];\n",
       "    if (size[0] != fig.canvas.width || size[1] != fig.canvas.height) {\n",
       "        fig._resize_canvas(size[0], size[1]);\n",
       "        fig.send_message(\"refresh\", {});\n",
       "    };\n",
       "}\n",
       "\n",
       "mpl.figure.prototype.handle_rubberband = function(fig, msg) {\n",
       "    var x0 = msg['x0'] / mpl.ratio;\n",
       "    var y0 = (fig.canvas.height - msg['y0']) / mpl.ratio;\n",
       "    var x1 = msg['x1'] / mpl.ratio;\n",
       "    var y1 = (fig.canvas.height - msg['y1']) / mpl.ratio;\n",
       "    x0 = Math.floor(x0) + 0.5;\n",
       "    y0 = Math.floor(y0) + 0.5;\n",
       "    x1 = Math.floor(x1) + 0.5;\n",
       "    y1 = Math.floor(y1) + 0.5;\n",
       "    var min_x = Math.min(x0, x1);\n",
       "    var min_y = Math.min(y0, y1);\n",
       "    var width = Math.abs(x1 - x0);\n",
       "    var height = Math.abs(y1 - y0);\n",
       "\n",
       "    fig.rubberband_context.clearRect(\n",
       "        0, 0, fig.canvas.width, fig.canvas.height);\n",
       "\n",
       "    fig.rubberband_context.strokeRect(min_x, min_y, width, height);\n",
       "}\n",
       "\n",
       "mpl.figure.prototype.handle_figure_label = function(fig, msg) {\n",
       "    // Updates the figure title.\n",
       "    fig.header.textContent = msg['label'];\n",
       "}\n",
       "\n",
       "mpl.figure.prototype.handle_cursor = function(fig, msg) {\n",
       "    var cursor = msg['cursor'];\n",
       "    switch(cursor)\n",
       "    {\n",
       "    case 0:\n",
       "        cursor = 'pointer';\n",
       "        break;\n",
       "    case 1:\n",
       "        cursor = 'default';\n",
       "        break;\n",
       "    case 2:\n",
       "        cursor = 'crosshair';\n",
       "        break;\n",
       "    case 3:\n",
       "        cursor = 'move';\n",
       "        break;\n",
       "    }\n",
       "    fig.rubberband_canvas.style.cursor = cursor;\n",
       "}\n",
       "\n",
       "mpl.figure.prototype.handle_message = function(fig, msg) {\n",
       "    fig.message.textContent = msg['message'];\n",
       "}\n",
       "\n",
       "mpl.figure.prototype.handle_draw = function(fig, msg) {\n",
       "    // Request the server to send over a new figure.\n",
       "    fig.send_draw_message();\n",
       "}\n",
       "\n",
       "mpl.figure.prototype.handle_image_mode = function(fig, msg) {\n",
       "    fig.image_mode = msg['mode'];\n",
       "}\n",
       "\n",
       "mpl.figure.prototype.updated_canvas_event = function() {\n",
       "    // Called whenever the canvas gets updated.\n",
       "    this.send_message(\"ack\", {});\n",
       "}\n",
       "\n",
       "// A function to construct a web socket function for onmessage handling.\n",
       "// Called in the figure constructor.\n",
       "mpl.figure.prototype._make_on_message_function = function(fig) {\n",
       "    return function socket_on_message(evt) {\n",
       "        if (evt.data instanceof Blob) {\n",
       "            /* FIXME: We get \"Resource interpreted as Image but\n",
       "             * transferred with MIME type text/plain:\" errors on\n",
       "             * Chrome.  But how to set the MIME type?  It doesn't seem\n",
       "             * to be part of the websocket stream */\n",
       "            evt.data.type = \"image/png\";\n",
       "\n",
       "            /* Free the memory for the previous frames */\n",
       "            if (fig.imageObj.src) {\n",
       "                (window.URL || window.webkitURL).revokeObjectURL(\n",
       "                    fig.imageObj.src);\n",
       "            }\n",
       "\n",
       "            fig.imageObj.src = (window.URL || window.webkitURL).createObjectURL(\n",
       "                evt.data);\n",
       "            fig.updated_canvas_event();\n",
       "            fig.waiting = false;\n",
       "            return;\n",
       "        }\n",
       "        else if (typeof evt.data === 'string' && evt.data.slice(0, 21) == \"data:image/png;base64\") {\n",
       "            fig.imageObj.src = evt.data;\n",
       "            fig.updated_canvas_event();\n",
       "            fig.waiting = false;\n",
       "            return;\n",
       "        }\n",
       "\n",
       "        var msg = JSON.parse(evt.data);\n",
       "        var msg_type = msg['type'];\n",
       "\n",
       "        // Call the  \"handle_{type}\" callback, which takes\n",
       "        // the figure and JSON message as its only arguments.\n",
       "        try {\n",
       "            var callback = fig[\"handle_\" + msg_type];\n",
       "        } catch (e) {\n",
       "            console.log(\"No handler for the '\" + msg_type + \"' message type: \", msg);\n",
       "            return;\n",
       "        }\n",
       "\n",
       "        if (callback) {\n",
       "            try {\n",
       "                // console.log(\"Handling '\" + msg_type + \"' message: \", msg);\n",
       "                callback(fig, msg);\n",
       "            } catch (e) {\n",
       "                console.log(\"Exception inside the 'handler_\" + msg_type + \"' callback:\", e, e.stack, msg);\n",
       "            }\n",
       "        }\n",
       "    };\n",
       "}\n",
       "\n",
       "// from http://stackoverflow.com/questions/1114465/getting-mouse-location-in-canvas\n",
       "mpl.findpos = function(e) {\n",
       "    //this section is from http://www.quirksmode.org/js/events_properties.html\n",
       "    var targ;\n",
       "    if (!e)\n",
       "        e = window.event;\n",
       "    if (e.target)\n",
       "        targ = e.target;\n",
       "    else if (e.srcElement)\n",
       "        targ = e.srcElement;\n",
       "    if (targ.nodeType == 3) // defeat Safari bug\n",
       "        targ = targ.parentNode;\n",
       "\n",
       "    // jQuery normalizes the pageX and pageY\n",
       "    // pageX,Y are the mouse positions relative to the document\n",
       "    // offset() returns the position of the element relative to the document\n",
       "    var x = e.pageX - $(targ).offset().left;\n",
       "    var y = e.pageY - $(targ).offset().top;\n",
       "\n",
       "    return {\"x\": x, \"y\": y};\n",
       "};\n",
       "\n",
       "/*\n",
       " * return a copy of an object with only non-object keys\n",
       " * we need this to avoid circular references\n",
       " * http://stackoverflow.com/a/24161582/3208463\n",
       " */\n",
       "function simpleKeys (original) {\n",
       "  return Object.keys(original).reduce(function (obj, key) {\n",
       "    if (typeof original[key] !== 'object')\n",
       "        obj[key] = original[key]\n",
       "    return obj;\n",
       "  }, {});\n",
       "}\n",
       "\n",
       "mpl.figure.prototype.mouse_event = function(event, name) {\n",
       "    var canvas_pos = mpl.findpos(event)\n",
       "\n",
       "    if (name === 'button_press')\n",
       "    {\n",
       "        this.canvas.focus();\n",
       "        this.canvas_div.focus();\n",
       "    }\n",
       "\n",
       "    var x = canvas_pos.x * mpl.ratio;\n",
       "    var y = canvas_pos.y * mpl.ratio;\n",
       "\n",
       "    this.send_message(name, {x: x, y: y, button: event.button,\n",
       "                             step: event.step,\n",
       "                             guiEvent: simpleKeys(event)});\n",
       "\n",
       "    /* This prevents the web browser from automatically changing to\n",
       "     * the text insertion cursor when the button is pressed.  We want\n",
       "     * to control all of the cursor setting manually through the\n",
       "     * 'cursor' event from matplotlib */\n",
       "    event.preventDefault();\n",
       "    return false;\n",
       "}\n",
       "\n",
       "mpl.figure.prototype._key_event_extra = function(event, name) {\n",
       "    // Handle any extra behaviour associated with a key event\n",
       "}\n",
       "\n",
       "mpl.figure.prototype.key_event = function(event, name) {\n",
       "\n",
       "    // Prevent repeat events\n",
       "    if (name == 'key_press')\n",
       "    {\n",
       "        if (event.which === this._key)\n",
       "            return;\n",
       "        else\n",
       "            this._key = event.which;\n",
       "    }\n",
       "    if (name == 'key_release')\n",
       "        this._key = null;\n",
       "\n",
       "    var value = '';\n",
       "    if (event.ctrlKey && event.which != 17)\n",
       "        value += \"ctrl+\";\n",
       "    if (event.altKey && event.which != 18)\n",
       "        value += \"alt+\";\n",
       "    if (event.shiftKey && event.which != 16)\n",
       "        value += \"shift+\";\n",
       "\n",
       "    value += 'k';\n",
       "    value += event.which.toString();\n",
       "\n",
       "    this._key_event_extra(event, name);\n",
       "\n",
       "    this.send_message(name, {key: value,\n",
       "                             guiEvent: simpleKeys(event)});\n",
       "    return false;\n",
       "}\n",
       "\n",
       "mpl.figure.prototype.toolbar_button_onclick = function(name) {\n",
       "    if (name == 'download') {\n",
       "        this.handle_save(this, null);\n",
       "    } else {\n",
       "        this.send_message(\"toolbar_button\", {name: name});\n",
       "    }\n",
       "};\n",
       "\n",
       "mpl.figure.prototype.toolbar_button_onmouseover = function(tooltip) {\n",
       "    this.message.textContent = tooltip;\n",
       "};\n",
       "mpl.toolbar_items = [[\"Home\", \"Reset original view\", \"fa fa-home icon-home\", \"home\"], [\"Back\", \"Back to previous view\", \"fa fa-arrow-left icon-arrow-left\", \"back\"], [\"Forward\", \"Forward to next view\", \"fa fa-arrow-right icon-arrow-right\", \"forward\"], [\"\", \"\", \"\", \"\"], [\"Pan\", \"Pan axes with left mouse, zoom with right\", \"fa fa-arrows icon-move\", \"pan\"], [\"Zoom\", \"Zoom to rectangle\", \"fa fa-square-o icon-check-empty\", \"zoom\"], [\"\", \"\", \"\", \"\"], [\"Download\", \"Download plot\", \"fa fa-floppy-o icon-save\", \"download\"]];\n",
       "\n",
       "mpl.extensions = [\"eps\", \"jpeg\", \"pdf\", \"png\", \"ps\", \"raw\", \"svg\", \"tif\"];\n",
       "\n",
       "mpl.default_extension = \"png\";var comm_websocket_adapter = function(comm) {\n",
       "    // Create a \"websocket\"-like object which calls the given IPython comm\n",
       "    // object with the appropriate methods. Currently this is a non binary\n",
       "    // socket, so there is still some room for performance tuning.\n",
       "    var ws = {};\n",
       "\n",
       "    ws.close = function() {\n",
       "        comm.close()\n",
       "    };\n",
       "    ws.send = function(m) {\n",
       "        //console.log('sending', m);\n",
       "        comm.send(m);\n",
       "    };\n",
       "    // Register the callback with on_msg.\n",
       "    comm.on_msg(function(msg) {\n",
       "        //console.log('receiving', msg['content']['data'], msg);\n",
       "        // Pass the mpl event to the overridden (by mpl) onmessage function.\n",
       "        ws.onmessage(msg['content']['data'])\n",
       "    });\n",
       "    return ws;\n",
       "}\n",
       "\n",
       "mpl.mpl_figure_comm = function(comm, msg) {\n",
       "    // This is the function which gets called when the mpl process\n",
       "    // starts-up an IPython Comm through the \"matplotlib\" channel.\n",
       "\n",
       "    var id = msg.content.data.id;\n",
       "    // Get hold of the div created by the display call when the Comm\n",
       "    // socket was opened in Python.\n",
       "    var element = $(\"#\" + id);\n",
       "    var ws_proxy = comm_websocket_adapter(comm)\n",
       "\n",
       "    function ondownload(figure, format) {\n",
       "        window.open(figure.imageObj.src);\n",
       "    }\n",
       "\n",
       "    var fig = new mpl.figure(id, ws_proxy,\n",
       "                           ondownload,\n",
       "                           element.get(0));\n",
       "\n",
       "    // Call onopen now - mpl needs it, as it is assuming we've passed it a real\n",
       "    // web socket which is closed, not our websocket->open comm proxy.\n",
       "    ws_proxy.onopen();\n",
       "\n",
       "    fig.parent_element = element.get(0);\n",
       "    fig.cell_info = mpl.find_output_cell(\"<div id='\" + id + \"'></div>\");\n",
       "    if (!fig.cell_info) {\n",
       "        console.error(\"Failed to find cell for figure\", id, fig);\n",
       "        return;\n",
       "    }\n",
       "\n",
       "    var output_index = fig.cell_info[2]\n",
       "    var cell = fig.cell_info[0];\n",
       "\n",
       "};\n",
       "\n",
       "mpl.figure.prototype.handle_close = function(fig, msg) {\n",
       "    var width = fig.canvas.width/mpl.ratio\n",
       "    fig.root.unbind('remove')\n",
       "\n",
       "    // Update the output cell to use the data from the current canvas.\n",
       "    fig.push_to_output();\n",
       "    var dataURL = fig.canvas.toDataURL();\n",
       "    // Re-enable the keyboard manager in IPython - without this line, in FF,\n",
       "    // the notebook keyboard shortcuts fail.\n",
       "    IPython.keyboard_manager.enable()\n",
       "    $(fig.parent_element).html('<img src=\"' + dataURL + '\" width=\"' + width + '\">');\n",
       "    fig.close_ws(fig, msg);\n",
       "}\n",
       "\n",
       "mpl.figure.prototype.close_ws = function(fig, msg){\n",
       "    fig.send_message('closing', msg);\n",
       "    // fig.ws.close()\n",
       "}\n",
       "\n",
       "mpl.figure.prototype.push_to_output = function(remove_interactive) {\n",
       "    // Turn the data on the canvas into data in the output cell.\n",
       "    var width = this.canvas.width/mpl.ratio\n",
       "    var dataURL = this.canvas.toDataURL();\n",
       "    this.cell_info[1]['text/html'] = '<img src=\"' + dataURL + '\" width=\"' + width + '\">';\n",
       "}\n",
       "\n",
       "mpl.figure.prototype.updated_canvas_event = function() {\n",
       "    // Tell IPython that the notebook contents must change.\n",
       "    IPython.notebook.set_dirty(true);\n",
       "    this.send_message(\"ack\", {});\n",
       "    var fig = this;\n",
       "    // Wait a second, then push the new image to the DOM so\n",
       "    // that it is saved nicely (might be nice to debounce this).\n",
       "    setTimeout(function () { fig.push_to_output() }, 1000);\n",
       "}\n",
       "\n",
       "mpl.figure.prototype._init_toolbar = function() {\n",
       "    var fig = this;\n",
       "\n",
       "    var nav_element = $('<div/>')\n",
       "    nav_element.attr('style', 'width: 100%');\n",
       "    this.root.append(nav_element);\n",
       "\n",
       "    // Define a callback function for later on.\n",
       "    function toolbar_event(event) {\n",
       "        return fig.toolbar_button_onclick(event['data']);\n",
       "    }\n",
       "    function toolbar_mouse_event(event) {\n",
       "        return fig.toolbar_button_onmouseover(event['data']);\n",
       "    }\n",
       "\n",
       "    for(var toolbar_ind in mpl.toolbar_items){\n",
       "        var name = mpl.toolbar_items[toolbar_ind][0];\n",
       "        var tooltip = mpl.toolbar_items[toolbar_ind][1];\n",
       "        var image = mpl.toolbar_items[toolbar_ind][2];\n",
       "        var method_name = mpl.toolbar_items[toolbar_ind][3];\n",
       "\n",
       "        if (!name) { continue; };\n",
       "\n",
       "        var button = $('<button class=\"btn btn-default\" href=\"#\" title=\"' + name + '\"><i class=\"fa ' + image + ' fa-lg\"></i></button>');\n",
       "        button.click(method_name, toolbar_event);\n",
       "        button.mouseover(tooltip, toolbar_mouse_event);\n",
       "        nav_element.append(button);\n",
       "    }\n",
       "\n",
       "    // Add the status bar.\n",
       "    var status_bar = $('<span class=\"mpl-message\" style=\"text-align:right; float: right;\"/>');\n",
       "    nav_element.append(status_bar);\n",
       "    this.message = status_bar[0];\n",
       "\n",
       "    // Add the close button to the window.\n",
       "    var buttongrp = $('<div class=\"btn-group inline pull-right\"></div>');\n",
       "    var button = $('<button class=\"btn btn-mini btn-primary\" href=\"#\" title=\"Stop Interaction\"><i class=\"fa fa-power-off icon-remove icon-large\"></i></button>');\n",
       "    button.click(function (evt) { fig.handle_close(fig, {}); } );\n",
       "    button.mouseover('Stop Interaction', toolbar_mouse_event);\n",
       "    buttongrp.append(button);\n",
       "    var titlebar = this.root.find($('.ui-dialog-titlebar'));\n",
       "    titlebar.prepend(buttongrp);\n",
       "}\n",
       "\n",
       "mpl.figure.prototype._root_extra_style = function(el){\n",
       "    var fig = this\n",
       "    el.on(\"remove\", function(){\n",
       "\tfig.close_ws(fig, {});\n",
       "    });\n",
       "}\n",
       "\n",
       "mpl.figure.prototype._canvas_extra_style = function(el){\n",
       "    // this is important to make the div 'focusable\n",
       "    el.attr('tabindex', 0)\n",
       "    // reach out to IPython and tell the keyboard manager to turn it's self\n",
       "    // off when our div gets focus\n",
       "\n",
       "    // location in version 3\n",
       "    if (IPython.notebook.keyboard_manager) {\n",
       "        IPython.notebook.keyboard_manager.register_events(el);\n",
       "    }\n",
       "    else {\n",
       "        // location in version 2\n",
       "        IPython.keyboard_manager.register_events(el);\n",
       "    }\n",
       "\n",
       "}\n",
       "\n",
       "mpl.figure.prototype._key_event_extra = function(event, name) {\n",
       "    var manager = IPython.notebook.keyboard_manager;\n",
       "    if (!manager)\n",
       "        manager = IPython.keyboard_manager;\n",
       "\n",
       "    // Check for shift+enter\n",
       "    if (event.shiftKey && event.which == 13) {\n",
       "        this.canvas_div.blur();\n",
       "        event.shiftKey = false;\n",
       "        // Send a \"J\" for go to next cell\n",
       "        event.which = 74;\n",
       "        event.keyCode = 74;\n",
       "        manager.command_mode();\n",
       "        manager.handle_keydown(event);\n",
       "    }\n",
       "}\n",
       "\n",
       "mpl.figure.prototype.handle_save = function(fig, msg) {\n",
       "    fig.ondownload(fig, null);\n",
       "}\n",
       "\n",
       "\n",
       "mpl.find_output_cell = function(html_output) {\n",
       "    // Return the cell and output element which can be found *uniquely* in the notebook.\n",
       "    // Note - this is a bit hacky, but it is done because the \"notebook_saving.Notebook\"\n",
       "    // IPython event is triggered only after the cells have been serialised, which for\n",
       "    // our purposes (turning an active figure into a static one), is too late.\n",
       "    var cells = IPython.notebook.get_cells();\n",
       "    var ncells = cells.length;\n",
       "    for (var i=0; i<ncells; i++) {\n",
       "        var cell = cells[i];\n",
       "        if (cell.cell_type === 'code'){\n",
       "            for (var j=0; j<cell.output_area.outputs.length; j++) {\n",
       "                var data = cell.output_area.outputs[j];\n",
       "                if (data.data) {\n",
       "                    // IPython >= 3 moved mimebundle to data attribute of output\n",
       "                    data = data.data;\n",
       "                }\n",
       "                if (data['text/html'] == html_output) {\n",
       "                    return [cell, data, j];\n",
       "                }\n",
       "            }\n",
       "        }\n",
       "    }\n",
       "}\n",
       "\n",
       "// Register the function which deals with the matplotlib target/channel.\n",
       "// The kernel may be null if the page has been refreshed.\n",
       "if (IPython.notebook.kernel != null) {\n",
       "    IPython.notebook.kernel.comm_manager.register_target('matplotlib', mpl.mpl_figure_comm);\n",
       "}\n"
      ],
      "text/plain": [
       "<IPython.core.display.Javascript object>"
      ]
     },
     "metadata": {},
     "output_type": "display_data"
    },
    {
     "data": {
      "text/html": [
       "<img src=\"data:image/png;base64,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\" width=\"640\">"
      ],
      "text/plain": [
       "<IPython.core.display.HTML object>"
      ]
     },
     "metadata": {},
     "output_type": "display_data"
    }
   ],
   "source": [
    "%matplotlib notebook\n",
    "sir_model.phaseDiagram()"
   ]
  },
  {
   "cell_type": "code",
   "execution_count": 7,
   "metadata": {
    "scrolled": true
   },
   "outputs": [
    {
     "data": {
      "application/vnd.jupyter.widget-view+json": {
       "model_id": "",
       "version_major": 2,
       "version_minor": 0
      },
      "text/plain": [
       "HBox(children=(IntProgress(value=0, description='Row', max=10, style=ProgressStyle(description_width='initial'…"
      ]
     },
     "metadata": {},
     "output_type": "display_data"
    },
    {
     "data": {
      "application/vnd.jupyter.widget-view+json": {
       "model_id": "",
       "version_major": 2,
       "version_minor": 0
      },
      "text/plain": [
       "HBox(children=(IntProgress(value=0, description='Col', max=10, style=ProgressStyle(description_width='initial'…"
      ]
     },
     "metadata": {},
     "output_type": "display_data"
    },
    {
     "data": {
      "application/vnd.jupyter.widget-view+json": {
       "model_id": "",
       "version_major": 2,
       "version_minor": 0
      },
      "text/plain": [
       "HBox(children=(IntProgress(value=0, description='Equilibrate sweep', style=ProgressStyle(description_width='in…"
      ]
     },
     "metadata": {},
     "output_type": "display_data"
    },
    {
     "data": {
      "application/vnd.jupyter.widget-view+json": {
       "model_id": "",
       "version_major": 2,
       "version_minor": 0
      },
      "text/plain": [
       "HBox(children=(IntProgress(value=0, description='Measurement sweep', max=1000, style=ProgressStyle(description…"
      ]
     },
     "metadata": {},
     "output_type": "display_data"
    },
    {
     "data": {
      "application/vnd.jupyter.widget-view+json": {
       "model_id": "",
       "version_major": 2,
       "version_minor": 0
      },
      "text/plain": [
       "HBox(children=(IntProgress(value=0, description='Equilibrate sweep', style=ProgressStyle(description_width='in…"
      ]
     },
     "metadata": {},
     "output_type": "display_data"
    },
    {
     "data": {
      "application/vnd.jupyter.widget-view+json": {
       "model_id": "",
       "version_major": 2,
       "version_minor": 0
      },
      "text/plain": [
       "HBox(children=(IntProgress(value=0, description='Measurement sweep', max=1000, style=ProgressStyle(description…"
      ]
     },
     "metadata": {},
     "output_type": "display_data"
    },
    {
     "data": {
      "application/vnd.jupyter.widget-view+json": {
       "model_id": "",
       "version_major": 2,
       "version_minor": 0
      },
      "text/plain": [
       "HBox(children=(IntProgress(value=0, description='Equilibrate sweep', style=ProgressStyle(description_width='in…"
      ]
     },
     "metadata": {},
     "output_type": "display_data"
    },
    {
     "data": {
      "application/vnd.jupyter.widget-view+json": {
       "model_id": "",
       "version_major": 2,
       "version_minor": 0
      },
      "text/plain": [
       "HBox(children=(IntProgress(value=0, description='Measurement sweep', max=1000, style=ProgressStyle(description…"
      ]
     },
     "metadata": {},
     "output_type": "display_data"
    },
    {
     "data": {
      "application/vnd.jupyter.widget-view+json": {
       "model_id": "",
       "version_major": 2,
       "version_minor": 0
      },
      "text/plain": [
       "HBox(children=(IntProgress(value=0, description='Equilibrate sweep', style=ProgressStyle(description_width='in…"
      ]
     },
     "metadata": {},
     "output_type": "display_data"
    },
    {
     "data": {
      "application/vnd.jupyter.widget-view+json": {
       "model_id": "",
       "version_major": 2,
       "version_minor": 0
      },
      "text/plain": [
       "HBox(children=(IntProgress(value=0, description='Measurement sweep', max=1000, style=ProgressStyle(description…"
      ]
     },
     "metadata": {},
     "output_type": "display_data"
    },
    {
     "data": {
      "application/vnd.jupyter.widget-view+json": {
       "model_id": "",
       "version_major": 2,
       "version_minor": 0
      },
      "text/plain": [
       "HBox(children=(IntProgress(value=0, description='Equilibrate sweep', style=ProgressStyle(description_width='in…"
      ]
     },
     "metadata": {},
     "output_type": "display_data"
    },
    {
     "data": {
      "application/vnd.jupyter.widget-view+json": {
       "model_id": "",
       "version_major": 2,
       "version_minor": 0
      },
      "text/plain": [
       "HBox(children=(IntProgress(value=0, description='Measurement sweep', max=1000, style=ProgressStyle(description…"
      ]
     },
     "metadata": {},
     "output_type": "display_data"
    },
    {
     "data": {
      "application/vnd.jupyter.widget-view+json": {
       "model_id": "",
       "version_major": 2,
       "version_minor": 0
      },
      "text/plain": [
       "HBox(children=(IntProgress(value=0, description='Equilibrate sweep', style=ProgressStyle(description_width='in…"
      ]
     },
     "metadata": {},
     "output_type": "display_data"
    },
    {
     "data": {
      "application/vnd.jupyter.widget-view+json": {
       "model_id": "",
       "version_major": 2,
       "version_minor": 0
      },
      "text/plain": [
       "HBox(children=(IntProgress(value=0, description='Measurement sweep', max=1000, style=ProgressStyle(description…"
      ]
     },
     "metadata": {},
     "output_type": "display_data"
    },
    {
     "data": {
      "application/vnd.jupyter.widget-view+json": {
       "model_id": "",
       "version_major": 2,
       "version_minor": 0
      },
      "text/plain": [
       "HBox(children=(IntProgress(value=0, description='Equilibrate sweep', style=ProgressStyle(description_width='in…"
      ]
     },
     "metadata": {},
     "output_type": "display_data"
    },
    {
     "data": {
      "application/vnd.jupyter.widget-view+json": {
       "model_id": "",
       "version_major": 2,
       "version_minor": 0
      },
      "text/plain": [
       "HBox(children=(IntProgress(value=0, description='Measurement sweep', max=1000, style=ProgressStyle(description…"
      ]
     },
     "metadata": {},
     "output_type": "display_data"
    },
    {
     "data": {
      "application/vnd.jupyter.widget-view+json": {
       "model_id": "",
       "version_major": 2,
       "version_minor": 0
      },
      "text/plain": [
       "HBox(children=(IntProgress(value=0, description='Equilibrate sweep', style=ProgressStyle(description_width='in…"
      ]
     },
     "metadata": {},
     "output_type": "display_data"
    },
    {
     "data": {
      "application/vnd.jupyter.widget-view+json": {
       "model_id": "",
       "version_major": 2,
       "version_minor": 0
      },
      "text/plain": [
       "HBox(children=(IntProgress(value=0, description='Measurement sweep', max=1000, style=ProgressStyle(description…"
      ]
     },
     "metadata": {},
     "output_type": "display_data"
    },
    {
     "data": {
      "application/vnd.jupyter.widget-view+json": {
       "model_id": "",
       "version_major": 2,
       "version_minor": 0
      },
      "text/plain": [
       "HBox(children=(IntProgress(value=0, description='Equilibrate sweep', style=ProgressStyle(description_width='in…"
      ]
     },
     "metadata": {},
     "output_type": "display_data"
    },
    {
     "data": {
      "application/vnd.jupyter.widget-view+json": {
       "model_id": "",
       "version_major": 2,
       "version_minor": 0
      },
      "text/plain": [
       "HBox(children=(IntProgress(value=0, description='Measurement sweep', max=1000, style=ProgressStyle(description…"
      ]
     },
     "metadata": {},
     "output_type": "display_data"
    },
    {
     "data": {
      "application/vnd.jupyter.widget-view+json": {
       "model_id": "",
       "version_major": 2,
       "version_minor": 0
      },
      "text/plain": [
       "HBox(children=(IntProgress(value=0, description='Equilibrate sweep', style=ProgressStyle(description_width='in…"
      ]
     },
     "metadata": {},
     "output_type": "display_data"
    },
    {
     "data": {
      "application/vnd.jupyter.widget-view+json": {
       "model_id": "",
       "version_major": 2,
       "version_minor": 0
      },
      "text/plain": [
       "HBox(children=(IntProgress(value=0, description='Measurement sweep', max=1000, style=ProgressStyle(description…"
      ]
     },
     "metadata": {},
     "output_type": "display_data"
    },
    {
     "data": {
      "application/vnd.jupyter.widget-view+json": {
       "model_id": "",
       "version_major": 2,
       "version_minor": 0
      },
      "text/plain": [
       "HBox(children=(IntProgress(value=0, description='Col', max=10, style=ProgressStyle(description_width='initial'…"
      ]
     },
     "metadata": {},
     "output_type": "display_data"
    },
    {
     "data": {
      "application/vnd.jupyter.widget-view+json": {
       "model_id": "",
       "version_major": 2,
       "version_minor": 0
      },
      "text/plain": [
       "HBox(children=(IntProgress(value=0, description='Equilibrate sweep', style=ProgressStyle(description_width='in…"
      ]
     },
     "metadata": {},
     "output_type": "display_data"
    },
    {
     "data": {
      "application/vnd.jupyter.widget-view+json": {
       "model_id": "",
       "version_major": 2,
       "version_minor": 0
      },
      "text/plain": [
       "HBox(children=(IntProgress(value=0, description='Measurement sweep', max=1000, style=ProgressStyle(description…"
      ]
     },
     "metadata": {},
     "output_type": "display_data"
    },
    {
     "data": {
      "application/vnd.jupyter.widget-view+json": {
       "model_id": "",
       "version_major": 2,
       "version_minor": 0
      },
      "text/plain": [
       "HBox(children=(IntProgress(value=0, description='Equilibrate sweep', style=ProgressStyle(description_width='in…"
      ]
     },
     "metadata": {},
     "output_type": "display_data"
    },
    {
     "data": {
      "application/vnd.jupyter.widget-view+json": {
       "model_id": "",
       "version_major": 2,
       "version_minor": 0
      },
      "text/plain": [
       "HBox(children=(IntProgress(value=0, description='Measurement sweep', max=1000, style=ProgressStyle(description…"
      ]
     },
     "metadata": {},
     "output_type": "display_data"
    },
    {
     "data": {
      "application/vnd.jupyter.widget-view+json": {
       "model_id": "",
       "version_major": 2,
       "version_minor": 0
      },
      "text/plain": [
       "HBox(children=(IntProgress(value=0, description='Equilibrate sweep', style=ProgressStyle(description_width='in…"
      ]
     },
     "metadata": {},
     "output_type": "display_data"
    },
    {
     "data": {
      "application/vnd.jupyter.widget-view+json": {
       "model_id": "",
       "version_major": 2,
       "version_minor": 0
      },
      "text/plain": [
       "HBox(children=(IntProgress(value=0, description='Measurement sweep', max=1000, style=ProgressStyle(description…"
      ]
     },
     "metadata": {},
     "output_type": "display_data"
    },
    {
     "data": {
      "application/vnd.jupyter.widget-view+json": {
       "model_id": "",
       "version_major": 2,
       "version_minor": 0
      },
      "text/plain": [
       "HBox(children=(IntProgress(value=0, description='Equilibrate sweep', style=ProgressStyle(description_width='in…"
      ]
     },
     "metadata": {},
     "output_type": "display_data"
    },
    {
     "data": {
      "application/vnd.jupyter.widget-view+json": {
       "model_id": "",
       "version_major": 2,
       "version_minor": 0
      },
      "text/plain": [
       "HBox(children=(IntProgress(value=0, description='Measurement sweep', max=1000, style=ProgressStyle(description…"
      ]
     },
     "metadata": {},
     "output_type": "display_data"
    },
    {
     "data": {
      "application/vnd.jupyter.widget-view+json": {
       "model_id": "",
       "version_major": 2,
       "version_minor": 0
      },
      "text/plain": [
       "HBox(children=(IntProgress(value=0, description='Equilibrate sweep', style=ProgressStyle(description_width='in…"
      ]
     },
     "metadata": {},
     "output_type": "display_data"
    },
    {
     "data": {
      "application/vnd.jupyter.widget-view+json": {
       "model_id": "",
       "version_major": 2,
       "version_minor": 0
      },
      "text/plain": [
       "HBox(children=(IntProgress(value=0, description='Measurement sweep', max=1000, style=ProgressStyle(description…"
      ]
     },
     "metadata": {},
     "output_type": "display_data"
    },
    {
     "data": {
      "application/vnd.jupyter.widget-view+json": {
       "model_id": "",
       "version_major": 2,
       "version_minor": 0
      },
      "text/plain": [
       "HBox(children=(IntProgress(value=0, description='Equilibrate sweep', style=ProgressStyle(description_width='in…"
      ]
     },
     "metadata": {},
     "output_type": "display_data"
    },
    {
     "data": {
      "application/vnd.jupyter.widget-view+json": {
       "model_id": "",
       "version_major": 2,
       "version_minor": 0
      },
      "text/plain": [
       "HBox(children=(IntProgress(value=0, description='Measurement sweep', max=1000, style=ProgressStyle(description…"
      ]
     },
     "metadata": {},
     "output_type": "display_data"
    },
    {
     "data": {
      "application/vnd.jupyter.widget-view+json": {
       "model_id": "",
       "version_major": 2,
       "version_minor": 0
      },
      "text/plain": [
       "HBox(children=(IntProgress(value=0, description='Equilibrate sweep', style=ProgressStyle(description_width='in…"
      ]
     },
     "metadata": {},
     "output_type": "display_data"
    },
    {
     "data": {
      "application/vnd.jupyter.widget-view+json": {
       "model_id": "",
       "version_major": 2,
       "version_minor": 0
      },
      "text/plain": [
       "HBox(children=(IntProgress(value=0, description='Measurement sweep', max=1000, style=ProgressStyle(description…"
      ]
     },
     "metadata": {},
     "output_type": "display_data"
    },
    {
     "data": {
      "application/vnd.jupyter.widget-view+json": {
       "model_id": "",
       "version_major": 2,
       "version_minor": 0
      },
      "text/plain": [
       "HBox(children=(IntProgress(value=0, description='Equilibrate sweep', style=ProgressStyle(description_width='in…"
      ]
     },
     "metadata": {},
     "output_type": "display_data"
    },
    {
     "data": {
      "application/vnd.jupyter.widget-view+json": {
       "model_id": "",
       "version_major": 2,
       "version_minor": 0
      },
      "text/plain": [
       "HBox(children=(IntProgress(value=0, description='Measurement sweep', max=1000, style=ProgressStyle(description…"
      ]
     },
     "metadata": {},
     "output_type": "display_data"
    },
    {
     "data": {
      "application/vnd.jupyter.widget-view+json": {
       "model_id": "",
       "version_major": 2,
       "version_minor": 0
      },
      "text/plain": [
       "HBox(children=(IntProgress(value=0, description='Equilibrate sweep', style=ProgressStyle(description_width='in…"
      ]
     },
     "metadata": {},
     "output_type": "display_data"
    },
    {
     "data": {
      "application/vnd.jupyter.widget-view+json": {
       "model_id": "",
       "version_major": 2,
       "version_minor": 0
      },
      "text/plain": [
       "HBox(children=(IntProgress(value=0, description='Measurement sweep', max=1000, style=ProgressStyle(description…"
      ]
     },
     "metadata": {},
     "output_type": "display_data"
    },
    {
     "data": {
      "application/vnd.jupyter.widget-view+json": {
       "model_id": "",
       "version_major": 2,
       "version_minor": 0
      },
      "text/plain": [
       "HBox(children=(IntProgress(value=0, description='Equilibrate sweep', style=ProgressStyle(description_width='in…"
      ]
     },
     "metadata": {},
     "output_type": "display_data"
    },
    {
     "data": {
      "application/vnd.jupyter.widget-view+json": {
       "model_id": "",
       "version_major": 2,
       "version_minor": 0
      },
      "text/plain": [
       "HBox(children=(IntProgress(value=0, description='Measurement sweep', max=1000, style=ProgressStyle(description…"
      ]
     },
     "metadata": {},
     "output_type": "display_data"
    },
    {
     "data": {
      "application/vnd.jupyter.widget-view+json": {
       "model_id": "",
       "version_major": 2,
       "version_minor": 0
      },
      "text/plain": [
       "HBox(children=(IntProgress(value=0, description='Col', max=10, style=ProgressStyle(description_width='initial'…"
      ]
     },
     "metadata": {},
     "output_type": "display_data"
    },
    {
     "data": {
      "application/vnd.jupyter.widget-view+json": {
       "model_id": "",
       "version_major": 2,
       "version_minor": 0
      },
      "text/plain": [
       "HBox(children=(IntProgress(value=0, description='Equilibrate sweep', style=ProgressStyle(description_width='in…"
      ]
     },
     "metadata": {},
     "output_type": "display_data"
    },
    {
     "data": {
      "application/vnd.jupyter.widget-view+json": {
       "model_id": "",
       "version_major": 2,
       "version_minor": 0
      },
      "text/plain": [
       "HBox(children=(IntProgress(value=0, description='Measurement sweep', max=1000, style=ProgressStyle(description…"
      ]
     },
     "metadata": {},
     "output_type": "display_data"
    },
    {
     "data": {
      "application/vnd.jupyter.widget-view+json": {
       "model_id": "",
       "version_major": 2,
       "version_minor": 0
      },
      "text/plain": [
       "HBox(children=(IntProgress(value=0, description='Equilibrate sweep', style=ProgressStyle(description_width='in…"
      ]
     },
     "metadata": {},
     "output_type": "display_data"
    },
    {
     "data": {
      "application/vnd.jupyter.widget-view+json": {
       "model_id": "",
       "version_major": 2,
       "version_minor": 0
      },
      "text/plain": [
       "HBox(children=(IntProgress(value=0, description='Measurement sweep', max=1000, style=ProgressStyle(description…"
      ]
     },
     "metadata": {},
     "output_type": "display_data"
    },
    {
     "data": {
      "application/vnd.jupyter.widget-view+json": {
       "model_id": "",
       "version_major": 2,
       "version_minor": 0
      },
      "text/plain": [
       "HBox(children=(IntProgress(value=0, description='Equilibrate sweep', style=ProgressStyle(description_width='in…"
      ]
     },
     "metadata": {},
     "output_type": "display_data"
    },
    {
     "data": {
      "application/vnd.jupyter.widget-view+json": {
       "model_id": "",
       "version_major": 2,
       "version_minor": 0
      },
      "text/plain": [
       "HBox(children=(IntProgress(value=0, description='Measurement sweep', max=1000, style=ProgressStyle(description…"
      ]
     },
     "metadata": {},
     "output_type": "display_data"
    },
    {
     "data": {
      "application/vnd.jupyter.widget-view+json": {
       "model_id": "",
       "version_major": 2,
       "version_minor": 0
      },
      "text/plain": [
       "HBox(children=(IntProgress(value=0, description='Equilibrate sweep', style=ProgressStyle(description_width='in…"
      ]
     },
     "metadata": {},
     "output_type": "display_data"
    },
    {
     "data": {
      "application/vnd.jupyter.widget-view+json": {
       "model_id": "",
       "version_major": 2,
       "version_minor": 0
      },
      "text/plain": [
       "HBox(children=(IntProgress(value=0, description='Measurement sweep', max=1000, style=ProgressStyle(description…"
      ]
     },
     "metadata": {},
     "output_type": "display_data"
    },
    {
     "data": {
      "application/vnd.jupyter.widget-view+json": {
       "model_id": "",
       "version_major": 2,
       "version_minor": 0
      },
      "text/plain": [
       "HBox(children=(IntProgress(value=0, description='Equilibrate sweep', style=ProgressStyle(description_width='in…"
      ]
     },
     "metadata": {},
     "output_type": "display_data"
    },
    {
     "data": {
      "application/vnd.jupyter.widget-view+json": {
       "model_id": "",
       "version_major": 2,
       "version_minor": 0
      },
      "text/plain": [
       "HBox(children=(IntProgress(value=0, description='Measurement sweep', max=1000, style=ProgressStyle(description…"
      ]
     },
     "metadata": {},
     "output_type": "display_data"
    },
    {
     "data": {
      "application/vnd.jupyter.widget-view+json": {
       "model_id": "",
       "version_major": 2,
       "version_minor": 0
      },
      "text/plain": [
       "HBox(children=(IntProgress(value=0, description='Equilibrate sweep', style=ProgressStyle(description_width='in…"
      ]
     },
     "metadata": {},
     "output_type": "display_data"
    },
    {
     "data": {
      "application/vnd.jupyter.widget-view+json": {
       "model_id": "",
       "version_major": 2,
       "version_minor": 0
      },
      "text/plain": [
       "HBox(children=(IntProgress(value=0, description='Measurement sweep', max=1000, style=ProgressStyle(description…"
      ]
     },
     "metadata": {},
     "output_type": "display_data"
    },
    {
     "data": {
      "application/vnd.jupyter.widget-view+json": {
       "model_id": "",
       "version_major": 2,
       "version_minor": 0
      },
      "text/plain": [
       "HBox(children=(IntProgress(value=0, description='Equilibrate sweep', style=ProgressStyle(description_width='in…"
      ]
     },
     "metadata": {},
     "output_type": "display_data"
    },
    {
     "data": {
      "application/vnd.jupyter.widget-view+json": {
       "model_id": "",
       "version_major": 2,
       "version_minor": 0
      },
      "text/plain": [
       "HBox(children=(IntProgress(value=0, description='Measurement sweep', max=1000, style=ProgressStyle(description…"
      ]
     },
     "metadata": {},
     "output_type": "display_data"
    },
    {
     "data": {
      "application/vnd.jupyter.widget-view+json": {
       "model_id": "",
       "version_major": 2,
       "version_minor": 0
      },
      "text/plain": [
       "HBox(children=(IntProgress(value=0, description='Equilibrate sweep', style=ProgressStyle(description_width='in…"
      ]
     },
     "metadata": {},
     "output_type": "display_data"
    },
    {
     "data": {
      "application/vnd.jupyter.widget-view+json": {
       "model_id": "",
       "version_major": 2,
       "version_minor": 0
      },
      "text/plain": [
       "HBox(children=(IntProgress(value=0, description='Measurement sweep', max=1000, style=ProgressStyle(description…"
      ]
     },
     "metadata": {},
     "output_type": "display_data"
    },
    {
     "data": {
      "application/vnd.jupyter.widget-view+json": {
       "model_id": "",
       "version_major": 2,
       "version_minor": 0
      },
      "text/plain": [
       "HBox(children=(IntProgress(value=0, description='Equilibrate sweep', style=ProgressStyle(description_width='in…"
      ]
     },
     "metadata": {},
     "output_type": "display_data"
    },
    {
     "data": {
      "application/vnd.jupyter.widget-view+json": {
       "model_id": "",
       "version_major": 2,
       "version_minor": 0
      },
      "text/plain": [
       "HBox(children=(IntProgress(value=0, description='Measurement sweep', max=1000, style=ProgressStyle(description…"
      ]
     },
     "metadata": {},
     "output_type": "display_data"
    },
    {
     "data": {
      "application/vnd.jupyter.widget-view+json": {
       "model_id": "",
       "version_major": 2,
       "version_minor": 0
      },
      "text/plain": [
       "HBox(children=(IntProgress(value=0, description='Equilibrate sweep', style=ProgressStyle(description_width='in…"
      ]
     },
     "metadata": {},
     "output_type": "display_data"
    },
    {
     "data": {
      "application/vnd.jupyter.widget-view+json": {
       "model_id": "",
       "version_major": 2,
       "version_minor": 0
      },
      "text/plain": [
       "HBox(children=(IntProgress(value=0, description='Measurement sweep', max=1000, style=ProgressStyle(description…"
      ]
     },
     "metadata": {},
     "output_type": "display_data"
    },
    {
     "data": {
      "application/vnd.jupyter.widget-view+json": {
       "model_id": "",
       "version_major": 2,
       "version_minor": 0
      },
      "text/plain": [
       "HBox(children=(IntProgress(value=0, description='Col', max=10, style=ProgressStyle(description_width='initial'…"
      ]
     },
     "metadata": {},
     "output_type": "display_data"
    },
    {
     "data": {
      "application/vnd.jupyter.widget-view+json": {
       "model_id": "",
       "version_major": 2,
       "version_minor": 0
      },
      "text/plain": [
       "HBox(children=(IntProgress(value=0, description='Equilibrate sweep', style=ProgressStyle(description_width='in…"
      ]
     },
     "metadata": {},
     "output_type": "display_data"
    },
    {
     "data": {
      "application/vnd.jupyter.widget-view+json": {
       "model_id": "",
       "version_major": 2,
       "version_minor": 0
      },
      "text/plain": [
       "HBox(children=(IntProgress(value=0, description='Measurement sweep', max=1000, style=ProgressStyle(description…"
      ]
     },
     "metadata": {},
     "output_type": "display_data"
    },
    {
     "data": {
      "application/vnd.jupyter.widget-view+json": {
       "model_id": "",
       "version_major": 2,
       "version_minor": 0
      },
      "text/plain": [
       "HBox(children=(IntProgress(value=0, description='Equilibrate sweep', style=ProgressStyle(description_width='in…"
      ]
     },
     "metadata": {},
     "output_type": "display_data"
    },
    {
     "data": {
      "application/vnd.jupyter.widget-view+json": {
       "model_id": "",
       "version_major": 2,
       "version_minor": 0
      },
      "text/plain": [
       "HBox(children=(IntProgress(value=0, description='Measurement sweep', max=1000, style=ProgressStyle(description…"
      ]
     },
     "metadata": {},
     "output_type": "display_data"
    },
    {
     "data": {
      "application/vnd.jupyter.widget-view+json": {
       "model_id": "",
       "version_major": 2,
       "version_minor": 0
      },
      "text/plain": [
       "HBox(children=(IntProgress(value=0, description='Equilibrate sweep', style=ProgressStyle(description_width='in…"
      ]
     },
     "metadata": {},
     "output_type": "display_data"
    },
    {
     "data": {
      "application/vnd.jupyter.widget-view+json": {
       "model_id": "",
       "version_major": 2,
       "version_minor": 0
      },
      "text/plain": [
       "HBox(children=(IntProgress(value=0, description='Measurement sweep', max=1000, style=ProgressStyle(description…"
      ]
     },
     "metadata": {},
     "output_type": "display_data"
    },
    {
     "data": {
      "application/vnd.jupyter.widget-view+json": {
       "model_id": "",
       "version_major": 2,
       "version_minor": 0
      },
      "text/plain": [
       "HBox(children=(IntProgress(value=0, description='Equilibrate sweep', style=ProgressStyle(description_width='in…"
      ]
     },
     "metadata": {},
     "output_type": "display_data"
    },
    {
     "data": {
      "application/vnd.jupyter.widget-view+json": {
       "model_id": "",
       "version_major": 2,
       "version_minor": 0
      },
      "text/plain": [
       "HBox(children=(IntProgress(value=0, description='Measurement sweep', max=1000, style=ProgressStyle(description…"
      ]
     },
     "metadata": {},
     "output_type": "display_data"
    },
    {
     "data": {
      "application/vnd.jupyter.widget-view+json": {
       "model_id": "",
       "version_major": 2,
       "version_minor": 0
      },
      "text/plain": [
       "HBox(children=(IntProgress(value=0, description='Equilibrate sweep', style=ProgressStyle(description_width='in…"
      ]
     },
     "metadata": {},
     "output_type": "display_data"
    },
    {
     "data": {
      "application/vnd.jupyter.widget-view+json": {
       "model_id": "",
       "version_major": 2,
       "version_minor": 0
      },
      "text/plain": [
       "HBox(children=(IntProgress(value=0, description='Measurement sweep', max=1000, style=ProgressStyle(description…"
      ]
     },
     "metadata": {},
     "output_type": "display_data"
    },
    {
     "data": {
      "application/vnd.jupyter.widget-view+json": {
       "model_id": "",
       "version_major": 2,
       "version_minor": 0
      },
      "text/plain": [
       "HBox(children=(IntProgress(value=0, description='Equilibrate sweep', style=ProgressStyle(description_width='in…"
      ]
     },
     "metadata": {},
     "output_type": "display_data"
    },
    {
     "data": {
      "application/vnd.jupyter.widget-view+json": {
       "model_id": "",
       "version_major": 2,
       "version_minor": 0
      },
      "text/plain": [
       "HBox(children=(IntProgress(value=0, description='Measurement sweep', max=1000, style=ProgressStyle(description…"
      ]
     },
     "metadata": {},
     "output_type": "display_data"
    },
    {
     "data": {
      "application/vnd.jupyter.widget-view+json": {
       "model_id": "",
       "version_major": 2,
       "version_minor": 0
      },
      "text/plain": [
       "HBox(children=(IntProgress(value=0, description='Equilibrate sweep', style=ProgressStyle(description_width='in…"
      ]
     },
     "metadata": {},
     "output_type": "display_data"
    },
    {
     "data": {
      "application/vnd.jupyter.widget-view+json": {
       "model_id": "",
       "version_major": 2,
       "version_minor": 0
      },
      "text/plain": [
       "HBox(children=(IntProgress(value=0, description='Measurement sweep', max=1000, style=ProgressStyle(description…"
      ]
     },
     "metadata": {},
     "output_type": "display_data"
    },
    {
     "data": {
      "application/vnd.jupyter.widget-view+json": {
       "model_id": "",
       "version_major": 2,
       "version_minor": 0
      },
      "text/plain": [
       "HBox(children=(IntProgress(value=0, description='Equilibrate sweep', style=ProgressStyle(description_width='in…"
      ]
     },
     "metadata": {},
     "output_type": "display_data"
    },
    {
     "data": {
      "application/vnd.jupyter.widget-view+json": {
       "model_id": "",
       "version_major": 2,
       "version_minor": 0
      },
      "text/plain": [
       "HBox(children=(IntProgress(value=0, description='Measurement sweep', max=1000, style=ProgressStyle(description…"
      ]
     },
     "metadata": {},
     "output_type": "display_data"
    },
    {
     "data": {
      "application/vnd.jupyter.widget-view+json": {
       "model_id": "",
       "version_major": 2,
       "version_minor": 0
      },
      "text/plain": [
       "HBox(children=(IntProgress(value=0, description='Equilibrate sweep', style=ProgressStyle(description_width='in…"
      ]
     },
     "metadata": {},
     "output_type": "display_data"
    },
    {
     "data": {
      "application/vnd.jupyter.widget-view+json": {
       "model_id": "",
       "version_major": 2,
       "version_minor": 0
      },
      "text/plain": [
       "HBox(children=(IntProgress(value=0, description='Measurement sweep', max=1000, style=ProgressStyle(description…"
      ]
     },
     "metadata": {},
     "output_type": "display_data"
    },
    {
     "data": {
      "application/vnd.jupyter.widget-view+json": {
       "model_id": "",
       "version_major": 2,
       "version_minor": 0
      },
      "text/plain": [
       "HBox(children=(IntProgress(value=0, description='Equilibrate sweep', style=ProgressStyle(description_width='in…"
      ]
     },
     "metadata": {},
     "output_type": "display_data"
    },
    {
     "data": {
      "application/vnd.jupyter.widget-view+json": {
       "model_id": "",
       "version_major": 2,
       "version_minor": 0
      },
      "text/plain": [
       "HBox(children=(IntProgress(value=0, description='Measurement sweep', max=1000, style=ProgressStyle(description…"
      ]
     },
     "metadata": {},
     "output_type": "display_data"
    },
    {
     "data": {
      "application/vnd.jupyter.widget-view+json": {
       "model_id": "",
       "version_major": 2,
       "version_minor": 0
      },
      "text/plain": [
       "HBox(children=(IntProgress(value=0, description='Col', max=10, style=ProgressStyle(description_width='initial'…"
      ]
     },
     "metadata": {},
     "output_type": "display_data"
    },
    {
     "data": {
      "application/vnd.jupyter.widget-view+json": {
       "model_id": "",
       "version_major": 2,
       "version_minor": 0
      },
      "text/plain": [
       "HBox(children=(IntProgress(value=0, description='Equilibrate sweep', style=ProgressStyle(description_width='in…"
      ]
     },
     "metadata": {},
     "output_type": "display_data"
    },
    {
     "data": {
      "application/vnd.jupyter.widget-view+json": {
       "model_id": "",
       "version_major": 2,
       "version_minor": 0
      },
      "text/plain": [
       "HBox(children=(IntProgress(value=0, description='Measurement sweep', max=1000, style=ProgressStyle(description…"
      ]
     },
     "metadata": {},
     "output_type": "display_data"
    },
    {
     "data": {
      "application/vnd.jupyter.widget-view+json": {
       "model_id": "",
       "version_major": 2,
       "version_minor": 0
      },
      "text/plain": [
       "HBox(children=(IntProgress(value=0, description='Equilibrate sweep', style=ProgressStyle(description_width='in…"
      ]
     },
     "metadata": {},
     "output_type": "display_data"
    },
    {
     "data": {
      "application/vnd.jupyter.widget-view+json": {
       "model_id": "",
       "version_major": 2,
       "version_minor": 0
      },
      "text/plain": [
       "HBox(children=(IntProgress(value=0, description='Measurement sweep', max=1000, style=ProgressStyle(description…"
      ]
     },
     "metadata": {},
     "output_type": "display_data"
    },
    {
     "data": {
      "application/vnd.jupyter.widget-view+json": {
       "model_id": "",
       "version_major": 2,
       "version_minor": 0
      },
      "text/plain": [
       "HBox(children=(IntProgress(value=0, description='Equilibrate sweep', style=ProgressStyle(description_width='in…"
      ]
     },
     "metadata": {},
     "output_type": "display_data"
    },
    {
     "data": {
      "application/vnd.jupyter.widget-view+json": {
       "model_id": "",
       "version_major": 2,
       "version_minor": 0
      },
      "text/plain": [
       "HBox(children=(IntProgress(value=0, description='Measurement sweep', max=1000, style=ProgressStyle(description…"
      ]
     },
     "metadata": {},
     "output_type": "display_data"
    },
    {
     "data": {
      "application/vnd.jupyter.widget-view+json": {
       "model_id": "",
       "version_major": 2,
       "version_minor": 0
      },
      "text/plain": [
       "HBox(children=(IntProgress(value=0, description='Equilibrate sweep', style=ProgressStyle(description_width='in…"
      ]
     },
     "metadata": {},
     "output_type": "display_data"
    },
    {
     "data": {
      "application/vnd.jupyter.widget-view+json": {
       "model_id": "",
       "version_major": 2,
       "version_minor": 0
      },
      "text/plain": [
       "HBox(children=(IntProgress(value=0, description='Measurement sweep', max=1000, style=ProgressStyle(description…"
      ]
     },
     "metadata": {},
     "output_type": "display_data"
    },
    {
     "data": {
      "application/vnd.jupyter.widget-view+json": {
       "model_id": "",
       "version_major": 2,
       "version_minor": 0
      },
      "text/plain": [
       "HBox(children=(IntProgress(value=0, description='Equilibrate sweep', style=ProgressStyle(description_width='in…"
      ]
     },
     "metadata": {},
     "output_type": "display_data"
    },
    {
     "data": {
      "application/vnd.jupyter.widget-view+json": {
       "model_id": "",
       "version_major": 2,
       "version_minor": 0
      },
      "text/plain": [
       "HBox(children=(IntProgress(value=0, description='Measurement sweep', max=1000, style=ProgressStyle(description…"
      ]
     },
     "metadata": {},
     "output_type": "display_data"
    },
    {
     "data": {
      "application/vnd.jupyter.widget-view+json": {
       "model_id": "",
       "version_major": 2,
       "version_minor": 0
      },
      "text/plain": [
       "HBox(children=(IntProgress(value=0, description='Equilibrate sweep', style=ProgressStyle(description_width='in…"
      ]
     },
     "metadata": {},
     "output_type": "display_data"
    },
    {
     "data": {
      "application/vnd.jupyter.widget-view+json": {
       "model_id": "",
       "version_major": 2,
       "version_minor": 0
      },
      "text/plain": [
       "HBox(children=(IntProgress(value=0, description='Measurement sweep', max=1000, style=ProgressStyle(description…"
      ]
     },
     "metadata": {},
     "output_type": "display_data"
    },
    {
     "data": {
      "application/vnd.jupyter.widget-view+json": {
       "model_id": "",
       "version_major": 2,
       "version_minor": 0
      },
      "text/plain": [
       "HBox(children=(IntProgress(value=0, description='Equilibrate sweep', style=ProgressStyle(description_width='in…"
      ]
     },
     "metadata": {},
     "output_type": "display_data"
    },
    {
     "data": {
      "application/vnd.jupyter.widget-view+json": {
       "model_id": "",
       "version_major": 2,
       "version_minor": 0
      },
      "text/plain": [
       "HBox(children=(IntProgress(value=0, description='Measurement sweep', max=1000, style=ProgressStyle(description…"
      ]
     },
     "metadata": {},
     "output_type": "display_data"
    },
    {
     "data": {
      "application/vnd.jupyter.widget-view+json": {
       "model_id": "",
       "version_major": 2,
       "version_minor": 0
      },
      "text/plain": [
       "HBox(children=(IntProgress(value=0, description='Equilibrate sweep', style=ProgressStyle(description_width='in…"
      ]
     },
     "metadata": {},
     "output_type": "display_data"
    },
    {
     "data": {
      "application/vnd.jupyter.widget-view+json": {
       "model_id": "",
       "version_major": 2,
       "version_minor": 0
      },
      "text/plain": [
       "HBox(children=(IntProgress(value=0, description='Measurement sweep', max=1000, style=ProgressStyle(description…"
      ]
     },
     "metadata": {},
     "output_type": "display_data"
    },
    {
     "data": {
      "application/vnd.jupyter.widget-view+json": {
       "model_id": "",
       "version_major": 2,
       "version_minor": 0
      },
      "text/plain": [
       "HBox(children=(IntProgress(value=0, description='Equilibrate sweep', style=ProgressStyle(description_width='in…"
      ]
     },
     "metadata": {},
     "output_type": "display_data"
    },
    {
     "data": {
      "application/vnd.jupyter.widget-view+json": {
       "model_id": "",
       "version_major": 2,
       "version_minor": 0
      },
      "text/plain": [
       "HBox(children=(IntProgress(value=0, description='Measurement sweep', max=1000, style=ProgressStyle(description…"
      ]
     },
     "metadata": {},
     "output_type": "display_data"
    },
    {
     "data": {
      "application/vnd.jupyter.widget-view+json": {
       "model_id": "",
       "version_major": 2,
       "version_minor": 0
      },
      "text/plain": [
       "HBox(children=(IntProgress(value=0, description='Equilibrate sweep', style=ProgressStyle(description_width='in…"
      ]
     },
     "metadata": {},
     "output_type": "display_data"
    },
    {
     "data": {
      "application/vnd.jupyter.widget-view+json": {
       "model_id": "",
       "version_major": 2,
       "version_minor": 0
      },
      "text/plain": [
       "HBox(children=(IntProgress(value=0, description='Measurement sweep', max=1000, style=ProgressStyle(description…"
      ]
     },
     "metadata": {},
     "output_type": "display_data"
    },
    {
     "data": {
      "application/vnd.jupyter.widget-view+json": {
       "model_id": "",
       "version_major": 2,
       "version_minor": 0
      },
      "text/plain": [
       "HBox(children=(IntProgress(value=0, description='Col', max=10, style=ProgressStyle(description_width='initial'…"
      ]
     },
     "metadata": {},
     "output_type": "display_data"
    },
    {
     "data": {
      "application/vnd.jupyter.widget-view+json": {
       "model_id": "",
       "version_major": 2,
       "version_minor": 0
      },
      "text/plain": [
       "HBox(children=(IntProgress(value=0, description='Equilibrate sweep', style=ProgressStyle(description_width='in…"
      ]
     },
     "metadata": {},
     "output_type": "display_data"
    },
    {
     "data": {
      "application/vnd.jupyter.widget-view+json": {
       "model_id": "",
       "version_major": 2,
       "version_minor": 0
      },
      "text/plain": [
       "HBox(children=(IntProgress(value=0, description='Measurement sweep', max=1000, style=ProgressStyle(description…"
      ]
     },
     "metadata": {},
     "output_type": "display_data"
    },
    {
     "data": {
      "application/vnd.jupyter.widget-view+json": {
       "model_id": "",
       "version_major": 2,
       "version_minor": 0
      },
      "text/plain": [
       "HBox(children=(IntProgress(value=0, description='Equilibrate sweep', style=ProgressStyle(description_width='in…"
      ]
     },
     "metadata": {},
     "output_type": "display_data"
    },
    {
     "data": {
      "application/vnd.jupyter.widget-view+json": {
       "model_id": "",
       "version_major": 2,
       "version_minor": 0
      },
      "text/plain": [
       "HBox(children=(IntProgress(value=0, description='Measurement sweep', max=1000, style=ProgressStyle(description…"
      ]
     },
     "metadata": {},
     "output_type": "display_data"
    },
    {
     "data": {
      "application/vnd.jupyter.widget-view+json": {
       "model_id": "",
       "version_major": 2,
       "version_minor": 0
      },
      "text/plain": [
       "HBox(children=(IntProgress(value=0, description='Equilibrate sweep', style=ProgressStyle(description_width='in…"
      ]
     },
     "metadata": {},
     "output_type": "display_data"
    },
    {
     "data": {
      "application/vnd.jupyter.widget-view+json": {
       "model_id": "",
       "version_major": 2,
       "version_minor": 0
      },
      "text/plain": [
       "HBox(children=(IntProgress(value=0, description='Measurement sweep', max=1000, style=ProgressStyle(description…"
      ]
     },
     "metadata": {},
     "output_type": "display_data"
    },
    {
     "data": {
      "application/vnd.jupyter.widget-view+json": {
       "model_id": "",
       "version_major": 2,
       "version_minor": 0
      },
      "text/plain": [
       "HBox(children=(IntProgress(value=0, description='Equilibrate sweep', style=ProgressStyle(description_width='in…"
      ]
     },
     "metadata": {},
     "output_type": "display_data"
    },
    {
     "data": {
      "application/vnd.jupyter.widget-view+json": {
       "model_id": "",
       "version_major": 2,
       "version_minor": 0
      },
      "text/plain": [
       "HBox(children=(IntProgress(value=0, description='Measurement sweep', max=1000, style=ProgressStyle(description…"
      ]
     },
     "metadata": {},
     "output_type": "display_data"
    },
    {
     "data": {
      "application/vnd.jupyter.widget-view+json": {
       "model_id": "",
       "version_major": 2,
       "version_minor": 0
      },
      "text/plain": [
       "HBox(children=(IntProgress(value=0, description='Equilibrate sweep', style=ProgressStyle(description_width='in…"
      ]
     },
     "metadata": {},
     "output_type": "display_data"
    },
    {
     "data": {
      "application/vnd.jupyter.widget-view+json": {
       "model_id": "",
       "version_major": 2,
       "version_minor": 0
      },
      "text/plain": [
       "HBox(children=(IntProgress(value=0, description='Measurement sweep', max=1000, style=ProgressStyle(description…"
      ]
     },
     "metadata": {},
     "output_type": "display_data"
    },
    {
     "data": {
      "application/vnd.jupyter.widget-view+json": {
       "model_id": "",
       "version_major": 2,
       "version_minor": 0
      },
      "text/plain": [
       "HBox(children=(IntProgress(value=0, description='Equilibrate sweep', style=ProgressStyle(description_width='in…"
      ]
     },
     "metadata": {},
     "output_type": "display_data"
    },
    {
     "data": {
      "application/vnd.jupyter.widget-view+json": {
       "model_id": "",
       "version_major": 2,
       "version_minor": 0
      },
      "text/plain": [
       "HBox(children=(IntProgress(value=0, description='Measurement sweep', max=1000, style=ProgressStyle(description…"
      ]
     },
     "metadata": {},
     "output_type": "display_data"
    },
    {
     "data": {
      "application/vnd.jupyter.widget-view+json": {
       "model_id": "",
       "version_major": 2,
       "version_minor": 0
      },
      "text/plain": [
       "HBox(children=(IntProgress(value=0, description='Equilibrate sweep', style=ProgressStyle(description_width='in…"
      ]
     },
     "metadata": {},
     "output_type": "display_data"
    },
    {
     "data": {
      "application/vnd.jupyter.widget-view+json": {
       "model_id": "",
       "version_major": 2,
       "version_minor": 0
      },
      "text/plain": [
       "HBox(children=(IntProgress(value=0, description='Measurement sweep', max=1000, style=ProgressStyle(description…"
      ]
     },
     "metadata": {},
     "output_type": "display_data"
    },
    {
     "data": {
      "application/vnd.jupyter.widget-view+json": {
       "model_id": "",
       "version_major": 2,
       "version_minor": 0
      },
      "text/plain": [
       "HBox(children=(IntProgress(value=0, description='Equilibrate sweep', style=ProgressStyle(description_width='in…"
      ]
     },
     "metadata": {},
     "output_type": "display_data"
    },
    {
     "data": {
      "application/vnd.jupyter.widget-view+json": {
       "model_id": "",
       "version_major": 2,
       "version_minor": 0
      },
      "text/plain": [
       "HBox(children=(IntProgress(value=0, description='Measurement sweep', max=1000, style=ProgressStyle(description…"
      ]
     },
     "metadata": {},
     "output_type": "display_data"
    },
    {
     "data": {
      "application/vnd.jupyter.widget-view+json": {
       "model_id": "",
       "version_major": 2,
       "version_minor": 0
      },
      "text/plain": [
       "HBox(children=(IntProgress(value=0, description='Equilibrate sweep', style=ProgressStyle(description_width='in…"
      ]
     },
     "metadata": {},
     "output_type": "display_data"
    },
    {
     "data": {
      "application/vnd.jupyter.widget-view+json": {
       "model_id": "",
       "version_major": 2,
       "version_minor": 0
      },
      "text/plain": [
       "HBox(children=(IntProgress(value=0, description='Measurement sweep', max=1000, style=ProgressStyle(description…"
      ]
     },
     "metadata": {},
     "output_type": "display_data"
    },
    {
     "data": {
      "application/vnd.jupyter.widget-view+json": {
       "model_id": "",
       "version_major": 2,
       "version_minor": 0
      },
      "text/plain": [
       "HBox(children=(IntProgress(value=0, description='Equilibrate sweep', style=ProgressStyle(description_width='in…"
      ]
     },
     "metadata": {},
     "output_type": "display_data"
    },
    {
     "data": {
      "application/vnd.jupyter.widget-view+json": {
       "model_id": "",
       "version_major": 2,
       "version_minor": 0
      },
      "text/plain": [
       "HBox(children=(IntProgress(value=0, description='Measurement sweep', max=1000, style=ProgressStyle(description…"
      ]
     },
     "metadata": {},
     "output_type": "display_data"
    },
    {
     "data": {
      "application/vnd.jupyter.widget-view+json": {
       "model_id": "",
       "version_major": 2,
       "version_minor": 0
      },
      "text/plain": [
       "HBox(children=(IntProgress(value=0, description='Col', max=10, style=ProgressStyle(description_width='initial'…"
      ]
     },
     "metadata": {},
     "output_type": "display_data"
    },
    {
     "data": {
      "application/vnd.jupyter.widget-view+json": {
       "model_id": "",
       "version_major": 2,
       "version_minor": 0
      },
      "text/plain": [
       "HBox(children=(IntProgress(value=0, description='Equilibrate sweep', style=ProgressStyle(description_width='in…"
      ]
     },
     "metadata": {},
     "output_type": "display_data"
    },
    {
     "data": {
      "application/vnd.jupyter.widget-view+json": {
       "model_id": "",
       "version_major": 2,
       "version_minor": 0
      },
      "text/plain": [
       "HBox(children=(IntProgress(value=0, description='Measurement sweep', max=1000, style=ProgressStyle(description…"
      ]
     },
     "metadata": {},
     "output_type": "display_data"
    },
    {
     "data": {
      "application/vnd.jupyter.widget-view+json": {
       "model_id": "",
       "version_major": 2,
       "version_minor": 0
      },
      "text/plain": [
       "HBox(children=(IntProgress(value=0, description='Equilibrate sweep', style=ProgressStyle(description_width='in…"
      ]
     },
     "metadata": {},
     "output_type": "display_data"
    },
    {
     "data": {
      "application/vnd.jupyter.widget-view+json": {
       "model_id": "",
       "version_major": 2,
       "version_minor": 0
      },
      "text/plain": [
       "HBox(children=(IntProgress(value=0, description='Measurement sweep', max=1000, style=ProgressStyle(description…"
      ]
     },
     "metadata": {},
     "output_type": "display_data"
    },
    {
     "data": {
      "application/vnd.jupyter.widget-view+json": {
       "model_id": "",
       "version_major": 2,
       "version_minor": 0
      },
      "text/plain": [
       "HBox(children=(IntProgress(value=0, description='Equilibrate sweep', style=ProgressStyle(description_width='in…"
      ]
     },
     "metadata": {},
     "output_type": "display_data"
    },
    {
     "data": {
      "application/vnd.jupyter.widget-view+json": {
       "model_id": "",
       "version_major": 2,
       "version_minor": 0
      },
      "text/plain": [
       "HBox(children=(IntProgress(value=0, description='Measurement sweep', max=1000, style=ProgressStyle(description…"
      ]
     },
     "metadata": {},
     "output_type": "display_data"
    },
    {
     "data": {
      "application/vnd.jupyter.widget-view+json": {
       "model_id": "",
       "version_major": 2,
       "version_minor": 0
      },
      "text/plain": [
       "HBox(children=(IntProgress(value=0, description='Equilibrate sweep', style=ProgressStyle(description_width='in…"
      ]
     },
     "metadata": {},
     "output_type": "display_data"
    },
    {
     "data": {
      "application/vnd.jupyter.widget-view+json": {
       "model_id": "",
       "version_major": 2,
       "version_minor": 0
      },
      "text/plain": [
       "HBox(children=(IntProgress(value=0, description='Measurement sweep', max=1000, style=ProgressStyle(description…"
      ]
     },
     "metadata": {},
     "output_type": "display_data"
    },
    {
     "data": {
      "application/vnd.jupyter.widget-view+json": {
       "model_id": "",
       "version_major": 2,
       "version_minor": 0
      },
      "text/plain": [
       "HBox(children=(IntProgress(value=0, description='Equilibrate sweep', style=ProgressStyle(description_width='in…"
      ]
     },
     "metadata": {},
     "output_type": "display_data"
    },
    {
     "data": {
      "application/vnd.jupyter.widget-view+json": {
       "model_id": "",
       "version_major": 2,
       "version_minor": 0
      },
      "text/plain": [
       "HBox(children=(IntProgress(value=0, description='Measurement sweep', max=1000, style=ProgressStyle(description…"
      ]
     },
     "metadata": {},
     "output_type": "display_data"
    },
    {
     "data": {
      "application/vnd.jupyter.widget-view+json": {
       "model_id": "",
       "version_major": 2,
       "version_minor": 0
      },
      "text/plain": [
       "HBox(children=(IntProgress(value=0, description='Equilibrate sweep', style=ProgressStyle(description_width='in…"
      ]
     },
     "metadata": {},
     "output_type": "display_data"
    },
    {
     "data": {
      "application/vnd.jupyter.widget-view+json": {
       "model_id": "",
       "version_major": 2,
       "version_minor": 0
      },
      "text/plain": [
       "HBox(children=(IntProgress(value=0, description='Measurement sweep', max=1000, style=ProgressStyle(description…"
      ]
     },
     "metadata": {},
     "output_type": "display_data"
    },
    {
     "data": {
      "application/vnd.jupyter.widget-view+json": {
       "model_id": "",
       "version_major": 2,
       "version_minor": 0
      },
      "text/plain": [
       "HBox(children=(IntProgress(value=0, description='Equilibrate sweep', style=ProgressStyle(description_width='in…"
      ]
     },
     "metadata": {},
     "output_type": "display_data"
    },
    {
     "data": {
      "application/vnd.jupyter.widget-view+json": {
       "model_id": "",
       "version_major": 2,
       "version_minor": 0
      },
      "text/plain": [
       "HBox(children=(IntProgress(value=0, description='Measurement sweep', max=1000, style=ProgressStyle(description…"
      ]
     },
     "metadata": {},
     "output_type": "display_data"
    },
    {
     "data": {
      "application/vnd.jupyter.widget-view+json": {
       "model_id": "",
       "version_major": 2,
       "version_minor": 0
      },
      "text/plain": [
       "HBox(children=(IntProgress(value=0, description='Equilibrate sweep', style=ProgressStyle(description_width='in…"
      ]
     },
     "metadata": {},
     "output_type": "display_data"
    },
    {
     "data": {
      "application/vnd.jupyter.widget-view+json": {
       "model_id": "",
       "version_major": 2,
       "version_minor": 0
      },
      "text/plain": [
       "HBox(children=(IntProgress(value=0, description='Measurement sweep', max=1000, style=ProgressStyle(description…"
      ]
     },
     "metadata": {},
     "output_type": "display_data"
    },
    {
     "data": {
      "application/vnd.jupyter.widget-view+json": {
       "model_id": "",
       "version_major": 2,
       "version_minor": 0
      },
      "text/plain": [
       "HBox(children=(IntProgress(value=0, description='Equilibrate sweep', style=ProgressStyle(description_width='in…"
      ]
     },
     "metadata": {},
     "output_type": "display_data"
    },
    {
     "data": {
      "application/vnd.jupyter.widget-view+json": {
       "model_id": "",
       "version_major": 2,
       "version_minor": 0
      },
      "text/plain": [
       "HBox(children=(IntProgress(value=0, description='Measurement sweep', max=1000, style=ProgressStyle(description…"
      ]
     },
     "metadata": {},
     "output_type": "display_data"
    },
    {
     "data": {
      "application/vnd.jupyter.widget-view+json": {
       "model_id": "",
       "version_major": 2,
       "version_minor": 0
      },
      "text/plain": [
       "HBox(children=(IntProgress(value=0, description='Equilibrate sweep', style=ProgressStyle(description_width='in…"
      ]
     },
     "metadata": {},
     "output_type": "display_data"
    },
    {
     "data": {
      "application/vnd.jupyter.widget-view+json": {
       "model_id": "",
       "version_major": 2,
       "version_minor": 0
      },
      "text/plain": [
       "HBox(children=(IntProgress(value=0, description='Measurement sweep', max=1000, style=ProgressStyle(description…"
      ]
     },
     "metadata": {},
     "output_type": "display_data"
    },
    {
     "data": {
      "application/vnd.jupyter.widget-view+json": {
       "model_id": "",
       "version_major": 2,
       "version_minor": 0
      },
      "text/plain": [
       "HBox(children=(IntProgress(value=0, description='Col', max=10, style=ProgressStyle(description_width='initial'…"
      ]
     },
     "metadata": {},
     "output_type": "display_data"
    },
    {
     "data": {
      "application/vnd.jupyter.widget-view+json": {
       "model_id": "",
       "version_major": 2,
       "version_minor": 0
      },
      "text/plain": [
       "HBox(children=(IntProgress(value=0, description='Equilibrate sweep', style=ProgressStyle(description_width='in…"
      ]
     },
     "metadata": {},
     "output_type": "display_data"
    },
    {
     "data": {
      "application/vnd.jupyter.widget-view+json": {
       "model_id": "",
       "version_major": 2,
       "version_minor": 0
      },
      "text/plain": [
       "HBox(children=(IntProgress(value=0, description='Measurement sweep', max=1000, style=ProgressStyle(description…"
      ]
     },
     "metadata": {},
     "output_type": "display_data"
    },
    {
     "data": {
      "application/vnd.jupyter.widget-view+json": {
       "model_id": "",
       "version_major": 2,
       "version_minor": 0
      },
      "text/plain": [
       "HBox(children=(IntProgress(value=0, description='Equilibrate sweep', style=ProgressStyle(description_width='in…"
      ]
     },
     "metadata": {},
     "output_type": "display_data"
    },
    {
     "data": {
      "application/vnd.jupyter.widget-view+json": {
       "model_id": "",
       "version_major": 2,
       "version_minor": 0
      },
      "text/plain": [
       "HBox(children=(IntProgress(value=0, description='Measurement sweep', max=1000, style=ProgressStyle(description…"
      ]
     },
     "metadata": {},
     "output_type": "display_data"
    },
    {
     "data": {
      "application/vnd.jupyter.widget-view+json": {
       "model_id": "",
       "version_major": 2,
       "version_minor": 0
      },
      "text/plain": [
       "HBox(children=(IntProgress(value=0, description='Equilibrate sweep', style=ProgressStyle(description_width='in…"
      ]
     },
     "metadata": {},
     "output_type": "display_data"
    },
    {
     "data": {
      "application/vnd.jupyter.widget-view+json": {
       "model_id": "",
       "version_major": 2,
       "version_minor": 0
      },
      "text/plain": [
       "HBox(children=(IntProgress(value=0, description='Measurement sweep', max=1000, style=ProgressStyle(description…"
      ]
     },
     "metadata": {},
     "output_type": "display_data"
    },
    {
     "data": {
      "application/vnd.jupyter.widget-view+json": {
       "model_id": "",
       "version_major": 2,
       "version_minor": 0
      },
      "text/plain": [
       "HBox(children=(IntProgress(value=0, description='Equilibrate sweep', style=ProgressStyle(description_width='in…"
      ]
     },
     "metadata": {},
     "output_type": "display_data"
    },
    {
     "data": {
      "application/vnd.jupyter.widget-view+json": {
       "model_id": "",
       "version_major": 2,
       "version_minor": 0
      },
      "text/plain": [
       "HBox(children=(IntProgress(value=0, description='Measurement sweep', max=1000, style=ProgressStyle(description…"
      ]
     },
     "metadata": {},
     "output_type": "display_data"
    },
    {
     "data": {
      "application/vnd.jupyter.widget-view+json": {
       "model_id": "",
       "version_major": 2,
       "version_minor": 0
      },
      "text/plain": [
       "HBox(children=(IntProgress(value=0, description='Equilibrate sweep', style=ProgressStyle(description_width='in…"
      ]
     },
     "metadata": {},
     "output_type": "display_data"
    },
    {
     "data": {
      "application/vnd.jupyter.widget-view+json": {
       "model_id": "",
       "version_major": 2,
       "version_minor": 0
      },
      "text/plain": [
       "HBox(children=(IntProgress(value=0, description='Measurement sweep', max=1000, style=ProgressStyle(description…"
      ]
     },
     "metadata": {},
     "output_type": "display_data"
    },
    {
     "data": {
      "application/vnd.jupyter.widget-view+json": {
       "model_id": "",
       "version_major": 2,
       "version_minor": 0
      },
      "text/plain": [
       "HBox(children=(IntProgress(value=0, description='Equilibrate sweep', style=ProgressStyle(description_width='in…"
      ]
     },
     "metadata": {},
     "output_type": "display_data"
    },
    {
     "data": {
      "application/vnd.jupyter.widget-view+json": {
       "model_id": "",
       "version_major": 2,
       "version_minor": 0
      },
      "text/plain": [
       "HBox(children=(IntProgress(value=0, description='Measurement sweep', max=1000, style=ProgressStyle(description…"
      ]
     },
     "metadata": {},
     "output_type": "display_data"
    },
    {
     "data": {
      "application/vnd.jupyter.widget-view+json": {
       "model_id": "",
       "version_major": 2,
       "version_minor": 0
      },
      "text/plain": [
       "HBox(children=(IntProgress(value=0, description='Equilibrate sweep', style=ProgressStyle(description_width='in…"
      ]
     },
     "metadata": {},
     "output_type": "display_data"
    },
    {
     "data": {
      "application/vnd.jupyter.widget-view+json": {
       "model_id": "",
       "version_major": 2,
       "version_minor": 0
      },
      "text/plain": [
       "HBox(children=(IntProgress(value=0, description='Measurement sweep', max=1000, style=ProgressStyle(description…"
      ]
     },
     "metadata": {},
     "output_type": "display_data"
    },
    {
     "data": {
      "application/vnd.jupyter.widget-view+json": {
       "model_id": "",
       "version_major": 2,
       "version_minor": 0
      },
      "text/plain": [
       "HBox(children=(IntProgress(value=0, description='Equilibrate sweep', style=ProgressStyle(description_width='in…"
      ]
     },
     "metadata": {},
     "output_type": "display_data"
    },
    {
     "data": {
      "application/vnd.jupyter.widget-view+json": {
       "model_id": "",
       "version_major": 2,
       "version_minor": 0
      },
      "text/plain": [
       "HBox(children=(IntProgress(value=0, description='Measurement sweep', max=1000, style=ProgressStyle(description…"
      ]
     },
     "metadata": {},
     "output_type": "display_data"
    },
    {
     "data": {
      "application/vnd.jupyter.widget-view+json": {
       "model_id": "",
       "version_major": 2,
       "version_minor": 0
      },
      "text/plain": [
       "HBox(children=(IntProgress(value=0, description='Equilibrate sweep', style=ProgressStyle(description_width='in…"
      ]
     },
     "metadata": {},
     "output_type": "display_data"
    },
    {
     "data": {
      "application/vnd.jupyter.widget-view+json": {
       "model_id": "",
       "version_major": 2,
       "version_minor": 0
      },
      "text/plain": [
       "HBox(children=(IntProgress(value=0, description='Measurement sweep', max=1000, style=ProgressStyle(description…"
      ]
     },
     "metadata": {},
     "output_type": "display_data"
    },
    {
     "data": {
      "application/vnd.jupyter.widget-view+json": {
       "model_id": "",
       "version_major": 2,
       "version_minor": 0
      },
      "text/plain": [
       "HBox(children=(IntProgress(value=0, description='Equilibrate sweep', style=ProgressStyle(description_width='in…"
      ]
     },
     "metadata": {},
     "output_type": "display_data"
    },
    {
     "data": {
      "application/vnd.jupyter.widget-view+json": {
       "model_id": "",
       "version_major": 2,
       "version_minor": 0
      },
      "text/plain": [
       "HBox(children=(IntProgress(value=0, description='Measurement sweep', max=1000, style=ProgressStyle(description…"
      ]
     },
     "metadata": {},
     "output_type": "display_data"
    },
    {
     "data": {
      "application/vnd.jupyter.widget-view+json": {
       "model_id": "",
       "version_major": 2,
       "version_minor": 0
      },
      "text/plain": [
       "HBox(children=(IntProgress(value=0, description='Col', max=10, style=ProgressStyle(description_width='initial'…"
      ]
     },
     "metadata": {},
     "output_type": "display_data"
    },
    {
     "data": {
      "application/vnd.jupyter.widget-view+json": {
       "model_id": "",
       "version_major": 2,
       "version_minor": 0
      },
      "text/plain": [
       "HBox(children=(IntProgress(value=0, description='Equilibrate sweep', style=ProgressStyle(description_width='in…"
      ]
     },
     "metadata": {},
     "output_type": "display_data"
    },
    {
     "data": {
      "application/vnd.jupyter.widget-view+json": {
       "model_id": "",
       "version_major": 2,
       "version_minor": 0
      },
      "text/plain": [
       "HBox(children=(IntProgress(value=0, description='Measurement sweep', max=1000, style=ProgressStyle(description…"
      ]
     },
     "metadata": {},
     "output_type": "display_data"
    },
    {
     "data": {
      "application/vnd.jupyter.widget-view+json": {
       "model_id": "",
       "version_major": 2,
       "version_minor": 0
      },
      "text/plain": [
       "HBox(children=(IntProgress(value=0, description='Equilibrate sweep', style=ProgressStyle(description_width='in…"
      ]
     },
     "metadata": {},
     "output_type": "display_data"
    },
    {
     "data": {
      "application/vnd.jupyter.widget-view+json": {
       "model_id": "",
       "version_major": 2,
       "version_minor": 0
      },
      "text/plain": [
       "HBox(children=(IntProgress(value=0, description='Measurement sweep', max=1000, style=ProgressStyle(description…"
      ]
     },
     "metadata": {},
     "output_type": "display_data"
    },
    {
     "data": {
      "application/vnd.jupyter.widget-view+json": {
       "model_id": "",
       "version_major": 2,
       "version_minor": 0
      },
      "text/plain": [
       "HBox(children=(IntProgress(value=0, description='Equilibrate sweep', style=ProgressStyle(description_width='in…"
      ]
     },
     "metadata": {},
     "output_type": "display_data"
    },
    {
     "data": {
      "application/vnd.jupyter.widget-view+json": {
       "model_id": "",
       "version_major": 2,
       "version_minor": 0
      },
      "text/plain": [
       "HBox(children=(IntProgress(value=0, description='Measurement sweep', max=1000, style=ProgressStyle(description…"
      ]
     },
     "metadata": {},
     "output_type": "display_data"
    },
    {
     "data": {
      "application/vnd.jupyter.widget-view+json": {
       "model_id": "",
       "version_major": 2,
       "version_minor": 0
      },
      "text/plain": [
       "HBox(children=(IntProgress(value=0, description='Equilibrate sweep', style=ProgressStyle(description_width='in…"
      ]
     },
     "metadata": {},
     "output_type": "display_data"
    },
    {
     "data": {
      "application/vnd.jupyter.widget-view+json": {
       "model_id": "",
       "version_major": 2,
       "version_minor": 0
      },
      "text/plain": [
       "HBox(children=(IntProgress(value=0, description='Measurement sweep', max=1000, style=ProgressStyle(description…"
      ]
     },
     "metadata": {},
     "output_type": "display_data"
    },
    {
     "data": {
      "application/vnd.jupyter.widget-view+json": {
       "model_id": "",
       "version_major": 2,
       "version_minor": 0
      },
      "text/plain": [
       "HBox(children=(IntProgress(value=0, description='Equilibrate sweep', style=ProgressStyle(description_width='in…"
      ]
     },
     "metadata": {},
     "output_type": "display_data"
    },
    {
     "data": {
      "application/vnd.jupyter.widget-view+json": {
       "model_id": "",
       "version_major": 2,
       "version_minor": 0
      },
      "text/plain": [
       "HBox(children=(IntProgress(value=0, description='Measurement sweep', max=1000, style=ProgressStyle(description…"
      ]
     },
     "metadata": {},
     "output_type": "display_data"
    },
    {
     "data": {
      "application/vnd.jupyter.widget-view+json": {
       "model_id": "",
       "version_major": 2,
       "version_minor": 0
      },
      "text/plain": [
       "HBox(children=(IntProgress(value=0, description='Equilibrate sweep', style=ProgressStyle(description_width='in…"
      ]
     },
     "metadata": {},
     "output_type": "display_data"
    },
    {
     "data": {
      "application/vnd.jupyter.widget-view+json": {
       "model_id": "",
       "version_major": 2,
       "version_minor": 0
      },
      "text/plain": [
       "HBox(children=(IntProgress(value=0, description='Measurement sweep', max=1000, style=ProgressStyle(description…"
      ]
     },
     "metadata": {},
     "output_type": "display_data"
    },
    {
     "data": {
      "application/vnd.jupyter.widget-view+json": {
       "model_id": "",
       "version_major": 2,
       "version_minor": 0
      },
      "text/plain": [
       "HBox(children=(IntProgress(value=0, description='Equilibrate sweep', style=ProgressStyle(description_width='in…"
      ]
     },
     "metadata": {},
     "output_type": "display_data"
    },
    {
     "data": {
      "application/vnd.jupyter.widget-view+json": {
       "model_id": "",
       "version_major": 2,
       "version_minor": 0
      },
      "text/plain": [
       "HBox(children=(IntProgress(value=0, description='Measurement sweep', max=1000, style=ProgressStyle(description…"
      ]
     },
     "metadata": {},
     "output_type": "display_data"
    },
    {
     "data": {
      "application/vnd.jupyter.widget-view+json": {
       "model_id": "",
       "version_major": 2,
       "version_minor": 0
      },
      "text/plain": [
       "HBox(children=(IntProgress(value=0, description='Equilibrate sweep', style=ProgressStyle(description_width='in…"
      ]
     },
     "metadata": {},
     "output_type": "display_data"
    },
    {
     "data": {
      "application/vnd.jupyter.widget-view+json": {
       "model_id": "",
       "version_major": 2,
       "version_minor": 0
      },
      "text/plain": [
       "HBox(children=(IntProgress(value=0, description='Measurement sweep', max=1000, style=ProgressStyle(description…"
      ]
     },
     "metadata": {},
     "output_type": "display_data"
    },
    {
     "data": {
      "application/vnd.jupyter.widget-view+json": {
       "model_id": "",
       "version_major": 2,
       "version_minor": 0
      },
      "text/plain": [
       "HBox(children=(IntProgress(value=0, description='Equilibrate sweep', style=ProgressStyle(description_width='in…"
      ]
     },
     "metadata": {},
     "output_type": "display_data"
    },
    {
     "data": {
      "application/vnd.jupyter.widget-view+json": {
       "model_id": "",
       "version_major": 2,
       "version_minor": 0
      },
      "text/plain": [
       "HBox(children=(IntProgress(value=0, description='Measurement sweep', max=1000, style=ProgressStyle(description…"
      ]
     },
     "metadata": {},
     "output_type": "display_data"
    },
    {
     "data": {
      "application/vnd.jupyter.widget-view+json": {
       "model_id": "",
       "version_major": 2,
       "version_minor": 0
      },
      "text/plain": [
       "HBox(children=(IntProgress(value=0, description='Equilibrate sweep', style=ProgressStyle(description_width='in…"
      ]
     },
     "metadata": {},
     "output_type": "display_data"
    },
    {
     "data": {
      "application/vnd.jupyter.widget-view+json": {
       "model_id": "",
       "version_major": 2,
       "version_minor": 0
      },
      "text/plain": [
       "HBox(children=(IntProgress(value=0, description='Measurement sweep', max=1000, style=ProgressStyle(description…"
      ]
     },
     "metadata": {},
     "output_type": "display_data"
    },
    {
     "data": {
      "application/vnd.jupyter.widget-view+json": {
       "model_id": "",
       "version_major": 2,
       "version_minor": 0
      },
      "text/plain": [
       "HBox(children=(IntProgress(value=0, description='Col', max=10, style=ProgressStyle(description_width='initial'…"
      ]
     },
     "metadata": {},
     "output_type": "display_data"
    },
    {
     "data": {
      "application/vnd.jupyter.widget-view+json": {
       "model_id": "",
       "version_major": 2,
       "version_minor": 0
      },
      "text/plain": [
       "HBox(children=(IntProgress(value=0, description='Equilibrate sweep', style=ProgressStyle(description_width='in…"
      ]
     },
     "metadata": {},
     "output_type": "display_data"
    },
    {
     "data": {
      "application/vnd.jupyter.widget-view+json": {
       "model_id": "",
       "version_major": 2,
       "version_minor": 0
      },
      "text/plain": [
       "HBox(children=(IntProgress(value=0, description='Measurement sweep', max=1000, style=ProgressStyle(description…"
      ]
     },
     "metadata": {},
     "output_type": "display_data"
    },
    {
     "data": {
      "application/vnd.jupyter.widget-view+json": {
       "model_id": "",
       "version_major": 2,
       "version_minor": 0
      },
      "text/plain": [
       "HBox(children=(IntProgress(value=0, description='Equilibrate sweep', style=ProgressStyle(description_width='in…"
      ]
     },
     "metadata": {},
     "output_type": "display_data"
    },
    {
     "data": {
      "application/vnd.jupyter.widget-view+json": {
       "model_id": "",
       "version_major": 2,
       "version_minor": 0
      },
      "text/plain": [
       "HBox(children=(IntProgress(value=0, description='Measurement sweep', max=1000, style=ProgressStyle(description…"
      ]
     },
     "metadata": {},
     "output_type": "display_data"
    },
    {
     "data": {
      "application/vnd.jupyter.widget-view+json": {
       "model_id": "",
       "version_major": 2,
       "version_minor": 0
      },
      "text/plain": [
       "HBox(children=(IntProgress(value=0, description='Equilibrate sweep', style=ProgressStyle(description_width='in…"
      ]
     },
     "metadata": {},
     "output_type": "display_data"
    },
    {
     "data": {
      "application/vnd.jupyter.widget-view+json": {
       "model_id": "",
       "version_major": 2,
       "version_minor": 0
      },
      "text/plain": [
       "HBox(children=(IntProgress(value=0, description='Measurement sweep', max=1000, style=ProgressStyle(description…"
      ]
     },
     "metadata": {},
     "output_type": "display_data"
    },
    {
     "data": {
      "application/vnd.jupyter.widget-view+json": {
       "model_id": "",
       "version_major": 2,
       "version_minor": 0
      },
      "text/plain": [
       "HBox(children=(IntProgress(value=0, description='Equilibrate sweep', style=ProgressStyle(description_width='in…"
      ]
     },
     "metadata": {},
     "output_type": "display_data"
    },
    {
     "data": {
      "application/vnd.jupyter.widget-view+json": {
       "model_id": "",
       "version_major": 2,
       "version_minor": 0
      },
      "text/plain": [
       "HBox(children=(IntProgress(value=0, description='Measurement sweep', max=1000, style=ProgressStyle(description…"
      ]
     },
     "metadata": {},
     "output_type": "display_data"
    },
    {
     "data": {
      "application/vnd.jupyter.widget-view+json": {
       "model_id": "",
       "version_major": 2,
       "version_minor": 0
      },
      "text/plain": [
       "HBox(children=(IntProgress(value=0, description='Equilibrate sweep', style=ProgressStyle(description_width='in…"
      ]
     },
     "metadata": {},
     "output_type": "display_data"
    },
    {
     "data": {
      "application/vnd.jupyter.widget-view+json": {
       "model_id": "",
       "version_major": 2,
       "version_minor": 0
      },
      "text/plain": [
       "HBox(children=(IntProgress(value=0, description='Measurement sweep', max=1000, style=ProgressStyle(description…"
      ]
     },
     "metadata": {},
     "output_type": "display_data"
    },
    {
     "data": {
      "application/vnd.jupyter.widget-view+json": {
       "model_id": "",
       "version_major": 2,
       "version_minor": 0
      },
      "text/plain": [
       "HBox(children=(IntProgress(value=0, description='Equilibrate sweep', style=ProgressStyle(description_width='in…"
      ]
     },
     "metadata": {},
     "output_type": "display_data"
    },
    {
     "data": {
      "application/vnd.jupyter.widget-view+json": {
       "model_id": "",
       "version_major": 2,
       "version_minor": 0
      },
      "text/plain": [
       "HBox(children=(IntProgress(value=0, description='Measurement sweep', max=1000, style=ProgressStyle(description…"
      ]
     },
     "metadata": {},
     "output_type": "display_data"
    },
    {
     "data": {
      "application/vnd.jupyter.widget-view+json": {
       "model_id": "",
       "version_major": 2,
       "version_minor": 0
      },
      "text/plain": [
       "HBox(children=(IntProgress(value=0, description='Equilibrate sweep', style=ProgressStyle(description_width='in…"
      ]
     },
     "metadata": {},
     "output_type": "display_data"
    },
    {
     "data": {
      "application/vnd.jupyter.widget-view+json": {
       "model_id": "",
       "version_major": 2,
       "version_minor": 0
      },
      "text/plain": [
       "HBox(children=(IntProgress(value=0, description='Measurement sweep', max=1000, style=ProgressStyle(description…"
      ]
     },
     "metadata": {},
     "output_type": "display_data"
    },
    {
     "data": {
      "application/vnd.jupyter.widget-view+json": {
       "model_id": "",
       "version_major": 2,
       "version_minor": 0
      },
      "text/plain": [
       "HBox(children=(IntProgress(value=0, description='Equilibrate sweep', style=ProgressStyle(description_width='in…"
      ]
     },
     "metadata": {},
     "output_type": "display_data"
    },
    {
     "data": {
      "application/vnd.jupyter.widget-view+json": {
       "model_id": "",
       "version_major": 2,
       "version_minor": 0
      },
      "text/plain": [
       "HBox(children=(IntProgress(value=0, description='Measurement sweep', max=1000, style=ProgressStyle(description…"
      ]
     },
     "metadata": {},
     "output_type": "display_data"
    },
    {
     "data": {
      "application/vnd.jupyter.widget-view+json": {
       "model_id": "",
       "version_major": 2,
       "version_minor": 0
      },
      "text/plain": [
       "HBox(children=(IntProgress(value=0, description='Equilibrate sweep', style=ProgressStyle(description_width='in…"
      ]
     },
     "metadata": {},
     "output_type": "display_data"
    },
    {
     "data": {
      "application/vnd.jupyter.widget-view+json": {
       "model_id": "",
       "version_major": 2,
       "version_minor": 0
      },
      "text/plain": [
       "HBox(children=(IntProgress(value=0, description='Measurement sweep', max=1000, style=ProgressStyle(description…"
      ]
     },
     "metadata": {},
     "output_type": "display_data"
    },
    {
     "data": {
      "application/vnd.jupyter.widget-view+json": {
       "model_id": "",
       "version_major": 2,
       "version_minor": 0
      },
      "text/plain": [
       "HBox(children=(IntProgress(value=0, description='Equilibrate sweep', style=ProgressStyle(description_width='in…"
      ]
     },
     "metadata": {},
     "output_type": "display_data"
    },
    {
     "data": {
      "application/vnd.jupyter.widget-view+json": {
       "model_id": "",
       "version_major": 2,
       "version_minor": 0
      },
      "text/plain": [
       "HBox(children=(IntProgress(value=0, description='Measurement sweep', max=1000, style=ProgressStyle(description…"
      ]
     },
     "metadata": {},
     "output_type": "display_data"
    },
    {
     "name": "stdout",
     "output_type": "stream",
     "text": [
      "\r"
     ]
    },
    {
     "data": {
      "application/javascript": [
       "/* Put everything inside the global mpl namespace */\n",
       "window.mpl = {};\n",
       "\n",
       "\n",
       "mpl.get_websocket_type = function() {\n",
       "    if (typeof(WebSocket) !== 'undefined') {\n",
       "        return WebSocket;\n",
       "    } else if (typeof(MozWebSocket) !== 'undefined') {\n",
       "        return MozWebSocket;\n",
       "    } else {\n",
       "        alert('Your browser does not have WebSocket support.' +\n",
       "              'Please try Chrome, Safari or Firefox ≥ 6. ' +\n",
       "              'Firefox 4 and 5 are also supported but you ' +\n",
       "              'have to enable WebSockets in about:config.');\n",
       "    };\n",
       "}\n",
       "\n",
       "mpl.figure = function(figure_id, websocket, ondownload, parent_element) {\n",
       "    this.id = figure_id;\n",
       "\n",
       "    this.ws = websocket;\n",
       "\n",
       "    this.supports_binary = (this.ws.binaryType != undefined);\n",
       "\n",
       "    if (!this.supports_binary) {\n",
       "        var warnings = document.getElementById(\"mpl-warnings\");\n",
       "        if (warnings) {\n",
       "            warnings.style.display = 'block';\n",
       "            warnings.textContent = (\n",
       "                \"This browser does not support binary websocket messages. \" +\n",
       "                    \"Performance may be slow.\");\n",
       "        }\n",
       "    }\n",
       "\n",
       "    this.imageObj = new Image();\n",
       "\n",
       "    this.context = undefined;\n",
       "    this.message = undefined;\n",
       "    this.canvas = undefined;\n",
       "    this.rubberband_canvas = undefined;\n",
       "    this.rubberband_context = undefined;\n",
       "    this.format_dropdown = undefined;\n",
       "\n",
       "    this.image_mode = 'full';\n",
       "\n",
       "    this.root = $('<div/>');\n",
       "    this._root_extra_style(this.root)\n",
       "    this.root.attr('style', 'display: inline-block');\n",
       "\n",
       "    $(parent_element).append(this.root);\n",
       "\n",
       "    this._init_header(this);\n",
       "    this._init_canvas(this);\n",
       "    this._init_toolbar(this);\n",
       "\n",
       "    var fig = this;\n",
       "\n",
       "    this.waiting = false;\n",
       "\n",
       "    this.ws.onopen =  function () {\n",
       "            fig.send_message(\"supports_binary\", {value: fig.supports_binary});\n",
       "            fig.send_message(\"send_image_mode\", {});\n",
       "            if (mpl.ratio != 1) {\n",
       "                fig.send_message(\"set_dpi_ratio\", {'dpi_ratio': mpl.ratio});\n",
       "            }\n",
       "            fig.send_message(\"refresh\", {});\n",
       "        }\n",
       "\n",
       "    this.imageObj.onload = function() {\n",
       "            if (fig.image_mode == 'full') {\n",
       "                // Full images could contain transparency (where diff images\n",
       "                // almost always do), so we need to clear the canvas so that\n",
       "                // there is no ghosting.\n",
       "                fig.context.clearRect(0, 0, fig.canvas.width, fig.canvas.height);\n",
       "            }\n",
       "            fig.context.drawImage(fig.imageObj, 0, 0);\n",
       "        };\n",
       "\n",
       "    this.imageObj.onunload = function() {\n",
       "        fig.ws.close();\n",
       "    }\n",
       "\n",
       "    this.ws.onmessage = this._make_on_message_function(this);\n",
       "\n",
       "    this.ondownload = ondownload;\n",
       "}\n",
       "\n",
       "mpl.figure.prototype._init_header = function() {\n",
       "    var titlebar = $(\n",
       "        '<div class=\"ui-dialog-titlebar ui-widget-header ui-corner-all ' +\n",
       "        'ui-helper-clearfix\"/>');\n",
       "    var titletext = $(\n",
       "        '<div class=\"ui-dialog-title\" style=\"width: 100%; ' +\n",
       "        'text-align: center; padding: 3px;\"/>');\n",
       "    titlebar.append(titletext)\n",
       "    this.root.append(titlebar);\n",
       "    this.header = titletext[0];\n",
       "}\n",
       "\n",
       "\n",
       "\n",
       "mpl.figure.prototype._canvas_extra_style = function(canvas_div) {\n",
       "\n",
       "}\n",
       "\n",
       "\n",
       "mpl.figure.prototype._root_extra_style = function(canvas_div) {\n",
       "\n",
       "}\n",
       "\n",
       "mpl.figure.prototype._init_canvas = function() {\n",
       "    var fig = this;\n",
       "\n",
       "    var canvas_div = $('<div/>');\n",
       "\n",
       "    canvas_div.attr('style', 'position: relative; clear: both; outline: 0');\n",
       "\n",
       "    function canvas_keyboard_event(event) {\n",
       "        return fig.key_event(event, event['data']);\n",
       "    }\n",
       "\n",
       "    canvas_div.keydown('key_press', canvas_keyboard_event);\n",
       "    canvas_div.keyup('key_release', canvas_keyboard_event);\n",
       "    this.canvas_div = canvas_div\n",
       "    this._canvas_extra_style(canvas_div)\n",
       "    this.root.append(canvas_div);\n",
       "\n",
       "    var canvas = $('<canvas/>');\n",
       "    canvas.addClass('mpl-canvas');\n",
       "    canvas.attr('style', \"left: 0; top: 0; z-index: 0; outline: 0\")\n",
       "\n",
       "    this.canvas = canvas[0];\n",
       "    this.context = canvas[0].getContext(\"2d\");\n",
       "\n",
       "    var backingStore = this.context.backingStorePixelRatio ||\n",
       "\tthis.context.webkitBackingStorePixelRatio ||\n",
       "\tthis.context.mozBackingStorePixelRatio ||\n",
       "\tthis.context.msBackingStorePixelRatio ||\n",
       "\tthis.context.oBackingStorePixelRatio ||\n",
       "\tthis.context.backingStorePixelRatio || 1;\n",
       "\n",
       "    mpl.ratio = (window.devicePixelRatio || 1) / backingStore;\n",
       "\n",
       "    var rubberband = $('<canvas/>');\n",
       "    rubberband.attr('style', \"position: absolute; left: 0; top: 0; z-index: 1;\")\n",
       "\n",
       "    var pass_mouse_events = true;\n",
       "\n",
       "    canvas_div.resizable({\n",
       "        start: function(event, ui) {\n",
       "            pass_mouse_events = false;\n",
       "        },\n",
       "        resize: function(event, ui) {\n",
       "            fig.request_resize(ui.size.width, ui.size.height);\n",
       "        },\n",
       "        stop: function(event, ui) {\n",
       "            pass_mouse_events = true;\n",
       "            fig.request_resize(ui.size.width, ui.size.height);\n",
       "        },\n",
       "    });\n",
       "\n",
       "    function mouse_event_fn(event) {\n",
       "        if (pass_mouse_events)\n",
       "            return fig.mouse_event(event, event['data']);\n",
       "    }\n",
       "\n",
       "    rubberband.mousedown('button_press', mouse_event_fn);\n",
       "    rubberband.mouseup('button_release', mouse_event_fn);\n",
       "    // Throttle sequential mouse events to 1 every 20ms.\n",
       "    rubberband.mousemove('motion_notify', mouse_event_fn);\n",
       "\n",
       "    rubberband.mouseenter('figure_enter', mouse_event_fn);\n",
       "    rubberband.mouseleave('figure_leave', mouse_event_fn);\n",
       "\n",
       "    canvas_div.on(\"wheel\", function (event) {\n",
       "        event = event.originalEvent;\n",
       "        event['data'] = 'scroll'\n",
       "        if (event.deltaY < 0) {\n",
       "            event.step = 1;\n",
       "        } else {\n",
       "            event.step = -1;\n",
       "        }\n",
       "        mouse_event_fn(event);\n",
       "    });\n",
       "\n",
       "    canvas_div.append(canvas);\n",
       "    canvas_div.append(rubberband);\n",
       "\n",
       "    this.rubberband = rubberband;\n",
       "    this.rubberband_canvas = rubberband[0];\n",
       "    this.rubberband_context = rubberband[0].getContext(\"2d\");\n",
       "    this.rubberband_context.strokeStyle = \"#000000\";\n",
       "\n",
       "    this._resize_canvas = function(width, height) {\n",
       "        // Keep the size of the canvas, canvas container, and rubber band\n",
       "        // canvas in synch.\n",
       "        canvas_div.css('width', width)\n",
       "        canvas_div.css('height', height)\n",
       "\n",
       "        canvas.attr('width', width * mpl.ratio);\n",
       "        canvas.attr('height', height * mpl.ratio);\n",
       "        canvas.attr('style', 'width: ' + width + 'px; height: ' + height + 'px;');\n",
       "\n",
       "        rubberband.attr('width', width);\n",
       "        rubberband.attr('height', height);\n",
       "    }\n",
       "\n",
       "    // Set the figure to an initial 600x600px, this will subsequently be updated\n",
       "    // upon first draw.\n",
       "    this._resize_canvas(600, 600);\n",
       "\n",
       "    // Disable right mouse context menu.\n",
       "    $(this.rubberband_canvas).bind(\"contextmenu\",function(e){\n",
       "        return false;\n",
       "    });\n",
       "\n",
       "    function set_focus () {\n",
       "        canvas.focus();\n",
       "        canvas_div.focus();\n",
       "    }\n",
       "\n",
       "    window.setTimeout(set_focus, 100);\n",
       "}\n",
       "\n",
       "mpl.figure.prototype._init_toolbar = function() {\n",
       "    var fig = this;\n",
       "\n",
       "    var nav_element = $('<div/>')\n",
       "    nav_element.attr('style', 'width: 100%');\n",
       "    this.root.append(nav_element);\n",
       "\n",
       "    // Define a callback function for later on.\n",
       "    function toolbar_event(event) {\n",
       "        return fig.toolbar_button_onclick(event['data']);\n",
       "    }\n",
       "    function toolbar_mouse_event(event) {\n",
       "        return fig.toolbar_button_onmouseover(event['data']);\n",
       "    }\n",
       "\n",
       "    for(var toolbar_ind in mpl.toolbar_items) {\n",
       "        var name = mpl.toolbar_items[toolbar_ind][0];\n",
       "        var tooltip = mpl.toolbar_items[toolbar_ind][1];\n",
       "        var image = mpl.toolbar_items[toolbar_ind][2];\n",
       "        var method_name = mpl.toolbar_items[toolbar_ind][3];\n",
       "\n",
       "        if (!name) {\n",
       "            // put a spacer in here.\n",
       "            continue;\n",
       "        }\n",
       "        var button = $('<button/>');\n",
       "        button.addClass('ui-button ui-widget ui-state-default ui-corner-all ' +\n",
       "                        'ui-button-icon-only');\n",
       "        button.attr('role', 'button');\n",
       "        button.attr('aria-disabled', 'false');\n",
       "        button.click(method_name, toolbar_event);\n",
       "        button.mouseover(tooltip, toolbar_mouse_event);\n",
       "\n",
       "        var icon_img = $('<span/>');\n",
       "        icon_img.addClass('ui-button-icon-primary ui-icon');\n",
       "        icon_img.addClass(image);\n",
       "        icon_img.addClass('ui-corner-all');\n",
       "\n",
       "        var tooltip_span = $('<span/>');\n",
       "        tooltip_span.addClass('ui-button-text');\n",
       "        tooltip_span.html(tooltip);\n",
       "\n",
       "        button.append(icon_img);\n",
       "        button.append(tooltip_span);\n",
       "\n",
       "        nav_element.append(button);\n",
       "    }\n",
       "\n",
       "    var fmt_picker_span = $('<span/>');\n",
       "\n",
       "    var fmt_picker = $('<select/>');\n",
       "    fmt_picker.addClass('mpl-toolbar-option ui-widget ui-widget-content');\n",
       "    fmt_picker_span.append(fmt_picker);\n",
       "    nav_element.append(fmt_picker_span);\n",
       "    this.format_dropdown = fmt_picker[0];\n",
       "\n",
       "    for (var ind in mpl.extensions) {\n",
       "        var fmt = mpl.extensions[ind];\n",
       "        var option = $(\n",
       "            '<option/>', {selected: fmt === mpl.default_extension}).html(fmt);\n",
       "        fmt_picker.append(option)\n",
       "    }\n",
       "\n",
       "    // Add hover states to the ui-buttons\n",
       "    $( \".ui-button\" ).hover(\n",
       "        function() { $(this).addClass(\"ui-state-hover\");},\n",
       "        function() { $(this).removeClass(\"ui-state-hover\");}\n",
       "    );\n",
       "\n",
       "    var status_bar = $('<span class=\"mpl-message\"/>');\n",
       "    nav_element.append(status_bar);\n",
       "    this.message = status_bar[0];\n",
       "}\n",
       "\n",
       "mpl.figure.prototype.request_resize = function(x_pixels, y_pixels) {\n",
       "    // Request matplotlib to resize the figure. Matplotlib will then trigger a resize in the client,\n",
       "    // which will in turn request a refresh of the image.\n",
       "    this.send_message('resize', {'width': x_pixels, 'height': y_pixels});\n",
       "}\n",
       "\n",
       "mpl.figure.prototype.send_message = function(type, properties) {\n",
       "    properties['type'] = type;\n",
       "    properties['figure_id'] = this.id;\n",
       "    this.ws.send(JSON.stringify(properties));\n",
       "}\n",
       "\n",
       "mpl.figure.prototype.send_draw_message = function() {\n",
       "    if (!this.waiting) {\n",
       "        this.waiting = true;\n",
       "        this.ws.send(JSON.stringify({type: \"draw\", figure_id: this.id}));\n",
       "    }\n",
       "}\n",
       "\n",
       "\n",
       "mpl.figure.prototype.handle_save = function(fig, msg) {\n",
       "    var format_dropdown = fig.format_dropdown;\n",
       "    var format = format_dropdown.options[format_dropdown.selectedIndex].value;\n",
       "    fig.ondownload(fig, format);\n",
       "}\n",
       "\n",
       "\n",
       "mpl.figure.prototype.handle_resize = function(fig, msg) {\n",
       "    var size = msg['size'];\n",
       "    if (size[0] != fig.canvas.width || size[1] != fig.canvas.height) {\n",
       "        fig._resize_canvas(size[0], size[1]);\n",
       "        fig.send_message(\"refresh\", {});\n",
       "    };\n",
       "}\n",
       "\n",
       "mpl.figure.prototype.handle_rubberband = function(fig, msg) {\n",
       "    var x0 = msg['x0'] / mpl.ratio;\n",
       "    var y0 = (fig.canvas.height - msg['y0']) / mpl.ratio;\n",
       "    var x1 = msg['x1'] / mpl.ratio;\n",
       "    var y1 = (fig.canvas.height - msg['y1']) / mpl.ratio;\n",
       "    x0 = Math.floor(x0) + 0.5;\n",
       "    y0 = Math.floor(y0) + 0.5;\n",
       "    x1 = Math.floor(x1) + 0.5;\n",
       "    y1 = Math.floor(y1) + 0.5;\n",
       "    var min_x = Math.min(x0, x1);\n",
       "    var min_y = Math.min(y0, y1);\n",
       "    var width = Math.abs(x1 - x0);\n",
       "    var height = Math.abs(y1 - y0);\n",
       "\n",
       "    fig.rubberband_context.clearRect(\n",
       "        0, 0, fig.canvas.width, fig.canvas.height);\n",
       "\n",
       "    fig.rubberband_context.strokeRect(min_x, min_y, width, height);\n",
       "}\n",
       "\n",
       "mpl.figure.prototype.handle_figure_label = function(fig, msg) {\n",
       "    // Updates the figure title.\n",
       "    fig.header.textContent = msg['label'];\n",
       "}\n",
       "\n",
       "mpl.figure.prototype.handle_cursor = function(fig, msg) {\n",
       "    var cursor = msg['cursor'];\n",
       "    switch(cursor)\n",
       "    {\n",
       "    case 0:\n",
       "        cursor = 'pointer';\n",
       "        break;\n",
       "    case 1:\n",
       "        cursor = 'default';\n",
       "        break;\n",
       "    case 2:\n",
       "        cursor = 'crosshair';\n",
       "        break;\n",
       "    case 3:\n",
       "        cursor = 'move';\n",
       "        break;\n",
       "    }\n",
       "    fig.rubberband_canvas.style.cursor = cursor;\n",
       "}\n",
       "\n",
       "mpl.figure.prototype.handle_message = function(fig, msg) {\n",
       "    fig.message.textContent = msg['message'];\n",
       "}\n",
       "\n",
       "mpl.figure.prototype.handle_draw = function(fig, msg) {\n",
       "    // Request the server to send over a new figure.\n",
       "    fig.send_draw_message();\n",
       "}\n",
       "\n",
       "mpl.figure.prototype.handle_image_mode = function(fig, msg) {\n",
       "    fig.image_mode = msg['mode'];\n",
       "}\n",
       "\n",
       "mpl.figure.prototype.updated_canvas_event = function() {\n",
       "    // Called whenever the canvas gets updated.\n",
       "    this.send_message(\"ack\", {});\n",
       "}\n",
       "\n",
       "// A function to construct a web socket function for onmessage handling.\n",
       "// Called in the figure constructor.\n",
       "mpl.figure.prototype._make_on_message_function = function(fig) {\n",
       "    return function socket_on_message(evt) {\n",
       "        if (evt.data instanceof Blob) {\n",
       "            /* FIXME: We get \"Resource interpreted as Image but\n",
       "             * transferred with MIME type text/plain:\" errors on\n",
       "             * Chrome.  But how to set the MIME type?  It doesn't seem\n",
       "             * to be part of the websocket stream */\n",
       "            evt.data.type = \"image/png\";\n",
       "\n",
       "            /* Free the memory for the previous frames */\n",
       "            if (fig.imageObj.src) {\n",
       "                (window.URL || window.webkitURL).revokeObjectURL(\n",
       "                    fig.imageObj.src);\n",
       "            }\n",
       "\n",
       "            fig.imageObj.src = (window.URL || window.webkitURL).createObjectURL(\n",
       "                evt.data);\n",
       "            fig.updated_canvas_event();\n",
       "            fig.waiting = false;\n",
       "            return;\n",
       "        }\n",
       "        else if (typeof evt.data === 'string' && evt.data.slice(0, 21) == \"data:image/png;base64\") {\n",
       "            fig.imageObj.src = evt.data;\n",
       "            fig.updated_canvas_event();\n",
       "            fig.waiting = false;\n",
       "            return;\n",
       "        }\n",
       "\n",
       "        var msg = JSON.parse(evt.data);\n",
       "        var msg_type = msg['type'];\n",
       "\n",
       "        // Call the  \"handle_{type}\" callback, which takes\n",
       "        // the figure and JSON message as its only arguments.\n",
       "        try {\n",
       "            var callback = fig[\"handle_\" + msg_type];\n",
       "        } catch (e) {\n",
       "            console.log(\"No handler for the '\" + msg_type + \"' message type: \", msg);\n",
       "            return;\n",
       "        }\n",
       "\n",
       "        if (callback) {\n",
       "            try {\n",
       "                // console.log(\"Handling '\" + msg_type + \"' message: \", msg);\n",
       "                callback(fig, msg);\n",
       "            } catch (e) {\n",
       "                console.log(\"Exception inside the 'handler_\" + msg_type + \"' callback:\", e, e.stack, msg);\n",
       "            }\n",
       "        }\n",
       "    };\n",
       "}\n",
       "\n",
       "// from http://stackoverflow.com/questions/1114465/getting-mouse-location-in-canvas\n",
       "mpl.findpos = function(e) {\n",
       "    //this section is from http://www.quirksmode.org/js/events_properties.html\n",
       "    var targ;\n",
       "    if (!e)\n",
       "        e = window.event;\n",
       "    if (e.target)\n",
       "        targ = e.target;\n",
       "    else if (e.srcElement)\n",
       "        targ = e.srcElement;\n",
       "    if (targ.nodeType == 3) // defeat Safari bug\n",
       "        targ = targ.parentNode;\n",
       "\n",
       "    // jQuery normalizes the pageX and pageY\n",
       "    // pageX,Y are the mouse positions relative to the document\n",
       "    // offset() returns the position of the element relative to the document\n",
       "    var x = e.pageX - $(targ).offset().left;\n",
       "    var y = e.pageY - $(targ).offset().top;\n",
       "\n",
       "    return {\"x\": x, \"y\": y};\n",
       "};\n",
       "\n",
       "/*\n",
       " * return a copy of an object with only non-object keys\n",
       " * we need this to avoid circular references\n",
       " * http://stackoverflow.com/a/24161582/3208463\n",
       " */\n",
       "function simpleKeys (original) {\n",
       "  return Object.keys(original).reduce(function (obj, key) {\n",
       "    if (typeof original[key] !== 'object')\n",
       "        obj[key] = original[key]\n",
       "    return obj;\n",
       "  }, {});\n",
       "}\n",
       "\n",
       "mpl.figure.prototype.mouse_event = function(event, name) {\n",
       "    var canvas_pos = mpl.findpos(event)\n",
       "\n",
       "    if (name === 'button_press')\n",
       "    {\n",
       "        this.canvas.focus();\n",
       "        this.canvas_div.focus();\n",
       "    }\n",
       "\n",
       "    var x = canvas_pos.x * mpl.ratio;\n",
       "    var y = canvas_pos.y * mpl.ratio;\n",
       "\n",
       "    this.send_message(name, {x: x, y: y, button: event.button,\n",
       "                             step: event.step,\n",
       "                             guiEvent: simpleKeys(event)});\n",
       "\n",
       "    /* This prevents the web browser from automatically changing to\n",
       "     * the text insertion cursor when the button is pressed.  We want\n",
       "     * to control all of the cursor setting manually through the\n",
       "     * 'cursor' event from matplotlib */\n",
       "    event.preventDefault();\n",
       "    return false;\n",
       "}\n",
       "\n",
       "mpl.figure.prototype._key_event_extra = function(event, name) {\n",
       "    // Handle any extra behaviour associated with a key event\n",
       "}\n",
       "\n",
       "mpl.figure.prototype.key_event = function(event, name) {\n",
       "\n",
       "    // Prevent repeat events\n",
       "    if (name == 'key_press')\n",
       "    {\n",
       "        if (event.which === this._key)\n",
       "            return;\n",
       "        else\n",
       "            this._key = event.which;\n",
       "    }\n",
       "    if (name == 'key_release')\n",
       "        this._key = null;\n",
       "\n",
       "    var value = '';\n",
       "    if (event.ctrlKey && event.which != 17)\n",
       "        value += \"ctrl+\";\n",
       "    if (event.altKey && event.which != 18)\n",
       "        value += \"alt+\";\n",
       "    if (event.shiftKey && event.which != 16)\n",
       "        value += \"shift+\";\n",
       "\n",
       "    value += 'k';\n",
       "    value += event.which.toString();\n",
       "\n",
       "    this._key_event_extra(event, name);\n",
       "\n",
       "    this.send_message(name, {key: value,\n",
       "                             guiEvent: simpleKeys(event)});\n",
       "    return false;\n",
       "}\n",
       "\n",
       "mpl.figure.prototype.toolbar_button_onclick = function(name) {\n",
       "    if (name == 'download') {\n",
       "        this.handle_save(this, null);\n",
       "    } else {\n",
       "        this.send_message(\"toolbar_button\", {name: name});\n",
       "    }\n",
       "};\n",
       "\n",
       "mpl.figure.prototype.toolbar_button_onmouseover = function(tooltip) {\n",
       "    this.message.textContent = tooltip;\n",
       "};\n",
       "mpl.toolbar_items = [[\"Home\", \"Reset original view\", \"fa fa-home icon-home\", \"home\"], [\"Back\", \"Back to previous view\", \"fa fa-arrow-left icon-arrow-left\", \"back\"], [\"Forward\", \"Forward to next view\", \"fa fa-arrow-right icon-arrow-right\", \"forward\"], [\"\", \"\", \"\", \"\"], [\"Pan\", \"Pan axes with left mouse, zoom with right\", \"fa fa-arrows icon-move\", \"pan\"], [\"Zoom\", \"Zoom to rectangle\", \"fa fa-square-o icon-check-empty\", \"zoom\"], [\"\", \"\", \"\", \"\"], [\"Download\", \"Download plot\", \"fa fa-floppy-o icon-save\", \"download\"]];\n",
       "\n",
       "mpl.extensions = [\"eps\", \"jpeg\", \"pdf\", \"png\", \"ps\", \"raw\", \"svg\", \"tif\"];\n",
       "\n",
       "mpl.default_extension = \"png\";var comm_websocket_adapter = function(comm) {\n",
       "    // Create a \"websocket\"-like object which calls the given IPython comm\n",
       "    // object with the appropriate methods. Currently this is a non binary\n",
       "    // socket, so there is still some room for performance tuning.\n",
       "    var ws = {};\n",
       "\n",
       "    ws.close = function() {\n",
       "        comm.close()\n",
       "    };\n",
       "    ws.send = function(m) {\n",
       "        //console.log('sending', m);\n",
       "        comm.send(m);\n",
       "    };\n",
       "    // Register the callback with on_msg.\n",
       "    comm.on_msg(function(msg) {\n",
       "        //console.log('receiving', msg['content']['data'], msg);\n",
       "        // Pass the mpl event to the overridden (by mpl) onmessage function.\n",
       "        ws.onmessage(msg['content']['data'])\n",
       "    });\n",
       "    return ws;\n",
       "}\n",
       "\n",
       "mpl.mpl_figure_comm = function(comm, msg) {\n",
       "    // This is the function which gets called when the mpl process\n",
       "    // starts-up an IPython Comm through the \"matplotlib\" channel.\n",
       "\n",
       "    var id = msg.content.data.id;\n",
       "    // Get hold of the div created by the display call when the Comm\n",
       "    // socket was opened in Python.\n",
       "    var element = $(\"#\" + id);\n",
       "    var ws_proxy = comm_websocket_adapter(comm)\n",
       "\n",
       "    function ondownload(figure, format) {\n",
       "        window.open(figure.imageObj.src);\n",
       "    }\n",
       "\n",
       "    var fig = new mpl.figure(id, ws_proxy,\n",
       "                           ondownload,\n",
       "                           element.get(0));\n",
       "\n",
       "    // Call onopen now - mpl needs it, as it is assuming we've passed it a real\n",
       "    // web socket which is closed, not our websocket->open comm proxy.\n",
       "    ws_proxy.onopen();\n",
       "\n",
       "    fig.parent_element = element.get(0);\n",
       "    fig.cell_info = mpl.find_output_cell(\"<div id='\" + id + \"'></div>\");\n",
       "    if (!fig.cell_info) {\n",
       "        console.error(\"Failed to find cell for figure\", id, fig);\n",
       "        return;\n",
       "    }\n",
       "\n",
       "    var output_index = fig.cell_info[2]\n",
       "    var cell = fig.cell_info[0];\n",
       "\n",
       "};\n",
       "\n",
       "mpl.figure.prototype.handle_close = function(fig, msg) {\n",
       "    var width = fig.canvas.width/mpl.ratio\n",
       "    fig.root.unbind('remove')\n",
       "\n",
       "    // Update the output cell to use the data from the current canvas.\n",
       "    fig.push_to_output();\n",
       "    var dataURL = fig.canvas.toDataURL();\n",
       "    // Re-enable the keyboard manager in IPython - without this line, in FF,\n",
       "    // the notebook keyboard shortcuts fail.\n",
       "    IPython.keyboard_manager.enable()\n",
       "    $(fig.parent_element).html('<img src=\"' + dataURL + '\" width=\"' + width + '\">');\n",
       "    fig.close_ws(fig, msg);\n",
       "}\n",
       "\n",
       "mpl.figure.prototype.close_ws = function(fig, msg){\n",
       "    fig.send_message('closing', msg);\n",
       "    // fig.ws.close()\n",
       "}\n",
       "\n",
       "mpl.figure.prototype.push_to_output = function(remove_interactive) {\n",
       "    // Turn the data on the canvas into data in the output cell.\n",
       "    var width = this.canvas.width/mpl.ratio\n",
       "    var dataURL = this.canvas.toDataURL();\n",
       "    this.cell_info[1]['text/html'] = '<img src=\"' + dataURL + '\" width=\"' + width + '\">';\n",
       "}\n",
       "\n",
       "mpl.figure.prototype.updated_canvas_event = function() {\n",
       "    // Tell IPython that the notebook contents must change.\n",
       "    IPython.notebook.set_dirty(true);\n",
       "    this.send_message(\"ack\", {});\n",
       "    var fig = this;\n",
       "    // Wait a second, then push the new image to the DOM so\n",
       "    // that it is saved nicely (might be nice to debounce this).\n",
       "    setTimeout(function () { fig.push_to_output() }, 1000);\n",
       "}\n",
       "\n",
       "mpl.figure.prototype._init_toolbar = function() {\n",
       "    var fig = this;\n",
       "\n",
       "    var nav_element = $('<div/>')\n",
       "    nav_element.attr('style', 'width: 100%');\n",
       "    this.root.append(nav_element);\n",
       "\n",
       "    // Define a callback function for later on.\n",
       "    function toolbar_event(event) {\n",
       "        return fig.toolbar_button_onclick(event['data']);\n",
       "    }\n",
       "    function toolbar_mouse_event(event) {\n",
       "        return fig.toolbar_button_onmouseover(event['data']);\n",
       "    }\n",
       "\n",
       "    for(var toolbar_ind in mpl.toolbar_items){\n",
       "        var name = mpl.toolbar_items[toolbar_ind][0];\n",
       "        var tooltip = mpl.toolbar_items[toolbar_ind][1];\n",
       "        var image = mpl.toolbar_items[toolbar_ind][2];\n",
       "        var method_name = mpl.toolbar_items[toolbar_ind][3];\n",
       "\n",
       "        if (!name) { continue; };\n",
       "\n",
       "        var button = $('<button class=\"btn btn-default\" href=\"#\" title=\"' + name + '\"><i class=\"fa ' + image + ' fa-lg\"></i></button>');\n",
       "        button.click(method_name, toolbar_event);\n",
       "        button.mouseover(tooltip, toolbar_mouse_event);\n",
       "        nav_element.append(button);\n",
       "    }\n",
       "\n",
       "    // Add the status bar.\n",
       "    var status_bar = $('<span class=\"mpl-message\" style=\"text-align:right; float: right;\"/>');\n",
       "    nav_element.append(status_bar);\n",
       "    this.message = status_bar[0];\n",
       "\n",
       "    // Add the close button to the window.\n",
       "    var buttongrp = $('<div class=\"btn-group inline pull-right\"></div>');\n",
       "    var button = $('<button class=\"btn btn-mini btn-primary\" href=\"#\" title=\"Stop Interaction\"><i class=\"fa fa-power-off icon-remove icon-large\"></i></button>');\n",
       "    button.click(function (evt) { fig.handle_close(fig, {}); } );\n",
       "    button.mouseover('Stop Interaction', toolbar_mouse_event);\n",
       "    buttongrp.append(button);\n",
       "    var titlebar = this.root.find($('.ui-dialog-titlebar'));\n",
       "    titlebar.prepend(buttongrp);\n",
       "}\n",
       "\n",
       "mpl.figure.prototype._root_extra_style = function(el){\n",
       "    var fig = this\n",
       "    el.on(\"remove\", function(){\n",
       "\tfig.close_ws(fig, {});\n",
       "    });\n",
       "}\n",
       "\n",
       "mpl.figure.prototype._canvas_extra_style = function(el){\n",
       "    // this is important to make the div 'focusable\n",
       "    el.attr('tabindex', 0)\n",
       "    // reach out to IPython and tell the keyboard manager to turn it's self\n",
       "    // off when our div gets focus\n",
       "\n",
       "    // location in version 3\n",
       "    if (IPython.notebook.keyboard_manager) {\n",
       "        IPython.notebook.keyboard_manager.register_events(el);\n",
       "    }\n",
       "    else {\n",
       "        // location in version 2\n",
       "        IPython.keyboard_manager.register_events(el);\n",
       "    }\n",
       "\n",
       "}\n",
       "\n",
       "mpl.figure.prototype._key_event_extra = function(event, name) {\n",
       "    var manager = IPython.notebook.keyboard_manager;\n",
       "    if (!manager)\n",
       "        manager = IPython.keyboard_manager;\n",
       "\n",
       "    // Check for shift+enter\n",
       "    if (event.shiftKey && event.which == 13) {\n",
       "        this.canvas_div.blur();\n",
       "        event.shiftKey = false;\n",
       "        // Send a \"J\" for go to next cell\n",
       "        event.which = 74;\n",
       "        event.keyCode = 74;\n",
       "        manager.command_mode();\n",
       "        manager.handle_keydown(event);\n",
       "    }\n",
       "}\n",
       "\n",
       "mpl.figure.prototype.handle_save = function(fig, msg) {\n",
       "    fig.ondownload(fig, null);\n",
       "}\n",
       "\n",
       "\n",
       "mpl.find_output_cell = function(html_output) {\n",
       "    // Return the cell and output element which can be found *uniquely* in the notebook.\n",
       "    // Note - this is a bit hacky, but it is done because the \"notebook_saving.Notebook\"\n",
       "    // IPython event is triggered only after the cells have been serialised, which for\n",
       "    // our purposes (turning an active figure into a static one), is too late.\n",
       "    var cells = IPython.notebook.get_cells();\n",
       "    var ncells = cells.length;\n",
       "    for (var i=0; i<ncells; i++) {\n",
       "        var cell = cells[i];\n",
       "        if (cell.cell_type === 'code'){\n",
       "            for (var j=0; j<cell.output_area.outputs.length; j++) {\n",
       "                var data = cell.output_area.outputs[j];\n",
       "                if (data.data) {\n",
       "                    // IPython >= 3 moved mimebundle to data attribute of output\n",
       "                    data = data.data;\n",
       "                }\n",
       "                if (data['text/html'] == html_output) {\n",
       "                    return [cell, data, j];\n",
       "                }\n",
       "            }\n",
       "        }\n",
       "    }\n",
       "}\n",
       "\n",
       "// Register the function which deals with the matplotlib target/channel.\n",
       "// The kernel may be null if the page has been refreshed.\n",
       "if (IPython.notebook.kernel != null) {\n",
       "    IPython.notebook.kernel.comm_manager.register_target('matplotlib', mpl.mpl_figure_comm);\n",
       "}\n"
      ],
      "text/plain": [
       "<IPython.core.display.Javascript object>"
      ]
     },
     "metadata": {},
     "output_type": "display_data"
    },
    {
     "data": {
      "text/html": [
       "<img src=\"data:image/png;base64,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\" width=\"640\">"
      ],
      "text/plain": [
       "<IPython.core.display.HTML object>"
      ]
     },
     "metadata": {},
     "output_type": "display_data"
    }
   ],
   "source": [
    "%matplotlib notebook\n",
    "sir_model.variance()"
   ]
  },
  {
   "cell_type": "markdown",
   "metadata": {},
   "source": [
    "#### Initilisation Model 2 (Cut for Wave Variance)"
   ]
  },
  {
   "cell_type": "code",
   "execution_count": 12,
   "metadata": {},
   "outputs": [],
   "source": [
    "N           = 20                            # lattice size\n",
    "p1, p2, p3  = 0.05, 0.5, 0.5                # p for visualisation\n",
    "S0, I0, R0  = 0.5, 0.3, 0.2                 # initial fraction of S, I, R\n",
    "equistep    = 100                           # equilibrate sweep (No system equilibration in this case)\n",
    "calcstep    = 10000                         # measurement sweep\n",
    "factor      = int(calcstep/10)              # because of 'if (j%10 == 0):' in 'analyse' fn\n",
    "\n",
    "p = [p1, p2, p3]\n",
    "fraction = [S0, I0, R0]\n",
    "\n",
    "np.random.seed(0)\n",
    "sir_model_2 = ca_utils.SIR(N, fraction, p, factor, equistep, calcstep)"
   ]
  },
  {
   "cell_type": "markdown",
   "metadata": {},
   "source": [
    "- Method behavior\n",
    "    - Cut for Wave Variance"
   ]
  },
  {
   "cell_type": "code",
   "execution_count": 13,
   "metadata": {
    "scrolled": false
   },
   "outputs": [
    {
     "data": {
      "application/vnd.jupyter.widget-view+json": {
       "model_id": "",
       "version_major": 2,
       "version_minor": 0
      },
      "text/plain": [
       "HBox(children=(IntProgress(value=1, bar_style='info', description='Col', max=1, style=ProgressStyle(descriptio…"
      ]
     },
     "metadata": {},
     "output_type": "display_data"
    },
    {
     "data": {
      "application/vnd.jupyter.widget-view+json": {
       "model_id": "",
       "version_major": 2,
       "version_minor": 0
      },
      "text/plain": [
       "HBox(children=(IntProgress(value=0, description='Measurement sweep', max=10000, style=ProgressStyle(descriptio…"
      ]
     },
     "metadata": {},
     "output_type": "display_data"
    },
    {
     "data": {
      "application/vnd.jupyter.widget-view+json": {
       "model_id": "",
       "version_major": 2,
       "version_minor": 0
      },
      "text/plain": [
       "HBox(children=(IntProgress(value=0, description='Measurement sweep', max=10000, style=ProgressStyle(descriptio…"
      ]
     },
     "metadata": {},
     "output_type": "display_data"
    },
    {
     "data": {
      "application/vnd.jupyter.widget-view+json": {
       "model_id": "",
       "version_major": 2,
       "version_minor": 0
      },
      "text/plain": [
       "HBox(children=(IntProgress(value=0, description='Measurement sweep', max=10000, style=ProgressStyle(descriptio…"
      ]
     },
     "metadata": {},
     "output_type": "display_data"
    },
    {
     "data": {
      "application/vnd.jupyter.widget-view+json": {
       "model_id": "",
       "version_major": 2,
       "version_minor": 0
      },
      "text/plain": [
       "HBox(children=(IntProgress(value=0, description='Measurement sweep', max=10000, style=ProgressStyle(descriptio…"
      ]
     },
     "metadata": {},
     "output_type": "display_data"
    },
    {
     "data": {
      "application/vnd.jupyter.widget-view+json": {
       "model_id": "",
       "version_major": 2,
       "version_minor": 0
      },
      "text/plain": [
       "HBox(children=(IntProgress(value=0, description='Measurement sweep', max=10000, style=ProgressStyle(descriptio…"
      ]
     },
     "metadata": {},
     "output_type": "display_data"
    },
    {
     "data": {
      "application/vnd.jupyter.widget-view+json": {
       "model_id": "",
       "version_major": 2,
       "version_minor": 0
      },
      "text/plain": [
       "HBox(children=(IntProgress(value=0, description='Measurement sweep', max=10000, style=ProgressStyle(descriptio…"
      ]
     },
     "metadata": {},
     "output_type": "display_data"
    },
    {
     "data": {
      "application/vnd.jupyter.widget-view+json": {
       "model_id": "",
       "version_major": 2,
       "version_minor": 0
      },
      "text/plain": [
       "HBox(children=(IntProgress(value=0, description='Measurement sweep', max=10000, style=ProgressStyle(descriptio…"
      ]
     },
     "metadata": {},
     "output_type": "display_data"
    },
    {
     "data": {
      "application/vnd.jupyter.widget-view+json": {
       "model_id": "",
       "version_major": 2,
       "version_minor": 0
      },
      "text/plain": [
       "HBox(children=(IntProgress(value=0, description='Measurement sweep', max=10000, style=ProgressStyle(descriptio…"
      ]
     },
     "metadata": {},
     "output_type": "display_data"
    },
    {
     "data": {
      "application/vnd.jupyter.widget-view+json": {
       "model_id": "",
       "version_major": 2,
       "version_minor": 0
      },
      "text/plain": [
       "HBox(children=(IntProgress(value=0, description='Measurement sweep', max=10000, style=ProgressStyle(descriptio…"
      ]
     },
     "metadata": {},
     "output_type": "display_data"
    },
    {
     "data": {
      "application/vnd.jupyter.widget-view+json": {
       "model_id": "",
       "version_major": 2,
       "version_minor": 0
      },
      "text/plain": [
       "HBox(children=(IntProgress(value=0, description='Measurement sweep', max=10000, style=ProgressStyle(descriptio…"
      ]
     },
     "metadata": {},
     "output_type": "display_data"
    },
    {
     "data": {
      "application/vnd.jupyter.widget-view+json": {
       "model_id": "",
       "version_major": 2,
       "version_minor": 0
      },
      "text/plain": [
       "HBox(children=(IntProgress(value=0, description='Measurement sweep', max=10000, style=ProgressStyle(descriptio…"
      ]
     },
     "metadata": {},
     "output_type": "display_data"
    },
    {
     "data": {
      "application/vnd.jupyter.widget-view+json": {
       "model_id": "",
       "version_major": 2,
       "version_minor": 0
      },
      "text/plain": [
       "HBox(children=(IntProgress(value=0, description='Measurement sweep', max=10000, style=ProgressStyle(descriptio…"
      ]
     },
     "metadata": {},
     "output_type": "display_data"
    },
    {
     "data": {
      "application/vnd.jupyter.widget-view+json": {
       "model_id": "",
       "version_major": 2,
       "version_minor": 0
      },
      "text/plain": [
       "HBox(children=(IntProgress(value=0, description='Measurement sweep', max=10000, style=ProgressStyle(descriptio…"
      ]
     },
     "metadata": {},
     "output_type": "display_data"
    },
    {
     "data": {
      "application/vnd.jupyter.widget-view+json": {
       "model_id": "",
       "version_major": 2,
       "version_minor": 0
      },
      "text/plain": [
       "HBox(children=(IntProgress(value=0, description='Measurement sweep', max=10000, style=ProgressStyle(descriptio…"
      ]
     },
     "metadata": {},
     "output_type": "display_data"
    },
    {
     "data": {
      "application/vnd.jupyter.widget-view+json": {
       "model_id": "",
       "version_major": 2,
       "version_minor": 0
      },
      "text/plain": [
       "HBox(children=(IntProgress(value=0, description='Measurement sweep', max=10000, style=ProgressStyle(descriptio…"
      ]
     },
     "metadata": {},
     "output_type": "display_data"
    },
    {
     "data": {
      "application/vnd.jupyter.widget-view+json": {
       "model_id": "",
       "version_major": 2,
       "version_minor": 0
      },
      "text/plain": [
       "HBox(children=(IntProgress(value=0, description='Measurement sweep', max=10000, style=ProgressStyle(descriptio…"
      ]
     },
     "metadata": {},
     "output_type": "display_data"
    },
    {
     "data": {
      "application/vnd.jupyter.widget-view+json": {
       "model_id": "",
       "version_major": 2,
       "version_minor": 0
      },
      "text/plain": [
       "HBox(children=(IntProgress(value=0, description='Measurement sweep', max=10000, style=ProgressStyle(descriptio…"
      ]
     },
     "metadata": {},
     "output_type": "display_data"
    },
    {
     "data": {
      "application/vnd.jupyter.widget-view+json": {
       "model_id": "",
       "version_major": 2,
       "version_minor": 0
      },
      "text/plain": [
       "HBox(children=(IntProgress(value=0, description='Measurement sweep', max=10000, style=ProgressStyle(descriptio…"
      ]
     },
     "metadata": {},
     "output_type": "display_data"
    },
    {
     "data": {
      "application/vnd.jupyter.widget-view+json": {
       "model_id": "",
       "version_major": 2,
       "version_minor": 0
      },
      "text/plain": [
       "HBox(children=(IntProgress(value=0, description='Measurement sweep', max=10000, style=ProgressStyle(descriptio…"
      ]
     },
     "metadata": {},
     "output_type": "display_data"
    },
    {
     "data": {
      "application/vnd.jupyter.widget-view+json": {
       "model_id": "",
       "version_major": 2,
       "version_minor": 0
      },
      "text/plain": [
       "HBox(children=(IntProgress(value=0, description='Measurement sweep', max=10000, style=ProgressStyle(descriptio…"
      ]
     },
     "metadata": {},
     "output_type": "display_data"
    },
    {
     "name": "stdout",
     "output_type": "stream",
     "text": [
      "\r"
     ]
    },
    {
     "data": {
      "application/javascript": [
       "/* Put everything inside the global mpl namespace */\n",
       "window.mpl = {};\n",
       "\n",
       "\n",
       "mpl.get_websocket_type = function() {\n",
       "    if (typeof(WebSocket) !== 'undefined') {\n",
       "        return WebSocket;\n",
       "    } else if (typeof(MozWebSocket) !== 'undefined') {\n",
       "        return MozWebSocket;\n",
       "    } else {\n",
       "        alert('Your browser does not have WebSocket support.' +\n",
       "              'Please try Chrome, Safari or Firefox ≥ 6. ' +\n",
       "              'Firefox 4 and 5 are also supported but you ' +\n",
       "              'have to enable WebSockets in about:config.');\n",
       "    };\n",
       "}\n",
       "\n",
       "mpl.figure = function(figure_id, websocket, ondownload, parent_element) {\n",
       "    this.id = figure_id;\n",
       "\n",
       "    this.ws = websocket;\n",
       "\n",
       "    this.supports_binary = (this.ws.binaryType != undefined);\n",
       "\n",
       "    if (!this.supports_binary) {\n",
       "        var warnings = document.getElementById(\"mpl-warnings\");\n",
       "        if (warnings) {\n",
       "            warnings.style.display = 'block';\n",
       "            warnings.textContent = (\n",
       "                \"This browser does not support binary websocket messages. \" +\n",
       "                    \"Performance may be slow.\");\n",
       "        }\n",
       "    }\n",
       "\n",
       "    this.imageObj = new Image();\n",
       "\n",
       "    this.context = undefined;\n",
       "    this.message = undefined;\n",
       "    this.canvas = undefined;\n",
       "    this.rubberband_canvas = undefined;\n",
       "    this.rubberband_context = undefined;\n",
       "    this.format_dropdown = undefined;\n",
       "\n",
       "    this.image_mode = 'full';\n",
       "\n",
       "    this.root = $('<div/>');\n",
       "    this._root_extra_style(this.root)\n",
       "    this.root.attr('style', 'display: inline-block');\n",
       "\n",
       "    $(parent_element).append(this.root);\n",
       "\n",
       "    this._init_header(this);\n",
       "    this._init_canvas(this);\n",
       "    this._init_toolbar(this);\n",
       "\n",
       "    var fig = this;\n",
       "\n",
       "    this.waiting = false;\n",
       "\n",
       "    this.ws.onopen =  function () {\n",
       "            fig.send_message(\"supports_binary\", {value: fig.supports_binary});\n",
       "            fig.send_message(\"send_image_mode\", {});\n",
       "            if (mpl.ratio != 1) {\n",
       "                fig.send_message(\"set_dpi_ratio\", {'dpi_ratio': mpl.ratio});\n",
       "            }\n",
       "            fig.send_message(\"refresh\", {});\n",
       "        }\n",
       "\n",
       "    this.imageObj.onload = function() {\n",
       "            if (fig.image_mode == 'full') {\n",
       "                // Full images could contain transparency (where diff images\n",
       "                // almost always do), so we need to clear the canvas so that\n",
       "                // there is no ghosting.\n",
       "                fig.context.clearRect(0, 0, fig.canvas.width, fig.canvas.height);\n",
       "            }\n",
       "            fig.context.drawImage(fig.imageObj, 0, 0);\n",
       "        };\n",
       "\n",
       "    this.imageObj.onunload = function() {\n",
       "        fig.ws.close();\n",
       "    }\n",
       "\n",
       "    this.ws.onmessage = this._make_on_message_function(this);\n",
       "\n",
       "    this.ondownload = ondownload;\n",
       "}\n",
       "\n",
       "mpl.figure.prototype._init_header = function() {\n",
       "    var titlebar = $(\n",
       "        '<div class=\"ui-dialog-titlebar ui-widget-header ui-corner-all ' +\n",
       "        'ui-helper-clearfix\"/>');\n",
       "    var titletext = $(\n",
       "        '<div class=\"ui-dialog-title\" style=\"width: 100%; ' +\n",
       "        'text-align: center; padding: 3px;\"/>');\n",
       "    titlebar.append(titletext)\n",
       "    this.root.append(titlebar);\n",
       "    this.header = titletext[0];\n",
       "}\n",
       "\n",
       "\n",
       "\n",
       "mpl.figure.prototype._canvas_extra_style = function(canvas_div) {\n",
       "\n",
       "}\n",
       "\n",
       "\n",
       "mpl.figure.prototype._root_extra_style = function(canvas_div) {\n",
       "\n",
       "}\n",
       "\n",
       "mpl.figure.prototype._init_canvas = function() {\n",
       "    var fig = this;\n",
       "\n",
       "    var canvas_div = $('<div/>');\n",
       "\n",
       "    canvas_div.attr('style', 'position: relative; clear: both; outline: 0');\n",
       "\n",
       "    function canvas_keyboard_event(event) {\n",
       "        return fig.key_event(event, event['data']);\n",
       "    }\n",
       "\n",
       "    canvas_div.keydown('key_press', canvas_keyboard_event);\n",
       "    canvas_div.keyup('key_release', canvas_keyboard_event);\n",
       "    this.canvas_div = canvas_div\n",
       "    this._canvas_extra_style(canvas_div)\n",
       "    this.root.append(canvas_div);\n",
       "\n",
       "    var canvas = $('<canvas/>');\n",
       "    canvas.addClass('mpl-canvas');\n",
       "    canvas.attr('style', \"left: 0; top: 0; z-index: 0; outline: 0\")\n",
       "\n",
       "    this.canvas = canvas[0];\n",
       "    this.context = canvas[0].getContext(\"2d\");\n",
       "\n",
       "    var backingStore = this.context.backingStorePixelRatio ||\n",
       "\tthis.context.webkitBackingStorePixelRatio ||\n",
       "\tthis.context.mozBackingStorePixelRatio ||\n",
       "\tthis.context.msBackingStorePixelRatio ||\n",
       "\tthis.context.oBackingStorePixelRatio ||\n",
       "\tthis.context.backingStorePixelRatio || 1;\n",
       "\n",
       "    mpl.ratio = (window.devicePixelRatio || 1) / backingStore;\n",
       "\n",
       "    var rubberband = $('<canvas/>');\n",
       "    rubberband.attr('style', \"position: absolute; left: 0; top: 0; z-index: 1;\")\n",
       "\n",
       "    var pass_mouse_events = true;\n",
       "\n",
       "    canvas_div.resizable({\n",
       "        start: function(event, ui) {\n",
       "            pass_mouse_events = false;\n",
       "        },\n",
       "        resize: function(event, ui) {\n",
       "            fig.request_resize(ui.size.width, ui.size.height);\n",
       "        },\n",
       "        stop: function(event, ui) {\n",
       "            pass_mouse_events = true;\n",
       "            fig.request_resize(ui.size.width, ui.size.height);\n",
       "        },\n",
       "    });\n",
       "\n",
       "    function mouse_event_fn(event) {\n",
       "        if (pass_mouse_events)\n",
       "            return fig.mouse_event(event, event['data']);\n",
       "    }\n",
       "\n",
       "    rubberband.mousedown('button_press', mouse_event_fn);\n",
       "    rubberband.mouseup('button_release', mouse_event_fn);\n",
       "    // Throttle sequential mouse events to 1 every 20ms.\n",
       "    rubberband.mousemove('motion_notify', mouse_event_fn);\n",
       "\n",
       "    rubberband.mouseenter('figure_enter', mouse_event_fn);\n",
       "    rubberband.mouseleave('figure_leave', mouse_event_fn);\n",
       "\n",
       "    canvas_div.on(\"wheel\", function (event) {\n",
       "        event = event.originalEvent;\n",
       "        event['data'] = 'scroll'\n",
       "        if (event.deltaY < 0) {\n",
       "            event.step = 1;\n",
       "        } else {\n",
       "            event.step = -1;\n",
       "        }\n",
       "        mouse_event_fn(event);\n",
       "    });\n",
       "\n",
       "    canvas_div.append(canvas);\n",
       "    canvas_div.append(rubberband);\n",
       "\n",
       "    this.rubberband = rubberband;\n",
       "    this.rubberband_canvas = rubberband[0];\n",
       "    this.rubberband_context = rubberband[0].getContext(\"2d\");\n",
       "    this.rubberband_context.strokeStyle = \"#000000\";\n",
       "\n",
       "    this._resize_canvas = function(width, height) {\n",
       "        // Keep the size of the canvas, canvas container, and rubber band\n",
       "        // canvas in synch.\n",
       "        canvas_div.css('width', width)\n",
       "        canvas_div.css('height', height)\n",
       "\n",
       "        canvas.attr('width', width * mpl.ratio);\n",
       "        canvas.attr('height', height * mpl.ratio);\n",
       "        canvas.attr('style', 'width: ' + width + 'px; height: ' + height + 'px;');\n",
       "\n",
       "        rubberband.attr('width', width);\n",
       "        rubberband.attr('height', height);\n",
       "    }\n",
       "\n",
       "    // Set the figure to an initial 600x600px, this will subsequently be updated\n",
       "    // upon first draw.\n",
       "    this._resize_canvas(600, 600);\n",
       "\n",
       "    // Disable right mouse context menu.\n",
       "    $(this.rubberband_canvas).bind(\"contextmenu\",function(e){\n",
       "        return false;\n",
       "    });\n",
       "\n",
       "    function set_focus () {\n",
       "        canvas.focus();\n",
       "        canvas_div.focus();\n",
       "    }\n",
       "\n",
       "    window.setTimeout(set_focus, 100);\n",
       "}\n",
       "\n",
       "mpl.figure.prototype._init_toolbar = function() {\n",
       "    var fig = this;\n",
       "\n",
       "    var nav_element = $('<div/>')\n",
       "    nav_element.attr('style', 'width: 100%');\n",
       "    this.root.append(nav_element);\n",
       "\n",
       "    // Define a callback function for later on.\n",
       "    function toolbar_event(event) {\n",
       "        return fig.toolbar_button_onclick(event['data']);\n",
       "    }\n",
       "    function toolbar_mouse_event(event) {\n",
       "        return fig.toolbar_button_onmouseover(event['data']);\n",
       "    }\n",
       "\n",
       "    for(var toolbar_ind in mpl.toolbar_items) {\n",
       "        var name = mpl.toolbar_items[toolbar_ind][0];\n",
       "        var tooltip = mpl.toolbar_items[toolbar_ind][1];\n",
       "        var image = mpl.toolbar_items[toolbar_ind][2];\n",
       "        var method_name = mpl.toolbar_items[toolbar_ind][3];\n",
       "\n",
       "        if (!name) {\n",
       "            // put a spacer in here.\n",
       "            continue;\n",
       "        }\n",
       "        var button = $('<button/>');\n",
       "        button.addClass('ui-button ui-widget ui-state-default ui-corner-all ' +\n",
       "                        'ui-button-icon-only');\n",
       "        button.attr('role', 'button');\n",
       "        button.attr('aria-disabled', 'false');\n",
       "        button.click(method_name, toolbar_event);\n",
       "        button.mouseover(tooltip, toolbar_mouse_event);\n",
       "\n",
       "        var icon_img = $('<span/>');\n",
       "        icon_img.addClass('ui-button-icon-primary ui-icon');\n",
       "        icon_img.addClass(image);\n",
       "        icon_img.addClass('ui-corner-all');\n",
       "\n",
       "        var tooltip_span = $('<span/>');\n",
       "        tooltip_span.addClass('ui-button-text');\n",
       "        tooltip_span.html(tooltip);\n",
       "\n",
       "        button.append(icon_img);\n",
       "        button.append(tooltip_span);\n",
       "\n",
       "        nav_element.append(button);\n",
       "    }\n",
       "\n",
       "    var fmt_picker_span = $('<span/>');\n",
       "\n",
       "    var fmt_picker = $('<select/>');\n",
       "    fmt_picker.addClass('mpl-toolbar-option ui-widget ui-widget-content');\n",
       "    fmt_picker_span.append(fmt_picker);\n",
       "    nav_element.append(fmt_picker_span);\n",
       "    this.format_dropdown = fmt_picker[0];\n",
       "\n",
       "    for (var ind in mpl.extensions) {\n",
       "        var fmt = mpl.extensions[ind];\n",
       "        var option = $(\n",
       "            '<option/>', {selected: fmt === mpl.default_extension}).html(fmt);\n",
       "        fmt_picker.append(option)\n",
       "    }\n",
       "\n",
       "    // Add hover states to the ui-buttons\n",
       "    $( \".ui-button\" ).hover(\n",
       "        function() { $(this).addClass(\"ui-state-hover\");},\n",
       "        function() { $(this).removeClass(\"ui-state-hover\");}\n",
       "    );\n",
       "\n",
       "    var status_bar = $('<span class=\"mpl-message\"/>');\n",
       "    nav_element.append(status_bar);\n",
       "    this.message = status_bar[0];\n",
       "}\n",
       "\n",
       "mpl.figure.prototype.request_resize = function(x_pixels, y_pixels) {\n",
       "    // Request matplotlib to resize the figure. Matplotlib will then trigger a resize in the client,\n",
       "    // which will in turn request a refresh of the image.\n",
       "    this.send_message('resize', {'width': x_pixels, 'height': y_pixels});\n",
       "}\n",
       "\n",
       "mpl.figure.prototype.send_message = function(type, properties) {\n",
       "    properties['type'] = type;\n",
       "    properties['figure_id'] = this.id;\n",
       "    this.ws.send(JSON.stringify(properties));\n",
       "}\n",
       "\n",
       "mpl.figure.prototype.send_draw_message = function() {\n",
       "    if (!this.waiting) {\n",
       "        this.waiting = true;\n",
       "        this.ws.send(JSON.stringify({type: \"draw\", figure_id: this.id}));\n",
       "    }\n",
       "}\n",
       "\n",
       "\n",
       "mpl.figure.prototype.handle_save = function(fig, msg) {\n",
       "    var format_dropdown = fig.format_dropdown;\n",
       "    var format = format_dropdown.options[format_dropdown.selectedIndex].value;\n",
       "    fig.ondownload(fig, format);\n",
       "}\n",
       "\n",
       "\n",
       "mpl.figure.prototype.handle_resize = function(fig, msg) {\n",
       "    var size = msg['size'];\n",
       "    if (size[0] != fig.canvas.width || size[1] != fig.canvas.height) {\n",
       "        fig._resize_canvas(size[0], size[1]);\n",
       "        fig.send_message(\"refresh\", {});\n",
       "    };\n",
       "}\n",
       "\n",
       "mpl.figure.prototype.handle_rubberband = function(fig, msg) {\n",
       "    var x0 = msg['x0'] / mpl.ratio;\n",
       "    var y0 = (fig.canvas.height - msg['y0']) / mpl.ratio;\n",
       "    var x1 = msg['x1'] / mpl.ratio;\n",
       "    var y1 = (fig.canvas.height - msg['y1']) / mpl.ratio;\n",
       "    x0 = Math.floor(x0) + 0.5;\n",
       "    y0 = Math.floor(y0) + 0.5;\n",
       "    x1 = Math.floor(x1) + 0.5;\n",
       "    y1 = Math.floor(y1) + 0.5;\n",
       "    var min_x = Math.min(x0, x1);\n",
       "    var min_y = Math.min(y0, y1);\n",
       "    var width = Math.abs(x1 - x0);\n",
       "    var height = Math.abs(y1 - y0);\n",
       "\n",
       "    fig.rubberband_context.clearRect(\n",
       "        0, 0, fig.canvas.width, fig.canvas.height);\n",
       "\n",
       "    fig.rubberband_context.strokeRect(min_x, min_y, width, height);\n",
       "}\n",
       "\n",
       "mpl.figure.prototype.handle_figure_label = function(fig, msg) {\n",
       "    // Updates the figure title.\n",
       "    fig.header.textContent = msg['label'];\n",
       "}\n",
       "\n",
       "mpl.figure.prototype.handle_cursor = function(fig, msg) {\n",
       "    var cursor = msg['cursor'];\n",
       "    switch(cursor)\n",
       "    {\n",
       "    case 0:\n",
       "        cursor = 'pointer';\n",
       "        break;\n",
       "    case 1:\n",
       "        cursor = 'default';\n",
       "        break;\n",
       "    case 2:\n",
       "        cursor = 'crosshair';\n",
       "        break;\n",
       "    case 3:\n",
       "        cursor = 'move';\n",
       "        break;\n",
       "    }\n",
       "    fig.rubberband_canvas.style.cursor = cursor;\n",
       "}\n",
       "\n",
       "mpl.figure.prototype.handle_message = function(fig, msg) {\n",
       "    fig.message.textContent = msg['message'];\n",
       "}\n",
       "\n",
       "mpl.figure.prototype.handle_draw = function(fig, msg) {\n",
       "    // Request the server to send over a new figure.\n",
       "    fig.send_draw_message();\n",
       "}\n",
       "\n",
       "mpl.figure.prototype.handle_image_mode = function(fig, msg) {\n",
       "    fig.image_mode = msg['mode'];\n",
       "}\n",
       "\n",
       "mpl.figure.prototype.updated_canvas_event = function() {\n",
       "    // Called whenever the canvas gets updated.\n",
       "    this.send_message(\"ack\", {});\n",
       "}\n",
       "\n",
       "// A function to construct a web socket function for onmessage handling.\n",
       "// Called in the figure constructor.\n",
       "mpl.figure.prototype._make_on_message_function = function(fig) {\n",
       "    return function socket_on_message(evt) {\n",
       "        if (evt.data instanceof Blob) {\n",
       "            /* FIXME: We get \"Resource interpreted as Image but\n",
       "             * transferred with MIME type text/plain:\" errors on\n",
       "             * Chrome.  But how to set the MIME type?  It doesn't seem\n",
       "             * to be part of the websocket stream */\n",
       "            evt.data.type = \"image/png\";\n",
       "\n",
       "            /* Free the memory for the previous frames */\n",
       "            if (fig.imageObj.src) {\n",
       "                (window.URL || window.webkitURL).revokeObjectURL(\n",
       "                    fig.imageObj.src);\n",
       "            }\n",
       "\n",
       "            fig.imageObj.src = (window.URL || window.webkitURL).createObjectURL(\n",
       "                evt.data);\n",
       "            fig.updated_canvas_event();\n",
       "            fig.waiting = false;\n",
       "            return;\n",
       "        }\n",
       "        else if (typeof evt.data === 'string' && evt.data.slice(0, 21) == \"data:image/png;base64\") {\n",
       "            fig.imageObj.src = evt.data;\n",
       "            fig.updated_canvas_event();\n",
       "            fig.waiting = false;\n",
       "            return;\n",
       "        }\n",
       "\n",
       "        var msg = JSON.parse(evt.data);\n",
       "        var msg_type = msg['type'];\n",
       "\n",
       "        // Call the  \"handle_{type}\" callback, which takes\n",
       "        // the figure and JSON message as its only arguments.\n",
       "        try {\n",
       "            var callback = fig[\"handle_\" + msg_type];\n",
       "        } catch (e) {\n",
       "            console.log(\"No handler for the '\" + msg_type + \"' message type: \", msg);\n",
       "            return;\n",
       "        }\n",
       "\n",
       "        if (callback) {\n",
       "            try {\n",
       "                // console.log(\"Handling '\" + msg_type + \"' message: \", msg);\n",
       "                callback(fig, msg);\n",
       "            } catch (e) {\n",
       "                console.log(\"Exception inside the 'handler_\" + msg_type + \"' callback:\", e, e.stack, msg);\n",
       "            }\n",
       "        }\n",
       "    };\n",
       "}\n",
       "\n",
       "// from http://stackoverflow.com/questions/1114465/getting-mouse-location-in-canvas\n",
       "mpl.findpos = function(e) {\n",
       "    //this section is from http://www.quirksmode.org/js/events_properties.html\n",
       "    var targ;\n",
       "    if (!e)\n",
       "        e = window.event;\n",
       "    if (e.target)\n",
       "        targ = e.target;\n",
       "    else if (e.srcElement)\n",
       "        targ = e.srcElement;\n",
       "    if (targ.nodeType == 3) // defeat Safari bug\n",
       "        targ = targ.parentNode;\n",
       "\n",
       "    // jQuery normalizes the pageX and pageY\n",
       "    // pageX,Y are the mouse positions relative to the document\n",
       "    // offset() returns the position of the element relative to the document\n",
       "    var x = e.pageX - $(targ).offset().left;\n",
       "    var y = e.pageY - $(targ).offset().top;\n",
       "\n",
       "    return {\"x\": x, \"y\": y};\n",
       "};\n",
       "\n",
       "/*\n",
       " * return a copy of an object with only non-object keys\n",
       " * we need this to avoid circular references\n",
       " * http://stackoverflow.com/a/24161582/3208463\n",
       " */\n",
       "function simpleKeys (original) {\n",
       "  return Object.keys(original).reduce(function (obj, key) {\n",
       "    if (typeof original[key] !== 'object')\n",
       "        obj[key] = original[key]\n",
       "    return obj;\n",
       "  }, {});\n",
       "}\n",
       "\n",
       "mpl.figure.prototype.mouse_event = function(event, name) {\n",
       "    var canvas_pos = mpl.findpos(event)\n",
       "\n",
       "    if (name === 'button_press')\n",
       "    {\n",
       "        this.canvas.focus();\n",
       "        this.canvas_div.focus();\n",
       "    }\n",
       "\n",
       "    var x = canvas_pos.x * mpl.ratio;\n",
       "    var y = canvas_pos.y * mpl.ratio;\n",
       "\n",
       "    this.send_message(name, {x: x, y: y, button: event.button,\n",
       "                             step: event.step,\n",
       "                             guiEvent: simpleKeys(event)});\n",
       "\n",
       "    /* This prevents the web browser from automatically changing to\n",
       "     * the text insertion cursor when the button is pressed.  We want\n",
       "     * to control all of the cursor setting manually through the\n",
       "     * 'cursor' event from matplotlib */\n",
       "    event.preventDefault();\n",
       "    return false;\n",
       "}\n",
       "\n",
       "mpl.figure.prototype._key_event_extra = function(event, name) {\n",
       "    // Handle any extra behaviour associated with a key event\n",
       "}\n",
       "\n",
       "mpl.figure.prototype.key_event = function(event, name) {\n",
       "\n",
       "    // Prevent repeat events\n",
       "    if (name == 'key_press')\n",
       "    {\n",
       "        if (event.which === this._key)\n",
       "            return;\n",
       "        else\n",
       "            this._key = event.which;\n",
       "    }\n",
       "    if (name == 'key_release')\n",
       "        this._key = null;\n",
       "\n",
       "    var value = '';\n",
       "    if (event.ctrlKey && event.which != 17)\n",
       "        value += \"ctrl+\";\n",
       "    if (event.altKey && event.which != 18)\n",
       "        value += \"alt+\";\n",
       "    if (event.shiftKey && event.which != 16)\n",
       "        value += \"shift+\";\n",
       "\n",
       "    value += 'k';\n",
       "    value += event.which.toString();\n",
       "\n",
       "    this._key_event_extra(event, name);\n",
       "\n",
       "    this.send_message(name, {key: value,\n",
       "                             guiEvent: simpleKeys(event)});\n",
       "    return false;\n",
       "}\n",
       "\n",
       "mpl.figure.prototype.toolbar_button_onclick = function(name) {\n",
       "    if (name == 'download') {\n",
       "        this.handle_save(this, null);\n",
       "    } else {\n",
       "        this.send_message(\"toolbar_button\", {name: name});\n",
       "    }\n",
       "};\n",
       "\n",
       "mpl.figure.prototype.toolbar_button_onmouseover = function(tooltip) {\n",
       "    this.message.textContent = tooltip;\n",
       "};\n",
       "mpl.toolbar_items = [[\"Home\", \"Reset original view\", \"fa fa-home icon-home\", \"home\"], [\"Back\", \"Back to previous view\", \"fa fa-arrow-left icon-arrow-left\", \"back\"], [\"Forward\", \"Forward to next view\", \"fa fa-arrow-right icon-arrow-right\", \"forward\"], [\"\", \"\", \"\", \"\"], [\"Pan\", \"Pan axes with left mouse, zoom with right\", \"fa fa-arrows icon-move\", \"pan\"], [\"Zoom\", \"Zoom to rectangle\", \"fa fa-square-o icon-check-empty\", \"zoom\"], [\"\", \"\", \"\", \"\"], [\"Download\", \"Download plot\", \"fa fa-floppy-o icon-save\", \"download\"]];\n",
       "\n",
       "mpl.extensions = [\"eps\", \"jpeg\", \"pdf\", \"png\", \"ps\", \"raw\", \"svg\", \"tif\"];\n",
       "\n",
       "mpl.default_extension = \"png\";var comm_websocket_adapter = function(comm) {\n",
       "    // Create a \"websocket\"-like object which calls the given IPython comm\n",
       "    // object with the appropriate methods. Currently this is a non binary\n",
       "    // socket, so there is still some room for performance tuning.\n",
       "    var ws = {};\n",
       "\n",
       "    ws.close = function() {\n",
       "        comm.close()\n",
       "    };\n",
       "    ws.send = function(m) {\n",
       "        //console.log('sending', m);\n",
       "        comm.send(m);\n",
       "    };\n",
       "    // Register the callback with on_msg.\n",
       "    comm.on_msg(function(msg) {\n",
       "        //console.log('receiving', msg['content']['data'], msg);\n",
       "        // Pass the mpl event to the overridden (by mpl) onmessage function.\n",
       "        ws.onmessage(msg['content']['data'])\n",
       "    });\n",
       "    return ws;\n",
       "}\n",
       "\n",
       "mpl.mpl_figure_comm = function(comm, msg) {\n",
       "    // This is the function which gets called when the mpl process\n",
       "    // starts-up an IPython Comm through the \"matplotlib\" channel.\n",
       "\n",
       "    var id = msg.content.data.id;\n",
       "    // Get hold of the div created by the display call when the Comm\n",
       "    // socket was opened in Python.\n",
       "    var element = $(\"#\" + id);\n",
       "    var ws_proxy = comm_websocket_adapter(comm)\n",
       "\n",
       "    function ondownload(figure, format) {\n",
       "        window.open(figure.imageObj.src);\n",
       "    }\n",
       "\n",
       "    var fig = new mpl.figure(id, ws_proxy,\n",
       "                           ondownload,\n",
       "                           element.get(0));\n",
       "\n",
       "    // Call onopen now - mpl needs it, as it is assuming we've passed it a real\n",
       "    // web socket which is closed, not our websocket->open comm proxy.\n",
       "    ws_proxy.onopen();\n",
       "\n",
       "    fig.parent_element = element.get(0);\n",
       "    fig.cell_info = mpl.find_output_cell(\"<div id='\" + id + \"'></div>\");\n",
       "    if (!fig.cell_info) {\n",
       "        console.error(\"Failed to find cell for figure\", id, fig);\n",
       "        return;\n",
       "    }\n",
       "\n",
       "    var output_index = fig.cell_info[2]\n",
       "    var cell = fig.cell_info[0];\n",
       "\n",
       "};\n",
       "\n",
       "mpl.figure.prototype.handle_close = function(fig, msg) {\n",
       "    var width = fig.canvas.width/mpl.ratio\n",
       "    fig.root.unbind('remove')\n",
       "\n",
       "    // Update the output cell to use the data from the current canvas.\n",
       "    fig.push_to_output();\n",
       "    var dataURL = fig.canvas.toDataURL();\n",
       "    // Re-enable the keyboard manager in IPython - without this line, in FF,\n",
       "    // the notebook keyboard shortcuts fail.\n",
       "    IPython.keyboard_manager.enable()\n",
       "    $(fig.parent_element).html('<img src=\"' + dataURL + '\" width=\"' + width + '\">');\n",
       "    fig.close_ws(fig, msg);\n",
       "}\n",
       "\n",
       "mpl.figure.prototype.close_ws = function(fig, msg){\n",
       "    fig.send_message('closing', msg);\n",
       "    // fig.ws.close()\n",
       "}\n",
       "\n",
       "mpl.figure.prototype.push_to_output = function(remove_interactive) {\n",
       "    // Turn the data on the canvas into data in the output cell.\n",
       "    var width = this.canvas.width/mpl.ratio\n",
       "    var dataURL = this.canvas.toDataURL();\n",
       "    this.cell_info[1]['text/html'] = '<img src=\"' + dataURL + '\" width=\"' + width + '\">';\n",
       "}\n",
       "\n",
       "mpl.figure.prototype.updated_canvas_event = function() {\n",
       "    // Tell IPython that the notebook contents must change.\n",
       "    IPython.notebook.set_dirty(true);\n",
       "    this.send_message(\"ack\", {});\n",
       "    var fig = this;\n",
       "    // Wait a second, then push the new image to the DOM so\n",
       "    // that it is saved nicely (might be nice to debounce this).\n",
       "    setTimeout(function () { fig.push_to_output() }, 1000);\n",
       "}\n",
       "\n",
       "mpl.figure.prototype._init_toolbar = function() {\n",
       "    var fig = this;\n",
       "\n",
       "    var nav_element = $('<div/>')\n",
       "    nav_element.attr('style', 'width: 100%');\n",
       "    this.root.append(nav_element);\n",
       "\n",
       "    // Define a callback function for later on.\n",
       "    function toolbar_event(event) {\n",
       "        return fig.toolbar_button_onclick(event['data']);\n",
       "    }\n",
       "    function toolbar_mouse_event(event) {\n",
       "        return fig.toolbar_button_onmouseover(event['data']);\n",
       "    }\n",
       "\n",
       "    for(var toolbar_ind in mpl.toolbar_items){\n",
       "        var name = mpl.toolbar_items[toolbar_ind][0];\n",
       "        var tooltip = mpl.toolbar_items[toolbar_ind][1];\n",
       "        var image = mpl.toolbar_items[toolbar_ind][2];\n",
       "        var method_name = mpl.toolbar_items[toolbar_ind][3];\n",
       "\n",
       "        if (!name) { continue; };\n",
       "\n",
       "        var button = $('<button class=\"btn btn-default\" href=\"#\" title=\"' + name + '\"><i class=\"fa ' + image + ' fa-lg\"></i></button>');\n",
       "        button.click(method_name, toolbar_event);\n",
       "        button.mouseover(tooltip, toolbar_mouse_event);\n",
       "        nav_element.append(button);\n",
       "    }\n",
       "\n",
       "    // Add the status bar.\n",
       "    var status_bar = $('<span class=\"mpl-message\" style=\"text-align:right; float: right;\"/>');\n",
       "    nav_element.append(status_bar);\n",
       "    this.message = status_bar[0];\n",
       "\n",
       "    // Add the close button to the window.\n",
       "    var buttongrp = $('<div class=\"btn-group inline pull-right\"></div>');\n",
       "    var button = $('<button class=\"btn btn-mini btn-primary\" href=\"#\" title=\"Stop Interaction\"><i class=\"fa fa-power-off icon-remove icon-large\"></i></button>');\n",
       "    button.click(function (evt) { fig.handle_close(fig, {}); } );\n",
       "    button.mouseover('Stop Interaction', toolbar_mouse_event);\n",
       "    buttongrp.append(button);\n",
       "    var titlebar = this.root.find($('.ui-dialog-titlebar'));\n",
       "    titlebar.prepend(buttongrp);\n",
       "}\n",
       "\n",
       "mpl.figure.prototype._root_extra_style = function(el){\n",
       "    var fig = this\n",
       "    el.on(\"remove\", function(){\n",
       "\tfig.close_ws(fig, {});\n",
       "    });\n",
       "}\n",
       "\n",
       "mpl.figure.prototype._canvas_extra_style = function(el){\n",
       "    // this is important to make the div 'focusable\n",
       "    el.attr('tabindex', 0)\n",
       "    // reach out to IPython and tell the keyboard manager to turn it's self\n",
       "    // off when our div gets focus\n",
       "\n",
       "    // location in version 3\n",
       "    if (IPython.notebook.keyboard_manager) {\n",
       "        IPython.notebook.keyboard_manager.register_events(el);\n",
       "    }\n",
       "    else {\n",
       "        // location in version 2\n",
       "        IPython.keyboard_manager.register_events(el);\n",
       "    }\n",
       "\n",
       "}\n",
       "\n",
       "mpl.figure.prototype._key_event_extra = function(event, name) {\n",
       "    var manager = IPython.notebook.keyboard_manager;\n",
       "    if (!manager)\n",
       "        manager = IPython.keyboard_manager;\n",
       "\n",
       "    // Check for shift+enter\n",
       "    if (event.shiftKey && event.which == 13) {\n",
       "        this.canvas_div.blur();\n",
       "        event.shiftKey = false;\n",
       "        // Send a \"J\" for go to next cell\n",
       "        event.which = 74;\n",
       "        event.keyCode = 74;\n",
       "        manager.command_mode();\n",
       "        manager.handle_keydown(event);\n",
       "    }\n",
       "}\n",
       "\n",
       "mpl.figure.prototype.handle_save = function(fig, msg) {\n",
       "    fig.ondownload(fig, null);\n",
       "}\n",
       "\n",
       "\n",
       "mpl.find_output_cell = function(html_output) {\n",
       "    // Return the cell and output element which can be found *uniquely* in the notebook.\n",
       "    // Note - this is a bit hacky, but it is done because the \"notebook_saving.Notebook\"\n",
       "    // IPython event is triggered only after the cells have been serialised, which for\n",
       "    // our purposes (turning an active figure into a static one), is too late.\n",
       "    var cells = IPython.notebook.get_cells();\n",
       "    var ncells = cells.length;\n",
       "    for (var i=0; i<ncells; i++) {\n",
       "        var cell = cells[i];\n",
       "        if (cell.cell_type === 'code'){\n",
       "            for (var j=0; j<cell.output_area.outputs.length; j++) {\n",
       "                var data = cell.output_area.outputs[j];\n",
       "                if (data.data) {\n",
       "                    // IPython >= 3 moved mimebundle to data attribute of output\n",
       "                    data = data.data;\n",
       "                }\n",
       "                if (data['text/html'] == html_output) {\n",
       "                    return [cell, data, j];\n",
       "                }\n",
       "            }\n",
       "        }\n",
       "    }\n",
       "}\n",
       "\n",
       "// Register the function which deals with the matplotlib target/channel.\n",
       "// The kernel may be null if the page has been refreshed.\n",
       "if (IPython.notebook.kernel != null) {\n",
       "    IPython.notebook.kernel.comm_manager.register_target('matplotlib', mpl.mpl_figure_comm);\n",
       "}\n"
      ],
      "text/plain": [
       "<IPython.core.display.Javascript object>"
      ]
     },
     "metadata": {},
     "output_type": "display_data"
    },
    {
     "data": {
      "text/html": [
       "<img src=\"data:image/png;base64,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\" width=\"640\">"
      ],
      "text/plain": [
       "<IPython.core.display.HTML object>"
      ]
     },
     "metadata": {},
     "output_type": "display_data"
    }
   ],
   "source": [
    "%matplotlib notebook\n",
    "p1_range     = np.linspace(0., 0.25, N)\n",
    "sir_model_2.cutVariance(p1_range)"
   ]
  },
  {
   "cell_type": "markdown",
   "metadata": {},
   "source": [
    "#### Initilisation Model 3 (Infected Fraction vs Immune Fraction)"
   ]
  },
  {
   "cell_type": "code",
   "execution_count": 14,
   "metadata": {},
   "outputs": [],
   "source": [
    "N           = 20                            # lattice size\n",
    "p1, p2, p3  = 0.5, 0.5, 0.5                 # p for visualisation\n",
    "S0, I0, R0  = 0.1, 0.4, 0.5                 # initial fraction of S, I, R\n",
    "equistep    = 100                           # equilibrate sweep (No system equilibration in this case)\n",
    "calcstep    = 10000                         # measurement sweep\n",
    "factor      = int(calcstep/10)              # because of 'if (j%10 == 0):' in 'analyse' fn\n",
    "\n",
    "p = [p1, p2, p3]\n",
    "fraction = [S0, I0, R0]\n",
    "\n",
    "np.random.seed(0)\n",
    "sir_model_3 = ca_utils.SIR(N, fraction, p, factor, equistep, calcstep)"
   ]
  },
  {
   "cell_type": "markdown",
   "metadata": {},
   "source": [
    "- Method behavior\n",
    "    - Average Infected fraction $\\frac{<I>}{N}$ vs Fraction of Immunity, $\\frac{<R>}{N}$"
   ]
  },
  {
   "cell_type": "code",
   "execution_count": 15,
   "metadata": {
    "scrolled": true
   },
   "outputs": [
    {
     "data": {
      "application/vnd.jupyter.widget-view+json": {
       "model_id": "",
       "version_major": 2,
       "version_minor": 0
      },
      "text/plain": [
       "HBox(children=(IntProgress(value=1, bar_style='info', description='Immune Fraction', max=1, style=ProgressStyl…"
      ]
     },
     "metadata": {},
     "output_type": "display_data"
    },
    {
     "data": {
      "application/vnd.jupyter.widget-view+json": {
       "model_id": "",
       "version_major": 2,
       "version_minor": 0
      },
      "text/plain": [
       "HBox(children=(IntProgress(value=0, description='Measurement sweep', max=10000, style=ProgressStyle(descriptio…"
      ]
     },
     "metadata": {},
     "output_type": "display_data"
    },
    {
     "data": {
      "application/vnd.jupyter.widget-view+json": {
       "model_id": "",
       "version_major": 2,
       "version_minor": 0
      },
      "text/plain": [
       "HBox(children=(IntProgress(value=0, description='Measurement sweep', max=10000, style=ProgressStyle(descriptio…"
      ]
     },
     "metadata": {},
     "output_type": "display_data"
    },
    {
     "data": {
      "application/vnd.jupyter.widget-view+json": {
       "model_id": "",
       "version_major": 2,
       "version_minor": 0
      },
      "text/plain": [
       "HBox(children=(IntProgress(value=0, description='Measurement sweep', max=10000, style=ProgressStyle(descriptio…"
      ]
     },
     "metadata": {},
     "output_type": "display_data"
    },
    {
     "data": {
      "application/vnd.jupyter.widget-view+json": {
       "model_id": "",
       "version_major": 2,
       "version_minor": 0
      },
      "text/plain": [
       "HBox(children=(IntProgress(value=0, description='Measurement sweep', max=10000, style=ProgressStyle(descriptio…"
      ]
     },
     "metadata": {},
     "output_type": "display_data"
    },
    {
     "data": {
      "application/vnd.jupyter.widget-view+json": {
       "model_id": "",
       "version_major": 2,
       "version_minor": 0
      },
      "text/plain": [
       "HBox(children=(IntProgress(value=0, description='Measurement sweep', max=10000, style=ProgressStyle(descriptio…"
      ]
     },
     "metadata": {},
     "output_type": "display_data"
    },
    {
     "data": {
      "application/vnd.jupyter.widget-view+json": {
       "model_id": "",
       "version_major": 2,
       "version_minor": 0
      },
      "text/plain": [
       "HBox(children=(IntProgress(value=0, description='Measurement sweep', max=10000, style=ProgressStyle(descriptio…"
      ]
     },
     "metadata": {},
     "output_type": "display_data"
    },
    {
     "data": {
      "application/vnd.jupyter.widget-view+json": {
       "model_id": "",
       "version_major": 2,
       "version_minor": 0
      },
      "text/plain": [
       "HBox(children=(IntProgress(value=0, description='Measurement sweep', max=10000, style=ProgressStyle(descriptio…"
      ]
     },
     "metadata": {},
     "output_type": "display_data"
    },
    {
     "data": {
      "application/vnd.jupyter.widget-view+json": {
       "model_id": "",
       "version_major": 2,
       "version_minor": 0
      },
      "text/plain": [
       "HBox(children=(IntProgress(value=0, description='Measurement sweep', max=10000, style=ProgressStyle(descriptio…"
      ]
     },
     "metadata": {},
     "output_type": "display_data"
    },
    {
     "data": {
      "application/vnd.jupyter.widget-view+json": {
       "model_id": "",
       "version_major": 2,
       "version_minor": 0
      },
      "text/plain": [
       "HBox(children=(IntProgress(value=0, description='Measurement sweep', max=10000, style=ProgressStyle(descriptio…"
      ]
     },
     "metadata": {},
     "output_type": "display_data"
    },
    {
     "data": {
      "application/vnd.jupyter.widget-view+json": {
       "model_id": "",
       "version_major": 2,
       "version_minor": 0
      },
      "text/plain": [
       "HBox(children=(IntProgress(value=0, description='Measurement sweep', max=10000, style=ProgressStyle(descriptio…"
      ]
     },
     "metadata": {},
     "output_type": "display_data"
    },
    {
     "data": {
      "application/vnd.jupyter.widget-view+json": {
       "model_id": "",
       "version_major": 2,
       "version_minor": 0
      },
      "text/plain": [
       "HBox(children=(IntProgress(value=0, description='Measurement sweep', max=10000, style=ProgressStyle(descriptio…"
      ]
     },
     "metadata": {},
     "output_type": "display_data"
    },
    {
     "data": {
      "application/vnd.jupyter.widget-view+json": {
       "model_id": "",
       "version_major": 2,
       "version_minor": 0
      },
      "text/plain": [
       "HBox(children=(IntProgress(value=0, description='Measurement sweep', max=10000, style=ProgressStyle(descriptio…"
      ]
     },
     "metadata": {},
     "output_type": "display_data"
    },
    {
     "data": {
      "application/vnd.jupyter.widget-view+json": {
       "model_id": "",
       "version_major": 2,
       "version_minor": 0
      },
      "text/plain": [
       "HBox(children=(IntProgress(value=0, description='Measurement sweep', max=10000, style=ProgressStyle(descriptio…"
      ]
     },
     "metadata": {},
     "output_type": "display_data"
    },
    {
     "data": {
      "application/vnd.jupyter.widget-view+json": {
       "model_id": "",
       "version_major": 2,
       "version_minor": 0
      },
      "text/plain": [
       "HBox(children=(IntProgress(value=0, description='Measurement sweep', max=10000, style=ProgressStyle(descriptio…"
      ]
     },
     "metadata": {},
     "output_type": "display_data"
    },
    {
     "data": {
      "application/vnd.jupyter.widget-view+json": {
       "model_id": "",
       "version_major": 2,
       "version_minor": 0
      },
      "text/plain": [
       "HBox(children=(IntProgress(value=0, description='Measurement sweep', max=10000, style=ProgressStyle(descriptio…"
      ]
     },
     "metadata": {},
     "output_type": "display_data"
    },
    {
     "data": {
      "application/vnd.jupyter.widget-view+json": {
       "model_id": "",
       "version_major": 2,
       "version_minor": 0
      },
      "text/plain": [
       "HBox(children=(IntProgress(value=0, description='Measurement sweep', max=10000, style=ProgressStyle(descriptio…"
      ]
     },
     "metadata": {},
     "output_type": "display_data"
    },
    {
     "data": {
      "application/vnd.jupyter.widget-view+json": {
       "model_id": "",
       "version_major": 2,
       "version_minor": 0
      },
      "text/plain": [
       "HBox(children=(IntProgress(value=0, description='Measurement sweep', max=10000, style=ProgressStyle(descriptio…"
      ]
     },
     "metadata": {},
     "output_type": "display_data"
    },
    {
     "data": {
      "application/vnd.jupyter.widget-view+json": {
       "model_id": "",
       "version_major": 2,
       "version_minor": 0
      },
      "text/plain": [
       "HBox(children=(IntProgress(value=0, description='Measurement sweep', max=10000, style=ProgressStyle(descriptio…"
      ]
     },
     "metadata": {},
     "output_type": "display_data"
    },
    {
     "data": {
      "application/vnd.jupyter.widget-view+json": {
       "model_id": "",
       "version_major": 2,
       "version_minor": 0
      },
      "text/plain": [
       "HBox(children=(IntProgress(value=0, description='Measurement sweep', max=10000, style=ProgressStyle(descriptio…"
      ]
     },
     "metadata": {},
     "output_type": "display_data"
    },
    {
     "data": {
      "application/vnd.jupyter.widget-view+json": {
       "model_id": "",
       "version_major": 2,
       "version_minor": 0
      },
      "text/plain": [
       "HBox(children=(IntProgress(value=0, description='Measurement sweep', max=10000, style=ProgressStyle(descriptio…"
      ]
     },
     "metadata": {},
     "output_type": "display_data"
    },
    {
     "name": "stdout",
     "output_type": "stream",
     "text": [
      "\r"
     ]
    },
    {
     "data": {
      "application/javascript": [
       "/* Put everything inside the global mpl namespace */\n",
       "window.mpl = {};\n",
       "\n",
       "\n",
       "mpl.get_websocket_type = function() {\n",
       "    if (typeof(WebSocket) !== 'undefined') {\n",
       "        return WebSocket;\n",
       "    } else if (typeof(MozWebSocket) !== 'undefined') {\n",
       "        return MozWebSocket;\n",
       "    } else {\n",
       "        alert('Your browser does not have WebSocket support.' +\n",
       "              'Please try Chrome, Safari or Firefox ≥ 6. ' +\n",
       "              'Firefox 4 and 5 are also supported but you ' +\n",
       "              'have to enable WebSockets in about:config.');\n",
       "    };\n",
       "}\n",
       "\n",
       "mpl.figure = function(figure_id, websocket, ondownload, parent_element) {\n",
       "    this.id = figure_id;\n",
       "\n",
       "    this.ws = websocket;\n",
       "\n",
       "    this.supports_binary = (this.ws.binaryType != undefined);\n",
       "\n",
       "    if (!this.supports_binary) {\n",
       "        var warnings = document.getElementById(\"mpl-warnings\");\n",
       "        if (warnings) {\n",
       "            warnings.style.display = 'block';\n",
       "            warnings.textContent = (\n",
       "                \"This browser does not support binary websocket messages. \" +\n",
       "                    \"Performance may be slow.\");\n",
       "        }\n",
       "    }\n",
       "\n",
       "    this.imageObj = new Image();\n",
       "\n",
       "    this.context = undefined;\n",
       "    this.message = undefined;\n",
       "    this.canvas = undefined;\n",
       "    this.rubberband_canvas = undefined;\n",
       "    this.rubberband_context = undefined;\n",
       "    this.format_dropdown = undefined;\n",
       "\n",
       "    this.image_mode = 'full';\n",
       "\n",
       "    this.root = $('<div/>');\n",
       "    this._root_extra_style(this.root)\n",
       "    this.root.attr('style', 'display: inline-block');\n",
       "\n",
       "    $(parent_element).append(this.root);\n",
       "\n",
       "    this._init_header(this);\n",
       "    this._init_canvas(this);\n",
       "    this._init_toolbar(this);\n",
       "\n",
       "    var fig = this;\n",
       "\n",
       "    this.waiting = false;\n",
       "\n",
       "    this.ws.onopen =  function () {\n",
       "            fig.send_message(\"supports_binary\", {value: fig.supports_binary});\n",
       "            fig.send_message(\"send_image_mode\", {});\n",
       "            if (mpl.ratio != 1) {\n",
       "                fig.send_message(\"set_dpi_ratio\", {'dpi_ratio': mpl.ratio});\n",
       "            }\n",
       "            fig.send_message(\"refresh\", {});\n",
       "        }\n",
       "\n",
       "    this.imageObj.onload = function() {\n",
       "            if (fig.image_mode == 'full') {\n",
       "                // Full images could contain transparency (where diff images\n",
       "                // almost always do), so we need to clear the canvas so that\n",
       "                // there is no ghosting.\n",
       "                fig.context.clearRect(0, 0, fig.canvas.width, fig.canvas.height);\n",
       "            }\n",
       "            fig.context.drawImage(fig.imageObj, 0, 0);\n",
       "        };\n",
       "\n",
       "    this.imageObj.onunload = function() {\n",
       "        fig.ws.close();\n",
       "    }\n",
       "\n",
       "    this.ws.onmessage = this._make_on_message_function(this);\n",
       "\n",
       "    this.ondownload = ondownload;\n",
       "}\n",
       "\n",
       "mpl.figure.prototype._init_header = function() {\n",
       "    var titlebar = $(\n",
       "        '<div class=\"ui-dialog-titlebar ui-widget-header ui-corner-all ' +\n",
       "        'ui-helper-clearfix\"/>');\n",
       "    var titletext = $(\n",
       "        '<div class=\"ui-dialog-title\" style=\"width: 100%; ' +\n",
       "        'text-align: center; padding: 3px;\"/>');\n",
       "    titlebar.append(titletext)\n",
       "    this.root.append(titlebar);\n",
       "    this.header = titletext[0];\n",
       "}\n",
       "\n",
       "\n",
       "\n",
       "mpl.figure.prototype._canvas_extra_style = function(canvas_div) {\n",
       "\n",
       "}\n",
       "\n",
       "\n",
       "mpl.figure.prototype._root_extra_style = function(canvas_div) {\n",
       "\n",
       "}\n",
       "\n",
       "mpl.figure.prototype._init_canvas = function() {\n",
       "    var fig = this;\n",
       "\n",
       "    var canvas_div = $('<div/>');\n",
       "\n",
       "    canvas_div.attr('style', 'position: relative; clear: both; outline: 0');\n",
       "\n",
       "    function canvas_keyboard_event(event) {\n",
       "        return fig.key_event(event, event['data']);\n",
       "    }\n",
       "\n",
       "    canvas_div.keydown('key_press', canvas_keyboard_event);\n",
       "    canvas_div.keyup('key_release', canvas_keyboard_event);\n",
       "    this.canvas_div = canvas_div\n",
       "    this._canvas_extra_style(canvas_div)\n",
       "    this.root.append(canvas_div);\n",
       "\n",
       "    var canvas = $('<canvas/>');\n",
       "    canvas.addClass('mpl-canvas');\n",
       "    canvas.attr('style', \"left: 0; top: 0; z-index: 0; outline: 0\")\n",
       "\n",
       "    this.canvas = canvas[0];\n",
       "    this.context = canvas[0].getContext(\"2d\");\n",
       "\n",
       "    var backingStore = this.context.backingStorePixelRatio ||\n",
       "\tthis.context.webkitBackingStorePixelRatio ||\n",
       "\tthis.context.mozBackingStorePixelRatio ||\n",
       "\tthis.context.msBackingStorePixelRatio ||\n",
       "\tthis.context.oBackingStorePixelRatio ||\n",
       "\tthis.context.backingStorePixelRatio || 1;\n",
       "\n",
       "    mpl.ratio = (window.devicePixelRatio || 1) / backingStore;\n",
       "\n",
       "    var rubberband = $('<canvas/>');\n",
       "    rubberband.attr('style', \"position: absolute; left: 0; top: 0; z-index: 1;\")\n",
       "\n",
       "    var pass_mouse_events = true;\n",
       "\n",
       "    canvas_div.resizable({\n",
       "        start: function(event, ui) {\n",
       "            pass_mouse_events = false;\n",
       "        },\n",
       "        resize: function(event, ui) {\n",
       "            fig.request_resize(ui.size.width, ui.size.height);\n",
       "        },\n",
       "        stop: function(event, ui) {\n",
       "            pass_mouse_events = true;\n",
       "            fig.request_resize(ui.size.width, ui.size.height);\n",
       "        },\n",
       "    });\n",
       "\n",
       "    function mouse_event_fn(event) {\n",
       "        if (pass_mouse_events)\n",
       "            return fig.mouse_event(event, event['data']);\n",
       "    }\n",
       "\n",
       "    rubberband.mousedown('button_press', mouse_event_fn);\n",
       "    rubberband.mouseup('button_release', mouse_event_fn);\n",
       "    // Throttle sequential mouse events to 1 every 20ms.\n",
       "    rubberband.mousemove('motion_notify', mouse_event_fn);\n",
       "\n",
       "    rubberband.mouseenter('figure_enter', mouse_event_fn);\n",
       "    rubberband.mouseleave('figure_leave', mouse_event_fn);\n",
       "\n",
       "    canvas_div.on(\"wheel\", function (event) {\n",
       "        event = event.originalEvent;\n",
       "        event['data'] = 'scroll'\n",
       "        if (event.deltaY < 0) {\n",
       "            event.step = 1;\n",
       "        } else {\n",
       "            event.step = -1;\n",
       "        }\n",
       "        mouse_event_fn(event);\n",
       "    });\n",
       "\n",
       "    canvas_div.append(canvas);\n",
       "    canvas_div.append(rubberband);\n",
       "\n",
       "    this.rubberband = rubberband;\n",
       "    this.rubberband_canvas = rubberband[0];\n",
       "    this.rubberband_context = rubberband[0].getContext(\"2d\");\n",
       "    this.rubberband_context.strokeStyle = \"#000000\";\n",
       "\n",
       "    this._resize_canvas = function(width, height) {\n",
       "        // Keep the size of the canvas, canvas container, and rubber band\n",
       "        // canvas in synch.\n",
       "        canvas_div.css('width', width)\n",
       "        canvas_div.css('height', height)\n",
       "\n",
       "        canvas.attr('width', width * mpl.ratio);\n",
       "        canvas.attr('height', height * mpl.ratio);\n",
       "        canvas.attr('style', 'width: ' + width + 'px; height: ' + height + 'px;');\n",
       "\n",
       "        rubberband.attr('width', width);\n",
       "        rubberband.attr('height', height);\n",
       "    }\n",
       "\n",
       "    // Set the figure to an initial 600x600px, this will subsequently be updated\n",
       "    // upon first draw.\n",
       "    this._resize_canvas(600, 600);\n",
       "\n",
       "    // Disable right mouse context menu.\n",
       "    $(this.rubberband_canvas).bind(\"contextmenu\",function(e){\n",
       "        return false;\n",
       "    });\n",
       "\n",
       "    function set_focus () {\n",
       "        canvas.focus();\n",
       "        canvas_div.focus();\n",
       "    }\n",
       "\n",
       "    window.setTimeout(set_focus, 100);\n",
       "}\n",
       "\n",
       "mpl.figure.prototype._init_toolbar = function() {\n",
       "    var fig = this;\n",
       "\n",
       "    var nav_element = $('<div/>')\n",
       "    nav_element.attr('style', 'width: 100%');\n",
       "    this.root.append(nav_element);\n",
       "\n",
       "    // Define a callback function for later on.\n",
       "    function toolbar_event(event) {\n",
       "        return fig.toolbar_button_onclick(event['data']);\n",
       "    }\n",
       "    function toolbar_mouse_event(event) {\n",
       "        return fig.toolbar_button_onmouseover(event['data']);\n",
       "    }\n",
       "\n",
       "    for(var toolbar_ind in mpl.toolbar_items) {\n",
       "        var name = mpl.toolbar_items[toolbar_ind][0];\n",
       "        var tooltip = mpl.toolbar_items[toolbar_ind][1];\n",
       "        var image = mpl.toolbar_items[toolbar_ind][2];\n",
       "        var method_name = mpl.toolbar_items[toolbar_ind][3];\n",
       "\n",
       "        if (!name) {\n",
       "            // put a spacer in here.\n",
       "            continue;\n",
       "        }\n",
       "        var button = $('<button/>');\n",
       "        button.addClass('ui-button ui-widget ui-state-default ui-corner-all ' +\n",
       "                        'ui-button-icon-only');\n",
       "        button.attr('role', 'button');\n",
       "        button.attr('aria-disabled', 'false');\n",
       "        button.click(method_name, toolbar_event);\n",
       "        button.mouseover(tooltip, toolbar_mouse_event);\n",
       "\n",
       "        var icon_img = $('<span/>');\n",
       "        icon_img.addClass('ui-button-icon-primary ui-icon');\n",
       "        icon_img.addClass(image);\n",
       "        icon_img.addClass('ui-corner-all');\n",
       "\n",
       "        var tooltip_span = $('<span/>');\n",
       "        tooltip_span.addClass('ui-button-text');\n",
       "        tooltip_span.html(tooltip);\n",
       "\n",
       "        button.append(icon_img);\n",
       "        button.append(tooltip_span);\n",
       "\n",
       "        nav_element.append(button);\n",
       "    }\n",
       "\n",
       "    var fmt_picker_span = $('<span/>');\n",
       "\n",
       "    var fmt_picker = $('<select/>');\n",
       "    fmt_picker.addClass('mpl-toolbar-option ui-widget ui-widget-content');\n",
       "    fmt_picker_span.append(fmt_picker);\n",
       "    nav_element.append(fmt_picker_span);\n",
       "    this.format_dropdown = fmt_picker[0];\n",
       "\n",
       "    for (var ind in mpl.extensions) {\n",
       "        var fmt = mpl.extensions[ind];\n",
       "        var option = $(\n",
       "            '<option/>', {selected: fmt === mpl.default_extension}).html(fmt);\n",
       "        fmt_picker.append(option)\n",
       "    }\n",
       "\n",
       "    // Add hover states to the ui-buttons\n",
       "    $( \".ui-button\" ).hover(\n",
       "        function() { $(this).addClass(\"ui-state-hover\");},\n",
       "        function() { $(this).removeClass(\"ui-state-hover\");}\n",
       "    );\n",
       "\n",
       "    var status_bar = $('<span class=\"mpl-message\"/>');\n",
       "    nav_element.append(status_bar);\n",
       "    this.message = status_bar[0];\n",
       "}\n",
       "\n",
       "mpl.figure.prototype.request_resize = function(x_pixels, y_pixels) {\n",
       "    // Request matplotlib to resize the figure. Matplotlib will then trigger a resize in the client,\n",
       "    // which will in turn request a refresh of the image.\n",
       "    this.send_message('resize', {'width': x_pixels, 'height': y_pixels});\n",
       "}\n",
       "\n",
       "mpl.figure.prototype.send_message = function(type, properties) {\n",
       "    properties['type'] = type;\n",
       "    properties['figure_id'] = this.id;\n",
       "    this.ws.send(JSON.stringify(properties));\n",
       "}\n",
       "\n",
       "mpl.figure.prototype.send_draw_message = function() {\n",
       "    if (!this.waiting) {\n",
       "        this.waiting = true;\n",
       "        this.ws.send(JSON.stringify({type: \"draw\", figure_id: this.id}));\n",
       "    }\n",
       "}\n",
       "\n",
       "\n",
       "mpl.figure.prototype.handle_save = function(fig, msg) {\n",
       "    var format_dropdown = fig.format_dropdown;\n",
       "    var format = format_dropdown.options[format_dropdown.selectedIndex].value;\n",
       "    fig.ondownload(fig, format);\n",
       "}\n",
       "\n",
       "\n",
       "mpl.figure.prototype.handle_resize = function(fig, msg) {\n",
       "    var size = msg['size'];\n",
       "    if (size[0] != fig.canvas.width || size[1] != fig.canvas.height) {\n",
       "        fig._resize_canvas(size[0], size[1]);\n",
       "        fig.send_message(\"refresh\", {});\n",
       "    };\n",
       "}\n",
       "\n",
       "mpl.figure.prototype.handle_rubberband = function(fig, msg) {\n",
       "    var x0 = msg['x0'] / mpl.ratio;\n",
       "    var y0 = (fig.canvas.height - msg['y0']) / mpl.ratio;\n",
       "    var x1 = msg['x1'] / mpl.ratio;\n",
       "    var y1 = (fig.canvas.height - msg['y1']) / mpl.ratio;\n",
       "    x0 = Math.floor(x0) + 0.5;\n",
       "    y0 = Math.floor(y0) + 0.5;\n",
       "    x1 = Math.floor(x1) + 0.5;\n",
       "    y1 = Math.floor(y1) + 0.5;\n",
       "    var min_x = Math.min(x0, x1);\n",
       "    var min_y = Math.min(y0, y1);\n",
       "    var width = Math.abs(x1 - x0);\n",
       "    var height = Math.abs(y1 - y0);\n",
       "\n",
       "    fig.rubberband_context.clearRect(\n",
       "        0, 0, fig.canvas.width, fig.canvas.height);\n",
       "\n",
       "    fig.rubberband_context.strokeRect(min_x, min_y, width, height);\n",
       "}\n",
       "\n",
       "mpl.figure.prototype.handle_figure_label = function(fig, msg) {\n",
       "    // Updates the figure title.\n",
       "    fig.header.textContent = msg['label'];\n",
       "}\n",
       "\n",
       "mpl.figure.prototype.handle_cursor = function(fig, msg) {\n",
       "    var cursor = msg['cursor'];\n",
       "    switch(cursor)\n",
       "    {\n",
       "    case 0:\n",
       "        cursor = 'pointer';\n",
       "        break;\n",
       "    case 1:\n",
       "        cursor = 'default';\n",
       "        break;\n",
       "    case 2:\n",
       "        cursor = 'crosshair';\n",
       "        break;\n",
       "    case 3:\n",
       "        cursor = 'move';\n",
       "        break;\n",
       "    }\n",
       "    fig.rubberband_canvas.style.cursor = cursor;\n",
       "}\n",
       "\n",
       "mpl.figure.prototype.handle_message = function(fig, msg) {\n",
       "    fig.message.textContent = msg['message'];\n",
       "}\n",
       "\n",
       "mpl.figure.prototype.handle_draw = function(fig, msg) {\n",
       "    // Request the server to send over a new figure.\n",
       "    fig.send_draw_message();\n",
       "}\n",
       "\n",
       "mpl.figure.prototype.handle_image_mode = function(fig, msg) {\n",
       "    fig.image_mode = msg['mode'];\n",
       "}\n",
       "\n",
       "mpl.figure.prototype.updated_canvas_event = function() {\n",
       "    // Called whenever the canvas gets updated.\n",
       "    this.send_message(\"ack\", {});\n",
       "}\n",
       "\n",
       "// A function to construct a web socket function for onmessage handling.\n",
       "// Called in the figure constructor.\n",
       "mpl.figure.prototype._make_on_message_function = function(fig) {\n",
       "    return function socket_on_message(evt) {\n",
       "        if (evt.data instanceof Blob) {\n",
       "            /* FIXME: We get \"Resource interpreted as Image but\n",
       "             * transferred with MIME type text/plain:\" errors on\n",
       "             * Chrome.  But how to set the MIME type?  It doesn't seem\n",
       "             * to be part of the websocket stream */\n",
       "            evt.data.type = \"image/png\";\n",
       "\n",
       "            /* Free the memory for the previous frames */\n",
       "            if (fig.imageObj.src) {\n",
       "                (window.URL || window.webkitURL).revokeObjectURL(\n",
       "                    fig.imageObj.src);\n",
       "            }\n",
       "\n",
       "            fig.imageObj.src = (window.URL || window.webkitURL).createObjectURL(\n",
       "                evt.data);\n",
       "            fig.updated_canvas_event();\n",
       "            fig.waiting = false;\n",
       "            return;\n",
       "        }\n",
       "        else if (typeof evt.data === 'string' && evt.data.slice(0, 21) == \"data:image/png;base64\") {\n",
       "            fig.imageObj.src = evt.data;\n",
       "            fig.updated_canvas_event();\n",
       "            fig.waiting = false;\n",
       "            return;\n",
       "        }\n",
       "\n",
       "        var msg = JSON.parse(evt.data);\n",
       "        var msg_type = msg['type'];\n",
       "\n",
       "        // Call the  \"handle_{type}\" callback, which takes\n",
       "        // the figure and JSON message as its only arguments.\n",
       "        try {\n",
       "            var callback = fig[\"handle_\" + msg_type];\n",
       "        } catch (e) {\n",
       "            console.log(\"No handler for the '\" + msg_type + \"' message type: \", msg);\n",
       "            return;\n",
       "        }\n",
       "\n",
       "        if (callback) {\n",
       "            try {\n",
       "                // console.log(\"Handling '\" + msg_type + \"' message: \", msg);\n",
       "                callback(fig, msg);\n",
       "            } catch (e) {\n",
       "                console.log(\"Exception inside the 'handler_\" + msg_type + \"' callback:\", e, e.stack, msg);\n",
       "            }\n",
       "        }\n",
       "    };\n",
       "}\n",
       "\n",
       "// from http://stackoverflow.com/questions/1114465/getting-mouse-location-in-canvas\n",
       "mpl.findpos = function(e) {\n",
       "    //this section is from http://www.quirksmode.org/js/events_properties.html\n",
       "    var targ;\n",
       "    if (!e)\n",
       "        e = window.event;\n",
       "    if (e.target)\n",
       "        targ = e.target;\n",
       "    else if (e.srcElement)\n",
       "        targ = e.srcElement;\n",
       "    if (targ.nodeType == 3) // defeat Safari bug\n",
       "        targ = targ.parentNode;\n",
       "\n",
       "    // jQuery normalizes the pageX and pageY\n",
       "    // pageX,Y are the mouse positions relative to the document\n",
       "    // offset() returns the position of the element relative to the document\n",
       "    var x = e.pageX - $(targ).offset().left;\n",
       "    var y = e.pageY - $(targ).offset().top;\n",
       "\n",
       "    return {\"x\": x, \"y\": y};\n",
       "};\n",
       "\n",
       "/*\n",
       " * return a copy of an object with only non-object keys\n",
       " * we need this to avoid circular references\n",
       " * http://stackoverflow.com/a/24161582/3208463\n",
       " */\n",
       "function simpleKeys (original) {\n",
       "  return Object.keys(original).reduce(function (obj, key) {\n",
       "    if (typeof original[key] !== 'object')\n",
       "        obj[key] = original[key]\n",
       "    return obj;\n",
       "  }, {});\n",
       "}\n",
       "\n",
       "mpl.figure.prototype.mouse_event = function(event, name) {\n",
       "    var canvas_pos = mpl.findpos(event)\n",
       "\n",
       "    if (name === 'button_press')\n",
       "    {\n",
       "        this.canvas.focus();\n",
       "        this.canvas_div.focus();\n",
       "    }\n",
       "\n",
       "    var x = canvas_pos.x * mpl.ratio;\n",
       "    var y = canvas_pos.y * mpl.ratio;\n",
       "\n",
       "    this.send_message(name, {x: x, y: y, button: event.button,\n",
       "                             step: event.step,\n",
       "                             guiEvent: simpleKeys(event)});\n",
       "\n",
       "    /* This prevents the web browser from automatically changing to\n",
       "     * the text insertion cursor when the button is pressed.  We want\n",
       "     * to control all of the cursor setting manually through the\n",
       "     * 'cursor' event from matplotlib */\n",
       "    event.preventDefault();\n",
       "    return false;\n",
       "}\n",
       "\n",
       "mpl.figure.prototype._key_event_extra = function(event, name) {\n",
       "    // Handle any extra behaviour associated with a key event\n",
       "}\n",
       "\n",
       "mpl.figure.prototype.key_event = function(event, name) {\n",
       "\n",
       "    // Prevent repeat events\n",
       "    if (name == 'key_press')\n",
       "    {\n",
       "        if (event.which === this._key)\n",
       "            return;\n",
       "        else\n",
       "            this._key = event.which;\n",
       "    }\n",
       "    if (name == 'key_release')\n",
       "        this._key = null;\n",
       "\n",
       "    var value = '';\n",
       "    if (event.ctrlKey && event.which != 17)\n",
       "        value += \"ctrl+\";\n",
       "    if (event.altKey && event.which != 18)\n",
       "        value += \"alt+\";\n",
       "    if (event.shiftKey && event.which != 16)\n",
       "        value += \"shift+\";\n",
       "\n",
       "    value += 'k';\n",
       "    value += event.which.toString();\n",
       "\n",
       "    this._key_event_extra(event, name);\n",
       "\n",
       "    this.send_message(name, {key: value,\n",
       "                             guiEvent: simpleKeys(event)});\n",
       "    return false;\n",
       "}\n",
       "\n",
       "mpl.figure.prototype.toolbar_button_onclick = function(name) {\n",
       "    if (name == 'download') {\n",
       "        this.handle_save(this, null);\n",
       "    } else {\n",
       "        this.send_message(\"toolbar_button\", {name: name});\n",
       "    }\n",
       "};\n",
       "\n",
       "mpl.figure.prototype.toolbar_button_onmouseover = function(tooltip) {\n",
       "    this.message.textContent = tooltip;\n",
       "};\n",
       "mpl.toolbar_items = [[\"Home\", \"Reset original view\", \"fa fa-home icon-home\", \"home\"], [\"Back\", \"Back to previous view\", \"fa fa-arrow-left icon-arrow-left\", \"back\"], [\"Forward\", \"Forward to next view\", \"fa fa-arrow-right icon-arrow-right\", \"forward\"], [\"\", \"\", \"\", \"\"], [\"Pan\", \"Pan axes with left mouse, zoom with right\", \"fa fa-arrows icon-move\", \"pan\"], [\"Zoom\", \"Zoom to rectangle\", \"fa fa-square-o icon-check-empty\", \"zoom\"], [\"\", \"\", \"\", \"\"], [\"Download\", \"Download plot\", \"fa fa-floppy-o icon-save\", \"download\"]];\n",
       "\n",
       "mpl.extensions = [\"eps\", \"jpeg\", \"pdf\", \"png\", \"ps\", \"raw\", \"svg\", \"tif\"];\n",
       "\n",
       "mpl.default_extension = \"png\";var comm_websocket_adapter = function(comm) {\n",
       "    // Create a \"websocket\"-like object which calls the given IPython comm\n",
       "    // object with the appropriate methods. Currently this is a non binary\n",
       "    // socket, so there is still some room for performance tuning.\n",
       "    var ws = {};\n",
       "\n",
       "    ws.close = function() {\n",
       "        comm.close()\n",
       "    };\n",
       "    ws.send = function(m) {\n",
       "        //console.log('sending', m);\n",
       "        comm.send(m);\n",
       "    };\n",
       "    // Register the callback with on_msg.\n",
       "    comm.on_msg(function(msg) {\n",
       "        //console.log('receiving', msg['content']['data'], msg);\n",
       "        // Pass the mpl event to the overridden (by mpl) onmessage function.\n",
       "        ws.onmessage(msg['content']['data'])\n",
       "    });\n",
       "    return ws;\n",
       "}\n",
       "\n",
       "mpl.mpl_figure_comm = function(comm, msg) {\n",
       "    // This is the function which gets called when the mpl process\n",
       "    // starts-up an IPython Comm through the \"matplotlib\" channel.\n",
       "\n",
       "    var id = msg.content.data.id;\n",
       "    // Get hold of the div created by the display call when the Comm\n",
       "    // socket was opened in Python.\n",
       "    var element = $(\"#\" + id);\n",
       "    var ws_proxy = comm_websocket_adapter(comm)\n",
       "\n",
       "    function ondownload(figure, format) {\n",
       "        window.open(figure.imageObj.src);\n",
       "    }\n",
       "\n",
       "    var fig = new mpl.figure(id, ws_proxy,\n",
       "                           ondownload,\n",
       "                           element.get(0));\n",
       "\n",
       "    // Call onopen now - mpl needs it, as it is assuming we've passed it a real\n",
       "    // web socket which is closed, not our websocket->open comm proxy.\n",
       "    ws_proxy.onopen();\n",
       "\n",
       "    fig.parent_element = element.get(0);\n",
       "    fig.cell_info = mpl.find_output_cell(\"<div id='\" + id + \"'></div>\");\n",
       "    if (!fig.cell_info) {\n",
       "        console.error(\"Failed to find cell for figure\", id, fig);\n",
       "        return;\n",
       "    }\n",
       "\n",
       "    var output_index = fig.cell_info[2]\n",
       "    var cell = fig.cell_info[0];\n",
       "\n",
       "};\n",
       "\n",
       "mpl.figure.prototype.handle_close = function(fig, msg) {\n",
       "    var width = fig.canvas.width/mpl.ratio\n",
       "    fig.root.unbind('remove')\n",
       "\n",
       "    // Update the output cell to use the data from the current canvas.\n",
       "    fig.push_to_output();\n",
       "    var dataURL = fig.canvas.toDataURL();\n",
       "    // Re-enable the keyboard manager in IPython - without this line, in FF,\n",
       "    // the notebook keyboard shortcuts fail.\n",
       "    IPython.keyboard_manager.enable()\n",
       "    $(fig.parent_element).html('<img src=\"' + dataURL + '\" width=\"' + width + '\">');\n",
       "    fig.close_ws(fig, msg);\n",
       "}\n",
       "\n",
       "mpl.figure.prototype.close_ws = function(fig, msg){\n",
       "    fig.send_message('closing', msg);\n",
       "    // fig.ws.close()\n",
       "}\n",
       "\n",
       "mpl.figure.prototype.push_to_output = function(remove_interactive) {\n",
       "    // Turn the data on the canvas into data in the output cell.\n",
       "    var width = this.canvas.width/mpl.ratio\n",
       "    var dataURL = this.canvas.toDataURL();\n",
       "    this.cell_info[1]['text/html'] = '<img src=\"' + dataURL + '\" width=\"' + width + '\">';\n",
       "}\n",
       "\n",
       "mpl.figure.prototype.updated_canvas_event = function() {\n",
       "    // Tell IPython that the notebook contents must change.\n",
       "    IPython.notebook.set_dirty(true);\n",
       "    this.send_message(\"ack\", {});\n",
       "    var fig = this;\n",
       "    // Wait a second, then push the new image to the DOM so\n",
       "    // that it is saved nicely (might be nice to debounce this).\n",
       "    setTimeout(function () { fig.push_to_output() }, 1000);\n",
       "}\n",
       "\n",
       "mpl.figure.prototype._init_toolbar = function() {\n",
       "    var fig = this;\n",
       "\n",
       "    var nav_element = $('<div/>')\n",
       "    nav_element.attr('style', 'width: 100%');\n",
       "    this.root.append(nav_element);\n",
       "\n",
       "    // Define a callback function for later on.\n",
       "    function toolbar_event(event) {\n",
       "        return fig.toolbar_button_onclick(event['data']);\n",
       "    }\n",
       "    function toolbar_mouse_event(event) {\n",
       "        return fig.toolbar_button_onmouseover(event['data']);\n",
       "    }\n",
       "\n",
       "    for(var toolbar_ind in mpl.toolbar_items){\n",
       "        var name = mpl.toolbar_items[toolbar_ind][0];\n",
       "        var tooltip = mpl.toolbar_items[toolbar_ind][1];\n",
       "        var image = mpl.toolbar_items[toolbar_ind][2];\n",
       "        var method_name = mpl.toolbar_items[toolbar_ind][3];\n",
       "\n",
       "        if (!name) { continue; };\n",
       "\n",
       "        var button = $('<button class=\"btn btn-default\" href=\"#\" title=\"' + name + '\"><i class=\"fa ' + image + ' fa-lg\"></i></button>');\n",
       "        button.click(method_name, toolbar_event);\n",
       "        button.mouseover(tooltip, toolbar_mouse_event);\n",
       "        nav_element.append(button);\n",
       "    }\n",
       "\n",
       "    // Add the status bar.\n",
       "    var status_bar = $('<span class=\"mpl-message\" style=\"text-align:right; float: right;\"/>');\n",
       "    nav_element.append(status_bar);\n",
       "    this.message = status_bar[0];\n",
       "\n",
       "    // Add the close button to the window.\n",
       "    var buttongrp = $('<div class=\"btn-group inline pull-right\"></div>');\n",
       "    var button = $('<button class=\"btn btn-mini btn-primary\" href=\"#\" title=\"Stop Interaction\"><i class=\"fa fa-power-off icon-remove icon-large\"></i></button>');\n",
       "    button.click(function (evt) { fig.handle_close(fig, {}); } );\n",
       "    button.mouseover('Stop Interaction', toolbar_mouse_event);\n",
       "    buttongrp.append(button);\n",
       "    var titlebar = this.root.find($('.ui-dialog-titlebar'));\n",
       "    titlebar.prepend(buttongrp);\n",
       "}\n",
       "\n",
       "mpl.figure.prototype._root_extra_style = function(el){\n",
       "    var fig = this\n",
       "    el.on(\"remove\", function(){\n",
       "\tfig.close_ws(fig, {});\n",
       "    });\n",
       "}\n",
       "\n",
       "mpl.figure.prototype._canvas_extra_style = function(el){\n",
       "    // this is important to make the div 'focusable\n",
       "    el.attr('tabindex', 0)\n",
       "    // reach out to IPython and tell the keyboard manager to turn it's self\n",
       "    // off when our div gets focus\n",
       "\n",
       "    // location in version 3\n",
       "    if (IPython.notebook.keyboard_manager) {\n",
       "        IPython.notebook.keyboard_manager.register_events(el);\n",
       "    }\n",
       "    else {\n",
       "        // location in version 2\n",
       "        IPython.keyboard_manager.register_events(el);\n",
       "    }\n",
       "\n",
       "}\n",
       "\n",
       "mpl.figure.prototype._key_event_extra = function(event, name) {\n",
       "    var manager = IPython.notebook.keyboard_manager;\n",
       "    if (!manager)\n",
       "        manager = IPython.keyboard_manager;\n",
       "\n",
       "    // Check for shift+enter\n",
       "    if (event.shiftKey && event.which == 13) {\n",
       "        this.canvas_div.blur();\n",
       "        event.shiftKey = false;\n",
       "        // Send a \"J\" for go to next cell\n",
       "        event.which = 74;\n",
       "        event.keyCode = 74;\n",
       "        manager.command_mode();\n",
       "        manager.handle_keydown(event);\n",
       "    }\n",
       "}\n",
       "\n",
       "mpl.figure.prototype.handle_save = function(fig, msg) {\n",
       "    fig.ondownload(fig, null);\n",
       "}\n",
       "\n",
       "\n",
       "mpl.find_output_cell = function(html_output) {\n",
       "    // Return the cell and output element which can be found *uniquely* in the notebook.\n",
       "    // Note - this is a bit hacky, but it is done because the \"notebook_saving.Notebook\"\n",
       "    // IPython event is triggered only after the cells have been serialised, which for\n",
       "    // our purposes (turning an active figure into a static one), is too late.\n",
       "    var cells = IPython.notebook.get_cells();\n",
       "    var ncells = cells.length;\n",
       "    for (var i=0; i<ncells; i++) {\n",
       "        var cell = cells[i];\n",
       "        if (cell.cell_type === 'code'){\n",
       "            for (var j=0; j<cell.output_area.outputs.length; j++) {\n",
       "                var data = cell.output_area.outputs[j];\n",
       "                if (data.data) {\n",
       "                    // IPython >= 3 moved mimebundle to data attribute of output\n",
       "                    data = data.data;\n",
       "                }\n",
       "                if (data['text/html'] == html_output) {\n",
       "                    return [cell, data, j];\n",
       "                }\n",
       "            }\n",
       "        }\n",
       "    }\n",
       "}\n",
       "\n",
       "// Register the function which deals with the matplotlib target/channel.\n",
       "// The kernel may be null if the page has been refreshed.\n",
       "if (IPython.notebook.kernel != null) {\n",
       "    IPython.notebook.kernel.comm_manager.register_target('matplotlib', mpl.mpl_figure_comm);\n",
       "}\n"
      ],
      "text/plain": [
       "<IPython.core.display.Javascript object>"
      ]
     },
     "metadata": {},
     "output_type": "display_data"
    },
    {
     "data": {
      "text/html": [
       "<img src=\"data:image/png;base64,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\" width=\"640\">"
      ],
      "text/plain": [
       "<IPython.core.display.HTML object>"
      ]
     },
     "metadata": {},
     "output_type": "display_data"
    }
   ],
   "source": [
    "%matplotlib notebook\n",
    "sir_model_3.compare_infected_immune()"
   ]
  }
 ],
 "metadata": {
  "kernelspec": {
   "display_name": "Python 3",
   "language": "python",
   "name": "python3"
  },
  "language_info": {
   "codemirror_mode": {
    "name": "ipython",
    "version": 3
   },
   "file_extension": ".py",
   "mimetype": "text/x-python",
   "name": "python",
   "nbconvert_exporter": "python",
   "pygments_lexer": "ipython3",
   "version": "3.6.7"
  }
 },
 "nbformat": 4,
 "nbformat_minor": 2
}
