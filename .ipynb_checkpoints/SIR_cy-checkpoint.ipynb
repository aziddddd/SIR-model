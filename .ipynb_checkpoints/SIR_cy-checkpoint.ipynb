{
 "cells": [
  {
   "cell_type": "markdown",
   "metadata": {},
   "source": [
    "#### Import required package"
   ]
  },
  {
   "cell_type": "code",
   "execution_count": 1,
   "metadata": {},
   "outputs": [
    {
     "name": "stderr",
     "output_type": "stream",
     "text": [
      "warning: ca_utils_cy.pyx:215:41: Index should be typed for more efficient access\n"
     ]
    }
   ],
   "source": [
    "from __future__ import division\n",
    "import pyximport\n",
    "import numpy as np\n",
    "pyximport.install(setup_args={\n",
    "                              \"script_args\":[\"--compiler=mingw32\"],\n",
    "                              \"include_dirs\":np.get_include()\n",
    "                            },\n",
    "                  language_level=3,\n",
    "                  reload_support=True)\n",
    "import ca_utils_cy                           # cythonized python module\n",
    "# import ca_utils                            # unoptimized python module\n",
    "import matplotlib.pyplot as plt"
   ]
  },
  {
   "cell_type": "code",
   "execution_count": 2,
   "metadata": {},
   "outputs": [],
   "source": [
    "plt.rcParams['figure.figsize'] = (5,5)"
   ]
  },
  {
   "cell_type": "markdown",
   "metadata": {},
   "source": [
    "#### Initilisation Model 1 (Visualisation, Phase Diagram & Variance)"
   ]
  },
  {
   "cell_type": "code",
   "execution_count": 3,
   "metadata": {},
   "outputs": [],
   "source": [
    "N           = 20                            # lattice size\n",
    "p1, p2, p3  = 0.05, 0.5, 0.05               # p for visualisation\n",
    "S0, I0, R0  = 0.2, 0.3, 0.5                 # initial fraction of S, I, R\n",
    "equistep    = 100                           # equilibrate sweep\n",
    "calcstep    = 10000                          # measurement sweep\n",
    "factor      = int(calcstep/10)              # because of 'if (j%10 == 0):' in 'analyse' fn\n",
    "\n",
    "p = [p1, p2, p3]\n",
    "fraction = [S0, I0, R0]\n",
    "\n",
    "np.random.seed(0)\n",
    "# sir_model = ca_utils.SIR(N, fraction, p, factor, equistep, calcstep)\n",
    "sir_model = ca_utils_cy.SIR(N, fraction, p, factor, equistep, calcstep)"
   ]
  },
  {
   "cell_type": "markdown",
   "metadata": {},
   "source": [
    "#### Results"
   ]
  },
  {
   "cell_type": "markdown",
   "metadata": {},
   "source": [
    "- Animation"
   ]
  },
  {
   "cell_type": "markdown",
   "metadata": {},
   "source": [
    "\n",
    "<font color='orange'>Absorbing Phase ( S only )</font>\n",
    "    - p1, p2, p3  = 0.05, 0.5, 0.05 \n",
    "<font color='cyan'>Absorbing Phase ( S and I )</font>\n",
    "    - p1, p2, p3  = 0.05, 0.5, 0.0\n",
    "<font color='green'>Dynamic Equilibrium ( Cyclic Permutation if S, I and R )</font>\n",
    "    - p1, p2, p3  = 0.05, 0.5, 0.05\n",
    "<font color='grey'>Wave</font>\n",
    "    - p1, p2, p3  ="
   ]
  },
  {
   "cell_type": "code",
   "execution_count": 4,
   "metadata": {
    "scrolled": false
   },
   "outputs": [
    {
     "data": {
      "image/png": "[encoded data removed]",
      "text/plain": [
       "<Figure size 360x360 with 1 Axes>"
      ]
     },
     "metadata": {},
     "output_type": "display_data"
    }
   ],
   "source": [
    "sir_model.DynamicPlot(50)"
   ]
  },
  {
   "cell_type": "markdown",
   "metadata": {},
   "source": [
    "- Method behavior\n",
    "    - Phase Diagram of SIR model\n",
    "    - Variance, < $\\psi$ >"
   ]
  },
  {
   "cell_type": "code",
   "execution_count": 5,
   "metadata": {
    "scrolled": true
   },
   "outputs": [
    {
     "data": {
      "application/vnd.jupyter.widget-view+json": {
       "model_id": "",
       "version_major": 2,
       "version_minor": 0
      },
      "text/plain": [
       "HBox(children=(IntProgress(value=0, description='Row', max=10, style=ProgressStyle(description_width='initial'…"
      ]
     },
     "metadata": {},
     "output_type": "display_data"
    },
    {
     "data": {
      "application/vnd.jupyter.widget-view+json": {
       "model_id": "",
       "version_major": 2,
       "version_minor": 0
      },
      "text/plain": [
       "HBox(children=(IntProgress(value=0, description='Col', max=10, style=ProgressStyle(description_width='initial'…"
      ]
     },
     "metadata": {},
     "output_type": "display_data"
    },
    {
     "data": {
      "application/vnd.jupyter.widget-view+json": {
       "model_id": "",
       "version_major": 2,
       "version_minor": 0
      },
      "text/plain": [
       "HBox(children=(IntProgress(value=0, description='Equilibrate sweep', style=ProgressStyle(description_width='in…"
      ]
     },
     "metadata": {},
     "output_type": "display_data"
    },
    {
     "data": {
      "application/vnd.jupyter.widget-view+json": {
       "model_id": "",
       "version_major": 2,
       "version_minor": 0
      },
      "text/plain": [
       "HBox(children=(IntProgress(value=0, description='Measurement sweep', max=1000, style=ProgressStyle(description…"
      ]
     },
     "metadata": {},
     "output_type": "display_data"
    },
    {
     "data": {
      "application/vnd.jupyter.widget-view+json": {
       "model_id": "",
       "version_major": 2,
       "version_minor": 0
      },
      "text/plain": [
       "HBox(children=(IntProgress(value=0, description='Equilibrate sweep', style=ProgressStyle(description_width='in…"
      ]
     },
     "metadata": {},
     "output_type": "display_data"
    },
    {
     "data": {
      "application/vnd.jupyter.widget-view+json": {
       "model_id": "",
       "version_major": 2,
       "version_minor": 0
      },
      "text/plain": [
       "HBox(children=(IntProgress(value=0, description='Measurement sweep', max=1000, style=ProgressStyle(description…"
      ]
     },
     "metadata": {},
     "output_type": "display_data"
    },
    {
     "data": {
      "application/vnd.jupyter.widget-view+json": {
       "model_id": "",
       "version_major": 2,
       "version_minor": 0
      },
      "text/plain": [
       "HBox(children=(IntProgress(value=0, description='Equilibrate sweep', style=ProgressStyle(description_width='in…"
      ]
     },
     "metadata": {},
     "output_type": "display_data"
    },
    {
     "data": {
      "application/vnd.jupyter.widget-view+json": {
       "model_id": "",
       "version_major": 2,
       "version_minor": 0
      },
      "text/plain": [
       "HBox(children=(IntProgress(value=0, description='Measurement sweep', max=1000, style=ProgressStyle(description…"
      ]
     },
     "metadata": {},
     "output_type": "display_data"
    },
    {
     "data": {
      "application/vnd.jupyter.widget-view+json": {
       "model_id": "",
       "version_major": 2,
       "version_minor": 0
      },
      "text/plain": [
       "HBox(children=(IntProgress(value=0, description='Equilibrate sweep', style=ProgressStyle(description_width='in…"
      ]
     },
     "metadata": {},
     "output_type": "display_data"
    },
    {
     "data": {
      "application/vnd.jupyter.widget-view+json": {
       "model_id": "",
       "version_major": 2,
       "version_minor": 0
      },
      "text/plain": [
       "HBox(children=(IntProgress(value=0, description='Measurement sweep', max=1000, style=ProgressStyle(description…"
      ]
     },
     "metadata": {},
     "output_type": "display_data"
    },
    {
     "data": {
      "application/vnd.jupyter.widget-view+json": {
       "model_id": "",
       "version_major": 2,
       "version_minor": 0
      },
      "text/plain": [
       "HBox(children=(IntProgress(value=0, description='Equilibrate sweep', style=ProgressStyle(description_width='in…"
      ]
     },
     "metadata": {},
     "output_type": "display_data"
    },
    {
     "data": {
      "application/vnd.jupyter.widget-view+json": {
       "model_id": "",
       "version_major": 2,
       "version_minor": 0
      },
      "text/plain": [
       "HBox(children=(IntProgress(value=0, description='Measurement sweep', max=1000, style=ProgressStyle(description…"
      ]
     },
     "metadata": {},
     "output_type": "display_data"
    },
    {
     "data": {
      "application/vnd.jupyter.widget-view+json": {
       "model_id": "",
       "version_major": 2,
       "version_minor": 0
      },
      "text/plain": [
       "HBox(children=(IntProgress(value=0, description='Equilibrate sweep', style=ProgressStyle(description_width='in…"
      ]
     },
     "metadata": {},
     "output_type": "display_data"
    },
    {
     "data": {
      "application/vnd.jupyter.widget-view+json": {
       "model_id": "",
       "version_major": 2,
       "version_minor": 0
      },
      "text/plain": [
       "HBox(children=(IntProgress(value=0, description='Measurement sweep', max=1000, style=ProgressStyle(description…"
      ]
     },
     "metadata": {},
     "output_type": "display_data"
    },
    {
     "data": {
      "application/vnd.jupyter.widget-view+json": {
       "model_id": "",
       "version_major": 2,
       "version_minor": 0
      },
      "text/plain": [
       "HBox(children=(IntProgress(value=0, description='Equilibrate sweep', style=ProgressStyle(description_width='in…"
      ]
     },
     "metadata": {},
     "output_type": "display_data"
    },
    {
     "data": {
      "application/vnd.jupyter.widget-view+json": {
       "model_id": "",
       "version_major": 2,
       "version_minor": 0
      },
      "text/plain": [
       "HBox(children=(IntProgress(value=0, description='Measurement sweep', max=1000, style=ProgressStyle(description…"
      ]
     },
     "metadata": {},
     "output_type": "display_data"
    },
    {
     "data": {
      "application/vnd.jupyter.widget-view+json": {
       "model_id": "",
       "version_major": 2,
       "version_minor": 0
      },
      "text/plain": [
       "HBox(children=(IntProgress(value=0, description='Equilibrate sweep', style=ProgressStyle(description_width='in…"
      ]
     },
     "metadata": {},
     "output_type": "display_data"
    },
    {
     "data": {
      "application/vnd.jupyter.widget-view+json": {
       "model_id": "",
       "version_major": 2,
       "version_minor": 0
      },
      "text/plain": [
       "HBox(children=(IntProgress(value=0, description='Measurement sweep', max=1000, style=ProgressStyle(description…"
      ]
     },
     "metadata": {},
     "output_type": "display_data"
    },
    {
     "data": {
      "application/vnd.jupyter.widget-view+json": {
       "model_id": "",
       "version_major": 2,
       "version_minor": 0
      },
      "text/plain": [
       "HBox(children=(IntProgress(value=0, description='Equilibrate sweep', style=ProgressStyle(description_width='in…"
      ]
     },
     "metadata": {},
     "output_type": "display_data"
    },
    {
     "data": {
      "application/vnd.jupyter.widget-view+json": {
       "model_id": "",
       "version_major": 2,
       "version_minor": 0
      },
      "text/plain": [
       "HBox(children=(IntProgress(value=0, description='Measurement sweep', max=1000, style=ProgressStyle(description…"
      ]
     },
     "metadata": {},
     "output_type": "display_data"
    },
    {
     "data": {
      "application/vnd.jupyter.widget-view+json": {
       "model_id": "",
       "version_major": 2,
       "version_minor": 0
      },
      "text/plain": [
       "HBox(children=(IntProgress(value=0, description='Equilibrate sweep', style=ProgressStyle(description_width='in…"
      ]
     },
     "metadata": {},
     "output_type": "display_data"
    },
    {
     "data": {
      "application/vnd.jupyter.widget-view+json": {
       "model_id": "",
       "version_major": 2,
       "version_minor": 0
      },
      "text/plain": [
       "HBox(children=(IntProgress(value=0, description='Measurement sweep', max=1000, style=ProgressStyle(description…"
      ]
     },
     "metadata": {},
     "output_type": "display_data"
    },
    {
     "data": {
      "application/vnd.jupyter.widget-view+json": {
       "model_id": "",
       "version_major": 2,
       "version_minor": 0
      },
      "text/plain": [
       "HBox(children=(IntProgress(value=0, description='Col', max=10, style=ProgressStyle(description_width='initial'…"
      ]
     },
     "metadata": {},
     "output_type": "display_data"
    },
    {
     "data": {
      "application/vnd.jupyter.widget-view+json": {
       "model_id": "",
       "version_major": 2,
       "version_minor": 0
      },
      "text/plain": [
       "HBox(children=(IntProgress(value=0, description='Equilibrate sweep', style=ProgressStyle(description_width='in…"
      ]
     },
     "metadata": {},
     "output_type": "display_data"
    },
    {
     "data": {
      "application/vnd.jupyter.widget-view+json": {
       "model_id": "",
       "version_major": 2,
       "version_minor": 0
      },
      "text/plain": [
       "HBox(children=(IntProgress(value=0, description='Measurement sweep', max=1000, style=ProgressStyle(description…"
      ]
     },
     "metadata": {},
     "output_type": "display_data"
    },
    {
     "data": {
      "application/vnd.jupyter.widget-view+json": {
       "model_id": "",
       "version_major": 2,
       "version_minor": 0
      },
      "text/plain": [
       "HBox(children=(IntProgress(value=0, description='Equilibrate sweep', style=ProgressStyle(description_width='in…"
      ]
     },
     "metadata": {},
     "output_type": "display_data"
    },
    {
     "data": {
      "application/vnd.jupyter.widget-view+json": {
       "model_id": "",
       "version_major": 2,
       "version_minor": 0
      },
      "text/plain": [
       "HBox(children=(IntProgress(value=0, description='Measurement sweep', max=1000, style=ProgressStyle(description…"
      ]
     },
     "metadata": {},
     "output_type": "display_data"
    },
    {
     "data": {
      "application/vnd.jupyter.widget-view+json": {
       "model_id": "",
       "version_major": 2,
       "version_minor": 0
      },
      "text/plain": [
       "HBox(children=(IntProgress(value=0, description='Equilibrate sweep', style=ProgressStyle(description_width='in…"
      ]
     },
     "metadata": {},
     "output_type": "display_data"
    },
    {
     "data": {
      "application/vnd.jupyter.widget-view+json": {
       "model_id": "",
       "version_major": 2,
       "version_minor": 0
      },
      "text/plain": [
       "HBox(children=(IntProgress(value=0, description='Measurement sweep', max=1000, style=ProgressStyle(description…"
      ]
     },
     "metadata": {},
     "output_type": "display_data"
    },
    {
     "data": {
      "application/vnd.jupyter.widget-view+json": {
       "model_id": "",
       "version_major": 2,
       "version_minor": 0
      },
      "text/plain": [
       "HBox(children=(IntProgress(value=0, description='Equilibrate sweep', style=ProgressStyle(description_width='in…"
      ]
     },
     "metadata": {},
     "output_type": "display_data"
    },
    {
     "data": {
      "application/vnd.jupyter.widget-view+json": {
       "model_id": "",
       "version_major": 2,
       "version_minor": 0
      },
      "text/plain": [
       "HBox(children=(IntProgress(value=0, description='Measurement sweep', max=1000, style=ProgressStyle(description…"
      ]
     },
     "metadata": {},
     "output_type": "display_data"
    },
    {
     "data": {
      "application/vnd.jupyter.widget-view+json": {
       "model_id": "",
       "version_major": 2,
       "version_minor": 0
      },
      "text/plain": [
       "HBox(children=(IntProgress(value=0, description='Equilibrate sweep', style=ProgressStyle(description_width='in…"
      ]
     },
     "metadata": {},
     "output_type": "display_data"
    },
    {
     "data": {
      "application/vnd.jupyter.widget-view+json": {
       "model_id": "",
       "version_major": 2,
       "version_minor": 0
      },
      "text/plain": [
       "HBox(children=(IntProgress(value=0, description='Measurement sweep', max=1000, style=ProgressStyle(description…"
      ]
     },
     "metadata": {},
     "output_type": "display_data"
    },
    {
     "data": {
      "application/vnd.jupyter.widget-view+json": {
       "model_id": "",
       "version_major": 2,
       "version_minor": 0
      },
      "text/plain": [
       "HBox(children=(IntProgress(value=0, description='Equilibrate sweep', style=ProgressStyle(description_width='in…"
      ]
     },
     "metadata": {},
     "output_type": "display_data"
    },
    {
     "data": {
      "application/vnd.jupyter.widget-view+json": {
       "model_id": "",
       "version_major": 2,
       "version_minor": 0
      },
      "text/plain": [
       "HBox(children=(IntProgress(value=0, description='Measurement sweep', max=1000, style=ProgressStyle(description…"
      ]
     },
     "metadata": {},
     "output_type": "display_data"
    },
    {
     "data": {
      "application/vnd.jupyter.widget-view+json": {
       "model_id": "",
       "version_major": 2,
       "version_minor": 0
      },
      "text/plain": [
       "HBox(children=(IntProgress(value=0, description='Equilibrate sweep', style=ProgressStyle(description_width='in…"
      ]
     },
     "metadata": {},
     "output_type": "display_data"
    },
    {
     "data": {
      "application/vnd.jupyter.widget-view+json": {
       "model_id": "",
       "version_major": 2,
       "version_minor": 0
      },
      "text/plain": [
       "HBox(children=(IntProgress(value=0, description='Measurement sweep', max=1000, style=ProgressStyle(description…"
      ]
     },
     "metadata": {},
     "output_type": "display_data"
    },
    {
     "data": {
      "application/vnd.jupyter.widget-view+json": {
       "model_id": "",
       "version_major": 2,
       "version_minor": 0
      },
      "text/plain": [
       "HBox(children=(IntProgress(value=0, description='Equilibrate sweep', style=ProgressStyle(description_width='in…"
      ]
     },
     "metadata": {},
     "output_type": "display_data"
    },
    {
     "data": {
      "application/vnd.jupyter.widget-view+json": {
       "model_id": "",
       "version_major": 2,
       "version_minor": 0
      },
      "text/plain": [
       "HBox(children=(IntProgress(value=0, description='Measurement sweep', max=1000, style=ProgressStyle(description…"
      ]
     },
     "metadata": {},
     "output_type": "display_data"
    },
    {
     "data": {
      "application/vnd.jupyter.widget-view+json": {
       "model_id": "",
       "version_major": 2,
       "version_minor": 0
      },
      "text/plain": [
       "HBox(children=(IntProgress(value=0, description='Equilibrate sweep', style=ProgressStyle(description_width='in…"
      ]
     },
     "metadata": {},
     "output_type": "display_data"
    },
    {
     "data": {
      "application/vnd.jupyter.widget-view+json": {
       "model_id": "",
       "version_major": 2,
       "version_minor": 0
      },
      "text/plain": [
       "HBox(children=(IntProgress(value=0, description='Measurement sweep', max=1000, style=ProgressStyle(description…"
      ]
     },
     "metadata": {},
     "output_type": "display_data"
    },
    {
     "data": {
      "application/vnd.jupyter.widget-view+json": {
       "model_id": "",
       "version_major": 2,
       "version_minor": 0
      },
      "text/plain": [
       "HBox(children=(IntProgress(value=0, description='Equilibrate sweep', style=ProgressStyle(description_width='in…"
      ]
     },
     "metadata": {},
     "output_type": "display_data"
    },
    {
     "data": {
      "application/vnd.jupyter.widget-view+json": {
       "model_id": "",
       "version_major": 2,
       "version_minor": 0
      },
      "text/plain": [
       "HBox(children=(IntProgress(value=0, description='Measurement sweep', max=1000, style=ProgressStyle(description…"
      ]
     },
     "metadata": {},
     "output_type": "display_data"
    },
    {
     "data": {
      "application/vnd.jupyter.widget-view+json": {
       "model_id": "",
       "version_major": 2,
       "version_minor": 0
      },
      "text/plain": [
       "HBox(children=(IntProgress(value=0, description='Col', max=10, style=ProgressStyle(description_width='initial'…"
      ]
     },
     "metadata": {},
     "output_type": "display_data"
    },
    {
     "data": {
      "application/vnd.jupyter.widget-view+json": {
       "model_id": "",
       "version_major": 2,
       "version_minor": 0
      },
      "text/plain": [
       "HBox(children=(IntProgress(value=0, description='Equilibrate sweep', style=ProgressStyle(description_width='in…"
      ]
     },
     "metadata": {},
     "output_type": "display_data"
    },
    {
     "data": {
      "application/vnd.jupyter.widget-view+json": {
       "model_id": "",
       "version_major": 2,
       "version_minor": 0
      },
      "text/plain": [
       "HBox(children=(IntProgress(value=0, description='Measurement sweep', max=1000, style=ProgressStyle(description…"
      ]
     },
     "metadata": {},
     "output_type": "display_data"
    },
    {
     "data": {
      "application/vnd.jupyter.widget-view+json": {
       "model_id": "",
       "version_major": 2,
       "version_minor": 0
      },
      "text/plain": [
       "HBox(children=(IntProgress(value=0, description='Equilibrate sweep', style=ProgressStyle(description_width='in…"
      ]
     },
     "metadata": {},
     "output_type": "display_data"
    },
    {
     "data": {
      "application/vnd.jupyter.widget-view+json": {
       "model_id": "",
       "version_major": 2,
       "version_minor": 0
      },
      "text/plain": [
       "HBox(children=(IntProgress(value=0, description='Measurement sweep', max=1000, style=ProgressStyle(description…"
      ]
     },
     "metadata": {},
     "output_type": "display_data"
    },
    {
     "data": {
      "application/vnd.jupyter.widget-view+json": {
       "model_id": "",
       "version_major": 2,
       "version_minor": 0
      },
      "text/plain": [
       "HBox(children=(IntProgress(value=0, description='Equilibrate sweep', style=ProgressStyle(description_width='in…"
      ]
     },
     "metadata": {},
     "output_type": "display_data"
    },
    {
     "data": {
      "application/vnd.jupyter.widget-view+json": {
       "model_id": "",
       "version_major": 2,
       "version_minor": 0
      },
      "text/plain": [
       "HBox(children=(IntProgress(value=0, description='Measurement sweep', max=1000, style=ProgressStyle(description…"
      ]
     },
     "metadata": {},
     "output_type": "display_data"
    },
    {
     "data": {
      "application/vnd.jupyter.widget-view+json": {
       "model_id": "",
       "version_major": 2,
       "version_minor": 0
      },
      "text/plain": [
       "HBox(children=(IntProgress(value=0, description='Equilibrate sweep', style=ProgressStyle(description_width='in…"
      ]
     },
     "metadata": {},
     "output_type": "display_data"
    },
    {
     "data": {
      "application/vnd.jupyter.widget-view+json": {
       "model_id": "",
       "version_major": 2,
       "version_minor": 0
      },
      "text/plain": [
       "HBox(children=(IntProgress(value=0, description='Measurement sweep', max=1000, style=ProgressStyle(description…"
      ]
     },
     "metadata": {},
     "output_type": "display_data"
    },
    {
     "data": {
      "application/vnd.jupyter.widget-view+json": {
       "model_id": "",
       "version_major": 2,
       "version_minor": 0
      },
      "text/plain": [
       "HBox(children=(IntProgress(value=0, description='Equilibrate sweep', style=ProgressStyle(description_width='in…"
      ]
     },
     "metadata": {},
     "output_type": "display_data"
    },
    {
     "data": {
      "application/vnd.jupyter.widget-view+json": {
       "model_id": "",
       "version_major": 2,
       "version_minor": 0
      },
      "text/plain": [
       "HBox(children=(IntProgress(value=0, description='Measurement sweep', max=1000, style=ProgressStyle(description…"
      ]
     },
     "metadata": {},
     "output_type": "display_data"
    },
    {
     "data": {
      "application/vnd.jupyter.widget-view+json": {
       "model_id": "",
       "version_major": 2,
       "version_minor": 0
      },
      "text/plain": [
       "HBox(children=(IntProgress(value=0, description='Equilibrate sweep', style=ProgressStyle(description_width='in…"
      ]
     },
     "metadata": {},
     "output_type": "display_data"
    },
    {
     "data": {
      "application/vnd.jupyter.widget-view+json": {
       "model_id": "",
       "version_major": 2,
       "version_minor": 0
      },
      "text/plain": [
       "HBox(children=(IntProgress(value=0, description='Measurement sweep', max=1000, style=ProgressStyle(description…"
      ]
     },
     "metadata": {},
     "output_type": "display_data"
    },
    {
     "data": {
      "application/vnd.jupyter.widget-view+json": {
       "model_id": "",
       "version_major": 2,
       "version_minor": 0
      },
      "text/plain": [
       "HBox(children=(IntProgress(value=0, description='Equilibrate sweep', style=ProgressStyle(description_width='in…"
      ]
     },
     "metadata": {},
     "output_type": "display_data"
    },
    {
     "data": {
      "application/vnd.jupyter.widget-view+json": {
       "model_id": "",
       "version_major": 2,
       "version_minor": 0
      },
      "text/plain": [
       "HBox(children=(IntProgress(value=0, description='Measurement sweep', max=1000, style=ProgressStyle(description…"
      ]
     },
     "metadata": {},
     "output_type": "display_data"
    },
    {
     "data": {
      "application/vnd.jupyter.widget-view+json": {
       "model_id": "",
       "version_major": 2,
       "version_minor": 0
      },
      "text/plain": [
       "HBox(children=(IntProgress(value=0, description='Equilibrate sweep', style=ProgressStyle(description_width='in…"
      ]
     },
     "metadata": {},
     "output_type": "display_data"
    },
    {
     "data": {
      "application/vnd.jupyter.widget-view+json": {
       "model_id": "",
       "version_major": 2,
       "version_minor": 0
      },
      "text/plain": [
       "HBox(children=(IntProgress(value=0, description='Measurement sweep', max=1000, style=ProgressStyle(description…"
      ]
     },
     "metadata": {},
     "output_type": "display_data"
    },
    {
     "data": {
      "application/vnd.jupyter.widget-view+json": {
       "model_id": "",
       "version_major": 2,
       "version_minor": 0
      },
      "text/plain": [
       "HBox(children=(IntProgress(value=0, description='Equilibrate sweep', style=ProgressStyle(description_width='in…"
      ]
     },
     "metadata": {},
     "output_type": "display_data"
    },
    {
     "data": {
      "application/vnd.jupyter.widget-view+json": {
       "model_id": "",
       "version_major": 2,
       "version_minor": 0
      },
      "text/plain": [
       "HBox(children=(IntProgress(value=0, description='Measurement sweep', max=1000, style=ProgressStyle(description…"
      ]
     },
     "metadata": {},
     "output_type": "display_data"
    },
    {
     "data": {
      "application/vnd.jupyter.widget-view+json": {
       "model_id": "",
       "version_major": 2,
       "version_minor": 0
      },
      "text/plain": [
       "HBox(children=(IntProgress(value=0, description='Equilibrate sweep', style=ProgressStyle(description_width='in…"
      ]
     },
     "metadata": {},
     "output_type": "display_data"
    },
    {
     "data": {
      "application/vnd.jupyter.widget-view+json": {
       "model_id": "",
       "version_major": 2,
       "version_minor": 0
      },
      "text/plain": [
       "HBox(children=(IntProgress(value=0, description='Measurement sweep', max=1000, style=ProgressStyle(description…"
      ]
     },
     "metadata": {},
     "output_type": "display_data"
    },
    {
     "data": {
      "application/vnd.jupyter.widget-view+json": {
       "model_id": "",
       "version_major": 2,
       "version_minor": 0
      },
      "text/plain": [
       "HBox(children=(IntProgress(value=0, description='Col', max=10, style=ProgressStyle(description_width='initial'…"
      ]
     },
     "metadata": {},
     "output_type": "display_data"
    },
    {
     "data": {
      "application/vnd.jupyter.widget-view+json": {
       "model_id": "",
       "version_major": 2,
       "version_minor": 0
      },
      "text/plain": [
       "HBox(children=(IntProgress(value=0, description='Equilibrate sweep', style=ProgressStyle(description_width='in…"
      ]
     },
     "metadata": {},
     "output_type": "display_data"
    },
    {
     "data": {
      "application/vnd.jupyter.widget-view+json": {
       "model_id": "",
       "version_major": 2,
       "version_minor": 0
      },
      "text/plain": [
       "HBox(children=(IntProgress(value=0, description='Measurement sweep', max=1000, style=ProgressStyle(description…"
      ]
     },
     "metadata": {},
     "output_type": "display_data"
    },
    {
     "data": {
      "application/vnd.jupyter.widget-view+json": {
       "model_id": "",
       "version_major": 2,
       "version_minor": 0
      },
      "text/plain": [
       "HBox(children=(IntProgress(value=0, description='Equilibrate sweep', style=ProgressStyle(description_width='in…"
      ]
     },
     "metadata": {},
     "output_type": "display_data"
    },
    {
     "data": {
      "application/vnd.jupyter.widget-view+json": {
       "model_id": "",
       "version_major": 2,
       "version_minor": 0
      },
      "text/plain": [
       "HBox(children=(IntProgress(value=0, description='Measurement sweep', max=1000, style=ProgressStyle(description…"
      ]
     },
     "metadata": {},
     "output_type": "display_data"
    },
    {
     "data": {
      "application/vnd.jupyter.widget-view+json": {
       "model_id": "",
       "version_major": 2,
       "version_minor": 0
      },
      "text/plain": [
       "HBox(children=(IntProgress(value=0, description='Equilibrate sweep', style=ProgressStyle(description_width='in…"
      ]
     },
     "metadata": {},
     "output_type": "display_data"
    },
    {
     "data": {
      "application/vnd.jupyter.widget-view+json": {
       "model_id": "",
       "version_major": 2,
       "version_minor": 0
      },
      "text/plain": [
       "HBox(children=(IntProgress(value=0, description='Measurement sweep', max=1000, style=ProgressStyle(description…"
      ]
     },
     "metadata": {},
     "output_type": "display_data"
    },
    {
     "data": {
      "application/vnd.jupyter.widget-view+json": {
       "model_id": "",
       "version_major": 2,
       "version_minor": 0
      },
      "text/plain": [
       "HBox(children=(IntProgress(value=0, description='Equilibrate sweep', style=ProgressStyle(description_width='in…"
      ]
     },
     "metadata": {},
     "output_type": "display_data"
    },
    {
     "data": {
      "application/vnd.jupyter.widget-view+json": {
       "model_id": "",
       "version_major": 2,
       "version_minor": 0
      },
      "text/plain": [
       "HBox(children=(IntProgress(value=0, description='Measurement sweep', max=1000, style=ProgressStyle(description…"
      ]
     },
     "metadata": {},
     "output_type": "display_data"
    },
    {
     "data": {
      "application/vnd.jupyter.widget-view+json": {
       "model_id": "",
       "version_major": 2,
       "version_minor": 0
      },
      "text/plain": [
       "HBox(children=(IntProgress(value=0, description='Equilibrate sweep', style=ProgressStyle(description_width='in…"
      ]
     },
     "metadata": {},
     "output_type": "display_data"
    },
    {
     "data": {
      "application/vnd.jupyter.widget-view+json": {
       "model_id": "",
       "version_major": 2,
       "version_minor": 0
      },
      "text/plain": [
       "HBox(children=(IntProgress(value=0, description='Measurement sweep', max=1000, style=ProgressStyle(description…"
      ]
     },
     "metadata": {},
     "output_type": "display_data"
    },
    {
     "data": {
      "application/vnd.jupyter.widget-view+json": {
       "model_id": "",
       "version_major": 2,
       "version_minor": 0
      },
      "text/plain": [
       "HBox(children=(IntProgress(value=0, description='Equilibrate sweep', style=ProgressStyle(description_width='in…"
      ]
     },
     "metadata": {},
     "output_type": "display_data"
    },
    {
     "data": {
      "application/vnd.jupyter.widget-view+json": {
       "model_id": "",
       "version_major": 2,
       "version_minor": 0
      },
      "text/plain": [
       "HBox(children=(IntProgress(value=0, description='Measurement sweep', max=1000, style=ProgressStyle(description…"
      ]
     },
     "metadata": {},
     "output_type": "display_data"
    },
    {
     "data": {
      "application/vnd.jupyter.widget-view+json": {
       "model_id": "",
       "version_major": 2,
       "version_minor": 0
      },
      "text/plain": [
       "HBox(children=(IntProgress(value=0, description='Equilibrate sweep', style=ProgressStyle(description_width='in…"
      ]
     },
     "metadata": {},
     "output_type": "display_data"
    },
    {
     "data": {
      "application/vnd.jupyter.widget-view+json": {
       "model_id": "",
       "version_major": 2,
       "version_minor": 0
      },
      "text/plain": [
       "HBox(children=(IntProgress(value=0, description='Measurement sweep', max=1000, style=ProgressStyle(description…"
      ]
     },
     "metadata": {},
     "output_type": "display_data"
    },
    {
     "data": {
      "application/vnd.jupyter.widget-view+json": {
       "model_id": "",
       "version_major": 2,
       "version_minor": 0
      },
      "text/plain": [
       "HBox(children=(IntProgress(value=0, description='Equilibrate sweep', style=ProgressStyle(description_width='in…"
      ]
     },
     "metadata": {},
     "output_type": "display_data"
    },
    {
     "data": {
      "application/vnd.jupyter.widget-view+json": {
       "model_id": "",
       "version_major": 2,
       "version_minor": 0
      },
      "text/plain": [
       "HBox(children=(IntProgress(value=0, description='Measurement sweep', max=1000, style=ProgressStyle(description…"
      ]
     },
     "metadata": {},
     "output_type": "display_data"
    },
    {
     "data": {
      "application/vnd.jupyter.widget-view+json": {
       "model_id": "",
       "version_major": 2,
       "version_minor": 0
      },
      "text/plain": [
       "HBox(children=(IntProgress(value=0, description='Equilibrate sweep', style=ProgressStyle(description_width='in…"
      ]
     },
     "metadata": {},
     "output_type": "display_data"
    },
    {
     "data": {
      "application/vnd.jupyter.widget-view+json": {
       "model_id": "",
       "version_major": 2,
       "version_minor": 0
      },
      "text/plain": [
       "HBox(children=(IntProgress(value=0, description='Measurement sweep', max=1000, style=ProgressStyle(description…"
      ]
     },
     "metadata": {},
     "output_type": "display_data"
    },
    {
     "data": {
      "application/vnd.jupyter.widget-view+json": {
       "model_id": "",
       "version_major": 2,
       "version_minor": 0
      },
      "text/plain": [
       "HBox(children=(IntProgress(value=0, description='Equilibrate sweep', style=ProgressStyle(description_width='in…"
      ]
     },
     "metadata": {},
     "output_type": "display_data"
    },
    {
     "data": {
      "application/vnd.jupyter.widget-view+json": {
       "model_id": "",
       "version_major": 2,
       "version_minor": 0
      },
      "text/plain": [
       "HBox(children=(IntProgress(value=0, description='Measurement sweep', max=1000, style=ProgressStyle(description…"
      ]
     },
     "metadata": {},
     "output_type": "display_data"
    },
    {
     "data": {
      "application/vnd.jupyter.widget-view+json": {
       "model_id": "",
       "version_major": 2,
       "version_minor": 0
      },
      "text/plain": [
       "HBox(children=(IntProgress(value=0, description='Col', max=10, style=ProgressStyle(description_width='initial'…"
      ]
     },
     "metadata": {},
     "output_type": "display_data"
    },
    {
     "data": {
      "application/vnd.jupyter.widget-view+json": {
       "model_id": "",
       "version_major": 2,
       "version_minor": 0
      },
      "text/plain": [
       "HBox(children=(IntProgress(value=0, description='Equilibrate sweep', style=ProgressStyle(description_width='in…"
      ]
     },
     "metadata": {},
     "output_type": "display_data"
    },
    {
     "data": {
      "application/vnd.jupyter.widget-view+json": {
       "model_id": "",
       "version_major": 2,
       "version_minor": 0
      },
      "text/plain": [
       "HBox(children=(IntProgress(value=0, description='Measurement sweep', max=1000, style=ProgressStyle(description…"
      ]
     },
     "metadata": {},
     "output_type": "display_data"
    },
    {
     "data": {
      "application/vnd.jupyter.widget-view+json": {
       "model_id": "",
       "version_major": 2,
       "version_minor": 0
      },
      "text/plain": [
       "HBox(children=(IntProgress(value=0, description='Equilibrate sweep', style=ProgressStyle(description_width='in…"
      ]
     },
     "metadata": {},
     "output_type": "display_data"
    },
    {
     "data": {
      "application/vnd.jupyter.widget-view+json": {
       "model_id": "",
       "version_major": 2,
       "version_minor": 0
      },
      "text/plain": [
       "HBox(children=(IntProgress(value=0, description='Measurement sweep', max=1000, style=ProgressStyle(description…"
      ]
     },
     "metadata": {},
     "output_type": "display_data"
    },
    {
     "data": {
      "application/vnd.jupyter.widget-view+json": {
       "model_id": "",
       "version_major": 2,
       "version_minor": 0
      },
      "text/plain": [
       "HBox(children=(IntProgress(value=0, description='Equilibrate sweep', style=ProgressStyle(description_width='in…"
      ]
     },
     "metadata": {},
     "output_type": "display_data"
    },
    {
     "data": {
      "application/vnd.jupyter.widget-view+json": {
       "model_id": "",
       "version_major": 2,
       "version_minor": 0
      },
      "text/plain": [
       "HBox(children=(IntProgress(value=0, description='Measurement sweep', max=1000, style=ProgressStyle(description…"
      ]
     },
     "metadata": {},
     "output_type": "display_data"
    },
    {
     "data": {
      "application/vnd.jupyter.widget-view+json": {
       "model_id": "",
       "version_major": 2,
       "version_minor": 0
      },
      "text/plain": [
       "HBox(children=(IntProgress(value=0, description='Equilibrate sweep', style=ProgressStyle(description_width='in…"
      ]
     },
     "metadata": {},
     "output_type": "display_data"
    },
    {
     "data": {
      "application/vnd.jupyter.widget-view+json": {
       "model_id": "",
       "version_major": 2,
       "version_minor": 0
      },
      "text/plain": [
       "HBox(children=(IntProgress(value=0, description='Measurement sweep', max=1000, style=ProgressStyle(description…"
      ]
     },
     "metadata": {},
     "output_type": "display_data"
    },
    {
     "data": {
      "application/vnd.jupyter.widget-view+json": {
       "model_id": "",
       "version_major": 2,
       "version_minor": 0
      },
      "text/plain": [
       "HBox(children=(IntProgress(value=0, description='Equilibrate sweep', style=ProgressStyle(description_width='in…"
      ]
     },
     "metadata": {},
     "output_type": "display_data"
    },
    {
     "data": {
      "application/vnd.jupyter.widget-view+json": {
       "model_id": "",
       "version_major": 2,
       "version_minor": 0
      },
      "text/plain": [
       "HBox(children=(IntProgress(value=0, description='Measurement sweep', max=1000, style=ProgressStyle(description…"
      ]
     },
     "metadata": {},
     "output_type": "display_data"
    },
    {
     "data": {
      "application/vnd.jupyter.widget-view+json": {
       "model_id": "",
       "version_major": 2,
       "version_minor": 0
      },
      "text/plain": [
       "HBox(children=(IntProgress(value=0, description='Equilibrate sweep', style=ProgressStyle(description_width='in…"
      ]
     },
     "metadata": {},
     "output_type": "display_data"
    },
    {
     "data": {
      "application/vnd.jupyter.widget-view+json": {
       "model_id": "",
       "version_major": 2,
       "version_minor": 0
      },
      "text/plain": [
       "HBox(children=(IntProgress(value=0, description='Measurement sweep', max=1000, style=ProgressStyle(description…"
      ]
     },
     "metadata": {},
     "output_type": "display_data"
    },
    {
     "data": {
      "application/vnd.jupyter.widget-view+json": {
       "model_id": "",
       "version_major": 2,
       "version_minor": 0
      },
      "text/plain": [
       "HBox(children=(IntProgress(value=0, description='Equilibrate sweep', style=ProgressStyle(description_width='in…"
      ]
     },
     "metadata": {},
     "output_type": "display_data"
    },
    {
     "data": {
      "application/vnd.jupyter.widget-view+json": {
       "model_id": "",
       "version_major": 2,
       "version_minor": 0
      },
      "text/plain": [
       "HBox(children=(IntProgress(value=0, description='Measurement sweep', max=1000, style=ProgressStyle(description…"
      ]
     },
     "metadata": {},
     "output_type": "display_data"
    },
    {
     "data": {
      "application/vnd.jupyter.widget-view+json": {
       "model_id": "",
       "version_major": 2,
       "version_minor": 0
      },
      "text/plain": [
       "HBox(children=(IntProgress(value=0, description='Equilibrate sweep', style=ProgressStyle(description_width='in…"
      ]
     },
     "metadata": {},
     "output_type": "display_data"
    },
    {
     "data": {
      "application/vnd.jupyter.widget-view+json": {
       "model_id": "",
       "version_major": 2,
       "version_minor": 0
      },
      "text/plain": [
       "HBox(children=(IntProgress(value=0, description='Measurement sweep', max=1000, style=ProgressStyle(description…"
      ]
     },
     "metadata": {},
     "output_type": "display_data"
    },
    {
     "data": {
      "application/vnd.jupyter.widget-view+json": {
       "model_id": "",
       "version_major": 2,
       "version_minor": 0
      },
      "text/plain": [
       "HBox(children=(IntProgress(value=0, description='Equilibrate sweep', style=ProgressStyle(description_width='in…"
      ]
     },
     "metadata": {},
     "output_type": "display_data"
    },
    {
     "data": {
      "application/vnd.jupyter.widget-view+json": {
       "model_id": "",
       "version_major": 2,
       "version_minor": 0
      },
      "text/plain": [
       "HBox(children=(IntProgress(value=0, description='Measurement sweep', max=1000, style=ProgressStyle(description…"
      ]
     },
     "metadata": {},
     "output_type": "display_data"
    },
    {
     "data": {
      "application/vnd.jupyter.widget-view+json": {
       "model_id": "",
       "version_major": 2,
       "version_minor": 0
      },
      "text/plain": [
       "HBox(children=(IntProgress(value=0, description='Equilibrate sweep', style=ProgressStyle(description_width='in…"
      ]
     },
     "metadata": {},
     "output_type": "display_data"
    },
    {
     "data": {
      "application/vnd.jupyter.widget-view+json": {
       "model_id": "",
       "version_major": 2,
       "version_minor": 0
      },
      "text/plain": [
       "HBox(children=(IntProgress(value=0, description='Measurement sweep', max=1000, style=ProgressStyle(description…"
      ]
     },
     "metadata": {},
     "output_type": "display_data"
    },
    {
     "data": {
      "application/vnd.jupyter.widget-view+json": {
       "model_id": "",
       "version_major": 2,
       "version_minor": 0
      },
      "text/plain": [
       "HBox(children=(IntProgress(value=0, description='Col', max=10, style=ProgressStyle(description_width='initial'…"
      ]
     },
     "metadata": {},
     "output_type": "display_data"
    },
    {
     "data": {
      "application/vnd.jupyter.widget-view+json": {
       "model_id": "",
       "version_major": 2,
       "version_minor": 0
      },
      "text/plain": [
       "HBox(children=(IntProgress(value=0, description='Equilibrate sweep', style=ProgressStyle(description_width='in…"
      ]
     },
     "metadata": {},
     "output_type": "display_data"
    },
    {
     "data": {
      "application/vnd.jupyter.widget-view+json": {
       "model_id": "",
       "version_major": 2,
       "version_minor": 0
      },
      "text/plain": [
       "HBox(children=(IntProgress(value=0, description='Measurement sweep', max=1000, style=ProgressStyle(description…"
      ]
     },
     "metadata": {},
     "output_type": "display_data"
    },
    {
     "data": {
      "application/vnd.jupyter.widget-view+json": {
       "model_id": "",
       "version_major": 2,
       "version_minor": 0
      },
      "text/plain": [
       "HBox(children=(IntProgress(value=0, description='Equilibrate sweep', style=ProgressStyle(description_width='in…"
      ]
     },
     "metadata": {},
     "output_type": "display_data"
    },
    {
     "data": {
      "application/vnd.jupyter.widget-view+json": {
       "model_id": "",
       "version_major": 2,
       "version_minor": 0
      },
      "text/plain": [
       "HBox(children=(IntProgress(value=0, description='Measurement sweep', max=1000, style=ProgressStyle(description…"
      ]
     },
     "metadata": {},
     "output_type": "display_data"
    },
    {
     "data": {
      "application/vnd.jupyter.widget-view+json": {
       "model_id": "",
       "version_major": 2,
       "version_minor": 0
      },
      "text/plain": [
       "HBox(children=(IntProgress(value=0, description='Equilibrate sweep', style=ProgressStyle(description_width='in…"
      ]
     },
     "metadata": {},
     "output_type": "display_data"
    },
    {
     "data": {
      "application/vnd.jupyter.widget-view+json": {
       "model_id": "",
       "version_major": 2,
       "version_minor": 0
      },
      "text/plain": [
       "HBox(children=(IntProgress(value=0, description='Measurement sweep', max=1000, style=ProgressStyle(description…"
      ]
     },
     "metadata": {},
     "output_type": "display_data"
    },
    {
     "data": {
      "application/vnd.jupyter.widget-view+json": {
       "model_id": "",
       "version_major": 2,
       "version_minor": 0
      },
      "text/plain": [
       "HBox(children=(IntProgress(value=0, description='Equilibrate sweep', style=ProgressStyle(description_width='in…"
      ]
     },
     "metadata": {},
     "output_type": "display_data"
    },
    {
     "data": {
      "application/vnd.jupyter.widget-view+json": {
       "model_id": "",
       "version_major": 2,
       "version_minor": 0
      },
      "text/plain": [
       "HBox(children=(IntProgress(value=0, description='Measurement sweep', max=1000, style=ProgressStyle(description…"
      ]
     },
     "metadata": {},
     "output_type": "display_data"
    },
    {
     "data": {
      "application/vnd.jupyter.widget-view+json": {
       "model_id": "",
       "version_major": 2,
       "version_minor": 0
      },
      "text/plain": [
       "HBox(children=(IntProgress(value=0, description='Equilibrate sweep', style=ProgressStyle(description_width='in…"
      ]
     },
     "metadata": {},
     "output_type": "display_data"
    },
    {
     "data": {
      "application/vnd.jupyter.widget-view+json": {
       "model_id": "",
       "version_major": 2,
       "version_minor": 0
      },
      "text/plain": [
       "HBox(children=(IntProgress(value=0, description='Measurement sweep', max=1000, style=ProgressStyle(description…"
      ]
     },
     "metadata": {},
     "output_type": "display_data"
    },
    {
     "data": {
      "application/vnd.jupyter.widget-view+json": {
       "model_id": "",
       "version_major": 2,
       "version_minor": 0
      },
      "text/plain": [
       "HBox(children=(IntProgress(value=0, description='Equilibrate sweep', style=ProgressStyle(description_width='in…"
      ]
     },
     "metadata": {},
     "output_type": "display_data"
    },
    {
     "data": {
      "application/vnd.jupyter.widget-view+json": {
       "model_id": "",
       "version_major": 2,
       "version_minor": 0
      },
      "text/plain": [
       "HBox(children=(IntProgress(value=0, description='Measurement sweep', max=1000, style=ProgressStyle(description…"
      ]
     },
     "metadata": {},
     "output_type": "display_data"
    },
    {
     "data": {
      "application/vnd.jupyter.widget-view+json": {
       "model_id": "",
       "version_major": 2,
       "version_minor": 0
      },
      "text/plain": [
       "HBox(children=(IntProgress(value=0, description='Equilibrate sweep', style=ProgressStyle(description_width='in…"
      ]
     },
     "metadata": {},
     "output_type": "display_data"
    },
    {
     "data": {
      "application/vnd.jupyter.widget-view+json": {
       "model_id": "",
       "version_major": 2,
       "version_minor": 0
      },
      "text/plain": [
       "HBox(children=(IntProgress(value=0, description='Measurement sweep', max=1000, style=ProgressStyle(description…"
      ]
     },
     "metadata": {},
     "output_type": "display_data"
    },
    {
     "data": {
      "application/vnd.jupyter.widget-view+json": {
       "model_id": "",
       "version_major": 2,
       "version_minor": 0
      },
      "text/plain": [
       "HBox(children=(IntProgress(value=0, description='Equilibrate sweep', style=ProgressStyle(description_width='in…"
      ]
     },
     "metadata": {},
     "output_type": "display_data"
    },
    {
     "data": {
      "application/vnd.jupyter.widget-view+json": {
       "model_id": "",
       "version_major": 2,
       "version_minor": 0
      },
      "text/plain": [
       "HBox(children=(IntProgress(value=0, description='Measurement sweep', max=1000, style=ProgressStyle(description…"
      ]
     },
     "metadata": {},
     "output_type": "display_data"
    },
    {
     "data": {
      "application/vnd.jupyter.widget-view+json": {
       "model_id": "",
       "version_major": 2,
       "version_minor": 0
      },
      "text/plain": [
       "HBox(children=(IntProgress(value=0, description='Equilibrate sweep', style=ProgressStyle(description_width='in…"
      ]
     },
     "metadata": {},
     "output_type": "display_data"
    },
    {
     "data": {
      "application/vnd.jupyter.widget-view+json": {
       "model_id": "",
       "version_major": 2,
       "version_minor": 0
      },
      "text/plain": [
       "HBox(children=(IntProgress(value=0, description='Measurement sweep', max=1000, style=ProgressStyle(description…"
      ]
     },
     "metadata": {},
     "output_type": "display_data"
    },
    {
     "data": {
      "application/vnd.jupyter.widget-view+json": {
       "model_id": "",
       "version_major": 2,
       "version_minor": 0
      },
      "text/plain": [
       "HBox(children=(IntProgress(value=0, description='Equilibrate sweep', style=ProgressStyle(description_width='in…"
      ]
     },
     "metadata": {},
     "output_type": "display_data"
    },
    {
     "data": {
      "application/vnd.jupyter.widget-view+json": {
       "model_id": "",
       "version_major": 2,
       "version_minor": 0
      },
      "text/plain": [
       "HBox(children=(IntProgress(value=0, description='Measurement sweep', max=1000, style=ProgressStyle(description…"
      ]
     },
     "metadata": {},
     "output_type": "display_data"
    },
    {
     "data": {
      "application/vnd.jupyter.widget-view+json": {
       "model_id": "",
       "version_major": 2,
       "version_minor": 0
      },
      "text/plain": [
       "HBox(children=(IntProgress(value=0, description='Col', max=10, style=ProgressStyle(description_width='initial'…"
      ]
     },
     "metadata": {},
     "output_type": "display_data"
    },
    {
     "data": {
      "application/vnd.jupyter.widget-view+json": {
       "model_id": "",
       "version_major": 2,
       "version_minor": 0
      },
      "text/plain": [
       "HBox(children=(IntProgress(value=0, description='Equilibrate sweep', style=ProgressStyle(description_width='in…"
      ]
     },
     "metadata": {},
     "output_type": "display_data"
    },
    {
     "data": {
      "application/vnd.jupyter.widget-view+json": {
       "model_id": "",
       "version_major": 2,
       "version_minor": 0
      },
      "text/plain": [
       "HBox(children=(IntProgress(value=0, description='Measurement sweep', max=1000, style=ProgressStyle(description…"
      ]
     },
     "metadata": {},
     "output_type": "display_data"
    },
    {
     "data": {
      "application/vnd.jupyter.widget-view+json": {
       "model_id": "",
       "version_major": 2,
       "version_minor": 0
      },
      "text/plain": [
       "HBox(children=(IntProgress(value=0, description='Equilibrate sweep', style=ProgressStyle(description_width='in…"
      ]
     },
     "metadata": {},
     "output_type": "display_data"
    },
    {
     "data": {
      "application/vnd.jupyter.widget-view+json": {
       "model_id": "",
       "version_major": 2,
       "version_minor": 0
      },
      "text/plain": [
       "HBox(children=(IntProgress(value=0, description='Measurement sweep', max=1000, style=ProgressStyle(description…"
      ]
     },
     "metadata": {},
     "output_type": "display_data"
    },
    {
     "data": {
      "application/vnd.jupyter.widget-view+json": {
       "model_id": "",
       "version_major": 2,
       "version_minor": 0
      },
      "text/plain": [
       "HBox(children=(IntProgress(value=0, description='Equilibrate sweep', style=ProgressStyle(description_width='in…"
      ]
     },
     "metadata": {},
     "output_type": "display_data"
    },
    {
     "data": {
      "application/vnd.jupyter.widget-view+json": {
       "model_id": "",
       "version_major": 2,
       "version_minor": 0
      },
      "text/plain": [
       "HBox(children=(IntProgress(value=0, description='Measurement sweep', max=1000, style=ProgressStyle(description…"
      ]
     },
     "metadata": {},
     "output_type": "display_data"
    },
    {
     "data": {
      "application/vnd.jupyter.widget-view+json": {
       "model_id": "",
       "version_major": 2,
       "version_minor": 0
      },
      "text/plain": [
       "HBox(children=(IntProgress(value=0, description='Equilibrate sweep', style=ProgressStyle(description_width='in…"
      ]
     },
     "metadata": {},
     "output_type": "display_data"
    },
    {
     "data": {
      "application/vnd.jupyter.widget-view+json": {
       "model_id": "",
       "version_major": 2,
       "version_minor": 0
      },
      "text/plain": [
       "HBox(children=(IntProgress(value=0, description='Measurement sweep', max=1000, style=ProgressStyle(description…"
      ]
     },
     "metadata": {},
     "output_type": "display_data"
    },
    {
     "data": {
      "application/vnd.jupyter.widget-view+json": {
       "model_id": "",
       "version_major": 2,
       "version_minor": 0
      },
      "text/plain": [
       "HBox(children=(IntProgress(value=0, description='Equilibrate sweep', style=ProgressStyle(description_width='in…"
      ]
     },
     "metadata": {},
     "output_type": "display_data"
    },
    {
     "data": {
      "application/vnd.jupyter.widget-view+json": {
       "model_id": "",
       "version_major": 2,
       "version_minor": 0
      },
      "text/plain": [
       "HBox(children=(IntProgress(value=0, description='Measurement sweep', max=1000, style=ProgressStyle(description…"
      ]
     },
     "metadata": {},
     "output_type": "display_data"
    },
    {
     "data": {
      "application/vnd.jupyter.widget-view+json": {
       "model_id": "",
       "version_major": 2,
       "version_minor": 0
      },
      "text/plain": [
       "HBox(children=(IntProgress(value=0, description='Equilibrate sweep', style=ProgressStyle(description_width='in…"
      ]
     },
     "metadata": {},
     "output_type": "display_data"
    },
    {
     "data": {
      "application/vnd.jupyter.widget-view+json": {
       "model_id": "",
       "version_major": 2,
       "version_minor": 0
      },
      "text/plain": [
       "HBox(children=(IntProgress(value=0, description='Measurement sweep', max=1000, style=ProgressStyle(description…"
      ]
     },
     "metadata": {},
     "output_type": "display_data"
    },
    {
     "data": {
      "application/vnd.jupyter.widget-view+json": {
       "model_id": "",
       "version_major": 2,
       "version_minor": 0
      },
      "text/plain": [
       "HBox(children=(IntProgress(value=0, description='Equilibrate sweep', style=ProgressStyle(description_width='in…"
      ]
     },
     "metadata": {},
     "output_type": "display_data"
    },
    {
     "data": {
      "application/vnd.jupyter.widget-view+json": {
       "model_id": "",
       "version_major": 2,
       "version_minor": 0
      },
      "text/plain": [
       "HBox(children=(IntProgress(value=0, description='Measurement sweep', max=1000, style=ProgressStyle(description…"
      ]
     },
     "metadata": {},
     "output_type": "display_data"
    },
    {
     "data": {
      "application/vnd.jupyter.widget-view+json": {
       "model_id": "",
       "version_major": 2,
       "version_minor": 0
      },
      "text/plain": [
       "HBox(children=(IntProgress(value=0, description='Equilibrate sweep', style=ProgressStyle(description_width='in…"
      ]
     },
     "metadata": {},
     "output_type": "display_data"
    },
    {
     "data": {
      "application/vnd.jupyter.widget-view+json": {
       "model_id": "",
       "version_major": 2,
       "version_minor": 0
      },
      "text/plain": [
       "HBox(children=(IntProgress(value=0, description='Measurement sweep', max=1000, style=ProgressStyle(description…"
      ]
     },
     "metadata": {},
     "output_type": "display_data"
    },
    {
     "data": {
      "application/vnd.jupyter.widget-view+json": {
       "model_id": "",
       "version_major": 2,
       "version_minor": 0
      },
      "text/plain": [
       "HBox(children=(IntProgress(value=0, description='Equilibrate sweep', style=ProgressStyle(description_width='in…"
      ]
     },
     "metadata": {},
     "output_type": "display_data"
    },
    {
     "data": {
      "application/vnd.jupyter.widget-view+json": {
       "model_id": "",
       "version_major": 2,
       "version_minor": 0
      },
      "text/plain": [
       "HBox(children=(IntProgress(value=0, description='Measurement sweep', max=1000, style=ProgressStyle(description…"
      ]
     },
     "metadata": {},
     "output_type": "display_data"
    },
    {
     "data": {
      "application/vnd.jupyter.widget-view+json": {
       "model_id": "",
       "version_major": 2,
       "version_minor": 0
      },
      "text/plain": [
       "HBox(children=(IntProgress(value=0, description='Equilibrate sweep', style=ProgressStyle(description_width='in…"
      ]
     },
     "metadata": {},
     "output_type": "display_data"
    },
    {
     "data": {
      "application/vnd.jupyter.widget-view+json": {
       "model_id": "",
       "version_major": 2,
       "version_minor": 0
      },
      "text/plain": [
       "HBox(children=(IntProgress(value=0, description='Measurement sweep', max=1000, style=ProgressStyle(description…"
      ]
     },
     "metadata": {},
     "output_type": "display_data"
    },
    {
     "data": {
      "application/vnd.jupyter.widget-view+json": {
       "model_id": "",
       "version_major": 2,
       "version_minor": 0
      },
      "text/plain": [
       "HBox(children=(IntProgress(value=0, description='Col', max=10, style=ProgressStyle(description_width='initial'…"
      ]
     },
     "metadata": {},
     "output_type": "display_data"
    },
    {
     "data": {
      "application/vnd.jupyter.widget-view+json": {
       "model_id": "",
       "version_major": 2,
       "version_minor": 0
      },
      "text/plain": [
       "HBox(children=(IntProgress(value=0, description='Equilibrate sweep', style=ProgressStyle(description_width='in…"
      ]
     },
     "metadata": {},
     "output_type": "display_data"
    },
    {
     "data": {
      "application/vnd.jupyter.widget-view+json": {
       "model_id": "",
       "version_major": 2,
       "version_minor": 0
      },
      "text/plain": [
       "HBox(children=(IntProgress(value=0, description='Measurement sweep', max=1000, style=ProgressStyle(description…"
      ]
     },
     "metadata": {},
     "output_type": "display_data"
    },
    {
     "data": {
      "application/vnd.jupyter.widget-view+json": {
       "model_id": "",
       "version_major": 2,
       "version_minor": 0
      },
      "text/plain": [
       "HBox(children=(IntProgress(value=0, description='Equilibrate sweep', style=ProgressStyle(description_width='in…"
      ]
     },
     "metadata": {},
     "output_type": "display_data"
    },
    {
     "data": {
      "application/vnd.jupyter.widget-view+json": {
       "model_id": "",
       "version_major": 2,
       "version_minor": 0
      },
      "text/plain": [
       "HBox(children=(IntProgress(value=0, description='Measurement sweep', max=1000, style=ProgressStyle(description…"
      ]
     },
     "metadata": {},
     "output_type": "display_data"
    },
    {
     "data": {
      "application/vnd.jupyter.widget-view+json": {
       "model_id": "",
       "version_major": 2,
       "version_minor": 0
      },
      "text/plain": [
       "HBox(children=(IntProgress(value=0, description='Equilibrate sweep', style=ProgressStyle(description_width='in…"
      ]
     },
     "metadata": {},
     "output_type": "display_data"
    },
    {
     "data": {
      "application/vnd.jupyter.widget-view+json": {
       "model_id": "",
       "version_major": 2,
       "version_minor": 0
      },
      "text/plain": [
       "HBox(children=(IntProgress(value=0, description='Measurement sweep', max=1000, style=ProgressStyle(description…"
      ]
     },
     "metadata": {},
     "output_type": "display_data"
    },
    {
     "data": {
      "application/vnd.jupyter.widget-view+json": {
       "model_id": "",
       "version_major": 2,
       "version_minor": 0
      },
      "text/plain": [
       "HBox(children=(IntProgress(value=0, description='Equilibrate sweep', style=ProgressStyle(description_width='in…"
      ]
     },
     "metadata": {},
     "output_type": "display_data"
    },
    {
     "data": {
      "application/vnd.jupyter.widget-view+json": {
       "model_id": "",
       "version_major": 2,
       "version_minor": 0
      },
      "text/plain": [
       "HBox(children=(IntProgress(value=0, description='Measurement sweep', max=1000, style=ProgressStyle(description…"
      ]
     },
     "metadata": {},
     "output_type": "display_data"
    },
    {
     "data": {
      "application/vnd.jupyter.widget-view+json": {
       "model_id": "",
       "version_major": 2,
       "version_minor": 0
      },
      "text/plain": [
       "HBox(children=(IntProgress(value=0, description='Equilibrate sweep', style=ProgressStyle(description_width='in…"
      ]
     },
     "metadata": {},
     "output_type": "display_data"
    },
    {
     "data": {
      "application/vnd.jupyter.widget-view+json": {
       "model_id": "",
       "version_major": 2,
       "version_minor": 0
      },
      "text/plain": [
       "HBox(children=(IntProgress(value=0, description='Measurement sweep', max=1000, style=ProgressStyle(description…"
      ]
     },
     "metadata": {},
     "output_type": "display_data"
    },
    {
     "data": {
      "application/vnd.jupyter.widget-view+json": {
       "model_id": "",
       "version_major": 2,
       "version_minor": 0
      },
      "text/plain": [
       "HBox(children=(IntProgress(value=0, description='Equilibrate sweep', style=ProgressStyle(description_width='in…"
      ]
     },
     "metadata": {},
     "output_type": "display_data"
    },
    {
     "data": {
      "application/vnd.jupyter.widget-view+json": {
       "model_id": "",
       "version_major": 2,
       "version_minor": 0
      },
      "text/plain": [
       "HBox(children=(IntProgress(value=0, description='Measurement sweep', max=1000, style=ProgressStyle(description…"
      ]
     },
     "metadata": {},
     "output_type": "display_data"
    },
    {
     "data": {
      "application/vnd.jupyter.widget-view+json": {
       "model_id": "",
       "version_major": 2,
       "version_minor": 0
      },
      "text/plain": [
       "HBox(children=(IntProgress(value=0, description='Equilibrate sweep', style=ProgressStyle(description_width='in…"
      ]
     },
     "metadata": {},
     "output_type": "display_data"
    },
    {
     "data": {
      "application/vnd.jupyter.widget-view+json": {
       "model_id": "",
       "version_major": 2,
       "version_minor": 0
      },
      "text/plain": [
       "HBox(children=(IntProgress(value=0, description='Measurement sweep', max=1000, style=ProgressStyle(description…"
      ]
     },
     "metadata": {},
     "output_type": "display_data"
    },
    {
     "data": {
      "application/vnd.jupyter.widget-view+json": {
       "model_id": "",
       "version_major": 2,
       "version_minor": 0
      },
      "text/plain": [
       "HBox(children=(IntProgress(value=0, description='Equilibrate sweep', style=ProgressStyle(description_width='in…"
      ]
     },
     "metadata": {},
     "output_type": "display_data"
    },
    {
     "data": {
      "application/vnd.jupyter.widget-view+json": {
       "model_id": "",
       "version_major": 2,
       "version_minor": 0
      },
      "text/plain": [
       "HBox(children=(IntProgress(value=0, description='Measurement sweep', max=1000, style=ProgressStyle(description…"
      ]
     },
     "metadata": {},
     "output_type": "display_data"
    },
    {
     "data": {
      "application/vnd.jupyter.widget-view+json": {
       "model_id": "",
       "version_major": 2,
       "version_minor": 0
      },
      "text/plain": [
       "HBox(children=(IntProgress(value=0, description='Equilibrate sweep', style=ProgressStyle(description_width='in…"
      ]
     },
     "metadata": {},
     "output_type": "display_data"
    },
    {
     "data": {
      "application/vnd.jupyter.widget-view+json": {
       "model_id": "",
       "version_major": 2,
       "version_minor": 0
      },
      "text/plain": [
       "HBox(children=(IntProgress(value=0, description='Measurement sweep', max=1000, style=ProgressStyle(description…"
      ]
     },
     "metadata": {},
     "output_type": "display_data"
    },
    {
     "data": {
      "application/vnd.jupyter.widget-view+json": {
       "model_id": "",
       "version_major": 2,
       "version_minor": 0
      },
      "text/plain": [
       "HBox(children=(IntProgress(value=0, description='Equilibrate sweep', style=ProgressStyle(description_width='in…"
      ]
     },
     "metadata": {},
     "output_type": "display_data"
    },
    {
     "data": {
      "application/vnd.jupyter.widget-view+json": {
       "model_id": "",
       "version_major": 2,
       "version_minor": 0
      },
      "text/plain": [
       "HBox(children=(IntProgress(value=0, description='Measurement sweep', max=1000, style=ProgressStyle(description…"
      ]
     },
     "metadata": {},
     "output_type": "display_data"
    },
    {
     "data": {
      "application/vnd.jupyter.widget-view+json": {
       "model_id": "",
       "version_major": 2,
       "version_minor": 0
      },
      "text/plain": [
       "HBox(children=(IntProgress(value=0, description='Col', max=10, style=ProgressStyle(description_width='initial'…"
      ]
     },
     "metadata": {},
     "output_type": "display_data"
    },
    {
     "data": {
      "application/vnd.jupyter.widget-view+json": {
       "model_id": "",
       "version_major": 2,
       "version_minor": 0
      },
      "text/plain": [
       "HBox(children=(IntProgress(value=0, description='Equilibrate sweep', style=ProgressStyle(description_width='in…"
      ]
     },
     "metadata": {},
     "output_type": "display_data"
    },
    {
     "data": {
      "application/vnd.jupyter.widget-view+json": {
       "model_id": "",
       "version_major": 2,
       "version_minor": 0
      },
      "text/plain": [
       "HBox(children=(IntProgress(value=0, description='Measurement sweep', max=1000, style=ProgressStyle(description…"
      ]
     },
     "metadata": {},
     "output_type": "display_data"
    },
    {
     "data": {
      "application/vnd.jupyter.widget-view+json": {
       "model_id": "",
       "version_major": 2,
       "version_minor": 0
      },
      "text/plain": [
       "HBox(children=(IntProgress(value=0, description='Equilibrate sweep', style=ProgressStyle(description_width='in…"
      ]
     },
     "metadata": {},
     "output_type": "display_data"
    },
    {
     "data": {
      "application/vnd.jupyter.widget-view+json": {
       "model_id": "",
       "version_major": 2,
       "version_minor": 0
      },
      "text/plain": [
       "HBox(children=(IntProgress(value=0, description='Measurement sweep', max=1000, style=ProgressStyle(description…"
      ]
     },
     "metadata": {},
     "output_type": "display_data"
    },
    {
     "data": {
      "application/vnd.jupyter.widget-view+json": {
       "model_id": "",
       "version_major": 2,
       "version_minor": 0
      },
      "text/plain": [
       "HBox(children=(IntProgress(value=0, description='Equilibrate sweep', style=ProgressStyle(description_width='in…"
      ]
     },
     "metadata": {},
     "output_type": "display_data"
    },
    {
     "data": {
      "application/vnd.jupyter.widget-view+json": {
       "model_id": "",
       "version_major": 2,
       "version_minor": 0
      },
      "text/plain": [
       "HBox(children=(IntProgress(value=0, description='Measurement sweep', max=1000, style=ProgressStyle(description…"
      ]
     },
     "metadata": {},
     "output_type": "display_data"
    },
    {
     "data": {
      "application/vnd.jupyter.widget-view+json": {
       "model_id": "",
       "version_major": 2,
       "version_minor": 0
      },
      "text/plain": [
       "HBox(children=(IntProgress(value=0, description='Equilibrate sweep', style=ProgressStyle(description_width='in…"
      ]
     },
     "metadata": {},
     "output_type": "display_data"
    },
    {
     "data": {
      "application/vnd.jupyter.widget-view+json": {
       "model_id": "",
       "version_major": 2,
       "version_minor": 0
      },
      "text/plain": [
       "HBox(children=(IntProgress(value=0, description='Measurement sweep', max=1000, style=ProgressStyle(description…"
      ]
     },
     "metadata": {},
     "output_type": "display_data"
    },
    {
     "data": {
      "application/vnd.jupyter.widget-view+json": {
       "model_id": "",
       "version_major": 2,
       "version_minor": 0
      },
      "text/plain": [
       "HBox(children=(IntProgress(value=0, description='Equilibrate sweep', style=ProgressStyle(description_width='in…"
      ]
     },
     "metadata": {},
     "output_type": "display_data"
    },
    {
     "data": {
      "application/vnd.jupyter.widget-view+json": {
       "model_id": "",
       "version_major": 2,
       "version_minor": 0
      },
      "text/plain": [
       "HBox(children=(IntProgress(value=0, description='Measurement sweep', max=1000, style=ProgressStyle(description…"
      ]
     },
     "metadata": {},
     "output_type": "display_data"
    },
    {
     "data": {
      "application/vnd.jupyter.widget-view+json": {
       "model_id": "",
       "version_major": 2,
       "version_minor": 0
      },
      "text/plain": [
       "HBox(children=(IntProgress(value=0, description='Equilibrate sweep', style=ProgressStyle(description_width='in…"
      ]
     },
     "metadata": {},
     "output_type": "display_data"
    },
    {
     "data": {
      "application/vnd.jupyter.widget-view+json": {
       "model_id": "",
       "version_major": 2,
       "version_minor": 0
      },
      "text/plain": [
       "HBox(children=(IntProgress(value=0, description='Measurement sweep', max=1000, style=ProgressStyle(description…"
      ]
     },
     "metadata": {},
     "output_type": "display_data"
    },
    {
     "data": {
      "application/vnd.jupyter.widget-view+json": {
       "model_id": "",
       "version_major": 2,
       "version_minor": 0
      },
      "text/plain": [
       "HBox(children=(IntProgress(value=0, description='Equilibrate sweep', style=ProgressStyle(description_width='in…"
      ]
     },
     "metadata": {},
     "output_type": "display_data"
    },
    {
     "data": {
      "application/vnd.jupyter.widget-view+json": {
       "model_id": "",
       "version_major": 2,
       "version_minor": 0
      },
      "text/plain": [
       "HBox(children=(IntProgress(value=0, description='Measurement sweep', max=1000, style=ProgressStyle(description…"
      ]
     },
     "metadata": {},
     "output_type": "display_data"
    },
    {
     "data": {
      "application/vnd.jupyter.widget-view+json": {
       "model_id": "",
       "version_major": 2,
       "version_minor": 0
      },
      "text/plain": [
       "HBox(children=(IntProgress(value=0, description='Equilibrate sweep', style=ProgressStyle(description_width='in…"
      ]
     },
     "metadata": {},
     "output_type": "display_data"
    },
    {
     "data": {
      "application/vnd.jupyter.widget-view+json": {
       "model_id": "",
       "version_major": 2,
       "version_minor": 0
      },
      "text/plain": [
       "HBox(children=(IntProgress(value=0, description='Measurement sweep', max=1000, style=ProgressStyle(description…"
      ]
     },
     "metadata": {},
     "output_type": "display_data"
    },
    {
     "data": {
      "application/vnd.jupyter.widget-view+json": {
       "model_id": "",
       "version_major": 2,
       "version_minor": 0
      },
      "text/plain": [
       "HBox(children=(IntProgress(value=0, description='Equilibrate sweep', style=ProgressStyle(description_width='in…"
      ]
     },
     "metadata": {},
     "output_type": "display_data"
    },
    {
     "data": {
      "application/vnd.jupyter.widget-view+json": {
       "model_id": "",
       "version_major": 2,
       "version_minor": 0
      },
      "text/plain": [
       "HBox(children=(IntProgress(value=0, description='Measurement sweep', max=1000, style=ProgressStyle(description…"
      ]
     },
     "metadata": {},
     "output_type": "display_data"
    },
    {
     "data": {
      "application/vnd.jupyter.widget-view+json": {
       "model_id": "",
       "version_major": 2,
       "version_minor": 0
      },
      "text/plain": [
       "HBox(children=(IntProgress(value=0, description='Equilibrate sweep', style=ProgressStyle(description_width='in…"
      ]
     },
     "metadata": {},
     "output_type": "display_data"
    },
    {
     "data": {
      "application/vnd.jupyter.widget-view+json": {
       "model_id": "",
       "version_major": 2,
       "version_minor": 0
      },
      "text/plain": [
       "HBox(children=(IntProgress(value=0, description='Measurement sweep', max=1000, style=ProgressStyle(description…"
      ]
     },
     "metadata": {},
     "output_type": "display_data"
    },
    {
     "data": {
      "application/vnd.jupyter.widget-view+json": {
       "model_id": "",
       "version_major": 2,
       "version_minor": 0
      },
      "text/plain": [
       "HBox(children=(IntProgress(value=0, description='Col', max=10, style=ProgressStyle(description_width='initial'…"
      ]
     },
     "metadata": {},
     "output_type": "display_data"
    },
    {
     "data": {
      "application/vnd.jupyter.widget-view+json": {
       "model_id": "",
       "version_major": 2,
       "version_minor": 0
      },
      "text/plain": [
       "HBox(children=(IntProgress(value=0, description='Equilibrate sweep', style=ProgressStyle(description_width='in…"
      ]
     },
     "metadata": {},
     "output_type": "display_data"
    },
    {
     "data": {
      "application/vnd.jupyter.widget-view+json": {
       "model_id": "",
       "version_major": 2,
       "version_minor": 0
      },
      "text/plain": [
       "HBox(children=(IntProgress(value=0, description='Measurement sweep', max=1000, style=ProgressStyle(description…"
      ]
     },
     "metadata": {},
     "output_type": "display_data"
    },
    {
     "data": {
      "application/vnd.jupyter.widget-view+json": {
       "model_id": "",
       "version_major": 2,
       "version_minor": 0
      },
      "text/plain": [
       "HBox(children=(IntProgress(value=0, description='Equilibrate sweep', style=ProgressStyle(description_width='in…"
      ]
     },
     "metadata": {},
     "output_type": "display_data"
    },
    {
     "data": {
      "application/vnd.jupyter.widget-view+json": {
       "model_id": "",
       "version_major": 2,
       "version_minor": 0
      },
      "text/plain": [
       "HBox(children=(IntProgress(value=0, description='Measurement sweep', max=1000, style=ProgressStyle(description…"
      ]
     },
     "metadata": {},
     "output_type": "display_data"
    },
    {
     "data": {
      "application/vnd.jupyter.widget-view+json": {
       "model_id": "",
       "version_major": 2,
       "version_minor": 0
      },
      "text/plain": [
       "HBox(children=(IntProgress(value=0, description='Equilibrate sweep', style=ProgressStyle(description_width='in…"
      ]
     },
     "metadata": {},
     "output_type": "display_data"
    },
    {
     "data": {
      "application/vnd.jupyter.widget-view+json": {
       "model_id": "",
       "version_major": 2,
       "version_minor": 0
      },
      "text/plain": [
       "HBox(children=(IntProgress(value=0, description='Measurement sweep', max=1000, style=ProgressStyle(description…"
      ]
     },
     "metadata": {},
     "output_type": "display_data"
    },
    {
     "data": {
      "application/vnd.jupyter.widget-view+json": {
       "model_id": "",
       "version_major": 2,
       "version_minor": 0
      },
      "text/plain": [
       "HBox(children=(IntProgress(value=0, description='Equilibrate sweep', style=ProgressStyle(description_width='in…"
      ]
     },
     "metadata": {},
     "output_type": "display_data"
    },
    {
     "data": {
      "application/vnd.jupyter.widget-view+json": {
       "model_id": "",
       "version_major": 2,
       "version_minor": 0
      },
      "text/plain": [
       "HBox(children=(IntProgress(value=0, description='Measurement sweep', max=1000, style=ProgressStyle(description…"
      ]
     },
     "metadata": {},
     "output_type": "display_data"
    },
    {
     "data": {
      "application/vnd.jupyter.widget-view+json": {
       "model_id": "",
       "version_major": 2,
       "version_minor": 0
      },
      "text/plain": [
       "HBox(children=(IntProgress(value=0, description='Equilibrate sweep', style=ProgressStyle(description_width='in…"
      ]
     },
     "metadata": {},
     "output_type": "display_data"
    },
    {
     "data": {
      "application/vnd.jupyter.widget-view+json": {
       "model_id": "",
       "version_major": 2,
       "version_minor": 0
      },
      "text/plain": [
       "HBox(children=(IntProgress(value=0, description='Measurement sweep', max=1000, style=ProgressStyle(description…"
      ]
     },
     "metadata": {},
     "output_type": "display_data"
    },
    {
     "data": {
      "application/vnd.jupyter.widget-view+json": {
       "model_id": "",
       "version_major": 2,
       "version_minor": 0
      },
      "text/plain": [
       "HBox(children=(IntProgress(value=0, description='Equilibrate sweep', style=ProgressStyle(description_width='in…"
      ]
     },
     "metadata": {},
     "output_type": "display_data"
    },
    {
     "data": {
      "application/vnd.jupyter.widget-view+json": {
       "model_id": "",
       "version_major": 2,
       "version_minor": 0
      },
      "text/plain": [
       "HBox(children=(IntProgress(value=0, description='Measurement sweep', max=1000, style=ProgressStyle(description…"
      ]
     },
     "metadata": {},
     "output_type": "display_data"
    },
    {
     "data": {
      "application/vnd.jupyter.widget-view+json": {
       "model_id": "",
       "version_major": 2,
       "version_minor": 0
      },
      "text/plain": [
       "HBox(children=(IntProgress(value=0, description='Equilibrate sweep', style=ProgressStyle(description_width='in…"
      ]
     },
     "metadata": {},
     "output_type": "display_data"
    },
    {
     "data": {
      "application/vnd.jupyter.widget-view+json": {
       "model_id": "",
       "version_major": 2,
       "version_minor": 0
      },
      "text/plain": [
       "HBox(children=(IntProgress(value=0, description='Measurement sweep', max=1000, style=ProgressStyle(description…"
      ]
     },
     "metadata": {},
     "output_type": "display_data"
    },
    {
     "data": {
      "application/vnd.jupyter.widget-view+json": {
       "model_id": "",
       "version_major": 2,
       "version_minor": 0
      },
      "text/plain": [
       "HBox(children=(IntProgress(value=0, description='Equilibrate sweep', style=ProgressStyle(description_width='in…"
      ]
     },
     "metadata": {},
     "output_type": "display_data"
    },
    {
     "data": {
      "application/vnd.jupyter.widget-view+json": {
       "model_id": "",
       "version_major": 2,
       "version_minor": 0
      },
      "text/plain": [
       "HBox(children=(IntProgress(value=0, description='Measurement sweep', max=1000, style=ProgressStyle(description…"
      ]
     },
     "metadata": {},
     "output_type": "display_data"
    },
    {
     "data": {
      "application/vnd.jupyter.widget-view+json": {
       "model_id": "",
       "version_major": 2,
       "version_minor": 0
      },
      "text/plain": [
       "HBox(children=(IntProgress(value=0, description='Equilibrate sweep', style=ProgressStyle(description_width='in…"
      ]
     },
     "metadata": {},
     "output_type": "display_data"
    },
    {
     "data": {
      "application/vnd.jupyter.widget-view+json": {
       "model_id": "",
       "version_major": 2,
       "version_minor": 0
      },
      "text/plain": [
       "HBox(children=(IntProgress(value=0, description='Measurement sweep', max=1000, style=ProgressStyle(description…"
      ]
     },
     "metadata": {},
     "output_type": "display_data"
    },
    {
     "data": {
      "application/vnd.jupyter.widget-view+json": {
       "model_id": "",
       "version_major": 2,
       "version_minor": 0
      },
      "text/plain": [
       "HBox(children=(IntProgress(value=0, description='Equilibrate sweep', style=ProgressStyle(description_width='in…"
      ]
     },
     "metadata": {},
     "output_type": "display_data"
    },
    {
     "data": {
      "application/vnd.jupyter.widget-view+json": {
       "model_id": "",
       "version_major": 2,
       "version_minor": 0
      },
      "text/plain": [
       "HBox(children=(IntProgress(value=0, description='Measurement sweep', max=1000, style=ProgressStyle(description…"
      ]
     },
     "metadata": {},
     "output_type": "display_data"
    },
    {
     "name": "stdout",
     "output_type": "stream",
     "text": [
      "\r"
     ]
    },
    {
     "data": {
      "application/javascript": [
       "/* Put everything inside the global mpl namespace */\n",
       "window.mpl = {};\n",
       "\n",
       "\n",
       "mpl.get_websocket_type = function() {\n",
       "    if (typeof(WebSocket) !== 'undefined') {\n",
       "        return WebSocket;\n",
       "    } else if (typeof(MozWebSocket) !== 'undefined') {\n",
       "        return MozWebSocket;\n",
       "    } else {\n",
       "        alert('Your browser does not have WebSocket support.' +\n",
       "              'Please try Chrome, Safari or Firefox ≥ 6. ' +\n",
       "              'Firefox 4 and 5 are also supported but you ' +\n",
       "              'have to enable WebSockets in about:config.');\n",
       "    };\n",
       "}\n",
       "\n",
       "mpl.figure = function(figure_id, websocket, ondownload, parent_element) {\n",
       "    this.id = figure_id;\n",
       "\n",
       "    this.ws = websocket;\n",
       "\n",
       "    this.supports_binary = (this.ws.binaryType != undefined);\n",
       "\n",
       "    if (!this.supports_binary) {\n",
       "        var warnings = document.getElementById(\"mpl-warnings\");\n",
       "        if (warnings) {\n",
       "            warnings.style.display = 'block';\n",
       "            warnings.textContent = (\n",
       "                \"This browser does not support binary websocket messages. \" +\n",
       "                    \"Performance may be slow.\");\n",
       "        }\n",
       "    }\n",
       "\n",
       "    this.imageObj = new Image();\n",
       "\n",
       "    this.context = undefined;\n",
       "    this.message = undefined;\n",
       "    this.canvas = undefined;\n",
       "    this.rubberband_canvas = undefined;\n",
       "    this.rubberband_context = undefined;\n",
       "    this.format_dropdown = undefined;\n",
       "\n",
       "    this.image_mode = 'full';\n",
       "\n",
       "    this.root = $('<div/>');\n",
       "    this._root_extra_style(this.root)\n",
       "    this.root.attr('style', 'display: inline-block');\n",
       "\n",
       "    $(parent_element).append(this.root);\n",
       "\n",
       "    this._init_header(this);\n",
       "    this._init_canvas(this);\n",
       "    this._init_toolbar(this);\n",
       "\n",
       "    var fig = this;\n",
       "\n",
       "    this.waiting = false;\n",
       "\n",
       "    this.ws.onopen =  function () {\n",
       "            fig.send_message(\"supports_binary\", {value: fig.supports_binary});\n",
       "            fig.send_message(\"send_image_mode\", {});\n",
       "            if (mpl.ratio != 1) {\n",
       "                fig.send_message(\"set_dpi_ratio\", {'dpi_ratio': mpl.ratio});\n",
       "            }\n",
       "            fig.send_message(\"refresh\", {});\n",
       "        }\n",
       "\n",
       "    this.imageObj.onload = function() {\n",
       "            if (fig.image_mode == 'full') {\n",
       "                // Full images could contain transparency (where diff images\n",
       "                // almost always do), so we need to clear the canvas so that\n",
       "                // there is no ghosting.\n",
       "                fig.context.clearRect(0, 0, fig.canvas.width, fig.canvas.height);\n",
       "            }\n",
       "            fig.context.drawImage(fig.imageObj, 0, 0);\n",
       "        };\n",
       "\n",
       "    this.imageObj.onunload = function() {\n",
       "        fig.ws.close();\n",
       "    }\n",
       "\n",
       "    this.ws.onmessage = this._make_on_message_function(this);\n",
       "\n",
       "    this.ondownload = ondownload;\n",
       "}\n",
       "\n",
       "mpl.figure.prototype._init_header = function() {\n",
       "    var titlebar = $(\n",
       "        '<div class=\"ui-dialog-titlebar ui-widget-header ui-corner-all ' +\n",
       "        'ui-helper-clearfix\"/>');\n",
       "    var titletext = $(\n",
       "        '<div class=\"ui-dialog-title\" style=\"width: 100%; ' +\n",
       "        'text-align: center; padding: 3px;\"/>');\n",
       "    titlebar.append(titletext)\n",
       "    this.root.append(titlebar);\n",
       "    this.header = titletext[0];\n",
       "}\n",
       "\n",
       "\n",
       "\n",
       "mpl.figure.prototype._canvas_extra_style = function(canvas_div) {\n",
       "\n",
       "}\n",
       "\n",
       "\n",
       "mpl.figure.prototype._root_extra_style = function(canvas_div) {\n",
       "\n",
       "}\n",
       "\n",
       "mpl.figure.prototype._init_canvas = function() {\n",
       "    var fig = this;\n",
       "\n",
       "    var canvas_div = $('<div/>');\n",
       "\n",
       "    canvas_div.attr('style', 'position: relative; clear: both; outline: 0');\n",
       "\n",
       "    function canvas_keyboard_event(event) {\n",
       "        return fig.key_event(event, event['data']);\n",
       "    }\n",
       "\n",
       "    canvas_div.keydown('key_press', canvas_keyboard_event);\n",
       "    canvas_div.keyup('key_release', canvas_keyboard_event);\n",
       "    this.canvas_div = canvas_div\n",
       "    this._canvas_extra_style(canvas_div)\n",
       "    this.root.append(canvas_div);\n",
       "\n",
       "    var canvas = $('<canvas/>');\n",
       "    canvas.addClass('mpl-canvas');\n",
       "    canvas.attr('style', \"left: 0; top: 0; z-index: 0; outline: 0\")\n",
       "\n",
       "    this.canvas = canvas[0];\n",
       "    this.context = canvas[0].getContext(\"2d\");\n",
       "\n",
       "    var backingStore = this.context.backingStorePixelRatio ||\n",
       "\tthis.context.webkitBackingStorePixelRatio ||\n",
       "\tthis.context.mozBackingStorePixelRatio ||\n",
       "\tthis.context.msBackingStorePixelRatio ||\n",
       "\tthis.context.oBackingStorePixelRatio ||\n",
       "\tthis.context.backingStorePixelRatio || 1;\n",
       "\n",
       "    mpl.ratio = (window.devicePixelRatio || 1) / backingStore;\n",
       "\n",
       "    var rubberband = $('<canvas/>');\n",
       "    rubberband.attr('style', \"position: absolute; left: 0; top: 0; z-index: 1;\")\n",
       "\n",
       "    var pass_mouse_events = true;\n",
       "\n",
       "    canvas_div.resizable({\n",
       "        start: function(event, ui) {\n",
       "            pass_mouse_events = false;\n",
       "        },\n",
       "        resize: function(event, ui) {\n",
       "            fig.request_resize(ui.size.width, ui.size.height);\n",
       "        },\n",
       "        stop: function(event, ui) {\n",
       "            pass_mouse_events = true;\n",
       "            fig.request_resize(ui.size.width, ui.size.height);\n",
       "        },\n",
       "    });\n",
       "\n",
       "    function mouse_event_fn(event) {\n",
       "        if (pass_mouse_events)\n",
       "            return fig.mouse_event(event, event['data']);\n",
       "    }\n",
       "\n",
       "    rubberband.mousedown('button_press', mouse_event_fn);\n",
       "    rubberband.mouseup('button_release', mouse_event_fn);\n",
       "    // Throttle sequential mouse events to 1 every 20ms.\n",
       "    rubberband.mousemove('motion_notify', mouse_event_fn);\n",
       "\n",
       "    rubberband.mouseenter('figure_enter', mouse_event_fn);\n",
       "    rubberband.mouseleave('figure_leave', mouse_event_fn);\n",
       "\n",
       "    canvas_div.on(\"wheel\", function (event) {\n",
       "        event = event.originalEvent;\n",
       "        event['data'] = 'scroll'\n",
       "        if (event.deltaY < 0) {\n",
       "            event.step = 1;\n",
       "        } else {\n",
       "            event.step = -1;\n",
       "        }\n",
       "        mouse_event_fn(event);\n",
       "    });\n",
       "\n",
       "    canvas_div.append(canvas);\n",
       "    canvas_div.append(rubberband);\n",
       "\n",
       "    this.rubberband = rubberband;\n",
       "    this.rubberband_canvas = rubberband[0];\n",
       "    this.rubberband_context = rubberband[0].getContext(\"2d\");\n",
       "    this.rubberband_context.strokeStyle = \"#000000\";\n",
       "\n",
       "    this._resize_canvas = function(width, height) {\n",
       "        // Keep the size of the canvas, canvas container, and rubber band\n",
       "        // canvas in synch.\n",
       "        canvas_div.css('width', width)\n",
       "        canvas_div.css('height', height)\n",
       "\n",
       "        canvas.attr('width', width * mpl.ratio);\n",
       "        canvas.attr('height', height * mpl.ratio);\n",
       "        canvas.attr('style', 'width: ' + width + 'px; height: ' + height + 'px;');\n",
       "\n",
       "        rubberband.attr('width', width);\n",
       "        rubberband.attr('height', height);\n",
       "    }\n",
       "\n",
       "    // Set the figure to an initial 600x600px, this will subsequently be updated\n",
       "    // upon first draw.\n",
       "    this._resize_canvas(600, 600);\n",
       "\n",
       "    // Disable right mouse context menu.\n",
       "    $(this.rubberband_canvas).bind(\"contextmenu\",function(e){\n",
       "        return false;\n",
       "    });\n",
       "\n",
       "    function set_focus () {\n",
       "        canvas.focus();\n",
       "        canvas_div.focus();\n",
       "    }\n",
       "\n",
       "    window.setTimeout(set_focus, 100);\n",
       "}\n",
       "\n",
       "mpl.figure.prototype._init_toolbar = function() {\n",
       "    var fig = this;\n",
       "\n",
       "    var nav_element = $('<div/>')\n",
       "    nav_element.attr('style', 'width: 100%');\n",
       "    this.root.append(nav_element);\n",
       "\n",
       "    // Define a callback function for later on.\n",
       "    function toolbar_event(event) {\n",
       "        return fig.toolbar_button_onclick(event['data']);\n",
       "    }\n",
       "    function toolbar_mouse_event(event) {\n",
       "        return fig.toolbar_button_onmouseover(event['data']);\n",
       "    }\n",
       "\n",
       "    for(var toolbar_ind in mpl.toolbar_items) {\n",
       "        var name = mpl.toolbar_items[toolbar_ind][0];\n",
       "        var tooltip = mpl.toolbar_items[toolbar_ind][1];\n",
       "        var image = mpl.toolbar_items[toolbar_ind][2];\n",
       "        var method_name = mpl.toolbar_items[toolbar_ind][3];\n",
       "\n",
       "        if (!name) {\n",
       "            // put a spacer in here.\n",
       "            continue;\n",
       "        }\n",
       "        var button = $('<button/>');\n",
       "        button.addClass('ui-button ui-widget ui-state-default ui-corner-all ' +\n",
       "                        'ui-button-icon-only');\n",
       "        button.attr('role', 'button');\n",
       "        button.attr('aria-disabled', 'false');\n",
       "        button.click(method_name, toolbar_event);\n",
       "        button.mouseover(tooltip, toolbar_mouse_event);\n",
       "\n",
       "        var icon_img = $('<span/>');\n",
       "        icon_img.addClass('ui-button-icon-primary ui-icon');\n",
       "        icon_img.addClass(image);\n",
       "        icon_img.addClass('ui-corner-all');\n",
       "\n",
       "        var tooltip_span = $('<span/>');\n",
       "        tooltip_span.addClass('ui-button-text');\n",
       "        tooltip_span.html(tooltip);\n",
       "\n",
       "        button.append(icon_img);\n",
       "        button.append(tooltip_span);\n",
       "\n",
       "        nav_element.append(button);\n",
       "    }\n",
       "\n",
       "    var fmt_picker_span = $('<span/>');\n",
       "\n",
       "    var fmt_picker = $('<select/>');\n",
       "    fmt_picker.addClass('mpl-toolbar-option ui-widget ui-widget-content');\n",
       "    fmt_picker_span.append(fmt_picker);\n",
       "    nav_element.append(fmt_picker_span);\n",
       "    this.format_dropdown = fmt_picker[0];\n",
       "\n",
       "    for (var ind in mpl.extensions) {\n",
       "        var fmt = mpl.extensions[ind];\n",
       "        var option = $(\n",
       "            '<option/>', {selected: fmt === mpl.default_extension}).html(fmt);\n",
       "        fmt_picker.append(option)\n",
       "    }\n",
       "\n",
       "    // Add hover states to the ui-buttons\n",
       "    $( \".ui-button\" ).hover(\n",
       "        function() { $(this).addClass(\"ui-state-hover\");},\n",
       "        function() { $(this).removeClass(\"ui-state-hover\");}\n",
       "    );\n",
       "\n",
       "    var status_bar = $('<span class=\"mpl-message\"/>');\n",
       "    nav_element.append(status_bar);\n",
       "    this.message = status_bar[0];\n",
       "}\n",
       "\n",
       "mpl.figure.prototype.request_resize = function(x_pixels, y_pixels) {\n",
       "    // Request matplotlib to resize the figure. Matplotlib will then trigger a resize in the client,\n",
       "    // which will in turn request a refresh of the image.\n",
       "    this.send_message('resize', {'width': x_pixels, 'height': y_pixels});\n",
       "}\n",
       "\n",
       "mpl.figure.prototype.send_message = function(type, properties) {\n",
       "    properties['type'] = type;\n",
       "    properties['figure_id'] = this.id;\n",
       "    this.ws.send(JSON.stringify(properties));\n",
       "}\n",
       "\n",
       "mpl.figure.prototype.send_draw_message = function() {\n",
       "    if (!this.waiting) {\n",
       "        this.waiting = true;\n",
       "        this.ws.send(JSON.stringify({type: \"draw\", figure_id: this.id}));\n",
       "    }\n",
       "}\n",
       "\n",
       "\n",
       "mpl.figure.prototype.handle_save = function(fig, msg) {\n",
       "    var format_dropdown = fig.format_dropdown;\n",
       "    var format = format_dropdown.options[format_dropdown.selectedIndex].value;\n",
       "    fig.ondownload(fig, format);\n",
       "}\n",
       "\n",
       "\n",
       "mpl.figure.prototype.handle_resize = function(fig, msg) {\n",
       "    var size = msg['size'];\n",
       "    if (size[0] != fig.canvas.width || size[1] != fig.canvas.height) {\n",
       "        fig._resize_canvas(size[0], size[1]);\n",
       "        fig.send_message(\"refresh\", {});\n",
       "    };\n",
       "}\n",
       "\n",
       "mpl.figure.prototype.handle_rubberband = function(fig, msg) {\n",
       "    var x0 = msg['x0'] / mpl.ratio;\n",
       "    var y0 = (fig.canvas.height - msg['y0']) / mpl.ratio;\n",
       "    var x1 = msg['x1'] / mpl.ratio;\n",
       "    var y1 = (fig.canvas.height - msg['y1']) / mpl.ratio;\n",
       "    x0 = Math.floor(x0) + 0.5;\n",
       "    y0 = Math.floor(y0) + 0.5;\n",
       "    x1 = Math.floor(x1) + 0.5;\n",
       "    y1 = Math.floor(y1) + 0.5;\n",
       "    var min_x = Math.min(x0, x1);\n",
       "    var min_y = Math.min(y0, y1);\n",
       "    var width = Math.abs(x1 - x0);\n",
       "    var height = Math.abs(y1 - y0);\n",
       "\n",
       "    fig.rubberband_context.clearRect(\n",
       "        0, 0, fig.canvas.width, fig.canvas.height);\n",
       "\n",
       "    fig.rubberband_context.strokeRect(min_x, min_y, width, height);\n",
       "}\n",
       "\n",
       "mpl.figure.prototype.handle_figure_label = function(fig, msg) {\n",
       "    // Updates the figure title.\n",
       "    fig.header.textContent = msg['label'];\n",
       "}\n",
       "\n",
       "mpl.figure.prototype.handle_cursor = function(fig, msg) {\n",
       "    var cursor = msg['cursor'];\n",
       "    switch(cursor)\n",
       "    {\n",
       "    case 0:\n",
       "        cursor = 'pointer';\n",
       "        break;\n",
       "    case 1:\n",
       "        cursor = 'default';\n",
       "        break;\n",
       "    case 2:\n",
       "        cursor = 'crosshair';\n",
       "        break;\n",
       "    case 3:\n",
       "        cursor = 'move';\n",
       "        break;\n",
       "    }\n",
       "    fig.rubberband_canvas.style.cursor = cursor;\n",
       "}\n",
       "\n",
       "mpl.figure.prototype.handle_message = function(fig, msg) {\n",
       "    fig.message.textContent = msg['message'];\n",
       "}\n",
       "\n",
       "mpl.figure.prototype.handle_draw = function(fig, msg) {\n",
       "    // Request the server to send over a new figure.\n",
       "    fig.send_draw_message();\n",
       "}\n",
       "\n",
       "mpl.figure.prototype.handle_image_mode = function(fig, msg) {\n",
       "    fig.image_mode = msg['mode'];\n",
       "}\n",
       "\n",
       "mpl.figure.prototype.updated_canvas_event = function() {\n",
       "    // Called whenever the canvas gets updated.\n",
       "    this.send_message(\"ack\", {});\n",
       "}\n",
       "\n",
       "// A function to construct a web socket function for onmessage handling.\n",
       "// Called in the figure constructor.\n",
       "mpl.figure.prototype._make_on_message_function = function(fig) {\n",
       "    return function socket_on_message(evt) {\n",
       "        if (evt.data instanceof Blob) {\n",
       "            /* FIXME: We get \"Resource interpreted as Image but\n",
       "             * transferred with MIME type text/plain:\" errors on\n",
       "             * Chrome.  But how to set the MIME type?  It doesn't seem\n",
       "             * to be part of the websocket stream */\n",
       "            evt.data.type = \"image/png\";\n",
       "\n",
       "            /* Free the memory for the previous frames */\n",
       "            if (fig.imageObj.src) {\n",
       "                (window.URL || window.webkitURL).revokeObjectURL(\n",
       "                    fig.imageObj.src);\n",
       "            }\n",
       "\n",
       "            fig.imageObj.src = (window.URL || window.webkitURL).createObjectURL(\n",
       "                evt.data);\n",
       "            fig.updated_canvas_event();\n",
       "            fig.waiting = false;\n",
       "            return;\n",
       "        }\n",
       "        else if (typeof evt.data === 'string' && evt.data.slice(0, 21) == \"data:image/png;base64\") {\n",
       "            fig.imageObj.src = evt.data;\n",
       "            fig.updated_canvas_event();\n",
       "            fig.waiting = false;\n",
       "            return;\n",
       "        }\n",
       "\n",
       "        var msg = JSON.parse(evt.data);\n",
       "        var msg_type = msg['type'];\n",
       "\n",
       "        // Call the  \"handle_{type}\" callback, which takes\n",
       "        // the figure and JSON message as its only arguments.\n",
       "        try {\n",
       "            var callback = fig[\"handle_\" + msg_type];\n",
       "        } catch (e) {\n",
       "            console.log(\"No handler for the '\" + msg_type + \"' message type: \", msg);\n",
       "            return;\n",
       "        }\n",
       "\n",
       "        if (callback) {\n",
       "            try {\n",
       "                // console.log(\"Handling '\" + msg_type + \"' message: \", msg);\n",
       "                callback(fig, msg);\n",
       "            } catch (e) {\n",
       "                console.log(\"Exception inside the 'handler_\" + msg_type + \"' callback:\", e, e.stack, msg);\n",
       "            }\n",
       "        }\n",
       "    };\n",
       "}\n",
       "\n",
       "// from http://stackoverflow.com/questions/1114465/getting-mouse-location-in-canvas\n",
       "mpl.findpos = function(e) {\n",
       "    //this section is from http://www.quirksmode.org/js/events_properties.html\n",
       "    var targ;\n",
       "    if (!e)\n",
       "        e = window.event;\n",
       "    if (e.target)\n",
       "        targ = e.target;\n",
       "    else if (e.srcElement)\n",
       "        targ = e.srcElement;\n",
       "    if (targ.nodeType == 3) // defeat Safari bug\n",
       "        targ = targ.parentNode;\n",
       "\n",
       "    // jQuery normalizes the pageX and pageY\n",
       "    // pageX,Y are the mouse positions relative to the document\n",
       "    // offset() returns the position of the element relative to the document\n",
       "    var x = e.pageX - $(targ).offset().left;\n",
       "    var y = e.pageY - $(targ).offset().top;\n",
       "\n",
       "    return {\"x\": x, \"y\": y};\n",
       "};\n",
       "\n",
       "/*\n",
       " * return a copy of an object with only non-object keys\n",
       " * we need this to avoid circular references\n",
       " * http://stackoverflow.com/a/24161582/3208463\n",
       " */\n",
       "function simpleKeys (original) {\n",
       "  return Object.keys(original).reduce(function (obj, key) {\n",
       "    if (typeof original[key] !== 'object')\n",
       "        obj[key] = original[key]\n",
       "    return obj;\n",
       "  }, {});\n",
       "}\n",
       "\n",
       "mpl.figure.prototype.mouse_event = function(event, name) {\n",
       "    var canvas_pos = mpl.findpos(event)\n",
       "\n",
       "    if (name === 'button_press')\n",
       "    {\n",
       "        this.canvas.focus();\n",
       "        this.canvas_div.focus();\n",
       "    }\n",
       "\n",
       "    var x = canvas_pos.x * mpl.ratio;\n",
       "    var y = canvas_pos.y * mpl.ratio;\n",
       "\n",
       "    this.send_message(name, {x: x, y: y, button: event.button,\n",
       "                             step: event.step,\n",
       "                             guiEvent: simpleKeys(event)});\n",
       "\n",
       "    /* This prevents the web browser from automatically changing to\n",
       "     * the text insertion cursor when the button is pressed.  We want\n",
       "     * to control all of the cursor setting manually through the\n",
       "     * 'cursor' event from matplotlib */\n",
       "    event.preventDefault();\n",
       "    return false;\n",
       "}\n",
       "\n",
       "mpl.figure.prototype._key_event_extra = function(event, name) {\n",
       "    // Handle any extra behaviour associated with a key event\n",
       "}\n",
       "\n",
       "mpl.figure.prototype.key_event = function(event, name) {\n",
       "\n",
       "    // Prevent repeat events\n",
       "    if (name == 'key_press')\n",
       "    {\n",
       "        if (event.which === this._key)\n",
       "            return;\n",
       "        else\n",
       "            this._key = event.which;\n",
       "    }\n",
       "    if (name == 'key_release')\n",
       "        this._key = null;\n",
       "\n",
       "    var value = '';\n",
       "    if (event.ctrlKey && event.which != 17)\n",
       "        value += \"ctrl+\";\n",
       "    if (event.altKey && event.which != 18)\n",
       "        value += \"alt+\";\n",
       "    if (event.shiftKey && event.which != 16)\n",
       "        value += \"shift+\";\n",
       "\n",
       "    value += 'k';\n",
       "    value += event.which.toString();\n",
       "\n",
       "    this._key_event_extra(event, name);\n",
       "\n",
       "    this.send_message(name, {key: value,\n",
       "                             guiEvent: simpleKeys(event)});\n",
       "    return false;\n",
       "}\n",
       "\n",
       "mpl.figure.prototype.toolbar_button_onclick = function(name) {\n",
       "    if (name == 'download') {\n",
       "        this.handle_save(this, null);\n",
       "    } else {\n",
       "        this.send_message(\"toolbar_button\", {name: name});\n",
       "    }\n",
       "};\n",
       "\n",
       "mpl.figure.prototype.toolbar_button_onmouseover = function(tooltip) {\n",
       "    this.message.textContent = tooltip;\n",
       "};\n",
       "mpl.toolbar_items = [[\"Home\", \"Reset original view\", \"fa fa-home icon-home\", \"home\"], [\"Back\", \"Back to previous view\", \"fa fa-arrow-left icon-arrow-left\", \"back\"], [\"Forward\", \"Forward to next view\", \"fa fa-arrow-right icon-arrow-right\", \"forward\"], [\"\", \"\", \"\", \"\"], [\"Pan\", \"Pan axes with left mouse, zoom with right\", \"fa fa-arrows icon-move\", \"pan\"], [\"Zoom\", \"Zoom to rectangle\", \"fa fa-square-o icon-check-empty\", \"zoom\"], [\"\", \"\", \"\", \"\"], [\"Download\", \"Download plot\", \"fa fa-floppy-o icon-save\", \"download\"]];\n",
       "\n",
       "mpl.extensions = [\"eps\", \"jpeg\", \"pdf\", \"png\", \"ps\", \"raw\", \"svg\", \"tif\"];\n",
       "\n",
       "mpl.default_extension = \"png\";var comm_websocket_adapter = function(comm) {\n",
       "    // Create a \"websocket\"-like object which calls the given IPython comm\n",
       "    // object with the appropriate methods. Currently this is a non binary\n",
       "    // socket, so there is still some room for performance tuning.\n",
       "    var ws = {};\n",
       "\n",
       "    ws.close = function() {\n",
       "        comm.close()\n",
       "    };\n",
       "    ws.send = function(m) {\n",
       "        //console.log('sending', m);\n",
       "        comm.send(m);\n",
       "    };\n",
       "    // Register the callback with on_msg.\n",
       "    comm.on_msg(function(msg) {\n",
       "        //console.log('receiving', msg['content']['data'], msg);\n",
       "        // Pass the mpl event to the overridden (by mpl) onmessage function.\n",
       "        ws.onmessage(msg['content']['data'])\n",
       "    });\n",
       "    return ws;\n",
       "}\n",
       "\n",
       "mpl.mpl_figure_comm = function(comm, msg) {\n",
       "    // This is the function which gets called when the mpl process\n",
       "    // starts-up an IPython Comm through the \"matplotlib\" channel.\n",
       "\n",
       "    var id = msg.content.data.id;\n",
       "    // Get hold of the div created by the display call when the Comm\n",
       "    // socket was opened in Python.\n",
       "    var element = $(\"#\" + id);\n",
       "    var ws_proxy = comm_websocket_adapter(comm)\n",
       "\n",
       "    function ondownload(figure, format) {\n",
       "        window.open(figure.imageObj.src);\n",
       "    }\n",
       "\n",
       "    var fig = new mpl.figure(id, ws_proxy,\n",
       "                           ondownload,\n",
       "                           element.get(0));\n",
       "\n",
       "    // Call onopen now - mpl needs it, as it is assuming we've passed it a real\n",
       "    // web socket which is closed, not our websocket->open comm proxy.\n",
       "    ws_proxy.onopen();\n",
       "\n",
       "    fig.parent_element = element.get(0);\n",
       "    fig.cell_info = mpl.find_output_cell(\"<div id='\" + id + \"'></div>\");\n",
       "    if (!fig.cell_info) {\n",
       "        console.error(\"Failed to find cell for figure\", id, fig);\n",
       "        return;\n",
       "    }\n",
       "\n",
       "    var output_index = fig.cell_info[2]\n",
       "    var cell = fig.cell_info[0];\n",
       "\n",
       "};\n",
       "\n",
       "mpl.figure.prototype.handle_close = function(fig, msg) {\n",
       "    var width = fig.canvas.width/mpl.ratio\n",
       "    fig.root.unbind('remove')\n",
       "\n",
       "    // Update the output cell to use the data from the current canvas.\n",
       "    fig.push_to_output();\n",
       "    var dataURL = fig.canvas.toDataURL();\n",
       "    // Re-enable the keyboard manager in IPython - without this line, in FF,\n",
       "    // the notebook keyboard shortcuts fail.\n",
       "    IPython.keyboard_manager.enable()\n",
       "    $(fig.parent_element).html('<img src=\"' + dataURL + '\" width=\"' + width + '\">');\n",
       "    fig.close_ws(fig, msg);\n",
       "}\n",
       "\n",
       "mpl.figure.prototype.close_ws = function(fig, msg){\n",
       "    fig.send_message('closing', msg);\n",
       "    // fig.ws.close()\n",
       "}\n",
       "\n",
       "mpl.figure.prototype.push_to_output = function(remove_interactive) {\n",
       "    // Turn the data on the canvas into data in the output cell.\n",
       "    var width = this.canvas.width/mpl.ratio\n",
       "    var dataURL = this.canvas.toDataURL();\n",
       "    this.cell_info[1]['text/html'] = '<img src=\"' + dataURL + '\" width=\"' + width + '\">';\n",
       "}\n",
       "\n",
       "mpl.figure.prototype.updated_canvas_event = function() {\n",
       "    // Tell IPython that the notebook contents must change.\n",
       "    IPython.notebook.set_dirty(true);\n",
       "    this.send_message(\"ack\", {});\n",
       "    var fig = this;\n",
       "    // Wait a second, then push the new image to the DOM so\n",
       "    // that it is saved nicely (might be nice to debounce this).\n",
       "    setTimeout(function () { fig.push_to_output() }, 1000);\n",
       "}\n",
       "\n",
       "mpl.figure.prototype._init_toolbar = function() {\n",
       "    var fig = this;\n",
       "\n",
       "    var nav_element = $('<div/>')\n",
       "    nav_element.attr('style', 'width: 100%');\n",
       "    this.root.append(nav_element);\n",
       "\n",
       "    // Define a callback function for later on.\n",
       "    function toolbar_event(event) {\n",
       "        return fig.toolbar_button_onclick(event['data']);\n",
       "    }\n",
       "    function toolbar_mouse_event(event) {\n",
       "        return fig.toolbar_button_onmouseover(event['data']);\n",
       "    }\n",
       "\n",
       "    for(var toolbar_ind in mpl.toolbar_items){\n",
       "        var name = mpl.toolbar_items[toolbar_ind][0];\n",
       "        var tooltip = mpl.toolbar_items[toolbar_ind][1];\n",
       "        var image = mpl.toolbar_items[toolbar_ind][2];\n",
       "        var method_name = mpl.toolbar_items[toolbar_ind][3];\n",
       "\n",
       "        if (!name) { continue; };\n",
       "\n",
       "        var button = $('<button class=\"btn btn-default\" href=\"#\" title=\"' + name + '\"><i class=\"fa ' + image + ' fa-lg\"></i></button>');\n",
       "        button.click(method_name, toolbar_event);\n",
       "        button.mouseover(tooltip, toolbar_mouse_event);\n",
       "        nav_element.append(button);\n",
       "    }\n",
       "\n",
       "    // Add the status bar.\n",
       "    var status_bar = $('<span class=\"mpl-message\" style=\"text-align:right; float: right;\"/>');\n",
       "    nav_element.append(status_bar);\n",
       "    this.message = status_bar[0];\n",
       "\n",
       "    // Add the close button to the window.\n",
       "    var buttongrp = $('<div class=\"btn-group inline pull-right\"></div>');\n",
       "    var button = $('<button class=\"btn btn-mini btn-primary\" href=\"#\" title=\"Stop Interaction\"><i class=\"fa fa-power-off icon-remove icon-large\"></i></button>');\n",
       "    button.click(function (evt) { fig.handle_close(fig, {}); } );\n",
       "    button.mouseover('Stop Interaction', toolbar_mouse_event);\n",
       "    buttongrp.append(button);\n",
       "    var titlebar = this.root.find($('.ui-dialog-titlebar'));\n",
       "    titlebar.prepend(buttongrp);\n",
       "}\n",
       "\n",
       "mpl.figure.prototype._root_extra_style = function(el){\n",
       "    var fig = this\n",
       "    el.on(\"remove\", function(){\n",
       "\tfig.close_ws(fig, {});\n",
       "    });\n",
       "}\n",
       "\n",
       "mpl.figure.prototype._canvas_extra_style = function(el){\n",
       "    // this is important to make the div 'focusable\n",
       "    el.attr('tabindex', 0)\n",
       "    // reach out to IPython and tell the keyboard manager to turn it's self\n",
       "    // off when our div gets focus\n",
       "\n",
       "    // location in version 3\n",
       "    if (IPython.notebook.keyboard_manager) {\n",
       "        IPython.notebook.keyboard_manager.register_events(el);\n",
       "    }\n",
       "    else {\n",
       "        // location in version 2\n",
       "        IPython.keyboard_manager.register_events(el);\n",
       "    }\n",
       "\n",
       "}\n",
       "\n",
       "mpl.figure.prototype._key_event_extra = function(event, name) {\n",
       "    var manager = IPython.notebook.keyboard_manager;\n",
       "    if (!manager)\n",
       "        manager = IPython.keyboard_manager;\n",
       "\n",
       "    // Check for shift+enter\n",
       "    if (event.shiftKey && event.which == 13) {\n",
       "        this.canvas_div.blur();\n",
       "        event.shiftKey = false;\n",
       "        // Send a \"J\" for go to next cell\n",
       "        event.which = 74;\n",
       "        event.keyCode = 74;\n",
       "        manager.command_mode();\n",
       "        manager.handle_keydown(event);\n",
       "    }\n",
       "}\n",
       "\n",
       "mpl.figure.prototype.handle_save = function(fig, msg) {\n",
       "    fig.ondownload(fig, null);\n",
       "}\n",
       "\n",
       "\n",
       "mpl.find_output_cell = function(html_output) {\n",
       "    // Return the cell and output element which can be found *uniquely* in the notebook.\n",
       "    // Note - this is a bit hacky, but it is done because the \"notebook_saving.Notebook\"\n",
       "    // IPython event is triggered only after the cells have been serialised, which for\n",
       "    // our purposes (turning an active figure into a static one), is too late.\n",
       "    var cells = IPython.notebook.get_cells();\n",
       "    var ncells = cells.length;\n",
       "    for (var i=0; i<ncells; i++) {\n",
       "        var cell = cells[i];\n",
       "        if (cell.cell_type === 'code'){\n",
       "            for (var j=0; j<cell.output_area.outputs.length; j++) {\n",
       "                var data = cell.output_area.outputs[j];\n",
       "                if (data.data) {\n",
       "                    // IPython >= 3 moved mimebundle to data attribute of output\n",
       "                    data = data.data;\n",
       "                }\n",
       "                if (data['text/html'] == html_output) {\n",
       "                    return [cell, data, j];\n",
       "                }\n",
       "            }\n",
       "        }\n",
       "    }\n",
       "}\n",
       "\n",
       "// Register the function which deals with the matplotlib target/channel.\n",
       "// The kernel may be null if the page has been refreshed.\n",
       "if (IPython.notebook.kernel != null) {\n",
       "    IPython.notebook.kernel.comm_manager.register_target('matplotlib', mpl.mpl_figure_comm);\n",
       "}\n"
      ],
      "text/plain": [
       "<IPython.core.display.Javascript object>"
      ]
     },
     "metadata": {},
     "output_type": "display_data"
    },
    {
     "data": {
      "text/html": [
       "<img src=\"data:image/png;base64,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\" width=\"640\">"
      ],
      "text/plain": [
       "<IPython.core.display.HTML object>"
      ]
     },
     "metadata": {},
     "output_type": "display_data"
    }
   ],
   "source": [
    "%matplotlib notebook\n",
    "sir_model.phaseDiagram()"
   ]
  },
  {
   "cell_type": "code",
   "execution_count": 6,
   "metadata": {
    "scrolled": true
   },
   "outputs": [
    {
     "data": {
      "application/vnd.jupyter.widget-view+json": {
       "model_id": "",
       "version_major": 2,
       "version_minor": 0
      },
      "text/plain": [
       "HBox(children=(IntProgress(value=0, description='Row', max=10, style=ProgressStyle(description_width='initial'…"
      ]
     },
     "metadata": {},
     "output_type": "display_data"
    },
    {
     "data": {
      "application/vnd.jupyter.widget-view+json": {
       "model_id": "",
       "version_major": 2,
       "version_minor": 0
      },
      "text/plain": [
       "HBox(children=(IntProgress(value=0, description='Col', max=10, style=ProgressStyle(description_width='initial'…"
      ]
     },
     "metadata": {},
     "output_type": "display_data"
    },
    {
     "data": {
      "application/vnd.jupyter.widget-view+json": {
       "model_id": "",
       "version_major": 2,
       "version_minor": 0
      },
      "text/plain": [
       "HBox(children=(IntProgress(value=0, description='Equilibrate sweep', style=ProgressStyle(description_width='in…"
      ]
     },
     "metadata": {},
     "output_type": "display_data"
    },
    {
     "data": {
      "application/vnd.jupyter.widget-view+json": {
       "model_id": "",
       "version_major": 2,
       "version_minor": 0
      },
      "text/plain": [
       "HBox(children=(IntProgress(value=0, description='Measurement sweep', max=1000, style=ProgressStyle(description…"
      ]
     },
     "metadata": {},
     "output_type": "display_data"
    },
    {
     "data": {
      "application/vnd.jupyter.widget-view+json": {
       "model_id": "",
       "version_major": 2,
       "version_minor": 0
      },
      "text/plain": [
       "HBox(children=(IntProgress(value=0, description='Equilibrate sweep', style=ProgressStyle(description_width='in…"
      ]
     },
     "metadata": {},
     "output_type": "display_data"
    },
    {
     "data": {
      "application/vnd.jupyter.widget-view+json": {
       "model_id": "",
       "version_major": 2,
       "version_minor": 0
      },
      "text/plain": [
       "HBox(children=(IntProgress(value=0, description='Measurement sweep', max=1000, style=ProgressStyle(description…"
      ]
     },
     "metadata": {},
     "output_type": "display_data"
    },
    {
     "data": {
      "application/vnd.jupyter.widget-view+json": {
       "model_id": "",
       "version_major": 2,
       "version_minor": 0
      },
      "text/plain": [
       "HBox(children=(IntProgress(value=0, description='Equilibrate sweep', style=ProgressStyle(description_width='in…"
      ]
     },
     "metadata": {},
     "output_type": "display_data"
    },
    {
     "data": {
      "application/vnd.jupyter.widget-view+json": {
       "model_id": "",
       "version_major": 2,
       "version_minor": 0
      },
      "text/plain": [
       "HBox(children=(IntProgress(value=0, description='Measurement sweep', max=1000, style=ProgressStyle(description…"
      ]
     },
     "metadata": {},
     "output_type": "display_data"
    },
    {
     "data": {
      "application/vnd.jupyter.widget-view+json": {
       "model_id": "",
       "version_major": 2,
       "version_minor": 0
      },
      "text/plain": [
       "HBox(children=(IntProgress(value=0, description='Equilibrate sweep', style=ProgressStyle(description_width='in…"
      ]
     },
     "metadata": {},
     "output_type": "display_data"
    },
    {
     "data": {
      "application/vnd.jupyter.widget-view+json": {
       "model_id": "",
       "version_major": 2,
       "version_minor": 0
      },
      "text/plain": [
       "HBox(children=(IntProgress(value=0, description='Measurement sweep', max=1000, style=ProgressStyle(description…"
      ]
     },
     "metadata": {},
     "output_type": "display_data"
    },
    {
     "data": {
      "application/vnd.jupyter.widget-view+json": {
       "model_id": "",
       "version_major": 2,
       "version_minor": 0
      },
      "text/plain": [
       "HBox(children=(IntProgress(value=0, description='Equilibrate sweep', style=ProgressStyle(description_width='in…"
      ]
     },
     "metadata": {},
     "output_type": "display_data"
    },
    {
     "data": {
      "application/vnd.jupyter.widget-view+json": {
       "model_id": "",
       "version_major": 2,
       "version_minor": 0
      },
      "text/plain": [
       "HBox(children=(IntProgress(value=0, description='Measurement sweep', max=1000, style=ProgressStyle(description…"
      ]
     },
     "metadata": {},
     "output_type": "display_data"
    },
    {
     "data": {
      "application/vnd.jupyter.widget-view+json": {
       "model_id": "",
       "version_major": 2,
       "version_minor": 0
      },
      "text/plain": [
       "HBox(children=(IntProgress(value=0, description='Equilibrate sweep', style=ProgressStyle(description_width='in…"
      ]
     },
     "metadata": {},
     "output_type": "display_data"
    },
    {
     "data": {
      "application/vnd.jupyter.widget-view+json": {
       "model_id": "",
       "version_major": 2,
       "version_minor": 0
      },
      "text/plain": [
       "HBox(children=(IntProgress(value=0, description='Measurement sweep', max=1000, style=ProgressStyle(description…"
      ]
     },
     "metadata": {},
     "output_type": "display_data"
    },
    {
     "data": {
      "application/vnd.jupyter.widget-view+json": {
       "model_id": "",
       "version_major": 2,
       "version_minor": 0
      },
      "text/plain": [
       "HBox(children=(IntProgress(value=0, description='Equilibrate sweep', style=ProgressStyle(description_width='in…"
      ]
     },
     "metadata": {},
     "output_type": "display_data"
    },
    {
     "data": {
      "application/vnd.jupyter.widget-view+json": {
       "model_id": "",
       "version_major": 2,
       "version_minor": 0
      },
      "text/plain": [
       "HBox(children=(IntProgress(value=0, description='Measurement sweep', max=1000, style=ProgressStyle(description…"
      ]
     },
     "metadata": {},
     "output_type": "display_data"
    },
    {
     "data": {
      "application/vnd.jupyter.widget-view+json": {
       "model_id": "",
       "version_major": 2,
       "version_minor": 0
      },
      "text/plain": [
       "HBox(children=(IntProgress(value=0, description='Equilibrate sweep', style=ProgressStyle(description_width='in…"
      ]
     },
     "metadata": {},
     "output_type": "display_data"
    },
    {
     "data": {
      "application/vnd.jupyter.widget-view+json": {
       "model_id": "",
       "version_major": 2,
       "version_minor": 0
      },
      "text/plain": [
       "HBox(children=(IntProgress(value=0, description='Measurement sweep', max=1000, style=ProgressStyle(description…"
      ]
     },
     "metadata": {},
     "output_type": "display_data"
    },
    {
     "data": {
      "application/vnd.jupyter.widget-view+json": {
       "model_id": "",
       "version_major": 2,
       "version_minor": 0
      },
      "text/plain": [
       "HBox(children=(IntProgress(value=0, description='Equilibrate sweep', style=ProgressStyle(description_width='in…"
      ]
     },
     "metadata": {},
     "output_type": "display_data"
    },
    {
     "data": {
      "application/vnd.jupyter.widget-view+json": {
       "model_id": "",
       "version_major": 2,
       "version_minor": 0
      },
      "text/plain": [
       "HBox(children=(IntProgress(value=0, description='Measurement sweep', max=1000, style=ProgressStyle(description…"
      ]
     },
     "metadata": {},
     "output_type": "display_data"
    },
    {
     "data": {
      "application/vnd.jupyter.widget-view+json": {
       "model_id": "",
       "version_major": 2,
       "version_minor": 0
      },
      "text/plain": [
       "HBox(children=(IntProgress(value=0, description='Equilibrate sweep', style=ProgressStyle(description_width='in…"
      ]
     },
     "metadata": {},
     "output_type": "display_data"
    },
    {
     "data": {
      "application/vnd.jupyter.widget-view+json": {
       "model_id": "",
       "version_major": 2,
       "version_minor": 0
      },
      "text/plain": [
       "HBox(children=(IntProgress(value=0, description='Measurement sweep', max=1000, style=ProgressStyle(description…"
      ]
     },
     "metadata": {},
     "output_type": "display_data"
    },
    {
     "data": {
      "application/vnd.jupyter.widget-view+json": {
       "model_id": "",
       "version_major": 2,
       "version_minor": 0
      },
      "text/plain": [
       "HBox(children=(IntProgress(value=0, description='Col', max=10, style=ProgressStyle(description_width='initial'…"
      ]
     },
     "metadata": {},
     "output_type": "display_data"
    },
    {
     "data": {
      "application/vnd.jupyter.widget-view+json": {
       "model_id": "",
       "version_major": 2,
       "version_minor": 0
      },
      "text/plain": [
       "HBox(children=(IntProgress(value=0, description='Equilibrate sweep', style=ProgressStyle(description_width='in…"
      ]
     },
     "metadata": {},
     "output_type": "display_data"
    },
    {
     "data": {
      "application/vnd.jupyter.widget-view+json": {
       "model_id": "",
       "version_major": 2,
       "version_minor": 0
      },
      "text/plain": [
       "HBox(children=(IntProgress(value=0, description='Measurement sweep', max=1000, style=ProgressStyle(description…"
      ]
     },
     "metadata": {},
     "output_type": "display_data"
    },
    {
     "data": {
      "application/vnd.jupyter.widget-view+json": {
       "model_id": "",
       "version_major": 2,
       "version_minor": 0
      },
      "text/plain": [
       "HBox(children=(IntProgress(value=0, description='Equilibrate sweep', style=ProgressStyle(description_width='in…"
      ]
     },
     "metadata": {},
     "output_type": "display_data"
    },
    {
     "data": {
      "application/vnd.jupyter.widget-view+json": {
       "model_id": "",
       "version_major": 2,
       "version_minor": 0
      },
      "text/plain": [
       "HBox(children=(IntProgress(value=0, description='Measurement sweep', max=1000, style=ProgressStyle(description…"
      ]
     },
     "metadata": {},
     "output_type": "display_data"
    },
    {
     "data": {
      "application/vnd.jupyter.widget-view+json": {
       "model_id": "",
       "version_major": 2,
       "version_minor": 0
      },
      "text/plain": [
       "HBox(children=(IntProgress(value=0, description='Equilibrate sweep', style=ProgressStyle(description_width='in…"
      ]
     },
     "metadata": {},
     "output_type": "display_data"
    },
    {
     "data": {
      "application/vnd.jupyter.widget-view+json": {
       "model_id": "",
       "version_major": 2,
       "version_minor": 0
      },
      "text/plain": [
       "HBox(children=(IntProgress(value=0, description='Measurement sweep', max=1000, style=ProgressStyle(description…"
      ]
     },
     "metadata": {},
     "output_type": "display_data"
    },
    {
     "data": {
      "application/vnd.jupyter.widget-view+json": {
       "model_id": "",
       "version_major": 2,
       "version_minor": 0
      },
      "text/plain": [
       "HBox(children=(IntProgress(value=0, description='Equilibrate sweep', style=ProgressStyle(description_width='in…"
      ]
     },
     "metadata": {},
     "output_type": "display_data"
    },
    {
     "data": {
      "application/vnd.jupyter.widget-view+json": {
       "model_id": "",
       "version_major": 2,
       "version_minor": 0
      },
      "text/plain": [
       "HBox(children=(IntProgress(value=0, description='Measurement sweep', max=1000, style=ProgressStyle(description…"
      ]
     },
     "metadata": {},
     "output_type": "display_data"
    },
    {
     "data": {
      "application/vnd.jupyter.widget-view+json": {
       "model_id": "",
       "version_major": 2,
       "version_minor": 0
      },
      "text/plain": [
       "HBox(children=(IntProgress(value=0, description='Equilibrate sweep', style=ProgressStyle(description_width='in…"
      ]
     },
     "metadata": {},
     "output_type": "display_data"
    },
    {
     "data": {
      "application/vnd.jupyter.widget-view+json": {
       "model_id": "",
       "version_major": 2,
       "version_minor": 0
      },
      "text/plain": [
       "HBox(children=(IntProgress(value=0, description='Measurement sweep', max=1000, style=ProgressStyle(description…"
      ]
     },
     "metadata": {},
     "output_type": "display_data"
    },
    {
     "data": {
      "application/vnd.jupyter.widget-view+json": {
       "model_id": "",
       "version_major": 2,
       "version_minor": 0
      },
      "text/plain": [
       "HBox(children=(IntProgress(value=0, description='Equilibrate sweep', style=ProgressStyle(description_width='in…"
      ]
     },
     "metadata": {},
     "output_type": "display_data"
    },
    {
     "data": {
      "application/vnd.jupyter.widget-view+json": {
       "model_id": "",
       "version_major": 2,
       "version_minor": 0
      },
      "text/plain": [
       "HBox(children=(IntProgress(value=0, description='Measurement sweep', max=1000, style=ProgressStyle(description…"
      ]
     },
     "metadata": {},
     "output_type": "display_data"
    },
    {
     "data": {
      "application/vnd.jupyter.widget-view+json": {
       "model_id": "",
       "version_major": 2,
       "version_minor": 0
      },
      "text/plain": [
       "HBox(children=(IntProgress(value=0, description='Equilibrate sweep', style=ProgressStyle(description_width='in…"
      ]
     },
     "metadata": {},
     "output_type": "display_data"
    },
    {
     "data": {
      "application/vnd.jupyter.widget-view+json": {
       "model_id": "",
       "version_major": 2,
       "version_minor": 0
      },
      "text/plain": [
       "HBox(children=(IntProgress(value=0, description='Measurement sweep', max=1000, style=ProgressStyle(description…"
      ]
     },
     "metadata": {},
     "output_type": "display_data"
    },
    {
     "data": {
      "application/vnd.jupyter.widget-view+json": {
       "model_id": "",
       "version_major": 2,
       "version_minor": 0
      },
      "text/plain": [
       "HBox(children=(IntProgress(value=0, description='Equilibrate sweep', style=ProgressStyle(description_width='in…"
      ]
     },
     "metadata": {},
     "output_type": "display_data"
    },
    {
     "data": {
      "application/vnd.jupyter.widget-view+json": {
       "model_id": "",
       "version_major": 2,
       "version_minor": 0
      },
      "text/plain": [
       "HBox(children=(IntProgress(value=0, description='Measurement sweep', max=1000, style=ProgressStyle(description…"
      ]
     },
     "metadata": {},
     "output_type": "display_data"
    },
    {
     "data": {
      "application/vnd.jupyter.widget-view+json": {
       "model_id": "",
       "version_major": 2,
       "version_minor": 0
      },
      "text/plain": [
       "HBox(children=(IntProgress(value=0, description='Equilibrate sweep', style=ProgressStyle(description_width='in…"
      ]
     },
     "metadata": {},
     "output_type": "display_data"
    },
    {
     "data": {
      "application/vnd.jupyter.widget-view+json": {
       "model_id": "",
       "version_major": 2,
       "version_minor": 0
      },
      "text/plain": [
       "HBox(children=(IntProgress(value=0, description='Measurement sweep', max=1000, style=ProgressStyle(description…"
      ]
     },
     "metadata": {},
     "output_type": "display_data"
    },
    {
     "data": {
      "application/vnd.jupyter.widget-view+json": {
       "model_id": "",
       "version_major": 2,
       "version_minor": 0
      },
      "text/plain": [
       "HBox(children=(IntProgress(value=0, description='Equilibrate sweep', style=ProgressStyle(description_width='in…"
      ]
     },
     "metadata": {},
     "output_type": "display_data"
    },
    {
     "data": {
      "application/vnd.jupyter.widget-view+json": {
       "model_id": "",
       "version_major": 2,
       "version_minor": 0
      },
      "text/plain": [
       "HBox(children=(IntProgress(value=0, description='Measurement sweep', max=1000, style=ProgressStyle(description…"
      ]
     },
     "metadata": {},
     "output_type": "display_data"
    },
    {
     "data": {
      "application/vnd.jupyter.widget-view+json": {
       "model_id": "",
       "version_major": 2,
       "version_minor": 0
      },
      "text/plain": [
       "HBox(children=(IntProgress(value=0, description='Col', max=10, style=ProgressStyle(description_width='initial'…"
      ]
     },
     "metadata": {},
     "output_type": "display_data"
    },
    {
     "data": {
      "application/vnd.jupyter.widget-view+json": {
       "model_id": "",
       "version_major": 2,
       "version_minor": 0
      },
      "text/plain": [
       "HBox(children=(IntProgress(value=0, description='Equilibrate sweep', style=ProgressStyle(description_width='in…"
      ]
     },
     "metadata": {},
     "output_type": "display_data"
    },
    {
     "data": {
      "application/vnd.jupyter.widget-view+json": {
       "model_id": "",
       "version_major": 2,
       "version_minor": 0
      },
      "text/plain": [
       "HBox(children=(IntProgress(value=0, description='Measurement sweep', max=1000, style=ProgressStyle(description…"
      ]
     },
     "metadata": {},
     "output_type": "display_data"
    },
    {
     "data": {
      "application/vnd.jupyter.widget-view+json": {
       "model_id": "",
       "version_major": 2,
       "version_minor": 0
      },
      "text/plain": [
       "HBox(children=(IntProgress(value=0, description='Equilibrate sweep', style=ProgressStyle(description_width='in…"
      ]
     },
     "metadata": {},
     "output_type": "display_data"
    },
    {
     "data": {
      "application/vnd.jupyter.widget-view+json": {
       "model_id": "",
       "version_major": 2,
       "version_minor": 0
      },
      "text/plain": [
       "HBox(children=(IntProgress(value=0, description='Measurement sweep', max=1000, style=ProgressStyle(description…"
      ]
     },
     "metadata": {},
     "output_type": "display_data"
    },
    {
     "data": {
      "application/vnd.jupyter.widget-view+json": {
       "model_id": "",
       "version_major": 2,
       "version_minor": 0
      },
      "text/plain": [
       "HBox(children=(IntProgress(value=0, description='Equilibrate sweep', style=ProgressStyle(description_width='in…"
      ]
     },
     "metadata": {},
     "output_type": "display_data"
    },
    {
     "data": {
      "application/vnd.jupyter.widget-view+json": {
       "model_id": "",
       "version_major": 2,
       "version_minor": 0
      },
      "text/plain": [
       "HBox(children=(IntProgress(value=0, description='Measurement sweep', max=1000, style=ProgressStyle(description…"
      ]
     },
     "metadata": {},
     "output_type": "display_data"
    },
    {
     "data": {
      "application/vnd.jupyter.widget-view+json": {
       "model_id": "",
       "version_major": 2,
       "version_minor": 0
      },
      "text/plain": [
       "HBox(children=(IntProgress(value=0, description='Equilibrate sweep', style=ProgressStyle(description_width='in…"
      ]
     },
     "metadata": {},
     "output_type": "display_data"
    },
    {
     "data": {
      "application/vnd.jupyter.widget-view+json": {
       "model_id": "",
       "version_major": 2,
       "version_minor": 0
      },
      "text/plain": [
       "HBox(children=(IntProgress(value=0, description='Measurement sweep', max=1000, style=ProgressStyle(description…"
      ]
     },
     "metadata": {},
     "output_type": "display_data"
    },
    {
     "data": {
      "application/vnd.jupyter.widget-view+json": {
       "model_id": "",
       "version_major": 2,
       "version_minor": 0
      },
      "text/plain": [
       "HBox(children=(IntProgress(value=0, description='Equilibrate sweep', style=ProgressStyle(description_width='in…"
      ]
     },
     "metadata": {},
     "output_type": "display_data"
    },
    {
     "data": {
      "application/vnd.jupyter.widget-view+json": {
       "model_id": "",
       "version_major": 2,
       "version_minor": 0
      },
      "text/plain": [
       "HBox(children=(IntProgress(value=0, description='Measurement sweep', max=1000, style=ProgressStyle(description…"
      ]
     },
     "metadata": {},
     "output_type": "display_data"
    },
    {
     "data": {
      "application/vnd.jupyter.widget-view+json": {
       "model_id": "",
       "version_major": 2,
       "version_minor": 0
      },
      "text/plain": [
       "HBox(children=(IntProgress(value=0, description='Equilibrate sweep', style=ProgressStyle(description_width='in…"
      ]
     },
     "metadata": {},
     "output_type": "display_data"
    },
    {
     "data": {
      "application/vnd.jupyter.widget-view+json": {
       "model_id": "",
       "version_major": 2,
       "version_minor": 0
      },
      "text/plain": [
       "HBox(children=(IntProgress(value=0, description='Measurement sweep', max=1000, style=ProgressStyle(description…"
      ]
     },
     "metadata": {},
     "output_type": "display_data"
    },
    {
     "data": {
      "application/vnd.jupyter.widget-view+json": {
       "model_id": "",
       "version_major": 2,
       "version_minor": 0
      },
      "text/plain": [
       "HBox(children=(IntProgress(value=0, description='Equilibrate sweep', style=ProgressStyle(description_width='in…"
      ]
     },
     "metadata": {},
     "output_type": "display_data"
    },
    {
     "data": {
      "application/vnd.jupyter.widget-view+json": {
       "model_id": "",
       "version_major": 2,
       "version_minor": 0
      },
      "text/plain": [
       "HBox(children=(IntProgress(value=0, description='Measurement sweep', max=1000, style=ProgressStyle(description…"
      ]
     },
     "metadata": {},
     "output_type": "display_data"
    },
    {
     "data": {
      "application/vnd.jupyter.widget-view+json": {
       "model_id": "",
       "version_major": 2,
       "version_minor": 0
      },
      "text/plain": [
       "HBox(children=(IntProgress(value=0, description='Equilibrate sweep', style=ProgressStyle(description_width='in…"
      ]
     },
     "metadata": {},
     "output_type": "display_data"
    },
    {
     "data": {
      "application/vnd.jupyter.widget-view+json": {
       "model_id": "",
       "version_major": 2,
       "version_minor": 0
      },
      "text/plain": [
       "HBox(children=(IntProgress(value=0, description='Measurement sweep', max=1000, style=ProgressStyle(description…"
      ]
     },
     "metadata": {},
     "output_type": "display_data"
    },
    {
     "data": {
      "application/vnd.jupyter.widget-view+json": {
       "model_id": "",
       "version_major": 2,
       "version_minor": 0
      },
      "text/plain": [
       "HBox(children=(IntProgress(value=0, description='Equilibrate sweep', style=ProgressStyle(description_width='in…"
      ]
     },
     "metadata": {},
     "output_type": "display_data"
    },
    {
     "data": {
      "application/vnd.jupyter.widget-view+json": {
       "model_id": "",
       "version_major": 2,
       "version_minor": 0
      },
      "text/plain": [
       "HBox(children=(IntProgress(value=0, description='Measurement sweep', max=1000, style=ProgressStyle(description…"
      ]
     },
     "metadata": {},
     "output_type": "display_data"
    },
    {
     "data": {
      "application/vnd.jupyter.widget-view+json": {
       "model_id": "",
       "version_major": 2,
       "version_minor": 0
      },
      "text/plain": [
       "HBox(children=(IntProgress(value=0, description='Equilibrate sweep', style=ProgressStyle(description_width='in…"
      ]
     },
     "metadata": {},
     "output_type": "display_data"
    },
    {
     "data": {
      "application/vnd.jupyter.widget-view+json": {
       "model_id": "",
       "version_major": 2,
       "version_minor": 0
      },
      "text/plain": [
       "HBox(children=(IntProgress(value=0, description='Measurement sweep', max=1000, style=ProgressStyle(description…"
      ]
     },
     "metadata": {},
     "output_type": "display_data"
    },
    {
     "data": {
      "application/vnd.jupyter.widget-view+json": {
       "model_id": "",
       "version_major": 2,
       "version_minor": 0
      },
      "text/plain": [
       "HBox(children=(IntProgress(value=0, description='Col', max=10, style=ProgressStyle(description_width='initial'…"
      ]
     },
     "metadata": {},
     "output_type": "display_data"
    },
    {
     "data": {
      "application/vnd.jupyter.widget-view+json": {
       "model_id": "",
       "version_major": 2,
       "version_minor": 0
      },
      "text/plain": [
       "HBox(children=(IntProgress(value=0, description='Equilibrate sweep', style=ProgressStyle(description_width='in…"
      ]
     },
     "metadata": {},
     "output_type": "display_data"
    },
    {
     "data": {
      "application/vnd.jupyter.widget-view+json": {
       "model_id": "",
       "version_major": 2,
       "version_minor": 0
      },
      "text/plain": [
       "HBox(children=(IntProgress(value=0, description='Measurement sweep', max=1000, style=ProgressStyle(description…"
      ]
     },
     "metadata": {},
     "output_type": "display_data"
    },
    {
     "data": {
      "application/vnd.jupyter.widget-view+json": {
       "model_id": "",
       "version_major": 2,
       "version_minor": 0
      },
      "text/plain": [
       "HBox(children=(IntProgress(value=0, description='Equilibrate sweep', style=ProgressStyle(description_width='in…"
      ]
     },
     "metadata": {},
     "output_type": "display_data"
    },
    {
     "data": {
      "application/vnd.jupyter.widget-view+json": {
       "model_id": "",
       "version_major": 2,
       "version_minor": 0
      },
      "text/plain": [
       "HBox(children=(IntProgress(value=0, description='Measurement sweep', max=1000, style=ProgressStyle(description…"
      ]
     },
     "metadata": {},
     "output_type": "display_data"
    },
    {
     "data": {
      "application/vnd.jupyter.widget-view+json": {
       "model_id": "",
       "version_major": 2,
       "version_minor": 0
      },
      "text/plain": [
       "HBox(children=(IntProgress(value=0, description='Equilibrate sweep', style=ProgressStyle(description_width='in…"
      ]
     },
     "metadata": {},
     "output_type": "display_data"
    },
    {
     "data": {
      "application/vnd.jupyter.widget-view+json": {
       "model_id": "",
       "version_major": 2,
       "version_minor": 0
      },
      "text/plain": [
       "HBox(children=(IntProgress(value=0, description='Measurement sweep', max=1000, style=ProgressStyle(description…"
      ]
     },
     "metadata": {},
     "output_type": "display_data"
    },
    {
     "data": {
      "application/vnd.jupyter.widget-view+json": {
       "model_id": "",
       "version_major": 2,
       "version_minor": 0
      },
      "text/plain": [
       "HBox(children=(IntProgress(value=0, description='Equilibrate sweep', style=ProgressStyle(description_width='in…"
      ]
     },
     "metadata": {},
     "output_type": "display_data"
    },
    {
     "data": {
      "application/vnd.jupyter.widget-view+json": {
       "model_id": "",
       "version_major": 2,
       "version_minor": 0
      },
      "text/plain": [
       "HBox(children=(IntProgress(value=0, description='Measurement sweep', max=1000, style=ProgressStyle(description…"
      ]
     },
     "metadata": {},
     "output_type": "display_data"
    },
    {
     "data": {
      "application/vnd.jupyter.widget-view+json": {
       "model_id": "",
       "version_major": 2,
       "version_minor": 0
      },
      "text/plain": [
       "HBox(children=(IntProgress(value=0, description='Equilibrate sweep', style=ProgressStyle(description_width='in…"
      ]
     },
     "metadata": {},
     "output_type": "display_data"
    },
    {
     "data": {
      "application/vnd.jupyter.widget-view+json": {
       "model_id": "",
       "version_major": 2,
       "version_minor": 0
      },
      "text/plain": [
       "HBox(children=(IntProgress(value=0, description='Measurement sweep', max=1000, style=ProgressStyle(description…"
      ]
     },
     "metadata": {},
     "output_type": "display_data"
    },
    {
     "data": {
      "application/vnd.jupyter.widget-view+json": {
       "model_id": "",
       "version_major": 2,
       "version_minor": 0
      },
      "text/plain": [
       "HBox(children=(IntProgress(value=0, description='Equilibrate sweep', style=ProgressStyle(description_width='in…"
      ]
     },
     "metadata": {},
     "output_type": "display_data"
    },
    {
     "data": {
      "application/vnd.jupyter.widget-view+json": {
       "model_id": "",
       "version_major": 2,
       "version_minor": 0
      },
      "text/plain": [
       "HBox(children=(IntProgress(value=0, description='Measurement sweep', max=1000, style=ProgressStyle(description…"
      ]
     },
     "metadata": {},
     "output_type": "display_data"
    },
    {
     "data": {
      "application/vnd.jupyter.widget-view+json": {
       "model_id": "",
       "version_major": 2,
       "version_minor": 0
      },
      "text/plain": [
       "HBox(children=(IntProgress(value=0, description='Equilibrate sweep', style=ProgressStyle(description_width='in…"
      ]
     },
     "metadata": {},
     "output_type": "display_data"
    },
    {
     "data": {
      "application/vnd.jupyter.widget-view+json": {
       "model_id": "",
       "version_major": 2,
       "version_minor": 0
      },
      "text/plain": [
       "HBox(children=(IntProgress(value=0, description='Measurement sweep', max=1000, style=ProgressStyle(description…"
      ]
     },
     "metadata": {},
     "output_type": "display_data"
    },
    {
     "data": {
      "application/vnd.jupyter.widget-view+json": {
       "model_id": "",
       "version_major": 2,
       "version_minor": 0
      },
      "text/plain": [
       "HBox(children=(IntProgress(value=0, description='Equilibrate sweep', style=ProgressStyle(description_width='in…"
      ]
     },
     "metadata": {},
     "output_type": "display_data"
    },
    {
     "data": {
      "application/vnd.jupyter.widget-view+json": {
       "model_id": "",
       "version_major": 2,
       "version_minor": 0
      },
      "text/plain": [
       "HBox(children=(IntProgress(value=0, description='Measurement sweep', max=1000, style=ProgressStyle(description…"
      ]
     },
     "metadata": {},
     "output_type": "display_data"
    },
    {
     "data": {
      "application/vnd.jupyter.widget-view+json": {
       "model_id": "",
       "version_major": 2,
       "version_minor": 0
      },
      "text/plain": [
       "HBox(children=(IntProgress(value=0, description='Equilibrate sweep', style=ProgressStyle(description_width='in…"
      ]
     },
     "metadata": {},
     "output_type": "display_data"
    },
    {
     "data": {
      "application/vnd.jupyter.widget-view+json": {
       "model_id": "",
       "version_major": 2,
       "version_minor": 0
      },
      "text/plain": [
       "HBox(children=(IntProgress(value=0, description='Measurement sweep', max=1000, style=ProgressStyle(description…"
      ]
     },
     "metadata": {},
     "output_type": "display_data"
    },
    {
     "data": {
      "application/vnd.jupyter.widget-view+json": {
       "model_id": "",
       "version_major": 2,
       "version_minor": 0
      },
      "text/plain": [
       "HBox(children=(IntProgress(value=0, description='Equilibrate sweep', style=ProgressStyle(description_width='in…"
      ]
     },
     "metadata": {},
     "output_type": "display_data"
    },
    {
     "data": {
      "application/vnd.jupyter.widget-view+json": {
       "model_id": "",
       "version_major": 2,
       "version_minor": 0
      },
      "text/plain": [
       "HBox(children=(IntProgress(value=0, description='Measurement sweep', max=1000, style=ProgressStyle(description…"
      ]
     },
     "metadata": {},
     "output_type": "display_data"
    },
    {
     "data": {
      "application/vnd.jupyter.widget-view+json": {
       "model_id": "",
       "version_major": 2,
       "version_minor": 0
      },
      "text/plain": [
       "HBox(children=(IntProgress(value=0, description='Col', max=10, style=ProgressStyle(description_width='initial'…"
      ]
     },
     "metadata": {},
     "output_type": "display_data"
    },
    {
     "data": {
      "application/vnd.jupyter.widget-view+json": {
       "model_id": "",
       "version_major": 2,
       "version_minor": 0
      },
      "text/plain": [
       "HBox(children=(IntProgress(value=0, description='Equilibrate sweep', style=ProgressStyle(description_width='in…"
      ]
     },
     "metadata": {},
     "output_type": "display_data"
    },
    {
     "data": {
      "application/vnd.jupyter.widget-view+json": {
       "model_id": "",
       "version_major": 2,
       "version_minor": 0
      },
      "text/plain": [
       "HBox(children=(IntProgress(value=0, description='Measurement sweep', max=1000, style=ProgressStyle(description…"
      ]
     },
     "metadata": {},
     "output_type": "display_data"
    },
    {
     "data": {
      "application/vnd.jupyter.widget-view+json": {
       "model_id": "",
       "version_major": 2,
       "version_minor": 0
      },
      "text/plain": [
       "HBox(children=(IntProgress(value=0, description='Equilibrate sweep', style=ProgressStyle(description_width='in…"
      ]
     },
     "metadata": {},
     "output_type": "display_data"
    },
    {
     "data": {
      "application/vnd.jupyter.widget-view+json": {
       "model_id": "",
       "version_major": 2,
       "version_minor": 0
      },
      "text/plain": [
       "HBox(children=(IntProgress(value=0, description='Measurement sweep', max=1000, style=ProgressStyle(description…"
      ]
     },
     "metadata": {},
     "output_type": "display_data"
    },
    {
     "data": {
      "application/vnd.jupyter.widget-view+json": {
       "model_id": "",
       "version_major": 2,
       "version_minor": 0
      },
      "text/plain": [
       "HBox(children=(IntProgress(value=0, description='Equilibrate sweep', style=ProgressStyle(description_width='in…"
      ]
     },
     "metadata": {},
     "output_type": "display_data"
    },
    {
     "data": {
      "application/vnd.jupyter.widget-view+json": {
       "model_id": "",
       "version_major": 2,
       "version_minor": 0
      },
      "text/plain": [
       "HBox(children=(IntProgress(value=0, description='Measurement sweep', max=1000, style=ProgressStyle(description…"
      ]
     },
     "metadata": {},
     "output_type": "display_data"
    },
    {
     "data": {
      "application/vnd.jupyter.widget-view+json": {
       "model_id": "",
       "version_major": 2,
       "version_minor": 0
      },
      "text/plain": [
       "HBox(children=(IntProgress(value=0, description='Equilibrate sweep', style=ProgressStyle(description_width='in…"
      ]
     },
     "metadata": {},
     "output_type": "display_data"
    },
    {
     "data": {
      "application/vnd.jupyter.widget-view+json": {
       "model_id": "",
       "version_major": 2,
       "version_minor": 0
      },
      "text/plain": [
       "HBox(children=(IntProgress(value=0, description='Measurement sweep', max=1000, style=ProgressStyle(description…"
      ]
     },
     "metadata": {},
     "output_type": "display_data"
    },
    {
     "data": {
      "application/vnd.jupyter.widget-view+json": {
       "model_id": "",
       "version_major": 2,
       "version_minor": 0
      },
      "text/plain": [
       "HBox(children=(IntProgress(value=0, description='Equilibrate sweep', style=ProgressStyle(description_width='in…"
      ]
     },
     "metadata": {},
     "output_type": "display_data"
    },
    {
     "data": {
      "application/vnd.jupyter.widget-view+json": {
       "model_id": "",
       "version_major": 2,
       "version_minor": 0
      },
      "text/plain": [
       "HBox(children=(IntProgress(value=0, description='Measurement sweep', max=1000, style=ProgressStyle(description…"
      ]
     },
     "metadata": {},
     "output_type": "display_data"
    },
    {
     "data": {
      "application/vnd.jupyter.widget-view+json": {
       "model_id": "",
       "version_major": 2,
       "version_minor": 0
      },
      "text/plain": [
       "HBox(children=(IntProgress(value=0, description='Equilibrate sweep', style=ProgressStyle(description_width='in…"
      ]
     },
     "metadata": {},
     "output_type": "display_data"
    },
    {
     "data": {
      "application/vnd.jupyter.widget-view+json": {
       "model_id": "",
       "version_major": 2,
       "version_minor": 0
      },
      "text/plain": [
       "HBox(children=(IntProgress(value=0, description='Measurement sweep', max=1000, style=ProgressStyle(description…"
      ]
     },
     "metadata": {},
     "output_type": "display_data"
    },
    {
     "data": {
      "application/vnd.jupyter.widget-view+json": {
       "model_id": "",
       "version_major": 2,
       "version_minor": 0
      },
      "text/plain": [
       "HBox(children=(IntProgress(value=0, description='Equilibrate sweep', style=ProgressStyle(description_width='in…"
      ]
     },
     "metadata": {},
     "output_type": "display_data"
    },
    {
     "data": {
      "application/vnd.jupyter.widget-view+json": {
       "model_id": "",
       "version_major": 2,
       "version_minor": 0
      },
      "text/plain": [
       "HBox(children=(IntProgress(value=0, description='Measurement sweep', max=1000, style=ProgressStyle(description…"
      ]
     },
     "metadata": {},
     "output_type": "display_data"
    },
    {
     "data": {
      "application/vnd.jupyter.widget-view+json": {
       "model_id": "",
       "version_major": 2,
       "version_minor": 0
      },
      "text/plain": [
       "HBox(children=(IntProgress(value=0, description='Equilibrate sweep', style=ProgressStyle(description_width='in…"
      ]
     },
     "metadata": {},
     "output_type": "display_data"
    },
    {
     "data": {
      "application/vnd.jupyter.widget-view+json": {
       "model_id": "",
       "version_major": 2,
       "version_minor": 0
      },
      "text/plain": [
       "HBox(children=(IntProgress(value=0, description='Measurement sweep', max=1000, style=ProgressStyle(description…"
      ]
     },
     "metadata": {},
     "output_type": "display_data"
    },
    {
     "data": {
      "application/vnd.jupyter.widget-view+json": {
       "model_id": "",
       "version_major": 2,
       "version_minor": 0
      },
      "text/plain": [
       "HBox(children=(IntProgress(value=0, description='Equilibrate sweep', style=ProgressStyle(description_width='in…"
      ]
     },
     "metadata": {},
     "output_type": "display_data"
    },
    {
     "data": {
      "application/vnd.jupyter.widget-view+json": {
       "model_id": "",
       "version_major": 2,
       "version_minor": 0
      },
      "text/plain": [
       "HBox(children=(IntProgress(value=0, description='Measurement sweep', max=1000, style=ProgressStyle(description…"
      ]
     },
     "metadata": {},
     "output_type": "display_data"
    },
    {
     "data": {
      "application/vnd.jupyter.widget-view+json": {
       "model_id": "",
       "version_major": 2,
       "version_minor": 0
      },
      "text/plain": [
       "HBox(children=(IntProgress(value=0, description='Equilibrate sweep', style=ProgressStyle(description_width='in…"
      ]
     },
     "metadata": {},
     "output_type": "display_data"
    },
    {
     "data": {
      "application/vnd.jupyter.widget-view+json": {
       "model_id": "",
       "version_major": 2,
       "version_minor": 0
      },
      "text/plain": [
       "HBox(children=(IntProgress(value=0, description='Measurement sweep', max=1000, style=ProgressStyle(description…"
      ]
     },
     "metadata": {},
     "output_type": "display_data"
    },
    {
     "data": {
      "application/vnd.jupyter.widget-view+json": {
       "model_id": "",
       "version_major": 2,
       "version_minor": 0
      },
      "text/plain": [
       "HBox(children=(IntProgress(value=0, description='Col', max=10, style=ProgressStyle(description_width='initial'…"
      ]
     },
     "metadata": {},
     "output_type": "display_data"
    },
    {
     "data": {
      "application/vnd.jupyter.widget-view+json": {
       "model_id": "",
       "version_major": 2,
       "version_minor": 0
      },
      "text/plain": [
       "HBox(children=(IntProgress(value=0, description='Equilibrate sweep', style=ProgressStyle(description_width='in…"
      ]
     },
     "metadata": {},
     "output_type": "display_data"
    },
    {
     "data": {
      "application/vnd.jupyter.widget-view+json": {
       "model_id": "",
       "version_major": 2,
       "version_minor": 0
      },
      "text/plain": [
       "HBox(children=(IntProgress(value=0, description='Measurement sweep', max=1000, style=ProgressStyle(description…"
      ]
     },
     "metadata": {},
     "output_type": "display_data"
    },
    {
     "data": {
      "application/vnd.jupyter.widget-view+json": {
       "model_id": "",
       "version_major": 2,
       "version_minor": 0
      },
      "text/plain": [
       "HBox(children=(IntProgress(value=0, description='Equilibrate sweep', style=ProgressStyle(description_width='in…"
      ]
     },
     "metadata": {},
     "output_type": "display_data"
    },
    {
     "data": {
      "application/vnd.jupyter.widget-view+json": {
       "model_id": "",
       "version_major": 2,
       "version_minor": 0
      },
      "text/plain": [
       "HBox(children=(IntProgress(value=0, description='Measurement sweep', max=1000, style=ProgressStyle(description…"
      ]
     },
     "metadata": {},
     "output_type": "display_data"
    },
    {
     "data": {
      "application/vnd.jupyter.widget-view+json": {
       "model_id": "",
       "version_major": 2,
       "version_minor": 0
      },
      "text/plain": [
       "HBox(children=(IntProgress(value=0, description='Equilibrate sweep', style=ProgressStyle(description_width='in…"
      ]
     },
     "metadata": {},
     "output_type": "display_data"
    },
    {
     "data": {
      "application/vnd.jupyter.widget-view+json": {
       "model_id": "",
       "version_major": 2,
       "version_minor": 0
      },
      "text/plain": [
       "HBox(children=(IntProgress(value=0, description='Measurement sweep', max=1000, style=ProgressStyle(description…"
      ]
     },
     "metadata": {},
     "output_type": "display_data"
    },
    {
     "data": {
      "application/vnd.jupyter.widget-view+json": {
       "model_id": "",
       "version_major": 2,
       "version_minor": 0
      },
      "text/plain": [
       "HBox(children=(IntProgress(value=0, description='Equilibrate sweep', style=ProgressStyle(description_width='in…"
      ]
     },
     "metadata": {},
     "output_type": "display_data"
    },
    {
     "data": {
      "application/vnd.jupyter.widget-view+json": {
       "model_id": "",
       "version_major": 2,
       "version_minor": 0
      },
      "text/plain": [
       "HBox(children=(IntProgress(value=0, description='Measurement sweep', max=1000, style=ProgressStyle(description…"
      ]
     },
     "metadata": {},
     "output_type": "display_data"
    },
    {
     "data": {
      "application/vnd.jupyter.widget-view+json": {
       "model_id": "",
       "version_major": 2,
       "version_minor": 0
      },
      "text/plain": [
       "HBox(children=(IntProgress(value=0, description='Equilibrate sweep', style=ProgressStyle(description_width='in…"
      ]
     },
     "metadata": {},
     "output_type": "display_data"
    },
    {
     "data": {
      "application/vnd.jupyter.widget-view+json": {
       "model_id": "",
       "version_major": 2,
       "version_minor": 0
      },
      "text/plain": [
       "HBox(children=(IntProgress(value=0, description='Measurement sweep', max=1000, style=ProgressStyle(description…"
      ]
     },
     "metadata": {},
     "output_type": "display_data"
    },
    {
     "data": {
      "application/vnd.jupyter.widget-view+json": {
       "model_id": "",
       "version_major": 2,
       "version_minor": 0
      },
      "text/plain": [
       "HBox(children=(IntProgress(value=0, description='Equilibrate sweep', style=ProgressStyle(description_width='in…"
      ]
     },
     "metadata": {},
     "output_type": "display_data"
    },
    {
     "data": {
      "application/vnd.jupyter.widget-view+json": {
       "model_id": "",
       "version_major": 2,
       "version_minor": 0
      },
      "text/plain": [
       "HBox(children=(IntProgress(value=0, description='Measurement sweep', max=1000, style=ProgressStyle(description…"
      ]
     },
     "metadata": {},
     "output_type": "display_data"
    },
    {
     "data": {
      "application/vnd.jupyter.widget-view+json": {
       "model_id": "",
       "version_major": 2,
       "version_minor": 0
      },
      "text/plain": [
       "HBox(children=(IntProgress(value=0, description='Equilibrate sweep', style=ProgressStyle(description_width='in…"
      ]
     },
     "metadata": {},
     "output_type": "display_data"
    },
    {
     "data": {
      "application/vnd.jupyter.widget-view+json": {
       "model_id": "",
       "version_major": 2,
       "version_minor": 0
      },
      "text/plain": [
       "HBox(children=(IntProgress(value=0, description='Measurement sweep', max=1000, style=ProgressStyle(description…"
      ]
     },
     "metadata": {},
     "output_type": "display_data"
    },
    {
     "data": {
      "application/vnd.jupyter.widget-view+json": {
       "model_id": "",
       "version_major": 2,
       "version_minor": 0
      },
      "text/plain": [
       "HBox(children=(IntProgress(value=0, description='Equilibrate sweep', style=ProgressStyle(description_width='in…"
      ]
     },
     "metadata": {},
     "output_type": "display_data"
    },
    {
     "data": {
      "application/vnd.jupyter.widget-view+json": {
       "model_id": "",
       "version_major": 2,
       "version_minor": 0
      },
      "text/plain": [
       "HBox(children=(IntProgress(value=0, description='Measurement sweep', max=1000, style=ProgressStyle(description…"
      ]
     },
     "metadata": {},
     "output_type": "display_data"
    },
    {
     "data": {
      "application/vnd.jupyter.widget-view+json": {
       "model_id": "",
       "version_major": 2,
       "version_minor": 0
      },
      "text/plain": [
       "HBox(children=(IntProgress(value=0, description='Equilibrate sweep', style=ProgressStyle(description_width='in…"
      ]
     },
     "metadata": {},
     "output_type": "display_data"
    },
    {
     "data": {
      "application/vnd.jupyter.widget-view+json": {
       "model_id": "",
       "version_major": 2,
       "version_minor": 0
      },
      "text/plain": [
       "HBox(children=(IntProgress(value=0, description='Measurement sweep', max=1000, style=ProgressStyle(description…"
      ]
     },
     "metadata": {},
     "output_type": "display_data"
    },
    {
     "data": {
      "application/vnd.jupyter.widget-view+json": {
       "model_id": "",
       "version_major": 2,
       "version_minor": 0
      },
      "text/plain": [
       "HBox(children=(IntProgress(value=0, description='Equilibrate sweep', style=ProgressStyle(description_width='in…"
      ]
     },
     "metadata": {},
     "output_type": "display_data"
    },
    {
     "data": {
      "application/vnd.jupyter.widget-view+json": {
       "model_id": "",
       "version_major": 2,
       "version_minor": 0
      },
      "text/plain": [
       "HBox(children=(IntProgress(value=0, description='Measurement sweep', max=1000, style=ProgressStyle(description…"
      ]
     },
     "metadata": {},
     "output_type": "display_data"
    },
    {
     "data": {
      "application/vnd.jupyter.widget-view+json": {
       "model_id": "",
       "version_major": 2,
       "version_minor": 0
      },
      "text/plain": [
       "HBox(children=(IntProgress(value=0, description='Col', max=10, style=ProgressStyle(description_width='initial'…"
      ]
     },
     "metadata": {},
     "output_type": "display_data"
    },
    {
     "data": {
      "application/vnd.jupyter.widget-view+json": {
       "model_id": "",
       "version_major": 2,
       "version_minor": 0
      },
      "text/plain": [
       "HBox(children=(IntProgress(value=0, description='Equilibrate sweep', style=ProgressStyle(description_width='in…"
      ]
     },
     "metadata": {},
     "output_type": "display_data"
    },
    {
     "data": {
      "application/vnd.jupyter.widget-view+json": {
       "model_id": "",
       "version_major": 2,
       "version_minor": 0
      },
      "text/plain": [
       "HBox(children=(IntProgress(value=0, description='Measurement sweep', max=1000, style=ProgressStyle(description…"
      ]
     },
     "metadata": {},
     "output_type": "display_data"
    },
    {
     "data": {
      "application/vnd.jupyter.widget-view+json": {
       "model_id": "",
       "version_major": 2,
       "version_minor": 0
      },
      "text/plain": [
       "HBox(children=(IntProgress(value=0, description='Equilibrate sweep', style=ProgressStyle(description_width='in…"
      ]
     },
     "metadata": {},
     "output_type": "display_data"
    },
    {
     "data": {
      "application/vnd.jupyter.widget-view+json": {
       "model_id": "",
       "version_major": 2,
       "version_minor": 0
      },
      "text/plain": [
       "HBox(children=(IntProgress(value=0, description='Measurement sweep', max=1000, style=ProgressStyle(description…"
      ]
     },
     "metadata": {},
     "output_type": "display_data"
    },
    {
     "data": {
      "application/vnd.jupyter.widget-view+json": {
       "model_id": "",
       "version_major": 2,
       "version_minor": 0
      },
      "text/plain": [
       "HBox(children=(IntProgress(value=0, description='Equilibrate sweep', style=ProgressStyle(description_width='in…"
      ]
     },
     "metadata": {},
     "output_type": "display_data"
    },
    {
     "data": {
      "application/vnd.jupyter.widget-view+json": {
       "model_id": "",
       "version_major": 2,
       "version_minor": 0
      },
      "text/plain": [
       "HBox(children=(IntProgress(value=0, description='Measurement sweep', max=1000, style=ProgressStyle(description…"
      ]
     },
     "metadata": {},
     "output_type": "display_data"
    },
    {
     "data": {
      "application/vnd.jupyter.widget-view+json": {
       "model_id": "",
       "version_major": 2,
       "version_minor": 0
      },
      "text/plain": [
       "HBox(children=(IntProgress(value=0, description='Equilibrate sweep', style=ProgressStyle(description_width='in…"
      ]
     },
     "metadata": {},
     "output_type": "display_data"
    },
    {
     "data": {
      "application/vnd.jupyter.widget-view+json": {
       "model_id": "",
       "version_major": 2,
       "version_minor": 0
      },
      "text/plain": [
       "HBox(children=(IntProgress(value=0, description='Measurement sweep', max=1000, style=ProgressStyle(description…"
      ]
     },
     "metadata": {},
     "output_type": "display_data"
    },
    {
     "data": {
      "application/vnd.jupyter.widget-view+json": {
       "model_id": "",
       "version_major": 2,
       "version_minor": 0
      },
      "text/plain": [
       "HBox(children=(IntProgress(value=0, description='Equilibrate sweep', style=ProgressStyle(description_width='in…"
      ]
     },
     "metadata": {},
     "output_type": "display_data"
    },
    {
     "data": {
      "application/vnd.jupyter.widget-view+json": {
       "model_id": "",
       "version_major": 2,
       "version_minor": 0
      },
      "text/plain": [
       "HBox(children=(IntProgress(value=0, description='Measurement sweep', max=1000, style=ProgressStyle(description…"
      ]
     },
     "metadata": {},
     "output_type": "display_data"
    },
    {
     "data": {
      "application/vnd.jupyter.widget-view+json": {
       "model_id": "",
       "version_major": 2,
       "version_minor": 0
      },
      "text/plain": [
       "HBox(children=(IntProgress(value=0, description='Equilibrate sweep', style=ProgressStyle(description_width='in…"
      ]
     },
     "metadata": {},
     "output_type": "display_data"
    },
    {
     "data": {
      "application/vnd.jupyter.widget-view+json": {
       "model_id": "",
       "version_major": 2,
       "version_minor": 0
      },
      "text/plain": [
       "HBox(children=(IntProgress(value=0, description='Measurement sweep', max=1000, style=ProgressStyle(description…"
      ]
     },
     "metadata": {},
     "output_type": "display_data"
    },
    {
     "data": {
      "application/vnd.jupyter.widget-view+json": {
       "model_id": "",
       "version_major": 2,
       "version_minor": 0
      },
      "text/plain": [
       "HBox(children=(IntProgress(value=0, description='Equilibrate sweep', style=ProgressStyle(description_width='in…"
      ]
     },
     "metadata": {},
     "output_type": "display_data"
    },
    {
     "data": {
      "application/vnd.jupyter.widget-view+json": {
       "model_id": "",
       "version_major": 2,
       "version_minor": 0
      },
      "text/plain": [
       "HBox(children=(IntProgress(value=0, description='Measurement sweep', max=1000, style=ProgressStyle(description…"
      ]
     },
     "metadata": {},
     "output_type": "display_data"
    },
    {
     "data": {
      "application/vnd.jupyter.widget-view+json": {
       "model_id": "",
       "version_major": 2,
       "version_minor": 0
      },
      "text/plain": [
       "HBox(children=(IntProgress(value=0, description='Equilibrate sweep', style=ProgressStyle(description_width='in…"
      ]
     },
     "metadata": {},
     "output_type": "display_data"
    },
    {
     "data": {
      "application/vnd.jupyter.widget-view+json": {
       "model_id": "",
       "version_major": 2,
       "version_minor": 0
      },
      "text/plain": [
       "HBox(children=(IntProgress(value=0, description='Measurement sweep', max=1000, style=ProgressStyle(description…"
      ]
     },
     "metadata": {},
     "output_type": "display_data"
    },
    {
     "data": {
      "application/vnd.jupyter.widget-view+json": {
       "model_id": "",
       "version_major": 2,
       "version_minor": 0
      },
      "text/plain": [
       "HBox(children=(IntProgress(value=0, description='Equilibrate sweep', style=ProgressStyle(description_width='in…"
      ]
     },
     "metadata": {},
     "output_type": "display_data"
    },
    {
     "data": {
      "application/vnd.jupyter.widget-view+json": {
       "model_id": "",
       "version_major": 2,
       "version_minor": 0
      },
      "text/plain": [
       "HBox(children=(IntProgress(value=0, description='Measurement sweep', max=1000, style=ProgressStyle(description…"
      ]
     },
     "metadata": {},
     "output_type": "display_data"
    },
    {
     "data": {
      "application/vnd.jupyter.widget-view+json": {
       "model_id": "",
       "version_major": 2,
       "version_minor": 0
      },
      "text/plain": [
       "HBox(children=(IntProgress(value=0, description='Equilibrate sweep', style=ProgressStyle(description_width='in…"
      ]
     },
     "metadata": {},
     "output_type": "display_data"
    },
    {
     "data": {
      "application/vnd.jupyter.widget-view+json": {
       "model_id": "",
       "version_major": 2,
       "version_minor": 0
      },
      "text/plain": [
       "HBox(children=(IntProgress(value=0, description='Measurement sweep', max=1000, style=ProgressStyle(description…"
      ]
     },
     "metadata": {},
     "output_type": "display_data"
    },
    {
     "data": {
      "application/vnd.jupyter.widget-view+json": {
       "model_id": "",
       "version_major": 2,
       "version_minor": 0
      },
      "text/plain": [
       "HBox(children=(IntProgress(value=0, description='Col', max=10, style=ProgressStyle(description_width='initial'…"
      ]
     },
     "metadata": {},
     "output_type": "display_data"
    },
    {
     "data": {
      "application/vnd.jupyter.widget-view+json": {
       "model_id": "",
       "version_major": 2,
       "version_minor": 0
      },
      "text/plain": [
       "HBox(children=(IntProgress(value=0, description='Equilibrate sweep', style=ProgressStyle(description_width='in…"
      ]
     },
     "metadata": {},
     "output_type": "display_data"
    },
    {
     "data": {
      "application/vnd.jupyter.widget-view+json": {
       "model_id": "",
       "version_major": 2,
       "version_minor": 0
      },
      "text/plain": [
       "HBox(children=(IntProgress(value=0, description='Measurement sweep', max=1000, style=ProgressStyle(description…"
      ]
     },
     "metadata": {},
     "output_type": "display_data"
    },
    {
     "data": {
      "application/vnd.jupyter.widget-view+json": {
       "model_id": "",
       "version_major": 2,
       "version_minor": 0
      },
      "text/plain": [
       "HBox(children=(IntProgress(value=0, description='Equilibrate sweep', style=ProgressStyle(description_width='in…"
      ]
     },
     "metadata": {},
     "output_type": "display_data"
    },
    {
     "data": {
      "application/vnd.jupyter.widget-view+json": {
       "model_id": "",
       "version_major": 2,
       "version_minor": 0
      },
      "text/plain": [
       "HBox(children=(IntProgress(value=0, description='Measurement sweep', max=1000, style=ProgressStyle(description…"
      ]
     },
     "metadata": {},
     "output_type": "display_data"
    },
    {
     "data": {
      "application/vnd.jupyter.widget-view+json": {
       "model_id": "",
       "version_major": 2,
       "version_minor": 0
      },
      "text/plain": [
       "HBox(children=(IntProgress(value=0, description='Equilibrate sweep', style=ProgressStyle(description_width='in…"
      ]
     },
     "metadata": {},
     "output_type": "display_data"
    },
    {
     "data": {
      "application/vnd.jupyter.widget-view+json": {
       "model_id": "",
       "version_major": 2,
       "version_minor": 0
      },
      "text/plain": [
       "HBox(children=(IntProgress(value=0, description='Measurement sweep', max=1000, style=ProgressStyle(description…"
      ]
     },
     "metadata": {},
     "output_type": "display_data"
    },
    {
     "data": {
      "application/vnd.jupyter.widget-view+json": {
       "model_id": "",
       "version_major": 2,
       "version_minor": 0
      },
      "text/plain": [
       "HBox(children=(IntProgress(value=0, description='Equilibrate sweep', style=ProgressStyle(description_width='in…"
      ]
     },
     "metadata": {},
     "output_type": "display_data"
    },
    {
     "data": {
      "application/vnd.jupyter.widget-view+json": {
       "model_id": "",
       "version_major": 2,
       "version_minor": 0
      },
      "text/plain": [
       "HBox(children=(IntProgress(value=0, description='Measurement sweep', max=1000, style=ProgressStyle(description…"
      ]
     },
     "metadata": {},
     "output_type": "display_data"
    },
    {
     "data": {
      "application/vnd.jupyter.widget-view+json": {
       "model_id": "",
       "version_major": 2,
       "version_minor": 0
      },
      "text/plain": [
       "HBox(children=(IntProgress(value=0, description='Equilibrate sweep', style=ProgressStyle(description_width='in…"
      ]
     },
     "metadata": {},
     "output_type": "display_data"
    },
    {
     "data": {
      "application/vnd.jupyter.widget-view+json": {
       "model_id": "",
       "version_major": 2,
       "version_minor": 0
      },
      "text/plain": [
       "HBox(children=(IntProgress(value=0, description='Measurement sweep', max=1000, style=ProgressStyle(description…"
      ]
     },
     "metadata": {},
     "output_type": "display_data"
    },
    {
     "data": {
      "application/vnd.jupyter.widget-view+json": {
       "model_id": "",
       "version_major": 2,
       "version_minor": 0
      },
      "text/plain": [
       "HBox(children=(IntProgress(value=0, description='Equilibrate sweep', style=ProgressStyle(description_width='in…"
      ]
     },
     "metadata": {},
     "output_type": "display_data"
    },
    {
     "data": {
      "application/vnd.jupyter.widget-view+json": {
       "model_id": "",
       "version_major": 2,
       "version_minor": 0
      },
      "text/plain": [
       "HBox(children=(IntProgress(value=0, description='Measurement sweep', max=1000, style=ProgressStyle(description…"
      ]
     },
     "metadata": {},
     "output_type": "display_data"
    },
    {
     "data": {
      "application/vnd.jupyter.widget-view+json": {
       "model_id": "",
       "version_major": 2,
       "version_minor": 0
      },
      "text/plain": [
       "HBox(children=(IntProgress(value=0, description='Equilibrate sweep', style=ProgressStyle(description_width='in…"
      ]
     },
     "metadata": {},
     "output_type": "display_data"
    },
    {
     "data": {
      "application/vnd.jupyter.widget-view+json": {
       "model_id": "",
       "version_major": 2,
       "version_minor": 0
      },
      "text/plain": [
       "HBox(children=(IntProgress(value=0, description='Measurement sweep', max=1000, style=ProgressStyle(description…"
      ]
     },
     "metadata": {},
     "output_type": "display_data"
    },
    {
     "data": {
      "application/vnd.jupyter.widget-view+json": {
       "model_id": "",
       "version_major": 2,
       "version_minor": 0
      },
      "text/plain": [
       "HBox(children=(IntProgress(value=0, description='Equilibrate sweep', style=ProgressStyle(description_width='in…"
      ]
     },
     "metadata": {},
     "output_type": "display_data"
    },
    {
     "data": {
      "application/vnd.jupyter.widget-view+json": {
       "model_id": "",
       "version_major": 2,
       "version_minor": 0
      },
      "text/plain": [
       "HBox(children=(IntProgress(value=0, description='Measurement sweep', max=1000, style=ProgressStyle(description…"
      ]
     },
     "metadata": {},
     "output_type": "display_data"
    },
    {
     "data": {
      "application/vnd.jupyter.widget-view+json": {
       "model_id": "",
       "version_major": 2,
       "version_minor": 0
      },
      "text/plain": [
       "HBox(children=(IntProgress(value=0, description='Equilibrate sweep', style=ProgressStyle(description_width='in…"
      ]
     },
     "metadata": {},
     "output_type": "display_data"
    },
    {
     "data": {
      "application/vnd.jupyter.widget-view+json": {
       "model_id": "",
       "version_major": 2,
       "version_minor": 0
      },
      "text/plain": [
       "HBox(children=(IntProgress(value=0, description='Measurement sweep', max=1000, style=ProgressStyle(description…"
      ]
     },
     "metadata": {},
     "output_type": "display_data"
    },
    {
     "data": {
      "application/vnd.jupyter.widget-view+json": {
       "model_id": "",
       "version_major": 2,
       "version_minor": 0
      },
      "text/plain": [
       "HBox(children=(IntProgress(value=0, description='Equilibrate sweep', style=ProgressStyle(description_width='in…"
      ]
     },
     "metadata": {},
     "output_type": "display_data"
    },
    {
     "data": {
      "application/vnd.jupyter.widget-view+json": {
       "model_id": "",
       "version_major": 2,
       "version_minor": 0
      },
      "text/plain": [
       "HBox(children=(IntProgress(value=0, description='Measurement sweep', max=1000, style=ProgressStyle(description…"
      ]
     },
     "metadata": {},
     "output_type": "display_data"
    },
    {
     "data": {
      "application/vnd.jupyter.widget-view+json": {
       "model_id": "",
       "version_major": 2,
       "version_minor": 0
      },
      "text/plain": [
       "HBox(children=(IntProgress(value=0, description='Col', max=10, style=ProgressStyle(description_width='initial'…"
      ]
     },
     "metadata": {},
     "output_type": "display_data"
    },
    {
     "data": {
      "application/vnd.jupyter.widget-view+json": {
       "model_id": "",
       "version_major": 2,
       "version_minor": 0
      },
      "text/plain": [
       "HBox(children=(IntProgress(value=0, description='Equilibrate sweep', style=ProgressStyle(description_width='in…"
      ]
     },
     "metadata": {},
     "output_type": "display_data"
    },
    {
     "data": {
      "application/vnd.jupyter.widget-view+json": {
       "model_id": "",
       "version_major": 2,
       "version_minor": 0
      },
      "text/plain": [
       "HBox(children=(IntProgress(value=0, description='Measurement sweep', max=1000, style=ProgressStyle(description…"
      ]
     },
     "metadata": {},
     "output_type": "display_data"
    },
    {
     "data": {
      "application/vnd.jupyter.widget-view+json": {
       "model_id": "",
       "version_major": 2,
       "version_minor": 0
      },
      "text/plain": [
       "HBox(children=(IntProgress(value=0, description='Equilibrate sweep', style=ProgressStyle(description_width='in…"
      ]
     },
     "metadata": {},
     "output_type": "display_data"
    },
    {
     "data": {
      "application/vnd.jupyter.widget-view+json": {
       "model_id": "",
       "version_major": 2,
       "version_minor": 0
      },
      "text/plain": [
       "HBox(children=(IntProgress(value=0, description='Measurement sweep', max=1000, style=ProgressStyle(description…"
      ]
     },
     "metadata": {},
     "output_type": "display_data"
    },
    {
     "data": {
      "application/vnd.jupyter.widget-view+json": {
       "model_id": "",
       "version_major": 2,
       "version_minor": 0
      },
      "text/plain": [
       "HBox(children=(IntProgress(value=0, description='Equilibrate sweep', style=ProgressStyle(description_width='in…"
      ]
     },
     "metadata": {},
     "output_type": "display_data"
    },
    {
     "data": {
      "application/vnd.jupyter.widget-view+json": {
       "model_id": "",
       "version_major": 2,
       "version_minor": 0
      },
      "text/plain": [
       "HBox(children=(IntProgress(value=0, description='Measurement sweep', max=1000, style=ProgressStyle(description…"
      ]
     },
     "metadata": {},
     "output_type": "display_data"
    },
    {
     "data": {
      "application/vnd.jupyter.widget-view+json": {
       "model_id": "",
       "version_major": 2,
       "version_minor": 0
      },
      "text/plain": [
       "HBox(children=(IntProgress(value=0, description='Equilibrate sweep', style=ProgressStyle(description_width='in…"
      ]
     },
     "metadata": {},
     "output_type": "display_data"
    },
    {
     "data": {
      "application/vnd.jupyter.widget-view+json": {
       "model_id": "",
       "version_major": 2,
       "version_minor": 0
      },
      "text/plain": [
       "HBox(children=(IntProgress(value=0, description='Measurement sweep', max=1000, style=ProgressStyle(description…"
      ]
     },
     "metadata": {},
     "output_type": "display_data"
    },
    {
     "data": {
      "application/vnd.jupyter.widget-view+json": {
       "model_id": "",
       "version_major": 2,
       "version_minor": 0
      },
      "text/plain": [
       "HBox(children=(IntProgress(value=0, description='Equilibrate sweep', style=ProgressStyle(description_width='in…"
      ]
     },
     "metadata": {},
     "output_type": "display_data"
    },
    {
     "data": {
      "application/vnd.jupyter.widget-view+json": {
       "model_id": "",
       "version_major": 2,
       "version_minor": 0
      },
      "text/plain": [
       "HBox(children=(IntProgress(value=0, description='Measurement sweep', max=1000, style=ProgressStyle(description…"
      ]
     },
     "metadata": {},
     "output_type": "display_data"
    },
    {
     "data": {
      "application/vnd.jupyter.widget-view+json": {
       "model_id": "",
       "version_major": 2,
       "version_minor": 0
      },
      "text/plain": [
       "HBox(children=(IntProgress(value=0, description='Equilibrate sweep', style=ProgressStyle(description_width='in…"
      ]
     },
     "metadata": {},
     "output_type": "display_data"
    },
    {
     "data": {
      "application/vnd.jupyter.widget-view+json": {
       "model_id": "",
       "version_major": 2,
       "version_minor": 0
      },
      "text/plain": [
       "HBox(children=(IntProgress(value=0, description='Measurement sweep', max=1000, style=ProgressStyle(description…"
      ]
     },
     "metadata": {},
     "output_type": "display_data"
    },
    {
     "data": {
      "application/vnd.jupyter.widget-view+json": {
       "model_id": "",
       "version_major": 2,
       "version_minor": 0
      },
      "text/plain": [
       "HBox(children=(IntProgress(value=0, description='Equilibrate sweep', style=ProgressStyle(description_width='in…"
      ]
     },
     "metadata": {},
     "output_type": "display_data"
    },
    {
     "data": {
      "application/vnd.jupyter.widget-view+json": {
       "model_id": "",
       "version_major": 2,
       "version_minor": 0
      },
      "text/plain": [
       "HBox(children=(IntProgress(value=0, description='Measurement sweep', max=1000, style=ProgressStyle(description…"
      ]
     },
     "metadata": {},
     "output_type": "display_data"
    },
    {
     "data": {
      "application/vnd.jupyter.widget-view+json": {
       "model_id": "",
       "version_major": 2,
       "version_minor": 0
      },
      "text/plain": [
       "HBox(children=(IntProgress(value=0, description='Equilibrate sweep', style=ProgressStyle(description_width='in…"
      ]
     },
     "metadata": {},
     "output_type": "display_data"
    },
    {
     "data": {
      "application/vnd.jupyter.widget-view+json": {
       "model_id": "",
       "version_major": 2,
       "version_minor": 0
      },
      "text/plain": [
       "HBox(children=(IntProgress(value=0, description='Measurement sweep', max=1000, style=ProgressStyle(description…"
      ]
     },
     "metadata": {},
     "output_type": "display_data"
    },
    {
     "data": {
      "application/vnd.jupyter.widget-view+json": {
       "model_id": "",
       "version_major": 2,
       "version_minor": 0
      },
      "text/plain": [
       "HBox(children=(IntProgress(value=0, description='Equilibrate sweep', style=ProgressStyle(description_width='in…"
      ]
     },
     "metadata": {},
     "output_type": "display_data"
    },
    {
     "data": {
      "application/vnd.jupyter.widget-view+json": {
       "model_id": "",
       "version_major": 2,
       "version_minor": 0
      },
      "text/plain": [
       "HBox(children=(IntProgress(value=0, description='Measurement sweep', max=1000, style=ProgressStyle(description…"
      ]
     },
     "metadata": {},
     "output_type": "display_data"
    },
    {
     "data": {
      "application/vnd.jupyter.widget-view+json": {
       "model_id": "",
       "version_major": 2,
       "version_minor": 0
      },
      "text/plain": [
       "HBox(children=(IntProgress(value=0, description='Equilibrate sweep', style=ProgressStyle(description_width='in…"
      ]
     },
     "metadata": {},
     "output_type": "display_data"
    },
    {
     "data": {
      "application/vnd.jupyter.widget-view+json": {
       "model_id": "",
       "version_major": 2,
       "version_minor": 0
      },
      "text/plain": [
       "HBox(children=(IntProgress(value=0, description='Measurement sweep', max=1000, style=ProgressStyle(description…"
      ]
     },
     "metadata": {},
     "output_type": "display_data"
    },
    {
     "data": {
      "application/vnd.jupyter.widget-view+json": {
       "model_id": "",
       "version_major": 2,
       "version_minor": 0
      },
      "text/plain": [
       "HBox(children=(IntProgress(value=0, description='Col', max=10, style=ProgressStyle(description_width='initial'…"
      ]
     },
     "metadata": {},
     "output_type": "display_data"
    },
    {
     "data": {
      "application/vnd.jupyter.widget-view+json": {
       "model_id": "",
       "version_major": 2,
       "version_minor": 0
      },
      "text/plain": [
       "HBox(children=(IntProgress(value=0, description='Equilibrate sweep', style=ProgressStyle(description_width='in…"
      ]
     },
     "metadata": {},
     "output_type": "display_data"
    },
    {
     "data": {
      "application/vnd.jupyter.widget-view+json": {
       "model_id": "",
       "version_major": 2,
       "version_minor": 0
      },
      "text/plain": [
       "HBox(children=(IntProgress(value=0, description='Measurement sweep', max=1000, style=ProgressStyle(description…"
      ]
     },
     "metadata": {},
     "output_type": "display_data"
    },
    {
     "data": {
      "application/vnd.jupyter.widget-view+json": {
       "model_id": "",
       "version_major": 2,
       "version_minor": 0
      },
      "text/plain": [
       "HBox(children=(IntProgress(value=0, description='Equilibrate sweep', style=ProgressStyle(description_width='in…"
      ]
     },
     "metadata": {},
     "output_type": "display_data"
    },
    {
     "data": {
      "application/vnd.jupyter.widget-view+json": {
       "model_id": "",
       "version_major": 2,
       "version_minor": 0
      },
      "text/plain": [
       "HBox(children=(IntProgress(value=0, description='Measurement sweep', max=1000, style=ProgressStyle(description…"
      ]
     },
     "metadata": {},
     "output_type": "display_data"
    },
    {
     "data": {
      "application/vnd.jupyter.widget-view+json": {
       "model_id": "",
       "version_major": 2,
       "version_minor": 0
      },
      "text/plain": [
       "HBox(children=(IntProgress(value=0, description='Equilibrate sweep', style=ProgressStyle(description_width='in…"
      ]
     },
     "metadata": {},
     "output_type": "display_data"
    },
    {
     "data": {
      "application/vnd.jupyter.widget-view+json": {
       "model_id": "",
       "version_major": 2,
       "version_minor": 0
      },
      "text/plain": [
       "HBox(children=(IntProgress(value=0, description='Measurement sweep', max=1000, style=ProgressStyle(description…"
      ]
     },
     "metadata": {},
     "output_type": "display_data"
    },
    {
     "data": {
      "application/vnd.jupyter.widget-view+json": {
       "model_id": "",
       "version_major": 2,
       "version_minor": 0
      },
      "text/plain": [
       "HBox(children=(IntProgress(value=0, description='Equilibrate sweep', style=ProgressStyle(description_width='in…"
      ]
     },
     "metadata": {},
     "output_type": "display_data"
    },
    {
     "data": {
      "application/vnd.jupyter.widget-view+json": {
       "model_id": "",
       "version_major": 2,
       "version_minor": 0
      },
      "text/plain": [
       "HBox(children=(IntProgress(value=0, description='Measurement sweep', max=1000, style=ProgressStyle(description…"
      ]
     },
     "metadata": {},
     "output_type": "display_data"
    },
    {
     "data": {
      "application/vnd.jupyter.widget-view+json": {
       "model_id": "",
       "version_major": 2,
       "version_minor": 0
      },
      "text/plain": [
       "HBox(children=(IntProgress(value=0, description='Equilibrate sweep', style=ProgressStyle(description_width='in…"
      ]
     },
     "metadata": {},
     "output_type": "display_data"
    },
    {
     "data": {
      "application/vnd.jupyter.widget-view+json": {
       "model_id": "",
       "version_major": 2,
       "version_minor": 0
      },
      "text/plain": [
       "HBox(children=(IntProgress(value=0, description='Measurement sweep', max=1000, style=ProgressStyle(description…"
      ]
     },
     "metadata": {},
     "output_type": "display_data"
    },
    {
     "data": {
      "application/vnd.jupyter.widget-view+json": {
       "model_id": "",
       "version_major": 2,
       "version_minor": 0
      },
      "text/plain": [
       "HBox(children=(IntProgress(value=0, description='Equilibrate sweep', style=ProgressStyle(description_width='in…"
      ]
     },
     "metadata": {},
     "output_type": "display_data"
    },
    {
     "data": {
      "application/vnd.jupyter.widget-view+json": {
       "model_id": "",
       "version_major": 2,
       "version_minor": 0
      },
      "text/plain": [
       "HBox(children=(IntProgress(value=0, description='Measurement sweep', max=1000, style=ProgressStyle(description…"
      ]
     },
     "metadata": {},
     "output_type": "display_data"
    },
    {
     "data": {
      "application/vnd.jupyter.widget-view+json": {
       "model_id": "",
       "version_major": 2,
       "version_minor": 0
      },
      "text/plain": [
       "HBox(children=(IntProgress(value=0, description='Equilibrate sweep', style=ProgressStyle(description_width='in…"
      ]
     },
     "metadata": {},
     "output_type": "display_data"
    },
    {
     "data": {
      "application/vnd.jupyter.widget-view+json": {
       "model_id": "",
       "version_major": 2,
       "version_minor": 0
      },
      "text/plain": [
       "HBox(children=(IntProgress(value=0, description='Measurement sweep', max=1000, style=ProgressStyle(description…"
      ]
     },
     "metadata": {},
     "output_type": "display_data"
    },
    {
     "data": {
      "application/vnd.jupyter.widget-view+json": {
       "model_id": "",
       "version_major": 2,
       "version_minor": 0
      },
      "text/plain": [
       "HBox(children=(IntProgress(value=0, description='Equilibrate sweep', style=ProgressStyle(description_width='in…"
      ]
     },
     "metadata": {},
     "output_type": "display_data"
    },
    {
     "data": {
      "application/vnd.jupyter.widget-view+json": {
       "model_id": "",
       "version_major": 2,
       "version_minor": 0
      },
      "text/plain": [
       "HBox(children=(IntProgress(value=0, description='Measurement sweep', max=1000, style=ProgressStyle(description…"
      ]
     },
     "metadata": {},
     "output_type": "display_data"
    },
    {
     "data": {
      "application/vnd.jupyter.widget-view+json": {
       "model_id": "",
       "version_major": 2,
       "version_minor": 0
      },
      "text/plain": [
       "HBox(children=(IntProgress(value=0, description='Equilibrate sweep', style=ProgressStyle(description_width='in…"
      ]
     },
     "metadata": {},
     "output_type": "display_data"
    },
    {
     "data": {
      "application/vnd.jupyter.widget-view+json": {
       "model_id": "",
       "version_major": 2,
       "version_minor": 0
      },
      "text/plain": [
       "HBox(children=(IntProgress(value=0, description='Measurement sweep', max=1000, style=ProgressStyle(description…"
      ]
     },
     "metadata": {},
     "output_type": "display_data"
    },
    {
     "data": {
      "application/vnd.jupyter.widget-view+json": {
       "model_id": "",
       "version_major": 2,
       "version_minor": 0
      },
      "text/plain": [
       "HBox(children=(IntProgress(value=0, description='Equilibrate sweep', style=ProgressStyle(description_width='in…"
      ]
     },
     "metadata": {},
     "output_type": "display_data"
    },
    {
     "data": {
      "application/vnd.jupyter.widget-view+json": {
       "model_id": "",
       "version_major": 2,
       "version_minor": 0
      },
      "text/plain": [
       "HBox(children=(IntProgress(value=0, description='Measurement sweep', max=1000, style=ProgressStyle(description…"
      ]
     },
     "metadata": {},
     "output_type": "display_data"
    },
    {
     "name": "stdout",
     "output_type": "stream",
     "text": [
      "\r"
     ]
    },
    {
     "data": {
      "application/javascript": [
       "/* Put everything inside the global mpl namespace */\n",
       "window.mpl = {};\n",
       "\n",
       "\n",
       "mpl.get_websocket_type = function() {\n",
       "    if (typeof(WebSocket) !== 'undefined') {\n",
       "        return WebSocket;\n",
       "    } else if (typeof(MozWebSocket) !== 'undefined') {\n",
       "        return MozWebSocket;\n",
       "    } else {\n",
       "        alert('Your browser does not have WebSocket support.' +\n",
       "              'Please try Chrome, Safari or Firefox ≥ 6. ' +\n",
       "              'Firefox 4 and 5 are also supported but you ' +\n",
       "              'have to enable WebSockets in about:config.');\n",
       "    };\n",
       "}\n",
       "\n",
       "mpl.figure = function(figure_id, websocket, ondownload, parent_element) {\n",
       "    this.id = figure_id;\n",
       "\n",
       "    this.ws = websocket;\n",
       "\n",
       "    this.supports_binary = (this.ws.binaryType != undefined);\n",
       "\n",
       "    if (!this.supports_binary) {\n",
       "        var warnings = document.getElementById(\"mpl-warnings\");\n",
       "        if (warnings) {\n",
       "            warnings.style.display = 'block';\n",
       "            warnings.textContent = (\n",
       "                \"This browser does not support binary websocket messages. \" +\n",
       "                    \"Performance may be slow.\");\n",
       "        }\n",
       "    }\n",
       "\n",
       "    this.imageObj = new Image();\n",
       "\n",
       "    this.context = undefined;\n",
       "    this.message = undefined;\n",
       "    this.canvas = undefined;\n",
       "    this.rubberband_canvas = undefined;\n",
       "    this.rubberband_context = undefined;\n",
       "    this.format_dropdown = undefined;\n",
       "\n",
       "    this.image_mode = 'full';\n",
       "\n",
       "    this.root = $('<div/>');\n",
       "    this._root_extra_style(this.root)\n",
       "    this.root.attr('style', 'display: inline-block');\n",
       "\n",
       "    $(parent_element).append(this.root);\n",
       "\n",
       "    this._init_header(this);\n",
       "    this._init_canvas(this);\n",
       "    this._init_toolbar(this);\n",
       "\n",
       "    var fig = this;\n",
       "\n",
       "    this.waiting = false;\n",
       "\n",
       "    this.ws.onopen =  function () {\n",
       "            fig.send_message(\"supports_binary\", {value: fig.supports_binary});\n",
       "            fig.send_message(\"send_image_mode\", {});\n",
       "            if (mpl.ratio != 1) {\n",
       "                fig.send_message(\"set_dpi_ratio\", {'dpi_ratio': mpl.ratio});\n",
       "            }\n",
       "            fig.send_message(\"refresh\", {});\n",
       "        }\n",
       "\n",
       "    this.imageObj.onload = function() {\n",
       "            if (fig.image_mode == 'full') {\n",
       "                // Full images could contain transparency (where diff images\n",
       "                // almost always do), so we need to clear the canvas so that\n",
       "                // there is no ghosting.\n",
       "                fig.context.clearRect(0, 0, fig.canvas.width, fig.canvas.height);\n",
       "            }\n",
       "            fig.context.drawImage(fig.imageObj, 0, 0);\n",
       "        };\n",
       "\n",
       "    this.imageObj.onunload = function() {\n",
       "        fig.ws.close();\n",
       "    }\n",
       "\n",
       "    this.ws.onmessage = this._make_on_message_function(this);\n",
       "\n",
       "    this.ondownload = ondownload;\n",
       "}\n",
       "\n",
       "mpl.figure.prototype._init_header = function() {\n",
       "    var titlebar = $(\n",
       "        '<div class=\"ui-dialog-titlebar ui-widget-header ui-corner-all ' +\n",
       "        'ui-helper-clearfix\"/>');\n",
       "    var titletext = $(\n",
       "        '<div class=\"ui-dialog-title\" style=\"width: 100%; ' +\n",
       "        'text-align: center; padding: 3px;\"/>');\n",
       "    titlebar.append(titletext)\n",
       "    this.root.append(titlebar);\n",
       "    this.header = titletext[0];\n",
       "}\n",
       "\n",
       "\n",
       "\n",
       "mpl.figure.prototype._canvas_extra_style = function(canvas_div) {\n",
       "\n",
       "}\n",
       "\n",
       "\n",
       "mpl.figure.prototype._root_extra_style = function(canvas_div) {\n",
       "\n",
       "}\n",
       "\n",
       "mpl.figure.prototype._init_canvas = function() {\n",
       "    var fig = this;\n",
       "\n",
       "    var canvas_div = $('<div/>');\n",
       "\n",
       "    canvas_div.attr('style', 'position: relative; clear: both; outline: 0');\n",
       "\n",
       "    function canvas_keyboard_event(event) {\n",
       "        return fig.key_event(event, event['data']);\n",
       "    }\n",
       "\n",
       "    canvas_div.keydown('key_press', canvas_keyboard_event);\n",
       "    canvas_div.keyup('key_release', canvas_keyboard_event);\n",
       "    this.canvas_div = canvas_div\n",
       "    this._canvas_extra_style(canvas_div)\n",
       "    this.root.append(canvas_div);\n",
       "\n",
       "    var canvas = $('<canvas/>');\n",
       "    canvas.addClass('mpl-canvas');\n",
       "    canvas.attr('style', \"left: 0; top: 0; z-index: 0; outline: 0\")\n",
       "\n",
       "    this.canvas = canvas[0];\n",
       "    this.context = canvas[0].getContext(\"2d\");\n",
       "\n",
       "    var backingStore = this.context.backingStorePixelRatio ||\n",
       "\tthis.context.webkitBackingStorePixelRatio ||\n",
       "\tthis.context.mozBackingStorePixelRatio ||\n",
       "\tthis.context.msBackingStorePixelRatio ||\n",
       "\tthis.context.oBackingStorePixelRatio ||\n",
       "\tthis.context.backingStorePixelRatio || 1;\n",
       "\n",
       "    mpl.ratio = (window.devicePixelRatio || 1) / backingStore;\n",
       "\n",
       "    var rubberband = $('<canvas/>');\n",
       "    rubberband.attr('style', \"position: absolute; left: 0; top: 0; z-index: 1;\")\n",
       "\n",
       "    var pass_mouse_events = true;\n",
       "\n",
       "    canvas_div.resizable({\n",
       "        start: function(event, ui) {\n",
       "            pass_mouse_events = false;\n",
       "        },\n",
       "        resize: function(event, ui) {\n",
       "            fig.request_resize(ui.size.width, ui.size.height);\n",
       "        },\n",
       "        stop: function(event, ui) {\n",
       "            pass_mouse_events = true;\n",
       "            fig.request_resize(ui.size.width, ui.size.height);\n",
       "        },\n",
       "    });\n",
       "\n",
       "    function mouse_event_fn(event) {\n",
       "        if (pass_mouse_events)\n",
       "            return fig.mouse_event(event, event['data']);\n",
       "    }\n",
       "\n",
       "    rubberband.mousedown('button_press', mouse_event_fn);\n",
       "    rubberband.mouseup('button_release', mouse_event_fn);\n",
       "    // Throttle sequential mouse events to 1 every 20ms.\n",
       "    rubberband.mousemove('motion_notify', mouse_event_fn);\n",
       "\n",
       "    rubberband.mouseenter('figure_enter', mouse_event_fn);\n",
       "    rubberband.mouseleave('figure_leave', mouse_event_fn);\n",
       "\n",
       "    canvas_div.on(\"wheel\", function (event) {\n",
       "        event = event.originalEvent;\n",
       "        event['data'] = 'scroll'\n",
       "        if (event.deltaY < 0) {\n",
       "            event.step = 1;\n",
       "        } else {\n",
       "            event.step = -1;\n",
       "        }\n",
       "        mouse_event_fn(event);\n",
       "    });\n",
       "\n",
       "    canvas_div.append(canvas);\n",
       "    canvas_div.append(rubberband);\n",
       "\n",
       "    this.rubberband = rubberband;\n",
       "    this.rubberband_canvas = rubberband[0];\n",
       "    this.rubberband_context = rubberband[0].getContext(\"2d\");\n",
       "    this.rubberband_context.strokeStyle = \"#000000\";\n",
       "\n",
       "    this._resize_canvas = function(width, height) {\n",
       "        // Keep the size of the canvas, canvas container, and rubber band\n",
       "        // canvas in synch.\n",
       "        canvas_div.css('width', width)\n",
       "        canvas_div.css('height', height)\n",
       "\n",
       "        canvas.attr('width', width * mpl.ratio);\n",
       "        canvas.attr('height', height * mpl.ratio);\n",
       "        canvas.attr('style', 'width: ' + width + 'px; height: ' + height + 'px;');\n",
       "\n",
       "        rubberband.attr('width', width);\n",
       "        rubberband.attr('height', height);\n",
       "    }\n",
       "\n",
       "    // Set the figure to an initial 600x600px, this will subsequently be updated\n",
       "    // upon first draw.\n",
       "    this._resize_canvas(600, 600);\n",
       "\n",
       "    // Disable right mouse context menu.\n",
       "    $(this.rubberband_canvas).bind(\"contextmenu\",function(e){\n",
       "        return false;\n",
       "    });\n",
       "\n",
       "    function set_focus () {\n",
       "        canvas.focus();\n",
       "        canvas_div.focus();\n",
       "    }\n",
       "\n",
       "    window.setTimeout(set_focus, 100);\n",
       "}\n",
       "\n",
       "mpl.figure.prototype._init_toolbar = function() {\n",
       "    var fig = this;\n",
       "\n",
       "    var nav_element = $('<div/>')\n",
       "    nav_element.attr('style', 'width: 100%');\n",
       "    this.root.append(nav_element);\n",
       "\n",
       "    // Define a callback function for later on.\n",
       "    function toolbar_event(event) {\n",
       "        return fig.toolbar_button_onclick(event['data']);\n",
       "    }\n",
       "    function toolbar_mouse_event(event) {\n",
       "        return fig.toolbar_button_onmouseover(event['data']);\n",
       "    }\n",
       "\n",
       "    for(var toolbar_ind in mpl.toolbar_items) {\n",
       "        var name = mpl.toolbar_items[toolbar_ind][0];\n",
       "        var tooltip = mpl.toolbar_items[toolbar_ind][1];\n",
       "        var image = mpl.toolbar_items[toolbar_ind][2];\n",
       "        var method_name = mpl.toolbar_items[toolbar_ind][3];\n",
       "\n",
       "        if (!name) {\n",
       "            // put a spacer in here.\n",
       "            continue;\n",
       "        }\n",
       "        var button = $('<button/>');\n",
       "        button.addClass('ui-button ui-widget ui-state-default ui-corner-all ' +\n",
       "                        'ui-button-icon-only');\n",
       "        button.attr('role', 'button');\n",
       "        button.attr('aria-disabled', 'false');\n",
       "        button.click(method_name, toolbar_event);\n",
       "        button.mouseover(tooltip, toolbar_mouse_event);\n",
       "\n",
       "        var icon_img = $('<span/>');\n",
       "        icon_img.addClass('ui-button-icon-primary ui-icon');\n",
       "        icon_img.addClass(image);\n",
       "        icon_img.addClass('ui-corner-all');\n",
       "\n",
       "        var tooltip_span = $('<span/>');\n",
       "        tooltip_span.addClass('ui-button-text');\n",
       "        tooltip_span.html(tooltip);\n",
       "\n",
       "        button.append(icon_img);\n",
       "        button.append(tooltip_span);\n",
       "\n",
       "        nav_element.append(button);\n",
       "    }\n",
       "\n",
       "    var fmt_picker_span = $('<span/>');\n",
       "\n",
       "    var fmt_picker = $('<select/>');\n",
       "    fmt_picker.addClass('mpl-toolbar-option ui-widget ui-widget-content');\n",
       "    fmt_picker_span.append(fmt_picker);\n",
       "    nav_element.append(fmt_picker_span);\n",
       "    this.format_dropdown = fmt_picker[0];\n",
       "\n",
       "    for (var ind in mpl.extensions) {\n",
       "        var fmt = mpl.extensions[ind];\n",
       "        var option = $(\n",
       "            '<option/>', {selected: fmt === mpl.default_extension}).html(fmt);\n",
       "        fmt_picker.append(option)\n",
       "    }\n",
       "\n",
       "    // Add hover states to the ui-buttons\n",
       "    $( \".ui-button\" ).hover(\n",
       "        function() { $(this).addClass(\"ui-state-hover\");},\n",
       "        function() { $(this).removeClass(\"ui-state-hover\");}\n",
       "    );\n",
       "\n",
       "    var status_bar = $('<span class=\"mpl-message\"/>');\n",
       "    nav_element.append(status_bar);\n",
       "    this.message = status_bar[0];\n",
       "}\n",
       "\n",
       "mpl.figure.prototype.request_resize = function(x_pixels, y_pixels) {\n",
       "    // Request matplotlib to resize the figure. Matplotlib will then trigger a resize in the client,\n",
       "    // which will in turn request a refresh of the image.\n",
       "    this.send_message('resize', {'width': x_pixels, 'height': y_pixels});\n",
       "}\n",
       "\n",
       "mpl.figure.prototype.send_message = function(type, properties) {\n",
       "    properties['type'] = type;\n",
       "    properties['figure_id'] = this.id;\n",
       "    this.ws.send(JSON.stringify(properties));\n",
       "}\n",
       "\n",
       "mpl.figure.prototype.send_draw_message = function() {\n",
       "    if (!this.waiting) {\n",
       "        this.waiting = true;\n",
       "        this.ws.send(JSON.stringify({type: \"draw\", figure_id: this.id}));\n",
       "    }\n",
       "}\n",
       "\n",
       "\n",
       "mpl.figure.prototype.handle_save = function(fig, msg) {\n",
       "    var format_dropdown = fig.format_dropdown;\n",
       "    var format = format_dropdown.options[format_dropdown.selectedIndex].value;\n",
       "    fig.ondownload(fig, format);\n",
       "}\n",
       "\n",
       "\n",
       "mpl.figure.prototype.handle_resize = function(fig, msg) {\n",
       "    var size = msg['size'];\n",
       "    if (size[0] != fig.canvas.width || size[1] != fig.canvas.height) {\n",
       "        fig._resize_canvas(size[0], size[1]);\n",
       "        fig.send_message(\"refresh\", {});\n",
       "    };\n",
       "}\n",
       "\n",
       "mpl.figure.prototype.handle_rubberband = function(fig, msg) {\n",
       "    var x0 = msg['x0'] / mpl.ratio;\n",
       "    var y0 = (fig.canvas.height - msg['y0']) / mpl.ratio;\n",
       "    var x1 = msg['x1'] / mpl.ratio;\n",
       "    var y1 = (fig.canvas.height - msg['y1']) / mpl.ratio;\n",
       "    x0 = Math.floor(x0) + 0.5;\n",
       "    y0 = Math.floor(y0) + 0.5;\n",
       "    x1 = Math.floor(x1) + 0.5;\n",
       "    y1 = Math.floor(y1) + 0.5;\n",
       "    var min_x = Math.min(x0, x1);\n",
       "    var min_y = Math.min(y0, y1);\n",
       "    var width = Math.abs(x1 - x0);\n",
       "    var height = Math.abs(y1 - y0);\n",
       "\n",
       "    fig.rubberband_context.clearRect(\n",
       "        0, 0, fig.canvas.width, fig.canvas.height);\n",
       "\n",
       "    fig.rubberband_context.strokeRect(min_x, min_y, width, height);\n",
       "}\n",
       "\n",
       "mpl.figure.prototype.handle_figure_label = function(fig, msg) {\n",
       "    // Updates the figure title.\n",
       "    fig.header.textContent = msg['label'];\n",
       "}\n",
       "\n",
       "mpl.figure.prototype.handle_cursor = function(fig, msg) {\n",
       "    var cursor = msg['cursor'];\n",
       "    switch(cursor)\n",
       "    {\n",
       "    case 0:\n",
       "        cursor = 'pointer';\n",
       "        break;\n",
       "    case 1:\n",
       "        cursor = 'default';\n",
       "        break;\n",
       "    case 2:\n",
       "        cursor = 'crosshair';\n",
       "        break;\n",
       "    case 3:\n",
       "        cursor = 'move';\n",
       "        break;\n",
       "    }\n",
       "    fig.rubberband_canvas.style.cursor = cursor;\n",
       "}\n",
       "\n",
       "mpl.figure.prototype.handle_message = function(fig, msg) {\n",
       "    fig.message.textContent = msg['message'];\n",
       "}\n",
       "\n",
       "mpl.figure.prototype.handle_draw = function(fig, msg) {\n",
       "    // Request the server to send over a new figure.\n",
       "    fig.send_draw_message();\n",
       "}\n",
       "\n",
       "mpl.figure.prototype.handle_image_mode = function(fig, msg) {\n",
       "    fig.image_mode = msg['mode'];\n",
       "}\n",
       "\n",
       "mpl.figure.prototype.updated_canvas_event = function() {\n",
       "    // Called whenever the canvas gets updated.\n",
       "    this.send_message(\"ack\", {});\n",
       "}\n",
       "\n",
       "// A function to construct a web socket function for onmessage handling.\n",
       "// Called in the figure constructor.\n",
       "mpl.figure.prototype._make_on_message_function = function(fig) {\n",
       "    return function socket_on_message(evt) {\n",
       "        if (evt.data instanceof Blob) {\n",
       "            /* FIXME: We get \"Resource interpreted as Image but\n",
       "             * transferred with MIME type text/plain:\" errors on\n",
       "             * Chrome.  But how to set the MIME type?  It doesn't seem\n",
       "             * to be part of the websocket stream */\n",
       "            evt.data.type = \"image/png\";\n",
       "\n",
       "            /* Free the memory for the previous frames */\n",
       "            if (fig.imageObj.src) {\n",
       "                (window.URL || window.webkitURL).revokeObjectURL(\n",
       "                    fig.imageObj.src);\n",
       "            }\n",
       "\n",
       "            fig.imageObj.src = (window.URL || window.webkitURL).createObjectURL(\n",
       "                evt.data);\n",
       "            fig.updated_canvas_event();\n",
       "            fig.waiting = false;\n",
       "            return;\n",
       "        }\n",
       "        else if (typeof evt.data === 'string' && evt.data.slice(0, 21) == \"data:image/png;base64\") {\n",
       "            fig.imageObj.src = evt.data;\n",
       "            fig.updated_canvas_event();\n",
       "            fig.waiting = false;\n",
       "            return;\n",
       "        }\n",
       "\n",
       "        var msg = JSON.parse(evt.data);\n",
       "        var msg_type = msg['type'];\n",
       "\n",
       "        // Call the  \"handle_{type}\" callback, which takes\n",
       "        // the figure and JSON message as its only arguments.\n",
       "        try {\n",
       "            var callback = fig[\"handle_\" + msg_type];\n",
       "        } catch (e) {\n",
       "            console.log(\"No handler for the '\" + msg_type + \"' message type: \", msg);\n",
       "            return;\n",
       "        }\n",
       "\n",
       "        if (callback) {\n",
       "            try {\n",
       "                // console.log(\"Handling '\" + msg_type + \"' message: \", msg);\n",
       "                callback(fig, msg);\n",
       "            } catch (e) {\n",
       "                console.log(\"Exception inside the 'handler_\" + msg_type + \"' callback:\", e, e.stack, msg);\n",
       "            }\n",
       "        }\n",
       "    };\n",
       "}\n",
       "\n",
       "// from http://stackoverflow.com/questions/1114465/getting-mouse-location-in-canvas\n",
       "mpl.findpos = function(e) {\n",
       "    //this section is from http://www.quirksmode.org/js/events_properties.html\n",
       "    var targ;\n",
       "    if (!e)\n",
       "        e = window.event;\n",
       "    if (e.target)\n",
       "        targ = e.target;\n",
       "    else if (e.srcElement)\n",
       "        targ = e.srcElement;\n",
       "    if (targ.nodeType == 3) // defeat Safari bug\n",
       "        targ = targ.parentNode;\n",
       "\n",
       "    // jQuery normalizes the pageX and pageY\n",
       "    // pageX,Y are the mouse positions relative to the document\n",
       "    // offset() returns the position of the element relative to the document\n",
       "    var x = e.pageX - $(targ).offset().left;\n",
       "    var y = e.pageY - $(targ).offset().top;\n",
       "\n",
       "    return {\"x\": x, \"y\": y};\n",
       "};\n",
       "\n",
       "/*\n",
       " * return a copy of an object with only non-object keys\n",
       " * we need this to avoid circular references\n",
       " * http://stackoverflow.com/a/24161582/3208463\n",
       " */\n",
       "function simpleKeys (original) {\n",
       "  return Object.keys(original).reduce(function (obj, key) {\n",
       "    if (typeof original[key] !== 'object')\n",
       "        obj[key] = original[key]\n",
       "    return obj;\n",
       "  }, {});\n",
       "}\n",
       "\n",
       "mpl.figure.prototype.mouse_event = function(event, name) {\n",
       "    var canvas_pos = mpl.findpos(event)\n",
       "\n",
       "    if (name === 'button_press')\n",
       "    {\n",
       "        this.canvas.focus();\n",
       "        this.canvas_div.focus();\n",
       "    }\n",
       "\n",
       "    var x = canvas_pos.x * mpl.ratio;\n",
       "    var y = canvas_pos.y * mpl.ratio;\n",
       "\n",
       "    this.send_message(name, {x: x, y: y, button: event.button,\n",
       "                             step: event.step,\n",
       "                             guiEvent: simpleKeys(event)});\n",
       "\n",
       "    /* This prevents the web browser from automatically changing to\n",
       "     * the text insertion cursor when the button is pressed.  We want\n",
       "     * to control all of the cursor setting manually through the\n",
       "     * 'cursor' event from matplotlib */\n",
       "    event.preventDefault();\n",
       "    return false;\n",
       "}\n",
       "\n",
       "mpl.figure.prototype._key_event_extra = function(event, name) {\n",
       "    // Handle any extra behaviour associated with a key event\n",
       "}\n",
       "\n",
       "mpl.figure.prototype.key_event = function(event, name) {\n",
       "\n",
       "    // Prevent repeat events\n",
       "    if (name == 'key_press')\n",
       "    {\n",
       "        if (event.which === this._key)\n",
       "            return;\n",
       "        else\n",
       "            this._key = event.which;\n",
       "    }\n",
       "    if (name == 'key_release')\n",
       "        this._key = null;\n",
       "\n",
       "    var value = '';\n",
       "    if (event.ctrlKey && event.which != 17)\n",
       "        value += \"ctrl+\";\n",
       "    if (event.altKey && event.which != 18)\n",
       "        value += \"alt+\";\n",
       "    if (event.shiftKey && event.which != 16)\n",
       "        value += \"shift+\";\n",
       "\n",
       "    value += 'k';\n",
       "    value += event.which.toString();\n",
       "\n",
       "    this._key_event_extra(event, name);\n",
       "\n",
       "    this.send_message(name, {key: value,\n",
       "                             guiEvent: simpleKeys(event)});\n",
       "    return false;\n",
       "}\n",
       "\n",
       "mpl.figure.prototype.toolbar_button_onclick = function(name) {\n",
       "    if (name == 'download') {\n",
       "        this.handle_save(this, null);\n",
       "    } else {\n",
       "        this.send_message(\"toolbar_button\", {name: name});\n",
       "    }\n",
       "};\n",
       "\n",
       "mpl.figure.prototype.toolbar_button_onmouseover = function(tooltip) {\n",
       "    this.message.textContent = tooltip;\n",
       "};\n",
       "mpl.toolbar_items = [[\"Home\", \"Reset original view\", \"fa fa-home icon-home\", \"home\"], [\"Back\", \"Back to previous view\", \"fa fa-arrow-left icon-arrow-left\", \"back\"], [\"Forward\", \"Forward to next view\", \"fa fa-arrow-right icon-arrow-right\", \"forward\"], [\"\", \"\", \"\", \"\"], [\"Pan\", \"Pan axes with left mouse, zoom with right\", \"fa fa-arrows icon-move\", \"pan\"], [\"Zoom\", \"Zoom to rectangle\", \"fa fa-square-o icon-check-empty\", \"zoom\"], [\"\", \"\", \"\", \"\"], [\"Download\", \"Download plot\", \"fa fa-floppy-o icon-save\", \"download\"]];\n",
       "\n",
       "mpl.extensions = [\"eps\", \"jpeg\", \"pdf\", \"png\", \"ps\", \"raw\", \"svg\", \"tif\"];\n",
       "\n",
       "mpl.default_extension = \"png\";var comm_websocket_adapter = function(comm) {\n",
       "    // Create a \"websocket\"-like object which calls the given IPython comm\n",
       "    // object with the appropriate methods. Currently this is a non binary\n",
       "    // socket, so there is still some room for performance tuning.\n",
       "    var ws = {};\n",
       "\n",
       "    ws.close = function() {\n",
       "        comm.close()\n",
       "    };\n",
       "    ws.send = function(m) {\n",
       "        //console.log('sending', m);\n",
       "        comm.send(m);\n",
       "    };\n",
       "    // Register the callback with on_msg.\n",
       "    comm.on_msg(function(msg) {\n",
       "        //console.log('receiving', msg['content']['data'], msg);\n",
       "        // Pass the mpl event to the overridden (by mpl) onmessage function.\n",
       "        ws.onmessage(msg['content']['data'])\n",
       "    });\n",
       "    return ws;\n",
       "}\n",
       "\n",
       "mpl.mpl_figure_comm = function(comm, msg) {\n",
       "    // This is the function which gets called when the mpl process\n",
       "    // starts-up an IPython Comm through the \"matplotlib\" channel.\n",
       "\n",
       "    var id = msg.content.data.id;\n",
       "    // Get hold of the div created by the display call when the Comm\n",
       "    // socket was opened in Python.\n",
       "    var element = $(\"#\" + id);\n",
       "    var ws_proxy = comm_websocket_adapter(comm)\n",
       "\n",
       "    function ondownload(figure, format) {\n",
       "        window.open(figure.imageObj.src);\n",
       "    }\n",
       "\n",
       "    var fig = new mpl.figure(id, ws_proxy,\n",
       "                           ondownload,\n",
       "                           element.get(0));\n",
       "\n",
       "    // Call onopen now - mpl needs it, as it is assuming we've passed it a real\n",
       "    // web socket which is closed, not our websocket->open comm proxy.\n",
       "    ws_proxy.onopen();\n",
       "\n",
       "    fig.parent_element = element.get(0);\n",
       "    fig.cell_info = mpl.find_output_cell(\"<div id='\" + id + \"'></div>\");\n",
       "    if (!fig.cell_info) {\n",
       "        console.error(\"Failed to find cell for figure\", id, fig);\n",
       "        return;\n",
       "    }\n",
       "\n",
       "    var output_index = fig.cell_info[2]\n",
       "    var cell = fig.cell_info[0];\n",
       "\n",
       "};\n",
       "\n",
       "mpl.figure.prototype.handle_close = function(fig, msg) {\n",
       "    var width = fig.canvas.width/mpl.ratio\n",
       "    fig.root.unbind('remove')\n",
       "\n",
       "    // Update the output cell to use the data from the current canvas.\n",
       "    fig.push_to_output();\n",
       "    var dataURL = fig.canvas.toDataURL();\n",
       "    // Re-enable the keyboard manager in IPython - without this line, in FF,\n",
       "    // the notebook keyboard shortcuts fail.\n",
       "    IPython.keyboard_manager.enable()\n",
       "    $(fig.parent_element).html('<img src=\"' + dataURL + '\" width=\"' + width + '\">');\n",
       "    fig.close_ws(fig, msg);\n",
       "}\n",
       "\n",
       "mpl.figure.prototype.close_ws = function(fig, msg){\n",
       "    fig.send_message('closing', msg);\n",
       "    // fig.ws.close()\n",
       "}\n",
       "\n",
       "mpl.figure.prototype.push_to_output = function(remove_interactive) {\n",
       "    // Turn the data on the canvas into data in the output cell.\n",
       "    var width = this.canvas.width/mpl.ratio\n",
       "    var dataURL = this.canvas.toDataURL();\n",
       "    this.cell_info[1]['text/html'] = '<img src=\"' + dataURL + '\" width=\"' + width + '\">';\n",
       "}\n",
       "\n",
       "mpl.figure.prototype.updated_canvas_event = function() {\n",
       "    // Tell IPython that the notebook contents must change.\n",
       "    IPython.notebook.set_dirty(true);\n",
       "    this.send_message(\"ack\", {});\n",
       "    var fig = this;\n",
       "    // Wait a second, then push the new image to the DOM so\n",
       "    // that it is saved nicely (might be nice to debounce this).\n",
       "    setTimeout(function () { fig.push_to_output() }, 1000);\n",
       "}\n",
       "\n",
       "mpl.figure.prototype._init_toolbar = function() {\n",
       "    var fig = this;\n",
       "\n",
       "    var nav_element = $('<div/>')\n",
       "    nav_element.attr('style', 'width: 100%');\n",
       "    this.root.append(nav_element);\n",
       "\n",
       "    // Define a callback function for later on.\n",
       "    function toolbar_event(event) {\n",
       "        return fig.toolbar_button_onclick(event['data']);\n",
       "    }\n",
       "    function toolbar_mouse_event(event) {\n",
       "        return fig.toolbar_button_onmouseover(event['data']);\n",
       "    }\n",
       "\n",
       "    for(var toolbar_ind in mpl.toolbar_items){\n",
       "        var name = mpl.toolbar_items[toolbar_ind][0];\n",
       "        var tooltip = mpl.toolbar_items[toolbar_ind][1];\n",
       "        var image = mpl.toolbar_items[toolbar_ind][2];\n",
       "        var method_name = mpl.toolbar_items[toolbar_ind][3];\n",
       "\n",
       "        if (!name) { continue; };\n",
       "\n",
       "        var button = $('<button class=\"btn btn-default\" href=\"#\" title=\"' + name + '\"><i class=\"fa ' + image + ' fa-lg\"></i></button>');\n",
       "        button.click(method_name, toolbar_event);\n",
       "        button.mouseover(tooltip, toolbar_mouse_event);\n",
       "        nav_element.append(button);\n",
       "    }\n",
       "\n",
       "    // Add the status bar.\n",
       "    var status_bar = $('<span class=\"mpl-message\" style=\"text-align:right; float: right;\"/>');\n",
       "    nav_element.append(status_bar);\n",
       "    this.message = status_bar[0];\n",
       "\n",
       "    // Add the close button to the window.\n",
       "    var buttongrp = $('<div class=\"btn-group inline pull-right\"></div>');\n",
       "    var button = $('<button class=\"btn btn-mini btn-primary\" href=\"#\" title=\"Stop Interaction\"><i class=\"fa fa-power-off icon-remove icon-large\"></i></button>');\n",
       "    button.click(function (evt) { fig.handle_close(fig, {}); } );\n",
       "    button.mouseover('Stop Interaction', toolbar_mouse_event);\n",
       "    buttongrp.append(button);\n",
       "    var titlebar = this.root.find($('.ui-dialog-titlebar'));\n",
       "    titlebar.prepend(buttongrp);\n",
       "}\n",
       "\n",
       "mpl.figure.prototype._root_extra_style = function(el){\n",
       "    var fig = this\n",
       "    el.on(\"remove\", function(){\n",
       "\tfig.close_ws(fig, {});\n",
       "    });\n",
       "}\n",
       "\n",
       "mpl.figure.prototype._canvas_extra_style = function(el){\n",
       "    // this is important to make the div 'focusable\n",
       "    el.attr('tabindex', 0)\n",
       "    // reach out to IPython and tell the keyboard manager to turn it's self\n",
       "    // off when our div gets focus\n",
       "\n",
       "    // location in version 3\n",
       "    if (IPython.notebook.keyboard_manager) {\n",
       "        IPython.notebook.keyboard_manager.register_events(el);\n",
       "    }\n",
       "    else {\n",
       "        // location in version 2\n",
       "        IPython.keyboard_manager.register_events(el);\n",
       "    }\n",
       "\n",
       "}\n",
       "\n",
       "mpl.figure.prototype._key_event_extra = function(event, name) {\n",
       "    var manager = IPython.notebook.keyboard_manager;\n",
       "    if (!manager)\n",
       "        manager = IPython.keyboard_manager;\n",
       "\n",
       "    // Check for shift+enter\n",
       "    if (event.shiftKey && event.which == 13) {\n",
       "        this.canvas_div.blur();\n",
       "        event.shiftKey = false;\n",
       "        // Send a \"J\" for go to next cell\n",
       "        event.which = 74;\n",
       "        event.keyCode = 74;\n",
       "        manager.command_mode();\n",
       "        manager.handle_keydown(event);\n",
       "    }\n",
       "}\n",
       "\n",
       "mpl.figure.prototype.handle_save = function(fig, msg) {\n",
       "    fig.ondownload(fig, null);\n",
       "}\n",
       "\n",
       "\n",
       "mpl.find_output_cell = function(html_output) {\n",
       "    // Return the cell and output element which can be found *uniquely* in the notebook.\n",
       "    // Note - this is a bit hacky, but it is done because the \"notebook_saving.Notebook\"\n",
       "    // IPython event is triggered only after the cells have been serialised, which for\n",
       "    // our purposes (turning an active figure into a static one), is too late.\n",
       "    var cells = IPython.notebook.get_cells();\n",
       "    var ncells = cells.length;\n",
       "    for (var i=0; i<ncells; i++) {\n",
       "        var cell = cells[i];\n",
       "        if (cell.cell_type === 'code'){\n",
       "            for (var j=0; j<cell.output_area.outputs.length; j++) {\n",
       "                var data = cell.output_area.outputs[j];\n",
       "                if (data.data) {\n",
       "                    // IPython >= 3 moved mimebundle to data attribute of output\n",
       "                    data = data.data;\n",
       "                }\n",
       "                if (data['text/html'] == html_output) {\n",
       "                    return [cell, data, j];\n",
       "                }\n",
       "            }\n",
       "        }\n",
       "    }\n",
       "}\n",
       "\n",
       "// Register the function which deals with the matplotlib target/channel.\n",
       "// The kernel may be null if the page has been refreshed.\n",
       "if (IPython.notebook.kernel != null) {\n",
       "    IPython.notebook.kernel.comm_manager.register_target('matplotlib', mpl.mpl_figure_comm);\n",
       "}\n"
      ],
      "text/plain": [
       "<IPython.core.display.Javascript object>"
      ]
     },
     "metadata": {},
     "output_type": "display_data"
    },
    {
     "data": {
      "text/html": [
       "<img src=\"data:image/png;base64,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\" width=\"640\">"
      ],
      "text/plain": [
       "<IPython.core.display.HTML object>"
      ]
     },
     "metadata": {},
     "output_type": "display_data"
    }
   ],
   "source": [
    "%matplotlib notebook\n",
    "sir_model.variance()"
   ]
  },
  {
   "cell_type": "markdown",
   "metadata": {},
   "source": [
    "#### Initilisation Model 2 (Cut for Wave Variance)"
   ]
  },
  {
   "cell_type": "code",
   "execution_count": 7,
   "metadata": {},
   "outputs": [],
   "source": [
    "N           = 20                            # lattice size\n",
    "p1, p2, p3  = 0.05, 0.5, 0.5                # p for visualisation\n",
    "S0, I0, R0  = 0.5, 0.3, 0.2                 # initial fraction of S, I, R\n",
    "equistep    = 100                           # equilibrate sweep (No system equilibration in this case)\n",
    "calcstep    = 10000                         # measurement sweep\n",
    "factor      = int(calcstep/10)              # because of 'if (j%10 == 0):' in 'analyse' fn\n",
    "\n",
    "p = [p1, p2, p3]\n",
    "fraction = [S0, I0, R0]\n",
    "\n",
    "np.random.seed(0)\n",
    "# sir_model_2 = ca_utils.SIR(N, fraction, p, factor, equistep, calcstep)\n",
    "sir_model_2 = ca_utils_cy.SIR(N, fraction, p, factor, equistep, calcstep)"
   ]
  },
  {
   "cell_type": "markdown",
   "metadata": {},
   "source": [
    "- Method behavior\n",
    "    - Cut for Wave Variance"
   ]
  },
  {
   "cell_type": "code",
   "execution_count": 8,
   "metadata": {
    "scrolled": true
   },
   "outputs": [
    {
     "data": {
      "application/vnd.jupyter.widget-view+json": {
       "model_id": "",
       "version_major": 2,
       "version_minor": 0
      },
      "text/plain": [
       "HBox(children=(IntProgress(value=1, bar_style='info', description='Col', max=1, style=ProgressStyle(descriptio…"
      ]
     },
     "metadata": {},
     "output_type": "display_data"
    },
    {
     "data": {
      "application/vnd.jupyter.widget-view+json": {
       "model_id": "",
       "version_major": 2,
       "version_minor": 0
      },
      "text/plain": [
       "HBox(children=(IntProgress(value=0, description='Measurement sweep', max=10000, style=ProgressStyle(descriptio…"
      ]
     },
     "metadata": {},
     "output_type": "display_data"
    },
    {
     "data": {
      "application/vnd.jupyter.widget-view+json": {
       "model_id": "",
       "version_major": 2,
       "version_minor": 0
      },
      "text/plain": [
       "HBox(children=(IntProgress(value=0, description='Measurement sweep', max=10000, style=ProgressStyle(descriptio…"
      ]
     },
     "metadata": {},
     "output_type": "display_data"
    },
    {
     "data": {
      "application/vnd.jupyter.widget-view+json": {
       "model_id": "",
       "version_major": 2,
       "version_minor": 0
      },
      "text/plain": [
       "HBox(children=(IntProgress(value=0, description='Measurement sweep', max=10000, style=ProgressStyle(descriptio…"
      ]
     },
     "metadata": {},
     "output_type": "display_data"
    },
    {
     "data": {
      "application/vnd.jupyter.widget-view+json": {
       "model_id": "",
       "version_major": 2,
       "version_minor": 0
      },
      "text/plain": [
       "HBox(children=(IntProgress(value=0, description='Measurement sweep', max=10000, style=ProgressStyle(descriptio…"
      ]
     },
     "metadata": {},
     "output_type": "display_data"
    },
    {
     "data": {
      "application/vnd.jupyter.widget-view+json": {
       "model_id": "",
       "version_major": 2,
       "version_minor": 0
      },
      "text/plain": [
       "HBox(children=(IntProgress(value=0, description='Measurement sweep', max=10000, style=ProgressStyle(descriptio…"
      ]
     },
     "metadata": {},
     "output_type": "display_data"
    },
    {
     "data": {
      "application/vnd.jupyter.widget-view+json": {
       "model_id": "",
       "version_major": 2,
       "version_minor": 0
      },
      "text/plain": [
       "HBox(children=(IntProgress(value=0, description='Measurement sweep', max=10000, style=ProgressStyle(descriptio…"
      ]
     },
     "metadata": {},
     "output_type": "display_data"
    },
    {
     "data": {
      "application/vnd.jupyter.widget-view+json": {
       "model_id": "",
       "version_major": 2,
       "version_minor": 0
      },
      "text/plain": [
       "HBox(children=(IntProgress(value=0, description='Measurement sweep', max=10000, style=ProgressStyle(descriptio…"
      ]
     },
     "metadata": {},
     "output_type": "display_data"
    },
    {
     "data": {
      "application/vnd.jupyter.widget-view+json": {
       "model_id": "",
       "version_major": 2,
       "version_minor": 0
      },
      "text/plain": [
       "HBox(children=(IntProgress(value=0, description='Measurement sweep', max=10000, style=ProgressStyle(descriptio…"
      ]
     },
     "metadata": {},
     "output_type": "display_data"
    },
    {
     "data": {
      "application/vnd.jupyter.widget-view+json": {
       "model_id": "",
       "version_major": 2,
       "version_minor": 0
      },
      "text/plain": [
       "HBox(children=(IntProgress(value=0, description='Measurement sweep', max=10000, style=ProgressStyle(descriptio…"
      ]
     },
     "metadata": {},
     "output_type": "display_data"
    },
    {
     "data": {
      "application/vnd.jupyter.widget-view+json": {
       "model_id": "",
       "version_major": 2,
       "version_minor": 0
      },
      "text/plain": [
       "HBox(children=(IntProgress(value=0, description='Measurement sweep', max=10000, style=ProgressStyle(descriptio…"
      ]
     },
     "metadata": {},
     "output_type": "display_data"
    },
    {
     "data": {
      "application/vnd.jupyter.widget-view+json": {
       "model_id": "",
       "version_major": 2,
       "version_minor": 0
      },
      "text/plain": [
       "HBox(children=(IntProgress(value=0, description='Measurement sweep', max=10000, style=ProgressStyle(descriptio…"
      ]
     },
     "metadata": {},
     "output_type": "display_data"
    },
    {
     "data": {
      "application/vnd.jupyter.widget-view+json": {
       "model_id": "",
       "version_major": 2,
       "version_minor": 0
      },
      "text/plain": [
       "HBox(children=(IntProgress(value=0, description='Measurement sweep', max=10000, style=ProgressStyle(descriptio…"
      ]
     },
     "metadata": {},
     "output_type": "display_data"
    },
    {
     "data": {
      "application/vnd.jupyter.widget-view+json": {
       "model_id": "",
       "version_major": 2,
       "version_minor": 0
      },
      "text/plain": [
       "HBox(children=(IntProgress(value=0, description='Measurement sweep', max=10000, style=ProgressStyle(descriptio…"
      ]
     },
     "metadata": {},
     "output_type": "display_data"
    },
    {
     "data": {
      "application/vnd.jupyter.widget-view+json": {
       "model_id": "",
       "version_major": 2,
       "version_minor": 0
      },
      "text/plain": [
       "HBox(children=(IntProgress(value=0, description='Measurement sweep', max=10000, style=ProgressStyle(descriptio…"
      ]
     },
     "metadata": {},
     "output_type": "display_data"
    },
    {
     "data": {
      "application/vnd.jupyter.widget-view+json": {
       "model_id": "",
       "version_major": 2,
       "version_minor": 0
      },
      "text/plain": [
       "HBox(children=(IntProgress(value=0, description='Measurement sweep', max=10000, style=ProgressStyle(descriptio…"
      ]
     },
     "metadata": {},
     "output_type": "display_data"
    },
    {
     "data": {
      "application/vnd.jupyter.widget-view+json": {
       "model_id": "",
       "version_major": 2,
       "version_minor": 0
      },
      "text/plain": [
       "HBox(children=(IntProgress(value=0, description='Measurement sweep', max=10000, style=ProgressStyle(descriptio…"
      ]
     },
     "metadata": {},
     "output_type": "display_data"
    },
    {
     "data": {
      "application/vnd.jupyter.widget-view+json": {
       "model_id": "",
       "version_major": 2,
       "version_minor": 0
      },
      "text/plain": [
       "HBox(children=(IntProgress(value=0, description='Measurement sweep', max=10000, style=ProgressStyle(descriptio…"
      ]
     },
     "metadata": {},
     "output_type": "display_data"
    },
    {
     "data": {
      "application/vnd.jupyter.widget-view+json": {
       "model_id": "",
       "version_major": 2,
       "version_minor": 0
      },
      "text/plain": [
       "HBox(children=(IntProgress(value=0, description='Measurement sweep', max=10000, style=ProgressStyle(descriptio…"
      ]
     },
     "metadata": {},
     "output_type": "display_data"
    },
    {
     "data": {
      "application/vnd.jupyter.widget-view+json": {
       "model_id": "",
       "version_major": 2,
       "version_minor": 0
      },
      "text/plain": [
       "HBox(children=(IntProgress(value=0, description='Measurement sweep', max=10000, style=ProgressStyle(descriptio…"
      ]
     },
     "metadata": {},
     "output_type": "display_data"
    },
    {
     "data": {
      "application/vnd.jupyter.widget-view+json": {
       "model_id": "",
       "version_major": 2,
       "version_minor": 0
      },
      "text/plain": [
       "HBox(children=(IntProgress(value=0, description='Measurement sweep', max=10000, style=ProgressStyle(descriptio…"
      ]
     },
     "metadata": {},
     "output_type": "display_data"
    },
    {
     "name": "stdout",
     "output_type": "stream",
     "text": [
      "\r"
     ]
    },
    {
     "data": {
      "application/javascript": [
       "/* Put everything inside the global mpl namespace */\n",
       "window.mpl = {};\n",
       "\n",
       "\n",
       "mpl.get_websocket_type = function() {\n",
       "    if (typeof(WebSocket) !== 'undefined') {\n",
       "        return WebSocket;\n",
       "    } else if (typeof(MozWebSocket) !== 'undefined') {\n",
       "        return MozWebSocket;\n",
       "    } else {\n",
       "        alert('Your browser does not have WebSocket support.' +\n",
       "              'Please try Chrome, Safari or Firefox ≥ 6. ' +\n",
       "              'Firefox 4 and 5 are also supported but you ' +\n",
       "              'have to enable WebSockets in about:config.');\n",
       "    };\n",
       "}\n",
       "\n",
       "mpl.figure = function(figure_id, websocket, ondownload, parent_element) {\n",
       "    this.id = figure_id;\n",
       "\n",
       "    this.ws = websocket;\n",
       "\n",
       "    this.supports_binary = (this.ws.binaryType != undefined);\n",
       "\n",
       "    if (!this.supports_binary) {\n",
       "        var warnings = document.getElementById(\"mpl-warnings\");\n",
       "        if (warnings) {\n",
       "            warnings.style.display = 'block';\n",
       "            warnings.textContent = (\n",
       "                \"This browser does not support binary websocket messages. \" +\n",
       "                    \"Performance may be slow.\");\n",
       "        }\n",
       "    }\n",
       "\n",
       "    this.imageObj = new Image();\n",
       "\n",
       "    this.context = undefined;\n",
       "    this.message = undefined;\n",
       "    this.canvas = undefined;\n",
       "    this.rubberband_canvas = undefined;\n",
       "    this.rubberband_context = undefined;\n",
       "    this.format_dropdown = undefined;\n",
       "\n",
       "    this.image_mode = 'full';\n",
       "\n",
       "    this.root = $('<div/>');\n",
       "    this._root_extra_style(this.root)\n",
       "    this.root.attr('style', 'display: inline-block');\n",
       "\n",
       "    $(parent_element).append(this.root);\n",
       "\n",
       "    this._init_header(this);\n",
       "    this._init_canvas(this);\n",
       "    this._init_toolbar(this);\n",
       "\n",
       "    var fig = this;\n",
       "\n",
       "    this.waiting = false;\n",
       "\n",
       "    this.ws.onopen =  function () {\n",
       "            fig.send_message(\"supports_binary\", {value: fig.supports_binary});\n",
       "            fig.send_message(\"send_image_mode\", {});\n",
       "            if (mpl.ratio != 1) {\n",
       "                fig.send_message(\"set_dpi_ratio\", {'dpi_ratio': mpl.ratio});\n",
       "            }\n",
       "            fig.send_message(\"refresh\", {});\n",
       "        }\n",
       "\n",
       "    this.imageObj.onload = function() {\n",
       "            if (fig.image_mode == 'full') {\n",
       "                // Full images could contain transparency (where diff images\n",
       "                // almost always do), so we need to clear the canvas so that\n",
       "                // there is no ghosting.\n",
       "                fig.context.clearRect(0, 0, fig.canvas.width, fig.canvas.height);\n",
       "            }\n",
       "            fig.context.drawImage(fig.imageObj, 0, 0);\n",
       "        };\n",
       "\n",
       "    this.imageObj.onunload = function() {\n",
       "        fig.ws.close();\n",
       "    }\n",
       "\n",
       "    this.ws.onmessage = this._make_on_message_function(this);\n",
       "\n",
       "    this.ondownload = ondownload;\n",
       "}\n",
       "\n",
       "mpl.figure.prototype._init_header = function() {\n",
       "    var titlebar = $(\n",
       "        '<div class=\"ui-dialog-titlebar ui-widget-header ui-corner-all ' +\n",
       "        'ui-helper-clearfix\"/>');\n",
       "    var titletext = $(\n",
       "        '<div class=\"ui-dialog-title\" style=\"width: 100%; ' +\n",
       "        'text-align: center; padding: 3px;\"/>');\n",
       "    titlebar.append(titletext)\n",
       "    this.root.append(titlebar);\n",
       "    this.header = titletext[0];\n",
       "}\n",
       "\n",
       "\n",
       "\n",
       "mpl.figure.prototype._canvas_extra_style = function(canvas_div) {\n",
       "\n",
       "}\n",
       "\n",
       "\n",
       "mpl.figure.prototype._root_extra_style = function(canvas_div) {\n",
       "\n",
       "}\n",
       "\n",
       "mpl.figure.prototype._init_canvas = function() {\n",
       "    var fig = this;\n",
       "\n",
       "    var canvas_div = $('<div/>');\n",
       "\n",
       "    canvas_div.attr('style', 'position: relative; clear: both; outline: 0');\n",
       "\n",
       "    function canvas_keyboard_event(event) {\n",
       "        return fig.key_event(event, event['data']);\n",
       "    }\n",
       "\n",
       "    canvas_div.keydown('key_press', canvas_keyboard_event);\n",
       "    canvas_div.keyup('key_release', canvas_keyboard_event);\n",
       "    this.canvas_div = canvas_div\n",
       "    this._canvas_extra_style(canvas_div)\n",
       "    this.root.append(canvas_div);\n",
       "\n",
       "    var canvas = $('<canvas/>');\n",
       "    canvas.addClass('mpl-canvas');\n",
       "    canvas.attr('style', \"left: 0; top: 0; z-index: 0; outline: 0\")\n",
       "\n",
       "    this.canvas = canvas[0];\n",
       "    this.context = canvas[0].getContext(\"2d\");\n",
       "\n",
       "    var backingStore = this.context.backingStorePixelRatio ||\n",
       "\tthis.context.webkitBackingStorePixelRatio ||\n",
       "\tthis.context.mozBackingStorePixelRatio ||\n",
       "\tthis.context.msBackingStorePixelRatio ||\n",
       "\tthis.context.oBackingStorePixelRatio ||\n",
       "\tthis.context.backingStorePixelRatio || 1;\n",
       "\n",
       "    mpl.ratio = (window.devicePixelRatio || 1) / backingStore;\n",
       "\n",
       "    var rubberband = $('<canvas/>');\n",
       "    rubberband.attr('style', \"position: absolute; left: 0; top: 0; z-index: 1;\")\n",
       "\n",
       "    var pass_mouse_events = true;\n",
       "\n",
       "    canvas_div.resizable({\n",
       "        start: function(event, ui) {\n",
       "            pass_mouse_events = false;\n",
       "        },\n",
       "        resize: function(event, ui) {\n",
       "            fig.request_resize(ui.size.width, ui.size.height);\n",
       "        },\n",
       "        stop: function(event, ui) {\n",
       "            pass_mouse_events = true;\n",
       "            fig.request_resize(ui.size.width, ui.size.height);\n",
       "        },\n",
       "    });\n",
       "\n",
       "    function mouse_event_fn(event) {\n",
       "        if (pass_mouse_events)\n",
       "            return fig.mouse_event(event, event['data']);\n",
       "    }\n",
       "\n",
       "    rubberband.mousedown('button_press', mouse_event_fn);\n",
       "    rubberband.mouseup('button_release', mouse_event_fn);\n",
       "    // Throttle sequential mouse events to 1 every 20ms.\n",
       "    rubberband.mousemove('motion_notify', mouse_event_fn);\n",
       "\n",
       "    rubberband.mouseenter('figure_enter', mouse_event_fn);\n",
       "    rubberband.mouseleave('figure_leave', mouse_event_fn);\n",
       "\n",
       "    canvas_div.on(\"wheel\", function (event) {\n",
       "        event = event.originalEvent;\n",
       "        event['data'] = 'scroll'\n",
       "        if (event.deltaY < 0) {\n",
       "            event.step = 1;\n",
       "        } else {\n",
       "            event.step = -1;\n",
       "        }\n",
       "        mouse_event_fn(event);\n",
       "    });\n",
       "\n",
       "    canvas_div.append(canvas);\n",
       "    canvas_div.append(rubberband);\n",
       "\n",
       "    this.rubberband = rubberband;\n",
       "    this.rubberband_canvas = rubberband[0];\n",
       "    this.rubberband_context = rubberband[0].getContext(\"2d\");\n",
       "    this.rubberband_context.strokeStyle = \"#000000\";\n",
       "\n",
       "    this._resize_canvas = function(width, height) {\n",
       "        // Keep the size of the canvas, canvas container, and rubber band\n",
       "        // canvas in synch.\n",
       "        canvas_div.css('width', width)\n",
       "        canvas_div.css('height', height)\n",
       "\n",
       "        canvas.attr('width', width * mpl.ratio);\n",
       "        canvas.attr('height', height * mpl.ratio);\n",
       "        canvas.attr('style', 'width: ' + width + 'px; height: ' + height + 'px;');\n",
       "\n",
       "        rubberband.attr('width', width);\n",
       "        rubberband.attr('height', height);\n",
       "    }\n",
       "\n",
       "    // Set the figure to an initial 600x600px, this will subsequently be updated\n",
       "    // upon first draw.\n",
       "    this._resize_canvas(600, 600);\n",
       "\n",
       "    // Disable right mouse context menu.\n",
       "    $(this.rubberband_canvas).bind(\"contextmenu\",function(e){\n",
       "        return false;\n",
       "    });\n",
       "\n",
       "    function set_focus () {\n",
       "        canvas.focus();\n",
       "        canvas_div.focus();\n",
       "    }\n",
       "\n",
       "    window.setTimeout(set_focus, 100);\n",
       "}\n",
       "\n",
       "mpl.figure.prototype._init_toolbar = function() {\n",
       "    var fig = this;\n",
       "\n",
       "    var nav_element = $('<div/>')\n",
       "    nav_element.attr('style', 'width: 100%');\n",
       "    this.root.append(nav_element);\n",
       "\n",
       "    // Define a callback function for later on.\n",
       "    function toolbar_event(event) {\n",
       "        return fig.toolbar_button_onclick(event['data']);\n",
       "    }\n",
       "    function toolbar_mouse_event(event) {\n",
       "        return fig.toolbar_button_onmouseover(event['data']);\n",
       "    }\n",
       "\n",
       "    for(var toolbar_ind in mpl.toolbar_items) {\n",
       "        var name = mpl.toolbar_items[toolbar_ind][0];\n",
       "        var tooltip = mpl.toolbar_items[toolbar_ind][1];\n",
       "        var image = mpl.toolbar_items[toolbar_ind][2];\n",
       "        var method_name = mpl.toolbar_items[toolbar_ind][3];\n",
       "\n",
       "        if (!name) {\n",
       "            // put a spacer in here.\n",
       "            continue;\n",
       "        }\n",
       "        var button = $('<button/>');\n",
       "        button.addClass('ui-button ui-widget ui-state-default ui-corner-all ' +\n",
       "                        'ui-button-icon-only');\n",
       "        button.attr('role', 'button');\n",
       "        button.attr('aria-disabled', 'false');\n",
       "        button.click(method_name, toolbar_event);\n",
       "        button.mouseover(tooltip, toolbar_mouse_event);\n",
       "\n",
       "        var icon_img = $('<span/>');\n",
       "        icon_img.addClass('ui-button-icon-primary ui-icon');\n",
       "        icon_img.addClass(image);\n",
       "        icon_img.addClass('ui-corner-all');\n",
       "\n",
       "        var tooltip_span = $('<span/>');\n",
       "        tooltip_span.addClass('ui-button-text');\n",
       "        tooltip_span.html(tooltip);\n",
       "\n",
       "        button.append(icon_img);\n",
       "        button.append(tooltip_span);\n",
       "\n",
       "        nav_element.append(button);\n",
       "    }\n",
       "\n",
       "    var fmt_picker_span = $('<span/>');\n",
       "\n",
       "    var fmt_picker = $('<select/>');\n",
       "    fmt_picker.addClass('mpl-toolbar-option ui-widget ui-widget-content');\n",
       "    fmt_picker_span.append(fmt_picker);\n",
       "    nav_element.append(fmt_picker_span);\n",
       "    this.format_dropdown = fmt_picker[0];\n",
       "\n",
       "    for (var ind in mpl.extensions) {\n",
       "        var fmt = mpl.extensions[ind];\n",
       "        var option = $(\n",
       "            '<option/>', {selected: fmt === mpl.default_extension}).html(fmt);\n",
       "        fmt_picker.append(option)\n",
       "    }\n",
       "\n",
       "    // Add hover states to the ui-buttons\n",
       "    $( \".ui-button\" ).hover(\n",
       "        function() { $(this).addClass(\"ui-state-hover\");},\n",
       "        function() { $(this).removeClass(\"ui-state-hover\");}\n",
       "    );\n",
       "\n",
       "    var status_bar = $('<span class=\"mpl-message\"/>');\n",
       "    nav_element.append(status_bar);\n",
       "    this.message = status_bar[0];\n",
       "}\n",
       "\n",
       "mpl.figure.prototype.request_resize = function(x_pixels, y_pixels) {\n",
       "    // Request matplotlib to resize the figure. Matplotlib will then trigger a resize in the client,\n",
       "    // which will in turn request a refresh of the image.\n",
       "    this.send_message('resize', {'width': x_pixels, 'height': y_pixels});\n",
       "}\n",
       "\n",
       "mpl.figure.prototype.send_message = function(type, properties) {\n",
       "    properties['type'] = type;\n",
       "    properties['figure_id'] = this.id;\n",
       "    this.ws.send(JSON.stringify(properties));\n",
       "}\n",
       "\n",
       "mpl.figure.prototype.send_draw_message = function() {\n",
       "    if (!this.waiting) {\n",
       "        this.waiting = true;\n",
       "        this.ws.send(JSON.stringify({type: \"draw\", figure_id: this.id}));\n",
       "    }\n",
       "}\n",
       "\n",
       "\n",
       "mpl.figure.prototype.handle_save = function(fig, msg) {\n",
       "    var format_dropdown = fig.format_dropdown;\n",
       "    var format = format_dropdown.options[format_dropdown.selectedIndex].value;\n",
       "    fig.ondownload(fig, format);\n",
       "}\n",
       "\n",
       "\n",
       "mpl.figure.prototype.handle_resize = function(fig, msg) {\n",
       "    var size = msg['size'];\n",
       "    if (size[0] != fig.canvas.width || size[1] != fig.canvas.height) {\n",
       "        fig._resize_canvas(size[0], size[1]);\n",
       "        fig.send_message(\"refresh\", {});\n",
       "    };\n",
       "}\n",
       "\n",
       "mpl.figure.prototype.handle_rubberband = function(fig, msg) {\n",
       "    var x0 = msg['x0'] / mpl.ratio;\n",
       "    var y0 = (fig.canvas.height - msg['y0']) / mpl.ratio;\n",
       "    var x1 = msg['x1'] / mpl.ratio;\n",
       "    var y1 = (fig.canvas.height - msg['y1']) / mpl.ratio;\n",
       "    x0 = Math.floor(x0) + 0.5;\n",
       "    y0 = Math.floor(y0) + 0.5;\n",
       "    x1 = Math.floor(x1) + 0.5;\n",
       "    y1 = Math.floor(y1) + 0.5;\n",
       "    var min_x = Math.min(x0, x1);\n",
       "    var min_y = Math.min(y0, y1);\n",
       "    var width = Math.abs(x1 - x0);\n",
       "    var height = Math.abs(y1 - y0);\n",
       "\n",
       "    fig.rubberband_context.clearRect(\n",
       "        0, 0, fig.canvas.width, fig.canvas.height);\n",
       "\n",
       "    fig.rubberband_context.strokeRect(min_x, min_y, width, height);\n",
       "}\n",
       "\n",
       "mpl.figure.prototype.handle_figure_label = function(fig, msg) {\n",
       "    // Updates the figure title.\n",
       "    fig.header.textContent = msg['label'];\n",
       "}\n",
       "\n",
       "mpl.figure.prototype.handle_cursor = function(fig, msg) {\n",
       "    var cursor = msg['cursor'];\n",
       "    switch(cursor)\n",
       "    {\n",
       "    case 0:\n",
       "        cursor = 'pointer';\n",
       "        break;\n",
       "    case 1:\n",
       "        cursor = 'default';\n",
       "        break;\n",
       "    case 2:\n",
       "        cursor = 'crosshair';\n",
       "        break;\n",
       "    case 3:\n",
       "        cursor = 'move';\n",
       "        break;\n",
       "    }\n",
       "    fig.rubberband_canvas.style.cursor = cursor;\n",
       "}\n",
       "\n",
       "mpl.figure.prototype.handle_message = function(fig, msg) {\n",
       "    fig.message.textContent = msg['message'];\n",
       "}\n",
       "\n",
       "mpl.figure.prototype.handle_draw = function(fig, msg) {\n",
       "    // Request the server to send over a new figure.\n",
       "    fig.send_draw_message();\n",
       "}\n",
       "\n",
       "mpl.figure.prototype.handle_image_mode = function(fig, msg) {\n",
       "    fig.image_mode = msg['mode'];\n",
       "}\n",
       "\n",
       "mpl.figure.prototype.updated_canvas_event = function() {\n",
       "    // Called whenever the canvas gets updated.\n",
       "    this.send_message(\"ack\", {});\n",
       "}\n",
       "\n",
       "// A function to construct a web socket function for onmessage handling.\n",
       "// Called in the figure constructor.\n",
       "mpl.figure.prototype._make_on_message_function = function(fig) {\n",
       "    return function socket_on_message(evt) {\n",
       "        if (evt.data instanceof Blob) {\n",
       "            /* FIXME: We get \"Resource interpreted as Image but\n",
       "             * transferred with MIME type text/plain:\" errors on\n",
       "             * Chrome.  But how to set the MIME type?  It doesn't seem\n",
       "             * to be part of the websocket stream */\n",
       "            evt.data.type = \"image/png\";\n",
       "\n",
       "            /* Free the memory for the previous frames */\n",
       "            if (fig.imageObj.src) {\n",
       "                (window.URL || window.webkitURL).revokeObjectURL(\n",
       "                    fig.imageObj.src);\n",
       "            }\n",
       "\n",
       "            fig.imageObj.src = (window.URL || window.webkitURL).createObjectURL(\n",
       "                evt.data);\n",
       "            fig.updated_canvas_event();\n",
       "            fig.waiting = false;\n",
       "            return;\n",
       "        }\n",
       "        else if (typeof evt.data === 'string' && evt.data.slice(0, 21) == \"data:image/png;base64\") {\n",
       "            fig.imageObj.src = evt.data;\n",
       "            fig.updated_canvas_event();\n",
       "            fig.waiting = false;\n",
       "            return;\n",
       "        }\n",
       "\n",
       "        var msg = JSON.parse(evt.data);\n",
       "        var msg_type = msg['type'];\n",
       "\n",
       "        // Call the  \"handle_{type}\" callback, which takes\n",
       "        // the figure and JSON message as its only arguments.\n",
       "        try {\n",
       "            var callback = fig[\"handle_\" + msg_type];\n",
       "        } catch (e) {\n",
       "            console.log(\"No handler for the '\" + msg_type + \"' message type: \", msg);\n",
       "            return;\n",
       "        }\n",
       "\n",
       "        if (callback) {\n",
       "            try {\n",
       "                // console.log(\"Handling '\" + msg_type + \"' message: \", msg);\n",
       "                callback(fig, msg);\n",
       "            } catch (e) {\n",
       "                console.log(\"Exception inside the 'handler_\" + msg_type + \"' callback:\", e, e.stack, msg);\n",
       "            }\n",
       "        }\n",
       "    };\n",
       "}\n",
       "\n",
       "// from http://stackoverflow.com/questions/1114465/getting-mouse-location-in-canvas\n",
       "mpl.findpos = function(e) {\n",
       "    //this section is from http://www.quirksmode.org/js/events_properties.html\n",
       "    var targ;\n",
       "    if (!e)\n",
       "        e = window.event;\n",
       "    if (e.target)\n",
       "        targ = e.target;\n",
       "    else if (e.srcElement)\n",
       "        targ = e.srcElement;\n",
       "    if (targ.nodeType == 3) // defeat Safari bug\n",
       "        targ = targ.parentNode;\n",
       "\n",
       "    // jQuery normalizes the pageX and pageY\n",
       "    // pageX,Y are the mouse positions relative to the document\n",
       "    // offset() returns the position of the element relative to the document\n",
       "    var x = e.pageX - $(targ).offset().left;\n",
       "    var y = e.pageY - $(targ).offset().top;\n",
       "\n",
       "    return {\"x\": x, \"y\": y};\n",
       "};\n",
       "\n",
       "/*\n",
       " * return a copy of an object with only non-object keys\n",
       " * we need this to avoid circular references\n",
       " * http://stackoverflow.com/a/24161582/3208463\n",
       " */\n",
       "function simpleKeys (original) {\n",
       "  return Object.keys(original).reduce(function (obj, key) {\n",
       "    if (typeof original[key] !== 'object')\n",
       "        obj[key] = original[key]\n",
       "    return obj;\n",
       "  }, {});\n",
       "}\n",
       "\n",
       "mpl.figure.prototype.mouse_event = function(event, name) {\n",
       "    var canvas_pos = mpl.findpos(event)\n",
       "\n",
       "    if (name === 'button_press')\n",
       "    {\n",
       "        this.canvas.focus();\n",
       "        this.canvas_div.focus();\n",
       "    }\n",
       "\n",
       "    var x = canvas_pos.x * mpl.ratio;\n",
       "    var y = canvas_pos.y * mpl.ratio;\n",
       "\n",
       "    this.send_message(name, {x: x, y: y, button: event.button,\n",
       "                             step: event.step,\n",
       "                             guiEvent: simpleKeys(event)});\n",
       "\n",
       "    /* This prevents the web browser from automatically changing to\n",
       "     * the text insertion cursor when the button is pressed.  We want\n",
       "     * to control all of the cursor setting manually through the\n",
       "     * 'cursor' event from matplotlib */\n",
       "    event.preventDefault();\n",
       "    return false;\n",
       "}\n",
       "\n",
       "mpl.figure.prototype._key_event_extra = function(event, name) {\n",
       "    // Handle any extra behaviour associated with a key event\n",
       "}\n",
       "\n",
       "mpl.figure.prototype.key_event = function(event, name) {\n",
       "\n",
       "    // Prevent repeat events\n",
       "    if (name == 'key_press')\n",
       "    {\n",
       "        if (event.which === this._key)\n",
       "            return;\n",
       "        else\n",
       "            this._key = event.which;\n",
       "    }\n",
       "    if (name == 'key_release')\n",
       "        this._key = null;\n",
       "\n",
       "    var value = '';\n",
       "    if (event.ctrlKey && event.which != 17)\n",
       "        value += \"ctrl+\";\n",
       "    if (event.altKey && event.which != 18)\n",
       "        value += \"alt+\";\n",
       "    if (event.shiftKey && event.which != 16)\n",
       "        value += \"shift+\";\n",
       "\n",
       "    value += 'k';\n",
       "    value += event.which.toString();\n",
       "\n",
       "    this._key_event_extra(event, name);\n",
       "\n",
       "    this.send_message(name, {key: value,\n",
       "                             guiEvent: simpleKeys(event)});\n",
       "    return false;\n",
       "}\n",
       "\n",
       "mpl.figure.prototype.toolbar_button_onclick = function(name) {\n",
       "    if (name == 'download') {\n",
       "        this.handle_save(this, null);\n",
       "    } else {\n",
       "        this.send_message(\"toolbar_button\", {name: name});\n",
       "    }\n",
       "};\n",
       "\n",
       "mpl.figure.prototype.toolbar_button_onmouseover = function(tooltip) {\n",
       "    this.message.textContent = tooltip;\n",
       "};\n",
       "mpl.toolbar_items = [[\"Home\", \"Reset original view\", \"fa fa-home icon-home\", \"home\"], [\"Back\", \"Back to previous view\", \"fa fa-arrow-left icon-arrow-left\", \"back\"], [\"Forward\", \"Forward to next view\", \"fa fa-arrow-right icon-arrow-right\", \"forward\"], [\"\", \"\", \"\", \"\"], [\"Pan\", \"Pan axes with left mouse, zoom with right\", \"fa fa-arrows icon-move\", \"pan\"], [\"Zoom\", \"Zoom to rectangle\", \"fa fa-square-o icon-check-empty\", \"zoom\"], [\"\", \"\", \"\", \"\"], [\"Download\", \"Download plot\", \"fa fa-floppy-o icon-save\", \"download\"]];\n",
       "\n",
       "mpl.extensions = [\"eps\", \"jpeg\", \"pdf\", \"png\", \"ps\", \"raw\", \"svg\", \"tif\"];\n",
       "\n",
       "mpl.default_extension = \"png\";var comm_websocket_adapter = function(comm) {\n",
       "    // Create a \"websocket\"-like object which calls the given IPython comm\n",
       "    // object with the appropriate methods. Currently this is a non binary\n",
       "    // socket, so there is still some room for performance tuning.\n",
       "    var ws = {};\n",
       "\n",
       "    ws.close = function() {\n",
       "        comm.close()\n",
       "    };\n",
       "    ws.send = function(m) {\n",
       "        //console.log('sending', m);\n",
       "        comm.send(m);\n",
       "    };\n",
       "    // Register the callback with on_msg.\n",
       "    comm.on_msg(function(msg) {\n",
       "        //console.log('receiving', msg['content']['data'], msg);\n",
       "        // Pass the mpl event to the overridden (by mpl) onmessage function.\n",
       "        ws.onmessage(msg['content']['data'])\n",
       "    });\n",
       "    return ws;\n",
       "}\n",
       "\n",
       "mpl.mpl_figure_comm = function(comm, msg) {\n",
       "    // This is the function which gets called when the mpl process\n",
       "    // starts-up an IPython Comm through the \"matplotlib\" channel.\n",
       "\n",
       "    var id = msg.content.data.id;\n",
       "    // Get hold of the div created by the display call when the Comm\n",
       "    // socket was opened in Python.\n",
       "    var element = $(\"#\" + id);\n",
       "    var ws_proxy = comm_websocket_adapter(comm)\n",
       "\n",
       "    function ondownload(figure, format) {\n",
       "        window.open(figure.imageObj.src);\n",
       "    }\n",
       "\n",
       "    var fig = new mpl.figure(id, ws_proxy,\n",
       "                           ondownload,\n",
       "                           element.get(0));\n",
       "\n",
       "    // Call onopen now - mpl needs it, as it is assuming we've passed it a real\n",
       "    // web socket which is closed, not our websocket->open comm proxy.\n",
       "    ws_proxy.onopen();\n",
       "\n",
       "    fig.parent_element = element.get(0);\n",
       "    fig.cell_info = mpl.find_output_cell(\"<div id='\" + id + \"'></div>\");\n",
       "    if (!fig.cell_info) {\n",
       "        console.error(\"Failed to find cell for figure\", id, fig);\n",
       "        return;\n",
       "    }\n",
       "\n",
       "    var output_index = fig.cell_info[2]\n",
       "    var cell = fig.cell_info[0];\n",
       "\n",
       "};\n",
       "\n",
       "mpl.figure.prototype.handle_close = function(fig, msg) {\n",
       "    var width = fig.canvas.width/mpl.ratio\n",
       "    fig.root.unbind('remove')\n",
       "\n",
       "    // Update the output cell to use the data from the current canvas.\n",
       "    fig.push_to_output();\n",
       "    var dataURL = fig.canvas.toDataURL();\n",
       "    // Re-enable the keyboard manager in IPython - without this line, in FF,\n",
       "    // the notebook keyboard shortcuts fail.\n",
       "    IPython.keyboard_manager.enable()\n",
       "    $(fig.parent_element).html('<img src=\"' + dataURL + '\" width=\"' + width + '\">');\n",
       "    fig.close_ws(fig, msg);\n",
       "}\n",
       "\n",
       "mpl.figure.prototype.close_ws = function(fig, msg){\n",
       "    fig.send_message('closing', msg);\n",
       "    // fig.ws.close()\n",
       "}\n",
       "\n",
       "mpl.figure.prototype.push_to_output = function(remove_interactive) {\n",
       "    // Turn the data on the canvas into data in the output cell.\n",
       "    var width = this.canvas.width/mpl.ratio\n",
       "    var dataURL = this.canvas.toDataURL();\n",
       "    this.cell_info[1]['text/html'] = '<img src=\"' + dataURL + '\" width=\"' + width + '\">';\n",
       "}\n",
       "\n",
       "mpl.figure.prototype.updated_canvas_event = function() {\n",
       "    // Tell IPython that the notebook contents must change.\n",
       "    IPython.notebook.set_dirty(true);\n",
       "    this.send_message(\"ack\", {});\n",
       "    var fig = this;\n",
       "    // Wait a second, then push the new image to the DOM so\n",
       "    // that it is saved nicely (might be nice to debounce this).\n",
       "    setTimeout(function () { fig.push_to_output() }, 1000);\n",
       "}\n",
       "\n",
       "mpl.figure.prototype._init_toolbar = function() {\n",
       "    var fig = this;\n",
       "\n",
       "    var nav_element = $('<div/>')\n",
       "    nav_element.attr('style', 'width: 100%');\n",
       "    this.root.append(nav_element);\n",
       "\n",
       "    // Define a callback function for later on.\n",
       "    function toolbar_event(event) {\n",
       "        return fig.toolbar_button_onclick(event['data']);\n",
       "    }\n",
       "    function toolbar_mouse_event(event) {\n",
       "        return fig.toolbar_button_onmouseover(event['data']);\n",
       "    }\n",
       "\n",
       "    for(var toolbar_ind in mpl.toolbar_items){\n",
       "        var name = mpl.toolbar_items[toolbar_ind][0];\n",
       "        var tooltip = mpl.toolbar_items[toolbar_ind][1];\n",
       "        var image = mpl.toolbar_items[toolbar_ind][2];\n",
       "        var method_name = mpl.toolbar_items[toolbar_ind][3];\n",
       "\n",
       "        if (!name) { continue; };\n",
       "\n",
       "        var button = $('<button class=\"btn btn-default\" href=\"#\" title=\"' + name + '\"><i class=\"fa ' + image + ' fa-lg\"></i></button>');\n",
       "        button.click(method_name, toolbar_event);\n",
       "        button.mouseover(tooltip, toolbar_mouse_event);\n",
       "        nav_element.append(button);\n",
       "    }\n",
       "\n",
       "    // Add the status bar.\n",
       "    var status_bar = $('<span class=\"mpl-message\" style=\"text-align:right; float: right;\"/>');\n",
       "    nav_element.append(status_bar);\n",
       "    this.message = status_bar[0];\n",
       "\n",
       "    // Add the close button to the window.\n",
       "    var buttongrp = $('<div class=\"btn-group inline pull-right\"></div>');\n",
       "    var button = $('<button class=\"btn btn-mini btn-primary\" href=\"#\" title=\"Stop Interaction\"><i class=\"fa fa-power-off icon-remove icon-large\"></i></button>');\n",
       "    button.click(function (evt) { fig.handle_close(fig, {}); } );\n",
       "    button.mouseover('Stop Interaction', toolbar_mouse_event);\n",
       "    buttongrp.append(button);\n",
       "    var titlebar = this.root.find($('.ui-dialog-titlebar'));\n",
       "    titlebar.prepend(buttongrp);\n",
       "}\n",
       "\n",
       "mpl.figure.prototype._root_extra_style = function(el){\n",
       "    var fig = this\n",
       "    el.on(\"remove\", function(){\n",
       "\tfig.close_ws(fig, {});\n",
       "    });\n",
       "}\n",
       "\n",
       "mpl.figure.prototype._canvas_extra_style = function(el){\n",
       "    // this is important to make the div 'focusable\n",
       "    el.attr('tabindex', 0)\n",
       "    // reach out to IPython and tell the keyboard manager to turn it's self\n",
       "    // off when our div gets focus\n",
       "\n",
       "    // location in version 3\n",
       "    if (IPython.notebook.keyboard_manager) {\n",
       "        IPython.notebook.keyboard_manager.register_events(el);\n",
       "    }\n",
       "    else {\n",
       "        // location in version 2\n",
       "        IPython.keyboard_manager.register_events(el);\n",
       "    }\n",
       "\n",
       "}\n",
       "\n",
       "mpl.figure.prototype._key_event_extra = function(event, name) {\n",
       "    var manager = IPython.notebook.keyboard_manager;\n",
       "    if (!manager)\n",
       "        manager = IPython.keyboard_manager;\n",
       "\n",
       "    // Check for shift+enter\n",
       "    if (event.shiftKey && event.which == 13) {\n",
       "        this.canvas_div.blur();\n",
       "        event.shiftKey = false;\n",
       "        // Send a \"J\" for go to next cell\n",
       "        event.which = 74;\n",
       "        event.keyCode = 74;\n",
       "        manager.command_mode();\n",
       "        manager.handle_keydown(event);\n",
       "    }\n",
       "}\n",
       "\n",
       "mpl.figure.prototype.handle_save = function(fig, msg) {\n",
       "    fig.ondownload(fig, null);\n",
       "}\n",
       "\n",
       "\n",
       "mpl.find_output_cell = function(html_output) {\n",
       "    // Return the cell and output element which can be found *uniquely* in the notebook.\n",
       "    // Note - this is a bit hacky, but it is done because the \"notebook_saving.Notebook\"\n",
       "    // IPython event is triggered only after the cells have been serialised, which for\n",
       "    // our purposes (turning an active figure into a static one), is too late.\n",
       "    var cells = IPython.notebook.get_cells();\n",
       "    var ncells = cells.length;\n",
       "    for (var i=0; i<ncells; i++) {\n",
       "        var cell = cells[i];\n",
       "        if (cell.cell_type === 'code'){\n",
       "            for (var j=0; j<cell.output_area.outputs.length; j++) {\n",
       "                var data = cell.output_area.outputs[j];\n",
       "                if (data.data) {\n",
       "                    // IPython >= 3 moved mimebundle to data attribute of output\n",
       "                    data = data.data;\n",
       "                }\n",
       "                if (data['text/html'] == html_output) {\n",
       "                    return [cell, data, j];\n",
       "                }\n",
       "            }\n",
       "        }\n",
       "    }\n",
       "}\n",
       "\n",
       "// Register the function which deals with the matplotlib target/channel.\n",
       "// The kernel may be null if the page has been refreshed.\n",
       "if (IPython.notebook.kernel != null) {\n",
       "    IPython.notebook.kernel.comm_manager.register_target('matplotlib', mpl.mpl_figure_comm);\n",
       "}\n"
      ],
      "text/plain": [
       "<IPython.core.display.Javascript object>"
      ]
     },
     "metadata": {},
     "output_type": "display_data"
    },
    {
     "data": {
      "text/html": [
       "<img src=\"data:image/png;base64,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\" width=\"640\">"
      ],
      "text/plain": [
       "<IPython.core.display.HTML object>"
      ]
     },
     "metadata": {},
     "output_type": "display_data"
    }
   ],
   "source": [
    "%matplotlib notebook\n",
    "p1_range     = np.linspace(0., 0.25, N)\n",
    "sir_model_2.cutVariance(p1_range)"
   ]
  },
  {
   "cell_type": "markdown",
   "metadata": {},
   "source": [
    "#### Initilisation Model 3 (Infected Fraction vs Immune Fraction)"
   ]
  },
  {
   "cell_type": "code",
   "execution_count": 3,
   "metadata": {},
   "outputs": [],
   "source": [
    "N           = 20                            # lattice size\n",
    "p1, p2, p3  = 0.5, 0.5, 0.5                 # p for visualisation\n",
    "S0, I0, R0  = 0.1, 0.4, 0.5                 # initial fraction of S, I, R\n",
    "equistep    = 100                           # equilibrate sweep (No system equilibration in this case)\n",
    "calcstep    = 10000                         # measurement sweep\n",
    "factor      = int(calcstep/10)              # because of 'if (j%10 == 0):' in 'analyse' fn\n",
    "\n",
    "p = [p1, p2, p3]\n",
    "fraction = [S0, I0, R0]\n",
    "\n",
    "np.random.seed(0)\n",
    "# sir_model_3 = ca_utils.SIR(N, fraction, p, factor, equistep, calcstep)\n",
    "sir_model_3 = ca_utils_cy.SIR(N, fraction, p, factor, equistep, calcstep)"
   ]
  },
  {
   "cell_type": "markdown",
   "metadata": {},
   "source": [
    "- Method behavior\n",
    "    - Average Infected fraction $\\frac{<I>}{N}$ vs Fraction of Immunity, $\\frac{<R>}{N}$"
   ]
  },
  {
   "cell_type": "code",
   "execution_count": 4,
   "metadata": {
    "scrolled": true
   },
   "outputs": [
    {
     "data": {
      "application/vnd.jupyter.widget-view+json": {
       "model_id": "",
       "version_major": 2,
       "version_minor": 0
      },
      "text/plain": [
       "HBox(children=(IntProgress(value=1, bar_style='info', description='Immune Fraction', max=1, style=ProgressStyl…"
      ]
     },
     "metadata": {},
     "output_type": "display_data"
    },
    {
     "data": {
      "application/vnd.jupyter.widget-view+json": {
       "model_id": "",
       "version_major": 2,
       "version_minor": 0
      },
      "text/plain": [
       "HBox(children=(IntProgress(value=0, description='Measurement sweep', max=10000, style=ProgressStyle(descriptio…"
      ]
     },
     "metadata": {},
     "output_type": "display_data"
    },
    {
     "data": {
      "application/vnd.jupyter.widget-view+json": {
       "model_id": "",
       "version_major": 2,
       "version_minor": 0
      },
      "text/plain": [
       "HBox(children=(IntProgress(value=0, description='Measurement sweep', max=10000, style=ProgressStyle(descriptio…"
      ]
     },
     "metadata": {},
     "output_type": "display_data"
    },
    {
     "data": {
      "application/vnd.jupyter.widget-view+json": {
       "model_id": "",
       "version_major": 2,
       "version_minor": 0
      },
      "text/plain": [
       "HBox(children=(IntProgress(value=0, description='Measurement sweep', max=10000, style=ProgressStyle(descriptio…"
      ]
     },
     "metadata": {},
     "output_type": "display_data"
    },
    {
     "data": {
      "application/vnd.jupyter.widget-view+json": {
       "model_id": "",
       "version_major": 2,
       "version_minor": 0
      },
      "text/plain": [
       "HBox(children=(IntProgress(value=0, description='Measurement sweep', max=10000, style=ProgressStyle(descriptio…"
      ]
     },
     "metadata": {},
     "output_type": "display_data"
    },
    {
     "data": {
      "application/vnd.jupyter.widget-view+json": {
       "model_id": "",
       "version_major": 2,
       "version_minor": 0
      },
      "text/plain": [
       "HBox(children=(IntProgress(value=0, description='Measurement sweep', max=10000, style=ProgressStyle(descriptio…"
      ]
     },
     "metadata": {},
     "output_type": "display_data"
    },
    {
     "data": {
      "application/vnd.jupyter.widget-view+json": {
       "model_id": "",
       "version_major": 2,
       "version_minor": 0
      },
      "text/plain": [
       "HBox(children=(IntProgress(value=0, description='Measurement sweep', max=10000, style=ProgressStyle(descriptio…"
      ]
     },
     "metadata": {},
     "output_type": "display_data"
    },
    {
     "data": {
      "application/vnd.jupyter.widget-view+json": {
       "model_id": "",
       "version_major": 2,
       "version_minor": 0
      },
      "text/plain": [
       "HBox(children=(IntProgress(value=0, description='Measurement sweep', max=10000, style=ProgressStyle(descriptio…"
      ]
     },
     "metadata": {},
     "output_type": "display_data"
    },
    {
     "data": {
      "application/vnd.jupyter.widget-view+json": {
       "model_id": "",
       "version_major": 2,
       "version_minor": 0
      },
      "text/plain": [
       "HBox(children=(IntProgress(value=0, description='Measurement sweep', max=10000, style=ProgressStyle(descriptio…"
      ]
     },
     "metadata": {},
     "output_type": "display_data"
    },
    {
     "data": {
      "application/vnd.jupyter.widget-view+json": {
       "model_id": "",
       "version_major": 2,
       "version_minor": 0
      },
      "text/plain": [
       "HBox(children=(IntProgress(value=0, description='Measurement sweep', max=10000, style=ProgressStyle(descriptio…"
      ]
     },
     "metadata": {},
     "output_type": "display_data"
    },
    {
     "data": {
      "application/vnd.jupyter.widget-view+json": {
       "model_id": "",
       "version_major": 2,
       "version_minor": 0
      },
      "text/plain": [
       "HBox(children=(IntProgress(value=0, description='Measurement sweep', max=10000, style=ProgressStyle(descriptio…"
      ]
     },
     "metadata": {},
     "output_type": "display_data"
    },
    {
     "data": {
      "application/vnd.jupyter.widget-view+json": {
       "model_id": "",
       "version_major": 2,
       "version_minor": 0
      },
      "text/plain": [
       "HBox(children=(IntProgress(value=0, description='Measurement sweep', max=10000, style=ProgressStyle(descriptio…"
      ]
     },
     "metadata": {},
     "output_type": "display_data"
    },
    {
     "data": {
      "application/vnd.jupyter.widget-view+json": {
       "model_id": "",
       "version_major": 2,
       "version_minor": 0
      },
      "text/plain": [
       "HBox(children=(IntProgress(value=0, description='Measurement sweep', max=10000, style=ProgressStyle(descriptio…"
      ]
     },
     "metadata": {},
     "output_type": "display_data"
    },
    {
     "data": {
      "application/vnd.jupyter.widget-view+json": {
       "model_id": "",
       "version_major": 2,
       "version_minor": 0
      },
      "text/plain": [
       "HBox(children=(IntProgress(value=0, description='Measurement sweep', max=10000, style=ProgressStyle(descriptio…"
      ]
     },
     "metadata": {},
     "output_type": "display_data"
    },
    {
     "data": {
      "application/vnd.jupyter.widget-view+json": {
       "model_id": "",
       "version_major": 2,
       "version_minor": 0
      },
      "text/plain": [
       "HBox(children=(IntProgress(value=0, description='Measurement sweep', max=10000, style=ProgressStyle(descriptio…"
      ]
     },
     "metadata": {},
     "output_type": "display_data"
    },
    {
     "data": {
      "application/vnd.jupyter.widget-view+json": {
       "model_id": "",
       "version_major": 2,
       "version_minor": 0
      },
      "text/plain": [
       "HBox(children=(IntProgress(value=0, description='Measurement sweep', max=10000, style=ProgressStyle(descriptio…"
      ]
     },
     "metadata": {},
     "output_type": "display_data"
    },
    {
     "data": {
      "application/vnd.jupyter.widget-view+json": {
       "model_id": "",
       "version_major": 2,
       "version_minor": 0
      },
      "text/plain": [
       "HBox(children=(IntProgress(value=0, description='Measurement sweep', max=10000, style=ProgressStyle(descriptio…"
      ]
     },
     "metadata": {},
     "output_type": "display_data"
    },
    {
     "data": {
      "application/vnd.jupyter.widget-view+json": {
       "model_id": "",
       "version_major": 2,
       "version_minor": 0
      },
      "text/plain": [
       "HBox(children=(IntProgress(value=0, description='Measurement sweep', max=10000, style=ProgressStyle(descriptio…"
      ]
     },
     "metadata": {},
     "output_type": "display_data"
    },
    {
     "data": {
      "application/vnd.jupyter.widget-view+json": {
       "model_id": "",
       "version_major": 2,
       "version_minor": 0
      },
      "text/plain": [
       "HBox(children=(IntProgress(value=0, description='Measurement sweep', max=10000, style=ProgressStyle(descriptio…"
      ]
     },
     "metadata": {},
     "output_type": "display_data"
    },
    {
     "data": {
      "application/vnd.jupyter.widget-view+json": {
       "model_id": "",
       "version_major": 2,
       "version_minor": 0
      },
      "text/plain": [
       "HBox(children=(IntProgress(value=0, description='Measurement sweep', max=10000, style=ProgressStyle(descriptio…"
      ]
     },
     "metadata": {},
     "output_type": "display_data"
    },
    {
     "data": {
      "application/vnd.jupyter.widget-view+json": {
       "model_id": "",
       "version_major": 2,
       "version_minor": 0
      },
      "text/plain": [
       "HBox(children=(IntProgress(value=0, description='Measurement sweep', max=10000, style=ProgressStyle(descriptio…"
      ]
     },
     "metadata": {},
     "output_type": "display_data"
    },
    {
     "name": "stdout",
     "output_type": "stream",
     "text": [
      "\r"
     ]
    },
    {
     "data": {
      "application/javascript": [
       "/* Put everything inside the global mpl namespace */\n",
       "window.mpl = {};\n",
       "\n",
       "\n",
       "mpl.get_websocket_type = function() {\n",
       "    if (typeof(WebSocket) !== 'undefined') {\n",
       "        return WebSocket;\n",
       "    } else if (typeof(MozWebSocket) !== 'undefined') {\n",
       "        return MozWebSocket;\n",
       "    } else {\n",
       "        alert('Your browser does not have WebSocket support.' +\n",
       "              'Please try Chrome, Safari or Firefox ≥ 6. ' +\n",
       "              'Firefox 4 and 5 are also supported but you ' +\n",
       "              'have to enable WebSockets in about:config.');\n",
       "    };\n",
       "}\n",
       "\n",
       "mpl.figure = function(figure_id, websocket, ondownload, parent_element) {\n",
       "    this.id = figure_id;\n",
       "\n",
       "    this.ws = websocket;\n",
       "\n",
       "    this.supports_binary = (this.ws.binaryType != undefined);\n",
       "\n",
       "    if (!this.supports_binary) {\n",
       "        var warnings = document.getElementById(\"mpl-warnings\");\n",
       "        if (warnings) {\n",
       "            warnings.style.display = 'block';\n",
       "            warnings.textContent = (\n",
       "                \"This browser does not support binary websocket messages. \" +\n",
       "                    \"Performance may be slow.\");\n",
       "        }\n",
       "    }\n",
       "\n",
       "    this.imageObj = new Image();\n",
       "\n",
       "    this.context = undefined;\n",
       "    this.message = undefined;\n",
       "    this.canvas = undefined;\n",
       "    this.rubberband_canvas = undefined;\n",
       "    this.rubberband_context = undefined;\n",
       "    this.format_dropdown = undefined;\n",
       "\n",
       "    this.image_mode = 'full';\n",
       "\n",
       "    this.root = $('<div/>');\n",
       "    this._root_extra_style(this.root)\n",
       "    this.root.attr('style', 'display: inline-block');\n",
       "\n",
       "    $(parent_element).append(this.root);\n",
       "\n",
       "    this._init_header(this);\n",
       "    this._init_canvas(this);\n",
       "    this._init_toolbar(this);\n",
       "\n",
       "    var fig = this;\n",
       "\n",
       "    this.waiting = false;\n",
       "\n",
       "    this.ws.onopen =  function () {\n",
       "            fig.send_message(\"supports_binary\", {value: fig.supports_binary});\n",
       "            fig.send_message(\"send_image_mode\", {});\n",
       "            if (mpl.ratio != 1) {\n",
       "                fig.send_message(\"set_dpi_ratio\", {'dpi_ratio': mpl.ratio});\n",
       "            }\n",
       "            fig.send_message(\"refresh\", {});\n",
       "        }\n",
       "\n",
       "    this.imageObj.onload = function() {\n",
       "            if (fig.image_mode == 'full') {\n",
       "                // Full images could contain transparency (where diff images\n",
       "                // almost always do), so we need to clear the canvas so that\n",
       "                // there is no ghosting.\n",
       "                fig.context.clearRect(0, 0, fig.canvas.width, fig.canvas.height);\n",
       "            }\n",
       "            fig.context.drawImage(fig.imageObj, 0, 0);\n",
       "        };\n",
       "\n",
       "    this.imageObj.onunload = function() {\n",
       "        fig.ws.close();\n",
       "    }\n",
       "\n",
       "    this.ws.onmessage = this._make_on_message_function(this);\n",
       "\n",
       "    this.ondownload = ondownload;\n",
       "}\n",
       "\n",
       "mpl.figure.prototype._init_header = function() {\n",
       "    var titlebar = $(\n",
       "        '<div class=\"ui-dialog-titlebar ui-widget-header ui-corner-all ' +\n",
       "        'ui-helper-clearfix\"/>');\n",
       "    var titletext = $(\n",
       "        '<div class=\"ui-dialog-title\" style=\"width: 100%; ' +\n",
       "        'text-align: center; padding: 3px;\"/>');\n",
       "    titlebar.append(titletext)\n",
       "    this.root.append(titlebar);\n",
       "    this.header = titletext[0];\n",
       "}\n",
       "\n",
       "\n",
       "\n",
       "mpl.figure.prototype._canvas_extra_style = function(canvas_div) {\n",
       "\n",
       "}\n",
       "\n",
       "\n",
       "mpl.figure.prototype._root_extra_style = function(canvas_div) {\n",
       "\n",
       "}\n",
       "\n",
       "mpl.figure.prototype._init_canvas = function() {\n",
       "    var fig = this;\n",
       "\n",
       "    var canvas_div = $('<div/>');\n",
       "\n",
       "    canvas_div.attr('style', 'position: relative; clear: both; outline: 0');\n",
       "\n",
       "    function canvas_keyboard_event(event) {\n",
       "        return fig.key_event(event, event['data']);\n",
       "    }\n",
       "\n",
       "    canvas_div.keydown('key_press', canvas_keyboard_event);\n",
       "    canvas_div.keyup('key_release', canvas_keyboard_event);\n",
       "    this.canvas_div = canvas_div\n",
       "    this._canvas_extra_style(canvas_div)\n",
       "    this.root.append(canvas_div);\n",
       "\n",
       "    var canvas = $('<canvas/>');\n",
       "    canvas.addClass('mpl-canvas');\n",
       "    canvas.attr('style', \"left: 0; top: 0; z-index: 0; outline: 0\")\n",
       "\n",
       "    this.canvas = canvas[0];\n",
       "    this.context = canvas[0].getContext(\"2d\");\n",
       "\n",
       "    var backingStore = this.context.backingStorePixelRatio ||\n",
       "\tthis.context.webkitBackingStorePixelRatio ||\n",
       "\tthis.context.mozBackingStorePixelRatio ||\n",
       "\tthis.context.msBackingStorePixelRatio ||\n",
       "\tthis.context.oBackingStorePixelRatio ||\n",
       "\tthis.context.backingStorePixelRatio || 1;\n",
       "\n",
       "    mpl.ratio = (window.devicePixelRatio || 1) / backingStore;\n",
       "\n",
       "    var rubberband = $('<canvas/>');\n",
       "    rubberband.attr('style', \"position: absolute; left: 0; top: 0; z-index: 1;\")\n",
       "\n",
       "    var pass_mouse_events = true;\n",
       "\n",
       "    canvas_div.resizable({\n",
       "        start: function(event, ui) {\n",
       "            pass_mouse_events = false;\n",
       "        },\n",
       "        resize: function(event, ui) {\n",
       "            fig.request_resize(ui.size.width, ui.size.height);\n",
       "        },\n",
       "        stop: function(event, ui) {\n",
       "            pass_mouse_events = true;\n",
       "            fig.request_resize(ui.size.width, ui.size.height);\n",
       "        },\n",
       "    });\n",
       "\n",
       "    function mouse_event_fn(event) {\n",
       "        if (pass_mouse_events)\n",
       "            return fig.mouse_event(event, event['data']);\n",
       "    }\n",
       "\n",
       "    rubberband.mousedown('button_press', mouse_event_fn);\n",
       "    rubberband.mouseup('button_release', mouse_event_fn);\n",
       "    // Throttle sequential mouse events to 1 every 20ms.\n",
       "    rubberband.mousemove('motion_notify', mouse_event_fn);\n",
       "\n",
       "    rubberband.mouseenter('figure_enter', mouse_event_fn);\n",
       "    rubberband.mouseleave('figure_leave', mouse_event_fn);\n",
       "\n",
       "    canvas_div.on(\"wheel\", function (event) {\n",
       "        event = event.originalEvent;\n",
       "        event['data'] = 'scroll'\n",
       "        if (event.deltaY < 0) {\n",
       "            event.step = 1;\n",
       "        } else {\n",
       "            event.step = -1;\n",
       "        }\n",
       "        mouse_event_fn(event);\n",
       "    });\n",
       "\n",
       "    canvas_div.append(canvas);\n",
       "    canvas_div.append(rubberband);\n",
       "\n",
       "    this.rubberband = rubberband;\n",
       "    this.rubberband_canvas = rubberband[0];\n",
       "    this.rubberband_context = rubberband[0].getContext(\"2d\");\n",
       "    this.rubberband_context.strokeStyle = \"#000000\";\n",
       "\n",
       "    this._resize_canvas = function(width, height) {\n",
       "        // Keep the size of the canvas, canvas container, and rubber band\n",
       "        // canvas in synch.\n",
       "        canvas_div.css('width', width)\n",
       "        canvas_div.css('height', height)\n",
       "\n",
       "        canvas.attr('width', width * mpl.ratio);\n",
       "        canvas.attr('height', height * mpl.ratio);\n",
       "        canvas.attr('style', 'width: ' + width + 'px; height: ' + height + 'px;');\n",
       "\n",
       "        rubberband.attr('width', width);\n",
       "        rubberband.attr('height', height);\n",
       "    }\n",
       "\n",
       "    // Set the figure to an initial 600x600px, this will subsequently be updated\n",
       "    // upon first draw.\n",
       "    this._resize_canvas(600, 600);\n",
       "\n",
       "    // Disable right mouse context menu.\n",
       "    $(this.rubberband_canvas).bind(\"contextmenu\",function(e){\n",
       "        return false;\n",
       "    });\n",
       "\n",
       "    function set_focus () {\n",
       "        canvas.focus();\n",
       "        canvas_div.focus();\n",
       "    }\n",
       "\n",
       "    window.setTimeout(set_focus, 100);\n",
       "}\n",
       "\n",
       "mpl.figure.prototype._init_toolbar = function() {\n",
       "    var fig = this;\n",
       "\n",
       "    var nav_element = $('<div/>')\n",
       "    nav_element.attr('style', 'width: 100%');\n",
       "    this.root.append(nav_element);\n",
       "\n",
       "    // Define a callback function for later on.\n",
       "    function toolbar_event(event) {\n",
       "        return fig.toolbar_button_onclick(event['data']);\n",
       "    }\n",
       "    function toolbar_mouse_event(event) {\n",
       "        return fig.toolbar_button_onmouseover(event['data']);\n",
       "    }\n",
       "\n",
       "    for(var toolbar_ind in mpl.toolbar_items) {\n",
       "        var name = mpl.toolbar_items[toolbar_ind][0];\n",
       "        var tooltip = mpl.toolbar_items[toolbar_ind][1];\n",
       "        var image = mpl.toolbar_items[toolbar_ind][2];\n",
       "        var method_name = mpl.toolbar_items[toolbar_ind][3];\n",
       "\n",
       "        if (!name) {\n",
       "            // put a spacer in here.\n",
       "            continue;\n",
       "        }\n",
       "        var button = $('<button/>');\n",
       "        button.addClass('ui-button ui-widget ui-state-default ui-corner-all ' +\n",
       "                        'ui-button-icon-only');\n",
       "        button.attr('role', 'button');\n",
       "        button.attr('aria-disabled', 'false');\n",
       "        button.click(method_name, toolbar_event);\n",
       "        button.mouseover(tooltip, toolbar_mouse_event);\n",
       "\n",
       "        var icon_img = $('<span/>');\n",
       "        icon_img.addClass('ui-button-icon-primary ui-icon');\n",
       "        icon_img.addClass(image);\n",
       "        icon_img.addClass('ui-corner-all');\n",
       "\n",
       "        var tooltip_span = $('<span/>');\n",
       "        tooltip_span.addClass('ui-button-text');\n",
       "        tooltip_span.html(tooltip);\n",
       "\n",
       "        button.append(icon_img);\n",
       "        button.append(tooltip_span);\n",
       "\n",
       "        nav_element.append(button);\n",
       "    }\n",
       "\n",
       "    var fmt_picker_span = $('<span/>');\n",
       "\n",
       "    var fmt_picker = $('<select/>');\n",
       "    fmt_picker.addClass('mpl-toolbar-option ui-widget ui-widget-content');\n",
       "    fmt_picker_span.append(fmt_picker);\n",
       "    nav_element.append(fmt_picker_span);\n",
       "    this.format_dropdown = fmt_picker[0];\n",
       "\n",
       "    for (var ind in mpl.extensions) {\n",
       "        var fmt = mpl.extensions[ind];\n",
       "        var option = $(\n",
       "            '<option/>', {selected: fmt === mpl.default_extension}).html(fmt);\n",
       "        fmt_picker.append(option)\n",
       "    }\n",
       "\n",
       "    // Add hover states to the ui-buttons\n",
       "    $( \".ui-button\" ).hover(\n",
       "        function() { $(this).addClass(\"ui-state-hover\");},\n",
       "        function() { $(this).removeClass(\"ui-state-hover\");}\n",
       "    );\n",
       "\n",
       "    var status_bar = $('<span class=\"mpl-message\"/>');\n",
       "    nav_element.append(status_bar);\n",
       "    this.message = status_bar[0];\n",
       "}\n",
       "\n",
       "mpl.figure.prototype.request_resize = function(x_pixels, y_pixels) {\n",
       "    // Request matplotlib to resize the figure. Matplotlib will then trigger a resize in the client,\n",
       "    // which will in turn request a refresh of the image.\n",
       "    this.send_message('resize', {'width': x_pixels, 'height': y_pixels});\n",
       "}\n",
       "\n",
       "mpl.figure.prototype.send_message = function(type, properties) {\n",
       "    properties['type'] = type;\n",
       "    properties['figure_id'] = this.id;\n",
       "    this.ws.send(JSON.stringify(properties));\n",
       "}\n",
       "\n",
       "mpl.figure.prototype.send_draw_message = function() {\n",
       "    if (!this.waiting) {\n",
       "        this.waiting = true;\n",
       "        this.ws.send(JSON.stringify({type: \"draw\", figure_id: this.id}));\n",
       "    }\n",
       "}\n",
       "\n",
       "\n",
       "mpl.figure.prototype.handle_save = function(fig, msg) {\n",
       "    var format_dropdown = fig.format_dropdown;\n",
       "    var format = format_dropdown.options[format_dropdown.selectedIndex].value;\n",
       "    fig.ondownload(fig, format);\n",
       "}\n",
       "\n",
       "\n",
       "mpl.figure.prototype.handle_resize = function(fig, msg) {\n",
       "    var size = msg['size'];\n",
       "    if (size[0] != fig.canvas.width || size[1] != fig.canvas.height) {\n",
       "        fig._resize_canvas(size[0], size[1]);\n",
       "        fig.send_message(\"refresh\", {});\n",
       "    };\n",
       "}\n",
       "\n",
       "mpl.figure.prototype.handle_rubberband = function(fig, msg) {\n",
       "    var x0 = msg['x0'] / mpl.ratio;\n",
       "    var y0 = (fig.canvas.height - msg['y0']) / mpl.ratio;\n",
       "    var x1 = msg['x1'] / mpl.ratio;\n",
       "    var y1 = (fig.canvas.height - msg['y1']) / mpl.ratio;\n",
       "    x0 = Math.floor(x0) + 0.5;\n",
       "    y0 = Math.floor(y0) + 0.5;\n",
       "    x1 = Math.floor(x1) + 0.5;\n",
       "    y1 = Math.floor(y1) + 0.5;\n",
       "    var min_x = Math.min(x0, x1);\n",
       "    var min_y = Math.min(y0, y1);\n",
       "    var width = Math.abs(x1 - x0);\n",
       "    var height = Math.abs(y1 - y0);\n",
       "\n",
       "    fig.rubberband_context.clearRect(\n",
       "        0, 0, fig.canvas.width, fig.canvas.height);\n",
       "\n",
       "    fig.rubberband_context.strokeRect(min_x, min_y, width, height);\n",
       "}\n",
       "\n",
       "mpl.figure.prototype.handle_figure_label = function(fig, msg) {\n",
       "    // Updates the figure title.\n",
       "    fig.header.textContent = msg['label'];\n",
       "}\n",
       "\n",
       "mpl.figure.prototype.handle_cursor = function(fig, msg) {\n",
       "    var cursor = msg['cursor'];\n",
       "    switch(cursor)\n",
       "    {\n",
       "    case 0:\n",
       "        cursor = 'pointer';\n",
       "        break;\n",
       "    case 1:\n",
       "        cursor = 'default';\n",
       "        break;\n",
       "    case 2:\n",
       "        cursor = 'crosshair';\n",
       "        break;\n",
       "    case 3:\n",
       "        cursor = 'move';\n",
       "        break;\n",
       "    }\n",
       "    fig.rubberband_canvas.style.cursor = cursor;\n",
       "}\n",
       "\n",
       "mpl.figure.prototype.handle_message = function(fig, msg) {\n",
       "    fig.message.textContent = msg['message'];\n",
       "}\n",
       "\n",
       "mpl.figure.prototype.handle_draw = function(fig, msg) {\n",
       "    // Request the server to send over a new figure.\n",
       "    fig.send_draw_message();\n",
       "}\n",
       "\n",
       "mpl.figure.prototype.handle_image_mode = function(fig, msg) {\n",
       "    fig.image_mode = msg['mode'];\n",
       "}\n",
       "\n",
       "mpl.figure.prototype.updated_canvas_event = function() {\n",
       "    // Called whenever the canvas gets updated.\n",
       "    this.send_message(\"ack\", {});\n",
       "}\n",
       "\n",
       "// A function to construct a web socket function for onmessage handling.\n",
       "// Called in the figure constructor.\n",
       "mpl.figure.prototype._make_on_message_function = function(fig) {\n",
       "    return function socket_on_message(evt) {\n",
       "        if (evt.data instanceof Blob) {\n",
       "            /* FIXME: We get \"Resource interpreted as Image but\n",
       "             * transferred with MIME type text/plain:\" errors on\n",
       "             * Chrome.  But how to set the MIME type?  It doesn't seem\n",
       "             * to be part of the websocket stream */\n",
       "            evt.data.type = \"image/png\";\n",
       "\n",
       "            /* Free the memory for the previous frames */\n",
       "            if (fig.imageObj.src) {\n",
       "                (window.URL || window.webkitURL).revokeObjectURL(\n",
       "                    fig.imageObj.src);\n",
       "            }\n",
       "\n",
       "            fig.imageObj.src = (window.URL || window.webkitURL).createObjectURL(\n",
       "                evt.data);\n",
       "            fig.updated_canvas_event();\n",
       "            fig.waiting = false;\n",
       "            return;\n",
       "        }\n",
       "        else if (typeof evt.data === 'string' && evt.data.slice(0, 21) == \"data:image/png;base64\") {\n",
       "            fig.imageObj.src = evt.data;\n",
       "            fig.updated_canvas_event();\n",
       "            fig.waiting = false;\n",
       "            return;\n",
       "        }\n",
       "\n",
       "        var msg = JSON.parse(evt.data);\n",
       "        var msg_type = msg['type'];\n",
       "\n",
       "        // Call the  \"handle_{type}\" callback, which takes\n",
       "        // the figure and JSON message as its only arguments.\n",
       "        try {\n",
       "            var callback = fig[\"handle_\" + msg_type];\n",
       "        } catch (e) {\n",
       "            console.log(\"No handler for the '\" + msg_type + \"' message type: \", msg);\n",
       "            return;\n",
       "        }\n",
       "\n",
       "        if (callback) {\n",
       "            try {\n",
       "                // console.log(\"Handling '\" + msg_type + \"' message: \", msg);\n",
       "                callback(fig, msg);\n",
       "            } catch (e) {\n",
       "                console.log(\"Exception inside the 'handler_\" + msg_type + \"' callback:\", e, e.stack, msg);\n",
       "            }\n",
       "        }\n",
       "    };\n",
       "}\n",
       "\n",
       "// from http://stackoverflow.com/questions/1114465/getting-mouse-location-in-canvas\n",
       "mpl.findpos = function(e) {\n",
       "    //this section is from http://www.quirksmode.org/js/events_properties.html\n",
       "    var targ;\n",
       "    if (!e)\n",
       "        e = window.event;\n",
       "    if (e.target)\n",
       "        targ = e.target;\n",
       "    else if (e.srcElement)\n",
       "        targ = e.srcElement;\n",
       "    if (targ.nodeType == 3) // defeat Safari bug\n",
       "        targ = targ.parentNode;\n",
       "\n",
       "    // jQuery normalizes the pageX and pageY\n",
       "    // pageX,Y are the mouse positions relative to the document\n",
       "    // offset() returns the position of the element relative to the document\n",
       "    var x = e.pageX - $(targ).offset().left;\n",
       "    var y = e.pageY - $(targ).offset().top;\n",
       "\n",
       "    return {\"x\": x, \"y\": y};\n",
       "};\n",
       "\n",
       "/*\n",
       " * return a copy of an object with only non-object keys\n",
       " * we need this to avoid circular references\n",
       " * http://stackoverflow.com/a/24161582/3208463\n",
       " */\n",
       "function simpleKeys (original) {\n",
       "  return Object.keys(original).reduce(function (obj, key) {\n",
       "    if (typeof original[key] !== 'object')\n",
       "        obj[key] = original[key]\n",
       "    return obj;\n",
       "  }, {});\n",
       "}\n",
       "\n",
       "mpl.figure.prototype.mouse_event = function(event, name) {\n",
       "    var canvas_pos = mpl.findpos(event)\n",
       "\n",
       "    if (name === 'button_press')\n",
       "    {\n",
       "        this.canvas.focus();\n",
       "        this.canvas_div.focus();\n",
       "    }\n",
       "\n",
       "    var x = canvas_pos.x * mpl.ratio;\n",
       "    var y = canvas_pos.y * mpl.ratio;\n",
       "\n",
       "    this.send_message(name, {x: x, y: y, button: event.button,\n",
       "                             step: event.step,\n",
       "                             guiEvent: simpleKeys(event)});\n",
       "\n",
       "    /* This prevents the web browser from automatically changing to\n",
       "     * the text insertion cursor when the button is pressed.  We want\n",
       "     * to control all of the cursor setting manually through the\n",
       "     * 'cursor' event from matplotlib */\n",
       "    event.preventDefault();\n",
       "    return false;\n",
       "}\n",
       "\n",
       "mpl.figure.prototype._key_event_extra = function(event, name) {\n",
       "    // Handle any extra behaviour associated with a key event\n",
       "}\n",
       "\n",
       "mpl.figure.prototype.key_event = function(event, name) {\n",
       "\n",
       "    // Prevent repeat events\n",
       "    if (name == 'key_press')\n",
       "    {\n",
       "        if (event.which === this._key)\n",
       "            return;\n",
       "        else\n",
       "            this._key = event.which;\n",
       "    }\n",
       "    if (name == 'key_release')\n",
       "        this._key = null;\n",
       "\n",
       "    var value = '';\n",
       "    if (event.ctrlKey && event.which != 17)\n",
       "        value += \"ctrl+\";\n",
       "    if (event.altKey && event.which != 18)\n",
       "        value += \"alt+\";\n",
       "    if (event.shiftKey && event.which != 16)\n",
       "        value += \"shift+\";\n",
       "\n",
       "    value += 'k';\n",
       "    value += event.which.toString();\n",
       "\n",
       "    this._key_event_extra(event, name);\n",
       "\n",
       "    this.send_message(name, {key: value,\n",
       "                             guiEvent: simpleKeys(event)});\n",
       "    return false;\n",
       "}\n",
       "\n",
       "mpl.figure.prototype.toolbar_button_onclick = function(name) {\n",
       "    if (name == 'download') {\n",
       "        this.handle_save(this, null);\n",
       "    } else {\n",
       "        this.send_message(\"toolbar_button\", {name: name});\n",
       "    }\n",
       "};\n",
       "\n",
       "mpl.figure.prototype.toolbar_button_onmouseover = function(tooltip) {\n",
       "    this.message.textContent = tooltip;\n",
       "};\n",
       "mpl.toolbar_items = [[\"Home\", \"Reset original view\", \"fa fa-home icon-home\", \"home\"], [\"Back\", \"Back to previous view\", \"fa fa-arrow-left icon-arrow-left\", \"back\"], [\"Forward\", \"Forward to next view\", \"fa fa-arrow-right icon-arrow-right\", \"forward\"], [\"\", \"\", \"\", \"\"], [\"Pan\", \"Pan axes with left mouse, zoom with right\", \"fa fa-arrows icon-move\", \"pan\"], [\"Zoom\", \"Zoom to rectangle\", \"fa fa-square-o icon-check-empty\", \"zoom\"], [\"\", \"\", \"\", \"\"], [\"Download\", \"Download plot\", \"fa fa-floppy-o icon-save\", \"download\"]];\n",
       "\n",
       "mpl.extensions = [\"eps\", \"jpeg\", \"pdf\", \"png\", \"ps\", \"raw\", \"svg\", \"tif\"];\n",
       "\n",
       "mpl.default_extension = \"png\";var comm_websocket_adapter = function(comm) {\n",
       "    // Create a \"websocket\"-like object which calls the given IPython comm\n",
       "    // object with the appropriate methods. Currently this is a non binary\n",
       "    // socket, so there is still some room for performance tuning.\n",
       "    var ws = {};\n",
       "\n",
       "    ws.close = function() {\n",
       "        comm.close()\n",
       "    };\n",
       "    ws.send = function(m) {\n",
       "        //console.log('sending', m);\n",
       "        comm.send(m);\n",
       "    };\n",
       "    // Register the callback with on_msg.\n",
       "    comm.on_msg(function(msg) {\n",
       "        //console.log('receiving', msg['content']['data'], msg);\n",
       "        // Pass the mpl event to the overridden (by mpl) onmessage function.\n",
       "        ws.onmessage(msg['content']['data'])\n",
       "    });\n",
       "    return ws;\n",
       "}\n",
       "\n",
       "mpl.mpl_figure_comm = function(comm, msg) {\n",
       "    // This is the function which gets called when the mpl process\n",
       "    // starts-up an IPython Comm through the \"matplotlib\" channel.\n",
       "\n",
       "    var id = msg.content.data.id;\n",
       "    // Get hold of the div created by the display call when the Comm\n",
       "    // socket was opened in Python.\n",
       "    var element = $(\"#\" + id);\n",
       "    var ws_proxy = comm_websocket_adapter(comm)\n",
       "\n",
       "    function ondownload(figure, format) {\n",
       "        window.open(figure.imageObj.src);\n",
       "    }\n",
       "\n",
       "    var fig = new mpl.figure(id, ws_proxy,\n",
       "                           ondownload,\n",
       "                           element.get(0));\n",
       "\n",
       "    // Call onopen now - mpl needs it, as it is assuming we've passed it a real\n",
       "    // web socket which is closed, not our websocket->open comm proxy.\n",
       "    ws_proxy.onopen();\n",
       "\n",
       "    fig.parent_element = element.get(0);\n",
       "    fig.cell_info = mpl.find_output_cell(\"<div id='\" + id + \"'></div>\");\n",
       "    if (!fig.cell_info) {\n",
       "        console.error(\"Failed to find cell for figure\", id, fig);\n",
       "        return;\n",
       "    }\n",
       "\n",
       "    var output_index = fig.cell_info[2]\n",
       "    var cell = fig.cell_info[0];\n",
       "\n",
       "};\n",
       "\n",
       "mpl.figure.prototype.handle_close = function(fig, msg) {\n",
       "    var width = fig.canvas.width/mpl.ratio\n",
       "    fig.root.unbind('remove')\n",
       "\n",
       "    // Update the output cell to use the data from the current canvas.\n",
       "    fig.push_to_output();\n",
       "    var dataURL = fig.canvas.toDataURL();\n",
       "    // Re-enable the keyboard manager in IPython - without this line, in FF,\n",
       "    // the notebook keyboard shortcuts fail.\n",
       "    IPython.keyboard_manager.enable()\n",
       "    $(fig.parent_element).html('<img src=\"' + dataURL + '\" width=\"' + width + '\">');\n",
       "    fig.close_ws(fig, msg);\n",
       "}\n",
       "\n",
       "mpl.figure.prototype.close_ws = function(fig, msg){\n",
       "    fig.send_message('closing', msg);\n",
       "    // fig.ws.close()\n",
       "}\n",
       "\n",
       "mpl.figure.prototype.push_to_output = function(remove_interactive) {\n",
       "    // Turn the data on the canvas into data in the output cell.\n",
       "    var width = this.canvas.width/mpl.ratio\n",
       "    var dataURL = this.canvas.toDataURL();\n",
       "    this.cell_info[1]['text/html'] = '<img src=\"' + dataURL + '\" width=\"' + width + '\">';\n",
       "}\n",
       "\n",
       "mpl.figure.prototype.updated_canvas_event = function() {\n",
       "    // Tell IPython that the notebook contents must change.\n",
       "    IPython.notebook.set_dirty(true);\n",
       "    this.send_message(\"ack\", {});\n",
       "    var fig = this;\n",
       "    // Wait a second, then push the new image to the DOM so\n",
       "    // that it is saved nicely (might be nice to debounce this).\n",
       "    setTimeout(function () { fig.push_to_output() }, 1000);\n",
       "}\n",
       "\n",
       "mpl.figure.prototype._init_toolbar = function() {\n",
       "    var fig = this;\n",
       "\n",
       "    var nav_element = $('<div/>')\n",
       "    nav_element.attr('style', 'width: 100%');\n",
       "    this.root.append(nav_element);\n",
       "\n",
       "    // Define a callback function for later on.\n",
       "    function toolbar_event(event) {\n",
       "        return fig.toolbar_button_onclick(event['data']);\n",
       "    }\n",
       "    function toolbar_mouse_event(event) {\n",
       "        return fig.toolbar_button_onmouseover(event['data']);\n",
       "    }\n",
       "\n",
       "    for(var toolbar_ind in mpl.toolbar_items){\n",
       "        var name = mpl.toolbar_items[toolbar_ind][0];\n",
       "        var tooltip = mpl.toolbar_items[toolbar_ind][1];\n",
       "        var image = mpl.toolbar_items[toolbar_ind][2];\n",
       "        var method_name = mpl.toolbar_items[toolbar_ind][3];\n",
       "\n",
       "        if (!name) { continue; };\n",
       "\n",
       "        var button = $('<button class=\"btn btn-default\" href=\"#\" title=\"' + name + '\"><i class=\"fa ' + image + ' fa-lg\"></i></button>');\n",
       "        button.click(method_name, toolbar_event);\n",
       "        button.mouseover(tooltip, toolbar_mouse_event);\n",
       "        nav_element.append(button);\n",
       "    }\n",
       "\n",
       "    // Add the status bar.\n",
       "    var status_bar = $('<span class=\"mpl-message\" style=\"text-align:right; float: right;\"/>');\n",
       "    nav_element.append(status_bar);\n",
       "    this.message = status_bar[0];\n",
       "\n",
       "    // Add the close button to the window.\n",
       "    var buttongrp = $('<div class=\"btn-group inline pull-right\"></div>');\n",
       "    var button = $('<button class=\"btn btn-mini btn-primary\" href=\"#\" title=\"Stop Interaction\"><i class=\"fa fa-power-off icon-remove icon-large\"></i></button>');\n",
       "    button.click(function (evt) { fig.handle_close(fig, {}); } );\n",
       "    button.mouseover('Stop Interaction', toolbar_mouse_event);\n",
       "    buttongrp.append(button);\n",
       "    var titlebar = this.root.find($('.ui-dialog-titlebar'));\n",
       "    titlebar.prepend(buttongrp);\n",
       "}\n",
       "\n",
       "mpl.figure.prototype._root_extra_style = function(el){\n",
       "    var fig = this\n",
       "    el.on(\"remove\", function(){\n",
       "\tfig.close_ws(fig, {});\n",
       "    });\n",
       "}\n",
       "\n",
       "mpl.figure.prototype._canvas_extra_style = function(el){\n",
       "    // this is important to make the div 'focusable\n",
       "    el.attr('tabindex', 0)\n",
       "    // reach out to IPython and tell the keyboard manager to turn it's self\n",
       "    // off when our div gets focus\n",
       "\n",
       "    // location in version 3\n",
       "    if (IPython.notebook.keyboard_manager) {\n",
       "        IPython.notebook.keyboard_manager.register_events(el);\n",
       "    }\n",
       "    else {\n",
       "        // location in version 2\n",
       "        IPython.keyboard_manager.register_events(el);\n",
       "    }\n",
       "\n",
       "}\n",
       "\n",
       "mpl.figure.prototype._key_event_extra = function(event, name) {\n",
       "    var manager = IPython.notebook.keyboard_manager;\n",
       "    if (!manager)\n",
       "        manager = IPython.keyboard_manager;\n",
       "\n",
       "    // Check for shift+enter\n",
       "    if (event.shiftKey && event.which == 13) {\n",
       "        this.canvas_div.blur();\n",
       "        event.shiftKey = false;\n",
       "        // Send a \"J\" for go to next cell\n",
       "        event.which = 74;\n",
       "        event.keyCode = 74;\n",
       "        manager.command_mode();\n",
       "        manager.handle_keydown(event);\n",
       "    }\n",
       "}\n",
       "\n",
       "mpl.figure.prototype.handle_save = function(fig, msg) {\n",
       "    fig.ondownload(fig, null);\n",
       "}\n",
       "\n",
       "\n",
       "mpl.find_output_cell = function(html_output) {\n",
       "    // Return the cell and output element which can be found *uniquely* in the notebook.\n",
       "    // Note - this is a bit hacky, but it is done because the \"notebook_saving.Notebook\"\n",
       "    // IPython event is triggered only after the cells have been serialised, which for\n",
       "    // our purposes (turning an active figure into a static one), is too late.\n",
       "    var cells = IPython.notebook.get_cells();\n",
       "    var ncells = cells.length;\n",
       "    for (var i=0; i<ncells; i++) {\n",
       "        var cell = cells[i];\n",
       "        if (cell.cell_type === 'code'){\n",
       "            for (var j=0; j<cell.output_area.outputs.length; j++) {\n",
       "                var data = cell.output_area.outputs[j];\n",
       "                if (data.data) {\n",
       "                    // IPython >= 3 moved mimebundle to data attribute of output\n",
       "                    data = data.data;\n",
       "                }\n",
       "                if (data['text/html'] == html_output) {\n",
       "                    return [cell, data, j];\n",
       "                }\n",
       "            }\n",
       "        }\n",
       "    }\n",
       "}\n",
       "\n",
       "// Register the function which deals with the matplotlib target/channel.\n",
       "// The kernel may be null if the page has been refreshed.\n",
       "if (IPython.notebook.kernel != null) {\n",
       "    IPython.notebook.kernel.comm_manager.register_target('matplotlib', mpl.mpl_figure_comm);\n",
       "}\n"
      ],
      "text/plain": [
       "<IPython.core.display.Javascript object>"
      ]
     },
     "metadata": {},
     "output_type": "display_data"
    },
    {
     "data": {
      "text/html": [
       "<img src=\"data:image/png;base64,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\" width=\"640\">"
      ],
      "text/plain": [
       "<IPython.core.display.HTML object>"
      ]
     },
     "metadata": {},
     "output_type": "display_data"
    }
   ],
   "source": [
    "%matplotlib notebook\n",
    "sir_model_3.compare_infected_immune()"
   ]
  }
 ],
 "metadata": {
  "kernelspec": {
   "display_name": "Python 3",
   "language": "python",
   "name": "python3"
  },
  "language_info": {
   "codemirror_mode": {
    "name": "ipython",
    "version": 3
   },
   "file_extension": ".py",
   "mimetype": "text/x-python",
   "name": "python",
   "nbconvert_exporter": "python",
   "pygments_lexer": "ipython3",
   "version": "3.6.7"
  }
 },
 "nbformat": 4,
 "nbformat_minor": 2
}
