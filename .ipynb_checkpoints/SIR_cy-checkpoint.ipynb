{
 "cells": [
  {
   "cell_type": "markdown",
   "metadata": {},
   "source": [
    "#### Import required package"
   ]
  },
  {
   "cell_type": "code",
   "execution_count": 1,
   "metadata": {},
   "outputs": [],
   "source": [
    "from __future__ import division\n",
    "import numpy as np\n",
    "# import ca_utils_cy                           # cythonized python module\n",
    "import ca_utils                            # unoptimized python module\n",
    "import matplotlib.pyplot as plt"
   ]
  },
  {
   "cell_type": "code",
   "execution_count": 2,
   "metadata": {},
   "outputs": [],
   "source": [
    "plt.rcParams['figure.figsize'] = (5,5)"
   ]
  },
  {
   "cell_type": "markdown",
   "metadata": {},
   "source": [
    "#### Initilisation Model 1 (Visualisation)"
   ]
  },
  {
   "cell_type": "code",
   "execution_count": 3,
   "metadata": {},
   "outputs": [
    {
     "data": {
      "application/vnd.jupyter.widget-view+json": {
       "model_id": "a7633c81be3e4b79ae9719639a1a03c0",
       "version_major": 2,
       "version_minor": 0
      },
      "text/plain": [
       "HBox(children=(FloatProgress(value=0.0, max=458666.0), HTML(value='')))"
      ]
     },
     "metadata": {},
     "output_type": "display_data"
    },
    {
     "name": "stdout",
     "output_type": "stream",
     "text": [
      "\n"
     ]
    },
    {
     "ename": "AssertionError",
     "evalue": "None",
     "output_type": "error",
     "traceback": [
      "\u001b[0;31m---------------------------------------------------------------------------\u001b[0m",
      "\u001b[0;31mAssertionError\u001b[0m                            Traceback (most recent call last)",
      "\u001b[0;32m<ipython-input-3-2824e1c9b56e>\u001b[0m in \u001b[0;36m<module>\u001b[0;34m\u001b[0m\n\u001b[1;32m     10\u001b[0m \u001b[0;34m\u001b[0m\u001b[0m\n\u001b[1;32m     11\u001b[0m \u001b[0mnp\u001b[0m\u001b[0;34m.\u001b[0m\u001b[0mrandom\u001b[0m\u001b[0;34m.\u001b[0m\u001b[0mseed\u001b[0m\u001b[0;34m(\u001b[0m\u001b[0;36m0\u001b[0m\u001b[0;34m)\u001b[0m\u001b[0;34m\u001b[0m\u001b[0;34m\u001b[0m\u001b[0m\n\u001b[0;32m---> 12\u001b[0;31m \u001b[0msir_model\u001b[0m \u001b[0;34m=\u001b[0m \u001b[0mca_utils\u001b[0m\u001b[0;34m.\u001b[0m\u001b[0mSIR\u001b[0m\u001b[0;34m(\u001b[0m\u001b[0mN\u001b[0m\u001b[0;34m,\u001b[0m \u001b[0mfraction\u001b[0m\u001b[0;34m,\u001b[0m \u001b[0mp\u001b[0m\u001b[0;34m,\u001b[0m \u001b[0mfactor\u001b[0m\u001b[0;34m,\u001b[0m \u001b[0mequistep\u001b[0m\u001b[0;34m,\u001b[0m \u001b[0mcalcstep\u001b[0m\u001b[0;34m)\u001b[0m\u001b[0;34m\u001b[0m\u001b[0;34m\u001b[0m\u001b[0m\n\u001b[0m",
      "\u001b[0;32m~/lab/SIR-model/ca_utils.py\u001b[0m in \u001b[0;36m__init__\u001b[0;34m(self, N, fraction, p, factor, equistep, calcstep)\u001b[0m\n\u001b[1;32m     45\u001b[0m         \u001b[0mself\u001b[0m\u001b[0;34m.\u001b[0m\u001b[0mgrid\u001b[0m       \u001b[0;34m=\u001b[0m \u001b[0mself\u001b[0m\u001b[0;34m.\u001b[0m\u001b[0mpickup_grid\u001b[0m\u001b[0;34m(\u001b[0m\u001b[0;34m)\u001b[0m\u001b[0;34m\u001b[0m\u001b[0;34m\u001b[0m\u001b[0m\n\u001b[1;32m     46\u001b[0m \u001b[0;31m#         self.grid       = np.random.choice(self.vals, N*N, p=[self.ini_S, self.ini_I, self.ini_R]).reshape(N, N)\u001b[0m\u001b[0;34m\u001b[0m\u001b[0;34m\u001b[0m\u001b[0;34m\u001b[0m\u001b[0m\n\u001b[0;32m---> 47\u001b[0;31m         \u001b[0;32massert\u001b[0m\u001b[0;34m(\u001b[0m\u001b[0mtype\u001b[0m\u001b[0;34m(\u001b[0m\u001b[0mself\u001b[0m\u001b[0;34m.\u001b[0m\u001b[0mgrid\u001b[0m\u001b[0;34m)\u001b[0m\u001b[0;34m==\u001b[0m\u001b[0;32mNone\u001b[0m\u001b[0;34m)\u001b[0m\u001b[0;34m,\u001b[0m\u001b[0;34m'{}'\u001b[0m\u001b[0;34m.\u001b[0m\u001b[0mformat\u001b[0m\u001b[0;34m(\u001b[0m\u001b[0mself\u001b[0m\u001b[0;34m.\u001b[0m\u001b[0mgrid\u001b[0m\u001b[0;34m)\u001b[0m\u001b[0;34m\u001b[0m\u001b[0;34m\u001b[0m\u001b[0m\n\u001b[0m\u001b[1;32m     48\u001b[0m         \u001b[0mself\u001b[0m\u001b[0;34m.\u001b[0m\u001b[0mequistep\u001b[0m   \u001b[0;34m=\u001b[0m \u001b[0mequistep\u001b[0m\u001b[0;34m\u001b[0m\u001b[0;34m\u001b[0m\u001b[0m\n\u001b[1;32m     49\u001b[0m         \u001b[0mself\u001b[0m\u001b[0;34m.\u001b[0m\u001b[0mcalcstep\u001b[0m   \u001b[0;34m=\u001b[0m \u001b[0mcalcstep\u001b[0m\u001b[0;34m\u001b[0m\u001b[0;34m\u001b[0m\u001b[0m\n",
      "\u001b[0;31mAssertionError\u001b[0m: None"
     ]
    }
   ],
   "source": [
    "N           = 50                           # lattice size\n",
    "p1, p2, p3  = 0.95, 0.5, 0.1                # p for visualisation\n",
    "S0, I0, R0  = 0.05, 0.9, 0.05               # initial fraction of S, I, R\n",
    "equistep    = 100                           # equilibrate sweep\n",
    "calcstep    = 10000                         # measurement sweep\n",
    "factor      = int(calcstep/10)              # because of 'if (j%10 == 0):' in 'analyse' fn\n",
    "\n",
    "p = [p1, p2, p3]\n",
    "fraction = [S0, I0, R0]\n",
    "\n",
    "np.random.seed(0)\n",
    "sir_model = ca_utils.SIR(N, fraction, p, factor, equistep, calcstep)\n",
    "sir_model.pickup_grid()"
   ]
  },
  {
   "cell_type": "markdown",
   "metadata": {},
   "source": [
    "\n",
    "<font color='orange'>Absorbing State ( S only )</font>\n",
    "    - p1, p2, p3  = 0.01, 0.5, 0.1 \n",
    "<font color='cyan'>Absorbing Steady State ( S and I )</font>\n",
    "    - p1, p2, p3  = 0.05, 0.5, 0.0\n",
    "<font color='green'>Dynamic Equilibrium ( Cyclic Permutation if S, I and R )</font>\n",
    "    - p1, p2, p3  = 0.8, 0.8, 0.8\n",
    "<font color='grey'>Wave ( Spreading of Infection )</font>\n",
    "    - p1, p2, p3  = 0.95, 0.5, 0.1 "
   ]
  },
  {
   "cell_type": "code",
   "execution_count": 4,
   "metadata": {
    "scrolled": true
   },
   "outputs": [
    {
     "ename": "AssertionError",
     "evalue": "None",
     "output_type": "error",
     "traceback": [
      "\u001b[0;31m---------------------------------------------------------------------------\u001b[0m",
      "\u001b[0;31mAssertionError\u001b[0m                            Traceback (most recent call last)",
      "\u001b[0;32m<ipython-input-4-9be3b9411d4f>\u001b[0m in \u001b[0;36m<module>\u001b[0;34m\u001b[0m\n\u001b[1;32m      1\u001b[0m \u001b[0;31m# %matplotlib inline                # uncomment this if you run DynamicPlot fn after any fn below this fn\u001b[0m\u001b[0;34m\u001b[0m\u001b[0;34m\u001b[0m\u001b[0;34m\u001b[0m\u001b[0m\n\u001b[1;32m      2\u001b[0m                                     \u001b[0;31m# or just restart kernel and do again\u001b[0m\u001b[0;34m\u001b[0m\u001b[0;34m\u001b[0m\u001b[0;34m\u001b[0m\u001b[0m\n\u001b[0;32m----> 3\u001b[0;31m \u001b[0msir_model\u001b[0m\u001b[0;34m.\u001b[0m\u001b[0mDynamicPlot\u001b[0m\u001b[0;34m(\u001b[0m\u001b[0;36m150\u001b[0m\u001b[0;34m)\u001b[0m\u001b[0;34m\u001b[0m\u001b[0;34m\u001b[0m\u001b[0m\n\u001b[0m",
      "\u001b[0;32m~/lab/SIR-model/ca_utils.py\u001b[0m in \u001b[0;36mDynamicPlot\u001b[0;34m(self, numstep)\u001b[0m\n\u001b[1;32m    228\u001b[0m     \u001b[0;32mdef\u001b[0m \u001b[0mDynamicPlot\u001b[0m\u001b[0;34m(\u001b[0m\u001b[0mself\u001b[0m\u001b[0;34m,\u001b[0m \u001b[0mnumstep\u001b[0m\u001b[0;34m)\u001b[0m\u001b[0;34m:\u001b[0m\u001b[0;34m\u001b[0m\u001b[0;34m\u001b[0m\u001b[0m\n\u001b[1;32m    229\u001b[0m         \u001b[0mfig\u001b[0m\u001b[0;34m,\u001b[0m \u001b[0max\u001b[0m \u001b[0;34m=\u001b[0m \u001b[0mplt\u001b[0m\u001b[0;34m.\u001b[0m\u001b[0msubplots\u001b[0m\u001b[0;34m(\u001b[0m\u001b[0;34m)\u001b[0m\u001b[0;34m\u001b[0m\u001b[0;34m\u001b[0m\u001b[0m\n\u001b[0;32m--> 230\u001b[0;31m         \u001b[0;32massert\u001b[0m\u001b[0;34m(\u001b[0m\u001b[0mtype\u001b[0m\u001b[0;34m(\u001b[0m\u001b[0mself\u001b[0m\u001b[0;34m.\u001b[0m\u001b[0mgrid\u001b[0m\u001b[0;34m)\u001b[0m\u001b[0;34m==\u001b[0m\u001b[0;32mNone\u001b[0m\u001b[0;34m)\u001b[0m\u001b[0;34m,\u001b[0m\u001b[0;34m'{}'\u001b[0m\u001b[0;34m.\u001b[0m\u001b[0mformat\u001b[0m\u001b[0;34m(\u001b[0m\u001b[0mself\u001b[0m\u001b[0;34m.\u001b[0m\u001b[0mgrid\u001b[0m\u001b[0;34m)\u001b[0m\u001b[0;34m\u001b[0m\u001b[0;34m\u001b[0m\u001b[0m\n\u001b[0m\u001b[1;32m    231\u001b[0m         \u001b[0mimg\u001b[0m \u001b[0;34m=\u001b[0m \u001b[0max\u001b[0m\u001b[0;34m.\u001b[0m\u001b[0mimshow\u001b[0m\u001b[0;34m(\u001b[0m\u001b[0mself\u001b[0m\u001b[0;34m.\u001b[0m\u001b[0mgrid\u001b[0m\u001b[0;34m,\u001b[0m \u001b[0minterpolation\u001b[0m\u001b[0;34m=\u001b[0m\u001b[0;34m'nearest'\u001b[0m\u001b[0;34m,\u001b[0m \u001b[0mcmap\u001b[0m\u001b[0;34m=\u001b[0m\u001b[0;34m'viridis'\u001b[0m\u001b[0;34m)\u001b[0m\u001b[0;34m\u001b[0m\u001b[0;34m\u001b[0m\u001b[0m\n\u001b[1;32m    232\u001b[0m         \u001b[0mcolors\u001b[0m \u001b[0;34m=\u001b[0m \u001b[0;34m[\u001b[0m \u001b[0mimg\u001b[0m\u001b[0;34m.\u001b[0m\u001b[0mcmap\u001b[0m\u001b[0;34m(\u001b[0m\u001b[0mimg\u001b[0m\u001b[0;34m.\u001b[0m\u001b[0mnorm\u001b[0m\u001b[0;34m(\u001b[0m\u001b[0mvalue\u001b[0m\u001b[0;34m)\u001b[0m\u001b[0;34m)\u001b[0m \u001b[0;32mfor\u001b[0m \u001b[0mvalue\u001b[0m \u001b[0;32min\u001b[0m \u001b[0mself\u001b[0m\u001b[0;34m.\u001b[0m\u001b[0mvals\u001b[0m\u001b[0;34m]\u001b[0m\u001b[0;34m\u001b[0m\u001b[0;34m\u001b[0m\u001b[0m\n",
      "\u001b[0;31mAssertionError\u001b[0m: None"
     ]
    },
    {
     "data": {
      "image/png": "[encoded data removed]",
      "text/plain": [
       "<Figure size 360x360 with 1 Axes>"
      ]
     },
     "metadata": {
      "needs_background": "light"
     },
     "output_type": "display_data"
    }
   ],
   "source": [
    "# %matplotlib inline                # uncomment this if you run DynamicPlot fn after any fn below this fn\n",
    "                                    # or just restart kernel and do again\n",
    "sir_model.DynamicPlot(150)"
   ]
  },
  {
   "cell_type": "markdown",
   "metadata": {},
   "source": [
    "#### Initilisation Model 2 (Phase Diagram & Variance)"
   ]
  },
  {
   "cell_type": "code",
   "execution_count": 5,
   "metadata": {},
   "outputs": [],
   "source": [
    "N           = 20                            # lattice size\n",
    "p1, p2, p3  = 0.05, 0.5, 0.0                # p for visualisation, \n",
    "S0, I0, R0  = 0.05, 0.9, 0.05               # initial fraction of S, I, R\n",
    "equistep    = 100                           # equilibrate sweep\n",
    "calcstep    = 20000                         # measurement sweep    [p/s: change to 10000 for faster]\n",
    "factor      = int(calcstep/10)              # because of 'if (j%10 == 0):' in 'analyse' fn\n",
    "\n",
    "p = [p1, p2, p3]\n",
    "fraction = [S0, I0, R0]\n",
    "\n",
    "np.random.seed(0)\n",
    "sir_model = ca_utils_cy.SIR(N, fraction, p, factor, equistep, calcstep)"
   ]
  },
  {
   "cell_type": "markdown",
   "metadata": {},
   "source": [
    "- Method behavior\n",
    "    - Phase Diagram of SIR model\n",
    "    - Variance, < $\\psi$ >"
   ]
  },
  {
   "cell_type": "code",
   "execution_count": 6,
   "metadata": {
    "scrolled": false
   },
   "outputs": [
    {
     "name": "stderr",
     "output_type": "stream",
     "text": [
      "/Users/azidharun/.virtualenvs/python3/lib/python3.7/site-packages/ipykernel_launcher.py:2: TqdmDeprecationWarning: This function will be removed in tqdm==5.0.0\n",
      "Please use `tqdm.notebook.tqdm` instead of `tqdm.tqdm_notebook`\n",
      "  \n"
     ]
    },
    {
     "data": {
      "application/vnd.jupyter.widget-view+json": {
       "model_id": "d2e3ff3bc6b54e639cd80a3c5eda68be",
       "version_major": 2,
       "version_minor": 0
      },
      "text/plain": [
       "HBox(children=(FloatProgress(value=0.0, description='Row', max=20.0, style=ProgressStyle(description_width='in…"
      ]
     },
     "metadata": {},
     "output_type": "display_data"
    },
    {
     "data": {
      "application/vnd.jupyter.widget-view+json": {
       "model_id": "8afdf61b66294ddc957f140faa77df6b",
       "version_major": 2,
       "version_minor": 0
      },
      "text/plain": [
       "HBox(children=(FloatProgress(value=0.0, description='Col', max=20.0, style=ProgressStyle(description_width='in…"
      ]
     },
     "metadata": {},
     "output_type": "display_data"
    },
    {
     "data": {
      "application/vnd.jupyter.widget-view+json": {
       "model_id": "",
       "version_major": 2,
       "version_minor": 0
      },
      "text/plain": [
       "HBox(children=(FloatProgress(value=0.0, description='Equilibrate sweep', style=ProgressStyle(description_width…"
      ]
     },
     "metadata": {},
     "output_type": "display_data"
    },
    {
     "data": {
      "application/vnd.jupyter.widget-view+json": {
       "model_id": "",
       "version_major": 2,
       "version_minor": 0
      },
      "text/plain": [
       "HBox(children=(FloatProgress(value=0.0, description='Measurement sweep', max=20000.0, style=ProgressStyle(desc…"
      ]
     },
     "metadata": {},
     "output_type": "display_data"
    },
    {
     "data": {
      "application/vnd.jupyter.widget-view+json": {
       "model_id": "",
       "version_major": 2,
       "version_minor": 0
      },
      "text/plain": [
       "HBox(children=(FloatProgress(value=0.0, description='Equilibrate sweep', style=ProgressStyle(description_width…"
      ]
     },
     "metadata": {},
     "output_type": "display_data"
    },
    {
     "data": {
      "application/vnd.jupyter.widget-view+json": {
       "model_id": "",
       "version_major": 2,
       "version_minor": 0
      },
      "text/plain": [
       "HBox(children=(FloatProgress(value=0.0, description='Measurement sweep', max=20000.0, style=ProgressStyle(desc…"
      ]
     },
     "metadata": {},
     "output_type": "display_data"
    },
    {
     "data": {
      "application/vnd.jupyter.widget-view+json": {
       "model_id": "",
       "version_major": 2,
       "version_minor": 0
      },
      "text/plain": [
       "HBox(children=(FloatProgress(value=0.0, description='Equilibrate sweep', style=ProgressStyle(description_width…"
      ]
     },
     "metadata": {},
     "output_type": "display_data"
    },
    {
     "data": {
      "application/vnd.jupyter.widget-view+json": {
       "model_id": "",
       "version_major": 2,
       "version_minor": 0
      },
      "text/plain": [
       "HBox(children=(FloatProgress(value=0.0, description='Measurement sweep', max=20000.0, style=ProgressStyle(desc…"
      ]
     },
     "metadata": {},
     "output_type": "display_data"
    },
    {
     "data": {
      "application/vnd.jupyter.widget-view+json": {
       "model_id": "",
       "version_major": 2,
       "version_minor": 0
      },
      "text/plain": [
       "HBox(children=(FloatProgress(value=0.0, description='Equilibrate sweep', style=ProgressStyle(description_width…"
      ]
     },
     "metadata": {},
     "output_type": "display_data"
    },
    {
     "data": {
      "application/vnd.jupyter.widget-view+json": {
       "model_id": "",
       "version_major": 2,
       "version_minor": 0
      },
      "text/plain": [
       "HBox(children=(FloatProgress(value=0.0, description='Measurement sweep', max=20000.0, style=ProgressStyle(desc…"
      ]
     },
     "metadata": {},
     "output_type": "display_data"
    },
    {
     "data": {
      "application/vnd.jupyter.widget-view+json": {
       "model_id": "",
       "version_major": 2,
       "version_minor": 0
      },
      "text/plain": [
       "HBox(children=(FloatProgress(value=0.0, description='Equilibrate sweep', style=ProgressStyle(description_width…"
      ]
     },
     "metadata": {},
     "output_type": "display_data"
    },
    {
     "data": {
      "application/vnd.jupyter.widget-view+json": {
       "model_id": "",
       "version_major": 2,
       "version_minor": 0
      },
      "text/plain": [
       "HBox(children=(FloatProgress(value=0.0, description='Measurement sweep', max=20000.0, style=ProgressStyle(desc…"
      ]
     },
     "metadata": {},
     "output_type": "display_data"
    },
    {
     "data": {
      "application/vnd.jupyter.widget-view+json": {
       "model_id": "",
       "version_major": 2,
       "version_minor": 0
      },
      "text/plain": [
       "HBox(children=(FloatProgress(value=0.0, description='Equilibrate sweep', style=ProgressStyle(description_width…"
      ]
     },
     "metadata": {},
     "output_type": "display_data"
    },
    {
     "data": {
      "application/vnd.jupyter.widget-view+json": {
       "model_id": "2e56981fce71463ba7736acfd8be2162",
       "version_major": 2,
       "version_minor": 0
      },
      "text/plain": [
       "HBox(children=(FloatProgress(value=0.0, description='Measurement sweep', max=20000.0, style=ProgressStyle(desc…"
      ]
     },
     "metadata": {},
     "output_type": "display_data"
    },
    {
     "ename": "KeyboardInterrupt",
     "evalue": "",
     "output_type": "error",
     "traceback": [
      "\u001b[0;31m---------------------------------------------------------------------------\u001b[0m",
      "\u001b[0;31mKeyboardInterrupt\u001b[0m                         Traceback (most recent call last)",
      "\u001b[0;32m<ipython-input-6-b0dd08e71ad0>\u001b[0m in \u001b[0;36m<module>\u001b[0;34m\u001b[0m\n\u001b[1;32m      1\u001b[0m \u001b[0mget_ipython\u001b[0m\u001b[0;34m(\u001b[0m\u001b[0;34m)\u001b[0m\u001b[0;34m.\u001b[0m\u001b[0mrun_line_magic\u001b[0m\u001b[0;34m(\u001b[0m\u001b[0;34m'matplotlib'\u001b[0m\u001b[0;34m,\u001b[0m \u001b[0;34m'notebook'\u001b[0m\u001b[0;34m)\u001b[0m\u001b[0;34m\u001b[0m\u001b[0;34m\u001b[0m\u001b[0m\n\u001b[0;32m----> 2\u001b[0;31m \u001b[0msir_model\u001b[0m\u001b[0;34m.\u001b[0m\u001b[0mphaseDiagram\u001b[0m\u001b[0;34m(\u001b[0m\u001b[0;34m)\u001b[0m\u001b[0;34m\u001b[0m\u001b[0;34m\u001b[0m\u001b[0m\n\u001b[0m",
      "\u001b[0;32m~/lab/SIR-model/ca_utils_cy.pyx\u001b[0m in \u001b[0;36mca_utils_cy.SIR.phaseDiagram\u001b[0;34m()\u001b[0m\n\u001b[1;32m    195\u001b[0m                     \u001b[0mself\u001b[0m\u001b[0;34m.\u001b[0m\u001b[0mupdate\u001b[0m\u001b[0;34m(\u001b[0m\u001b[0midx1\u001b[0m\u001b[0;34m,\u001b[0m \u001b[0midx2\u001b[0m\u001b[0;34m)\u001b[0m                                                                            \u001b[0;31m# Monte Carlo moves\u001b[0m\u001b[0;34m\u001b[0m\u001b[0;34m\u001b[0m\u001b[0m\n\u001b[1;32m    196\u001b[0m \u001b[0;34m\u001b[0m\u001b[0m\n\u001b[0;32m--> 197\u001b[0;31m                 \u001b[0;32mfor\u001b[0m \u001b[0mj\u001b[0m \u001b[0;32min\u001b[0m \u001b[0mtqdm\u001b[0m\u001b[0;34m(\u001b[0m\u001b[0mrange\u001b[0m\u001b[0;34m(\u001b[0m\u001b[0mself\u001b[0m\u001b[0;34m.\u001b[0m\u001b[0mcalcstep\u001b[0m\u001b[0;34m)\u001b[0m\u001b[0;34m,\u001b[0m \u001b[0mdesc\u001b[0m\u001b[0;34m=\u001b[0m\u001b[0;34m'Measurement sweep'\u001b[0m\u001b[0;34m,\u001b[0m \u001b[0mleave\u001b[0m\u001b[0;34m=\u001b[0m\u001b[0;32mFalse\u001b[0m\u001b[0;34m,\u001b[0m \u001b[0munit\u001b[0m\u001b[0;34m=\u001b[0m\u001b[0;34m'sweep'\u001b[0m\u001b[0;34m)\u001b[0m\u001b[0;34m:\u001b[0m              \u001b[0;31m# measurement\u001b[0m\u001b[0;34m\u001b[0m\u001b[0;34m\u001b[0m\u001b[0m\n\u001b[0m\u001b[1;32m    198\u001b[0m                     \u001b[0mself\u001b[0m\u001b[0;34m.\u001b[0m\u001b[0mupdate\u001b[0m\u001b[0;34m(\u001b[0m\u001b[0midx1\u001b[0m\u001b[0;34m,\u001b[0m \u001b[0midx2\u001b[0m\u001b[0;34m)\u001b[0m                                                                            \u001b[0;31m# Monte Carlo moves\u001b[0m\u001b[0;34m\u001b[0m\u001b[0;34m\u001b[0m\u001b[0m\n\u001b[1;32m    199\u001b[0m                     \u001b[0;32mif\u001b[0m \u001b[0;34m(\u001b[0m\u001b[0mj\u001b[0m\u001b[0;34m%\u001b[0m\u001b[0;36m10\u001b[0m \u001b[0;34m==\u001b[0m \u001b[0;36m0\u001b[0m\u001b[0;34m)\u001b[0m\u001b[0;34m:\u001b[0m\u001b[0;34m\u001b[0m\u001b[0;34m\u001b[0m\u001b[0m\n",
      "\u001b[0;32m~/.virtualenvs/python3/lib/python3.7/site-packages/tqdm/notebook.py\u001b[0m in \u001b[0;36m__iter__\u001b[0;34m(self, *args, **kwargs)\u001b[0m\n\u001b[1;32m    215\u001b[0m             \u001b[0;32mfor\u001b[0m \u001b[0mobj\u001b[0m \u001b[0;32min\u001b[0m \u001b[0msuper\u001b[0m\u001b[0;34m(\u001b[0m\u001b[0mtqdm_notebook\u001b[0m\u001b[0;34m,\u001b[0m \u001b[0mself\u001b[0m\u001b[0;34m)\u001b[0m\u001b[0;34m.\u001b[0m\u001b[0m__iter__\u001b[0m\u001b[0;34m(\u001b[0m\u001b[0;34m*\u001b[0m\u001b[0margs\u001b[0m\u001b[0;34m,\u001b[0m \u001b[0;34m**\u001b[0m\u001b[0mkwargs\u001b[0m\u001b[0;34m)\u001b[0m\u001b[0;34m:\u001b[0m\u001b[0;34m\u001b[0m\u001b[0;34m\u001b[0m\u001b[0m\n\u001b[1;32m    216\u001b[0m                 \u001b[0;31m# return super(tqdm...) will not catch exception\u001b[0m\u001b[0;34m\u001b[0m\u001b[0;34m\u001b[0m\u001b[0;34m\u001b[0m\u001b[0m\n\u001b[0;32m--> 217\u001b[0;31m                 \u001b[0;32myield\u001b[0m \u001b[0mobj\u001b[0m\u001b[0;34m\u001b[0m\u001b[0;34m\u001b[0m\u001b[0m\n\u001b[0m\u001b[1;32m    218\u001b[0m         \u001b[0;31m# NB: except ... [ as ...] breaks IPython async KeyboardInterrupt\u001b[0m\u001b[0;34m\u001b[0m\u001b[0;34m\u001b[0m\u001b[0;34m\u001b[0m\u001b[0m\n\u001b[1;32m    219\u001b[0m         \u001b[0;32mexcept\u001b[0m\u001b[0;34m:\u001b[0m  \u001b[0;31m# NOQA\u001b[0m\u001b[0;34m\u001b[0m\u001b[0;34m\u001b[0m\u001b[0m\n",
      "\u001b[0;31mKeyboardInterrupt\u001b[0m: "
     ]
    }
   ],
   "source": [
    "%matplotlib notebook\n",
    "sir_model.phaseDiagram()"
   ]
  },
  {
   "cell_type": "code",
   "execution_count": 10,
   "metadata": {
    "scrolled": true
   },
   "outputs": [
    {
     "data": {
      "application/vnd.jupyter.widget-view+json": {
       "model_id": "",
       "version_major": 2,
       "version_minor": 0
      },
      "text/plain": [
       "HBox(children=(IntProgress(value=0, description='Row', max=20, style=ProgressStyle(description_width='initial'…"
      ]
     },
     "metadata": {},
     "output_type": "display_data"
    },
    {
     "data": {
      "application/vnd.jupyter.widget-view+json": {
       "model_id": "",
       "version_major": 2,
       "version_minor": 0
      },
      "text/plain": [
       "HBox(children=(IntProgress(value=0, description='Col', max=20, style=ProgressStyle(description_width='initial'…"
      ]
     },
     "metadata": {},
     "output_type": "display_data"
    },
    {
     "data": {
      "application/vnd.jupyter.widget-view+json": {
       "model_id": "",
       "version_major": 2,
       "version_minor": 0
      },
      "text/plain": [
       "HBox(children=(IntProgress(value=0, description='Equilibrate sweep', style=ProgressStyle(description_width='in…"
      ]
     },
     "metadata": {},
     "output_type": "display_data"
    },
    {
     "data": {
      "application/vnd.jupyter.widget-view+json": {
       "model_id": "",
       "version_major": 2,
       "version_minor": 0
      },
      "text/plain": [
       "HBox(children=(IntProgress(value=0, description='Measurement sweep', max=20000, style=ProgressStyle(descriptio…"
      ]
     },
     "metadata": {},
     "output_type": "display_data"
    },
    {
     "data": {
      "application/vnd.jupyter.widget-view+json": {
       "model_id": "",
       "version_major": 2,
       "version_minor": 0
      },
      "text/plain": [
       "HBox(children=(IntProgress(value=0, description='Equilibrate sweep', style=ProgressStyle(description_width='in…"
      ]
     },
     "metadata": {},
     "output_type": "display_data"
    },
    {
     "data": {
      "application/vnd.jupyter.widget-view+json": {
       "model_id": "",
       "version_major": 2,
       "version_minor": 0
      },
      "text/plain": [
       "HBox(children=(IntProgress(value=0, description='Measurement sweep', max=20000, style=ProgressStyle(descriptio…"
      ]
     },
     "metadata": {},
     "output_type": "display_data"
    },
    {
     "data": {
      "application/vnd.jupyter.widget-view+json": {
       "model_id": "",
       "version_major": 2,
       "version_minor": 0
      },
      "text/plain": [
       "HBox(children=(IntProgress(value=0, description='Equilibrate sweep', style=ProgressStyle(description_width='in…"
      ]
     },
     "metadata": {},
     "output_type": "display_data"
    },
    {
     "data": {
      "application/vnd.jupyter.widget-view+json": {
       "model_id": "",
       "version_major": 2,
       "version_minor": 0
      },
      "text/plain": [
       "HBox(children=(IntProgress(value=0, description='Measurement sweep', max=20000, style=ProgressStyle(descriptio…"
      ]
     },
     "metadata": {},
     "output_type": "display_data"
    },
    {
     "data": {
      "application/vnd.jupyter.widget-view+json": {
       "model_id": "",
       "version_major": 2,
       "version_minor": 0
      },
      "text/plain": [
       "HBox(children=(IntProgress(value=0, description='Equilibrate sweep', style=ProgressStyle(description_width='in…"
      ]
     },
     "metadata": {},
     "output_type": "display_data"
    },
    {
     "data": {
      "application/vnd.jupyter.widget-view+json": {
       "model_id": "",
       "version_major": 2,
       "version_minor": 0
      },
      "text/plain": [
       "HBox(children=(IntProgress(value=0, description='Measurement sweep', max=20000, style=ProgressStyle(descriptio…"
      ]
     },
     "metadata": {},
     "output_type": "display_data"
    },
    {
     "data": {
      "application/vnd.jupyter.widget-view+json": {
       "model_id": "",
       "version_major": 2,
       "version_minor": 0
      },
      "text/plain": [
       "HBox(children=(IntProgress(value=0, description='Equilibrate sweep', style=ProgressStyle(description_width='in…"
      ]
     },
     "metadata": {},
     "output_type": "display_data"
    },
    {
     "data": {
      "application/vnd.jupyter.widget-view+json": {
       "model_id": "",
       "version_major": 2,
       "version_minor": 0
      },
      "text/plain": [
       "HBox(children=(IntProgress(value=0, description='Measurement sweep', max=20000, style=ProgressStyle(descriptio…"
      ]
     },
     "metadata": {},
     "output_type": "display_data"
    },
    {
     "data": {
      "application/vnd.jupyter.widget-view+json": {
       "model_id": "",
       "version_major": 2,
       "version_minor": 0
      },
      "text/plain": [
       "HBox(children=(IntProgress(value=0, description='Equilibrate sweep', style=ProgressStyle(description_width='in…"
      ]
     },
     "metadata": {},
     "output_type": "display_data"
    },
    {
     "data": {
      "application/vnd.jupyter.widget-view+json": {
       "model_id": "",
       "version_major": 2,
       "version_minor": 0
      },
      "text/plain": [
       "HBox(children=(IntProgress(value=0, description='Measurement sweep', max=20000, style=ProgressStyle(descriptio…"
      ]
     },
     "metadata": {},
     "output_type": "display_data"
    },
    {
     "data": {
      "application/vnd.jupyter.widget-view+json": {
       "model_id": "",
       "version_major": 2,
       "version_minor": 0
      },
      "text/plain": [
       "HBox(children=(IntProgress(value=0, description='Equilibrate sweep', style=ProgressStyle(description_width='in…"
      ]
     },
     "metadata": {},
     "output_type": "display_data"
    },
    {
     "data": {
      "application/vnd.jupyter.widget-view+json": {
       "model_id": "",
       "version_major": 2,
       "version_minor": 0
      },
      "text/plain": [
       "HBox(children=(IntProgress(value=0, description='Measurement sweep', max=20000, style=ProgressStyle(descriptio…"
      ]
     },
     "metadata": {},
     "output_type": "display_data"
    },
    {
     "data": {
      "application/vnd.jupyter.widget-view+json": {
       "model_id": "",
       "version_major": 2,
       "version_minor": 0
      },
      "text/plain": [
       "HBox(children=(IntProgress(value=0, description='Equilibrate sweep', style=ProgressStyle(description_width='in…"
      ]
     },
     "metadata": {},
     "output_type": "display_data"
    },
    {
     "data": {
      "application/vnd.jupyter.widget-view+json": {
       "model_id": "",
       "version_major": 2,
       "version_minor": 0
      },
      "text/plain": [
       "HBox(children=(IntProgress(value=0, description='Measurement sweep', max=20000, style=ProgressStyle(descriptio…"
      ]
     },
     "metadata": {},
     "output_type": "display_data"
    },
    {
     "data": {
      "application/vnd.jupyter.widget-view+json": {
       "model_id": "",
       "version_major": 2,
       "version_minor": 0
      },
      "text/plain": [
       "HBox(children=(IntProgress(value=0, description='Equilibrate sweep', style=ProgressStyle(description_width='in…"
      ]
     },
     "metadata": {},
     "output_type": "display_data"
    },
    {
     "data": {
      "application/vnd.jupyter.widget-view+json": {
       "model_id": "",
       "version_major": 2,
       "version_minor": 0
      },
      "text/plain": [
       "HBox(children=(IntProgress(value=0, description='Measurement sweep', max=20000, style=ProgressStyle(descriptio…"
      ]
     },
     "metadata": {},
     "output_type": "display_data"
    },
    {
     "data": {
      "application/vnd.jupyter.widget-view+json": {
       "model_id": "",
       "version_major": 2,
       "version_minor": 0
      },
      "text/plain": [
       "HBox(children=(IntProgress(value=0, description='Equilibrate sweep', style=ProgressStyle(description_width='in…"
      ]
     },
     "metadata": {},
     "output_type": "display_data"
    },
    {
     "data": {
      "application/vnd.jupyter.widget-view+json": {
       "model_id": "",
       "version_major": 2,
       "version_minor": 0
      },
      "text/plain": [
       "HBox(children=(IntProgress(value=0, description='Measurement sweep', max=20000, style=ProgressStyle(descriptio…"
      ]
     },
     "metadata": {},
     "output_type": "display_data"
    },
    {
     "data": {
      "application/vnd.jupyter.widget-view+json": {
       "model_id": "",
       "version_major": 2,
       "version_minor": 0
      },
      "text/plain": [
       "HBox(children=(IntProgress(value=0, description='Equilibrate sweep', style=ProgressStyle(description_width='in…"
      ]
     },
     "metadata": {},
     "output_type": "display_data"
    },
    {
     "data": {
      "application/vnd.jupyter.widget-view+json": {
       "model_id": "",
       "version_major": 2,
       "version_minor": 0
      },
      "text/plain": [
       "HBox(children=(IntProgress(value=0, description='Measurement sweep', max=20000, style=ProgressStyle(descriptio…"
      ]
     },
     "metadata": {},
     "output_type": "display_data"
    },
    {
     "data": {
      "application/vnd.jupyter.widget-view+json": {
       "model_id": "",
       "version_major": 2,
       "version_minor": 0
      },
      "text/plain": [
       "HBox(children=(IntProgress(value=0, description='Equilibrate sweep', style=ProgressStyle(description_width='in…"
      ]
     },
     "metadata": {},
     "output_type": "display_data"
    },
    {
     "data": {
      "application/vnd.jupyter.widget-view+json": {
       "model_id": "",
       "version_major": 2,
       "version_minor": 0
      },
      "text/plain": [
       "HBox(children=(IntProgress(value=0, description='Measurement sweep', max=20000, style=ProgressStyle(descriptio…"
      ]
     },
     "metadata": {},
     "output_type": "display_data"
    },
    {
     "data": {
      "application/vnd.jupyter.widget-view+json": {
       "model_id": "",
       "version_major": 2,
       "version_minor": 0
      },
      "text/plain": [
       "HBox(children=(IntProgress(value=0, description='Equilibrate sweep', style=ProgressStyle(description_width='in…"
      ]
     },
     "metadata": {},
     "output_type": "display_data"
    },
    {
     "data": {
      "application/vnd.jupyter.widget-view+json": {
       "model_id": "",
       "version_major": 2,
       "version_minor": 0
      },
      "text/plain": [
       "HBox(children=(IntProgress(value=0, description='Measurement sweep', max=20000, style=ProgressStyle(descriptio…"
      ]
     },
     "metadata": {},
     "output_type": "display_data"
    },
    {
     "data": {
      "application/vnd.jupyter.widget-view+json": {
       "model_id": "",
       "version_major": 2,
       "version_minor": 0
      },
      "text/plain": [
       "HBox(children=(IntProgress(value=0, description='Equilibrate sweep', style=ProgressStyle(description_width='in…"
      ]
     },
     "metadata": {},
     "output_type": "display_data"
    },
    {
     "data": {
      "application/vnd.jupyter.widget-view+json": {
       "model_id": "",
       "version_major": 2,
       "version_minor": 0
      },
      "text/plain": [
       "HBox(children=(IntProgress(value=0, description='Measurement sweep', max=20000, style=ProgressStyle(descriptio…"
      ]
     },
     "metadata": {},
     "output_type": "display_data"
    },
    {
     "data": {
      "application/vnd.jupyter.widget-view+json": {
       "model_id": "",
       "version_major": 2,
       "version_minor": 0
      },
      "text/plain": [
       "HBox(children=(IntProgress(value=0, description='Equilibrate sweep', style=ProgressStyle(description_width='in…"
      ]
     },
     "metadata": {},
     "output_type": "display_data"
    },
    {
     "data": {
      "application/vnd.jupyter.widget-view+json": {
       "model_id": "",
       "version_major": 2,
       "version_minor": 0
      },
      "text/plain": [
       "HBox(children=(IntProgress(value=0, description='Measurement sweep', max=20000, style=ProgressStyle(descriptio…"
      ]
     },
     "metadata": {},
     "output_type": "display_data"
    },
    {
     "data": {
      "application/vnd.jupyter.widget-view+json": {
       "model_id": "",
       "version_major": 2,
       "version_minor": 0
      },
      "text/plain": [
       "HBox(children=(IntProgress(value=0, description='Equilibrate sweep', style=ProgressStyle(description_width='in…"
      ]
     },
     "metadata": {},
     "output_type": "display_data"
    },
    {
     "data": {
      "application/vnd.jupyter.widget-view+json": {
       "model_id": "",
       "version_major": 2,
       "version_minor": 0
      },
      "text/plain": [
       "HBox(children=(IntProgress(value=0, description='Measurement sweep', max=20000, style=ProgressStyle(descriptio…"
      ]
     },
     "metadata": {},
     "output_type": "display_data"
    },
    {
     "data": {
      "application/vnd.jupyter.widget-view+json": {
       "model_id": "",
       "version_major": 2,
       "version_minor": 0
      },
      "text/plain": [
       "HBox(children=(IntProgress(value=0, description='Equilibrate sweep', style=ProgressStyle(description_width='in…"
      ]
     },
     "metadata": {},
     "output_type": "display_data"
    },
    {
     "data": {
      "application/vnd.jupyter.widget-view+json": {
       "model_id": "",
       "version_major": 2,
       "version_minor": 0
      },
      "text/plain": [
       "HBox(children=(IntProgress(value=0, description='Measurement sweep', max=20000, style=ProgressStyle(descriptio…"
      ]
     },
     "metadata": {},
     "output_type": "display_data"
    },
    {
     "data": {
      "application/vnd.jupyter.widget-view+json": {
       "model_id": "",
       "version_major": 2,
       "version_minor": 0
      },
      "text/plain": [
       "HBox(children=(IntProgress(value=0, description='Equilibrate sweep', style=ProgressStyle(description_width='in…"
      ]
     },
     "metadata": {},
     "output_type": "display_data"
    },
    {
     "data": {
      "application/vnd.jupyter.widget-view+json": {
       "model_id": "",
       "version_major": 2,
       "version_minor": 0
      },
      "text/plain": [
       "HBox(children=(IntProgress(value=0, description='Measurement sweep', max=20000, style=ProgressStyle(descriptio…"
      ]
     },
     "metadata": {},
     "output_type": "display_data"
    },
    {
     "data": {
      "application/vnd.jupyter.widget-view+json": {
       "model_id": "",
       "version_major": 2,
       "version_minor": 0
      },
      "text/plain": [
       "HBox(children=(IntProgress(value=0, description='Equilibrate sweep', style=ProgressStyle(description_width='in…"
      ]
     },
     "metadata": {},
     "output_type": "display_data"
    },
    {
     "data": {
      "application/vnd.jupyter.widget-view+json": {
       "model_id": "",
       "version_major": 2,
       "version_minor": 0
      },
      "text/plain": [
       "HBox(children=(IntProgress(value=0, description='Measurement sweep', max=20000, style=ProgressStyle(descriptio…"
      ]
     },
     "metadata": {},
     "output_type": "display_data"
    },
    {
     "data": {
      "application/vnd.jupyter.widget-view+json": {
       "model_id": "",
       "version_major": 2,
       "version_minor": 0
      },
      "text/plain": [
       "HBox(children=(IntProgress(value=0, description='Equilibrate sweep', style=ProgressStyle(description_width='in…"
      ]
     },
     "metadata": {},
     "output_type": "display_data"
    },
    {
     "data": {
      "application/vnd.jupyter.widget-view+json": {
       "model_id": "",
       "version_major": 2,
       "version_minor": 0
      },
      "text/plain": [
       "HBox(children=(IntProgress(value=0, description='Measurement sweep', max=20000, style=ProgressStyle(descriptio…"
      ]
     },
     "metadata": {},
     "output_type": "display_data"
    },
    {
     "data": {
      "application/vnd.jupyter.widget-view+json": {
       "model_id": "",
       "version_major": 2,
       "version_minor": 0
      },
      "text/plain": [
       "HBox(children=(IntProgress(value=0, description='Col', max=20, style=ProgressStyle(description_width='initial'…"
      ]
     },
     "metadata": {},
     "output_type": "display_data"
    },
    {
     "data": {
      "application/vnd.jupyter.widget-view+json": {
       "model_id": "",
       "version_major": 2,
       "version_minor": 0
      },
      "text/plain": [
       "HBox(children=(IntProgress(value=0, description='Equilibrate sweep', style=ProgressStyle(description_width='in…"
      ]
     },
     "metadata": {},
     "output_type": "display_data"
    },
    {
     "data": {
      "application/vnd.jupyter.widget-view+json": {
       "model_id": "",
       "version_major": 2,
       "version_minor": 0
      },
      "text/plain": [
       "HBox(children=(IntProgress(value=0, description='Measurement sweep', max=20000, style=ProgressStyle(descriptio…"
      ]
     },
     "metadata": {},
     "output_type": "display_data"
    },
    {
     "data": {
      "application/vnd.jupyter.widget-view+json": {
       "model_id": "",
       "version_major": 2,
       "version_minor": 0
      },
      "text/plain": [
       "HBox(children=(IntProgress(value=0, description='Equilibrate sweep', style=ProgressStyle(description_width='in…"
      ]
     },
     "metadata": {},
     "output_type": "display_data"
    },
    {
     "data": {
      "application/vnd.jupyter.widget-view+json": {
       "model_id": "",
       "version_major": 2,
       "version_minor": 0
      },
      "text/plain": [
       "HBox(children=(IntProgress(value=0, description='Measurement sweep', max=20000, style=ProgressStyle(descriptio…"
      ]
     },
     "metadata": {},
     "output_type": "display_data"
    },
    {
     "data": {
      "application/vnd.jupyter.widget-view+json": {
       "model_id": "",
       "version_major": 2,
       "version_minor": 0
      },
      "text/plain": [
       "HBox(children=(IntProgress(value=0, description='Equilibrate sweep', style=ProgressStyle(description_width='in…"
      ]
     },
     "metadata": {},
     "output_type": "display_data"
    },
    {
     "data": {
      "application/vnd.jupyter.widget-view+json": {
       "model_id": "",
       "version_major": 2,
       "version_minor": 0
      },
      "text/plain": [
       "HBox(children=(IntProgress(value=0, description='Measurement sweep', max=20000, style=ProgressStyle(descriptio…"
      ]
     },
     "metadata": {},
     "output_type": "display_data"
    },
    {
     "data": {
      "application/vnd.jupyter.widget-view+json": {
       "model_id": "",
       "version_major": 2,
       "version_minor": 0
      },
      "text/plain": [
       "HBox(children=(IntProgress(value=0, description='Equilibrate sweep', style=ProgressStyle(description_width='in…"
      ]
     },
     "metadata": {},
     "output_type": "display_data"
    },
    {
     "data": {
      "application/vnd.jupyter.widget-view+json": {
       "model_id": "",
       "version_major": 2,
       "version_minor": 0
      },
      "text/plain": [
       "HBox(children=(IntProgress(value=0, description='Measurement sweep', max=20000, style=ProgressStyle(descriptio…"
      ]
     },
     "metadata": {},
     "output_type": "display_data"
    },
    {
     "data": {
      "application/vnd.jupyter.widget-view+json": {
       "model_id": "",
       "version_major": 2,
       "version_minor": 0
      },
      "text/plain": [
       "HBox(children=(IntProgress(value=0, description='Equilibrate sweep', style=ProgressStyle(description_width='in…"
      ]
     },
     "metadata": {},
     "output_type": "display_data"
    },
    {
     "data": {
      "application/vnd.jupyter.widget-view+json": {
       "model_id": "",
       "version_major": 2,
       "version_minor": 0
      },
      "text/plain": [
       "HBox(children=(IntProgress(value=0, description='Measurement sweep', max=20000, style=ProgressStyle(descriptio…"
      ]
     },
     "metadata": {},
     "output_type": "display_data"
    },
    {
     "data": {
      "application/vnd.jupyter.widget-view+json": {
       "model_id": "",
       "version_major": 2,
       "version_minor": 0
      },
      "text/plain": [
       "HBox(children=(IntProgress(value=0, description='Equilibrate sweep', style=ProgressStyle(description_width='in…"
      ]
     },
     "metadata": {},
     "output_type": "display_data"
    },
    {
     "data": {
      "application/vnd.jupyter.widget-view+json": {
       "model_id": "",
       "version_major": 2,
       "version_minor": 0
      },
      "text/plain": [
       "HBox(children=(IntProgress(value=0, description='Measurement sweep', max=20000, style=ProgressStyle(descriptio…"
      ]
     },
     "metadata": {},
     "output_type": "display_data"
    },
    {
     "data": {
      "application/vnd.jupyter.widget-view+json": {
       "model_id": "",
       "version_major": 2,
       "version_minor": 0
      },
      "text/plain": [
       "HBox(children=(IntProgress(value=0, description='Equilibrate sweep', style=ProgressStyle(description_width='in…"
      ]
     },
     "metadata": {},
     "output_type": "display_data"
    },
    {
     "data": {
      "application/vnd.jupyter.widget-view+json": {
       "model_id": "",
       "version_major": 2,
       "version_minor": 0
      },
      "text/plain": [
       "HBox(children=(IntProgress(value=0, description='Measurement sweep', max=20000, style=ProgressStyle(descriptio…"
      ]
     },
     "metadata": {},
     "output_type": "display_data"
    },
    {
     "data": {
      "application/vnd.jupyter.widget-view+json": {
       "model_id": "",
       "version_major": 2,
       "version_minor": 0
      },
      "text/plain": [
       "HBox(children=(IntProgress(value=0, description='Equilibrate sweep', style=ProgressStyle(description_width='in…"
      ]
     },
     "metadata": {},
     "output_type": "display_data"
    },
    {
     "data": {
      "application/vnd.jupyter.widget-view+json": {
       "model_id": "",
       "version_major": 2,
       "version_minor": 0
      },
      "text/plain": [
       "HBox(children=(IntProgress(value=0, description='Measurement sweep', max=20000, style=ProgressStyle(descriptio…"
      ]
     },
     "metadata": {},
     "output_type": "display_data"
    },
    {
     "data": {
      "application/vnd.jupyter.widget-view+json": {
       "model_id": "",
       "version_major": 2,
       "version_minor": 0
      },
      "text/plain": [
       "HBox(children=(IntProgress(value=0, description='Equilibrate sweep', style=ProgressStyle(description_width='in…"
      ]
     },
     "metadata": {},
     "output_type": "display_data"
    },
    {
     "data": {
      "application/vnd.jupyter.widget-view+json": {
       "model_id": "",
       "version_major": 2,
       "version_minor": 0
      },
      "text/plain": [
       "HBox(children=(IntProgress(value=0, description='Measurement sweep', max=20000, style=ProgressStyle(descriptio…"
      ]
     },
     "metadata": {},
     "output_type": "display_data"
    },
    {
     "data": {
      "application/vnd.jupyter.widget-view+json": {
       "model_id": "",
       "version_major": 2,
       "version_minor": 0
      },
      "text/plain": [
       "HBox(children=(IntProgress(value=0, description='Equilibrate sweep', style=ProgressStyle(description_width='in…"
      ]
     },
     "metadata": {},
     "output_type": "display_data"
    },
    {
     "data": {
      "application/vnd.jupyter.widget-view+json": {
       "model_id": "",
       "version_major": 2,
       "version_minor": 0
      },
      "text/plain": [
       "HBox(children=(IntProgress(value=0, description='Measurement sweep', max=20000, style=ProgressStyle(descriptio…"
      ]
     },
     "metadata": {},
     "output_type": "display_data"
    },
    {
     "data": {
      "application/vnd.jupyter.widget-view+json": {
       "model_id": "",
       "version_major": 2,
       "version_minor": 0
      },
      "text/plain": [
       "HBox(children=(IntProgress(value=0, description='Equilibrate sweep', style=ProgressStyle(description_width='in…"
      ]
     },
     "metadata": {},
     "output_type": "display_data"
    },
    {
     "data": {
      "application/vnd.jupyter.widget-view+json": {
       "model_id": "",
       "version_major": 2,
       "version_minor": 0
      },
      "text/plain": [
       "HBox(children=(IntProgress(value=0, description='Measurement sweep', max=20000, style=ProgressStyle(descriptio…"
      ]
     },
     "metadata": {},
     "output_type": "display_data"
    },
    {
     "data": {
      "application/vnd.jupyter.widget-view+json": {
       "model_id": "",
       "version_major": 2,
       "version_minor": 0
      },
      "text/plain": [
       "HBox(children=(IntProgress(value=0, description='Equilibrate sweep', style=ProgressStyle(description_width='in…"
      ]
     },
     "metadata": {},
     "output_type": "display_data"
    },
    {
     "data": {
      "application/vnd.jupyter.widget-view+json": {
       "model_id": "",
       "version_major": 2,
       "version_minor": 0
      },
      "text/plain": [
       "HBox(children=(IntProgress(value=0, description='Measurement sweep', max=20000, style=ProgressStyle(descriptio…"
      ]
     },
     "metadata": {},
     "output_type": "display_data"
    },
    {
     "data": {
      "application/vnd.jupyter.widget-view+json": {
       "model_id": "",
       "version_major": 2,
       "version_minor": 0
      },
      "text/plain": [
       "HBox(children=(IntProgress(value=0, description='Equilibrate sweep', style=ProgressStyle(description_width='in…"
      ]
     },
     "metadata": {},
     "output_type": "display_data"
    },
    {
     "data": {
      "application/vnd.jupyter.widget-view+json": {
       "model_id": "",
       "version_major": 2,
       "version_minor": 0
      },
      "text/plain": [
       "HBox(children=(IntProgress(value=0, description='Measurement sweep', max=20000, style=ProgressStyle(descriptio…"
      ]
     },
     "metadata": {},
     "output_type": "display_data"
    },
    {
     "data": {
      "application/vnd.jupyter.widget-view+json": {
       "model_id": "",
       "version_major": 2,
       "version_minor": 0
      },
      "text/plain": [
       "HBox(children=(IntProgress(value=0, description='Equilibrate sweep', style=ProgressStyle(description_width='in…"
      ]
     },
     "metadata": {},
     "output_type": "display_data"
    },
    {
     "data": {
      "application/vnd.jupyter.widget-view+json": {
       "model_id": "",
       "version_major": 2,
       "version_minor": 0
      },
      "text/plain": [
       "HBox(children=(IntProgress(value=0, description='Measurement sweep', max=20000, style=ProgressStyle(descriptio…"
      ]
     },
     "metadata": {},
     "output_type": "display_data"
    },
    {
     "data": {
      "application/vnd.jupyter.widget-view+json": {
       "model_id": "",
       "version_major": 2,
       "version_minor": 0
      },
      "text/plain": [
       "HBox(children=(IntProgress(value=0, description='Equilibrate sweep', style=ProgressStyle(description_width='in…"
      ]
     },
     "metadata": {},
     "output_type": "display_data"
    },
    {
     "data": {
      "application/vnd.jupyter.widget-view+json": {
       "model_id": "",
       "version_major": 2,
       "version_minor": 0
      },
      "text/plain": [
       "HBox(children=(IntProgress(value=0, description='Measurement sweep', max=20000, style=ProgressStyle(descriptio…"
      ]
     },
     "metadata": {},
     "output_type": "display_data"
    },
    {
     "data": {
      "application/vnd.jupyter.widget-view+json": {
       "model_id": "",
       "version_major": 2,
       "version_minor": 0
      },
      "text/plain": [
       "HBox(children=(IntProgress(value=0, description='Equilibrate sweep', style=ProgressStyle(description_width='in…"
      ]
     },
     "metadata": {},
     "output_type": "display_data"
    },
    {
     "data": {
      "application/vnd.jupyter.widget-view+json": {
       "model_id": "",
       "version_major": 2,
       "version_minor": 0
      },
      "text/plain": [
       "HBox(children=(IntProgress(value=0, description='Measurement sweep', max=20000, style=ProgressStyle(descriptio…"
      ]
     },
     "metadata": {},
     "output_type": "display_data"
    },
    {
     "data": {
      "application/vnd.jupyter.widget-view+json": {
       "model_id": "",
       "version_major": 2,
       "version_minor": 0
      },
      "text/plain": [
       "HBox(children=(IntProgress(value=0, description='Equilibrate sweep', style=ProgressStyle(description_width='in…"
      ]
     },
     "metadata": {},
     "output_type": "display_data"
    },
    {
     "data": {
      "application/vnd.jupyter.widget-view+json": {
       "model_id": "",
       "version_major": 2,
       "version_minor": 0
      },
      "text/plain": [
       "HBox(children=(IntProgress(value=0, description='Measurement sweep', max=20000, style=ProgressStyle(descriptio…"
      ]
     },
     "metadata": {},
     "output_type": "display_data"
    },
    {
     "data": {
      "application/vnd.jupyter.widget-view+json": {
       "model_id": "",
       "version_major": 2,
       "version_minor": 0
      },
      "text/plain": [
       "HBox(children=(IntProgress(value=0, description='Equilibrate sweep', style=ProgressStyle(description_width='in…"
      ]
     },
     "metadata": {},
     "output_type": "display_data"
    },
    {
     "data": {
      "application/vnd.jupyter.widget-view+json": {
       "model_id": "",
       "version_major": 2,
       "version_minor": 0
      },
      "text/plain": [
       "HBox(children=(IntProgress(value=0, description='Measurement sweep', max=20000, style=ProgressStyle(descriptio…"
      ]
     },
     "metadata": {},
     "output_type": "display_data"
    },
    {
     "data": {
      "application/vnd.jupyter.widget-view+json": {
       "model_id": "",
       "version_major": 2,
       "version_minor": 0
      },
      "text/plain": [
       "HBox(children=(IntProgress(value=0, description='Equilibrate sweep', style=ProgressStyle(description_width='in…"
      ]
     },
     "metadata": {},
     "output_type": "display_data"
    },
    {
     "data": {
      "application/vnd.jupyter.widget-view+json": {
       "model_id": "",
       "version_major": 2,
       "version_minor": 0
      },
      "text/plain": [
       "HBox(children=(IntProgress(value=0, description='Measurement sweep', max=20000, style=ProgressStyle(descriptio…"
      ]
     },
     "metadata": {},
     "output_type": "display_data"
    },
    {
     "data": {
      "application/vnd.jupyter.widget-view+json": {
       "model_id": "",
       "version_major": 2,
       "version_minor": 0
      },
      "text/plain": [
       "HBox(children=(IntProgress(value=0, description='Equilibrate sweep', style=ProgressStyle(description_width='in…"
      ]
     },
     "metadata": {},
     "output_type": "display_data"
    },
    {
     "data": {
      "application/vnd.jupyter.widget-view+json": {
       "model_id": "",
       "version_major": 2,
       "version_minor": 0
      },
      "text/plain": [
       "HBox(children=(IntProgress(value=0, description='Measurement sweep', max=20000, style=ProgressStyle(descriptio…"
      ]
     },
     "metadata": {},
     "output_type": "display_data"
    },
    {
     "data": {
      "application/vnd.jupyter.widget-view+json": {
       "model_id": "",
       "version_major": 2,
       "version_minor": 0
      },
      "text/plain": [
       "HBox(children=(IntProgress(value=0, description='Col', max=20, style=ProgressStyle(description_width='initial'…"
      ]
     },
     "metadata": {},
     "output_type": "display_data"
    },
    {
     "data": {
      "application/vnd.jupyter.widget-view+json": {
       "model_id": "",
       "version_major": 2,
       "version_minor": 0
      },
      "text/plain": [
       "HBox(children=(IntProgress(value=0, description='Equilibrate sweep', style=ProgressStyle(description_width='in…"
      ]
     },
     "metadata": {},
     "output_type": "display_data"
    },
    {
     "data": {
      "application/vnd.jupyter.widget-view+json": {
       "model_id": "",
       "version_major": 2,
       "version_minor": 0
      },
      "text/plain": [
       "HBox(children=(IntProgress(value=0, description='Measurement sweep', max=20000, style=ProgressStyle(descriptio…"
      ]
     },
     "metadata": {},
     "output_type": "display_data"
    },
    {
     "data": {
      "application/vnd.jupyter.widget-view+json": {
       "model_id": "",
       "version_major": 2,
       "version_minor": 0
      },
      "text/plain": [
       "HBox(children=(IntProgress(value=0, description='Equilibrate sweep', style=ProgressStyle(description_width='in…"
      ]
     },
     "metadata": {},
     "output_type": "display_data"
    },
    {
     "data": {
      "application/vnd.jupyter.widget-view+json": {
       "model_id": "",
       "version_major": 2,
       "version_minor": 0
      },
      "text/plain": [
       "HBox(children=(IntProgress(value=0, description='Measurement sweep', max=20000, style=ProgressStyle(descriptio…"
      ]
     },
     "metadata": {},
     "output_type": "display_data"
    },
    {
     "data": {
      "application/vnd.jupyter.widget-view+json": {
       "model_id": "",
       "version_major": 2,
       "version_minor": 0
      },
      "text/plain": [
       "HBox(children=(IntProgress(value=0, description='Equilibrate sweep', style=ProgressStyle(description_width='in…"
      ]
     },
     "metadata": {},
     "output_type": "display_data"
    },
    {
     "data": {
      "application/vnd.jupyter.widget-view+json": {
       "model_id": "",
       "version_major": 2,
       "version_minor": 0
      },
      "text/plain": [
       "HBox(children=(IntProgress(value=0, description='Measurement sweep', max=20000, style=ProgressStyle(descriptio…"
      ]
     },
     "metadata": {},
     "output_type": "display_data"
    },
    {
     "data": {
      "application/vnd.jupyter.widget-view+json": {
       "model_id": "",
       "version_major": 2,
       "version_minor": 0
      },
      "text/plain": [
       "HBox(children=(IntProgress(value=0, description='Equilibrate sweep', style=ProgressStyle(description_width='in…"
      ]
     },
     "metadata": {},
     "output_type": "display_data"
    },
    {
     "data": {
      "application/vnd.jupyter.widget-view+json": {
       "model_id": "",
       "version_major": 2,
       "version_minor": 0
      },
      "text/plain": [
       "HBox(children=(IntProgress(value=0, description='Measurement sweep', max=20000, style=ProgressStyle(descriptio…"
      ]
     },
     "metadata": {},
     "output_type": "display_data"
    },
    {
     "data": {
      "application/vnd.jupyter.widget-view+json": {
       "model_id": "",
       "version_major": 2,
       "version_minor": 0
      },
      "text/plain": [
       "HBox(children=(IntProgress(value=0, description='Equilibrate sweep', style=ProgressStyle(description_width='in…"
      ]
     },
     "metadata": {},
     "output_type": "display_data"
    },
    {
     "data": {
      "application/vnd.jupyter.widget-view+json": {
       "model_id": "",
       "version_major": 2,
       "version_minor": 0
      },
      "text/plain": [
       "HBox(children=(IntProgress(value=0, description='Measurement sweep', max=20000, style=ProgressStyle(descriptio…"
      ]
     },
     "metadata": {},
     "output_type": "display_data"
    },
    {
     "data": {
      "application/vnd.jupyter.widget-view+json": {
       "model_id": "",
       "version_major": 2,
       "version_minor": 0
      },
      "text/plain": [
       "HBox(children=(IntProgress(value=0, description='Equilibrate sweep', style=ProgressStyle(description_width='in…"
      ]
     },
     "metadata": {},
     "output_type": "display_data"
    },
    {
     "data": {
      "application/vnd.jupyter.widget-view+json": {
       "model_id": "",
       "version_major": 2,
       "version_minor": 0
      },
      "text/plain": [
       "HBox(children=(IntProgress(value=0, description='Measurement sweep', max=20000, style=ProgressStyle(descriptio…"
      ]
     },
     "metadata": {},
     "output_type": "display_data"
    },
    {
     "data": {
      "application/vnd.jupyter.widget-view+json": {
       "model_id": "",
       "version_major": 2,
       "version_minor": 0
      },
      "text/plain": [
       "HBox(children=(IntProgress(value=0, description='Equilibrate sweep', style=ProgressStyle(description_width='in…"
      ]
     },
     "metadata": {},
     "output_type": "display_data"
    },
    {
     "data": {
      "application/vnd.jupyter.widget-view+json": {
       "model_id": "",
       "version_major": 2,
       "version_minor": 0
      },
      "text/plain": [
       "HBox(children=(IntProgress(value=0, description='Measurement sweep', max=20000, style=ProgressStyle(descriptio…"
      ]
     },
     "metadata": {},
     "output_type": "display_data"
    },
    {
     "data": {
      "application/vnd.jupyter.widget-view+json": {
       "model_id": "",
       "version_major": 2,
       "version_minor": 0
      },
      "text/plain": [
       "HBox(children=(IntProgress(value=0, description='Equilibrate sweep', style=ProgressStyle(description_width='in…"
      ]
     },
     "metadata": {},
     "output_type": "display_data"
    },
    {
     "data": {
      "application/vnd.jupyter.widget-view+json": {
       "model_id": "",
       "version_major": 2,
       "version_minor": 0
      },
      "text/plain": [
       "HBox(children=(IntProgress(value=0, description='Measurement sweep', max=20000, style=ProgressStyle(descriptio…"
      ]
     },
     "metadata": {},
     "output_type": "display_data"
    },
    {
     "data": {
      "application/vnd.jupyter.widget-view+json": {
       "model_id": "",
       "version_major": 2,
       "version_minor": 0
      },
      "text/plain": [
       "HBox(children=(IntProgress(value=0, description='Equilibrate sweep', style=ProgressStyle(description_width='in…"
      ]
     },
     "metadata": {},
     "output_type": "display_data"
    },
    {
     "data": {
      "application/vnd.jupyter.widget-view+json": {
       "model_id": "",
       "version_major": 2,
       "version_minor": 0
      },
      "text/plain": [
       "HBox(children=(IntProgress(value=0, description='Measurement sweep', max=20000, style=ProgressStyle(descriptio…"
      ]
     },
     "metadata": {},
     "output_type": "display_data"
    },
    {
     "data": {
      "application/vnd.jupyter.widget-view+json": {
       "model_id": "",
       "version_major": 2,
       "version_minor": 0
      },
      "text/plain": [
       "HBox(children=(IntProgress(value=0, description='Equilibrate sweep', style=ProgressStyle(description_width='in…"
      ]
     },
     "metadata": {},
     "output_type": "display_data"
    },
    {
     "data": {
      "application/vnd.jupyter.widget-view+json": {
       "model_id": "",
       "version_major": 2,
       "version_minor": 0
      },
      "text/plain": [
       "HBox(children=(IntProgress(value=0, description='Measurement sweep', max=20000, style=ProgressStyle(descriptio…"
      ]
     },
     "metadata": {},
     "output_type": "display_data"
    },
    {
     "data": {
      "application/vnd.jupyter.widget-view+json": {
       "model_id": "",
       "version_major": 2,
       "version_minor": 0
      },
      "text/plain": [
       "HBox(children=(IntProgress(value=0, description='Equilibrate sweep', style=ProgressStyle(description_width='in…"
      ]
     },
     "metadata": {},
     "output_type": "display_data"
    },
    {
     "data": {
      "application/vnd.jupyter.widget-view+json": {
       "model_id": "",
       "version_major": 2,
       "version_minor": 0
      },
      "text/plain": [
       "HBox(children=(IntProgress(value=0, description='Measurement sweep', max=20000, style=ProgressStyle(descriptio…"
      ]
     },
     "metadata": {},
     "output_type": "display_data"
    },
    {
     "data": {
      "application/vnd.jupyter.widget-view+json": {
       "model_id": "",
       "version_major": 2,
       "version_minor": 0
      },
      "text/plain": [
       "HBox(children=(IntProgress(value=0, description='Equilibrate sweep', style=ProgressStyle(description_width='in…"
      ]
     },
     "metadata": {},
     "output_type": "display_data"
    },
    {
     "data": {
      "application/vnd.jupyter.widget-view+json": {
       "model_id": "",
       "version_major": 2,
       "version_minor": 0
      },
      "text/plain": [
       "HBox(children=(IntProgress(value=0, description='Measurement sweep', max=20000, style=ProgressStyle(descriptio…"
      ]
     },
     "metadata": {},
     "output_type": "display_data"
    },
    {
     "data": {
      "application/vnd.jupyter.widget-view+json": {
       "model_id": "",
       "version_major": 2,
       "version_minor": 0
      },
      "text/plain": [
       "HBox(children=(IntProgress(value=0, description='Equilibrate sweep', style=ProgressStyle(description_width='in…"
      ]
     },
     "metadata": {},
     "output_type": "display_data"
    },
    {
     "data": {
      "application/vnd.jupyter.widget-view+json": {
       "model_id": "",
       "version_major": 2,
       "version_minor": 0
      },
      "text/plain": [
       "HBox(children=(IntProgress(value=0, description='Measurement sweep', max=20000, style=ProgressStyle(descriptio…"
      ]
     },
     "metadata": {},
     "output_type": "display_data"
    },
    {
     "data": {
      "application/vnd.jupyter.widget-view+json": {
       "model_id": "",
       "version_major": 2,
       "version_minor": 0
      },
      "text/plain": [
       "HBox(children=(IntProgress(value=0, description='Equilibrate sweep', style=ProgressStyle(description_width='in…"
      ]
     },
     "metadata": {},
     "output_type": "display_data"
    },
    {
     "data": {
      "application/vnd.jupyter.widget-view+json": {
       "model_id": "",
       "version_major": 2,
       "version_minor": 0
      },
      "text/plain": [
       "HBox(children=(IntProgress(value=0, description='Measurement sweep', max=20000, style=ProgressStyle(descriptio…"
      ]
     },
     "metadata": {},
     "output_type": "display_data"
    },
    {
     "data": {
      "application/vnd.jupyter.widget-view+json": {
       "model_id": "",
       "version_major": 2,
       "version_minor": 0
      },
      "text/plain": [
       "HBox(children=(IntProgress(value=0, description='Equilibrate sweep', style=ProgressStyle(description_width='in…"
      ]
     },
     "metadata": {},
     "output_type": "display_data"
    },
    {
     "data": {
      "application/vnd.jupyter.widget-view+json": {
       "model_id": "",
       "version_major": 2,
       "version_minor": 0
      },
      "text/plain": [
       "HBox(children=(IntProgress(value=0, description='Measurement sweep', max=20000, style=ProgressStyle(descriptio…"
      ]
     },
     "metadata": {},
     "output_type": "display_data"
    },
    {
     "data": {
      "application/vnd.jupyter.widget-view+json": {
       "model_id": "",
       "version_major": 2,
       "version_minor": 0
      },
      "text/plain": [
       "HBox(children=(IntProgress(value=0, description='Equilibrate sweep', style=ProgressStyle(description_width='in…"
      ]
     },
     "metadata": {},
     "output_type": "display_data"
    },
    {
     "data": {
      "application/vnd.jupyter.widget-view+json": {
       "model_id": "",
       "version_major": 2,
       "version_minor": 0
      },
      "text/plain": [
       "HBox(children=(IntProgress(value=0, description='Measurement sweep', max=20000, style=ProgressStyle(descriptio…"
      ]
     },
     "metadata": {},
     "output_type": "display_data"
    },
    {
     "data": {
      "application/vnd.jupyter.widget-view+json": {
       "model_id": "",
       "version_major": 2,
       "version_minor": 0
      },
      "text/plain": [
       "HBox(children=(IntProgress(value=0, description='Equilibrate sweep', style=ProgressStyle(description_width='in…"
      ]
     },
     "metadata": {},
     "output_type": "display_data"
    },
    {
     "data": {
      "application/vnd.jupyter.widget-view+json": {
       "model_id": "",
       "version_major": 2,
       "version_minor": 0
      },
      "text/plain": [
       "HBox(children=(IntProgress(value=0, description='Measurement sweep', max=20000, style=ProgressStyle(descriptio…"
      ]
     },
     "metadata": {},
     "output_type": "display_data"
    },
    {
     "data": {
      "application/vnd.jupyter.widget-view+json": {
       "model_id": "",
       "version_major": 2,
       "version_minor": 0
      },
      "text/plain": [
       "HBox(children=(IntProgress(value=0, description='Equilibrate sweep', style=ProgressStyle(description_width='in…"
      ]
     },
     "metadata": {},
     "output_type": "display_data"
    },
    {
     "data": {
      "application/vnd.jupyter.widget-view+json": {
       "model_id": "",
       "version_major": 2,
       "version_minor": 0
      },
      "text/plain": [
       "HBox(children=(IntProgress(value=0, description='Measurement sweep', max=20000, style=ProgressStyle(descriptio…"
      ]
     },
     "metadata": {},
     "output_type": "display_data"
    },
    {
     "data": {
      "application/vnd.jupyter.widget-view+json": {
       "model_id": "",
       "version_major": 2,
       "version_minor": 0
      },
      "text/plain": [
       "HBox(children=(IntProgress(value=0, description='Equilibrate sweep', style=ProgressStyle(description_width='in…"
      ]
     },
     "metadata": {},
     "output_type": "display_data"
    },
    {
     "data": {
      "application/vnd.jupyter.widget-view+json": {
       "model_id": "",
       "version_major": 2,
       "version_minor": 0
      },
      "text/plain": [
       "HBox(children=(IntProgress(value=0, description='Measurement sweep', max=20000, style=ProgressStyle(descriptio…"
      ]
     },
     "metadata": {},
     "output_type": "display_data"
    },
    {
     "data": {
      "application/vnd.jupyter.widget-view+json": {
       "model_id": "",
       "version_major": 2,
       "version_minor": 0
      },
      "text/plain": [
       "HBox(children=(IntProgress(value=0, description='Equilibrate sweep', style=ProgressStyle(description_width='in…"
      ]
     },
     "metadata": {},
     "output_type": "display_data"
    },
    {
     "data": {
      "application/vnd.jupyter.widget-view+json": {
       "model_id": "",
       "version_major": 2,
       "version_minor": 0
      },
      "text/plain": [
       "HBox(children=(IntProgress(value=0, description='Measurement sweep', max=20000, style=ProgressStyle(descriptio…"
      ]
     },
     "metadata": {},
     "output_type": "display_data"
    },
    {
     "data": {
      "application/vnd.jupyter.widget-view+json": {
       "model_id": "",
       "version_major": 2,
       "version_minor": 0
      },
      "text/plain": [
       "HBox(children=(IntProgress(value=0, description='Col', max=20, style=ProgressStyle(description_width='initial'…"
      ]
     },
     "metadata": {},
     "output_type": "display_data"
    },
    {
     "data": {
      "application/vnd.jupyter.widget-view+json": {
       "model_id": "",
       "version_major": 2,
       "version_minor": 0
      },
      "text/plain": [
       "HBox(children=(IntProgress(value=0, description='Equilibrate sweep', style=ProgressStyle(description_width='in…"
      ]
     },
     "metadata": {},
     "output_type": "display_data"
    },
    {
     "data": {
      "application/vnd.jupyter.widget-view+json": {
       "model_id": "",
       "version_major": 2,
       "version_minor": 0
      },
      "text/plain": [
       "HBox(children=(IntProgress(value=0, description='Measurement sweep', max=20000, style=ProgressStyle(descriptio…"
      ]
     },
     "metadata": {},
     "output_type": "display_data"
    },
    {
     "data": {
      "application/vnd.jupyter.widget-view+json": {
       "model_id": "",
       "version_major": 2,
       "version_minor": 0
      },
      "text/plain": [
       "HBox(children=(IntProgress(value=0, description='Equilibrate sweep', style=ProgressStyle(description_width='in…"
      ]
     },
     "metadata": {},
     "output_type": "display_data"
    },
    {
     "data": {
      "application/vnd.jupyter.widget-view+json": {
       "model_id": "",
       "version_major": 2,
       "version_minor": 0
      },
      "text/plain": [
       "HBox(children=(IntProgress(value=0, description='Measurement sweep', max=20000, style=ProgressStyle(descriptio…"
      ]
     },
     "metadata": {},
     "output_type": "display_data"
    },
    {
     "data": {
      "application/vnd.jupyter.widget-view+json": {
       "model_id": "",
       "version_major": 2,
       "version_minor": 0
      },
      "text/plain": [
       "HBox(children=(IntProgress(value=0, description='Equilibrate sweep', style=ProgressStyle(description_width='in…"
      ]
     },
     "metadata": {},
     "output_type": "display_data"
    },
    {
     "data": {
      "application/vnd.jupyter.widget-view+json": {
       "model_id": "",
       "version_major": 2,
       "version_minor": 0
      },
      "text/plain": [
       "HBox(children=(IntProgress(value=0, description='Measurement sweep', max=20000, style=ProgressStyle(descriptio…"
      ]
     },
     "metadata": {},
     "output_type": "display_data"
    },
    {
     "data": {
      "application/vnd.jupyter.widget-view+json": {
       "model_id": "",
       "version_major": 2,
       "version_minor": 0
      },
      "text/plain": [
       "HBox(children=(IntProgress(value=0, description='Equilibrate sweep', style=ProgressStyle(description_width='in…"
      ]
     },
     "metadata": {},
     "output_type": "display_data"
    },
    {
     "data": {
      "application/vnd.jupyter.widget-view+json": {
       "model_id": "",
       "version_major": 2,
       "version_minor": 0
      },
      "text/plain": [
       "HBox(children=(IntProgress(value=0, description='Measurement sweep', max=20000, style=ProgressStyle(descriptio…"
      ]
     },
     "metadata": {},
     "output_type": "display_data"
    },
    {
     "data": {
      "application/vnd.jupyter.widget-view+json": {
       "model_id": "",
       "version_major": 2,
       "version_minor": 0
      },
      "text/plain": [
       "HBox(children=(IntProgress(value=0, description='Equilibrate sweep', style=ProgressStyle(description_width='in…"
      ]
     },
     "metadata": {},
     "output_type": "display_data"
    },
    {
     "data": {
      "application/vnd.jupyter.widget-view+json": {
       "model_id": "",
       "version_major": 2,
       "version_minor": 0
      },
      "text/plain": [
       "HBox(children=(IntProgress(value=0, description='Measurement sweep', max=20000, style=ProgressStyle(descriptio…"
      ]
     },
     "metadata": {},
     "output_type": "display_data"
    },
    {
     "data": {
      "application/vnd.jupyter.widget-view+json": {
       "model_id": "",
       "version_major": 2,
       "version_minor": 0
      },
      "text/plain": [
       "HBox(children=(IntProgress(value=0, description='Equilibrate sweep', style=ProgressStyle(description_width='in…"
      ]
     },
     "metadata": {},
     "output_type": "display_data"
    },
    {
     "data": {
      "application/vnd.jupyter.widget-view+json": {
       "model_id": "",
       "version_major": 2,
       "version_minor": 0
      },
      "text/plain": [
       "HBox(children=(IntProgress(value=0, description='Measurement sweep', max=20000, style=ProgressStyle(descriptio…"
      ]
     },
     "metadata": {},
     "output_type": "display_data"
    },
    {
     "data": {
      "application/vnd.jupyter.widget-view+json": {
       "model_id": "",
       "version_major": 2,
       "version_minor": 0
      },
      "text/plain": [
       "HBox(children=(IntProgress(value=0, description='Equilibrate sweep', style=ProgressStyle(description_width='in…"
      ]
     },
     "metadata": {},
     "output_type": "display_data"
    },
    {
     "data": {
      "application/vnd.jupyter.widget-view+json": {
       "model_id": "",
       "version_major": 2,
       "version_minor": 0
      },
      "text/plain": [
       "HBox(children=(IntProgress(value=0, description='Measurement sweep', max=20000, style=ProgressStyle(descriptio…"
      ]
     },
     "metadata": {},
     "output_type": "display_data"
    },
    {
     "data": {
      "application/vnd.jupyter.widget-view+json": {
       "model_id": "",
       "version_major": 2,
       "version_minor": 0
      },
      "text/plain": [
       "HBox(children=(IntProgress(value=0, description='Equilibrate sweep', style=ProgressStyle(description_width='in…"
      ]
     },
     "metadata": {},
     "output_type": "display_data"
    },
    {
     "data": {
      "application/vnd.jupyter.widget-view+json": {
       "model_id": "",
       "version_major": 2,
       "version_minor": 0
      },
      "text/plain": [
       "HBox(children=(IntProgress(value=0, description='Measurement sweep', max=20000, style=ProgressStyle(descriptio…"
      ]
     },
     "metadata": {},
     "output_type": "display_data"
    },
    {
     "data": {
      "application/vnd.jupyter.widget-view+json": {
       "model_id": "",
       "version_major": 2,
       "version_minor": 0
      },
      "text/plain": [
       "HBox(children=(IntProgress(value=0, description='Equilibrate sweep', style=ProgressStyle(description_width='in…"
      ]
     },
     "metadata": {},
     "output_type": "display_data"
    },
    {
     "data": {
      "application/vnd.jupyter.widget-view+json": {
       "model_id": "",
       "version_major": 2,
       "version_minor": 0
      },
      "text/plain": [
       "HBox(children=(IntProgress(value=0, description='Measurement sweep', max=20000, style=ProgressStyle(descriptio…"
      ]
     },
     "metadata": {},
     "output_type": "display_data"
    },
    {
     "data": {
      "application/vnd.jupyter.widget-view+json": {
       "model_id": "",
       "version_major": 2,
       "version_minor": 0
      },
      "text/plain": [
       "HBox(children=(IntProgress(value=0, description='Equilibrate sweep', style=ProgressStyle(description_width='in…"
      ]
     },
     "metadata": {},
     "output_type": "display_data"
    },
    {
     "data": {
      "application/vnd.jupyter.widget-view+json": {
       "model_id": "",
       "version_major": 2,
       "version_minor": 0
      },
      "text/plain": [
       "HBox(children=(IntProgress(value=0, description='Measurement sweep', max=20000, style=ProgressStyle(descriptio…"
      ]
     },
     "metadata": {},
     "output_type": "display_data"
    },
    {
     "data": {
      "application/vnd.jupyter.widget-view+json": {
       "model_id": "",
       "version_major": 2,
       "version_minor": 0
      },
      "text/plain": [
       "HBox(children=(IntProgress(value=0, description='Equilibrate sweep', style=ProgressStyle(description_width='in…"
      ]
     },
     "metadata": {},
     "output_type": "display_data"
    },
    {
     "data": {
      "application/vnd.jupyter.widget-view+json": {
       "model_id": "",
       "version_major": 2,
       "version_minor": 0
      },
      "text/plain": [
       "HBox(children=(IntProgress(value=0, description='Measurement sweep', max=20000, style=ProgressStyle(descriptio…"
      ]
     },
     "metadata": {},
     "output_type": "display_data"
    },
    {
     "data": {
      "application/vnd.jupyter.widget-view+json": {
       "model_id": "",
       "version_major": 2,
       "version_minor": 0
      },
      "text/plain": [
       "HBox(children=(IntProgress(value=0, description='Equilibrate sweep', style=ProgressStyle(description_width='in…"
      ]
     },
     "metadata": {},
     "output_type": "display_data"
    },
    {
     "data": {
      "application/vnd.jupyter.widget-view+json": {
       "model_id": "",
       "version_major": 2,
       "version_minor": 0
      },
      "text/plain": [
       "HBox(children=(IntProgress(value=0, description='Measurement sweep', max=20000, style=ProgressStyle(descriptio…"
      ]
     },
     "metadata": {},
     "output_type": "display_data"
    },
    {
     "data": {
      "application/vnd.jupyter.widget-view+json": {
       "model_id": "",
       "version_major": 2,
       "version_minor": 0
      },
      "text/plain": [
       "HBox(children=(IntProgress(value=0, description='Equilibrate sweep', style=ProgressStyle(description_width='in…"
      ]
     },
     "metadata": {},
     "output_type": "display_data"
    },
    {
     "data": {
      "application/vnd.jupyter.widget-view+json": {
       "model_id": "",
       "version_major": 2,
       "version_minor": 0
      },
      "text/plain": [
       "HBox(children=(IntProgress(value=0, description='Measurement sweep', max=20000, style=ProgressStyle(descriptio…"
      ]
     },
     "metadata": {},
     "output_type": "display_data"
    },
    {
     "data": {
      "application/vnd.jupyter.widget-view+json": {
       "model_id": "",
       "version_major": 2,
       "version_minor": 0
      },
      "text/plain": [
       "HBox(children=(IntProgress(value=0, description='Equilibrate sweep', style=ProgressStyle(description_width='in…"
      ]
     },
     "metadata": {},
     "output_type": "display_data"
    },
    {
     "data": {
      "application/vnd.jupyter.widget-view+json": {
       "model_id": "",
       "version_major": 2,
       "version_minor": 0
      },
      "text/plain": [
       "HBox(children=(IntProgress(value=0, description='Measurement sweep', max=20000, style=ProgressStyle(descriptio…"
      ]
     },
     "metadata": {},
     "output_type": "display_data"
    },
    {
     "data": {
      "application/vnd.jupyter.widget-view+json": {
       "model_id": "",
       "version_major": 2,
       "version_minor": 0
      },
      "text/plain": [
       "HBox(children=(IntProgress(value=0, description='Equilibrate sweep', style=ProgressStyle(description_width='in…"
      ]
     },
     "metadata": {},
     "output_type": "display_data"
    },
    {
     "data": {
      "application/vnd.jupyter.widget-view+json": {
       "model_id": "",
       "version_major": 2,
       "version_minor": 0
      },
      "text/plain": [
       "HBox(children=(IntProgress(value=0, description='Measurement sweep', max=20000, style=ProgressStyle(descriptio…"
      ]
     },
     "metadata": {},
     "output_type": "display_data"
    },
    {
     "data": {
      "application/vnd.jupyter.widget-view+json": {
       "model_id": "",
       "version_major": 2,
       "version_minor": 0
      },
      "text/plain": [
       "HBox(children=(IntProgress(value=0, description='Equilibrate sweep', style=ProgressStyle(description_width='in…"
      ]
     },
     "metadata": {},
     "output_type": "display_data"
    },
    {
     "data": {
      "application/vnd.jupyter.widget-view+json": {
       "model_id": "",
       "version_major": 2,
       "version_minor": 0
      },
      "text/plain": [
       "HBox(children=(IntProgress(value=0, description='Measurement sweep', max=20000, style=ProgressStyle(descriptio…"
      ]
     },
     "metadata": {},
     "output_type": "display_data"
    },
    {
     "data": {
      "application/vnd.jupyter.widget-view+json": {
       "model_id": "",
       "version_major": 2,
       "version_minor": 0
      },
      "text/plain": [
       "HBox(children=(IntProgress(value=0, description='Equilibrate sweep', style=ProgressStyle(description_width='in…"
      ]
     },
     "metadata": {},
     "output_type": "display_data"
    },
    {
     "data": {
      "application/vnd.jupyter.widget-view+json": {
       "model_id": "",
       "version_major": 2,
       "version_minor": 0
      },
      "text/plain": [
       "HBox(children=(IntProgress(value=0, description='Measurement sweep', max=20000, style=ProgressStyle(descriptio…"
      ]
     },
     "metadata": {},
     "output_type": "display_data"
    },
    {
     "data": {
      "application/vnd.jupyter.widget-view+json": {
       "model_id": "",
       "version_major": 2,
       "version_minor": 0
      },
      "text/plain": [
       "HBox(children=(IntProgress(value=0, description='Equilibrate sweep', style=ProgressStyle(description_width='in…"
      ]
     },
     "metadata": {},
     "output_type": "display_data"
    },
    {
     "data": {
      "application/vnd.jupyter.widget-view+json": {
       "model_id": "",
       "version_major": 2,
       "version_minor": 0
      },
      "text/plain": [
       "HBox(children=(IntProgress(value=0, description='Measurement sweep', max=20000, style=ProgressStyle(descriptio…"
      ]
     },
     "metadata": {},
     "output_type": "display_data"
    },
    {
     "data": {
      "application/vnd.jupyter.widget-view+json": {
       "model_id": "",
       "version_major": 2,
       "version_minor": 0
      },
      "text/plain": [
       "HBox(children=(IntProgress(value=0, description='Equilibrate sweep', style=ProgressStyle(description_width='in…"
      ]
     },
     "metadata": {},
     "output_type": "display_data"
    },
    {
     "data": {
      "application/vnd.jupyter.widget-view+json": {
       "model_id": "",
       "version_major": 2,
       "version_minor": 0
      },
      "text/plain": [
       "HBox(children=(IntProgress(value=0, description='Measurement sweep', max=20000, style=ProgressStyle(descriptio…"
      ]
     },
     "metadata": {},
     "output_type": "display_data"
    },
    {
     "data": {
      "application/vnd.jupyter.widget-view+json": {
       "model_id": "",
       "version_major": 2,
       "version_minor": 0
      },
      "text/plain": [
       "HBox(children=(IntProgress(value=0, description='Equilibrate sweep', style=ProgressStyle(description_width='in…"
      ]
     },
     "metadata": {},
     "output_type": "display_data"
    },
    {
     "data": {
      "application/vnd.jupyter.widget-view+json": {
       "model_id": "",
       "version_major": 2,
       "version_minor": 0
      },
      "text/plain": [
       "HBox(children=(IntProgress(value=0, description='Measurement sweep', max=20000, style=ProgressStyle(descriptio…"
      ]
     },
     "metadata": {},
     "output_type": "display_data"
    },
    {
     "data": {
      "application/vnd.jupyter.widget-view+json": {
       "model_id": "",
       "version_major": 2,
       "version_minor": 0
      },
      "text/plain": [
       "HBox(children=(IntProgress(value=0, description='Col', max=20, style=ProgressStyle(description_width='initial'…"
      ]
     },
     "metadata": {},
     "output_type": "display_data"
    },
    {
     "data": {
      "application/vnd.jupyter.widget-view+json": {
       "model_id": "",
       "version_major": 2,
       "version_minor": 0
      },
      "text/plain": [
       "HBox(children=(IntProgress(value=0, description='Equilibrate sweep', style=ProgressStyle(description_width='in…"
      ]
     },
     "metadata": {},
     "output_type": "display_data"
    },
    {
     "data": {
      "application/vnd.jupyter.widget-view+json": {
       "model_id": "",
       "version_major": 2,
       "version_minor": 0
      },
      "text/plain": [
       "HBox(children=(IntProgress(value=0, description='Measurement sweep', max=20000, style=ProgressStyle(descriptio…"
      ]
     },
     "metadata": {},
     "output_type": "display_data"
    },
    {
     "data": {
      "application/vnd.jupyter.widget-view+json": {
       "model_id": "",
       "version_major": 2,
       "version_minor": 0
      },
      "text/plain": [
       "HBox(children=(IntProgress(value=0, description='Equilibrate sweep', style=ProgressStyle(description_width='in…"
      ]
     },
     "metadata": {},
     "output_type": "display_data"
    },
    {
     "data": {
      "application/vnd.jupyter.widget-view+json": {
       "model_id": "",
       "version_major": 2,
       "version_minor": 0
      },
      "text/plain": [
       "HBox(children=(IntProgress(value=0, description='Measurement sweep', max=20000, style=ProgressStyle(descriptio…"
      ]
     },
     "metadata": {},
     "output_type": "display_data"
    },
    {
     "data": {
      "application/vnd.jupyter.widget-view+json": {
       "model_id": "",
       "version_major": 2,
       "version_minor": 0
      },
      "text/plain": [
       "HBox(children=(IntProgress(value=0, description='Equilibrate sweep', style=ProgressStyle(description_width='in…"
      ]
     },
     "metadata": {},
     "output_type": "display_data"
    },
    {
     "data": {
      "application/vnd.jupyter.widget-view+json": {
       "model_id": "",
       "version_major": 2,
       "version_minor": 0
      },
      "text/plain": [
       "HBox(children=(IntProgress(value=0, description='Measurement sweep', max=20000, style=ProgressStyle(descriptio…"
      ]
     },
     "metadata": {},
     "output_type": "display_data"
    },
    {
     "data": {
      "application/vnd.jupyter.widget-view+json": {
       "model_id": "",
       "version_major": 2,
       "version_minor": 0
      },
      "text/plain": [
       "HBox(children=(IntProgress(value=0, description='Equilibrate sweep', style=ProgressStyle(description_width='in…"
      ]
     },
     "metadata": {},
     "output_type": "display_data"
    },
    {
     "data": {
      "application/vnd.jupyter.widget-view+json": {
       "model_id": "",
       "version_major": 2,
       "version_minor": 0
      },
      "text/plain": [
       "HBox(children=(IntProgress(value=0, description='Measurement sweep', max=20000, style=ProgressStyle(descriptio…"
      ]
     },
     "metadata": {},
     "output_type": "display_data"
    },
    {
     "data": {
      "application/vnd.jupyter.widget-view+json": {
       "model_id": "",
       "version_major": 2,
       "version_minor": 0
      },
      "text/plain": [
       "HBox(children=(IntProgress(value=0, description='Equilibrate sweep', style=ProgressStyle(description_width='in…"
      ]
     },
     "metadata": {},
     "output_type": "display_data"
    },
    {
     "data": {
      "application/vnd.jupyter.widget-view+json": {
       "model_id": "",
       "version_major": 2,
       "version_minor": 0
      },
      "text/plain": [
       "HBox(children=(IntProgress(value=0, description='Measurement sweep', max=20000, style=ProgressStyle(descriptio…"
      ]
     },
     "metadata": {},
     "output_type": "display_data"
    },
    {
     "data": {
      "application/vnd.jupyter.widget-view+json": {
       "model_id": "",
       "version_major": 2,
       "version_minor": 0
      },
      "text/plain": [
       "HBox(children=(IntProgress(value=0, description='Equilibrate sweep', style=ProgressStyle(description_width='in…"
      ]
     },
     "metadata": {},
     "output_type": "display_data"
    },
    {
     "data": {
      "application/vnd.jupyter.widget-view+json": {
       "model_id": "",
       "version_major": 2,
       "version_minor": 0
      },
      "text/plain": [
       "HBox(children=(IntProgress(value=0, description='Measurement sweep', max=20000, style=ProgressStyle(descriptio…"
      ]
     },
     "metadata": {},
     "output_type": "display_data"
    },
    {
     "data": {
      "application/vnd.jupyter.widget-view+json": {
       "model_id": "",
       "version_major": 2,
       "version_minor": 0
      },
      "text/plain": [
       "HBox(children=(IntProgress(value=0, description='Equilibrate sweep', style=ProgressStyle(description_width='in…"
      ]
     },
     "metadata": {},
     "output_type": "display_data"
    },
    {
     "data": {
      "application/vnd.jupyter.widget-view+json": {
       "model_id": "",
       "version_major": 2,
       "version_minor": 0
      },
      "text/plain": [
       "HBox(children=(IntProgress(value=0, description='Measurement sweep', max=20000, style=ProgressStyle(descriptio…"
      ]
     },
     "metadata": {},
     "output_type": "display_data"
    },
    {
     "data": {
      "application/vnd.jupyter.widget-view+json": {
       "model_id": "",
       "version_major": 2,
       "version_minor": 0
      },
      "text/plain": [
       "HBox(children=(IntProgress(value=0, description='Equilibrate sweep', style=ProgressStyle(description_width='in…"
      ]
     },
     "metadata": {},
     "output_type": "display_data"
    },
    {
     "data": {
      "application/vnd.jupyter.widget-view+json": {
       "model_id": "",
       "version_major": 2,
       "version_minor": 0
      },
      "text/plain": [
       "HBox(children=(IntProgress(value=0, description='Measurement sweep', max=20000, style=ProgressStyle(descriptio…"
      ]
     },
     "metadata": {},
     "output_type": "display_data"
    },
    {
     "data": {
      "application/vnd.jupyter.widget-view+json": {
       "model_id": "",
       "version_major": 2,
       "version_minor": 0
      },
      "text/plain": [
       "HBox(children=(IntProgress(value=0, description='Equilibrate sweep', style=ProgressStyle(description_width='in…"
      ]
     },
     "metadata": {},
     "output_type": "display_data"
    },
    {
     "data": {
      "application/vnd.jupyter.widget-view+json": {
       "model_id": "",
       "version_major": 2,
       "version_minor": 0
      },
      "text/plain": [
       "HBox(children=(IntProgress(value=0, description='Measurement sweep', max=20000, style=ProgressStyle(descriptio…"
      ]
     },
     "metadata": {},
     "output_type": "display_data"
    },
    {
     "data": {
      "application/vnd.jupyter.widget-view+json": {
       "model_id": "",
       "version_major": 2,
       "version_minor": 0
      },
      "text/plain": [
       "HBox(children=(IntProgress(value=0, description='Equilibrate sweep', style=ProgressStyle(description_width='in…"
      ]
     },
     "metadata": {},
     "output_type": "display_data"
    },
    {
     "data": {
      "application/vnd.jupyter.widget-view+json": {
       "model_id": "",
       "version_major": 2,
       "version_minor": 0
      },
      "text/plain": [
       "HBox(children=(IntProgress(value=0, description='Measurement sweep', max=20000, style=ProgressStyle(descriptio…"
      ]
     },
     "metadata": {},
     "output_type": "display_data"
    },
    {
     "data": {
      "application/vnd.jupyter.widget-view+json": {
       "model_id": "",
       "version_major": 2,
       "version_minor": 0
      },
      "text/plain": [
       "HBox(children=(IntProgress(value=0, description='Equilibrate sweep', style=ProgressStyle(description_width='in…"
      ]
     },
     "metadata": {},
     "output_type": "display_data"
    },
    {
     "data": {
      "application/vnd.jupyter.widget-view+json": {
       "model_id": "",
       "version_major": 2,
       "version_minor": 0
      },
      "text/plain": [
       "HBox(children=(IntProgress(value=0, description='Measurement sweep', max=20000, style=ProgressStyle(descriptio…"
      ]
     },
     "metadata": {},
     "output_type": "display_data"
    },
    {
     "data": {
      "application/vnd.jupyter.widget-view+json": {
       "model_id": "",
       "version_major": 2,
       "version_minor": 0
      },
      "text/plain": [
       "HBox(children=(IntProgress(value=0, description='Equilibrate sweep', style=ProgressStyle(description_width='in…"
      ]
     },
     "metadata": {},
     "output_type": "display_data"
    },
    {
     "data": {
      "application/vnd.jupyter.widget-view+json": {
       "model_id": "",
       "version_major": 2,
       "version_minor": 0
      },
      "text/plain": [
       "HBox(children=(IntProgress(value=0, description='Measurement sweep', max=20000, style=ProgressStyle(descriptio…"
      ]
     },
     "metadata": {},
     "output_type": "display_data"
    },
    {
     "data": {
      "application/vnd.jupyter.widget-view+json": {
       "model_id": "",
       "version_major": 2,
       "version_minor": 0
      },
      "text/plain": [
       "HBox(children=(IntProgress(value=0, description='Equilibrate sweep', style=ProgressStyle(description_width='in…"
      ]
     },
     "metadata": {},
     "output_type": "display_data"
    },
    {
     "data": {
      "application/vnd.jupyter.widget-view+json": {
       "model_id": "",
       "version_major": 2,
       "version_minor": 0
      },
      "text/plain": [
       "HBox(children=(IntProgress(value=0, description='Measurement sweep', max=20000, style=ProgressStyle(descriptio…"
      ]
     },
     "metadata": {},
     "output_type": "display_data"
    },
    {
     "data": {
      "application/vnd.jupyter.widget-view+json": {
       "model_id": "",
       "version_major": 2,
       "version_minor": 0
      },
      "text/plain": [
       "HBox(children=(IntProgress(value=0, description='Equilibrate sweep', style=ProgressStyle(description_width='in…"
      ]
     },
     "metadata": {},
     "output_type": "display_data"
    },
    {
     "data": {
      "application/vnd.jupyter.widget-view+json": {
       "model_id": "",
       "version_major": 2,
       "version_minor": 0
      },
      "text/plain": [
       "HBox(children=(IntProgress(value=0, description='Measurement sweep', max=20000, style=ProgressStyle(descriptio…"
      ]
     },
     "metadata": {},
     "output_type": "display_data"
    },
    {
     "data": {
      "application/vnd.jupyter.widget-view+json": {
       "model_id": "",
       "version_major": 2,
       "version_minor": 0
      },
      "text/plain": [
       "HBox(children=(IntProgress(value=0, description='Equilibrate sweep', style=ProgressStyle(description_width='in…"
      ]
     },
     "metadata": {},
     "output_type": "display_data"
    },
    {
     "data": {
      "application/vnd.jupyter.widget-view+json": {
       "model_id": "",
       "version_major": 2,
       "version_minor": 0
      },
      "text/plain": [
       "HBox(children=(IntProgress(value=0, description='Measurement sweep', max=20000, style=ProgressStyle(descriptio…"
      ]
     },
     "metadata": {},
     "output_type": "display_data"
    },
    {
     "data": {
      "application/vnd.jupyter.widget-view+json": {
       "model_id": "",
       "version_major": 2,
       "version_minor": 0
      },
      "text/plain": [
       "HBox(children=(IntProgress(value=0, description='Equilibrate sweep', style=ProgressStyle(description_width='in…"
      ]
     },
     "metadata": {},
     "output_type": "display_data"
    },
    {
     "data": {
      "application/vnd.jupyter.widget-view+json": {
       "model_id": "",
       "version_major": 2,
       "version_minor": 0
      },
      "text/plain": [
       "HBox(children=(IntProgress(value=0, description='Measurement sweep', max=20000, style=ProgressStyle(descriptio…"
      ]
     },
     "metadata": {},
     "output_type": "display_data"
    },
    {
     "data": {
      "application/vnd.jupyter.widget-view+json": {
       "model_id": "",
       "version_major": 2,
       "version_minor": 0
      },
      "text/plain": [
       "HBox(children=(IntProgress(value=0, description='Equilibrate sweep', style=ProgressStyle(description_width='in…"
      ]
     },
     "metadata": {},
     "output_type": "display_data"
    },
    {
     "data": {
      "application/vnd.jupyter.widget-view+json": {
       "model_id": "",
       "version_major": 2,
       "version_minor": 0
      },
      "text/plain": [
       "HBox(children=(IntProgress(value=0, description='Measurement sweep', max=20000, style=ProgressStyle(descriptio…"
      ]
     },
     "metadata": {},
     "output_type": "display_data"
    },
    {
     "data": {
      "application/vnd.jupyter.widget-view+json": {
       "model_id": "",
       "version_major": 2,
       "version_minor": 0
      },
      "text/plain": [
       "HBox(children=(IntProgress(value=0, description='Equilibrate sweep', style=ProgressStyle(description_width='in…"
      ]
     },
     "metadata": {},
     "output_type": "display_data"
    },
    {
     "data": {
      "application/vnd.jupyter.widget-view+json": {
       "model_id": "",
       "version_major": 2,
       "version_minor": 0
      },
      "text/plain": [
       "HBox(children=(IntProgress(value=0, description='Measurement sweep', max=20000, style=ProgressStyle(descriptio…"
      ]
     },
     "metadata": {},
     "output_type": "display_data"
    },
    {
     "data": {
      "application/vnd.jupyter.widget-view+json": {
       "model_id": "",
       "version_major": 2,
       "version_minor": 0
      },
      "text/plain": [
       "HBox(children=(IntProgress(value=0, description='Equilibrate sweep', style=ProgressStyle(description_width='in…"
      ]
     },
     "metadata": {},
     "output_type": "display_data"
    },
    {
     "data": {
      "application/vnd.jupyter.widget-view+json": {
       "model_id": "",
       "version_major": 2,
       "version_minor": 0
      },
      "text/plain": [
       "HBox(children=(IntProgress(value=0, description='Measurement sweep', max=20000, style=ProgressStyle(descriptio…"
      ]
     },
     "metadata": {},
     "output_type": "display_data"
    },
    {
     "data": {
      "application/vnd.jupyter.widget-view+json": {
       "model_id": "",
       "version_major": 2,
       "version_minor": 0
      },
      "text/plain": [
       "HBox(children=(IntProgress(value=0, description='Equilibrate sweep', style=ProgressStyle(description_width='in…"
      ]
     },
     "metadata": {},
     "output_type": "display_data"
    },
    {
     "data": {
      "application/vnd.jupyter.widget-view+json": {
       "model_id": "",
       "version_major": 2,
       "version_minor": 0
      },
      "text/plain": [
       "HBox(children=(IntProgress(value=0, description='Measurement sweep', max=20000, style=ProgressStyle(descriptio…"
      ]
     },
     "metadata": {},
     "output_type": "display_data"
    },
    {
     "data": {
      "application/vnd.jupyter.widget-view+json": {
       "model_id": "",
       "version_major": 2,
       "version_minor": 0
      },
      "text/plain": [
       "HBox(children=(IntProgress(value=0, description='Col', max=20, style=ProgressStyle(description_width='initial'…"
      ]
     },
     "metadata": {},
     "output_type": "display_data"
    },
    {
     "data": {
      "application/vnd.jupyter.widget-view+json": {
       "model_id": "",
       "version_major": 2,
       "version_minor": 0
      },
      "text/plain": [
       "HBox(children=(IntProgress(value=0, description='Equilibrate sweep', style=ProgressStyle(description_width='in…"
      ]
     },
     "metadata": {},
     "output_type": "display_data"
    },
    {
     "data": {
      "application/vnd.jupyter.widget-view+json": {
       "model_id": "",
       "version_major": 2,
       "version_minor": 0
      },
      "text/plain": [
       "HBox(children=(IntProgress(value=0, description='Measurement sweep', max=20000, style=ProgressStyle(descriptio…"
      ]
     },
     "metadata": {},
     "output_type": "display_data"
    },
    {
     "data": {
      "application/vnd.jupyter.widget-view+json": {
       "model_id": "",
       "version_major": 2,
       "version_minor": 0
      },
      "text/plain": [
       "HBox(children=(IntProgress(value=0, description='Equilibrate sweep', style=ProgressStyle(description_width='in…"
      ]
     },
     "metadata": {},
     "output_type": "display_data"
    },
    {
     "data": {
      "application/vnd.jupyter.widget-view+json": {
       "model_id": "",
       "version_major": 2,
       "version_minor": 0
      },
      "text/plain": [
       "HBox(children=(IntProgress(value=0, description='Measurement sweep', max=20000, style=ProgressStyle(descriptio…"
      ]
     },
     "metadata": {},
     "output_type": "display_data"
    },
    {
     "data": {
      "application/vnd.jupyter.widget-view+json": {
       "model_id": "",
       "version_major": 2,
       "version_minor": 0
      },
      "text/plain": [
       "HBox(children=(IntProgress(value=0, description='Equilibrate sweep', style=ProgressStyle(description_width='in…"
      ]
     },
     "metadata": {},
     "output_type": "display_data"
    },
    {
     "data": {
      "application/vnd.jupyter.widget-view+json": {
       "model_id": "",
       "version_major": 2,
       "version_minor": 0
      },
      "text/plain": [
       "HBox(children=(IntProgress(value=0, description='Measurement sweep', max=20000, style=ProgressStyle(descriptio…"
      ]
     },
     "metadata": {},
     "output_type": "display_data"
    },
    {
     "data": {
      "application/vnd.jupyter.widget-view+json": {
       "model_id": "",
       "version_major": 2,
       "version_minor": 0
      },
      "text/plain": [
       "HBox(children=(IntProgress(value=0, description='Equilibrate sweep', style=ProgressStyle(description_width='in…"
      ]
     },
     "metadata": {},
     "output_type": "display_data"
    },
    {
     "data": {
      "application/vnd.jupyter.widget-view+json": {
       "model_id": "",
       "version_major": 2,
       "version_minor": 0
      },
      "text/plain": [
       "HBox(children=(IntProgress(value=0, description='Measurement sweep', max=20000, style=ProgressStyle(descriptio…"
      ]
     },
     "metadata": {},
     "output_type": "display_data"
    },
    {
     "data": {
      "application/vnd.jupyter.widget-view+json": {
       "model_id": "",
       "version_major": 2,
       "version_minor": 0
      },
      "text/plain": [
       "HBox(children=(IntProgress(value=0, description='Equilibrate sweep', style=ProgressStyle(description_width='in…"
      ]
     },
     "metadata": {},
     "output_type": "display_data"
    },
    {
     "data": {
      "application/vnd.jupyter.widget-view+json": {
       "model_id": "",
       "version_major": 2,
       "version_minor": 0
      },
      "text/plain": [
       "HBox(children=(IntProgress(value=0, description='Measurement sweep', max=20000, style=ProgressStyle(descriptio…"
      ]
     },
     "metadata": {},
     "output_type": "display_data"
    },
    {
     "data": {
      "application/vnd.jupyter.widget-view+json": {
       "model_id": "",
       "version_major": 2,
       "version_minor": 0
      },
      "text/plain": [
       "HBox(children=(IntProgress(value=0, description='Equilibrate sweep', style=ProgressStyle(description_width='in…"
      ]
     },
     "metadata": {},
     "output_type": "display_data"
    },
    {
     "data": {
      "application/vnd.jupyter.widget-view+json": {
       "model_id": "",
       "version_major": 2,
       "version_minor": 0
      },
      "text/plain": [
       "HBox(children=(IntProgress(value=0, description='Measurement sweep', max=20000, style=ProgressStyle(descriptio…"
      ]
     },
     "metadata": {},
     "output_type": "display_data"
    },
    {
     "data": {
      "application/vnd.jupyter.widget-view+json": {
       "model_id": "",
       "version_major": 2,
       "version_minor": 0
      },
      "text/plain": [
       "HBox(children=(IntProgress(value=0, description='Equilibrate sweep', style=ProgressStyle(description_width='in…"
      ]
     },
     "metadata": {},
     "output_type": "display_data"
    },
    {
     "data": {
      "application/vnd.jupyter.widget-view+json": {
       "model_id": "",
       "version_major": 2,
       "version_minor": 0
      },
      "text/plain": [
       "HBox(children=(IntProgress(value=0, description='Measurement sweep', max=20000, style=ProgressStyle(descriptio…"
      ]
     },
     "metadata": {},
     "output_type": "display_data"
    },
    {
     "data": {
      "application/vnd.jupyter.widget-view+json": {
       "model_id": "",
       "version_major": 2,
       "version_minor": 0
      },
      "text/plain": [
       "HBox(children=(IntProgress(value=0, description='Equilibrate sweep', style=ProgressStyle(description_width='in…"
      ]
     },
     "metadata": {},
     "output_type": "display_data"
    },
    {
     "data": {
      "application/vnd.jupyter.widget-view+json": {
       "model_id": "",
       "version_major": 2,
       "version_minor": 0
      },
      "text/plain": [
       "HBox(children=(IntProgress(value=0, description='Measurement sweep', max=20000, style=ProgressStyle(descriptio…"
      ]
     },
     "metadata": {},
     "output_type": "display_data"
    },
    {
     "data": {
      "application/vnd.jupyter.widget-view+json": {
       "model_id": "",
       "version_major": 2,
       "version_minor": 0
      },
      "text/plain": [
       "HBox(children=(IntProgress(value=0, description='Equilibrate sweep', style=ProgressStyle(description_width='in…"
      ]
     },
     "metadata": {},
     "output_type": "display_data"
    },
    {
     "data": {
      "application/vnd.jupyter.widget-view+json": {
       "model_id": "",
       "version_major": 2,
       "version_minor": 0
      },
      "text/plain": [
       "HBox(children=(IntProgress(value=0, description='Measurement sweep', max=20000, style=ProgressStyle(descriptio…"
      ]
     },
     "metadata": {},
     "output_type": "display_data"
    },
    {
     "data": {
      "application/vnd.jupyter.widget-view+json": {
       "model_id": "",
       "version_major": 2,
       "version_minor": 0
      },
      "text/plain": [
       "HBox(children=(IntProgress(value=0, description='Equilibrate sweep', style=ProgressStyle(description_width='in…"
      ]
     },
     "metadata": {},
     "output_type": "display_data"
    },
    {
     "data": {
      "application/vnd.jupyter.widget-view+json": {
       "model_id": "",
       "version_major": 2,
       "version_minor": 0
      },
      "text/plain": [
       "HBox(children=(IntProgress(value=0, description='Measurement sweep', max=20000, style=ProgressStyle(descriptio…"
      ]
     },
     "metadata": {},
     "output_type": "display_data"
    },
    {
     "data": {
      "application/vnd.jupyter.widget-view+json": {
       "model_id": "",
       "version_major": 2,
       "version_minor": 0
      },
      "text/plain": [
       "HBox(children=(IntProgress(value=0, description='Equilibrate sweep', style=ProgressStyle(description_width='in…"
      ]
     },
     "metadata": {},
     "output_type": "display_data"
    },
    {
     "data": {
      "application/vnd.jupyter.widget-view+json": {
       "model_id": "",
       "version_major": 2,
       "version_minor": 0
      },
      "text/plain": [
       "HBox(children=(IntProgress(value=0, description='Measurement sweep', max=20000, style=ProgressStyle(descriptio…"
      ]
     },
     "metadata": {},
     "output_type": "display_data"
    },
    {
     "data": {
      "application/vnd.jupyter.widget-view+json": {
       "model_id": "",
       "version_major": 2,
       "version_minor": 0
      },
      "text/plain": [
       "HBox(children=(IntProgress(value=0, description='Equilibrate sweep', style=ProgressStyle(description_width='in…"
      ]
     },
     "metadata": {},
     "output_type": "display_data"
    },
    {
     "data": {
      "application/vnd.jupyter.widget-view+json": {
       "model_id": "",
       "version_major": 2,
       "version_minor": 0
      },
      "text/plain": [
       "HBox(children=(IntProgress(value=0, description='Measurement sweep', max=20000, style=ProgressStyle(descriptio…"
      ]
     },
     "metadata": {},
     "output_type": "display_data"
    },
    {
     "data": {
      "application/vnd.jupyter.widget-view+json": {
       "model_id": "",
       "version_major": 2,
       "version_minor": 0
      },
      "text/plain": [
       "HBox(children=(IntProgress(value=0, description='Equilibrate sweep', style=ProgressStyle(description_width='in…"
      ]
     },
     "metadata": {},
     "output_type": "display_data"
    },
    {
     "data": {
      "application/vnd.jupyter.widget-view+json": {
       "model_id": "",
       "version_major": 2,
       "version_minor": 0
      },
      "text/plain": [
       "HBox(children=(IntProgress(value=0, description='Measurement sweep', max=20000, style=ProgressStyle(descriptio…"
      ]
     },
     "metadata": {},
     "output_type": "display_data"
    },
    {
     "data": {
      "application/vnd.jupyter.widget-view+json": {
       "model_id": "",
       "version_major": 2,
       "version_minor": 0
      },
      "text/plain": [
       "HBox(children=(IntProgress(value=0, description='Equilibrate sweep', style=ProgressStyle(description_width='in…"
      ]
     },
     "metadata": {},
     "output_type": "display_data"
    },
    {
     "data": {
      "application/vnd.jupyter.widget-view+json": {
       "model_id": "",
       "version_major": 2,
       "version_minor": 0
      },
      "text/plain": [
       "HBox(children=(IntProgress(value=0, description='Measurement sweep', max=20000, style=ProgressStyle(descriptio…"
      ]
     },
     "metadata": {},
     "output_type": "display_data"
    },
    {
     "data": {
      "application/vnd.jupyter.widget-view+json": {
       "model_id": "",
       "version_major": 2,
       "version_minor": 0
      },
      "text/plain": [
       "HBox(children=(IntProgress(value=0, description='Equilibrate sweep', style=ProgressStyle(description_width='in…"
      ]
     },
     "metadata": {},
     "output_type": "display_data"
    },
    {
     "data": {
      "application/vnd.jupyter.widget-view+json": {
       "model_id": "",
       "version_major": 2,
       "version_minor": 0
      },
      "text/plain": [
       "HBox(children=(IntProgress(value=0, description='Measurement sweep', max=20000, style=ProgressStyle(descriptio…"
      ]
     },
     "metadata": {},
     "output_type": "display_data"
    },
    {
     "data": {
      "application/vnd.jupyter.widget-view+json": {
       "model_id": "",
       "version_major": 2,
       "version_minor": 0
      },
      "text/plain": [
       "HBox(children=(IntProgress(value=0, description='Equilibrate sweep', style=ProgressStyle(description_width='in…"
      ]
     },
     "metadata": {},
     "output_type": "display_data"
    },
    {
     "data": {
      "application/vnd.jupyter.widget-view+json": {
       "model_id": "",
       "version_major": 2,
       "version_minor": 0
      },
      "text/plain": [
       "HBox(children=(IntProgress(value=0, description='Measurement sweep', max=20000, style=ProgressStyle(descriptio…"
      ]
     },
     "metadata": {},
     "output_type": "display_data"
    },
    {
     "data": {
      "application/vnd.jupyter.widget-view+json": {
       "model_id": "",
       "version_major": 2,
       "version_minor": 0
      },
      "text/plain": [
       "HBox(children=(IntProgress(value=0, description='Equilibrate sweep', style=ProgressStyle(description_width='in…"
      ]
     },
     "metadata": {},
     "output_type": "display_data"
    },
    {
     "data": {
      "application/vnd.jupyter.widget-view+json": {
       "model_id": "",
       "version_major": 2,
       "version_minor": 0
      },
      "text/plain": [
       "HBox(children=(IntProgress(value=0, description='Measurement sweep', max=20000, style=ProgressStyle(descriptio…"
      ]
     },
     "metadata": {},
     "output_type": "display_data"
    },
    {
     "data": {
      "application/vnd.jupyter.widget-view+json": {
       "model_id": "",
       "version_major": 2,
       "version_minor": 0
      },
      "text/plain": [
       "HBox(children=(IntProgress(value=0, description='Equilibrate sweep', style=ProgressStyle(description_width='in…"
      ]
     },
     "metadata": {},
     "output_type": "display_data"
    },
    {
     "data": {
      "application/vnd.jupyter.widget-view+json": {
       "model_id": "",
       "version_major": 2,
       "version_minor": 0
      },
      "text/plain": [
       "HBox(children=(IntProgress(value=0, description='Measurement sweep', max=20000, style=ProgressStyle(descriptio…"
      ]
     },
     "metadata": {},
     "output_type": "display_data"
    },
    {
     "data": {
      "application/vnd.jupyter.widget-view+json": {
       "model_id": "",
       "version_major": 2,
       "version_minor": 0
      },
      "text/plain": [
       "HBox(children=(IntProgress(value=0, description='Equilibrate sweep', style=ProgressStyle(description_width='in…"
      ]
     },
     "metadata": {},
     "output_type": "display_data"
    },
    {
     "data": {
      "application/vnd.jupyter.widget-view+json": {
       "model_id": "",
       "version_major": 2,
       "version_minor": 0
      },
      "text/plain": [
       "HBox(children=(IntProgress(value=0, description='Measurement sweep', max=20000, style=ProgressStyle(descriptio…"
      ]
     },
     "metadata": {},
     "output_type": "display_data"
    },
    {
     "data": {
      "application/vnd.jupyter.widget-view+json": {
       "model_id": "",
       "version_major": 2,
       "version_minor": 0
      },
      "text/plain": [
       "HBox(children=(IntProgress(value=0, description='Equilibrate sweep', style=ProgressStyle(description_width='in…"
      ]
     },
     "metadata": {},
     "output_type": "display_data"
    },
    {
     "data": {
      "application/vnd.jupyter.widget-view+json": {
       "model_id": "",
       "version_major": 2,
       "version_minor": 0
      },
      "text/plain": [
       "HBox(children=(IntProgress(value=0, description='Measurement sweep', max=20000, style=ProgressStyle(descriptio…"
      ]
     },
     "metadata": {},
     "output_type": "display_data"
    },
    {
     "data": {
      "application/vnd.jupyter.widget-view+json": {
       "model_id": "",
       "version_major": 2,
       "version_minor": 0
      },
      "text/plain": [
       "HBox(children=(IntProgress(value=0, description='Col', max=20, style=ProgressStyle(description_width='initial'…"
      ]
     },
     "metadata": {},
     "output_type": "display_data"
    },
    {
     "data": {
      "application/vnd.jupyter.widget-view+json": {
       "model_id": "",
       "version_major": 2,
       "version_minor": 0
      },
      "text/plain": [
       "HBox(children=(IntProgress(value=0, description='Equilibrate sweep', style=ProgressStyle(description_width='in…"
      ]
     },
     "metadata": {},
     "output_type": "display_data"
    },
    {
     "data": {
      "application/vnd.jupyter.widget-view+json": {
       "model_id": "",
       "version_major": 2,
       "version_minor": 0
      },
      "text/plain": [
       "HBox(children=(IntProgress(value=0, description='Measurement sweep', max=20000, style=ProgressStyle(descriptio…"
      ]
     },
     "metadata": {},
     "output_type": "display_data"
    },
    {
     "data": {
      "application/vnd.jupyter.widget-view+json": {
       "model_id": "",
       "version_major": 2,
       "version_minor": 0
      },
      "text/plain": [
       "HBox(children=(IntProgress(value=0, description='Equilibrate sweep', style=ProgressStyle(description_width='in…"
      ]
     },
     "metadata": {},
     "output_type": "display_data"
    },
    {
     "data": {
      "application/vnd.jupyter.widget-view+json": {
       "model_id": "",
       "version_major": 2,
       "version_minor": 0
      },
      "text/plain": [
       "HBox(children=(IntProgress(value=0, description='Measurement sweep', max=20000, style=ProgressStyle(descriptio…"
      ]
     },
     "metadata": {},
     "output_type": "display_data"
    },
    {
     "data": {
      "application/vnd.jupyter.widget-view+json": {
       "model_id": "",
       "version_major": 2,
       "version_minor": 0
      },
      "text/plain": [
       "HBox(children=(IntProgress(value=0, description='Equilibrate sweep', style=ProgressStyle(description_width='in…"
      ]
     },
     "metadata": {},
     "output_type": "display_data"
    },
    {
     "data": {
      "application/vnd.jupyter.widget-view+json": {
       "model_id": "",
       "version_major": 2,
       "version_minor": 0
      },
      "text/plain": [
       "HBox(children=(IntProgress(value=0, description='Measurement sweep', max=20000, style=ProgressStyle(descriptio…"
      ]
     },
     "metadata": {},
     "output_type": "display_data"
    },
    {
     "data": {
      "application/vnd.jupyter.widget-view+json": {
       "model_id": "",
       "version_major": 2,
       "version_minor": 0
      },
      "text/plain": [
       "HBox(children=(IntProgress(value=0, description='Equilibrate sweep', style=ProgressStyle(description_width='in…"
      ]
     },
     "metadata": {},
     "output_type": "display_data"
    },
    {
     "data": {
      "application/vnd.jupyter.widget-view+json": {
       "model_id": "",
       "version_major": 2,
       "version_minor": 0
      },
      "text/plain": [
       "HBox(children=(IntProgress(value=0, description='Measurement sweep', max=20000, style=ProgressStyle(descriptio…"
      ]
     },
     "metadata": {},
     "output_type": "display_data"
    },
    {
     "data": {
      "application/vnd.jupyter.widget-view+json": {
       "model_id": "",
       "version_major": 2,
       "version_minor": 0
      },
      "text/plain": [
       "HBox(children=(IntProgress(value=0, description='Equilibrate sweep', style=ProgressStyle(description_width='in…"
      ]
     },
     "metadata": {},
     "output_type": "display_data"
    },
    {
     "data": {
      "application/vnd.jupyter.widget-view+json": {
       "model_id": "",
       "version_major": 2,
       "version_minor": 0
      },
      "text/plain": [
       "HBox(children=(IntProgress(value=0, description='Measurement sweep', max=20000, style=ProgressStyle(descriptio…"
      ]
     },
     "metadata": {},
     "output_type": "display_data"
    },
    {
     "data": {
      "application/vnd.jupyter.widget-view+json": {
       "model_id": "",
       "version_major": 2,
       "version_minor": 0
      },
      "text/plain": [
       "HBox(children=(IntProgress(value=0, description='Equilibrate sweep', style=ProgressStyle(description_width='in…"
      ]
     },
     "metadata": {},
     "output_type": "display_data"
    },
    {
     "data": {
      "application/vnd.jupyter.widget-view+json": {
       "model_id": "",
       "version_major": 2,
       "version_minor": 0
      },
      "text/plain": [
       "HBox(children=(IntProgress(value=0, description='Measurement sweep', max=20000, style=ProgressStyle(descriptio…"
      ]
     },
     "metadata": {},
     "output_type": "display_data"
    },
    {
     "data": {
      "application/vnd.jupyter.widget-view+json": {
       "model_id": "",
       "version_major": 2,
       "version_minor": 0
      },
      "text/plain": [
       "HBox(children=(IntProgress(value=0, description='Equilibrate sweep', style=ProgressStyle(description_width='in…"
      ]
     },
     "metadata": {},
     "output_type": "display_data"
    },
    {
     "data": {
      "application/vnd.jupyter.widget-view+json": {
       "model_id": "",
       "version_major": 2,
       "version_minor": 0
      },
      "text/plain": [
       "HBox(children=(IntProgress(value=0, description='Measurement sweep', max=20000, style=ProgressStyle(descriptio…"
      ]
     },
     "metadata": {},
     "output_type": "display_data"
    },
    {
     "data": {
      "application/vnd.jupyter.widget-view+json": {
       "model_id": "",
       "version_major": 2,
       "version_minor": 0
      },
      "text/plain": [
       "HBox(children=(IntProgress(value=0, description='Equilibrate sweep', style=ProgressStyle(description_width='in…"
      ]
     },
     "metadata": {},
     "output_type": "display_data"
    },
    {
     "data": {
      "application/vnd.jupyter.widget-view+json": {
       "model_id": "",
       "version_major": 2,
       "version_minor": 0
      },
      "text/plain": [
       "HBox(children=(IntProgress(value=0, description='Measurement sweep', max=20000, style=ProgressStyle(descriptio…"
      ]
     },
     "metadata": {},
     "output_type": "display_data"
    },
    {
     "data": {
      "application/vnd.jupyter.widget-view+json": {
       "model_id": "",
       "version_major": 2,
       "version_minor": 0
      },
      "text/plain": [
       "HBox(children=(IntProgress(value=0, description='Equilibrate sweep', style=ProgressStyle(description_width='in…"
      ]
     },
     "metadata": {},
     "output_type": "display_data"
    },
    {
     "data": {
      "application/vnd.jupyter.widget-view+json": {
       "model_id": "",
       "version_major": 2,
       "version_minor": 0
      },
      "text/plain": [
       "HBox(children=(IntProgress(value=0, description='Measurement sweep', max=20000, style=ProgressStyle(descriptio…"
      ]
     },
     "metadata": {},
     "output_type": "display_data"
    },
    {
     "data": {
      "application/vnd.jupyter.widget-view+json": {
       "model_id": "",
       "version_major": 2,
       "version_minor": 0
      },
      "text/plain": [
       "HBox(children=(IntProgress(value=0, description='Equilibrate sweep', style=ProgressStyle(description_width='in…"
      ]
     },
     "metadata": {},
     "output_type": "display_data"
    },
    {
     "data": {
      "application/vnd.jupyter.widget-view+json": {
       "model_id": "",
       "version_major": 2,
       "version_minor": 0
      },
      "text/plain": [
       "HBox(children=(IntProgress(value=0, description='Measurement sweep', max=20000, style=ProgressStyle(descriptio…"
      ]
     },
     "metadata": {},
     "output_type": "display_data"
    },
    {
     "data": {
      "application/vnd.jupyter.widget-view+json": {
       "model_id": "",
       "version_major": 2,
       "version_minor": 0
      },
      "text/plain": [
       "HBox(children=(IntProgress(value=0, description='Equilibrate sweep', style=ProgressStyle(description_width='in…"
      ]
     },
     "metadata": {},
     "output_type": "display_data"
    },
    {
     "data": {
      "application/vnd.jupyter.widget-view+json": {
       "model_id": "",
       "version_major": 2,
       "version_minor": 0
      },
      "text/plain": [
       "HBox(children=(IntProgress(value=0, description='Measurement sweep', max=20000, style=ProgressStyle(descriptio…"
      ]
     },
     "metadata": {},
     "output_type": "display_data"
    },
    {
     "data": {
      "application/vnd.jupyter.widget-view+json": {
       "model_id": "",
       "version_major": 2,
       "version_minor": 0
      },
      "text/plain": [
       "HBox(children=(IntProgress(value=0, description='Equilibrate sweep', style=ProgressStyle(description_width='in…"
      ]
     },
     "metadata": {},
     "output_type": "display_data"
    },
    {
     "data": {
      "application/vnd.jupyter.widget-view+json": {
       "model_id": "",
       "version_major": 2,
       "version_minor": 0
      },
      "text/plain": [
       "HBox(children=(IntProgress(value=0, description='Measurement sweep', max=20000, style=ProgressStyle(descriptio…"
      ]
     },
     "metadata": {},
     "output_type": "display_data"
    },
    {
     "data": {
      "application/vnd.jupyter.widget-view+json": {
       "model_id": "",
       "version_major": 2,
       "version_minor": 0
      },
      "text/plain": [
       "HBox(children=(IntProgress(value=0, description='Equilibrate sweep', style=ProgressStyle(description_width='in…"
      ]
     },
     "metadata": {},
     "output_type": "display_data"
    },
    {
     "data": {
      "application/vnd.jupyter.widget-view+json": {
       "model_id": "",
       "version_major": 2,
       "version_minor": 0
      },
      "text/plain": [
       "HBox(children=(IntProgress(value=0, description='Measurement sweep', max=20000, style=ProgressStyle(descriptio…"
      ]
     },
     "metadata": {},
     "output_type": "display_data"
    },
    {
     "data": {
      "application/vnd.jupyter.widget-view+json": {
       "model_id": "",
       "version_major": 2,
       "version_minor": 0
      },
      "text/plain": [
       "HBox(children=(IntProgress(value=0, description='Equilibrate sweep', style=ProgressStyle(description_width='in…"
      ]
     },
     "metadata": {},
     "output_type": "display_data"
    },
    {
     "data": {
      "application/vnd.jupyter.widget-view+json": {
       "model_id": "",
       "version_major": 2,
       "version_minor": 0
      },
      "text/plain": [
       "HBox(children=(IntProgress(value=0, description='Measurement sweep', max=20000, style=ProgressStyle(descriptio…"
      ]
     },
     "metadata": {},
     "output_type": "display_data"
    },
    {
     "data": {
      "application/vnd.jupyter.widget-view+json": {
       "model_id": "",
       "version_major": 2,
       "version_minor": 0
      },
      "text/plain": [
       "HBox(children=(IntProgress(value=0, description='Equilibrate sweep', style=ProgressStyle(description_width='in…"
      ]
     },
     "metadata": {},
     "output_type": "display_data"
    },
    {
     "data": {
      "application/vnd.jupyter.widget-view+json": {
       "model_id": "",
       "version_major": 2,
       "version_minor": 0
      },
      "text/plain": [
       "HBox(children=(IntProgress(value=0, description='Measurement sweep', max=20000, style=ProgressStyle(descriptio…"
      ]
     },
     "metadata": {},
     "output_type": "display_data"
    },
    {
     "data": {
      "application/vnd.jupyter.widget-view+json": {
       "model_id": "",
       "version_major": 2,
       "version_minor": 0
      },
      "text/plain": [
       "HBox(children=(IntProgress(value=0, description='Equilibrate sweep', style=ProgressStyle(description_width='in…"
      ]
     },
     "metadata": {},
     "output_type": "display_data"
    },
    {
     "data": {
      "application/vnd.jupyter.widget-view+json": {
       "model_id": "",
       "version_major": 2,
       "version_minor": 0
      },
      "text/plain": [
       "HBox(children=(IntProgress(value=0, description='Measurement sweep', max=20000, style=ProgressStyle(descriptio…"
      ]
     },
     "metadata": {},
     "output_type": "display_data"
    },
    {
     "data": {
      "application/vnd.jupyter.widget-view+json": {
       "model_id": "",
       "version_major": 2,
       "version_minor": 0
      },
      "text/plain": [
       "HBox(children=(IntProgress(value=0, description='Equilibrate sweep', style=ProgressStyle(description_width='in…"
      ]
     },
     "metadata": {},
     "output_type": "display_data"
    },
    {
     "data": {
      "application/vnd.jupyter.widget-view+json": {
       "model_id": "",
       "version_major": 2,
       "version_minor": 0
      },
      "text/plain": [
       "HBox(children=(IntProgress(value=0, description='Measurement sweep', max=20000, style=ProgressStyle(descriptio…"
      ]
     },
     "metadata": {},
     "output_type": "display_data"
    },
    {
     "data": {
      "application/vnd.jupyter.widget-view+json": {
       "model_id": "",
       "version_major": 2,
       "version_minor": 0
      },
      "text/plain": [
       "HBox(children=(IntProgress(value=0, description='Equilibrate sweep', style=ProgressStyle(description_width='in…"
      ]
     },
     "metadata": {},
     "output_type": "display_data"
    },
    {
     "data": {
      "application/vnd.jupyter.widget-view+json": {
       "model_id": "",
       "version_major": 2,
       "version_minor": 0
      },
      "text/plain": [
       "HBox(children=(IntProgress(value=0, description='Measurement sweep', max=20000, style=ProgressStyle(descriptio…"
      ]
     },
     "metadata": {},
     "output_type": "display_data"
    },
    {
     "data": {
      "application/vnd.jupyter.widget-view+json": {
       "model_id": "",
       "version_major": 2,
       "version_minor": 0
      },
      "text/plain": [
       "HBox(children=(IntProgress(value=0, description='Equilibrate sweep', style=ProgressStyle(description_width='in…"
      ]
     },
     "metadata": {},
     "output_type": "display_data"
    },
    {
     "data": {
      "application/vnd.jupyter.widget-view+json": {
       "model_id": "",
       "version_major": 2,
       "version_minor": 0
      },
      "text/plain": [
       "HBox(children=(IntProgress(value=0, description='Measurement sweep', max=20000, style=ProgressStyle(descriptio…"
      ]
     },
     "metadata": {},
     "output_type": "display_data"
    },
    {
     "data": {
      "application/vnd.jupyter.widget-view+json": {
       "model_id": "",
       "version_major": 2,
       "version_minor": 0
      },
      "text/plain": [
       "HBox(children=(IntProgress(value=0, description='Equilibrate sweep', style=ProgressStyle(description_width='in…"
      ]
     },
     "metadata": {},
     "output_type": "display_data"
    },
    {
     "data": {
      "application/vnd.jupyter.widget-view+json": {
       "model_id": "",
       "version_major": 2,
       "version_minor": 0
      },
      "text/plain": [
       "HBox(children=(IntProgress(value=0, description='Measurement sweep', max=20000, style=ProgressStyle(descriptio…"
      ]
     },
     "metadata": {},
     "output_type": "display_data"
    },
    {
     "data": {
      "application/vnd.jupyter.widget-view+json": {
       "model_id": "",
       "version_major": 2,
       "version_minor": 0
      },
      "text/plain": [
       "HBox(children=(IntProgress(value=0, description='Col', max=20, style=ProgressStyle(description_width='initial'…"
      ]
     },
     "metadata": {},
     "output_type": "display_data"
    },
    {
     "data": {
      "application/vnd.jupyter.widget-view+json": {
       "model_id": "",
       "version_major": 2,
       "version_minor": 0
      },
      "text/plain": [
       "HBox(children=(IntProgress(value=0, description='Equilibrate sweep', style=ProgressStyle(description_width='in…"
      ]
     },
     "metadata": {},
     "output_type": "display_data"
    },
    {
     "data": {
      "application/vnd.jupyter.widget-view+json": {
       "model_id": "",
       "version_major": 2,
       "version_minor": 0
      },
      "text/plain": [
       "HBox(children=(IntProgress(value=0, description='Measurement sweep', max=20000, style=ProgressStyle(descriptio…"
      ]
     },
     "metadata": {},
     "output_type": "display_data"
    },
    {
     "data": {
      "application/vnd.jupyter.widget-view+json": {
       "model_id": "",
       "version_major": 2,
       "version_minor": 0
      },
      "text/plain": [
       "HBox(children=(IntProgress(value=0, description='Equilibrate sweep', style=ProgressStyle(description_width='in…"
      ]
     },
     "metadata": {},
     "output_type": "display_data"
    },
    {
     "data": {
      "application/vnd.jupyter.widget-view+json": {
       "model_id": "",
       "version_major": 2,
       "version_minor": 0
      },
      "text/plain": [
       "HBox(children=(IntProgress(value=0, description='Measurement sweep', max=20000, style=ProgressStyle(descriptio…"
      ]
     },
     "metadata": {},
     "output_type": "display_data"
    },
    {
     "data": {
      "application/vnd.jupyter.widget-view+json": {
       "model_id": "",
       "version_major": 2,
       "version_minor": 0
      },
      "text/plain": [
       "HBox(children=(IntProgress(value=0, description='Equilibrate sweep', style=ProgressStyle(description_width='in…"
      ]
     },
     "metadata": {},
     "output_type": "display_data"
    },
    {
     "data": {
      "application/vnd.jupyter.widget-view+json": {
       "model_id": "",
       "version_major": 2,
       "version_minor": 0
      },
      "text/plain": [
       "HBox(children=(IntProgress(value=0, description='Measurement sweep', max=20000, style=ProgressStyle(descriptio…"
      ]
     },
     "metadata": {},
     "output_type": "display_data"
    },
    {
     "data": {
      "application/vnd.jupyter.widget-view+json": {
       "model_id": "",
       "version_major": 2,
       "version_minor": 0
      },
      "text/plain": [
       "HBox(children=(IntProgress(value=0, description='Equilibrate sweep', style=ProgressStyle(description_width='in…"
      ]
     },
     "metadata": {},
     "output_type": "display_data"
    },
    {
     "data": {
      "application/vnd.jupyter.widget-view+json": {
       "model_id": "",
       "version_major": 2,
       "version_minor": 0
      },
      "text/plain": [
       "HBox(children=(IntProgress(value=0, description='Measurement sweep', max=20000, style=ProgressStyle(descriptio…"
      ]
     },
     "metadata": {},
     "output_type": "display_data"
    },
    {
     "data": {
      "application/vnd.jupyter.widget-view+json": {
       "model_id": "",
       "version_major": 2,
       "version_minor": 0
      },
      "text/plain": [
       "HBox(children=(IntProgress(value=0, description='Equilibrate sweep', style=ProgressStyle(description_width='in…"
      ]
     },
     "metadata": {},
     "output_type": "display_data"
    },
    {
     "data": {
      "application/vnd.jupyter.widget-view+json": {
       "model_id": "",
       "version_major": 2,
       "version_minor": 0
      },
      "text/plain": [
       "HBox(children=(IntProgress(value=0, description='Measurement sweep', max=20000, style=ProgressStyle(descriptio…"
      ]
     },
     "metadata": {},
     "output_type": "display_data"
    },
    {
     "data": {
      "application/vnd.jupyter.widget-view+json": {
       "model_id": "",
       "version_major": 2,
       "version_minor": 0
      },
      "text/plain": [
       "HBox(children=(IntProgress(value=0, description='Equilibrate sweep', style=ProgressStyle(description_width='in…"
      ]
     },
     "metadata": {},
     "output_type": "display_data"
    },
    {
     "data": {
      "application/vnd.jupyter.widget-view+json": {
       "model_id": "",
       "version_major": 2,
       "version_minor": 0
      },
      "text/plain": [
       "HBox(children=(IntProgress(value=0, description='Measurement sweep', max=20000, style=ProgressStyle(descriptio…"
      ]
     },
     "metadata": {},
     "output_type": "display_data"
    },
    {
     "data": {
      "application/vnd.jupyter.widget-view+json": {
       "model_id": "",
       "version_major": 2,
       "version_minor": 0
      },
      "text/plain": [
       "HBox(children=(IntProgress(value=0, description='Equilibrate sweep', style=ProgressStyle(description_width='in…"
      ]
     },
     "metadata": {},
     "output_type": "display_data"
    },
    {
     "data": {
      "application/vnd.jupyter.widget-view+json": {
       "model_id": "",
       "version_major": 2,
       "version_minor": 0
      },
      "text/plain": [
       "HBox(children=(IntProgress(value=0, description='Measurement sweep', max=20000, style=ProgressStyle(descriptio…"
      ]
     },
     "metadata": {},
     "output_type": "display_data"
    },
    {
     "data": {
      "application/vnd.jupyter.widget-view+json": {
       "model_id": "",
       "version_major": 2,
       "version_minor": 0
      },
      "text/plain": [
       "HBox(children=(IntProgress(value=0, description='Equilibrate sweep', style=ProgressStyle(description_width='in…"
      ]
     },
     "metadata": {},
     "output_type": "display_data"
    },
    {
     "data": {
      "application/vnd.jupyter.widget-view+json": {
       "model_id": "",
       "version_major": 2,
       "version_minor": 0
      },
      "text/plain": [
       "HBox(children=(IntProgress(value=0, description='Measurement sweep', max=20000, style=ProgressStyle(descriptio…"
      ]
     },
     "metadata": {},
     "output_type": "display_data"
    },
    {
     "data": {
      "application/vnd.jupyter.widget-view+json": {
       "model_id": "",
       "version_major": 2,
       "version_minor": 0
      },
      "text/plain": [
       "HBox(children=(IntProgress(value=0, description='Equilibrate sweep', style=ProgressStyle(description_width='in…"
      ]
     },
     "metadata": {},
     "output_type": "display_data"
    },
    {
     "data": {
      "application/vnd.jupyter.widget-view+json": {
       "model_id": "",
       "version_major": 2,
       "version_minor": 0
      },
      "text/plain": [
       "HBox(children=(IntProgress(value=0, description='Measurement sweep', max=20000, style=ProgressStyle(descriptio…"
      ]
     },
     "metadata": {},
     "output_type": "display_data"
    },
    {
     "data": {
      "application/vnd.jupyter.widget-view+json": {
       "model_id": "",
       "version_major": 2,
       "version_minor": 0
      },
      "text/plain": [
       "HBox(children=(IntProgress(value=0, description='Equilibrate sweep', style=ProgressStyle(description_width='in…"
      ]
     },
     "metadata": {},
     "output_type": "display_data"
    },
    {
     "data": {
      "application/vnd.jupyter.widget-view+json": {
       "model_id": "",
       "version_major": 2,
       "version_minor": 0
      },
      "text/plain": [
       "HBox(children=(IntProgress(value=0, description='Measurement sweep', max=20000, style=ProgressStyle(descriptio…"
      ]
     },
     "metadata": {},
     "output_type": "display_data"
    },
    {
     "data": {
      "application/vnd.jupyter.widget-view+json": {
       "model_id": "",
       "version_major": 2,
       "version_minor": 0
      },
      "text/plain": [
       "HBox(children=(IntProgress(value=0, description='Equilibrate sweep', style=ProgressStyle(description_width='in…"
      ]
     },
     "metadata": {},
     "output_type": "display_data"
    },
    {
     "data": {
      "application/vnd.jupyter.widget-view+json": {
       "model_id": "",
       "version_major": 2,
       "version_minor": 0
      },
      "text/plain": [
       "HBox(children=(IntProgress(value=0, description='Measurement sweep', max=20000, style=ProgressStyle(descriptio…"
      ]
     },
     "metadata": {},
     "output_type": "display_data"
    },
    {
     "data": {
      "application/vnd.jupyter.widget-view+json": {
       "model_id": "",
       "version_major": 2,
       "version_minor": 0
      },
      "text/plain": [
       "HBox(children=(IntProgress(value=0, description='Equilibrate sweep', style=ProgressStyle(description_width='in…"
      ]
     },
     "metadata": {},
     "output_type": "display_data"
    },
    {
     "data": {
      "application/vnd.jupyter.widget-view+json": {
       "model_id": "",
       "version_major": 2,
       "version_minor": 0
      },
      "text/plain": [
       "HBox(children=(IntProgress(value=0, description='Measurement sweep', max=20000, style=ProgressStyle(descriptio…"
      ]
     },
     "metadata": {},
     "output_type": "display_data"
    },
    {
     "data": {
      "application/vnd.jupyter.widget-view+json": {
       "model_id": "",
       "version_major": 2,
       "version_minor": 0
      },
      "text/plain": [
       "HBox(children=(IntProgress(value=0, description='Equilibrate sweep', style=ProgressStyle(description_width='in…"
      ]
     },
     "metadata": {},
     "output_type": "display_data"
    },
    {
     "data": {
      "application/vnd.jupyter.widget-view+json": {
       "model_id": "",
       "version_major": 2,
       "version_minor": 0
      },
      "text/plain": [
       "HBox(children=(IntProgress(value=0, description='Measurement sweep', max=20000, style=ProgressStyle(descriptio…"
      ]
     },
     "metadata": {},
     "output_type": "display_data"
    },
    {
     "data": {
      "application/vnd.jupyter.widget-view+json": {
       "model_id": "",
       "version_major": 2,
       "version_minor": 0
      },
      "text/plain": [
       "HBox(children=(IntProgress(value=0, description='Equilibrate sweep', style=ProgressStyle(description_width='in…"
      ]
     },
     "metadata": {},
     "output_type": "display_data"
    },
    {
     "data": {
      "application/vnd.jupyter.widget-view+json": {
       "model_id": "",
       "version_major": 2,
       "version_minor": 0
      },
      "text/plain": [
       "HBox(children=(IntProgress(value=0, description='Measurement sweep', max=20000, style=ProgressStyle(descriptio…"
      ]
     },
     "metadata": {},
     "output_type": "display_data"
    },
    {
     "data": {
      "application/vnd.jupyter.widget-view+json": {
       "model_id": "",
       "version_major": 2,
       "version_minor": 0
      },
      "text/plain": [
       "HBox(children=(IntProgress(value=0, description='Equilibrate sweep', style=ProgressStyle(description_width='in…"
      ]
     },
     "metadata": {},
     "output_type": "display_data"
    },
    {
     "data": {
      "application/vnd.jupyter.widget-view+json": {
       "model_id": "",
       "version_major": 2,
       "version_minor": 0
      },
      "text/plain": [
       "HBox(children=(IntProgress(value=0, description='Measurement sweep', max=20000, style=ProgressStyle(descriptio…"
      ]
     },
     "metadata": {},
     "output_type": "display_data"
    },
    {
     "data": {
      "application/vnd.jupyter.widget-view+json": {
       "model_id": "",
       "version_major": 2,
       "version_minor": 0
      },
      "text/plain": [
       "HBox(children=(IntProgress(value=0, description='Equilibrate sweep', style=ProgressStyle(description_width='in…"
      ]
     },
     "metadata": {},
     "output_type": "display_data"
    },
    {
     "data": {
      "application/vnd.jupyter.widget-view+json": {
       "model_id": "",
       "version_major": 2,
       "version_minor": 0
      },
      "text/plain": [
       "HBox(children=(IntProgress(value=0, description='Measurement sweep', max=20000, style=ProgressStyle(descriptio…"
      ]
     },
     "metadata": {},
     "output_type": "display_data"
    },
    {
     "data": {
      "application/vnd.jupyter.widget-view+json": {
       "model_id": "",
       "version_major": 2,
       "version_minor": 0
      },
      "text/plain": [
       "HBox(children=(IntProgress(value=0, description='Equilibrate sweep', style=ProgressStyle(description_width='in…"
      ]
     },
     "metadata": {},
     "output_type": "display_data"
    },
    {
     "data": {
      "application/vnd.jupyter.widget-view+json": {
       "model_id": "",
       "version_major": 2,
       "version_minor": 0
      },
      "text/plain": [
       "HBox(children=(IntProgress(value=0, description='Measurement sweep', max=20000, style=ProgressStyle(descriptio…"
      ]
     },
     "metadata": {},
     "output_type": "display_data"
    },
    {
     "data": {
      "application/vnd.jupyter.widget-view+json": {
       "model_id": "",
       "version_major": 2,
       "version_minor": 0
      },
      "text/plain": [
       "HBox(children=(IntProgress(value=0, description='Equilibrate sweep', style=ProgressStyle(description_width='in…"
      ]
     },
     "metadata": {},
     "output_type": "display_data"
    },
    {
     "data": {
      "application/vnd.jupyter.widget-view+json": {
       "model_id": "",
       "version_major": 2,
       "version_minor": 0
      },
      "text/plain": [
       "HBox(children=(IntProgress(value=0, description='Measurement sweep', max=20000, style=ProgressStyle(descriptio…"
      ]
     },
     "metadata": {},
     "output_type": "display_data"
    },
    {
     "data": {
      "application/vnd.jupyter.widget-view+json": {
       "model_id": "",
       "version_major": 2,
       "version_minor": 0
      },
      "text/plain": [
       "HBox(children=(IntProgress(value=0, description='Equilibrate sweep', style=ProgressStyle(description_width='in…"
      ]
     },
     "metadata": {},
     "output_type": "display_data"
    },
    {
     "data": {
      "application/vnd.jupyter.widget-view+json": {
       "model_id": "",
       "version_major": 2,
       "version_minor": 0
      },
      "text/plain": [
       "HBox(children=(IntProgress(value=0, description='Measurement sweep', max=20000, style=ProgressStyle(descriptio…"
      ]
     },
     "metadata": {},
     "output_type": "display_data"
    },
    {
     "data": {
      "application/vnd.jupyter.widget-view+json": {
       "model_id": "",
       "version_major": 2,
       "version_minor": 0
      },
      "text/plain": [
       "HBox(children=(IntProgress(value=0, description='Equilibrate sweep', style=ProgressStyle(description_width='in…"
      ]
     },
     "metadata": {},
     "output_type": "display_data"
    },
    {
     "data": {
      "application/vnd.jupyter.widget-view+json": {
       "model_id": "",
       "version_major": 2,
       "version_minor": 0
      },
      "text/plain": [
       "HBox(children=(IntProgress(value=0, description='Measurement sweep', max=20000, style=ProgressStyle(descriptio…"
      ]
     },
     "metadata": {},
     "output_type": "display_data"
    },
    {
     "data": {
      "application/vnd.jupyter.widget-view+json": {
       "model_id": "",
       "version_major": 2,
       "version_minor": 0
      },
      "text/plain": [
       "HBox(children=(IntProgress(value=0, description='Col', max=20, style=ProgressStyle(description_width='initial'…"
      ]
     },
     "metadata": {},
     "output_type": "display_data"
    },
    {
     "data": {
      "application/vnd.jupyter.widget-view+json": {
       "model_id": "",
       "version_major": 2,
       "version_minor": 0
      },
      "text/plain": [
       "HBox(children=(IntProgress(value=0, description='Equilibrate sweep', style=ProgressStyle(description_width='in…"
      ]
     },
     "metadata": {},
     "output_type": "display_data"
    },
    {
     "data": {
      "application/vnd.jupyter.widget-view+json": {
       "model_id": "",
       "version_major": 2,
       "version_minor": 0
      },
      "text/plain": [
       "HBox(children=(IntProgress(value=0, description='Measurement sweep', max=20000, style=ProgressStyle(descriptio…"
      ]
     },
     "metadata": {},
     "output_type": "display_data"
    },
    {
     "data": {
      "application/vnd.jupyter.widget-view+json": {
       "model_id": "",
       "version_major": 2,
       "version_minor": 0
      },
      "text/plain": [
       "HBox(children=(IntProgress(value=0, description='Equilibrate sweep', style=ProgressStyle(description_width='in…"
      ]
     },
     "metadata": {},
     "output_type": "display_data"
    },
    {
     "data": {
      "application/vnd.jupyter.widget-view+json": {
       "model_id": "",
       "version_major": 2,
       "version_minor": 0
      },
      "text/plain": [
       "HBox(children=(IntProgress(value=0, description='Measurement sweep', max=20000, style=ProgressStyle(descriptio…"
      ]
     },
     "metadata": {},
     "output_type": "display_data"
    },
    {
     "data": {
      "application/vnd.jupyter.widget-view+json": {
       "model_id": "",
       "version_major": 2,
       "version_minor": 0
      },
      "text/plain": [
       "HBox(children=(IntProgress(value=0, description='Equilibrate sweep', style=ProgressStyle(description_width='in…"
      ]
     },
     "metadata": {},
     "output_type": "display_data"
    },
    {
     "data": {
      "application/vnd.jupyter.widget-view+json": {
       "model_id": "",
       "version_major": 2,
       "version_minor": 0
      },
      "text/plain": [
       "HBox(children=(IntProgress(value=0, description='Measurement sweep', max=20000, style=ProgressStyle(descriptio…"
      ]
     },
     "metadata": {},
     "output_type": "display_data"
    },
    {
     "data": {
      "application/vnd.jupyter.widget-view+json": {
       "model_id": "",
       "version_major": 2,
       "version_minor": 0
      },
      "text/plain": [
       "HBox(children=(IntProgress(value=0, description='Equilibrate sweep', style=ProgressStyle(description_width='in…"
      ]
     },
     "metadata": {},
     "output_type": "display_data"
    },
    {
     "data": {
      "application/vnd.jupyter.widget-view+json": {
       "model_id": "",
       "version_major": 2,
       "version_minor": 0
      },
      "text/plain": [
       "HBox(children=(IntProgress(value=0, description='Measurement sweep', max=20000, style=ProgressStyle(descriptio…"
      ]
     },
     "metadata": {},
     "output_type": "display_data"
    },
    {
     "data": {
      "application/vnd.jupyter.widget-view+json": {
       "model_id": "",
       "version_major": 2,
       "version_minor": 0
      },
      "text/plain": [
       "HBox(children=(IntProgress(value=0, description='Equilibrate sweep', style=ProgressStyle(description_width='in…"
      ]
     },
     "metadata": {},
     "output_type": "display_data"
    },
    {
     "data": {
      "application/vnd.jupyter.widget-view+json": {
       "model_id": "",
       "version_major": 2,
       "version_minor": 0
      },
      "text/plain": [
       "HBox(children=(IntProgress(value=0, description='Measurement sweep', max=20000, style=ProgressStyle(descriptio…"
      ]
     },
     "metadata": {},
     "output_type": "display_data"
    },
    {
     "data": {
      "application/vnd.jupyter.widget-view+json": {
       "model_id": "",
       "version_major": 2,
       "version_minor": 0
      },
      "text/plain": [
       "HBox(children=(IntProgress(value=0, description='Equilibrate sweep', style=ProgressStyle(description_width='in…"
      ]
     },
     "metadata": {},
     "output_type": "display_data"
    },
    {
     "data": {
      "application/vnd.jupyter.widget-view+json": {
       "model_id": "",
       "version_major": 2,
       "version_minor": 0
      },
      "text/plain": [
       "HBox(children=(IntProgress(value=0, description='Measurement sweep', max=20000, style=ProgressStyle(descriptio…"
      ]
     },
     "metadata": {},
     "output_type": "display_data"
    },
    {
     "data": {
      "application/vnd.jupyter.widget-view+json": {
       "model_id": "",
       "version_major": 2,
       "version_minor": 0
      },
      "text/plain": [
       "HBox(children=(IntProgress(value=0, description='Equilibrate sweep', style=ProgressStyle(description_width='in…"
      ]
     },
     "metadata": {},
     "output_type": "display_data"
    },
    {
     "data": {
      "application/vnd.jupyter.widget-view+json": {
       "model_id": "",
       "version_major": 2,
       "version_minor": 0
      },
      "text/plain": [
       "HBox(children=(IntProgress(value=0, description='Measurement sweep', max=20000, style=ProgressStyle(descriptio…"
      ]
     },
     "metadata": {},
     "output_type": "display_data"
    },
    {
     "data": {
      "application/vnd.jupyter.widget-view+json": {
       "model_id": "",
       "version_major": 2,
       "version_minor": 0
      },
      "text/plain": [
       "HBox(children=(IntProgress(value=0, description='Equilibrate sweep', style=ProgressStyle(description_width='in…"
      ]
     },
     "metadata": {},
     "output_type": "display_data"
    },
    {
     "data": {
      "application/vnd.jupyter.widget-view+json": {
       "model_id": "",
       "version_major": 2,
       "version_minor": 0
      },
      "text/plain": [
       "HBox(children=(IntProgress(value=0, description='Measurement sweep', max=20000, style=ProgressStyle(descriptio…"
      ]
     },
     "metadata": {},
     "output_type": "display_data"
    },
    {
     "data": {
      "application/vnd.jupyter.widget-view+json": {
       "model_id": "",
       "version_major": 2,
       "version_minor": 0
      },
      "text/plain": [
       "HBox(children=(IntProgress(value=0, description='Equilibrate sweep', style=ProgressStyle(description_width='in…"
      ]
     },
     "metadata": {},
     "output_type": "display_data"
    },
    {
     "data": {
      "application/vnd.jupyter.widget-view+json": {
       "model_id": "",
       "version_major": 2,
       "version_minor": 0
      },
      "text/plain": [
       "HBox(children=(IntProgress(value=0, description='Measurement sweep', max=20000, style=ProgressStyle(descriptio…"
      ]
     },
     "metadata": {},
     "output_type": "display_data"
    },
    {
     "data": {
      "application/vnd.jupyter.widget-view+json": {
       "model_id": "",
       "version_major": 2,
       "version_minor": 0
      },
      "text/plain": [
       "HBox(children=(IntProgress(value=0, description='Equilibrate sweep', style=ProgressStyle(description_width='in…"
      ]
     },
     "metadata": {},
     "output_type": "display_data"
    },
    {
     "data": {
      "application/vnd.jupyter.widget-view+json": {
       "model_id": "",
       "version_major": 2,
       "version_minor": 0
      },
      "text/plain": [
       "HBox(children=(IntProgress(value=0, description='Measurement sweep', max=20000, style=ProgressStyle(descriptio…"
      ]
     },
     "metadata": {},
     "output_type": "display_data"
    },
    {
     "data": {
      "application/vnd.jupyter.widget-view+json": {
       "model_id": "",
       "version_major": 2,
       "version_minor": 0
      },
      "text/plain": [
       "HBox(children=(IntProgress(value=0, description='Equilibrate sweep', style=ProgressStyle(description_width='in…"
      ]
     },
     "metadata": {},
     "output_type": "display_data"
    },
    {
     "data": {
      "application/vnd.jupyter.widget-view+json": {
       "model_id": "",
       "version_major": 2,
       "version_minor": 0
      },
      "text/plain": [
       "HBox(children=(IntProgress(value=0, description='Measurement sweep', max=20000, style=ProgressStyle(descriptio…"
      ]
     },
     "metadata": {},
     "output_type": "display_data"
    },
    {
     "data": {
      "application/vnd.jupyter.widget-view+json": {
       "model_id": "",
       "version_major": 2,
       "version_minor": 0
      },
      "text/plain": [
       "HBox(children=(IntProgress(value=0, description='Equilibrate sweep', style=ProgressStyle(description_width='in…"
      ]
     },
     "metadata": {},
     "output_type": "display_data"
    },
    {
     "data": {
      "application/vnd.jupyter.widget-view+json": {
       "model_id": "",
       "version_major": 2,
       "version_minor": 0
      },
      "text/plain": [
       "HBox(children=(IntProgress(value=0, description='Measurement sweep', max=20000, style=ProgressStyle(descriptio…"
      ]
     },
     "metadata": {},
     "output_type": "display_data"
    },
    {
     "data": {
      "application/vnd.jupyter.widget-view+json": {
       "model_id": "",
       "version_major": 2,
       "version_minor": 0
      },
      "text/plain": [
       "HBox(children=(IntProgress(value=0, description='Equilibrate sweep', style=ProgressStyle(description_width='in…"
      ]
     },
     "metadata": {},
     "output_type": "display_data"
    },
    {
     "data": {
      "application/vnd.jupyter.widget-view+json": {
       "model_id": "",
       "version_major": 2,
       "version_minor": 0
      },
      "text/plain": [
       "HBox(children=(IntProgress(value=0, description='Measurement sweep', max=20000, style=ProgressStyle(descriptio…"
      ]
     },
     "metadata": {},
     "output_type": "display_data"
    },
    {
     "data": {
      "application/vnd.jupyter.widget-view+json": {
       "model_id": "",
       "version_major": 2,
       "version_minor": 0
      },
      "text/plain": [
       "HBox(children=(IntProgress(value=0, description='Equilibrate sweep', style=ProgressStyle(description_width='in…"
      ]
     },
     "metadata": {},
     "output_type": "display_data"
    },
    {
     "data": {
      "application/vnd.jupyter.widget-view+json": {
       "model_id": "",
       "version_major": 2,
       "version_minor": 0
      },
      "text/plain": [
       "HBox(children=(IntProgress(value=0, description='Measurement sweep', max=20000, style=ProgressStyle(descriptio…"
      ]
     },
     "metadata": {},
     "output_type": "display_data"
    },
    {
     "data": {
      "application/vnd.jupyter.widget-view+json": {
       "model_id": "",
       "version_major": 2,
       "version_minor": 0
      },
      "text/plain": [
       "HBox(children=(IntProgress(value=0, description='Equilibrate sweep', style=ProgressStyle(description_width='in…"
      ]
     },
     "metadata": {},
     "output_type": "display_data"
    },
    {
     "data": {
      "application/vnd.jupyter.widget-view+json": {
       "model_id": "",
       "version_major": 2,
       "version_minor": 0
      },
      "text/plain": [
       "HBox(children=(IntProgress(value=0, description='Measurement sweep', max=20000, style=ProgressStyle(descriptio…"
      ]
     },
     "metadata": {},
     "output_type": "display_data"
    },
    {
     "data": {
      "application/vnd.jupyter.widget-view+json": {
       "model_id": "",
       "version_major": 2,
       "version_minor": 0
      },
      "text/plain": [
       "HBox(children=(IntProgress(value=0, description='Equilibrate sweep', style=ProgressStyle(description_width='in…"
      ]
     },
     "metadata": {},
     "output_type": "display_data"
    },
    {
     "data": {
      "application/vnd.jupyter.widget-view+json": {
       "model_id": "",
       "version_major": 2,
       "version_minor": 0
      },
      "text/plain": [
       "HBox(children=(IntProgress(value=0, description='Measurement sweep', max=20000, style=ProgressStyle(descriptio…"
      ]
     },
     "metadata": {},
     "output_type": "display_data"
    },
    {
     "data": {
      "application/vnd.jupyter.widget-view+json": {
       "model_id": "",
       "version_major": 2,
       "version_minor": 0
      },
      "text/plain": [
       "HBox(children=(IntProgress(value=0, description='Equilibrate sweep', style=ProgressStyle(description_width='in…"
      ]
     },
     "metadata": {},
     "output_type": "display_data"
    },
    {
     "data": {
      "application/vnd.jupyter.widget-view+json": {
       "model_id": "",
       "version_major": 2,
       "version_minor": 0
      },
      "text/plain": [
       "HBox(children=(IntProgress(value=0, description='Measurement sweep', max=20000, style=ProgressStyle(descriptio…"
      ]
     },
     "metadata": {},
     "output_type": "display_data"
    },
    {
     "data": {
      "application/vnd.jupyter.widget-view+json": {
       "model_id": "",
       "version_major": 2,
       "version_minor": 0
      },
      "text/plain": [
       "HBox(children=(IntProgress(value=0, description='Equilibrate sweep', style=ProgressStyle(description_width='in…"
      ]
     },
     "metadata": {},
     "output_type": "display_data"
    },
    {
     "data": {
      "application/vnd.jupyter.widget-view+json": {
       "model_id": "",
       "version_major": 2,
       "version_minor": 0
      },
      "text/plain": [
       "HBox(children=(IntProgress(value=0, description='Measurement sweep', max=20000, style=ProgressStyle(descriptio…"
      ]
     },
     "metadata": {},
     "output_type": "display_data"
    },
    {
     "data": {
      "application/vnd.jupyter.widget-view+json": {
       "model_id": "",
       "version_major": 2,
       "version_minor": 0
      },
      "text/plain": [
       "HBox(children=(IntProgress(value=0, description='Equilibrate sweep', style=ProgressStyle(description_width='in…"
      ]
     },
     "metadata": {},
     "output_type": "display_data"
    },
    {
     "data": {
      "application/vnd.jupyter.widget-view+json": {
       "model_id": "",
       "version_major": 2,
       "version_minor": 0
      },
      "text/plain": [
       "HBox(children=(IntProgress(value=0, description='Measurement sweep', max=20000, style=ProgressStyle(descriptio…"
      ]
     },
     "metadata": {},
     "output_type": "display_data"
    },
    {
     "data": {
      "application/vnd.jupyter.widget-view+json": {
       "model_id": "",
       "version_major": 2,
       "version_minor": 0
      },
      "text/plain": [
       "HBox(children=(IntProgress(value=0, description='Equilibrate sweep', style=ProgressStyle(description_width='in…"
      ]
     },
     "metadata": {},
     "output_type": "display_data"
    },
    {
     "data": {
      "application/vnd.jupyter.widget-view+json": {
       "model_id": "",
       "version_major": 2,
       "version_minor": 0
      },
      "text/plain": [
       "HBox(children=(IntProgress(value=0, description='Measurement sweep', max=20000, style=ProgressStyle(descriptio…"
      ]
     },
     "metadata": {},
     "output_type": "display_data"
    },
    {
     "data": {
      "application/vnd.jupyter.widget-view+json": {
       "model_id": "",
       "version_major": 2,
       "version_minor": 0
      },
      "text/plain": [
       "HBox(children=(IntProgress(value=0, description='Col', max=20, style=ProgressStyle(description_width='initial'…"
      ]
     },
     "metadata": {},
     "output_type": "display_data"
    },
    {
     "data": {
      "application/vnd.jupyter.widget-view+json": {
       "model_id": "",
       "version_major": 2,
       "version_minor": 0
      },
      "text/plain": [
       "HBox(children=(IntProgress(value=0, description='Equilibrate sweep', style=ProgressStyle(description_width='in…"
      ]
     },
     "metadata": {},
     "output_type": "display_data"
    },
    {
     "data": {
      "application/vnd.jupyter.widget-view+json": {
       "model_id": "",
       "version_major": 2,
       "version_minor": 0
      },
      "text/plain": [
       "HBox(children=(IntProgress(value=0, description='Measurement sweep', max=20000, style=ProgressStyle(descriptio…"
      ]
     },
     "metadata": {},
     "output_type": "display_data"
    },
    {
     "data": {
      "application/vnd.jupyter.widget-view+json": {
       "model_id": "",
       "version_major": 2,
       "version_minor": 0
      },
      "text/plain": [
       "HBox(children=(IntProgress(value=0, description='Equilibrate sweep', style=ProgressStyle(description_width='in…"
      ]
     },
     "metadata": {},
     "output_type": "display_data"
    },
    {
     "data": {
      "application/vnd.jupyter.widget-view+json": {
       "model_id": "",
       "version_major": 2,
       "version_minor": 0
      },
      "text/plain": [
       "HBox(children=(IntProgress(value=0, description='Measurement sweep', max=20000, style=ProgressStyle(descriptio…"
      ]
     },
     "metadata": {},
     "output_type": "display_data"
    },
    {
     "data": {
      "application/vnd.jupyter.widget-view+json": {
       "model_id": "",
       "version_major": 2,
       "version_minor": 0
      },
      "text/plain": [
       "HBox(children=(IntProgress(value=0, description='Equilibrate sweep', style=ProgressStyle(description_width='in…"
      ]
     },
     "metadata": {},
     "output_type": "display_data"
    },
    {
     "data": {
      "application/vnd.jupyter.widget-view+json": {
       "model_id": "",
       "version_major": 2,
       "version_minor": 0
      },
      "text/plain": [
       "HBox(children=(IntProgress(value=0, description='Measurement sweep', max=20000, style=ProgressStyle(descriptio…"
      ]
     },
     "metadata": {},
     "output_type": "display_data"
    },
    {
     "data": {
      "application/vnd.jupyter.widget-view+json": {
       "model_id": "",
       "version_major": 2,
       "version_minor": 0
      },
      "text/plain": [
       "HBox(children=(IntProgress(value=0, description='Equilibrate sweep', style=ProgressStyle(description_width='in…"
      ]
     },
     "metadata": {},
     "output_type": "display_data"
    },
    {
     "data": {
      "application/vnd.jupyter.widget-view+json": {
       "model_id": "",
       "version_major": 2,
       "version_minor": 0
      },
      "text/plain": [
       "HBox(children=(IntProgress(value=0, description='Measurement sweep', max=20000, style=ProgressStyle(descriptio…"
      ]
     },
     "metadata": {},
     "output_type": "display_data"
    },
    {
     "data": {
      "application/vnd.jupyter.widget-view+json": {
       "model_id": "",
       "version_major": 2,
       "version_minor": 0
      },
      "text/plain": [
       "HBox(children=(IntProgress(value=0, description='Equilibrate sweep', style=ProgressStyle(description_width='in…"
      ]
     },
     "metadata": {},
     "output_type": "display_data"
    },
    {
     "data": {
      "application/vnd.jupyter.widget-view+json": {
       "model_id": "",
       "version_major": 2,
       "version_minor": 0
      },
      "text/plain": [
       "HBox(children=(IntProgress(value=0, description='Measurement sweep', max=20000, style=ProgressStyle(descriptio…"
      ]
     },
     "metadata": {},
     "output_type": "display_data"
    },
    {
     "data": {
      "application/vnd.jupyter.widget-view+json": {
       "model_id": "",
       "version_major": 2,
       "version_minor": 0
      },
      "text/plain": [
       "HBox(children=(IntProgress(value=0, description='Equilibrate sweep', style=ProgressStyle(description_width='in…"
      ]
     },
     "metadata": {},
     "output_type": "display_data"
    },
    {
     "data": {
      "application/vnd.jupyter.widget-view+json": {
       "model_id": "",
       "version_major": 2,
       "version_minor": 0
      },
      "text/plain": [
       "HBox(children=(IntProgress(value=0, description='Measurement sweep', max=20000, style=ProgressStyle(descriptio…"
      ]
     },
     "metadata": {},
     "output_type": "display_data"
    },
    {
     "data": {
      "application/vnd.jupyter.widget-view+json": {
       "model_id": "",
       "version_major": 2,
       "version_minor": 0
      },
      "text/plain": [
       "HBox(children=(IntProgress(value=0, description='Equilibrate sweep', style=ProgressStyle(description_width='in…"
      ]
     },
     "metadata": {},
     "output_type": "display_data"
    },
    {
     "data": {
      "application/vnd.jupyter.widget-view+json": {
       "model_id": "",
       "version_major": 2,
       "version_minor": 0
      },
      "text/plain": [
       "HBox(children=(IntProgress(value=0, description='Measurement sweep', max=20000, style=ProgressStyle(descriptio…"
      ]
     },
     "metadata": {},
     "output_type": "display_data"
    },
    {
     "data": {
      "application/vnd.jupyter.widget-view+json": {
       "model_id": "",
       "version_major": 2,
       "version_minor": 0
      },
      "text/plain": [
       "HBox(children=(IntProgress(value=0, description='Equilibrate sweep', style=ProgressStyle(description_width='in…"
      ]
     },
     "metadata": {},
     "output_type": "display_data"
    },
    {
     "data": {
      "application/vnd.jupyter.widget-view+json": {
       "model_id": "",
       "version_major": 2,
       "version_minor": 0
      },
      "text/plain": [
       "HBox(children=(IntProgress(value=0, description='Measurement sweep', max=20000, style=ProgressStyle(descriptio…"
      ]
     },
     "metadata": {},
     "output_type": "display_data"
    },
    {
     "data": {
      "application/vnd.jupyter.widget-view+json": {
       "model_id": "",
       "version_major": 2,
       "version_minor": 0
      },
      "text/plain": [
       "HBox(children=(IntProgress(value=0, description='Equilibrate sweep', style=ProgressStyle(description_width='in…"
      ]
     },
     "metadata": {},
     "output_type": "display_data"
    },
    {
     "data": {
      "application/vnd.jupyter.widget-view+json": {
       "model_id": "",
       "version_major": 2,
       "version_minor": 0
      },
      "text/plain": [
       "HBox(children=(IntProgress(value=0, description='Measurement sweep', max=20000, style=ProgressStyle(descriptio…"
      ]
     },
     "metadata": {},
     "output_type": "display_data"
    },
    {
     "data": {
      "application/vnd.jupyter.widget-view+json": {
       "model_id": "",
       "version_major": 2,
       "version_minor": 0
      },
      "text/plain": [
       "HBox(children=(IntProgress(value=0, description='Equilibrate sweep', style=ProgressStyle(description_width='in…"
      ]
     },
     "metadata": {},
     "output_type": "display_data"
    },
    {
     "data": {
      "application/vnd.jupyter.widget-view+json": {
       "model_id": "",
       "version_major": 2,
       "version_minor": 0
      },
      "text/plain": [
       "HBox(children=(IntProgress(value=0, description='Measurement sweep', max=20000, style=ProgressStyle(descriptio…"
      ]
     },
     "metadata": {},
     "output_type": "display_data"
    },
    {
     "data": {
      "application/vnd.jupyter.widget-view+json": {
       "model_id": "",
       "version_major": 2,
       "version_minor": 0
      },
      "text/plain": [
       "HBox(children=(IntProgress(value=0, description='Equilibrate sweep', style=ProgressStyle(description_width='in…"
      ]
     },
     "metadata": {},
     "output_type": "display_data"
    },
    {
     "data": {
      "application/vnd.jupyter.widget-view+json": {
       "model_id": "",
       "version_major": 2,
       "version_minor": 0
      },
      "text/plain": [
       "HBox(children=(IntProgress(value=0, description='Measurement sweep', max=20000, style=ProgressStyle(descriptio…"
      ]
     },
     "metadata": {},
     "output_type": "display_data"
    },
    {
     "data": {
      "application/vnd.jupyter.widget-view+json": {
       "model_id": "",
       "version_major": 2,
       "version_minor": 0
      },
      "text/plain": [
       "HBox(children=(IntProgress(value=0, description='Equilibrate sweep', style=ProgressStyle(description_width='in…"
      ]
     },
     "metadata": {},
     "output_type": "display_data"
    },
    {
     "data": {
      "application/vnd.jupyter.widget-view+json": {
       "model_id": "",
       "version_major": 2,
       "version_minor": 0
      },
      "text/plain": [
       "HBox(children=(IntProgress(value=0, description='Measurement sweep', max=20000, style=ProgressStyle(descriptio…"
      ]
     },
     "metadata": {},
     "output_type": "display_data"
    },
    {
     "data": {
      "application/vnd.jupyter.widget-view+json": {
       "model_id": "",
       "version_major": 2,
       "version_minor": 0
      },
      "text/plain": [
       "HBox(children=(IntProgress(value=0, description='Equilibrate sweep', style=ProgressStyle(description_width='in…"
      ]
     },
     "metadata": {},
     "output_type": "display_data"
    },
    {
     "data": {
      "application/vnd.jupyter.widget-view+json": {
       "model_id": "",
       "version_major": 2,
       "version_minor": 0
      },
      "text/plain": [
       "HBox(children=(IntProgress(value=0, description='Measurement sweep', max=20000, style=ProgressStyle(descriptio…"
      ]
     },
     "metadata": {},
     "output_type": "display_data"
    },
    {
     "data": {
      "application/vnd.jupyter.widget-view+json": {
       "model_id": "",
       "version_major": 2,
       "version_minor": 0
      },
      "text/plain": [
       "HBox(children=(IntProgress(value=0, description='Equilibrate sweep', style=ProgressStyle(description_width='in…"
      ]
     },
     "metadata": {},
     "output_type": "display_data"
    },
    {
     "data": {
      "application/vnd.jupyter.widget-view+json": {
       "model_id": "",
       "version_major": 2,
       "version_minor": 0
      },
      "text/plain": [
       "HBox(children=(IntProgress(value=0, description='Measurement sweep', max=20000, style=ProgressStyle(descriptio…"
      ]
     },
     "metadata": {},
     "output_type": "display_data"
    },
    {
     "data": {
      "application/vnd.jupyter.widget-view+json": {
       "model_id": "",
       "version_major": 2,
       "version_minor": 0
      },
      "text/plain": [
       "HBox(children=(IntProgress(value=0, description='Equilibrate sweep', style=ProgressStyle(description_width='in…"
      ]
     },
     "metadata": {},
     "output_type": "display_data"
    },
    {
     "data": {
      "application/vnd.jupyter.widget-view+json": {
       "model_id": "",
       "version_major": 2,
       "version_minor": 0
      },
      "text/plain": [
       "HBox(children=(IntProgress(value=0, description='Measurement sweep', max=20000, style=ProgressStyle(descriptio…"
      ]
     },
     "metadata": {},
     "output_type": "display_data"
    },
    {
     "data": {
      "application/vnd.jupyter.widget-view+json": {
       "model_id": "",
       "version_major": 2,
       "version_minor": 0
      },
      "text/plain": [
       "HBox(children=(IntProgress(value=0, description='Equilibrate sweep', style=ProgressStyle(description_width='in…"
      ]
     },
     "metadata": {},
     "output_type": "display_data"
    },
    {
     "data": {
      "application/vnd.jupyter.widget-view+json": {
       "model_id": "",
       "version_major": 2,
       "version_minor": 0
      },
      "text/plain": [
       "HBox(children=(IntProgress(value=0, description='Measurement sweep', max=20000, style=ProgressStyle(descriptio…"
      ]
     },
     "metadata": {},
     "output_type": "display_data"
    },
    {
     "data": {
      "application/vnd.jupyter.widget-view+json": {
       "model_id": "",
       "version_major": 2,
       "version_minor": 0
      },
      "text/plain": [
       "HBox(children=(IntProgress(value=0, description='Equilibrate sweep', style=ProgressStyle(description_width='in…"
      ]
     },
     "metadata": {},
     "output_type": "display_data"
    },
    {
     "data": {
      "application/vnd.jupyter.widget-view+json": {
       "model_id": "",
       "version_major": 2,
       "version_minor": 0
      },
      "text/plain": [
       "HBox(children=(IntProgress(value=0, description='Measurement sweep', max=20000, style=ProgressStyle(descriptio…"
      ]
     },
     "metadata": {},
     "output_type": "display_data"
    },
    {
     "data": {
      "application/vnd.jupyter.widget-view+json": {
       "model_id": "",
       "version_major": 2,
       "version_minor": 0
      },
      "text/plain": [
       "HBox(children=(IntProgress(value=0, description='Equilibrate sweep', style=ProgressStyle(description_width='in…"
      ]
     },
     "metadata": {},
     "output_type": "display_data"
    },
    {
     "data": {
      "application/vnd.jupyter.widget-view+json": {
       "model_id": "",
       "version_major": 2,
       "version_minor": 0
      },
      "text/plain": [
       "HBox(children=(IntProgress(value=0, description='Measurement sweep', max=20000, style=ProgressStyle(descriptio…"
      ]
     },
     "metadata": {},
     "output_type": "display_data"
    },
    {
     "data": {
      "application/vnd.jupyter.widget-view+json": {
       "model_id": "",
       "version_major": 2,
       "version_minor": 0
      },
      "text/plain": [
       "HBox(children=(IntProgress(value=0, description='Equilibrate sweep', style=ProgressStyle(description_width='in…"
      ]
     },
     "metadata": {},
     "output_type": "display_data"
    },
    {
     "data": {
      "application/vnd.jupyter.widget-view+json": {
       "model_id": "",
       "version_major": 2,
       "version_minor": 0
      },
      "text/plain": [
       "HBox(children=(IntProgress(value=0, description='Measurement sweep', max=20000, style=ProgressStyle(descriptio…"
      ]
     },
     "metadata": {},
     "output_type": "display_data"
    },
    {
     "data": {
      "application/vnd.jupyter.widget-view+json": {
       "model_id": "",
       "version_major": 2,
       "version_minor": 0
      },
      "text/plain": [
       "HBox(children=(IntProgress(value=0, description='Equilibrate sweep', style=ProgressStyle(description_width='in…"
      ]
     },
     "metadata": {},
     "output_type": "display_data"
    },
    {
     "data": {
      "application/vnd.jupyter.widget-view+json": {
       "model_id": "",
       "version_major": 2,
       "version_minor": 0
      },
      "text/plain": [
       "HBox(children=(IntProgress(value=0, description='Measurement sweep', max=20000, style=ProgressStyle(descriptio…"
      ]
     },
     "metadata": {},
     "output_type": "display_data"
    },
    {
     "data": {
      "application/vnd.jupyter.widget-view+json": {
       "model_id": "",
       "version_major": 2,
       "version_minor": 0
      },
      "text/plain": [
       "HBox(children=(IntProgress(value=0, description='Col', max=20, style=ProgressStyle(description_width='initial'…"
      ]
     },
     "metadata": {},
     "output_type": "display_data"
    },
    {
     "data": {
      "application/vnd.jupyter.widget-view+json": {
       "model_id": "",
       "version_major": 2,
       "version_minor": 0
      },
      "text/plain": [
       "HBox(children=(IntProgress(value=0, description='Equilibrate sweep', style=ProgressStyle(description_width='in…"
      ]
     },
     "metadata": {},
     "output_type": "display_data"
    },
    {
     "data": {
      "application/vnd.jupyter.widget-view+json": {
       "model_id": "",
       "version_major": 2,
       "version_minor": 0
      },
      "text/plain": [
       "HBox(children=(IntProgress(value=0, description='Measurement sweep', max=20000, style=ProgressStyle(descriptio…"
      ]
     },
     "metadata": {},
     "output_type": "display_data"
    },
    {
     "data": {
      "application/vnd.jupyter.widget-view+json": {
       "model_id": "",
       "version_major": 2,
       "version_minor": 0
      },
      "text/plain": [
       "HBox(children=(IntProgress(value=0, description='Equilibrate sweep', style=ProgressStyle(description_width='in…"
      ]
     },
     "metadata": {},
     "output_type": "display_data"
    },
    {
     "data": {
      "application/vnd.jupyter.widget-view+json": {
       "model_id": "",
       "version_major": 2,
       "version_minor": 0
      },
      "text/plain": [
       "HBox(children=(IntProgress(value=0, description='Measurement sweep', max=20000, style=ProgressStyle(descriptio…"
      ]
     },
     "metadata": {},
     "output_type": "display_data"
    },
    {
     "data": {
      "application/vnd.jupyter.widget-view+json": {
       "model_id": "",
       "version_major": 2,
       "version_minor": 0
      },
      "text/plain": [
       "HBox(children=(IntProgress(value=0, description='Equilibrate sweep', style=ProgressStyle(description_width='in…"
      ]
     },
     "metadata": {},
     "output_type": "display_data"
    },
    {
     "data": {
      "application/vnd.jupyter.widget-view+json": {
       "model_id": "",
       "version_major": 2,
       "version_minor": 0
      },
      "text/plain": [
       "HBox(children=(IntProgress(value=0, description='Measurement sweep', max=20000, style=ProgressStyle(descriptio…"
      ]
     },
     "metadata": {},
     "output_type": "display_data"
    },
    {
     "data": {
      "application/vnd.jupyter.widget-view+json": {
       "model_id": "",
       "version_major": 2,
       "version_minor": 0
      },
      "text/plain": [
       "HBox(children=(IntProgress(value=0, description='Equilibrate sweep', style=ProgressStyle(description_width='in…"
      ]
     },
     "metadata": {},
     "output_type": "display_data"
    },
    {
     "data": {
      "application/vnd.jupyter.widget-view+json": {
       "model_id": "",
       "version_major": 2,
       "version_minor": 0
      },
      "text/plain": [
       "HBox(children=(IntProgress(value=0, description='Measurement sweep', max=20000, style=ProgressStyle(descriptio…"
      ]
     },
     "metadata": {},
     "output_type": "display_data"
    },
    {
     "data": {
      "application/vnd.jupyter.widget-view+json": {
       "model_id": "",
       "version_major": 2,
       "version_minor": 0
      },
      "text/plain": [
       "HBox(children=(IntProgress(value=0, description='Equilibrate sweep', style=ProgressStyle(description_width='in…"
      ]
     },
     "metadata": {},
     "output_type": "display_data"
    },
    {
     "data": {
      "application/vnd.jupyter.widget-view+json": {
       "model_id": "",
       "version_major": 2,
       "version_minor": 0
      },
      "text/plain": [
       "HBox(children=(IntProgress(value=0, description='Measurement sweep', max=20000, style=ProgressStyle(descriptio…"
      ]
     },
     "metadata": {},
     "output_type": "display_data"
    },
    {
     "data": {
      "application/vnd.jupyter.widget-view+json": {
       "model_id": "",
       "version_major": 2,
       "version_minor": 0
      },
      "text/plain": [
       "HBox(children=(IntProgress(value=0, description='Equilibrate sweep', style=ProgressStyle(description_width='in…"
      ]
     },
     "metadata": {},
     "output_type": "display_data"
    },
    {
     "data": {
      "application/vnd.jupyter.widget-view+json": {
       "model_id": "",
       "version_major": 2,
       "version_minor": 0
      },
      "text/plain": [
       "HBox(children=(IntProgress(value=0, description='Measurement sweep', max=20000, style=ProgressStyle(descriptio…"
      ]
     },
     "metadata": {},
     "output_type": "display_data"
    },
    {
     "data": {
      "application/vnd.jupyter.widget-view+json": {
       "model_id": "",
       "version_major": 2,
       "version_minor": 0
      },
      "text/plain": [
       "HBox(children=(IntProgress(value=0, description='Equilibrate sweep', style=ProgressStyle(description_width='in…"
      ]
     },
     "metadata": {},
     "output_type": "display_data"
    },
    {
     "data": {
      "application/vnd.jupyter.widget-view+json": {
       "model_id": "",
       "version_major": 2,
       "version_minor": 0
      },
      "text/plain": [
       "HBox(children=(IntProgress(value=0, description='Measurement sweep', max=20000, style=ProgressStyle(descriptio…"
      ]
     },
     "metadata": {},
     "output_type": "display_data"
    },
    {
     "data": {
      "application/vnd.jupyter.widget-view+json": {
       "model_id": "",
       "version_major": 2,
       "version_minor": 0
      },
      "text/plain": [
       "HBox(children=(IntProgress(value=0, description='Equilibrate sweep', style=ProgressStyle(description_width='in…"
      ]
     },
     "metadata": {},
     "output_type": "display_data"
    },
    {
     "data": {
      "application/vnd.jupyter.widget-view+json": {
       "model_id": "",
       "version_major": 2,
       "version_minor": 0
      },
      "text/plain": [
       "HBox(children=(IntProgress(value=0, description='Measurement sweep', max=20000, style=ProgressStyle(descriptio…"
      ]
     },
     "metadata": {},
     "output_type": "display_data"
    },
    {
     "data": {
      "application/vnd.jupyter.widget-view+json": {
       "model_id": "",
       "version_major": 2,
       "version_minor": 0
      },
      "text/plain": [
       "HBox(children=(IntProgress(value=0, description='Equilibrate sweep', style=ProgressStyle(description_width='in…"
      ]
     },
     "metadata": {},
     "output_type": "display_data"
    },
    {
     "data": {
      "application/vnd.jupyter.widget-view+json": {
       "model_id": "",
       "version_major": 2,
       "version_minor": 0
      },
      "text/plain": [
       "HBox(children=(IntProgress(value=0, description='Measurement sweep', max=20000, style=ProgressStyle(descriptio…"
      ]
     },
     "metadata": {},
     "output_type": "display_data"
    },
    {
     "data": {
      "application/vnd.jupyter.widget-view+json": {
       "model_id": "",
       "version_major": 2,
       "version_minor": 0
      },
      "text/plain": [
       "HBox(children=(IntProgress(value=0, description='Equilibrate sweep', style=ProgressStyle(description_width='in…"
      ]
     },
     "metadata": {},
     "output_type": "display_data"
    },
    {
     "data": {
      "application/vnd.jupyter.widget-view+json": {
       "model_id": "",
       "version_major": 2,
       "version_minor": 0
      },
      "text/plain": [
       "HBox(children=(IntProgress(value=0, description='Measurement sweep', max=20000, style=ProgressStyle(descriptio…"
      ]
     },
     "metadata": {},
     "output_type": "display_data"
    },
    {
     "data": {
      "application/vnd.jupyter.widget-view+json": {
       "model_id": "",
       "version_major": 2,
       "version_minor": 0
      },
      "text/plain": [
       "HBox(children=(IntProgress(value=0, description='Equilibrate sweep', style=ProgressStyle(description_width='in…"
      ]
     },
     "metadata": {},
     "output_type": "display_data"
    },
    {
     "data": {
      "application/vnd.jupyter.widget-view+json": {
       "model_id": "",
       "version_major": 2,
       "version_minor": 0
      },
      "text/plain": [
       "HBox(children=(IntProgress(value=0, description='Measurement sweep', max=20000, style=ProgressStyle(descriptio…"
      ]
     },
     "metadata": {},
     "output_type": "display_data"
    },
    {
     "data": {
      "application/vnd.jupyter.widget-view+json": {
       "model_id": "",
       "version_major": 2,
       "version_minor": 0
      },
      "text/plain": [
       "HBox(children=(IntProgress(value=0, description='Equilibrate sweep', style=ProgressStyle(description_width='in…"
      ]
     },
     "metadata": {},
     "output_type": "display_data"
    },
    {
     "data": {
      "application/vnd.jupyter.widget-view+json": {
       "model_id": "",
       "version_major": 2,
       "version_minor": 0
      },
      "text/plain": [
       "HBox(children=(IntProgress(value=0, description='Measurement sweep', max=20000, style=ProgressStyle(descriptio…"
      ]
     },
     "metadata": {},
     "output_type": "display_data"
    },
    {
     "data": {
      "application/vnd.jupyter.widget-view+json": {
       "model_id": "",
       "version_major": 2,
       "version_minor": 0
      },
      "text/plain": [
       "HBox(children=(IntProgress(value=0, description='Equilibrate sweep', style=ProgressStyle(description_width='in…"
      ]
     },
     "metadata": {},
     "output_type": "display_data"
    },
    {
     "data": {
      "application/vnd.jupyter.widget-view+json": {
       "model_id": "",
       "version_major": 2,
       "version_minor": 0
      },
      "text/plain": [
       "HBox(children=(IntProgress(value=0, description='Measurement sweep', max=20000, style=ProgressStyle(descriptio…"
      ]
     },
     "metadata": {},
     "output_type": "display_data"
    },
    {
     "data": {
      "application/vnd.jupyter.widget-view+json": {
       "model_id": "",
       "version_major": 2,
       "version_minor": 0
      },
      "text/plain": [
       "HBox(children=(IntProgress(value=0, description='Equilibrate sweep', style=ProgressStyle(description_width='in…"
      ]
     },
     "metadata": {},
     "output_type": "display_data"
    },
    {
     "data": {
      "application/vnd.jupyter.widget-view+json": {
       "model_id": "",
       "version_major": 2,
       "version_minor": 0
      },
      "text/plain": [
       "HBox(children=(IntProgress(value=0, description='Measurement sweep', max=20000, style=ProgressStyle(descriptio…"
      ]
     },
     "metadata": {},
     "output_type": "display_data"
    },
    {
     "data": {
      "application/vnd.jupyter.widget-view+json": {
       "model_id": "",
       "version_major": 2,
       "version_minor": 0
      },
      "text/plain": [
       "HBox(children=(IntProgress(value=0, description='Equilibrate sweep', style=ProgressStyle(description_width='in…"
      ]
     },
     "metadata": {},
     "output_type": "display_data"
    },
    {
     "data": {
      "application/vnd.jupyter.widget-view+json": {
       "model_id": "",
       "version_major": 2,
       "version_minor": 0
      },
      "text/plain": [
       "HBox(children=(IntProgress(value=0, description='Measurement sweep', max=20000, style=ProgressStyle(descriptio…"
      ]
     },
     "metadata": {},
     "output_type": "display_data"
    },
    {
     "data": {
      "application/vnd.jupyter.widget-view+json": {
       "model_id": "",
       "version_major": 2,
       "version_minor": 0
      },
      "text/plain": [
       "HBox(children=(IntProgress(value=0, description='Equilibrate sweep', style=ProgressStyle(description_width='in…"
      ]
     },
     "metadata": {},
     "output_type": "display_data"
    },
    {
     "data": {
      "application/vnd.jupyter.widget-view+json": {
       "model_id": "",
       "version_major": 2,
       "version_minor": 0
      },
      "text/plain": [
       "HBox(children=(IntProgress(value=0, description='Measurement sweep', max=20000, style=ProgressStyle(descriptio…"
      ]
     },
     "metadata": {},
     "output_type": "display_data"
    },
    {
     "data": {
      "application/vnd.jupyter.widget-view+json": {
       "model_id": "",
       "version_major": 2,
       "version_minor": 0
      },
      "text/plain": [
       "HBox(children=(IntProgress(value=0, description='Equilibrate sweep', style=ProgressStyle(description_width='in…"
      ]
     },
     "metadata": {},
     "output_type": "display_data"
    },
    {
     "data": {
      "application/vnd.jupyter.widget-view+json": {
       "model_id": "",
       "version_major": 2,
       "version_minor": 0
      },
      "text/plain": [
       "HBox(children=(IntProgress(value=0, description='Measurement sweep', max=20000, style=ProgressStyle(descriptio…"
      ]
     },
     "metadata": {},
     "output_type": "display_data"
    },
    {
     "data": {
      "application/vnd.jupyter.widget-view+json": {
       "model_id": "",
       "version_major": 2,
       "version_minor": 0
      },
      "text/plain": [
       "HBox(children=(IntProgress(value=0, description='Equilibrate sweep', style=ProgressStyle(description_width='in…"
      ]
     },
     "metadata": {},
     "output_type": "display_data"
    },
    {
     "data": {
      "application/vnd.jupyter.widget-view+json": {
       "model_id": "",
       "version_major": 2,
       "version_minor": 0
      },
      "text/plain": [
       "HBox(children=(IntProgress(value=0, description='Measurement sweep', max=20000, style=ProgressStyle(descriptio…"
      ]
     },
     "metadata": {},
     "output_type": "display_data"
    },
    {
     "data": {
      "application/vnd.jupyter.widget-view+json": {
       "model_id": "",
       "version_major": 2,
       "version_minor": 0
      },
      "text/plain": [
       "HBox(children=(IntProgress(value=0, description='Equilibrate sweep', style=ProgressStyle(description_width='in…"
      ]
     },
     "metadata": {},
     "output_type": "display_data"
    },
    {
     "data": {
      "application/vnd.jupyter.widget-view+json": {
       "model_id": "",
       "version_major": 2,
       "version_minor": 0
      },
      "text/plain": [
       "HBox(children=(IntProgress(value=0, description='Measurement sweep', max=20000, style=ProgressStyle(descriptio…"
      ]
     },
     "metadata": {},
     "output_type": "display_data"
    },
    {
     "data": {
      "application/vnd.jupyter.widget-view+json": {
       "model_id": "",
       "version_major": 2,
       "version_minor": 0
      },
      "text/plain": [
       "HBox(children=(IntProgress(value=0, description='Equilibrate sweep', style=ProgressStyle(description_width='in…"
      ]
     },
     "metadata": {},
     "output_type": "display_data"
    },
    {
     "data": {
      "application/vnd.jupyter.widget-view+json": {
       "model_id": "",
       "version_major": 2,
       "version_minor": 0
      },
      "text/plain": [
       "HBox(children=(IntProgress(value=0, description='Measurement sweep', max=20000, style=ProgressStyle(descriptio…"
      ]
     },
     "metadata": {},
     "output_type": "display_data"
    },
    {
     "data": {
      "application/vnd.jupyter.widget-view+json": {
       "model_id": "",
       "version_major": 2,
       "version_minor": 0
      },
      "text/plain": [
       "HBox(children=(IntProgress(value=0, description='Col', max=20, style=ProgressStyle(description_width='initial'…"
      ]
     },
     "metadata": {},
     "output_type": "display_data"
    },
    {
     "data": {
      "application/vnd.jupyter.widget-view+json": {
       "model_id": "",
       "version_major": 2,
       "version_minor": 0
      },
      "text/plain": [
       "HBox(children=(IntProgress(value=0, description='Equilibrate sweep', style=ProgressStyle(description_width='in…"
      ]
     },
     "metadata": {},
     "output_type": "display_data"
    },
    {
     "data": {
      "application/vnd.jupyter.widget-view+json": {
       "model_id": "",
       "version_major": 2,
       "version_minor": 0
      },
      "text/plain": [
       "HBox(children=(IntProgress(value=0, description='Measurement sweep', max=20000, style=ProgressStyle(descriptio…"
      ]
     },
     "metadata": {},
     "output_type": "display_data"
    },
    {
     "data": {
      "application/vnd.jupyter.widget-view+json": {
       "model_id": "",
       "version_major": 2,
       "version_minor": 0
      },
      "text/plain": [
       "HBox(children=(IntProgress(value=0, description='Equilibrate sweep', style=ProgressStyle(description_width='in…"
      ]
     },
     "metadata": {},
     "output_type": "display_data"
    },
    {
     "data": {
      "application/vnd.jupyter.widget-view+json": {
       "model_id": "",
       "version_major": 2,
       "version_minor": 0
      },
      "text/plain": [
       "HBox(children=(IntProgress(value=0, description='Measurement sweep', max=20000, style=ProgressStyle(descriptio…"
      ]
     },
     "metadata": {},
     "output_type": "display_data"
    },
    {
     "data": {
      "application/vnd.jupyter.widget-view+json": {
       "model_id": "",
       "version_major": 2,
       "version_minor": 0
      },
      "text/plain": [
       "HBox(children=(IntProgress(value=0, description='Equilibrate sweep', style=ProgressStyle(description_width='in…"
      ]
     },
     "metadata": {},
     "output_type": "display_data"
    },
    {
     "data": {
      "application/vnd.jupyter.widget-view+json": {
       "model_id": "",
       "version_major": 2,
       "version_minor": 0
      },
      "text/plain": [
       "HBox(children=(IntProgress(value=0, description='Measurement sweep', max=20000, style=ProgressStyle(descriptio…"
      ]
     },
     "metadata": {},
     "output_type": "display_data"
    },
    {
     "data": {
      "application/vnd.jupyter.widget-view+json": {
       "model_id": "",
       "version_major": 2,
       "version_minor": 0
      },
      "text/plain": [
       "HBox(children=(IntProgress(value=0, description='Equilibrate sweep', style=ProgressStyle(description_width='in…"
      ]
     },
     "metadata": {},
     "output_type": "display_data"
    },
    {
     "data": {
      "application/vnd.jupyter.widget-view+json": {
       "model_id": "",
       "version_major": 2,
       "version_minor": 0
      },
      "text/plain": [
       "HBox(children=(IntProgress(value=0, description='Measurement sweep', max=20000, style=ProgressStyle(descriptio…"
      ]
     },
     "metadata": {},
     "output_type": "display_data"
    },
    {
     "data": {
      "application/vnd.jupyter.widget-view+json": {
       "model_id": "",
       "version_major": 2,
       "version_minor": 0
      },
      "text/plain": [
       "HBox(children=(IntProgress(value=0, description='Equilibrate sweep', style=ProgressStyle(description_width='in…"
      ]
     },
     "metadata": {},
     "output_type": "display_data"
    },
    {
     "data": {
      "application/vnd.jupyter.widget-view+json": {
       "model_id": "",
       "version_major": 2,
       "version_minor": 0
      },
      "text/plain": [
       "HBox(children=(IntProgress(value=0, description='Measurement sweep', max=20000, style=ProgressStyle(descriptio…"
      ]
     },
     "metadata": {},
     "output_type": "display_data"
    },
    {
     "data": {
      "application/vnd.jupyter.widget-view+json": {
       "model_id": "",
       "version_major": 2,
       "version_minor": 0
      },
      "text/plain": [
       "HBox(children=(IntProgress(value=0, description='Equilibrate sweep', style=ProgressStyle(description_width='in…"
      ]
     },
     "metadata": {},
     "output_type": "display_data"
    },
    {
     "data": {
      "application/vnd.jupyter.widget-view+json": {
       "model_id": "",
       "version_major": 2,
       "version_minor": 0
      },
      "text/plain": [
       "HBox(children=(IntProgress(value=0, description='Measurement sweep', max=20000, style=ProgressStyle(descriptio…"
      ]
     },
     "metadata": {},
     "output_type": "display_data"
    },
    {
     "data": {
      "application/vnd.jupyter.widget-view+json": {
       "model_id": "",
       "version_major": 2,
       "version_minor": 0
      },
      "text/plain": [
       "HBox(children=(IntProgress(value=0, description='Equilibrate sweep', style=ProgressStyle(description_width='in…"
      ]
     },
     "metadata": {},
     "output_type": "display_data"
    },
    {
     "data": {
      "application/vnd.jupyter.widget-view+json": {
       "model_id": "",
       "version_major": 2,
       "version_minor": 0
      },
      "text/plain": [
       "HBox(children=(IntProgress(value=0, description='Measurement sweep', max=20000, style=ProgressStyle(descriptio…"
      ]
     },
     "metadata": {},
     "output_type": "display_data"
    },
    {
     "data": {
      "application/vnd.jupyter.widget-view+json": {
       "model_id": "",
       "version_major": 2,
       "version_minor": 0
      },
      "text/plain": [
       "HBox(children=(IntProgress(value=0, description='Equilibrate sweep', style=ProgressStyle(description_width='in…"
      ]
     },
     "metadata": {},
     "output_type": "display_data"
    },
    {
     "data": {
      "application/vnd.jupyter.widget-view+json": {
       "model_id": "",
       "version_major": 2,
       "version_minor": 0
      },
      "text/plain": [
       "HBox(children=(IntProgress(value=0, description='Measurement sweep', max=20000, style=ProgressStyle(descriptio…"
      ]
     },
     "metadata": {},
     "output_type": "display_data"
    },
    {
     "data": {
      "application/vnd.jupyter.widget-view+json": {
       "model_id": "",
       "version_major": 2,
       "version_minor": 0
      },
      "text/plain": [
       "HBox(children=(IntProgress(value=0, description='Equilibrate sweep', style=ProgressStyle(description_width='in…"
      ]
     },
     "metadata": {},
     "output_type": "display_data"
    },
    {
     "data": {
      "application/vnd.jupyter.widget-view+json": {
       "model_id": "",
       "version_major": 2,
       "version_minor": 0
      },
      "text/plain": [
       "HBox(children=(IntProgress(value=0, description='Measurement sweep', max=20000, style=ProgressStyle(descriptio…"
      ]
     },
     "metadata": {},
     "output_type": "display_data"
    },
    {
     "data": {
      "application/vnd.jupyter.widget-view+json": {
       "model_id": "",
       "version_major": 2,
       "version_minor": 0
      },
      "text/plain": [
       "HBox(children=(IntProgress(value=0, description='Equilibrate sweep', style=ProgressStyle(description_width='in…"
      ]
     },
     "metadata": {},
     "output_type": "display_data"
    },
    {
     "data": {
      "application/vnd.jupyter.widget-view+json": {
       "model_id": "",
       "version_major": 2,
       "version_minor": 0
      },
      "text/plain": [
       "HBox(children=(IntProgress(value=0, description='Measurement sweep', max=20000, style=ProgressStyle(descriptio…"
      ]
     },
     "metadata": {},
     "output_type": "display_data"
    },
    {
     "data": {
      "application/vnd.jupyter.widget-view+json": {
       "model_id": "",
       "version_major": 2,
       "version_minor": 0
      },
      "text/plain": [
       "HBox(children=(IntProgress(value=0, description='Equilibrate sweep', style=ProgressStyle(description_width='in…"
      ]
     },
     "metadata": {},
     "output_type": "display_data"
    },
    {
     "data": {
      "application/vnd.jupyter.widget-view+json": {
       "model_id": "",
       "version_major": 2,
       "version_minor": 0
      },
      "text/plain": [
       "HBox(children=(IntProgress(value=0, description='Measurement sweep', max=20000, style=ProgressStyle(descriptio…"
      ]
     },
     "metadata": {},
     "output_type": "display_data"
    },
    {
     "data": {
      "application/vnd.jupyter.widget-view+json": {
       "model_id": "",
       "version_major": 2,
       "version_minor": 0
      },
      "text/plain": [
       "HBox(children=(IntProgress(value=0, description='Equilibrate sweep', style=ProgressStyle(description_width='in…"
      ]
     },
     "metadata": {},
     "output_type": "display_data"
    },
    {
     "data": {
      "application/vnd.jupyter.widget-view+json": {
       "model_id": "",
       "version_major": 2,
       "version_minor": 0
      },
      "text/plain": [
       "HBox(children=(IntProgress(value=0, description='Measurement sweep', max=20000, style=ProgressStyle(descriptio…"
      ]
     },
     "metadata": {},
     "output_type": "display_data"
    },
    {
     "data": {
      "application/vnd.jupyter.widget-view+json": {
       "model_id": "",
       "version_major": 2,
       "version_minor": 0
      },
      "text/plain": [
       "HBox(children=(IntProgress(value=0, description='Equilibrate sweep', style=ProgressStyle(description_width='in…"
      ]
     },
     "metadata": {},
     "output_type": "display_data"
    },
    {
     "data": {
      "application/vnd.jupyter.widget-view+json": {
       "model_id": "",
       "version_major": 2,
       "version_minor": 0
      },
      "text/plain": [
       "HBox(children=(IntProgress(value=0, description='Measurement sweep', max=20000, style=ProgressStyle(descriptio…"
      ]
     },
     "metadata": {},
     "output_type": "display_data"
    },
    {
     "data": {
      "application/vnd.jupyter.widget-view+json": {
       "model_id": "",
       "version_major": 2,
       "version_minor": 0
      },
      "text/plain": [
       "HBox(children=(IntProgress(value=0, description='Equilibrate sweep', style=ProgressStyle(description_width='in…"
      ]
     },
     "metadata": {},
     "output_type": "display_data"
    },
    {
     "data": {
      "application/vnd.jupyter.widget-view+json": {
       "model_id": "",
       "version_major": 2,
       "version_minor": 0
      },
      "text/plain": [
       "HBox(children=(IntProgress(value=0, description='Measurement sweep', max=20000, style=ProgressStyle(descriptio…"
      ]
     },
     "metadata": {},
     "output_type": "display_data"
    },
    {
     "data": {
      "application/vnd.jupyter.widget-view+json": {
       "model_id": "",
       "version_major": 2,
       "version_minor": 0
      },
      "text/plain": [
       "HBox(children=(IntProgress(value=0, description='Equilibrate sweep', style=ProgressStyle(description_width='in…"
      ]
     },
     "metadata": {},
     "output_type": "display_data"
    },
    {
     "data": {
      "application/vnd.jupyter.widget-view+json": {
       "model_id": "",
       "version_major": 2,
       "version_minor": 0
      },
      "text/plain": [
       "HBox(children=(IntProgress(value=0, description='Measurement sweep', max=20000, style=ProgressStyle(descriptio…"
      ]
     },
     "metadata": {},
     "output_type": "display_data"
    },
    {
     "data": {
      "application/vnd.jupyter.widget-view+json": {
       "model_id": "",
       "version_major": 2,
       "version_minor": 0
      },
      "text/plain": [
       "HBox(children=(IntProgress(value=0, description='Equilibrate sweep', style=ProgressStyle(description_width='in…"
      ]
     },
     "metadata": {},
     "output_type": "display_data"
    },
    {
     "data": {
      "application/vnd.jupyter.widget-view+json": {
       "model_id": "",
       "version_major": 2,
       "version_minor": 0
      },
      "text/plain": [
       "HBox(children=(IntProgress(value=0, description='Measurement sweep', max=20000, style=ProgressStyle(descriptio…"
      ]
     },
     "metadata": {},
     "output_type": "display_data"
    },
    {
     "data": {
      "application/vnd.jupyter.widget-view+json": {
       "model_id": "",
       "version_major": 2,
       "version_minor": 0
      },
      "text/plain": [
       "HBox(children=(IntProgress(value=0, description='Equilibrate sweep', style=ProgressStyle(description_width='in…"
      ]
     },
     "metadata": {},
     "output_type": "display_data"
    },
    {
     "data": {
      "application/vnd.jupyter.widget-view+json": {
       "model_id": "",
       "version_major": 2,
       "version_minor": 0
      },
      "text/plain": [
       "HBox(children=(IntProgress(value=0, description='Measurement sweep', max=20000, style=ProgressStyle(descriptio…"
      ]
     },
     "metadata": {},
     "output_type": "display_data"
    },
    {
     "data": {
      "application/vnd.jupyter.widget-view+json": {
       "model_id": "",
       "version_major": 2,
       "version_minor": 0
      },
      "text/plain": [
       "HBox(children=(IntProgress(value=0, description='Equilibrate sweep', style=ProgressStyle(description_width='in…"
      ]
     },
     "metadata": {},
     "output_type": "display_data"
    },
    {
     "data": {
      "application/vnd.jupyter.widget-view+json": {
       "model_id": "",
       "version_major": 2,
       "version_minor": 0
      },
      "text/plain": [
       "HBox(children=(IntProgress(value=0, description='Measurement sweep', max=20000, style=ProgressStyle(descriptio…"
      ]
     },
     "metadata": {},
     "output_type": "display_data"
    },
    {
     "data": {
      "application/vnd.jupyter.widget-view+json": {
       "model_id": "",
       "version_major": 2,
       "version_minor": 0
      },
      "text/plain": [
       "HBox(children=(IntProgress(value=0, description='Equilibrate sweep', style=ProgressStyle(description_width='in…"
      ]
     },
     "metadata": {},
     "output_type": "display_data"
    },
    {
     "data": {
      "application/vnd.jupyter.widget-view+json": {
       "model_id": "",
       "version_major": 2,
       "version_minor": 0
      },
      "text/plain": [
       "HBox(children=(IntProgress(value=0, description='Measurement sweep', max=20000, style=ProgressStyle(descriptio…"
      ]
     },
     "metadata": {},
     "output_type": "display_data"
    },
    {
     "data": {
      "application/vnd.jupyter.widget-view+json": {
       "model_id": "",
       "version_major": 2,
       "version_minor": 0
      },
      "text/plain": [
       "HBox(children=(IntProgress(value=0, description='Equilibrate sweep', style=ProgressStyle(description_width='in…"
      ]
     },
     "metadata": {},
     "output_type": "display_data"
    },
    {
     "data": {
      "application/vnd.jupyter.widget-view+json": {
       "model_id": "",
       "version_major": 2,
       "version_minor": 0
      },
      "text/plain": [
       "HBox(children=(IntProgress(value=0, description='Measurement sweep', max=20000, style=ProgressStyle(descriptio…"
      ]
     },
     "metadata": {},
     "output_type": "display_data"
    },
    {
     "data": {
      "application/vnd.jupyter.widget-view+json": {
       "model_id": "",
       "version_major": 2,
       "version_minor": 0
      },
      "text/plain": [
       "HBox(children=(IntProgress(value=0, description='Col', max=20, style=ProgressStyle(description_width='initial'…"
      ]
     },
     "metadata": {},
     "output_type": "display_data"
    },
    {
     "data": {
      "application/vnd.jupyter.widget-view+json": {
       "model_id": "",
       "version_major": 2,
       "version_minor": 0
      },
      "text/plain": [
       "HBox(children=(IntProgress(value=0, description='Equilibrate sweep', style=ProgressStyle(description_width='in…"
      ]
     },
     "metadata": {},
     "output_type": "display_data"
    },
    {
     "data": {
      "application/vnd.jupyter.widget-view+json": {
       "model_id": "",
       "version_major": 2,
       "version_minor": 0
      },
      "text/plain": [
       "HBox(children=(IntProgress(value=0, description='Measurement sweep', max=20000, style=ProgressStyle(descriptio…"
      ]
     },
     "metadata": {},
     "output_type": "display_data"
    },
    {
     "data": {
      "application/vnd.jupyter.widget-view+json": {
       "model_id": "",
       "version_major": 2,
       "version_minor": 0
      },
      "text/plain": [
       "HBox(children=(IntProgress(value=0, description='Equilibrate sweep', style=ProgressStyle(description_width='in…"
      ]
     },
     "metadata": {},
     "output_type": "display_data"
    },
    {
     "data": {
      "application/vnd.jupyter.widget-view+json": {
       "model_id": "",
       "version_major": 2,
       "version_minor": 0
      },
      "text/plain": [
       "HBox(children=(IntProgress(value=0, description='Measurement sweep', max=20000, style=ProgressStyle(descriptio…"
      ]
     },
     "metadata": {},
     "output_type": "display_data"
    },
    {
     "data": {
      "application/vnd.jupyter.widget-view+json": {
       "model_id": "",
       "version_major": 2,
       "version_minor": 0
      },
      "text/plain": [
       "HBox(children=(IntProgress(value=0, description='Equilibrate sweep', style=ProgressStyle(description_width='in…"
      ]
     },
     "metadata": {},
     "output_type": "display_data"
    },
    {
     "data": {
      "application/vnd.jupyter.widget-view+json": {
       "model_id": "",
       "version_major": 2,
       "version_minor": 0
      },
      "text/plain": [
       "HBox(children=(IntProgress(value=0, description='Measurement sweep', max=20000, style=ProgressStyle(descriptio…"
      ]
     },
     "metadata": {},
     "output_type": "display_data"
    },
    {
     "data": {
      "application/vnd.jupyter.widget-view+json": {
       "model_id": "",
       "version_major": 2,
       "version_minor": 0
      },
      "text/plain": [
       "HBox(children=(IntProgress(value=0, description='Equilibrate sweep', style=ProgressStyle(description_width='in…"
      ]
     },
     "metadata": {},
     "output_type": "display_data"
    },
    {
     "data": {
      "application/vnd.jupyter.widget-view+json": {
       "model_id": "",
       "version_major": 2,
       "version_minor": 0
      },
      "text/plain": [
       "HBox(children=(IntProgress(value=0, description='Measurement sweep', max=20000, style=ProgressStyle(descriptio…"
      ]
     },
     "metadata": {},
     "output_type": "display_data"
    },
    {
     "data": {
      "application/vnd.jupyter.widget-view+json": {
       "model_id": "",
       "version_major": 2,
       "version_minor": 0
      },
      "text/plain": [
       "HBox(children=(IntProgress(value=0, description='Equilibrate sweep', style=ProgressStyle(description_width='in…"
      ]
     },
     "metadata": {},
     "output_type": "display_data"
    },
    {
     "data": {
      "application/vnd.jupyter.widget-view+json": {
       "model_id": "",
       "version_major": 2,
       "version_minor": 0
      },
      "text/plain": [
       "HBox(children=(IntProgress(value=0, description='Measurement sweep', max=20000, style=ProgressStyle(descriptio…"
      ]
     },
     "metadata": {},
     "output_type": "display_data"
    },
    {
     "data": {
      "application/vnd.jupyter.widget-view+json": {
       "model_id": "",
       "version_major": 2,
       "version_minor": 0
      },
      "text/plain": [
       "HBox(children=(IntProgress(value=0, description='Equilibrate sweep', style=ProgressStyle(description_width='in…"
      ]
     },
     "metadata": {},
     "output_type": "display_data"
    },
    {
     "data": {
      "application/vnd.jupyter.widget-view+json": {
       "model_id": "",
       "version_major": 2,
       "version_minor": 0
      },
      "text/plain": [
       "HBox(children=(IntProgress(value=0, description='Measurement sweep', max=20000, style=ProgressStyle(descriptio…"
      ]
     },
     "metadata": {},
     "output_type": "display_data"
    },
    {
     "data": {
      "application/vnd.jupyter.widget-view+json": {
       "model_id": "",
       "version_major": 2,
       "version_minor": 0
      },
      "text/plain": [
       "HBox(children=(IntProgress(value=0, description='Equilibrate sweep', style=ProgressStyle(description_width='in…"
      ]
     },
     "metadata": {},
     "output_type": "display_data"
    },
    {
     "data": {
      "application/vnd.jupyter.widget-view+json": {
       "model_id": "",
       "version_major": 2,
       "version_minor": 0
      },
      "text/plain": [
       "HBox(children=(IntProgress(value=0, description='Measurement sweep', max=20000, style=ProgressStyle(descriptio…"
      ]
     },
     "metadata": {},
     "output_type": "display_data"
    },
    {
     "data": {
      "application/vnd.jupyter.widget-view+json": {
       "model_id": "",
       "version_major": 2,
       "version_minor": 0
      },
      "text/plain": [
       "HBox(children=(IntProgress(value=0, description='Equilibrate sweep', style=ProgressStyle(description_width='in…"
      ]
     },
     "metadata": {},
     "output_type": "display_data"
    },
    {
     "data": {
      "application/vnd.jupyter.widget-view+json": {
       "model_id": "",
       "version_major": 2,
       "version_minor": 0
      },
      "text/plain": [
       "HBox(children=(IntProgress(value=0, description='Measurement sweep', max=20000, style=ProgressStyle(descriptio…"
      ]
     },
     "metadata": {},
     "output_type": "display_data"
    },
    {
     "data": {
      "application/vnd.jupyter.widget-view+json": {
       "model_id": "",
       "version_major": 2,
       "version_minor": 0
      },
      "text/plain": [
       "HBox(children=(IntProgress(value=0, description='Equilibrate sweep', style=ProgressStyle(description_width='in…"
      ]
     },
     "metadata": {},
     "output_type": "display_data"
    },
    {
     "data": {
      "application/vnd.jupyter.widget-view+json": {
       "model_id": "",
       "version_major": 2,
       "version_minor": 0
      },
      "text/plain": [
       "HBox(children=(IntProgress(value=0, description='Measurement sweep', max=20000, style=ProgressStyle(descriptio…"
      ]
     },
     "metadata": {},
     "output_type": "display_data"
    },
    {
     "data": {
      "application/vnd.jupyter.widget-view+json": {
       "model_id": "",
       "version_major": 2,
       "version_minor": 0
      },
      "text/plain": [
       "HBox(children=(IntProgress(value=0, description='Equilibrate sweep', style=ProgressStyle(description_width='in…"
      ]
     },
     "metadata": {},
     "output_type": "display_data"
    },
    {
     "data": {
      "application/vnd.jupyter.widget-view+json": {
       "model_id": "",
       "version_major": 2,
       "version_minor": 0
      },
      "text/plain": [
       "HBox(children=(IntProgress(value=0, description='Measurement sweep', max=20000, style=ProgressStyle(descriptio…"
      ]
     },
     "metadata": {},
     "output_type": "display_data"
    },
    {
     "data": {
      "application/vnd.jupyter.widget-view+json": {
       "model_id": "",
       "version_major": 2,
       "version_minor": 0
      },
      "text/plain": [
       "HBox(children=(IntProgress(value=0, description='Equilibrate sweep', style=ProgressStyle(description_width='in…"
      ]
     },
     "metadata": {},
     "output_type": "display_data"
    },
    {
     "data": {
      "application/vnd.jupyter.widget-view+json": {
       "model_id": "",
       "version_major": 2,
       "version_minor": 0
      },
      "text/plain": [
       "HBox(children=(IntProgress(value=0, description='Measurement sweep', max=20000, style=ProgressStyle(descriptio…"
      ]
     },
     "metadata": {},
     "output_type": "display_data"
    },
    {
     "data": {
      "application/vnd.jupyter.widget-view+json": {
       "model_id": "",
       "version_major": 2,
       "version_minor": 0
      },
      "text/plain": [
       "HBox(children=(IntProgress(value=0, description='Equilibrate sweep', style=ProgressStyle(description_width='in…"
      ]
     },
     "metadata": {},
     "output_type": "display_data"
    },
    {
     "data": {
      "application/vnd.jupyter.widget-view+json": {
       "model_id": "",
       "version_major": 2,
       "version_minor": 0
      },
      "text/plain": [
       "HBox(children=(IntProgress(value=0, description='Measurement sweep', max=20000, style=ProgressStyle(descriptio…"
      ]
     },
     "metadata": {},
     "output_type": "display_data"
    },
    {
     "data": {
      "application/vnd.jupyter.widget-view+json": {
       "model_id": "",
       "version_major": 2,
       "version_minor": 0
      },
      "text/plain": [
       "HBox(children=(IntProgress(value=0, description='Equilibrate sweep', style=ProgressStyle(description_width='in…"
      ]
     },
     "metadata": {},
     "output_type": "display_data"
    },
    {
     "data": {
      "application/vnd.jupyter.widget-view+json": {
       "model_id": "",
       "version_major": 2,
       "version_minor": 0
      },
      "text/plain": [
       "HBox(children=(IntProgress(value=0, description='Measurement sweep', max=20000, style=ProgressStyle(descriptio…"
      ]
     },
     "metadata": {},
     "output_type": "display_data"
    },
    {
     "data": {
      "application/vnd.jupyter.widget-view+json": {
       "model_id": "",
       "version_major": 2,
       "version_minor": 0
      },
      "text/plain": [
       "HBox(children=(IntProgress(value=0, description='Equilibrate sweep', style=ProgressStyle(description_width='in…"
      ]
     },
     "metadata": {},
     "output_type": "display_data"
    },
    {
     "data": {
      "application/vnd.jupyter.widget-view+json": {
       "model_id": "",
       "version_major": 2,
       "version_minor": 0
      },
      "text/plain": [
       "HBox(children=(IntProgress(value=0, description='Measurement sweep', max=20000, style=ProgressStyle(descriptio…"
      ]
     },
     "metadata": {},
     "output_type": "display_data"
    },
    {
     "data": {
      "application/vnd.jupyter.widget-view+json": {
       "model_id": "",
       "version_major": 2,
       "version_minor": 0
      },
      "text/plain": [
       "HBox(children=(IntProgress(value=0, description='Equilibrate sweep', style=ProgressStyle(description_width='in…"
      ]
     },
     "metadata": {},
     "output_type": "display_data"
    },
    {
     "data": {
      "application/vnd.jupyter.widget-view+json": {
       "model_id": "",
       "version_major": 2,
       "version_minor": 0
      },
      "text/plain": [
       "HBox(children=(IntProgress(value=0, description='Measurement sweep', max=20000, style=ProgressStyle(descriptio…"
      ]
     },
     "metadata": {},
     "output_type": "display_data"
    },
    {
     "data": {
      "application/vnd.jupyter.widget-view+json": {
       "model_id": "",
       "version_major": 2,
       "version_minor": 0
      },
      "text/plain": [
       "HBox(children=(IntProgress(value=0, description='Equilibrate sweep', style=ProgressStyle(description_width='in…"
      ]
     },
     "metadata": {},
     "output_type": "display_data"
    },
    {
     "data": {
      "application/vnd.jupyter.widget-view+json": {
       "model_id": "",
       "version_major": 2,
       "version_minor": 0
      },
      "text/plain": [
       "HBox(children=(IntProgress(value=0, description='Measurement sweep', max=20000, style=ProgressStyle(descriptio…"
      ]
     },
     "metadata": {},
     "output_type": "display_data"
    },
    {
     "data": {
      "application/vnd.jupyter.widget-view+json": {
       "model_id": "",
       "version_major": 2,
       "version_minor": 0
      },
      "text/plain": [
       "HBox(children=(IntProgress(value=0, description='Equilibrate sweep', style=ProgressStyle(description_width='in…"
      ]
     },
     "metadata": {},
     "output_type": "display_data"
    },
    {
     "data": {
      "application/vnd.jupyter.widget-view+json": {
       "model_id": "",
       "version_major": 2,
       "version_minor": 0
      },
      "text/plain": [
       "HBox(children=(IntProgress(value=0, description='Measurement sweep', max=20000, style=ProgressStyle(descriptio…"
      ]
     },
     "metadata": {},
     "output_type": "display_data"
    },
    {
     "data": {
      "application/vnd.jupyter.widget-view+json": {
       "model_id": "",
       "version_major": 2,
       "version_minor": 0
      },
      "text/plain": [
       "HBox(children=(IntProgress(value=0, description='Equilibrate sweep', style=ProgressStyle(description_width='in…"
      ]
     },
     "metadata": {},
     "output_type": "display_data"
    },
    {
     "data": {
      "application/vnd.jupyter.widget-view+json": {
       "model_id": "",
       "version_major": 2,
       "version_minor": 0
      },
      "text/plain": [
       "HBox(children=(IntProgress(value=0, description='Measurement sweep', max=20000, style=ProgressStyle(descriptio…"
      ]
     },
     "metadata": {},
     "output_type": "display_data"
    },
    {
     "data": {
      "application/vnd.jupyter.widget-view+json": {
       "model_id": "",
       "version_major": 2,
       "version_minor": 0
      },
      "text/plain": [
       "HBox(children=(IntProgress(value=0, description='Equilibrate sweep', style=ProgressStyle(description_width='in…"
      ]
     },
     "metadata": {},
     "output_type": "display_data"
    },
    {
     "data": {
      "application/vnd.jupyter.widget-view+json": {
       "model_id": "",
       "version_major": 2,
       "version_minor": 0
      },
      "text/plain": [
       "HBox(children=(IntProgress(value=0, description='Measurement sweep', max=20000, style=ProgressStyle(descriptio…"
      ]
     },
     "metadata": {},
     "output_type": "display_data"
    },
    {
     "data": {
      "application/vnd.jupyter.widget-view+json": {
       "model_id": "",
       "version_major": 2,
       "version_minor": 0
      },
      "text/plain": [
       "HBox(children=(IntProgress(value=0, description='Equilibrate sweep', style=ProgressStyle(description_width='in…"
      ]
     },
     "metadata": {},
     "output_type": "display_data"
    },
    {
     "data": {
      "application/vnd.jupyter.widget-view+json": {
       "model_id": "",
       "version_major": 2,
       "version_minor": 0
      },
      "text/plain": [
       "HBox(children=(IntProgress(value=0, description='Measurement sweep', max=20000, style=ProgressStyle(descriptio…"
      ]
     },
     "metadata": {},
     "output_type": "display_data"
    },
    {
     "data": {
      "application/vnd.jupyter.widget-view+json": {
       "model_id": "",
       "version_major": 2,
       "version_minor": 0
      },
      "text/plain": [
       "HBox(children=(IntProgress(value=0, description='Col', max=20, style=ProgressStyle(description_width='initial'…"
      ]
     },
     "metadata": {},
     "output_type": "display_data"
    },
    {
     "data": {
      "application/vnd.jupyter.widget-view+json": {
       "model_id": "",
       "version_major": 2,
       "version_minor": 0
      },
      "text/plain": [
       "HBox(children=(IntProgress(value=0, description='Equilibrate sweep', style=ProgressStyle(description_width='in…"
      ]
     },
     "metadata": {},
     "output_type": "display_data"
    },
    {
     "data": {
      "application/vnd.jupyter.widget-view+json": {
       "model_id": "",
       "version_major": 2,
       "version_minor": 0
      },
      "text/plain": [
       "HBox(children=(IntProgress(value=0, description='Measurement sweep', max=20000, style=ProgressStyle(descriptio…"
      ]
     },
     "metadata": {},
     "output_type": "display_data"
    },
    {
     "data": {
      "application/vnd.jupyter.widget-view+json": {
       "model_id": "",
       "version_major": 2,
       "version_minor": 0
      },
      "text/plain": [
       "HBox(children=(IntProgress(value=0, description='Equilibrate sweep', style=ProgressStyle(description_width='in…"
      ]
     },
     "metadata": {},
     "output_type": "display_data"
    },
    {
     "data": {
      "application/vnd.jupyter.widget-view+json": {
       "model_id": "",
       "version_major": 2,
       "version_minor": 0
      },
      "text/plain": [
       "HBox(children=(IntProgress(value=0, description='Measurement sweep', max=20000, style=ProgressStyle(descriptio…"
      ]
     },
     "metadata": {},
     "output_type": "display_data"
    },
    {
     "data": {
      "application/vnd.jupyter.widget-view+json": {
       "model_id": "",
       "version_major": 2,
       "version_minor": 0
      },
      "text/plain": [
       "HBox(children=(IntProgress(value=0, description='Equilibrate sweep', style=ProgressStyle(description_width='in…"
      ]
     },
     "metadata": {},
     "output_type": "display_data"
    },
    {
     "data": {
      "application/vnd.jupyter.widget-view+json": {
       "model_id": "",
       "version_major": 2,
       "version_minor": 0
      },
      "text/plain": [
       "HBox(children=(IntProgress(value=0, description='Measurement sweep', max=20000, style=ProgressStyle(descriptio…"
      ]
     },
     "metadata": {},
     "output_type": "display_data"
    },
    {
     "data": {
      "application/vnd.jupyter.widget-view+json": {
       "model_id": "",
       "version_major": 2,
       "version_minor": 0
      },
      "text/plain": [
       "HBox(children=(IntProgress(value=0, description='Equilibrate sweep', style=ProgressStyle(description_width='in…"
      ]
     },
     "metadata": {},
     "output_type": "display_data"
    },
    {
     "data": {
      "application/vnd.jupyter.widget-view+json": {
       "model_id": "",
       "version_major": 2,
       "version_minor": 0
      },
      "text/plain": [
       "HBox(children=(IntProgress(value=0, description='Measurement sweep', max=20000, style=ProgressStyle(descriptio…"
      ]
     },
     "metadata": {},
     "output_type": "display_data"
    },
    {
     "data": {
      "application/vnd.jupyter.widget-view+json": {
       "model_id": "",
       "version_major": 2,
       "version_minor": 0
      },
      "text/plain": [
       "HBox(children=(IntProgress(value=0, description='Equilibrate sweep', style=ProgressStyle(description_width='in…"
      ]
     },
     "metadata": {},
     "output_type": "display_data"
    },
    {
     "data": {
      "application/vnd.jupyter.widget-view+json": {
       "model_id": "",
       "version_major": 2,
       "version_minor": 0
      },
      "text/plain": [
       "HBox(children=(IntProgress(value=0, description='Measurement sweep', max=20000, style=ProgressStyle(descriptio…"
      ]
     },
     "metadata": {},
     "output_type": "display_data"
    },
    {
     "data": {
      "application/vnd.jupyter.widget-view+json": {
       "model_id": "",
       "version_major": 2,
       "version_minor": 0
      },
      "text/plain": [
       "HBox(children=(IntProgress(value=0, description='Equilibrate sweep', style=ProgressStyle(description_width='in…"
      ]
     },
     "metadata": {},
     "output_type": "display_data"
    },
    {
     "data": {
      "application/vnd.jupyter.widget-view+json": {
       "model_id": "",
       "version_major": 2,
       "version_minor": 0
      },
      "text/plain": [
       "HBox(children=(IntProgress(value=0, description='Measurement sweep', max=20000, style=ProgressStyle(descriptio…"
      ]
     },
     "metadata": {},
     "output_type": "display_data"
    },
    {
     "data": {
      "application/vnd.jupyter.widget-view+json": {
       "model_id": "",
       "version_major": 2,
       "version_minor": 0
      },
      "text/plain": [
       "HBox(children=(IntProgress(value=0, description='Equilibrate sweep', style=ProgressStyle(description_width='in…"
      ]
     },
     "metadata": {},
     "output_type": "display_data"
    },
    {
     "data": {
      "application/vnd.jupyter.widget-view+json": {
       "model_id": "",
       "version_major": 2,
       "version_minor": 0
      },
      "text/plain": [
       "HBox(children=(IntProgress(value=0, description='Measurement sweep', max=20000, style=ProgressStyle(descriptio…"
      ]
     },
     "metadata": {},
     "output_type": "display_data"
    },
    {
     "data": {
      "application/vnd.jupyter.widget-view+json": {
       "model_id": "",
       "version_major": 2,
       "version_minor": 0
      },
      "text/plain": [
       "HBox(children=(IntProgress(value=0, description='Equilibrate sweep', style=ProgressStyle(description_width='in…"
      ]
     },
     "metadata": {},
     "output_type": "display_data"
    },
    {
     "data": {
      "application/vnd.jupyter.widget-view+json": {
       "model_id": "",
       "version_major": 2,
       "version_minor": 0
      },
      "text/plain": [
       "HBox(children=(IntProgress(value=0, description='Measurement sweep', max=20000, style=ProgressStyle(descriptio…"
      ]
     },
     "metadata": {},
     "output_type": "display_data"
    },
    {
     "data": {
      "application/vnd.jupyter.widget-view+json": {
       "model_id": "",
       "version_major": 2,
       "version_minor": 0
      },
      "text/plain": [
       "HBox(children=(IntProgress(value=0, description='Equilibrate sweep', style=ProgressStyle(description_width='in…"
      ]
     },
     "metadata": {},
     "output_type": "display_data"
    },
    {
     "data": {
      "application/vnd.jupyter.widget-view+json": {
       "model_id": "",
       "version_major": 2,
       "version_minor": 0
      },
      "text/plain": [
       "HBox(children=(IntProgress(value=0, description='Measurement sweep', max=20000, style=ProgressStyle(descriptio…"
      ]
     },
     "metadata": {},
     "output_type": "display_data"
    },
    {
     "data": {
      "application/vnd.jupyter.widget-view+json": {
       "model_id": "",
       "version_major": 2,
       "version_minor": 0
      },
      "text/plain": [
       "HBox(children=(IntProgress(value=0, description='Equilibrate sweep', style=ProgressStyle(description_width='in…"
      ]
     },
     "metadata": {},
     "output_type": "display_data"
    },
    {
     "data": {
      "application/vnd.jupyter.widget-view+json": {
       "model_id": "",
       "version_major": 2,
       "version_minor": 0
      },
      "text/plain": [
       "HBox(children=(IntProgress(value=0, description='Measurement sweep', max=20000, style=ProgressStyle(descriptio…"
      ]
     },
     "metadata": {},
     "output_type": "display_data"
    },
    {
     "data": {
      "application/vnd.jupyter.widget-view+json": {
       "model_id": "",
       "version_major": 2,
       "version_minor": 0
      },
      "text/plain": [
       "HBox(children=(IntProgress(value=0, description='Equilibrate sweep', style=ProgressStyle(description_width='in…"
      ]
     },
     "metadata": {},
     "output_type": "display_data"
    },
    {
     "data": {
      "application/vnd.jupyter.widget-view+json": {
       "model_id": "",
       "version_major": 2,
       "version_minor": 0
      },
      "text/plain": [
       "HBox(children=(IntProgress(value=0, description='Measurement sweep', max=20000, style=ProgressStyle(descriptio…"
      ]
     },
     "metadata": {},
     "output_type": "display_data"
    },
    {
     "data": {
      "application/vnd.jupyter.widget-view+json": {
       "model_id": "",
       "version_major": 2,
       "version_minor": 0
      },
      "text/plain": [
       "HBox(children=(IntProgress(value=0, description='Equilibrate sweep', style=ProgressStyle(description_width='in…"
      ]
     },
     "metadata": {},
     "output_type": "display_data"
    },
    {
     "data": {
      "application/vnd.jupyter.widget-view+json": {
       "model_id": "",
       "version_major": 2,
       "version_minor": 0
      },
      "text/plain": [
       "HBox(children=(IntProgress(value=0, description='Measurement sweep', max=20000, style=ProgressStyle(descriptio…"
      ]
     },
     "metadata": {},
     "output_type": "display_data"
    },
    {
     "data": {
      "application/vnd.jupyter.widget-view+json": {
       "model_id": "",
       "version_major": 2,
       "version_minor": 0
      },
      "text/plain": [
       "HBox(children=(IntProgress(value=0, description='Equilibrate sweep', style=ProgressStyle(description_width='in…"
      ]
     },
     "metadata": {},
     "output_type": "display_data"
    },
    {
     "data": {
      "application/vnd.jupyter.widget-view+json": {
       "model_id": "",
       "version_major": 2,
       "version_minor": 0
      },
      "text/plain": [
       "HBox(children=(IntProgress(value=0, description='Measurement sweep', max=20000, style=ProgressStyle(descriptio…"
      ]
     },
     "metadata": {},
     "output_type": "display_data"
    },
    {
     "data": {
      "application/vnd.jupyter.widget-view+json": {
       "model_id": "",
       "version_major": 2,
       "version_minor": 0
      },
      "text/plain": [
       "HBox(children=(IntProgress(value=0, description='Equilibrate sweep', style=ProgressStyle(description_width='in…"
      ]
     },
     "metadata": {},
     "output_type": "display_data"
    },
    {
     "data": {
      "application/vnd.jupyter.widget-view+json": {
       "model_id": "",
       "version_major": 2,
       "version_minor": 0
      },
      "text/plain": [
       "HBox(children=(IntProgress(value=0, description='Measurement sweep', max=20000, style=ProgressStyle(descriptio…"
      ]
     },
     "metadata": {},
     "output_type": "display_data"
    },
    {
     "data": {
      "application/vnd.jupyter.widget-view+json": {
       "model_id": "",
       "version_major": 2,
       "version_minor": 0
      },
      "text/plain": [
       "HBox(children=(IntProgress(value=0, description='Equilibrate sweep', style=ProgressStyle(description_width='in…"
      ]
     },
     "metadata": {},
     "output_type": "display_data"
    },
    {
     "data": {
      "application/vnd.jupyter.widget-view+json": {
       "model_id": "",
       "version_major": 2,
       "version_minor": 0
      },
      "text/plain": [
       "HBox(children=(IntProgress(value=0, description='Measurement sweep', max=20000, style=ProgressStyle(descriptio…"
      ]
     },
     "metadata": {},
     "output_type": "display_data"
    },
    {
     "data": {
      "application/vnd.jupyter.widget-view+json": {
       "model_id": "",
       "version_major": 2,
       "version_minor": 0
      },
      "text/plain": [
       "HBox(children=(IntProgress(value=0, description='Equilibrate sweep', style=ProgressStyle(description_width='in…"
      ]
     },
     "metadata": {},
     "output_type": "display_data"
    },
    {
     "data": {
      "application/vnd.jupyter.widget-view+json": {
       "model_id": "",
       "version_major": 2,
       "version_minor": 0
      },
      "text/plain": [
       "HBox(children=(IntProgress(value=0, description='Measurement sweep', max=20000, style=ProgressStyle(descriptio…"
      ]
     },
     "metadata": {},
     "output_type": "display_data"
    },
    {
     "data": {
      "application/vnd.jupyter.widget-view+json": {
       "model_id": "",
       "version_major": 2,
       "version_minor": 0
      },
      "text/plain": [
       "HBox(children=(IntProgress(value=0, description='Equilibrate sweep', style=ProgressStyle(description_width='in…"
      ]
     },
     "metadata": {},
     "output_type": "display_data"
    },
    {
     "data": {
      "application/vnd.jupyter.widget-view+json": {
       "model_id": "",
       "version_major": 2,
       "version_minor": 0
      },
      "text/plain": [
       "HBox(children=(IntProgress(value=0, description='Measurement sweep', max=20000, style=ProgressStyle(descriptio…"
      ]
     },
     "metadata": {},
     "output_type": "display_data"
    },
    {
     "data": {
      "application/vnd.jupyter.widget-view+json": {
       "model_id": "",
       "version_major": 2,
       "version_minor": 0
      },
      "text/plain": [
       "HBox(children=(IntProgress(value=0, description='Equilibrate sweep', style=ProgressStyle(description_width='in…"
      ]
     },
     "metadata": {},
     "output_type": "display_data"
    },
    {
     "data": {
      "application/vnd.jupyter.widget-view+json": {
       "model_id": "",
       "version_major": 2,
       "version_minor": 0
      },
      "text/plain": [
       "HBox(children=(IntProgress(value=0, description='Measurement sweep', max=20000, style=ProgressStyle(descriptio…"
      ]
     },
     "metadata": {},
     "output_type": "display_data"
    },
    {
     "data": {
      "application/vnd.jupyter.widget-view+json": {
       "model_id": "",
       "version_major": 2,
       "version_minor": 0
      },
      "text/plain": [
       "HBox(children=(IntProgress(value=0, description='Equilibrate sweep', style=ProgressStyle(description_width='in…"
      ]
     },
     "metadata": {},
     "output_type": "display_data"
    },
    {
     "data": {
      "application/vnd.jupyter.widget-view+json": {
       "model_id": "",
       "version_major": 2,
       "version_minor": 0
      },
      "text/plain": [
       "HBox(children=(IntProgress(value=0, description='Measurement sweep', max=20000, style=ProgressStyle(descriptio…"
      ]
     },
     "metadata": {},
     "output_type": "display_data"
    },
    {
     "data": {
      "application/vnd.jupyter.widget-view+json": {
       "model_id": "",
       "version_major": 2,
       "version_minor": 0
      },
      "text/plain": [
       "HBox(children=(IntProgress(value=0, description='Equilibrate sweep', style=ProgressStyle(description_width='in…"
      ]
     },
     "metadata": {},
     "output_type": "display_data"
    },
    {
     "data": {
      "application/vnd.jupyter.widget-view+json": {
       "model_id": "",
       "version_major": 2,
       "version_minor": 0
      },
      "text/plain": [
       "HBox(children=(IntProgress(value=0, description='Measurement sweep', max=20000, style=ProgressStyle(descriptio…"
      ]
     },
     "metadata": {},
     "output_type": "display_data"
    },
    {
     "data": {
      "application/vnd.jupyter.widget-view+json": {
       "model_id": "",
       "version_major": 2,
       "version_minor": 0
      },
      "text/plain": [
       "HBox(children=(IntProgress(value=0, description='Col', max=20, style=ProgressStyle(description_width='initial'…"
      ]
     },
     "metadata": {},
     "output_type": "display_data"
    },
    {
     "data": {
      "application/vnd.jupyter.widget-view+json": {
       "model_id": "",
       "version_major": 2,
       "version_minor": 0
      },
      "text/plain": [
       "HBox(children=(IntProgress(value=0, description='Equilibrate sweep', style=ProgressStyle(description_width='in…"
      ]
     },
     "metadata": {},
     "output_type": "display_data"
    },
    {
     "data": {
      "application/vnd.jupyter.widget-view+json": {
       "model_id": "",
       "version_major": 2,
       "version_minor": 0
      },
      "text/plain": [
       "HBox(children=(IntProgress(value=0, description='Measurement sweep', max=20000, style=ProgressStyle(descriptio…"
      ]
     },
     "metadata": {},
     "output_type": "display_data"
    },
    {
     "data": {
      "application/vnd.jupyter.widget-view+json": {
       "model_id": "",
       "version_major": 2,
       "version_minor": 0
      },
      "text/plain": [
       "HBox(children=(IntProgress(value=0, description='Equilibrate sweep', style=ProgressStyle(description_width='in…"
      ]
     },
     "metadata": {},
     "output_type": "display_data"
    },
    {
     "data": {
      "application/vnd.jupyter.widget-view+json": {
       "model_id": "",
       "version_major": 2,
       "version_minor": 0
      },
      "text/plain": [
       "HBox(children=(IntProgress(value=0, description='Measurement sweep', max=20000, style=ProgressStyle(descriptio…"
      ]
     },
     "metadata": {},
     "output_type": "display_data"
    },
    {
     "data": {
      "application/vnd.jupyter.widget-view+json": {
       "model_id": "",
       "version_major": 2,
       "version_minor": 0
      },
      "text/plain": [
       "HBox(children=(IntProgress(value=0, description='Equilibrate sweep', style=ProgressStyle(description_width='in…"
      ]
     },
     "metadata": {},
     "output_type": "display_data"
    },
    {
     "data": {
      "application/vnd.jupyter.widget-view+json": {
       "model_id": "",
       "version_major": 2,
       "version_minor": 0
      },
      "text/plain": [
       "HBox(children=(IntProgress(value=0, description='Measurement sweep', max=20000, style=ProgressStyle(descriptio…"
      ]
     },
     "metadata": {},
     "output_type": "display_data"
    },
    {
     "data": {
      "application/vnd.jupyter.widget-view+json": {
       "model_id": "",
       "version_major": 2,
       "version_minor": 0
      },
      "text/plain": [
       "HBox(children=(IntProgress(value=0, description='Equilibrate sweep', style=ProgressStyle(description_width='in…"
      ]
     },
     "metadata": {},
     "output_type": "display_data"
    },
    {
     "data": {
      "application/vnd.jupyter.widget-view+json": {
       "model_id": "",
       "version_major": 2,
       "version_minor": 0
      },
      "text/plain": [
       "HBox(children=(IntProgress(value=0, description='Measurement sweep', max=20000, style=ProgressStyle(descriptio…"
      ]
     },
     "metadata": {},
     "output_type": "display_data"
    },
    {
     "data": {
      "application/vnd.jupyter.widget-view+json": {
       "model_id": "",
       "version_major": 2,
       "version_minor": 0
      },
      "text/plain": [
       "HBox(children=(IntProgress(value=0, description='Equilibrate sweep', style=ProgressStyle(description_width='in…"
      ]
     },
     "metadata": {},
     "output_type": "display_data"
    },
    {
     "data": {
      "application/vnd.jupyter.widget-view+json": {
       "model_id": "",
       "version_major": 2,
       "version_minor": 0
      },
      "text/plain": [
       "HBox(children=(IntProgress(value=0, description='Measurement sweep', max=20000, style=ProgressStyle(descriptio…"
      ]
     },
     "metadata": {},
     "output_type": "display_data"
    },
    {
     "data": {
      "application/vnd.jupyter.widget-view+json": {
       "model_id": "",
       "version_major": 2,
       "version_minor": 0
      },
      "text/plain": [
       "HBox(children=(IntProgress(value=0, description='Equilibrate sweep', style=ProgressStyle(description_width='in…"
      ]
     },
     "metadata": {},
     "output_type": "display_data"
    },
    {
     "data": {
      "application/vnd.jupyter.widget-view+json": {
       "model_id": "",
       "version_major": 2,
       "version_minor": 0
      },
      "text/plain": [
       "HBox(children=(IntProgress(value=0, description='Measurement sweep', max=20000, style=ProgressStyle(descriptio…"
      ]
     },
     "metadata": {},
     "output_type": "display_data"
    },
    {
     "data": {
      "application/vnd.jupyter.widget-view+json": {
       "model_id": "",
       "version_major": 2,
       "version_minor": 0
      },
      "text/plain": [
       "HBox(children=(IntProgress(value=0, description='Equilibrate sweep', style=ProgressStyle(description_width='in…"
      ]
     },
     "metadata": {},
     "output_type": "display_data"
    },
    {
     "data": {
      "application/vnd.jupyter.widget-view+json": {
       "model_id": "",
       "version_major": 2,
       "version_minor": 0
      },
      "text/plain": [
       "HBox(children=(IntProgress(value=0, description='Measurement sweep', max=20000, style=ProgressStyle(descriptio…"
      ]
     },
     "metadata": {},
     "output_type": "display_data"
    },
    {
     "data": {
      "application/vnd.jupyter.widget-view+json": {
       "model_id": "",
       "version_major": 2,
       "version_minor": 0
      },
      "text/plain": [
       "HBox(children=(IntProgress(value=0, description='Equilibrate sweep', style=ProgressStyle(description_width='in…"
      ]
     },
     "metadata": {},
     "output_type": "display_data"
    },
    {
     "data": {
      "application/vnd.jupyter.widget-view+json": {
       "model_id": "",
       "version_major": 2,
       "version_minor": 0
      },
      "text/plain": [
       "HBox(children=(IntProgress(value=0, description='Measurement sweep', max=20000, style=ProgressStyle(descriptio…"
      ]
     },
     "metadata": {},
     "output_type": "display_data"
    },
    {
     "data": {
      "application/vnd.jupyter.widget-view+json": {
       "model_id": "",
       "version_major": 2,
       "version_minor": 0
      },
      "text/plain": [
       "HBox(children=(IntProgress(value=0, description='Equilibrate sweep', style=ProgressStyle(description_width='in…"
      ]
     },
     "metadata": {},
     "output_type": "display_data"
    },
    {
     "data": {
      "application/vnd.jupyter.widget-view+json": {
       "model_id": "",
       "version_major": 2,
       "version_minor": 0
      },
      "text/plain": [
       "HBox(children=(IntProgress(value=0, description='Measurement sweep', max=20000, style=ProgressStyle(descriptio…"
      ]
     },
     "metadata": {},
     "output_type": "display_data"
    },
    {
     "data": {
      "application/vnd.jupyter.widget-view+json": {
       "model_id": "",
       "version_major": 2,
       "version_minor": 0
      },
      "text/plain": [
       "HBox(children=(IntProgress(value=0, description='Equilibrate sweep', style=ProgressStyle(description_width='in…"
      ]
     },
     "metadata": {},
     "output_type": "display_data"
    },
    {
     "data": {
      "application/vnd.jupyter.widget-view+json": {
       "model_id": "",
       "version_major": 2,
       "version_minor": 0
      },
      "text/plain": [
       "HBox(children=(IntProgress(value=0, description='Measurement sweep', max=20000, style=ProgressStyle(descriptio…"
      ]
     },
     "metadata": {},
     "output_type": "display_data"
    },
    {
     "data": {
      "application/vnd.jupyter.widget-view+json": {
       "model_id": "",
       "version_major": 2,
       "version_minor": 0
      },
      "text/plain": [
       "HBox(children=(IntProgress(value=0, description='Equilibrate sweep', style=ProgressStyle(description_width='in…"
      ]
     },
     "metadata": {},
     "output_type": "display_data"
    },
    {
     "data": {
      "application/vnd.jupyter.widget-view+json": {
       "model_id": "",
       "version_major": 2,
       "version_minor": 0
      },
      "text/plain": [
       "HBox(children=(IntProgress(value=0, description='Measurement sweep', max=20000, style=ProgressStyle(descriptio…"
      ]
     },
     "metadata": {},
     "output_type": "display_data"
    },
    {
     "data": {
      "application/vnd.jupyter.widget-view+json": {
       "model_id": "",
       "version_major": 2,
       "version_minor": 0
      },
      "text/plain": [
       "HBox(children=(IntProgress(value=0, description='Equilibrate sweep', style=ProgressStyle(description_width='in…"
      ]
     },
     "metadata": {},
     "output_type": "display_data"
    },
    {
     "data": {
      "application/vnd.jupyter.widget-view+json": {
       "model_id": "",
       "version_major": 2,
       "version_minor": 0
      },
      "text/plain": [
       "HBox(children=(IntProgress(value=0, description='Measurement sweep', max=20000, style=ProgressStyle(descriptio…"
      ]
     },
     "metadata": {},
     "output_type": "display_data"
    },
    {
     "data": {
      "application/vnd.jupyter.widget-view+json": {
       "model_id": "",
       "version_major": 2,
       "version_minor": 0
      },
      "text/plain": [
       "HBox(children=(IntProgress(value=0, description='Equilibrate sweep', style=ProgressStyle(description_width='in…"
      ]
     },
     "metadata": {},
     "output_type": "display_data"
    },
    {
     "data": {
      "application/vnd.jupyter.widget-view+json": {
       "model_id": "",
       "version_major": 2,
       "version_minor": 0
      },
      "text/plain": [
       "HBox(children=(IntProgress(value=0, description='Measurement sweep', max=20000, style=ProgressStyle(descriptio…"
      ]
     },
     "metadata": {},
     "output_type": "display_data"
    },
    {
     "data": {
      "application/vnd.jupyter.widget-view+json": {
       "model_id": "",
       "version_major": 2,
       "version_minor": 0
      },
      "text/plain": [
       "HBox(children=(IntProgress(value=0, description='Equilibrate sweep', style=ProgressStyle(description_width='in…"
      ]
     },
     "metadata": {},
     "output_type": "display_data"
    },
    {
     "data": {
      "application/vnd.jupyter.widget-view+json": {
       "model_id": "",
       "version_major": 2,
       "version_minor": 0
      },
      "text/plain": [
       "HBox(children=(IntProgress(value=0, description='Measurement sweep', max=20000, style=ProgressStyle(descriptio…"
      ]
     },
     "metadata": {},
     "output_type": "display_data"
    },
    {
     "data": {
      "application/vnd.jupyter.widget-view+json": {
       "model_id": "",
       "version_major": 2,
       "version_minor": 0
      },
      "text/plain": [
       "HBox(children=(IntProgress(value=0, description='Equilibrate sweep', style=ProgressStyle(description_width='in…"
      ]
     },
     "metadata": {},
     "output_type": "display_data"
    },
    {
     "data": {
      "application/vnd.jupyter.widget-view+json": {
       "model_id": "",
       "version_major": 2,
       "version_minor": 0
      },
      "text/plain": [
       "HBox(children=(IntProgress(value=0, description='Measurement sweep', max=20000, style=ProgressStyle(descriptio…"
      ]
     },
     "metadata": {},
     "output_type": "display_data"
    },
    {
     "data": {
      "application/vnd.jupyter.widget-view+json": {
       "model_id": "",
       "version_major": 2,
       "version_minor": 0
      },
      "text/plain": [
       "HBox(children=(IntProgress(value=0, description='Equilibrate sweep', style=ProgressStyle(description_width='in…"
      ]
     },
     "metadata": {},
     "output_type": "display_data"
    },
    {
     "data": {
      "application/vnd.jupyter.widget-view+json": {
       "model_id": "",
       "version_major": 2,
       "version_minor": 0
      },
      "text/plain": [
       "HBox(children=(IntProgress(value=0, description='Measurement sweep', max=20000, style=ProgressStyle(descriptio…"
      ]
     },
     "metadata": {},
     "output_type": "display_data"
    },
    {
     "data": {
      "application/vnd.jupyter.widget-view+json": {
       "model_id": "",
       "version_major": 2,
       "version_minor": 0
      },
      "text/plain": [
       "HBox(children=(IntProgress(value=0, description='Equilibrate sweep', style=ProgressStyle(description_width='in…"
      ]
     },
     "metadata": {},
     "output_type": "display_data"
    },
    {
     "data": {
      "application/vnd.jupyter.widget-view+json": {
       "model_id": "",
       "version_major": 2,
       "version_minor": 0
      },
      "text/plain": [
       "HBox(children=(IntProgress(value=0, description='Measurement sweep', max=20000, style=ProgressStyle(descriptio…"
      ]
     },
     "metadata": {},
     "output_type": "display_data"
    },
    {
     "data": {
      "application/vnd.jupyter.widget-view+json": {
       "model_id": "",
       "version_major": 2,
       "version_minor": 0
      },
      "text/plain": [
       "HBox(children=(IntProgress(value=0, description='Equilibrate sweep', style=ProgressStyle(description_width='in…"
      ]
     },
     "metadata": {},
     "output_type": "display_data"
    },
    {
     "data": {
      "application/vnd.jupyter.widget-view+json": {
       "model_id": "",
       "version_major": 2,
       "version_minor": 0
      },
      "text/plain": [
       "HBox(children=(IntProgress(value=0, description='Measurement sweep', max=20000, style=ProgressStyle(descriptio…"
      ]
     },
     "metadata": {},
     "output_type": "display_data"
    },
    {
     "data": {
      "application/vnd.jupyter.widget-view+json": {
       "model_id": "",
       "version_major": 2,
       "version_minor": 0
      },
      "text/plain": [
       "HBox(children=(IntProgress(value=0, description='Equilibrate sweep', style=ProgressStyle(description_width='in…"
      ]
     },
     "metadata": {},
     "output_type": "display_data"
    },
    {
     "data": {
      "application/vnd.jupyter.widget-view+json": {
       "model_id": "",
       "version_major": 2,
       "version_minor": 0
      },
      "text/plain": [
       "HBox(children=(IntProgress(value=0, description='Measurement sweep', max=20000, style=ProgressStyle(descriptio…"
      ]
     },
     "metadata": {},
     "output_type": "display_data"
    },
    {
     "data": {
      "application/vnd.jupyter.widget-view+json": {
       "model_id": "",
       "version_major": 2,
       "version_minor": 0
      },
      "text/plain": [
       "HBox(children=(IntProgress(value=0, description='Equilibrate sweep', style=ProgressStyle(description_width='in…"
      ]
     },
     "metadata": {},
     "output_type": "display_data"
    },
    {
     "data": {
      "application/vnd.jupyter.widget-view+json": {
       "model_id": "",
       "version_major": 2,
       "version_minor": 0
      },
      "text/plain": [
       "HBox(children=(IntProgress(value=0, description='Measurement sweep', max=20000, style=ProgressStyle(descriptio…"
      ]
     },
     "metadata": {},
     "output_type": "display_data"
    },
    {
     "data": {
      "application/vnd.jupyter.widget-view+json": {
       "model_id": "",
       "version_major": 2,
       "version_minor": 0
      },
      "text/plain": [
       "HBox(children=(IntProgress(value=0, description='Col', max=20, style=ProgressStyle(description_width='initial'…"
      ]
     },
     "metadata": {},
     "output_type": "display_data"
    },
    {
     "data": {
      "application/vnd.jupyter.widget-view+json": {
       "model_id": "",
       "version_major": 2,
       "version_minor": 0
      },
      "text/plain": [
       "HBox(children=(IntProgress(value=0, description='Equilibrate sweep', style=ProgressStyle(description_width='in…"
      ]
     },
     "metadata": {},
     "output_type": "display_data"
    },
    {
     "data": {
      "application/vnd.jupyter.widget-view+json": {
       "model_id": "",
       "version_major": 2,
       "version_minor": 0
      },
      "text/plain": [
       "HBox(children=(IntProgress(value=0, description='Measurement sweep', max=20000, style=ProgressStyle(descriptio…"
      ]
     },
     "metadata": {},
     "output_type": "display_data"
    },
    {
     "data": {
      "application/vnd.jupyter.widget-view+json": {
       "model_id": "",
       "version_major": 2,
       "version_minor": 0
      },
      "text/plain": [
       "HBox(children=(IntProgress(value=0, description='Equilibrate sweep', style=ProgressStyle(description_width='in…"
      ]
     },
     "metadata": {},
     "output_type": "display_data"
    },
    {
     "data": {
      "application/vnd.jupyter.widget-view+json": {
       "model_id": "",
       "version_major": 2,
       "version_minor": 0
      },
      "text/plain": [
       "HBox(children=(IntProgress(value=0, description='Measurement sweep', max=20000, style=ProgressStyle(descriptio…"
      ]
     },
     "metadata": {},
     "output_type": "display_data"
    },
    {
     "data": {
      "application/vnd.jupyter.widget-view+json": {
       "model_id": "",
       "version_major": 2,
       "version_minor": 0
      },
      "text/plain": [
       "HBox(children=(IntProgress(value=0, description='Equilibrate sweep', style=ProgressStyle(description_width='in…"
      ]
     },
     "metadata": {},
     "output_type": "display_data"
    },
    {
     "data": {
      "application/vnd.jupyter.widget-view+json": {
       "model_id": "",
       "version_major": 2,
       "version_minor": 0
      },
      "text/plain": [
       "HBox(children=(IntProgress(value=0, description='Measurement sweep', max=20000, style=ProgressStyle(descriptio…"
      ]
     },
     "metadata": {},
     "output_type": "display_data"
    },
    {
     "data": {
      "application/vnd.jupyter.widget-view+json": {
       "model_id": "",
       "version_major": 2,
       "version_minor": 0
      },
      "text/plain": [
       "HBox(children=(IntProgress(value=0, description='Equilibrate sweep', style=ProgressStyle(description_width='in…"
      ]
     },
     "metadata": {},
     "output_type": "display_data"
    },
    {
     "data": {
      "application/vnd.jupyter.widget-view+json": {
       "model_id": "",
       "version_major": 2,
       "version_minor": 0
      },
      "text/plain": [
       "HBox(children=(IntProgress(value=0, description='Measurement sweep', max=20000, style=ProgressStyle(descriptio…"
      ]
     },
     "metadata": {},
     "output_type": "display_data"
    },
    {
     "data": {
      "application/vnd.jupyter.widget-view+json": {
       "model_id": "",
       "version_major": 2,
       "version_minor": 0
      },
      "text/plain": [
       "HBox(children=(IntProgress(value=0, description='Equilibrate sweep', style=ProgressStyle(description_width='in…"
      ]
     },
     "metadata": {},
     "output_type": "display_data"
    },
    {
     "data": {
      "application/vnd.jupyter.widget-view+json": {
       "model_id": "",
       "version_major": 2,
       "version_minor": 0
      },
      "text/plain": [
       "HBox(children=(IntProgress(value=0, description='Measurement sweep', max=20000, style=ProgressStyle(descriptio…"
      ]
     },
     "metadata": {},
     "output_type": "display_data"
    },
    {
     "data": {
      "application/vnd.jupyter.widget-view+json": {
       "model_id": "",
       "version_major": 2,
       "version_minor": 0
      },
      "text/plain": [
       "HBox(children=(IntProgress(value=0, description='Equilibrate sweep', style=ProgressStyle(description_width='in…"
      ]
     },
     "metadata": {},
     "output_type": "display_data"
    },
    {
     "data": {
      "application/vnd.jupyter.widget-view+json": {
       "model_id": "",
       "version_major": 2,
       "version_minor": 0
      },
      "text/plain": [
       "HBox(children=(IntProgress(value=0, description='Measurement sweep', max=20000, style=ProgressStyle(descriptio…"
      ]
     },
     "metadata": {},
     "output_type": "display_data"
    },
    {
     "data": {
      "application/vnd.jupyter.widget-view+json": {
       "model_id": "",
       "version_major": 2,
       "version_minor": 0
      },
      "text/plain": [
       "HBox(children=(IntProgress(value=0, description='Equilibrate sweep', style=ProgressStyle(description_width='in…"
      ]
     },
     "metadata": {},
     "output_type": "display_data"
    },
    {
     "data": {
      "application/vnd.jupyter.widget-view+json": {
       "model_id": "",
       "version_major": 2,
       "version_minor": 0
      },
      "text/plain": [
       "HBox(children=(IntProgress(value=0, description='Measurement sweep', max=20000, style=ProgressStyle(descriptio…"
      ]
     },
     "metadata": {},
     "output_type": "display_data"
    },
    {
     "data": {
      "application/vnd.jupyter.widget-view+json": {
       "model_id": "",
       "version_major": 2,
       "version_minor": 0
      },
      "text/plain": [
       "HBox(children=(IntProgress(value=0, description='Equilibrate sweep', style=ProgressStyle(description_width='in…"
      ]
     },
     "metadata": {},
     "output_type": "display_data"
    },
    {
     "data": {
      "application/vnd.jupyter.widget-view+json": {
       "model_id": "",
       "version_major": 2,
       "version_minor": 0
      },
      "text/plain": [
       "HBox(children=(IntProgress(value=0, description='Measurement sweep', max=20000, style=ProgressStyle(descriptio…"
      ]
     },
     "metadata": {},
     "output_type": "display_data"
    },
    {
     "data": {
      "application/vnd.jupyter.widget-view+json": {
       "model_id": "",
       "version_major": 2,
       "version_minor": 0
      },
      "text/plain": [
       "HBox(children=(IntProgress(value=0, description='Equilibrate sweep', style=ProgressStyle(description_width='in…"
      ]
     },
     "metadata": {},
     "output_type": "display_data"
    },
    {
     "data": {
      "application/vnd.jupyter.widget-view+json": {
       "model_id": "",
       "version_major": 2,
       "version_minor": 0
      },
      "text/plain": [
       "HBox(children=(IntProgress(value=0, description='Measurement sweep', max=20000, style=ProgressStyle(descriptio…"
      ]
     },
     "metadata": {},
     "output_type": "display_data"
    },
    {
     "data": {
      "application/vnd.jupyter.widget-view+json": {
       "model_id": "",
       "version_major": 2,
       "version_minor": 0
      },
      "text/plain": [
       "HBox(children=(IntProgress(value=0, description='Equilibrate sweep', style=ProgressStyle(description_width='in…"
      ]
     },
     "metadata": {},
     "output_type": "display_data"
    },
    {
     "data": {
      "application/vnd.jupyter.widget-view+json": {
       "model_id": "",
       "version_major": 2,
       "version_minor": 0
      },
      "text/plain": [
       "HBox(children=(IntProgress(value=0, description='Measurement sweep', max=20000, style=ProgressStyle(descriptio…"
      ]
     },
     "metadata": {},
     "output_type": "display_data"
    },
    {
     "data": {
      "application/vnd.jupyter.widget-view+json": {
       "model_id": "",
       "version_major": 2,
       "version_minor": 0
      },
      "text/plain": [
       "HBox(children=(IntProgress(value=0, description='Equilibrate sweep', style=ProgressStyle(description_width='in…"
      ]
     },
     "metadata": {},
     "output_type": "display_data"
    },
    {
     "data": {
      "application/vnd.jupyter.widget-view+json": {
       "model_id": "",
       "version_major": 2,
       "version_minor": 0
      },
      "text/plain": [
       "HBox(children=(IntProgress(value=0, description='Measurement sweep', max=20000, style=ProgressStyle(descriptio…"
      ]
     },
     "metadata": {},
     "output_type": "display_data"
    },
    {
     "data": {
      "application/vnd.jupyter.widget-view+json": {
       "model_id": "",
       "version_major": 2,
       "version_minor": 0
      },
      "text/plain": [
       "HBox(children=(IntProgress(value=0, description='Equilibrate sweep', style=ProgressStyle(description_width='in…"
      ]
     },
     "metadata": {},
     "output_type": "display_data"
    },
    {
     "data": {
      "application/vnd.jupyter.widget-view+json": {
       "model_id": "",
       "version_major": 2,
       "version_minor": 0
      },
      "text/plain": [
       "HBox(children=(IntProgress(value=0, description='Measurement sweep', max=20000, style=ProgressStyle(descriptio…"
      ]
     },
     "metadata": {},
     "output_type": "display_data"
    },
    {
     "data": {
      "application/vnd.jupyter.widget-view+json": {
       "model_id": "",
       "version_major": 2,
       "version_minor": 0
      },
      "text/plain": [
       "HBox(children=(IntProgress(value=0, description='Equilibrate sweep', style=ProgressStyle(description_width='in…"
      ]
     },
     "metadata": {},
     "output_type": "display_data"
    },
    {
     "data": {
      "application/vnd.jupyter.widget-view+json": {
       "model_id": "",
       "version_major": 2,
       "version_minor": 0
      },
      "text/plain": [
       "HBox(children=(IntProgress(value=0, description='Measurement sweep', max=20000, style=ProgressStyle(descriptio…"
      ]
     },
     "metadata": {},
     "output_type": "display_data"
    },
    {
     "data": {
      "application/vnd.jupyter.widget-view+json": {
       "model_id": "",
       "version_major": 2,
       "version_minor": 0
      },
      "text/plain": [
       "HBox(children=(IntProgress(value=0, description='Equilibrate sweep', style=ProgressStyle(description_width='in…"
      ]
     },
     "metadata": {},
     "output_type": "display_data"
    },
    {
     "data": {
      "application/vnd.jupyter.widget-view+json": {
       "model_id": "",
       "version_major": 2,
       "version_minor": 0
      },
      "text/plain": [
       "HBox(children=(IntProgress(value=0, description='Measurement sweep', max=20000, style=ProgressStyle(descriptio…"
      ]
     },
     "metadata": {},
     "output_type": "display_data"
    },
    {
     "data": {
      "application/vnd.jupyter.widget-view+json": {
       "model_id": "",
       "version_major": 2,
       "version_minor": 0
      },
      "text/plain": [
       "HBox(children=(IntProgress(value=0, description='Equilibrate sweep', style=ProgressStyle(description_width='in…"
      ]
     },
     "metadata": {},
     "output_type": "display_data"
    },
    {
     "data": {
      "application/vnd.jupyter.widget-view+json": {
       "model_id": "",
       "version_major": 2,
       "version_minor": 0
      },
      "text/plain": [
       "HBox(children=(IntProgress(value=0, description='Measurement sweep', max=20000, style=ProgressStyle(descriptio…"
      ]
     },
     "metadata": {},
     "output_type": "display_data"
    },
    {
     "data": {
      "application/vnd.jupyter.widget-view+json": {
       "model_id": "",
       "version_major": 2,
       "version_minor": 0
      },
      "text/plain": [
       "HBox(children=(IntProgress(value=0, description='Equilibrate sweep', style=ProgressStyle(description_width='in…"
      ]
     },
     "metadata": {},
     "output_type": "display_data"
    },
    {
     "data": {
      "application/vnd.jupyter.widget-view+json": {
       "model_id": "",
       "version_major": 2,
       "version_minor": 0
      },
      "text/plain": [
       "HBox(children=(IntProgress(value=0, description='Measurement sweep', max=20000, style=ProgressStyle(descriptio…"
      ]
     },
     "metadata": {},
     "output_type": "display_data"
    },
    {
     "data": {
      "application/vnd.jupyter.widget-view+json": {
       "model_id": "",
       "version_major": 2,
       "version_minor": 0
      },
      "text/plain": [
       "HBox(children=(IntProgress(value=0, description='Equilibrate sweep', style=ProgressStyle(description_width='in…"
      ]
     },
     "metadata": {},
     "output_type": "display_data"
    },
    {
     "data": {
      "application/vnd.jupyter.widget-view+json": {
       "model_id": "",
       "version_major": 2,
       "version_minor": 0
      },
      "text/plain": [
       "HBox(children=(IntProgress(value=0, description='Measurement sweep', max=20000, style=ProgressStyle(descriptio…"
      ]
     },
     "metadata": {},
     "output_type": "display_data"
    },
    {
     "data": {
      "application/vnd.jupyter.widget-view+json": {
       "model_id": "",
       "version_major": 2,
       "version_minor": 0
      },
      "text/plain": [
       "HBox(children=(IntProgress(value=0, description='Equilibrate sweep', style=ProgressStyle(description_width='in…"
      ]
     },
     "metadata": {},
     "output_type": "display_data"
    },
    {
     "data": {
      "application/vnd.jupyter.widget-view+json": {
       "model_id": "",
       "version_major": 2,
       "version_minor": 0
      },
      "text/plain": [
       "HBox(children=(IntProgress(value=0, description='Measurement sweep', max=20000, style=ProgressStyle(descriptio…"
      ]
     },
     "metadata": {},
     "output_type": "display_data"
    },
    {
     "data": {
      "application/vnd.jupyter.widget-view+json": {
       "model_id": "",
       "version_major": 2,
       "version_minor": 0
      },
      "text/plain": [
       "HBox(children=(IntProgress(value=0, description='Equilibrate sweep', style=ProgressStyle(description_width='in…"
      ]
     },
     "metadata": {},
     "output_type": "display_data"
    },
    {
     "data": {
      "application/vnd.jupyter.widget-view+json": {
       "model_id": "",
       "version_major": 2,
       "version_minor": 0
      },
      "text/plain": [
       "HBox(children=(IntProgress(value=0, description='Measurement sweep', max=20000, style=ProgressStyle(descriptio…"
      ]
     },
     "metadata": {},
     "output_type": "display_data"
    },
    {
     "data": {
      "application/vnd.jupyter.widget-view+json": {
       "model_id": "",
       "version_major": 2,
       "version_minor": 0
      },
      "text/plain": [
       "HBox(children=(IntProgress(value=0, description='Equilibrate sweep', style=ProgressStyle(description_width='in…"
      ]
     },
     "metadata": {},
     "output_type": "display_data"
    },
    {
     "data": {
      "application/vnd.jupyter.widget-view+json": {
       "model_id": "",
       "version_major": 2,
       "version_minor": 0
      },
      "text/plain": [
       "HBox(children=(IntProgress(value=0, description='Measurement sweep', max=20000, style=ProgressStyle(descriptio…"
      ]
     },
     "metadata": {},
     "output_type": "display_data"
    },
    {
     "data": {
      "application/vnd.jupyter.widget-view+json": {
       "model_id": "",
       "version_major": 2,
       "version_minor": 0
      },
      "text/plain": [
       "HBox(children=(IntProgress(value=0, description='Col', max=20, style=ProgressStyle(description_width='initial'…"
      ]
     },
     "metadata": {},
     "output_type": "display_data"
    },
    {
     "data": {
      "application/vnd.jupyter.widget-view+json": {
       "model_id": "",
       "version_major": 2,
       "version_minor": 0
      },
      "text/plain": [
       "HBox(children=(IntProgress(value=0, description='Equilibrate sweep', style=ProgressStyle(description_width='in…"
      ]
     },
     "metadata": {},
     "output_type": "display_data"
    },
    {
     "data": {
      "application/vnd.jupyter.widget-view+json": {
       "model_id": "",
       "version_major": 2,
       "version_minor": 0
      },
      "text/plain": [
       "HBox(children=(IntProgress(value=0, description='Measurement sweep', max=20000, style=ProgressStyle(descriptio…"
      ]
     },
     "metadata": {},
     "output_type": "display_data"
    },
    {
     "data": {
      "application/vnd.jupyter.widget-view+json": {
       "model_id": "",
       "version_major": 2,
       "version_minor": 0
      },
      "text/plain": [
       "HBox(children=(IntProgress(value=0, description='Equilibrate sweep', style=ProgressStyle(description_width='in…"
      ]
     },
     "metadata": {},
     "output_type": "display_data"
    },
    {
     "data": {
      "application/vnd.jupyter.widget-view+json": {
       "model_id": "",
       "version_major": 2,
       "version_minor": 0
      },
      "text/plain": [
       "HBox(children=(IntProgress(value=0, description='Measurement sweep', max=20000, style=ProgressStyle(descriptio…"
      ]
     },
     "metadata": {},
     "output_type": "display_data"
    },
    {
     "data": {
      "application/vnd.jupyter.widget-view+json": {
       "model_id": "",
       "version_major": 2,
       "version_minor": 0
      },
      "text/plain": [
       "HBox(children=(IntProgress(value=0, description='Equilibrate sweep', style=ProgressStyle(description_width='in…"
      ]
     },
     "metadata": {},
     "output_type": "display_data"
    },
    {
     "data": {
      "application/vnd.jupyter.widget-view+json": {
       "model_id": "",
       "version_major": 2,
       "version_minor": 0
      },
      "text/plain": [
       "HBox(children=(IntProgress(value=0, description='Measurement sweep', max=20000, style=ProgressStyle(descriptio…"
      ]
     },
     "metadata": {},
     "output_type": "display_data"
    },
    {
     "data": {
      "application/vnd.jupyter.widget-view+json": {
       "model_id": "",
       "version_major": 2,
       "version_minor": 0
      },
      "text/plain": [
       "HBox(children=(IntProgress(value=0, description='Equilibrate sweep', style=ProgressStyle(description_width='in…"
      ]
     },
     "metadata": {},
     "output_type": "display_data"
    },
    {
     "data": {
      "application/vnd.jupyter.widget-view+json": {
       "model_id": "",
       "version_major": 2,
       "version_minor": 0
      },
      "text/plain": [
       "HBox(children=(IntProgress(value=0, description='Measurement sweep', max=20000, style=ProgressStyle(descriptio…"
      ]
     },
     "metadata": {},
     "output_type": "display_data"
    },
    {
     "data": {
      "application/vnd.jupyter.widget-view+json": {
       "model_id": "",
       "version_major": 2,
       "version_minor": 0
      },
      "text/plain": [
       "HBox(children=(IntProgress(value=0, description='Equilibrate sweep', style=ProgressStyle(description_width='in…"
      ]
     },
     "metadata": {},
     "output_type": "display_data"
    },
    {
     "data": {
      "application/vnd.jupyter.widget-view+json": {
       "model_id": "",
       "version_major": 2,
       "version_minor": 0
      },
      "text/plain": [
       "HBox(children=(IntProgress(value=0, description='Measurement sweep', max=20000, style=ProgressStyle(descriptio…"
      ]
     },
     "metadata": {},
     "output_type": "display_data"
    },
    {
     "data": {
      "application/vnd.jupyter.widget-view+json": {
       "model_id": "",
       "version_major": 2,
       "version_minor": 0
      },
      "text/plain": [
       "HBox(children=(IntProgress(value=0, description='Equilibrate sweep', style=ProgressStyle(description_width='in…"
      ]
     },
     "metadata": {},
     "output_type": "display_data"
    },
    {
     "data": {
      "application/vnd.jupyter.widget-view+json": {
       "model_id": "",
       "version_major": 2,
       "version_minor": 0
      },
      "text/plain": [
       "HBox(children=(IntProgress(value=0, description='Measurement sweep', max=20000, style=ProgressStyle(descriptio…"
      ]
     },
     "metadata": {},
     "output_type": "display_data"
    },
    {
     "data": {
      "application/vnd.jupyter.widget-view+json": {
       "model_id": "",
       "version_major": 2,
       "version_minor": 0
      },
      "text/plain": [
       "HBox(children=(IntProgress(value=0, description='Equilibrate sweep', style=ProgressStyle(description_width='in…"
      ]
     },
     "metadata": {},
     "output_type": "display_data"
    },
    {
     "data": {
      "application/vnd.jupyter.widget-view+json": {
       "model_id": "",
       "version_major": 2,
       "version_minor": 0
      },
      "text/plain": [
       "HBox(children=(IntProgress(value=0, description='Measurement sweep', max=20000, style=ProgressStyle(descriptio…"
      ]
     },
     "metadata": {},
     "output_type": "display_data"
    },
    {
     "data": {
      "application/vnd.jupyter.widget-view+json": {
       "model_id": "",
       "version_major": 2,
       "version_minor": 0
      },
      "text/plain": [
       "HBox(children=(IntProgress(value=0, description='Equilibrate sweep', style=ProgressStyle(description_width='in…"
      ]
     },
     "metadata": {},
     "output_type": "display_data"
    },
    {
     "data": {
      "application/vnd.jupyter.widget-view+json": {
       "model_id": "",
       "version_major": 2,
       "version_minor": 0
      },
      "text/plain": [
       "HBox(children=(IntProgress(value=0, description='Measurement sweep', max=20000, style=ProgressStyle(descriptio…"
      ]
     },
     "metadata": {},
     "output_type": "display_data"
    },
    {
     "data": {
      "application/vnd.jupyter.widget-view+json": {
       "model_id": "",
       "version_major": 2,
       "version_minor": 0
      },
      "text/plain": [
       "HBox(children=(IntProgress(value=0, description='Equilibrate sweep', style=ProgressStyle(description_width='in…"
      ]
     },
     "metadata": {},
     "output_type": "display_data"
    },
    {
     "data": {
      "application/vnd.jupyter.widget-view+json": {
       "model_id": "",
       "version_major": 2,
       "version_minor": 0
      },
      "text/plain": [
       "HBox(children=(IntProgress(value=0, description='Measurement sweep', max=20000, style=ProgressStyle(descriptio…"
      ]
     },
     "metadata": {},
     "output_type": "display_data"
    },
    {
     "data": {
      "application/vnd.jupyter.widget-view+json": {
       "model_id": "",
       "version_major": 2,
       "version_minor": 0
      },
      "text/plain": [
       "HBox(children=(IntProgress(value=0, description='Equilibrate sweep', style=ProgressStyle(description_width='in…"
      ]
     },
     "metadata": {},
     "output_type": "display_data"
    },
    {
     "data": {
      "application/vnd.jupyter.widget-view+json": {
       "model_id": "",
       "version_major": 2,
       "version_minor": 0
      },
      "text/plain": [
       "HBox(children=(IntProgress(value=0, description='Measurement sweep', max=20000, style=ProgressStyle(descriptio…"
      ]
     },
     "metadata": {},
     "output_type": "display_data"
    },
    {
     "data": {
      "application/vnd.jupyter.widget-view+json": {
       "model_id": "",
       "version_major": 2,
       "version_minor": 0
      },
      "text/plain": [
       "HBox(children=(IntProgress(value=0, description='Equilibrate sweep', style=ProgressStyle(description_width='in…"
      ]
     },
     "metadata": {},
     "output_type": "display_data"
    },
    {
     "data": {
      "application/vnd.jupyter.widget-view+json": {
       "model_id": "",
       "version_major": 2,
       "version_minor": 0
      },
      "text/plain": [
       "HBox(children=(IntProgress(value=0, description='Measurement sweep', max=20000, style=ProgressStyle(descriptio…"
      ]
     },
     "metadata": {},
     "output_type": "display_data"
    },
    {
     "data": {
      "application/vnd.jupyter.widget-view+json": {
       "model_id": "",
       "version_major": 2,
       "version_minor": 0
      },
      "text/plain": [
       "HBox(children=(IntProgress(value=0, description='Equilibrate sweep', style=ProgressStyle(description_width='in…"
      ]
     },
     "metadata": {},
     "output_type": "display_data"
    },
    {
     "data": {
      "application/vnd.jupyter.widget-view+json": {
       "model_id": "",
       "version_major": 2,
       "version_minor": 0
      },
      "text/plain": [
       "HBox(children=(IntProgress(value=0, description='Measurement sweep', max=20000, style=ProgressStyle(descriptio…"
      ]
     },
     "metadata": {},
     "output_type": "display_data"
    },
    {
     "data": {
      "application/vnd.jupyter.widget-view+json": {
       "model_id": "",
       "version_major": 2,
       "version_minor": 0
      },
      "text/plain": [
       "HBox(children=(IntProgress(value=0, description='Equilibrate sweep', style=ProgressStyle(description_width='in…"
      ]
     },
     "metadata": {},
     "output_type": "display_data"
    },
    {
     "data": {
      "application/vnd.jupyter.widget-view+json": {
       "model_id": "",
       "version_major": 2,
       "version_minor": 0
      },
      "text/plain": [
       "HBox(children=(IntProgress(value=0, description='Measurement sweep', max=20000, style=ProgressStyle(descriptio…"
      ]
     },
     "metadata": {},
     "output_type": "display_data"
    },
    {
     "data": {
      "application/vnd.jupyter.widget-view+json": {
       "model_id": "",
       "version_major": 2,
       "version_minor": 0
      },
      "text/plain": [
       "HBox(children=(IntProgress(value=0, description='Equilibrate sweep', style=ProgressStyle(description_width='in…"
      ]
     },
     "metadata": {},
     "output_type": "display_data"
    },
    {
     "data": {
      "application/vnd.jupyter.widget-view+json": {
       "model_id": "",
       "version_major": 2,
       "version_minor": 0
      },
      "text/plain": [
       "HBox(children=(IntProgress(value=0, description='Measurement sweep', max=20000, style=ProgressStyle(descriptio…"
      ]
     },
     "metadata": {},
     "output_type": "display_data"
    },
    {
     "data": {
      "application/vnd.jupyter.widget-view+json": {
       "model_id": "",
       "version_major": 2,
       "version_minor": 0
      },
      "text/plain": [
       "HBox(children=(IntProgress(value=0, description='Equilibrate sweep', style=ProgressStyle(description_width='in…"
      ]
     },
     "metadata": {},
     "output_type": "display_data"
    },
    {
     "data": {
      "application/vnd.jupyter.widget-view+json": {
       "model_id": "",
       "version_major": 2,
       "version_minor": 0
      },
      "text/plain": [
       "HBox(children=(IntProgress(value=0, description='Measurement sweep', max=20000, style=ProgressStyle(descriptio…"
      ]
     },
     "metadata": {},
     "output_type": "display_data"
    },
    {
     "data": {
      "application/vnd.jupyter.widget-view+json": {
       "model_id": "",
       "version_major": 2,
       "version_minor": 0
      },
      "text/plain": [
       "HBox(children=(IntProgress(value=0, description='Equilibrate sweep', style=ProgressStyle(description_width='in…"
      ]
     },
     "metadata": {},
     "output_type": "display_data"
    },
    {
     "data": {
      "application/vnd.jupyter.widget-view+json": {
       "model_id": "",
       "version_major": 2,
       "version_minor": 0
      },
      "text/plain": [
       "HBox(children=(IntProgress(value=0, description='Measurement sweep', max=20000, style=ProgressStyle(descriptio…"
      ]
     },
     "metadata": {},
     "output_type": "display_data"
    },
    {
     "data": {
      "application/vnd.jupyter.widget-view+json": {
       "model_id": "",
       "version_major": 2,
       "version_minor": 0
      },
      "text/plain": [
       "HBox(children=(IntProgress(value=0, description='Equilibrate sweep', style=ProgressStyle(description_width='in…"
      ]
     },
     "metadata": {},
     "output_type": "display_data"
    },
    {
     "data": {
      "application/vnd.jupyter.widget-view+json": {
       "model_id": "",
       "version_major": 2,
       "version_minor": 0
      },
      "text/plain": [
       "HBox(children=(IntProgress(value=0, description='Measurement sweep', max=20000, style=ProgressStyle(descriptio…"
      ]
     },
     "metadata": {},
     "output_type": "display_data"
    },
    {
     "data": {
      "application/vnd.jupyter.widget-view+json": {
       "model_id": "",
       "version_major": 2,
       "version_minor": 0
      },
      "text/plain": [
       "HBox(children=(IntProgress(value=0, description='Equilibrate sweep', style=ProgressStyle(description_width='in…"
      ]
     },
     "metadata": {},
     "output_type": "display_data"
    },
    {
     "data": {
      "application/vnd.jupyter.widget-view+json": {
       "model_id": "",
       "version_major": 2,
       "version_minor": 0
      },
      "text/plain": [
       "HBox(children=(IntProgress(value=0, description='Measurement sweep', max=20000, style=ProgressStyle(descriptio…"
      ]
     },
     "metadata": {},
     "output_type": "display_data"
    },
    {
     "data": {
      "application/vnd.jupyter.widget-view+json": {
       "model_id": "",
       "version_major": 2,
       "version_minor": 0
      },
      "text/plain": [
       "HBox(children=(IntProgress(value=0, description='Equilibrate sweep', style=ProgressStyle(description_width='in…"
      ]
     },
     "metadata": {},
     "output_type": "display_data"
    },
    {
     "data": {
      "application/vnd.jupyter.widget-view+json": {
       "model_id": "",
       "version_major": 2,
       "version_minor": 0
      },
      "text/plain": [
       "HBox(children=(IntProgress(value=0, description='Measurement sweep', max=20000, style=ProgressStyle(descriptio…"
      ]
     },
     "metadata": {},
     "output_type": "display_data"
    },
    {
     "data": {
      "application/vnd.jupyter.widget-view+json": {
       "model_id": "",
       "version_major": 2,
       "version_minor": 0
      },
      "text/plain": [
       "HBox(children=(IntProgress(value=0, description='Equilibrate sweep', style=ProgressStyle(description_width='in…"
      ]
     },
     "metadata": {},
     "output_type": "display_data"
    },
    {
     "data": {
      "application/vnd.jupyter.widget-view+json": {
       "model_id": "",
       "version_major": 2,
       "version_minor": 0
      },
      "text/plain": [
       "HBox(children=(IntProgress(value=0, description='Measurement sweep', max=20000, style=ProgressStyle(descriptio…"
      ]
     },
     "metadata": {},
     "output_type": "display_data"
    },
    {
     "data": {
      "application/vnd.jupyter.widget-view+json": {
       "model_id": "",
       "version_major": 2,
       "version_minor": 0
      },
      "text/plain": [
       "HBox(children=(IntProgress(value=0, description='Col', max=20, style=ProgressStyle(description_width='initial'…"
      ]
     },
     "metadata": {},
     "output_type": "display_data"
    },
    {
     "data": {
      "application/vnd.jupyter.widget-view+json": {
       "model_id": "",
       "version_major": 2,
       "version_minor": 0
      },
      "text/plain": [
       "HBox(children=(IntProgress(value=0, description='Equilibrate sweep', style=ProgressStyle(description_width='in…"
      ]
     },
     "metadata": {},
     "output_type": "display_data"
    },
    {
     "data": {
      "application/vnd.jupyter.widget-view+json": {
       "model_id": "",
       "version_major": 2,
       "version_minor": 0
      },
      "text/plain": [
       "HBox(children=(IntProgress(value=0, description='Measurement sweep', max=20000, style=ProgressStyle(descriptio…"
      ]
     },
     "metadata": {},
     "output_type": "display_data"
    },
    {
     "data": {
      "application/vnd.jupyter.widget-view+json": {
       "model_id": "",
       "version_major": 2,
       "version_minor": 0
      },
      "text/plain": [
       "HBox(children=(IntProgress(value=0, description='Equilibrate sweep', style=ProgressStyle(description_width='in…"
      ]
     },
     "metadata": {},
     "output_type": "display_data"
    },
    {
     "data": {
      "application/vnd.jupyter.widget-view+json": {
       "model_id": "",
       "version_major": 2,
       "version_minor": 0
      },
      "text/plain": [
       "HBox(children=(IntProgress(value=0, description='Measurement sweep', max=20000, style=ProgressStyle(descriptio…"
      ]
     },
     "metadata": {},
     "output_type": "display_data"
    },
    {
     "data": {
      "application/vnd.jupyter.widget-view+json": {
       "model_id": "",
       "version_major": 2,
       "version_minor": 0
      },
      "text/plain": [
       "HBox(children=(IntProgress(value=0, description='Equilibrate sweep', style=ProgressStyle(description_width='in…"
      ]
     },
     "metadata": {},
     "output_type": "display_data"
    },
    {
     "data": {
      "application/vnd.jupyter.widget-view+json": {
       "model_id": "",
       "version_major": 2,
       "version_minor": 0
      },
      "text/plain": [
       "HBox(children=(IntProgress(value=0, description='Measurement sweep', max=20000, style=ProgressStyle(descriptio…"
      ]
     },
     "metadata": {},
     "output_type": "display_data"
    },
    {
     "data": {
      "application/vnd.jupyter.widget-view+json": {
       "model_id": "",
       "version_major": 2,
       "version_minor": 0
      },
      "text/plain": [
       "HBox(children=(IntProgress(value=0, description='Equilibrate sweep', style=ProgressStyle(description_width='in…"
      ]
     },
     "metadata": {},
     "output_type": "display_data"
    },
    {
     "data": {
      "application/vnd.jupyter.widget-view+json": {
       "model_id": "",
       "version_major": 2,
       "version_minor": 0
      },
      "text/plain": [
       "HBox(children=(IntProgress(value=0, description='Measurement sweep', max=20000, style=ProgressStyle(descriptio…"
      ]
     },
     "metadata": {},
     "output_type": "display_data"
    },
    {
     "data": {
      "application/vnd.jupyter.widget-view+json": {
       "model_id": "",
       "version_major": 2,
       "version_minor": 0
      },
      "text/plain": [
       "HBox(children=(IntProgress(value=0, description='Equilibrate sweep', style=ProgressStyle(description_width='in…"
      ]
     },
     "metadata": {},
     "output_type": "display_data"
    },
    {
     "data": {
      "application/vnd.jupyter.widget-view+json": {
       "model_id": "",
       "version_major": 2,
       "version_minor": 0
      },
      "text/plain": [
       "HBox(children=(IntProgress(value=0, description='Measurement sweep', max=20000, style=ProgressStyle(descriptio…"
      ]
     },
     "metadata": {},
     "output_type": "display_data"
    },
    {
     "data": {
      "application/vnd.jupyter.widget-view+json": {
       "model_id": "",
       "version_major": 2,
       "version_minor": 0
      },
      "text/plain": [
       "HBox(children=(IntProgress(value=0, description='Equilibrate sweep', style=ProgressStyle(description_width='in…"
      ]
     },
     "metadata": {},
     "output_type": "display_data"
    },
    {
     "data": {
      "application/vnd.jupyter.widget-view+json": {
       "model_id": "",
       "version_major": 2,
       "version_minor": 0
      },
      "text/plain": [
       "HBox(children=(IntProgress(value=0, description='Measurement sweep', max=20000, style=ProgressStyle(descriptio…"
      ]
     },
     "metadata": {},
     "output_type": "display_data"
    },
    {
     "data": {
      "application/vnd.jupyter.widget-view+json": {
       "model_id": "",
       "version_major": 2,
       "version_minor": 0
      },
      "text/plain": [
       "HBox(children=(IntProgress(value=0, description='Equilibrate sweep', style=ProgressStyle(description_width='in…"
      ]
     },
     "metadata": {},
     "output_type": "display_data"
    },
    {
     "data": {
      "application/vnd.jupyter.widget-view+json": {
       "model_id": "",
       "version_major": 2,
       "version_minor": 0
      },
      "text/plain": [
       "HBox(children=(IntProgress(value=0, description='Measurement sweep', max=20000, style=ProgressStyle(descriptio…"
      ]
     },
     "metadata": {},
     "output_type": "display_data"
    },
    {
     "data": {
      "application/vnd.jupyter.widget-view+json": {
       "model_id": "",
       "version_major": 2,
       "version_minor": 0
      },
      "text/plain": [
       "HBox(children=(IntProgress(value=0, description='Equilibrate sweep', style=ProgressStyle(description_width='in…"
      ]
     },
     "metadata": {},
     "output_type": "display_data"
    },
    {
     "data": {
      "application/vnd.jupyter.widget-view+json": {
       "model_id": "",
       "version_major": 2,
       "version_minor": 0
      },
      "text/plain": [
       "HBox(children=(IntProgress(value=0, description='Measurement sweep', max=20000, style=ProgressStyle(descriptio…"
      ]
     },
     "metadata": {},
     "output_type": "display_data"
    },
    {
     "data": {
      "application/vnd.jupyter.widget-view+json": {
       "model_id": "",
       "version_major": 2,
       "version_minor": 0
      },
      "text/plain": [
       "HBox(children=(IntProgress(value=0, description='Equilibrate sweep', style=ProgressStyle(description_width='in…"
      ]
     },
     "metadata": {},
     "output_type": "display_data"
    },
    {
     "data": {
      "application/vnd.jupyter.widget-view+json": {
       "model_id": "",
       "version_major": 2,
       "version_minor": 0
      },
      "text/plain": [
       "HBox(children=(IntProgress(value=0, description='Measurement sweep', max=20000, style=ProgressStyle(descriptio…"
      ]
     },
     "metadata": {},
     "output_type": "display_data"
    },
    {
     "data": {
      "application/vnd.jupyter.widget-view+json": {
       "model_id": "",
       "version_major": 2,
       "version_minor": 0
      },
      "text/plain": [
       "HBox(children=(IntProgress(value=0, description='Equilibrate sweep', style=ProgressStyle(description_width='in…"
      ]
     },
     "metadata": {},
     "output_type": "display_data"
    },
    {
     "data": {
      "application/vnd.jupyter.widget-view+json": {
       "model_id": "",
       "version_major": 2,
       "version_minor": 0
      },
      "text/plain": [
       "HBox(children=(IntProgress(value=0, description='Measurement sweep', max=20000, style=ProgressStyle(descriptio…"
      ]
     },
     "metadata": {},
     "output_type": "display_data"
    },
    {
     "data": {
      "application/vnd.jupyter.widget-view+json": {
       "model_id": "",
       "version_major": 2,
       "version_minor": 0
      },
      "text/plain": [
       "HBox(children=(IntProgress(value=0, description='Equilibrate sweep', style=ProgressStyle(description_width='in…"
      ]
     },
     "metadata": {},
     "output_type": "display_data"
    },
    {
     "data": {
      "application/vnd.jupyter.widget-view+json": {
       "model_id": "",
       "version_major": 2,
       "version_minor": 0
      },
      "text/plain": [
       "HBox(children=(IntProgress(value=0, description='Measurement sweep', max=20000, style=ProgressStyle(descriptio…"
      ]
     },
     "metadata": {},
     "output_type": "display_data"
    },
    {
     "data": {
      "application/vnd.jupyter.widget-view+json": {
       "model_id": "",
       "version_major": 2,
       "version_minor": 0
      },
      "text/plain": [
       "HBox(children=(IntProgress(value=0, description='Equilibrate sweep', style=ProgressStyle(description_width='in…"
      ]
     },
     "metadata": {},
     "output_type": "display_data"
    },
    {
     "data": {
      "application/vnd.jupyter.widget-view+json": {
       "model_id": "",
       "version_major": 2,
       "version_minor": 0
      },
      "text/plain": [
       "HBox(children=(IntProgress(value=0, description='Measurement sweep', max=20000, style=ProgressStyle(descriptio…"
      ]
     },
     "metadata": {},
     "output_type": "display_data"
    },
    {
     "data": {
      "application/vnd.jupyter.widget-view+json": {
       "model_id": "",
       "version_major": 2,
       "version_minor": 0
      },
      "text/plain": [
       "HBox(children=(IntProgress(value=0, description='Equilibrate sweep', style=ProgressStyle(description_width='in…"
      ]
     },
     "metadata": {},
     "output_type": "display_data"
    },
    {
     "data": {
      "application/vnd.jupyter.widget-view+json": {
       "model_id": "",
       "version_major": 2,
       "version_minor": 0
      },
      "text/plain": [
       "HBox(children=(IntProgress(value=0, description='Measurement sweep', max=20000, style=ProgressStyle(descriptio…"
      ]
     },
     "metadata": {},
     "output_type": "display_data"
    },
    {
     "data": {
      "application/vnd.jupyter.widget-view+json": {
       "model_id": "",
       "version_major": 2,
       "version_minor": 0
      },
      "text/plain": [
       "HBox(children=(IntProgress(value=0, description='Equilibrate sweep', style=ProgressStyle(description_width='in…"
      ]
     },
     "metadata": {},
     "output_type": "display_data"
    },
    {
     "data": {
      "application/vnd.jupyter.widget-view+json": {
       "model_id": "",
       "version_major": 2,
       "version_minor": 0
      },
      "text/plain": [
       "HBox(children=(IntProgress(value=0, description='Measurement sweep', max=20000, style=ProgressStyle(descriptio…"
      ]
     },
     "metadata": {},
     "output_type": "display_data"
    },
    {
     "data": {
      "application/vnd.jupyter.widget-view+json": {
       "model_id": "",
       "version_major": 2,
       "version_minor": 0
      },
      "text/plain": [
       "HBox(children=(IntProgress(value=0, description='Equilibrate sweep', style=ProgressStyle(description_width='in…"
      ]
     },
     "metadata": {},
     "output_type": "display_data"
    },
    {
     "data": {
      "application/vnd.jupyter.widget-view+json": {
       "model_id": "",
       "version_major": 2,
       "version_minor": 0
      },
      "text/plain": [
       "HBox(children=(IntProgress(value=0, description='Measurement sweep', max=20000, style=ProgressStyle(descriptio…"
      ]
     },
     "metadata": {},
     "output_type": "display_data"
    },
    {
     "data": {
      "application/vnd.jupyter.widget-view+json": {
       "model_id": "",
       "version_major": 2,
       "version_minor": 0
      },
      "text/plain": [
       "HBox(children=(IntProgress(value=0, description='Equilibrate sweep', style=ProgressStyle(description_width='in…"
      ]
     },
     "metadata": {},
     "output_type": "display_data"
    },
    {
     "data": {
      "application/vnd.jupyter.widget-view+json": {
       "model_id": "",
       "version_major": 2,
       "version_minor": 0
      },
      "text/plain": [
       "HBox(children=(IntProgress(value=0, description='Measurement sweep', max=20000, style=ProgressStyle(descriptio…"
      ]
     },
     "metadata": {},
     "output_type": "display_data"
    },
    {
     "data": {
      "application/vnd.jupyter.widget-view+json": {
       "model_id": "",
       "version_major": 2,
       "version_minor": 0
      },
      "text/plain": [
       "HBox(children=(IntProgress(value=0, description='Equilibrate sweep', style=ProgressStyle(description_width='in…"
      ]
     },
     "metadata": {},
     "output_type": "display_data"
    },
    {
     "data": {
      "application/vnd.jupyter.widget-view+json": {
       "model_id": "",
       "version_major": 2,
       "version_minor": 0
      },
      "text/plain": [
       "HBox(children=(IntProgress(value=0, description='Measurement sweep', max=20000, style=ProgressStyle(descriptio…"
      ]
     },
     "metadata": {},
     "output_type": "display_data"
    },
    {
     "data": {
      "application/vnd.jupyter.widget-view+json": {
       "model_id": "",
       "version_major": 2,
       "version_minor": 0
      },
      "text/plain": [
       "HBox(children=(IntProgress(value=0, description='Equilibrate sweep', style=ProgressStyle(description_width='in…"
      ]
     },
     "metadata": {},
     "output_type": "display_data"
    },
    {
     "data": {
      "application/vnd.jupyter.widget-view+json": {
       "model_id": "",
       "version_major": 2,
       "version_minor": 0
      },
      "text/plain": [
       "HBox(children=(IntProgress(value=0, description='Measurement sweep', max=20000, style=ProgressStyle(descriptio…"
      ]
     },
     "metadata": {},
     "output_type": "display_data"
    },
    {
     "data": {
      "application/vnd.jupyter.widget-view+json": {
       "model_id": "",
       "version_major": 2,
       "version_minor": 0
      },
      "text/plain": [
       "HBox(children=(IntProgress(value=0, description='Equilibrate sweep', style=ProgressStyle(description_width='in…"
      ]
     },
     "metadata": {},
     "output_type": "display_data"
    },
    {
     "data": {
      "application/vnd.jupyter.widget-view+json": {
       "model_id": "",
       "version_major": 2,
       "version_minor": 0
      },
      "text/plain": [
       "HBox(children=(IntProgress(value=0, description='Measurement sweep', max=20000, style=ProgressStyle(descriptio…"
      ]
     },
     "metadata": {},
     "output_type": "display_data"
    },
    {
     "data": {
      "application/vnd.jupyter.widget-view+json": {
       "model_id": "",
       "version_major": 2,
       "version_minor": 0
      },
      "text/plain": [
       "HBox(children=(IntProgress(value=0, description='Equilibrate sweep', style=ProgressStyle(description_width='in…"
      ]
     },
     "metadata": {},
     "output_type": "display_data"
    },
    {
     "data": {
      "application/vnd.jupyter.widget-view+json": {
       "model_id": "",
       "version_major": 2,
       "version_minor": 0
      },
      "text/plain": [
       "HBox(children=(IntProgress(value=0, description='Measurement sweep', max=20000, style=ProgressStyle(descriptio…"
      ]
     },
     "metadata": {},
     "output_type": "display_data"
    },
    {
     "data": {
      "application/vnd.jupyter.widget-view+json": {
       "model_id": "",
       "version_major": 2,
       "version_minor": 0
      },
      "text/plain": [
       "HBox(children=(IntProgress(value=0, description='Col', max=20, style=ProgressStyle(description_width='initial'…"
      ]
     },
     "metadata": {},
     "output_type": "display_data"
    },
    {
     "data": {
      "application/vnd.jupyter.widget-view+json": {
       "model_id": "",
       "version_major": 2,
       "version_minor": 0
      },
      "text/plain": [
       "HBox(children=(IntProgress(value=0, description='Equilibrate sweep', style=ProgressStyle(description_width='in…"
      ]
     },
     "metadata": {},
     "output_type": "display_data"
    },
    {
     "data": {
      "application/vnd.jupyter.widget-view+json": {
       "model_id": "",
       "version_major": 2,
       "version_minor": 0
      },
      "text/plain": [
       "HBox(children=(IntProgress(value=0, description='Measurement sweep', max=20000, style=ProgressStyle(descriptio…"
      ]
     },
     "metadata": {},
     "output_type": "display_data"
    },
    {
     "data": {
      "application/vnd.jupyter.widget-view+json": {
       "model_id": "",
       "version_major": 2,
       "version_minor": 0
      },
      "text/plain": [
       "HBox(children=(IntProgress(value=0, description='Equilibrate sweep', style=ProgressStyle(description_width='in…"
      ]
     },
     "metadata": {},
     "output_type": "display_data"
    },
    {
     "data": {
      "application/vnd.jupyter.widget-view+json": {
       "model_id": "",
       "version_major": 2,
       "version_minor": 0
      },
      "text/plain": [
       "HBox(children=(IntProgress(value=0, description='Measurement sweep', max=20000, style=ProgressStyle(descriptio…"
      ]
     },
     "metadata": {},
     "output_type": "display_data"
    },
    {
     "data": {
      "application/vnd.jupyter.widget-view+json": {
       "model_id": "",
       "version_major": 2,
       "version_minor": 0
      },
      "text/plain": [
       "HBox(children=(IntProgress(value=0, description='Equilibrate sweep', style=ProgressStyle(description_width='in…"
      ]
     },
     "metadata": {},
     "output_type": "display_data"
    },
    {
     "data": {
      "application/vnd.jupyter.widget-view+json": {
       "model_id": "",
       "version_major": 2,
       "version_minor": 0
      },
      "text/plain": [
       "HBox(children=(IntProgress(value=0, description='Measurement sweep', max=20000, style=ProgressStyle(descriptio…"
      ]
     },
     "metadata": {},
     "output_type": "display_data"
    },
    {
     "data": {
      "application/vnd.jupyter.widget-view+json": {
       "model_id": "",
       "version_major": 2,
       "version_minor": 0
      },
      "text/plain": [
       "HBox(children=(IntProgress(value=0, description='Equilibrate sweep', style=ProgressStyle(description_width='in…"
      ]
     },
     "metadata": {},
     "output_type": "display_data"
    },
    {
     "data": {
      "application/vnd.jupyter.widget-view+json": {
       "model_id": "",
       "version_major": 2,
       "version_minor": 0
      },
      "text/plain": [
       "HBox(children=(IntProgress(value=0, description='Measurement sweep', max=20000, style=ProgressStyle(descriptio…"
      ]
     },
     "metadata": {},
     "output_type": "display_data"
    },
    {
     "data": {
      "application/vnd.jupyter.widget-view+json": {
       "model_id": "",
       "version_major": 2,
       "version_minor": 0
      },
      "text/plain": [
       "HBox(children=(IntProgress(value=0, description='Equilibrate sweep', style=ProgressStyle(description_width='in…"
      ]
     },
     "metadata": {},
     "output_type": "display_data"
    },
    {
     "data": {
      "application/vnd.jupyter.widget-view+json": {
       "model_id": "",
       "version_major": 2,
       "version_minor": 0
      },
      "text/plain": [
       "HBox(children=(IntProgress(value=0, description='Measurement sweep', max=20000, style=ProgressStyle(descriptio…"
      ]
     },
     "metadata": {},
     "output_type": "display_data"
    },
    {
     "data": {
      "application/vnd.jupyter.widget-view+json": {
       "model_id": "",
       "version_major": 2,
       "version_minor": 0
      },
      "text/plain": [
       "HBox(children=(IntProgress(value=0, description='Equilibrate sweep', style=ProgressStyle(description_width='in…"
      ]
     },
     "metadata": {},
     "output_type": "display_data"
    },
    {
     "data": {
      "application/vnd.jupyter.widget-view+json": {
       "model_id": "",
       "version_major": 2,
       "version_minor": 0
      },
      "text/plain": [
       "HBox(children=(IntProgress(value=0, description='Measurement sweep', max=20000, style=ProgressStyle(descriptio…"
      ]
     },
     "metadata": {},
     "output_type": "display_data"
    },
    {
     "data": {
      "application/vnd.jupyter.widget-view+json": {
       "model_id": "",
       "version_major": 2,
       "version_minor": 0
      },
      "text/plain": [
       "HBox(children=(IntProgress(value=0, description='Equilibrate sweep', style=ProgressStyle(description_width='in…"
      ]
     },
     "metadata": {},
     "output_type": "display_data"
    },
    {
     "data": {
      "application/vnd.jupyter.widget-view+json": {
       "model_id": "",
       "version_major": 2,
       "version_minor": 0
      },
      "text/plain": [
       "HBox(children=(IntProgress(value=0, description='Measurement sweep', max=20000, style=ProgressStyle(descriptio…"
      ]
     },
     "metadata": {},
     "output_type": "display_data"
    },
    {
     "data": {
      "application/vnd.jupyter.widget-view+json": {
       "model_id": "",
       "version_major": 2,
       "version_minor": 0
      },
      "text/plain": [
       "HBox(children=(IntProgress(value=0, description='Equilibrate sweep', style=ProgressStyle(description_width='in…"
      ]
     },
     "metadata": {},
     "output_type": "display_data"
    },
    {
     "data": {
      "application/vnd.jupyter.widget-view+json": {
       "model_id": "",
       "version_major": 2,
       "version_minor": 0
      },
      "text/plain": [
       "HBox(children=(IntProgress(value=0, description='Measurement sweep', max=20000, style=ProgressStyle(descriptio…"
      ]
     },
     "metadata": {},
     "output_type": "display_data"
    },
    {
     "data": {
      "application/vnd.jupyter.widget-view+json": {
       "model_id": "",
       "version_major": 2,
       "version_minor": 0
      },
      "text/plain": [
       "HBox(children=(IntProgress(value=0, description='Equilibrate sweep', style=ProgressStyle(description_width='in…"
      ]
     },
     "metadata": {},
     "output_type": "display_data"
    },
    {
     "data": {
      "application/vnd.jupyter.widget-view+json": {
       "model_id": "",
       "version_major": 2,
       "version_minor": 0
      },
      "text/plain": [
       "HBox(children=(IntProgress(value=0, description='Measurement sweep', max=20000, style=ProgressStyle(descriptio…"
      ]
     },
     "metadata": {},
     "output_type": "display_data"
    },
    {
     "data": {
      "application/vnd.jupyter.widget-view+json": {
       "model_id": "",
       "version_major": 2,
       "version_minor": 0
      },
      "text/plain": [
       "HBox(children=(IntProgress(value=0, description='Equilibrate sweep', style=ProgressStyle(description_width='in…"
      ]
     },
     "metadata": {},
     "output_type": "display_data"
    },
    {
     "data": {
      "application/vnd.jupyter.widget-view+json": {
       "model_id": "",
       "version_major": 2,
       "version_minor": 0
      },
      "text/plain": [
       "HBox(children=(IntProgress(value=0, description='Measurement sweep', max=20000, style=ProgressStyle(descriptio…"
      ]
     },
     "metadata": {},
     "output_type": "display_data"
    },
    {
     "data": {
      "application/vnd.jupyter.widget-view+json": {
       "model_id": "",
       "version_major": 2,
       "version_minor": 0
      },
      "text/plain": [
       "HBox(children=(IntProgress(value=0, description='Equilibrate sweep', style=ProgressStyle(description_width='in…"
      ]
     },
     "metadata": {},
     "output_type": "display_data"
    },
    {
     "data": {
      "application/vnd.jupyter.widget-view+json": {
       "model_id": "",
       "version_major": 2,
       "version_minor": 0
      },
      "text/plain": [
       "HBox(children=(IntProgress(value=0, description='Measurement sweep', max=20000, style=ProgressStyle(descriptio…"
      ]
     },
     "metadata": {},
     "output_type": "display_data"
    },
    {
     "data": {
      "application/vnd.jupyter.widget-view+json": {
       "model_id": "",
       "version_major": 2,
       "version_minor": 0
      },
      "text/plain": [
       "HBox(children=(IntProgress(value=0, description='Equilibrate sweep', style=ProgressStyle(description_width='in…"
      ]
     },
     "metadata": {},
     "output_type": "display_data"
    },
    {
     "data": {
      "application/vnd.jupyter.widget-view+json": {
       "model_id": "",
       "version_major": 2,
       "version_minor": 0
      },
      "text/plain": [
       "HBox(children=(IntProgress(value=0, description='Measurement sweep', max=20000, style=ProgressStyle(descriptio…"
      ]
     },
     "metadata": {},
     "output_type": "display_data"
    },
    {
     "data": {
      "application/vnd.jupyter.widget-view+json": {
       "model_id": "",
       "version_major": 2,
       "version_minor": 0
      },
      "text/plain": [
       "HBox(children=(IntProgress(value=0, description='Equilibrate sweep', style=ProgressStyle(description_width='in…"
      ]
     },
     "metadata": {},
     "output_type": "display_data"
    },
    {
     "data": {
      "application/vnd.jupyter.widget-view+json": {
       "model_id": "",
       "version_major": 2,
       "version_minor": 0
      },
      "text/plain": [
       "HBox(children=(IntProgress(value=0, description='Measurement sweep', max=20000, style=ProgressStyle(descriptio…"
      ]
     },
     "metadata": {},
     "output_type": "display_data"
    },
    {
     "data": {
      "application/vnd.jupyter.widget-view+json": {
       "model_id": "",
       "version_major": 2,
       "version_minor": 0
      },
      "text/plain": [
       "HBox(children=(IntProgress(value=0, description='Equilibrate sweep', style=ProgressStyle(description_width='in…"
      ]
     },
     "metadata": {},
     "output_type": "display_data"
    },
    {
     "data": {
      "application/vnd.jupyter.widget-view+json": {
       "model_id": "",
       "version_major": 2,
       "version_minor": 0
      },
      "text/plain": [
       "HBox(children=(IntProgress(value=0, description='Measurement sweep', max=20000, style=ProgressStyle(descriptio…"
      ]
     },
     "metadata": {},
     "output_type": "display_data"
    },
    {
     "data": {
      "application/vnd.jupyter.widget-view+json": {
       "model_id": "",
       "version_major": 2,
       "version_minor": 0
      },
      "text/plain": [
       "HBox(children=(IntProgress(value=0, description='Equilibrate sweep', style=ProgressStyle(description_width='in…"
      ]
     },
     "metadata": {},
     "output_type": "display_data"
    },
    {
     "data": {
      "application/vnd.jupyter.widget-view+json": {
       "model_id": "",
       "version_major": 2,
       "version_minor": 0
      },
      "text/plain": [
       "HBox(children=(IntProgress(value=0, description='Measurement sweep', max=20000, style=ProgressStyle(descriptio…"
      ]
     },
     "metadata": {},
     "output_type": "display_data"
    },
    {
     "data": {
      "application/vnd.jupyter.widget-view+json": {
       "model_id": "",
       "version_major": 2,
       "version_minor": 0
      },
      "text/plain": [
       "HBox(children=(IntProgress(value=0, description='Equilibrate sweep', style=ProgressStyle(description_width='in…"
      ]
     },
     "metadata": {},
     "output_type": "display_data"
    },
    {
     "data": {
      "application/vnd.jupyter.widget-view+json": {
       "model_id": "",
       "version_major": 2,
       "version_minor": 0
      },
      "text/plain": [
       "HBox(children=(IntProgress(value=0, description='Measurement sweep', max=20000, style=ProgressStyle(descriptio…"
      ]
     },
     "metadata": {},
     "output_type": "display_data"
    },
    {
     "data": {
      "application/vnd.jupyter.widget-view+json": {
       "model_id": "",
       "version_major": 2,
       "version_minor": 0
      },
      "text/plain": [
       "HBox(children=(IntProgress(value=0, description='Equilibrate sweep', style=ProgressStyle(description_width='in…"
      ]
     },
     "metadata": {},
     "output_type": "display_data"
    },
    {
     "data": {
      "application/vnd.jupyter.widget-view+json": {
       "model_id": "",
       "version_major": 2,
       "version_minor": 0
      },
      "text/plain": [
       "HBox(children=(IntProgress(value=0, description='Measurement sweep', max=20000, style=ProgressStyle(descriptio…"
      ]
     },
     "metadata": {},
     "output_type": "display_data"
    },
    {
     "data": {
      "application/vnd.jupyter.widget-view+json": {
       "model_id": "",
       "version_major": 2,
       "version_minor": 0
      },
      "text/plain": [
       "HBox(children=(IntProgress(value=0, description='Equilibrate sweep', style=ProgressStyle(description_width='in…"
      ]
     },
     "metadata": {},
     "output_type": "display_data"
    },
    {
     "data": {
      "application/vnd.jupyter.widget-view+json": {
       "model_id": "",
       "version_major": 2,
       "version_minor": 0
      },
      "text/plain": [
       "HBox(children=(IntProgress(value=0, description='Measurement sweep', max=20000, style=ProgressStyle(descriptio…"
      ]
     },
     "metadata": {},
     "output_type": "display_data"
    },
    {
     "data": {
      "application/vnd.jupyter.widget-view+json": {
       "model_id": "",
       "version_major": 2,
       "version_minor": 0
      },
      "text/plain": [
       "HBox(children=(IntProgress(value=0, description='Equilibrate sweep', style=ProgressStyle(description_width='in…"
      ]
     },
     "metadata": {},
     "output_type": "display_data"
    },
    {
     "data": {
      "application/vnd.jupyter.widget-view+json": {
       "model_id": "",
       "version_major": 2,
       "version_minor": 0
      },
      "text/plain": [
       "HBox(children=(IntProgress(value=0, description='Measurement sweep', max=20000, style=ProgressStyle(descriptio…"
      ]
     },
     "metadata": {},
     "output_type": "display_data"
    },
    {
     "data": {
      "application/vnd.jupyter.widget-view+json": {
       "model_id": "",
       "version_major": 2,
       "version_minor": 0
      },
      "text/plain": [
       "HBox(children=(IntProgress(value=0, description='Equilibrate sweep', style=ProgressStyle(description_width='in…"
      ]
     },
     "metadata": {},
     "output_type": "display_data"
    },
    {
     "data": {
      "application/vnd.jupyter.widget-view+json": {
       "model_id": "",
       "version_major": 2,
       "version_minor": 0
      },
      "text/plain": [
       "HBox(children=(IntProgress(value=0, description='Measurement sweep', max=20000, style=ProgressStyle(descriptio…"
      ]
     },
     "metadata": {},
     "output_type": "display_data"
    },
    {
     "data": {
      "application/vnd.jupyter.widget-view+json": {
       "model_id": "",
       "version_major": 2,
       "version_minor": 0
      },
      "text/plain": [
       "HBox(children=(IntProgress(value=0, description='Col', max=20, style=ProgressStyle(description_width='initial'…"
      ]
     },
     "metadata": {},
     "output_type": "display_data"
    },
    {
     "data": {
      "application/vnd.jupyter.widget-view+json": {
       "model_id": "",
       "version_major": 2,
       "version_minor": 0
      },
      "text/plain": [
       "HBox(children=(IntProgress(value=0, description='Equilibrate sweep', style=ProgressStyle(description_width='in…"
      ]
     },
     "metadata": {},
     "output_type": "display_data"
    },
    {
     "data": {
      "application/vnd.jupyter.widget-view+json": {
       "model_id": "",
       "version_major": 2,
       "version_minor": 0
      },
      "text/plain": [
       "HBox(children=(IntProgress(value=0, description='Measurement sweep', max=20000, style=ProgressStyle(descriptio…"
      ]
     },
     "metadata": {},
     "output_type": "display_data"
    },
    {
     "data": {
      "application/vnd.jupyter.widget-view+json": {
       "model_id": "",
       "version_major": 2,
       "version_minor": 0
      },
      "text/plain": [
       "HBox(children=(IntProgress(value=0, description='Equilibrate sweep', style=ProgressStyle(description_width='in…"
      ]
     },
     "metadata": {},
     "output_type": "display_data"
    },
    {
     "data": {
      "application/vnd.jupyter.widget-view+json": {
       "model_id": "",
       "version_major": 2,
       "version_minor": 0
      },
      "text/plain": [
       "HBox(children=(IntProgress(value=0, description='Measurement sweep', max=20000, style=ProgressStyle(descriptio…"
      ]
     },
     "metadata": {},
     "output_type": "display_data"
    },
    {
     "data": {
      "application/vnd.jupyter.widget-view+json": {
       "model_id": "",
       "version_major": 2,
       "version_minor": 0
      },
      "text/plain": [
       "HBox(children=(IntProgress(value=0, description='Equilibrate sweep', style=ProgressStyle(description_width='in…"
      ]
     },
     "metadata": {},
     "output_type": "display_data"
    },
    {
     "data": {
      "application/vnd.jupyter.widget-view+json": {
       "model_id": "",
       "version_major": 2,
       "version_minor": 0
      },
      "text/plain": [
       "HBox(children=(IntProgress(value=0, description='Measurement sweep', max=20000, style=ProgressStyle(descriptio…"
      ]
     },
     "metadata": {},
     "output_type": "display_data"
    },
    {
     "data": {
      "application/vnd.jupyter.widget-view+json": {
       "model_id": "",
       "version_major": 2,
       "version_minor": 0
      },
      "text/plain": [
       "HBox(children=(IntProgress(value=0, description='Equilibrate sweep', style=ProgressStyle(description_width='in…"
      ]
     },
     "metadata": {},
     "output_type": "display_data"
    },
    {
     "data": {
      "application/vnd.jupyter.widget-view+json": {
       "model_id": "",
       "version_major": 2,
       "version_minor": 0
      },
      "text/plain": [
       "HBox(children=(IntProgress(value=0, description='Measurement sweep', max=20000, style=ProgressStyle(descriptio…"
      ]
     },
     "metadata": {},
     "output_type": "display_data"
    },
    {
     "data": {
      "application/vnd.jupyter.widget-view+json": {
       "model_id": "",
       "version_major": 2,
       "version_minor": 0
      },
      "text/plain": [
       "HBox(children=(IntProgress(value=0, description='Equilibrate sweep', style=ProgressStyle(description_width='in…"
      ]
     },
     "metadata": {},
     "output_type": "display_data"
    },
    {
     "data": {
      "application/vnd.jupyter.widget-view+json": {
       "model_id": "",
       "version_major": 2,
       "version_minor": 0
      },
      "text/plain": [
       "HBox(children=(IntProgress(value=0, description='Measurement sweep', max=20000, style=ProgressStyle(descriptio…"
      ]
     },
     "metadata": {},
     "output_type": "display_data"
    },
    {
     "data": {
      "application/vnd.jupyter.widget-view+json": {
       "model_id": "",
       "version_major": 2,
       "version_minor": 0
      },
      "text/plain": [
       "HBox(children=(IntProgress(value=0, description='Equilibrate sweep', style=ProgressStyle(description_width='in…"
      ]
     },
     "metadata": {},
     "output_type": "display_data"
    },
    {
     "data": {
      "application/vnd.jupyter.widget-view+json": {
       "model_id": "",
       "version_major": 2,
       "version_minor": 0
      },
      "text/plain": [
       "HBox(children=(IntProgress(value=0, description='Measurement sweep', max=20000, style=ProgressStyle(descriptio…"
      ]
     },
     "metadata": {},
     "output_type": "display_data"
    },
    {
     "data": {
      "application/vnd.jupyter.widget-view+json": {
       "model_id": "",
       "version_major": 2,
       "version_minor": 0
      },
      "text/plain": [
       "HBox(children=(IntProgress(value=0, description='Equilibrate sweep', style=ProgressStyle(description_width='in…"
      ]
     },
     "metadata": {},
     "output_type": "display_data"
    },
    {
     "data": {
      "application/vnd.jupyter.widget-view+json": {
       "model_id": "",
       "version_major": 2,
       "version_minor": 0
      },
      "text/plain": [
       "HBox(children=(IntProgress(value=0, description='Measurement sweep', max=20000, style=ProgressStyle(descriptio…"
      ]
     },
     "metadata": {},
     "output_type": "display_data"
    },
    {
     "data": {
      "application/vnd.jupyter.widget-view+json": {
       "model_id": "",
       "version_major": 2,
       "version_minor": 0
      },
      "text/plain": [
       "HBox(children=(IntProgress(value=0, description='Equilibrate sweep', style=ProgressStyle(description_width='in…"
      ]
     },
     "metadata": {},
     "output_type": "display_data"
    },
    {
     "data": {
      "application/vnd.jupyter.widget-view+json": {
       "model_id": "",
       "version_major": 2,
       "version_minor": 0
      },
      "text/plain": [
       "HBox(children=(IntProgress(value=0, description='Measurement sweep', max=20000, style=ProgressStyle(descriptio…"
      ]
     },
     "metadata": {},
     "output_type": "display_data"
    },
    {
     "data": {
      "application/vnd.jupyter.widget-view+json": {
       "model_id": "",
       "version_major": 2,
       "version_minor": 0
      },
      "text/plain": [
       "HBox(children=(IntProgress(value=0, description='Equilibrate sweep', style=ProgressStyle(description_width='in…"
      ]
     },
     "metadata": {},
     "output_type": "display_data"
    },
    {
     "data": {
      "application/vnd.jupyter.widget-view+json": {
       "model_id": "",
       "version_major": 2,
       "version_minor": 0
      },
      "text/plain": [
       "HBox(children=(IntProgress(value=0, description='Measurement sweep', max=20000, style=ProgressStyle(descriptio…"
      ]
     },
     "metadata": {},
     "output_type": "display_data"
    },
    {
     "data": {
      "application/vnd.jupyter.widget-view+json": {
       "model_id": "",
       "version_major": 2,
       "version_minor": 0
      },
      "text/plain": [
       "HBox(children=(IntProgress(value=0, description='Equilibrate sweep', style=ProgressStyle(description_width='in…"
      ]
     },
     "metadata": {},
     "output_type": "display_data"
    },
    {
     "data": {
      "application/vnd.jupyter.widget-view+json": {
       "model_id": "",
       "version_major": 2,
       "version_minor": 0
      },
      "text/plain": [
       "HBox(children=(IntProgress(value=0, description='Measurement sweep', max=20000, style=ProgressStyle(descriptio…"
      ]
     },
     "metadata": {},
     "output_type": "display_data"
    },
    {
     "data": {
      "application/vnd.jupyter.widget-view+json": {
       "model_id": "",
       "version_major": 2,
       "version_minor": 0
      },
      "text/plain": [
       "HBox(children=(IntProgress(value=0, description='Equilibrate sweep', style=ProgressStyle(description_width='in…"
      ]
     },
     "metadata": {},
     "output_type": "display_data"
    },
    {
     "data": {
      "application/vnd.jupyter.widget-view+json": {
       "model_id": "",
       "version_major": 2,
       "version_minor": 0
      },
      "text/plain": [
       "HBox(children=(IntProgress(value=0, description='Measurement sweep', max=20000, style=ProgressStyle(descriptio…"
      ]
     },
     "metadata": {},
     "output_type": "display_data"
    },
    {
     "data": {
      "application/vnd.jupyter.widget-view+json": {
       "model_id": "",
       "version_major": 2,
       "version_minor": 0
      },
      "text/plain": [
       "HBox(children=(IntProgress(value=0, description='Equilibrate sweep', style=ProgressStyle(description_width='in…"
      ]
     },
     "metadata": {},
     "output_type": "display_data"
    },
    {
     "data": {
      "application/vnd.jupyter.widget-view+json": {
       "model_id": "",
       "version_major": 2,
       "version_minor": 0
      },
      "text/plain": [
       "HBox(children=(IntProgress(value=0, description='Measurement sweep', max=20000, style=ProgressStyle(descriptio…"
      ]
     },
     "metadata": {},
     "output_type": "display_data"
    },
    {
     "data": {
      "application/vnd.jupyter.widget-view+json": {
       "model_id": "",
       "version_major": 2,
       "version_minor": 0
      },
      "text/plain": [
       "HBox(children=(IntProgress(value=0, description='Equilibrate sweep', style=ProgressStyle(description_width='in…"
      ]
     },
     "metadata": {},
     "output_type": "display_data"
    },
    {
     "data": {
      "application/vnd.jupyter.widget-view+json": {
       "model_id": "",
       "version_major": 2,
       "version_minor": 0
      },
      "text/plain": [
       "HBox(children=(IntProgress(value=0, description='Measurement sweep', max=20000, style=ProgressStyle(descriptio…"
      ]
     },
     "metadata": {},
     "output_type": "display_data"
    },
    {
     "data": {
      "application/vnd.jupyter.widget-view+json": {
       "model_id": "",
       "version_major": 2,
       "version_minor": 0
      },
      "text/plain": [
       "HBox(children=(IntProgress(value=0, description='Equilibrate sweep', style=ProgressStyle(description_width='in…"
      ]
     },
     "metadata": {},
     "output_type": "display_data"
    },
    {
     "data": {
      "application/vnd.jupyter.widget-view+json": {
       "model_id": "",
       "version_major": 2,
       "version_minor": 0
      },
      "text/plain": [
       "HBox(children=(IntProgress(value=0, description='Measurement sweep', max=20000, style=ProgressStyle(descriptio…"
      ]
     },
     "metadata": {},
     "output_type": "display_data"
    },
    {
     "data": {
      "application/vnd.jupyter.widget-view+json": {
       "model_id": "",
       "version_major": 2,
       "version_minor": 0
      },
      "text/plain": [
       "HBox(children=(IntProgress(value=0, description='Equilibrate sweep', style=ProgressStyle(description_width='in…"
      ]
     },
     "metadata": {},
     "output_type": "display_data"
    },
    {
     "data": {
      "application/vnd.jupyter.widget-view+json": {
       "model_id": "",
       "version_major": 2,
       "version_minor": 0
      },
      "text/plain": [
       "HBox(children=(IntProgress(value=0, description='Measurement sweep', max=20000, style=ProgressStyle(descriptio…"
      ]
     },
     "metadata": {},
     "output_type": "display_data"
    },
    {
     "data": {
      "application/vnd.jupyter.widget-view+json": {
       "model_id": "",
       "version_major": 2,
       "version_minor": 0
      },
      "text/plain": [
       "HBox(children=(IntProgress(value=0, description='Equilibrate sweep', style=ProgressStyle(description_width='in…"
      ]
     },
     "metadata": {},
     "output_type": "display_data"
    },
    {
     "data": {
      "application/vnd.jupyter.widget-view+json": {
       "model_id": "",
       "version_major": 2,
       "version_minor": 0
      },
      "text/plain": [
       "HBox(children=(IntProgress(value=0, description='Measurement sweep', max=20000, style=ProgressStyle(descriptio…"
      ]
     },
     "metadata": {},
     "output_type": "display_data"
    },
    {
     "data": {
      "application/vnd.jupyter.widget-view+json": {
       "model_id": "",
       "version_major": 2,
       "version_minor": 0
      },
      "text/plain": [
       "HBox(children=(IntProgress(value=0, description='Equilibrate sweep', style=ProgressStyle(description_width='in…"
      ]
     },
     "metadata": {},
     "output_type": "display_data"
    },
    {
     "data": {
      "application/vnd.jupyter.widget-view+json": {
       "model_id": "",
       "version_major": 2,
       "version_minor": 0
      },
      "text/plain": [
       "HBox(children=(IntProgress(value=0, description='Measurement sweep', max=20000, style=ProgressStyle(descriptio…"
      ]
     },
     "metadata": {},
     "output_type": "display_data"
    },
    {
     "data": {
      "application/vnd.jupyter.widget-view+json": {
       "model_id": "",
       "version_major": 2,
       "version_minor": 0
      },
      "text/plain": [
       "HBox(children=(IntProgress(value=0, description='Equilibrate sweep', style=ProgressStyle(description_width='in…"
      ]
     },
     "metadata": {},
     "output_type": "display_data"
    },
    {
     "data": {
      "application/vnd.jupyter.widget-view+json": {
       "model_id": "",
       "version_major": 2,
       "version_minor": 0
      },
      "text/plain": [
       "HBox(children=(IntProgress(value=0, description='Measurement sweep', max=20000, style=ProgressStyle(descriptio…"
      ]
     },
     "metadata": {},
     "output_type": "display_data"
    },
    {
     "data": {
      "application/vnd.jupyter.widget-view+json": {
       "model_id": "",
       "version_major": 2,
       "version_minor": 0
      },
      "text/plain": [
       "HBox(children=(IntProgress(value=0, description='Equilibrate sweep', style=ProgressStyle(description_width='in…"
      ]
     },
     "metadata": {},
     "output_type": "display_data"
    },
    {
     "data": {
      "application/vnd.jupyter.widget-view+json": {
       "model_id": "",
       "version_major": 2,
       "version_minor": 0
      },
      "text/plain": [
       "HBox(children=(IntProgress(value=0, description='Measurement sweep', max=20000, style=ProgressStyle(descriptio…"
      ]
     },
     "metadata": {},
     "output_type": "display_data"
    },
    {
     "data": {
      "application/vnd.jupyter.widget-view+json": {
       "model_id": "",
       "version_major": 2,
       "version_minor": 0
      },
      "text/plain": [
       "HBox(children=(IntProgress(value=0, description='Equilibrate sweep', style=ProgressStyle(description_width='in…"
      ]
     },
     "metadata": {},
     "output_type": "display_data"
    },
    {
     "data": {
      "application/vnd.jupyter.widget-view+json": {
       "model_id": "",
       "version_major": 2,
       "version_minor": 0
      },
      "text/plain": [
       "HBox(children=(IntProgress(value=0, description='Measurement sweep', max=20000, style=ProgressStyle(descriptio…"
      ]
     },
     "metadata": {},
     "output_type": "display_data"
    },
    {
     "name": "stdout",
     "output_type": "stream",
     "text": [
      "\r"
     ]
    },
    {
     "data": {
      "application/javascript": [
       "/* Put everything inside the global mpl namespace */\n",
       "window.mpl = {};\n",
       "\n",
       "\n",
       "mpl.get_websocket_type = function() {\n",
       "    if (typeof(WebSocket) !== 'undefined') {\n",
       "        return WebSocket;\n",
       "    } else if (typeof(MozWebSocket) !== 'undefined') {\n",
       "        return MozWebSocket;\n",
       "    } else {\n",
       "        alert('Your browser does not have WebSocket support.' +\n",
       "              'Please try Chrome, Safari or Firefox ≥ 6. ' +\n",
       "              'Firefox 4 and 5 are also supported but you ' +\n",
       "              'have to enable WebSockets in about:config.');\n",
       "    };\n",
       "}\n",
       "\n",
       "mpl.figure = function(figure_id, websocket, ondownload, parent_element) {\n",
       "    this.id = figure_id;\n",
       "\n",
       "    this.ws = websocket;\n",
       "\n",
       "    this.supports_binary = (this.ws.binaryType != undefined);\n",
       "\n",
       "    if (!this.supports_binary) {\n",
       "        var warnings = document.getElementById(\"mpl-warnings\");\n",
       "        if (warnings) {\n",
       "            warnings.style.display = 'block';\n",
       "            warnings.textContent = (\n",
       "                \"This browser does not support binary websocket messages. \" +\n",
       "                    \"Performance may be slow.\");\n",
       "        }\n",
       "    }\n",
       "\n",
       "    this.imageObj = new Image();\n",
       "\n",
       "    this.context = undefined;\n",
       "    this.message = undefined;\n",
       "    this.canvas = undefined;\n",
       "    this.rubberband_canvas = undefined;\n",
       "    this.rubberband_context = undefined;\n",
       "    this.format_dropdown = undefined;\n",
       "\n",
       "    this.image_mode = 'full';\n",
       "\n",
       "    this.root = $('<div/>');\n",
       "    this._root_extra_style(this.root)\n",
       "    this.root.attr('style', 'display: inline-block');\n",
       "\n",
       "    $(parent_element).append(this.root);\n",
       "\n",
       "    this._init_header(this);\n",
       "    this._init_canvas(this);\n",
       "    this._init_toolbar(this);\n",
       "\n",
       "    var fig = this;\n",
       "\n",
       "    this.waiting = false;\n",
       "\n",
       "    this.ws.onopen =  function () {\n",
       "            fig.send_message(\"supports_binary\", {value: fig.supports_binary});\n",
       "            fig.send_message(\"send_image_mode\", {});\n",
       "            if (mpl.ratio != 1) {\n",
       "                fig.send_message(\"set_dpi_ratio\", {'dpi_ratio': mpl.ratio});\n",
       "            }\n",
       "            fig.send_message(\"refresh\", {});\n",
       "        }\n",
       "\n",
       "    this.imageObj.onload = function() {\n",
       "            if (fig.image_mode == 'full') {\n",
       "                // Full images could contain transparency (where diff images\n",
       "                // almost always do), so we need to clear the canvas so that\n",
       "                // there is no ghosting.\n",
       "                fig.context.clearRect(0, 0, fig.canvas.width, fig.canvas.height);\n",
       "            }\n",
       "            fig.context.drawImage(fig.imageObj, 0, 0);\n",
       "        };\n",
       "\n",
       "    this.imageObj.onunload = function() {\n",
       "        fig.ws.close();\n",
       "    }\n",
       "\n",
       "    this.ws.onmessage = this._make_on_message_function(this);\n",
       "\n",
       "    this.ondownload = ondownload;\n",
       "}\n",
       "\n",
       "mpl.figure.prototype._init_header = function() {\n",
       "    var titlebar = $(\n",
       "        '<div class=\"ui-dialog-titlebar ui-widget-header ui-corner-all ' +\n",
       "        'ui-helper-clearfix\"/>');\n",
       "    var titletext = $(\n",
       "        '<div class=\"ui-dialog-title\" style=\"width: 100%; ' +\n",
       "        'text-align: center; padding: 3px;\"/>');\n",
       "    titlebar.append(titletext)\n",
       "    this.root.append(titlebar);\n",
       "    this.header = titletext[0];\n",
       "}\n",
       "\n",
       "\n",
       "\n",
       "mpl.figure.prototype._canvas_extra_style = function(canvas_div) {\n",
       "\n",
       "}\n",
       "\n",
       "\n",
       "mpl.figure.prototype._root_extra_style = function(canvas_div) {\n",
       "\n",
       "}\n",
       "\n",
       "mpl.figure.prototype._init_canvas = function() {\n",
       "    var fig = this;\n",
       "\n",
       "    var canvas_div = $('<div/>');\n",
       "\n",
       "    canvas_div.attr('style', 'position: relative; clear: both; outline: 0');\n",
       "\n",
       "    function canvas_keyboard_event(event) {\n",
       "        return fig.key_event(event, event['data']);\n",
       "    }\n",
       "\n",
       "    canvas_div.keydown('key_press', canvas_keyboard_event);\n",
       "    canvas_div.keyup('key_release', canvas_keyboard_event);\n",
       "    this.canvas_div = canvas_div\n",
       "    this._canvas_extra_style(canvas_div)\n",
       "    this.root.append(canvas_div);\n",
       "\n",
       "    var canvas = $('<canvas/>');\n",
       "    canvas.addClass('mpl-canvas');\n",
       "    canvas.attr('style', \"left: 0; top: 0; z-index: 0; outline: 0\")\n",
       "\n",
       "    this.canvas = canvas[0];\n",
       "    this.context = canvas[0].getContext(\"2d\");\n",
       "\n",
       "    var backingStore = this.context.backingStorePixelRatio ||\n",
       "\tthis.context.webkitBackingStorePixelRatio ||\n",
       "\tthis.context.mozBackingStorePixelRatio ||\n",
       "\tthis.context.msBackingStorePixelRatio ||\n",
       "\tthis.context.oBackingStorePixelRatio ||\n",
       "\tthis.context.backingStorePixelRatio || 1;\n",
       "\n",
       "    mpl.ratio = (window.devicePixelRatio || 1) / backingStore;\n",
       "\n",
       "    var rubberband = $('<canvas/>');\n",
       "    rubberband.attr('style', \"position: absolute; left: 0; top: 0; z-index: 1;\")\n",
       "\n",
       "    var pass_mouse_events = true;\n",
       "\n",
       "    canvas_div.resizable({\n",
       "        start: function(event, ui) {\n",
       "            pass_mouse_events = false;\n",
       "        },\n",
       "        resize: function(event, ui) {\n",
       "            fig.request_resize(ui.size.width, ui.size.height);\n",
       "        },\n",
       "        stop: function(event, ui) {\n",
       "            pass_mouse_events = true;\n",
       "            fig.request_resize(ui.size.width, ui.size.height);\n",
       "        },\n",
       "    });\n",
       "\n",
       "    function mouse_event_fn(event) {\n",
       "        if (pass_mouse_events)\n",
       "            return fig.mouse_event(event, event['data']);\n",
       "    }\n",
       "\n",
       "    rubberband.mousedown('button_press', mouse_event_fn);\n",
       "    rubberband.mouseup('button_release', mouse_event_fn);\n",
       "    // Throttle sequential mouse events to 1 every 20ms.\n",
       "    rubberband.mousemove('motion_notify', mouse_event_fn);\n",
       "\n",
       "    rubberband.mouseenter('figure_enter', mouse_event_fn);\n",
       "    rubberband.mouseleave('figure_leave', mouse_event_fn);\n",
       "\n",
       "    canvas_div.on(\"wheel\", function (event) {\n",
       "        event = event.originalEvent;\n",
       "        event['data'] = 'scroll'\n",
       "        if (event.deltaY < 0) {\n",
       "            event.step = 1;\n",
       "        } else {\n",
       "            event.step = -1;\n",
       "        }\n",
       "        mouse_event_fn(event);\n",
       "    });\n",
       "\n",
       "    canvas_div.append(canvas);\n",
       "    canvas_div.append(rubberband);\n",
       "\n",
       "    this.rubberband = rubberband;\n",
       "    this.rubberband_canvas = rubberband[0];\n",
       "    this.rubberband_context = rubberband[0].getContext(\"2d\");\n",
       "    this.rubberband_context.strokeStyle = \"#000000\";\n",
       "\n",
       "    this._resize_canvas = function(width, height) {\n",
       "        // Keep the size of the canvas, canvas container, and rubber band\n",
       "        // canvas in synch.\n",
       "        canvas_div.css('width', width)\n",
       "        canvas_div.css('height', height)\n",
       "\n",
       "        canvas.attr('width', width * mpl.ratio);\n",
       "        canvas.attr('height', height * mpl.ratio);\n",
       "        canvas.attr('style', 'width: ' + width + 'px; height: ' + height + 'px;');\n",
       "\n",
       "        rubberband.attr('width', width);\n",
       "        rubberband.attr('height', height);\n",
       "    }\n",
       "\n",
       "    // Set the figure to an initial 600x600px, this will subsequently be updated\n",
       "    // upon first draw.\n",
       "    this._resize_canvas(600, 600);\n",
       "\n",
       "    // Disable right mouse context menu.\n",
       "    $(this.rubberband_canvas).bind(\"contextmenu\",function(e){\n",
       "        return false;\n",
       "    });\n",
       "\n",
       "    function set_focus () {\n",
       "        canvas.focus();\n",
       "        canvas_div.focus();\n",
       "    }\n",
       "\n",
       "    window.setTimeout(set_focus, 100);\n",
       "}\n",
       "\n",
       "mpl.figure.prototype._init_toolbar = function() {\n",
       "    var fig = this;\n",
       "\n",
       "    var nav_element = $('<div/>')\n",
       "    nav_element.attr('style', 'width: 100%');\n",
       "    this.root.append(nav_element);\n",
       "\n",
       "    // Define a callback function for later on.\n",
       "    function toolbar_event(event) {\n",
       "        return fig.toolbar_button_onclick(event['data']);\n",
       "    }\n",
       "    function toolbar_mouse_event(event) {\n",
       "        return fig.toolbar_button_onmouseover(event['data']);\n",
       "    }\n",
       "\n",
       "    for(var toolbar_ind in mpl.toolbar_items) {\n",
       "        var name = mpl.toolbar_items[toolbar_ind][0];\n",
       "        var tooltip = mpl.toolbar_items[toolbar_ind][1];\n",
       "        var image = mpl.toolbar_items[toolbar_ind][2];\n",
       "        var method_name = mpl.toolbar_items[toolbar_ind][3];\n",
       "\n",
       "        if (!name) {\n",
       "            // put a spacer in here.\n",
       "            continue;\n",
       "        }\n",
       "        var button = $('<button/>');\n",
       "        button.addClass('ui-button ui-widget ui-state-default ui-corner-all ' +\n",
       "                        'ui-button-icon-only');\n",
       "        button.attr('role', 'button');\n",
       "        button.attr('aria-disabled', 'false');\n",
       "        button.click(method_name, toolbar_event);\n",
       "        button.mouseover(tooltip, toolbar_mouse_event);\n",
       "\n",
       "        var icon_img = $('<span/>');\n",
       "        icon_img.addClass('ui-button-icon-primary ui-icon');\n",
       "        icon_img.addClass(image);\n",
       "        icon_img.addClass('ui-corner-all');\n",
       "\n",
       "        var tooltip_span = $('<span/>');\n",
       "        tooltip_span.addClass('ui-button-text');\n",
       "        tooltip_span.html(tooltip);\n",
       "\n",
       "        button.append(icon_img);\n",
       "        button.append(tooltip_span);\n",
       "\n",
       "        nav_element.append(button);\n",
       "    }\n",
       "\n",
       "    var fmt_picker_span = $('<span/>');\n",
       "\n",
       "    var fmt_picker = $('<select/>');\n",
       "    fmt_picker.addClass('mpl-toolbar-option ui-widget ui-widget-content');\n",
       "    fmt_picker_span.append(fmt_picker);\n",
       "    nav_element.append(fmt_picker_span);\n",
       "    this.format_dropdown = fmt_picker[0];\n",
       "\n",
       "    for (var ind in mpl.extensions) {\n",
       "        var fmt = mpl.extensions[ind];\n",
       "        var option = $(\n",
       "            '<option/>', {selected: fmt === mpl.default_extension}).html(fmt);\n",
       "        fmt_picker.append(option)\n",
       "    }\n",
       "\n",
       "    // Add hover states to the ui-buttons\n",
       "    $( \".ui-button\" ).hover(\n",
       "        function() { $(this).addClass(\"ui-state-hover\");},\n",
       "        function() { $(this).removeClass(\"ui-state-hover\");}\n",
       "    );\n",
       "\n",
       "    var status_bar = $('<span class=\"mpl-message\"/>');\n",
       "    nav_element.append(status_bar);\n",
       "    this.message = status_bar[0];\n",
       "}\n",
       "\n",
       "mpl.figure.prototype.request_resize = function(x_pixels, y_pixels) {\n",
       "    // Request matplotlib to resize the figure. Matplotlib will then trigger a resize in the client,\n",
       "    // which will in turn request a refresh of the image.\n",
       "    this.send_message('resize', {'width': x_pixels, 'height': y_pixels});\n",
       "}\n",
       "\n",
       "mpl.figure.prototype.send_message = function(type, properties) {\n",
       "    properties['type'] = type;\n",
       "    properties['figure_id'] = this.id;\n",
       "    this.ws.send(JSON.stringify(properties));\n",
       "}\n",
       "\n",
       "mpl.figure.prototype.send_draw_message = function() {\n",
       "    if (!this.waiting) {\n",
       "        this.waiting = true;\n",
       "        this.ws.send(JSON.stringify({type: \"draw\", figure_id: this.id}));\n",
       "    }\n",
       "}\n",
       "\n",
       "\n",
       "mpl.figure.prototype.handle_save = function(fig, msg) {\n",
       "    var format_dropdown = fig.format_dropdown;\n",
       "    var format = format_dropdown.options[format_dropdown.selectedIndex].value;\n",
       "    fig.ondownload(fig, format);\n",
       "}\n",
       "\n",
       "\n",
       "mpl.figure.prototype.handle_resize = function(fig, msg) {\n",
       "    var size = msg['size'];\n",
       "    if (size[0] != fig.canvas.width || size[1] != fig.canvas.height) {\n",
       "        fig._resize_canvas(size[0], size[1]);\n",
       "        fig.send_message(\"refresh\", {});\n",
       "    };\n",
       "}\n",
       "\n",
       "mpl.figure.prototype.handle_rubberband = function(fig, msg) {\n",
       "    var x0 = msg['x0'] / mpl.ratio;\n",
       "    var y0 = (fig.canvas.height - msg['y0']) / mpl.ratio;\n",
       "    var x1 = msg['x1'] / mpl.ratio;\n",
       "    var y1 = (fig.canvas.height - msg['y1']) / mpl.ratio;\n",
       "    x0 = Math.floor(x0) + 0.5;\n",
       "    y0 = Math.floor(y0) + 0.5;\n",
       "    x1 = Math.floor(x1) + 0.5;\n",
       "    y1 = Math.floor(y1) + 0.5;\n",
       "    var min_x = Math.min(x0, x1);\n",
       "    var min_y = Math.min(y0, y1);\n",
       "    var width = Math.abs(x1 - x0);\n",
       "    var height = Math.abs(y1 - y0);\n",
       "\n",
       "    fig.rubberband_context.clearRect(\n",
       "        0, 0, fig.canvas.width, fig.canvas.height);\n",
       "\n",
       "    fig.rubberband_context.strokeRect(min_x, min_y, width, height);\n",
       "}\n",
       "\n",
       "mpl.figure.prototype.handle_figure_label = function(fig, msg) {\n",
       "    // Updates the figure title.\n",
       "    fig.header.textContent = msg['label'];\n",
       "}\n",
       "\n",
       "mpl.figure.prototype.handle_cursor = function(fig, msg) {\n",
       "    var cursor = msg['cursor'];\n",
       "    switch(cursor)\n",
       "    {\n",
       "    case 0:\n",
       "        cursor = 'pointer';\n",
       "        break;\n",
       "    case 1:\n",
       "        cursor = 'default';\n",
       "        break;\n",
       "    case 2:\n",
       "        cursor = 'crosshair';\n",
       "        break;\n",
       "    case 3:\n",
       "        cursor = 'move';\n",
       "        break;\n",
       "    }\n",
       "    fig.rubberband_canvas.style.cursor = cursor;\n",
       "}\n",
       "\n",
       "mpl.figure.prototype.handle_message = function(fig, msg) {\n",
       "    fig.message.textContent = msg['message'];\n",
       "}\n",
       "\n",
       "mpl.figure.prototype.handle_draw = function(fig, msg) {\n",
       "    // Request the server to send over a new figure.\n",
       "    fig.send_draw_message();\n",
       "}\n",
       "\n",
       "mpl.figure.prototype.handle_image_mode = function(fig, msg) {\n",
       "    fig.image_mode = msg['mode'];\n",
       "}\n",
       "\n",
       "mpl.figure.prototype.updated_canvas_event = function() {\n",
       "    // Called whenever the canvas gets updated.\n",
       "    this.send_message(\"ack\", {});\n",
       "}\n",
       "\n",
       "// A function to construct a web socket function for onmessage handling.\n",
       "// Called in the figure constructor.\n",
       "mpl.figure.prototype._make_on_message_function = function(fig) {\n",
       "    return function socket_on_message(evt) {\n",
       "        if (evt.data instanceof Blob) {\n",
       "            /* FIXME: We get \"Resource interpreted as Image but\n",
       "             * transferred with MIME type text/plain:\" errors on\n",
       "             * Chrome.  But how to set the MIME type?  It doesn't seem\n",
       "             * to be part of the websocket stream */\n",
       "            evt.data.type = \"image/png\";\n",
       "\n",
       "            /* Free the memory for the previous frames */\n",
       "            if (fig.imageObj.src) {\n",
       "                (window.URL || window.webkitURL).revokeObjectURL(\n",
       "                    fig.imageObj.src);\n",
       "            }\n",
       "\n",
       "            fig.imageObj.src = (window.URL || window.webkitURL).createObjectURL(\n",
       "                evt.data);\n",
       "            fig.updated_canvas_event();\n",
       "            fig.waiting = false;\n",
       "            return;\n",
       "        }\n",
       "        else if (typeof evt.data === 'string' && evt.data.slice(0, 21) == \"data:image/png;base64\") {\n",
       "            fig.imageObj.src = evt.data;\n",
       "            fig.updated_canvas_event();\n",
       "            fig.waiting = false;\n",
       "            return;\n",
       "        }\n",
       "\n",
       "        var msg = JSON.parse(evt.data);\n",
       "        var msg_type = msg['type'];\n",
       "\n",
       "        // Call the  \"handle_{type}\" callback, which takes\n",
       "        // the figure and JSON message as its only arguments.\n",
       "        try {\n",
       "            var callback = fig[\"handle_\" + msg_type];\n",
       "        } catch (e) {\n",
       "            console.log(\"No handler for the '\" + msg_type + \"' message type: \", msg);\n",
       "            return;\n",
       "        }\n",
       "\n",
       "        if (callback) {\n",
       "            try {\n",
       "                // console.log(\"Handling '\" + msg_type + \"' message: \", msg);\n",
       "                callback(fig, msg);\n",
       "            } catch (e) {\n",
       "                console.log(\"Exception inside the 'handler_\" + msg_type + \"' callback:\", e, e.stack, msg);\n",
       "            }\n",
       "        }\n",
       "    };\n",
       "}\n",
       "\n",
       "// from http://stackoverflow.com/questions/1114465/getting-mouse-location-in-canvas\n",
       "mpl.findpos = function(e) {\n",
       "    //this section is from http://www.quirksmode.org/js/events_properties.html\n",
       "    var targ;\n",
       "    if (!e)\n",
       "        e = window.event;\n",
       "    if (e.target)\n",
       "        targ = e.target;\n",
       "    else if (e.srcElement)\n",
       "        targ = e.srcElement;\n",
       "    if (targ.nodeType == 3) // defeat Safari bug\n",
       "        targ = targ.parentNode;\n",
       "\n",
       "    // jQuery normalizes the pageX and pageY\n",
       "    // pageX,Y are the mouse positions relative to the document\n",
       "    // offset() returns the position of the element relative to the document\n",
       "    var x = e.pageX - $(targ).offset().left;\n",
       "    var y = e.pageY - $(targ).offset().top;\n",
       "\n",
       "    return {\"x\": x, \"y\": y};\n",
       "};\n",
       "\n",
       "/*\n",
       " * return a copy of an object with only non-object keys\n",
       " * we need this to avoid circular references\n",
       " * http://stackoverflow.com/a/24161582/3208463\n",
       " */\n",
       "function simpleKeys (original) {\n",
       "  return Object.keys(original).reduce(function (obj, key) {\n",
       "    if (typeof original[key] !== 'object')\n",
       "        obj[key] = original[key]\n",
       "    return obj;\n",
       "  }, {});\n",
       "}\n",
       "\n",
       "mpl.figure.prototype.mouse_event = function(event, name) {\n",
       "    var canvas_pos = mpl.findpos(event)\n",
       "\n",
       "    if (name === 'button_press')\n",
       "    {\n",
       "        this.canvas.focus();\n",
       "        this.canvas_div.focus();\n",
       "    }\n",
       "\n",
       "    var x = canvas_pos.x * mpl.ratio;\n",
       "    var y = canvas_pos.y * mpl.ratio;\n",
       "\n",
       "    this.send_message(name, {x: x, y: y, button: event.button,\n",
       "                             step: event.step,\n",
       "                             guiEvent: simpleKeys(event)});\n",
       "\n",
       "    /* This prevents the web browser from automatically changing to\n",
       "     * the text insertion cursor when the button is pressed.  We want\n",
       "     * to control all of the cursor setting manually through the\n",
       "     * 'cursor' event from matplotlib */\n",
       "    event.preventDefault();\n",
       "    return false;\n",
       "}\n",
       "\n",
       "mpl.figure.prototype._key_event_extra = function(event, name) {\n",
       "    // Handle any extra behaviour associated with a key event\n",
       "}\n",
       "\n",
       "mpl.figure.prototype.key_event = function(event, name) {\n",
       "\n",
       "    // Prevent repeat events\n",
       "    if (name == 'key_press')\n",
       "    {\n",
       "        if (event.which === this._key)\n",
       "            return;\n",
       "        else\n",
       "            this._key = event.which;\n",
       "    }\n",
       "    if (name == 'key_release')\n",
       "        this._key = null;\n",
       "\n",
       "    var value = '';\n",
       "    if (event.ctrlKey && event.which != 17)\n",
       "        value += \"ctrl+\";\n",
       "    if (event.altKey && event.which != 18)\n",
       "        value += \"alt+\";\n",
       "    if (event.shiftKey && event.which != 16)\n",
       "        value += \"shift+\";\n",
       "\n",
       "    value += 'k';\n",
       "    value += event.which.toString();\n",
       "\n",
       "    this._key_event_extra(event, name);\n",
       "\n",
       "    this.send_message(name, {key: value,\n",
       "                             guiEvent: simpleKeys(event)});\n",
       "    return false;\n",
       "}\n",
       "\n",
       "mpl.figure.prototype.toolbar_button_onclick = function(name) {\n",
       "    if (name == 'download') {\n",
       "        this.handle_save(this, null);\n",
       "    } else {\n",
       "        this.send_message(\"toolbar_button\", {name: name});\n",
       "    }\n",
       "};\n",
       "\n",
       "mpl.figure.prototype.toolbar_button_onmouseover = function(tooltip) {\n",
       "    this.message.textContent = tooltip;\n",
       "};\n",
       "mpl.toolbar_items = [[\"Home\", \"Reset original view\", \"fa fa-home icon-home\", \"home\"], [\"Back\", \"Back to previous view\", \"fa fa-arrow-left icon-arrow-left\", \"back\"], [\"Forward\", \"Forward to next view\", \"fa fa-arrow-right icon-arrow-right\", \"forward\"], [\"\", \"\", \"\", \"\"], [\"Pan\", \"Pan axes with left mouse, zoom with right\", \"fa fa-arrows icon-move\", \"pan\"], [\"Zoom\", \"Zoom to rectangle\", \"fa fa-square-o icon-check-empty\", \"zoom\"], [\"\", \"\", \"\", \"\"], [\"Download\", \"Download plot\", \"fa fa-floppy-o icon-save\", \"download\"]];\n",
       "\n",
       "mpl.extensions = [\"eps\", \"jpeg\", \"pdf\", \"png\", \"ps\", \"raw\", \"svg\", \"tif\"];\n",
       "\n",
       "mpl.default_extension = \"png\";var comm_websocket_adapter = function(comm) {\n",
       "    // Create a \"websocket\"-like object which calls the given IPython comm\n",
       "    // object with the appropriate methods. Currently this is a non binary\n",
       "    // socket, so there is still some room for performance tuning.\n",
       "    var ws = {};\n",
       "\n",
       "    ws.close = function() {\n",
       "        comm.close()\n",
       "    };\n",
       "    ws.send = function(m) {\n",
       "        //console.log('sending', m);\n",
       "        comm.send(m);\n",
       "    };\n",
       "    // Register the callback with on_msg.\n",
       "    comm.on_msg(function(msg) {\n",
       "        //console.log('receiving', msg['content']['data'], msg);\n",
       "        // Pass the mpl event to the overridden (by mpl) onmessage function.\n",
       "        ws.onmessage(msg['content']['data'])\n",
       "    });\n",
       "    return ws;\n",
       "}\n",
       "\n",
       "mpl.mpl_figure_comm = function(comm, msg) {\n",
       "    // This is the function which gets called when the mpl process\n",
       "    // starts-up an IPython Comm through the \"matplotlib\" channel.\n",
       "\n",
       "    var id = msg.content.data.id;\n",
       "    // Get hold of the div created by the display call when the Comm\n",
       "    // socket was opened in Python.\n",
       "    var element = $(\"#\" + id);\n",
       "    var ws_proxy = comm_websocket_adapter(comm)\n",
       "\n",
       "    function ondownload(figure, format) {\n",
       "        window.open(figure.imageObj.src);\n",
       "    }\n",
       "\n",
       "    var fig = new mpl.figure(id, ws_proxy,\n",
       "                           ondownload,\n",
       "                           element.get(0));\n",
       "\n",
       "    // Call onopen now - mpl needs it, as it is assuming we've passed it a real\n",
       "    // web socket which is closed, not our websocket->open comm proxy.\n",
       "    ws_proxy.onopen();\n",
       "\n",
       "    fig.parent_element = element.get(0);\n",
       "    fig.cell_info = mpl.find_output_cell(\"<div id='\" + id + \"'></div>\");\n",
       "    if (!fig.cell_info) {\n",
       "        console.error(\"Failed to find cell for figure\", id, fig);\n",
       "        return;\n",
       "    }\n",
       "\n",
       "    var output_index = fig.cell_info[2]\n",
       "    var cell = fig.cell_info[0];\n",
       "\n",
       "};\n",
       "\n",
       "mpl.figure.prototype.handle_close = function(fig, msg) {\n",
       "    var width = fig.canvas.width/mpl.ratio\n",
       "    fig.root.unbind('remove')\n",
       "\n",
       "    // Update the output cell to use the data from the current canvas.\n",
       "    fig.push_to_output();\n",
       "    var dataURL = fig.canvas.toDataURL();\n",
       "    // Re-enable the keyboard manager in IPython - without this line, in FF,\n",
       "    // the notebook keyboard shortcuts fail.\n",
       "    IPython.keyboard_manager.enable()\n",
       "    $(fig.parent_element).html('<img src=\"' + dataURL + '\" width=\"' + width + '\">');\n",
       "    fig.close_ws(fig, msg);\n",
       "}\n",
       "\n",
       "mpl.figure.prototype.close_ws = function(fig, msg){\n",
       "    fig.send_message('closing', msg);\n",
       "    // fig.ws.close()\n",
       "}\n",
       "\n",
       "mpl.figure.prototype.push_to_output = function(remove_interactive) {\n",
       "    // Turn the data on the canvas into data in the output cell.\n",
       "    var width = this.canvas.width/mpl.ratio\n",
       "    var dataURL = this.canvas.toDataURL();\n",
       "    this.cell_info[1]['text/html'] = '<img src=\"' + dataURL + '\" width=\"' + width + '\">';\n",
       "}\n",
       "\n",
       "mpl.figure.prototype.updated_canvas_event = function() {\n",
       "    // Tell IPython that the notebook contents must change.\n",
       "    IPython.notebook.set_dirty(true);\n",
       "    this.send_message(\"ack\", {});\n",
       "    var fig = this;\n",
       "    // Wait a second, then push the new image to the DOM so\n",
       "    // that it is saved nicely (might be nice to debounce this).\n",
       "    setTimeout(function () { fig.push_to_output() }, 1000);\n",
       "}\n",
       "\n",
       "mpl.figure.prototype._init_toolbar = function() {\n",
       "    var fig = this;\n",
       "\n",
       "    var nav_element = $('<div/>')\n",
       "    nav_element.attr('style', 'width: 100%');\n",
       "    this.root.append(nav_element);\n",
       "\n",
       "    // Define a callback function for later on.\n",
       "    function toolbar_event(event) {\n",
       "        return fig.toolbar_button_onclick(event['data']);\n",
       "    }\n",
       "    function toolbar_mouse_event(event) {\n",
       "        return fig.toolbar_button_onmouseover(event['data']);\n",
       "    }\n",
       "\n",
       "    for(var toolbar_ind in mpl.toolbar_items){\n",
       "        var name = mpl.toolbar_items[toolbar_ind][0];\n",
       "        var tooltip = mpl.toolbar_items[toolbar_ind][1];\n",
       "        var image = mpl.toolbar_items[toolbar_ind][2];\n",
       "        var method_name = mpl.toolbar_items[toolbar_ind][3];\n",
       "\n",
       "        if (!name) { continue; };\n",
       "\n",
       "        var button = $('<button class=\"btn btn-default\" href=\"#\" title=\"' + name + '\"><i class=\"fa ' + image + ' fa-lg\"></i></button>');\n",
       "        button.click(method_name, toolbar_event);\n",
       "        button.mouseover(tooltip, toolbar_mouse_event);\n",
       "        nav_element.append(button);\n",
       "    }\n",
       "\n",
       "    // Add the status bar.\n",
       "    var status_bar = $('<span class=\"mpl-message\" style=\"text-align:right; float: right;\"/>');\n",
       "    nav_element.append(status_bar);\n",
       "    this.message = status_bar[0];\n",
       "\n",
       "    // Add the close button to the window.\n",
       "    var buttongrp = $('<div class=\"btn-group inline pull-right\"></div>');\n",
       "    var button = $('<button class=\"btn btn-mini btn-primary\" href=\"#\" title=\"Stop Interaction\"><i class=\"fa fa-power-off icon-remove icon-large\"></i></button>');\n",
       "    button.click(function (evt) { fig.handle_close(fig, {}); } );\n",
       "    button.mouseover('Stop Interaction', toolbar_mouse_event);\n",
       "    buttongrp.append(button);\n",
       "    var titlebar = this.root.find($('.ui-dialog-titlebar'));\n",
       "    titlebar.prepend(buttongrp);\n",
       "}\n",
       "\n",
       "mpl.figure.prototype._root_extra_style = function(el){\n",
       "    var fig = this\n",
       "    el.on(\"remove\", function(){\n",
       "\tfig.close_ws(fig, {});\n",
       "    });\n",
       "}\n",
       "\n",
       "mpl.figure.prototype._canvas_extra_style = function(el){\n",
       "    // this is important to make the div 'focusable\n",
       "    el.attr('tabindex', 0)\n",
       "    // reach out to IPython and tell the keyboard manager to turn it's self\n",
       "    // off when our div gets focus\n",
       "\n",
       "    // location in version 3\n",
       "    if (IPython.notebook.keyboard_manager) {\n",
       "        IPython.notebook.keyboard_manager.register_events(el);\n",
       "    }\n",
       "    else {\n",
       "        // location in version 2\n",
       "        IPython.keyboard_manager.register_events(el);\n",
       "    }\n",
       "\n",
       "}\n",
       "\n",
       "mpl.figure.prototype._key_event_extra = function(event, name) {\n",
       "    var manager = IPython.notebook.keyboard_manager;\n",
       "    if (!manager)\n",
       "        manager = IPython.keyboard_manager;\n",
       "\n",
       "    // Check for shift+enter\n",
       "    if (event.shiftKey && event.which == 13) {\n",
       "        this.canvas_div.blur();\n",
       "        event.shiftKey = false;\n",
       "        // Send a \"J\" for go to next cell\n",
       "        event.which = 74;\n",
       "        event.keyCode = 74;\n",
       "        manager.command_mode();\n",
       "        manager.handle_keydown(event);\n",
       "    }\n",
       "}\n",
       "\n",
       "mpl.figure.prototype.handle_save = function(fig, msg) {\n",
       "    fig.ondownload(fig, null);\n",
       "}\n",
       "\n",
       "\n",
       "mpl.find_output_cell = function(html_output) {\n",
       "    // Return the cell and output element which can be found *uniquely* in the notebook.\n",
       "    // Note - this is a bit hacky, but it is done because the \"notebook_saving.Notebook\"\n",
       "    // IPython event is triggered only after the cells have been serialised, which for\n",
       "    // our purposes (turning an active figure into a static one), is too late.\n",
       "    var cells = IPython.notebook.get_cells();\n",
       "    var ncells = cells.length;\n",
       "    for (var i=0; i<ncells; i++) {\n",
       "        var cell = cells[i];\n",
       "        if (cell.cell_type === 'code'){\n",
       "            for (var j=0; j<cell.output_area.outputs.length; j++) {\n",
       "                var data = cell.output_area.outputs[j];\n",
       "                if (data.data) {\n",
       "                    // IPython >= 3 moved mimebundle to data attribute of output\n",
       "                    data = data.data;\n",
       "                }\n",
       "                if (data['text/html'] == html_output) {\n",
       "                    return [cell, data, j];\n",
       "                }\n",
       "            }\n",
       "        }\n",
       "    }\n",
       "}\n",
       "\n",
       "// Register the function which deals with the matplotlib target/channel.\n",
       "// The kernel may be null if the page has been refreshed.\n",
       "if (IPython.notebook.kernel != null) {\n",
       "    IPython.notebook.kernel.comm_manager.register_target('matplotlib', mpl.mpl_figure_comm);\n",
       "}\n"
      ],
      "text/plain": [
       "<IPython.core.display.Javascript object>"
      ]
     },
     "metadata": {},
     "output_type": "display_data"
    },
    {
     "data": {
      "text/html": [
       "<img src=\"data:image/png;base64,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\" width=\"640\">"
      ],
      "text/plain": [
       "<IPython.core.display.HTML object>"
      ]
     },
     "metadata": {},
     "output_type": "display_data"
    }
   ],
   "source": [
    "%matplotlib notebook\n",
    "sir_model.variance()"
   ]
  },
  {
   "cell_type": "markdown",
   "metadata": {},
   "source": [
    "#### Initilisation Model 2 (Cut for Wave Variance)"
   ]
  },
  {
   "cell_type": "code",
   "execution_count": 7,
   "metadata": {},
   "outputs": [],
   "source": [
    "N           = 20                            # lattice size\n",
    "p1, p2, p3  = 0.05, 0.5, 0.5                # p for visualisation\n",
    "S0, I0, R0  = 0.5, 0.3, 0.2                 # initial fraction of S, I, R\n",
    "equistep    = 100                           # equilibrate sweep\n",
    "calcstep    = 20000                         # measurement sweep\n",
    "factor      = int(calcstep/10)              # because of 'if (j%10 == 0):' in 'analyse' fn\n",
    "\n",
    "p = [p1, p2, p3]\n",
    "fraction = [S0, I0, R0]\n",
    "\n",
    "np.random.seed(0)\n",
    "sir_model_2 = ca_utils_cy.SIR(N, fraction, p, factor, equistep, calcstep)"
   ]
  },
  {
   "cell_type": "markdown",
   "metadata": {},
   "source": [
    "- Method behavior\n",
    "    - Cut for Wave Variance\n",
    "    - Wave cut observed to be for p1 > ~0.15 with p2, p3 = 0.5"
   ]
  },
  {
   "cell_type": "code",
   "execution_count": 8,
   "metadata": {
    "scrolled": true
   },
   "outputs": [
    {
     "data": {
      "application/vnd.jupyter.widget-view+json": {
       "model_id": "",
       "version_major": 2,
       "version_minor": 0
      },
      "text/plain": [
       "HBox(children=(IntProgress(value=1, bar_style='info', description='Col', max=1, style=ProgressStyle(descriptio…"
      ]
     },
     "metadata": {},
     "output_type": "display_data"
    },
    {
     "data": {
      "application/vnd.jupyter.widget-view+json": {
       "model_id": "",
       "version_major": 2,
       "version_minor": 0
      },
      "text/plain": [
       "HBox(children=(IntProgress(value=0, description='Equilibrate sweep', style=ProgressStyle(description_width='in…"
      ]
     },
     "metadata": {},
     "output_type": "display_data"
    },
    {
     "data": {
      "application/vnd.jupyter.widget-view+json": {
       "model_id": "",
       "version_major": 2,
       "version_minor": 0
      },
      "text/plain": [
       "HBox(children=(IntProgress(value=0, description='Measurement sweep', max=20000, style=ProgressStyle(descriptio…"
      ]
     },
     "metadata": {},
     "output_type": "display_data"
    },
    {
     "data": {
      "application/vnd.jupyter.widget-view+json": {
       "model_id": "",
       "version_major": 2,
       "version_minor": 0
      },
      "text/plain": [
       "HBox(children=(IntProgress(value=0, description='Equilibrate sweep', style=ProgressStyle(description_width='in…"
      ]
     },
     "metadata": {},
     "output_type": "display_data"
    },
    {
     "data": {
      "application/vnd.jupyter.widget-view+json": {
       "model_id": "",
       "version_major": 2,
       "version_minor": 0
      },
      "text/plain": [
       "HBox(children=(IntProgress(value=0, description='Measurement sweep', max=20000, style=ProgressStyle(descriptio…"
      ]
     },
     "metadata": {},
     "output_type": "display_data"
    },
    {
     "data": {
      "application/vnd.jupyter.widget-view+json": {
       "model_id": "",
       "version_major": 2,
       "version_minor": 0
      },
      "text/plain": [
       "HBox(children=(IntProgress(value=0, description='Equilibrate sweep', style=ProgressStyle(description_width='in…"
      ]
     },
     "metadata": {},
     "output_type": "display_data"
    },
    {
     "data": {
      "application/vnd.jupyter.widget-view+json": {
       "model_id": "",
       "version_major": 2,
       "version_minor": 0
      },
      "text/plain": [
       "HBox(children=(IntProgress(value=0, description='Measurement sweep', max=20000, style=ProgressStyle(descriptio…"
      ]
     },
     "metadata": {},
     "output_type": "display_data"
    },
    {
     "data": {
      "application/vnd.jupyter.widget-view+json": {
       "model_id": "",
       "version_major": 2,
       "version_minor": 0
      },
      "text/plain": [
       "HBox(children=(IntProgress(value=0, description='Equilibrate sweep', style=ProgressStyle(description_width='in…"
      ]
     },
     "metadata": {},
     "output_type": "display_data"
    },
    {
     "data": {
      "application/vnd.jupyter.widget-view+json": {
       "model_id": "",
       "version_major": 2,
       "version_minor": 0
      },
      "text/plain": [
       "HBox(children=(IntProgress(value=0, description='Measurement sweep', max=20000, style=ProgressStyle(descriptio…"
      ]
     },
     "metadata": {},
     "output_type": "display_data"
    },
    {
     "data": {
      "application/vnd.jupyter.widget-view+json": {
       "model_id": "",
       "version_major": 2,
       "version_minor": 0
      },
      "text/plain": [
       "HBox(children=(IntProgress(value=0, description='Equilibrate sweep', style=ProgressStyle(description_width='in…"
      ]
     },
     "metadata": {},
     "output_type": "display_data"
    },
    {
     "data": {
      "application/vnd.jupyter.widget-view+json": {
       "model_id": "",
       "version_major": 2,
       "version_minor": 0
      },
      "text/plain": [
       "HBox(children=(IntProgress(value=0, description='Measurement sweep', max=20000, style=ProgressStyle(descriptio…"
      ]
     },
     "metadata": {},
     "output_type": "display_data"
    },
    {
     "data": {
      "application/vnd.jupyter.widget-view+json": {
       "model_id": "",
       "version_major": 2,
       "version_minor": 0
      },
      "text/plain": [
       "HBox(children=(IntProgress(value=0, description='Equilibrate sweep', style=ProgressStyle(description_width='in…"
      ]
     },
     "metadata": {},
     "output_type": "display_data"
    },
    {
     "data": {
      "application/vnd.jupyter.widget-view+json": {
       "model_id": "",
       "version_major": 2,
       "version_minor": 0
      },
      "text/plain": [
       "HBox(children=(IntProgress(value=0, description='Measurement sweep', max=20000, style=ProgressStyle(descriptio…"
      ]
     },
     "metadata": {},
     "output_type": "display_data"
    },
    {
     "data": {
      "application/vnd.jupyter.widget-view+json": {
       "model_id": "",
       "version_major": 2,
       "version_minor": 0
      },
      "text/plain": [
       "HBox(children=(IntProgress(value=0, description='Equilibrate sweep', style=ProgressStyle(description_width='in…"
      ]
     },
     "metadata": {},
     "output_type": "display_data"
    },
    {
     "data": {
      "application/vnd.jupyter.widget-view+json": {
       "model_id": "",
       "version_major": 2,
       "version_minor": 0
      },
      "text/plain": [
       "HBox(children=(IntProgress(value=0, description='Measurement sweep', max=20000, style=ProgressStyle(descriptio…"
      ]
     },
     "metadata": {},
     "output_type": "display_data"
    },
    {
     "data": {
      "application/vnd.jupyter.widget-view+json": {
       "model_id": "",
       "version_major": 2,
       "version_minor": 0
      },
      "text/plain": [
       "HBox(children=(IntProgress(value=0, description='Equilibrate sweep', style=ProgressStyle(description_width='in…"
      ]
     },
     "metadata": {},
     "output_type": "display_data"
    },
    {
     "data": {
      "application/vnd.jupyter.widget-view+json": {
       "model_id": "",
       "version_major": 2,
       "version_minor": 0
      },
      "text/plain": [
       "HBox(children=(IntProgress(value=0, description='Measurement sweep', max=20000, style=ProgressStyle(descriptio…"
      ]
     },
     "metadata": {},
     "output_type": "display_data"
    },
    {
     "data": {
      "application/vnd.jupyter.widget-view+json": {
       "model_id": "",
       "version_major": 2,
       "version_minor": 0
      },
      "text/plain": [
       "HBox(children=(IntProgress(value=0, description='Equilibrate sweep', style=ProgressStyle(description_width='in…"
      ]
     },
     "metadata": {},
     "output_type": "display_data"
    },
    {
     "data": {
      "application/vnd.jupyter.widget-view+json": {
       "model_id": "",
       "version_major": 2,
       "version_minor": 0
      },
      "text/plain": [
       "HBox(children=(IntProgress(value=0, description='Measurement sweep', max=20000, style=ProgressStyle(descriptio…"
      ]
     },
     "metadata": {},
     "output_type": "display_data"
    },
    {
     "data": {
      "application/vnd.jupyter.widget-view+json": {
       "model_id": "",
       "version_major": 2,
       "version_minor": 0
      },
      "text/plain": [
       "HBox(children=(IntProgress(value=0, description='Equilibrate sweep', style=ProgressStyle(description_width='in…"
      ]
     },
     "metadata": {},
     "output_type": "display_data"
    },
    {
     "data": {
      "application/vnd.jupyter.widget-view+json": {
       "model_id": "",
       "version_major": 2,
       "version_minor": 0
      },
      "text/plain": [
       "HBox(children=(IntProgress(value=0, description='Measurement sweep', max=20000, style=ProgressStyle(descriptio…"
      ]
     },
     "metadata": {},
     "output_type": "display_data"
    },
    {
     "data": {
      "application/vnd.jupyter.widget-view+json": {
       "model_id": "",
       "version_major": 2,
       "version_minor": 0
      },
      "text/plain": [
       "HBox(children=(IntProgress(value=0, description='Equilibrate sweep', style=ProgressStyle(description_width='in…"
      ]
     },
     "metadata": {},
     "output_type": "display_data"
    },
    {
     "data": {
      "application/vnd.jupyter.widget-view+json": {
       "model_id": "",
       "version_major": 2,
       "version_minor": 0
      },
      "text/plain": [
       "HBox(children=(IntProgress(value=0, description='Measurement sweep', max=20000, style=ProgressStyle(descriptio…"
      ]
     },
     "metadata": {},
     "output_type": "display_data"
    },
    {
     "data": {
      "application/vnd.jupyter.widget-view+json": {
       "model_id": "",
       "version_major": 2,
       "version_minor": 0
      },
      "text/plain": [
       "HBox(children=(IntProgress(value=0, description='Equilibrate sweep', style=ProgressStyle(description_width='in…"
      ]
     },
     "metadata": {},
     "output_type": "display_data"
    },
    {
     "data": {
      "application/vnd.jupyter.widget-view+json": {
       "model_id": "",
       "version_major": 2,
       "version_minor": 0
      },
      "text/plain": [
       "HBox(children=(IntProgress(value=0, description='Measurement sweep', max=20000, style=ProgressStyle(descriptio…"
      ]
     },
     "metadata": {},
     "output_type": "display_data"
    },
    {
     "data": {
      "application/vnd.jupyter.widget-view+json": {
       "model_id": "",
       "version_major": 2,
       "version_minor": 0
      },
      "text/plain": [
       "HBox(children=(IntProgress(value=0, description='Equilibrate sweep', style=ProgressStyle(description_width='in…"
      ]
     },
     "metadata": {},
     "output_type": "display_data"
    },
    {
     "data": {
      "application/vnd.jupyter.widget-view+json": {
       "model_id": "",
       "version_major": 2,
       "version_minor": 0
      },
      "text/plain": [
       "HBox(children=(IntProgress(value=0, description='Measurement sweep', max=20000, style=ProgressStyle(descriptio…"
      ]
     },
     "metadata": {},
     "output_type": "display_data"
    },
    {
     "data": {
      "application/vnd.jupyter.widget-view+json": {
       "model_id": "",
       "version_major": 2,
       "version_minor": 0
      },
      "text/plain": [
       "HBox(children=(IntProgress(value=0, description='Equilibrate sweep', style=ProgressStyle(description_width='in…"
      ]
     },
     "metadata": {},
     "output_type": "display_data"
    },
    {
     "data": {
      "application/vnd.jupyter.widget-view+json": {
       "model_id": "",
       "version_major": 2,
       "version_minor": 0
      },
      "text/plain": [
       "HBox(children=(IntProgress(value=0, description='Measurement sweep', max=20000, style=ProgressStyle(descriptio…"
      ]
     },
     "metadata": {},
     "output_type": "display_data"
    },
    {
     "data": {
      "application/vnd.jupyter.widget-view+json": {
       "model_id": "",
       "version_major": 2,
       "version_minor": 0
      },
      "text/plain": [
       "HBox(children=(IntProgress(value=0, description='Equilibrate sweep', style=ProgressStyle(description_width='in…"
      ]
     },
     "metadata": {},
     "output_type": "display_data"
    },
    {
     "data": {
      "application/vnd.jupyter.widget-view+json": {
       "model_id": "",
       "version_major": 2,
       "version_minor": 0
      },
      "text/plain": [
       "HBox(children=(IntProgress(value=0, description='Measurement sweep', max=20000, style=ProgressStyle(descriptio…"
      ]
     },
     "metadata": {},
     "output_type": "display_data"
    },
    {
     "data": {
      "application/vnd.jupyter.widget-view+json": {
       "model_id": "",
       "version_major": 2,
       "version_minor": 0
      },
      "text/plain": [
       "HBox(children=(IntProgress(value=0, description='Equilibrate sweep', style=ProgressStyle(description_width='in…"
      ]
     },
     "metadata": {},
     "output_type": "display_data"
    },
    {
     "data": {
      "application/vnd.jupyter.widget-view+json": {
       "model_id": "",
       "version_major": 2,
       "version_minor": 0
      },
      "text/plain": [
       "HBox(children=(IntProgress(value=0, description='Measurement sweep', max=20000, style=ProgressStyle(descriptio…"
      ]
     },
     "metadata": {},
     "output_type": "display_data"
    },
    {
     "data": {
      "application/vnd.jupyter.widget-view+json": {
       "model_id": "",
       "version_major": 2,
       "version_minor": 0
      },
      "text/plain": [
       "HBox(children=(IntProgress(value=0, description='Equilibrate sweep', style=ProgressStyle(description_width='in…"
      ]
     },
     "metadata": {},
     "output_type": "display_data"
    },
    {
     "data": {
      "application/vnd.jupyter.widget-view+json": {
       "model_id": "",
       "version_major": 2,
       "version_minor": 0
      },
      "text/plain": [
       "HBox(children=(IntProgress(value=0, description='Measurement sweep', max=20000, style=ProgressStyle(descriptio…"
      ]
     },
     "metadata": {},
     "output_type": "display_data"
    },
    {
     "data": {
      "application/vnd.jupyter.widget-view+json": {
       "model_id": "",
       "version_major": 2,
       "version_minor": 0
      },
      "text/plain": [
       "HBox(children=(IntProgress(value=0, description='Equilibrate sweep', style=ProgressStyle(description_width='in…"
      ]
     },
     "metadata": {},
     "output_type": "display_data"
    },
    {
     "data": {
      "application/vnd.jupyter.widget-view+json": {
       "model_id": "",
       "version_major": 2,
       "version_minor": 0
      },
      "text/plain": [
       "HBox(children=(IntProgress(value=0, description='Measurement sweep', max=20000, style=ProgressStyle(descriptio…"
      ]
     },
     "metadata": {},
     "output_type": "display_data"
    },
    {
     "data": {
      "application/vnd.jupyter.widget-view+json": {
       "model_id": "",
       "version_major": 2,
       "version_minor": 0
      },
      "text/plain": [
       "HBox(children=(IntProgress(value=0, description='Equilibrate sweep', style=ProgressStyle(description_width='in…"
      ]
     },
     "metadata": {},
     "output_type": "display_data"
    },
    {
     "data": {
      "application/vnd.jupyter.widget-view+json": {
       "model_id": "",
       "version_major": 2,
       "version_minor": 0
      },
      "text/plain": [
       "HBox(children=(IntProgress(value=0, description='Measurement sweep', max=20000, style=ProgressStyle(descriptio…"
      ]
     },
     "metadata": {},
     "output_type": "display_data"
    },
    {
     "data": {
      "application/vnd.jupyter.widget-view+json": {
       "model_id": "",
       "version_major": 2,
       "version_minor": 0
      },
      "text/plain": [
       "HBox(children=(IntProgress(value=0, description='Equilibrate sweep', style=ProgressStyle(description_width='in…"
      ]
     },
     "metadata": {},
     "output_type": "display_data"
    },
    {
     "data": {
      "application/vnd.jupyter.widget-view+json": {
       "model_id": "",
       "version_major": 2,
       "version_minor": 0
      },
      "text/plain": [
       "HBox(children=(IntProgress(value=0, description='Measurement sweep', max=20000, style=ProgressStyle(descriptio…"
      ]
     },
     "metadata": {},
     "output_type": "display_data"
    },
    {
     "name": "stdout",
     "output_type": "stream",
     "text": [
      "\r"
     ]
    },
    {
     "data": {
      "application/javascript": [
       "/* Put everything inside the global mpl namespace */\n",
       "window.mpl = {};\n",
       "\n",
       "\n",
       "mpl.get_websocket_type = function() {\n",
       "    if (typeof(WebSocket) !== 'undefined') {\n",
       "        return WebSocket;\n",
       "    } else if (typeof(MozWebSocket) !== 'undefined') {\n",
       "        return MozWebSocket;\n",
       "    } else {\n",
       "        alert('Your browser does not have WebSocket support.' +\n",
       "              'Please try Chrome, Safari or Firefox ≥ 6. ' +\n",
       "              'Firefox 4 and 5 are also supported but you ' +\n",
       "              'have to enable WebSockets in about:config.');\n",
       "    };\n",
       "}\n",
       "\n",
       "mpl.figure = function(figure_id, websocket, ondownload, parent_element) {\n",
       "    this.id = figure_id;\n",
       "\n",
       "    this.ws = websocket;\n",
       "\n",
       "    this.supports_binary = (this.ws.binaryType != undefined);\n",
       "\n",
       "    if (!this.supports_binary) {\n",
       "        var warnings = document.getElementById(\"mpl-warnings\");\n",
       "        if (warnings) {\n",
       "            warnings.style.display = 'block';\n",
       "            warnings.textContent = (\n",
       "                \"This browser does not support binary websocket messages. \" +\n",
       "                    \"Performance may be slow.\");\n",
       "        }\n",
       "    }\n",
       "\n",
       "    this.imageObj = new Image();\n",
       "\n",
       "    this.context = undefined;\n",
       "    this.message = undefined;\n",
       "    this.canvas = undefined;\n",
       "    this.rubberband_canvas = undefined;\n",
       "    this.rubberband_context = undefined;\n",
       "    this.format_dropdown = undefined;\n",
       "\n",
       "    this.image_mode = 'full';\n",
       "\n",
       "    this.root = $('<div/>');\n",
       "    this._root_extra_style(this.root)\n",
       "    this.root.attr('style', 'display: inline-block');\n",
       "\n",
       "    $(parent_element).append(this.root);\n",
       "\n",
       "    this._init_header(this);\n",
       "    this._init_canvas(this);\n",
       "    this._init_toolbar(this);\n",
       "\n",
       "    var fig = this;\n",
       "\n",
       "    this.waiting = false;\n",
       "\n",
       "    this.ws.onopen =  function () {\n",
       "            fig.send_message(\"supports_binary\", {value: fig.supports_binary});\n",
       "            fig.send_message(\"send_image_mode\", {});\n",
       "            if (mpl.ratio != 1) {\n",
       "                fig.send_message(\"set_dpi_ratio\", {'dpi_ratio': mpl.ratio});\n",
       "            }\n",
       "            fig.send_message(\"refresh\", {});\n",
       "        }\n",
       "\n",
       "    this.imageObj.onload = function() {\n",
       "            if (fig.image_mode == 'full') {\n",
       "                // Full images could contain transparency (where diff images\n",
       "                // almost always do), so we need to clear the canvas so that\n",
       "                // there is no ghosting.\n",
       "                fig.context.clearRect(0, 0, fig.canvas.width, fig.canvas.height);\n",
       "            }\n",
       "            fig.context.drawImage(fig.imageObj, 0, 0);\n",
       "        };\n",
       "\n",
       "    this.imageObj.onunload = function() {\n",
       "        fig.ws.close();\n",
       "    }\n",
       "\n",
       "    this.ws.onmessage = this._make_on_message_function(this);\n",
       "\n",
       "    this.ondownload = ondownload;\n",
       "}\n",
       "\n",
       "mpl.figure.prototype._init_header = function() {\n",
       "    var titlebar = $(\n",
       "        '<div class=\"ui-dialog-titlebar ui-widget-header ui-corner-all ' +\n",
       "        'ui-helper-clearfix\"/>');\n",
       "    var titletext = $(\n",
       "        '<div class=\"ui-dialog-title\" style=\"width: 100%; ' +\n",
       "        'text-align: center; padding: 3px;\"/>');\n",
       "    titlebar.append(titletext)\n",
       "    this.root.append(titlebar);\n",
       "    this.header = titletext[0];\n",
       "}\n",
       "\n",
       "\n",
       "\n",
       "mpl.figure.prototype._canvas_extra_style = function(canvas_div) {\n",
       "\n",
       "}\n",
       "\n",
       "\n",
       "mpl.figure.prototype._root_extra_style = function(canvas_div) {\n",
       "\n",
       "}\n",
       "\n",
       "mpl.figure.prototype._init_canvas = function() {\n",
       "    var fig = this;\n",
       "\n",
       "    var canvas_div = $('<div/>');\n",
       "\n",
       "    canvas_div.attr('style', 'position: relative; clear: both; outline: 0');\n",
       "\n",
       "    function canvas_keyboard_event(event) {\n",
       "        return fig.key_event(event, event['data']);\n",
       "    }\n",
       "\n",
       "    canvas_div.keydown('key_press', canvas_keyboard_event);\n",
       "    canvas_div.keyup('key_release', canvas_keyboard_event);\n",
       "    this.canvas_div = canvas_div\n",
       "    this._canvas_extra_style(canvas_div)\n",
       "    this.root.append(canvas_div);\n",
       "\n",
       "    var canvas = $('<canvas/>');\n",
       "    canvas.addClass('mpl-canvas');\n",
       "    canvas.attr('style', \"left: 0; top: 0; z-index: 0; outline: 0\")\n",
       "\n",
       "    this.canvas = canvas[0];\n",
       "    this.context = canvas[0].getContext(\"2d\");\n",
       "\n",
       "    var backingStore = this.context.backingStorePixelRatio ||\n",
       "\tthis.context.webkitBackingStorePixelRatio ||\n",
       "\tthis.context.mozBackingStorePixelRatio ||\n",
       "\tthis.context.msBackingStorePixelRatio ||\n",
       "\tthis.context.oBackingStorePixelRatio ||\n",
       "\tthis.context.backingStorePixelRatio || 1;\n",
       "\n",
       "    mpl.ratio = (window.devicePixelRatio || 1) / backingStore;\n",
       "\n",
       "    var rubberband = $('<canvas/>');\n",
       "    rubberband.attr('style', \"position: absolute; left: 0; top: 0; z-index: 1;\")\n",
       "\n",
       "    var pass_mouse_events = true;\n",
       "\n",
       "    canvas_div.resizable({\n",
       "        start: function(event, ui) {\n",
       "            pass_mouse_events = false;\n",
       "        },\n",
       "        resize: function(event, ui) {\n",
       "            fig.request_resize(ui.size.width, ui.size.height);\n",
       "        },\n",
       "        stop: function(event, ui) {\n",
       "            pass_mouse_events = true;\n",
       "            fig.request_resize(ui.size.width, ui.size.height);\n",
       "        },\n",
       "    });\n",
       "\n",
       "    function mouse_event_fn(event) {\n",
       "        if (pass_mouse_events)\n",
       "            return fig.mouse_event(event, event['data']);\n",
       "    }\n",
       "\n",
       "    rubberband.mousedown('button_press', mouse_event_fn);\n",
       "    rubberband.mouseup('button_release', mouse_event_fn);\n",
       "    // Throttle sequential mouse events to 1 every 20ms.\n",
       "    rubberband.mousemove('motion_notify', mouse_event_fn);\n",
       "\n",
       "    rubberband.mouseenter('figure_enter', mouse_event_fn);\n",
       "    rubberband.mouseleave('figure_leave', mouse_event_fn);\n",
       "\n",
       "    canvas_div.on(\"wheel\", function (event) {\n",
       "        event = event.originalEvent;\n",
       "        event['data'] = 'scroll'\n",
       "        if (event.deltaY < 0) {\n",
       "            event.step = 1;\n",
       "        } else {\n",
       "            event.step = -1;\n",
       "        }\n",
       "        mouse_event_fn(event);\n",
       "    });\n",
       "\n",
       "    canvas_div.append(canvas);\n",
       "    canvas_div.append(rubberband);\n",
       "\n",
       "    this.rubberband = rubberband;\n",
       "    this.rubberband_canvas = rubberband[0];\n",
       "    this.rubberband_context = rubberband[0].getContext(\"2d\");\n",
       "    this.rubberband_context.strokeStyle = \"#000000\";\n",
       "\n",
       "    this._resize_canvas = function(width, height) {\n",
       "        // Keep the size of the canvas, canvas container, and rubber band\n",
       "        // canvas in synch.\n",
       "        canvas_div.css('width', width)\n",
       "        canvas_div.css('height', height)\n",
       "\n",
       "        canvas.attr('width', width * mpl.ratio);\n",
       "        canvas.attr('height', height * mpl.ratio);\n",
       "        canvas.attr('style', 'width: ' + width + 'px; height: ' + height + 'px;');\n",
       "\n",
       "        rubberband.attr('width', width);\n",
       "        rubberband.attr('height', height);\n",
       "    }\n",
       "\n",
       "    // Set the figure to an initial 600x600px, this will subsequently be updated\n",
       "    // upon first draw.\n",
       "    this._resize_canvas(600, 600);\n",
       "\n",
       "    // Disable right mouse context menu.\n",
       "    $(this.rubberband_canvas).bind(\"contextmenu\",function(e){\n",
       "        return false;\n",
       "    });\n",
       "\n",
       "    function set_focus () {\n",
       "        canvas.focus();\n",
       "        canvas_div.focus();\n",
       "    }\n",
       "\n",
       "    window.setTimeout(set_focus, 100);\n",
       "}\n",
       "\n",
       "mpl.figure.prototype._init_toolbar = function() {\n",
       "    var fig = this;\n",
       "\n",
       "    var nav_element = $('<div/>')\n",
       "    nav_element.attr('style', 'width: 100%');\n",
       "    this.root.append(nav_element);\n",
       "\n",
       "    // Define a callback function for later on.\n",
       "    function toolbar_event(event) {\n",
       "        return fig.toolbar_button_onclick(event['data']);\n",
       "    }\n",
       "    function toolbar_mouse_event(event) {\n",
       "        return fig.toolbar_button_onmouseover(event['data']);\n",
       "    }\n",
       "\n",
       "    for(var toolbar_ind in mpl.toolbar_items) {\n",
       "        var name = mpl.toolbar_items[toolbar_ind][0];\n",
       "        var tooltip = mpl.toolbar_items[toolbar_ind][1];\n",
       "        var image = mpl.toolbar_items[toolbar_ind][2];\n",
       "        var method_name = mpl.toolbar_items[toolbar_ind][3];\n",
       "\n",
       "        if (!name) {\n",
       "            // put a spacer in here.\n",
       "            continue;\n",
       "        }\n",
       "        var button = $('<button/>');\n",
       "        button.addClass('ui-button ui-widget ui-state-default ui-corner-all ' +\n",
       "                        'ui-button-icon-only');\n",
       "        button.attr('role', 'button');\n",
       "        button.attr('aria-disabled', 'false');\n",
       "        button.click(method_name, toolbar_event);\n",
       "        button.mouseover(tooltip, toolbar_mouse_event);\n",
       "\n",
       "        var icon_img = $('<span/>');\n",
       "        icon_img.addClass('ui-button-icon-primary ui-icon');\n",
       "        icon_img.addClass(image);\n",
       "        icon_img.addClass('ui-corner-all');\n",
       "\n",
       "        var tooltip_span = $('<span/>');\n",
       "        tooltip_span.addClass('ui-button-text');\n",
       "        tooltip_span.html(tooltip);\n",
       "\n",
       "        button.append(icon_img);\n",
       "        button.append(tooltip_span);\n",
       "\n",
       "        nav_element.append(button);\n",
       "    }\n",
       "\n",
       "    var fmt_picker_span = $('<span/>');\n",
       "\n",
       "    var fmt_picker = $('<select/>');\n",
       "    fmt_picker.addClass('mpl-toolbar-option ui-widget ui-widget-content');\n",
       "    fmt_picker_span.append(fmt_picker);\n",
       "    nav_element.append(fmt_picker_span);\n",
       "    this.format_dropdown = fmt_picker[0];\n",
       "\n",
       "    for (var ind in mpl.extensions) {\n",
       "        var fmt = mpl.extensions[ind];\n",
       "        var option = $(\n",
       "            '<option/>', {selected: fmt === mpl.default_extension}).html(fmt);\n",
       "        fmt_picker.append(option)\n",
       "    }\n",
       "\n",
       "    // Add hover states to the ui-buttons\n",
       "    $( \".ui-button\" ).hover(\n",
       "        function() { $(this).addClass(\"ui-state-hover\");},\n",
       "        function() { $(this).removeClass(\"ui-state-hover\");}\n",
       "    );\n",
       "\n",
       "    var status_bar = $('<span class=\"mpl-message\"/>');\n",
       "    nav_element.append(status_bar);\n",
       "    this.message = status_bar[0];\n",
       "}\n",
       "\n",
       "mpl.figure.prototype.request_resize = function(x_pixels, y_pixels) {\n",
       "    // Request matplotlib to resize the figure. Matplotlib will then trigger a resize in the client,\n",
       "    // which will in turn request a refresh of the image.\n",
       "    this.send_message('resize', {'width': x_pixels, 'height': y_pixels});\n",
       "}\n",
       "\n",
       "mpl.figure.prototype.send_message = function(type, properties) {\n",
       "    properties['type'] = type;\n",
       "    properties['figure_id'] = this.id;\n",
       "    this.ws.send(JSON.stringify(properties));\n",
       "}\n",
       "\n",
       "mpl.figure.prototype.send_draw_message = function() {\n",
       "    if (!this.waiting) {\n",
       "        this.waiting = true;\n",
       "        this.ws.send(JSON.stringify({type: \"draw\", figure_id: this.id}));\n",
       "    }\n",
       "}\n",
       "\n",
       "\n",
       "mpl.figure.prototype.handle_save = function(fig, msg) {\n",
       "    var format_dropdown = fig.format_dropdown;\n",
       "    var format = format_dropdown.options[format_dropdown.selectedIndex].value;\n",
       "    fig.ondownload(fig, format);\n",
       "}\n",
       "\n",
       "\n",
       "mpl.figure.prototype.handle_resize = function(fig, msg) {\n",
       "    var size = msg['size'];\n",
       "    if (size[0] != fig.canvas.width || size[1] != fig.canvas.height) {\n",
       "        fig._resize_canvas(size[0], size[1]);\n",
       "        fig.send_message(\"refresh\", {});\n",
       "    };\n",
       "}\n",
       "\n",
       "mpl.figure.prototype.handle_rubberband = function(fig, msg) {\n",
       "    var x0 = msg['x0'] / mpl.ratio;\n",
       "    var y0 = (fig.canvas.height - msg['y0']) / mpl.ratio;\n",
       "    var x1 = msg['x1'] / mpl.ratio;\n",
       "    var y1 = (fig.canvas.height - msg['y1']) / mpl.ratio;\n",
       "    x0 = Math.floor(x0) + 0.5;\n",
       "    y0 = Math.floor(y0) + 0.5;\n",
       "    x1 = Math.floor(x1) + 0.5;\n",
       "    y1 = Math.floor(y1) + 0.5;\n",
       "    var min_x = Math.min(x0, x1);\n",
       "    var min_y = Math.min(y0, y1);\n",
       "    var width = Math.abs(x1 - x0);\n",
       "    var height = Math.abs(y1 - y0);\n",
       "\n",
       "    fig.rubberband_context.clearRect(\n",
       "        0, 0, fig.canvas.width, fig.canvas.height);\n",
       "\n",
       "    fig.rubberband_context.strokeRect(min_x, min_y, width, height);\n",
       "}\n",
       "\n",
       "mpl.figure.prototype.handle_figure_label = function(fig, msg) {\n",
       "    // Updates the figure title.\n",
       "    fig.header.textContent = msg['label'];\n",
       "}\n",
       "\n",
       "mpl.figure.prototype.handle_cursor = function(fig, msg) {\n",
       "    var cursor = msg['cursor'];\n",
       "    switch(cursor)\n",
       "    {\n",
       "    case 0:\n",
       "        cursor = 'pointer';\n",
       "        break;\n",
       "    case 1:\n",
       "        cursor = 'default';\n",
       "        break;\n",
       "    case 2:\n",
       "        cursor = 'crosshair';\n",
       "        break;\n",
       "    case 3:\n",
       "        cursor = 'move';\n",
       "        break;\n",
       "    }\n",
       "    fig.rubberband_canvas.style.cursor = cursor;\n",
       "}\n",
       "\n",
       "mpl.figure.prototype.handle_message = function(fig, msg) {\n",
       "    fig.message.textContent = msg['message'];\n",
       "}\n",
       "\n",
       "mpl.figure.prototype.handle_draw = function(fig, msg) {\n",
       "    // Request the server to send over a new figure.\n",
       "    fig.send_draw_message();\n",
       "}\n",
       "\n",
       "mpl.figure.prototype.handle_image_mode = function(fig, msg) {\n",
       "    fig.image_mode = msg['mode'];\n",
       "}\n",
       "\n",
       "mpl.figure.prototype.updated_canvas_event = function() {\n",
       "    // Called whenever the canvas gets updated.\n",
       "    this.send_message(\"ack\", {});\n",
       "}\n",
       "\n",
       "// A function to construct a web socket function for onmessage handling.\n",
       "// Called in the figure constructor.\n",
       "mpl.figure.prototype._make_on_message_function = function(fig) {\n",
       "    return function socket_on_message(evt) {\n",
       "        if (evt.data instanceof Blob) {\n",
       "            /* FIXME: We get \"Resource interpreted as Image but\n",
       "             * transferred with MIME type text/plain:\" errors on\n",
       "             * Chrome.  But how to set the MIME type?  It doesn't seem\n",
       "             * to be part of the websocket stream */\n",
       "            evt.data.type = \"image/png\";\n",
       "\n",
       "            /* Free the memory for the previous frames */\n",
       "            if (fig.imageObj.src) {\n",
       "                (window.URL || window.webkitURL).revokeObjectURL(\n",
       "                    fig.imageObj.src);\n",
       "            }\n",
       "\n",
       "            fig.imageObj.src = (window.URL || window.webkitURL).createObjectURL(\n",
       "                evt.data);\n",
       "            fig.updated_canvas_event();\n",
       "            fig.waiting = false;\n",
       "            return;\n",
       "        }\n",
       "        else if (typeof evt.data === 'string' && evt.data.slice(0, 21) == \"data:image/png;base64\") {\n",
       "            fig.imageObj.src = evt.data;\n",
       "            fig.updated_canvas_event();\n",
       "            fig.waiting = false;\n",
       "            return;\n",
       "        }\n",
       "\n",
       "        var msg = JSON.parse(evt.data);\n",
       "        var msg_type = msg['type'];\n",
       "\n",
       "        // Call the  \"handle_{type}\" callback, which takes\n",
       "        // the figure and JSON message as its only arguments.\n",
       "        try {\n",
       "            var callback = fig[\"handle_\" + msg_type];\n",
       "        } catch (e) {\n",
       "            console.log(\"No handler for the '\" + msg_type + \"' message type: \", msg);\n",
       "            return;\n",
       "        }\n",
       "\n",
       "        if (callback) {\n",
       "            try {\n",
       "                // console.log(\"Handling '\" + msg_type + \"' message: \", msg);\n",
       "                callback(fig, msg);\n",
       "            } catch (e) {\n",
       "                console.log(\"Exception inside the 'handler_\" + msg_type + \"' callback:\", e, e.stack, msg);\n",
       "            }\n",
       "        }\n",
       "    };\n",
       "}\n",
       "\n",
       "// from http://stackoverflow.com/questions/1114465/getting-mouse-location-in-canvas\n",
       "mpl.findpos = function(e) {\n",
       "    //this section is from http://www.quirksmode.org/js/events_properties.html\n",
       "    var targ;\n",
       "    if (!e)\n",
       "        e = window.event;\n",
       "    if (e.target)\n",
       "        targ = e.target;\n",
       "    else if (e.srcElement)\n",
       "        targ = e.srcElement;\n",
       "    if (targ.nodeType == 3) // defeat Safari bug\n",
       "        targ = targ.parentNode;\n",
       "\n",
       "    // jQuery normalizes the pageX and pageY\n",
       "    // pageX,Y are the mouse positions relative to the document\n",
       "    // offset() returns the position of the element relative to the document\n",
       "    var x = e.pageX - $(targ).offset().left;\n",
       "    var y = e.pageY - $(targ).offset().top;\n",
       "\n",
       "    return {\"x\": x, \"y\": y};\n",
       "};\n",
       "\n",
       "/*\n",
       " * return a copy of an object with only non-object keys\n",
       " * we need this to avoid circular references\n",
       " * http://stackoverflow.com/a/24161582/3208463\n",
       " */\n",
       "function simpleKeys (original) {\n",
       "  return Object.keys(original).reduce(function (obj, key) {\n",
       "    if (typeof original[key] !== 'object')\n",
       "        obj[key] = original[key]\n",
       "    return obj;\n",
       "  }, {});\n",
       "}\n",
       "\n",
       "mpl.figure.prototype.mouse_event = function(event, name) {\n",
       "    var canvas_pos = mpl.findpos(event)\n",
       "\n",
       "    if (name === 'button_press')\n",
       "    {\n",
       "        this.canvas.focus();\n",
       "        this.canvas_div.focus();\n",
       "    }\n",
       "\n",
       "    var x = canvas_pos.x * mpl.ratio;\n",
       "    var y = canvas_pos.y * mpl.ratio;\n",
       "\n",
       "    this.send_message(name, {x: x, y: y, button: event.button,\n",
       "                             step: event.step,\n",
       "                             guiEvent: simpleKeys(event)});\n",
       "\n",
       "    /* This prevents the web browser from automatically changing to\n",
       "     * the text insertion cursor when the button is pressed.  We want\n",
       "     * to control all of the cursor setting manually through the\n",
       "     * 'cursor' event from matplotlib */\n",
       "    event.preventDefault();\n",
       "    return false;\n",
       "}\n",
       "\n",
       "mpl.figure.prototype._key_event_extra = function(event, name) {\n",
       "    // Handle any extra behaviour associated with a key event\n",
       "}\n",
       "\n",
       "mpl.figure.prototype.key_event = function(event, name) {\n",
       "\n",
       "    // Prevent repeat events\n",
       "    if (name == 'key_press')\n",
       "    {\n",
       "        if (event.which === this._key)\n",
       "            return;\n",
       "        else\n",
       "            this._key = event.which;\n",
       "    }\n",
       "    if (name == 'key_release')\n",
       "        this._key = null;\n",
       "\n",
       "    var value = '';\n",
       "    if (event.ctrlKey && event.which != 17)\n",
       "        value += \"ctrl+\";\n",
       "    if (event.altKey && event.which != 18)\n",
       "        value += \"alt+\";\n",
       "    if (event.shiftKey && event.which != 16)\n",
       "        value += \"shift+\";\n",
       "\n",
       "    value += 'k';\n",
       "    value += event.which.toString();\n",
       "\n",
       "    this._key_event_extra(event, name);\n",
       "\n",
       "    this.send_message(name, {key: value,\n",
       "                             guiEvent: simpleKeys(event)});\n",
       "    return false;\n",
       "}\n",
       "\n",
       "mpl.figure.prototype.toolbar_button_onclick = function(name) {\n",
       "    if (name == 'download') {\n",
       "        this.handle_save(this, null);\n",
       "    } else {\n",
       "        this.send_message(\"toolbar_button\", {name: name});\n",
       "    }\n",
       "};\n",
       "\n",
       "mpl.figure.prototype.toolbar_button_onmouseover = function(tooltip) {\n",
       "    this.message.textContent = tooltip;\n",
       "};\n",
       "mpl.toolbar_items = [[\"Home\", \"Reset original view\", \"fa fa-home icon-home\", \"home\"], [\"Back\", \"Back to previous view\", \"fa fa-arrow-left icon-arrow-left\", \"back\"], [\"Forward\", \"Forward to next view\", \"fa fa-arrow-right icon-arrow-right\", \"forward\"], [\"\", \"\", \"\", \"\"], [\"Pan\", \"Pan axes with left mouse, zoom with right\", \"fa fa-arrows icon-move\", \"pan\"], [\"Zoom\", \"Zoom to rectangle\", \"fa fa-square-o icon-check-empty\", \"zoom\"], [\"\", \"\", \"\", \"\"], [\"Download\", \"Download plot\", \"fa fa-floppy-o icon-save\", \"download\"]];\n",
       "\n",
       "mpl.extensions = [\"eps\", \"jpeg\", \"pdf\", \"png\", \"ps\", \"raw\", \"svg\", \"tif\"];\n",
       "\n",
       "mpl.default_extension = \"png\";var comm_websocket_adapter = function(comm) {\n",
       "    // Create a \"websocket\"-like object which calls the given IPython comm\n",
       "    // object with the appropriate methods. Currently this is a non binary\n",
       "    // socket, so there is still some room for performance tuning.\n",
       "    var ws = {};\n",
       "\n",
       "    ws.close = function() {\n",
       "        comm.close()\n",
       "    };\n",
       "    ws.send = function(m) {\n",
       "        //console.log('sending', m);\n",
       "        comm.send(m);\n",
       "    };\n",
       "    // Register the callback with on_msg.\n",
       "    comm.on_msg(function(msg) {\n",
       "        //console.log('receiving', msg['content']['data'], msg);\n",
       "        // Pass the mpl event to the overridden (by mpl) onmessage function.\n",
       "        ws.onmessage(msg['content']['data'])\n",
       "    });\n",
       "    return ws;\n",
       "}\n",
       "\n",
       "mpl.mpl_figure_comm = function(comm, msg) {\n",
       "    // This is the function which gets called when the mpl process\n",
       "    // starts-up an IPython Comm through the \"matplotlib\" channel.\n",
       "\n",
       "    var id = msg.content.data.id;\n",
       "    // Get hold of the div created by the display call when the Comm\n",
       "    // socket was opened in Python.\n",
       "    var element = $(\"#\" + id);\n",
       "    var ws_proxy = comm_websocket_adapter(comm)\n",
       "\n",
       "    function ondownload(figure, format) {\n",
       "        window.open(figure.imageObj.src);\n",
       "    }\n",
       "\n",
       "    var fig = new mpl.figure(id, ws_proxy,\n",
       "                           ondownload,\n",
       "                           element.get(0));\n",
       "\n",
       "    // Call onopen now - mpl needs it, as it is assuming we've passed it a real\n",
       "    // web socket which is closed, not our websocket->open comm proxy.\n",
       "    ws_proxy.onopen();\n",
       "\n",
       "    fig.parent_element = element.get(0);\n",
       "    fig.cell_info = mpl.find_output_cell(\"<div id='\" + id + \"'></div>\");\n",
       "    if (!fig.cell_info) {\n",
       "        console.error(\"Failed to find cell for figure\", id, fig);\n",
       "        return;\n",
       "    }\n",
       "\n",
       "    var output_index = fig.cell_info[2]\n",
       "    var cell = fig.cell_info[0];\n",
       "\n",
       "};\n",
       "\n",
       "mpl.figure.prototype.handle_close = function(fig, msg) {\n",
       "    var width = fig.canvas.width/mpl.ratio\n",
       "    fig.root.unbind('remove')\n",
       "\n",
       "    // Update the output cell to use the data from the current canvas.\n",
       "    fig.push_to_output();\n",
       "    var dataURL = fig.canvas.toDataURL();\n",
       "    // Re-enable the keyboard manager in IPython - without this line, in FF,\n",
       "    // the notebook keyboard shortcuts fail.\n",
       "    IPython.keyboard_manager.enable()\n",
       "    $(fig.parent_element).html('<img src=\"' + dataURL + '\" width=\"' + width + '\">');\n",
       "    fig.close_ws(fig, msg);\n",
       "}\n",
       "\n",
       "mpl.figure.prototype.close_ws = function(fig, msg){\n",
       "    fig.send_message('closing', msg);\n",
       "    // fig.ws.close()\n",
       "}\n",
       "\n",
       "mpl.figure.prototype.push_to_output = function(remove_interactive) {\n",
       "    // Turn the data on the canvas into data in the output cell.\n",
       "    var width = this.canvas.width/mpl.ratio\n",
       "    var dataURL = this.canvas.toDataURL();\n",
       "    this.cell_info[1]['text/html'] = '<img src=\"' + dataURL + '\" width=\"' + width + '\">';\n",
       "}\n",
       "\n",
       "mpl.figure.prototype.updated_canvas_event = function() {\n",
       "    // Tell IPython that the notebook contents must change.\n",
       "    IPython.notebook.set_dirty(true);\n",
       "    this.send_message(\"ack\", {});\n",
       "    var fig = this;\n",
       "    // Wait a second, then push the new image to the DOM so\n",
       "    // that it is saved nicely (might be nice to debounce this).\n",
       "    setTimeout(function () { fig.push_to_output() }, 1000);\n",
       "}\n",
       "\n",
       "mpl.figure.prototype._init_toolbar = function() {\n",
       "    var fig = this;\n",
       "\n",
       "    var nav_element = $('<div/>')\n",
       "    nav_element.attr('style', 'width: 100%');\n",
       "    this.root.append(nav_element);\n",
       "\n",
       "    // Define a callback function for later on.\n",
       "    function toolbar_event(event) {\n",
       "        return fig.toolbar_button_onclick(event['data']);\n",
       "    }\n",
       "    function toolbar_mouse_event(event) {\n",
       "        return fig.toolbar_button_onmouseover(event['data']);\n",
       "    }\n",
       "\n",
       "    for(var toolbar_ind in mpl.toolbar_items){\n",
       "        var name = mpl.toolbar_items[toolbar_ind][0];\n",
       "        var tooltip = mpl.toolbar_items[toolbar_ind][1];\n",
       "        var image = mpl.toolbar_items[toolbar_ind][2];\n",
       "        var method_name = mpl.toolbar_items[toolbar_ind][3];\n",
       "\n",
       "        if (!name) { continue; };\n",
       "\n",
       "        var button = $('<button class=\"btn btn-default\" href=\"#\" title=\"' + name + '\"><i class=\"fa ' + image + ' fa-lg\"></i></button>');\n",
       "        button.click(method_name, toolbar_event);\n",
       "        button.mouseover(tooltip, toolbar_mouse_event);\n",
       "        nav_element.append(button);\n",
       "    }\n",
       "\n",
       "    // Add the status bar.\n",
       "    var status_bar = $('<span class=\"mpl-message\" style=\"text-align:right; float: right;\"/>');\n",
       "    nav_element.append(status_bar);\n",
       "    this.message = status_bar[0];\n",
       "\n",
       "    // Add the close button to the window.\n",
       "    var buttongrp = $('<div class=\"btn-group inline pull-right\"></div>');\n",
       "    var button = $('<button class=\"btn btn-mini btn-primary\" href=\"#\" title=\"Stop Interaction\"><i class=\"fa fa-power-off icon-remove icon-large\"></i></button>');\n",
       "    button.click(function (evt) { fig.handle_close(fig, {}); } );\n",
       "    button.mouseover('Stop Interaction', toolbar_mouse_event);\n",
       "    buttongrp.append(button);\n",
       "    var titlebar = this.root.find($('.ui-dialog-titlebar'));\n",
       "    titlebar.prepend(buttongrp);\n",
       "}\n",
       "\n",
       "mpl.figure.prototype._root_extra_style = function(el){\n",
       "    var fig = this\n",
       "    el.on(\"remove\", function(){\n",
       "\tfig.close_ws(fig, {});\n",
       "    });\n",
       "}\n",
       "\n",
       "mpl.figure.prototype._canvas_extra_style = function(el){\n",
       "    // this is important to make the div 'focusable\n",
       "    el.attr('tabindex', 0)\n",
       "    // reach out to IPython and tell the keyboard manager to turn it's self\n",
       "    // off when our div gets focus\n",
       "\n",
       "    // location in version 3\n",
       "    if (IPython.notebook.keyboard_manager) {\n",
       "        IPython.notebook.keyboard_manager.register_events(el);\n",
       "    }\n",
       "    else {\n",
       "        // location in version 2\n",
       "        IPython.keyboard_manager.register_events(el);\n",
       "    }\n",
       "\n",
       "}\n",
       "\n",
       "mpl.figure.prototype._key_event_extra = function(event, name) {\n",
       "    var manager = IPython.notebook.keyboard_manager;\n",
       "    if (!manager)\n",
       "        manager = IPython.keyboard_manager;\n",
       "\n",
       "    // Check for shift+enter\n",
       "    if (event.shiftKey && event.which == 13) {\n",
       "        this.canvas_div.blur();\n",
       "        event.shiftKey = false;\n",
       "        // Send a \"J\" for go to next cell\n",
       "        event.which = 74;\n",
       "        event.keyCode = 74;\n",
       "        manager.command_mode();\n",
       "        manager.handle_keydown(event);\n",
       "    }\n",
       "}\n",
       "\n",
       "mpl.figure.prototype.handle_save = function(fig, msg) {\n",
       "    fig.ondownload(fig, null);\n",
       "}\n",
       "\n",
       "\n",
       "mpl.find_output_cell = function(html_output) {\n",
       "    // Return the cell and output element which can be found *uniquely* in the notebook.\n",
       "    // Note - this is a bit hacky, but it is done because the \"notebook_saving.Notebook\"\n",
       "    // IPython event is triggered only after the cells have been serialised, which for\n",
       "    // our purposes (turning an active figure into a static one), is too late.\n",
       "    var cells = IPython.notebook.get_cells();\n",
       "    var ncells = cells.length;\n",
       "    for (var i=0; i<ncells; i++) {\n",
       "        var cell = cells[i];\n",
       "        if (cell.cell_type === 'code'){\n",
       "            for (var j=0; j<cell.output_area.outputs.length; j++) {\n",
       "                var data = cell.output_area.outputs[j];\n",
       "                if (data.data) {\n",
       "                    // IPython >= 3 moved mimebundle to data attribute of output\n",
       "                    data = data.data;\n",
       "                }\n",
       "                if (data['text/html'] == html_output) {\n",
       "                    return [cell, data, j];\n",
       "                }\n",
       "            }\n",
       "        }\n",
       "    }\n",
       "}\n",
       "\n",
       "// Register the function which deals with the matplotlib target/channel.\n",
       "// The kernel may be null if the page has been refreshed.\n",
       "if (IPython.notebook.kernel != null) {\n",
       "    IPython.notebook.kernel.comm_manager.register_target('matplotlib', mpl.mpl_figure_comm);\n",
       "}\n"
      ],
      "text/plain": [
       "<IPython.core.display.Javascript object>"
      ]
     },
     "metadata": {},
     "output_type": "display_data"
    },
    {
     "data": {
      "text/html": [
       "<img src=\"data:image/png;base64,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\" width=\"640\">"
      ],
      "text/plain": [
       "<IPython.core.display.HTML object>"
      ]
     },
     "metadata": {},
     "output_type": "display_data"
    }
   ],
   "source": [
    "%matplotlib notebook\n",
    "p1_range     = np.linspace(0.2, 0.5, N)\n",
    "sir_model_2.cutVariance(p1_range)"
   ]
  },
  {
   "cell_type": "markdown",
   "metadata": {},
   "source": [
    "#### Initilisation Model 3 (Infected Fraction vs Immune Fraction)"
   ]
  },
  {
   "cell_type": "code",
   "execution_count": 13,
   "metadata": {},
   "outputs": [],
   "source": [
    "N           = 20                            # lattice size\n",
    "p1, p2, p3  = 0.5, 0.5, 0.5                 # p for visualisation\n",
    "S0, I0, R0  = 0.1, 0.4, 0.5                 # initial fraction of S, I, R\n",
    "equistep    = 100                           # equilibrate sweep\n",
    "calcstep    = 20000                         # measurement sweep\n",
    "factor      = int(calcstep/10)              # because of 'if (j%10 == 0):' in 'analyse' fn\n",
    "\n",
    "p = [p1, p2, p3]\n",
    "fraction = [S0, I0, R0]\n",
    "\n",
    "np.random.seed(0)\n",
    "sir_model_3 = ca_utils_cy.SIR(N, fraction, p, factor, equistep, calcstep)"
   ]
  },
  {
   "cell_type": "markdown",
   "metadata": {},
   "source": [
    "- Method behavior\n",
    "    - Average Infected fraction $\\frac{<I>}{N}$ vs Fraction of Immunity, $f_{im}$\n",
    "    - Immune fraction of at least 0.35 is required to stop the spreading of the infection"
   ]
  },
  {
   "cell_type": "code",
   "execution_count": 14,
   "metadata": {
    "scrolled": true
   },
   "outputs": [
    {
     "data": {
      "application/vnd.jupyter.widget-view+json": {
       "model_id": "",
       "version_major": 2,
       "version_minor": 0
      },
      "text/plain": [
       "HBox(children=(IntProgress(value=1, bar_style='info', description='Immune Fraction', max=1, style=ProgressStyl…"
      ]
     },
     "metadata": {},
     "output_type": "display_data"
    },
    {
     "data": {
      "application/vnd.jupyter.widget-view+json": {
       "model_id": "",
       "version_major": 2,
       "version_minor": 0
      },
      "text/plain": [
       "HBox(children=(IntProgress(value=0, description='Equilibrate sweep', style=ProgressStyle(description_width='in…"
      ]
     },
     "metadata": {},
     "output_type": "display_data"
    },
    {
     "data": {
      "application/vnd.jupyter.widget-view+json": {
       "model_id": "",
       "version_major": 2,
       "version_minor": 0
      },
      "text/plain": [
       "HBox(children=(IntProgress(value=0, description='Measurement sweep', max=20000, style=ProgressStyle(descriptio…"
      ]
     },
     "metadata": {},
     "output_type": "display_data"
    },
    {
     "data": {
      "application/vnd.jupyter.widget-view+json": {
       "model_id": "",
       "version_major": 2,
       "version_minor": 0
      },
      "text/plain": [
       "HBox(children=(IntProgress(value=0, description='Equilibrate sweep', style=ProgressStyle(description_width='in…"
      ]
     },
     "metadata": {},
     "output_type": "display_data"
    },
    {
     "data": {
      "application/vnd.jupyter.widget-view+json": {
       "model_id": "",
       "version_major": 2,
       "version_minor": 0
      },
      "text/plain": [
       "HBox(children=(IntProgress(value=0, description='Measurement sweep', max=20000, style=ProgressStyle(descriptio…"
      ]
     },
     "metadata": {},
     "output_type": "display_data"
    },
    {
     "data": {
      "application/vnd.jupyter.widget-view+json": {
       "model_id": "",
       "version_major": 2,
       "version_minor": 0
      },
      "text/plain": [
       "HBox(children=(IntProgress(value=0, description='Equilibrate sweep', style=ProgressStyle(description_width='in…"
      ]
     },
     "metadata": {},
     "output_type": "display_data"
    },
    {
     "data": {
      "application/vnd.jupyter.widget-view+json": {
       "model_id": "",
       "version_major": 2,
       "version_minor": 0
      },
      "text/plain": [
       "HBox(children=(IntProgress(value=0, description='Measurement sweep', max=20000, style=ProgressStyle(descriptio…"
      ]
     },
     "metadata": {},
     "output_type": "display_data"
    },
    {
     "data": {
      "application/vnd.jupyter.widget-view+json": {
       "model_id": "",
       "version_major": 2,
       "version_minor": 0
      },
      "text/plain": [
       "HBox(children=(IntProgress(value=0, description='Equilibrate sweep', style=ProgressStyle(description_width='in…"
      ]
     },
     "metadata": {},
     "output_type": "display_data"
    },
    {
     "data": {
      "application/vnd.jupyter.widget-view+json": {
       "model_id": "",
       "version_major": 2,
       "version_minor": 0
      },
      "text/plain": [
       "HBox(children=(IntProgress(value=0, description='Measurement sweep', max=20000, style=ProgressStyle(descriptio…"
      ]
     },
     "metadata": {},
     "output_type": "display_data"
    },
    {
     "data": {
      "application/vnd.jupyter.widget-view+json": {
       "model_id": "",
       "version_major": 2,
       "version_minor": 0
      },
      "text/plain": [
       "HBox(children=(IntProgress(value=0, description='Equilibrate sweep', style=ProgressStyle(description_width='in…"
      ]
     },
     "metadata": {},
     "output_type": "display_data"
    },
    {
     "data": {
      "application/vnd.jupyter.widget-view+json": {
       "model_id": "",
       "version_major": 2,
       "version_minor": 0
      },
      "text/plain": [
       "HBox(children=(IntProgress(value=0, description='Measurement sweep', max=20000, style=ProgressStyle(descriptio…"
      ]
     },
     "metadata": {},
     "output_type": "display_data"
    },
    {
     "data": {
      "application/vnd.jupyter.widget-view+json": {
       "model_id": "",
       "version_major": 2,
       "version_minor": 0
      },
      "text/plain": [
       "HBox(children=(IntProgress(value=0, description='Equilibrate sweep', style=ProgressStyle(description_width='in…"
      ]
     },
     "metadata": {},
     "output_type": "display_data"
    },
    {
     "data": {
      "application/vnd.jupyter.widget-view+json": {
       "model_id": "",
       "version_major": 2,
       "version_minor": 0
      },
      "text/plain": [
       "HBox(children=(IntProgress(value=0, description='Measurement sweep', max=20000, style=ProgressStyle(descriptio…"
      ]
     },
     "metadata": {},
     "output_type": "display_data"
    },
    {
     "data": {
      "application/vnd.jupyter.widget-view+json": {
       "model_id": "",
       "version_major": 2,
       "version_minor": 0
      },
      "text/plain": [
       "HBox(children=(IntProgress(value=0, description='Equilibrate sweep', style=ProgressStyle(description_width='in…"
      ]
     },
     "metadata": {},
     "output_type": "display_data"
    },
    {
     "data": {
      "application/vnd.jupyter.widget-view+json": {
       "model_id": "",
       "version_major": 2,
       "version_minor": 0
      },
      "text/plain": [
       "HBox(children=(IntProgress(value=0, description='Measurement sweep', max=20000, style=ProgressStyle(descriptio…"
      ]
     },
     "metadata": {},
     "output_type": "display_data"
    },
    {
     "data": {
      "application/vnd.jupyter.widget-view+json": {
       "model_id": "",
       "version_major": 2,
       "version_minor": 0
      },
      "text/plain": [
       "HBox(children=(IntProgress(value=0, description='Equilibrate sweep', style=ProgressStyle(description_width='in…"
      ]
     },
     "metadata": {},
     "output_type": "display_data"
    },
    {
     "data": {
      "application/vnd.jupyter.widget-view+json": {
       "model_id": "",
       "version_major": 2,
       "version_minor": 0
      },
      "text/plain": [
       "HBox(children=(IntProgress(value=0, description='Measurement sweep', max=20000, style=ProgressStyle(descriptio…"
      ]
     },
     "metadata": {},
     "output_type": "display_data"
    },
    {
     "data": {
      "application/vnd.jupyter.widget-view+json": {
       "model_id": "",
       "version_major": 2,
       "version_minor": 0
      },
      "text/plain": [
       "HBox(children=(IntProgress(value=0, description='Equilibrate sweep', style=ProgressStyle(description_width='in…"
      ]
     },
     "metadata": {},
     "output_type": "display_data"
    },
    {
     "data": {
      "application/vnd.jupyter.widget-view+json": {
       "model_id": "",
       "version_major": 2,
       "version_minor": 0
      },
      "text/plain": [
       "HBox(children=(IntProgress(value=0, description='Measurement sweep', max=20000, style=ProgressStyle(descriptio…"
      ]
     },
     "metadata": {},
     "output_type": "display_data"
    },
    {
     "data": {
      "application/vnd.jupyter.widget-view+json": {
       "model_id": "",
       "version_major": 2,
       "version_minor": 0
      },
      "text/plain": [
       "HBox(children=(IntProgress(value=0, description='Equilibrate sweep', style=ProgressStyle(description_width='in…"
      ]
     },
     "metadata": {},
     "output_type": "display_data"
    },
    {
     "data": {
      "application/vnd.jupyter.widget-view+json": {
       "model_id": "",
       "version_major": 2,
       "version_minor": 0
      },
      "text/plain": [
       "HBox(children=(IntProgress(value=0, description='Measurement sweep', max=20000, style=ProgressStyle(descriptio…"
      ]
     },
     "metadata": {},
     "output_type": "display_data"
    },
    {
     "data": {
      "application/vnd.jupyter.widget-view+json": {
       "model_id": "",
       "version_major": 2,
       "version_minor": 0
      },
      "text/plain": [
       "HBox(children=(IntProgress(value=0, description='Equilibrate sweep', style=ProgressStyle(description_width='in…"
      ]
     },
     "metadata": {},
     "output_type": "display_data"
    },
    {
     "data": {
      "application/vnd.jupyter.widget-view+json": {
       "model_id": "",
       "version_major": 2,
       "version_minor": 0
      },
      "text/plain": [
       "HBox(children=(IntProgress(value=0, description='Measurement sweep', max=20000, style=ProgressStyle(descriptio…"
      ]
     },
     "metadata": {},
     "output_type": "display_data"
    },
    {
     "data": {
      "application/vnd.jupyter.widget-view+json": {
       "model_id": "",
       "version_major": 2,
       "version_minor": 0
      },
      "text/plain": [
       "HBox(children=(IntProgress(value=0, description='Equilibrate sweep', style=ProgressStyle(description_width='in…"
      ]
     },
     "metadata": {},
     "output_type": "display_data"
    },
    {
     "data": {
      "application/vnd.jupyter.widget-view+json": {
       "model_id": "",
       "version_major": 2,
       "version_minor": 0
      },
      "text/plain": [
       "HBox(children=(IntProgress(value=0, description='Measurement sweep', max=20000, style=ProgressStyle(descriptio…"
      ]
     },
     "metadata": {},
     "output_type": "display_data"
    },
    {
     "data": {
      "application/vnd.jupyter.widget-view+json": {
       "model_id": "",
       "version_major": 2,
       "version_minor": 0
      },
      "text/plain": [
       "HBox(children=(IntProgress(value=0, description='Equilibrate sweep', style=ProgressStyle(description_width='in…"
      ]
     },
     "metadata": {},
     "output_type": "display_data"
    },
    {
     "data": {
      "application/vnd.jupyter.widget-view+json": {
       "model_id": "",
       "version_major": 2,
       "version_minor": 0
      },
      "text/plain": [
       "HBox(children=(IntProgress(value=0, description='Measurement sweep', max=20000, style=ProgressStyle(descriptio…"
      ]
     },
     "metadata": {},
     "output_type": "display_data"
    },
    {
     "data": {
      "application/vnd.jupyter.widget-view+json": {
       "model_id": "",
       "version_major": 2,
       "version_minor": 0
      },
      "text/plain": [
       "HBox(children=(IntProgress(value=0, description='Equilibrate sweep', style=ProgressStyle(description_width='in…"
      ]
     },
     "metadata": {},
     "output_type": "display_data"
    },
    {
     "data": {
      "application/vnd.jupyter.widget-view+json": {
       "model_id": "",
       "version_major": 2,
       "version_minor": 0
      },
      "text/plain": [
       "HBox(children=(IntProgress(value=0, description='Measurement sweep', max=20000, style=ProgressStyle(descriptio…"
      ]
     },
     "metadata": {},
     "output_type": "display_data"
    },
    {
     "data": {
      "application/vnd.jupyter.widget-view+json": {
       "model_id": "",
       "version_major": 2,
       "version_minor": 0
      },
      "text/plain": [
       "HBox(children=(IntProgress(value=0, description='Equilibrate sweep', style=ProgressStyle(description_width='in…"
      ]
     },
     "metadata": {},
     "output_type": "display_data"
    },
    {
     "data": {
      "application/vnd.jupyter.widget-view+json": {
       "model_id": "",
       "version_major": 2,
       "version_minor": 0
      },
      "text/plain": [
       "HBox(children=(IntProgress(value=0, description='Measurement sweep', max=20000, style=ProgressStyle(descriptio…"
      ]
     },
     "metadata": {},
     "output_type": "display_data"
    },
    {
     "data": {
      "application/vnd.jupyter.widget-view+json": {
       "model_id": "",
       "version_major": 2,
       "version_minor": 0
      },
      "text/plain": [
       "HBox(children=(IntProgress(value=0, description='Equilibrate sweep', style=ProgressStyle(description_width='in…"
      ]
     },
     "metadata": {},
     "output_type": "display_data"
    },
    {
     "data": {
      "application/vnd.jupyter.widget-view+json": {
       "model_id": "",
       "version_major": 2,
       "version_minor": 0
      },
      "text/plain": [
       "HBox(children=(IntProgress(value=0, description='Measurement sweep', max=20000, style=ProgressStyle(descriptio…"
      ]
     },
     "metadata": {},
     "output_type": "display_data"
    },
    {
     "data": {
      "application/vnd.jupyter.widget-view+json": {
       "model_id": "",
       "version_major": 2,
       "version_minor": 0
      },
      "text/plain": [
       "HBox(children=(IntProgress(value=0, description='Equilibrate sweep', style=ProgressStyle(description_width='in…"
      ]
     },
     "metadata": {},
     "output_type": "display_data"
    },
    {
     "data": {
      "application/vnd.jupyter.widget-view+json": {
       "model_id": "",
       "version_major": 2,
       "version_minor": 0
      },
      "text/plain": [
       "HBox(children=(IntProgress(value=0, description='Measurement sweep', max=20000, style=ProgressStyle(descriptio…"
      ]
     },
     "metadata": {},
     "output_type": "display_data"
    },
    {
     "data": {
      "application/vnd.jupyter.widget-view+json": {
       "model_id": "",
       "version_major": 2,
       "version_minor": 0
      },
      "text/plain": [
       "HBox(children=(IntProgress(value=0, description='Equilibrate sweep', style=ProgressStyle(description_width='in…"
      ]
     },
     "metadata": {},
     "output_type": "display_data"
    },
    {
     "data": {
      "application/vnd.jupyter.widget-view+json": {
       "model_id": "",
       "version_major": 2,
       "version_minor": 0
      },
      "text/plain": [
       "HBox(children=(IntProgress(value=0, description='Measurement sweep', max=20000, style=ProgressStyle(descriptio…"
      ]
     },
     "metadata": {},
     "output_type": "display_data"
    },
    {
     "data": {
      "application/vnd.jupyter.widget-view+json": {
       "model_id": "",
       "version_major": 2,
       "version_minor": 0
      },
      "text/plain": [
       "HBox(children=(IntProgress(value=0, description='Equilibrate sweep', style=ProgressStyle(description_width='in…"
      ]
     },
     "metadata": {},
     "output_type": "display_data"
    },
    {
     "data": {
      "application/vnd.jupyter.widget-view+json": {
       "model_id": "",
       "version_major": 2,
       "version_minor": 0
      },
      "text/plain": [
       "HBox(children=(IntProgress(value=0, description='Measurement sweep', max=20000, style=ProgressStyle(descriptio…"
      ]
     },
     "metadata": {},
     "output_type": "display_data"
    },
    {
     "data": {
      "application/vnd.jupyter.widget-view+json": {
       "model_id": "",
       "version_major": 2,
       "version_minor": 0
      },
      "text/plain": [
       "HBox(children=(IntProgress(value=0, description='Equilibrate sweep', style=ProgressStyle(description_width='in…"
      ]
     },
     "metadata": {},
     "output_type": "display_data"
    },
    {
     "data": {
      "application/vnd.jupyter.widget-view+json": {
       "model_id": "",
       "version_major": 2,
       "version_minor": 0
      },
      "text/plain": [
       "HBox(children=(IntProgress(value=0, description='Measurement sweep', max=20000, style=ProgressStyle(descriptio…"
      ]
     },
     "metadata": {},
     "output_type": "display_data"
    },
    {
     "name": "stdout",
     "output_type": "stream",
     "text": [
      "\r"
     ]
    },
    {
     "data": {
      "application/javascript": [
       "/* Put everything inside the global mpl namespace */\n",
       "window.mpl = {};\n",
       "\n",
       "\n",
       "mpl.get_websocket_type = function() {\n",
       "    if (typeof(WebSocket) !== 'undefined') {\n",
       "        return WebSocket;\n",
       "    } else if (typeof(MozWebSocket) !== 'undefined') {\n",
       "        return MozWebSocket;\n",
       "    } else {\n",
       "        alert('Your browser does not have WebSocket support.' +\n",
       "              'Please try Chrome, Safari or Firefox ≥ 6. ' +\n",
       "              'Firefox 4 and 5 are also supported but you ' +\n",
       "              'have to enable WebSockets in about:config.');\n",
       "    };\n",
       "}\n",
       "\n",
       "mpl.figure = function(figure_id, websocket, ondownload, parent_element) {\n",
       "    this.id = figure_id;\n",
       "\n",
       "    this.ws = websocket;\n",
       "\n",
       "    this.supports_binary = (this.ws.binaryType != undefined);\n",
       "\n",
       "    if (!this.supports_binary) {\n",
       "        var warnings = document.getElementById(\"mpl-warnings\");\n",
       "        if (warnings) {\n",
       "            warnings.style.display = 'block';\n",
       "            warnings.textContent = (\n",
       "                \"This browser does not support binary websocket messages. \" +\n",
       "                    \"Performance may be slow.\");\n",
       "        }\n",
       "    }\n",
       "\n",
       "    this.imageObj = new Image();\n",
       "\n",
       "    this.context = undefined;\n",
       "    this.message = undefined;\n",
       "    this.canvas = undefined;\n",
       "    this.rubberband_canvas = undefined;\n",
       "    this.rubberband_context = undefined;\n",
       "    this.format_dropdown = undefined;\n",
       "\n",
       "    this.image_mode = 'full';\n",
       "\n",
       "    this.root = $('<div/>');\n",
       "    this._root_extra_style(this.root)\n",
       "    this.root.attr('style', 'display: inline-block');\n",
       "\n",
       "    $(parent_element).append(this.root);\n",
       "\n",
       "    this._init_header(this);\n",
       "    this._init_canvas(this);\n",
       "    this._init_toolbar(this);\n",
       "\n",
       "    var fig = this;\n",
       "\n",
       "    this.waiting = false;\n",
       "\n",
       "    this.ws.onopen =  function () {\n",
       "            fig.send_message(\"supports_binary\", {value: fig.supports_binary});\n",
       "            fig.send_message(\"send_image_mode\", {});\n",
       "            if (mpl.ratio != 1) {\n",
       "                fig.send_message(\"set_dpi_ratio\", {'dpi_ratio': mpl.ratio});\n",
       "            }\n",
       "            fig.send_message(\"refresh\", {});\n",
       "        }\n",
       "\n",
       "    this.imageObj.onload = function() {\n",
       "            if (fig.image_mode == 'full') {\n",
       "                // Full images could contain transparency (where diff images\n",
       "                // almost always do), so we need to clear the canvas so that\n",
       "                // there is no ghosting.\n",
       "                fig.context.clearRect(0, 0, fig.canvas.width, fig.canvas.height);\n",
       "            }\n",
       "            fig.context.drawImage(fig.imageObj, 0, 0);\n",
       "        };\n",
       "\n",
       "    this.imageObj.onunload = function() {\n",
       "        fig.ws.close();\n",
       "    }\n",
       "\n",
       "    this.ws.onmessage = this._make_on_message_function(this);\n",
       "\n",
       "    this.ondownload = ondownload;\n",
       "}\n",
       "\n",
       "mpl.figure.prototype._init_header = function() {\n",
       "    var titlebar = $(\n",
       "        '<div class=\"ui-dialog-titlebar ui-widget-header ui-corner-all ' +\n",
       "        'ui-helper-clearfix\"/>');\n",
       "    var titletext = $(\n",
       "        '<div class=\"ui-dialog-title\" style=\"width: 100%; ' +\n",
       "        'text-align: center; padding: 3px;\"/>');\n",
       "    titlebar.append(titletext)\n",
       "    this.root.append(titlebar);\n",
       "    this.header = titletext[0];\n",
       "}\n",
       "\n",
       "\n",
       "\n",
       "mpl.figure.prototype._canvas_extra_style = function(canvas_div) {\n",
       "\n",
       "}\n",
       "\n",
       "\n",
       "mpl.figure.prototype._root_extra_style = function(canvas_div) {\n",
       "\n",
       "}\n",
       "\n",
       "mpl.figure.prototype._init_canvas = function() {\n",
       "    var fig = this;\n",
       "\n",
       "    var canvas_div = $('<div/>');\n",
       "\n",
       "    canvas_div.attr('style', 'position: relative; clear: both; outline: 0');\n",
       "\n",
       "    function canvas_keyboard_event(event) {\n",
       "        return fig.key_event(event, event['data']);\n",
       "    }\n",
       "\n",
       "    canvas_div.keydown('key_press', canvas_keyboard_event);\n",
       "    canvas_div.keyup('key_release', canvas_keyboard_event);\n",
       "    this.canvas_div = canvas_div\n",
       "    this._canvas_extra_style(canvas_div)\n",
       "    this.root.append(canvas_div);\n",
       "\n",
       "    var canvas = $('<canvas/>');\n",
       "    canvas.addClass('mpl-canvas');\n",
       "    canvas.attr('style', \"left: 0; top: 0; z-index: 0; outline: 0\")\n",
       "\n",
       "    this.canvas = canvas[0];\n",
       "    this.context = canvas[0].getContext(\"2d\");\n",
       "\n",
       "    var backingStore = this.context.backingStorePixelRatio ||\n",
       "\tthis.context.webkitBackingStorePixelRatio ||\n",
       "\tthis.context.mozBackingStorePixelRatio ||\n",
       "\tthis.context.msBackingStorePixelRatio ||\n",
       "\tthis.context.oBackingStorePixelRatio ||\n",
       "\tthis.context.backingStorePixelRatio || 1;\n",
       "\n",
       "    mpl.ratio = (window.devicePixelRatio || 1) / backingStore;\n",
       "\n",
       "    var rubberband = $('<canvas/>');\n",
       "    rubberband.attr('style', \"position: absolute; left: 0; top: 0; z-index: 1;\")\n",
       "\n",
       "    var pass_mouse_events = true;\n",
       "\n",
       "    canvas_div.resizable({\n",
       "        start: function(event, ui) {\n",
       "            pass_mouse_events = false;\n",
       "        },\n",
       "        resize: function(event, ui) {\n",
       "            fig.request_resize(ui.size.width, ui.size.height);\n",
       "        },\n",
       "        stop: function(event, ui) {\n",
       "            pass_mouse_events = true;\n",
       "            fig.request_resize(ui.size.width, ui.size.height);\n",
       "        },\n",
       "    });\n",
       "\n",
       "    function mouse_event_fn(event) {\n",
       "        if (pass_mouse_events)\n",
       "            return fig.mouse_event(event, event['data']);\n",
       "    }\n",
       "\n",
       "    rubberband.mousedown('button_press', mouse_event_fn);\n",
       "    rubberband.mouseup('button_release', mouse_event_fn);\n",
       "    // Throttle sequential mouse events to 1 every 20ms.\n",
       "    rubberband.mousemove('motion_notify', mouse_event_fn);\n",
       "\n",
       "    rubberband.mouseenter('figure_enter', mouse_event_fn);\n",
       "    rubberband.mouseleave('figure_leave', mouse_event_fn);\n",
       "\n",
       "    canvas_div.on(\"wheel\", function (event) {\n",
       "        event = event.originalEvent;\n",
       "        event['data'] = 'scroll'\n",
       "        if (event.deltaY < 0) {\n",
       "            event.step = 1;\n",
       "        } else {\n",
       "            event.step = -1;\n",
       "        }\n",
       "        mouse_event_fn(event);\n",
       "    });\n",
       "\n",
       "    canvas_div.append(canvas);\n",
       "    canvas_div.append(rubberband);\n",
       "\n",
       "    this.rubberband = rubberband;\n",
       "    this.rubberband_canvas = rubberband[0];\n",
       "    this.rubberband_context = rubberband[0].getContext(\"2d\");\n",
       "    this.rubberband_context.strokeStyle = \"#000000\";\n",
       "\n",
       "    this._resize_canvas = function(width, height) {\n",
       "        // Keep the size of the canvas, canvas container, and rubber band\n",
       "        // canvas in synch.\n",
       "        canvas_div.css('width', width)\n",
       "        canvas_div.css('height', height)\n",
       "\n",
       "        canvas.attr('width', width * mpl.ratio);\n",
       "        canvas.attr('height', height * mpl.ratio);\n",
       "        canvas.attr('style', 'width: ' + width + 'px; height: ' + height + 'px;');\n",
       "\n",
       "        rubberband.attr('width', width);\n",
       "        rubberband.attr('height', height);\n",
       "    }\n",
       "\n",
       "    // Set the figure to an initial 600x600px, this will subsequently be updated\n",
       "    // upon first draw.\n",
       "    this._resize_canvas(600, 600);\n",
       "\n",
       "    // Disable right mouse context menu.\n",
       "    $(this.rubberband_canvas).bind(\"contextmenu\",function(e){\n",
       "        return false;\n",
       "    });\n",
       "\n",
       "    function set_focus () {\n",
       "        canvas.focus();\n",
       "        canvas_div.focus();\n",
       "    }\n",
       "\n",
       "    window.setTimeout(set_focus, 100);\n",
       "}\n",
       "\n",
       "mpl.figure.prototype._init_toolbar = function() {\n",
       "    var fig = this;\n",
       "\n",
       "    var nav_element = $('<div/>')\n",
       "    nav_element.attr('style', 'width: 100%');\n",
       "    this.root.append(nav_element);\n",
       "\n",
       "    // Define a callback function for later on.\n",
       "    function toolbar_event(event) {\n",
       "        return fig.toolbar_button_onclick(event['data']);\n",
       "    }\n",
       "    function toolbar_mouse_event(event) {\n",
       "        return fig.toolbar_button_onmouseover(event['data']);\n",
       "    }\n",
       "\n",
       "    for(var toolbar_ind in mpl.toolbar_items) {\n",
       "        var name = mpl.toolbar_items[toolbar_ind][0];\n",
       "        var tooltip = mpl.toolbar_items[toolbar_ind][1];\n",
       "        var image = mpl.toolbar_items[toolbar_ind][2];\n",
       "        var method_name = mpl.toolbar_items[toolbar_ind][3];\n",
       "\n",
       "        if (!name) {\n",
       "            // put a spacer in here.\n",
       "            continue;\n",
       "        }\n",
       "        var button = $('<button/>');\n",
       "        button.addClass('ui-button ui-widget ui-state-default ui-corner-all ' +\n",
       "                        'ui-button-icon-only');\n",
       "        button.attr('role', 'button');\n",
       "        button.attr('aria-disabled', 'false');\n",
       "        button.click(method_name, toolbar_event);\n",
       "        button.mouseover(tooltip, toolbar_mouse_event);\n",
       "\n",
       "        var icon_img = $('<span/>');\n",
       "        icon_img.addClass('ui-button-icon-primary ui-icon');\n",
       "        icon_img.addClass(image);\n",
       "        icon_img.addClass('ui-corner-all');\n",
       "\n",
       "        var tooltip_span = $('<span/>');\n",
       "        tooltip_span.addClass('ui-button-text');\n",
       "        tooltip_span.html(tooltip);\n",
       "\n",
       "        button.append(icon_img);\n",
       "        button.append(tooltip_span);\n",
       "\n",
       "        nav_element.append(button);\n",
       "    }\n",
       "\n",
       "    var fmt_picker_span = $('<span/>');\n",
       "\n",
       "    var fmt_picker = $('<select/>');\n",
       "    fmt_picker.addClass('mpl-toolbar-option ui-widget ui-widget-content');\n",
       "    fmt_picker_span.append(fmt_picker);\n",
       "    nav_element.append(fmt_picker_span);\n",
       "    this.format_dropdown = fmt_picker[0];\n",
       "\n",
       "    for (var ind in mpl.extensions) {\n",
       "        var fmt = mpl.extensions[ind];\n",
       "        var option = $(\n",
       "            '<option/>', {selected: fmt === mpl.default_extension}).html(fmt);\n",
       "        fmt_picker.append(option)\n",
       "    }\n",
       "\n",
       "    // Add hover states to the ui-buttons\n",
       "    $( \".ui-button\" ).hover(\n",
       "        function() { $(this).addClass(\"ui-state-hover\");},\n",
       "        function() { $(this).removeClass(\"ui-state-hover\");}\n",
       "    );\n",
       "\n",
       "    var status_bar = $('<span class=\"mpl-message\"/>');\n",
       "    nav_element.append(status_bar);\n",
       "    this.message = status_bar[0];\n",
       "}\n",
       "\n",
       "mpl.figure.prototype.request_resize = function(x_pixels, y_pixels) {\n",
       "    // Request matplotlib to resize the figure. Matplotlib will then trigger a resize in the client,\n",
       "    // which will in turn request a refresh of the image.\n",
       "    this.send_message('resize', {'width': x_pixels, 'height': y_pixels});\n",
       "}\n",
       "\n",
       "mpl.figure.prototype.send_message = function(type, properties) {\n",
       "    properties['type'] = type;\n",
       "    properties['figure_id'] = this.id;\n",
       "    this.ws.send(JSON.stringify(properties));\n",
       "}\n",
       "\n",
       "mpl.figure.prototype.send_draw_message = function() {\n",
       "    if (!this.waiting) {\n",
       "        this.waiting = true;\n",
       "        this.ws.send(JSON.stringify({type: \"draw\", figure_id: this.id}));\n",
       "    }\n",
       "}\n",
       "\n",
       "\n",
       "mpl.figure.prototype.handle_save = function(fig, msg) {\n",
       "    var format_dropdown = fig.format_dropdown;\n",
       "    var format = format_dropdown.options[format_dropdown.selectedIndex].value;\n",
       "    fig.ondownload(fig, format);\n",
       "}\n",
       "\n",
       "\n",
       "mpl.figure.prototype.handle_resize = function(fig, msg) {\n",
       "    var size = msg['size'];\n",
       "    if (size[0] != fig.canvas.width || size[1] != fig.canvas.height) {\n",
       "        fig._resize_canvas(size[0], size[1]);\n",
       "        fig.send_message(\"refresh\", {});\n",
       "    };\n",
       "}\n",
       "\n",
       "mpl.figure.prototype.handle_rubberband = function(fig, msg) {\n",
       "    var x0 = msg['x0'] / mpl.ratio;\n",
       "    var y0 = (fig.canvas.height - msg['y0']) / mpl.ratio;\n",
       "    var x1 = msg['x1'] / mpl.ratio;\n",
       "    var y1 = (fig.canvas.height - msg['y1']) / mpl.ratio;\n",
       "    x0 = Math.floor(x0) + 0.5;\n",
       "    y0 = Math.floor(y0) + 0.5;\n",
       "    x1 = Math.floor(x1) + 0.5;\n",
       "    y1 = Math.floor(y1) + 0.5;\n",
       "    var min_x = Math.min(x0, x1);\n",
       "    var min_y = Math.min(y0, y1);\n",
       "    var width = Math.abs(x1 - x0);\n",
       "    var height = Math.abs(y1 - y0);\n",
       "\n",
       "    fig.rubberband_context.clearRect(\n",
       "        0, 0, fig.canvas.width, fig.canvas.height);\n",
       "\n",
       "    fig.rubberband_context.strokeRect(min_x, min_y, width, height);\n",
       "}\n",
       "\n",
       "mpl.figure.prototype.handle_figure_label = function(fig, msg) {\n",
       "    // Updates the figure title.\n",
       "    fig.header.textContent = msg['label'];\n",
       "}\n",
       "\n",
       "mpl.figure.prototype.handle_cursor = function(fig, msg) {\n",
       "    var cursor = msg['cursor'];\n",
       "    switch(cursor)\n",
       "    {\n",
       "    case 0:\n",
       "        cursor = 'pointer';\n",
       "        break;\n",
       "    case 1:\n",
       "        cursor = 'default';\n",
       "        break;\n",
       "    case 2:\n",
       "        cursor = 'crosshair';\n",
       "        break;\n",
       "    case 3:\n",
       "        cursor = 'move';\n",
       "        break;\n",
       "    }\n",
       "    fig.rubberband_canvas.style.cursor = cursor;\n",
       "}\n",
       "\n",
       "mpl.figure.prototype.handle_message = function(fig, msg) {\n",
       "    fig.message.textContent = msg['message'];\n",
       "}\n",
       "\n",
       "mpl.figure.prototype.handle_draw = function(fig, msg) {\n",
       "    // Request the server to send over a new figure.\n",
       "    fig.send_draw_message();\n",
       "}\n",
       "\n",
       "mpl.figure.prototype.handle_image_mode = function(fig, msg) {\n",
       "    fig.image_mode = msg['mode'];\n",
       "}\n",
       "\n",
       "mpl.figure.prototype.updated_canvas_event = function() {\n",
       "    // Called whenever the canvas gets updated.\n",
       "    this.send_message(\"ack\", {});\n",
       "}\n",
       "\n",
       "// A function to construct a web socket function for onmessage handling.\n",
       "// Called in the figure constructor.\n",
       "mpl.figure.prototype._make_on_message_function = function(fig) {\n",
       "    return function socket_on_message(evt) {\n",
       "        if (evt.data instanceof Blob) {\n",
       "            /* FIXME: We get \"Resource interpreted as Image but\n",
       "             * transferred with MIME type text/plain:\" errors on\n",
       "             * Chrome.  But how to set the MIME type?  It doesn't seem\n",
       "             * to be part of the websocket stream */\n",
       "            evt.data.type = \"image/png\";\n",
       "\n",
       "            /* Free the memory for the previous frames */\n",
       "            if (fig.imageObj.src) {\n",
       "                (window.URL || window.webkitURL).revokeObjectURL(\n",
       "                    fig.imageObj.src);\n",
       "            }\n",
       "\n",
       "            fig.imageObj.src = (window.URL || window.webkitURL).createObjectURL(\n",
       "                evt.data);\n",
       "            fig.updated_canvas_event();\n",
       "            fig.waiting = false;\n",
       "            return;\n",
       "        }\n",
       "        else if (typeof evt.data === 'string' && evt.data.slice(0, 21) == \"data:image/png;base64\") {\n",
       "            fig.imageObj.src = evt.data;\n",
       "            fig.updated_canvas_event();\n",
       "            fig.waiting = false;\n",
       "            return;\n",
       "        }\n",
       "\n",
       "        var msg = JSON.parse(evt.data);\n",
       "        var msg_type = msg['type'];\n",
       "\n",
       "        // Call the  \"handle_{type}\" callback, which takes\n",
       "        // the figure and JSON message as its only arguments.\n",
       "        try {\n",
       "            var callback = fig[\"handle_\" + msg_type];\n",
       "        } catch (e) {\n",
       "            console.log(\"No handler for the '\" + msg_type + \"' message type: \", msg);\n",
       "            return;\n",
       "        }\n",
       "\n",
       "        if (callback) {\n",
       "            try {\n",
       "                // console.log(\"Handling '\" + msg_type + \"' message: \", msg);\n",
       "                callback(fig, msg);\n",
       "            } catch (e) {\n",
       "                console.log(\"Exception inside the 'handler_\" + msg_type + \"' callback:\", e, e.stack, msg);\n",
       "            }\n",
       "        }\n",
       "    };\n",
       "}\n",
       "\n",
       "// from http://stackoverflow.com/questions/1114465/getting-mouse-location-in-canvas\n",
       "mpl.findpos = function(e) {\n",
       "    //this section is from http://www.quirksmode.org/js/events_properties.html\n",
       "    var targ;\n",
       "    if (!e)\n",
       "        e = window.event;\n",
       "    if (e.target)\n",
       "        targ = e.target;\n",
       "    else if (e.srcElement)\n",
       "        targ = e.srcElement;\n",
       "    if (targ.nodeType == 3) // defeat Safari bug\n",
       "        targ = targ.parentNode;\n",
       "\n",
       "    // jQuery normalizes the pageX and pageY\n",
       "    // pageX,Y are the mouse positions relative to the document\n",
       "    // offset() returns the position of the element relative to the document\n",
       "    var x = e.pageX - $(targ).offset().left;\n",
       "    var y = e.pageY - $(targ).offset().top;\n",
       "\n",
       "    return {\"x\": x, \"y\": y};\n",
       "};\n",
       "\n",
       "/*\n",
       " * return a copy of an object with only non-object keys\n",
       " * we need this to avoid circular references\n",
       " * http://stackoverflow.com/a/24161582/3208463\n",
       " */\n",
       "function simpleKeys (original) {\n",
       "  return Object.keys(original).reduce(function (obj, key) {\n",
       "    if (typeof original[key] !== 'object')\n",
       "        obj[key] = original[key]\n",
       "    return obj;\n",
       "  }, {});\n",
       "}\n",
       "\n",
       "mpl.figure.prototype.mouse_event = function(event, name) {\n",
       "    var canvas_pos = mpl.findpos(event)\n",
       "\n",
       "    if (name === 'button_press')\n",
       "    {\n",
       "        this.canvas.focus();\n",
       "        this.canvas_div.focus();\n",
       "    }\n",
       "\n",
       "    var x = canvas_pos.x * mpl.ratio;\n",
       "    var y = canvas_pos.y * mpl.ratio;\n",
       "\n",
       "    this.send_message(name, {x: x, y: y, button: event.button,\n",
       "                             step: event.step,\n",
       "                             guiEvent: simpleKeys(event)});\n",
       "\n",
       "    /* This prevents the web browser from automatically changing to\n",
       "     * the text insertion cursor when the button is pressed.  We want\n",
       "     * to control all of the cursor setting manually through the\n",
       "     * 'cursor' event from matplotlib */\n",
       "    event.preventDefault();\n",
       "    return false;\n",
       "}\n",
       "\n",
       "mpl.figure.prototype._key_event_extra = function(event, name) {\n",
       "    // Handle any extra behaviour associated with a key event\n",
       "}\n",
       "\n",
       "mpl.figure.prototype.key_event = function(event, name) {\n",
       "\n",
       "    // Prevent repeat events\n",
       "    if (name == 'key_press')\n",
       "    {\n",
       "        if (event.which === this._key)\n",
       "            return;\n",
       "        else\n",
       "            this._key = event.which;\n",
       "    }\n",
       "    if (name == 'key_release')\n",
       "        this._key = null;\n",
       "\n",
       "    var value = '';\n",
       "    if (event.ctrlKey && event.which != 17)\n",
       "        value += \"ctrl+\";\n",
       "    if (event.altKey && event.which != 18)\n",
       "        value += \"alt+\";\n",
       "    if (event.shiftKey && event.which != 16)\n",
       "        value += \"shift+\";\n",
       "\n",
       "    value += 'k';\n",
       "    value += event.which.toString();\n",
       "\n",
       "    this._key_event_extra(event, name);\n",
       "\n",
       "    this.send_message(name, {key: value,\n",
       "                             guiEvent: simpleKeys(event)});\n",
       "    return false;\n",
       "}\n",
       "\n",
       "mpl.figure.prototype.toolbar_button_onclick = function(name) {\n",
       "    if (name == 'download') {\n",
       "        this.handle_save(this, null);\n",
       "    } else {\n",
       "        this.send_message(\"toolbar_button\", {name: name});\n",
       "    }\n",
       "};\n",
       "\n",
       "mpl.figure.prototype.toolbar_button_onmouseover = function(tooltip) {\n",
       "    this.message.textContent = tooltip;\n",
       "};\n",
       "mpl.toolbar_items = [[\"Home\", \"Reset original view\", \"fa fa-home icon-home\", \"home\"], [\"Back\", \"Back to previous view\", \"fa fa-arrow-left icon-arrow-left\", \"back\"], [\"Forward\", \"Forward to next view\", \"fa fa-arrow-right icon-arrow-right\", \"forward\"], [\"\", \"\", \"\", \"\"], [\"Pan\", \"Pan axes with left mouse, zoom with right\", \"fa fa-arrows icon-move\", \"pan\"], [\"Zoom\", \"Zoom to rectangle\", \"fa fa-square-o icon-check-empty\", \"zoom\"], [\"\", \"\", \"\", \"\"], [\"Download\", \"Download plot\", \"fa fa-floppy-o icon-save\", \"download\"]];\n",
       "\n",
       "mpl.extensions = [\"eps\", \"jpeg\", \"pdf\", \"png\", \"ps\", \"raw\", \"svg\", \"tif\"];\n",
       "\n",
       "mpl.default_extension = \"png\";var comm_websocket_adapter = function(comm) {\n",
       "    // Create a \"websocket\"-like object which calls the given IPython comm\n",
       "    // object with the appropriate methods. Currently this is a non binary\n",
       "    // socket, so there is still some room for performance tuning.\n",
       "    var ws = {};\n",
       "\n",
       "    ws.close = function() {\n",
       "        comm.close()\n",
       "    };\n",
       "    ws.send = function(m) {\n",
       "        //console.log('sending', m);\n",
       "        comm.send(m);\n",
       "    };\n",
       "    // Register the callback with on_msg.\n",
       "    comm.on_msg(function(msg) {\n",
       "        //console.log('receiving', msg['content']['data'], msg);\n",
       "        // Pass the mpl event to the overridden (by mpl) onmessage function.\n",
       "        ws.onmessage(msg['content']['data'])\n",
       "    });\n",
       "    return ws;\n",
       "}\n",
       "\n",
       "mpl.mpl_figure_comm = function(comm, msg) {\n",
       "    // This is the function which gets called when the mpl process\n",
       "    // starts-up an IPython Comm through the \"matplotlib\" channel.\n",
       "\n",
       "    var id = msg.content.data.id;\n",
       "    // Get hold of the div created by the display call when the Comm\n",
       "    // socket was opened in Python.\n",
       "    var element = $(\"#\" + id);\n",
       "    var ws_proxy = comm_websocket_adapter(comm)\n",
       "\n",
       "    function ondownload(figure, format) {\n",
       "        window.open(figure.imageObj.src);\n",
       "    }\n",
       "\n",
       "    var fig = new mpl.figure(id, ws_proxy,\n",
       "                           ondownload,\n",
       "                           element.get(0));\n",
       "\n",
       "    // Call onopen now - mpl needs it, as it is assuming we've passed it a real\n",
       "    // web socket which is closed, not our websocket->open comm proxy.\n",
       "    ws_proxy.onopen();\n",
       "\n",
       "    fig.parent_element = element.get(0);\n",
       "    fig.cell_info = mpl.find_output_cell(\"<div id='\" + id + \"'></div>\");\n",
       "    if (!fig.cell_info) {\n",
       "        console.error(\"Failed to find cell for figure\", id, fig);\n",
       "        return;\n",
       "    }\n",
       "\n",
       "    var output_index = fig.cell_info[2]\n",
       "    var cell = fig.cell_info[0];\n",
       "\n",
       "};\n",
       "\n",
       "mpl.figure.prototype.handle_close = function(fig, msg) {\n",
       "    var width = fig.canvas.width/mpl.ratio\n",
       "    fig.root.unbind('remove')\n",
       "\n",
       "    // Update the output cell to use the data from the current canvas.\n",
       "    fig.push_to_output();\n",
       "    var dataURL = fig.canvas.toDataURL();\n",
       "    // Re-enable the keyboard manager in IPython - without this line, in FF,\n",
       "    // the notebook keyboard shortcuts fail.\n",
       "    IPython.keyboard_manager.enable()\n",
       "    $(fig.parent_element).html('<img src=\"' + dataURL + '\" width=\"' + width + '\">');\n",
       "    fig.close_ws(fig, msg);\n",
       "}\n",
       "\n",
       "mpl.figure.prototype.close_ws = function(fig, msg){\n",
       "    fig.send_message('closing', msg);\n",
       "    // fig.ws.close()\n",
       "}\n",
       "\n",
       "mpl.figure.prototype.push_to_output = function(remove_interactive) {\n",
       "    // Turn the data on the canvas into data in the output cell.\n",
       "    var width = this.canvas.width/mpl.ratio\n",
       "    var dataURL = this.canvas.toDataURL();\n",
       "    this.cell_info[1]['text/html'] = '<img src=\"' + dataURL + '\" width=\"' + width + '\">';\n",
       "}\n",
       "\n",
       "mpl.figure.prototype.updated_canvas_event = function() {\n",
       "    // Tell IPython that the notebook contents must change.\n",
       "    IPython.notebook.set_dirty(true);\n",
       "    this.send_message(\"ack\", {});\n",
       "    var fig = this;\n",
       "    // Wait a second, then push the new image to the DOM so\n",
       "    // that it is saved nicely (might be nice to debounce this).\n",
       "    setTimeout(function () { fig.push_to_output() }, 1000);\n",
       "}\n",
       "\n",
       "mpl.figure.prototype._init_toolbar = function() {\n",
       "    var fig = this;\n",
       "\n",
       "    var nav_element = $('<div/>')\n",
       "    nav_element.attr('style', 'width: 100%');\n",
       "    this.root.append(nav_element);\n",
       "\n",
       "    // Define a callback function for later on.\n",
       "    function toolbar_event(event) {\n",
       "        return fig.toolbar_button_onclick(event['data']);\n",
       "    }\n",
       "    function toolbar_mouse_event(event) {\n",
       "        return fig.toolbar_button_onmouseover(event['data']);\n",
       "    }\n",
       "\n",
       "    for(var toolbar_ind in mpl.toolbar_items){\n",
       "        var name = mpl.toolbar_items[toolbar_ind][0];\n",
       "        var tooltip = mpl.toolbar_items[toolbar_ind][1];\n",
       "        var image = mpl.toolbar_items[toolbar_ind][2];\n",
       "        var method_name = mpl.toolbar_items[toolbar_ind][3];\n",
       "\n",
       "        if (!name) { continue; };\n",
       "\n",
       "        var button = $('<button class=\"btn btn-default\" href=\"#\" title=\"' + name + '\"><i class=\"fa ' + image + ' fa-lg\"></i></button>');\n",
       "        button.click(method_name, toolbar_event);\n",
       "        button.mouseover(tooltip, toolbar_mouse_event);\n",
       "        nav_element.append(button);\n",
       "    }\n",
       "\n",
       "    // Add the status bar.\n",
       "    var status_bar = $('<span class=\"mpl-message\" style=\"text-align:right; float: right;\"/>');\n",
       "    nav_element.append(status_bar);\n",
       "    this.message = status_bar[0];\n",
       "\n",
       "    // Add the close button to the window.\n",
       "    var buttongrp = $('<div class=\"btn-group inline pull-right\"></div>');\n",
       "    var button = $('<button class=\"btn btn-mini btn-primary\" href=\"#\" title=\"Stop Interaction\"><i class=\"fa fa-power-off icon-remove icon-large\"></i></button>');\n",
       "    button.click(function (evt) { fig.handle_close(fig, {}); } );\n",
       "    button.mouseover('Stop Interaction', toolbar_mouse_event);\n",
       "    buttongrp.append(button);\n",
       "    var titlebar = this.root.find($('.ui-dialog-titlebar'));\n",
       "    titlebar.prepend(buttongrp);\n",
       "}\n",
       "\n",
       "mpl.figure.prototype._root_extra_style = function(el){\n",
       "    var fig = this\n",
       "    el.on(\"remove\", function(){\n",
       "\tfig.close_ws(fig, {});\n",
       "    });\n",
       "}\n",
       "\n",
       "mpl.figure.prototype._canvas_extra_style = function(el){\n",
       "    // this is important to make the div 'focusable\n",
       "    el.attr('tabindex', 0)\n",
       "    // reach out to IPython and tell the keyboard manager to turn it's self\n",
       "    // off when our div gets focus\n",
       "\n",
       "    // location in version 3\n",
       "    if (IPython.notebook.keyboard_manager) {\n",
       "        IPython.notebook.keyboard_manager.register_events(el);\n",
       "    }\n",
       "    else {\n",
       "        // location in version 2\n",
       "        IPython.keyboard_manager.register_events(el);\n",
       "    }\n",
       "\n",
       "}\n",
       "\n",
       "mpl.figure.prototype._key_event_extra = function(event, name) {\n",
       "    var manager = IPython.notebook.keyboard_manager;\n",
       "    if (!manager)\n",
       "        manager = IPython.keyboard_manager;\n",
       "\n",
       "    // Check for shift+enter\n",
       "    if (event.shiftKey && event.which == 13) {\n",
       "        this.canvas_div.blur();\n",
       "        event.shiftKey = false;\n",
       "        // Send a \"J\" for go to next cell\n",
       "        event.which = 74;\n",
       "        event.keyCode = 74;\n",
       "        manager.command_mode();\n",
       "        manager.handle_keydown(event);\n",
       "    }\n",
       "}\n",
       "\n",
       "mpl.figure.prototype.handle_save = function(fig, msg) {\n",
       "    fig.ondownload(fig, null);\n",
       "}\n",
       "\n",
       "\n",
       "mpl.find_output_cell = function(html_output) {\n",
       "    // Return the cell and output element which can be found *uniquely* in the notebook.\n",
       "    // Note - this is a bit hacky, but it is done because the \"notebook_saving.Notebook\"\n",
       "    // IPython event is triggered only after the cells have been serialised, which for\n",
       "    // our purposes (turning an active figure into a static one), is too late.\n",
       "    var cells = IPython.notebook.get_cells();\n",
       "    var ncells = cells.length;\n",
       "    for (var i=0; i<ncells; i++) {\n",
       "        var cell = cells[i];\n",
       "        if (cell.cell_type === 'code'){\n",
       "            for (var j=0; j<cell.output_area.outputs.length; j++) {\n",
       "                var data = cell.output_area.outputs[j];\n",
       "                if (data.data) {\n",
       "                    // IPython >= 3 moved mimebundle to data attribute of output\n",
       "                    data = data.data;\n",
       "                }\n",
       "                if (data['text/html'] == html_output) {\n",
       "                    return [cell, data, j];\n",
       "                }\n",
       "            }\n",
       "        }\n",
       "    }\n",
       "}\n",
       "\n",
       "// Register the function which deals with the matplotlib target/channel.\n",
       "// The kernel may be null if the page has been refreshed.\n",
       "if (IPython.notebook.kernel != null) {\n",
       "    IPython.notebook.kernel.comm_manager.register_target('matplotlib', mpl.mpl_figure_comm);\n",
       "}\n"
      ],
      "text/plain": [
       "<IPython.core.display.Javascript object>"
      ]
     },
     "metadata": {},
     "output_type": "display_data"
    },
    {
     "data": {
      "text/html": [
       "<img src=\"data:image/png;base64,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\" width=\"640\">"
      ],
      "text/plain": [
       "<IPython.core.display.HTML object>"
      ]
     },
     "metadata": {},
     "output_type": "display_data"
    }
   ],
   "source": [
    "%matplotlib notebook\n",
    "sir_model_3.compare_infected_immune()"
   ]
  }
 ],
 "metadata": {
  "kernelspec": {
   "display_name": "Python 3",
   "language": "python",
   "name": "python3"
  },
  "language_info": {
   "codemirror_mode": {
    "name": "ipython",
    "version": 3
   },
   "file_extension": ".py",
   "mimetype": "text/x-python",
   "name": "python",
   "nbconvert_exporter": "python",
   "pygments_lexer": "ipython3",
   "version": "3.7.3"
  }
 },
 "nbformat": 4,
 "nbformat_minor": 2
}
