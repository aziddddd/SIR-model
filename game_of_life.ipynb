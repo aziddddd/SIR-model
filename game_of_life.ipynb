{
 "cells": [
  {
   "cell_type": "markdown",
   "metadata": {},
   "source": [
    "#### Import required package"
   ]
  },
  {
   "cell_type": "code",
   "execution_count": 1,
   "metadata": {},
   "outputs": [],
   "source": [
    "import numpy as np\n",
    "import matplotlib.pyplot as plt\n",
    "import ca_utils"
   ]
  },
  {
   "cell_type": "code",
   "execution_count": 2,
   "metadata": {},
   "outputs": [],
   "source": [
    "plt.rcParams['figure.figsize'] = (5,5)"
   ]
  },
  {
   "cell_type": "markdown",
   "metadata": {},
   "source": [
    "#### Initilisation Model 1 (Visualisation, Phase Diagram & Variance)"
   ]
  },
  {
   "cell_type": "code",
   "execution_count": 3,
   "metadata": {},
   "outputs": [],
   "source": [
    "N           = 20                            # lattice size\n",
    "p1, p2, p3  = 0.05, 0.5, 0.05               # p for visualisation\n",
    "equistep    = 100                           # equilibrate sweep\n",
    "calcstep    = 10000                          # measurement sweep\n",
    "factor      = int(calcstep/10)              # because of 'if (j%10 == 0):' in 'analyse' fn\n",
    "\n",
    "p = [p1, p2, p3]\n",
    "\n",
    "np.random.seed(0)\n",
    "sir_model = ca_utils.SIR(N, p, factor, equistep, calcstep)"
   ]
  },
  {
   "cell_type": "markdown",
   "metadata": {},
   "source": [
    "#### Results"
   ]
  },
  {
   "cell_type": "markdown",
   "metadata": {},
   "source": [
    "- Animation"
   ]
  },
  {
   "cell_type": "code",
   "execution_count": 5,
   "metadata": {},
   "outputs": [
    {
     "data": {
      "image/png": "[encoded data removed]",
      "text/plain": [
       "<Figure size 360x360 with 1 Axes>"
      ]
     },
     "metadata": {},
     "output_type": "display_data"
    }
   ],
   "source": [
    "sir_model.DynamicPlot(125)"
   ]
  },
  {
   "cell_type": "markdown",
   "metadata": {},
   "source": [
    "- Method behavior\n",
    "    - Phase Diagram of SIR model\n",
    "    - Variance, < $\\psi$ >"
   ]
  },
  {
   "cell_type": "code",
   "execution_count": 6,
   "metadata": {
    "scrolled": true
   },
   "outputs": [
    {
     "data": {
      "application/vnd.jupyter.widget-view+json": {
       "model_id": "",
       "version_major": 2,
       "version_minor": 0
      },
      "text/plain": [
       "HBox(children=(IntProgress(value=0, description='Row', max=10, style=ProgressStyle(description_width='initial'…"
      ]
     },
     "metadata": {},
     "output_type": "display_data"
    },
    {
     "data": {
      "application/vnd.jupyter.widget-view+json": {
       "model_id": "",
       "version_major": 2,
       "version_minor": 0
      },
      "text/plain": [
       "HBox(children=(IntProgress(value=0, description='Col', max=10, style=ProgressStyle(description_width='initial'…"
      ]
     },
     "metadata": {},
     "output_type": "display_data"
    },
    {
     "data": {
      "application/vnd.jupyter.widget-view+json": {
       "model_id": "",
       "version_major": 2,
       "version_minor": 0
      },
      "text/plain": [
       "HBox(children=(IntProgress(value=0, description='Equilibrate sweep', style=ProgressStyle(description_width='in…"
      ]
     },
     "metadata": {},
     "output_type": "display_data"
    },
    {
     "data": {
      "application/vnd.jupyter.widget-view+json": {
       "model_id": "",
       "version_major": 2,
       "version_minor": 0
      },
      "text/plain": [
       "HBox(children=(IntProgress(value=0, description='Measurement sweep', max=1000, style=ProgressStyle(description…"
      ]
     },
     "metadata": {},
     "output_type": "display_data"
    },
    {
     "data": {
      "application/vnd.jupyter.widget-view+json": {
       "model_id": "",
       "version_major": 2,
       "version_minor": 0
      },
      "text/plain": [
       "HBox(children=(IntProgress(value=0, description='Equilibrate sweep', style=ProgressStyle(description_width='in…"
      ]
     },
     "metadata": {},
     "output_type": "display_data"
    },
    {
     "data": {
      "application/vnd.jupyter.widget-view+json": {
       "model_id": "",
       "version_major": 2,
       "version_minor": 0
      },
      "text/plain": [
       "HBox(children=(IntProgress(value=0, description='Measurement sweep', max=1000, style=ProgressStyle(description…"
      ]
     },
     "metadata": {},
     "output_type": "display_data"
    },
    {
     "data": {
      "application/vnd.jupyter.widget-view+json": {
       "model_id": "",
       "version_major": 2,
       "version_minor": 0
      },
      "text/plain": [
       "HBox(children=(IntProgress(value=0, description='Equilibrate sweep', style=ProgressStyle(description_width='in…"
      ]
     },
     "metadata": {},
     "output_type": "display_data"
    },
    {
     "data": {
      "application/vnd.jupyter.widget-view+json": {
       "model_id": "",
       "version_major": 2,
       "version_minor": 0
      },
      "text/plain": [
       "HBox(children=(IntProgress(value=0, description='Measurement sweep', max=1000, style=ProgressStyle(description…"
      ]
     },
     "metadata": {},
     "output_type": "display_data"
    },
    {
     "data": {
      "application/vnd.jupyter.widget-view+json": {
       "model_id": "",
       "version_major": 2,
       "version_minor": 0
      },
      "text/plain": [
       "HBox(children=(IntProgress(value=0, description='Equilibrate sweep', style=ProgressStyle(description_width='in…"
      ]
     },
     "metadata": {},
     "output_type": "display_data"
    },
    {
     "data": {
      "application/vnd.jupyter.widget-view+json": {
       "model_id": "",
       "version_major": 2,
       "version_minor": 0
      },
      "text/plain": [
       "HBox(children=(IntProgress(value=0, description='Measurement sweep', max=1000, style=ProgressStyle(description…"
      ]
     },
     "metadata": {},
     "output_type": "display_data"
    },
    {
     "data": {
      "application/vnd.jupyter.widget-view+json": {
       "model_id": "",
       "version_major": 2,
       "version_minor": 0
      },
      "text/plain": [
       "HBox(children=(IntProgress(value=0, description='Equilibrate sweep', style=ProgressStyle(description_width='in…"
      ]
     },
     "metadata": {},
     "output_type": "display_data"
    },
    {
     "data": {
      "application/vnd.jupyter.widget-view+json": {
       "model_id": "",
       "version_major": 2,
       "version_minor": 0
      },
      "text/plain": [
       "HBox(children=(IntProgress(value=0, description='Measurement sweep', max=1000, style=ProgressStyle(description…"
      ]
     },
     "metadata": {},
     "output_type": "display_data"
    },
    {
     "data": {
      "application/vnd.jupyter.widget-view+json": {
       "model_id": "",
       "version_major": 2,
       "version_minor": 0
      },
      "text/plain": [
       "HBox(children=(IntProgress(value=0, description='Equilibrate sweep', style=ProgressStyle(description_width='in…"
      ]
     },
     "metadata": {},
     "output_type": "display_data"
    },
    {
     "data": {
      "application/vnd.jupyter.widget-view+json": {
       "model_id": "",
       "version_major": 2,
       "version_minor": 0
      },
      "text/plain": [
       "HBox(children=(IntProgress(value=0, description='Measurement sweep', max=1000, style=ProgressStyle(description…"
      ]
     },
     "metadata": {},
     "output_type": "display_data"
    },
    {
     "data": {
      "application/vnd.jupyter.widget-view+json": {
       "model_id": "",
       "version_major": 2,
       "version_minor": 0
      },
      "text/plain": [
       "HBox(children=(IntProgress(value=0, description='Equilibrate sweep', style=ProgressStyle(description_width='in…"
      ]
     },
     "metadata": {},
     "output_type": "display_data"
    },
    {
     "data": {
      "application/vnd.jupyter.widget-view+json": {
       "model_id": "",
       "version_major": 2,
       "version_minor": 0
      },
      "text/plain": [
       "HBox(children=(IntProgress(value=0, description='Measurement sweep', max=1000, style=ProgressStyle(description…"
      ]
     },
     "metadata": {},
     "output_type": "display_data"
    },
    {
     "data": {
      "application/vnd.jupyter.widget-view+json": {
       "model_id": "",
       "version_major": 2,
       "version_minor": 0
      },
      "text/plain": [
       "HBox(children=(IntProgress(value=0, description='Equilibrate sweep', style=ProgressStyle(description_width='in…"
      ]
     },
     "metadata": {},
     "output_type": "display_data"
    },
    {
     "data": {
      "application/vnd.jupyter.widget-view+json": {
       "model_id": "",
       "version_major": 2,
       "version_minor": 0
      },
      "text/plain": [
       "HBox(children=(IntProgress(value=0, description='Measurement sweep', max=1000, style=ProgressStyle(description…"
      ]
     },
     "metadata": {},
     "output_type": "display_data"
    },
    {
     "data": {
      "application/vnd.jupyter.widget-view+json": {
       "model_id": "",
       "version_major": 2,
       "version_minor": 0
      },
      "text/plain": [
       "HBox(children=(IntProgress(value=0, description='Equilibrate sweep', style=ProgressStyle(description_width='in…"
      ]
     },
     "metadata": {},
     "output_type": "display_data"
    },
    {
     "data": {
      "application/vnd.jupyter.widget-view+json": {
       "model_id": "",
       "version_major": 2,
       "version_minor": 0
      },
      "text/plain": [
       "HBox(children=(IntProgress(value=0, description='Measurement sweep', max=1000, style=ProgressStyle(description…"
      ]
     },
     "metadata": {},
     "output_type": "display_data"
    },
    {
     "data": {
      "application/vnd.jupyter.widget-view+json": {
       "model_id": "",
       "version_major": 2,
       "version_minor": 0
      },
      "text/plain": [
       "HBox(children=(IntProgress(value=0, description='Equilibrate sweep', style=ProgressStyle(description_width='in…"
      ]
     },
     "metadata": {},
     "output_type": "display_data"
    },
    {
     "data": {
      "application/vnd.jupyter.widget-view+json": {
       "model_id": "",
       "version_major": 2,
       "version_minor": 0
      },
      "text/plain": [
       "HBox(children=(IntProgress(value=0, description='Measurement sweep', max=1000, style=ProgressStyle(description…"
      ]
     },
     "metadata": {},
     "output_type": "display_data"
    },
    {
     "data": {
      "application/vnd.jupyter.widget-view+json": {
       "model_id": "",
       "version_major": 2,
       "version_minor": 0
      },
      "text/plain": [
       "HBox(children=(IntProgress(value=0, description='Col', max=10, style=ProgressStyle(description_width='initial'…"
      ]
     },
     "metadata": {},
     "output_type": "display_data"
    },
    {
     "data": {
      "application/vnd.jupyter.widget-view+json": {
       "model_id": "",
       "version_major": 2,
       "version_minor": 0
      },
      "text/plain": [
       "HBox(children=(IntProgress(value=0, description='Equilibrate sweep', style=ProgressStyle(description_width='in…"
      ]
     },
     "metadata": {},
     "output_type": "display_data"
    },
    {
     "data": {
      "application/vnd.jupyter.widget-view+json": {
       "model_id": "",
       "version_major": 2,
       "version_minor": 0
      },
      "text/plain": [
       "HBox(children=(IntProgress(value=0, description='Measurement sweep', max=1000, style=ProgressStyle(description…"
      ]
     },
     "metadata": {},
     "output_type": "display_data"
    },
    {
     "data": {
      "application/vnd.jupyter.widget-view+json": {
       "model_id": "",
       "version_major": 2,
       "version_minor": 0
      },
      "text/plain": [
       "HBox(children=(IntProgress(value=0, description='Equilibrate sweep', style=ProgressStyle(description_width='in…"
      ]
     },
     "metadata": {},
     "output_type": "display_data"
    },
    {
     "data": {
      "application/vnd.jupyter.widget-view+json": {
       "model_id": "",
       "version_major": 2,
       "version_minor": 0
      },
      "text/plain": [
       "HBox(children=(IntProgress(value=0, description='Measurement sweep', max=1000, style=ProgressStyle(description…"
      ]
     },
     "metadata": {},
     "output_type": "display_data"
    },
    {
     "data": {
      "application/vnd.jupyter.widget-view+json": {
       "model_id": "",
       "version_major": 2,
       "version_minor": 0
      },
      "text/plain": [
       "HBox(children=(IntProgress(value=0, description='Equilibrate sweep', style=ProgressStyle(description_width='in…"
      ]
     },
     "metadata": {},
     "output_type": "display_data"
    },
    {
     "data": {
      "application/vnd.jupyter.widget-view+json": {
       "model_id": "",
       "version_major": 2,
       "version_minor": 0
      },
      "text/plain": [
       "HBox(children=(IntProgress(value=0, description='Measurement sweep', max=1000, style=ProgressStyle(description…"
      ]
     },
     "metadata": {},
     "output_type": "display_data"
    },
    {
     "data": {
      "application/vnd.jupyter.widget-view+json": {
       "model_id": "",
       "version_major": 2,
       "version_minor": 0
      },
      "text/plain": [
       "HBox(children=(IntProgress(value=0, description='Equilibrate sweep', style=ProgressStyle(description_width='in…"
      ]
     },
     "metadata": {},
     "output_type": "display_data"
    },
    {
     "data": {
      "application/vnd.jupyter.widget-view+json": {
       "model_id": "",
       "version_major": 2,
       "version_minor": 0
      },
      "text/plain": [
       "HBox(children=(IntProgress(value=0, description='Measurement sweep', max=1000, style=ProgressStyle(description…"
      ]
     },
     "metadata": {},
     "output_type": "display_data"
    },
    {
     "data": {
      "application/vnd.jupyter.widget-view+json": {
       "model_id": "",
       "version_major": 2,
       "version_minor": 0
      },
      "text/plain": [
       "HBox(children=(IntProgress(value=0, description='Equilibrate sweep', style=ProgressStyle(description_width='in…"
      ]
     },
     "metadata": {},
     "output_type": "display_data"
    },
    {
     "data": {
      "application/vnd.jupyter.widget-view+json": {
       "model_id": "",
       "version_major": 2,
       "version_minor": 0
      },
      "text/plain": [
       "HBox(children=(IntProgress(value=0, description='Measurement sweep', max=1000, style=ProgressStyle(description…"
      ]
     },
     "metadata": {},
     "output_type": "display_data"
    },
    {
     "data": {
      "application/vnd.jupyter.widget-view+json": {
       "model_id": "",
       "version_major": 2,
       "version_minor": 0
      },
      "text/plain": [
       "HBox(children=(IntProgress(value=0, description='Equilibrate sweep', style=ProgressStyle(description_width='in…"
      ]
     },
     "metadata": {},
     "output_type": "display_data"
    },
    {
     "data": {
      "application/vnd.jupyter.widget-view+json": {
       "model_id": "",
       "version_major": 2,
       "version_minor": 0
      },
      "text/plain": [
       "HBox(children=(IntProgress(value=0, description='Measurement sweep', max=1000, style=ProgressStyle(description…"
      ]
     },
     "metadata": {},
     "output_type": "display_data"
    },
    {
     "data": {
      "application/vnd.jupyter.widget-view+json": {
       "model_id": "",
       "version_major": 2,
       "version_minor": 0
      },
      "text/plain": [
       "HBox(children=(IntProgress(value=0, description='Equilibrate sweep', style=ProgressStyle(description_width='in…"
      ]
     },
     "metadata": {},
     "output_type": "display_data"
    },
    {
     "data": {
      "application/vnd.jupyter.widget-view+json": {
       "model_id": "",
       "version_major": 2,
       "version_minor": 0
      },
      "text/plain": [
       "HBox(children=(IntProgress(value=0, description='Measurement sweep', max=1000, style=ProgressStyle(description…"
      ]
     },
     "metadata": {},
     "output_type": "display_data"
    },
    {
     "data": {
      "application/vnd.jupyter.widget-view+json": {
       "model_id": "",
       "version_major": 2,
       "version_minor": 0
      },
      "text/plain": [
       "HBox(children=(IntProgress(value=0, description='Equilibrate sweep', style=ProgressStyle(description_width='in…"
      ]
     },
     "metadata": {},
     "output_type": "display_data"
    },
    {
     "data": {
      "application/vnd.jupyter.widget-view+json": {
       "model_id": "",
       "version_major": 2,
       "version_minor": 0
      },
      "text/plain": [
       "HBox(children=(IntProgress(value=0, description='Measurement sweep', max=1000, style=ProgressStyle(description…"
      ]
     },
     "metadata": {},
     "output_type": "display_data"
    },
    {
     "data": {
      "application/vnd.jupyter.widget-view+json": {
       "model_id": "",
       "version_major": 2,
       "version_minor": 0
      },
      "text/plain": [
       "HBox(children=(IntProgress(value=0, description='Equilibrate sweep', style=ProgressStyle(description_width='in…"
      ]
     },
     "metadata": {},
     "output_type": "display_data"
    },
    {
     "data": {
      "application/vnd.jupyter.widget-view+json": {
       "model_id": "",
       "version_major": 2,
       "version_minor": 0
      },
      "text/plain": [
       "HBox(children=(IntProgress(value=0, description='Measurement sweep', max=1000, style=ProgressStyle(description…"
      ]
     },
     "metadata": {},
     "output_type": "display_data"
    },
    {
     "data": {
      "application/vnd.jupyter.widget-view+json": {
       "model_id": "",
       "version_major": 2,
       "version_minor": 0
      },
      "text/plain": [
       "HBox(children=(IntProgress(value=0, description='Equilibrate sweep', style=ProgressStyle(description_width='in…"
      ]
     },
     "metadata": {},
     "output_type": "display_data"
    },
    {
     "data": {
      "application/vnd.jupyter.widget-view+json": {
       "model_id": "",
       "version_major": 2,
       "version_minor": 0
      },
      "text/plain": [
       "HBox(children=(IntProgress(value=0, description='Measurement sweep', max=1000, style=ProgressStyle(description…"
      ]
     },
     "metadata": {},
     "output_type": "display_data"
    },
    {
     "data": {
      "application/vnd.jupyter.widget-view+json": {
       "model_id": "",
       "version_major": 2,
       "version_minor": 0
      },
      "text/plain": [
       "HBox(children=(IntProgress(value=0, description='Col', max=10, style=ProgressStyle(description_width='initial'…"
      ]
     },
     "metadata": {},
     "output_type": "display_data"
    },
    {
     "data": {
      "application/vnd.jupyter.widget-view+json": {
       "model_id": "",
       "version_major": 2,
       "version_minor": 0
      },
      "text/plain": [
       "HBox(children=(IntProgress(value=0, description='Equilibrate sweep', style=ProgressStyle(description_width='in…"
      ]
     },
     "metadata": {},
     "output_type": "display_data"
    },
    {
     "data": {
      "application/vnd.jupyter.widget-view+json": {
       "model_id": "",
       "version_major": 2,
       "version_minor": 0
      },
      "text/plain": [
       "HBox(children=(IntProgress(value=0, description='Measurement sweep', max=1000, style=ProgressStyle(description…"
      ]
     },
     "metadata": {},
     "output_type": "display_data"
    },
    {
     "data": {
      "application/vnd.jupyter.widget-view+json": {
       "model_id": "",
       "version_major": 2,
       "version_minor": 0
      },
      "text/plain": [
       "HBox(children=(IntProgress(value=0, description='Equilibrate sweep', style=ProgressStyle(description_width='in…"
      ]
     },
     "metadata": {},
     "output_type": "display_data"
    },
    {
     "data": {
      "application/vnd.jupyter.widget-view+json": {
       "model_id": "",
       "version_major": 2,
       "version_minor": 0
      },
      "text/plain": [
       "HBox(children=(IntProgress(value=0, description='Measurement sweep', max=1000, style=ProgressStyle(description…"
      ]
     },
     "metadata": {},
     "output_type": "display_data"
    },
    {
     "data": {
      "application/vnd.jupyter.widget-view+json": {
       "model_id": "",
       "version_major": 2,
       "version_minor": 0
      },
      "text/plain": [
       "HBox(children=(IntProgress(value=0, description='Equilibrate sweep', style=ProgressStyle(description_width='in…"
      ]
     },
     "metadata": {},
     "output_type": "display_data"
    },
    {
     "data": {
      "application/vnd.jupyter.widget-view+json": {
       "model_id": "",
       "version_major": 2,
       "version_minor": 0
      },
      "text/plain": [
       "HBox(children=(IntProgress(value=0, description='Measurement sweep', max=1000, style=ProgressStyle(description…"
      ]
     },
     "metadata": {},
     "output_type": "display_data"
    },
    {
     "data": {
      "application/vnd.jupyter.widget-view+json": {
       "model_id": "",
       "version_major": 2,
       "version_minor": 0
      },
      "text/plain": [
       "HBox(children=(IntProgress(value=0, description='Equilibrate sweep', style=ProgressStyle(description_width='in…"
      ]
     },
     "metadata": {},
     "output_type": "display_data"
    },
    {
     "data": {
      "application/vnd.jupyter.widget-view+json": {
       "model_id": "",
       "version_major": 2,
       "version_minor": 0
      },
      "text/plain": [
       "HBox(children=(IntProgress(value=0, description='Measurement sweep', max=1000, style=ProgressStyle(description…"
      ]
     },
     "metadata": {},
     "output_type": "display_data"
    },
    {
     "data": {
      "application/vnd.jupyter.widget-view+json": {
       "model_id": "",
       "version_major": 2,
       "version_minor": 0
      },
      "text/plain": [
       "HBox(children=(IntProgress(value=0, description='Equilibrate sweep', style=ProgressStyle(description_width='in…"
      ]
     },
     "metadata": {},
     "output_type": "display_data"
    },
    {
     "data": {
      "application/vnd.jupyter.widget-view+json": {
       "model_id": "",
       "version_major": 2,
       "version_minor": 0
      },
      "text/plain": [
       "HBox(children=(IntProgress(value=0, description='Measurement sweep', max=1000, style=ProgressStyle(description…"
      ]
     },
     "metadata": {},
     "output_type": "display_data"
    },
    {
     "data": {
      "application/vnd.jupyter.widget-view+json": {
       "model_id": "",
       "version_major": 2,
       "version_minor": 0
      },
      "text/plain": [
       "HBox(children=(IntProgress(value=0, description='Equilibrate sweep', style=ProgressStyle(description_width='in…"
      ]
     },
     "metadata": {},
     "output_type": "display_data"
    },
    {
     "data": {
      "application/vnd.jupyter.widget-view+json": {
       "model_id": "",
       "version_major": 2,
       "version_minor": 0
      },
      "text/plain": [
       "HBox(children=(IntProgress(value=0, description='Measurement sweep', max=1000, style=ProgressStyle(description…"
      ]
     },
     "metadata": {},
     "output_type": "display_data"
    },
    {
     "data": {
      "application/vnd.jupyter.widget-view+json": {
       "model_id": "",
       "version_major": 2,
       "version_minor": 0
      },
      "text/plain": [
       "HBox(children=(IntProgress(value=0, description='Equilibrate sweep', style=ProgressStyle(description_width='in…"
      ]
     },
     "metadata": {},
     "output_type": "display_data"
    },
    {
     "data": {
      "application/vnd.jupyter.widget-view+json": {
       "model_id": "",
       "version_major": 2,
       "version_minor": 0
      },
      "text/plain": [
       "HBox(children=(IntProgress(value=0, description='Measurement sweep', max=1000, style=ProgressStyle(description…"
      ]
     },
     "metadata": {},
     "output_type": "display_data"
    },
    {
     "data": {
      "application/vnd.jupyter.widget-view+json": {
       "model_id": "",
       "version_major": 2,
       "version_minor": 0
      },
      "text/plain": [
       "HBox(children=(IntProgress(value=0, description='Equilibrate sweep', style=ProgressStyle(description_width='in…"
      ]
     },
     "metadata": {},
     "output_type": "display_data"
    },
    {
     "data": {
      "application/vnd.jupyter.widget-view+json": {
       "model_id": "",
       "version_major": 2,
       "version_minor": 0
      },
      "text/plain": [
       "HBox(children=(IntProgress(value=0, description='Measurement sweep', max=1000, style=ProgressStyle(description…"
      ]
     },
     "metadata": {},
     "output_type": "display_data"
    },
    {
     "data": {
      "application/vnd.jupyter.widget-view+json": {
       "model_id": "",
       "version_major": 2,
       "version_minor": 0
      },
      "text/plain": [
       "HBox(children=(IntProgress(value=0, description='Equilibrate sweep', style=ProgressStyle(description_width='in…"
      ]
     },
     "metadata": {},
     "output_type": "display_data"
    },
    {
     "data": {
      "application/vnd.jupyter.widget-view+json": {
       "model_id": "",
       "version_major": 2,
       "version_minor": 0
      },
      "text/plain": [
       "HBox(children=(IntProgress(value=0, description='Measurement sweep', max=1000, style=ProgressStyle(description…"
      ]
     },
     "metadata": {},
     "output_type": "display_data"
    },
    {
     "data": {
      "application/vnd.jupyter.widget-view+json": {
       "model_id": "",
       "version_major": 2,
       "version_minor": 0
      },
      "text/plain": [
       "HBox(children=(IntProgress(value=0, description='Equilibrate sweep', style=ProgressStyle(description_width='in…"
      ]
     },
     "metadata": {},
     "output_type": "display_data"
    },
    {
     "data": {
      "application/vnd.jupyter.widget-view+json": {
       "model_id": "",
       "version_major": 2,
       "version_minor": 0
      },
      "text/plain": [
       "HBox(children=(IntProgress(value=0, description='Measurement sweep', max=1000, style=ProgressStyle(description…"
      ]
     },
     "metadata": {},
     "output_type": "display_data"
    },
    {
     "data": {
      "application/vnd.jupyter.widget-view+json": {
       "model_id": "",
       "version_major": 2,
       "version_minor": 0
      },
      "text/plain": [
       "HBox(children=(IntProgress(value=0, description='Col', max=10, style=ProgressStyle(description_width='initial'…"
      ]
     },
     "metadata": {},
     "output_type": "display_data"
    },
    {
     "data": {
      "application/vnd.jupyter.widget-view+json": {
       "model_id": "",
       "version_major": 2,
       "version_minor": 0
      },
      "text/plain": [
       "HBox(children=(IntProgress(value=0, description='Equilibrate sweep', style=ProgressStyle(description_width='in…"
      ]
     },
     "metadata": {},
     "output_type": "display_data"
    },
    {
     "data": {
      "application/vnd.jupyter.widget-view+json": {
       "model_id": "",
       "version_major": 2,
       "version_minor": 0
      },
      "text/plain": [
       "HBox(children=(IntProgress(value=0, description='Measurement sweep', max=1000, style=ProgressStyle(description…"
      ]
     },
     "metadata": {},
     "output_type": "display_data"
    },
    {
     "data": {
      "application/vnd.jupyter.widget-view+json": {
       "model_id": "",
       "version_major": 2,
       "version_minor": 0
      },
      "text/plain": [
       "HBox(children=(IntProgress(value=0, description='Equilibrate sweep', style=ProgressStyle(description_width='in…"
      ]
     },
     "metadata": {},
     "output_type": "display_data"
    },
    {
     "data": {
      "application/vnd.jupyter.widget-view+json": {
       "model_id": "",
       "version_major": 2,
       "version_minor": 0
      },
      "text/plain": [
       "HBox(children=(IntProgress(value=0, description='Measurement sweep', max=1000, style=ProgressStyle(description…"
      ]
     },
     "metadata": {},
     "output_type": "display_data"
    },
    {
     "data": {
      "application/vnd.jupyter.widget-view+json": {
       "model_id": "",
       "version_major": 2,
       "version_minor": 0
      },
      "text/plain": [
       "HBox(children=(IntProgress(value=0, description='Equilibrate sweep', style=ProgressStyle(description_width='in…"
      ]
     },
     "metadata": {},
     "output_type": "display_data"
    },
    {
     "data": {
      "application/vnd.jupyter.widget-view+json": {
       "model_id": "",
       "version_major": 2,
       "version_minor": 0
      },
      "text/plain": [
       "HBox(children=(IntProgress(value=0, description='Measurement sweep', max=1000, style=ProgressStyle(description…"
      ]
     },
     "metadata": {},
     "output_type": "display_data"
    },
    {
     "data": {
      "application/vnd.jupyter.widget-view+json": {
       "model_id": "",
       "version_major": 2,
       "version_minor": 0
      },
      "text/plain": [
       "HBox(children=(IntProgress(value=0, description='Equilibrate sweep', style=ProgressStyle(description_width='in…"
      ]
     },
     "metadata": {},
     "output_type": "display_data"
    },
    {
     "data": {
      "application/vnd.jupyter.widget-view+json": {
       "model_id": "",
       "version_major": 2,
       "version_minor": 0
      },
      "text/plain": [
       "HBox(children=(IntProgress(value=0, description='Measurement sweep', max=1000, style=ProgressStyle(description…"
      ]
     },
     "metadata": {},
     "output_type": "display_data"
    },
    {
     "data": {
      "application/vnd.jupyter.widget-view+json": {
       "model_id": "",
       "version_major": 2,
       "version_minor": 0
      },
      "text/plain": [
       "HBox(children=(IntProgress(value=0, description='Equilibrate sweep', style=ProgressStyle(description_width='in…"
      ]
     },
     "metadata": {},
     "output_type": "display_data"
    },
    {
     "data": {
      "application/vnd.jupyter.widget-view+json": {
       "model_id": "",
       "version_major": 2,
       "version_minor": 0
      },
      "text/plain": [
       "HBox(children=(IntProgress(value=0, description='Measurement sweep', max=1000, style=ProgressStyle(description…"
      ]
     },
     "metadata": {},
     "output_type": "display_data"
    },
    {
     "data": {
      "application/vnd.jupyter.widget-view+json": {
       "model_id": "",
       "version_major": 2,
       "version_minor": 0
      },
      "text/plain": [
       "HBox(children=(IntProgress(value=0, description='Equilibrate sweep', style=ProgressStyle(description_width='in…"
      ]
     },
     "metadata": {},
     "output_type": "display_data"
    },
    {
     "data": {
      "application/vnd.jupyter.widget-view+json": {
       "model_id": "",
       "version_major": 2,
       "version_minor": 0
      },
      "text/plain": [
       "HBox(children=(IntProgress(value=0, description='Measurement sweep', max=1000, style=ProgressStyle(description…"
      ]
     },
     "metadata": {},
     "output_type": "display_data"
    },
    {
     "data": {
      "application/vnd.jupyter.widget-view+json": {
       "model_id": "",
       "version_major": 2,
       "version_minor": 0
      },
      "text/plain": [
       "HBox(children=(IntProgress(value=0, description='Equilibrate sweep', style=ProgressStyle(description_width='in…"
      ]
     },
     "metadata": {},
     "output_type": "display_data"
    },
    {
     "data": {
      "application/vnd.jupyter.widget-view+json": {
       "model_id": "",
       "version_major": 2,
       "version_minor": 0
      },
      "text/plain": [
       "HBox(children=(IntProgress(value=0, description='Measurement sweep', max=1000, style=ProgressStyle(description…"
      ]
     },
     "metadata": {},
     "output_type": "display_data"
    },
    {
     "data": {
      "application/vnd.jupyter.widget-view+json": {
       "model_id": "",
       "version_major": 2,
       "version_minor": 0
      },
      "text/plain": [
       "HBox(children=(IntProgress(value=0, description='Equilibrate sweep', style=ProgressStyle(description_width='in…"
      ]
     },
     "metadata": {},
     "output_type": "display_data"
    },
    {
     "data": {
      "application/vnd.jupyter.widget-view+json": {
       "model_id": "",
       "version_major": 2,
       "version_minor": 0
      },
      "text/plain": [
       "HBox(children=(IntProgress(value=0, description='Measurement sweep', max=1000, style=ProgressStyle(description…"
      ]
     },
     "metadata": {},
     "output_type": "display_data"
    },
    {
     "data": {
      "application/vnd.jupyter.widget-view+json": {
       "model_id": "",
       "version_major": 2,
       "version_minor": 0
      },
      "text/plain": [
       "HBox(children=(IntProgress(value=0, description='Equilibrate sweep', style=ProgressStyle(description_width='in…"
      ]
     },
     "metadata": {},
     "output_type": "display_data"
    },
    {
     "data": {
      "application/vnd.jupyter.widget-view+json": {
       "model_id": "",
       "version_major": 2,
       "version_minor": 0
      },
      "text/plain": [
       "HBox(children=(IntProgress(value=0, description='Measurement sweep', max=1000, style=ProgressStyle(description…"
      ]
     },
     "metadata": {},
     "output_type": "display_data"
    },
    {
     "data": {
      "application/vnd.jupyter.widget-view+json": {
       "model_id": "",
       "version_major": 2,
       "version_minor": 0
      },
      "text/plain": [
       "HBox(children=(IntProgress(value=0, description='Equilibrate sweep', style=ProgressStyle(description_width='in…"
      ]
     },
     "metadata": {},
     "output_type": "display_data"
    },
    {
     "data": {
      "application/vnd.jupyter.widget-view+json": {
       "model_id": "",
       "version_major": 2,
       "version_minor": 0
      },
      "text/plain": [
       "HBox(children=(IntProgress(value=0, description='Measurement sweep', max=1000, style=ProgressStyle(description…"
      ]
     },
     "metadata": {},
     "output_type": "display_data"
    },
    {
     "data": {
      "application/vnd.jupyter.widget-view+json": {
       "model_id": "",
       "version_major": 2,
       "version_minor": 0
      },
      "text/plain": [
       "HBox(children=(IntProgress(value=0, description='Col', max=10, style=ProgressStyle(description_width='initial'…"
      ]
     },
     "metadata": {},
     "output_type": "display_data"
    },
    {
     "data": {
      "application/vnd.jupyter.widget-view+json": {
       "model_id": "",
       "version_major": 2,
       "version_minor": 0
      },
      "text/plain": [
       "HBox(children=(IntProgress(value=0, description='Equilibrate sweep', style=ProgressStyle(description_width='in…"
      ]
     },
     "metadata": {},
     "output_type": "display_data"
    },
    {
     "data": {
      "application/vnd.jupyter.widget-view+json": {
       "model_id": "",
       "version_major": 2,
       "version_minor": 0
      },
      "text/plain": [
       "HBox(children=(IntProgress(value=0, description='Measurement sweep', max=1000, style=ProgressStyle(description…"
      ]
     },
     "metadata": {},
     "output_type": "display_data"
    },
    {
     "data": {
      "application/vnd.jupyter.widget-view+json": {
       "model_id": "",
       "version_major": 2,
       "version_minor": 0
      },
      "text/plain": [
       "HBox(children=(IntProgress(value=0, description='Equilibrate sweep', style=ProgressStyle(description_width='in…"
      ]
     },
     "metadata": {},
     "output_type": "display_data"
    },
    {
     "data": {
      "application/vnd.jupyter.widget-view+json": {
       "model_id": "",
       "version_major": 2,
       "version_minor": 0
      },
      "text/plain": [
       "HBox(children=(IntProgress(value=0, description='Measurement sweep', max=1000, style=ProgressStyle(description…"
      ]
     },
     "metadata": {},
     "output_type": "display_data"
    },
    {
     "data": {
      "application/vnd.jupyter.widget-view+json": {
       "model_id": "",
       "version_major": 2,
       "version_minor": 0
      },
      "text/plain": [
       "HBox(children=(IntProgress(value=0, description='Equilibrate sweep', style=ProgressStyle(description_width='in…"
      ]
     },
     "metadata": {},
     "output_type": "display_data"
    },
    {
     "data": {
      "application/vnd.jupyter.widget-view+json": {
       "model_id": "",
       "version_major": 2,
       "version_minor": 0
      },
      "text/plain": [
       "HBox(children=(IntProgress(value=0, description='Measurement sweep', max=1000, style=ProgressStyle(description…"
      ]
     },
     "metadata": {},
     "output_type": "display_data"
    },
    {
     "data": {
      "application/vnd.jupyter.widget-view+json": {
       "model_id": "",
       "version_major": 2,
       "version_minor": 0
      },
      "text/plain": [
       "HBox(children=(IntProgress(value=0, description='Equilibrate sweep', style=ProgressStyle(description_width='in…"
      ]
     },
     "metadata": {},
     "output_type": "display_data"
    },
    {
     "data": {
      "application/vnd.jupyter.widget-view+json": {
       "model_id": "",
       "version_major": 2,
       "version_minor": 0
      },
      "text/plain": [
       "HBox(children=(IntProgress(value=0, description='Measurement sweep', max=1000, style=ProgressStyle(description…"
      ]
     },
     "metadata": {},
     "output_type": "display_data"
    },
    {
     "data": {
      "application/vnd.jupyter.widget-view+json": {
       "model_id": "",
       "version_major": 2,
       "version_minor": 0
      },
      "text/plain": [
       "HBox(children=(IntProgress(value=0, description='Equilibrate sweep', style=ProgressStyle(description_width='in…"
      ]
     },
     "metadata": {},
     "output_type": "display_data"
    },
    {
     "data": {
      "application/vnd.jupyter.widget-view+json": {
       "model_id": "",
       "version_major": 2,
       "version_minor": 0
      },
      "text/plain": [
       "HBox(children=(IntProgress(value=0, description='Measurement sweep', max=1000, style=ProgressStyle(description…"
      ]
     },
     "metadata": {},
     "output_type": "display_data"
    },
    {
     "data": {
      "application/vnd.jupyter.widget-view+json": {
       "model_id": "",
       "version_major": 2,
       "version_minor": 0
      },
      "text/plain": [
       "HBox(children=(IntProgress(value=0, description='Equilibrate sweep', style=ProgressStyle(description_width='in…"
      ]
     },
     "metadata": {},
     "output_type": "display_data"
    },
    {
     "data": {
      "application/vnd.jupyter.widget-view+json": {
       "model_id": "",
       "version_major": 2,
       "version_minor": 0
      },
      "text/plain": [
       "HBox(children=(IntProgress(value=0, description='Measurement sweep', max=1000, style=ProgressStyle(description…"
      ]
     },
     "metadata": {},
     "output_type": "display_data"
    },
    {
     "data": {
      "application/vnd.jupyter.widget-view+json": {
       "model_id": "",
       "version_major": 2,
       "version_minor": 0
      },
      "text/plain": [
       "HBox(children=(IntProgress(value=0, description='Equilibrate sweep', style=ProgressStyle(description_width='in…"
      ]
     },
     "metadata": {},
     "output_type": "display_data"
    },
    {
     "data": {
      "application/vnd.jupyter.widget-view+json": {
       "model_id": "",
       "version_major": 2,
       "version_minor": 0
      },
      "text/plain": [
       "HBox(children=(IntProgress(value=0, description='Measurement sweep', max=1000, style=ProgressStyle(description…"
      ]
     },
     "metadata": {},
     "output_type": "display_data"
    },
    {
     "data": {
      "application/vnd.jupyter.widget-view+json": {
       "model_id": "",
       "version_major": 2,
       "version_minor": 0
      },
      "text/plain": [
       "HBox(children=(IntProgress(value=0, description='Equilibrate sweep', style=ProgressStyle(description_width='in…"
      ]
     },
     "metadata": {},
     "output_type": "display_data"
    },
    {
     "data": {
      "application/vnd.jupyter.widget-view+json": {
       "model_id": "",
       "version_major": 2,
       "version_minor": 0
      },
      "text/plain": [
       "HBox(children=(IntProgress(value=0, description='Measurement sweep', max=1000, style=ProgressStyle(description…"
      ]
     },
     "metadata": {},
     "output_type": "display_data"
    },
    {
     "data": {
      "application/vnd.jupyter.widget-view+json": {
       "model_id": "",
       "version_major": 2,
       "version_minor": 0
      },
      "text/plain": [
       "HBox(children=(IntProgress(value=0, description='Equilibrate sweep', style=ProgressStyle(description_width='in…"
      ]
     },
     "metadata": {},
     "output_type": "display_data"
    },
    {
     "data": {
      "application/vnd.jupyter.widget-view+json": {
       "model_id": "",
       "version_major": 2,
       "version_minor": 0
      },
      "text/plain": [
       "HBox(children=(IntProgress(value=0, description='Measurement sweep', max=1000, style=ProgressStyle(description…"
      ]
     },
     "metadata": {},
     "output_type": "display_data"
    },
    {
     "data": {
      "application/vnd.jupyter.widget-view+json": {
       "model_id": "",
       "version_major": 2,
       "version_minor": 0
      },
      "text/plain": [
       "HBox(children=(IntProgress(value=0, description='Equilibrate sweep', style=ProgressStyle(description_width='in…"
      ]
     },
     "metadata": {},
     "output_type": "display_data"
    },
    {
     "data": {
      "application/vnd.jupyter.widget-view+json": {
       "model_id": "",
       "version_major": 2,
       "version_minor": 0
      },
      "text/plain": [
       "HBox(children=(IntProgress(value=0, description='Measurement sweep', max=1000, style=ProgressStyle(description…"
      ]
     },
     "metadata": {},
     "output_type": "display_data"
    },
    {
     "data": {
      "application/vnd.jupyter.widget-view+json": {
       "model_id": "",
       "version_major": 2,
       "version_minor": 0
      },
      "text/plain": [
       "HBox(children=(IntProgress(value=0, description='Col', max=10, style=ProgressStyle(description_width='initial'…"
      ]
     },
     "metadata": {},
     "output_type": "display_data"
    },
    {
     "data": {
      "application/vnd.jupyter.widget-view+json": {
       "model_id": "",
       "version_major": 2,
       "version_minor": 0
      },
      "text/plain": [
       "HBox(children=(IntProgress(value=0, description='Equilibrate sweep', style=ProgressStyle(description_width='in…"
      ]
     },
     "metadata": {},
     "output_type": "display_data"
    },
    {
     "data": {
      "application/vnd.jupyter.widget-view+json": {
       "model_id": "",
       "version_major": 2,
       "version_minor": 0
      },
      "text/plain": [
       "HBox(children=(IntProgress(value=0, description='Measurement sweep', max=1000, style=ProgressStyle(description…"
      ]
     },
     "metadata": {},
     "output_type": "display_data"
    },
    {
     "data": {
      "application/vnd.jupyter.widget-view+json": {
       "model_id": "",
       "version_major": 2,
       "version_minor": 0
      },
      "text/plain": [
       "HBox(children=(IntProgress(value=0, description='Equilibrate sweep', style=ProgressStyle(description_width='in…"
      ]
     },
     "metadata": {},
     "output_type": "display_data"
    },
    {
     "data": {
      "application/vnd.jupyter.widget-view+json": {
       "model_id": "",
       "version_major": 2,
       "version_minor": 0
      },
      "text/plain": [
       "HBox(children=(IntProgress(value=0, description='Measurement sweep', max=1000, style=ProgressStyle(description…"
      ]
     },
     "metadata": {},
     "output_type": "display_data"
    },
    {
     "data": {
      "application/vnd.jupyter.widget-view+json": {
       "model_id": "",
       "version_major": 2,
       "version_minor": 0
      },
      "text/plain": [
       "HBox(children=(IntProgress(value=0, description='Equilibrate sweep', style=ProgressStyle(description_width='in…"
      ]
     },
     "metadata": {},
     "output_type": "display_data"
    },
    {
     "data": {
      "application/vnd.jupyter.widget-view+json": {
       "model_id": "",
       "version_major": 2,
       "version_minor": 0
      },
      "text/plain": [
       "HBox(children=(IntProgress(value=0, description='Measurement sweep', max=1000, style=ProgressStyle(description…"
      ]
     },
     "metadata": {},
     "output_type": "display_data"
    },
    {
     "data": {
      "application/vnd.jupyter.widget-view+json": {
       "model_id": "",
       "version_major": 2,
       "version_minor": 0
      },
      "text/plain": [
       "HBox(children=(IntProgress(value=0, description='Equilibrate sweep', style=ProgressStyle(description_width='in…"
      ]
     },
     "metadata": {},
     "output_type": "display_data"
    },
    {
     "data": {
      "application/vnd.jupyter.widget-view+json": {
       "model_id": "",
       "version_major": 2,
       "version_minor": 0
      },
      "text/plain": [
       "HBox(children=(IntProgress(value=0, description='Measurement sweep', max=1000, style=ProgressStyle(description…"
      ]
     },
     "metadata": {},
     "output_type": "display_data"
    },
    {
     "data": {
      "application/vnd.jupyter.widget-view+json": {
       "model_id": "",
       "version_major": 2,
       "version_minor": 0
      },
      "text/plain": [
       "HBox(children=(IntProgress(value=0, description='Equilibrate sweep', style=ProgressStyle(description_width='in…"
      ]
     },
     "metadata": {},
     "output_type": "display_data"
    },
    {
     "data": {
      "application/vnd.jupyter.widget-view+json": {
       "model_id": "",
       "version_major": 2,
       "version_minor": 0
      },
      "text/plain": [
       "HBox(children=(IntProgress(value=0, description='Measurement sweep', max=1000, style=ProgressStyle(description…"
      ]
     },
     "metadata": {},
     "output_type": "display_data"
    },
    {
     "data": {
      "application/vnd.jupyter.widget-view+json": {
       "model_id": "",
       "version_major": 2,
       "version_minor": 0
      },
      "text/plain": [
       "HBox(children=(IntProgress(value=0, description='Equilibrate sweep', style=ProgressStyle(description_width='in…"
      ]
     },
     "metadata": {},
     "output_type": "display_data"
    },
    {
     "data": {
      "application/vnd.jupyter.widget-view+json": {
       "model_id": "",
       "version_major": 2,
       "version_minor": 0
      },
      "text/plain": [
       "HBox(children=(IntProgress(value=0, description='Measurement sweep', max=1000, style=ProgressStyle(description…"
      ]
     },
     "metadata": {},
     "output_type": "display_data"
    },
    {
     "data": {
      "application/vnd.jupyter.widget-view+json": {
       "model_id": "",
       "version_major": 2,
       "version_minor": 0
      },
      "text/plain": [
       "HBox(children=(IntProgress(value=0, description='Equilibrate sweep', style=ProgressStyle(description_width='in…"
      ]
     },
     "metadata": {},
     "output_type": "display_data"
    },
    {
     "data": {
      "application/vnd.jupyter.widget-view+json": {
       "model_id": "",
       "version_major": 2,
       "version_minor": 0
      },
      "text/plain": [
       "HBox(children=(IntProgress(value=0, description='Measurement sweep', max=1000, style=ProgressStyle(description…"
      ]
     },
     "metadata": {},
     "output_type": "display_data"
    },
    {
     "data": {
      "application/vnd.jupyter.widget-view+json": {
       "model_id": "",
       "version_major": 2,
       "version_minor": 0
      },
      "text/plain": [
       "HBox(children=(IntProgress(value=0, description='Equilibrate sweep', style=ProgressStyle(description_width='in…"
      ]
     },
     "metadata": {},
     "output_type": "display_data"
    },
    {
     "data": {
      "application/vnd.jupyter.widget-view+json": {
       "model_id": "",
       "version_major": 2,
       "version_minor": 0
      },
      "text/plain": [
       "HBox(children=(IntProgress(value=0, description='Measurement sweep', max=1000, style=ProgressStyle(description…"
      ]
     },
     "metadata": {},
     "output_type": "display_data"
    },
    {
     "data": {
      "application/vnd.jupyter.widget-view+json": {
       "model_id": "",
       "version_major": 2,
       "version_minor": 0
      },
      "text/plain": [
       "HBox(children=(IntProgress(value=0, description='Equilibrate sweep', style=ProgressStyle(description_width='in…"
      ]
     },
     "metadata": {},
     "output_type": "display_data"
    },
    {
     "data": {
      "application/vnd.jupyter.widget-view+json": {
       "model_id": "",
       "version_major": 2,
       "version_minor": 0
      },
      "text/plain": [
       "HBox(children=(IntProgress(value=0, description='Measurement sweep', max=1000, style=ProgressStyle(description…"
      ]
     },
     "metadata": {},
     "output_type": "display_data"
    },
    {
     "data": {
      "application/vnd.jupyter.widget-view+json": {
       "model_id": "",
       "version_major": 2,
       "version_minor": 0
      },
      "text/plain": [
       "HBox(children=(IntProgress(value=0, description='Equilibrate sweep', style=ProgressStyle(description_width='in…"
      ]
     },
     "metadata": {},
     "output_type": "display_data"
    },
    {
     "data": {
      "application/vnd.jupyter.widget-view+json": {
       "model_id": "",
       "version_major": 2,
       "version_minor": 0
      },
      "text/plain": [
       "HBox(children=(IntProgress(value=0, description='Measurement sweep', max=1000, style=ProgressStyle(description…"
      ]
     },
     "metadata": {},
     "output_type": "display_data"
    },
    {
     "data": {
      "application/vnd.jupyter.widget-view+json": {
       "model_id": "",
       "version_major": 2,
       "version_minor": 0
      },
      "text/plain": [
       "HBox(children=(IntProgress(value=0, description='Col', max=10, style=ProgressStyle(description_width='initial'…"
      ]
     },
     "metadata": {},
     "output_type": "display_data"
    },
    {
     "data": {
      "application/vnd.jupyter.widget-view+json": {
       "model_id": "",
       "version_major": 2,
       "version_minor": 0
      },
      "text/plain": [
       "HBox(children=(IntProgress(value=0, description='Equilibrate sweep', style=ProgressStyle(description_width='in…"
      ]
     },
     "metadata": {},
     "output_type": "display_data"
    },
    {
     "data": {
      "application/vnd.jupyter.widget-view+json": {
       "model_id": "",
       "version_major": 2,
       "version_minor": 0
      },
      "text/plain": [
       "HBox(children=(IntProgress(value=0, description='Measurement sweep', max=1000, style=ProgressStyle(description…"
      ]
     },
     "metadata": {},
     "output_type": "display_data"
    },
    {
     "data": {
      "application/vnd.jupyter.widget-view+json": {
       "model_id": "",
       "version_major": 2,
       "version_minor": 0
      },
      "text/plain": [
       "HBox(children=(IntProgress(value=0, description='Equilibrate sweep', style=ProgressStyle(description_width='in…"
      ]
     },
     "metadata": {},
     "output_type": "display_data"
    },
    {
     "data": {
      "application/vnd.jupyter.widget-view+json": {
       "model_id": "",
       "version_major": 2,
       "version_minor": 0
      },
      "text/plain": [
       "HBox(children=(IntProgress(value=0, description='Measurement sweep', max=1000, style=ProgressStyle(description…"
      ]
     },
     "metadata": {},
     "output_type": "display_data"
    },
    {
     "data": {
      "application/vnd.jupyter.widget-view+json": {
       "model_id": "",
       "version_major": 2,
       "version_minor": 0
      },
      "text/plain": [
       "HBox(children=(IntProgress(value=0, description='Equilibrate sweep', style=ProgressStyle(description_width='in…"
      ]
     },
     "metadata": {},
     "output_type": "display_data"
    },
    {
     "data": {
      "application/vnd.jupyter.widget-view+json": {
       "model_id": "",
       "version_major": 2,
       "version_minor": 0
      },
      "text/plain": [
       "HBox(children=(IntProgress(value=0, description='Measurement sweep', max=1000, style=ProgressStyle(description…"
      ]
     },
     "metadata": {},
     "output_type": "display_data"
    },
    {
     "data": {
      "application/vnd.jupyter.widget-view+json": {
       "model_id": "",
       "version_major": 2,
       "version_minor": 0
      },
      "text/plain": [
       "HBox(children=(IntProgress(value=0, description='Equilibrate sweep', style=ProgressStyle(description_width='in…"
      ]
     },
     "metadata": {},
     "output_type": "display_data"
    },
    {
     "data": {
      "application/vnd.jupyter.widget-view+json": {
       "model_id": "",
       "version_major": 2,
       "version_minor": 0
      },
      "text/plain": [
       "HBox(children=(IntProgress(value=0, description='Measurement sweep', max=1000, style=ProgressStyle(description…"
      ]
     },
     "metadata": {},
     "output_type": "display_data"
    },
    {
     "data": {
      "application/vnd.jupyter.widget-view+json": {
       "model_id": "",
       "version_major": 2,
       "version_minor": 0
      },
      "text/plain": [
       "HBox(children=(IntProgress(value=0, description='Equilibrate sweep', style=ProgressStyle(description_width='in…"
      ]
     },
     "metadata": {},
     "output_type": "display_data"
    },
    {
     "data": {
      "application/vnd.jupyter.widget-view+json": {
       "model_id": "",
       "version_major": 2,
       "version_minor": 0
      },
      "text/plain": [
       "HBox(children=(IntProgress(value=0, description='Measurement sweep', max=1000, style=ProgressStyle(description…"
      ]
     },
     "metadata": {},
     "output_type": "display_data"
    },
    {
     "data": {
      "application/vnd.jupyter.widget-view+json": {
       "model_id": "",
       "version_major": 2,
       "version_minor": 0
      },
      "text/plain": [
       "HBox(children=(IntProgress(value=0, description='Equilibrate sweep', style=ProgressStyle(description_width='in…"
      ]
     },
     "metadata": {},
     "output_type": "display_data"
    },
    {
     "data": {
      "application/vnd.jupyter.widget-view+json": {
       "model_id": "",
       "version_major": 2,
       "version_minor": 0
      },
      "text/plain": [
       "HBox(children=(IntProgress(value=0, description='Measurement sweep', max=1000, style=ProgressStyle(description…"
      ]
     },
     "metadata": {},
     "output_type": "display_data"
    },
    {
     "data": {
      "application/vnd.jupyter.widget-view+json": {
       "model_id": "",
       "version_major": 2,
       "version_minor": 0
      },
      "text/plain": [
       "HBox(children=(IntProgress(value=0, description='Equilibrate sweep', style=ProgressStyle(description_width='in…"
      ]
     },
     "metadata": {},
     "output_type": "display_data"
    },
    {
     "data": {
      "application/vnd.jupyter.widget-view+json": {
       "model_id": "",
       "version_major": 2,
       "version_minor": 0
      },
      "text/plain": [
       "HBox(children=(IntProgress(value=0, description='Measurement sweep', max=1000, style=ProgressStyle(description…"
      ]
     },
     "metadata": {},
     "output_type": "display_data"
    },
    {
     "data": {
      "application/vnd.jupyter.widget-view+json": {
       "model_id": "",
       "version_major": 2,
       "version_minor": 0
      },
      "text/plain": [
       "HBox(children=(IntProgress(value=0, description='Equilibrate sweep', style=ProgressStyle(description_width='in…"
      ]
     },
     "metadata": {},
     "output_type": "display_data"
    },
    {
     "data": {
      "application/vnd.jupyter.widget-view+json": {
       "model_id": "",
       "version_major": 2,
       "version_minor": 0
      },
      "text/plain": [
       "HBox(children=(IntProgress(value=0, description='Measurement sweep', max=1000, style=ProgressStyle(description…"
      ]
     },
     "metadata": {},
     "output_type": "display_data"
    },
    {
     "data": {
      "application/vnd.jupyter.widget-view+json": {
       "model_id": "",
       "version_major": 2,
       "version_minor": 0
      },
      "text/plain": [
       "HBox(children=(IntProgress(value=0, description='Equilibrate sweep', style=ProgressStyle(description_width='in…"
      ]
     },
     "metadata": {},
     "output_type": "display_data"
    },
    {
     "data": {
      "application/vnd.jupyter.widget-view+json": {
       "model_id": "",
       "version_major": 2,
       "version_minor": 0
      },
      "text/plain": [
       "HBox(children=(IntProgress(value=0, description='Measurement sweep', max=1000, style=ProgressStyle(description…"
      ]
     },
     "metadata": {},
     "output_type": "display_data"
    },
    {
     "data": {
      "application/vnd.jupyter.widget-view+json": {
       "model_id": "",
       "version_major": 2,
       "version_minor": 0
      },
      "text/plain": [
       "HBox(children=(IntProgress(value=0, description='Equilibrate sweep', style=ProgressStyle(description_width='in…"
      ]
     },
     "metadata": {},
     "output_type": "display_data"
    },
    {
     "data": {
      "application/vnd.jupyter.widget-view+json": {
       "model_id": "",
       "version_major": 2,
       "version_minor": 0
      },
      "text/plain": [
       "HBox(children=(IntProgress(value=0, description='Measurement sweep', max=1000, style=ProgressStyle(description…"
      ]
     },
     "metadata": {},
     "output_type": "display_data"
    },
    {
     "data": {
      "application/vnd.jupyter.widget-view+json": {
       "model_id": "",
       "version_major": 2,
       "version_minor": 0
      },
      "text/plain": [
       "HBox(children=(IntProgress(value=0, description='Col', max=10, style=ProgressStyle(description_width='initial'…"
      ]
     },
     "metadata": {},
     "output_type": "display_data"
    },
    {
     "data": {
      "application/vnd.jupyter.widget-view+json": {
       "model_id": "",
       "version_major": 2,
       "version_minor": 0
      },
      "text/plain": [
       "HBox(children=(IntProgress(value=0, description='Equilibrate sweep', style=ProgressStyle(description_width='in…"
      ]
     },
     "metadata": {},
     "output_type": "display_data"
    },
    {
     "data": {
      "application/vnd.jupyter.widget-view+json": {
       "model_id": "",
       "version_major": 2,
       "version_minor": 0
      },
      "text/plain": [
       "HBox(children=(IntProgress(value=0, description='Measurement sweep', max=1000, style=ProgressStyle(description…"
      ]
     },
     "metadata": {},
     "output_type": "display_data"
    },
    {
     "data": {
      "application/vnd.jupyter.widget-view+json": {
       "model_id": "",
       "version_major": 2,
       "version_minor": 0
      },
      "text/plain": [
       "HBox(children=(IntProgress(value=0, description='Equilibrate sweep', style=ProgressStyle(description_width='in…"
      ]
     },
     "metadata": {},
     "output_type": "display_data"
    },
    {
     "data": {
      "application/vnd.jupyter.widget-view+json": {
       "model_id": "",
       "version_major": 2,
       "version_minor": 0
      },
      "text/plain": [
       "HBox(children=(IntProgress(value=0, description='Measurement sweep', max=1000, style=ProgressStyle(description…"
      ]
     },
     "metadata": {},
     "output_type": "display_data"
    },
    {
     "data": {
      "application/vnd.jupyter.widget-view+json": {
       "model_id": "",
       "version_major": 2,
       "version_minor": 0
      },
      "text/plain": [
       "HBox(children=(IntProgress(value=0, description='Equilibrate sweep', style=ProgressStyle(description_width='in…"
      ]
     },
     "metadata": {},
     "output_type": "display_data"
    },
    {
     "data": {
      "application/vnd.jupyter.widget-view+json": {
       "model_id": "",
       "version_major": 2,
       "version_minor": 0
      },
      "text/plain": [
       "HBox(children=(IntProgress(value=0, description='Measurement sweep', max=1000, style=ProgressStyle(description…"
      ]
     },
     "metadata": {},
     "output_type": "display_data"
    },
    {
     "data": {
      "application/vnd.jupyter.widget-view+json": {
       "model_id": "",
       "version_major": 2,
       "version_minor": 0
      },
      "text/plain": [
       "HBox(children=(IntProgress(value=0, description='Equilibrate sweep', style=ProgressStyle(description_width='in…"
      ]
     },
     "metadata": {},
     "output_type": "display_data"
    },
    {
     "data": {
      "application/vnd.jupyter.widget-view+json": {
       "model_id": "",
       "version_major": 2,
       "version_minor": 0
      },
      "text/plain": [
       "HBox(children=(IntProgress(value=0, description='Measurement sweep', max=1000, style=ProgressStyle(description…"
      ]
     },
     "metadata": {},
     "output_type": "display_data"
    },
    {
     "data": {
      "application/vnd.jupyter.widget-view+json": {
       "model_id": "",
       "version_major": 2,
       "version_minor": 0
      },
      "text/plain": [
       "HBox(children=(IntProgress(value=0, description='Equilibrate sweep', style=ProgressStyle(description_width='in…"
      ]
     },
     "metadata": {},
     "output_type": "display_data"
    },
    {
     "data": {
      "application/vnd.jupyter.widget-view+json": {
       "model_id": "",
       "version_major": 2,
       "version_minor": 0
      },
      "text/plain": [
       "HBox(children=(IntProgress(value=0, description='Measurement sweep', max=1000, style=ProgressStyle(description…"
      ]
     },
     "metadata": {},
     "output_type": "display_data"
    },
    {
     "data": {
      "application/vnd.jupyter.widget-view+json": {
       "model_id": "",
       "version_major": 2,
       "version_minor": 0
      },
      "text/plain": [
       "HBox(children=(IntProgress(value=0, description='Equilibrate sweep', style=ProgressStyle(description_width='in…"
      ]
     },
     "metadata": {},
     "output_type": "display_data"
    },
    {
     "data": {
      "application/vnd.jupyter.widget-view+json": {
       "model_id": "",
       "version_major": 2,
       "version_minor": 0
      },
      "text/plain": [
       "HBox(children=(IntProgress(value=0, description='Measurement sweep', max=1000, style=ProgressStyle(description…"
      ]
     },
     "metadata": {},
     "output_type": "display_data"
    },
    {
     "data": {
      "application/vnd.jupyter.widget-view+json": {
       "model_id": "",
       "version_major": 2,
       "version_minor": 0
      },
      "text/plain": [
       "HBox(children=(IntProgress(value=0, description='Equilibrate sweep', style=ProgressStyle(description_width='in…"
      ]
     },
     "metadata": {},
     "output_type": "display_data"
    },
    {
     "data": {
      "application/vnd.jupyter.widget-view+json": {
       "model_id": "",
       "version_major": 2,
       "version_minor": 0
      },
      "text/plain": [
       "HBox(children=(IntProgress(value=0, description='Measurement sweep', max=1000, style=ProgressStyle(description…"
      ]
     },
     "metadata": {},
     "output_type": "display_data"
    },
    {
     "data": {
      "application/vnd.jupyter.widget-view+json": {
       "model_id": "",
       "version_major": 2,
       "version_minor": 0
      },
      "text/plain": [
       "HBox(children=(IntProgress(value=0, description='Equilibrate sweep', style=ProgressStyle(description_width='in…"
      ]
     },
     "metadata": {},
     "output_type": "display_data"
    },
    {
     "data": {
      "application/vnd.jupyter.widget-view+json": {
       "model_id": "",
       "version_major": 2,
       "version_minor": 0
      },
      "text/plain": [
       "HBox(children=(IntProgress(value=0, description='Measurement sweep', max=1000, style=ProgressStyle(description…"
      ]
     },
     "metadata": {},
     "output_type": "display_data"
    },
    {
     "data": {
      "application/vnd.jupyter.widget-view+json": {
       "model_id": "",
       "version_major": 2,
       "version_minor": 0
      },
      "text/plain": [
       "HBox(children=(IntProgress(value=0, description='Equilibrate sweep', style=ProgressStyle(description_width='in…"
      ]
     },
     "metadata": {},
     "output_type": "display_data"
    },
    {
     "data": {
      "application/vnd.jupyter.widget-view+json": {
       "model_id": "",
       "version_major": 2,
       "version_minor": 0
      },
      "text/plain": [
       "HBox(children=(IntProgress(value=0, description='Measurement sweep', max=1000, style=ProgressStyle(description…"
      ]
     },
     "metadata": {},
     "output_type": "display_data"
    },
    {
     "data": {
      "application/vnd.jupyter.widget-view+json": {
       "model_id": "",
       "version_major": 2,
       "version_minor": 0
      },
      "text/plain": [
       "HBox(children=(IntProgress(value=0, description='Equilibrate sweep', style=ProgressStyle(description_width='in…"
      ]
     },
     "metadata": {},
     "output_type": "display_data"
    },
    {
     "data": {
      "application/vnd.jupyter.widget-view+json": {
       "model_id": "",
       "version_major": 2,
       "version_minor": 0
      },
      "text/plain": [
       "HBox(children=(IntProgress(value=0, description='Measurement sweep', max=1000, style=ProgressStyle(description…"
      ]
     },
     "metadata": {},
     "output_type": "display_data"
    },
    {
     "data": {
      "application/vnd.jupyter.widget-view+json": {
       "model_id": "",
       "version_major": 2,
       "version_minor": 0
      },
      "text/plain": [
       "HBox(children=(IntProgress(value=0, description='Col', max=10, style=ProgressStyle(description_width='initial'…"
      ]
     },
     "metadata": {},
     "output_type": "display_data"
    },
    {
     "data": {
      "application/vnd.jupyter.widget-view+json": {
       "model_id": "",
       "version_major": 2,
       "version_minor": 0
      },
      "text/plain": [
       "HBox(children=(IntProgress(value=0, description='Equilibrate sweep', style=ProgressStyle(description_width='in…"
      ]
     },
     "metadata": {},
     "output_type": "display_data"
    },
    {
     "data": {
      "application/vnd.jupyter.widget-view+json": {
       "model_id": "",
       "version_major": 2,
       "version_minor": 0
      },
      "text/plain": [
       "HBox(children=(IntProgress(value=0, description='Measurement sweep', max=1000, style=ProgressStyle(description…"
      ]
     },
     "metadata": {},
     "output_type": "display_data"
    },
    {
     "data": {
      "application/vnd.jupyter.widget-view+json": {
       "model_id": "",
       "version_major": 2,
       "version_minor": 0
      },
      "text/plain": [
       "HBox(children=(IntProgress(value=0, description='Equilibrate sweep', style=ProgressStyle(description_width='in…"
      ]
     },
     "metadata": {},
     "output_type": "display_data"
    },
    {
     "data": {
      "application/vnd.jupyter.widget-view+json": {
       "model_id": "",
       "version_major": 2,
       "version_minor": 0
      },
      "text/plain": [
       "HBox(children=(IntProgress(value=0, description='Measurement sweep', max=1000, style=ProgressStyle(description…"
      ]
     },
     "metadata": {},
     "output_type": "display_data"
    },
    {
     "data": {
      "application/vnd.jupyter.widget-view+json": {
       "model_id": "",
       "version_major": 2,
       "version_minor": 0
      },
      "text/plain": [
       "HBox(children=(IntProgress(value=0, description='Equilibrate sweep', style=ProgressStyle(description_width='in…"
      ]
     },
     "metadata": {},
     "output_type": "display_data"
    },
    {
     "data": {
      "application/vnd.jupyter.widget-view+json": {
       "model_id": "",
       "version_major": 2,
       "version_minor": 0
      },
      "text/plain": [
       "HBox(children=(IntProgress(value=0, description='Measurement sweep', max=1000, style=ProgressStyle(description…"
      ]
     },
     "metadata": {},
     "output_type": "display_data"
    },
    {
     "data": {
      "application/vnd.jupyter.widget-view+json": {
       "model_id": "",
       "version_major": 2,
       "version_minor": 0
      },
      "text/plain": [
       "HBox(children=(IntProgress(value=0, description='Equilibrate sweep', style=ProgressStyle(description_width='in…"
      ]
     },
     "metadata": {},
     "output_type": "display_data"
    },
    {
     "data": {
      "application/vnd.jupyter.widget-view+json": {
       "model_id": "",
       "version_major": 2,
       "version_minor": 0
      },
      "text/plain": [
       "HBox(children=(IntProgress(value=0, description='Measurement sweep', max=1000, style=ProgressStyle(description…"
      ]
     },
     "metadata": {},
     "output_type": "display_data"
    },
    {
     "data": {
      "application/vnd.jupyter.widget-view+json": {
       "model_id": "",
       "version_major": 2,
       "version_minor": 0
      },
      "text/plain": [
       "HBox(children=(IntProgress(value=0, description='Equilibrate sweep', style=ProgressStyle(description_width='in…"
      ]
     },
     "metadata": {},
     "output_type": "display_data"
    },
    {
     "data": {
      "application/vnd.jupyter.widget-view+json": {
       "model_id": "",
       "version_major": 2,
       "version_minor": 0
      },
      "text/plain": [
       "HBox(children=(IntProgress(value=0, description='Measurement sweep', max=1000, style=ProgressStyle(description…"
      ]
     },
     "metadata": {},
     "output_type": "display_data"
    },
    {
     "data": {
      "application/vnd.jupyter.widget-view+json": {
       "model_id": "",
       "version_major": 2,
       "version_minor": 0
      },
      "text/plain": [
       "HBox(children=(IntProgress(value=0, description='Equilibrate sweep', style=ProgressStyle(description_width='in…"
      ]
     },
     "metadata": {},
     "output_type": "display_data"
    },
    {
     "data": {
      "application/vnd.jupyter.widget-view+json": {
       "model_id": "",
       "version_major": 2,
       "version_minor": 0
      },
      "text/plain": [
       "HBox(children=(IntProgress(value=0, description='Measurement sweep', max=1000, style=ProgressStyle(description…"
      ]
     },
     "metadata": {},
     "output_type": "display_data"
    },
    {
     "data": {
      "application/vnd.jupyter.widget-view+json": {
       "model_id": "",
       "version_major": 2,
       "version_minor": 0
      },
      "text/plain": [
       "HBox(children=(IntProgress(value=0, description='Equilibrate sweep', style=ProgressStyle(description_width='in…"
      ]
     },
     "metadata": {},
     "output_type": "display_data"
    },
    {
     "data": {
      "application/vnd.jupyter.widget-view+json": {
       "model_id": "",
       "version_major": 2,
       "version_minor": 0
      },
      "text/plain": [
       "HBox(children=(IntProgress(value=0, description='Measurement sweep', max=1000, style=ProgressStyle(description…"
      ]
     },
     "metadata": {},
     "output_type": "display_data"
    },
    {
     "data": {
      "application/vnd.jupyter.widget-view+json": {
       "model_id": "",
       "version_major": 2,
       "version_minor": 0
      },
      "text/plain": [
       "HBox(children=(IntProgress(value=0, description='Equilibrate sweep', style=ProgressStyle(description_width='in…"
      ]
     },
     "metadata": {},
     "output_type": "display_data"
    },
    {
     "data": {
      "application/vnd.jupyter.widget-view+json": {
       "model_id": "",
       "version_major": 2,
       "version_minor": 0
      },
      "text/plain": [
       "HBox(children=(IntProgress(value=0, description='Measurement sweep', max=1000, style=ProgressStyle(description…"
      ]
     },
     "metadata": {},
     "output_type": "display_data"
    },
    {
     "data": {
      "application/vnd.jupyter.widget-view+json": {
       "model_id": "",
       "version_major": 2,
       "version_minor": 0
      },
      "text/plain": [
       "HBox(children=(IntProgress(value=0, description='Equilibrate sweep', style=ProgressStyle(description_width='in…"
      ]
     },
     "metadata": {},
     "output_type": "display_data"
    },
    {
     "data": {
      "application/vnd.jupyter.widget-view+json": {
       "model_id": "",
       "version_major": 2,
       "version_minor": 0
      },
      "text/plain": [
       "HBox(children=(IntProgress(value=0, description='Measurement sweep', max=1000, style=ProgressStyle(description…"
      ]
     },
     "metadata": {},
     "output_type": "display_data"
    },
    {
     "data": {
      "application/vnd.jupyter.widget-view+json": {
       "model_id": "",
       "version_major": 2,
       "version_minor": 0
      },
      "text/plain": [
       "HBox(children=(IntProgress(value=0, description='Equilibrate sweep', style=ProgressStyle(description_width='in…"
      ]
     },
     "metadata": {},
     "output_type": "display_data"
    },
    {
     "data": {
      "application/vnd.jupyter.widget-view+json": {
       "model_id": "",
       "version_major": 2,
       "version_minor": 0
      },
      "text/plain": [
       "HBox(children=(IntProgress(value=0, description='Measurement sweep', max=1000, style=ProgressStyle(description…"
      ]
     },
     "metadata": {},
     "output_type": "display_data"
    },
    {
     "data": {
      "application/vnd.jupyter.widget-view+json": {
       "model_id": "",
       "version_major": 2,
       "version_minor": 0
      },
      "text/plain": [
       "HBox(children=(IntProgress(value=0, description='Col', max=10, style=ProgressStyle(description_width='initial'…"
      ]
     },
     "metadata": {},
     "output_type": "display_data"
    },
    {
     "data": {
      "application/vnd.jupyter.widget-view+json": {
       "model_id": "",
       "version_major": 2,
       "version_minor": 0
      },
      "text/plain": [
       "HBox(children=(IntProgress(value=0, description='Equilibrate sweep', style=ProgressStyle(description_width='in…"
      ]
     },
     "metadata": {},
     "output_type": "display_data"
    },
    {
     "data": {
      "application/vnd.jupyter.widget-view+json": {
       "model_id": "",
       "version_major": 2,
       "version_minor": 0
      },
      "text/plain": [
       "HBox(children=(IntProgress(value=0, description='Measurement sweep', max=1000, style=ProgressStyle(description…"
      ]
     },
     "metadata": {},
     "output_type": "display_data"
    },
    {
     "data": {
      "application/vnd.jupyter.widget-view+json": {
       "model_id": "",
       "version_major": 2,
       "version_minor": 0
      },
      "text/plain": [
       "HBox(children=(IntProgress(value=0, description='Equilibrate sweep', style=ProgressStyle(description_width='in…"
      ]
     },
     "metadata": {},
     "output_type": "display_data"
    },
    {
     "data": {
      "application/vnd.jupyter.widget-view+json": {
       "model_id": "",
       "version_major": 2,
       "version_minor": 0
      },
      "text/plain": [
       "HBox(children=(IntProgress(value=0, description='Measurement sweep', max=1000, style=ProgressStyle(description…"
      ]
     },
     "metadata": {},
     "output_type": "display_data"
    },
    {
     "data": {
      "application/vnd.jupyter.widget-view+json": {
       "model_id": "",
       "version_major": 2,
       "version_minor": 0
      },
      "text/plain": [
       "HBox(children=(IntProgress(value=0, description='Equilibrate sweep', style=ProgressStyle(description_width='in…"
      ]
     },
     "metadata": {},
     "output_type": "display_data"
    },
    {
     "data": {
      "application/vnd.jupyter.widget-view+json": {
       "model_id": "",
       "version_major": 2,
       "version_minor": 0
      },
      "text/plain": [
       "HBox(children=(IntProgress(value=0, description='Measurement sweep', max=1000, style=ProgressStyle(description…"
      ]
     },
     "metadata": {},
     "output_type": "display_data"
    },
    {
     "data": {
      "application/vnd.jupyter.widget-view+json": {
       "model_id": "",
       "version_major": 2,
       "version_minor": 0
      },
      "text/plain": [
       "HBox(children=(IntProgress(value=0, description='Equilibrate sweep', style=ProgressStyle(description_width='in…"
      ]
     },
     "metadata": {},
     "output_type": "display_data"
    },
    {
     "data": {
      "application/vnd.jupyter.widget-view+json": {
       "model_id": "",
       "version_major": 2,
       "version_minor": 0
      },
      "text/plain": [
       "HBox(children=(IntProgress(value=0, description='Measurement sweep', max=1000, style=ProgressStyle(description…"
      ]
     },
     "metadata": {},
     "output_type": "display_data"
    },
    {
     "data": {
      "application/vnd.jupyter.widget-view+json": {
       "model_id": "",
       "version_major": 2,
       "version_minor": 0
      },
      "text/plain": [
       "HBox(children=(IntProgress(value=0, description='Equilibrate sweep', style=ProgressStyle(description_width='in…"
      ]
     },
     "metadata": {},
     "output_type": "display_data"
    },
    {
     "data": {
      "application/vnd.jupyter.widget-view+json": {
       "model_id": "",
       "version_major": 2,
       "version_minor": 0
      },
      "text/plain": [
       "HBox(children=(IntProgress(value=0, description='Measurement sweep', max=1000, style=ProgressStyle(description…"
      ]
     },
     "metadata": {},
     "output_type": "display_data"
    },
    {
     "data": {
      "application/vnd.jupyter.widget-view+json": {
       "model_id": "",
       "version_major": 2,
       "version_minor": 0
      },
      "text/plain": [
       "HBox(children=(IntProgress(value=0, description='Equilibrate sweep', style=ProgressStyle(description_width='in…"
      ]
     },
     "metadata": {},
     "output_type": "display_data"
    },
    {
     "data": {
      "application/vnd.jupyter.widget-view+json": {
       "model_id": "",
       "version_major": 2,
       "version_minor": 0
      },
      "text/plain": [
       "HBox(children=(IntProgress(value=0, description='Measurement sweep', max=1000, style=ProgressStyle(description…"
      ]
     },
     "metadata": {},
     "output_type": "display_data"
    },
    {
     "data": {
      "application/vnd.jupyter.widget-view+json": {
       "model_id": "",
       "version_major": 2,
       "version_minor": 0
      },
      "text/plain": [
       "HBox(children=(IntProgress(value=0, description='Equilibrate sweep', style=ProgressStyle(description_width='in…"
      ]
     },
     "metadata": {},
     "output_type": "display_data"
    },
    {
     "data": {
      "application/vnd.jupyter.widget-view+json": {
       "model_id": "",
       "version_major": 2,
       "version_minor": 0
      },
      "text/plain": [
       "HBox(children=(IntProgress(value=0, description='Measurement sweep', max=1000, style=ProgressStyle(description…"
      ]
     },
     "metadata": {},
     "output_type": "display_data"
    },
    {
     "data": {
      "application/vnd.jupyter.widget-view+json": {
       "model_id": "",
       "version_major": 2,
       "version_minor": 0
      },
      "text/plain": [
       "HBox(children=(IntProgress(value=0, description='Equilibrate sweep', style=ProgressStyle(description_width='in…"
      ]
     },
     "metadata": {},
     "output_type": "display_data"
    },
    {
     "data": {
      "application/vnd.jupyter.widget-view+json": {
       "model_id": "",
       "version_major": 2,
       "version_minor": 0
      },
      "text/plain": [
       "HBox(children=(IntProgress(value=0, description='Measurement sweep', max=1000, style=ProgressStyle(description…"
      ]
     },
     "metadata": {},
     "output_type": "display_data"
    },
    {
     "data": {
      "application/vnd.jupyter.widget-view+json": {
       "model_id": "",
       "version_major": 2,
       "version_minor": 0
      },
      "text/plain": [
       "HBox(children=(IntProgress(value=0, description='Equilibrate sweep', style=ProgressStyle(description_width='in…"
      ]
     },
     "metadata": {},
     "output_type": "display_data"
    },
    {
     "data": {
      "application/vnd.jupyter.widget-view+json": {
       "model_id": "",
       "version_major": 2,
       "version_minor": 0
      },
      "text/plain": [
       "HBox(children=(IntProgress(value=0, description='Measurement sweep', max=1000, style=ProgressStyle(description…"
      ]
     },
     "metadata": {},
     "output_type": "display_data"
    },
    {
     "data": {
      "application/vnd.jupyter.widget-view+json": {
       "model_id": "",
       "version_major": 2,
       "version_minor": 0
      },
      "text/plain": [
       "HBox(children=(IntProgress(value=0, description='Equilibrate sweep', style=ProgressStyle(description_width='in…"
      ]
     },
     "metadata": {},
     "output_type": "display_data"
    },
    {
     "data": {
      "application/vnd.jupyter.widget-view+json": {
       "model_id": "",
       "version_major": 2,
       "version_minor": 0
      },
      "text/plain": [
       "HBox(children=(IntProgress(value=0, description='Measurement sweep', max=1000, style=ProgressStyle(description…"
      ]
     },
     "metadata": {},
     "output_type": "display_data"
    },
    {
     "name": "stdout",
     "output_type": "stream",
     "text": [
      "\r"
     ]
    },
    {
     "data": {
      "application/javascript": [
       "/* Put everything inside the global mpl namespace */\n",
       "window.mpl = {};\n",
       "\n",
       "\n",
       "mpl.get_websocket_type = function() {\n",
       "    if (typeof(WebSocket) !== 'undefined') {\n",
       "        return WebSocket;\n",
       "    } else if (typeof(MozWebSocket) !== 'undefined') {\n",
       "        return MozWebSocket;\n",
       "    } else {\n",
       "        alert('Your browser does not have WebSocket support.' +\n",
       "              'Please try Chrome, Safari or Firefox ≥ 6. ' +\n",
       "              'Firefox 4 and 5 are also supported but you ' +\n",
       "              'have to enable WebSockets in about:config.');\n",
       "    };\n",
       "}\n",
       "\n",
       "mpl.figure = function(figure_id, websocket, ondownload, parent_element) {\n",
       "    this.id = figure_id;\n",
       "\n",
       "    this.ws = websocket;\n",
       "\n",
       "    this.supports_binary = (this.ws.binaryType != undefined);\n",
       "\n",
       "    if (!this.supports_binary) {\n",
       "        var warnings = document.getElementById(\"mpl-warnings\");\n",
       "        if (warnings) {\n",
       "            warnings.style.display = 'block';\n",
       "            warnings.textContent = (\n",
       "                \"This browser does not support binary websocket messages. \" +\n",
       "                    \"Performance may be slow.\");\n",
       "        }\n",
       "    }\n",
       "\n",
       "    this.imageObj = new Image();\n",
       "\n",
       "    this.context = undefined;\n",
       "    this.message = undefined;\n",
       "    this.canvas = undefined;\n",
       "    this.rubberband_canvas = undefined;\n",
       "    this.rubberband_context = undefined;\n",
       "    this.format_dropdown = undefined;\n",
       "\n",
       "    this.image_mode = 'full';\n",
       "\n",
       "    this.root = $('<div/>');\n",
       "    this._root_extra_style(this.root)\n",
       "    this.root.attr('style', 'display: inline-block');\n",
       "\n",
       "    $(parent_element).append(this.root);\n",
       "\n",
       "    this._init_header(this);\n",
       "    this._init_canvas(this);\n",
       "    this._init_toolbar(this);\n",
       "\n",
       "    var fig = this;\n",
       "\n",
       "    this.waiting = false;\n",
       "\n",
       "    this.ws.onopen =  function () {\n",
       "            fig.send_message(\"supports_binary\", {value: fig.supports_binary});\n",
       "            fig.send_message(\"send_image_mode\", {});\n",
       "            if (mpl.ratio != 1) {\n",
       "                fig.send_message(\"set_dpi_ratio\", {'dpi_ratio': mpl.ratio});\n",
       "            }\n",
       "            fig.send_message(\"refresh\", {});\n",
       "        }\n",
       "\n",
       "    this.imageObj.onload = function() {\n",
       "            if (fig.image_mode == 'full') {\n",
       "                // Full images could contain transparency (where diff images\n",
       "                // almost always do), so we need to clear the canvas so that\n",
       "                // there is no ghosting.\n",
       "                fig.context.clearRect(0, 0, fig.canvas.width, fig.canvas.height);\n",
       "            }\n",
       "            fig.context.drawImage(fig.imageObj, 0, 0);\n",
       "        };\n",
       "\n",
       "    this.imageObj.onunload = function() {\n",
       "        fig.ws.close();\n",
       "    }\n",
       "\n",
       "    this.ws.onmessage = this._make_on_message_function(this);\n",
       "\n",
       "    this.ondownload = ondownload;\n",
       "}\n",
       "\n",
       "mpl.figure.prototype._init_header = function() {\n",
       "    var titlebar = $(\n",
       "        '<div class=\"ui-dialog-titlebar ui-widget-header ui-corner-all ' +\n",
       "        'ui-helper-clearfix\"/>');\n",
       "    var titletext = $(\n",
       "        '<div class=\"ui-dialog-title\" style=\"width: 100%; ' +\n",
       "        'text-align: center; padding: 3px;\"/>');\n",
       "    titlebar.append(titletext)\n",
       "    this.root.append(titlebar);\n",
       "    this.header = titletext[0];\n",
       "}\n",
       "\n",
       "\n",
       "\n",
       "mpl.figure.prototype._canvas_extra_style = function(canvas_div) {\n",
       "\n",
       "}\n",
       "\n",
       "\n",
       "mpl.figure.prototype._root_extra_style = function(canvas_div) {\n",
       "\n",
       "}\n",
       "\n",
       "mpl.figure.prototype._init_canvas = function() {\n",
       "    var fig = this;\n",
       "\n",
       "    var canvas_div = $('<div/>');\n",
       "\n",
       "    canvas_div.attr('style', 'position: relative; clear: both; outline: 0');\n",
       "\n",
       "    function canvas_keyboard_event(event) {\n",
       "        return fig.key_event(event, event['data']);\n",
       "    }\n",
       "\n",
       "    canvas_div.keydown('key_press', canvas_keyboard_event);\n",
       "    canvas_div.keyup('key_release', canvas_keyboard_event);\n",
       "    this.canvas_div = canvas_div\n",
       "    this._canvas_extra_style(canvas_div)\n",
       "    this.root.append(canvas_div);\n",
       "\n",
       "    var canvas = $('<canvas/>');\n",
       "    canvas.addClass('mpl-canvas');\n",
       "    canvas.attr('style', \"left: 0; top: 0; z-index: 0; outline: 0\")\n",
       "\n",
       "    this.canvas = canvas[0];\n",
       "    this.context = canvas[0].getContext(\"2d\");\n",
       "\n",
       "    var backingStore = this.context.backingStorePixelRatio ||\n",
       "\tthis.context.webkitBackingStorePixelRatio ||\n",
       "\tthis.context.mozBackingStorePixelRatio ||\n",
       "\tthis.context.msBackingStorePixelRatio ||\n",
       "\tthis.context.oBackingStorePixelRatio ||\n",
       "\tthis.context.backingStorePixelRatio || 1;\n",
       "\n",
       "    mpl.ratio = (window.devicePixelRatio || 1) / backingStore;\n",
       "\n",
       "    var rubberband = $('<canvas/>');\n",
       "    rubberband.attr('style', \"position: absolute; left: 0; top: 0; z-index: 1;\")\n",
       "\n",
       "    var pass_mouse_events = true;\n",
       "\n",
       "    canvas_div.resizable({\n",
       "        start: function(event, ui) {\n",
       "            pass_mouse_events = false;\n",
       "        },\n",
       "        resize: function(event, ui) {\n",
       "            fig.request_resize(ui.size.width, ui.size.height);\n",
       "        },\n",
       "        stop: function(event, ui) {\n",
       "            pass_mouse_events = true;\n",
       "            fig.request_resize(ui.size.width, ui.size.height);\n",
       "        },\n",
       "    });\n",
       "\n",
       "    function mouse_event_fn(event) {\n",
       "        if (pass_mouse_events)\n",
       "            return fig.mouse_event(event, event['data']);\n",
       "    }\n",
       "\n",
       "    rubberband.mousedown('button_press', mouse_event_fn);\n",
       "    rubberband.mouseup('button_release', mouse_event_fn);\n",
       "    // Throttle sequential mouse events to 1 every 20ms.\n",
       "    rubberband.mousemove('motion_notify', mouse_event_fn);\n",
       "\n",
       "    rubberband.mouseenter('figure_enter', mouse_event_fn);\n",
       "    rubberband.mouseleave('figure_leave', mouse_event_fn);\n",
       "\n",
       "    canvas_div.on(\"wheel\", function (event) {\n",
       "        event = event.originalEvent;\n",
       "        event['data'] = 'scroll'\n",
       "        if (event.deltaY < 0) {\n",
       "            event.step = 1;\n",
       "        } else {\n",
       "            event.step = -1;\n",
       "        }\n",
       "        mouse_event_fn(event);\n",
       "    });\n",
       "\n",
       "    canvas_div.append(canvas);\n",
       "    canvas_div.append(rubberband);\n",
       "\n",
       "    this.rubberband = rubberband;\n",
       "    this.rubberband_canvas = rubberband[0];\n",
       "    this.rubberband_context = rubberband[0].getContext(\"2d\");\n",
       "    this.rubberband_context.strokeStyle = \"#000000\";\n",
       "\n",
       "    this._resize_canvas = function(width, height) {\n",
       "        // Keep the size of the canvas, canvas container, and rubber band\n",
       "        // canvas in synch.\n",
       "        canvas_div.css('width', width)\n",
       "        canvas_div.css('height', height)\n",
       "\n",
       "        canvas.attr('width', width * mpl.ratio);\n",
       "        canvas.attr('height', height * mpl.ratio);\n",
       "        canvas.attr('style', 'width: ' + width + 'px; height: ' + height + 'px;');\n",
       "\n",
       "        rubberband.attr('width', width);\n",
       "        rubberband.attr('height', height);\n",
       "    }\n",
       "\n",
       "    // Set the figure to an initial 600x600px, this will subsequently be updated\n",
       "    // upon first draw.\n",
       "    this._resize_canvas(600, 600);\n",
       "\n",
       "    // Disable right mouse context menu.\n",
       "    $(this.rubberband_canvas).bind(\"contextmenu\",function(e){\n",
       "        return false;\n",
       "    });\n",
       "\n",
       "    function set_focus () {\n",
       "        canvas.focus();\n",
       "        canvas_div.focus();\n",
       "    }\n",
       "\n",
       "    window.setTimeout(set_focus, 100);\n",
       "}\n",
       "\n",
       "mpl.figure.prototype._init_toolbar = function() {\n",
       "    var fig = this;\n",
       "\n",
       "    var nav_element = $('<div/>')\n",
       "    nav_element.attr('style', 'width: 100%');\n",
       "    this.root.append(nav_element);\n",
       "\n",
       "    // Define a callback function for later on.\n",
       "    function toolbar_event(event) {\n",
       "        return fig.toolbar_button_onclick(event['data']);\n",
       "    }\n",
       "    function toolbar_mouse_event(event) {\n",
       "        return fig.toolbar_button_onmouseover(event['data']);\n",
       "    }\n",
       "\n",
       "    for(var toolbar_ind in mpl.toolbar_items) {\n",
       "        var name = mpl.toolbar_items[toolbar_ind][0];\n",
       "        var tooltip = mpl.toolbar_items[toolbar_ind][1];\n",
       "        var image = mpl.toolbar_items[toolbar_ind][2];\n",
       "        var method_name = mpl.toolbar_items[toolbar_ind][3];\n",
       "\n",
       "        if (!name) {\n",
       "            // put a spacer in here.\n",
       "            continue;\n",
       "        }\n",
       "        var button = $('<button/>');\n",
       "        button.addClass('ui-button ui-widget ui-state-default ui-corner-all ' +\n",
       "                        'ui-button-icon-only');\n",
       "        button.attr('role', 'button');\n",
       "        button.attr('aria-disabled', 'false');\n",
       "        button.click(method_name, toolbar_event);\n",
       "        button.mouseover(tooltip, toolbar_mouse_event);\n",
       "\n",
       "        var icon_img = $('<span/>');\n",
       "        icon_img.addClass('ui-button-icon-primary ui-icon');\n",
       "        icon_img.addClass(image);\n",
       "        icon_img.addClass('ui-corner-all');\n",
       "\n",
       "        var tooltip_span = $('<span/>');\n",
       "        tooltip_span.addClass('ui-button-text');\n",
       "        tooltip_span.html(tooltip);\n",
       "\n",
       "        button.append(icon_img);\n",
       "        button.append(tooltip_span);\n",
       "\n",
       "        nav_element.append(button);\n",
       "    }\n",
       "\n",
       "    var fmt_picker_span = $('<span/>');\n",
       "\n",
       "    var fmt_picker = $('<select/>');\n",
       "    fmt_picker.addClass('mpl-toolbar-option ui-widget ui-widget-content');\n",
       "    fmt_picker_span.append(fmt_picker);\n",
       "    nav_element.append(fmt_picker_span);\n",
       "    this.format_dropdown = fmt_picker[0];\n",
       "\n",
       "    for (var ind in mpl.extensions) {\n",
       "        var fmt = mpl.extensions[ind];\n",
       "        var option = $(\n",
       "            '<option/>', {selected: fmt === mpl.default_extension}).html(fmt);\n",
       "        fmt_picker.append(option)\n",
       "    }\n",
       "\n",
       "    // Add hover states to the ui-buttons\n",
       "    $( \".ui-button\" ).hover(\n",
       "        function() { $(this).addClass(\"ui-state-hover\");},\n",
       "        function() { $(this).removeClass(\"ui-state-hover\");}\n",
       "    );\n",
       "\n",
       "    var status_bar = $('<span class=\"mpl-message\"/>');\n",
       "    nav_element.append(status_bar);\n",
       "    this.message = status_bar[0];\n",
       "}\n",
       "\n",
       "mpl.figure.prototype.request_resize = function(x_pixels, y_pixels) {\n",
       "    // Request matplotlib to resize the figure. Matplotlib will then trigger a resize in the client,\n",
       "    // which will in turn request a refresh of the image.\n",
       "    this.send_message('resize', {'width': x_pixels, 'height': y_pixels});\n",
       "}\n",
       "\n",
       "mpl.figure.prototype.send_message = function(type, properties) {\n",
       "    properties['type'] = type;\n",
       "    properties['figure_id'] = this.id;\n",
       "    this.ws.send(JSON.stringify(properties));\n",
       "}\n",
       "\n",
       "mpl.figure.prototype.send_draw_message = function() {\n",
       "    if (!this.waiting) {\n",
       "        this.waiting = true;\n",
       "        this.ws.send(JSON.stringify({type: \"draw\", figure_id: this.id}));\n",
       "    }\n",
       "}\n",
       "\n",
       "\n",
       "mpl.figure.prototype.handle_save = function(fig, msg) {\n",
       "    var format_dropdown = fig.format_dropdown;\n",
       "    var format = format_dropdown.options[format_dropdown.selectedIndex].value;\n",
       "    fig.ondownload(fig, format);\n",
       "}\n",
       "\n",
       "\n",
       "mpl.figure.prototype.handle_resize = function(fig, msg) {\n",
       "    var size = msg['size'];\n",
       "    if (size[0] != fig.canvas.width || size[1] != fig.canvas.height) {\n",
       "        fig._resize_canvas(size[0], size[1]);\n",
       "        fig.send_message(\"refresh\", {});\n",
       "    };\n",
       "}\n",
       "\n",
       "mpl.figure.prototype.handle_rubberband = function(fig, msg) {\n",
       "    var x0 = msg['x0'] / mpl.ratio;\n",
       "    var y0 = (fig.canvas.height - msg['y0']) / mpl.ratio;\n",
       "    var x1 = msg['x1'] / mpl.ratio;\n",
       "    var y1 = (fig.canvas.height - msg['y1']) / mpl.ratio;\n",
       "    x0 = Math.floor(x0) + 0.5;\n",
       "    y0 = Math.floor(y0) + 0.5;\n",
       "    x1 = Math.floor(x1) + 0.5;\n",
       "    y1 = Math.floor(y1) + 0.5;\n",
       "    var min_x = Math.min(x0, x1);\n",
       "    var min_y = Math.min(y0, y1);\n",
       "    var width = Math.abs(x1 - x0);\n",
       "    var height = Math.abs(y1 - y0);\n",
       "\n",
       "    fig.rubberband_context.clearRect(\n",
       "        0, 0, fig.canvas.width, fig.canvas.height);\n",
       "\n",
       "    fig.rubberband_context.strokeRect(min_x, min_y, width, height);\n",
       "}\n",
       "\n",
       "mpl.figure.prototype.handle_figure_label = function(fig, msg) {\n",
       "    // Updates the figure title.\n",
       "    fig.header.textContent = msg['label'];\n",
       "}\n",
       "\n",
       "mpl.figure.prototype.handle_cursor = function(fig, msg) {\n",
       "    var cursor = msg['cursor'];\n",
       "    switch(cursor)\n",
       "    {\n",
       "    case 0:\n",
       "        cursor = 'pointer';\n",
       "        break;\n",
       "    case 1:\n",
       "        cursor = 'default';\n",
       "        break;\n",
       "    case 2:\n",
       "        cursor = 'crosshair';\n",
       "        break;\n",
       "    case 3:\n",
       "        cursor = 'move';\n",
       "        break;\n",
       "    }\n",
       "    fig.rubberband_canvas.style.cursor = cursor;\n",
       "}\n",
       "\n",
       "mpl.figure.prototype.handle_message = function(fig, msg) {\n",
       "    fig.message.textContent = msg['message'];\n",
       "}\n",
       "\n",
       "mpl.figure.prototype.handle_draw = function(fig, msg) {\n",
       "    // Request the server to send over a new figure.\n",
       "    fig.send_draw_message();\n",
       "}\n",
       "\n",
       "mpl.figure.prototype.handle_image_mode = function(fig, msg) {\n",
       "    fig.image_mode = msg['mode'];\n",
       "}\n",
       "\n",
       "mpl.figure.prototype.updated_canvas_event = function() {\n",
       "    // Called whenever the canvas gets updated.\n",
       "    this.send_message(\"ack\", {});\n",
       "}\n",
       "\n",
       "// A function to construct a web socket function for onmessage handling.\n",
       "// Called in the figure constructor.\n",
       "mpl.figure.prototype._make_on_message_function = function(fig) {\n",
       "    return function socket_on_message(evt) {\n",
       "        if (evt.data instanceof Blob) {\n",
       "            /* FIXME: We get \"Resource interpreted as Image but\n",
       "             * transferred with MIME type text/plain:\" errors on\n",
       "             * Chrome.  But how to set the MIME type?  It doesn't seem\n",
       "             * to be part of the websocket stream */\n",
       "            evt.data.type = \"image/png\";\n",
       "\n",
       "            /* Free the memory for the previous frames */\n",
       "            if (fig.imageObj.src) {\n",
       "                (window.URL || window.webkitURL).revokeObjectURL(\n",
       "                    fig.imageObj.src);\n",
       "            }\n",
       "\n",
       "            fig.imageObj.src = (window.URL || window.webkitURL).createObjectURL(\n",
       "                evt.data);\n",
       "            fig.updated_canvas_event();\n",
       "            fig.waiting = false;\n",
       "            return;\n",
       "        }\n",
       "        else if (typeof evt.data === 'string' && evt.data.slice(0, 21) == \"data:image/png;base64\") {\n",
       "            fig.imageObj.src = evt.data;\n",
       "            fig.updated_canvas_event();\n",
       "            fig.waiting = false;\n",
       "            return;\n",
       "        }\n",
       "\n",
       "        var msg = JSON.parse(evt.data);\n",
       "        var msg_type = msg['type'];\n",
       "\n",
       "        // Call the  \"handle_{type}\" callback, which takes\n",
       "        // the figure and JSON message as its only arguments.\n",
       "        try {\n",
       "            var callback = fig[\"handle_\" + msg_type];\n",
       "        } catch (e) {\n",
       "            console.log(\"No handler for the '\" + msg_type + \"' message type: \", msg);\n",
       "            return;\n",
       "        }\n",
       "\n",
       "        if (callback) {\n",
       "            try {\n",
       "                // console.log(\"Handling '\" + msg_type + \"' message: \", msg);\n",
       "                callback(fig, msg);\n",
       "            } catch (e) {\n",
       "                console.log(\"Exception inside the 'handler_\" + msg_type + \"' callback:\", e, e.stack, msg);\n",
       "            }\n",
       "        }\n",
       "    };\n",
       "}\n",
       "\n",
       "// from http://stackoverflow.com/questions/1114465/getting-mouse-location-in-canvas\n",
       "mpl.findpos = function(e) {\n",
       "    //this section is from http://www.quirksmode.org/js/events_properties.html\n",
       "    var targ;\n",
       "    if (!e)\n",
       "        e = window.event;\n",
       "    if (e.target)\n",
       "        targ = e.target;\n",
       "    else if (e.srcElement)\n",
       "        targ = e.srcElement;\n",
       "    if (targ.nodeType == 3) // defeat Safari bug\n",
       "        targ = targ.parentNode;\n",
       "\n",
       "    // jQuery normalizes the pageX and pageY\n",
       "    // pageX,Y are the mouse positions relative to the document\n",
       "    // offset() returns the position of the element relative to the document\n",
       "    var x = e.pageX - $(targ).offset().left;\n",
       "    var y = e.pageY - $(targ).offset().top;\n",
       "\n",
       "    return {\"x\": x, \"y\": y};\n",
       "};\n",
       "\n",
       "/*\n",
       " * return a copy of an object with only non-object keys\n",
       " * we need this to avoid circular references\n",
       " * http://stackoverflow.com/a/24161582/3208463\n",
       " */\n",
       "function simpleKeys (original) {\n",
       "  return Object.keys(original).reduce(function (obj, key) {\n",
       "    if (typeof original[key] !== 'object')\n",
       "        obj[key] = original[key]\n",
       "    return obj;\n",
       "  }, {});\n",
       "}\n",
       "\n",
       "mpl.figure.prototype.mouse_event = function(event, name) {\n",
       "    var canvas_pos = mpl.findpos(event)\n",
       "\n",
       "    if (name === 'button_press')\n",
       "    {\n",
       "        this.canvas.focus();\n",
       "        this.canvas_div.focus();\n",
       "    }\n",
       "\n",
       "    var x = canvas_pos.x * mpl.ratio;\n",
       "    var y = canvas_pos.y * mpl.ratio;\n",
       "\n",
       "    this.send_message(name, {x: x, y: y, button: event.button,\n",
       "                             step: event.step,\n",
       "                             guiEvent: simpleKeys(event)});\n",
       "\n",
       "    /* This prevents the web browser from automatically changing to\n",
       "     * the text insertion cursor when the button is pressed.  We want\n",
       "     * to control all of the cursor setting manually through the\n",
       "     * 'cursor' event from matplotlib */\n",
       "    event.preventDefault();\n",
       "    return false;\n",
       "}\n",
       "\n",
       "mpl.figure.prototype._key_event_extra = function(event, name) {\n",
       "    // Handle any extra behaviour associated with a key event\n",
       "}\n",
       "\n",
       "mpl.figure.prototype.key_event = function(event, name) {\n",
       "\n",
       "    // Prevent repeat events\n",
       "    if (name == 'key_press')\n",
       "    {\n",
       "        if (event.which === this._key)\n",
       "            return;\n",
       "        else\n",
       "            this._key = event.which;\n",
       "    }\n",
       "    if (name == 'key_release')\n",
       "        this._key = null;\n",
       "\n",
       "    var value = '';\n",
       "    if (event.ctrlKey && event.which != 17)\n",
       "        value += \"ctrl+\";\n",
       "    if (event.altKey && event.which != 18)\n",
       "        value += \"alt+\";\n",
       "    if (event.shiftKey && event.which != 16)\n",
       "        value += \"shift+\";\n",
       "\n",
       "    value += 'k';\n",
       "    value += event.which.toString();\n",
       "\n",
       "    this._key_event_extra(event, name);\n",
       "\n",
       "    this.send_message(name, {key: value,\n",
       "                             guiEvent: simpleKeys(event)});\n",
       "    return false;\n",
       "}\n",
       "\n",
       "mpl.figure.prototype.toolbar_button_onclick = function(name) {\n",
       "    if (name == 'download') {\n",
       "        this.handle_save(this, null);\n",
       "    } else {\n",
       "        this.send_message(\"toolbar_button\", {name: name});\n",
       "    }\n",
       "};\n",
       "\n",
       "mpl.figure.prototype.toolbar_button_onmouseover = function(tooltip) {\n",
       "    this.message.textContent = tooltip;\n",
       "};\n",
       "mpl.toolbar_items = [[\"Home\", \"Reset original view\", \"fa fa-home icon-home\", \"home\"], [\"Back\", \"Back to previous view\", \"fa fa-arrow-left icon-arrow-left\", \"back\"], [\"Forward\", \"Forward to next view\", \"fa fa-arrow-right icon-arrow-right\", \"forward\"], [\"\", \"\", \"\", \"\"], [\"Pan\", \"Pan axes with left mouse, zoom with right\", \"fa fa-arrows icon-move\", \"pan\"], [\"Zoom\", \"Zoom to rectangle\", \"fa fa-square-o icon-check-empty\", \"zoom\"], [\"\", \"\", \"\", \"\"], [\"Download\", \"Download plot\", \"fa fa-floppy-o icon-save\", \"download\"]];\n",
       "\n",
       "mpl.extensions = [\"eps\", \"jpeg\", \"pdf\", \"png\", \"ps\", \"raw\", \"svg\", \"tif\"];\n",
       "\n",
       "mpl.default_extension = \"png\";var comm_websocket_adapter = function(comm) {\n",
       "    // Create a \"websocket\"-like object which calls the given IPython comm\n",
       "    // object with the appropriate methods. Currently this is a non binary\n",
       "    // socket, so there is still some room for performance tuning.\n",
       "    var ws = {};\n",
       "\n",
       "    ws.close = function() {\n",
       "        comm.close()\n",
       "    };\n",
       "    ws.send = function(m) {\n",
       "        //console.log('sending', m);\n",
       "        comm.send(m);\n",
       "    };\n",
       "    // Register the callback with on_msg.\n",
       "    comm.on_msg(function(msg) {\n",
       "        //console.log('receiving', msg['content']['data'], msg);\n",
       "        // Pass the mpl event to the overridden (by mpl) onmessage function.\n",
       "        ws.onmessage(msg['content']['data'])\n",
       "    });\n",
       "    return ws;\n",
       "}\n",
       "\n",
       "mpl.mpl_figure_comm = function(comm, msg) {\n",
       "    // This is the function which gets called when the mpl process\n",
       "    // starts-up an IPython Comm through the \"matplotlib\" channel.\n",
       "\n",
       "    var id = msg.content.data.id;\n",
       "    // Get hold of the div created by the display call when the Comm\n",
       "    // socket was opened in Python.\n",
       "    var element = $(\"#\" + id);\n",
       "    var ws_proxy = comm_websocket_adapter(comm)\n",
       "\n",
       "    function ondownload(figure, format) {\n",
       "        window.open(figure.imageObj.src);\n",
       "    }\n",
       "\n",
       "    var fig = new mpl.figure(id, ws_proxy,\n",
       "                           ondownload,\n",
       "                           element.get(0));\n",
       "\n",
       "    // Call onopen now - mpl needs it, as it is assuming we've passed it a real\n",
       "    // web socket which is closed, not our websocket->open comm proxy.\n",
       "    ws_proxy.onopen();\n",
       "\n",
       "    fig.parent_element = element.get(0);\n",
       "    fig.cell_info = mpl.find_output_cell(\"<div id='\" + id + \"'></div>\");\n",
       "    if (!fig.cell_info) {\n",
       "        console.error(\"Failed to find cell for figure\", id, fig);\n",
       "        return;\n",
       "    }\n",
       "\n",
       "    var output_index = fig.cell_info[2]\n",
       "    var cell = fig.cell_info[0];\n",
       "\n",
       "};\n",
       "\n",
       "mpl.figure.prototype.handle_close = function(fig, msg) {\n",
       "    var width = fig.canvas.width/mpl.ratio\n",
       "    fig.root.unbind('remove')\n",
       "\n",
       "    // Update the output cell to use the data from the current canvas.\n",
       "    fig.push_to_output();\n",
       "    var dataURL = fig.canvas.toDataURL();\n",
       "    // Re-enable the keyboard manager in IPython - without this line, in FF,\n",
       "    // the notebook keyboard shortcuts fail.\n",
       "    IPython.keyboard_manager.enable()\n",
       "    $(fig.parent_element).html('<img src=\"' + dataURL + '\" width=\"' + width + '\">');\n",
       "    fig.close_ws(fig, msg);\n",
       "}\n",
       "\n",
       "mpl.figure.prototype.close_ws = function(fig, msg){\n",
       "    fig.send_message('closing', msg);\n",
       "    // fig.ws.close()\n",
       "}\n",
       "\n",
       "mpl.figure.prototype.push_to_output = function(remove_interactive) {\n",
       "    // Turn the data on the canvas into data in the output cell.\n",
       "    var width = this.canvas.width/mpl.ratio\n",
       "    var dataURL = this.canvas.toDataURL();\n",
       "    this.cell_info[1]['text/html'] = '<img src=\"' + dataURL + '\" width=\"' + width + '\">';\n",
       "}\n",
       "\n",
       "mpl.figure.prototype.updated_canvas_event = function() {\n",
       "    // Tell IPython that the notebook contents must change.\n",
       "    IPython.notebook.set_dirty(true);\n",
       "    this.send_message(\"ack\", {});\n",
       "    var fig = this;\n",
       "    // Wait a second, then push the new image to the DOM so\n",
       "    // that it is saved nicely (might be nice to debounce this).\n",
       "    setTimeout(function () { fig.push_to_output() }, 1000);\n",
       "}\n",
       "\n",
       "mpl.figure.prototype._init_toolbar = function() {\n",
       "    var fig = this;\n",
       "\n",
       "    var nav_element = $('<div/>')\n",
       "    nav_element.attr('style', 'width: 100%');\n",
       "    this.root.append(nav_element);\n",
       "\n",
       "    // Define a callback function for later on.\n",
       "    function toolbar_event(event) {\n",
       "        return fig.toolbar_button_onclick(event['data']);\n",
       "    }\n",
       "    function toolbar_mouse_event(event) {\n",
       "        return fig.toolbar_button_onmouseover(event['data']);\n",
       "    }\n",
       "\n",
       "    for(var toolbar_ind in mpl.toolbar_items){\n",
       "        var name = mpl.toolbar_items[toolbar_ind][0];\n",
       "        var tooltip = mpl.toolbar_items[toolbar_ind][1];\n",
       "        var image = mpl.toolbar_items[toolbar_ind][2];\n",
       "        var method_name = mpl.toolbar_items[toolbar_ind][3];\n",
       "\n",
       "        if (!name) { continue; };\n",
       "\n",
       "        var button = $('<button class=\"btn btn-default\" href=\"#\" title=\"' + name + '\"><i class=\"fa ' + image + ' fa-lg\"></i></button>');\n",
       "        button.click(method_name, toolbar_event);\n",
       "        button.mouseover(tooltip, toolbar_mouse_event);\n",
       "        nav_element.append(button);\n",
       "    }\n",
       "\n",
       "    // Add the status bar.\n",
       "    var status_bar = $('<span class=\"mpl-message\" style=\"text-align:right; float: right;\"/>');\n",
       "    nav_element.append(status_bar);\n",
       "    this.message = status_bar[0];\n",
       "\n",
       "    // Add the close button to the window.\n",
       "    var buttongrp = $('<div class=\"btn-group inline pull-right\"></div>');\n",
       "    var button = $('<button class=\"btn btn-mini btn-primary\" href=\"#\" title=\"Stop Interaction\"><i class=\"fa fa-power-off icon-remove icon-large\"></i></button>');\n",
       "    button.click(function (evt) { fig.handle_close(fig, {}); } );\n",
       "    button.mouseover('Stop Interaction', toolbar_mouse_event);\n",
       "    buttongrp.append(button);\n",
       "    var titlebar = this.root.find($('.ui-dialog-titlebar'));\n",
       "    titlebar.prepend(buttongrp);\n",
       "}\n",
       "\n",
       "mpl.figure.prototype._root_extra_style = function(el){\n",
       "    var fig = this\n",
       "    el.on(\"remove\", function(){\n",
       "\tfig.close_ws(fig, {});\n",
       "    });\n",
       "}\n",
       "\n",
       "mpl.figure.prototype._canvas_extra_style = function(el){\n",
       "    // this is important to make the div 'focusable\n",
       "    el.attr('tabindex', 0)\n",
       "    // reach out to IPython and tell the keyboard manager to turn it's self\n",
       "    // off when our div gets focus\n",
       "\n",
       "    // location in version 3\n",
       "    if (IPython.notebook.keyboard_manager) {\n",
       "        IPython.notebook.keyboard_manager.register_events(el);\n",
       "    }\n",
       "    else {\n",
       "        // location in version 2\n",
       "        IPython.keyboard_manager.register_events(el);\n",
       "    }\n",
       "\n",
       "}\n",
       "\n",
       "mpl.figure.prototype._key_event_extra = function(event, name) {\n",
       "    var manager = IPython.notebook.keyboard_manager;\n",
       "    if (!manager)\n",
       "        manager = IPython.keyboard_manager;\n",
       "\n",
       "    // Check for shift+enter\n",
       "    if (event.shiftKey && event.which == 13) {\n",
       "        this.canvas_div.blur();\n",
       "        event.shiftKey = false;\n",
       "        // Send a \"J\" for go to next cell\n",
       "        event.which = 74;\n",
       "        event.keyCode = 74;\n",
       "        manager.command_mode();\n",
       "        manager.handle_keydown(event);\n",
       "    }\n",
       "}\n",
       "\n",
       "mpl.figure.prototype.handle_save = function(fig, msg) {\n",
       "    fig.ondownload(fig, null);\n",
       "}\n",
       "\n",
       "\n",
       "mpl.find_output_cell = function(html_output) {\n",
       "    // Return the cell and output element which can be found *uniquely* in the notebook.\n",
       "    // Note - this is a bit hacky, but it is done because the \"notebook_saving.Notebook\"\n",
       "    // IPython event is triggered only after the cells have been serialised, which for\n",
       "    // our purposes (turning an active figure into a static one), is too late.\n",
       "    var cells = IPython.notebook.get_cells();\n",
       "    var ncells = cells.length;\n",
       "    for (var i=0; i<ncells; i++) {\n",
       "        var cell = cells[i];\n",
       "        if (cell.cell_type === 'code'){\n",
       "            for (var j=0; j<cell.output_area.outputs.length; j++) {\n",
       "                var data = cell.output_area.outputs[j];\n",
       "                if (data.data) {\n",
       "                    // IPython >= 3 moved mimebundle to data attribute of output\n",
       "                    data = data.data;\n",
       "                }\n",
       "                if (data['text/html'] == html_output) {\n",
       "                    return [cell, data, j];\n",
       "                }\n",
       "            }\n",
       "        }\n",
       "    }\n",
       "}\n",
       "\n",
       "// Register the function which deals with the matplotlib target/channel.\n",
       "// The kernel may be null if the page has been refreshed.\n",
       "if (IPython.notebook.kernel != null) {\n",
       "    IPython.notebook.kernel.comm_manager.register_target('matplotlib', mpl.mpl_figure_comm);\n",
       "}\n"
      ],
      "text/plain": [
       "<IPython.core.display.Javascript object>"
      ]
     },
     "metadata": {},
     "output_type": "display_data"
    },
    {
     "data": {
      "text/html": [
       "<img src=\"data:image/png;base64,iVBORw0KGgoAAAANSUhEUgAAAoAAAAHgCAYAAAA10dzkAAAgAElEQVR4Xu2dCbgVxZmwP0ABERGIOhpkUdxYxgUMa0BMSEajBjBEUEdW9yXEmD+uCEQWAQUcDcgSAqIIg6LGiUajGVDBxGgkKghKiECALCbKQBQIy/98Zfp6t3NPdVd3n17eeh6eRG5VddX7fYfz3qqu7loHDhw4IBQIQAACEIAABCAAgdwQqIUA5ibWTBQCEIAABCAAAQgYAgggiQABCEAAAhCAAARyRgABzFnAmS4EIAABCEAAAhBAAMkBCEAAAhCAAAQgkDMCCGDOAs50IQABCEAAAhCAAAJIDkAAAhCAAAQgAIGcEUAAcxZwpgsBCEAAAhCAAAQQQHIAAhCAAAQgAAEI5IwAApizgDNdCEAAAhCAAAQggACSAxCAAAQgAAEIQCBnBBDAnAWc6UIAAhCAAAQgAAEEkByAAAQgAAEIQAACOSOAAOYs4EwXAhCAAAQgAAEIIIDkAAQgAAEIQAACEMgZAQQwZwFnuhCAAAQgAAEIQAABJAcgAAEIQAACEIBAzggggDkLONOFAAQgAAEIQAACCCA5AAEIQAACEIAABHJGAAHMWcCZLgQgAAEIQAACEEAAyQEIQAACEIAABCCQMwIIYM4CznQhAAEIQAACEIAAAkgOQAACEIAABCAAgZwRQABzFnCmCwEIQAACEIAABBBAcgACEIAABCAAAQjkjAACmLOAM10IQAACEIAABCCAAJIDEIAABCAAAQhAIGcEEMCcBZzpQgACEIAABCAAAQSQHIAABCAAAQhAAAI5I4AA5izgTBcCEIAABCAAAQgggOQABCAAAQhAAAIQyBkBBDBnAWe6EIAABCAAAQhAAAEkByAAAQhAAAIQgEDOCCCAOQs404UABCAAAQhAAAIIIDkAAQhAAAIQgAAEckYAAcxZwJkuBCAAAQhAAAIQQADJAQhAAAIQgAAEIJAzAghgzgKexOnOmzdPhg4dWja0OnXqyNFHHy1f+9rXZOzYsdKsWTPzM6/eb37zGznzzDOTOJUqY1q2bJmcffbZZX9/8MEHy+GHHy4nnXSS9OrVS6688kpp2bJlhXbePP/whz9Iq1atUjHPUg3yzTfflO9+97uyatUq+b//+z+ZOnWq+e/qyt/+9je555575KmnnpKNGzfKQQcdJMccc4x86Utfkv/3//6fnHrqqQXzbPTo0TJmzJiybr22//Ef/yF33XWXydekF5e88uZ/4MCBpE+T8UEAApYEEEBLUFSLjoD3xfSTn/xETjnlFPn000/lpZdekgkTJsgXv/hFefvtt+XQQw9NtQCOHz/eiOC+fftEReTXv/61zJ07V7Zv3y6zZ8+WSy+9tAzwX//6V/n9738vZ5xxhtSrVy868BnoWRn94x//kPvuu0+aNGlihLk6Gdu5c6fhqf+rsnfaaaeZPHvvvfdk6dKlRsQHDRpUVAB//vOfG4HXfp5//nm59957Tc6qgKrcJ7kggEmODmODQPwEEMD4mXPFSgQKrezdeeedZnXl4YcfNoKU5hXAJUuWSP/+/SvM/O9//7v07t3bCO5vf/tb+fd///eS5oau7uzatUsOOeSQko7Dz8VVuq644gqZPn16jc30l4thw4bJL3/5yworsl6j/fv3S+3atYsKoMr5EUccUXYt7VP7LtSvn7lEXRcBjJow/UMgXQQQwHTFK5OjLSR2zzzzjJx33nkybtw4ue2228oEUL9s//u//1tUqlRazjrrLHnggQfMaqFXFi9eLD/+8Y+NXH388cdmZahPnz4ycuRIs5rolQ0bNpi+dcVRV+YaN24s7du3Nys7p59+eoX+pk2bJm+99ZbUqlVLunfvLnfffbdZVaqpeFvA1QmgttPt7E6dOpktcF0R1FLdF/UvfvELM8c33nhDPvzwQzn22GPlq1/9qmFTXki0vW5x6jzXrVtnts9HjBghH330kdnCLL+Fp/O47rrrzHx1BU1XHf/rv/5Lrr76alNX+b///vuyd+9eOeGEE0xdFR5t5xXlqu21jV5z7dq1hvXkyZPl/PPPN3OZOHGibNq0Sdq1a2dEzWb7/p133pHbb7/dxEVX6nSV7cYbb5TBgwdXYFSZfaEtSt361ZW/d9991/RVU6kuH70t0MoCqPNRLo8++qgMHDiwxn51y19jpyu+N910k+j29b/927/JqFGjTPx/9rOflTFs3bq1YXjOOedU6POVV14x9V977TWzmqw5qpz0c1K+/OpXvzLX0Hxp2rSp4Xb88ceblc7KtxboZ6VYbrMFnMl/eplUzgkggDlPgCRMv5AAqoyovMyaNcus8nj19ItMv/BUMDZv3my+2PWLUMXQK3rvYMOGDc29dip8KiYqIion5eupDOgXqX6ptmjRwnxBr1y50vStX9hadPv2jjvuMF/SF154oezZs8d8OasM6hdx27ZtC2IsJoDaUMW1QYMGsn79+oIC+OCDDxqRVYnSLcgPPvhApkyZYlbsVHK97UfdolQ2PXv2NOxU3lR+/vznP5s2lQVQBfELX/iC3HLLLWbr9KijjjLX0Ln26NHDMNGiQqEctJ6uzJYXQOWn4qwiomNTedQVzVtvvVVefPFFIyIqjTfffLPZ8lYBqWmVUcVV78vTsWhcdHy6CqySpTH8wQ9+IN42edeuXc3Kql5DS5cuXaqNxYoVK+TLX/6y6VeFX+em/VZX/Aig5p7yVdHq0KFDUQFUsVVh1zmoxN9///3yP//zP4bZY489ZsamDH/4wx8aQdRfULxfbJYvX27ui9V7FbW93h6gAqq/HCibAQMGmOuvWbPGzFNzXaVcc0vrqfyqiJcXQNvcRgCT8C8lY4BAuAQQwHB50lsAAt4XrkpGx44djdTol51KiP5/XYXSlRKv3rXXXis/+tGPyq6kMqZfiNu2bav2/i+VHpUUFTtdLfzd735nvkR1xU+/jHX1Q2WpuqKCqcJ5zTXXmNUxr+g9YCeeeKIRLV1BKVRsBFClRWXyk08+KSiA5fv35rN161ZzgERX/L75zW+aKrqa+Kc//cnIZN26dc3f6VhVBnS+lQVQZUOFQO+fK1R0e1T/6D2ZulKo8uWtAmq/f/nLX0yMvMM6yleFXA9Y6DhUQLToOPv27Ss//elP5YILLih4vYsvvlieeOIJ02fz5s3L6n3jG98weaHz1nFr8VYxdXW0WNHbCfQXAxV4Lccdd5zoIQ6NrXcARP++JgFUtiqOylTFS3NU2S9cuLDY5c0vFDr+119/3eS5Fr0NQEVXY6WsPNnzGGrO3XDDDaauyq4Koa7U6i83WrxVQP3lQOVOeehKpDLWuOrnxqunK7X6i5AngH5yGwEsGl4qQCB1BBDA1IUsewOufArYm6HeEzdjxgyz3Vr+i1lXufSL2yvPPfec2SpTgezcubP5a/2i1FU7Xe1TQSkvPosWLTKrJfp3KnEqmd/73vfMvWF6OMC7F0z7mTNnjll91K3a8lvC+rP//M//lP/93/81q2uFio0A6ph1Fa8mAdQ56MqbbhOqAKmQeUW3onV1TQ9DHHbYYXL99ddXkFWtp6KinCsLYL9+/cwhiMpFuenqkM5bT9eWLypBnlioAKq0qFx7RQVLV6dU5MqLkR64OPnkk82ql46xUNG+dZtY51q+6La/xu3ZZ58t2xr1I4Dal8ZKt7b1EI6OWbnrid6HHnrIjLd8npU/bV75FLA3Lv0F4IUXXrA6AKICqAw0fuWL8lOO1THUlU1dYfRiq7Ja/pcf7WfSpEkm/t72tvLTXwSefvrpCtfx5uAJoJ/cRgALpis/gEBqCSCAqQ1ddgbuCaB+Cbdp08Z8IeuXmK4glS+Ftoo9yVIZ0y9ZXZ1R0ahfv77ZhtRtYF2F0hUP3cLVm/aHDBliutbHgeh2m8qGyoHeL6UHTvTeOpUp/V8VyUJFZVFXYQoVGwHUeeo2daEtYJU93V5UcdAtPRVjra9/r6uHuk2qX9B//OMfzYqZrnLpdmz5olu3un1aWQArr6ZqG93W7tatW9ljanSrUleonnzyScOj/Baidw+gbmOWL9WJmW5B66qbrth+//vfL8hM46/xUUEpX/T+N9269Q4F6c/8CmDli+o9hueee67hqZJdTABV9nT1UVfu9NaExx9/XK666irRLfpixbsHULeByxcbhl5sdRWzcj4qj8suu0yUj/6ypPxU+PVew/JFx6gC6cXPT24jgMWiy88hkD4CCGD6Ypa5Edue7rUVQN3+0gMfKl+65esV/fLWe6jKC2B5mLo6o6tM+mV3+eWXmy/1mTNnmgMOen9W5ef1eW1rOtRQTABVtnQFcPjw4WXCU/kQiG4P68qk/r13CEKvrcKoK5ieANa0AqhCNX/+/GoPgVTePtXVUF151YMjKtFeUfGIQwCLrQCWXwF2FUCdm66CqtzqLwC6HWt7D6DKtK5Ea17piqLed1dTcRFAjW2jRo1MLhZaAdTtXf3Fx3YF0E9uI4CZ+2eXCUFAEECSoOQEwhZA3frS+7JeffXVCocCvv3tbxuRKySAHgg92auHKlTOdNVKJUvFR+8z9FtqEkDvMTC6IqQ3/Ovhi/IrUN5KjW5T6j1qlU+aegcQPAHUtn7vAdQTrJUFULcddXVLx+cdLvFO4lY+RGCzeuUxs10BvOSSS8w9gHqvW/mT3XowR1d5g9wDqHJ35JFHVtje13Hp6q3KtbJW4dWVTlsB1PZ6n6IeAvrKV74ieitCVAKo/eqqrI5Tb2/wDtHoKrDemqBj93sPoJ/cRgD9fvKpD4HkE0AAkx+jzI8wbAHUww4qbXqCVeVIJeaRRx4xJzX1C9sTQF1Z03vRVAy1vn75671vethBt0xV+rTof+v9d7pKp/ca6oEJFQoVRN06LP+GiMrB8gTQexC0fmF7D4LWx9To/XX6v+UfIVJ5BfCf//yn2RrXE706Ft2mVsnVQwi6alleACufAlbB0S1XvW9PBaH8vYOFVs+UgT5iRk/X6mNDvDdo6FiVX9RbwN4pYN0aV+46X42f/tH73VR8vWK7Aqj30emKl8qlrtTpNq5uq+o2s85Xr+PF0Y8A6jhUovWU7csvv2xOGhcqLiuA2qd3ClhvB9AtdM1Xva4+kLr8KWD9hUJ/EdDtdp2X3v6gq4Z6OlhvgygfP9vcRgAz/88wE8whAQQwh0FP2pTDFkCdn67+6UqWnqZUSdMtYb3fTb88PQHUe7705nk9PKJfjCoTeuJX75/Sk5f6Sjqv6AlWPQGrErl7925z2lhFQrfkVJYKlcqvgtP7s7xXwemhE9tXwekN/npSWceqfegDpPVZhZ7k6he0V3Q7U7/4VaR0nDpvXTVbsGCBWdWzkSdlpPcM6iqRnu7VgzC6PaoSHLUA6vhUYrznM+rqowqwvuLNu3fTZg7lY6L8VLRVovS+T10x03s8dWVVt/v1QI9X/Aqg5pE+t0/zofwjhirnhKsAan/ecwB1y1llXlcv9X5PXR0tX/RAifesQf2FRe8R1F9yqnsOoE1uI4BJ+1eT8UDAnQAC6M6QHiCQaAK6gqjbhCpyulpEgQAEIAABCCCA5AAEMkZAV+n0sItuoerWrx5m0ZUvlT9dOaRAAAIQgAAEEEByAAIZI3DRRReZZ8rpA5v1/kfd9tbt1MqvFcvYtJkOBCAAAQj4IIAA+oBFVQhAAAIQgAAEIJAFApkRQH2gq5521Jv09ZVg+hgJfe1UTUW3xfSZZ6tXrzaPm9DHfOhN/RQIQAACEIAABOwJVPe2HH0mpd6GUqjogTp9EL8+zFzr6UPn9VDTsGHD7C9MzcAEMiOA+noofeG7bnd961vfKiqAepJR342ppxv1Sf7aVk9L6uMUtD0FAhCAAAQgAAE7AiqA+pxVfTC6V/RJCvr8zUJFn86gj9TStxedcMIJ5m08+rgrfeYlJXoCmRHA8qj0cR7FVgD18R/6xgh9PIRXdPVPHxuijxChQAACEIAABCBgR0AFUB9BtWrVKqsG+sxSff6pPthcn/VJiZ9AbgVQX+Kub3zQZ7t5RaVRb6D/5JNPrF7uHn+4uCIEIAABCEAgeQRUAPU2LH3Oab169cwrLvUB+Pps1eqK7rjpg+z1VZr6jFJ9Xqu+wUnfd+296SZ5s8zWiHIrgCeddJJ5qKyejvSKnpzUl6nrQ3P1ERqVi96voH+8og9i1QfrfuELXzAPEaZAAAIQgAAEChHQ90fv2LHD3HNeu3btyEDt2rVL9uzZ49y/jrfyd5vKnf6pXPQ2LF080e9Wb1tX30+t99jrd2Tlok8l0Afl66Op9MH1H374obkNS1+rOHfuXOex00FxArkWQH3jw6233lpGSe8D1Fc56SESfYNC5VLdTa7FEVMDAhCAAAQg8DkBffOQHniIoqj8NW9xqHz41/3O3Tds2FB27txZoZ/yr56s6QL/+Mc/zBty9HClHrasXL7+9a+b1yfq4Q9dNdSydOlS8wpKbcsqoHP4inaQWwEMsgVceQVw+/bt5lVcvf5tqBxUu25R2Gmu8GnbqiuitvP5+IRgbHYe7/4PmO0Yw6h3aMv/C6ObTPbxlWPfz+S8mFQ0BAY2/nU0HZe413/s3C//0eVP8vHHH5dJT9hD0nd2q1A996uj5dCGwVcZvbGqrDZq1KhsmIVWAKubhz6QXg93zJgxo8qPBw8ebA5frl+/vuxnek9+27ZtzdawvrqQEi2B3AqgHgJ5+umnzQvSvXLNNdeYG1htD4F4H7Tex1yVfQFs3yxwJn50cjAB3NE6XQLY8LjtgRllveHXW6zL+hSZX8gELmuyMuQeS9/dzh375cvtt4ouHpSXqjBH5n0vvfLOF6XhYcEF0HWsumCiK4D6/mnd4q1cZs2aZd7vrSd/daVRi76X+sILLzSrjqwAhpkV1feVGQHUhPF+k9DDHVOmTJGzzz7bnC7SVTrd6t2yZYs89NBDhoT3GBh9BIw+CkalT08B+3kMDAJol6AIoB2nLNdCALMc3ejmljUJdJUqG9KlEsDvf//7csEFF5jvW5U6fbSLPmv37bfflpYtW1b5Dtbv7DZt2kiXLl1kzJgx5h7Ayy+/XM466yyZPXu2zVSp40ggMwKoN5Oq8FUuusw8b948c+Djgw8+MDedekWT88Ybbyx7ELSuCvp5EDQCaJd9CKAdp6zXQgKzHuHo5pcVEcyyAOojXfSFDCpy+uw/FTs90atbulqq+w7WQyI33HCD2QrWgyL6FA4VR1b/ovssle85MwIYD66KV0EA7agjgHacsl4LAcx6hKOdXxYkMMsCGG306T0KAgigA1UE0A4eAmjHKeu1EMCsRzj6+aVdAhHA6HOEK9gTQADtWVWpiQDawUMA7TjloRYSmIcoRzvHNEsgAhhtbtC7PwIIoD9eFWojgHbwEEA7TnmohQDmIcrRzzGtEogARp8bXMGeAAJoz4oVwICsEMCA4DLYDAHMYFBLNKU0SiACWKJk4bLVEkAAHRKDFUA7eAigHae81EIC8xLp6OeZNglEAKPPCa5gTwABtGfFCmBAVkEFUC+XpodB8yBouwRBAO04UcuOQJokEAG0iym14iGAADpwZgXQDh4CaMcpL7UQwLxEOr55pkUCEcD4coIrFSeAABZnVLAGAmgHDwG045SnWkhgnqIdz1zTIIEIYDy5wFXsCCCAdpyqrYUA2sFDAO045akWApinaMc316RLIAIYXy5wpeIEEMDijFgBFJFP2zcLTAoBDIwusw0RwMyGtuQTS7IEIoAlTw8GUI4AAuiQDqwA2sFDAO045a0WEpi3iMc336RKIAIYXw5wpeIEEMDijFgBZAWwaJZwArgooioVEED/zGhhTyCJEogA2sePmtETQAAdGLMCaAcvDyuACKBdLpSvhQD6Z0YLfwSSJoEIoL/4UTtaAgigA18E0A4eAmjHKY+1kMA8Rj3eOSdJAhHAeGPP1WomgAA6ZAgCaAcPAbTjlMdaCGAeox7vnBHAYLzjkNVgI6NVWAQQQAeSCKAdPATQjlMeayGAeYx6/HNOigTGIVXe99Ir73xRGh5WOzDsOMYaeHA0DIUAAuiAEQG0g4cA2nHKay0kMK+Rj3feSZDAOKQKAYw3r9J8NQTQIXoIoB08BNCOU15rIYB5jXz88y61BCKA8cecKxYmgAA6ZAcCaAcPAbTjlNdaCGBeI1+aeZdSAhHA0sScq1ZPAAF0yAwE0A4eAmjHKa+1EMC8Rr508y6VBCKApYs5V65KAAF0yAoE0A4eAmjHKc+1kMA8R780cy+FBCKApYk1V2UFMPQcQADtkCKAdpzyXAsBzHP0Szf3uCUQASxdrLkyK4Ch5gACaIcTAbTjlOdaCGCeo1/auccpgQhgaWPN1SsSYAvYISMQQDt4CKAdp7zXQgLzngGlm39cEogAli7GXJkVwFBzAAG0w4kA2nHKey0EMO8ZUNr5xyGBCGBpY8zVWQEMLQcQQDuUCKAdp7zXQgDzngGlnT8CWJF/HLJa2ohzdbaAHXIAAbSDhwDacaKWCBJIFpSSQNQSGIdU8SaQUmZQuq6NADrECwG0g4cA2nGiFgJIDpSeQJQSiACWPr6M4HMCCKBDNiCAdvCyLoANj9tuB4JaRQmwAlgUERViIBCVBCKAMQSPS1gTQACtUVWtiADawUMA7ThR6zMCSCCZkAQCUUggApiEyDIGjwAC6JALCKAdPATQjhO1EEByIFkEwpZABDBZ8c37aBBAhwxAAO3gIYB2nKiFAJIDySMQpgQigMmLb55HhAA6RB8BtIOHANpxotbnBNgGJhuSRCAsCUQAkxRVxoIAOuQAAmgHDwG040QtBJAcSC6BMCQQAUxufPM4MgTQIeoIoB08BNCOE7UQQHIg2QRcJRABTHZ88zY6BNAh4gigHTwE0I4TtSoSYBuYjEgiARcJRACTGNH8jgkBdIg9AmgHL+sCqBR4FqBdLviphQD6oUXdOAkElUAEMM4oca1iBBDAYoRq+DkCaAcPAbTjRK2qBJBAsiKpBIJIIAKY1Gjmc1wIoEPcEUA7eC4CqFfY0Xq/3YVKWIsVwOjgI4HRsaXn4AQQwODsaJkMAgigQxwQQDt4CKAdJ2pVTwABJDOSSsCvBLICmNRI5nNcCKBD3BFAO3h5EEAlwSqgXT4EqYUEBqFGmzgI+JFABDCOiHANWwIIoC2pauohgHbwEEA7TtSqmQASSIYklYCtBCKASY1gPseFADrEHQG0g4cA2nGiFgJIDqSXgI0E5kUAJ0yYILfddpuMGDFCpk2bVjCo+rMZM2bIpk2b5IgjjpD+/fuLtq1fv356EyFFI0cAHYKFANrBQwDtOFGrOAFWAYszokbpCBSTwDwI4G9+8xu56KKLpFGjRnL22WcXFMBHHnlEhg8fLnPnzpVu3brJe++9J0OGDJEBAwbI1KlTSxfEHF0ZAXQIdp4EUDF92r5ZIFquAqgXTcNJYB0n9wEGShHrRgigNSoqlohATRKYdQHcuXOndOjQQaZPny5jx46V008/vaAAXn/99fLuu+/Kiy++WBapm266SV577TV5+eWXSxS9fF0WAXSINwJoBw8BtONELTsCSKAdJ2qVjkAhCUyjAG7evNms5nmlXr16on+qK4MHD5amTZuaFbxevXrVKICLFi2Sq6++Wp5//nnp1KmTbNiwQc477zzRPm655ZbSBS9HV0YAHYKNANrDc5VAVgDtWeehJhKYhyine47VSWAaBbByFEaNGiWjR4+uEhwVOl31e/311809fMUEUDu4//77RVf9Dhw4IHv37pVrrrnGrB5S4iGAADpwRgDt4eVFAJUI28D2eRG0JgIYlBzt4iRQWQLjFMDrX+kn9RoeHHi6u3f+Ux748hNiswKodc4880yzmnfaaaeZaxYTwGXLlsnAgQONNHbu3FnWr19vDo1cccUVMnLkyMDjpqE9AQTQnlWVmgigPTwE0J4VNe0IIIF2nKhVWgLlJTCNArh9+/YKW8DV0XzyySelX79+UqdOnbIf79u3T2rVqiW1a9eW3bt3V/iZVurRo4d06dJFJk+eXNbm4YcfliuvvFL0XkJtR4mWAALowBcBtIeHANqzoqYdAQTQjhO1Sk/Ak8CsCuCOHTtk48aNFUAPHTpUTjnlFLn55pulffv2VYLQsWNH6d27t0ycOLHsZ48++qgMGzbMCGB5mSx9BLM5AgTQIa4IoD08VwHUK6XlPkAdK9vA9rnhUhMJdKFH2zgJqARmVQCr41h5C3jQoEHSrFkz85w/LXof4ZQpU2TWrFllW8B6D6CK4eLFi+MMTW6vhQA6hB4BtIeHANqzoqY/AkigP17ULh2Bfge9Il9uv1VstlWDjtL7XgrrHsCgY60sgPrfrVq1knnz5pmp6aGPcePGyYIFC2TLli1y5JFHygUXXGD+rnHjxkGnTzsfBBBAH7AqV0UA7eHlTQBZBbTPDdeaCKArQdrHRcA7WBFUqmzGmRQBtBkrdUpLAAF04I8A2sNDAO1ZUdM/ASTQPzNaxE8AAYyfOVcsTAABdMgOBNAeHgJoz4qa/gkggP6Z0SJ+Aghg/My5IgIYSQ4ggPZY8yiASofDIPY54loTCXQlSPuoCSCAUROmfz8EWAH0Q6tSXQTQHl4YAqhXS9NJYATQPj/CqokEhkWSfqIggABGQZU+gxJAAIOSExEE0B4eAmjPiprBCSCAwdnRMnoCCGD0jLmCPQEE0J5VlZoIoD28vAogq4D2ORJWTSQwLJL0EzYBBDBsovTnQgABdKCHANrDQwDtWVHTnQAS6M6QHsIngACGz5QegxNAAIOzYwvYB7s8CyCrgD4SJaSqCGBIIOkmVAIIYKg46cyRAALoAJAVQHt4COB2e1jUDIUAEhgKRjoJkQACGCJMunImgAA6IEQA7eGFJYB6xbSdBGYF0D5PwqyJAIZJk77CIIAAhkGRPsIikCkBnD59ukyePFm2bdsm7dq1k2nTpkmPHj0KstKfz5gxQzZt2iRHHHGE9O/f37youn79+lZ8EUArTKZS3gUQCU23bXgAACAASURBVLTPlTBrIoFh0qQvVwIIoCtB2odJIDMCuHjxYrnssstEJbB79+4yc+ZMmTNnjqxZs0ZatGhRhdkjjzwiw4cPl7lz50q3bt3kvffekyFDhsiAAQNk6tSpVowRQCtMCOC/MPFQaPt8CbMmEhgmTfpyIYAAutCjbdgEMiOAnTt3lg4dOpgVPa+0adNG+vbta1b1Kpfrr79e3n33XXnxxRfLfnTTTTfJa6+9Ji+//LIVZwTQChMCiADaJ0oENRHACKDSZSACCGAgbDSKiEAmBHDPnj3SoEEDWbJkifTr168M1YgRI2TVqlWyfPnyKvgWLVokV199tTz//PPSqVMn2bBhg5x33nkyePBgueWWW6xwI4BWmBDAcphYBbTPmTBrIoFh0qSvoAQQwKDkaBcFgUwI4NatW6VZs2ayYsUKs53rlfHjx8v8+fNl3bp11bK7//77RVf9Dhw4IHv37pVrrrnGbCEXKrt37xb94xUVwObNm0vvY66Sg2rXjSI+ierz0/bNAo+HewA/Q4cABk4hp4YIoBM+GodEAAEMCSTdhEIgUwK4cuVK6dq1axmYcePGyYIFC2Tt2rVVYC1btkwGDhwoY8eOFd0+Xr9+veiK4RVXXCEjR46sFu7o0aNlzJgxVX6GABbPxTAFUK+WxpPACGDxPImyBhIYJV36tiGAANpQok5cBDIhgEG2gPV0cJcuXcypYa88/PDDcuWVV8rOnTuldu3aVWLACmAyVgDTLIBIYFz/tFV/HSSwtPzzfnUEMO8ZkKz5Z0IAFamu4nXs2LHCFm7btm2lT58+1R4C0bq9e/eWiRMnlkXk0UcflWHDhhkBrFOnTtFIcQ9gUURlFVgB/JwV28D2eRN2TQQwbKL054cAAuiHFnWjJpAZAfQeA/Pggw+abeBZs2bJ7NmzZfXq1dKyZUsZNGiQuU/QOxGs27lTpkwx9bwtYL0HUMVQ+7IpCKANpc/qIIAVWSGB9rkTdk0kMGyi9GdLAAG0JUW9OAhkRgAVlh7gmDRpknkQdPv27c3z/Hr27Gk49urVS1q1aiXz5s0z/62HPrx7BLds2SJHHnmkXHDBBebvGjdubMUeAbTChABWgwkBtM+dKGoigVFQpc9iBBDAYoT4eZwEMiWAcYLTayGA9sRZAWQF0D5boq+JAEbPmCtUJYAAkhVJIoAAOkQDAfQHDwlEAv1lTLS1kcBo+dI7AkgOJJsAAugQHwTQHzwEEAH0lzHR1kYAo+VL7wggOZBsAgigQ3wQQH/wEEAE0F/GRF8bCYyeMVf4nABbwGRDkggggA7RQAD9wUMAEUB/GRNPbSQwHs5cRQQBJAuSRAABdIgGAugPHgJYlRengf3lUFS1kcCoyNJveQIIIPmQJAIIoEM0EEB/8BBABNBfxsRbGwmMl3cer4YA5jHqyZ0zAugQGwTQHzwEEAH0lzHx10YC42eepysigHmKdvLnigA6xAgB9AcPAUQA/WVMaWojgaXhnoerIoB5iHJ65ogAOsQKAfQHDwFEAP1lTGlqI4Cl4Z6HqyKAeYhyeuaIADrECgH0Bw8BRAD9ZUzpaiOBpWOf5SsjgFmObvrmhgA6xAwB9AcvbAHUq+9ovd/fIBJWm1PACQtIueEggcmNTVpHhgCmNXLZHDcC6BBXBNAfPASQFUB/GVP62khg6WOQpREggFmKZvrnggA6xBAB9AcPAayeF6uA/vIo7tpIYNzEs3s9BDC7sU3jzBBAh6ghgP7gIYAIoL+MSU5tJDA5sUjzSBDANEcve2NHAB1iigD6g4cAIoD+MiZZtZHAZMUjjaNBANMYteyOGQF0iC0C6A8eAogA+suY5NVGApMXkzSNCAFMU7SyP1YE0CHGCKA/eAggAugvY5JZGwlMZlzSMCoEMA1Rys8YEUCHWCOA/uAhgAigv4xJbm0kMLmxSfLIEMAkRyd/Y0MAHWKOAPqDhwAigP4yJrm1EcDkxibJI0MAkxyd/I0NAXSIOQLoDx4CiAD6y5hk10YCkx2fJI4OAUxiVPI7JgTQIfYIoD94CGBhXjwL0F8uJaU2EpiUSKRjHAhgOuKUl1EigA6RRgD9wUMAEUB/GZOO2khgOuKUhFHmRQAnTJggt912m4wYMUKmTZtWEP3jjz8uI0eOlN///vfSunVrGTdunPTr1y8JocrFGBBAhzAjgP7gRSGAOoK0vw9Y58AKoL9cSlptJDBpEUnmePIggL/5zW/koosukkaNGsnZZ59dUABfffVV6dGjh9x1111G+p544gm588475ZVXXpHOnTsnM4AZGxUC6BBQBNAfPASQFUB/GZOu2khguuJVitFmXQB37twpHTp0kOnTp8vYsWPl9NNPLyiAAwYMEP0OffbZZ8tCcc4550iTJk3k0UcfLUV4cndNBNAh5AigP3gIIALoL2PSVxsJTF/M4hxxGgVw8+bNZjXPK/Xq1RP9U10ZPHiwNG3aVKZOnSq9evWqUQBbtGghN954o/njFW2nW8YbN26MMyy5vRYC6BB6BNAfPAQQAfSXMemsjQSmM25xjDqNAliZy6hRo2T06NFVcC1atMis+r3++utSv379ogJYt25dmTdvnlxyySVlfS1cuFCGDh0qu3fvjiMcub8GAuiQAgigP3gIIALoL2PSWxsJTG/sohx5nALYdtEPpE6D6lfqbOa475PdsmbgJLFZAdQ6Z555pjz//PNy2mmnme6LrQCqAM6fP18uvvjisuE88sgjMnz4cNm1a5fNEKnjSAABdACIAPqDhwAigP4yJt21kcB0xy+K0adRALdv315hC7g6Lk8++aQ5yFGnTp2yH+/bt09q1aoltWvXNit65X+mldgCjiLD/PWJAPrjVaE2AugPHgJYMy9OAvvLpzTURgLTEKX4xphVAdyxY0eV+/Z0K/eUU06Rm2++Wdq3b18Fsh4C0XbPPPNM2c/OPfdcady4MYdAYkpJBNABNALoDx4CiAD6y5j010YA0x/DMGeQVQGsjlHlLeBBgwZJs2bNRJ8RqGXlypXSs2dP8+y/Pn36yFNPPSV33HEHj4EJM+GK9IUAOsBGAP3BQwARQH8Zk43aSGA24hjGLPIsgCqErVq1Mgc/vPLYY48Z6duwYUPZg6AvvPDCMFDThwUBBNACUqEqCKA/eAggAugvY7JTGwnMTixdZpInAXThRNt4CCCADpwRQH/wEEAE0F/GZKs2EpiteAaZDQIYhBptoiKAADqQRQD9wUMAEUB/GZPN2ohgNuNqMysE0IYSdeIigAA6kEYA/cFDABFAfxmT3dpIYHZjW9PMEMB8xj2ps0YAHSKDAPqDF5UA6ih2tN7vbzAJrc2jYBIamAiGhQRGADXhXSKACQ9QzoaHADoEPG8CqKg+bd8sMDEEsDg6BLA4oyzVQAKzFM3ic0EAizOiRnwEEEAH1gigP3gIYHFeCGBxRlmrgQRmLaKF54MA5ifWaZgpAugQJQTQHzwEsDgvBLA4oyzWQAKzGNWqc0IA8xHntMwSAXSIFALoDx4CWJwXAlicUVZrIIFZjezn80IAsx/jNM0QAXSIFgLoH15UEsghEP+xoEXyCCCByYtJmCNCAMOkSV+uBBBAB4IIoH94CGDNzFgB9J9TWWuBBGYtoqwAZjei6Z4ZAugQPwTQPzwEEAH0nzX5a4EEZjPmrABmM65pnRUC6BA5BNA/PASwODNWAYszykMNJDB7UUYAsxfTNM8IAXSIHgLoHx4CWJwZAlicUV5qIIHZijQCmK14pn02CKBDBBFA//AQwOLMEMDijPJWAxHMRsQRwGzEMSuzQAAdIokA+ocXlQDqSLJyEljnggT6z62st0AC0x9hBDD9MczSDBBAh2gigP7hIYB2zBBAO055q4UEpjviCGC645e10SOADhFFAP3DQwDtmSGB9qzyVhMRTGfEEcB0xi2ro0YAHSKLAPqHhwDaM0MA7VnlsSYSmL6oI4Dpi1mWR4wAOkQXAfQPDwG0Z4YA2rPKc01EMD3RRwDTE6s8jBQBdIgyAugfHgLojxkS6I9XXmsjgemIPAKYjjjlZZQIoEOkEUD/8BBAf8wQQH+88l4bEUx2BiCAyY5P3kaHADpEHAH0Dy9KAdTRZOlRMDofBNB/juW9BRKY3AxAAJMbmzyODAF0iDoC6B8eAuifGRLonxktRBDB5GUBApi8mOR5RAigQ/QRQP/wEED/zBBA/8xo8RkBJDBZmYAAJiseeR8NAuiQAQigf3gIoH9mbAUHY0YrJDBpOYAAJi0i+R4PAugQfwTQPzwE0D8zBDAYM1pVJMBqYOkzAgEsfQwYwecEEECHbEAA/cNDAP0zQwCDMaNVVQJIYGmzAgEsLX+uXpEAAuiQEQigf3gIoH9mXgvuBQzOjpasBiYhBxDAJESBMXgEEECHXEAA/cOLWgB1RFl7FAwC6D/PaFGcAKuBxRmFXQMBDJso/bkQQAAd6CGA/uEhgP6ZIYDBmdGyOAFEsDijsGoggGGRpJ8wCCCADhQRQP/wEED/zMq3YBvYjR+tqyeABMaTGQhgPJy5ih2BTAng9OnTZfLkybJt2zZp166dTJs2TXr06FGQxMcffyy33367LF26VD766CM57rjj5N5775VvfOMbVvQQQCtMFSohgP6ZIYBuzGhtTwARtGcVpCYCGIQabaIikBkBXLx4sVx22WWiEti9e3eZOXOmzJkzR9asWSMtWrSowm/Pnj2m3lFHHSW33XabHHvssbJ582Y57LDD5LTTTrPijQBaYUIA/WOqsQWrgCEDpbsKBJDA6BICAYyOLT37J5AZAezcubN06NBBZsyYUUahTZs20rdvX5kwYUIVMg8++KBZLVy7dq0cfPDB/smJCALoHxsrgP6ZVW6BALozpAc7AsigHSfbWgigLSnqxUEgEwKoq3kNGjSQJUuWSL9+/cq4jRgxQlatWiXLly+vwlK3eZs2bWraPfXUU3LkkUfKJZdcIjfffLPUqVOnWva7d+8W/eMVFcDmzZtL72OukoNq140jXiW/xqftmzmNAQF0wmcaI4DuDOnBHwFE0B+vQrURwHA40ks4BDIhgFu3bpVmzZrJihUrpFu3bmVkxo8fL/Pnz5d169ZVoXXKKafIBx98IJdeeqlce+218v7778t1110nKo133nlntXRHjx4tY8aMqfIzBNA+GeMQQB1NVh8F45FGAu1zjprhEUAE3VgigG78aB0ugUwJ4MqVK6Vr165lhMaNGycLFiww27yVy0knnSS7du2SP/zhD2UrflOmTCk7RFIdZlYARdKwAogAhvuPBL1BoDIBRDBYTiCAwbjRKhoCmRDAIFvAZ511lrn374UXXigj++yzz5oTwCp6desW39LlHkD/SckKoH9m1bVgBTAcjvTiTgAZtGeIANqzomb0BDIhgIpJD4F07NjRnAL2Stu2baVPnz7VHgLRk78LFy6UDRs2SO3atU2T++67TyZOnCi6pWxTEEAbShXrIID+mRVqgQSGx5Ke3AkggsUZIoDFGVEjPgKZEUDvMTB6ule3gWfNmiWzZ8+W1atXS8uWLWXQoEHmPkHvRLA+8kUFcciQIXLDDTeYewCHDRsm3/nOd8yzAW0KAmhDCQH0T8muBQJox4la8RJABAvzRgDjzUWuVjOBzAigTlNX/yZNmmQeBN2+fXuZOnWq9OzZ0xDo1auXtGrVSubNm1dG5NVXX5Ubb7zRnBRWORw+fHiNp4Aro0QA/X+8WAH0z6ymFkhguDzpLTwCiGBVlghgePlFT+4EMiWA7jj89YAA+uPl1Y5DArN+CthjiQAGy0FaxUcAEfycNQIYX95xpeIEEMDijArWQACDwYtDAHVkeZBABDBYDtKqNATyLoNZFkB9CYP+0ceradHXseoj1c4999xqk01v0XrooYfknXfeMT/Xe/j10W2dOnUqTXLm8KoIoEPQEcBg8BDAYNwKtUICw+VJb9ETyKsIZlkAn376afNItRNOOMEkkD6DV9+29eabbxoZrFz0Gbz6OlZ9dm/9+vXN7VtLly419+3rLVmU6AkggA6MEcBg8BDAYNwQwHC50VvpCeRNBLMsgNVlk75tSyVQ768vVvbt2ydNmjSRBx54wBzapERPAAF0YIwABoOHAAbjVlMrVgHDZ0qP8RHIiwimUQD1iRmNGjUqS4Z69eqJ/qmpqMzpq1kHDx5sVgD1iRvFyo4dO+Soo44y7c4///xi1fl5CAQQQAeICGAweAhgMG4IYPjc6DF5BLIsg3EKYMuJY6V2/fqBA7x/1y7ZePMdVdqPGjVK9LWo1ZW3337bPIZN37LVsGFD86xdfbmCTdFXsT733HPmnkDdEqZETwABdGCMAAaDhwAG44YAhs+NHpNLIIsimEYB9LMCqG/l2rRpk3z88cfy+OOPy5w5c2T58uVFVwD1/r+7775bli1bJqeeempykzJjI0MAHQKKAAaDhwAG41asFdvAxQjx8zQSyJIIplEAt2/fXmEL2E8O9e7dW1q3bi0zZ84s2Oyee+6RsWPHmteynnnmmX66p64jAQTQASACGAxeXAKoo8vDo2C8KCCAwfKRVukgkAURzJsAfvWrX5XmzZtXeAFD+WzTAyIqf7r126VLl3QkYoZGiQA6BBMBDAYPAQzGrVgrBLAYIX6eBQJpFsEsC+Btt91mnvmnwqcHOhYtWmS2dX/+85/L1772tSqvY9Vt35EjR5r7BPVxMGW/yDZsaO4fpERPAAF0YIwABoOHAAbjZtMKCbShRJ2sEEibDGZZAPVRLy+++KJ5Fevhhx9u7uW7+eabjfxpqfw6Vn0168aNG6ukYk2HTLKSt0mZBwLoEAkEMBg8BDAYN5tWCKANJepkiUCaJDDLApilnMrLXBBAh0gjgMHgIYDBuNm2QgJtSVEvawSSLoMIYNYyLt3zQQAd4ocABoOHAAbj5qcVEuiHFnWzRiCpIogAZi3T0j0fBNAhfghgMHhxCqCOME8ngb2IIIDBcpNW2SKQNBFEALOVX2mfDQLoEEEEMBg8BDAYN7+tkEC/xKifVQJJEUEEMKsZls55IYAOcUMAg8FDAINx89sKAfRLjPpZJ1BqEUQAs55h6ZofAugQLwQwGDwEMBi3IK2QwCDUaJMHAqWQQQQwD5mVnjkigA6xQgCDwYtbAHWUebwP0IsOEhgsT2mVDwJxiiACmI+cSsssEUCHSCGAweAhgMG4BW2FAAYlR7s8EYhDBBHAPGVU8ueKADrECAEMBg8BDMbNpRUS6EKPtnkiEKUIIoB5yqTkzxUBdIgRAhgMHgIYjJtrKyTQlSDt80QgChFEAPOUQcmfKwLoECMEMBg8BDAYN9dWCKArQdrnkUCYIogA5jGDkjtnBNAhNghgMHilEEAdaZ4PgniRQgKD5SytIKAEXGUQASSPkkQAAXSIBgIYDB4CGIxbWK2QwLBI0k9eCQQVQQQwrxmTzHkjgA5xQQCDwUMAg3ELqxUCGBZJ+sk7Ab8iiADmPWOSNf+SCuDf/vY3eeutt+S0006Tpk2byocffig//vGPZffu3fLtb39b2rRpkyxalUaDAAYLDwIYjFuYrZDAMGnSV94J2IogApj3TEnW/EsmgK+99pp8/etfF5Woxo0byy9+8QsjfQcddJAcOHBAtmzZIq+88op06NAhWcTKjQYBDBYaBDAYt7BbIYFhE6W/vBMoJoIIYN4zJFnzL5kAfu1rX5NWrVrJlClTZObMmXLffffJOeecI7NnzzaELr/8ctEVwieeeCJZxBBA53iUSgB14BwE+Tx8CKBzKtMBBAoSqE4GEUASJkkESiaAuuW7YsUKs837z3/+U+rXry+vvvqqdOrUyfB588035YILLpA//vGPSeJVYSysAAYLDQIYjFsUrZDAKKjSJwQ+J1BeBBFAMiNJBEomgA0bNpR33nnHrAJqOeyww+R3v/udHH/88ea/N23aJCeffLJ8+umnSeKFALZv5hwPBNAZYegdIIKhI6VDCFQgoCKIAJIUSSJQMgHUlb8f/ehH8pWvfMXw+NnPfmb+/yGHHGL++9e//rX0799fNm/enCReCCACmNh8dB0YEuhKkPYQqJnAvk92y5qBk2T79u3SqFGjSHB5O1MtJ46V2vXrB77G/l27ZOPNd0Q61sCDo2EoBEomgGPGjDErfAMHDqx2IrfffrusXbtWHn/88VAmGkUnbAEHo8oKYDBucbVCBOMizXXyRgABzFvEkz3fkglgdVj09K+WWrVqySeffCJ16tSRevXqJZYgAhgsNKUUQB0xB0Hs4oYI2nGiFgRsCSCAtqSoFweBRAigPvtv6tSp8v7775s5n3jiifLd737XnAROckEAg0UHAQzGrRStkMBSUOeaWSWAAGY1sumcV8kFcOTIkUb+brjhBunatauhqKeBH3jgARkxYoSMHTs2sWQRwGChQQCDcStlK0SwlPS5dlYIIIBZiWQ25lFyATziiCPk/vvvl4svvrgC0UcffdRIob4dJKkFAQwWGQQwGLcktEIEkxAFxpBWAghgWiOXzXGXXACbNGki+lYQ3fYtX9577z3zTMCPP/44seQRwGChQQCDcUtSK0QwSdFgLGkhgACmJVL5GGfJBVBX+Q4++GDzRpDy5fvf/755BqA+KiapBQEMFplSC6COmoMgwWJXvhUS6M6QHvJFAAHMV7yTPttECOBDDz0kzZs3ly5duhhev/rVr8zz/wYNGmTk0CuVJbHUcBHAYBFAAINxS2orRDCpkWFcSSOAACYtIvkeT8kF8Oyzz7aKgD4a5pe//KVV3bgqIYDBSCOAwbglvRUimPQIMb5SE0AASx0Brl+eQMkFMM3hQACDRQ8BDMYtDa2QwDREiTGWigACWCryXLc6AgigQ14ggMHgJUEAdeTcBxgsfjatEEEbStTJGwEEMG8RT/Z8EUCH+CCAweAhgMG4pbEVIpjGqDHmqAgggFGRpd8gBBDAINT+1QYBDAYPAQzGLa2tkMC0Ro5xh00AAQybKP25EEAAHeghgMHgIYDBuKW9FSKY9ggyflcCCKArQdqHSQABdKCJAAaDhwAG45aVVohgViLJPPwSQAD9EqN+lAQQQAe6CGAweEkRQB09B0GCxdC1FRLoSpD2aSSAAKYxatkdMwLoEFsEMBg8BDAYtyy2QgSzGFXmVIgAAkhuJIkAAugQDQQwGDwEMBi3LLdCBLMcXebmEUAAyYUkEUAAHaKBAAaDhwAG45aHVohgHqKc3zkigPmNfRJnjgA6RAUBDAYPAQzGLS+tkMC8RDp/80QA8xfzJM8YAXSIDgIYDF6SBFBnwEGQYHGMuhUiGDVh+o+bAAIYN3GuVxMBBNAhPxDAYPAQwGDc8twKGcxz9LMz9ywL4IQJE2Tp0qWydu1aOeSQQ6Rbt24yceJEOfnkk60CuGjRIrn44oulT58+8uSTT1q1oZIbAQTQgR8CGAxe0gSQVcBgcSxFK0SwFNS5ZlgEsiyA55xzjgwcOFC+9KUvyd69e+X222+Xt99+W9asWSOHHnpojQg3btwo3bt3l+OPP16aNm2KAIaVcEX6QQAdQOdRABXXp+2bOVD7rCkS6Iww1x0ggrkOf2onn2UBrByUv/71r3LUUUfJ8uXLpWfPngVjtm/fPjnrrLNk6NCh8vLLL8vHH3+MAMaU4QigA2gEMDg8BDA4O1p+TgARJBvSRCBPArh+/Xo58cQTzSpg+/btC4Zp1KhR8tZbb8kTTzwhQ4YMQQBjTGgE0AE2AhgcXhIFUGfDgZDgMS1lS0SwlPS5ti2BNArg5s2bpVGjRmVTrFevnuifmsqBAwfMvXwfffSRWdUrVFasWCEDBgyQVatWyRFHHIEA2iZSSPUQQAeQCGBweAhgcHa0LEwAESQ7kkwgTgFsd9V4qVOvfmAc+3bvktUzb6vSXlfsRo8eXWO/1113nfzsZz+TV155RY499thq6+7YsUNOPfVUmT59upx77rmmDiuAgcMVqCECGAjbZ40QwODwkiqAOiNWAYPHNQktkcAkRIExVEcgjQLodwXwhhtuMPfwvfTSS3LccccVTARd9TvjjDOkTp06ZXX2799v/n/t2rVl3bp10rp1axIpQgIIoANcBDA4vCQLIBIYPK5JaokIJikajEUJpFEAt2/fXmELuFAkddtX5U/v5Vu2bJm5/6+msmvXLtH7BMuXO+64Q3Rl8L777pOTTjpJ6tatS+JESAABdICLAAaHhwAGZ0dLfwQQQX+8qB0dgSwL4LXXXisLFy6Up556qsKz/w4//HDzXEAtgwYNkmbNmok+M7C6whZwdLlXXc8IoANvBDA4vKQLIKuAwWOb1JaIYFIjk59xZVkAa9WqVW0gf/KTn5h7+7T06tVLWrVqJfPmzUMAE5D2CKBDEBBAB3gJfRZg5RlxP6BbjJPYGhFMYlTyMaYsC2A+IpitWWZKAPU00eTJk2Xbtm3Srl07mTZtmvTo0aNoxIK+ggYBLIq2xgqsArrxo7UbAUTQjR+t/RNAAP0zo0V0BDIjgIsXL5bLLrvMHCnXV8rMnDlT5syZY15D06JFi4IEXV5BgwC6JWYaBFBnyCqgW5yT3hoRTHqEsjM+BDA7sczCTDIjgJ07d5YOHTrIjBkzyuLSpk0b6du3b8EbTl1fQYMAun0E0iKASKBbnNPQGglMQ5TSP0YEMP0xzNIMMiGAe/bskQYNGsiSJUukX79+ZfEZMWKEecK4vouwuuL3FTS7d+8W/eMVFcDmzZtL72OukoNq5+e4ehjvAlaGCGCW/inJxlwQwWzEMamzQACTGpl8jisTArh161ZztFxfK9OtW7eySI4fP17mz59vHihZuQR5BY0+/XzMmDFV+kIAg3140iSArAIGi3FaWyGCaY1csseNACY7PnkbXaYEcOXKldK1a9eyGI4bN04WLFgga9eurRDXoK+gYQXwM4x5XAFEAPP2T+Nn80UE8xn3qGaNAEZFln6DEMiEAPrdAg7rFTR5soQx6AAAIABJREFUvQcwLAlM2wogEhjkn5hstEEEsxHHUs8CASx1BLh+eQKZEECdkB4C6dixozkF7JW2bdtKnz59qhwCCesVNAig+4cJCXRnSA/xEUAE42OdxSshgFmManrnlBkB9B4D8+CDD5pt4FmzZsns2bNl9erV0rJly0heQYMAuic+AujOkB7iJ4AIxs88C1dEALMQxezMITMCqCHR1b9JkyaZB0G3b99epk6dKj179jTRiuIVNAig+wchjQLIVrB73LPQAxKYhSjGOwcEMF7eXK1mApkSwLiDjQC6E0+rACKB7rHPSg+IYFYiGf08EMDoGXMFewIIoD2rKjURQAd4/2qKALozpIdkEEAEkxGHJI8CAUxydPI3NgTQIeYIoAO8DAggq4Du8c9iD4hgFqMazpwQwHA40ks4BBBAB44IoAM8BNAdHj0kmgAimOjwlGRwCGBJsHPRAgQQQIfUQAAd4JVrmuZtYFYBw8mBrPeCDGY9wnbzQwDtOFErHgIIoANnBNABXoYEEAkMJw/y2gtymJ/II4D5iXUaZooAOkQJAXSAhwCGA49eMksAMcxeaBHA7MU0zTNCAB2ihwA6wMuYALIKGE4u0IsdAeTQjlPSaiGASYtIvseDADrEHwF0gJdBAUQCw8kHeglOADEMzi6OlghgHJS5hi0BBNCWVDX1EEAHeAhgOPDoBQKWBJBDS1ARVkMAI4RL174JIIC+kX3eAAF0gJdRAWQVMJycoJf4CCCG8bFGAONjzZWKE0AAizMqWCPPAqhQPm3fzIHe503T/hiY6iDsaL0/FDZ0AoFSEEAKo6GOAEbDlV6DEUAAg3EzrRDAcARQWSKBDolIUwhERAARDBcsAhguT3pzI4AAOvBDABHAYunDSmAxQvw8LQSQQfdIIYDuDOkhPAIIoANLBBABtEkfJNCGEnXSRAAZDBYtBDAYN1pFQwABdOCKACKAtumDBNqSol6aCCCC/qKFAPrjRe1oCSCADnwRQATQT/oggX5oUTdtBJDB4hFDAIszokZ8BBBAB9YIIALoN32QQL/EqJ9GAshg9VFDANOYzdkdMwLoEFsEEAEMkj5IYBBqtEkjAUSwYtQQwDRmcXbHjAA6xBYBDE8ANQxZfBRMofRCAh0+eDRNJQFkUAQBTGXqZnbQCKBDaBFABNAhfUxTRNCVIO3TSiCPQogApjVbszluBNAhrgggAuiQPhWaIoJhkaSfNBLIiwwigGnMzuyOGQF0iG3eBVDRhfU6uLxtAbM17PDBo2nmCWRVCBHAzKduqiaIADqECwEMVwCRwM+SkdVAhw8lTTNHIIkyuPMPhwfivH/XLtl48x2yfft2adSoUaA+ijXyvpfaXTVe6tSrX6x6wZ/v271LVs+8LdKxBh4cDUMhgAA6YEQAEUCH9CnaFBEsiogKOSQQlhAGlTgX5AigCz3ahk0AAXQgigAigA7pY90UEbRGRUUIJJoAApjo8ORucAigQ8gRQATQIX18N0UEfSOjAQQSRQABTFQ4cj8YBNAhBRDA8AVQw5Gn5wEGST9EMAg12kCg9AQQwNLHgBF8TgABdMgGBBABdEgfp6ZIoBM+GkOgJAQQwJJg56IFCCCADqmBAH4GL8xHwbAC6C8hEUF/vKgNgVISQABLSZ9rVyaAADrkBAKIADqkT6hNEcFQcdIZBCIhgABGgpVOAxJAAAOC02YIYDQCyCpg8KREBIOzoyUEoiaAAEZNmP79EEAA/dCqVBcBRAAd0ieypkhgZGjpGAJOBLIsgC+99JJMnjxZ3njjDdm2bZs88cQT0rdv3xp57d69W374wx/Kww8/LH/605/k2GOPldtvv12GDRvmxJnGdgQQQDtO1dZCABFAh/SJvCkiGDliLgABXwSyLIDPPvusrFixQjp06CDf+ta3rASwT58+8uc//1nGjh0rJ5xwgvzlL3+RvXv3Srdu3XxxpXIwAghgMG6mFQKIADqkT2xNEcHYUHMhCNRIIMsCWH7itWrVKiqAP//5z2XgwIGyYcMGadq0KZlTAgIIoAN0BDA6AdSeeR6gQ3JW0xQRDJcnvUHALwEE8HNi1157rbz33nty5plnyoIFC+TQQw+Vb37zm3LXXXfJIYcc4hct9QMQQAADQPOaIICfwwv7UTAIoENiFmmKCEbHlp4hUBOBNArg5s2bpVGjRmXTqlevnuifmorNCuA555wjy5Ytk969e8udd94pH374oagUfuUrX5G5c+eSSDEQQAAdICOACKBD+pS0KRJYUvxcPKcE4hTA7l8dLQcdVD8w6b17d8mKF0dXaT9q1CgZPbrq35evaCOAX//61+Xll182hz8OP/xw03zp0qXSv39/+cc//sEqYODI2TdEAO1ZVamJACKADumTiKaIYCLCwCByQiCNAhjVCuDgwYPNoZH169eXRf/dd9+Vtm3bmq3hE088MSdZUbppIoAO7BHAaAVQe+c+QIcEDdAUIQwAjSYQsCSQRgHcvn17hS1gm6narADOmjVLvvvd75qTvw0bNjTdPvXUU3LhhRfKzp07WQG0Ae1YBwF0AIgAIoAO6ZOKpghhKsLEIFNCIMsCqNLmreadccYZMmXKFDn77LPNCd8WLVrIrbfeKlu2bJGHHnrIREvrt2nTRrp06SJjxowx9wBefvnlctZZZ8ns2bNTEtF0DxMBdIgfAhi9ALIK6JCgITdFBkMGSne5I5BlAdQDHSp8lYtu9c6bN0+GDBkiH3zwgTn44ZW1a9fKDTfcYLaCv/CFL8hFF11kngnIKeB4PhoIoANnBDAeAUQCHZI0wqYIYYRw6TqTBLIsgJkMWMYnhQA6BBgBrAgvikfBlL8C9wM6JGvETZHBiAHTfSYIIICZCGNmJoEAOoQSAYxXAFkJdEjWmJsihDED53KpIIAApiJMuRkkAugQagQwfgFEAh0StoRNEcISwufSiSGAACYmFAxERBBAhzRAABFAh/TJbVNkMLehz/3EEcDcp0CiACCADuFAAEsjgKwCOiRtApsihAkMCkOKhAACGAlWOg1IAAEMCE6bIYClE0Ak0CFxE9wUGUxwcBiaMwEE0BkhHYRIAAF0gIkAllYAkUCH5E1JU4QwJYFimFYEEEArTFSKiQAC6AAaAawKL+pHwVQXLh4P45DEKWuKEKYsYAy3AgEEkIRIEgEE0CEaCGAyBJCVQIckzkhTxDAjgcz4NBDAjAc4ZdNDAB0ChgAmRwCRQIdEznBTxDDDwU3h1BDAFAYtw0NGAB2CiwAigA7pQ9MSEkAMSwg/x5dGAHMc/AROHQF0CAoCmCwBZBXQIZlpWkYAOSQZoiKAAEZFln6DEEAAg1D7VxsEMHkCiAQ6JDRNaySAGJIgrgQQQFeCtA+TAALoQBMBTKYAIoEOSU3TQASQw0DYctcIAcxdyBM9YQTQITwIYPXwSvEomOpGwuNhHJKbpqEQQAxDwZiZThDAzIQyExNBAB3CiAAmWwBZCXRIbppGTgA5jBxx4i6AACYuJLkeEALoEH4EMPkCiAQ6JDhNS0oAQSwp/kgujgBGgpVOAxJAAAOC02YIYDoEEAl0SHKaJpIAcpjIsBQdFAJYFBEVYiSAADrARgALw0vKfYDVjZB7Ax2SnqapJIAwJiNsCGAy4sAoPiOAADpkAgJYM7wkS2D5kSOEDh8CmmaOALIYXUgRwOjY0rN/Agigf2ZlLRDA4vDSIoEIYfFYUgMCyKFbDiCAbvxoHS6BTAng9OnTZfLkybJt2zZp166dTJs2TXr06FEtsdmzZ8tDDz0k77zzjvl5x44dZfz48dKpUydrwgigHao0SiBCaBdbakFACSCGdnmAANpxolY8BDIjgIsXL5bLLrtMVAK7d+8uM2fOlDlz5siaNWukRYsWVWheeumlpl63bt2kfv36MmnSJFm6dKmsXr1amjVrZkUfAbTCZCqlXQIRQvtYUxMCHgHEsGIuIIB8NpJEIDMC2LlzZ+nQoYPMmDGjjG+bNm2kb9++MmHChKLM9+3bJ02aNJEHHnhABg0aVLS+VkAArTCVVcqSBCKE/mJPbQiUJ5BXMUQA+RwkiUAmBHDPnj3SoEEDWbJkifTr16+M74gRI2TVqlWyfPnyosx37NghRx11lOnj/PPPr7b+7t27Rf94RQWwefPm0vuYq+Sg2nWLXoMK2VoJrCmeHCwh2yHgn0DWxRAB9J8TtIiOQCYEcOvWrWbbdsWKFWZL1yt6T9/8+fNl3bp1RQled9118txzz5l7AnVLuLoyevRoGTNmTJUfIYBF8VaokNWVQD8UEEQ/tKibdwJZEUMEMO+ZnKz5Z0oAV65cKV27di0jPG7cOFmwYIGsXbu2Rup6/9/dd98ty5Ytk1NPPbVgXVYAw0teJLA4SySxOCNqQCBNBPbt3iWrZ94m27dvl0aNGkUydO/WpO5fHS0HHVT9YobNhffu3SUrXhwd6VhtxkGd6AhkQgBdtoDvueceGTt2rLzwwgty5pln+iLNPYC+cFWpjAS68dPWSKI7Q3qAQFwEEMC4SHMdGwKZEECdqB4C0Ue56Clgr7Rt21b69OlT8BCIPjJG5U+3frt06WLDq0IdBNA3MiTQHZmvHhBEX7ioDIFICSCAkeKlc58EMiOA3mNgHnzwQbMNPGvWLNFn/eljXVq2bGlO9up9gt6JYN32HTlypCxcuNA8DsYrDRs2FP1jUxBAG0rF67ASWJxREmsgl0mMCmNKMgEEMMnRyd/YMiOAGjpd/VOx0wdBt2/fXqZOnSo9e/Y0Ue3Vq5e0atVK5s2bZ/5b///GjRurRHzUqFGihz1sCgJoQ8muDhJox4lanxFAPsmENBJAANMYteyOOVMCGHeYEMBwiSOB4fLMQ2+IYB6inJ05IoDZiWUWZoIAOkQRAXSAV6ApEhg+06z3iARmPcLZmR8CmJ1YZmEmCKBDFBFAB3hFmiKC0bHNas+IYFYjm515IYDZiWUWZoIAOkQRAXSAZ9EUCbSARJUqBBBBkiKpBBDApEYmn+NCAB3ijgA6wLNsigRagqIaIkgOJJ4AApj4EOVqgAigQ7gRQAd4jk0RQ0eAOWrOimCOgp3wqSKACQ9QzoaHADoEHAF0gBdxUwQxYsAp7B4RTGHQMjZkBDBjAU35dBBAhwAigA7wStgUOSwh/ARcGhFMQBByOgQEMKeBT+i0EUCHwCCADvAS3BRBTHBwQhwaIhgiTLqyIoAAWmGiUkwEEEAH0AigA7wUN0UQUxy8aoaOCGYrnkmeDQKY5Ojkb2wIoEPMEUAHeBltihymN7CIYHpjl5aRI4BpiVQ+xokAOsQZAXSAl7OmiGF6Ao4IpidWaRtpHgRw+vTpMnnyZNm2bZu0a9dOpk2bJj169CgYKv35jBkzZNOmTXLEEUdI//79ZcKECVK/fv20hTd140UAHUKGADrAo2kZAeQwecmABCYvJlkYUdYFcPHixXLZZZeJSmD37t1l5syZMmfOHFmzZo20aNGiSggfeeQRGT58uMydO1e6desm7733ngwZMkQGDBggU6dOzULIEz0HBNAhPAigAzyaFiWAGH6G6JB3tlRgFScXRLBomlLBB4GsC2Dnzp2lQ4cOZkXPK23atJG+ffuaVb3K5frrr5d3331XXnzxxbIf3XTTTfLaa6/Jyy+/7IMsVYMQQACDUPtXGwTQAR5NAxOIU4ACD9KiYWWxs2hSViVuBoign+hQtxCBNArg5s2bpVGjRmVTqlevnuifymXPnj3SoEEDWbJkifTr16/sxyNGjJBVq1bJ8uXLq7RZtGiRXH311fL8889Lp06dZMOGDXLeeefJ4MGD5ZZbbiGRIiaAADoARgAd4NE0dAJxS1GhCbiInV8occ8ZEfQbIeqXJ5BGAawcwVGjRsno0aOrBHbr1q3SrFkzWbFihdnO9cr48eNl/vz5sm7dumqT4f777xdd9Ttw4IDs3btXrrnmGrOFTImeAALowBgBdIBH01gJhCFKcYqdXzhhzM/PNRFBP7So6xGIUwB7H3OVHFS7bmD4e/fvkRe2zRTbFUBPAFeuXCldu3Ytu+64ceNkwYIFsnbt2ipjWbZsmQwcOFDGjh0run28fv160RXDK664QkaOHBl47DS0I4AA2nGqthYC6ACPpokgoOKUZLHzAyluCdSxIYJ+IkTdNArg9u3bK2wBF4pikC1gPR3cpUsXc2rYKw8//LBceeWVsnPnTqlduzZJEyEBBNABLgLoAI+mEIiIACIYEVi6dSaQZQFUOLqK17FjxwpbuG3btpU+ffpUewhE6/bu3VsmTpxYxvbRRx+VYcOGGQGsU6eOM3M6KEwAAXTIDgTQAR5NIRAxAUTwc8BN1u0JRJsVzkDYCjbKugB6j4F58MEHzTbwrFmzZPbs2bJ69Wpp2bKlDBo0yNwn6J0I1nsJp0yZYup5W8B6D6CKofZFiZYAAujAFwF0gEdTCMRAoBQSqNOKSpyCilzYqKOaX9jjLHV/leO1d+8uWfHiaLHdVg0y/rC+l7x7AP2OVQ9wTJo0yTwIun379uZ5fj179jRT6dWrl7Rq1UrmzZtn/lsPfXj3CG7ZskWOPPJIueCCC8zfNW7cOMj0aeODAALoA1blqmF90ByGQFMIQMCCQJJEMCkSZ4HNV5U8S6FtTPMggL6ShsolJYAAOuBHAB3g0RQCMRMolQTGPM1EXS5rUmgreoWCgAAmKj1zPxgE0CEFEEAHeDSFQIkIIIIlAv+vy6ZFCl1lrzrKCGBpc4+rVySAADpkBALoAI+mECgxAUSwxAEod/lSSmEUoscKYHJyi5EUJoAAOmQHAugAj6YQSAABJDABQahhCGGKYZyihwAmO68Y3WcEEECHTEAAHeDRFAIJIoAIJigYRYZSTAqTIHoIYHryKc8jRQAdoo8AOsCjKQQSSAARTGBQMjQk7gHMUDAzMBUE0CGICKADPJpCIKEEkMCEBiYDw0IAMxDEDE0BAXQIJgLoAI+mEEgwASQwwcFJ8dAQwBQHL4NDRwAdgooAOsCjKQQSTgAJTHiAUjg8BDCFQcvwkBFAh+AigA7waAqBFBBAAlMQpBQNEQFMUbByMFQE0CHICKADPJpCICUEkMCUBCoFw0QAUxCkHA0RAXQINgLoAI+mEEgRASQwRcFK8FARwAQHJ4dDQwAdgo4AOsCjKQRSRgAJTFnAEjhcBDCBQcnxkBBAh+AjgA7waAqBFBJAAlMYtAQNGQFMUDAYCm8CcckBBNCFHm0hkE4CSGA645aEUSOASYgCY/AIsALokAsIoAM8mkIg5QQQwZQHsATDRwBLAJ1LFiSAADokBwLoAI+mEMgAASQwA0GMcQoIYIywuVRRAghgUUSFKyCADvBoCoGMEEACMxLIGKaBAMYAmUtYE0AArVFVrYgAOsCjKQQyRAAJzFAwI5wKAhghXLr2TQAB9I3s8wYIoAM8mkIgYwSQwIwFNILpIIARQKXLwAQQwMDoRBBAB3g0hUAGCSCBGQxqiFNCAEOESVfOBBBAB4QIoAM8mkIgowSQwIwGNoRpIYAhQKSL0AgggA4oEUAHeDSFQIYJIIEZDm6AqR3yzhbTau/+PfLCtpmyfft2adSoUYCeijcJ63spjrEWnw01oiSAADrQDeuD5jAEmkIAAgklEIcEemJRKgRxzLFUc6vpukG5xyFVYX0vxTHWJMY2T2NCAB2iHdYHzWEINIUABCCQKgJJlcagUucHfhxSFdb3Uhxj9cOOuuETQAAdmIb1QXMYAk0hAAEIZJ5AEGmMQ+j8go9DqsL6XopjrH75UT9cAgigA8+wPmgOQ6ApBCAAAQikhEAcUhXW91IcY01J2DI7TATQIbRhfdAchkBTCEAAAhBICYE4pCqs76U4xpqSsGV2mAigQ2jD+qA5DIGmEIAABCCQEgJxSFVY30txjDUlYcvsMBFAh9CG9UFzGAJNIQABCEAgJQTikKqwvpfiGGtKwpbZYSKADqEN64PmMASaQgACEIBASgjEIVVhfS/FMdaUhC2zw0QAHUIb1gfNYQg0hQAEIACBlBCIQ6rC+l6KY6wpCVtmh4kAOoQ2rA+awxBoCgEIQAACKSEQh1SF9b0Ux1hTErbMDhMBdAhtWB80hyHQFAIQgAAEUkIgDqkK63spjrGmJGyZHSYC6BDasD5oDkOgKQQgAAEIpIRAHFIV1vdSHGNNSdgyO0wE0CG0YX3QHIZAUwhAAAIQSAmBOKQqrO+lOMaakrBldpgIoENow/qgOQyBphCAAAQgkBICcUhVWN9LcYw1JWHL7DARQIfQhvVBcxgCTSEAAQhAICUE4pCqsL6X4hhrSsKW2WEigA6hDeuD5jAEmkIAAhCAQEoIxCFVYX0vxTHWlIQts8NEAB1CG9YHzWEINIUABCAAgZQQiEOqwvpeimOsKQlbZoeJADqENqwPmsMQaAoBCEAAAikhEIdUhfW9FMdYUxK2zA4TAXQIbVgfNIch0BQCEIAABFJCIA6pCut7KY6xpiRsmR1mpgRw+vTpMnnyZNm2bZu0a9dOpk2bJj169CgYvMcff1xGjhwpv//976V169Yybtw46devn3Www/qgWV+QihCAAAQgkFoCcUhVWN9LQcca9/dwapMhAQPPjAAuXrxYLrvsMtHk6969u8ycOVPmzJkja9askRYtWlRB/eqrrxo5vOuuu4z0PfHEE3LnnXfKK6+8Ip07d7YKTVgfNKuLUQkCEIAABFJNIKhU+Zl0WN9LQcZaiu9hP2yoW5FAZgRQpa1Dhw4yY8aMshm2adNG+vbtKxMmTKgS9wEDBoh+UJ599tmyn51zzjnSpEkTefTRR63yJKwPmtXFqAQBCEAAAqkmEESq/E44rO+lIGMtxfewXz7U/5xAJgRwz5490qBBA1myZEmFLdwRI0bIqlWrZPny5VVirquCN954o/njlalTp5pt440bN1abI7t37xb945Xt27eb1cVe/zZUDqpdl7yCAAQgAAEIFCSgUrXszz+Rjz/+WA4//PBISHkC2OvooXJQreDfS3sP7JFlf/qJbN68WRo1alQ21nr16on+qVzi+h6OBFpOO82EAG7dulWaNWsmK1askG7dupWFcvz48TJ//nxZt25dlfDWrVtX5s2bJ5dccknZzxYuXChDhw6tIHnlG44ePVrGjBmT01Rh2hCAAAQgEAYBve/8+OOPD6OrKn3s2rVLjjvuOPnTn/7k3H/Dhg1l586dFfoZNWqU6Hdh5RLX97DzpOigjECmBHDlypXStWvXssnpoY4FCxbI2rVrqxVAlcOLL7647GePPPKIDB8+XPQDVF2pvAKov8W1bNlSNm3aFNlvc1nNVf0ttXnz5lV+u8zqfMOeF/yCE4Ud7IITcGvp7Rp99NFH0rhxY7fOamit32G6IudaDhw4ILVq1arQTaEVQE8Ao/4edp0T7T8nkAkBLNXSs7fUrh/q8kvkJFhxArArzqimGvALzg92sAtOwK1llnOvVN/DbhHJd+tMCKCGUG8+7dixozkF7JW2bdtKnz59Ch4C2bFjhzzzzDNl9c8991zzW5nfQyAIoP8PUZb/IfRPw38L+Pln5rWAHeyCE3BrmfXcK8X3sFtE8t06MwLoHT9/8MEHzTbwrFmzZPbs2bJ69WqzTTto0CBzn6B3IliXqXv27Gme/aeS+NRTT8kdd9wR6DEwCKD/D1HW/yH0T8RfC/j541W+NuxgF5yAW8us514pvofdIpLv1pkRQA2jrv5NmjTJPAi6ffv2oqd6VfK09OrVS1q1amUOfnjlscceM9K3YcOGsgdBX3jhhdYZofcEqlDeeuut1Z6Ksu4ohxVh5xZ0+AXnBzvYBSfg1jIPuRf397BbRPLdOlMCmO9QMnsIQAACEIAABCBgRwABtONELQhAAAIQgAAEIJAZAghgZkLJRCAAAQhAAAIQgIAdAQTQjhO1IAABCEAAAhCAQGYIIICZCSUTgQAEIAABCEAAAnYEEMAinPRE0+TJk83J4nbt2pl3Bffo0aNgq8cff1xGjhwp+qqf1q1bm8fM9OvXzy4aGavlh50+suehhx6Sd955x1DQZzrqq/w6deqUMSr20/HDr3yvixYtMm+40ccbPfnkk/YXzFBNv+z0rT633367LF26VPQtDfoqrXvvvVe+8Y1vZIiK3VT8stN/E2fMmGHeiHTEEUdI//79zdMR6tevb3fBjNR66aWXzHfFG2+8Yb4vnnjiCenbt2+Ns9P31H/ve98zjyv74he/KD/4wQ/k6quvzggRppF0AghgDRHynmmk/yB2795dZs6cKXPmzJE1a9ZIixYtqrR89dVXjRzeddddRvr0H4A777zT17MFk54wtuPzy+7SSy81jPVdzvrFoY/z0S9j/YdRn9+Yt+KXn8dn48aNhqO+Z7Rp06a5FEC/7PQNBsrsqKOOkttuu02OPfZY84rCww47TE477bRcpZ5fdt7rM+fOnWs+u++9954MGTJEBgwYYB7Dlafy7LPPmvfRd+jQQb71rW8VFcA//OEP5nFlV1xxhVx11VWm7bXXXmteRKDtKRCImgACWANhfaq5fpj1t1uvtGnTxvxW5z1Qunxz/UdPH/Sp/xB45ZxzzpEmTZpYv10k6oDH1b9fdpXHtW/fPsPtgQceMA/xzlsJwk+ZnXXWWTJ06FB5+eWXRVe18rgC6JedPjxeV270neEHH3xw3lKtwnz9srv++uvl3XfflRdffLGsn5tuuklee+01k4N5Lfr+3GIrgDfffLP89Kc/Nfy8oqt/v/vd70QXEygQiJoAAliAMO81DJ56QdhVvpq+pk9XZJYsWSLnn39+8MGksGVQfqNGjZK33nrLfPHoKkweBTAIO93m1dXSBg0amDcCHXnkkXLJJZeIfkHXqVMnhRkUbMhB2OntBiotzz//vLldQx+qf95558ngwYPllltuCTaQDLSyEUB9ScEZZ5wh9913X9mM9bN70UUXySeffJL7X0YykAaJnwICWCBEW7dwvcbPAAAHR0lEQVRuNVuPuiyvWxte0fvS5s+fL+vWravSsm7duuZNI/rl4ZWFCxeaFRl9AnxeShB2ldlcd9118txzz5l7AvN2L1EQfpqnugK9atUqcx9WXgUwCLtTTjlFPvjgA9HbEHQL7v333xfNvxEjRphbOPJSgrBTNvfff7/oqt+BAwdk7969cs0111R4J3te+JWfp40AnnTSSeZzqrcdeEVfUaq3I2gsjjnmmDyiY84xEkAAiwigfiD13cJe0UMdCxYsMNtFlYsKoMqh3oDvFe8emV27dsUY1tJeyvsi8cOu/Ij1/r+7775bli1bJqeeemppJ1OCq/vlp6ulyknvVT333HPNiPMugH5yT7+I9fOp92R5K35TpkwpO/xVghQoySX95p0OUj+jAwcOlLFjx4puH69fv96Is97Xpofh8lpsBVAXB/RVol7RX+S+/OUvm0MkRx99dF7xMe+YCCCABUAH2Q7RgyE33nij+eMVvRFaT8npzfl5KUHYeWzuuece82XywgsvyJlnnpkXZBXm6ZefrvrpVlL57cr9+/ebPmvXrm1Wq/VEeh6KX3bKRO+b1Hv/NOe8ovfx6tawrtzrL3Z5KEHY6aG3Ll26GFn2ysMPPyxXXnml7Ny50+RfHouNALIFnMfMSNacEcAa4qG/0erjSHRlxStt27Y1j9codAhEV2OeeeaZsvq6ItO4ceNcHgLxw06B6ZeIyp9u/eqXSp6Ln9zT1StdeSlf7rjjDtFc1PuLdIUrLxKjDPyw0/q6Bae3auj9a56wKLeJEyearbg8Fb/s9DPeu3dvw8oreop12LBhRgDzdA9l+TyxEUC9x/Tpp582T5Xwim6f6y90HALJ06eudHNFAGtg7z0SQU8J6jbwrFmzRJ9Xp48madmypTmdqvcJejKo2076W51uE6sk6g3l+kX8yiuvmC+lPBW/7HTbV7eM9ItY74HxSsOGDUX/5K345VeZT163gJWDX3b6yBf9xU6Z3XDDDeYeQBWY73znO+bZgHkqftmNHj1adLtc/230toBVYlQMta88FRVe7xcxXZFXLmeffbY5YKS7Q7rVu2XLFvO8Uy3eY2D0ETC6Za7SpwdqeAxMnrKmtHNFAIvw19U/lRO9J0Of2aRbuip5Wnr16iWtWrUyBz+88thjjxnp09UE70HQF154YWmjXKKr+2GnHKvbJteTrfolk8fihx8CWJGAX3b65au3bujqi/5SN3z48NydAvYI+mGnhz68+6JVbvQE9QUXXGD+Tnc+8lT0fkgVvspFT0Trd4T+gqGHjbSeV/RB0Jp33oOgdVWQB0HnKWtKO1cEsLT8uToEIAABCEAAAhCInQACGDtyLggBCEAAAhCAAARKSwABLC1/rg4BCEAAAhCAAARiJ4AAxo6cC0IAAhCAAAQgAIHSEkAAS8ufq0MAAhCAAAQgAIHYCSCAsSPnghCAAAQgAAEIQKC0BBDA0vLn6hCAAAQgAAEIQCB2Aghg7Mi5IAQgAAEIQAACECgtAQSwtPy5OgQgAAEIQAACEIidAAIYO3IuCIF8EFi6dKnMnDlT3njjDfnb3/4mb775ppx++un5mDyzhAAEIJBwAghgwgPE8CCQVgILFiww7zv94he/aN51igCmNZKMGwIQyCIBBDCLUWVOEIiBgL4LW9+PreXhhx+WOnXqyDXXXCN33XWX1KpVq2wE+v7T4447DgGMISZcAgIQgIAtAQTQlhT1IACBCgRUAHV7d/jw4Ub8Xn/9dbnyyitl2rRpZsXPKwggiQMBCEAgeQQQwOTFhBFBIBUEVAD/8pe/yOrVq8tW/G655Rb56U9/KmvWrEEAUxFFBgkBCOSVAAKY18gzbwg4ElABPP7442Xu3LllPT311FPSv39/2bVrl9kS1sIKoCNomkMAAhCIgAACGAFUuoRAHggggHmIMnOEAASySgABzGpkmRcEIibgbQGX3+699dZbRVcB2QKOGD7dQwACEHAkgAA6AqQ5BPJKwDsEogc+rrrqKvntb39rDn/ce++95r///ve/y6ZNm2Tr1q1y3nnnyaJFi+Tkk0+Wo48+2vyhQAACEIBA6QgggKVjz5UhkGoCKoDt2rWT/fv3y8KFC809fyp+48ePN4dC5s2bJ0OHDq0yx1GjRsno0aNTPXcGDwEIQCDtBBDAtEeQ8UOgRARUAPXNHvrYFwoEIAABCKSLAAKYrngxWggkhgACmJhQMBAIQAACvgkggL6R0QACEFACCCB5AAEIQCC9BBDA9MaOkUMAAhCAAAQgAIFABBDAQNhoBAEIQAACEIAABNJLAAFMb+wYOQQgAAEIQAACEAhEAAEMhI1GEIAABCAAAQhAIL0EEMD0xo6RQwACEIAABCAAgUAEEMBA2GgEAQhAAAIQgAAE0ksAAUxv7Bg5BCAAAQhAAAIQCEQAAQyEjUYQgAAEIAABCEAgvQQQwPTGjpFDAAIQgAAEIACBQAQQwEDYaAQBCEAAAhCAAATSS+D/A7k1r8aRUeH+AAAAAElFTkSuQmCC\" width=\"640\">"
      ],
      "text/plain": [
       "<IPython.core.display.HTML object>"
      ]
     },
     "metadata": {},
     "output_type": "display_data"
    }
   ],
   "source": [
    "%matplotlib notebook\n",
    "sir_model.analyse()"
   ]
  },
  {
   "cell_type": "code",
   "execution_count": 6,
   "metadata": {
    "scrolled": true
   },
   "outputs": [
    {
     "data": {
      "application/vnd.jupyter.widget-view+json": {
       "model_id": "",
       "version_major": 2,
       "version_minor": 0
      },
      "text/plain": [
       "HBox(children=(IntProgress(value=0, description='Row', max=10, style=ProgressStyle(description_width='initial'…"
      ]
     },
     "metadata": {},
     "output_type": "display_data"
    },
    {
     "data": {
      "application/vnd.jupyter.widget-view+json": {
       "model_id": "",
       "version_major": 2,
       "version_minor": 0
      },
      "text/plain": [
       "HBox(children=(IntProgress(value=0, description='Col', max=10, style=ProgressStyle(description_width='initial'…"
      ]
     },
     "metadata": {},
     "output_type": "display_data"
    },
    {
     "data": {
      "application/vnd.jupyter.widget-view+json": {
       "model_id": "",
       "version_major": 2,
       "version_minor": 0
      },
      "text/plain": [
       "HBox(children=(IntProgress(value=0, description='Equilibrate sweep', style=ProgressStyle(description_width='in…"
      ]
     },
     "metadata": {},
     "output_type": "display_data"
    },
    {
     "data": {
      "application/vnd.jupyter.widget-view+json": {
       "model_id": "",
       "version_major": 2,
       "version_minor": 0
      },
      "text/plain": [
       "HBox(children=(IntProgress(value=0, description='Measurement sweep', max=1000, style=ProgressStyle(description…"
      ]
     },
     "metadata": {},
     "output_type": "display_data"
    },
    {
     "data": {
      "application/vnd.jupyter.widget-view+json": {
       "model_id": "",
       "version_major": 2,
       "version_minor": 0
      },
      "text/plain": [
       "HBox(children=(IntProgress(value=0, description='Equilibrate sweep', style=ProgressStyle(description_width='in…"
      ]
     },
     "metadata": {},
     "output_type": "display_data"
    },
    {
     "data": {
      "application/vnd.jupyter.widget-view+json": {
       "model_id": "",
       "version_major": 2,
       "version_minor": 0
      },
      "text/plain": [
       "HBox(children=(IntProgress(value=0, description='Measurement sweep', max=1000, style=ProgressStyle(description…"
      ]
     },
     "metadata": {},
     "output_type": "display_data"
    },
    {
     "data": {
      "application/vnd.jupyter.widget-view+json": {
       "model_id": "",
       "version_major": 2,
       "version_minor": 0
      },
      "text/plain": [
       "HBox(children=(IntProgress(value=0, description='Equilibrate sweep', style=ProgressStyle(description_width='in…"
      ]
     },
     "metadata": {},
     "output_type": "display_data"
    },
    {
     "data": {
      "application/vnd.jupyter.widget-view+json": {
       "model_id": "",
       "version_major": 2,
       "version_minor": 0
      },
      "text/plain": [
       "HBox(children=(IntProgress(value=0, description='Measurement sweep', max=1000, style=ProgressStyle(description…"
      ]
     },
     "metadata": {},
     "output_type": "display_data"
    },
    {
     "data": {
      "application/vnd.jupyter.widget-view+json": {
       "model_id": "",
       "version_major": 2,
       "version_minor": 0
      },
      "text/plain": [
       "HBox(children=(IntProgress(value=0, description='Equilibrate sweep', style=ProgressStyle(description_width='in…"
      ]
     },
     "metadata": {},
     "output_type": "display_data"
    },
    {
     "data": {
      "application/vnd.jupyter.widget-view+json": {
       "model_id": "",
       "version_major": 2,
       "version_minor": 0
      },
      "text/plain": [
       "HBox(children=(IntProgress(value=0, description='Measurement sweep', max=1000, style=ProgressStyle(description…"
      ]
     },
     "metadata": {},
     "output_type": "display_data"
    },
    {
     "data": {
      "application/vnd.jupyter.widget-view+json": {
       "model_id": "",
       "version_major": 2,
       "version_minor": 0
      },
      "text/plain": [
       "HBox(children=(IntProgress(value=0, description='Equilibrate sweep', style=ProgressStyle(description_width='in…"
      ]
     },
     "metadata": {},
     "output_type": "display_data"
    },
    {
     "data": {
      "application/vnd.jupyter.widget-view+json": {
       "model_id": "",
       "version_major": 2,
       "version_minor": 0
      },
      "text/plain": [
       "HBox(children=(IntProgress(value=0, description='Measurement sweep', max=1000, style=ProgressStyle(description…"
      ]
     },
     "metadata": {},
     "output_type": "display_data"
    },
    {
     "data": {
      "application/vnd.jupyter.widget-view+json": {
       "model_id": "",
       "version_major": 2,
       "version_minor": 0
      },
      "text/plain": [
       "HBox(children=(IntProgress(value=0, description='Equilibrate sweep', style=ProgressStyle(description_width='in…"
      ]
     },
     "metadata": {},
     "output_type": "display_data"
    },
    {
     "data": {
      "application/vnd.jupyter.widget-view+json": {
       "model_id": "",
       "version_major": 2,
       "version_minor": 0
      },
      "text/plain": [
       "HBox(children=(IntProgress(value=0, description='Measurement sweep', max=1000, style=ProgressStyle(description…"
      ]
     },
     "metadata": {},
     "output_type": "display_data"
    },
    {
     "data": {
      "application/vnd.jupyter.widget-view+json": {
       "model_id": "",
       "version_major": 2,
       "version_minor": 0
      },
      "text/plain": [
       "HBox(children=(IntProgress(value=0, description='Equilibrate sweep', style=ProgressStyle(description_width='in…"
      ]
     },
     "metadata": {},
     "output_type": "display_data"
    },
    {
     "data": {
      "application/vnd.jupyter.widget-view+json": {
       "model_id": "",
       "version_major": 2,
       "version_minor": 0
      },
      "text/plain": [
       "HBox(children=(IntProgress(value=0, description='Measurement sweep', max=1000, style=ProgressStyle(description…"
      ]
     },
     "metadata": {},
     "output_type": "display_data"
    },
    {
     "data": {
      "application/vnd.jupyter.widget-view+json": {
       "model_id": "",
       "version_major": 2,
       "version_minor": 0
      },
      "text/plain": [
       "HBox(children=(IntProgress(value=0, description='Equilibrate sweep', style=ProgressStyle(description_width='in…"
      ]
     },
     "metadata": {},
     "output_type": "display_data"
    },
    {
     "data": {
      "application/vnd.jupyter.widget-view+json": {
       "model_id": "",
       "version_major": 2,
       "version_minor": 0
      },
      "text/plain": [
       "HBox(children=(IntProgress(value=0, description='Measurement sweep', max=1000, style=ProgressStyle(description…"
      ]
     },
     "metadata": {},
     "output_type": "display_data"
    },
    {
     "data": {
      "application/vnd.jupyter.widget-view+json": {
       "model_id": "",
       "version_major": 2,
       "version_minor": 0
      },
      "text/plain": [
       "HBox(children=(IntProgress(value=0, description='Equilibrate sweep', style=ProgressStyle(description_width='in…"
      ]
     },
     "metadata": {},
     "output_type": "display_data"
    },
    {
     "data": {
      "application/vnd.jupyter.widget-view+json": {
       "model_id": "",
       "version_major": 2,
       "version_minor": 0
      },
      "text/plain": [
       "HBox(children=(IntProgress(value=0, description='Measurement sweep', max=1000, style=ProgressStyle(description…"
      ]
     },
     "metadata": {},
     "output_type": "display_data"
    },
    {
     "data": {
      "application/vnd.jupyter.widget-view+json": {
       "model_id": "",
       "version_major": 2,
       "version_minor": 0
      },
      "text/plain": [
       "HBox(children=(IntProgress(value=0, description='Equilibrate sweep', style=ProgressStyle(description_width='in…"
      ]
     },
     "metadata": {},
     "output_type": "display_data"
    },
    {
     "data": {
      "application/vnd.jupyter.widget-view+json": {
       "model_id": "",
       "version_major": 2,
       "version_minor": 0
      },
      "text/plain": [
       "HBox(children=(IntProgress(value=0, description='Measurement sweep', max=1000, style=ProgressStyle(description…"
      ]
     },
     "metadata": {},
     "output_type": "display_data"
    },
    {
     "data": {
      "application/vnd.jupyter.widget-view+json": {
       "model_id": "",
       "version_major": 2,
       "version_minor": 0
      },
      "text/plain": [
       "HBox(children=(IntProgress(value=0, description='Col', max=10, style=ProgressStyle(description_width='initial'…"
      ]
     },
     "metadata": {},
     "output_type": "display_data"
    },
    {
     "data": {
      "application/vnd.jupyter.widget-view+json": {
       "model_id": "",
       "version_major": 2,
       "version_minor": 0
      },
      "text/plain": [
       "HBox(children=(IntProgress(value=0, description='Equilibrate sweep', style=ProgressStyle(description_width='in…"
      ]
     },
     "metadata": {},
     "output_type": "display_data"
    },
    {
     "data": {
      "application/vnd.jupyter.widget-view+json": {
       "model_id": "",
       "version_major": 2,
       "version_minor": 0
      },
      "text/plain": [
       "HBox(children=(IntProgress(value=0, description='Measurement sweep', max=1000, style=ProgressStyle(description…"
      ]
     },
     "metadata": {},
     "output_type": "display_data"
    },
    {
     "data": {
      "application/vnd.jupyter.widget-view+json": {
       "model_id": "",
       "version_major": 2,
       "version_minor": 0
      },
      "text/plain": [
       "HBox(children=(IntProgress(value=0, description='Equilibrate sweep', style=ProgressStyle(description_width='in…"
      ]
     },
     "metadata": {},
     "output_type": "display_data"
    },
    {
     "data": {
      "application/vnd.jupyter.widget-view+json": {
       "model_id": "",
       "version_major": 2,
       "version_minor": 0
      },
      "text/plain": [
       "HBox(children=(IntProgress(value=0, description='Measurement sweep', max=1000, style=ProgressStyle(description…"
      ]
     },
     "metadata": {},
     "output_type": "display_data"
    },
    {
     "data": {
      "application/vnd.jupyter.widget-view+json": {
       "model_id": "",
       "version_major": 2,
       "version_minor": 0
      },
      "text/plain": [
       "HBox(children=(IntProgress(value=0, description='Equilibrate sweep', style=ProgressStyle(description_width='in…"
      ]
     },
     "metadata": {},
     "output_type": "display_data"
    },
    {
     "data": {
      "application/vnd.jupyter.widget-view+json": {
       "model_id": "",
       "version_major": 2,
       "version_minor": 0
      },
      "text/plain": [
       "HBox(children=(IntProgress(value=0, description='Measurement sweep', max=1000, style=ProgressStyle(description…"
      ]
     },
     "metadata": {},
     "output_type": "display_data"
    },
    {
     "data": {
      "application/vnd.jupyter.widget-view+json": {
       "model_id": "",
       "version_major": 2,
       "version_minor": 0
      },
      "text/plain": [
       "HBox(children=(IntProgress(value=0, description='Equilibrate sweep', style=ProgressStyle(description_width='in…"
      ]
     },
     "metadata": {},
     "output_type": "display_data"
    },
    {
     "data": {
      "application/vnd.jupyter.widget-view+json": {
       "model_id": "",
       "version_major": 2,
       "version_minor": 0
      },
      "text/plain": [
       "HBox(children=(IntProgress(value=0, description='Measurement sweep', max=1000, style=ProgressStyle(description…"
      ]
     },
     "metadata": {},
     "output_type": "display_data"
    },
    {
     "data": {
      "application/vnd.jupyter.widget-view+json": {
       "model_id": "",
       "version_major": 2,
       "version_minor": 0
      },
      "text/plain": [
       "HBox(children=(IntProgress(value=0, description='Equilibrate sweep', style=ProgressStyle(description_width='in…"
      ]
     },
     "metadata": {},
     "output_type": "display_data"
    },
    {
     "data": {
      "application/vnd.jupyter.widget-view+json": {
       "model_id": "",
       "version_major": 2,
       "version_minor": 0
      },
      "text/plain": [
       "HBox(children=(IntProgress(value=0, description='Measurement sweep', max=1000, style=ProgressStyle(description…"
      ]
     },
     "metadata": {},
     "output_type": "display_data"
    },
    {
     "data": {
      "application/vnd.jupyter.widget-view+json": {
       "model_id": "",
       "version_major": 2,
       "version_minor": 0
      },
      "text/plain": [
       "HBox(children=(IntProgress(value=0, description='Equilibrate sweep', style=ProgressStyle(description_width='in…"
      ]
     },
     "metadata": {},
     "output_type": "display_data"
    },
    {
     "data": {
      "application/vnd.jupyter.widget-view+json": {
       "model_id": "",
       "version_major": 2,
       "version_minor": 0
      },
      "text/plain": [
       "HBox(children=(IntProgress(value=0, description='Measurement sweep', max=1000, style=ProgressStyle(description…"
      ]
     },
     "metadata": {},
     "output_type": "display_data"
    },
    {
     "data": {
      "application/vnd.jupyter.widget-view+json": {
       "model_id": "",
       "version_major": 2,
       "version_minor": 0
      },
      "text/plain": [
       "HBox(children=(IntProgress(value=0, description='Equilibrate sweep', style=ProgressStyle(description_width='in…"
      ]
     },
     "metadata": {},
     "output_type": "display_data"
    },
    {
     "data": {
      "application/vnd.jupyter.widget-view+json": {
       "model_id": "",
       "version_major": 2,
       "version_minor": 0
      },
      "text/plain": [
       "HBox(children=(IntProgress(value=0, description='Measurement sweep', max=1000, style=ProgressStyle(description…"
      ]
     },
     "metadata": {},
     "output_type": "display_data"
    },
    {
     "data": {
      "application/vnd.jupyter.widget-view+json": {
       "model_id": "",
       "version_major": 2,
       "version_minor": 0
      },
      "text/plain": [
       "HBox(children=(IntProgress(value=0, description='Equilibrate sweep', style=ProgressStyle(description_width='in…"
      ]
     },
     "metadata": {},
     "output_type": "display_data"
    },
    {
     "data": {
      "application/vnd.jupyter.widget-view+json": {
       "model_id": "",
       "version_major": 2,
       "version_minor": 0
      },
      "text/plain": [
       "HBox(children=(IntProgress(value=0, description='Measurement sweep', max=1000, style=ProgressStyle(description…"
      ]
     },
     "metadata": {},
     "output_type": "display_data"
    },
    {
     "data": {
      "application/vnd.jupyter.widget-view+json": {
       "model_id": "",
       "version_major": 2,
       "version_minor": 0
      },
      "text/plain": [
       "HBox(children=(IntProgress(value=0, description='Equilibrate sweep', style=ProgressStyle(description_width='in…"
      ]
     },
     "metadata": {},
     "output_type": "display_data"
    },
    {
     "data": {
      "application/vnd.jupyter.widget-view+json": {
       "model_id": "",
       "version_major": 2,
       "version_minor": 0
      },
      "text/plain": [
       "HBox(children=(IntProgress(value=0, description='Measurement sweep', max=1000, style=ProgressStyle(description…"
      ]
     },
     "metadata": {},
     "output_type": "display_data"
    },
    {
     "data": {
      "application/vnd.jupyter.widget-view+json": {
       "model_id": "",
       "version_major": 2,
       "version_minor": 0
      },
      "text/plain": [
       "HBox(children=(IntProgress(value=0, description='Equilibrate sweep', style=ProgressStyle(description_width='in…"
      ]
     },
     "metadata": {},
     "output_type": "display_data"
    },
    {
     "data": {
      "application/vnd.jupyter.widget-view+json": {
       "model_id": "",
       "version_major": 2,
       "version_minor": 0
      },
      "text/plain": [
       "HBox(children=(IntProgress(value=0, description='Measurement sweep', max=1000, style=ProgressStyle(description…"
      ]
     },
     "metadata": {},
     "output_type": "display_data"
    },
    {
     "data": {
      "application/vnd.jupyter.widget-view+json": {
       "model_id": "",
       "version_major": 2,
       "version_minor": 0
      },
      "text/plain": [
       "HBox(children=(IntProgress(value=0, description='Col', max=10, style=ProgressStyle(description_width='initial'…"
      ]
     },
     "metadata": {},
     "output_type": "display_data"
    },
    {
     "data": {
      "application/vnd.jupyter.widget-view+json": {
       "model_id": "",
       "version_major": 2,
       "version_minor": 0
      },
      "text/plain": [
       "HBox(children=(IntProgress(value=0, description='Equilibrate sweep', style=ProgressStyle(description_width='in…"
      ]
     },
     "metadata": {},
     "output_type": "display_data"
    },
    {
     "data": {
      "application/vnd.jupyter.widget-view+json": {
       "model_id": "",
       "version_major": 2,
       "version_minor": 0
      },
      "text/plain": [
       "HBox(children=(IntProgress(value=0, description='Measurement sweep', max=1000, style=ProgressStyle(description…"
      ]
     },
     "metadata": {},
     "output_type": "display_data"
    },
    {
     "data": {
      "application/vnd.jupyter.widget-view+json": {
       "model_id": "",
       "version_major": 2,
       "version_minor": 0
      },
      "text/plain": [
       "HBox(children=(IntProgress(value=0, description='Equilibrate sweep', style=ProgressStyle(description_width='in…"
      ]
     },
     "metadata": {},
     "output_type": "display_data"
    },
    {
     "data": {
      "application/vnd.jupyter.widget-view+json": {
       "model_id": "",
       "version_major": 2,
       "version_minor": 0
      },
      "text/plain": [
       "HBox(children=(IntProgress(value=0, description='Measurement sweep', max=1000, style=ProgressStyle(description…"
      ]
     },
     "metadata": {},
     "output_type": "display_data"
    },
    {
     "data": {
      "application/vnd.jupyter.widget-view+json": {
       "model_id": "",
       "version_major": 2,
       "version_minor": 0
      },
      "text/plain": [
       "HBox(children=(IntProgress(value=0, description='Equilibrate sweep', style=ProgressStyle(description_width='in…"
      ]
     },
     "metadata": {},
     "output_type": "display_data"
    },
    {
     "data": {
      "application/vnd.jupyter.widget-view+json": {
       "model_id": "",
       "version_major": 2,
       "version_minor": 0
      },
      "text/plain": [
       "HBox(children=(IntProgress(value=0, description='Measurement sweep', max=1000, style=ProgressStyle(description…"
      ]
     },
     "metadata": {},
     "output_type": "display_data"
    },
    {
     "data": {
      "application/vnd.jupyter.widget-view+json": {
       "model_id": "",
       "version_major": 2,
       "version_minor": 0
      },
      "text/plain": [
       "HBox(children=(IntProgress(value=0, description='Equilibrate sweep', style=ProgressStyle(description_width='in…"
      ]
     },
     "metadata": {},
     "output_type": "display_data"
    },
    {
     "data": {
      "application/vnd.jupyter.widget-view+json": {
       "model_id": "",
       "version_major": 2,
       "version_minor": 0
      },
      "text/plain": [
       "HBox(children=(IntProgress(value=0, description='Measurement sweep', max=1000, style=ProgressStyle(description…"
      ]
     },
     "metadata": {},
     "output_type": "display_data"
    },
    {
     "data": {
      "application/vnd.jupyter.widget-view+json": {
       "model_id": "",
       "version_major": 2,
       "version_minor": 0
      },
      "text/plain": [
       "HBox(children=(IntProgress(value=0, description='Equilibrate sweep', style=ProgressStyle(description_width='in…"
      ]
     },
     "metadata": {},
     "output_type": "display_data"
    },
    {
     "data": {
      "application/vnd.jupyter.widget-view+json": {
       "model_id": "",
       "version_major": 2,
       "version_minor": 0
      },
      "text/plain": [
       "HBox(children=(IntProgress(value=0, description='Measurement sweep', max=1000, style=ProgressStyle(description…"
      ]
     },
     "metadata": {},
     "output_type": "display_data"
    },
    {
     "data": {
      "application/vnd.jupyter.widget-view+json": {
       "model_id": "",
       "version_major": 2,
       "version_minor": 0
      },
      "text/plain": [
       "HBox(children=(IntProgress(value=0, description='Equilibrate sweep', style=ProgressStyle(description_width='in…"
      ]
     },
     "metadata": {},
     "output_type": "display_data"
    },
    {
     "data": {
      "application/vnd.jupyter.widget-view+json": {
       "model_id": "",
       "version_major": 2,
       "version_minor": 0
      },
      "text/plain": [
       "HBox(children=(IntProgress(value=0, description='Measurement sweep', max=1000, style=ProgressStyle(description…"
      ]
     },
     "metadata": {},
     "output_type": "display_data"
    },
    {
     "data": {
      "application/vnd.jupyter.widget-view+json": {
       "model_id": "",
       "version_major": 2,
       "version_minor": 0
      },
      "text/plain": [
       "HBox(children=(IntProgress(value=0, description='Equilibrate sweep', style=ProgressStyle(description_width='in…"
      ]
     },
     "metadata": {},
     "output_type": "display_data"
    },
    {
     "data": {
      "application/vnd.jupyter.widget-view+json": {
       "model_id": "",
       "version_major": 2,
       "version_minor": 0
      },
      "text/plain": [
       "HBox(children=(IntProgress(value=0, description='Measurement sweep', max=1000, style=ProgressStyle(description…"
      ]
     },
     "metadata": {},
     "output_type": "display_data"
    },
    {
     "data": {
      "application/vnd.jupyter.widget-view+json": {
       "model_id": "",
       "version_major": 2,
       "version_minor": 0
      },
      "text/plain": [
       "HBox(children=(IntProgress(value=0, description='Equilibrate sweep', style=ProgressStyle(description_width='in…"
      ]
     },
     "metadata": {},
     "output_type": "display_data"
    },
    {
     "data": {
      "application/vnd.jupyter.widget-view+json": {
       "model_id": "",
       "version_major": 2,
       "version_minor": 0
      },
      "text/plain": [
       "HBox(children=(IntProgress(value=0, description='Measurement sweep', max=1000, style=ProgressStyle(description…"
      ]
     },
     "metadata": {},
     "output_type": "display_data"
    },
    {
     "data": {
      "application/vnd.jupyter.widget-view+json": {
       "model_id": "",
       "version_major": 2,
       "version_minor": 0
      },
      "text/plain": [
       "HBox(children=(IntProgress(value=0, description='Equilibrate sweep', style=ProgressStyle(description_width='in…"
      ]
     },
     "metadata": {},
     "output_type": "display_data"
    },
    {
     "data": {
      "application/vnd.jupyter.widget-view+json": {
       "model_id": "",
       "version_major": 2,
       "version_minor": 0
      },
      "text/plain": [
       "HBox(children=(IntProgress(value=0, description='Measurement sweep', max=1000, style=ProgressStyle(description…"
      ]
     },
     "metadata": {},
     "output_type": "display_data"
    },
    {
     "data": {
      "application/vnd.jupyter.widget-view+json": {
       "model_id": "",
       "version_major": 2,
       "version_minor": 0
      },
      "text/plain": [
       "HBox(children=(IntProgress(value=0, description='Equilibrate sweep', style=ProgressStyle(description_width='in…"
      ]
     },
     "metadata": {},
     "output_type": "display_data"
    },
    {
     "data": {
      "application/vnd.jupyter.widget-view+json": {
       "model_id": "",
       "version_major": 2,
       "version_minor": 0
      },
      "text/plain": [
       "HBox(children=(IntProgress(value=0, description='Measurement sweep', max=1000, style=ProgressStyle(description…"
      ]
     },
     "metadata": {},
     "output_type": "display_data"
    },
    {
     "data": {
      "application/vnd.jupyter.widget-view+json": {
       "model_id": "",
       "version_major": 2,
       "version_minor": 0
      },
      "text/plain": [
       "HBox(children=(IntProgress(value=0, description='Col', max=10, style=ProgressStyle(description_width='initial'…"
      ]
     },
     "metadata": {},
     "output_type": "display_data"
    },
    {
     "data": {
      "application/vnd.jupyter.widget-view+json": {
       "model_id": "",
       "version_major": 2,
       "version_minor": 0
      },
      "text/plain": [
       "HBox(children=(IntProgress(value=0, description='Equilibrate sweep', style=ProgressStyle(description_width='in…"
      ]
     },
     "metadata": {},
     "output_type": "display_data"
    },
    {
     "data": {
      "application/vnd.jupyter.widget-view+json": {
       "model_id": "",
       "version_major": 2,
       "version_minor": 0
      },
      "text/plain": [
       "HBox(children=(IntProgress(value=0, description='Measurement sweep', max=1000, style=ProgressStyle(description…"
      ]
     },
     "metadata": {},
     "output_type": "display_data"
    },
    {
     "data": {
      "application/vnd.jupyter.widget-view+json": {
       "model_id": "",
       "version_major": 2,
       "version_minor": 0
      },
      "text/plain": [
       "HBox(children=(IntProgress(value=0, description='Equilibrate sweep', style=ProgressStyle(description_width='in…"
      ]
     },
     "metadata": {},
     "output_type": "display_data"
    },
    {
     "data": {
      "application/vnd.jupyter.widget-view+json": {
       "model_id": "",
       "version_major": 2,
       "version_minor": 0
      },
      "text/plain": [
       "HBox(children=(IntProgress(value=0, description='Measurement sweep', max=1000, style=ProgressStyle(description…"
      ]
     },
     "metadata": {},
     "output_type": "display_data"
    },
    {
     "data": {
      "application/vnd.jupyter.widget-view+json": {
       "model_id": "",
       "version_major": 2,
       "version_minor": 0
      },
      "text/plain": [
       "HBox(children=(IntProgress(value=0, description='Equilibrate sweep', style=ProgressStyle(description_width='in…"
      ]
     },
     "metadata": {},
     "output_type": "display_data"
    },
    {
     "data": {
      "application/vnd.jupyter.widget-view+json": {
       "model_id": "",
       "version_major": 2,
       "version_minor": 0
      },
      "text/plain": [
       "HBox(children=(IntProgress(value=0, description='Measurement sweep', max=1000, style=ProgressStyle(description…"
      ]
     },
     "metadata": {},
     "output_type": "display_data"
    },
    {
     "data": {
      "application/vnd.jupyter.widget-view+json": {
       "model_id": "",
       "version_major": 2,
       "version_minor": 0
      },
      "text/plain": [
       "HBox(children=(IntProgress(value=0, description='Equilibrate sweep', style=ProgressStyle(description_width='in…"
      ]
     },
     "metadata": {},
     "output_type": "display_data"
    },
    {
     "data": {
      "application/vnd.jupyter.widget-view+json": {
       "model_id": "",
       "version_major": 2,
       "version_minor": 0
      },
      "text/plain": [
       "HBox(children=(IntProgress(value=0, description='Measurement sweep', max=1000, style=ProgressStyle(description…"
      ]
     },
     "metadata": {},
     "output_type": "display_data"
    },
    {
     "data": {
      "application/vnd.jupyter.widget-view+json": {
       "model_id": "",
       "version_major": 2,
       "version_minor": 0
      },
      "text/plain": [
       "HBox(children=(IntProgress(value=0, description='Equilibrate sweep', style=ProgressStyle(description_width='in…"
      ]
     },
     "metadata": {},
     "output_type": "display_data"
    },
    {
     "data": {
      "application/vnd.jupyter.widget-view+json": {
       "model_id": "",
       "version_major": 2,
       "version_minor": 0
      },
      "text/plain": [
       "HBox(children=(IntProgress(value=0, description='Measurement sweep', max=1000, style=ProgressStyle(description…"
      ]
     },
     "metadata": {},
     "output_type": "display_data"
    },
    {
     "data": {
      "application/vnd.jupyter.widget-view+json": {
       "model_id": "",
       "version_major": 2,
       "version_minor": 0
      },
      "text/plain": [
       "HBox(children=(IntProgress(value=0, description='Equilibrate sweep', style=ProgressStyle(description_width='in…"
      ]
     },
     "metadata": {},
     "output_type": "display_data"
    },
    {
     "data": {
      "application/vnd.jupyter.widget-view+json": {
       "model_id": "",
       "version_major": 2,
       "version_minor": 0
      },
      "text/plain": [
       "HBox(children=(IntProgress(value=0, description='Measurement sweep', max=1000, style=ProgressStyle(description…"
      ]
     },
     "metadata": {},
     "output_type": "display_data"
    },
    {
     "data": {
      "application/vnd.jupyter.widget-view+json": {
       "model_id": "",
       "version_major": 2,
       "version_minor": 0
      },
      "text/plain": [
       "HBox(children=(IntProgress(value=0, description='Equilibrate sweep', style=ProgressStyle(description_width='in…"
      ]
     },
     "metadata": {},
     "output_type": "display_data"
    },
    {
     "data": {
      "application/vnd.jupyter.widget-view+json": {
       "model_id": "",
       "version_major": 2,
       "version_minor": 0
      },
      "text/plain": [
       "HBox(children=(IntProgress(value=0, description='Measurement sweep', max=1000, style=ProgressStyle(description…"
      ]
     },
     "metadata": {},
     "output_type": "display_data"
    },
    {
     "data": {
      "application/vnd.jupyter.widget-view+json": {
       "model_id": "",
       "version_major": 2,
       "version_minor": 0
      },
      "text/plain": [
       "HBox(children=(IntProgress(value=0, description='Equilibrate sweep', style=ProgressStyle(description_width='in…"
      ]
     },
     "metadata": {},
     "output_type": "display_data"
    },
    {
     "data": {
      "application/vnd.jupyter.widget-view+json": {
       "model_id": "",
       "version_major": 2,
       "version_minor": 0
      },
      "text/plain": [
       "HBox(children=(IntProgress(value=0, description='Measurement sweep', max=1000, style=ProgressStyle(description…"
      ]
     },
     "metadata": {},
     "output_type": "display_data"
    },
    {
     "data": {
      "application/vnd.jupyter.widget-view+json": {
       "model_id": "",
       "version_major": 2,
       "version_minor": 0
      },
      "text/plain": [
       "HBox(children=(IntProgress(value=0, description='Equilibrate sweep', style=ProgressStyle(description_width='in…"
      ]
     },
     "metadata": {},
     "output_type": "display_data"
    },
    {
     "data": {
      "application/vnd.jupyter.widget-view+json": {
       "model_id": "",
       "version_major": 2,
       "version_minor": 0
      },
      "text/plain": [
       "HBox(children=(IntProgress(value=0, description='Measurement sweep', max=1000, style=ProgressStyle(description…"
      ]
     },
     "metadata": {},
     "output_type": "display_data"
    },
    {
     "data": {
      "application/vnd.jupyter.widget-view+json": {
       "model_id": "",
       "version_major": 2,
       "version_minor": 0
      },
      "text/plain": [
       "HBox(children=(IntProgress(value=0, description='Equilibrate sweep', style=ProgressStyle(description_width='in…"
      ]
     },
     "metadata": {},
     "output_type": "display_data"
    },
    {
     "data": {
      "application/vnd.jupyter.widget-view+json": {
       "model_id": "",
       "version_major": 2,
       "version_minor": 0
      },
      "text/plain": [
       "HBox(children=(IntProgress(value=0, description='Measurement sweep', max=1000, style=ProgressStyle(description…"
      ]
     },
     "metadata": {},
     "output_type": "display_data"
    },
    {
     "data": {
      "application/vnd.jupyter.widget-view+json": {
       "model_id": "",
       "version_major": 2,
       "version_minor": 0
      },
      "text/plain": [
       "HBox(children=(IntProgress(value=0, description='Col', max=10, style=ProgressStyle(description_width='initial'…"
      ]
     },
     "metadata": {},
     "output_type": "display_data"
    },
    {
     "data": {
      "application/vnd.jupyter.widget-view+json": {
       "model_id": "",
       "version_major": 2,
       "version_minor": 0
      },
      "text/plain": [
       "HBox(children=(IntProgress(value=0, description='Equilibrate sweep', style=ProgressStyle(description_width='in…"
      ]
     },
     "metadata": {},
     "output_type": "display_data"
    },
    {
     "data": {
      "application/vnd.jupyter.widget-view+json": {
       "model_id": "",
       "version_major": 2,
       "version_minor": 0
      },
      "text/plain": [
       "HBox(children=(IntProgress(value=0, description='Measurement sweep', max=1000, style=ProgressStyle(description…"
      ]
     },
     "metadata": {},
     "output_type": "display_data"
    },
    {
     "data": {
      "application/vnd.jupyter.widget-view+json": {
       "model_id": "",
       "version_major": 2,
       "version_minor": 0
      },
      "text/plain": [
       "HBox(children=(IntProgress(value=0, description='Equilibrate sweep', style=ProgressStyle(description_width='in…"
      ]
     },
     "metadata": {},
     "output_type": "display_data"
    },
    {
     "data": {
      "application/vnd.jupyter.widget-view+json": {
       "model_id": "",
       "version_major": 2,
       "version_minor": 0
      },
      "text/plain": [
       "HBox(children=(IntProgress(value=0, description='Measurement sweep', max=1000, style=ProgressStyle(description…"
      ]
     },
     "metadata": {},
     "output_type": "display_data"
    },
    {
     "data": {
      "application/vnd.jupyter.widget-view+json": {
       "model_id": "",
       "version_major": 2,
       "version_minor": 0
      },
      "text/plain": [
       "HBox(children=(IntProgress(value=0, description='Equilibrate sweep', style=ProgressStyle(description_width='in…"
      ]
     },
     "metadata": {},
     "output_type": "display_data"
    },
    {
     "data": {
      "application/vnd.jupyter.widget-view+json": {
       "model_id": "",
       "version_major": 2,
       "version_minor": 0
      },
      "text/plain": [
       "HBox(children=(IntProgress(value=0, description='Measurement sweep', max=1000, style=ProgressStyle(description…"
      ]
     },
     "metadata": {},
     "output_type": "display_data"
    },
    {
     "data": {
      "application/vnd.jupyter.widget-view+json": {
       "model_id": "",
       "version_major": 2,
       "version_minor": 0
      },
      "text/plain": [
       "HBox(children=(IntProgress(value=0, description='Equilibrate sweep', style=ProgressStyle(description_width='in…"
      ]
     },
     "metadata": {},
     "output_type": "display_data"
    },
    {
     "data": {
      "application/vnd.jupyter.widget-view+json": {
       "model_id": "",
       "version_major": 2,
       "version_minor": 0
      },
      "text/plain": [
       "HBox(children=(IntProgress(value=0, description='Measurement sweep', max=1000, style=ProgressStyle(description…"
      ]
     },
     "metadata": {},
     "output_type": "display_data"
    },
    {
     "data": {
      "application/vnd.jupyter.widget-view+json": {
       "model_id": "",
       "version_major": 2,
       "version_minor": 0
      },
      "text/plain": [
       "HBox(children=(IntProgress(value=0, description='Equilibrate sweep', style=ProgressStyle(description_width='in…"
      ]
     },
     "metadata": {},
     "output_type": "display_data"
    },
    {
     "data": {
      "application/vnd.jupyter.widget-view+json": {
       "model_id": "",
       "version_major": 2,
       "version_minor": 0
      },
      "text/plain": [
       "HBox(children=(IntProgress(value=0, description='Measurement sweep', max=1000, style=ProgressStyle(description…"
      ]
     },
     "metadata": {},
     "output_type": "display_data"
    },
    {
     "data": {
      "application/vnd.jupyter.widget-view+json": {
       "model_id": "",
       "version_major": 2,
       "version_minor": 0
      },
      "text/plain": [
       "HBox(children=(IntProgress(value=0, description='Equilibrate sweep', style=ProgressStyle(description_width='in…"
      ]
     },
     "metadata": {},
     "output_type": "display_data"
    },
    {
     "data": {
      "application/vnd.jupyter.widget-view+json": {
       "model_id": "",
       "version_major": 2,
       "version_minor": 0
      },
      "text/plain": [
       "HBox(children=(IntProgress(value=0, description='Measurement sweep', max=1000, style=ProgressStyle(description…"
      ]
     },
     "metadata": {},
     "output_type": "display_data"
    },
    {
     "data": {
      "application/vnd.jupyter.widget-view+json": {
       "model_id": "",
       "version_major": 2,
       "version_minor": 0
      },
      "text/plain": [
       "HBox(children=(IntProgress(value=0, description='Equilibrate sweep', style=ProgressStyle(description_width='in…"
      ]
     },
     "metadata": {},
     "output_type": "display_data"
    },
    {
     "data": {
      "application/vnd.jupyter.widget-view+json": {
       "model_id": "",
       "version_major": 2,
       "version_minor": 0
      },
      "text/plain": [
       "HBox(children=(IntProgress(value=0, description='Measurement sweep', max=1000, style=ProgressStyle(description…"
      ]
     },
     "metadata": {},
     "output_type": "display_data"
    },
    {
     "data": {
      "application/vnd.jupyter.widget-view+json": {
       "model_id": "",
       "version_major": 2,
       "version_minor": 0
      },
      "text/plain": [
       "HBox(children=(IntProgress(value=0, description='Equilibrate sweep', style=ProgressStyle(description_width='in…"
      ]
     },
     "metadata": {},
     "output_type": "display_data"
    },
    {
     "data": {
      "application/vnd.jupyter.widget-view+json": {
       "model_id": "",
       "version_major": 2,
       "version_minor": 0
      },
      "text/plain": [
       "HBox(children=(IntProgress(value=0, description='Measurement sweep', max=1000, style=ProgressStyle(description…"
      ]
     },
     "metadata": {},
     "output_type": "display_data"
    },
    {
     "data": {
      "application/vnd.jupyter.widget-view+json": {
       "model_id": "",
       "version_major": 2,
       "version_minor": 0
      },
      "text/plain": [
       "HBox(children=(IntProgress(value=0, description='Equilibrate sweep', style=ProgressStyle(description_width='in…"
      ]
     },
     "metadata": {},
     "output_type": "display_data"
    },
    {
     "data": {
      "application/vnd.jupyter.widget-view+json": {
       "model_id": "",
       "version_major": 2,
       "version_minor": 0
      },
      "text/plain": [
       "HBox(children=(IntProgress(value=0, description='Measurement sweep', max=1000, style=ProgressStyle(description…"
      ]
     },
     "metadata": {},
     "output_type": "display_data"
    },
    {
     "data": {
      "application/vnd.jupyter.widget-view+json": {
       "model_id": "",
       "version_major": 2,
       "version_minor": 0
      },
      "text/plain": [
       "HBox(children=(IntProgress(value=0, description='Equilibrate sweep', style=ProgressStyle(description_width='in…"
      ]
     },
     "metadata": {},
     "output_type": "display_data"
    },
    {
     "data": {
      "application/vnd.jupyter.widget-view+json": {
       "model_id": "",
       "version_major": 2,
       "version_minor": 0
      },
      "text/plain": [
       "HBox(children=(IntProgress(value=0, description='Measurement sweep', max=1000, style=ProgressStyle(description…"
      ]
     },
     "metadata": {},
     "output_type": "display_data"
    },
    {
     "data": {
      "application/vnd.jupyter.widget-view+json": {
       "model_id": "",
       "version_major": 2,
       "version_minor": 0
      },
      "text/plain": [
       "HBox(children=(IntProgress(value=0, description='Col', max=10, style=ProgressStyle(description_width='initial'…"
      ]
     },
     "metadata": {},
     "output_type": "display_data"
    },
    {
     "data": {
      "application/vnd.jupyter.widget-view+json": {
       "model_id": "",
       "version_major": 2,
       "version_minor": 0
      },
      "text/plain": [
       "HBox(children=(IntProgress(value=0, description='Equilibrate sweep', style=ProgressStyle(description_width='in…"
      ]
     },
     "metadata": {},
     "output_type": "display_data"
    },
    {
     "data": {
      "application/vnd.jupyter.widget-view+json": {
       "model_id": "",
       "version_major": 2,
       "version_minor": 0
      },
      "text/plain": [
       "HBox(children=(IntProgress(value=0, description='Measurement sweep', max=1000, style=ProgressStyle(description…"
      ]
     },
     "metadata": {},
     "output_type": "display_data"
    },
    {
     "data": {
      "application/vnd.jupyter.widget-view+json": {
       "model_id": "",
       "version_major": 2,
       "version_minor": 0
      },
      "text/plain": [
       "HBox(children=(IntProgress(value=0, description='Equilibrate sweep', style=ProgressStyle(description_width='in…"
      ]
     },
     "metadata": {},
     "output_type": "display_data"
    },
    {
     "data": {
      "application/vnd.jupyter.widget-view+json": {
       "model_id": "",
       "version_major": 2,
       "version_minor": 0
      },
      "text/plain": [
       "HBox(children=(IntProgress(value=0, description='Measurement sweep', max=1000, style=ProgressStyle(description…"
      ]
     },
     "metadata": {},
     "output_type": "display_data"
    },
    {
     "data": {
      "application/vnd.jupyter.widget-view+json": {
       "model_id": "",
       "version_major": 2,
       "version_minor": 0
      },
      "text/plain": [
       "HBox(children=(IntProgress(value=0, description='Equilibrate sweep', style=ProgressStyle(description_width='in…"
      ]
     },
     "metadata": {},
     "output_type": "display_data"
    },
    {
     "data": {
      "application/vnd.jupyter.widget-view+json": {
       "model_id": "",
       "version_major": 2,
       "version_minor": 0
      },
      "text/plain": [
       "HBox(children=(IntProgress(value=0, description='Measurement sweep', max=1000, style=ProgressStyle(description…"
      ]
     },
     "metadata": {},
     "output_type": "display_data"
    },
    {
     "data": {
      "application/vnd.jupyter.widget-view+json": {
       "model_id": "",
       "version_major": 2,
       "version_minor": 0
      },
      "text/plain": [
       "HBox(children=(IntProgress(value=0, description='Equilibrate sweep', style=ProgressStyle(description_width='in…"
      ]
     },
     "metadata": {},
     "output_type": "display_data"
    },
    {
     "data": {
      "application/vnd.jupyter.widget-view+json": {
       "model_id": "",
       "version_major": 2,
       "version_minor": 0
      },
      "text/plain": [
       "HBox(children=(IntProgress(value=0, description='Measurement sweep', max=1000, style=ProgressStyle(description…"
      ]
     },
     "metadata": {},
     "output_type": "display_data"
    },
    {
     "data": {
      "application/vnd.jupyter.widget-view+json": {
       "model_id": "",
       "version_major": 2,
       "version_minor": 0
      },
      "text/plain": [
       "HBox(children=(IntProgress(value=0, description='Equilibrate sweep', style=ProgressStyle(description_width='in…"
      ]
     },
     "metadata": {},
     "output_type": "display_data"
    },
    {
     "data": {
      "application/vnd.jupyter.widget-view+json": {
       "model_id": "",
       "version_major": 2,
       "version_minor": 0
      },
      "text/plain": [
       "HBox(children=(IntProgress(value=0, description='Measurement sweep', max=1000, style=ProgressStyle(description…"
      ]
     },
     "metadata": {},
     "output_type": "display_data"
    },
    {
     "data": {
      "application/vnd.jupyter.widget-view+json": {
       "model_id": "",
       "version_major": 2,
       "version_minor": 0
      },
      "text/plain": [
       "HBox(children=(IntProgress(value=0, description='Equilibrate sweep', style=ProgressStyle(description_width='in…"
      ]
     },
     "metadata": {},
     "output_type": "display_data"
    },
    {
     "data": {
      "application/vnd.jupyter.widget-view+json": {
       "model_id": "",
       "version_major": 2,
       "version_minor": 0
      },
      "text/plain": [
       "HBox(children=(IntProgress(value=0, description='Measurement sweep', max=1000, style=ProgressStyle(description…"
      ]
     },
     "metadata": {},
     "output_type": "display_data"
    },
    {
     "data": {
      "application/vnd.jupyter.widget-view+json": {
       "model_id": "",
       "version_major": 2,
       "version_minor": 0
      },
      "text/plain": [
       "HBox(children=(IntProgress(value=0, description='Equilibrate sweep', style=ProgressStyle(description_width='in…"
      ]
     },
     "metadata": {},
     "output_type": "display_data"
    },
    {
     "data": {
      "application/vnd.jupyter.widget-view+json": {
       "model_id": "",
       "version_major": 2,
       "version_minor": 0
      },
      "text/plain": [
       "HBox(children=(IntProgress(value=0, description='Measurement sweep', max=1000, style=ProgressStyle(description…"
      ]
     },
     "metadata": {},
     "output_type": "display_data"
    },
    {
     "data": {
      "application/vnd.jupyter.widget-view+json": {
       "model_id": "",
       "version_major": 2,
       "version_minor": 0
      },
      "text/plain": [
       "HBox(children=(IntProgress(value=0, description='Equilibrate sweep', style=ProgressStyle(description_width='in…"
      ]
     },
     "metadata": {},
     "output_type": "display_data"
    },
    {
     "data": {
      "application/vnd.jupyter.widget-view+json": {
       "model_id": "",
       "version_major": 2,
       "version_minor": 0
      },
      "text/plain": [
       "HBox(children=(IntProgress(value=0, description='Measurement sweep', max=1000, style=ProgressStyle(description…"
      ]
     },
     "metadata": {},
     "output_type": "display_data"
    },
    {
     "data": {
      "application/vnd.jupyter.widget-view+json": {
       "model_id": "",
       "version_major": 2,
       "version_minor": 0
      },
      "text/plain": [
       "HBox(children=(IntProgress(value=0, description='Equilibrate sweep', style=ProgressStyle(description_width='in…"
      ]
     },
     "metadata": {},
     "output_type": "display_data"
    },
    {
     "data": {
      "application/vnd.jupyter.widget-view+json": {
       "model_id": "",
       "version_major": 2,
       "version_minor": 0
      },
      "text/plain": [
       "HBox(children=(IntProgress(value=0, description='Measurement sweep', max=1000, style=ProgressStyle(description…"
      ]
     },
     "metadata": {},
     "output_type": "display_data"
    },
    {
     "data": {
      "application/vnd.jupyter.widget-view+json": {
       "model_id": "",
       "version_major": 2,
       "version_minor": 0
      },
      "text/plain": [
       "HBox(children=(IntProgress(value=0, description='Equilibrate sweep', style=ProgressStyle(description_width='in…"
      ]
     },
     "metadata": {},
     "output_type": "display_data"
    },
    {
     "data": {
      "application/vnd.jupyter.widget-view+json": {
       "model_id": "",
       "version_major": 2,
       "version_minor": 0
      },
      "text/plain": [
       "HBox(children=(IntProgress(value=0, description='Measurement sweep', max=1000, style=ProgressStyle(description…"
      ]
     },
     "metadata": {},
     "output_type": "display_data"
    },
    {
     "data": {
      "application/vnd.jupyter.widget-view+json": {
       "model_id": "",
       "version_major": 2,
       "version_minor": 0
      },
      "text/plain": [
       "HBox(children=(IntProgress(value=0, description='Col', max=10, style=ProgressStyle(description_width='initial'…"
      ]
     },
     "metadata": {},
     "output_type": "display_data"
    },
    {
     "data": {
      "application/vnd.jupyter.widget-view+json": {
       "model_id": "",
       "version_major": 2,
       "version_minor": 0
      },
      "text/plain": [
       "HBox(children=(IntProgress(value=0, description='Equilibrate sweep', style=ProgressStyle(description_width='in…"
      ]
     },
     "metadata": {},
     "output_type": "display_data"
    },
    {
     "data": {
      "application/vnd.jupyter.widget-view+json": {
       "model_id": "",
       "version_major": 2,
       "version_minor": 0
      },
      "text/plain": [
       "HBox(children=(IntProgress(value=0, description='Measurement sweep', max=1000, style=ProgressStyle(description…"
      ]
     },
     "metadata": {},
     "output_type": "display_data"
    },
    {
     "data": {
      "application/vnd.jupyter.widget-view+json": {
       "model_id": "",
       "version_major": 2,
       "version_minor": 0
      },
      "text/plain": [
       "HBox(children=(IntProgress(value=0, description='Equilibrate sweep', style=ProgressStyle(description_width='in…"
      ]
     },
     "metadata": {},
     "output_type": "display_data"
    },
    {
     "data": {
      "application/vnd.jupyter.widget-view+json": {
       "model_id": "",
       "version_major": 2,
       "version_minor": 0
      },
      "text/plain": [
       "HBox(children=(IntProgress(value=0, description='Measurement sweep', max=1000, style=ProgressStyle(description…"
      ]
     },
     "metadata": {},
     "output_type": "display_data"
    },
    {
     "data": {
      "application/vnd.jupyter.widget-view+json": {
       "model_id": "",
       "version_major": 2,
       "version_minor": 0
      },
      "text/plain": [
       "HBox(children=(IntProgress(value=0, description='Equilibrate sweep', style=ProgressStyle(description_width='in…"
      ]
     },
     "metadata": {},
     "output_type": "display_data"
    },
    {
     "data": {
      "application/vnd.jupyter.widget-view+json": {
       "model_id": "",
       "version_major": 2,
       "version_minor": 0
      },
      "text/plain": [
       "HBox(children=(IntProgress(value=0, description='Measurement sweep', max=1000, style=ProgressStyle(description…"
      ]
     },
     "metadata": {},
     "output_type": "display_data"
    },
    {
     "data": {
      "application/vnd.jupyter.widget-view+json": {
       "model_id": "",
       "version_major": 2,
       "version_minor": 0
      },
      "text/plain": [
       "HBox(children=(IntProgress(value=0, description='Equilibrate sweep', style=ProgressStyle(description_width='in…"
      ]
     },
     "metadata": {},
     "output_type": "display_data"
    },
    {
     "data": {
      "application/vnd.jupyter.widget-view+json": {
       "model_id": "",
       "version_major": 2,
       "version_minor": 0
      },
      "text/plain": [
       "HBox(children=(IntProgress(value=0, description='Measurement sweep', max=1000, style=ProgressStyle(description…"
      ]
     },
     "metadata": {},
     "output_type": "display_data"
    },
    {
     "data": {
      "application/vnd.jupyter.widget-view+json": {
       "model_id": "",
       "version_major": 2,
       "version_minor": 0
      },
      "text/plain": [
       "HBox(children=(IntProgress(value=0, description='Equilibrate sweep', style=ProgressStyle(description_width='in…"
      ]
     },
     "metadata": {},
     "output_type": "display_data"
    },
    {
     "data": {
      "application/vnd.jupyter.widget-view+json": {
       "model_id": "",
       "version_major": 2,
       "version_minor": 0
      },
      "text/plain": [
       "HBox(children=(IntProgress(value=0, description='Measurement sweep', max=1000, style=ProgressStyle(description…"
      ]
     },
     "metadata": {},
     "output_type": "display_data"
    },
    {
     "data": {
      "application/vnd.jupyter.widget-view+json": {
       "model_id": "",
       "version_major": 2,
       "version_minor": 0
      },
      "text/plain": [
       "HBox(children=(IntProgress(value=0, description='Equilibrate sweep', style=ProgressStyle(description_width='in…"
      ]
     },
     "metadata": {},
     "output_type": "display_data"
    },
    {
     "data": {
      "application/vnd.jupyter.widget-view+json": {
       "model_id": "",
       "version_major": 2,
       "version_minor": 0
      },
      "text/plain": [
       "HBox(children=(IntProgress(value=0, description='Measurement sweep', max=1000, style=ProgressStyle(description…"
      ]
     },
     "metadata": {},
     "output_type": "display_data"
    },
    {
     "data": {
      "application/vnd.jupyter.widget-view+json": {
       "model_id": "",
       "version_major": 2,
       "version_minor": 0
      },
      "text/plain": [
       "HBox(children=(IntProgress(value=0, description='Equilibrate sweep', style=ProgressStyle(description_width='in…"
      ]
     },
     "metadata": {},
     "output_type": "display_data"
    },
    {
     "data": {
      "application/vnd.jupyter.widget-view+json": {
       "model_id": "",
       "version_major": 2,
       "version_minor": 0
      },
      "text/plain": [
       "HBox(children=(IntProgress(value=0, description='Measurement sweep', max=1000, style=ProgressStyle(description…"
      ]
     },
     "metadata": {},
     "output_type": "display_data"
    },
    {
     "data": {
      "application/vnd.jupyter.widget-view+json": {
       "model_id": "",
       "version_major": 2,
       "version_minor": 0
      },
      "text/plain": [
       "HBox(children=(IntProgress(value=0, description='Equilibrate sweep', style=ProgressStyle(description_width='in…"
      ]
     },
     "metadata": {},
     "output_type": "display_data"
    },
    {
     "data": {
      "application/vnd.jupyter.widget-view+json": {
       "model_id": "",
       "version_major": 2,
       "version_minor": 0
      },
      "text/plain": [
       "HBox(children=(IntProgress(value=0, description='Measurement sweep', max=1000, style=ProgressStyle(description…"
      ]
     },
     "metadata": {},
     "output_type": "display_data"
    },
    {
     "data": {
      "application/vnd.jupyter.widget-view+json": {
       "model_id": "",
       "version_major": 2,
       "version_minor": 0
      },
      "text/plain": [
       "HBox(children=(IntProgress(value=0, description='Equilibrate sweep', style=ProgressStyle(description_width='in…"
      ]
     },
     "metadata": {},
     "output_type": "display_data"
    },
    {
     "data": {
      "application/vnd.jupyter.widget-view+json": {
       "model_id": "",
       "version_major": 2,
       "version_minor": 0
      },
      "text/plain": [
       "HBox(children=(IntProgress(value=0, description='Measurement sweep', max=1000, style=ProgressStyle(description…"
      ]
     },
     "metadata": {},
     "output_type": "display_data"
    },
    {
     "data": {
      "application/vnd.jupyter.widget-view+json": {
       "model_id": "",
       "version_major": 2,
       "version_minor": 0
      },
      "text/plain": [
       "HBox(children=(IntProgress(value=0, description='Equilibrate sweep', style=ProgressStyle(description_width='in…"
      ]
     },
     "metadata": {},
     "output_type": "display_data"
    },
    {
     "data": {
      "application/vnd.jupyter.widget-view+json": {
       "model_id": "",
       "version_major": 2,
       "version_minor": 0
      },
      "text/plain": [
       "HBox(children=(IntProgress(value=0, description='Measurement sweep', max=1000, style=ProgressStyle(description…"
      ]
     },
     "metadata": {},
     "output_type": "display_data"
    },
    {
     "data": {
      "application/vnd.jupyter.widget-view+json": {
       "model_id": "",
       "version_major": 2,
       "version_minor": 0
      },
      "text/plain": [
       "HBox(children=(IntProgress(value=0, description='Col', max=10, style=ProgressStyle(description_width='initial'…"
      ]
     },
     "metadata": {},
     "output_type": "display_data"
    },
    {
     "data": {
      "application/vnd.jupyter.widget-view+json": {
       "model_id": "",
       "version_major": 2,
       "version_minor": 0
      },
      "text/plain": [
       "HBox(children=(IntProgress(value=0, description='Equilibrate sweep', style=ProgressStyle(description_width='in…"
      ]
     },
     "metadata": {},
     "output_type": "display_data"
    },
    {
     "data": {
      "application/vnd.jupyter.widget-view+json": {
       "model_id": "",
       "version_major": 2,
       "version_minor": 0
      },
      "text/plain": [
       "HBox(children=(IntProgress(value=0, description='Measurement sweep', max=1000, style=ProgressStyle(description…"
      ]
     },
     "metadata": {},
     "output_type": "display_data"
    },
    {
     "data": {
      "application/vnd.jupyter.widget-view+json": {
       "model_id": "",
       "version_major": 2,
       "version_minor": 0
      },
      "text/plain": [
       "HBox(children=(IntProgress(value=0, description='Equilibrate sweep', style=ProgressStyle(description_width='in…"
      ]
     },
     "metadata": {},
     "output_type": "display_data"
    },
    {
     "data": {
      "application/vnd.jupyter.widget-view+json": {
       "model_id": "",
       "version_major": 2,
       "version_minor": 0
      },
      "text/plain": [
       "HBox(children=(IntProgress(value=0, description='Measurement sweep', max=1000, style=ProgressStyle(description…"
      ]
     },
     "metadata": {},
     "output_type": "display_data"
    },
    {
     "data": {
      "application/vnd.jupyter.widget-view+json": {
       "model_id": "",
       "version_major": 2,
       "version_minor": 0
      },
      "text/plain": [
       "HBox(children=(IntProgress(value=0, description='Equilibrate sweep', style=ProgressStyle(description_width='in…"
      ]
     },
     "metadata": {},
     "output_type": "display_data"
    },
    {
     "data": {
      "application/vnd.jupyter.widget-view+json": {
       "model_id": "",
       "version_major": 2,
       "version_minor": 0
      },
      "text/plain": [
       "HBox(children=(IntProgress(value=0, description='Measurement sweep', max=1000, style=ProgressStyle(description…"
      ]
     },
     "metadata": {},
     "output_type": "display_data"
    },
    {
     "data": {
      "application/vnd.jupyter.widget-view+json": {
       "model_id": "",
       "version_major": 2,
       "version_minor": 0
      },
      "text/plain": [
       "HBox(children=(IntProgress(value=0, description='Equilibrate sweep', style=ProgressStyle(description_width='in…"
      ]
     },
     "metadata": {},
     "output_type": "display_data"
    },
    {
     "data": {
      "application/vnd.jupyter.widget-view+json": {
       "model_id": "",
       "version_major": 2,
       "version_minor": 0
      },
      "text/plain": [
       "HBox(children=(IntProgress(value=0, description='Measurement sweep', max=1000, style=ProgressStyle(description…"
      ]
     },
     "metadata": {},
     "output_type": "display_data"
    },
    {
     "data": {
      "application/vnd.jupyter.widget-view+json": {
       "model_id": "",
       "version_major": 2,
       "version_minor": 0
      },
      "text/plain": [
       "HBox(children=(IntProgress(value=0, description='Equilibrate sweep', style=ProgressStyle(description_width='in…"
      ]
     },
     "metadata": {},
     "output_type": "display_data"
    },
    {
     "data": {
      "application/vnd.jupyter.widget-view+json": {
       "model_id": "",
       "version_major": 2,
       "version_minor": 0
      },
      "text/plain": [
       "HBox(children=(IntProgress(value=0, description='Measurement sweep', max=1000, style=ProgressStyle(description…"
      ]
     },
     "metadata": {},
     "output_type": "display_data"
    },
    {
     "data": {
      "application/vnd.jupyter.widget-view+json": {
       "model_id": "",
       "version_major": 2,
       "version_minor": 0
      },
      "text/plain": [
       "HBox(children=(IntProgress(value=0, description='Equilibrate sweep', style=ProgressStyle(description_width='in…"
      ]
     },
     "metadata": {},
     "output_type": "display_data"
    },
    {
     "data": {
      "application/vnd.jupyter.widget-view+json": {
       "model_id": "",
       "version_major": 2,
       "version_minor": 0
      },
      "text/plain": [
       "HBox(children=(IntProgress(value=0, description='Measurement sweep', max=1000, style=ProgressStyle(description…"
      ]
     },
     "metadata": {},
     "output_type": "display_data"
    },
    {
     "data": {
      "application/vnd.jupyter.widget-view+json": {
       "model_id": "",
       "version_major": 2,
       "version_minor": 0
      },
      "text/plain": [
       "HBox(children=(IntProgress(value=0, description='Equilibrate sweep', style=ProgressStyle(description_width='in…"
      ]
     },
     "metadata": {},
     "output_type": "display_data"
    },
    {
     "data": {
      "application/vnd.jupyter.widget-view+json": {
       "model_id": "",
       "version_major": 2,
       "version_minor": 0
      },
      "text/plain": [
       "HBox(children=(IntProgress(value=0, description='Measurement sweep', max=1000, style=ProgressStyle(description…"
      ]
     },
     "metadata": {},
     "output_type": "display_data"
    },
    {
     "data": {
      "application/vnd.jupyter.widget-view+json": {
       "model_id": "",
       "version_major": 2,
       "version_minor": 0
      },
      "text/plain": [
       "HBox(children=(IntProgress(value=0, description='Equilibrate sweep', style=ProgressStyle(description_width='in…"
      ]
     },
     "metadata": {},
     "output_type": "display_data"
    },
    {
     "data": {
      "application/vnd.jupyter.widget-view+json": {
       "model_id": "",
       "version_major": 2,
       "version_minor": 0
      },
      "text/plain": [
       "HBox(children=(IntProgress(value=0, description='Measurement sweep', max=1000, style=ProgressStyle(description…"
      ]
     },
     "metadata": {},
     "output_type": "display_data"
    },
    {
     "data": {
      "application/vnd.jupyter.widget-view+json": {
       "model_id": "",
       "version_major": 2,
       "version_minor": 0
      },
      "text/plain": [
       "HBox(children=(IntProgress(value=0, description='Equilibrate sweep', style=ProgressStyle(description_width='in…"
      ]
     },
     "metadata": {},
     "output_type": "display_data"
    },
    {
     "data": {
      "application/vnd.jupyter.widget-view+json": {
       "model_id": "",
       "version_major": 2,
       "version_minor": 0
      },
      "text/plain": [
       "HBox(children=(IntProgress(value=0, description='Measurement sweep', max=1000, style=ProgressStyle(description…"
      ]
     },
     "metadata": {},
     "output_type": "display_data"
    },
    {
     "data": {
      "application/vnd.jupyter.widget-view+json": {
       "model_id": "",
       "version_major": 2,
       "version_minor": 0
      },
      "text/plain": [
       "HBox(children=(IntProgress(value=0, description='Equilibrate sweep', style=ProgressStyle(description_width='in…"
      ]
     },
     "metadata": {},
     "output_type": "display_data"
    },
    {
     "data": {
      "application/vnd.jupyter.widget-view+json": {
       "model_id": "",
       "version_major": 2,
       "version_minor": 0
      },
      "text/plain": [
       "HBox(children=(IntProgress(value=0, description='Measurement sweep', max=1000, style=ProgressStyle(description…"
      ]
     },
     "metadata": {},
     "output_type": "display_data"
    },
    {
     "data": {
      "application/vnd.jupyter.widget-view+json": {
       "model_id": "",
       "version_major": 2,
       "version_minor": 0
      },
      "text/plain": [
       "HBox(children=(IntProgress(value=0, description='Col', max=10, style=ProgressStyle(description_width='initial'…"
      ]
     },
     "metadata": {},
     "output_type": "display_data"
    },
    {
     "data": {
      "application/vnd.jupyter.widget-view+json": {
       "model_id": "",
       "version_major": 2,
       "version_minor": 0
      },
      "text/plain": [
       "HBox(children=(IntProgress(value=0, description='Equilibrate sweep', style=ProgressStyle(description_width='in…"
      ]
     },
     "metadata": {},
     "output_type": "display_data"
    },
    {
     "data": {
      "application/vnd.jupyter.widget-view+json": {
       "model_id": "",
       "version_major": 2,
       "version_minor": 0
      },
      "text/plain": [
       "HBox(children=(IntProgress(value=0, description='Measurement sweep', max=1000, style=ProgressStyle(description…"
      ]
     },
     "metadata": {},
     "output_type": "display_data"
    },
    {
     "data": {
      "application/vnd.jupyter.widget-view+json": {
       "model_id": "",
       "version_major": 2,
       "version_minor": 0
      },
      "text/plain": [
       "HBox(children=(IntProgress(value=0, description='Equilibrate sweep', style=ProgressStyle(description_width='in…"
      ]
     },
     "metadata": {},
     "output_type": "display_data"
    },
    {
     "data": {
      "application/vnd.jupyter.widget-view+json": {
       "model_id": "",
       "version_major": 2,
       "version_minor": 0
      },
      "text/plain": [
       "HBox(children=(IntProgress(value=0, description='Measurement sweep', max=1000, style=ProgressStyle(description…"
      ]
     },
     "metadata": {},
     "output_type": "display_data"
    },
    {
     "data": {
      "application/vnd.jupyter.widget-view+json": {
       "model_id": "",
       "version_major": 2,
       "version_minor": 0
      },
      "text/plain": [
       "HBox(children=(IntProgress(value=0, description='Equilibrate sweep', style=ProgressStyle(description_width='in…"
      ]
     },
     "metadata": {},
     "output_type": "display_data"
    },
    {
     "data": {
      "application/vnd.jupyter.widget-view+json": {
       "model_id": "",
       "version_major": 2,
       "version_minor": 0
      },
      "text/plain": [
       "HBox(children=(IntProgress(value=0, description='Measurement sweep', max=1000, style=ProgressStyle(description…"
      ]
     },
     "metadata": {},
     "output_type": "display_data"
    },
    {
     "data": {
      "application/vnd.jupyter.widget-view+json": {
       "model_id": "",
       "version_major": 2,
       "version_minor": 0
      },
      "text/plain": [
       "HBox(children=(IntProgress(value=0, description='Equilibrate sweep', style=ProgressStyle(description_width='in…"
      ]
     },
     "metadata": {},
     "output_type": "display_data"
    },
    {
     "data": {
      "application/vnd.jupyter.widget-view+json": {
       "model_id": "",
       "version_major": 2,
       "version_minor": 0
      },
      "text/plain": [
       "HBox(children=(IntProgress(value=0, description='Measurement sweep', max=1000, style=ProgressStyle(description…"
      ]
     },
     "metadata": {},
     "output_type": "display_data"
    },
    {
     "data": {
      "application/vnd.jupyter.widget-view+json": {
       "model_id": "",
       "version_major": 2,
       "version_minor": 0
      },
      "text/plain": [
       "HBox(children=(IntProgress(value=0, description='Equilibrate sweep', style=ProgressStyle(description_width='in…"
      ]
     },
     "metadata": {},
     "output_type": "display_data"
    },
    {
     "data": {
      "application/vnd.jupyter.widget-view+json": {
       "model_id": "",
       "version_major": 2,
       "version_minor": 0
      },
      "text/plain": [
       "HBox(children=(IntProgress(value=0, description='Measurement sweep', max=1000, style=ProgressStyle(description…"
      ]
     },
     "metadata": {},
     "output_type": "display_data"
    },
    {
     "data": {
      "application/vnd.jupyter.widget-view+json": {
       "model_id": "",
       "version_major": 2,
       "version_minor": 0
      },
      "text/plain": [
       "HBox(children=(IntProgress(value=0, description='Equilibrate sweep', style=ProgressStyle(description_width='in…"
      ]
     },
     "metadata": {},
     "output_type": "display_data"
    },
    {
     "data": {
      "application/vnd.jupyter.widget-view+json": {
       "model_id": "",
       "version_major": 2,
       "version_minor": 0
      },
      "text/plain": [
       "HBox(children=(IntProgress(value=0, description='Measurement sweep', max=1000, style=ProgressStyle(description…"
      ]
     },
     "metadata": {},
     "output_type": "display_data"
    },
    {
     "data": {
      "application/vnd.jupyter.widget-view+json": {
       "model_id": "",
       "version_major": 2,
       "version_minor": 0
      },
      "text/plain": [
       "HBox(children=(IntProgress(value=0, description='Equilibrate sweep', style=ProgressStyle(description_width='in…"
      ]
     },
     "metadata": {},
     "output_type": "display_data"
    },
    {
     "data": {
      "application/vnd.jupyter.widget-view+json": {
       "model_id": "",
       "version_major": 2,
       "version_minor": 0
      },
      "text/plain": [
       "HBox(children=(IntProgress(value=0, description='Measurement sweep', max=1000, style=ProgressStyle(description…"
      ]
     },
     "metadata": {},
     "output_type": "display_data"
    },
    {
     "data": {
      "application/vnd.jupyter.widget-view+json": {
       "model_id": "",
       "version_major": 2,
       "version_minor": 0
      },
      "text/plain": [
       "HBox(children=(IntProgress(value=0, description='Equilibrate sweep', style=ProgressStyle(description_width='in…"
      ]
     },
     "metadata": {},
     "output_type": "display_data"
    },
    {
     "data": {
      "application/vnd.jupyter.widget-view+json": {
       "model_id": "",
       "version_major": 2,
       "version_minor": 0
      },
      "text/plain": [
       "HBox(children=(IntProgress(value=0, description='Measurement sweep', max=1000, style=ProgressStyle(description…"
      ]
     },
     "metadata": {},
     "output_type": "display_data"
    },
    {
     "data": {
      "application/vnd.jupyter.widget-view+json": {
       "model_id": "",
       "version_major": 2,
       "version_minor": 0
      },
      "text/plain": [
       "HBox(children=(IntProgress(value=0, description='Equilibrate sweep', style=ProgressStyle(description_width='in…"
      ]
     },
     "metadata": {},
     "output_type": "display_data"
    },
    {
     "data": {
      "application/vnd.jupyter.widget-view+json": {
       "model_id": "",
       "version_major": 2,
       "version_minor": 0
      },
      "text/plain": [
       "HBox(children=(IntProgress(value=0, description='Measurement sweep', max=1000, style=ProgressStyle(description…"
      ]
     },
     "metadata": {},
     "output_type": "display_data"
    },
    {
     "data": {
      "application/vnd.jupyter.widget-view+json": {
       "model_id": "",
       "version_major": 2,
       "version_minor": 0
      },
      "text/plain": [
       "HBox(children=(IntProgress(value=0, description='Equilibrate sweep', style=ProgressStyle(description_width='in…"
      ]
     },
     "metadata": {},
     "output_type": "display_data"
    },
    {
     "data": {
      "application/vnd.jupyter.widget-view+json": {
       "model_id": "",
       "version_major": 2,
       "version_minor": 0
      },
      "text/plain": [
       "HBox(children=(IntProgress(value=0, description='Measurement sweep', max=1000, style=ProgressStyle(description…"
      ]
     },
     "metadata": {},
     "output_type": "display_data"
    },
    {
     "data": {
      "application/vnd.jupyter.widget-view+json": {
       "model_id": "",
       "version_major": 2,
       "version_minor": 0
      },
      "text/plain": [
       "HBox(children=(IntProgress(value=0, description='Col', max=10, style=ProgressStyle(description_width='initial'…"
      ]
     },
     "metadata": {},
     "output_type": "display_data"
    },
    {
     "data": {
      "application/vnd.jupyter.widget-view+json": {
       "model_id": "",
       "version_major": 2,
       "version_minor": 0
      },
      "text/plain": [
       "HBox(children=(IntProgress(value=0, description='Equilibrate sweep', style=ProgressStyle(description_width='in…"
      ]
     },
     "metadata": {},
     "output_type": "display_data"
    },
    {
     "data": {
      "application/vnd.jupyter.widget-view+json": {
       "model_id": "",
       "version_major": 2,
       "version_minor": 0
      },
      "text/plain": [
       "HBox(children=(IntProgress(value=0, description='Measurement sweep', max=1000, style=ProgressStyle(description…"
      ]
     },
     "metadata": {},
     "output_type": "display_data"
    },
    {
     "data": {
      "application/vnd.jupyter.widget-view+json": {
       "model_id": "",
       "version_major": 2,
       "version_minor": 0
      },
      "text/plain": [
       "HBox(children=(IntProgress(value=0, description='Equilibrate sweep', style=ProgressStyle(description_width='in…"
      ]
     },
     "metadata": {},
     "output_type": "display_data"
    },
    {
     "data": {
      "application/vnd.jupyter.widget-view+json": {
       "model_id": "",
       "version_major": 2,
       "version_minor": 0
      },
      "text/plain": [
       "HBox(children=(IntProgress(value=0, description='Measurement sweep', max=1000, style=ProgressStyle(description…"
      ]
     },
     "metadata": {},
     "output_type": "display_data"
    },
    {
     "data": {
      "application/vnd.jupyter.widget-view+json": {
       "model_id": "",
       "version_major": 2,
       "version_minor": 0
      },
      "text/plain": [
       "HBox(children=(IntProgress(value=0, description='Equilibrate sweep', style=ProgressStyle(description_width='in…"
      ]
     },
     "metadata": {},
     "output_type": "display_data"
    },
    {
     "data": {
      "application/vnd.jupyter.widget-view+json": {
       "model_id": "",
       "version_major": 2,
       "version_minor": 0
      },
      "text/plain": [
       "HBox(children=(IntProgress(value=0, description='Measurement sweep', max=1000, style=ProgressStyle(description…"
      ]
     },
     "metadata": {},
     "output_type": "display_data"
    },
    {
     "data": {
      "application/vnd.jupyter.widget-view+json": {
       "model_id": "",
       "version_major": 2,
       "version_minor": 0
      },
      "text/plain": [
       "HBox(children=(IntProgress(value=0, description='Equilibrate sweep', style=ProgressStyle(description_width='in…"
      ]
     },
     "metadata": {},
     "output_type": "display_data"
    },
    {
     "data": {
      "application/vnd.jupyter.widget-view+json": {
       "model_id": "",
       "version_major": 2,
       "version_minor": 0
      },
      "text/plain": [
       "HBox(children=(IntProgress(value=0, description='Measurement sweep', max=1000, style=ProgressStyle(description…"
      ]
     },
     "metadata": {},
     "output_type": "display_data"
    },
    {
     "data": {
      "application/vnd.jupyter.widget-view+json": {
       "model_id": "",
       "version_major": 2,
       "version_minor": 0
      },
      "text/plain": [
       "HBox(children=(IntProgress(value=0, description='Equilibrate sweep', style=ProgressStyle(description_width='in…"
      ]
     },
     "metadata": {},
     "output_type": "display_data"
    },
    {
     "data": {
      "application/vnd.jupyter.widget-view+json": {
       "model_id": "",
       "version_major": 2,
       "version_minor": 0
      },
      "text/plain": [
       "HBox(children=(IntProgress(value=0, description='Measurement sweep', max=1000, style=ProgressStyle(description…"
      ]
     },
     "metadata": {},
     "output_type": "display_data"
    },
    {
     "data": {
      "application/vnd.jupyter.widget-view+json": {
       "model_id": "",
       "version_major": 2,
       "version_minor": 0
      },
      "text/plain": [
       "HBox(children=(IntProgress(value=0, description='Equilibrate sweep', style=ProgressStyle(description_width='in…"
      ]
     },
     "metadata": {},
     "output_type": "display_data"
    },
    {
     "data": {
      "application/vnd.jupyter.widget-view+json": {
       "model_id": "",
       "version_major": 2,
       "version_minor": 0
      },
      "text/plain": [
       "HBox(children=(IntProgress(value=0, description='Measurement sweep', max=1000, style=ProgressStyle(description…"
      ]
     },
     "metadata": {},
     "output_type": "display_data"
    },
    {
     "data": {
      "application/vnd.jupyter.widget-view+json": {
       "model_id": "",
       "version_major": 2,
       "version_minor": 0
      },
      "text/plain": [
       "HBox(children=(IntProgress(value=0, description='Equilibrate sweep', style=ProgressStyle(description_width='in…"
      ]
     },
     "metadata": {},
     "output_type": "display_data"
    },
    {
     "data": {
      "application/vnd.jupyter.widget-view+json": {
       "model_id": "",
       "version_major": 2,
       "version_minor": 0
      },
      "text/plain": [
       "HBox(children=(IntProgress(value=0, description='Measurement sweep', max=1000, style=ProgressStyle(description…"
      ]
     },
     "metadata": {},
     "output_type": "display_data"
    },
    {
     "data": {
      "application/vnd.jupyter.widget-view+json": {
       "model_id": "",
       "version_major": 2,
       "version_minor": 0
      },
      "text/plain": [
       "HBox(children=(IntProgress(value=0, description='Equilibrate sweep', style=ProgressStyle(description_width='in…"
      ]
     },
     "metadata": {},
     "output_type": "display_data"
    },
    {
     "data": {
      "application/vnd.jupyter.widget-view+json": {
       "model_id": "",
       "version_major": 2,
       "version_minor": 0
      },
      "text/plain": [
       "HBox(children=(IntProgress(value=0, description='Measurement sweep', max=1000, style=ProgressStyle(description…"
      ]
     },
     "metadata": {},
     "output_type": "display_data"
    },
    {
     "data": {
      "application/vnd.jupyter.widget-view+json": {
       "model_id": "",
       "version_major": 2,
       "version_minor": 0
      },
      "text/plain": [
       "HBox(children=(IntProgress(value=0, description='Equilibrate sweep', style=ProgressStyle(description_width='in…"
      ]
     },
     "metadata": {},
     "output_type": "display_data"
    },
    {
     "data": {
      "application/vnd.jupyter.widget-view+json": {
       "model_id": "",
       "version_major": 2,
       "version_minor": 0
      },
      "text/plain": [
       "HBox(children=(IntProgress(value=0, description='Measurement sweep', max=1000, style=ProgressStyle(description…"
      ]
     },
     "metadata": {},
     "output_type": "display_data"
    },
    {
     "data": {
      "application/vnd.jupyter.widget-view+json": {
       "model_id": "",
       "version_major": 2,
       "version_minor": 0
      },
      "text/plain": [
       "HBox(children=(IntProgress(value=0, description='Equilibrate sweep', style=ProgressStyle(description_width='in…"
      ]
     },
     "metadata": {},
     "output_type": "display_data"
    },
    {
     "data": {
      "application/vnd.jupyter.widget-view+json": {
       "model_id": "",
       "version_major": 2,
       "version_minor": 0
      },
      "text/plain": [
       "HBox(children=(IntProgress(value=0, description='Measurement sweep', max=1000, style=ProgressStyle(description…"
      ]
     },
     "metadata": {},
     "output_type": "display_data"
    },
    {
     "name": "stdout",
     "output_type": "stream",
     "text": [
      "\r"
     ]
    },
    {
     "data": {
      "application/javascript": [
       "/* Put everything inside the global mpl namespace */\n",
       "window.mpl = {};\n",
       "\n",
       "\n",
       "mpl.get_websocket_type = function() {\n",
       "    if (typeof(WebSocket) !== 'undefined') {\n",
       "        return WebSocket;\n",
       "    } else if (typeof(MozWebSocket) !== 'undefined') {\n",
       "        return MozWebSocket;\n",
       "    } else {\n",
       "        alert('Your browser does not have WebSocket support.' +\n",
       "              'Please try Chrome, Safari or Firefox ≥ 6. ' +\n",
       "              'Firefox 4 and 5 are also supported but you ' +\n",
       "              'have to enable WebSockets in about:config.');\n",
       "    };\n",
       "}\n",
       "\n",
       "mpl.figure = function(figure_id, websocket, ondownload, parent_element) {\n",
       "    this.id = figure_id;\n",
       "\n",
       "    this.ws = websocket;\n",
       "\n",
       "    this.supports_binary = (this.ws.binaryType != undefined);\n",
       "\n",
       "    if (!this.supports_binary) {\n",
       "        var warnings = document.getElementById(\"mpl-warnings\");\n",
       "        if (warnings) {\n",
       "            warnings.style.display = 'block';\n",
       "            warnings.textContent = (\n",
       "                \"This browser does not support binary websocket messages. \" +\n",
       "                    \"Performance may be slow.\");\n",
       "        }\n",
       "    }\n",
       "\n",
       "    this.imageObj = new Image();\n",
       "\n",
       "    this.context = undefined;\n",
       "    this.message = undefined;\n",
       "    this.canvas = undefined;\n",
       "    this.rubberband_canvas = undefined;\n",
       "    this.rubberband_context = undefined;\n",
       "    this.format_dropdown = undefined;\n",
       "\n",
       "    this.image_mode = 'full';\n",
       "\n",
       "    this.root = $('<div/>');\n",
       "    this._root_extra_style(this.root)\n",
       "    this.root.attr('style', 'display: inline-block');\n",
       "\n",
       "    $(parent_element).append(this.root);\n",
       "\n",
       "    this._init_header(this);\n",
       "    this._init_canvas(this);\n",
       "    this._init_toolbar(this);\n",
       "\n",
       "    var fig = this;\n",
       "\n",
       "    this.waiting = false;\n",
       "\n",
       "    this.ws.onopen =  function () {\n",
       "            fig.send_message(\"supports_binary\", {value: fig.supports_binary});\n",
       "            fig.send_message(\"send_image_mode\", {});\n",
       "            if (mpl.ratio != 1) {\n",
       "                fig.send_message(\"set_dpi_ratio\", {'dpi_ratio': mpl.ratio});\n",
       "            }\n",
       "            fig.send_message(\"refresh\", {});\n",
       "        }\n",
       "\n",
       "    this.imageObj.onload = function() {\n",
       "            if (fig.image_mode == 'full') {\n",
       "                // Full images could contain transparency (where diff images\n",
       "                // almost always do), so we need to clear the canvas so that\n",
       "                // there is no ghosting.\n",
       "                fig.context.clearRect(0, 0, fig.canvas.width, fig.canvas.height);\n",
       "            }\n",
       "            fig.context.drawImage(fig.imageObj, 0, 0);\n",
       "        };\n",
       "\n",
       "    this.imageObj.onunload = function() {\n",
       "        fig.ws.close();\n",
       "    }\n",
       "\n",
       "    this.ws.onmessage = this._make_on_message_function(this);\n",
       "\n",
       "    this.ondownload = ondownload;\n",
       "}\n",
       "\n",
       "mpl.figure.prototype._init_header = function() {\n",
       "    var titlebar = $(\n",
       "        '<div class=\"ui-dialog-titlebar ui-widget-header ui-corner-all ' +\n",
       "        'ui-helper-clearfix\"/>');\n",
       "    var titletext = $(\n",
       "        '<div class=\"ui-dialog-title\" style=\"width: 100%; ' +\n",
       "        'text-align: center; padding: 3px;\"/>');\n",
       "    titlebar.append(titletext)\n",
       "    this.root.append(titlebar);\n",
       "    this.header = titletext[0];\n",
       "}\n",
       "\n",
       "\n",
       "\n",
       "mpl.figure.prototype._canvas_extra_style = function(canvas_div) {\n",
       "\n",
       "}\n",
       "\n",
       "\n",
       "mpl.figure.prototype._root_extra_style = function(canvas_div) {\n",
       "\n",
       "}\n",
       "\n",
       "mpl.figure.prototype._init_canvas = function() {\n",
       "    var fig = this;\n",
       "\n",
       "    var canvas_div = $('<div/>');\n",
       "\n",
       "    canvas_div.attr('style', 'position: relative; clear: both; outline: 0');\n",
       "\n",
       "    function canvas_keyboard_event(event) {\n",
       "        return fig.key_event(event, event['data']);\n",
       "    }\n",
       "\n",
       "    canvas_div.keydown('key_press', canvas_keyboard_event);\n",
       "    canvas_div.keyup('key_release', canvas_keyboard_event);\n",
       "    this.canvas_div = canvas_div\n",
       "    this._canvas_extra_style(canvas_div)\n",
       "    this.root.append(canvas_div);\n",
       "\n",
       "    var canvas = $('<canvas/>');\n",
       "    canvas.addClass('mpl-canvas');\n",
       "    canvas.attr('style', \"left: 0; top: 0; z-index: 0; outline: 0\")\n",
       "\n",
       "    this.canvas = canvas[0];\n",
       "    this.context = canvas[0].getContext(\"2d\");\n",
       "\n",
       "    var backingStore = this.context.backingStorePixelRatio ||\n",
       "\tthis.context.webkitBackingStorePixelRatio ||\n",
       "\tthis.context.mozBackingStorePixelRatio ||\n",
       "\tthis.context.msBackingStorePixelRatio ||\n",
       "\tthis.context.oBackingStorePixelRatio ||\n",
       "\tthis.context.backingStorePixelRatio || 1;\n",
       "\n",
       "    mpl.ratio = (window.devicePixelRatio || 1) / backingStore;\n",
       "\n",
       "    var rubberband = $('<canvas/>');\n",
       "    rubberband.attr('style', \"position: absolute; left: 0; top: 0; z-index: 1;\")\n",
       "\n",
       "    var pass_mouse_events = true;\n",
       "\n",
       "    canvas_div.resizable({\n",
       "        start: function(event, ui) {\n",
       "            pass_mouse_events = false;\n",
       "        },\n",
       "        resize: function(event, ui) {\n",
       "            fig.request_resize(ui.size.width, ui.size.height);\n",
       "        },\n",
       "        stop: function(event, ui) {\n",
       "            pass_mouse_events = true;\n",
       "            fig.request_resize(ui.size.width, ui.size.height);\n",
       "        },\n",
       "    });\n",
       "\n",
       "    function mouse_event_fn(event) {\n",
       "        if (pass_mouse_events)\n",
       "            return fig.mouse_event(event, event['data']);\n",
       "    }\n",
       "\n",
       "    rubberband.mousedown('button_press', mouse_event_fn);\n",
       "    rubberband.mouseup('button_release', mouse_event_fn);\n",
       "    // Throttle sequential mouse events to 1 every 20ms.\n",
       "    rubberband.mousemove('motion_notify', mouse_event_fn);\n",
       "\n",
       "    rubberband.mouseenter('figure_enter', mouse_event_fn);\n",
       "    rubberband.mouseleave('figure_leave', mouse_event_fn);\n",
       "\n",
       "    canvas_div.on(\"wheel\", function (event) {\n",
       "        event = event.originalEvent;\n",
       "        event['data'] = 'scroll'\n",
       "        if (event.deltaY < 0) {\n",
       "            event.step = 1;\n",
       "        } else {\n",
       "            event.step = -1;\n",
       "        }\n",
       "        mouse_event_fn(event);\n",
       "    });\n",
       "\n",
       "    canvas_div.append(canvas);\n",
       "    canvas_div.append(rubberband);\n",
       "\n",
       "    this.rubberband = rubberband;\n",
       "    this.rubberband_canvas = rubberband[0];\n",
       "    this.rubberband_context = rubberband[0].getContext(\"2d\");\n",
       "    this.rubberband_context.strokeStyle = \"#000000\";\n",
       "\n",
       "    this._resize_canvas = function(width, height) {\n",
       "        // Keep the size of the canvas, canvas container, and rubber band\n",
       "        // canvas in synch.\n",
       "        canvas_div.css('width', width)\n",
       "        canvas_div.css('height', height)\n",
       "\n",
       "        canvas.attr('width', width * mpl.ratio);\n",
       "        canvas.attr('height', height * mpl.ratio);\n",
       "        canvas.attr('style', 'width: ' + width + 'px; height: ' + height + 'px;');\n",
       "\n",
       "        rubberband.attr('width', width);\n",
       "        rubberband.attr('height', height);\n",
       "    }\n",
       "\n",
       "    // Set the figure to an initial 600x600px, this will subsequently be updated\n",
       "    // upon first draw.\n",
       "    this._resize_canvas(600, 600);\n",
       "\n",
       "    // Disable right mouse context menu.\n",
       "    $(this.rubberband_canvas).bind(\"contextmenu\",function(e){\n",
       "        return false;\n",
       "    });\n",
       "\n",
       "    function set_focus () {\n",
       "        canvas.focus();\n",
       "        canvas_div.focus();\n",
       "    }\n",
       "\n",
       "    window.setTimeout(set_focus, 100);\n",
       "}\n",
       "\n",
       "mpl.figure.prototype._init_toolbar = function() {\n",
       "    var fig = this;\n",
       "\n",
       "    var nav_element = $('<div/>')\n",
       "    nav_element.attr('style', 'width: 100%');\n",
       "    this.root.append(nav_element);\n",
       "\n",
       "    // Define a callback function for later on.\n",
       "    function toolbar_event(event) {\n",
       "        return fig.toolbar_button_onclick(event['data']);\n",
       "    }\n",
       "    function toolbar_mouse_event(event) {\n",
       "        return fig.toolbar_button_onmouseover(event['data']);\n",
       "    }\n",
       "\n",
       "    for(var toolbar_ind in mpl.toolbar_items) {\n",
       "        var name = mpl.toolbar_items[toolbar_ind][0];\n",
       "        var tooltip = mpl.toolbar_items[toolbar_ind][1];\n",
       "        var image = mpl.toolbar_items[toolbar_ind][2];\n",
       "        var method_name = mpl.toolbar_items[toolbar_ind][3];\n",
       "\n",
       "        if (!name) {\n",
       "            // put a spacer in here.\n",
       "            continue;\n",
       "        }\n",
       "        var button = $('<button/>');\n",
       "        button.addClass('ui-button ui-widget ui-state-default ui-corner-all ' +\n",
       "                        'ui-button-icon-only');\n",
       "        button.attr('role', 'button');\n",
       "        button.attr('aria-disabled', 'false');\n",
       "        button.click(method_name, toolbar_event);\n",
       "        button.mouseover(tooltip, toolbar_mouse_event);\n",
       "\n",
       "        var icon_img = $('<span/>');\n",
       "        icon_img.addClass('ui-button-icon-primary ui-icon');\n",
       "        icon_img.addClass(image);\n",
       "        icon_img.addClass('ui-corner-all');\n",
       "\n",
       "        var tooltip_span = $('<span/>');\n",
       "        tooltip_span.addClass('ui-button-text');\n",
       "        tooltip_span.html(tooltip);\n",
       "\n",
       "        button.append(icon_img);\n",
       "        button.append(tooltip_span);\n",
       "\n",
       "        nav_element.append(button);\n",
       "    }\n",
       "\n",
       "    var fmt_picker_span = $('<span/>');\n",
       "\n",
       "    var fmt_picker = $('<select/>');\n",
       "    fmt_picker.addClass('mpl-toolbar-option ui-widget ui-widget-content');\n",
       "    fmt_picker_span.append(fmt_picker);\n",
       "    nav_element.append(fmt_picker_span);\n",
       "    this.format_dropdown = fmt_picker[0];\n",
       "\n",
       "    for (var ind in mpl.extensions) {\n",
       "        var fmt = mpl.extensions[ind];\n",
       "        var option = $(\n",
       "            '<option/>', {selected: fmt === mpl.default_extension}).html(fmt);\n",
       "        fmt_picker.append(option)\n",
       "    }\n",
       "\n",
       "    // Add hover states to the ui-buttons\n",
       "    $( \".ui-button\" ).hover(\n",
       "        function() { $(this).addClass(\"ui-state-hover\");},\n",
       "        function() { $(this).removeClass(\"ui-state-hover\");}\n",
       "    );\n",
       "\n",
       "    var status_bar = $('<span class=\"mpl-message\"/>');\n",
       "    nav_element.append(status_bar);\n",
       "    this.message = status_bar[0];\n",
       "}\n",
       "\n",
       "mpl.figure.prototype.request_resize = function(x_pixels, y_pixels) {\n",
       "    // Request matplotlib to resize the figure. Matplotlib will then trigger a resize in the client,\n",
       "    // which will in turn request a refresh of the image.\n",
       "    this.send_message('resize', {'width': x_pixels, 'height': y_pixels});\n",
       "}\n",
       "\n",
       "mpl.figure.prototype.send_message = function(type, properties) {\n",
       "    properties['type'] = type;\n",
       "    properties['figure_id'] = this.id;\n",
       "    this.ws.send(JSON.stringify(properties));\n",
       "}\n",
       "\n",
       "mpl.figure.prototype.send_draw_message = function() {\n",
       "    if (!this.waiting) {\n",
       "        this.waiting = true;\n",
       "        this.ws.send(JSON.stringify({type: \"draw\", figure_id: this.id}));\n",
       "    }\n",
       "}\n",
       "\n",
       "\n",
       "mpl.figure.prototype.handle_save = function(fig, msg) {\n",
       "    var format_dropdown = fig.format_dropdown;\n",
       "    var format = format_dropdown.options[format_dropdown.selectedIndex].value;\n",
       "    fig.ondownload(fig, format);\n",
       "}\n",
       "\n",
       "\n",
       "mpl.figure.prototype.handle_resize = function(fig, msg) {\n",
       "    var size = msg['size'];\n",
       "    if (size[0] != fig.canvas.width || size[1] != fig.canvas.height) {\n",
       "        fig._resize_canvas(size[0], size[1]);\n",
       "        fig.send_message(\"refresh\", {});\n",
       "    };\n",
       "}\n",
       "\n",
       "mpl.figure.prototype.handle_rubberband = function(fig, msg) {\n",
       "    var x0 = msg['x0'] / mpl.ratio;\n",
       "    var y0 = (fig.canvas.height - msg['y0']) / mpl.ratio;\n",
       "    var x1 = msg['x1'] / mpl.ratio;\n",
       "    var y1 = (fig.canvas.height - msg['y1']) / mpl.ratio;\n",
       "    x0 = Math.floor(x0) + 0.5;\n",
       "    y0 = Math.floor(y0) + 0.5;\n",
       "    x1 = Math.floor(x1) + 0.5;\n",
       "    y1 = Math.floor(y1) + 0.5;\n",
       "    var min_x = Math.min(x0, x1);\n",
       "    var min_y = Math.min(y0, y1);\n",
       "    var width = Math.abs(x1 - x0);\n",
       "    var height = Math.abs(y1 - y0);\n",
       "\n",
       "    fig.rubberband_context.clearRect(\n",
       "        0, 0, fig.canvas.width, fig.canvas.height);\n",
       "\n",
       "    fig.rubberband_context.strokeRect(min_x, min_y, width, height);\n",
       "}\n",
       "\n",
       "mpl.figure.prototype.handle_figure_label = function(fig, msg) {\n",
       "    // Updates the figure title.\n",
       "    fig.header.textContent = msg['label'];\n",
       "}\n",
       "\n",
       "mpl.figure.prototype.handle_cursor = function(fig, msg) {\n",
       "    var cursor = msg['cursor'];\n",
       "    switch(cursor)\n",
       "    {\n",
       "    case 0:\n",
       "        cursor = 'pointer';\n",
       "        break;\n",
       "    case 1:\n",
       "        cursor = 'default';\n",
       "        break;\n",
       "    case 2:\n",
       "        cursor = 'crosshair';\n",
       "        break;\n",
       "    case 3:\n",
       "        cursor = 'move';\n",
       "        break;\n",
       "    }\n",
       "    fig.rubberband_canvas.style.cursor = cursor;\n",
       "}\n",
       "\n",
       "mpl.figure.prototype.handle_message = function(fig, msg) {\n",
       "    fig.message.textContent = msg['message'];\n",
       "}\n",
       "\n",
       "mpl.figure.prototype.handle_draw = function(fig, msg) {\n",
       "    // Request the server to send over a new figure.\n",
       "    fig.send_draw_message();\n",
       "}\n",
       "\n",
       "mpl.figure.prototype.handle_image_mode = function(fig, msg) {\n",
       "    fig.image_mode = msg['mode'];\n",
       "}\n",
       "\n",
       "mpl.figure.prototype.updated_canvas_event = function() {\n",
       "    // Called whenever the canvas gets updated.\n",
       "    this.send_message(\"ack\", {});\n",
       "}\n",
       "\n",
       "// A function to construct a web socket function for onmessage handling.\n",
       "// Called in the figure constructor.\n",
       "mpl.figure.prototype._make_on_message_function = function(fig) {\n",
       "    return function socket_on_message(evt) {\n",
       "        if (evt.data instanceof Blob) {\n",
       "            /* FIXME: We get \"Resource interpreted as Image but\n",
       "             * transferred with MIME type text/plain:\" errors on\n",
       "             * Chrome.  But how to set the MIME type?  It doesn't seem\n",
       "             * to be part of the websocket stream */\n",
       "            evt.data.type = \"image/png\";\n",
       "\n",
       "            /* Free the memory for the previous frames */\n",
       "            if (fig.imageObj.src) {\n",
       "                (window.URL || window.webkitURL).revokeObjectURL(\n",
       "                    fig.imageObj.src);\n",
       "            }\n",
       "\n",
       "            fig.imageObj.src = (window.URL || window.webkitURL).createObjectURL(\n",
       "                evt.data);\n",
       "            fig.updated_canvas_event();\n",
       "            fig.waiting = false;\n",
       "            return;\n",
       "        }\n",
       "        else if (typeof evt.data === 'string' && evt.data.slice(0, 21) == \"data:image/png;base64\") {\n",
       "            fig.imageObj.src = evt.data;\n",
       "            fig.updated_canvas_event();\n",
       "            fig.waiting = false;\n",
       "            return;\n",
       "        }\n",
       "\n",
       "        var msg = JSON.parse(evt.data);\n",
       "        var msg_type = msg['type'];\n",
       "\n",
       "        // Call the  \"handle_{type}\" callback, which takes\n",
       "        // the figure and JSON message as its only arguments.\n",
       "        try {\n",
       "            var callback = fig[\"handle_\" + msg_type];\n",
       "        } catch (e) {\n",
       "            console.log(\"No handler for the '\" + msg_type + \"' message type: \", msg);\n",
       "            return;\n",
       "        }\n",
       "\n",
       "        if (callback) {\n",
       "            try {\n",
       "                // console.log(\"Handling '\" + msg_type + \"' message: \", msg);\n",
       "                callback(fig, msg);\n",
       "            } catch (e) {\n",
       "                console.log(\"Exception inside the 'handler_\" + msg_type + \"' callback:\", e, e.stack, msg);\n",
       "            }\n",
       "        }\n",
       "    };\n",
       "}\n",
       "\n",
       "// from http://stackoverflow.com/questions/1114465/getting-mouse-location-in-canvas\n",
       "mpl.findpos = function(e) {\n",
       "    //this section is from http://www.quirksmode.org/js/events_properties.html\n",
       "    var targ;\n",
       "    if (!e)\n",
       "        e = window.event;\n",
       "    if (e.target)\n",
       "        targ = e.target;\n",
       "    else if (e.srcElement)\n",
       "        targ = e.srcElement;\n",
       "    if (targ.nodeType == 3) // defeat Safari bug\n",
       "        targ = targ.parentNode;\n",
       "\n",
       "    // jQuery normalizes the pageX and pageY\n",
       "    // pageX,Y are the mouse positions relative to the document\n",
       "    // offset() returns the position of the element relative to the document\n",
       "    var x = e.pageX - $(targ).offset().left;\n",
       "    var y = e.pageY - $(targ).offset().top;\n",
       "\n",
       "    return {\"x\": x, \"y\": y};\n",
       "};\n",
       "\n",
       "/*\n",
       " * return a copy of an object with only non-object keys\n",
       " * we need this to avoid circular references\n",
       " * http://stackoverflow.com/a/24161582/3208463\n",
       " */\n",
       "function simpleKeys (original) {\n",
       "  return Object.keys(original).reduce(function (obj, key) {\n",
       "    if (typeof original[key] !== 'object')\n",
       "        obj[key] = original[key]\n",
       "    return obj;\n",
       "  }, {});\n",
       "}\n",
       "\n",
       "mpl.figure.prototype.mouse_event = function(event, name) {\n",
       "    var canvas_pos = mpl.findpos(event)\n",
       "\n",
       "    if (name === 'button_press')\n",
       "    {\n",
       "        this.canvas.focus();\n",
       "        this.canvas_div.focus();\n",
       "    }\n",
       "\n",
       "    var x = canvas_pos.x * mpl.ratio;\n",
       "    var y = canvas_pos.y * mpl.ratio;\n",
       "\n",
       "    this.send_message(name, {x: x, y: y, button: event.button,\n",
       "                             step: event.step,\n",
       "                             guiEvent: simpleKeys(event)});\n",
       "\n",
       "    /* This prevents the web browser from automatically changing to\n",
       "     * the text insertion cursor when the button is pressed.  We want\n",
       "     * to control all of the cursor setting manually through the\n",
       "     * 'cursor' event from matplotlib */\n",
       "    event.preventDefault();\n",
       "    return false;\n",
       "}\n",
       "\n",
       "mpl.figure.prototype._key_event_extra = function(event, name) {\n",
       "    // Handle any extra behaviour associated with a key event\n",
       "}\n",
       "\n",
       "mpl.figure.prototype.key_event = function(event, name) {\n",
       "\n",
       "    // Prevent repeat events\n",
       "    if (name == 'key_press')\n",
       "    {\n",
       "        if (event.which === this._key)\n",
       "            return;\n",
       "        else\n",
       "            this._key = event.which;\n",
       "    }\n",
       "    if (name == 'key_release')\n",
       "        this._key = null;\n",
       "\n",
       "    var value = '';\n",
       "    if (event.ctrlKey && event.which != 17)\n",
       "        value += \"ctrl+\";\n",
       "    if (event.altKey && event.which != 18)\n",
       "        value += \"alt+\";\n",
       "    if (event.shiftKey && event.which != 16)\n",
       "        value += \"shift+\";\n",
       "\n",
       "    value += 'k';\n",
       "    value += event.which.toString();\n",
       "\n",
       "    this._key_event_extra(event, name);\n",
       "\n",
       "    this.send_message(name, {key: value,\n",
       "                             guiEvent: simpleKeys(event)});\n",
       "    return false;\n",
       "}\n",
       "\n",
       "mpl.figure.prototype.toolbar_button_onclick = function(name) {\n",
       "    if (name == 'download') {\n",
       "        this.handle_save(this, null);\n",
       "    } else {\n",
       "        this.send_message(\"toolbar_button\", {name: name});\n",
       "    }\n",
       "};\n",
       "\n",
       "mpl.figure.prototype.toolbar_button_onmouseover = function(tooltip) {\n",
       "    this.message.textContent = tooltip;\n",
       "};\n",
       "mpl.toolbar_items = [[\"Home\", \"Reset original view\", \"fa fa-home icon-home\", \"home\"], [\"Back\", \"Back to previous view\", \"fa fa-arrow-left icon-arrow-left\", \"back\"], [\"Forward\", \"Forward to next view\", \"fa fa-arrow-right icon-arrow-right\", \"forward\"], [\"\", \"\", \"\", \"\"], [\"Pan\", \"Pan axes with left mouse, zoom with right\", \"fa fa-arrows icon-move\", \"pan\"], [\"Zoom\", \"Zoom to rectangle\", \"fa fa-square-o icon-check-empty\", \"zoom\"], [\"\", \"\", \"\", \"\"], [\"Download\", \"Download plot\", \"fa fa-floppy-o icon-save\", \"download\"]];\n",
       "\n",
       "mpl.extensions = [\"eps\", \"jpeg\", \"pdf\", \"png\", \"ps\", \"raw\", \"svg\", \"tif\"];\n",
       "\n",
       "mpl.default_extension = \"png\";var comm_websocket_adapter = function(comm) {\n",
       "    // Create a \"websocket\"-like object which calls the given IPython comm\n",
       "    // object with the appropriate methods. Currently this is a non binary\n",
       "    // socket, so there is still some room for performance tuning.\n",
       "    var ws = {};\n",
       "\n",
       "    ws.close = function() {\n",
       "        comm.close()\n",
       "    };\n",
       "    ws.send = function(m) {\n",
       "        //console.log('sending', m);\n",
       "        comm.send(m);\n",
       "    };\n",
       "    // Register the callback with on_msg.\n",
       "    comm.on_msg(function(msg) {\n",
       "        //console.log('receiving', msg['content']['data'], msg);\n",
       "        // Pass the mpl event to the overridden (by mpl) onmessage function.\n",
       "        ws.onmessage(msg['content']['data'])\n",
       "    });\n",
       "    return ws;\n",
       "}\n",
       "\n",
       "mpl.mpl_figure_comm = function(comm, msg) {\n",
       "    // This is the function which gets called when the mpl process\n",
       "    // starts-up an IPython Comm through the \"matplotlib\" channel.\n",
       "\n",
       "    var id = msg.content.data.id;\n",
       "    // Get hold of the div created by the display call when the Comm\n",
       "    // socket was opened in Python.\n",
       "    var element = $(\"#\" + id);\n",
       "    var ws_proxy = comm_websocket_adapter(comm)\n",
       "\n",
       "    function ondownload(figure, format) {\n",
       "        window.open(figure.imageObj.src);\n",
       "    }\n",
       "\n",
       "    var fig = new mpl.figure(id, ws_proxy,\n",
       "                           ondownload,\n",
       "                           element.get(0));\n",
       "\n",
       "    // Call onopen now - mpl needs it, as it is assuming we've passed it a real\n",
       "    // web socket which is closed, not our websocket->open comm proxy.\n",
       "    ws_proxy.onopen();\n",
       "\n",
       "    fig.parent_element = element.get(0);\n",
       "    fig.cell_info = mpl.find_output_cell(\"<div id='\" + id + \"'></div>\");\n",
       "    if (!fig.cell_info) {\n",
       "        console.error(\"Failed to find cell for figure\", id, fig);\n",
       "        return;\n",
       "    }\n",
       "\n",
       "    var output_index = fig.cell_info[2]\n",
       "    var cell = fig.cell_info[0];\n",
       "\n",
       "};\n",
       "\n",
       "mpl.figure.prototype.handle_close = function(fig, msg) {\n",
       "    var width = fig.canvas.width/mpl.ratio\n",
       "    fig.root.unbind('remove')\n",
       "\n",
       "    // Update the output cell to use the data from the current canvas.\n",
       "    fig.push_to_output();\n",
       "    var dataURL = fig.canvas.toDataURL();\n",
       "    // Re-enable the keyboard manager in IPython - without this line, in FF,\n",
       "    // the notebook keyboard shortcuts fail.\n",
       "    IPython.keyboard_manager.enable()\n",
       "    $(fig.parent_element).html('<img src=\"' + dataURL + '\" width=\"' + width + '\">');\n",
       "    fig.close_ws(fig, msg);\n",
       "}\n",
       "\n",
       "mpl.figure.prototype.close_ws = function(fig, msg){\n",
       "    fig.send_message('closing', msg);\n",
       "    // fig.ws.close()\n",
       "}\n",
       "\n",
       "mpl.figure.prototype.push_to_output = function(remove_interactive) {\n",
       "    // Turn the data on the canvas into data in the output cell.\n",
       "    var width = this.canvas.width/mpl.ratio\n",
       "    var dataURL = this.canvas.toDataURL();\n",
       "    this.cell_info[1]['text/html'] = '<img src=\"' + dataURL + '\" width=\"' + width + '\">';\n",
       "}\n",
       "\n",
       "mpl.figure.prototype.updated_canvas_event = function() {\n",
       "    // Tell IPython that the notebook contents must change.\n",
       "    IPython.notebook.set_dirty(true);\n",
       "    this.send_message(\"ack\", {});\n",
       "    var fig = this;\n",
       "    // Wait a second, then push the new image to the DOM so\n",
       "    // that it is saved nicely (might be nice to debounce this).\n",
       "    setTimeout(function () { fig.push_to_output() }, 1000);\n",
       "}\n",
       "\n",
       "mpl.figure.prototype._init_toolbar = function() {\n",
       "    var fig = this;\n",
       "\n",
       "    var nav_element = $('<div/>')\n",
       "    nav_element.attr('style', 'width: 100%');\n",
       "    this.root.append(nav_element);\n",
       "\n",
       "    // Define a callback function for later on.\n",
       "    function toolbar_event(event) {\n",
       "        return fig.toolbar_button_onclick(event['data']);\n",
       "    }\n",
       "    function toolbar_mouse_event(event) {\n",
       "        return fig.toolbar_button_onmouseover(event['data']);\n",
       "    }\n",
       "\n",
       "    for(var toolbar_ind in mpl.toolbar_items){\n",
       "        var name = mpl.toolbar_items[toolbar_ind][0];\n",
       "        var tooltip = mpl.toolbar_items[toolbar_ind][1];\n",
       "        var image = mpl.toolbar_items[toolbar_ind][2];\n",
       "        var method_name = mpl.toolbar_items[toolbar_ind][3];\n",
       "\n",
       "        if (!name) { continue; };\n",
       "\n",
       "        var button = $('<button class=\"btn btn-default\" href=\"#\" title=\"' + name + '\"><i class=\"fa ' + image + ' fa-lg\"></i></button>');\n",
       "        button.click(method_name, toolbar_event);\n",
       "        button.mouseover(tooltip, toolbar_mouse_event);\n",
       "        nav_element.append(button);\n",
       "    }\n",
       "\n",
       "    // Add the status bar.\n",
       "    var status_bar = $('<span class=\"mpl-message\" style=\"text-align:right; float: right;\"/>');\n",
       "    nav_element.append(status_bar);\n",
       "    this.message = status_bar[0];\n",
       "\n",
       "    // Add the close button to the window.\n",
       "    var buttongrp = $('<div class=\"btn-group inline pull-right\"></div>');\n",
       "    var button = $('<button class=\"btn btn-mini btn-primary\" href=\"#\" title=\"Stop Interaction\"><i class=\"fa fa-power-off icon-remove icon-large\"></i></button>');\n",
       "    button.click(function (evt) { fig.handle_close(fig, {}); } );\n",
       "    button.mouseover('Stop Interaction', toolbar_mouse_event);\n",
       "    buttongrp.append(button);\n",
       "    var titlebar = this.root.find($('.ui-dialog-titlebar'));\n",
       "    titlebar.prepend(buttongrp);\n",
       "}\n",
       "\n",
       "mpl.figure.prototype._root_extra_style = function(el){\n",
       "    var fig = this\n",
       "    el.on(\"remove\", function(){\n",
       "\tfig.close_ws(fig, {});\n",
       "    });\n",
       "}\n",
       "\n",
       "mpl.figure.prototype._canvas_extra_style = function(el){\n",
       "    // this is important to make the div 'focusable\n",
       "    el.attr('tabindex', 0)\n",
       "    // reach out to IPython and tell the keyboard manager to turn it's self\n",
       "    // off when our div gets focus\n",
       "\n",
       "    // location in version 3\n",
       "    if (IPython.notebook.keyboard_manager) {\n",
       "        IPython.notebook.keyboard_manager.register_events(el);\n",
       "    }\n",
       "    else {\n",
       "        // location in version 2\n",
       "        IPython.keyboard_manager.register_events(el);\n",
       "    }\n",
       "\n",
       "}\n",
       "\n",
       "mpl.figure.prototype._key_event_extra = function(event, name) {\n",
       "    var manager = IPython.notebook.keyboard_manager;\n",
       "    if (!manager)\n",
       "        manager = IPython.keyboard_manager;\n",
       "\n",
       "    // Check for shift+enter\n",
       "    if (event.shiftKey && event.which == 13) {\n",
       "        this.canvas_div.blur();\n",
       "        event.shiftKey = false;\n",
       "        // Send a \"J\" for go to next cell\n",
       "        event.which = 74;\n",
       "        event.keyCode = 74;\n",
       "        manager.command_mode();\n",
       "        manager.handle_keydown(event);\n",
       "    }\n",
       "}\n",
       "\n",
       "mpl.figure.prototype.handle_save = function(fig, msg) {\n",
       "    fig.ondownload(fig, null);\n",
       "}\n",
       "\n",
       "\n",
       "mpl.find_output_cell = function(html_output) {\n",
       "    // Return the cell and output element which can be found *uniquely* in the notebook.\n",
       "    // Note - this is a bit hacky, but it is done because the \"notebook_saving.Notebook\"\n",
       "    // IPython event is triggered only after the cells have been serialised, which for\n",
       "    // our purposes (turning an active figure into a static one), is too late.\n",
       "    var cells = IPython.notebook.get_cells();\n",
       "    var ncells = cells.length;\n",
       "    for (var i=0; i<ncells; i++) {\n",
       "        var cell = cells[i];\n",
       "        if (cell.cell_type === 'code'){\n",
       "            for (var j=0; j<cell.output_area.outputs.length; j++) {\n",
       "                var data = cell.output_area.outputs[j];\n",
       "                if (data.data) {\n",
       "                    // IPython >= 3 moved mimebundle to data attribute of output\n",
       "                    data = data.data;\n",
       "                }\n",
       "                if (data['text/html'] == html_output) {\n",
       "                    return [cell, data, j];\n",
       "                }\n",
       "            }\n",
       "        }\n",
       "    }\n",
       "}\n",
       "\n",
       "// Register the function which deals with the matplotlib target/channel.\n",
       "// The kernel may be null if the page has been refreshed.\n",
       "if (IPython.notebook.kernel != null) {\n",
       "    IPython.notebook.kernel.comm_manager.register_target('matplotlib', mpl.mpl_figure_comm);\n",
       "}\n"
      ],
      "text/plain": [
       "<IPython.core.display.Javascript object>"
      ]
     },
     "metadata": {},
     "output_type": "display_data"
    },
    {
     "data": {
      "text/html": [
       "<img src=\"data:image/png;base64,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\" width=\"640\">"
      ],
      "text/plain": [
       "<IPython.core.display.HTML object>"
      ]
     },
     "metadata": {},
     "output_type": "display_data"
    }
   ],
   "source": [
    "%matplotlib notebook\n",
    "sir_model.analyse(variance=True)"
   ]
  },
  {
   "cell_type": "markdown",
   "metadata": {},
   "source": [
    "#### Initilisation Model 2 (Cut for Wave Variance)"
   ]
  },
  {
   "cell_type": "code",
   "execution_count": 6,
   "metadata": {},
   "outputs": [],
   "source": [
    "N           = 20                            # lattice size\n",
    "p1, p2, p3  = 0.05, 0.5, 0.5               # p for visualisation\n",
    "equistep    = 100                           # equilibrate sweep (No system equilibration in this case)\n",
    "calcstep    = 10000                         # measurement sweep\n",
    "factor      = int(calcstep/10)              # because of 'if (j%10 == 0):' in 'analyse' fn\n",
    "\n",
    "p = [p1, p2, p3]\n",
    "\n",
    "np.random.seed(0)\n",
    "sir_model_2 = ca_utils.SIR(N, p, factor, equistep, calcstep)"
   ]
  },
  {
   "cell_type": "markdown",
   "metadata": {},
   "source": [
    "- Method behavior\n",
    "    - Cut for Wave Variance"
   ]
  },
  {
   "cell_type": "code",
   "execution_count": null,
   "metadata": {
    "scrolled": true
   },
   "outputs": [
    {
     "data": {
      "application/vnd.jupyter.widget-view+json": {
       "model_id": "6fcc13ddf6f54446a2a58001e0b24f6c",
       "version_major": 2,
       "version_minor": 0
      },
      "text/plain": [
       "HBox(children=(IntProgress(value=1, bar_style='info', description='Col', max=1, style=ProgressStyle(descriptio…"
      ]
     },
     "metadata": {},
     "output_type": "display_data"
    },
    {
     "data": {
      "application/vnd.jupyter.widget-view+json": {
       "model_id": "",
       "version_major": 2,
       "version_minor": 0
      },
      "text/plain": [
       "HBox(children=(IntProgress(value=0, description='Measurement sweep', max=10000, style=ProgressStyle(descriptio…"
      ]
     },
     "metadata": {},
     "output_type": "display_data"
    },
    {
     "data": {
      "application/vnd.jupyter.widget-view+json": {
       "model_id": "",
       "version_major": 2,
       "version_minor": 0
      },
      "text/plain": [
       "HBox(children=(IntProgress(value=0, description='Measurement sweep', max=10000, style=ProgressStyle(descriptio…"
      ]
     },
     "metadata": {},
     "output_type": "display_data"
    },
    {
     "data": {
      "application/vnd.jupyter.widget-view+json": {
       "model_id": "",
       "version_major": 2,
       "version_minor": 0
      },
      "text/plain": [
       "HBox(children=(IntProgress(value=0, description='Measurement sweep', max=10000, style=ProgressStyle(descriptio…"
      ]
     },
     "metadata": {},
     "output_type": "display_data"
    },
    {
     "data": {
      "application/vnd.jupyter.widget-view+json": {
       "model_id": "",
       "version_major": 2,
       "version_minor": 0
      },
      "text/plain": [
       "HBox(children=(IntProgress(value=0, description='Measurement sweep', max=10000, style=ProgressStyle(descriptio…"
      ]
     },
     "metadata": {},
     "output_type": "display_data"
    },
    {
     "data": {
      "application/vnd.jupyter.widget-view+json": {
       "model_id": "",
       "version_major": 2,
       "version_minor": 0
      },
      "text/plain": [
       "HBox(children=(IntProgress(value=0, description='Measurement sweep', max=10000, style=ProgressStyle(descriptio…"
      ]
     },
     "metadata": {},
     "output_type": "display_data"
    },
    {
     "data": {
      "application/vnd.jupyter.widget-view+json": {
       "model_id": "",
       "version_major": 2,
       "version_minor": 0
      },
      "text/plain": [
       "HBox(children=(IntProgress(value=0, description='Measurement sweep', max=10000, style=ProgressStyle(descriptio…"
      ]
     },
     "metadata": {},
     "output_type": "display_data"
    },
    {
     "data": {
      "application/vnd.jupyter.widget-view+json": {
       "model_id": "",
       "version_major": 2,
       "version_minor": 0
      },
      "text/plain": [
       "HBox(children=(IntProgress(value=0, description='Measurement sweep', max=10000, style=ProgressStyle(descriptio…"
      ]
     },
     "metadata": {},
     "output_type": "display_data"
    },
    {
     "data": {
      "application/vnd.jupyter.widget-view+json": {
       "model_id": "",
       "version_major": 2,
       "version_minor": 0
      },
      "text/plain": [
       "HBox(children=(IntProgress(value=0, description='Measurement sweep', max=10000, style=ProgressStyle(descriptio…"
      ]
     },
     "metadata": {},
     "output_type": "display_data"
    },
    {
     "data": {
      "application/vnd.jupyter.widget-view+json": {
       "model_id": "",
       "version_major": 2,
       "version_minor": 0
      },
      "text/plain": [
       "HBox(children=(IntProgress(value=0, description='Measurement sweep', max=10000, style=ProgressStyle(descriptio…"
      ]
     },
     "metadata": {},
     "output_type": "display_data"
    },
    {
     "data": {
      "application/vnd.jupyter.widget-view+json": {
       "model_id": "",
       "version_major": 2,
       "version_minor": 0
      },
      "text/plain": [
       "HBox(children=(IntProgress(value=0, description='Measurement sweep', max=10000, style=ProgressStyle(descriptio…"
      ]
     },
     "metadata": {},
     "output_type": "display_data"
    },
    {
     "data": {
      "application/vnd.jupyter.widget-view+json": {
       "model_id": "",
       "version_major": 2,
       "version_minor": 0
      },
      "text/plain": [
       "HBox(children=(IntProgress(value=0, description='Measurement sweep', max=10000, style=ProgressStyle(descriptio…"
      ]
     },
     "metadata": {},
     "output_type": "display_data"
    },
    {
     "data": {
      "application/vnd.jupyter.widget-view+json": {
       "model_id": "",
       "version_major": 2,
       "version_minor": 0
      },
      "text/plain": [
       "HBox(children=(IntProgress(value=0, description='Measurement sweep', max=10000, style=ProgressStyle(descriptio…"
      ]
     },
     "metadata": {},
     "output_type": "display_data"
    },
    {
     "data": {
      "application/vnd.jupyter.widget-view+json": {
       "model_id": "",
       "version_major": 2,
       "version_minor": 0
      },
      "text/plain": [
       "HBox(children=(IntProgress(value=0, description='Measurement sweep', max=10000, style=ProgressStyle(descriptio…"
      ]
     },
     "metadata": {},
     "output_type": "display_data"
    },
    {
     "data": {
      "application/vnd.jupyter.widget-view+json": {
       "model_id": "",
       "version_major": 2,
       "version_minor": 0
      },
      "text/plain": [
       "HBox(children=(IntProgress(value=0, description='Measurement sweep', max=10000, style=ProgressStyle(descriptio…"
      ]
     },
     "metadata": {},
     "output_type": "display_data"
    },
    {
     "data": {
      "application/vnd.jupyter.widget-view+json": {
       "model_id": "45ee6ff1fec945cba078094f08c5085b",
       "version_major": 2,
       "version_minor": 0
      },
      "text/plain": [
       "HBox(children=(IntProgress(value=0, description='Measurement sweep', max=10000, style=ProgressStyle(descriptio…"
      ]
     },
     "metadata": {},
     "output_type": "display_data"
    }
   ],
   "source": [
    "%matplotlib notebook\n",
    "sir_model_2.waveVariance()"
   ]
  }
 ],
 "metadata": {
  "kernelspec": {
   "display_name": "Python 3",
   "language": "python",
   "name": "python3"
  },
  "language_info": {
   "codemirror_mode": {
    "name": "ipython",
    "version": 3
   },
   "file_extension": ".py",
   "mimetype": "text/x-python",
   "name": "python",
   "nbconvert_exporter": "python",
   "pygments_lexer": "ipython3",
   "version": "3.6.7"
  }
 },
 "nbformat": 4,
 "nbformat_minor": 2
}
