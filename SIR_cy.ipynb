{
 "cells": [
  {
   "cell_type": "markdown",
   "metadata": {},
   "source": [
    "#### Import required package"
   ]
  },
  {
   "cell_type": "code",
   "execution_count": 1,
   "metadata": {},
   "outputs": [],
   "source": [
    "from __future__ import division\n",
    "import pyximport\n",
    "import numpy as np\n",
    "pyximport.install(setup_args={\n",
    "                              \"script_args\":[\"--compiler=mingw32\"],\n",
    "                              \"include_dirs\":np.get_include()\n",
    "                            },\n",
    "                  language_level=3,\n",
    "                  reload_support=True)\n",
    "import ca_utils_cy                           # cythonized python module\n",
    "# import ca_utils                            # unoptimized python module\n",
    "import matplotlib.pyplot as plt"
   ]
  },
  {
   "cell_type": "code",
   "execution_count": 2,
   "metadata": {},
   "outputs": [],
   "source": [
    "plt.rcParams['figure.figsize'] = (5,5)"
   ]
  },
  {
   "cell_type": "markdown",
   "metadata": {},
   "source": [
    "#### Initilisation Model 1 (Visualisation, Phase Diagram & Variance)"
   ]
  },
  {
   "cell_type": "code",
   "execution_count": 16,
   "metadata": {},
   "outputs": [],
   "source": [
    "N           = 20                            # lattice size\n",
    "p1, p2, p3  = 0.05, 0.5, 0.0                # p for visualisation\n",
    "S0, I0, R0  = 0.05, 0.9, 0.05                 # initial fraction of S, I, R\n",
    "equistep    = 100                           # equilibrate sweep\n",
    "calcstep    = 10000                         # measurement sweep\n",
    "factor      = int(calcstep/10)              # because of 'if (j%10 == 0):' in 'analyse' fn\n",
    "\n",
    "p = [p1, p2, p3]\n",
    "fraction = [S0, I0, R0]\n",
    "\n",
    "np.random.seed(0)\n",
    "# sir_model = ca_utils.SIR(N, fraction, p, factor, equistep, calcstep)\n",
    "sir_model = ca_utils_cy.SIR(N, fraction, p, factor, equistep, calcstep)"
   ]
  },
  {
   "cell_type": "markdown",
   "metadata": {},
   "source": [
    "#### Results"
   ]
  },
  {
   "cell_type": "markdown",
   "metadata": {},
   "source": [
    "- Animation"
   ]
  },
  {
   "cell_type": "markdown",
   "metadata": {},
   "source": [
    "\n",
    "<font color='orange'>Absorbing State ( S only )</font>\n",
    "    - p1, p2, p3  = 0.05, 0.5, 0.05 \n",
    "<font color='cyan'>Absorbing Steady State ( S and I )</font>\n",
    "    - p1, p2, p3  = 0.05, 0.5, 0.0\n",
    "<font color='green'>Dynamic Equilibrium ( Cyclic Permutation if S, I and R )</font>\n",
    "    - p1, p2, p3  = 0.5, 0.5, 0.5\n",
    "<font color='grey'>Wave ( Spreading of Infection )</font>\n",
    "    - p1, p2, p3  = 0.15, 0.5, 0.5"
   ]
  },
  {
   "cell_type": "code",
   "execution_count": 17,
   "metadata": {
    "scrolled": false
   },
   "outputs": [
    {
     "data": {
      "image/png": "[encoded data removed]",
      "text/plain": [
       "<Figure size 360x360 with 1 Axes>"
      ]
     },
     "metadata": {},
     "output_type": "display_data"
    }
   ],
   "source": [
    "# %matplotlib inline\n",
    "sir_model.DynamicPlot(150)"
   ]
  },
  {
   "cell_type": "markdown",
   "metadata": {},
   "source": [
    "- Method behavior\n",
    "    - Phase Diagram of SIR model\n",
    "    - Variance, < $\\psi$ >"
   ]
  },
  {
   "cell_type": "code",
   "execution_count": 5,
   "metadata": {
    "scrolled": true
   },
   "outputs": [
    {
     "data": {
      "application/vnd.jupyter.widget-view+json": {
       "model_id": "",
       "version_major": 2,
       "version_minor": 0
      },
      "text/plain": [
       "HBox(children=(IntProgress(value=0, description='Row', max=20, style=ProgressStyle(description_width='initial'…"
      ]
     },
     "metadata": {},
     "output_type": "display_data"
    },
    {
     "data": {
      "application/vnd.jupyter.widget-view+json": {
       "model_id": "",
       "version_major": 2,
       "version_minor": 0
      },
      "text/plain": [
       "HBox(children=(IntProgress(value=0, description='Col', max=20, style=ProgressStyle(description_width='initial'…"
      ]
     },
     "metadata": {},
     "output_type": "display_data"
    },
    {
     "data": {
      "application/vnd.jupyter.widget-view+json": {
       "model_id": "",
       "version_major": 2,
       "version_minor": 0
      },
      "text/plain": [
       "HBox(children=(IntProgress(value=0, description='Equilibrate sweep', style=ProgressStyle(description_width='in…"
      ]
     },
     "metadata": {},
     "output_type": "display_data"
    },
    {
     "data": {
      "application/vnd.jupyter.widget-view+json": {
       "model_id": "",
       "version_major": 2,
       "version_minor": 0
      },
      "text/plain": [
       "HBox(children=(IntProgress(value=0, description='Measurement sweep', max=10000, style=ProgressStyle(descriptio…"
      ]
     },
     "metadata": {},
     "output_type": "display_data"
    },
    {
     "data": {
      "application/vnd.jupyter.widget-view+json": {
       "model_id": "",
       "version_major": 2,
       "version_minor": 0
      },
      "text/plain": [
       "HBox(children=(IntProgress(value=0, description='Equilibrate sweep', style=ProgressStyle(description_width='in…"
      ]
     },
     "metadata": {},
     "output_type": "display_data"
    },
    {
     "data": {
      "application/vnd.jupyter.widget-view+json": {
       "model_id": "",
       "version_major": 2,
       "version_minor": 0
      },
      "text/plain": [
       "HBox(children=(IntProgress(value=0, description='Measurement sweep', max=10000, style=ProgressStyle(descriptio…"
      ]
     },
     "metadata": {},
     "output_type": "display_data"
    },
    {
     "data": {
      "application/vnd.jupyter.widget-view+json": {
       "model_id": "",
       "version_major": 2,
       "version_minor": 0
      },
      "text/plain": [
       "HBox(children=(IntProgress(value=0, description='Equilibrate sweep', style=ProgressStyle(description_width='in…"
      ]
     },
     "metadata": {},
     "output_type": "display_data"
    },
    {
     "data": {
      "application/vnd.jupyter.widget-view+json": {
       "model_id": "",
       "version_major": 2,
       "version_minor": 0
      },
      "text/plain": [
       "HBox(children=(IntProgress(value=0, description='Measurement sweep', max=10000, style=ProgressStyle(descriptio…"
      ]
     },
     "metadata": {},
     "output_type": "display_data"
    },
    {
     "data": {
      "application/vnd.jupyter.widget-view+json": {
       "model_id": "",
       "version_major": 2,
       "version_minor": 0
      },
      "text/plain": [
       "HBox(children=(IntProgress(value=0, description='Equilibrate sweep', style=ProgressStyle(description_width='in…"
      ]
     },
     "metadata": {},
     "output_type": "display_data"
    },
    {
     "data": {
      "application/vnd.jupyter.widget-view+json": {
       "model_id": "",
       "version_major": 2,
       "version_minor": 0
      },
      "text/plain": [
       "HBox(children=(IntProgress(value=0, description='Measurement sweep', max=10000, style=ProgressStyle(descriptio…"
      ]
     },
     "metadata": {},
     "output_type": "display_data"
    },
    {
     "data": {
      "application/vnd.jupyter.widget-view+json": {
       "model_id": "",
       "version_major": 2,
       "version_minor": 0
      },
      "text/plain": [
       "HBox(children=(IntProgress(value=0, description='Equilibrate sweep', style=ProgressStyle(description_width='in…"
      ]
     },
     "metadata": {},
     "output_type": "display_data"
    },
    {
     "data": {
      "application/vnd.jupyter.widget-view+json": {
       "model_id": "",
       "version_major": 2,
       "version_minor": 0
      },
      "text/plain": [
       "HBox(children=(IntProgress(value=0, description='Measurement sweep', max=10000, style=ProgressStyle(descriptio…"
      ]
     },
     "metadata": {},
     "output_type": "display_data"
    },
    {
     "data": {
      "application/vnd.jupyter.widget-view+json": {
       "model_id": "",
       "version_major": 2,
       "version_minor": 0
      },
      "text/plain": [
       "HBox(children=(IntProgress(value=0, description='Equilibrate sweep', style=ProgressStyle(description_width='in…"
      ]
     },
     "metadata": {},
     "output_type": "display_data"
    },
    {
     "data": {
      "application/vnd.jupyter.widget-view+json": {
       "model_id": "",
       "version_major": 2,
       "version_minor": 0
      },
      "text/plain": [
       "HBox(children=(IntProgress(value=0, description='Measurement sweep', max=10000, style=ProgressStyle(descriptio…"
      ]
     },
     "metadata": {},
     "output_type": "display_data"
    },
    {
     "data": {
      "application/vnd.jupyter.widget-view+json": {
       "model_id": "",
       "version_major": 2,
       "version_minor": 0
      },
      "text/plain": [
       "HBox(children=(IntProgress(value=0, description='Equilibrate sweep', style=ProgressStyle(description_width='in…"
      ]
     },
     "metadata": {},
     "output_type": "display_data"
    },
    {
     "data": {
      "application/vnd.jupyter.widget-view+json": {
       "model_id": "",
       "version_major": 2,
       "version_minor": 0
      },
      "text/plain": [
       "HBox(children=(IntProgress(value=0, description='Measurement sweep', max=10000, style=ProgressStyle(descriptio…"
      ]
     },
     "metadata": {},
     "output_type": "display_data"
    },
    {
     "data": {
      "application/vnd.jupyter.widget-view+json": {
       "model_id": "",
       "version_major": 2,
       "version_minor": 0
      },
      "text/plain": [
       "HBox(children=(IntProgress(value=0, description='Equilibrate sweep', style=ProgressStyle(description_width='in…"
      ]
     },
     "metadata": {},
     "output_type": "display_data"
    },
    {
     "data": {
      "application/vnd.jupyter.widget-view+json": {
       "model_id": "",
       "version_major": 2,
       "version_minor": 0
      },
      "text/plain": [
       "HBox(children=(IntProgress(value=0, description='Measurement sweep', max=10000, style=ProgressStyle(descriptio…"
      ]
     },
     "metadata": {},
     "output_type": "display_data"
    },
    {
     "data": {
      "application/vnd.jupyter.widget-view+json": {
       "model_id": "",
       "version_major": 2,
       "version_minor": 0
      },
      "text/plain": [
       "HBox(children=(IntProgress(value=0, description='Equilibrate sweep', style=ProgressStyle(description_width='in…"
      ]
     },
     "metadata": {},
     "output_type": "display_data"
    },
    {
     "data": {
      "application/vnd.jupyter.widget-view+json": {
       "model_id": "",
       "version_major": 2,
       "version_minor": 0
      },
      "text/plain": [
       "HBox(children=(IntProgress(value=0, description='Measurement sweep', max=10000, style=ProgressStyle(descriptio…"
      ]
     },
     "metadata": {},
     "output_type": "display_data"
    },
    {
     "data": {
      "application/vnd.jupyter.widget-view+json": {
       "model_id": "",
       "version_major": 2,
       "version_minor": 0
      },
      "text/plain": [
       "HBox(children=(IntProgress(value=0, description='Equilibrate sweep', style=ProgressStyle(description_width='in…"
      ]
     },
     "metadata": {},
     "output_type": "display_data"
    },
    {
     "data": {
      "application/vnd.jupyter.widget-view+json": {
       "model_id": "",
       "version_major": 2,
       "version_minor": 0
      },
      "text/plain": [
       "HBox(children=(IntProgress(value=0, description='Measurement sweep', max=10000, style=ProgressStyle(descriptio…"
      ]
     },
     "metadata": {},
     "output_type": "display_data"
    },
    {
     "data": {
      "application/vnd.jupyter.widget-view+json": {
       "model_id": "",
       "version_major": 2,
       "version_minor": 0
      },
      "text/plain": [
       "HBox(children=(IntProgress(value=0, description='Equilibrate sweep', style=ProgressStyle(description_width='in…"
      ]
     },
     "metadata": {},
     "output_type": "display_data"
    },
    {
     "data": {
      "application/vnd.jupyter.widget-view+json": {
       "model_id": "",
       "version_major": 2,
       "version_minor": 0
      },
      "text/plain": [
       "HBox(children=(IntProgress(value=0, description='Measurement sweep', max=10000, style=ProgressStyle(descriptio…"
      ]
     },
     "metadata": {},
     "output_type": "display_data"
    },
    {
     "data": {
      "application/vnd.jupyter.widget-view+json": {
       "model_id": "",
       "version_major": 2,
       "version_minor": 0
      },
      "text/plain": [
       "HBox(children=(IntProgress(value=0, description='Equilibrate sweep', style=ProgressStyle(description_width='in…"
      ]
     },
     "metadata": {},
     "output_type": "display_data"
    },
    {
     "data": {
      "application/vnd.jupyter.widget-view+json": {
       "model_id": "",
       "version_major": 2,
       "version_minor": 0
      },
      "text/plain": [
       "HBox(children=(IntProgress(value=0, description='Measurement sweep', max=10000, style=ProgressStyle(descriptio…"
      ]
     },
     "metadata": {},
     "output_type": "display_data"
    },
    {
     "data": {
      "application/vnd.jupyter.widget-view+json": {
       "model_id": "",
       "version_major": 2,
       "version_minor": 0
      },
      "text/plain": [
       "HBox(children=(IntProgress(value=0, description='Equilibrate sweep', style=ProgressStyle(description_width='in…"
      ]
     },
     "metadata": {},
     "output_type": "display_data"
    },
    {
     "data": {
      "application/vnd.jupyter.widget-view+json": {
       "model_id": "",
       "version_major": 2,
       "version_minor": 0
      },
      "text/plain": [
       "HBox(children=(IntProgress(value=0, description='Measurement sweep', max=10000, style=ProgressStyle(descriptio…"
      ]
     },
     "metadata": {},
     "output_type": "display_data"
    },
    {
     "data": {
      "application/vnd.jupyter.widget-view+json": {
       "model_id": "",
       "version_major": 2,
       "version_minor": 0
      },
      "text/plain": [
       "HBox(children=(IntProgress(value=0, description='Equilibrate sweep', style=ProgressStyle(description_width='in…"
      ]
     },
     "metadata": {},
     "output_type": "display_data"
    },
    {
     "data": {
      "application/vnd.jupyter.widget-view+json": {
       "model_id": "",
       "version_major": 2,
       "version_minor": 0
      },
      "text/plain": [
       "HBox(children=(IntProgress(value=0, description='Measurement sweep', max=10000, style=ProgressStyle(descriptio…"
      ]
     },
     "metadata": {},
     "output_type": "display_data"
    },
    {
     "data": {
      "application/vnd.jupyter.widget-view+json": {
       "model_id": "",
       "version_major": 2,
       "version_minor": 0
      },
      "text/plain": [
       "HBox(children=(IntProgress(value=0, description='Equilibrate sweep', style=ProgressStyle(description_width='in…"
      ]
     },
     "metadata": {},
     "output_type": "display_data"
    },
    {
     "data": {
      "application/vnd.jupyter.widget-view+json": {
       "model_id": "",
       "version_major": 2,
       "version_minor": 0
      },
      "text/plain": [
       "HBox(children=(IntProgress(value=0, description='Measurement sweep', max=10000, style=ProgressStyle(descriptio…"
      ]
     },
     "metadata": {},
     "output_type": "display_data"
    },
    {
     "data": {
      "application/vnd.jupyter.widget-view+json": {
       "model_id": "",
       "version_major": 2,
       "version_minor": 0
      },
      "text/plain": [
       "HBox(children=(IntProgress(value=0, description='Equilibrate sweep', style=ProgressStyle(description_width='in…"
      ]
     },
     "metadata": {},
     "output_type": "display_data"
    },
    {
     "data": {
      "application/vnd.jupyter.widget-view+json": {
       "model_id": "",
       "version_major": 2,
       "version_minor": 0
      },
      "text/plain": [
       "HBox(children=(IntProgress(value=0, description='Measurement sweep', max=10000, style=ProgressStyle(descriptio…"
      ]
     },
     "metadata": {},
     "output_type": "display_data"
    },
    {
     "data": {
      "application/vnd.jupyter.widget-view+json": {
       "model_id": "",
       "version_major": 2,
       "version_minor": 0
      },
      "text/plain": [
       "HBox(children=(IntProgress(value=0, description='Equilibrate sweep', style=ProgressStyle(description_width='in…"
      ]
     },
     "metadata": {},
     "output_type": "display_data"
    },
    {
     "data": {
      "application/vnd.jupyter.widget-view+json": {
       "model_id": "",
       "version_major": 2,
       "version_minor": 0
      },
      "text/plain": [
       "HBox(children=(IntProgress(value=0, description='Measurement sweep', max=10000, style=ProgressStyle(descriptio…"
      ]
     },
     "metadata": {},
     "output_type": "display_data"
    },
    {
     "data": {
      "application/vnd.jupyter.widget-view+json": {
       "model_id": "",
       "version_major": 2,
       "version_minor": 0
      },
      "text/plain": [
       "HBox(children=(IntProgress(value=0, description='Equilibrate sweep', style=ProgressStyle(description_width='in…"
      ]
     },
     "metadata": {},
     "output_type": "display_data"
    },
    {
     "data": {
      "application/vnd.jupyter.widget-view+json": {
       "model_id": "",
       "version_major": 2,
       "version_minor": 0
      },
      "text/plain": [
       "HBox(children=(IntProgress(value=0, description='Measurement sweep', max=10000, style=ProgressStyle(descriptio…"
      ]
     },
     "metadata": {},
     "output_type": "display_data"
    },
    {
     "data": {
      "application/vnd.jupyter.widget-view+json": {
       "model_id": "",
       "version_major": 2,
       "version_minor": 0
      },
      "text/plain": [
       "HBox(children=(IntProgress(value=0, description='Equilibrate sweep', style=ProgressStyle(description_width='in…"
      ]
     },
     "metadata": {},
     "output_type": "display_data"
    },
    {
     "data": {
      "application/vnd.jupyter.widget-view+json": {
       "model_id": "",
       "version_major": 2,
       "version_minor": 0
      },
      "text/plain": [
       "HBox(children=(IntProgress(value=0, description='Measurement sweep', max=10000, style=ProgressStyle(descriptio…"
      ]
     },
     "metadata": {},
     "output_type": "display_data"
    },
    {
     "data": {
      "application/vnd.jupyter.widget-view+json": {
       "model_id": "",
       "version_major": 2,
       "version_minor": 0
      },
      "text/plain": [
       "HBox(children=(IntProgress(value=0, description='Equilibrate sweep', style=ProgressStyle(description_width='in…"
      ]
     },
     "metadata": {},
     "output_type": "display_data"
    },
    {
     "data": {
      "application/vnd.jupyter.widget-view+json": {
       "model_id": "",
       "version_major": 2,
       "version_minor": 0
      },
      "text/plain": [
       "HBox(children=(IntProgress(value=0, description='Measurement sweep', max=10000, style=ProgressStyle(descriptio…"
      ]
     },
     "metadata": {},
     "output_type": "display_data"
    },
    {
     "data": {
      "application/vnd.jupyter.widget-view+json": {
       "model_id": "",
       "version_major": 2,
       "version_minor": 0
      },
      "text/plain": [
       "HBox(children=(IntProgress(value=0, description='Col', max=20, style=ProgressStyle(description_width='initial'…"
      ]
     },
     "metadata": {},
     "output_type": "display_data"
    },
    {
     "data": {
      "application/vnd.jupyter.widget-view+json": {
       "model_id": "",
       "version_major": 2,
       "version_minor": 0
      },
      "text/plain": [
       "HBox(children=(IntProgress(value=0, description='Equilibrate sweep', style=ProgressStyle(description_width='in…"
      ]
     },
     "metadata": {},
     "output_type": "display_data"
    },
    {
     "data": {
      "application/vnd.jupyter.widget-view+json": {
       "model_id": "",
       "version_major": 2,
       "version_minor": 0
      },
      "text/plain": [
       "HBox(children=(IntProgress(value=0, description='Measurement sweep', max=10000, style=ProgressStyle(descriptio…"
      ]
     },
     "metadata": {},
     "output_type": "display_data"
    },
    {
     "data": {
      "application/vnd.jupyter.widget-view+json": {
       "model_id": "",
       "version_major": 2,
       "version_minor": 0
      },
      "text/plain": [
       "HBox(children=(IntProgress(value=0, description='Equilibrate sweep', style=ProgressStyle(description_width='in…"
      ]
     },
     "metadata": {},
     "output_type": "display_data"
    },
    {
     "data": {
      "application/vnd.jupyter.widget-view+json": {
       "model_id": "",
       "version_major": 2,
       "version_minor": 0
      },
      "text/plain": [
       "HBox(children=(IntProgress(value=0, description='Measurement sweep', max=10000, style=ProgressStyle(descriptio…"
      ]
     },
     "metadata": {},
     "output_type": "display_data"
    },
    {
     "data": {
      "application/vnd.jupyter.widget-view+json": {
       "model_id": "",
       "version_major": 2,
       "version_minor": 0
      },
      "text/plain": [
       "HBox(children=(IntProgress(value=0, description='Equilibrate sweep', style=ProgressStyle(description_width='in…"
      ]
     },
     "metadata": {},
     "output_type": "display_data"
    },
    {
     "data": {
      "application/vnd.jupyter.widget-view+json": {
       "model_id": "",
       "version_major": 2,
       "version_minor": 0
      },
      "text/plain": [
       "HBox(children=(IntProgress(value=0, description='Measurement sweep', max=10000, style=ProgressStyle(descriptio…"
      ]
     },
     "metadata": {},
     "output_type": "display_data"
    },
    {
     "data": {
      "application/vnd.jupyter.widget-view+json": {
       "model_id": "",
       "version_major": 2,
       "version_minor": 0
      },
      "text/plain": [
       "HBox(children=(IntProgress(value=0, description='Equilibrate sweep', style=ProgressStyle(description_width='in…"
      ]
     },
     "metadata": {},
     "output_type": "display_data"
    },
    {
     "data": {
      "application/vnd.jupyter.widget-view+json": {
       "model_id": "",
       "version_major": 2,
       "version_minor": 0
      },
      "text/plain": [
       "HBox(children=(IntProgress(value=0, description='Measurement sweep', max=10000, style=ProgressStyle(descriptio…"
      ]
     },
     "metadata": {},
     "output_type": "display_data"
    },
    {
     "data": {
      "application/vnd.jupyter.widget-view+json": {
       "model_id": "",
       "version_major": 2,
       "version_minor": 0
      },
      "text/plain": [
       "HBox(children=(IntProgress(value=0, description='Equilibrate sweep', style=ProgressStyle(description_width='in…"
      ]
     },
     "metadata": {},
     "output_type": "display_data"
    },
    {
     "data": {
      "application/vnd.jupyter.widget-view+json": {
       "model_id": "",
       "version_major": 2,
       "version_minor": 0
      },
      "text/plain": [
       "HBox(children=(IntProgress(value=0, description='Measurement sweep', max=10000, style=ProgressStyle(descriptio…"
      ]
     },
     "metadata": {},
     "output_type": "display_data"
    },
    {
     "data": {
      "application/vnd.jupyter.widget-view+json": {
       "model_id": "",
       "version_major": 2,
       "version_minor": 0
      },
      "text/plain": [
       "HBox(children=(IntProgress(value=0, description='Equilibrate sweep', style=ProgressStyle(description_width='in…"
      ]
     },
     "metadata": {},
     "output_type": "display_data"
    },
    {
     "data": {
      "application/vnd.jupyter.widget-view+json": {
       "model_id": "",
       "version_major": 2,
       "version_minor": 0
      },
      "text/plain": [
       "HBox(children=(IntProgress(value=0, description='Measurement sweep', max=10000, style=ProgressStyle(descriptio…"
      ]
     },
     "metadata": {},
     "output_type": "display_data"
    },
    {
     "data": {
      "application/vnd.jupyter.widget-view+json": {
       "model_id": "",
       "version_major": 2,
       "version_minor": 0
      },
      "text/plain": [
       "HBox(children=(IntProgress(value=0, description='Equilibrate sweep', style=ProgressStyle(description_width='in…"
      ]
     },
     "metadata": {},
     "output_type": "display_data"
    },
    {
     "data": {
      "application/vnd.jupyter.widget-view+json": {
       "model_id": "",
       "version_major": 2,
       "version_minor": 0
      },
      "text/plain": [
       "HBox(children=(IntProgress(value=0, description='Measurement sweep', max=10000, style=ProgressStyle(descriptio…"
      ]
     },
     "metadata": {},
     "output_type": "display_data"
    },
    {
     "data": {
      "application/vnd.jupyter.widget-view+json": {
       "model_id": "",
       "version_major": 2,
       "version_minor": 0
      },
      "text/plain": [
       "HBox(children=(IntProgress(value=0, description='Equilibrate sweep', style=ProgressStyle(description_width='in…"
      ]
     },
     "metadata": {},
     "output_type": "display_data"
    },
    {
     "data": {
      "application/vnd.jupyter.widget-view+json": {
       "model_id": "",
       "version_major": 2,
       "version_minor": 0
      },
      "text/plain": [
       "HBox(children=(IntProgress(value=0, description='Measurement sweep', max=10000, style=ProgressStyle(descriptio…"
      ]
     },
     "metadata": {},
     "output_type": "display_data"
    },
    {
     "data": {
      "application/vnd.jupyter.widget-view+json": {
       "model_id": "",
       "version_major": 2,
       "version_minor": 0
      },
      "text/plain": [
       "HBox(children=(IntProgress(value=0, description='Equilibrate sweep', style=ProgressStyle(description_width='in…"
      ]
     },
     "metadata": {},
     "output_type": "display_data"
    },
    {
     "data": {
      "application/vnd.jupyter.widget-view+json": {
       "model_id": "",
       "version_major": 2,
       "version_minor": 0
      },
      "text/plain": [
       "HBox(children=(IntProgress(value=0, description='Measurement sweep', max=10000, style=ProgressStyle(descriptio…"
      ]
     },
     "metadata": {},
     "output_type": "display_data"
    },
    {
     "data": {
      "application/vnd.jupyter.widget-view+json": {
       "model_id": "",
       "version_major": 2,
       "version_minor": 0
      },
      "text/plain": [
       "HBox(children=(IntProgress(value=0, description='Equilibrate sweep', style=ProgressStyle(description_width='in…"
      ]
     },
     "metadata": {},
     "output_type": "display_data"
    },
    {
     "data": {
      "application/vnd.jupyter.widget-view+json": {
       "model_id": "",
       "version_major": 2,
       "version_minor": 0
      },
      "text/plain": [
       "HBox(children=(IntProgress(value=0, description='Measurement sweep', max=10000, style=ProgressStyle(descriptio…"
      ]
     },
     "metadata": {},
     "output_type": "display_data"
    },
    {
     "data": {
      "application/vnd.jupyter.widget-view+json": {
       "model_id": "",
       "version_major": 2,
       "version_minor": 0
      },
      "text/plain": [
       "HBox(children=(IntProgress(value=0, description='Equilibrate sweep', style=ProgressStyle(description_width='in…"
      ]
     },
     "metadata": {},
     "output_type": "display_data"
    },
    {
     "data": {
      "application/vnd.jupyter.widget-view+json": {
       "model_id": "",
       "version_major": 2,
       "version_minor": 0
      },
      "text/plain": [
       "HBox(children=(IntProgress(value=0, description='Measurement sweep', max=10000, style=ProgressStyle(descriptio…"
      ]
     },
     "metadata": {},
     "output_type": "display_data"
    },
    {
     "data": {
      "application/vnd.jupyter.widget-view+json": {
       "model_id": "",
       "version_major": 2,
       "version_minor": 0
      },
      "text/plain": [
       "HBox(children=(IntProgress(value=0, description='Equilibrate sweep', style=ProgressStyle(description_width='in…"
      ]
     },
     "metadata": {},
     "output_type": "display_data"
    },
    {
     "data": {
      "application/vnd.jupyter.widget-view+json": {
       "model_id": "",
       "version_major": 2,
       "version_minor": 0
      },
      "text/plain": [
       "HBox(children=(IntProgress(value=0, description='Measurement sweep', max=10000, style=ProgressStyle(descriptio…"
      ]
     },
     "metadata": {},
     "output_type": "display_data"
    },
    {
     "data": {
      "application/vnd.jupyter.widget-view+json": {
       "model_id": "",
       "version_major": 2,
       "version_minor": 0
      },
      "text/plain": [
       "HBox(children=(IntProgress(value=0, description='Equilibrate sweep', style=ProgressStyle(description_width='in…"
      ]
     },
     "metadata": {},
     "output_type": "display_data"
    },
    {
     "data": {
      "application/vnd.jupyter.widget-view+json": {
       "model_id": "",
       "version_major": 2,
       "version_minor": 0
      },
      "text/plain": [
       "HBox(children=(IntProgress(value=0, description='Measurement sweep', max=10000, style=ProgressStyle(descriptio…"
      ]
     },
     "metadata": {},
     "output_type": "display_data"
    },
    {
     "data": {
      "application/vnd.jupyter.widget-view+json": {
       "model_id": "",
       "version_major": 2,
       "version_minor": 0
      },
      "text/plain": [
       "HBox(children=(IntProgress(value=0, description='Equilibrate sweep', style=ProgressStyle(description_width='in…"
      ]
     },
     "metadata": {},
     "output_type": "display_data"
    },
    {
     "data": {
      "application/vnd.jupyter.widget-view+json": {
       "model_id": "",
       "version_major": 2,
       "version_minor": 0
      },
      "text/plain": [
       "HBox(children=(IntProgress(value=0, description='Measurement sweep', max=10000, style=ProgressStyle(descriptio…"
      ]
     },
     "metadata": {},
     "output_type": "display_data"
    },
    {
     "data": {
      "application/vnd.jupyter.widget-view+json": {
       "model_id": "",
       "version_major": 2,
       "version_minor": 0
      },
      "text/plain": [
       "HBox(children=(IntProgress(value=0, description='Equilibrate sweep', style=ProgressStyle(description_width='in…"
      ]
     },
     "metadata": {},
     "output_type": "display_data"
    },
    {
     "data": {
      "application/vnd.jupyter.widget-view+json": {
       "model_id": "",
       "version_major": 2,
       "version_minor": 0
      },
      "text/plain": [
       "HBox(children=(IntProgress(value=0, description='Measurement sweep', max=10000, style=ProgressStyle(descriptio…"
      ]
     },
     "metadata": {},
     "output_type": "display_data"
    },
    {
     "data": {
      "application/vnd.jupyter.widget-view+json": {
       "model_id": "",
       "version_major": 2,
       "version_minor": 0
      },
      "text/plain": [
       "HBox(children=(IntProgress(value=0, description='Equilibrate sweep', style=ProgressStyle(description_width='in…"
      ]
     },
     "metadata": {},
     "output_type": "display_data"
    },
    {
     "data": {
      "application/vnd.jupyter.widget-view+json": {
       "model_id": "",
       "version_major": 2,
       "version_minor": 0
      },
      "text/plain": [
       "HBox(children=(IntProgress(value=0, description='Measurement sweep', max=10000, style=ProgressStyle(descriptio…"
      ]
     },
     "metadata": {},
     "output_type": "display_data"
    },
    {
     "data": {
      "application/vnd.jupyter.widget-view+json": {
       "model_id": "",
       "version_major": 2,
       "version_minor": 0
      },
      "text/plain": [
       "HBox(children=(IntProgress(value=0, description='Equilibrate sweep', style=ProgressStyle(description_width='in…"
      ]
     },
     "metadata": {},
     "output_type": "display_data"
    },
    {
     "data": {
      "application/vnd.jupyter.widget-view+json": {
       "model_id": "",
       "version_major": 2,
       "version_minor": 0
      },
      "text/plain": [
       "HBox(children=(IntProgress(value=0, description='Measurement sweep', max=10000, style=ProgressStyle(descriptio…"
      ]
     },
     "metadata": {},
     "output_type": "display_data"
    },
    {
     "data": {
      "application/vnd.jupyter.widget-view+json": {
       "model_id": "",
       "version_major": 2,
       "version_minor": 0
      },
      "text/plain": [
       "HBox(children=(IntProgress(value=0, description='Equilibrate sweep', style=ProgressStyle(description_width='in…"
      ]
     },
     "metadata": {},
     "output_type": "display_data"
    },
    {
     "data": {
      "application/vnd.jupyter.widget-view+json": {
       "model_id": "",
       "version_major": 2,
       "version_minor": 0
      },
      "text/plain": [
       "HBox(children=(IntProgress(value=0, description='Measurement sweep', max=10000, style=ProgressStyle(descriptio…"
      ]
     },
     "metadata": {},
     "output_type": "display_data"
    },
    {
     "data": {
      "application/vnd.jupyter.widget-view+json": {
       "model_id": "",
       "version_major": 2,
       "version_minor": 0
      },
      "text/plain": [
       "HBox(children=(IntProgress(value=0, description='Equilibrate sweep', style=ProgressStyle(description_width='in…"
      ]
     },
     "metadata": {},
     "output_type": "display_data"
    },
    {
     "data": {
      "application/vnd.jupyter.widget-view+json": {
       "model_id": "",
       "version_major": 2,
       "version_minor": 0
      },
      "text/plain": [
       "HBox(children=(IntProgress(value=0, description='Measurement sweep', max=10000, style=ProgressStyle(descriptio…"
      ]
     },
     "metadata": {},
     "output_type": "display_data"
    },
    {
     "data": {
      "application/vnd.jupyter.widget-view+json": {
       "model_id": "",
       "version_major": 2,
       "version_minor": 0
      },
      "text/plain": [
       "HBox(children=(IntProgress(value=0, description='Equilibrate sweep', style=ProgressStyle(description_width='in…"
      ]
     },
     "metadata": {},
     "output_type": "display_data"
    },
    {
     "data": {
      "application/vnd.jupyter.widget-view+json": {
       "model_id": "",
       "version_major": 2,
       "version_minor": 0
      },
      "text/plain": [
       "HBox(children=(IntProgress(value=0, description='Measurement sweep', max=10000, style=ProgressStyle(descriptio…"
      ]
     },
     "metadata": {},
     "output_type": "display_data"
    },
    {
     "data": {
      "application/vnd.jupyter.widget-view+json": {
       "model_id": "",
       "version_major": 2,
       "version_minor": 0
      },
      "text/plain": [
       "HBox(children=(IntProgress(value=0, description='Col', max=20, style=ProgressStyle(description_width='initial'…"
      ]
     },
     "metadata": {},
     "output_type": "display_data"
    },
    {
     "data": {
      "application/vnd.jupyter.widget-view+json": {
       "model_id": "",
       "version_major": 2,
       "version_minor": 0
      },
      "text/plain": [
       "HBox(children=(IntProgress(value=0, description='Equilibrate sweep', style=ProgressStyle(description_width='in…"
      ]
     },
     "metadata": {},
     "output_type": "display_data"
    },
    {
     "data": {
      "application/vnd.jupyter.widget-view+json": {
       "model_id": "",
       "version_major": 2,
       "version_minor": 0
      },
      "text/plain": [
       "HBox(children=(IntProgress(value=0, description='Measurement sweep', max=10000, style=ProgressStyle(descriptio…"
      ]
     },
     "metadata": {},
     "output_type": "display_data"
    },
    {
     "data": {
      "application/vnd.jupyter.widget-view+json": {
       "model_id": "",
       "version_major": 2,
       "version_minor": 0
      },
      "text/plain": [
       "HBox(children=(IntProgress(value=0, description='Equilibrate sweep', style=ProgressStyle(description_width='in…"
      ]
     },
     "metadata": {},
     "output_type": "display_data"
    },
    {
     "data": {
      "application/vnd.jupyter.widget-view+json": {
       "model_id": "",
       "version_major": 2,
       "version_minor": 0
      },
      "text/plain": [
       "HBox(children=(IntProgress(value=0, description='Measurement sweep', max=10000, style=ProgressStyle(descriptio…"
      ]
     },
     "metadata": {},
     "output_type": "display_data"
    },
    {
     "data": {
      "application/vnd.jupyter.widget-view+json": {
       "model_id": "",
       "version_major": 2,
       "version_minor": 0
      },
      "text/plain": [
       "HBox(children=(IntProgress(value=0, description='Equilibrate sweep', style=ProgressStyle(description_width='in…"
      ]
     },
     "metadata": {},
     "output_type": "display_data"
    },
    {
     "data": {
      "application/vnd.jupyter.widget-view+json": {
       "model_id": "",
       "version_major": 2,
       "version_minor": 0
      },
      "text/plain": [
       "HBox(children=(IntProgress(value=0, description='Measurement sweep', max=10000, style=ProgressStyle(descriptio…"
      ]
     },
     "metadata": {},
     "output_type": "display_data"
    },
    {
     "data": {
      "application/vnd.jupyter.widget-view+json": {
       "model_id": "",
       "version_major": 2,
       "version_minor": 0
      },
      "text/plain": [
       "HBox(children=(IntProgress(value=0, description='Equilibrate sweep', style=ProgressStyle(description_width='in…"
      ]
     },
     "metadata": {},
     "output_type": "display_data"
    },
    {
     "data": {
      "application/vnd.jupyter.widget-view+json": {
       "model_id": "",
       "version_major": 2,
       "version_minor": 0
      },
      "text/plain": [
       "HBox(children=(IntProgress(value=0, description='Measurement sweep', max=10000, style=ProgressStyle(descriptio…"
      ]
     },
     "metadata": {},
     "output_type": "display_data"
    },
    {
     "data": {
      "application/vnd.jupyter.widget-view+json": {
       "model_id": "",
       "version_major": 2,
       "version_minor": 0
      },
      "text/plain": [
       "HBox(children=(IntProgress(value=0, description='Equilibrate sweep', style=ProgressStyle(description_width='in…"
      ]
     },
     "metadata": {},
     "output_type": "display_data"
    },
    {
     "data": {
      "application/vnd.jupyter.widget-view+json": {
       "model_id": "",
       "version_major": 2,
       "version_minor": 0
      },
      "text/plain": [
       "HBox(children=(IntProgress(value=0, description='Measurement sweep', max=10000, style=ProgressStyle(descriptio…"
      ]
     },
     "metadata": {},
     "output_type": "display_data"
    },
    {
     "data": {
      "application/vnd.jupyter.widget-view+json": {
       "model_id": "",
       "version_major": 2,
       "version_minor": 0
      },
      "text/plain": [
       "HBox(children=(IntProgress(value=0, description='Equilibrate sweep', style=ProgressStyle(description_width='in…"
      ]
     },
     "metadata": {},
     "output_type": "display_data"
    },
    {
     "data": {
      "application/vnd.jupyter.widget-view+json": {
       "model_id": "",
       "version_major": 2,
       "version_minor": 0
      },
      "text/plain": [
       "HBox(children=(IntProgress(value=0, description='Measurement sweep', max=10000, style=ProgressStyle(descriptio…"
      ]
     },
     "metadata": {},
     "output_type": "display_data"
    },
    {
     "data": {
      "application/vnd.jupyter.widget-view+json": {
       "model_id": "",
       "version_major": 2,
       "version_minor": 0
      },
      "text/plain": [
       "HBox(children=(IntProgress(value=0, description='Equilibrate sweep', style=ProgressStyle(description_width='in…"
      ]
     },
     "metadata": {},
     "output_type": "display_data"
    },
    {
     "data": {
      "application/vnd.jupyter.widget-view+json": {
       "model_id": "",
       "version_major": 2,
       "version_minor": 0
      },
      "text/plain": [
       "HBox(children=(IntProgress(value=0, description='Measurement sweep', max=10000, style=ProgressStyle(descriptio…"
      ]
     },
     "metadata": {},
     "output_type": "display_data"
    },
    {
     "data": {
      "application/vnd.jupyter.widget-view+json": {
       "model_id": "",
       "version_major": 2,
       "version_minor": 0
      },
      "text/plain": [
       "HBox(children=(IntProgress(value=0, description='Equilibrate sweep', style=ProgressStyle(description_width='in…"
      ]
     },
     "metadata": {},
     "output_type": "display_data"
    },
    {
     "data": {
      "application/vnd.jupyter.widget-view+json": {
       "model_id": "",
       "version_major": 2,
       "version_minor": 0
      },
      "text/plain": [
       "HBox(children=(IntProgress(value=0, description='Measurement sweep', max=10000, style=ProgressStyle(descriptio…"
      ]
     },
     "metadata": {},
     "output_type": "display_data"
    },
    {
     "data": {
      "application/vnd.jupyter.widget-view+json": {
       "model_id": "",
       "version_major": 2,
       "version_minor": 0
      },
      "text/plain": [
       "HBox(children=(IntProgress(value=0, description='Equilibrate sweep', style=ProgressStyle(description_width='in…"
      ]
     },
     "metadata": {},
     "output_type": "display_data"
    },
    {
     "data": {
      "application/vnd.jupyter.widget-view+json": {
       "model_id": "",
       "version_major": 2,
       "version_minor": 0
      },
      "text/plain": [
       "HBox(children=(IntProgress(value=0, description='Measurement sweep', max=10000, style=ProgressStyle(descriptio…"
      ]
     },
     "metadata": {},
     "output_type": "display_data"
    },
    {
     "data": {
      "application/vnd.jupyter.widget-view+json": {
       "model_id": "",
       "version_major": 2,
       "version_minor": 0
      },
      "text/plain": [
       "HBox(children=(IntProgress(value=0, description='Equilibrate sweep', style=ProgressStyle(description_width='in…"
      ]
     },
     "metadata": {},
     "output_type": "display_data"
    },
    {
     "data": {
      "application/vnd.jupyter.widget-view+json": {
       "model_id": "",
       "version_major": 2,
       "version_minor": 0
      },
      "text/plain": [
       "HBox(children=(IntProgress(value=0, description='Measurement sweep', max=10000, style=ProgressStyle(descriptio…"
      ]
     },
     "metadata": {},
     "output_type": "display_data"
    },
    {
     "data": {
      "application/vnd.jupyter.widget-view+json": {
       "model_id": "",
       "version_major": 2,
       "version_minor": 0
      },
      "text/plain": [
       "HBox(children=(IntProgress(value=0, description='Equilibrate sweep', style=ProgressStyle(description_width='in…"
      ]
     },
     "metadata": {},
     "output_type": "display_data"
    },
    {
     "data": {
      "application/vnd.jupyter.widget-view+json": {
       "model_id": "",
       "version_major": 2,
       "version_minor": 0
      },
      "text/plain": [
       "HBox(children=(IntProgress(value=0, description='Measurement sweep', max=10000, style=ProgressStyle(descriptio…"
      ]
     },
     "metadata": {},
     "output_type": "display_data"
    },
    {
     "data": {
      "application/vnd.jupyter.widget-view+json": {
       "model_id": "",
       "version_major": 2,
       "version_minor": 0
      },
      "text/plain": [
       "HBox(children=(IntProgress(value=0, description='Equilibrate sweep', style=ProgressStyle(description_width='in…"
      ]
     },
     "metadata": {},
     "output_type": "display_data"
    },
    {
     "data": {
      "application/vnd.jupyter.widget-view+json": {
       "model_id": "",
       "version_major": 2,
       "version_minor": 0
      },
      "text/plain": [
       "HBox(children=(IntProgress(value=0, description='Measurement sweep', max=10000, style=ProgressStyle(descriptio…"
      ]
     },
     "metadata": {},
     "output_type": "display_data"
    },
    {
     "data": {
      "application/vnd.jupyter.widget-view+json": {
       "model_id": "",
       "version_major": 2,
       "version_minor": 0
      },
      "text/plain": [
       "HBox(children=(IntProgress(value=0, description='Equilibrate sweep', style=ProgressStyle(description_width='in…"
      ]
     },
     "metadata": {},
     "output_type": "display_data"
    },
    {
     "data": {
      "application/vnd.jupyter.widget-view+json": {
       "model_id": "",
       "version_major": 2,
       "version_minor": 0
      },
      "text/plain": [
       "HBox(children=(IntProgress(value=0, description='Measurement sweep', max=10000, style=ProgressStyle(descriptio…"
      ]
     },
     "metadata": {},
     "output_type": "display_data"
    },
    {
     "data": {
      "application/vnd.jupyter.widget-view+json": {
       "model_id": "",
       "version_major": 2,
       "version_minor": 0
      },
      "text/plain": [
       "HBox(children=(IntProgress(value=0, description='Equilibrate sweep', style=ProgressStyle(description_width='in…"
      ]
     },
     "metadata": {},
     "output_type": "display_data"
    },
    {
     "data": {
      "application/vnd.jupyter.widget-view+json": {
       "model_id": "",
       "version_major": 2,
       "version_minor": 0
      },
      "text/plain": [
       "HBox(children=(IntProgress(value=0, description='Measurement sweep', max=10000, style=ProgressStyle(descriptio…"
      ]
     },
     "metadata": {},
     "output_type": "display_data"
    },
    {
     "data": {
      "application/vnd.jupyter.widget-view+json": {
       "model_id": "",
       "version_major": 2,
       "version_minor": 0
      },
      "text/plain": [
       "HBox(children=(IntProgress(value=0, description='Equilibrate sweep', style=ProgressStyle(description_width='in…"
      ]
     },
     "metadata": {},
     "output_type": "display_data"
    },
    {
     "data": {
      "application/vnd.jupyter.widget-view+json": {
       "model_id": "",
       "version_major": 2,
       "version_minor": 0
      },
      "text/plain": [
       "HBox(children=(IntProgress(value=0, description='Measurement sweep', max=10000, style=ProgressStyle(descriptio…"
      ]
     },
     "metadata": {},
     "output_type": "display_data"
    },
    {
     "data": {
      "application/vnd.jupyter.widget-view+json": {
       "model_id": "",
       "version_major": 2,
       "version_minor": 0
      },
      "text/plain": [
       "HBox(children=(IntProgress(value=0, description='Equilibrate sweep', style=ProgressStyle(description_width='in…"
      ]
     },
     "metadata": {},
     "output_type": "display_data"
    },
    {
     "data": {
      "application/vnd.jupyter.widget-view+json": {
       "model_id": "",
       "version_major": 2,
       "version_minor": 0
      },
      "text/plain": [
       "HBox(children=(IntProgress(value=0, description='Measurement sweep', max=10000, style=ProgressStyle(descriptio…"
      ]
     },
     "metadata": {},
     "output_type": "display_data"
    },
    {
     "data": {
      "application/vnd.jupyter.widget-view+json": {
       "model_id": "",
       "version_major": 2,
       "version_minor": 0
      },
      "text/plain": [
       "HBox(children=(IntProgress(value=0, description='Equilibrate sweep', style=ProgressStyle(description_width='in…"
      ]
     },
     "metadata": {},
     "output_type": "display_data"
    },
    {
     "data": {
      "application/vnd.jupyter.widget-view+json": {
       "model_id": "",
       "version_major": 2,
       "version_minor": 0
      },
      "text/plain": [
       "HBox(children=(IntProgress(value=0, description='Measurement sweep', max=10000, style=ProgressStyle(descriptio…"
      ]
     },
     "metadata": {},
     "output_type": "display_data"
    },
    {
     "data": {
      "application/vnd.jupyter.widget-view+json": {
       "model_id": "",
       "version_major": 2,
       "version_minor": 0
      },
      "text/plain": [
       "HBox(children=(IntProgress(value=0, description='Equilibrate sweep', style=ProgressStyle(description_width='in…"
      ]
     },
     "metadata": {},
     "output_type": "display_data"
    },
    {
     "data": {
      "application/vnd.jupyter.widget-view+json": {
       "model_id": "",
       "version_major": 2,
       "version_minor": 0
      },
      "text/plain": [
       "HBox(children=(IntProgress(value=0, description='Measurement sweep', max=10000, style=ProgressStyle(descriptio…"
      ]
     },
     "metadata": {},
     "output_type": "display_data"
    },
    {
     "data": {
      "application/vnd.jupyter.widget-view+json": {
       "model_id": "",
       "version_major": 2,
       "version_minor": 0
      },
      "text/plain": [
       "HBox(children=(IntProgress(value=0, description='Equilibrate sweep', style=ProgressStyle(description_width='in…"
      ]
     },
     "metadata": {},
     "output_type": "display_data"
    },
    {
     "data": {
      "application/vnd.jupyter.widget-view+json": {
       "model_id": "",
       "version_major": 2,
       "version_minor": 0
      },
      "text/plain": [
       "HBox(children=(IntProgress(value=0, description='Measurement sweep', max=10000, style=ProgressStyle(descriptio…"
      ]
     },
     "metadata": {},
     "output_type": "display_data"
    },
    {
     "data": {
      "application/vnd.jupyter.widget-view+json": {
       "model_id": "",
       "version_major": 2,
       "version_minor": 0
      },
      "text/plain": [
       "HBox(children=(IntProgress(value=0, description='Equilibrate sweep', style=ProgressStyle(description_width='in…"
      ]
     },
     "metadata": {},
     "output_type": "display_data"
    },
    {
     "data": {
      "application/vnd.jupyter.widget-view+json": {
       "model_id": "",
       "version_major": 2,
       "version_minor": 0
      },
      "text/plain": [
       "HBox(children=(IntProgress(value=0, description='Measurement sweep', max=10000, style=ProgressStyle(descriptio…"
      ]
     },
     "metadata": {},
     "output_type": "display_data"
    },
    {
     "data": {
      "application/vnd.jupyter.widget-view+json": {
       "model_id": "",
       "version_major": 2,
       "version_minor": 0
      },
      "text/plain": [
       "HBox(children=(IntProgress(value=0, description='Col', max=20, style=ProgressStyle(description_width='initial'…"
      ]
     },
     "metadata": {},
     "output_type": "display_data"
    },
    {
     "data": {
      "application/vnd.jupyter.widget-view+json": {
       "model_id": "",
       "version_major": 2,
       "version_minor": 0
      },
      "text/plain": [
       "HBox(children=(IntProgress(value=0, description='Equilibrate sweep', style=ProgressStyle(description_width='in…"
      ]
     },
     "metadata": {},
     "output_type": "display_data"
    },
    {
     "data": {
      "application/vnd.jupyter.widget-view+json": {
       "model_id": "",
       "version_major": 2,
       "version_minor": 0
      },
      "text/plain": [
       "HBox(children=(IntProgress(value=0, description='Measurement sweep', max=10000, style=ProgressStyle(descriptio…"
      ]
     },
     "metadata": {},
     "output_type": "display_data"
    },
    {
     "data": {
      "application/vnd.jupyter.widget-view+json": {
       "model_id": "",
       "version_major": 2,
       "version_minor": 0
      },
      "text/plain": [
       "HBox(children=(IntProgress(value=0, description='Equilibrate sweep', style=ProgressStyle(description_width='in…"
      ]
     },
     "metadata": {},
     "output_type": "display_data"
    },
    {
     "data": {
      "application/vnd.jupyter.widget-view+json": {
       "model_id": "",
       "version_major": 2,
       "version_minor": 0
      },
      "text/plain": [
       "HBox(children=(IntProgress(value=0, description='Measurement sweep', max=10000, style=ProgressStyle(descriptio…"
      ]
     },
     "metadata": {},
     "output_type": "display_data"
    },
    {
     "data": {
      "application/vnd.jupyter.widget-view+json": {
       "model_id": "",
       "version_major": 2,
       "version_minor": 0
      },
      "text/plain": [
       "HBox(children=(IntProgress(value=0, description='Equilibrate sweep', style=ProgressStyle(description_width='in…"
      ]
     },
     "metadata": {},
     "output_type": "display_data"
    },
    {
     "data": {
      "application/vnd.jupyter.widget-view+json": {
       "model_id": "",
       "version_major": 2,
       "version_minor": 0
      },
      "text/plain": [
       "HBox(children=(IntProgress(value=0, description='Measurement sweep', max=10000, style=ProgressStyle(descriptio…"
      ]
     },
     "metadata": {},
     "output_type": "display_data"
    },
    {
     "data": {
      "application/vnd.jupyter.widget-view+json": {
       "model_id": "",
       "version_major": 2,
       "version_minor": 0
      },
      "text/plain": [
       "HBox(children=(IntProgress(value=0, description='Equilibrate sweep', style=ProgressStyle(description_width='in…"
      ]
     },
     "metadata": {},
     "output_type": "display_data"
    },
    {
     "data": {
      "application/vnd.jupyter.widget-view+json": {
       "model_id": "",
       "version_major": 2,
       "version_minor": 0
      },
      "text/plain": [
       "HBox(children=(IntProgress(value=0, description='Measurement sweep', max=10000, style=ProgressStyle(descriptio…"
      ]
     },
     "metadata": {},
     "output_type": "display_data"
    },
    {
     "data": {
      "application/vnd.jupyter.widget-view+json": {
       "model_id": "",
       "version_major": 2,
       "version_minor": 0
      },
      "text/plain": [
       "HBox(children=(IntProgress(value=0, description='Equilibrate sweep', style=ProgressStyle(description_width='in…"
      ]
     },
     "metadata": {},
     "output_type": "display_data"
    },
    {
     "data": {
      "application/vnd.jupyter.widget-view+json": {
       "model_id": "",
       "version_major": 2,
       "version_minor": 0
      },
      "text/plain": [
       "HBox(children=(IntProgress(value=0, description='Measurement sweep', max=10000, style=ProgressStyle(descriptio…"
      ]
     },
     "metadata": {},
     "output_type": "display_data"
    },
    {
     "data": {
      "application/vnd.jupyter.widget-view+json": {
       "model_id": "",
       "version_major": 2,
       "version_minor": 0
      },
      "text/plain": [
       "HBox(children=(IntProgress(value=0, description='Equilibrate sweep', style=ProgressStyle(description_width='in…"
      ]
     },
     "metadata": {},
     "output_type": "display_data"
    },
    {
     "data": {
      "application/vnd.jupyter.widget-view+json": {
       "model_id": "",
       "version_major": 2,
       "version_minor": 0
      },
      "text/plain": [
       "HBox(children=(IntProgress(value=0, description='Measurement sweep', max=10000, style=ProgressStyle(descriptio…"
      ]
     },
     "metadata": {},
     "output_type": "display_data"
    },
    {
     "data": {
      "application/vnd.jupyter.widget-view+json": {
       "model_id": "",
       "version_major": 2,
       "version_minor": 0
      },
      "text/plain": [
       "HBox(children=(IntProgress(value=0, description='Equilibrate sweep', style=ProgressStyle(description_width='in…"
      ]
     },
     "metadata": {},
     "output_type": "display_data"
    },
    {
     "data": {
      "application/vnd.jupyter.widget-view+json": {
       "model_id": "",
       "version_major": 2,
       "version_minor": 0
      },
      "text/plain": [
       "HBox(children=(IntProgress(value=0, description='Measurement sweep', max=10000, style=ProgressStyle(descriptio…"
      ]
     },
     "metadata": {},
     "output_type": "display_data"
    },
    {
     "data": {
      "application/vnd.jupyter.widget-view+json": {
       "model_id": "",
       "version_major": 2,
       "version_minor": 0
      },
      "text/plain": [
       "HBox(children=(IntProgress(value=0, description='Equilibrate sweep', style=ProgressStyle(description_width='in…"
      ]
     },
     "metadata": {},
     "output_type": "display_data"
    },
    {
     "data": {
      "application/vnd.jupyter.widget-view+json": {
       "model_id": "",
       "version_major": 2,
       "version_minor": 0
      },
      "text/plain": [
       "HBox(children=(IntProgress(value=0, description='Measurement sweep', max=10000, style=ProgressStyle(descriptio…"
      ]
     },
     "metadata": {},
     "output_type": "display_data"
    },
    {
     "data": {
      "application/vnd.jupyter.widget-view+json": {
       "model_id": "",
       "version_major": 2,
       "version_minor": 0
      },
      "text/plain": [
       "HBox(children=(IntProgress(value=0, description='Equilibrate sweep', style=ProgressStyle(description_width='in…"
      ]
     },
     "metadata": {},
     "output_type": "display_data"
    },
    {
     "data": {
      "application/vnd.jupyter.widget-view+json": {
       "model_id": "",
       "version_major": 2,
       "version_minor": 0
      },
      "text/plain": [
       "HBox(children=(IntProgress(value=0, description='Measurement sweep', max=10000, style=ProgressStyle(descriptio…"
      ]
     },
     "metadata": {},
     "output_type": "display_data"
    },
    {
     "data": {
      "application/vnd.jupyter.widget-view+json": {
       "model_id": "",
       "version_major": 2,
       "version_minor": 0
      },
      "text/plain": [
       "HBox(children=(IntProgress(value=0, description='Equilibrate sweep', style=ProgressStyle(description_width='in…"
      ]
     },
     "metadata": {},
     "output_type": "display_data"
    },
    {
     "data": {
      "application/vnd.jupyter.widget-view+json": {
       "model_id": "",
       "version_major": 2,
       "version_minor": 0
      },
      "text/plain": [
       "HBox(children=(IntProgress(value=0, description='Measurement sweep', max=10000, style=ProgressStyle(descriptio…"
      ]
     },
     "metadata": {},
     "output_type": "display_data"
    },
    {
     "data": {
      "application/vnd.jupyter.widget-view+json": {
       "model_id": "",
       "version_major": 2,
       "version_minor": 0
      },
      "text/plain": [
       "HBox(children=(IntProgress(value=0, description='Equilibrate sweep', style=ProgressStyle(description_width='in…"
      ]
     },
     "metadata": {},
     "output_type": "display_data"
    },
    {
     "data": {
      "application/vnd.jupyter.widget-view+json": {
       "model_id": "",
       "version_major": 2,
       "version_minor": 0
      },
      "text/plain": [
       "HBox(children=(IntProgress(value=0, description='Measurement sweep', max=10000, style=ProgressStyle(descriptio…"
      ]
     },
     "metadata": {},
     "output_type": "display_data"
    },
    {
     "data": {
      "application/vnd.jupyter.widget-view+json": {
       "model_id": "",
       "version_major": 2,
       "version_minor": 0
      },
      "text/plain": [
       "HBox(children=(IntProgress(value=0, description='Equilibrate sweep', style=ProgressStyle(description_width='in…"
      ]
     },
     "metadata": {},
     "output_type": "display_data"
    },
    {
     "data": {
      "application/vnd.jupyter.widget-view+json": {
       "model_id": "",
       "version_major": 2,
       "version_minor": 0
      },
      "text/plain": [
       "HBox(children=(IntProgress(value=0, description='Measurement sweep', max=10000, style=ProgressStyle(descriptio…"
      ]
     },
     "metadata": {},
     "output_type": "display_data"
    },
    {
     "data": {
      "application/vnd.jupyter.widget-view+json": {
       "model_id": "",
       "version_major": 2,
       "version_minor": 0
      },
      "text/plain": [
       "HBox(children=(IntProgress(value=0, description='Equilibrate sweep', style=ProgressStyle(description_width='in…"
      ]
     },
     "metadata": {},
     "output_type": "display_data"
    },
    {
     "data": {
      "application/vnd.jupyter.widget-view+json": {
       "model_id": "",
       "version_major": 2,
       "version_minor": 0
      },
      "text/plain": [
       "HBox(children=(IntProgress(value=0, description='Measurement sweep', max=10000, style=ProgressStyle(descriptio…"
      ]
     },
     "metadata": {},
     "output_type": "display_data"
    },
    {
     "data": {
      "application/vnd.jupyter.widget-view+json": {
       "model_id": "",
       "version_major": 2,
       "version_minor": 0
      },
      "text/plain": [
       "HBox(children=(IntProgress(value=0, description='Equilibrate sweep', style=ProgressStyle(description_width='in…"
      ]
     },
     "metadata": {},
     "output_type": "display_data"
    },
    {
     "data": {
      "application/vnd.jupyter.widget-view+json": {
       "model_id": "",
       "version_major": 2,
       "version_minor": 0
      },
      "text/plain": [
       "HBox(children=(IntProgress(value=0, description='Measurement sweep', max=10000, style=ProgressStyle(descriptio…"
      ]
     },
     "metadata": {},
     "output_type": "display_data"
    },
    {
     "data": {
      "application/vnd.jupyter.widget-view+json": {
       "model_id": "",
       "version_major": 2,
       "version_minor": 0
      },
      "text/plain": [
       "HBox(children=(IntProgress(value=0, description='Equilibrate sweep', style=ProgressStyle(description_width='in…"
      ]
     },
     "metadata": {},
     "output_type": "display_data"
    },
    {
     "data": {
      "application/vnd.jupyter.widget-view+json": {
       "model_id": "",
       "version_major": 2,
       "version_minor": 0
      },
      "text/plain": [
       "HBox(children=(IntProgress(value=0, description='Measurement sweep', max=10000, style=ProgressStyle(descriptio…"
      ]
     },
     "metadata": {},
     "output_type": "display_data"
    },
    {
     "data": {
      "application/vnd.jupyter.widget-view+json": {
       "model_id": "",
       "version_major": 2,
       "version_minor": 0
      },
      "text/plain": [
       "HBox(children=(IntProgress(value=0, description='Equilibrate sweep', style=ProgressStyle(description_width='in…"
      ]
     },
     "metadata": {},
     "output_type": "display_data"
    },
    {
     "data": {
      "application/vnd.jupyter.widget-view+json": {
       "model_id": "",
       "version_major": 2,
       "version_minor": 0
      },
      "text/plain": [
       "HBox(children=(IntProgress(value=0, description='Measurement sweep', max=10000, style=ProgressStyle(descriptio…"
      ]
     },
     "metadata": {},
     "output_type": "display_data"
    },
    {
     "data": {
      "application/vnd.jupyter.widget-view+json": {
       "model_id": "",
       "version_major": 2,
       "version_minor": 0
      },
      "text/plain": [
       "HBox(children=(IntProgress(value=0, description='Equilibrate sweep', style=ProgressStyle(description_width='in…"
      ]
     },
     "metadata": {},
     "output_type": "display_data"
    },
    {
     "data": {
      "application/vnd.jupyter.widget-view+json": {
       "model_id": "",
       "version_major": 2,
       "version_minor": 0
      },
      "text/plain": [
       "HBox(children=(IntProgress(value=0, description='Measurement sweep', max=10000, style=ProgressStyle(descriptio…"
      ]
     },
     "metadata": {},
     "output_type": "display_data"
    },
    {
     "data": {
      "application/vnd.jupyter.widget-view+json": {
       "model_id": "",
       "version_major": 2,
       "version_minor": 0
      },
      "text/plain": [
       "HBox(children=(IntProgress(value=0, description='Equilibrate sweep', style=ProgressStyle(description_width='in…"
      ]
     },
     "metadata": {},
     "output_type": "display_data"
    },
    {
     "data": {
      "application/vnd.jupyter.widget-view+json": {
       "model_id": "",
       "version_major": 2,
       "version_minor": 0
      },
      "text/plain": [
       "HBox(children=(IntProgress(value=0, description='Measurement sweep', max=10000, style=ProgressStyle(descriptio…"
      ]
     },
     "metadata": {},
     "output_type": "display_data"
    },
    {
     "data": {
      "application/vnd.jupyter.widget-view+json": {
       "model_id": "",
       "version_major": 2,
       "version_minor": 0
      },
      "text/plain": [
       "HBox(children=(IntProgress(value=0, description='Equilibrate sweep', style=ProgressStyle(description_width='in…"
      ]
     },
     "metadata": {},
     "output_type": "display_data"
    },
    {
     "data": {
      "application/vnd.jupyter.widget-view+json": {
       "model_id": "",
       "version_major": 2,
       "version_minor": 0
      },
      "text/plain": [
       "HBox(children=(IntProgress(value=0, description='Measurement sweep', max=10000, style=ProgressStyle(descriptio…"
      ]
     },
     "metadata": {},
     "output_type": "display_data"
    },
    {
     "data": {
      "application/vnd.jupyter.widget-view+json": {
       "model_id": "",
       "version_major": 2,
       "version_minor": 0
      },
      "text/plain": [
       "HBox(children=(IntProgress(value=0, description='Equilibrate sweep', style=ProgressStyle(description_width='in…"
      ]
     },
     "metadata": {},
     "output_type": "display_data"
    },
    {
     "data": {
      "application/vnd.jupyter.widget-view+json": {
       "model_id": "",
       "version_major": 2,
       "version_minor": 0
      },
      "text/plain": [
       "HBox(children=(IntProgress(value=0, description='Measurement sweep', max=10000, style=ProgressStyle(descriptio…"
      ]
     },
     "metadata": {},
     "output_type": "display_data"
    },
    {
     "data": {
      "application/vnd.jupyter.widget-view+json": {
       "model_id": "",
       "version_major": 2,
       "version_minor": 0
      },
      "text/plain": [
       "HBox(children=(IntProgress(value=0, description='Col', max=20, style=ProgressStyle(description_width='initial'…"
      ]
     },
     "metadata": {},
     "output_type": "display_data"
    },
    {
     "data": {
      "application/vnd.jupyter.widget-view+json": {
       "model_id": "",
       "version_major": 2,
       "version_minor": 0
      },
      "text/plain": [
       "HBox(children=(IntProgress(value=0, description='Equilibrate sweep', style=ProgressStyle(description_width='in…"
      ]
     },
     "metadata": {},
     "output_type": "display_data"
    },
    {
     "data": {
      "application/vnd.jupyter.widget-view+json": {
       "model_id": "",
       "version_major": 2,
       "version_minor": 0
      },
      "text/plain": [
       "HBox(children=(IntProgress(value=0, description='Measurement sweep', max=10000, style=ProgressStyle(descriptio…"
      ]
     },
     "metadata": {},
     "output_type": "display_data"
    },
    {
     "data": {
      "application/vnd.jupyter.widget-view+json": {
       "model_id": "",
       "version_major": 2,
       "version_minor": 0
      },
      "text/plain": [
       "HBox(children=(IntProgress(value=0, description='Equilibrate sweep', style=ProgressStyle(description_width='in…"
      ]
     },
     "metadata": {},
     "output_type": "display_data"
    },
    {
     "data": {
      "application/vnd.jupyter.widget-view+json": {
       "model_id": "",
       "version_major": 2,
       "version_minor": 0
      },
      "text/plain": [
       "HBox(children=(IntProgress(value=0, description='Measurement sweep', max=10000, style=ProgressStyle(descriptio…"
      ]
     },
     "metadata": {},
     "output_type": "display_data"
    },
    {
     "data": {
      "application/vnd.jupyter.widget-view+json": {
       "model_id": "",
       "version_major": 2,
       "version_minor": 0
      },
      "text/plain": [
       "HBox(children=(IntProgress(value=0, description='Equilibrate sweep', style=ProgressStyle(description_width='in…"
      ]
     },
     "metadata": {},
     "output_type": "display_data"
    },
    {
     "data": {
      "application/vnd.jupyter.widget-view+json": {
       "model_id": "",
       "version_major": 2,
       "version_minor": 0
      },
      "text/plain": [
       "HBox(children=(IntProgress(value=0, description='Measurement sweep', max=10000, style=ProgressStyle(descriptio…"
      ]
     },
     "metadata": {},
     "output_type": "display_data"
    },
    {
     "data": {
      "application/vnd.jupyter.widget-view+json": {
       "model_id": "",
       "version_major": 2,
       "version_minor": 0
      },
      "text/plain": [
       "HBox(children=(IntProgress(value=0, description='Equilibrate sweep', style=ProgressStyle(description_width='in…"
      ]
     },
     "metadata": {},
     "output_type": "display_data"
    },
    {
     "data": {
      "application/vnd.jupyter.widget-view+json": {
       "model_id": "",
       "version_major": 2,
       "version_minor": 0
      },
      "text/plain": [
       "HBox(children=(IntProgress(value=0, description='Measurement sweep', max=10000, style=ProgressStyle(descriptio…"
      ]
     },
     "metadata": {},
     "output_type": "display_data"
    },
    {
     "data": {
      "application/vnd.jupyter.widget-view+json": {
       "model_id": "",
       "version_major": 2,
       "version_minor": 0
      },
      "text/plain": [
       "HBox(children=(IntProgress(value=0, description='Equilibrate sweep', style=ProgressStyle(description_width='in…"
      ]
     },
     "metadata": {},
     "output_type": "display_data"
    },
    {
     "data": {
      "application/vnd.jupyter.widget-view+json": {
       "model_id": "",
       "version_major": 2,
       "version_minor": 0
      },
      "text/plain": [
       "HBox(children=(IntProgress(value=0, description='Measurement sweep', max=10000, style=ProgressStyle(descriptio…"
      ]
     },
     "metadata": {},
     "output_type": "display_data"
    },
    {
     "data": {
      "application/vnd.jupyter.widget-view+json": {
       "model_id": "",
       "version_major": 2,
       "version_minor": 0
      },
      "text/plain": [
       "HBox(children=(IntProgress(value=0, description='Equilibrate sweep', style=ProgressStyle(description_width='in…"
      ]
     },
     "metadata": {},
     "output_type": "display_data"
    },
    {
     "data": {
      "application/vnd.jupyter.widget-view+json": {
       "model_id": "",
       "version_major": 2,
       "version_minor": 0
      },
      "text/plain": [
       "HBox(children=(IntProgress(value=0, description='Measurement sweep', max=10000, style=ProgressStyle(descriptio…"
      ]
     },
     "metadata": {},
     "output_type": "display_data"
    },
    {
     "data": {
      "application/vnd.jupyter.widget-view+json": {
       "model_id": "",
       "version_major": 2,
       "version_minor": 0
      },
      "text/plain": [
       "HBox(children=(IntProgress(value=0, description='Equilibrate sweep', style=ProgressStyle(description_width='in…"
      ]
     },
     "metadata": {},
     "output_type": "display_data"
    },
    {
     "data": {
      "application/vnd.jupyter.widget-view+json": {
       "model_id": "",
       "version_major": 2,
       "version_minor": 0
      },
      "text/plain": [
       "HBox(children=(IntProgress(value=0, description='Measurement sweep', max=10000, style=ProgressStyle(descriptio…"
      ]
     },
     "metadata": {},
     "output_type": "display_data"
    },
    {
     "data": {
      "application/vnd.jupyter.widget-view+json": {
       "model_id": "",
       "version_major": 2,
       "version_minor": 0
      },
      "text/plain": [
       "HBox(children=(IntProgress(value=0, description='Equilibrate sweep', style=ProgressStyle(description_width='in…"
      ]
     },
     "metadata": {},
     "output_type": "display_data"
    },
    {
     "data": {
      "application/vnd.jupyter.widget-view+json": {
       "model_id": "",
       "version_major": 2,
       "version_minor": 0
      },
      "text/plain": [
       "HBox(children=(IntProgress(value=0, description='Measurement sweep', max=10000, style=ProgressStyle(descriptio…"
      ]
     },
     "metadata": {},
     "output_type": "display_data"
    },
    {
     "data": {
      "application/vnd.jupyter.widget-view+json": {
       "model_id": "",
       "version_major": 2,
       "version_minor": 0
      },
      "text/plain": [
       "HBox(children=(IntProgress(value=0, description='Equilibrate sweep', style=ProgressStyle(description_width='in…"
      ]
     },
     "metadata": {},
     "output_type": "display_data"
    },
    {
     "data": {
      "application/vnd.jupyter.widget-view+json": {
       "model_id": "",
       "version_major": 2,
       "version_minor": 0
      },
      "text/plain": [
       "HBox(children=(IntProgress(value=0, description='Measurement sweep', max=10000, style=ProgressStyle(descriptio…"
      ]
     },
     "metadata": {},
     "output_type": "display_data"
    },
    {
     "data": {
      "application/vnd.jupyter.widget-view+json": {
       "model_id": "",
       "version_major": 2,
       "version_minor": 0
      },
      "text/plain": [
       "HBox(children=(IntProgress(value=0, description='Equilibrate sweep', style=ProgressStyle(description_width='in…"
      ]
     },
     "metadata": {},
     "output_type": "display_data"
    },
    {
     "data": {
      "application/vnd.jupyter.widget-view+json": {
       "model_id": "",
       "version_major": 2,
       "version_minor": 0
      },
      "text/plain": [
       "HBox(children=(IntProgress(value=0, description='Measurement sweep', max=10000, style=ProgressStyle(descriptio…"
      ]
     },
     "metadata": {},
     "output_type": "display_data"
    },
    {
     "data": {
      "application/vnd.jupyter.widget-view+json": {
       "model_id": "",
       "version_major": 2,
       "version_minor": 0
      },
      "text/plain": [
       "HBox(children=(IntProgress(value=0, description='Equilibrate sweep', style=ProgressStyle(description_width='in…"
      ]
     },
     "metadata": {},
     "output_type": "display_data"
    },
    {
     "data": {
      "application/vnd.jupyter.widget-view+json": {
       "model_id": "",
       "version_major": 2,
       "version_minor": 0
      },
      "text/plain": [
       "HBox(children=(IntProgress(value=0, description='Measurement sweep', max=10000, style=ProgressStyle(descriptio…"
      ]
     },
     "metadata": {},
     "output_type": "display_data"
    },
    {
     "data": {
      "application/vnd.jupyter.widget-view+json": {
       "model_id": "",
       "version_major": 2,
       "version_minor": 0
      },
      "text/plain": [
       "HBox(children=(IntProgress(value=0, description='Equilibrate sweep', style=ProgressStyle(description_width='in…"
      ]
     },
     "metadata": {},
     "output_type": "display_data"
    },
    {
     "data": {
      "application/vnd.jupyter.widget-view+json": {
       "model_id": "",
       "version_major": 2,
       "version_minor": 0
      },
      "text/plain": [
       "HBox(children=(IntProgress(value=0, description='Measurement sweep', max=10000, style=ProgressStyle(descriptio…"
      ]
     },
     "metadata": {},
     "output_type": "display_data"
    },
    {
     "data": {
      "application/vnd.jupyter.widget-view+json": {
       "model_id": "",
       "version_major": 2,
       "version_minor": 0
      },
      "text/plain": [
       "HBox(children=(IntProgress(value=0, description='Equilibrate sweep', style=ProgressStyle(description_width='in…"
      ]
     },
     "metadata": {},
     "output_type": "display_data"
    },
    {
     "data": {
      "application/vnd.jupyter.widget-view+json": {
       "model_id": "",
       "version_major": 2,
       "version_minor": 0
      },
      "text/plain": [
       "HBox(children=(IntProgress(value=0, description='Measurement sweep', max=10000, style=ProgressStyle(descriptio…"
      ]
     },
     "metadata": {},
     "output_type": "display_data"
    },
    {
     "data": {
      "application/vnd.jupyter.widget-view+json": {
       "model_id": "",
       "version_major": 2,
       "version_minor": 0
      },
      "text/plain": [
       "HBox(children=(IntProgress(value=0, description='Equilibrate sweep', style=ProgressStyle(description_width='in…"
      ]
     },
     "metadata": {},
     "output_type": "display_data"
    },
    {
     "data": {
      "application/vnd.jupyter.widget-view+json": {
       "model_id": "",
       "version_major": 2,
       "version_minor": 0
      },
      "text/plain": [
       "HBox(children=(IntProgress(value=0, description='Measurement sweep', max=10000, style=ProgressStyle(descriptio…"
      ]
     },
     "metadata": {},
     "output_type": "display_data"
    },
    {
     "data": {
      "application/vnd.jupyter.widget-view+json": {
       "model_id": "",
       "version_major": 2,
       "version_minor": 0
      },
      "text/plain": [
       "HBox(children=(IntProgress(value=0, description='Equilibrate sweep', style=ProgressStyle(description_width='in…"
      ]
     },
     "metadata": {},
     "output_type": "display_data"
    },
    {
     "data": {
      "application/vnd.jupyter.widget-view+json": {
       "model_id": "",
       "version_major": 2,
       "version_minor": 0
      },
      "text/plain": [
       "HBox(children=(IntProgress(value=0, description='Measurement sweep', max=10000, style=ProgressStyle(descriptio…"
      ]
     },
     "metadata": {},
     "output_type": "display_data"
    },
    {
     "data": {
      "application/vnd.jupyter.widget-view+json": {
       "model_id": "",
       "version_major": 2,
       "version_minor": 0
      },
      "text/plain": [
       "HBox(children=(IntProgress(value=0, description='Equilibrate sweep', style=ProgressStyle(description_width='in…"
      ]
     },
     "metadata": {},
     "output_type": "display_data"
    },
    {
     "data": {
      "application/vnd.jupyter.widget-view+json": {
       "model_id": "",
       "version_major": 2,
       "version_minor": 0
      },
      "text/plain": [
       "HBox(children=(IntProgress(value=0, description='Measurement sweep', max=10000, style=ProgressStyle(descriptio…"
      ]
     },
     "metadata": {},
     "output_type": "display_data"
    },
    {
     "data": {
      "application/vnd.jupyter.widget-view+json": {
       "model_id": "",
       "version_major": 2,
       "version_minor": 0
      },
      "text/plain": [
       "HBox(children=(IntProgress(value=0, description='Equilibrate sweep', style=ProgressStyle(description_width='in…"
      ]
     },
     "metadata": {},
     "output_type": "display_data"
    },
    {
     "data": {
      "application/vnd.jupyter.widget-view+json": {
       "model_id": "",
       "version_major": 2,
       "version_minor": 0
      },
      "text/plain": [
       "HBox(children=(IntProgress(value=0, description='Measurement sweep', max=10000, style=ProgressStyle(descriptio…"
      ]
     },
     "metadata": {},
     "output_type": "display_data"
    },
    {
     "data": {
      "application/vnd.jupyter.widget-view+json": {
       "model_id": "",
       "version_major": 2,
       "version_minor": 0
      },
      "text/plain": [
       "HBox(children=(IntProgress(value=0, description='Equilibrate sweep', style=ProgressStyle(description_width='in…"
      ]
     },
     "metadata": {},
     "output_type": "display_data"
    },
    {
     "data": {
      "application/vnd.jupyter.widget-view+json": {
       "model_id": "",
       "version_major": 2,
       "version_minor": 0
      },
      "text/plain": [
       "HBox(children=(IntProgress(value=0, description='Measurement sweep', max=10000, style=ProgressStyle(descriptio…"
      ]
     },
     "metadata": {},
     "output_type": "display_data"
    },
    {
     "data": {
      "application/vnd.jupyter.widget-view+json": {
       "model_id": "",
       "version_major": 2,
       "version_minor": 0
      },
      "text/plain": [
       "HBox(children=(IntProgress(value=0, description='Equilibrate sweep', style=ProgressStyle(description_width='in…"
      ]
     },
     "metadata": {},
     "output_type": "display_data"
    },
    {
     "data": {
      "application/vnd.jupyter.widget-view+json": {
       "model_id": "",
       "version_major": 2,
       "version_minor": 0
      },
      "text/plain": [
       "HBox(children=(IntProgress(value=0, description='Measurement sweep', max=10000, style=ProgressStyle(descriptio…"
      ]
     },
     "metadata": {},
     "output_type": "display_data"
    },
    {
     "data": {
      "application/vnd.jupyter.widget-view+json": {
       "model_id": "",
       "version_major": 2,
       "version_minor": 0
      },
      "text/plain": [
       "HBox(children=(IntProgress(value=0, description='Equilibrate sweep', style=ProgressStyle(description_width='in…"
      ]
     },
     "metadata": {},
     "output_type": "display_data"
    },
    {
     "data": {
      "application/vnd.jupyter.widget-view+json": {
       "model_id": "",
       "version_major": 2,
       "version_minor": 0
      },
      "text/plain": [
       "HBox(children=(IntProgress(value=0, description='Measurement sweep', max=10000, style=ProgressStyle(descriptio…"
      ]
     },
     "metadata": {},
     "output_type": "display_data"
    },
    {
     "data": {
      "application/vnd.jupyter.widget-view+json": {
       "model_id": "",
       "version_major": 2,
       "version_minor": 0
      },
      "text/plain": [
       "HBox(children=(IntProgress(value=0, description='Col', max=20, style=ProgressStyle(description_width='initial'…"
      ]
     },
     "metadata": {},
     "output_type": "display_data"
    },
    {
     "data": {
      "application/vnd.jupyter.widget-view+json": {
       "model_id": "",
       "version_major": 2,
       "version_minor": 0
      },
      "text/plain": [
       "HBox(children=(IntProgress(value=0, description='Equilibrate sweep', style=ProgressStyle(description_width='in…"
      ]
     },
     "metadata": {},
     "output_type": "display_data"
    },
    {
     "data": {
      "application/vnd.jupyter.widget-view+json": {
       "model_id": "",
       "version_major": 2,
       "version_minor": 0
      },
      "text/plain": [
       "HBox(children=(IntProgress(value=0, description='Measurement sweep', max=10000, style=ProgressStyle(descriptio…"
      ]
     },
     "metadata": {},
     "output_type": "display_data"
    },
    {
     "data": {
      "application/vnd.jupyter.widget-view+json": {
       "model_id": "",
       "version_major": 2,
       "version_minor": 0
      },
      "text/plain": [
       "HBox(children=(IntProgress(value=0, description='Equilibrate sweep', style=ProgressStyle(description_width='in…"
      ]
     },
     "metadata": {},
     "output_type": "display_data"
    },
    {
     "data": {
      "application/vnd.jupyter.widget-view+json": {
       "model_id": "",
       "version_major": 2,
       "version_minor": 0
      },
      "text/plain": [
       "HBox(children=(IntProgress(value=0, description='Measurement sweep', max=10000, style=ProgressStyle(descriptio…"
      ]
     },
     "metadata": {},
     "output_type": "display_data"
    },
    {
     "data": {
      "application/vnd.jupyter.widget-view+json": {
       "model_id": "",
       "version_major": 2,
       "version_minor": 0
      },
      "text/plain": [
       "HBox(children=(IntProgress(value=0, description='Equilibrate sweep', style=ProgressStyle(description_width='in…"
      ]
     },
     "metadata": {},
     "output_type": "display_data"
    },
    {
     "data": {
      "application/vnd.jupyter.widget-view+json": {
       "model_id": "",
       "version_major": 2,
       "version_minor": 0
      },
      "text/plain": [
       "HBox(children=(IntProgress(value=0, description='Measurement sweep', max=10000, style=ProgressStyle(descriptio…"
      ]
     },
     "metadata": {},
     "output_type": "display_data"
    },
    {
     "data": {
      "application/vnd.jupyter.widget-view+json": {
       "model_id": "",
       "version_major": 2,
       "version_minor": 0
      },
      "text/plain": [
       "HBox(children=(IntProgress(value=0, description='Equilibrate sweep', style=ProgressStyle(description_width='in…"
      ]
     },
     "metadata": {},
     "output_type": "display_data"
    },
    {
     "data": {
      "application/vnd.jupyter.widget-view+json": {
       "model_id": "",
       "version_major": 2,
       "version_minor": 0
      },
      "text/plain": [
       "HBox(children=(IntProgress(value=0, description='Measurement sweep', max=10000, style=ProgressStyle(descriptio…"
      ]
     },
     "metadata": {},
     "output_type": "display_data"
    },
    {
     "data": {
      "application/vnd.jupyter.widget-view+json": {
       "model_id": "",
       "version_major": 2,
       "version_minor": 0
      },
      "text/plain": [
       "HBox(children=(IntProgress(value=0, description='Equilibrate sweep', style=ProgressStyle(description_width='in…"
      ]
     },
     "metadata": {},
     "output_type": "display_data"
    },
    {
     "data": {
      "application/vnd.jupyter.widget-view+json": {
       "model_id": "",
       "version_major": 2,
       "version_minor": 0
      },
      "text/plain": [
       "HBox(children=(IntProgress(value=0, description='Measurement sweep', max=10000, style=ProgressStyle(descriptio…"
      ]
     },
     "metadata": {},
     "output_type": "display_data"
    },
    {
     "data": {
      "application/vnd.jupyter.widget-view+json": {
       "model_id": "",
       "version_major": 2,
       "version_minor": 0
      },
      "text/plain": [
       "HBox(children=(IntProgress(value=0, description='Equilibrate sweep', style=ProgressStyle(description_width='in…"
      ]
     },
     "metadata": {},
     "output_type": "display_data"
    },
    {
     "data": {
      "application/vnd.jupyter.widget-view+json": {
       "model_id": "",
       "version_major": 2,
       "version_minor": 0
      },
      "text/plain": [
       "HBox(children=(IntProgress(value=0, description='Measurement sweep', max=10000, style=ProgressStyle(descriptio…"
      ]
     },
     "metadata": {},
     "output_type": "display_data"
    },
    {
     "data": {
      "application/vnd.jupyter.widget-view+json": {
       "model_id": "",
       "version_major": 2,
       "version_minor": 0
      },
      "text/plain": [
       "HBox(children=(IntProgress(value=0, description='Equilibrate sweep', style=ProgressStyle(description_width='in…"
      ]
     },
     "metadata": {},
     "output_type": "display_data"
    },
    {
     "data": {
      "application/vnd.jupyter.widget-view+json": {
       "model_id": "",
       "version_major": 2,
       "version_minor": 0
      },
      "text/plain": [
       "HBox(children=(IntProgress(value=0, description='Measurement sweep', max=10000, style=ProgressStyle(descriptio…"
      ]
     },
     "metadata": {},
     "output_type": "display_data"
    },
    {
     "data": {
      "application/vnd.jupyter.widget-view+json": {
       "model_id": "",
       "version_major": 2,
       "version_minor": 0
      },
      "text/plain": [
       "HBox(children=(IntProgress(value=0, description='Equilibrate sweep', style=ProgressStyle(description_width='in…"
      ]
     },
     "metadata": {},
     "output_type": "display_data"
    },
    {
     "data": {
      "application/vnd.jupyter.widget-view+json": {
       "model_id": "",
       "version_major": 2,
       "version_minor": 0
      },
      "text/plain": [
       "HBox(children=(IntProgress(value=0, description='Measurement sweep', max=10000, style=ProgressStyle(descriptio…"
      ]
     },
     "metadata": {},
     "output_type": "display_data"
    },
    {
     "data": {
      "application/vnd.jupyter.widget-view+json": {
       "model_id": "",
       "version_major": 2,
       "version_minor": 0
      },
      "text/plain": [
       "HBox(children=(IntProgress(value=0, description='Equilibrate sweep', style=ProgressStyle(description_width='in…"
      ]
     },
     "metadata": {},
     "output_type": "display_data"
    },
    {
     "data": {
      "application/vnd.jupyter.widget-view+json": {
       "model_id": "",
       "version_major": 2,
       "version_minor": 0
      },
      "text/plain": [
       "HBox(children=(IntProgress(value=0, description='Measurement sweep', max=10000, style=ProgressStyle(descriptio…"
      ]
     },
     "metadata": {},
     "output_type": "display_data"
    },
    {
     "data": {
      "application/vnd.jupyter.widget-view+json": {
       "model_id": "",
       "version_major": 2,
       "version_minor": 0
      },
      "text/plain": [
       "HBox(children=(IntProgress(value=0, description='Equilibrate sweep', style=ProgressStyle(description_width='in…"
      ]
     },
     "metadata": {},
     "output_type": "display_data"
    },
    {
     "data": {
      "application/vnd.jupyter.widget-view+json": {
       "model_id": "",
       "version_major": 2,
       "version_minor": 0
      },
      "text/plain": [
       "HBox(children=(IntProgress(value=0, description='Measurement sweep', max=10000, style=ProgressStyle(descriptio…"
      ]
     },
     "metadata": {},
     "output_type": "display_data"
    },
    {
     "data": {
      "application/vnd.jupyter.widget-view+json": {
       "model_id": "",
       "version_major": 2,
       "version_minor": 0
      },
      "text/plain": [
       "HBox(children=(IntProgress(value=0, description='Equilibrate sweep', style=ProgressStyle(description_width='in…"
      ]
     },
     "metadata": {},
     "output_type": "display_data"
    },
    {
     "data": {
      "application/vnd.jupyter.widget-view+json": {
       "model_id": "",
       "version_major": 2,
       "version_minor": 0
      },
      "text/plain": [
       "HBox(children=(IntProgress(value=0, description='Measurement sweep', max=10000, style=ProgressStyle(descriptio…"
      ]
     },
     "metadata": {},
     "output_type": "display_data"
    },
    {
     "data": {
      "application/vnd.jupyter.widget-view+json": {
       "model_id": "",
       "version_major": 2,
       "version_minor": 0
      },
      "text/plain": [
       "HBox(children=(IntProgress(value=0, description='Equilibrate sweep', style=ProgressStyle(description_width='in…"
      ]
     },
     "metadata": {},
     "output_type": "display_data"
    },
    {
     "data": {
      "application/vnd.jupyter.widget-view+json": {
       "model_id": "",
       "version_major": 2,
       "version_minor": 0
      },
      "text/plain": [
       "HBox(children=(IntProgress(value=0, description='Measurement sweep', max=10000, style=ProgressStyle(descriptio…"
      ]
     },
     "metadata": {},
     "output_type": "display_data"
    },
    {
     "data": {
      "application/vnd.jupyter.widget-view+json": {
       "model_id": "",
       "version_major": 2,
       "version_minor": 0
      },
      "text/plain": [
       "HBox(children=(IntProgress(value=0, description='Equilibrate sweep', style=ProgressStyle(description_width='in…"
      ]
     },
     "metadata": {},
     "output_type": "display_data"
    },
    {
     "data": {
      "application/vnd.jupyter.widget-view+json": {
       "model_id": "",
       "version_major": 2,
       "version_minor": 0
      },
      "text/plain": [
       "HBox(children=(IntProgress(value=0, description='Measurement sweep', max=10000, style=ProgressStyle(descriptio…"
      ]
     },
     "metadata": {},
     "output_type": "display_data"
    },
    {
     "data": {
      "application/vnd.jupyter.widget-view+json": {
       "model_id": "",
       "version_major": 2,
       "version_minor": 0
      },
      "text/plain": [
       "HBox(children=(IntProgress(value=0, description='Equilibrate sweep', style=ProgressStyle(description_width='in…"
      ]
     },
     "metadata": {},
     "output_type": "display_data"
    },
    {
     "data": {
      "application/vnd.jupyter.widget-view+json": {
       "model_id": "",
       "version_major": 2,
       "version_minor": 0
      },
      "text/plain": [
       "HBox(children=(IntProgress(value=0, description='Measurement sweep', max=10000, style=ProgressStyle(descriptio…"
      ]
     },
     "metadata": {},
     "output_type": "display_data"
    },
    {
     "data": {
      "application/vnd.jupyter.widget-view+json": {
       "model_id": "",
       "version_major": 2,
       "version_minor": 0
      },
      "text/plain": [
       "HBox(children=(IntProgress(value=0, description='Equilibrate sweep', style=ProgressStyle(description_width='in…"
      ]
     },
     "metadata": {},
     "output_type": "display_data"
    },
    {
     "data": {
      "application/vnd.jupyter.widget-view+json": {
       "model_id": "",
       "version_major": 2,
       "version_minor": 0
      },
      "text/plain": [
       "HBox(children=(IntProgress(value=0, description='Measurement sweep', max=10000, style=ProgressStyle(descriptio…"
      ]
     },
     "metadata": {},
     "output_type": "display_data"
    },
    {
     "data": {
      "application/vnd.jupyter.widget-view+json": {
       "model_id": "",
       "version_major": 2,
       "version_minor": 0
      },
      "text/plain": [
       "HBox(children=(IntProgress(value=0, description='Equilibrate sweep', style=ProgressStyle(description_width='in…"
      ]
     },
     "metadata": {},
     "output_type": "display_data"
    },
    {
     "data": {
      "application/vnd.jupyter.widget-view+json": {
       "model_id": "",
       "version_major": 2,
       "version_minor": 0
      },
      "text/plain": [
       "HBox(children=(IntProgress(value=0, description='Measurement sweep', max=10000, style=ProgressStyle(descriptio…"
      ]
     },
     "metadata": {},
     "output_type": "display_data"
    },
    {
     "data": {
      "application/vnd.jupyter.widget-view+json": {
       "model_id": "",
       "version_major": 2,
       "version_minor": 0
      },
      "text/plain": [
       "HBox(children=(IntProgress(value=0, description='Equilibrate sweep', style=ProgressStyle(description_width='in…"
      ]
     },
     "metadata": {},
     "output_type": "display_data"
    },
    {
     "data": {
      "application/vnd.jupyter.widget-view+json": {
       "model_id": "",
       "version_major": 2,
       "version_minor": 0
      },
      "text/plain": [
       "HBox(children=(IntProgress(value=0, description='Measurement sweep', max=10000, style=ProgressStyle(descriptio…"
      ]
     },
     "metadata": {},
     "output_type": "display_data"
    },
    {
     "data": {
      "application/vnd.jupyter.widget-view+json": {
       "model_id": "",
       "version_major": 2,
       "version_minor": 0
      },
      "text/plain": [
       "HBox(children=(IntProgress(value=0, description='Equilibrate sweep', style=ProgressStyle(description_width='in…"
      ]
     },
     "metadata": {},
     "output_type": "display_data"
    },
    {
     "data": {
      "application/vnd.jupyter.widget-view+json": {
       "model_id": "",
       "version_major": 2,
       "version_minor": 0
      },
      "text/plain": [
       "HBox(children=(IntProgress(value=0, description='Measurement sweep', max=10000, style=ProgressStyle(descriptio…"
      ]
     },
     "metadata": {},
     "output_type": "display_data"
    },
    {
     "data": {
      "application/vnd.jupyter.widget-view+json": {
       "model_id": "",
       "version_major": 2,
       "version_minor": 0
      },
      "text/plain": [
       "HBox(children=(IntProgress(value=0, description='Equilibrate sweep', style=ProgressStyle(description_width='in…"
      ]
     },
     "metadata": {},
     "output_type": "display_data"
    },
    {
     "data": {
      "application/vnd.jupyter.widget-view+json": {
       "model_id": "",
       "version_major": 2,
       "version_minor": 0
      },
      "text/plain": [
       "HBox(children=(IntProgress(value=0, description='Measurement sweep', max=10000, style=ProgressStyle(descriptio…"
      ]
     },
     "metadata": {},
     "output_type": "display_data"
    },
    {
     "data": {
      "application/vnd.jupyter.widget-view+json": {
       "model_id": "",
       "version_major": 2,
       "version_minor": 0
      },
      "text/plain": [
       "HBox(children=(IntProgress(value=0, description='Equilibrate sweep', style=ProgressStyle(description_width='in…"
      ]
     },
     "metadata": {},
     "output_type": "display_data"
    },
    {
     "data": {
      "application/vnd.jupyter.widget-view+json": {
       "model_id": "",
       "version_major": 2,
       "version_minor": 0
      },
      "text/plain": [
       "HBox(children=(IntProgress(value=0, description='Measurement sweep', max=10000, style=ProgressStyle(descriptio…"
      ]
     },
     "metadata": {},
     "output_type": "display_data"
    },
    {
     "data": {
      "application/vnd.jupyter.widget-view+json": {
       "model_id": "",
       "version_major": 2,
       "version_minor": 0
      },
      "text/plain": [
       "HBox(children=(IntProgress(value=0, description='Col', max=20, style=ProgressStyle(description_width='initial'…"
      ]
     },
     "metadata": {},
     "output_type": "display_data"
    },
    {
     "data": {
      "application/vnd.jupyter.widget-view+json": {
       "model_id": "",
       "version_major": 2,
       "version_minor": 0
      },
      "text/plain": [
       "HBox(children=(IntProgress(value=0, description='Equilibrate sweep', style=ProgressStyle(description_width='in…"
      ]
     },
     "metadata": {},
     "output_type": "display_data"
    },
    {
     "data": {
      "application/vnd.jupyter.widget-view+json": {
       "model_id": "",
       "version_major": 2,
       "version_minor": 0
      },
      "text/plain": [
       "HBox(children=(IntProgress(value=0, description='Measurement sweep', max=10000, style=ProgressStyle(descriptio…"
      ]
     },
     "metadata": {},
     "output_type": "display_data"
    },
    {
     "data": {
      "application/vnd.jupyter.widget-view+json": {
       "model_id": "",
       "version_major": 2,
       "version_minor": 0
      },
      "text/plain": [
       "HBox(children=(IntProgress(value=0, description='Equilibrate sweep', style=ProgressStyle(description_width='in…"
      ]
     },
     "metadata": {},
     "output_type": "display_data"
    },
    {
     "data": {
      "application/vnd.jupyter.widget-view+json": {
       "model_id": "",
       "version_major": 2,
       "version_minor": 0
      },
      "text/plain": [
       "HBox(children=(IntProgress(value=0, description='Measurement sweep', max=10000, style=ProgressStyle(descriptio…"
      ]
     },
     "metadata": {},
     "output_type": "display_data"
    },
    {
     "data": {
      "application/vnd.jupyter.widget-view+json": {
       "model_id": "",
       "version_major": 2,
       "version_minor": 0
      },
      "text/plain": [
       "HBox(children=(IntProgress(value=0, description='Equilibrate sweep', style=ProgressStyle(description_width='in…"
      ]
     },
     "metadata": {},
     "output_type": "display_data"
    },
    {
     "data": {
      "application/vnd.jupyter.widget-view+json": {
       "model_id": "",
       "version_major": 2,
       "version_minor": 0
      },
      "text/plain": [
       "HBox(children=(IntProgress(value=0, description='Measurement sweep', max=10000, style=ProgressStyle(descriptio…"
      ]
     },
     "metadata": {},
     "output_type": "display_data"
    },
    {
     "data": {
      "application/vnd.jupyter.widget-view+json": {
       "model_id": "",
       "version_major": 2,
       "version_minor": 0
      },
      "text/plain": [
       "HBox(children=(IntProgress(value=0, description='Equilibrate sweep', style=ProgressStyle(description_width='in…"
      ]
     },
     "metadata": {},
     "output_type": "display_data"
    },
    {
     "data": {
      "application/vnd.jupyter.widget-view+json": {
       "model_id": "",
       "version_major": 2,
       "version_minor": 0
      },
      "text/plain": [
       "HBox(children=(IntProgress(value=0, description='Measurement sweep', max=10000, style=ProgressStyle(descriptio…"
      ]
     },
     "metadata": {},
     "output_type": "display_data"
    },
    {
     "data": {
      "application/vnd.jupyter.widget-view+json": {
       "model_id": "",
       "version_major": 2,
       "version_minor": 0
      },
      "text/plain": [
       "HBox(children=(IntProgress(value=0, description='Equilibrate sweep', style=ProgressStyle(description_width='in…"
      ]
     },
     "metadata": {},
     "output_type": "display_data"
    },
    {
     "data": {
      "application/vnd.jupyter.widget-view+json": {
       "model_id": "",
       "version_major": 2,
       "version_minor": 0
      },
      "text/plain": [
       "HBox(children=(IntProgress(value=0, description='Measurement sweep', max=10000, style=ProgressStyle(descriptio…"
      ]
     },
     "metadata": {},
     "output_type": "display_data"
    },
    {
     "data": {
      "application/vnd.jupyter.widget-view+json": {
       "model_id": "",
       "version_major": 2,
       "version_minor": 0
      },
      "text/plain": [
       "HBox(children=(IntProgress(value=0, description='Equilibrate sweep', style=ProgressStyle(description_width='in…"
      ]
     },
     "metadata": {},
     "output_type": "display_data"
    },
    {
     "data": {
      "application/vnd.jupyter.widget-view+json": {
       "model_id": "",
       "version_major": 2,
       "version_minor": 0
      },
      "text/plain": [
       "HBox(children=(IntProgress(value=0, description='Measurement sweep', max=10000, style=ProgressStyle(descriptio…"
      ]
     },
     "metadata": {},
     "output_type": "display_data"
    },
    {
     "data": {
      "application/vnd.jupyter.widget-view+json": {
       "model_id": "",
       "version_major": 2,
       "version_minor": 0
      },
      "text/plain": [
       "HBox(children=(IntProgress(value=0, description='Equilibrate sweep', style=ProgressStyle(description_width='in…"
      ]
     },
     "metadata": {},
     "output_type": "display_data"
    },
    {
     "data": {
      "application/vnd.jupyter.widget-view+json": {
       "model_id": "",
       "version_major": 2,
       "version_minor": 0
      },
      "text/plain": [
       "HBox(children=(IntProgress(value=0, description='Measurement sweep', max=10000, style=ProgressStyle(descriptio…"
      ]
     },
     "metadata": {},
     "output_type": "display_data"
    },
    {
     "data": {
      "application/vnd.jupyter.widget-view+json": {
       "model_id": "",
       "version_major": 2,
       "version_minor": 0
      },
      "text/plain": [
       "HBox(children=(IntProgress(value=0, description='Equilibrate sweep', style=ProgressStyle(description_width='in…"
      ]
     },
     "metadata": {},
     "output_type": "display_data"
    },
    {
     "data": {
      "application/vnd.jupyter.widget-view+json": {
       "model_id": "",
       "version_major": 2,
       "version_minor": 0
      },
      "text/plain": [
       "HBox(children=(IntProgress(value=0, description='Measurement sweep', max=10000, style=ProgressStyle(descriptio…"
      ]
     },
     "metadata": {},
     "output_type": "display_data"
    },
    {
     "data": {
      "application/vnd.jupyter.widget-view+json": {
       "model_id": "",
       "version_major": 2,
       "version_minor": 0
      },
      "text/plain": [
       "HBox(children=(IntProgress(value=0, description='Equilibrate sweep', style=ProgressStyle(description_width='in…"
      ]
     },
     "metadata": {},
     "output_type": "display_data"
    },
    {
     "data": {
      "application/vnd.jupyter.widget-view+json": {
       "model_id": "",
       "version_major": 2,
       "version_minor": 0
      },
      "text/plain": [
       "HBox(children=(IntProgress(value=0, description='Measurement sweep', max=10000, style=ProgressStyle(descriptio…"
      ]
     },
     "metadata": {},
     "output_type": "display_data"
    },
    {
     "data": {
      "application/vnd.jupyter.widget-view+json": {
       "model_id": "",
       "version_major": 2,
       "version_minor": 0
      },
      "text/plain": [
       "HBox(children=(IntProgress(value=0, description='Equilibrate sweep', style=ProgressStyle(description_width='in…"
      ]
     },
     "metadata": {},
     "output_type": "display_data"
    },
    {
     "data": {
      "application/vnd.jupyter.widget-view+json": {
       "model_id": "",
       "version_major": 2,
       "version_minor": 0
      },
      "text/plain": [
       "HBox(children=(IntProgress(value=0, description='Measurement sweep', max=10000, style=ProgressStyle(descriptio…"
      ]
     },
     "metadata": {},
     "output_type": "display_data"
    },
    {
     "data": {
      "application/vnd.jupyter.widget-view+json": {
       "model_id": "",
       "version_major": 2,
       "version_minor": 0
      },
      "text/plain": [
       "HBox(children=(IntProgress(value=0, description='Equilibrate sweep', style=ProgressStyle(description_width='in…"
      ]
     },
     "metadata": {},
     "output_type": "display_data"
    },
    {
     "data": {
      "application/vnd.jupyter.widget-view+json": {
       "model_id": "",
       "version_major": 2,
       "version_minor": 0
      },
      "text/plain": [
       "HBox(children=(IntProgress(value=0, description='Measurement sweep', max=10000, style=ProgressStyle(descriptio…"
      ]
     },
     "metadata": {},
     "output_type": "display_data"
    },
    {
     "data": {
      "application/vnd.jupyter.widget-view+json": {
       "model_id": "",
       "version_major": 2,
       "version_minor": 0
      },
      "text/plain": [
       "HBox(children=(IntProgress(value=0, description='Equilibrate sweep', style=ProgressStyle(description_width='in…"
      ]
     },
     "metadata": {},
     "output_type": "display_data"
    },
    {
     "data": {
      "application/vnd.jupyter.widget-view+json": {
       "model_id": "",
       "version_major": 2,
       "version_minor": 0
      },
      "text/plain": [
       "HBox(children=(IntProgress(value=0, description='Measurement sweep', max=10000, style=ProgressStyle(descriptio…"
      ]
     },
     "metadata": {},
     "output_type": "display_data"
    },
    {
     "data": {
      "application/vnd.jupyter.widget-view+json": {
       "model_id": "",
       "version_major": 2,
       "version_minor": 0
      },
      "text/plain": [
       "HBox(children=(IntProgress(value=0, description='Equilibrate sweep', style=ProgressStyle(description_width='in…"
      ]
     },
     "metadata": {},
     "output_type": "display_data"
    },
    {
     "data": {
      "application/vnd.jupyter.widget-view+json": {
       "model_id": "",
       "version_major": 2,
       "version_minor": 0
      },
      "text/plain": [
       "HBox(children=(IntProgress(value=0, description='Measurement sweep', max=10000, style=ProgressStyle(descriptio…"
      ]
     },
     "metadata": {},
     "output_type": "display_data"
    },
    {
     "data": {
      "application/vnd.jupyter.widget-view+json": {
       "model_id": "",
       "version_major": 2,
       "version_minor": 0
      },
      "text/plain": [
       "HBox(children=(IntProgress(value=0, description='Equilibrate sweep', style=ProgressStyle(description_width='in…"
      ]
     },
     "metadata": {},
     "output_type": "display_data"
    },
    {
     "data": {
      "application/vnd.jupyter.widget-view+json": {
       "model_id": "",
       "version_major": 2,
       "version_minor": 0
      },
      "text/plain": [
       "HBox(children=(IntProgress(value=0, description='Measurement sweep', max=10000, style=ProgressStyle(descriptio…"
      ]
     },
     "metadata": {},
     "output_type": "display_data"
    },
    {
     "data": {
      "application/vnd.jupyter.widget-view+json": {
       "model_id": "",
       "version_major": 2,
       "version_minor": 0
      },
      "text/plain": [
       "HBox(children=(IntProgress(value=0, description='Equilibrate sweep', style=ProgressStyle(description_width='in…"
      ]
     },
     "metadata": {},
     "output_type": "display_data"
    },
    {
     "data": {
      "application/vnd.jupyter.widget-view+json": {
       "model_id": "",
       "version_major": 2,
       "version_minor": 0
      },
      "text/plain": [
       "HBox(children=(IntProgress(value=0, description='Measurement sweep', max=10000, style=ProgressStyle(descriptio…"
      ]
     },
     "metadata": {},
     "output_type": "display_data"
    },
    {
     "data": {
      "application/vnd.jupyter.widget-view+json": {
       "model_id": "",
       "version_major": 2,
       "version_minor": 0
      },
      "text/plain": [
       "HBox(children=(IntProgress(value=0, description='Equilibrate sweep', style=ProgressStyle(description_width='in…"
      ]
     },
     "metadata": {},
     "output_type": "display_data"
    },
    {
     "data": {
      "application/vnd.jupyter.widget-view+json": {
       "model_id": "",
       "version_major": 2,
       "version_minor": 0
      },
      "text/plain": [
       "HBox(children=(IntProgress(value=0, description='Measurement sweep', max=10000, style=ProgressStyle(descriptio…"
      ]
     },
     "metadata": {},
     "output_type": "display_data"
    },
    {
     "data": {
      "application/vnd.jupyter.widget-view+json": {
       "model_id": "",
       "version_major": 2,
       "version_minor": 0
      },
      "text/plain": [
       "HBox(children=(IntProgress(value=0, description='Equilibrate sweep', style=ProgressStyle(description_width='in…"
      ]
     },
     "metadata": {},
     "output_type": "display_data"
    },
    {
     "data": {
      "application/vnd.jupyter.widget-view+json": {
       "model_id": "",
       "version_major": 2,
       "version_minor": 0
      },
      "text/plain": [
       "HBox(children=(IntProgress(value=0, description='Measurement sweep', max=10000, style=ProgressStyle(descriptio…"
      ]
     },
     "metadata": {},
     "output_type": "display_data"
    },
    {
     "data": {
      "application/vnd.jupyter.widget-view+json": {
       "model_id": "",
       "version_major": 2,
       "version_minor": 0
      },
      "text/plain": [
       "HBox(children=(IntProgress(value=0, description='Equilibrate sweep', style=ProgressStyle(description_width='in…"
      ]
     },
     "metadata": {},
     "output_type": "display_data"
    },
    {
     "data": {
      "application/vnd.jupyter.widget-view+json": {
       "model_id": "",
       "version_major": 2,
       "version_minor": 0
      },
      "text/plain": [
       "HBox(children=(IntProgress(value=0, description='Measurement sweep', max=10000, style=ProgressStyle(descriptio…"
      ]
     },
     "metadata": {},
     "output_type": "display_data"
    },
    {
     "data": {
      "application/vnd.jupyter.widget-view+json": {
       "model_id": "",
       "version_major": 2,
       "version_minor": 0
      },
      "text/plain": [
       "HBox(children=(IntProgress(value=0, description='Equilibrate sweep', style=ProgressStyle(description_width='in…"
      ]
     },
     "metadata": {},
     "output_type": "display_data"
    },
    {
     "data": {
      "application/vnd.jupyter.widget-view+json": {
       "model_id": "",
       "version_major": 2,
       "version_minor": 0
      },
      "text/plain": [
       "HBox(children=(IntProgress(value=0, description='Measurement sweep', max=10000, style=ProgressStyle(descriptio…"
      ]
     },
     "metadata": {},
     "output_type": "display_data"
    },
    {
     "data": {
      "application/vnd.jupyter.widget-view+json": {
       "model_id": "",
       "version_major": 2,
       "version_minor": 0
      },
      "text/plain": [
       "HBox(children=(IntProgress(value=0, description='Equilibrate sweep', style=ProgressStyle(description_width='in…"
      ]
     },
     "metadata": {},
     "output_type": "display_data"
    },
    {
     "data": {
      "application/vnd.jupyter.widget-view+json": {
       "model_id": "",
       "version_major": 2,
       "version_minor": 0
      },
      "text/plain": [
       "HBox(children=(IntProgress(value=0, description='Measurement sweep', max=10000, style=ProgressStyle(descriptio…"
      ]
     },
     "metadata": {},
     "output_type": "display_data"
    },
    {
     "data": {
      "application/vnd.jupyter.widget-view+json": {
       "model_id": "",
       "version_major": 2,
       "version_minor": 0
      },
      "text/plain": [
       "HBox(children=(IntProgress(value=0, description='Col', max=20, style=ProgressStyle(description_width='initial'…"
      ]
     },
     "metadata": {},
     "output_type": "display_data"
    },
    {
     "data": {
      "application/vnd.jupyter.widget-view+json": {
       "model_id": "",
       "version_major": 2,
       "version_minor": 0
      },
      "text/plain": [
       "HBox(children=(IntProgress(value=0, description='Equilibrate sweep', style=ProgressStyle(description_width='in…"
      ]
     },
     "metadata": {},
     "output_type": "display_data"
    },
    {
     "data": {
      "application/vnd.jupyter.widget-view+json": {
       "model_id": "",
       "version_major": 2,
       "version_minor": 0
      },
      "text/plain": [
       "HBox(children=(IntProgress(value=0, description='Measurement sweep', max=10000, style=ProgressStyle(descriptio…"
      ]
     },
     "metadata": {},
     "output_type": "display_data"
    },
    {
     "data": {
      "application/vnd.jupyter.widget-view+json": {
       "model_id": "",
       "version_major": 2,
       "version_minor": 0
      },
      "text/plain": [
       "HBox(children=(IntProgress(value=0, description='Equilibrate sweep', style=ProgressStyle(description_width='in…"
      ]
     },
     "metadata": {},
     "output_type": "display_data"
    },
    {
     "data": {
      "application/vnd.jupyter.widget-view+json": {
       "model_id": "",
       "version_major": 2,
       "version_minor": 0
      },
      "text/plain": [
       "HBox(children=(IntProgress(value=0, description='Measurement sweep', max=10000, style=ProgressStyle(descriptio…"
      ]
     },
     "metadata": {},
     "output_type": "display_data"
    },
    {
     "data": {
      "application/vnd.jupyter.widget-view+json": {
       "model_id": "",
       "version_major": 2,
       "version_minor": 0
      },
      "text/plain": [
       "HBox(children=(IntProgress(value=0, description='Equilibrate sweep', style=ProgressStyle(description_width='in…"
      ]
     },
     "metadata": {},
     "output_type": "display_data"
    },
    {
     "data": {
      "application/vnd.jupyter.widget-view+json": {
       "model_id": "",
       "version_major": 2,
       "version_minor": 0
      },
      "text/plain": [
       "HBox(children=(IntProgress(value=0, description='Measurement sweep', max=10000, style=ProgressStyle(descriptio…"
      ]
     },
     "metadata": {},
     "output_type": "display_data"
    },
    {
     "data": {
      "application/vnd.jupyter.widget-view+json": {
       "model_id": "",
       "version_major": 2,
       "version_minor": 0
      },
      "text/plain": [
       "HBox(children=(IntProgress(value=0, description='Equilibrate sweep', style=ProgressStyle(description_width='in…"
      ]
     },
     "metadata": {},
     "output_type": "display_data"
    },
    {
     "data": {
      "application/vnd.jupyter.widget-view+json": {
       "model_id": "",
       "version_major": 2,
       "version_minor": 0
      },
      "text/plain": [
       "HBox(children=(IntProgress(value=0, description='Measurement sweep', max=10000, style=ProgressStyle(descriptio…"
      ]
     },
     "metadata": {},
     "output_type": "display_data"
    },
    {
     "data": {
      "application/vnd.jupyter.widget-view+json": {
       "model_id": "",
       "version_major": 2,
       "version_minor": 0
      },
      "text/plain": [
       "HBox(children=(IntProgress(value=0, description='Equilibrate sweep', style=ProgressStyle(description_width='in…"
      ]
     },
     "metadata": {},
     "output_type": "display_data"
    },
    {
     "data": {
      "application/vnd.jupyter.widget-view+json": {
       "model_id": "",
       "version_major": 2,
       "version_minor": 0
      },
      "text/plain": [
       "HBox(children=(IntProgress(value=0, description='Measurement sweep', max=10000, style=ProgressStyle(descriptio…"
      ]
     },
     "metadata": {},
     "output_type": "display_data"
    },
    {
     "data": {
      "application/vnd.jupyter.widget-view+json": {
       "model_id": "",
       "version_major": 2,
       "version_minor": 0
      },
      "text/plain": [
       "HBox(children=(IntProgress(value=0, description='Equilibrate sweep', style=ProgressStyle(description_width='in…"
      ]
     },
     "metadata": {},
     "output_type": "display_data"
    },
    {
     "data": {
      "application/vnd.jupyter.widget-view+json": {
       "model_id": "",
       "version_major": 2,
       "version_minor": 0
      },
      "text/plain": [
       "HBox(children=(IntProgress(value=0, description='Measurement sweep', max=10000, style=ProgressStyle(descriptio…"
      ]
     },
     "metadata": {},
     "output_type": "display_data"
    },
    {
     "data": {
      "application/vnd.jupyter.widget-view+json": {
       "model_id": "",
       "version_major": 2,
       "version_minor": 0
      },
      "text/plain": [
       "HBox(children=(IntProgress(value=0, description='Equilibrate sweep', style=ProgressStyle(description_width='in…"
      ]
     },
     "metadata": {},
     "output_type": "display_data"
    },
    {
     "data": {
      "application/vnd.jupyter.widget-view+json": {
       "model_id": "",
       "version_major": 2,
       "version_minor": 0
      },
      "text/plain": [
       "HBox(children=(IntProgress(value=0, description='Measurement sweep', max=10000, style=ProgressStyle(descriptio…"
      ]
     },
     "metadata": {},
     "output_type": "display_data"
    },
    {
     "data": {
      "application/vnd.jupyter.widget-view+json": {
       "model_id": "",
       "version_major": 2,
       "version_minor": 0
      },
      "text/plain": [
       "HBox(children=(IntProgress(value=0, description='Equilibrate sweep', style=ProgressStyle(description_width='in…"
      ]
     },
     "metadata": {},
     "output_type": "display_data"
    },
    {
     "data": {
      "application/vnd.jupyter.widget-view+json": {
       "model_id": "",
       "version_major": 2,
       "version_minor": 0
      },
      "text/plain": [
       "HBox(children=(IntProgress(value=0, description='Measurement sweep', max=10000, style=ProgressStyle(descriptio…"
      ]
     },
     "metadata": {},
     "output_type": "display_data"
    },
    {
     "data": {
      "application/vnd.jupyter.widget-view+json": {
       "model_id": "",
       "version_major": 2,
       "version_minor": 0
      },
      "text/plain": [
       "HBox(children=(IntProgress(value=0, description='Equilibrate sweep', style=ProgressStyle(description_width='in…"
      ]
     },
     "metadata": {},
     "output_type": "display_data"
    },
    {
     "data": {
      "application/vnd.jupyter.widget-view+json": {
       "model_id": "",
       "version_major": 2,
       "version_minor": 0
      },
      "text/plain": [
       "HBox(children=(IntProgress(value=0, description='Measurement sweep', max=10000, style=ProgressStyle(descriptio…"
      ]
     },
     "metadata": {},
     "output_type": "display_data"
    },
    {
     "data": {
      "application/vnd.jupyter.widget-view+json": {
       "model_id": "",
       "version_major": 2,
       "version_minor": 0
      },
      "text/plain": [
       "HBox(children=(IntProgress(value=0, description='Equilibrate sweep', style=ProgressStyle(description_width='in…"
      ]
     },
     "metadata": {},
     "output_type": "display_data"
    },
    {
     "data": {
      "application/vnd.jupyter.widget-view+json": {
       "model_id": "",
       "version_major": 2,
       "version_minor": 0
      },
      "text/plain": [
       "HBox(children=(IntProgress(value=0, description='Measurement sweep', max=10000, style=ProgressStyle(descriptio…"
      ]
     },
     "metadata": {},
     "output_type": "display_data"
    },
    {
     "data": {
      "application/vnd.jupyter.widget-view+json": {
       "model_id": "",
       "version_major": 2,
       "version_minor": 0
      },
      "text/plain": [
       "HBox(children=(IntProgress(value=0, description='Equilibrate sweep', style=ProgressStyle(description_width='in…"
      ]
     },
     "metadata": {},
     "output_type": "display_data"
    },
    {
     "data": {
      "application/vnd.jupyter.widget-view+json": {
       "model_id": "",
       "version_major": 2,
       "version_minor": 0
      },
      "text/plain": [
       "HBox(children=(IntProgress(value=0, description='Measurement sweep', max=10000, style=ProgressStyle(descriptio…"
      ]
     },
     "metadata": {},
     "output_type": "display_data"
    },
    {
     "data": {
      "application/vnd.jupyter.widget-view+json": {
       "model_id": "",
       "version_major": 2,
       "version_minor": 0
      },
      "text/plain": [
       "HBox(children=(IntProgress(value=0, description='Equilibrate sweep', style=ProgressStyle(description_width='in…"
      ]
     },
     "metadata": {},
     "output_type": "display_data"
    },
    {
     "data": {
      "application/vnd.jupyter.widget-view+json": {
       "model_id": "",
       "version_major": 2,
       "version_minor": 0
      },
      "text/plain": [
       "HBox(children=(IntProgress(value=0, description='Measurement sweep', max=10000, style=ProgressStyle(descriptio…"
      ]
     },
     "metadata": {},
     "output_type": "display_data"
    },
    {
     "data": {
      "application/vnd.jupyter.widget-view+json": {
       "model_id": "",
       "version_major": 2,
       "version_minor": 0
      },
      "text/plain": [
       "HBox(children=(IntProgress(value=0, description='Equilibrate sweep', style=ProgressStyle(description_width='in…"
      ]
     },
     "metadata": {},
     "output_type": "display_data"
    },
    {
     "data": {
      "application/vnd.jupyter.widget-view+json": {
       "model_id": "",
       "version_major": 2,
       "version_minor": 0
      },
      "text/plain": [
       "HBox(children=(IntProgress(value=0, description='Measurement sweep', max=10000, style=ProgressStyle(descriptio…"
      ]
     },
     "metadata": {},
     "output_type": "display_data"
    },
    {
     "data": {
      "application/vnd.jupyter.widget-view+json": {
       "model_id": "",
       "version_major": 2,
       "version_minor": 0
      },
      "text/plain": [
       "HBox(children=(IntProgress(value=0, description='Equilibrate sweep', style=ProgressStyle(description_width='in…"
      ]
     },
     "metadata": {},
     "output_type": "display_data"
    },
    {
     "data": {
      "application/vnd.jupyter.widget-view+json": {
       "model_id": "",
       "version_major": 2,
       "version_minor": 0
      },
      "text/plain": [
       "HBox(children=(IntProgress(value=0, description='Measurement sweep', max=10000, style=ProgressStyle(descriptio…"
      ]
     },
     "metadata": {},
     "output_type": "display_data"
    },
    {
     "data": {
      "application/vnd.jupyter.widget-view+json": {
       "model_id": "",
       "version_major": 2,
       "version_minor": 0
      },
      "text/plain": [
       "HBox(children=(IntProgress(value=0, description='Equilibrate sweep', style=ProgressStyle(description_width='in…"
      ]
     },
     "metadata": {},
     "output_type": "display_data"
    },
    {
     "data": {
      "application/vnd.jupyter.widget-view+json": {
       "model_id": "",
       "version_major": 2,
       "version_minor": 0
      },
      "text/plain": [
       "HBox(children=(IntProgress(value=0, description='Measurement sweep', max=10000, style=ProgressStyle(descriptio…"
      ]
     },
     "metadata": {},
     "output_type": "display_data"
    },
    {
     "data": {
      "application/vnd.jupyter.widget-view+json": {
       "model_id": "",
       "version_major": 2,
       "version_minor": 0
      },
      "text/plain": [
       "HBox(children=(IntProgress(value=0, description='Equilibrate sweep', style=ProgressStyle(description_width='in…"
      ]
     },
     "metadata": {},
     "output_type": "display_data"
    },
    {
     "data": {
      "application/vnd.jupyter.widget-view+json": {
       "model_id": "",
       "version_major": 2,
       "version_minor": 0
      },
      "text/plain": [
       "HBox(children=(IntProgress(value=0, description='Measurement sweep', max=10000, style=ProgressStyle(descriptio…"
      ]
     },
     "metadata": {},
     "output_type": "display_data"
    },
    {
     "data": {
      "application/vnd.jupyter.widget-view+json": {
       "model_id": "",
       "version_major": 2,
       "version_minor": 0
      },
      "text/plain": [
       "HBox(children=(IntProgress(value=0, description='Equilibrate sweep', style=ProgressStyle(description_width='in…"
      ]
     },
     "metadata": {},
     "output_type": "display_data"
    },
    {
     "data": {
      "application/vnd.jupyter.widget-view+json": {
       "model_id": "",
       "version_major": 2,
       "version_minor": 0
      },
      "text/plain": [
       "HBox(children=(IntProgress(value=0, description='Measurement sweep', max=10000, style=ProgressStyle(descriptio…"
      ]
     },
     "metadata": {},
     "output_type": "display_data"
    },
    {
     "data": {
      "application/vnd.jupyter.widget-view+json": {
       "model_id": "",
       "version_major": 2,
       "version_minor": 0
      },
      "text/plain": [
       "HBox(children=(IntProgress(value=0, description='Equilibrate sweep', style=ProgressStyle(description_width='in…"
      ]
     },
     "metadata": {},
     "output_type": "display_data"
    },
    {
     "data": {
      "application/vnd.jupyter.widget-view+json": {
       "model_id": "",
       "version_major": 2,
       "version_minor": 0
      },
      "text/plain": [
       "HBox(children=(IntProgress(value=0, description='Measurement sweep', max=10000, style=ProgressStyle(descriptio…"
      ]
     },
     "metadata": {},
     "output_type": "display_data"
    },
    {
     "data": {
      "application/vnd.jupyter.widget-view+json": {
       "model_id": "",
       "version_major": 2,
       "version_minor": 0
      },
      "text/plain": [
       "HBox(children=(IntProgress(value=0, description='Equilibrate sweep', style=ProgressStyle(description_width='in…"
      ]
     },
     "metadata": {},
     "output_type": "display_data"
    },
    {
     "data": {
      "application/vnd.jupyter.widget-view+json": {
       "model_id": "",
       "version_major": 2,
       "version_minor": 0
      },
      "text/plain": [
       "HBox(children=(IntProgress(value=0, description='Measurement sweep', max=10000, style=ProgressStyle(descriptio…"
      ]
     },
     "metadata": {},
     "output_type": "display_data"
    },
    {
     "data": {
      "application/vnd.jupyter.widget-view+json": {
       "model_id": "",
       "version_major": 2,
       "version_minor": 0
      },
      "text/plain": [
       "HBox(children=(IntProgress(value=0, description='Equilibrate sweep', style=ProgressStyle(description_width='in…"
      ]
     },
     "metadata": {},
     "output_type": "display_data"
    },
    {
     "data": {
      "application/vnd.jupyter.widget-view+json": {
       "model_id": "",
       "version_major": 2,
       "version_minor": 0
      },
      "text/plain": [
       "HBox(children=(IntProgress(value=0, description='Measurement sweep', max=10000, style=ProgressStyle(descriptio…"
      ]
     },
     "metadata": {},
     "output_type": "display_data"
    },
    {
     "data": {
      "application/vnd.jupyter.widget-view+json": {
       "model_id": "",
       "version_major": 2,
       "version_minor": 0
      },
      "text/plain": [
       "HBox(children=(IntProgress(value=0, description='Col', max=20, style=ProgressStyle(description_width='initial'…"
      ]
     },
     "metadata": {},
     "output_type": "display_data"
    },
    {
     "data": {
      "application/vnd.jupyter.widget-view+json": {
       "model_id": "",
       "version_major": 2,
       "version_minor": 0
      },
      "text/plain": [
       "HBox(children=(IntProgress(value=0, description='Equilibrate sweep', style=ProgressStyle(description_width='in…"
      ]
     },
     "metadata": {},
     "output_type": "display_data"
    },
    {
     "data": {
      "application/vnd.jupyter.widget-view+json": {
       "model_id": "",
       "version_major": 2,
       "version_minor": 0
      },
      "text/plain": [
       "HBox(children=(IntProgress(value=0, description='Measurement sweep', max=10000, style=ProgressStyle(descriptio…"
      ]
     },
     "metadata": {},
     "output_type": "display_data"
    },
    {
     "data": {
      "application/vnd.jupyter.widget-view+json": {
       "model_id": "",
       "version_major": 2,
       "version_minor": 0
      },
      "text/plain": [
       "HBox(children=(IntProgress(value=0, description='Equilibrate sweep', style=ProgressStyle(description_width='in…"
      ]
     },
     "metadata": {},
     "output_type": "display_data"
    },
    {
     "data": {
      "application/vnd.jupyter.widget-view+json": {
       "model_id": "",
       "version_major": 2,
       "version_minor": 0
      },
      "text/plain": [
       "HBox(children=(IntProgress(value=0, description='Measurement sweep', max=10000, style=ProgressStyle(descriptio…"
      ]
     },
     "metadata": {},
     "output_type": "display_data"
    },
    {
     "data": {
      "application/vnd.jupyter.widget-view+json": {
       "model_id": "",
       "version_major": 2,
       "version_minor": 0
      },
      "text/plain": [
       "HBox(children=(IntProgress(value=0, description='Equilibrate sweep', style=ProgressStyle(description_width='in…"
      ]
     },
     "metadata": {},
     "output_type": "display_data"
    },
    {
     "data": {
      "application/vnd.jupyter.widget-view+json": {
       "model_id": "",
       "version_major": 2,
       "version_minor": 0
      },
      "text/plain": [
       "HBox(children=(IntProgress(value=0, description='Measurement sweep', max=10000, style=ProgressStyle(descriptio…"
      ]
     },
     "metadata": {},
     "output_type": "display_data"
    },
    {
     "data": {
      "application/vnd.jupyter.widget-view+json": {
       "model_id": "",
       "version_major": 2,
       "version_minor": 0
      },
      "text/plain": [
       "HBox(children=(IntProgress(value=0, description='Equilibrate sweep', style=ProgressStyle(description_width='in…"
      ]
     },
     "metadata": {},
     "output_type": "display_data"
    },
    {
     "data": {
      "application/vnd.jupyter.widget-view+json": {
       "model_id": "",
       "version_major": 2,
       "version_minor": 0
      },
      "text/plain": [
       "HBox(children=(IntProgress(value=0, description='Measurement sweep', max=10000, style=ProgressStyle(descriptio…"
      ]
     },
     "metadata": {},
     "output_type": "display_data"
    },
    {
     "data": {
      "application/vnd.jupyter.widget-view+json": {
       "model_id": "",
       "version_major": 2,
       "version_minor": 0
      },
      "text/plain": [
       "HBox(children=(IntProgress(value=0, description='Equilibrate sweep', style=ProgressStyle(description_width='in…"
      ]
     },
     "metadata": {},
     "output_type": "display_data"
    },
    {
     "data": {
      "application/vnd.jupyter.widget-view+json": {
       "model_id": "",
       "version_major": 2,
       "version_minor": 0
      },
      "text/plain": [
       "HBox(children=(IntProgress(value=0, description='Measurement sweep', max=10000, style=ProgressStyle(descriptio…"
      ]
     },
     "metadata": {},
     "output_type": "display_data"
    },
    {
     "data": {
      "application/vnd.jupyter.widget-view+json": {
       "model_id": "",
       "version_major": 2,
       "version_minor": 0
      },
      "text/plain": [
       "HBox(children=(IntProgress(value=0, description='Equilibrate sweep', style=ProgressStyle(description_width='in…"
      ]
     },
     "metadata": {},
     "output_type": "display_data"
    },
    {
     "data": {
      "application/vnd.jupyter.widget-view+json": {
       "model_id": "",
       "version_major": 2,
       "version_minor": 0
      },
      "text/plain": [
       "HBox(children=(IntProgress(value=0, description='Measurement sweep', max=10000, style=ProgressStyle(descriptio…"
      ]
     },
     "metadata": {},
     "output_type": "display_data"
    },
    {
     "data": {
      "application/vnd.jupyter.widget-view+json": {
       "model_id": "",
       "version_major": 2,
       "version_minor": 0
      },
      "text/plain": [
       "HBox(children=(IntProgress(value=0, description='Equilibrate sweep', style=ProgressStyle(description_width='in…"
      ]
     },
     "metadata": {},
     "output_type": "display_data"
    },
    {
     "data": {
      "application/vnd.jupyter.widget-view+json": {
       "model_id": "",
       "version_major": 2,
       "version_minor": 0
      },
      "text/plain": [
       "HBox(children=(IntProgress(value=0, description='Measurement sweep', max=10000, style=ProgressStyle(descriptio…"
      ]
     },
     "metadata": {},
     "output_type": "display_data"
    },
    {
     "data": {
      "application/vnd.jupyter.widget-view+json": {
       "model_id": "",
       "version_major": 2,
       "version_minor": 0
      },
      "text/plain": [
       "HBox(children=(IntProgress(value=0, description='Equilibrate sweep', style=ProgressStyle(description_width='in…"
      ]
     },
     "metadata": {},
     "output_type": "display_data"
    },
    {
     "data": {
      "application/vnd.jupyter.widget-view+json": {
       "model_id": "",
       "version_major": 2,
       "version_minor": 0
      },
      "text/plain": [
       "HBox(children=(IntProgress(value=0, description='Measurement sweep', max=10000, style=ProgressStyle(descriptio…"
      ]
     },
     "metadata": {},
     "output_type": "display_data"
    },
    {
     "data": {
      "application/vnd.jupyter.widget-view+json": {
       "model_id": "",
       "version_major": 2,
       "version_minor": 0
      },
      "text/plain": [
       "HBox(children=(IntProgress(value=0, description='Equilibrate sweep', style=ProgressStyle(description_width='in…"
      ]
     },
     "metadata": {},
     "output_type": "display_data"
    },
    {
     "data": {
      "application/vnd.jupyter.widget-view+json": {
       "model_id": "",
       "version_major": 2,
       "version_minor": 0
      },
      "text/plain": [
       "HBox(children=(IntProgress(value=0, description='Measurement sweep', max=10000, style=ProgressStyle(descriptio…"
      ]
     },
     "metadata": {},
     "output_type": "display_data"
    },
    {
     "data": {
      "application/vnd.jupyter.widget-view+json": {
       "model_id": "",
       "version_major": 2,
       "version_minor": 0
      },
      "text/plain": [
       "HBox(children=(IntProgress(value=0, description='Equilibrate sweep', style=ProgressStyle(description_width='in…"
      ]
     },
     "metadata": {},
     "output_type": "display_data"
    },
    {
     "data": {
      "application/vnd.jupyter.widget-view+json": {
       "model_id": "",
       "version_major": 2,
       "version_minor": 0
      },
      "text/plain": [
       "HBox(children=(IntProgress(value=0, description='Measurement sweep', max=10000, style=ProgressStyle(descriptio…"
      ]
     },
     "metadata": {},
     "output_type": "display_data"
    },
    {
     "data": {
      "application/vnd.jupyter.widget-view+json": {
       "model_id": "",
       "version_major": 2,
       "version_minor": 0
      },
      "text/plain": [
       "HBox(children=(IntProgress(value=0, description='Equilibrate sweep', style=ProgressStyle(description_width='in…"
      ]
     },
     "metadata": {},
     "output_type": "display_data"
    },
    {
     "data": {
      "application/vnd.jupyter.widget-view+json": {
       "model_id": "",
       "version_major": 2,
       "version_minor": 0
      },
      "text/plain": [
       "HBox(children=(IntProgress(value=0, description='Measurement sweep', max=10000, style=ProgressStyle(descriptio…"
      ]
     },
     "metadata": {},
     "output_type": "display_data"
    },
    {
     "data": {
      "application/vnd.jupyter.widget-view+json": {
       "model_id": "",
       "version_major": 2,
       "version_minor": 0
      },
      "text/plain": [
       "HBox(children=(IntProgress(value=0, description='Equilibrate sweep', style=ProgressStyle(description_width='in…"
      ]
     },
     "metadata": {},
     "output_type": "display_data"
    },
    {
     "data": {
      "application/vnd.jupyter.widget-view+json": {
       "model_id": "",
       "version_major": 2,
       "version_minor": 0
      },
      "text/plain": [
       "HBox(children=(IntProgress(value=0, description='Measurement sweep', max=10000, style=ProgressStyle(descriptio…"
      ]
     },
     "metadata": {},
     "output_type": "display_data"
    },
    {
     "data": {
      "application/vnd.jupyter.widget-view+json": {
       "model_id": "",
       "version_major": 2,
       "version_minor": 0
      },
      "text/plain": [
       "HBox(children=(IntProgress(value=0, description='Equilibrate sweep', style=ProgressStyle(description_width='in…"
      ]
     },
     "metadata": {},
     "output_type": "display_data"
    },
    {
     "data": {
      "application/vnd.jupyter.widget-view+json": {
       "model_id": "",
       "version_major": 2,
       "version_minor": 0
      },
      "text/plain": [
       "HBox(children=(IntProgress(value=0, description='Measurement sweep', max=10000, style=ProgressStyle(descriptio…"
      ]
     },
     "metadata": {},
     "output_type": "display_data"
    },
    {
     "data": {
      "application/vnd.jupyter.widget-view+json": {
       "model_id": "",
       "version_major": 2,
       "version_minor": 0
      },
      "text/plain": [
       "HBox(children=(IntProgress(value=0, description='Equilibrate sweep', style=ProgressStyle(description_width='in…"
      ]
     },
     "metadata": {},
     "output_type": "display_data"
    },
    {
     "data": {
      "application/vnd.jupyter.widget-view+json": {
       "model_id": "",
       "version_major": 2,
       "version_minor": 0
      },
      "text/plain": [
       "HBox(children=(IntProgress(value=0, description='Measurement sweep', max=10000, style=ProgressStyle(descriptio…"
      ]
     },
     "metadata": {},
     "output_type": "display_data"
    },
    {
     "data": {
      "application/vnd.jupyter.widget-view+json": {
       "model_id": "",
       "version_major": 2,
       "version_minor": 0
      },
      "text/plain": [
       "HBox(children=(IntProgress(value=0, description='Equilibrate sweep', style=ProgressStyle(description_width='in…"
      ]
     },
     "metadata": {},
     "output_type": "display_data"
    },
    {
     "data": {
      "application/vnd.jupyter.widget-view+json": {
       "model_id": "",
       "version_major": 2,
       "version_minor": 0
      },
      "text/plain": [
       "HBox(children=(IntProgress(value=0, description='Measurement sweep', max=10000, style=ProgressStyle(descriptio…"
      ]
     },
     "metadata": {},
     "output_type": "display_data"
    },
    {
     "data": {
      "application/vnd.jupyter.widget-view+json": {
       "model_id": "",
       "version_major": 2,
       "version_minor": 0
      },
      "text/plain": [
       "HBox(children=(IntProgress(value=0, description='Equilibrate sweep', style=ProgressStyle(description_width='in…"
      ]
     },
     "metadata": {},
     "output_type": "display_data"
    },
    {
     "data": {
      "application/vnd.jupyter.widget-view+json": {
       "model_id": "",
       "version_major": 2,
       "version_minor": 0
      },
      "text/plain": [
       "HBox(children=(IntProgress(value=0, description='Measurement sweep', max=10000, style=ProgressStyle(descriptio…"
      ]
     },
     "metadata": {},
     "output_type": "display_data"
    },
    {
     "data": {
      "application/vnd.jupyter.widget-view+json": {
       "model_id": "",
       "version_major": 2,
       "version_minor": 0
      },
      "text/plain": [
       "HBox(children=(IntProgress(value=0, description='Equilibrate sweep', style=ProgressStyle(description_width='in…"
      ]
     },
     "metadata": {},
     "output_type": "display_data"
    },
    {
     "data": {
      "application/vnd.jupyter.widget-view+json": {
       "model_id": "",
       "version_major": 2,
       "version_minor": 0
      },
      "text/plain": [
       "HBox(children=(IntProgress(value=0, description='Measurement sweep', max=10000, style=ProgressStyle(descriptio…"
      ]
     },
     "metadata": {},
     "output_type": "display_data"
    },
    {
     "data": {
      "application/vnd.jupyter.widget-view+json": {
       "model_id": "",
       "version_major": 2,
       "version_minor": 0
      },
      "text/plain": [
       "HBox(children=(IntProgress(value=0, description='Equilibrate sweep', style=ProgressStyle(description_width='in…"
      ]
     },
     "metadata": {},
     "output_type": "display_data"
    },
    {
     "data": {
      "application/vnd.jupyter.widget-view+json": {
       "model_id": "",
       "version_major": 2,
       "version_minor": 0
      },
      "text/plain": [
       "HBox(children=(IntProgress(value=0, description='Measurement sweep', max=10000, style=ProgressStyle(descriptio…"
      ]
     },
     "metadata": {},
     "output_type": "display_data"
    },
    {
     "data": {
      "application/vnd.jupyter.widget-view+json": {
       "model_id": "",
       "version_major": 2,
       "version_minor": 0
      },
      "text/plain": [
       "HBox(children=(IntProgress(value=0, description='Equilibrate sweep', style=ProgressStyle(description_width='in…"
      ]
     },
     "metadata": {},
     "output_type": "display_data"
    },
    {
     "data": {
      "application/vnd.jupyter.widget-view+json": {
       "model_id": "",
       "version_major": 2,
       "version_minor": 0
      },
      "text/plain": [
       "HBox(children=(IntProgress(value=0, description='Measurement sweep', max=10000, style=ProgressStyle(descriptio…"
      ]
     },
     "metadata": {},
     "output_type": "display_data"
    },
    {
     "data": {
      "application/vnd.jupyter.widget-view+json": {
       "model_id": "",
       "version_major": 2,
       "version_minor": 0
      },
      "text/plain": [
       "HBox(children=(IntProgress(value=0, description='Equilibrate sweep', style=ProgressStyle(description_width='in…"
      ]
     },
     "metadata": {},
     "output_type": "display_data"
    },
    {
     "data": {
      "application/vnd.jupyter.widget-view+json": {
       "model_id": "",
       "version_major": 2,
       "version_minor": 0
      },
      "text/plain": [
       "HBox(children=(IntProgress(value=0, description='Measurement sweep', max=10000, style=ProgressStyle(descriptio…"
      ]
     },
     "metadata": {},
     "output_type": "display_data"
    },
    {
     "data": {
      "application/vnd.jupyter.widget-view+json": {
       "model_id": "",
       "version_major": 2,
       "version_minor": 0
      },
      "text/plain": [
       "HBox(children=(IntProgress(value=0, description='Col', max=20, style=ProgressStyle(description_width='initial'…"
      ]
     },
     "metadata": {},
     "output_type": "display_data"
    },
    {
     "data": {
      "application/vnd.jupyter.widget-view+json": {
       "model_id": "",
       "version_major": 2,
       "version_minor": 0
      },
      "text/plain": [
       "HBox(children=(IntProgress(value=0, description='Equilibrate sweep', style=ProgressStyle(description_width='in…"
      ]
     },
     "metadata": {},
     "output_type": "display_data"
    },
    {
     "data": {
      "application/vnd.jupyter.widget-view+json": {
       "model_id": "",
       "version_major": 2,
       "version_minor": 0
      },
      "text/plain": [
       "HBox(children=(IntProgress(value=0, description='Measurement sweep', max=10000, style=ProgressStyle(descriptio…"
      ]
     },
     "metadata": {},
     "output_type": "display_data"
    },
    {
     "data": {
      "application/vnd.jupyter.widget-view+json": {
       "model_id": "",
       "version_major": 2,
       "version_minor": 0
      },
      "text/plain": [
       "HBox(children=(IntProgress(value=0, description='Equilibrate sweep', style=ProgressStyle(description_width='in…"
      ]
     },
     "metadata": {},
     "output_type": "display_data"
    },
    {
     "data": {
      "application/vnd.jupyter.widget-view+json": {
       "model_id": "",
       "version_major": 2,
       "version_minor": 0
      },
      "text/plain": [
       "HBox(children=(IntProgress(value=0, description='Measurement sweep', max=10000, style=ProgressStyle(descriptio…"
      ]
     },
     "metadata": {},
     "output_type": "display_data"
    },
    {
     "data": {
      "application/vnd.jupyter.widget-view+json": {
       "model_id": "",
       "version_major": 2,
       "version_minor": 0
      },
      "text/plain": [
       "HBox(children=(IntProgress(value=0, description='Equilibrate sweep', style=ProgressStyle(description_width='in…"
      ]
     },
     "metadata": {},
     "output_type": "display_data"
    },
    {
     "data": {
      "application/vnd.jupyter.widget-view+json": {
       "model_id": "",
       "version_major": 2,
       "version_minor": 0
      },
      "text/plain": [
       "HBox(children=(IntProgress(value=0, description='Measurement sweep', max=10000, style=ProgressStyle(descriptio…"
      ]
     },
     "metadata": {},
     "output_type": "display_data"
    },
    {
     "data": {
      "application/vnd.jupyter.widget-view+json": {
       "model_id": "",
       "version_major": 2,
       "version_minor": 0
      },
      "text/plain": [
       "HBox(children=(IntProgress(value=0, description='Equilibrate sweep', style=ProgressStyle(description_width='in…"
      ]
     },
     "metadata": {},
     "output_type": "display_data"
    },
    {
     "data": {
      "application/vnd.jupyter.widget-view+json": {
       "model_id": "",
       "version_major": 2,
       "version_minor": 0
      },
      "text/plain": [
       "HBox(children=(IntProgress(value=0, description='Measurement sweep', max=10000, style=ProgressStyle(descriptio…"
      ]
     },
     "metadata": {},
     "output_type": "display_data"
    },
    {
     "data": {
      "application/vnd.jupyter.widget-view+json": {
       "model_id": "",
       "version_major": 2,
       "version_minor": 0
      },
      "text/plain": [
       "HBox(children=(IntProgress(value=0, description='Equilibrate sweep', style=ProgressStyle(description_width='in…"
      ]
     },
     "metadata": {},
     "output_type": "display_data"
    },
    {
     "data": {
      "application/vnd.jupyter.widget-view+json": {
       "model_id": "",
       "version_major": 2,
       "version_minor": 0
      },
      "text/plain": [
       "HBox(children=(IntProgress(value=0, description='Measurement sweep', max=10000, style=ProgressStyle(descriptio…"
      ]
     },
     "metadata": {},
     "output_type": "display_data"
    },
    {
     "data": {
      "application/vnd.jupyter.widget-view+json": {
       "model_id": "",
       "version_major": 2,
       "version_minor": 0
      },
      "text/plain": [
       "HBox(children=(IntProgress(value=0, description='Equilibrate sweep', style=ProgressStyle(description_width='in…"
      ]
     },
     "metadata": {},
     "output_type": "display_data"
    },
    {
     "data": {
      "application/vnd.jupyter.widget-view+json": {
       "model_id": "",
       "version_major": 2,
       "version_minor": 0
      },
      "text/plain": [
       "HBox(children=(IntProgress(value=0, description='Measurement sweep', max=10000, style=ProgressStyle(descriptio…"
      ]
     },
     "metadata": {},
     "output_type": "display_data"
    },
    {
     "data": {
      "application/vnd.jupyter.widget-view+json": {
       "model_id": "",
       "version_major": 2,
       "version_minor": 0
      },
      "text/plain": [
       "HBox(children=(IntProgress(value=0, description='Equilibrate sweep', style=ProgressStyle(description_width='in…"
      ]
     },
     "metadata": {},
     "output_type": "display_data"
    },
    {
     "data": {
      "application/vnd.jupyter.widget-view+json": {
       "model_id": "",
       "version_major": 2,
       "version_minor": 0
      },
      "text/plain": [
       "HBox(children=(IntProgress(value=0, description='Measurement sweep', max=10000, style=ProgressStyle(descriptio…"
      ]
     },
     "metadata": {},
     "output_type": "display_data"
    },
    {
     "data": {
      "application/vnd.jupyter.widget-view+json": {
       "model_id": "",
       "version_major": 2,
       "version_minor": 0
      },
      "text/plain": [
       "HBox(children=(IntProgress(value=0, description='Equilibrate sweep', style=ProgressStyle(description_width='in…"
      ]
     },
     "metadata": {},
     "output_type": "display_data"
    },
    {
     "data": {
      "application/vnd.jupyter.widget-view+json": {
       "model_id": "",
       "version_major": 2,
       "version_minor": 0
      },
      "text/plain": [
       "HBox(children=(IntProgress(value=0, description='Measurement sweep', max=10000, style=ProgressStyle(descriptio…"
      ]
     },
     "metadata": {},
     "output_type": "display_data"
    },
    {
     "data": {
      "application/vnd.jupyter.widget-view+json": {
       "model_id": "",
       "version_major": 2,
       "version_minor": 0
      },
      "text/plain": [
       "HBox(children=(IntProgress(value=0, description='Equilibrate sweep', style=ProgressStyle(description_width='in…"
      ]
     },
     "metadata": {},
     "output_type": "display_data"
    },
    {
     "data": {
      "application/vnd.jupyter.widget-view+json": {
       "model_id": "",
       "version_major": 2,
       "version_minor": 0
      },
      "text/plain": [
       "HBox(children=(IntProgress(value=0, description='Measurement sweep', max=10000, style=ProgressStyle(descriptio…"
      ]
     },
     "metadata": {},
     "output_type": "display_data"
    },
    {
     "data": {
      "application/vnd.jupyter.widget-view+json": {
       "model_id": "",
       "version_major": 2,
       "version_minor": 0
      },
      "text/plain": [
       "HBox(children=(IntProgress(value=0, description='Equilibrate sweep', style=ProgressStyle(description_width='in…"
      ]
     },
     "metadata": {},
     "output_type": "display_data"
    },
    {
     "data": {
      "application/vnd.jupyter.widget-view+json": {
       "model_id": "",
       "version_major": 2,
       "version_minor": 0
      },
      "text/plain": [
       "HBox(children=(IntProgress(value=0, description='Measurement sweep', max=10000, style=ProgressStyle(descriptio…"
      ]
     },
     "metadata": {},
     "output_type": "display_data"
    },
    {
     "data": {
      "application/vnd.jupyter.widget-view+json": {
       "model_id": "",
       "version_major": 2,
       "version_minor": 0
      },
      "text/plain": [
       "HBox(children=(IntProgress(value=0, description='Equilibrate sweep', style=ProgressStyle(description_width='in…"
      ]
     },
     "metadata": {},
     "output_type": "display_data"
    },
    {
     "data": {
      "application/vnd.jupyter.widget-view+json": {
       "model_id": "",
       "version_major": 2,
       "version_minor": 0
      },
      "text/plain": [
       "HBox(children=(IntProgress(value=0, description='Measurement sweep', max=10000, style=ProgressStyle(descriptio…"
      ]
     },
     "metadata": {},
     "output_type": "display_data"
    },
    {
     "data": {
      "application/vnd.jupyter.widget-view+json": {
       "model_id": "",
       "version_major": 2,
       "version_minor": 0
      },
      "text/plain": [
       "HBox(children=(IntProgress(value=0, description='Equilibrate sweep', style=ProgressStyle(description_width='in…"
      ]
     },
     "metadata": {},
     "output_type": "display_data"
    },
    {
     "data": {
      "application/vnd.jupyter.widget-view+json": {
       "model_id": "",
       "version_major": 2,
       "version_minor": 0
      },
      "text/plain": [
       "HBox(children=(IntProgress(value=0, description='Measurement sweep', max=10000, style=ProgressStyle(descriptio…"
      ]
     },
     "metadata": {},
     "output_type": "display_data"
    },
    {
     "data": {
      "application/vnd.jupyter.widget-view+json": {
       "model_id": "",
       "version_major": 2,
       "version_minor": 0
      },
      "text/plain": [
       "HBox(children=(IntProgress(value=0, description='Equilibrate sweep', style=ProgressStyle(description_width='in…"
      ]
     },
     "metadata": {},
     "output_type": "display_data"
    },
    {
     "data": {
      "application/vnd.jupyter.widget-view+json": {
       "model_id": "",
       "version_major": 2,
       "version_minor": 0
      },
      "text/plain": [
       "HBox(children=(IntProgress(value=0, description='Measurement sweep', max=10000, style=ProgressStyle(descriptio…"
      ]
     },
     "metadata": {},
     "output_type": "display_data"
    },
    {
     "data": {
      "application/vnd.jupyter.widget-view+json": {
       "model_id": "",
       "version_major": 2,
       "version_minor": 0
      },
      "text/plain": [
       "HBox(children=(IntProgress(value=0, description='Equilibrate sweep', style=ProgressStyle(description_width='in…"
      ]
     },
     "metadata": {},
     "output_type": "display_data"
    },
    {
     "data": {
      "application/vnd.jupyter.widget-view+json": {
       "model_id": "",
       "version_major": 2,
       "version_minor": 0
      },
      "text/plain": [
       "HBox(children=(IntProgress(value=0, description='Measurement sweep', max=10000, style=ProgressStyle(descriptio…"
      ]
     },
     "metadata": {},
     "output_type": "display_data"
    },
    {
     "data": {
      "application/vnd.jupyter.widget-view+json": {
       "model_id": "",
       "version_major": 2,
       "version_minor": 0
      },
      "text/plain": [
       "HBox(children=(IntProgress(value=0, description='Equilibrate sweep', style=ProgressStyle(description_width='in…"
      ]
     },
     "metadata": {},
     "output_type": "display_data"
    },
    {
     "data": {
      "application/vnd.jupyter.widget-view+json": {
       "model_id": "",
       "version_major": 2,
       "version_minor": 0
      },
      "text/plain": [
       "HBox(children=(IntProgress(value=0, description='Measurement sweep', max=10000, style=ProgressStyle(descriptio…"
      ]
     },
     "metadata": {},
     "output_type": "display_data"
    },
    {
     "data": {
      "application/vnd.jupyter.widget-view+json": {
       "model_id": "",
       "version_major": 2,
       "version_minor": 0
      },
      "text/plain": [
       "HBox(children=(IntProgress(value=0, description='Equilibrate sweep', style=ProgressStyle(description_width='in…"
      ]
     },
     "metadata": {},
     "output_type": "display_data"
    },
    {
     "data": {
      "application/vnd.jupyter.widget-view+json": {
       "model_id": "",
       "version_major": 2,
       "version_minor": 0
      },
      "text/plain": [
       "HBox(children=(IntProgress(value=0, description='Measurement sweep', max=10000, style=ProgressStyle(descriptio…"
      ]
     },
     "metadata": {},
     "output_type": "display_data"
    },
    {
     "data": {
      "application/vnd.jupyter.widget-view+json": {
       "model_id": "",
       "version_major": 2,
       "version_minor": 0
      },
      "text/plain": [
       "HBox(children=(IntProgress(value=0, description='Equilibrate sweep', style=ProgressStyle(description_width='in…"
      ]
     },
     "metadata": {},
     "output_type": "display_data"
    },
    {
     "data": {
      "application/vnd.jupyter.widget-view+json": {
       "model_id": "",
       "version_major": 2,
       "version_minor": 0
      },
      "text/plain": [
       "HBox(children=(IntProgress(value=0, description='Measurement sweep', max=10000, style=ProgressStyle(descriptio…"
      ]
     },
     "metadata": {},
     "output_type": "display_data"
    },
    {
     "data": {
      "application/vnd.jupyter.widget-view+json": {
       "model_id": "",
       "version_major": 2,
       "version_minor": 0
      },
      "text/plain": [
       "HBox(children=(IntProgress(value=0, description='Equilibrate sweep', style=ProgressStyle(description_width='in…"
      ]
     },
     "metadata": {},
     "output_type": "display_data"
    },
    {
     "data": {
      "application/vnd.jupyter.widget-view+json": {
       "model_id": "",
       "version_major": 2,
       "version_minor": 0
      },
      "text/plain": [
       "HBox(children=(IntProgress(value=0, description='Measurement sweep', max=10000, style=ProgressStyle(descriptio…"
      ]
     },
     "metadata": {},
     "output_type": "display_data"
    },
    {
     "data": {
      "application/vnd.jupyter.widget-view+json": {
       "model_id": "",
       "version_major": 2,
       "version_minor": 0
      },
      "text/plain": [
       "HBox(children=(IntProgress(value=0, description='Equilibrate sweep', style=ProgressStyle(description_width='in…"
      ]
     },
     "metadata": {},
     "output_type": "display_data"
    },
    {
     "data": {
      "application/vnd.jupyter.widget-view+json": {
       "model_id": "",
       "version_major": 2,
       "version_minor": 0
      },
      "text/plain": [
       "HBox(children=(IntProgress(value=0, description='Measurement sweep', max=10000, style=ProgressStyle(descriptio…"
      ]
     },
     "metadata": {},
     "output_type": "display_data"
    },
    {
     "data": {
      "application/vnd.jupyter.widget-view+json": {
       "model_id": "",
       "version_major": 2,
       "version_minor": 0
      },
      "text/plain": [
       "HBox(children=(IntProgress(value=0, description='Equilibrate sweep', style=ProgressStyle(description_width='in…"
      ]
     },
     "metadata": {},
     "output_type": "display_data"
    },
    {
     "data": {
      "application/vnd.jupyter.widget-view+json": {
       "model_id": "",
       "version_major": 2,
       "version_minor": 0
      },
      "text/plain": [
       "HBox(children=(IntProgress(value=0, description='Measurement sweep', max=10000, style=ProgressStyle(descriptio…"
      ]
     },
     "metadata": {},
     "output_type": "display_data"
    },
    {
     "data": {
      "application/vnd.jupyter.widget-view+json": {
       "model_id": "",
       "version_major": 2,
       "version_minor": 0
      },
      "text/plain": [
       "HBox(children=(IntProgress(value=0, description='Col', max=20, style=ProgressStyle(description_width='initial'…"
      ]
     },
     "metadata": {},
     "output_type": "display_data"
    },
    {
     "data": {
      "application/vnd.jupyter.widget-view+json": {
       "model_id": "",
       "version_major": 2,
       "version_minor": 0
      },
      "text/plain": [
       "HBox(children=(IntProgress(value=0, description='Equilibrate sweep', style=ProgressStyle(description_width='in…"
      ]
     },
     "metadata": {},
     "output_type": "display_data"
    },
    {
     "data": {
      "application/vnd.jupyter.widget-view+json": {
       "model_id": "",
       "version_major": 2,
       "version_minor": 0
      },
      "text/plain": [
       "HBox(children=(IntProgress(value=0, description='Measurement sweep', max=10000, style=ProgressStyle(descriptio…"
      ]
     },
     "metadata": {},
     "output_type": "display_data"
    },
    {
     "data": {
      "application/vnd.jupyter.widget-view+json": {
       "model_id": "",
       "version_major": 2,
       "version_minor": 0
      },
      "text/plain": [
       "HBox(children=(IntProgress(value=0, description='Equilibrate sweep', style=ProgressStyle(description_width='in…"
      ]
     },
     "metadata": {},
     "output_type": "display_data"
    },
    {
     "data": {
      "application/vnd.jupyter.widget-view+json": {
       "model_id": "",
       "version_major": 2,
       "version_minor": 0
      },
      "text/plain": [
       "HBox(children=(IntProgress(value=0, description='Measurement sweep', max=10000, style=ProgressStyle(descriptio…"
      ]
     },
     "metadata": {},
     "output_type": "display_data"
    },
    {
     "data": {
      "application/vnd.jupyter.widget-view+json": {
       "model_id": "",
       "version_major": 2,
       "version_minor": 0
      },
      "text/plain": [
       "HBox(children=(IntProgress(value=0, description='Equilibrate sweep', style=ProgressStyle(description_width='in…"
      ]
     },
     "metadata": {},
     "output_type": "display_data"
    },
    {
     "data": {
      "application/vnd.jupyter.widget-view+json": {
       "model_id": "",
       "version_major": 2,
       "version_minor": 0
      },
      "text/plain": [
       "HBox(children=(IntProgress(value=0, description='Measurement sweep', max=10000, style=ProgressStyle(descriptio…"
      ]
     },
     "metadata": {},
     "output_type": "display_data"
    },
    {
     "data": {
      "application/vnd.jupyter.widget-view+json": {
       "model_id": "",
       "version_major": 2,
       "version_minor": 0
      },
      "text/plain": [
       "HBox(children=(IntProgress(value=0, description='Equilibrate sweep', style=ProgressStyle(description_width='in…"
      ]
     },
     "metadata": {},
     "output_type": "display_data"
    },
    {
     "data": {
      "application/vnd.jupyter.widget-view+json": {
       "model_id": "",
       "version_major": 2,
       "version_minor": 0
      },
      "text/plain": [
       "HBox(children=(IntProgress(value=0, description='Measurement sweep', max=10000, style=ProgressStyle(descriptio…"
      ]
     },
     "metadata": {},
     "output_type": "display_data"
    },
    {
     "data": {
      "application/vnd.jupyter.widget-view+json": {
       "model_id": "",
       "version_major": 2,
       "version_minor": 0
      },
      "text/plain": [
       "HBox(children=(IntProgress(value=0, description='Equilibrate sweep', style=ProgressStyle(description_width='in…"
      ]
     },
     "metadata": {},
     "output_type": "display_data"
    },
    {
     "data": {
      "application/vnd.jupyter.widget-view+json": {
       "model_id": "",
       "version_major": 2,
       "version_minor": 0
      },
      "text/plain": [
       "HBox(children=(IntProgress(value=0, description='Measurement sweep', max=10000, style=ProgressStyle(descriptio…"
      ]
     },
     "metadata": {},
     "output_type": "display_data"
    },
    {
     "data": {
      "application/vnd.jupyter.widget-view+json": {
       "model_id": "",
       "version_major": 2,
       "version_minor": 0
      },
      "text/plain": [
       "HBox(children=(IntProgress(value=0, description='Equilibrate sweep', style=ProgressStyle(description_width='in…"
      ]
     },
     "metadata": {},
     "output_type": "display_data"
    },
    {
     "data": {
      "application/vnd.jupyter.widget-view+json": {
       "model_id": "",
       "version_major": 2,
       "version_minor": 0
      },
      "text/plain": [
       "HBox(children=(IntProgress(value=0, description='Measurement sweep', max=10000, style=ProgressStyle(descriptio…"
      ]
     },
     "metadata": {},
     "output_type": "display_data"
    },
    {
     "data": {
      "application/vnd.jupyter.widget-view+json": {
       "model_id": "",
       "version_major": 2,
       "version_minor": 0
      },
      "text/plain": [
       "HBox(children=(IntProgress(value=0, description='Equilibrate sweep', style=ProgressStyle(description_width='in…"
      ]
     },
     "metadata": {},
     "output_type": "display_data"
    },
    {
     "data": {
      "application/vnd.jupyter.widget-view+json": {
       "model_id": "",
       "version_major": 2,
       "version_minor": 0
      },
      "text/plain": [
       "HBox(children=(IntProgress(value=0, description='Measurement sweep', max=10000, style=ProgressStyle(descriptio…"
      ]
     },
     "metadata": {},
     "output_type": "display_data"
    },
    {
     "data": {
      "application/vnd.jupyter.widget-view+json": {
       "model_id": "",
       "version_major": 2,
       "version_minor": 0
      },
      "text/plain": [
       "HBox(children=(IntProgress(value=0, description='Equilibrate sweep', style=ProgressStyle(description_width='in…"
      ]
     },
     "metadata": {},
     "output_type": "display_data"
    },
    {
     "data": {
      "application/vnd.jupyter.widget-view+json": {
       "model_id": "",
       "version_major": 2,
       "version_minor": 0
      },
      "text/plain": [
       "HBox(children=(IntProgress(value=0, description='Measurement sweep', max=10000, style=ProgressStyle(descriptio…"
      ]
     },
     "metadata": {},
     "output_type": "display_data"
    },
    {
     "data": {
      "application/vnd.jupyter.widget-view+json": {
       "model_id": "",
       "version_major": 2,
       "version_minor": 0
      },
      "text/plain": [
       "HBox(children=(IntProgress(value=0, description='Equilibrate sweep', style=ProgressStyle(description_width='in…"
      ]
     },
     "metadata": {},
     "output_type": "display_data"
    },
    {
     "data": {
      "application/vnd.jupyter.widget-view+json": {
       "model_id": "",
       "version_major": 2,
       "version_minor": 0
      },
      "text/plain": [
       "HBox(children=(IntProgress(value=0, description='Measurement sweep', max=10000, style=ProgressStyle(descriptio…"
      ]
     },
     "metadata": {},
     "output_type": "display_data"
    },
    {
     "data": {
      "application/vnd.jupyter.widget-view+json": {
       "model_id": "",
       "version_major": 2,
       "version_minor": 0
      },
      "text/plain": [
       "HBox(children=(IntProgress(value=0, description='Equilibrate sweep', style=ProgressStyle(description_width='in…"
      ]
     },
     "metadata": {},
     "output_type": "display_data"
    },
    {
     "data": {
      "application/vnd.jupyter.widget-view+json": {
       "model_id": "",
       "version_major": 2,
       "version_minor": 0
      },
      "text/plain": [
       "HBox(children=(IntProgress(value=0, description='Measurement sweep', max=10000, style=ProgressStyle(descriptio…"
      ]
     },
     "metadata": {},
     "output_type": "display_data"
    },
    {
     "data": {
      "application/vnd.jupyter.widget-view+json": {
       "model_id": "",
       "version_major": 2,
       "version_minor": 0
      },
      "text/plain": [
       "HBox(children=(IntProgress(value=0, description='Equilibrate sweep', style=ProgressStyle(description_width='in…"
      ]
     },
     "metadata": {},
     "output_type": "display_data"
    },
    {
     "data": {
      "application/vnd.jupyter.widget-view+json": {
       "model_id": "",
       "version_major": 2,
       "version_minor": 0
      },
      "text/plain": [
       "HBox(children=(IntProgress(value=0, description='Measurement sweep', max=10000, style=ProgressStyle(descriptio…"
      ]
     },
     "metadata": {},
     "output_type": "display_data"
    },
    {
     "data": {
      "application/vnd.jupyter.widget-view+json": {
       "model_id": "",
       "version_major": 2,
       "version_minor": 0
      },
      "text/plain": [
       "HBox(children=(IntProgress(value=0, description='Equilibrate sweep', style=ProgressStyle(description_width='in…"
      ]
     },
     "metadata": {},
     "output_type": "display_data"
    },
    {
     "data": {
      "application/vnd.jupyter.widget-view+json": {
       "model_id": "",
       "version_major": 2,
       "version_minor": 0
      },
      "text/plain": [
       "HBox(children=(IntProgress(value=0, description='Measurement sweep', max=10000, style=ProgressStyle(descriptio…"
      ]
     },
     "metadata": {},
     "output_type": "display_data"
    },
    {
     "data": {
      "application/vnd.jupyter.widget-view+json": {
       "model_id": "",
       "version_major": 2,
       "version_minor": 0
      },
      "text/plain": [
       "HBox(children=(IntProgress(value=0, description='Equilibrate sweep', style=ProgressStyle(description_width='in…"
      ]
     },
     "metadata": {},
     "output_type": "display_data"
    },
    {
     "data": {
      "application/vnd.jupyter.widget-view+json": {
       "model_id": "",
       "version_major": 2,
       "version_minor": 0
      },
      "text/plain": [
       "HBox(children=(IntProgress(value=0, description='Measurement sweep', max=10000, style=ProgressStyle(descriptio…"
      ]
     },
     "metadata": {},
     "output_type": "display_data"
    },
    {
     "data": {
      "application/vnd.jupyter.widget-view+json": {
       "model_id": "",
       "version_major": 2,
       "version_minor": 0
      },
      "text/plain": [
       "HBox(children=(IntProgress(value=0, description='Equilibrate sweep', style=ProgressStyle(description_width='in…"
      ]
     },
     "metadata": {},
     "output_type": "display_data"
    },
    {
     "data": {
      "application/vnd.jupyter.widget-view+json": {
       "model_id": "",
       "version_major": 2,
       "version_minor": 0
      },
      "text/plain": [
       "HBox(children=(IntProgress(value=0, description='Measurement sweep', max=10000, style=ProgressStyle(descriptio…"
      ]
     },
     "metadata": {},
     "output_type": "display_data"
    },
    {
     "data": {
      "application/vnd.jupyter.widget-view+json": {
       "model_id": "",
       "version_major": 2,
       "version_minor": 0
      },
      "text/plain": [
       "HBox(children=(IntProgress(value=0, description='Equilibrate sweep', style=ProgressStyle(description_width='in…"
      ]
     },
     "metadata": {},
     "output_type": "display_data"
    },
    {
     "data": {
      "application/vnd.jupyter.widget-view+json": {
       "model_id": "",
       "version_major": 2,
       "version_minor": 0
      },
      "text/plain": [
       "HBox(children=(IntProgress(value=0, description='Measurement sweep', max=10000, style=ProgressStyle(descriptio…"
      ]
     },
     "metadata": {},
     "output_type": "display_data"
    },
    {
     "data": {
      "application/vnd.jupyter.widget-view+json": {
       "model_id": "",
       "version_major": 2,
       "version_minor": 0
      },
      "text/plain": [
       "HBox(children=(IntProgress(value=0, description='Equilibrate sweep', style=ProgressStyle(description_width='in…"
      ]
     },
     "metadata": {},
     "output_type": "display_data"
    },
    {
     "data": {
      "application/vnd.jupyter.widget-view+json": {
       "model_id": "",
       "version_major": 2,
       "version_minor": 0
      },
      "text/plain": [
       "HBox(children=(IntProgress(value=0, description='Measurement sweep', max=10000, style=ProgressStyle(descriptio…"
      ]
     },
     "metadata": {},
     "output_type": "display_data"
    },
    {
     "data": {
      "application/vnd.jupyter.widget-view+json": {
       "model_id": "",
       "version_major": 2,
       "version_minor": 0
      },
      "text/plain": [
       "HBox(children=(IntProgress(value=0, description='Equilibrate sweep', style=ProgressStyle(description_width='in…"
      ]
     },
     "metadata": {},
     "output_type": "display_data"
    },
    {
     "data": {
      "application/vnd.jupyter.widget-view+json": {
       "model_id": "",
       "version_major": 2,
       "version_minor": 0
      },
      "text/plain": [
       "HBox(children=(IntProgress(value=0, description='Measurement sweep', max=10000, style=ProgressStyle(descriptio…"
      ]
     },
     "metadata": {},
     "output_type": "display_data"
    },
    {
     "data": {
      "application/vnd.jupyter.widget-view+json": {
       "model_id": "",
       "version_major": 2,
       "version_minor": 0
      },
      "text/plain": [
       "HBox(children=(IntProgress(value=0, description='Equilibrate sweep', style=ProgressStyle(description_width='in…"
      ]
     },
     "metadata": {},
     "output_type": "display_data"
    },
    {
     "data": {
      "application/vnd.jupyter.widget-view+json": {
       "model_id": "",
       "version_major": 2,
       "version_minor": 0
      },
      "text/plain": [
       "HBox(children=(IntProgress(value=0, description='Measurement sweep', max=10000, style=ProgressStyle(descriptio…"
      ]
     },
     "metadata": {},
     "output_type": "display_data"
    },
    {
     "data": {
      "application/vnd.jupyter.widget-view+json": {
       "model_id": "",
       "version_major": 2,
       "version_minor": 0
      },
      "text/plain": [
       "HBox(children=(IntProgress(value=0, description='Equilibrate sweep', style=ProgressStyle(description_width='in…"
      ]
     },
     "metadata": {},
     "output_type": "display_data"
    },
    {
     "data": {
      "application/vnd.jupyter.widget-view+json": {
       "model_id": "",
       "version_major": 2,
       "version_minor": 0
      },
      "text/plain": [
       "HBox(children=(IntProgress(value=0, description='Measurement sweep', max=10000, style=ProgressStyle(descriptio…"
      ]
     },
     "metadata": {},
     "output_type": "display_data"
    },
    {
     "data": {
      "application/vnd.jupyter.widget-view+json": {
       "model_id": "",
       "version_major": 2,
       "version_minor": 0
      },
      "text/plain": [
       "HBox(children=(IntProgress(value=0, description='Equilibrate sweep', style=ProgressStyle(description_width='in…"
      ]
     },
     "metadata": {},
     "output_type": "display_data"
    },
    {
     "data": {
      "application/vnd.jupyter.widget-view+json": {
       "model_id": "",
       "version_major": 2,
       "version_minor": 0
      },
      "text/plain": [
       "HBox(children=(IntProgress(value=0, description='Measurement sweep', max=10000, style=ProgressStyle(descriptio…"
      ]
     },
     "metadata": {},
     "output_type": "display_data"
    },
    {
     "data": {
      "application/vnd.jupyter.widget-view+json": {
       "model_id": "",
       "version_major": 2,
       "version_minor": 0
      },
      "text/plain": [
       "HBox(children=(IntProgress(value=0, description='Col', max=20, style=ProgressStyle(description_width='initial'…"
      ]
     },
     "metadata": {},
     "output_type": "display_data"
    },
    {
     "data": {
      "application/vnd.jupyter.widget-view+json": {
       "model_id": "",
       "version_major": 2,
       "version_minor": 0
      },
      "text/plain": [
       "HBox(children=(IntProgress(value=0, description='Equilibrate sweep', style=ProgressStyle(description_width='in…"
      ]
     },
     "metadata": {},
     "output_type": "display_data"
    },
    {
     "data": {
      "application/vnd.jupyter.widget-view+json": {
       "model_id": "",
       "version_major": 2,
       "version_minor": 0
      },
      "text/plain": [
       "HBox(children=(IntProgress(value=0, description='Measurement sweep', max=10000, style=ProgressStyle(descriptio…"
      ]
     },
     "metadata": {},
     "output_type": "display_data"
    },
    {
     "data": {
      "application/vnd.jupyter.widget-view+json": {
       "model_id": "",
       "version_major": 2,
       "version_minor": 0
      },
      "text/plain": [
       "HBox(children=(IntProgress(value=0, description='Equilibrate sweep', style=ProgressStyle(description_width='in…"
      ]
     },
     "metadata": {},
     "output_type": "display_data"
    },
    {
     "data": {
      "application/vnd.jupyter.widget-view+json": {
       "model_id": "",
       "version_major": 2,
       "version_minor": 0
      },
      "text/plain": [
       "HBox(children=(IntProgress(value=0, description='Measurement sweep', max=10000, style=ProgressStyle(descriptio…"
      ]
     },
     "metadata": {},
     "output_type": "display_data"
    },
    {
     "data": {
      "application/vnd.jupyter.widget-view+json": {
       "model_id": "",
       "version_major": 2,
       "version_minor": 0
      },
      "text/plain": [
       "HBox(children=(IntProgress(value=0, description='Equilibrate sweep', style=ProgressStyle(description_width='in…"
      ]
     },
     "metadata": {},
     "output_type": "display_data"
    },
    {
     "data": {
      "application/vnd.jupyter.widget-view+json": {
       "model_id": "",
       "version_major": 2,
       "version_minor": 0
      },
      "text/plain": [
       "HBox(children=(IntProgress(value=0, description='Measurement sweep', max=10000, style=ProgressStyle(descriptio…"
      ]
     },
     "metadata": {},
     "output_type": "display_data"
    },
    {
     "data": {
      "application/vnd.jupyter.widget-view+json": {
       "model_id": "",
       "version_major": 2,
       "version_minor": 0
      },
      "text/plain": [
       "HBox(children=(IntProgress(value=0, description='Equilibrate sweep', style=ProgressStyle(description_width='in…"
      ]
     },
     "metadata": {},
     "output_type": "display_data"
    },
    {
     "data": {
      "application/vnd.jupyter.widget-view+json": {
       "model_id": "",
       "version_major": 2,
       "version_minor": 0
      },
      "text/plain": [
       "HBox(children=(IntProgress(value=0, description='Measurement sweep', max=10000, style=ProgressStyle(descriptio…"
      ]
     },
     "metadata": {},
     "output_type": "display_data"
    },
    {
     "data": {
      "application/vnd.jupyter.widget-view+json": {
       "model_id": "",
       "version_major": 2,
       "version_minor": 0
      },
      "text/plain": [
       "HBox(children=(IntProgress(value=0, description='Equilibrate sweep', style=ProgressStyle(description_width='in…"
      ]
     },
     "metadata": {},
     "output_type": "display_data"
    },
    {
     "data": {
      "application/vnd.jupyter.widget-view+json": {
       "model_id": "",
       "version_major": 2,
       "version_minor": 0
      },
      "text/plain": [
       "HBox(children=(IntProgress(value=0, description='Measurement sweep', max=10000, style=ProgressStyle(descriptio…"
      ]
     },
     "metadata": {},
     "output_type": "display_data"
    },
    {
     "data": {
      "application/vnd.jupyter.widget-view+json": {
       "model_id": "",
       "version_major": 2,
       "version_minor": 0
      },
      "text/plain": [
       "HBox(children=(IntProgress(value=0, description='Equilibrate sweep', style=ProgressStyle(description_width='in…"
      ]
     },
     "metadata": {},
     "output_type": "display_data"
    },
    {
     "data": {
      "application/vnd.jupyter.widget-view+json": {
       "model_id": "",
       "version_major": 2,
       "version_minor": 0
      },
      "text/plain": [
       "HBox(children=(IntProgress(value=0, description='Measurement sweep', max=10000, style=ProgressStyle(descriptio…"
      ]
     },
     "metadata": {},
     "output_type": "display_data"
    },
    {
     "data": {
      "application/vnd.jupyter.widget-view+json": {
       "model_id": "",
       "version_major": 2,
       "version_minor": 0
      },
      "text/plain": [
       "HBox(children=(IntProgress(value=0, description='Equilibrate sweep', style=ProgressStyle(description_width='in…"
      ]
     },
     "metadata": {},
     "output_type": "display_data"
    },
    {
     "data": {
      "application/vnd.jupyter.widget-view+json": {
       "model_id": "",
       "version_major": 2,
       "version_minor": 0
      },
      "text/plain": [
       "HBox(children=(IntProgress(value=0, description='Measurement sweep', max=10000, style=ProgressStyle(descriptio…"
      ]
     },
     "metadata": {},
     "output_type": "display_data"
    },
    {
     "data": {
      "application/vnd.jupyter.widget-view+json": {
       "model_id": "",
       "version_major": 2,
       "version_minor": 0
      },
      "text/plain": [
       "HBox(children=(IntProgress(value=0, description='Equilibrate sweep', style=ProgressStyle(description_width='in…"
      ]
     },
     "metadata": {},
     "output_type": "display_data"
    },
    {
     "data": {
      "application/vnd.jupyter.widget-view+json": {
       "model_id": "",
       "version_major": 2,
       "version_minor": 0
      },
      "text/plain": [
       "HBox(children=(IntProgress(value=0, description='Measurement sweep', max=10000, style=ProgressStyle(descriptio…"
      ]
     },
     "metadata": {},
     "output_type": "display_data"
    },
    {
     "data": {
      "application/vnd.jupyter.widget-view+json": {
       "model_id": "",
       "version_major": 2,
       "version_minor": 0
      },
      "text/plain": [
       "HBox(children=(IntProgress(value=0, description='Equilibrate sweep', style=ProgressStyle(description_width='in…"
      ]
     },
     "metadata": {},
     "output_type": "display_data"
    },
    {
     "data": {
      "application/vnd.jupyter.widget-view+json": {
       "model_id": "",
       "version_major": 2,
       "version_minor": 0
      },
      "text/plain": [
       "HBox(children=(IntProgress(value=0, description='Measurement sweep', max=10000, style=ProgressStyle(descriptio…"
      ]
     },
     "metadata": {},
     "output_type": "display_data"
    },
    {
     "data": {
      "application/vnd.jupyter.widget-view+json": {
       "model_id": "",
       "version_major": 2,
       "version_minor": 0
      },
      "text/plain": [
       "HBox(children=(IntProgress(value=0, description='Equilibrate sweep', style=ProgressStyle(description_width='in…"
      ]
     },
     "metadata": {},
     "output_type": "display_data"
    },
    {
     "data": {
      "application/vnd.jupyter.widget-view+json": {
       "model_id": "",
       "version_major": 2,
       "version_minor": 0
      },
      "text/plain": [
       "HBox(children=(IntProgress(value=0, description='Measurement sweep', max=10000, style=ProgressStyle(descriptio…"
      ]
     },
     "metadata": {},
     "output_type": "display_data"
    },
    {
     "data": {
      "application/vnd.jupyter.widget-view+json": {
       "model_id": "",
       "version_major": 2,
       "version_minor": 0
      },
      "text/plain": [
       "HBox(children=(IntProgress(value=0, description='Equilibrate sweep', style=ProgressStyle(description_width='in…"
      ]
     },
     "metadata": {},
     "output_type": "display_data"
    },
    {
     "data": {
      "application/vnd.jupyter.widget-view+json": {
       "model_id": "",
       "version_major": 2,
       "version_minor": 0
      },
      "text/plain": [
       "HBox(children=(IntProgress(value=0, description='Measurement sweep', max=10000, style=ProgressStyle(descriptio…"
      ]
     },
     "metadata": {},
     "output_type": "display_data"
    },
    {
     "data": {
      "application/vnd.jupyter.widget-view+json": {
       "model_id": "",
       "version_major": 2,
       "version_minor": 0
      },
      "text/plain": [
       "HBox(children=(IntProgress(value=0, description='Equilibrate sweep', style=ProgressStyle(description_width='in…"
      ]
     },
     "metadata": {},
     "output_type": "display_data"
    },
    {
     "data": {
      "application/vnd.jupyter.widget-view+json": {
       "model_id": "",
       "version_major": 2,
       "version_minor": 0
      },
      "text/plain": [
       "HBox(children=(IntProgress(value=0, description='Measurement sweep', max=10000, style=ProgressStyle(descriptio…"
      ]
     },
     "metadata": {},
     "output_type": "display_data"
    },
    {
     "data": {
      "application/vnd.jupyter.widget-view+json": {
       "model_id": "",
       "version_major": 2,
       "version_minor": 0
      },
      "text/plain": [
       "HBox(children=(IntProgress(value=0, description='Equilibrate sweep', style=ProgressStyle(description_width='in…"
      ]
     },
     "metadata": {},
     "output_type": "display_data"
    },
    {
     "data": {
      "application/vnd.jupyter.widget-view+json": {
       "model_id": "",
       "version_major": 2,
       "version_minor": 0
      },
      "text/plain": [
       "HBox(children=(IntProgress(value=0, description='Measurement sweep', max=10000, style=ProgressStyle(descriptio…"
      ]
     },
     "metadata": {},
     "output_type": "display_data"
    },
    {
     "data": {
      "application/vnd.jupyter.widget-view+json": {
       "model_id": "",
       "version_major": 2,
       "version_minor": 0
      },
      "text/plain": [
       "HBox(children=(IntProgress(value=0, description='Equilibrate sweep', style=ProgressStyle(description_width='in…"
      ]
     },
     "metadata": {},
     "output_type": "display_data"
    },
    {
     "data": {
      "application/vnd.jupyter.widget-view+json": {
       "model_id": "",
       "version_major": 2,
       "version_minor": 0
      },
      "text/plain": [
       "HBox(children=(IntProgress(value=0, description='Measurement sweep', max=10000, style=ProgressStyle(descriptio…"
      ]
     },
     "metadata": {},
     "output_type": "display_data"
    },
    {
     "data": {
      "application/vnd.jupyter.widget-view+json": {
       "model_id": "",
       "version_major": 2,
       "version_minor": 0
      },
      "text/plain": [
       "HBox(children=(IntProgress(value=0, description='Equilibrate sweep', style=ProgressStyle(description_width='in…"
      ]
     },
     "metadata": {},
     "output_type": "display_data"
    },
    {
     "data": {
      "application/vnd.jupyter.widget-view+json": {
       "model_id": "",
       "version_major": 2,
       "version_minor": 0
      },
      "text/plain": [
       "HBox(children=(IntProgress(value=0, description='Measurement sweep', max=10000, style=ProgressStyle(descriptio…"
      ]
     },
     "metadata": {},
     "output_type": "display_data"
    },
    {
     "data": {
      "application/vnd.jupyter.widget-view+json": {
       "model_id": "",
       "version_major": 2,
       "version_minor": 0
      },
      "text/plain": [
       "HBox(children=(IntProgress(value=0, description='Equilibrate sweep', style=ProgressStyle(description_width='in…"
      ]
     },
     "metadata": {},
     "output_type": "display_data"
    },
    {
     "data": {
      "application/vnd.jupyter.widget-view+json": {
       "model_id": "",
       "version_major": 2,
       "version_minor": 0
      },
      "text/plain": [
       "HBox(children=(IntProgress(value=0, description='Measurement sweep', max=10000, style=ProgressStyle(descriptio…"
      ]
     },
     "metadata": {},
     "output_type": "display_data"
    },
    {
     "data": {
      "application/vnd.jupyter.widget-view+json": {
       "model_id": "",
       "version_major": 2,
       "version_minor": 0
      },
      "text/plain": [
       "HBox(children=(IntProgress(value=0, description='Equilibrate sweep', style=ProgressStyle(description_width='in…"
      ]
     },
     "metadata": {},
     "output_type": "display_data"
    },
    {
     "data": {
      "application/vnd.jupyter.widget-view+json": {
       "model_id": "",
       "version_major": 2,
       "version_minor": 0
      },
      "text/plain": [
       "HBox(children=(IntProgress(value=0, description='Measurement sweep', max=10000, style=ProgressStyle(descriptio…"
      ]
     },
     "metadata": {},
     "output_type": "display_data"
    },
    {
     "data": {
      "application/vnd.jupyter.widget-view+json": {
       "model_id": "",
       "version_major": 2,
       "version_minor": 0
      },
      "text/plain": [
       "HBox(children=(IntProgress(value=0, description='Equilibrate sweep', style=ProgressStyle(description_width='in…"
      ]
     },
     "metadata": {},
     "output_type": "display_data"
    },
    {
     "data": {
      "application/vnd.jupyter.widget-view+json": {
       "model_id": "",
       "version_major": 2,
       "version_minor": 0
      },
      "text/plain": [
       "HBox(children=(IntProgress(value=0, description='Measurement sweep', max=10000, style=ProgressStyle(descriptio…"
      ]
     },
     "metadata": {},
     "output_type": "display_data"
    },
    {
     "data": {
      "application/vnd.jupyter.widget-view+json": {
       "model_id": "",
       "version_major": 2,
       "version_minor": 0
      },
      "text/plain": [
       "HBox(children=(IntProgress(value=0, description='Equilibrate sweep', style=ProgressStyle(description_width='in…"
      ]
     },
     "metadata": {},
     "output_type": "display_data"
    },
    {
     "data": {
      "application/vnd.jupyter.widget-view+json": {
       "model_id": "",
       "version_major": 2,
       "version_minor": 0
      },
      "text/plain": [
       "HBox(children=(IntProgress(value=0, description='Measurement sweep', max=10000, style=ProgressStyle(descriptio…"
      ]
     },
     "metadata": {},
     "output_type": "display_data"
    },
    {
     "data": {
      "application/vnd.jupyter.widget-view+json": {
       "model_id": "",
       "version_major": 2,
       "version_minor": 0
      },
      "text/plain": [
       "HBox(children=(IntProgress(value=0, description='Equilibrate sweep', style=ProgressStyle(description_width='in…"
      ]
     },
     "metadata": {},
     "output_type": "display_data"
    },
    {
     "data": {
      "application/vnd.jupyter.widget-view+json": {
       "model_id": "",
       "version_major": 2,
       "version_minor": 0
      },
      "text/plain": [
       "HBox(children=(IntProgress(value=0, description='Measurement sweep', max=10000, style=ProgressStyle(descriptio…"
      ]
     },
     "metadata": {},
     "output_type": "display_data"
    },
    {
     "data": {
      "application/vnd.jupyter.widget-view+json": {
       "model_id": "",
       "version_major": 2,
       "version_minor": 0
      },
      "text/plain": [
       "HBox(children=(IntProgress(value=0, description='Col', max=20, style=ProgressStyle(description_width='initial'…"
      ]
     },
     "metadata": {},
     "output_type": "display_data"
    },
    {
     "data": {
      "application/vnd.jupyter.widget-view+json": {
       "model_id": "",
       "version_major": 2,
       "version_minor": 0
      },
      "text/plain": [
       "HBox(children=(IntProgress(value=0, description='Equilibrate sweep', style=ProgressStyle(description_width='in…"
      ]
     },
     "metadata": {},
     "output_type": "display_data"
    },
    {
     "data": {
      "application/vnd.jupyter.widget-view+json": {
       "model_id": "",
       "version_major": 2,
       "version_minor": 0
      },
      "text/plain": [
       "HBox(children=(IntProgress(value=0, description='Measurement sweep', max=10000, style=ProgressStyle(descriptio…"
      ]
     },
     "metadata": {},
     "output_type": "display_data"
    },
    {
     "data": {
      "application/vnd.jupyter.widget-view+json": {
       "model_id": "",
       "version_major": 2,
       "version_minor": 0
      },
      "text/plain": [
       "HBox(children=(IntProgress(value=0, description='Equilibrate sweep', style=ProgressStyle(description_width='in…"
      ]
     },
     "metadata": {},
     "output_type": "display_data"
    },
    {
     "data": {
      "application/vnd.jupyter.widget-view+json": {
       "model_id": "",
       "version_major": 2,
       "version_minor": 0
      },
      "text/plain": [
       "HBox(children=(IntProgress(value=0, description='Measurement sweep', max=10000, style=ProgressStyle(descriptio…"
      ]
     },
     "metadata": {},
     "output_type": "display_data"
    },
    {
     "data": {
      "application/vnd.jupyter.widget-view+json": {
       "model_id": "",
       "version_major": 2,
       "version_minor": 0
      },
      "text/plain": [
       "HBox(children=(IntProgress(value=0, description='Equilibrate sweep', style=ProgressStyle(description_width='in…"
      ]
     },
     "metadata": {},
     "output_type": "display_data"
    },
    {
     "data": {
      "application/vnd.jupyter.widget-view+json": {
       "model_id": "",
       "version_major": 2,
       "version_minor": 0
      },
      "text/plain": [
       "HBox(children=(IntProgress(value=0, description='Measurement sweep', max=10000, style=ProgressStyle(descriptio…"
      ]
     },
     "metadata": {},
     "output_type": "display_data"
    },
    {
     "data": {
      "application/vnd.jupyter.widget-view+json": {
       "model_id": "",
       "version_major": 2,
       "version_minor": 0
      },
      "text/plain": [
       "HBox(children=(IntProgress(value=0, description='Equilibrate sweep', style=ProgressStyle(description_width='in…"
      ]
     },
     "metadata": {},
     "output_type": "display_data"
    },
    {
     "data": {
      "application/vnd.jupyter.widget-view+json": {
       "model_id": "",
       "version_major": 2,
       "version_minor": 0
      },
      "text/plain": [
       "HBox(children=(IntProgress(value=0, description='Measurement sweep', max=10000, style=ProgressStyle(descriptio…"
      ]
     },
     "metadata": {},
     "output_type": "display_data"
    },
    {
     "data": {
      "application/vnd.jupyter.widget-view+json": {
       "model_id": "",
       "version_major": 2,
       "version_minor": 0
      },
      "text/plain": [
       "HBox(children=(IntProgress(value=0, description='Equilibrate sweep', style=ProgressStyle(description_width='in…"
      ]
     },
     "metadata": {},
     "output_type": "display_data"
    },
    {
     "data": {
      "application/vnd.jupyter.widget-view+json": {
       "model_id": "",
       "version_major": 2,
       "version_minor": 0
      },
      "text/plain": [
       "HBox(children=(IntProgress(value=0, description='Measurement sweep', max=10000, style=ProgressStyle(descriptio…"
      ]
     },
     "metadata": {},
     "output_type": "display_data"
    },
    {
     "data": {
      "application/vnd.jupyter.widget-view+json": {
       "model_id": "",
       "version_major": 2,
       "version_minor": 0
      },
      "text/plain": [
       "HBox(children=(IntProgress(value=0, description='Equilibrate sweep', style=ProgressStyle(description_width='in…"
      ]
     },
     "metadata": {},
     "output_type": "display_data"
    },
    {
     "data": {
      "application/vnd.jupyter.widget-view+json": {
       "model_id": "",
       "version_major": 2,
       "version_minor": 0
      },
      "text/plain": [
       "HBox(children=(IntProgress(value=0, description='Measurement sweep', max=10000, style=ProgressStyle(descriptio…"
      ]
     },
     "metadata": {},
     "output_type": "display_data"
    },
    {
     "data": {
      "application/vnd.jupyter.widget-view+json": {
       "model_id": "",
       "version_major": 2,
       "version_minor": 0
      },
      "text/plain": [
       "HBox(children=(IntProgress(value=0, description='Equilibrate sweep', style=ProgressStyle(description_width='in…"
      ]
     },
     "metadata": {},
     "output_type": "display_data"
    },
    {
     "data": {
      "application/vnd.jupyter.widget-view+json": {
       "model_id": "",
       "version_major": 2,
       "version_minor": 0
      },
      "text/plain": [
       "HBox(children=(IntProgress(value=0, description='Measurement sweep', max=10000, style=ProgressStyle(descriptio…"
      ]
     },
     "metadata": {},
     "output_type": "display_data"
    },
    {
     "data": {
      "application/vnd.jupyter.widget-view+json": {
       "model_id": "",
       "version_major": 2,
       "version_minor": 0
      },
      "text/plain": [
       "HBox(children=(IntProgress(value=0, description='Equilibrate sweep', style=ProgressStyle(description_width='in…"
      ]
     },
     "metadata": {},
     "output_type": "display_data"
    },
    {
     "data": {
      "application/vnd.jupyter.widget-view+json": {
       "model_id": "",
       "version_major": 2,
       "version_minor": 0
      },
      "text/plain": [
       "HBox(children=(IntProgress(value=0, description='Measurement sweep', max=10000, style=ProgressStyle(descriptio…"
      ]
     },
     "metadata": {},
     "output_type": "display_data"
    },
    {
     "data": {
      "application/vnd.jupyter.widget-view+json": {
       "model_id": "",
       "version_major": 2,
       "version_minor": 0
      },
      "text/plain": [
       "HBox(children=(IntProgress(value=0, description='Equilibrate sweep', style=ProgressStyle(description_width='in…"
      ]
     },
     "metadata": {},
     "output_type": "display_data"
    },
    {
     "data": {
      "application/vnd.jupyter.widget-view+json": {
       "model_id": "",
       "version_major": 2,
       "version_minor": 0
      },
      "text/plain": [
       "HBox(children=(IntProgress(value=0, description='Measurement sweep', max=10000, style=ProgressStyle(descriptio…"
      ]
     },
     "metadata": {},
     "output_type": "display_data"
    },
    {
     "data": {
      "application/vnd.jupyter.widget-view+json": {
       "model_id": "",
       "version_major": 2,
       "version_minor": 0
      },
      "text/plain": [
       "HBox(children=(IntProgress(value=0, description='Equilibrate sweep', style=ProgressStyle(description_width='in…"
      ]
     },
     "metadata": {},
     "output_type": "display_data"
    },
    {
     "data": {
      "application/vnd.jupyter.widget-view+json": {
       "model_id": "",
       "version_major": 2,
       "version_minor": 0
      },
      "text/plain": [
       "HBox(children=(IntProgress(value=0, description='Measurement sweep', max=10000, style=ProgressStyle(descriptio…"
      ]
     },
     "metadata": {},
     "output_type": "display_data"
    },
    {
     "data": {
      "application/vnd.jupyter.widget-view+json": {
       "model_id": "",
       "version_major": 2,
       "version_minor": 0
      },
      "text/plain": [
       "HBox(children=(IntProgress(value=0, description='Equilibrate sweep', style=ProgressStyle(description_width='in…"
      ]
     },
     "metadata": {},
     "output_type": "display_data"
    },
    {
     "data": {
      "application/vnd.jupyter.widget-view+json": {
       "model_id": "",
       "version_major": 2,
       "version_minor": 0
      },
      "text/plain": [
       "HBox(children=(IntProgress(value=0, description='Measurement sweep', max=10000, style=ProgressStyle(descriptio…"
      ]
     },
     "metadata": {},
     "output_type": "display_data"
    },
    {
     "data": {
      "application/vnd.jupyter.widget-view+json": {
       "model_id": "",
       "version_major": 2,
       "version_minor": 0
      },
      "text/plain": [
       "HBox(children=(IntProgress(value=0, description='Equilibrate sweep', style=ProgressStyle(description_width='in…"
      ]
     },
     "metadata": {},
     "output_type": "display_data"
    },
    {
     "data": {
      "application/vnd.jupyter.widget-view+json": {
       "model_id": "",
       "version_major": 2,
       "version_minor": 0
      },
      "text/plain": [
       "HBox(children=(IntProgress(value=0, description='Measurement sweep', max=10000, style=ProgressStyle(descriptio…"
      ]
     },
     "metadata": {},
     "output_type": "display_data"
    },
    {
     "data": {
      "application/vnd.jupyter.widget-view+json": {
       "model_id": "",
       "version_major": 2,
       "version_minor": 0
      },
      "text/plain": [
       "HBox(children=(IntProgress(value=0, description='Equilibrate sweep', style=ProgressStyle(description_width='in…"
      ]
     },
     "metadata": {},
     "output_type": "display_data"
    },
    {
     "data": {
      "application/vnd.jupyter.widget-view+json": {
       "model_id": "",
       "version_major": 2,
       "version_minor": 0
      },
      "text/plain": [
       "HBox(children=(IntProgress(value=0, description='Measurement sweep', max=10000, style=ProgressStyle(descriptio…"
      ]
     },
     "metadata": {},
     "output_type": "display_data"
    },
    {
     "data": {
      "application/vnd.jupyter.widget-view+json": {
       "model_id": "",
       "version_major": 2,
       "version_minor": 0
      },
      "text/plain": [
       "HBox(children=(IntProgress(value=0, description='Equilibrate sweep', style=ProgressStyle(description_width='in…"
      ]
     },
     "metadata": {},
     "output_type": "display_data"
    },
    {
     "data": {
      "application/vnd.jupyter.widget-view+json": {
       "model_id": "",
       "version_major": 2,
       "version_minor": 0
      },
      "text/plain": [
       "HBox(children=(IntProgress(value=0, description='Measurement sweep', max=10000, style=ProgressStyle(descriptio…"
      ]
     },
     "metadata": {},
     "output_type": "display_data"
    },
    {
     "data": {
      "application/vnd.jupyter.widget-view+json": {
       "model_id": "",
       "version_major": 2,
       "version_minor": 0
      },
      "text/plain": [
       "HBox(children=(IntProgress(value=0, description='Equilibrate sweep', style=ProgressStyle(description_width='in…"
      ]
     },
     "metadata": {},
     "output_type": "display_data"
    },
    {
     "data": {
      "application/vnd.jupyter.widget-view+json": {
       "model_id": "",
       "version_major": 2,
       "version_minor": 0
      },
      "text/plain": [
       "HBox(children=(IntProgress(value=0, description='Measurement sweep', max=10000, style=ProgressStyle(descriptio…"
      ]
     },
     "metadata": {},
     "output_type": "display_data"
    },
    {
     "data": {
      "application/vnd.jupyter.widget-view+json": {
       "model_id": "",
       "version_major": 2,
       "version_minor": 0
      },
      "text/plain": [
       "HBox(children=(IntProgress(value=0, description='Equilibrate sweep', style=ProgressStyle(description_width='in…"
      ]
     },
     "metadata": {},
     "output_type": "display_data"
    },
    {
     "data": {
      "application/vnd.jupyter.widget-view+json": {
       "model_id": "",
       "version_major": 2,
       "version_minor": 0
      },
      "text/plain": [
       "HBox(children=(IntProgress(value=0, description='Measurement sweep', max=10000, style=ProgressStyle(descriptio…"
      ]
     },
     "metadata": {},
     "output_type": "display_data"
    },
    {
     "data": {
      "application/vnd.jupyter.widget-view+json": {
       "model_id": "",
       "version_major": 2,
       "version_minor": 0
      },
      "text/plain": [
       "HBox(children=(IntProgress(value=0, description='Equilibrate sweep', style=ProgressStyle(description_width='in…"
      ]
     },
     "metadata": {},
     "output_type": "display_data"
    },
    {
     "data": {
      "application/vnd.jupyter.widget-view+json": {
       "model_id": "",
       "version_major": 2,
       "version_minor": 0
      },
      "text/plain": [
       "HBox(children=(IntProgress(value=0, description='Measurement sweep', max=10000, style=ProgressStyle(descriptio…"
      ]
     },
     "metadata": {},
     "output_type": "display_data"
    },
    {
     "data": {
      "application/vnd.jupyter.widget-view+json": {
       "model_id": "",
       "version_major": 2,
       "version_minor": 0
      },
      "text/plain": [
       "HBox(children=(IntProgress(value=0, description='Equilibrate sweep', style=ProgressStyle(description_width='in…"
      ]
     },
     "metadata": {},
     "output_type": "display_data"
    },
    {
     "data": {
      "application/vnd.jupyter.widget-view+json": {
       "model_id": "",
       "version_major": 2,
       "version_minor": 0
      },
      "text/plain": [
       "HBox(children=(IntProgress(value=0, description='Measurement sweep', max=10000, style=ProgressStyle(descriptio…"
      ]
     },
     "metadata": {},
     "output_type": "display_data"
    },
    {
     "data": {
      "application/vnd.jupyter.widget-view+json": {
       "model_id": "",
       "version_major": 2,
       "version_minor": 0
      },
      "text/plain": [
       "HBox(children=(IntProgress(value=0, description='Equilibrate sweep', style=ProgressStyle(description_width='in…"
      ]
     },
     "metadata": {},
     "output_type": "display_data"
    },
    {
     "data": {
      "application/vnd.jupyter.widget-view+json": {
       "model_id": "",
       "version_major": 2,
       "version_minor": 0
      },
      "text/plain": [
       "HBox(children=(IntProgress(value=0, description='Measurement sweep', max=10000, style=ProgressStyle(descriptio…"
      ]
     },
     "metadata": {},
     "output_type": "display_data"
    },
    {
     "data": {
      "application/vnd.jupyter.widget-view+json": {
       "model_id": "",
       "version_major": 2,
       "version_minor": 0
      },
      "text/plain": [
       "HBox(children=(IntProgress(value=0, description='Equilibrate sweep', style=ProgressStyle(description_width='in…"
      ]
     },
     "metadata": {},
     "output_type": "display_data"
    },
    {
     "data": {
      "application/vnd.jupyter.widget-view+json": {
       "model_id": "",
       "version_major": 2,
       "version_minor": 0
      },
      "text/plain": [
       "HBox(children=(IntProgress(value=0, description='Measurement sweep', max=10000, style=ProgressStyle(descriptio…"
      ]
     },
     "metadata": {},
     "output_type": "display_data"
    },
    {
     "data": {
      "application/vnd.jupyter.widget-view+json": {
       "model_id": "",
       "version_major": 2,
       "version_minor": 0
      },
      "text/plain": [
       "HBox(children=(IntProgress(value=0, description='Col', max=20, style=ProgressStyle(description_width='initial'…"
      ]
     },
     "metadata": {},
     "output_type": "display_data"
    },
    {
     "data": {
      "application/vnd.jupyter.widget-view+json": {
       "model_id": "",
       "version_major": 2,
       "version_minor": 0
      },
      "text/plain": [
       "HBox(children=(IntProgress(value=0, description='Equilibrate sweep', style=ProgressStyle(description_width='in…"
      ]
     },
     "metadata": {},
     "output_type": "display_data"
    },
    {
     "data": {
      "application/vnd.jupyter.widget-view+json": {
       "model_id": "",
       "version_major": 2,
       "version_minor": 0
      },
      "text/plain": [
       "HBox(children=(IntProgress(value=0, description='Measurement sweep', max=10000, style=ProgressStyle(descriptio…"
      ]
     },
     "metadata": {},
     "output_type": "display_data"
    },
    {
     "data": {
      "application/vnd.jupyter.widget-view+json": {
       "model_id": "",
       "version_major": 2,
       "version_minor": 0
      },
      "text/plain": [
       "HBox(children=(IntProgress(value=0, description='Equilibrate sweep', style=ProgressStyle(description_width='in…"
      ]
     },
     "metadata": {},
     "output_type": "display_data"
    },
    {
     "data": {
      "application/vnd.jupyter.widget-view+json": {
       "model_id": "",
       "version_major": 2,
       "version_minor": 0
      },
      "text/plain": [
       "HBox(children=(IntProgress(value=0, description='Measurement sweep', max=10000, style=ProgressStyle(descriptio…"
      ]
     },
     "metadata": {},
     "output_type": "display_data"
    },
    {
     "data": {
      "application/vnd.jupyter.widget-view+json": {
       "model_id": "",
       "version_major": 2,
       "version_minor": 0
      },
      "text/plain": [
       "HBox(children=(IntProgress(value=0, description='Equilibrate sweep', style=ProgressStyle(description_width='in…"
      ]
     },
     "metadata": {},
     "output_type": "display_data"
    },
    {
     "data": {
      "application/vnd.jupyter.widget-view+json": {
       "model_id": "",
       "version_major": 2,
       "version_minor": 0
      },
      "text/plain": [
       "HBox(children=(IntProgress(value=0, description='Measurement sweep', max=10000, style=ProgressStyle(descriptio…"
      ]
     },
     "metadata": {},
     "output_type": "display_data"
    },
    {
     "data": {
      "application/vnd.jupyter.widget-view+json": {
       "model_id": "",
       "version_major": 2,
       "version_minor": 0
      },
      "text/plain": [
       "HBox(children=(IntProgress(value=0, description='Equilibrate sweep', style=ProgressStyle(description_width='in…"
      ]
     },
     "metadata": {},
     "output_type": "display_data"
    },
    {
     "data": {
      "application/vnd.jupyter.widget-view+json": {
       "model_id": "",
       "version_major": 2,
       "version_minor": 0
      },
      "text/plain": [
       "HBox(children=(IntProgress(value=0, description='Measurement sweep', max=10000, style=ProgressStyle(descriptio…"
      ]
     },
     "metadata": {},
     "output_type": "display_data"
    },
    {
     "data": {
      "application/vnd.jupyter.widget-view+json": {
       "model_id": "",
       "version_major": 2,
       "version_minor": 0
      },
      "text/plain": [
       "HBox(children=(IntProgress(value=0, description='Equilibrate sweep', style=ProgressStyle(description_width='in…"
      ]
     },
     "metadata": {},
     "output_type": "display_data"
    },
    {
     "data": {
      "application/vnd.jupyter.widget-view+json": {
       "model_id": "",
       "version_major": 2,
       "version_minor": 0
      },
      "text/plain": [
       "HBox(children=(IntProgress(value=0, description='Measurement sweep', max=10000, style=ProgressStyle(descriptio…"
      ]
     },
     "metadata": {},
     "output_type": "display_data"
    },
    {
     "data": {
      "application/vnd.jupyter.widget-view+json": {
       "model_id": "",
       "version_major": 2,
       "version_minor": 0
      },
      "text/plain": [
       "HBox(children=(IntProgress(value=0, description='Equilibrate sweep', style=ProgressStyle(description_width='in…"
      ]
     },
     "metadata": {},
     "output_type": "display_data"
    },
    {
     "data": {
      "application/vnd.jupyter.widget-view+json": {
       "model_id": "",
       "version_major": 2,
       "version_minor": 0
      },
      "text/plain": [
       "HBox(children=(IntProgress(value=0, description='Measurement sweep', max=10000, style=ProgressStyle(descriptio…"
      ]
     },
     "metadata": {},
     "output_type": "display_data"
    },
    {
     "data": {
      "application/vnd.jupyter.widget-view+json": {
       "model_id": "",
       "version_major": 2,
       "version_minor": 0
      },
      "text/plain": [
       "HBox(children=(IntProgress(value=0, description='Equilibrate sweep', style=ProgressStyle(description_width='in…"
      ]
     },
     "metadata": {},
     "output_type": "display_data"
    },
    {
     "data": {
      "application/vnd.jupyter.widget-view+json": {
       "model_id": "",
       "version_major": 2,
       "version_minor": 0
      },
      "text/plain": [
       "HBox(children=(IntProgress(value=0, description='Measurement sweep', max=10000, style=ProgressStyle(descriptio…"
      ]
     },
     "metadata": {},
     "output_type": "display_data"
    },
    {
     "data": {
      "application/vnd.jupyter.widget-view+json": {
       "model_id": "",
       "version_major": 2,
       "version_minor": 0
      },
      "text/plain": [
       "HBox(children=(IntProgress(value=0, description='Equilibrate sweep', style=ProgressStyle(description_width='in…"
      ]
     },
     "metadata": {},
     "output_type": "display_data"
    },
    {
     "data": {
      "application/vnd.jupyter.widget-view+json": {
       "model_id": "",
       "version_major": 2,
       "version_minor": 0
      },
      "text/plain": [
       "HBox(children=(IntProgress(value=0, description='Measurement sweep', max=10000, style=ProgressStyle(descriptio…"
      ]
     },
     "metadata": {},
     "output_type": "display_data"
    },
    {
     "data": {
      "application/vnd.jupyter.widget-view+json": {
       "model_id": "",
       "version_major": 2,
       "version_minor": 0
      },
      "text/plain": [
       "HBox(children=(IntProgress(value=0, description='Equilibrate sweep', style=ProgressStyle(description_width='in…"
      ]
     },
     "metadata": {},
     "output_type": "display_data"
    },
    {
     "data": {
      "application/vnd.jupyter.widget-view+json": {
       "model_id": "",
       "version_major": 2,
       "version_minor": 0
      },
      "text/plain": [
       "HBox(children=(IntProgress(value=0, description='Measurement sweep', max=10000, style=ProgressStyle(descriptio…"
      ]
     },
     "metadata": {},
     "output_type": "display_data"
    },
    {
     "data": {
      "application/vnd.jupyter.widget-view+json": {
       "model_id": "",
       "version_major": 2,
       "version_minor": 0
      },
      "text/plain": [
       "HBox(children=(IntProgress(value=0, description='Equilibrate sweep', style=ProgressStyle(description_width='in…"
      ]
     },
     "metadata": {},
     "output_type": "display_data"
    },
    {
     "data": {
      "application/vnd.jupyter.widget-view+json": {
       "model_id": "",
       "version_major": 2,
       "version_minor": 0
      },
      "text/plain": [
       "HBox(children=(IntProgress(value=0, description='Measurement sweep', max=10000, style=ProgressStyle(descriptio…"
      ]
     },
     "metadata": {},
     "output_type": "display_data"
    },
    {
     "data": {
      "application/vnd.jupyter.widget-view+json": {
       "model_id": "",
       "version_major": 2,
       "version_minor": 0
      },
      "text/plain": [
       "HBox(children=(IntProgress(value=0, description='Equilibrate sweep', style=ProgressStyle(description_width='in…"
      ]
     },
     "metadata": {},
     "output_type": "display_data"
    },
    {
     "data": {
      "application/vnd.jupyter.widget-view+json": {
       "model_id": "",
       "version_major": 2,
       "version_minor": 0
      },
      "text/plain": [
       "HBox(children=(IntProgress(value=0, description='Measurement sweep', max=10000, style=ProgressStyle(descriptio…"
      ]
     },
     "metadata": {},
     "output_type": "display_data"
    },
    {
     "data": {
      "application/vnd.jupyter.widget-view+json": {
       "model_id": "",
       "version_major": 2,
       "version_minor": 0
      },
      "text/plain": [
       "HBox(children=(IntProgress(value=0, description='Equilibrate sweep', style=ProgressStyle(description_width='in…"
      ]
     },
     "metadata": {},
     "output_type": "display_data"
    },
    {
     "data": {
      "application/vnd.jupyter.widget-view+json": {
       "model_id": "",
       "version_major": 2,
       "version_minor": 0
      },
      "text/plain": [
       "HBox(children=(IntProgress(value=0, description='Measurement sweep', max=10000, style=ProgressStyle(descriptio…"
      ]
     },
     "metadata": {},
     "output_type": "display_data"
    },
    {
     "data": {
      "application/vnd.jupyter.widget-view+json": {
       "model_id": "",
       "version_major": 2,
       "version_minor": 0
      },
      "text/plain": [
       "HBox(children=(IntProgress(value=0, description='Equilibrate sweep', style=ProgressStyle(description_width='in…"
      ]
     },
     "metadata": {},
     "output_type": "display_data"
    },
    {
     "data": {
      "application/vnd.jupyter.widget-view+json": {
       "model_id": "",
       "version_major": 2,
       "version_minor": 0
      },
      "text/plain": [
       "HBox(children=(IntProgress(value=0, description='Measurement sweep', max=10000, style=ProgressStyle(descriptio…"
      ]
     },
     "metadata": {},
     "output_type": "display_data"
    },
    {
     "data": {
      "application/vnd.jupyter.widget-view+json": {
       "model_id": "",
       "version_major": 2,
       "version_minor": 0
      },
      "text/plain": [
       "HBox(children=(IntProgress(value=0, description='Equilibrate sweep', style=ProgressStyle(description_width='in…"
      ]
     },
     "metadata": {},
     "output_type": "display_data"
    },
    {
     "data": {
      "application/vnd.jupyter.widget-view+json": {
       "model_id": "",
       "version_major": 2,
       "version_minor": 0
      },
      "text/plain": [
       "HBox(children=(IntProgress(value=0, description='Measurement sweep', max=10000, style=ProgressStyle(descriptio…"
      ]
     },
     "metadata": {},
     "output_type": "display_data"
    },
    {
     "data": {
      "application/vnd.jupyter.widget-view+json": {
       "model_id": "",
       "version_major": 2,
       "version_minor": 0
      },
      "text/plain": [
       "HBox(children=(IntProgress(value=0, description='Equilibrate sweep', style=ProgressStyle(description_width='in…"
      ]
     },
     "metadata": {},
     "output_type": "display_data"
    },
    {
     "data": {
      "application/vnd.jupyter.widget-view+json": {
       "model_id": "",
       "version_major": 2,
       "version_minor": 0
      },
      "text/plain": [
       "HBox(children=(IntProgress(value=0, description='Measurement sweep', max=10000, style=ProgressStyle(descriptio…"
      ]
     },
     "metadata": {},
     "output_type": "display_data"
    },
    {
     "data": {
      "application/vnd.jupyter.widget-view+json": {
       "model_id": "",
       "version_major": 2,
       "version_minor": 0
      },
      "text/plain": [
       "HBox(children=(IntProgress(value=0, description='Equilibrate sweep', style=ProgressStyle(description_width='in…"
      ]
     },
     "metadata": {},
     "output_type": "display_data"
    },
    {
     "data": {
      "application/vnd.jupyter.widget-view+json": {
       "model_id": "",
       "version_major": 2,
       "version_minor": 0
      },
      "text/plain": [
       "HBox(children=(IntProgress(value=0, description='Measurement sweep', max=10000, style=ProgressStyle(descriptio…"
      ]
     },
     "metadata": {},
     "output_type": "display_data"
    },
    {
     "data": {
      "application/vnd.jupyter.widget-view+json": {
       "model_id": "",
       "version_major": 2,
       "version_minor": 0
      },
      "text/plain": [
       "HBox(children=(IntProgress(value=0, description='Equilibrate sweep', style=ProgressStyle(description_width='in…"
      ]
     },
     "metadata": {},
     "output_type": "display_data"
    },
    {
     "data": {
      "application/vnd.jupyter.widget-view+json": {
       "model_id": "",
       "version_major": 2,
       "version_minor": 0
      },
      "text/plain": [
       "HBox(children=(IntProgress(value=0, description='Measurement sweep', max=10000, style=ProgressStyle(descriptio…"
      ]
     },
     "metadata": {},
     "output_type": "display_data"
    },
    {
     "data": {
      "application/vnd.jupyter.widget-view+json": {
       "model_id": "",
       "version_major": 2,
       "version_minor": 0
      },
      "text/plain": [
       "HBox(children=(IntProgress(value=0, description='Equilibrate sweep', style=ProgressStyle(description_width='in…"
      ]
     },
     "metadata": {},
     "output_type": "display_data"
    },
    {
     "data": {
      "application/vnd.jupyter.widget-view+json": {
       "model_id": "",
       "version_major": 2,
       "version_minor": 0
      },
      "text/plain": [
       "HBox(children=(IntProgress(value=0, description='Measurement sweep', max=10000, style=ProgressStyle(descriptio…"
      ]
     },
     "metadata": {},
     "output_type": "display_data"
    },
    {
     "data": {
      "application/vnd.jupyter.widget-view+json": {
       "model_id": "",
       "version_major": 2,
       "version_minor": 0
      },
      "text/plain": [
       "HBox(children=(IntProgress(value=0, description='Equilibrate sweep', style=ProgressStyle(description_width='in…"
      ]
     },
     "metadata": {},
     "output_type": "display_data"
    },
    {
     "data": {
      "application/vnd.jupyter.widget-view+json": {
       "model_id": "",
       "version_major": 2,
       "version_minor": 0
      },
      "text/plain": [
       "HBox(children=(IntProgress(value=0, description='Measurement sweep', max=10000, style=ProgressStyle(descriptio…"
      ]
     },
     "metadata": {},
     "output_type": "display_data"
    },
    {
     "data": {
      "application/vnd.jupyter.widget-view+json": {
       "model_id": "",
       "version_major": 2,
       "version_minor": 0
      },
      "text/plain": [
       "HBox(children=(IntProgress(value=0, description='Equilibrate sweep', style=ProgressStyle(description_width='in…"
      ]
     },
     "metadata": {},
     "output_type": "display_data"
    },
    {
     "data": {
      "application/vnd.jupyter.widget-view+json": {
       "model_id": "",
       "version_major": 2,
       "version_minor": 0
      },
      "text/plain": [
       "HBox(children=(IntProgress(value=0, description='Measurement sweep', max=10000, style=ProgressStyle(descriptio…"
      ]
     },
     "metadata": {},
     "output_type": "display_data"
    },
    {
     "data": {
      "application/vnd.jupyter.widget-view+json": {
       "model_id": "",
       "version_major": 2,
       "version_minor": 0
      },
      "text/plain": [
       "HBox(children=(IntProgress(value=0, description='Col', max=20, style=ProgressStyle(description_width='initial'…"
      ]
     },
     "metadata": {},
     "output_type": "display_data"
    },
    {
     "data": {
      "application/vnd.jupyter.widget-view+json": {
       "model_id": "",
       "version_major": 2,
       "version_minor": 0
      },
      "text/plain": [
       "HBox(children=(IntProgress(value=0, description='Equilibrate sweep', style=ProgressStyle(description_width='in…"
      ]
     },
     "metadata": {},
     "output_type": "display_data"
    },
    {
     "data": {
      "application/vnd.jupyter.widget-view+json": {
       "model_id": "",
       "version_major": 2,
       "version_minor": 0
      },
      "text/plain": [
       "HBox(children=(IntProgress(value=0, description='Measurement sweep', max=10000, style=ProgressStyle(descriptio…"
      ]
     },
     "metadata": {},
     "output_type": "display_data"
    },
    {
     "data": {
      "application/vnd.jupyter.widget-view+json": {
       "model_id": "",
       "version_major": 2,
       "version_minor": 0
      },
      "text/plain": [
       "HBox(children=(IntProgress(value=0, description='Equilibrate sweep', style=ProgressStyle(description_width='in…"
      ]
     },
     "metadata": {},
     "output_type": "display_data"
    },
    {
     "data": {
      "application/vnd.jupyter.widget-view+json": {
       "model_id": "",
       "version_major": 2,
       "version_minor": 0
      },
      "text/plain": [
       "HBox(children=(IntProgress(value=0, description='Measurement sweep', max=10000, style=ProgressStyle(descriptio…"
      ]
     },
     "metadata": {},
     "output_type": "display_data"
    },
    {
     "data": {
      "application/vnd.jupyter.widget-view+json": {
       "model_id": "",
       "version_major": 2,
       "version_minor": 0
      },
      "text/plain": [
       "HBox(children=(IntProgress(value=0, description='Equilibrate sweep', style=ProgressStyle(description_width='in…"
      ]
     },
     "metadata": {},
     "output_type": "display_data"
    },
    {
     "data": {
      "application/vnd.jupyter.widget-view+json": {
       "model_id": "",
       "version_major": 2,
       "version_minor": 0
      },
      "text/plain": [
       "HBox(children=(IntProgress(value=0, description='Measurement sweep', max=10000, style=ProgressStyle(descriptio…"
      ]
     },
     "metadata": {},
     "output_type": "display_data"
    },
    {
     "data": {
      "application/vnd.jupyter.widget-view+json": {
       "model_id": "",
       "version_major": 2,
       "version_minor": 0
      },
      "text/plain": [
       "HBox(children=(IntProgress(value=0, description='Equilibrate sweep', style=ProgressStyle(description_width='in…"
      ]
     },
     "metadata": {},
     "output_type": "display_data"
    },
    {
     "data": {
      "application/vnd.jupyter.widget-view+json": {
       "model_id": "",
       "version_major": 2,
       "version_minor": 0
      },
      "text/plain": [
       "HBox(children=(IntProgress(value=0, description='Measurement sweep', max=10000, style=ProgressStyle(descriptio…"
      ]
     },
     "metadata": {},
     "output_type": "display_data"
    },
    {
     "data": {
      "application/vnd.jupyter.widget-view+json": {
       "model_id": "",
       "version_major": 2,
       "version_minor": 0
      },
      "text/plain": [
       "HBox(children=(IntProgress(value=0, description='Equilibrate sweep', style=ProgressStyle(description_width='in…"
      ]
     },
     "metadata": {},
     "output_type": "display_data"
    },
    {
     "data": {
      "application/vnd.jupyter.widget-view+json": {
       "model_id": "",
       "version_major": 2,
       "version_minor": 0
      },
      "text/plain": [
       "HBox(children=(IntProgress(value=0, description='Measurement sweep', max=10000, style=ProgressStyle(descriptio…"
      ]
     },
     "metadata": {},
     "output_type": "display_data"
    },
    {
     "data": {
      "application/vnd.jupyter.widget-view+json": {
       "model_id": "",
       "version_major": 2,
       "version_minor": 0
      },
      "text/plain": [
       "HBox(children=(IntProgress(value=0, description='Equilibrate sweep', style=ProgressStyle(description_width='in…"
      ]
     },
     "metadata": {},
     "output_type": "display_data"
    },
    {
     "data": {
      "application/vnd.jupyter.widget-view+json": {
       "model_id": "",
       "version_major": 2,
       "version_minor": 0
      },
      "text/plain": [
       "HBox(children=(IntProgress(value=0, description='Measurement sweep', max=10000, style=ProgressStyle(descriptio…"
      ]
     },
     "metadata": {},
     "output_type": "display_data"
    },
    {
     "data": {
      "application/vnd.jupyter.widget-view+json": {
       "model_id": "",
       "version_major": 2,
       "version_minor": 0
      },
      "text/plain": [
       "HBox(children=(IntProgress(value=0, description='Equilibrate sweep', style=ProgressStyle(description_width='in…"
      ]
     },
     "metadata": {},
     "output_type": "display_data"
    },
    {
     "data": {
      "application/vnd.jupyter.widget-view+json": {
       "model_id": "",
       "version_major": 2,
       "version_minor": 0
      },
      "text/plain": [
       "HBox(children=(IntProgress(value=0, description='Measurement sweep', max=10000, style=ProgressStyle(descriptio…"
      ]
     },
     "metadata": {},
     "output_type": "display_data"
    },
    {
     "data": {
      "application/vnd.jupyter.widget-view+json": {
       "model_id": "",
       "version_major": 2,
       "version_minor": 0
      },
      "text/plain": [
       "HBox(children=(IntProgress(value=0, description='Equilibrate sweep', style=ProgressStyle(description_width='in…"
      ]
     },
     "metadata": {},
     "output_type": "display_data"
    },
    {
     "data": {
      "application/vnd.jupyter.widget-view+json": {
       "model_id": "",
       "version_major": 2,
       "version_minor": 0
      },
      "text/plain": [
       "HBox(children=(IntProgress(value=0, description='Measurement sweep', max=10000, style=ProgressStyle(descriptio…"
      ]
     },
     "metadata": {},
     "output_type": "display_data"
    },
    {
     "data": {
      "application/vnd.jupyter.widget-view+json": {
       "model_id": "",
       "version_major": 2,
       "version_minor": 0
      },
      "text/plain": [
       "HBox(children=(IntProgress(value=0, description='Equilibrate sweep', style=ProgressStyle(description_width='in…"
      ]
     },
     "metadata": {},
     "output_type": "display_data"
    },
    {
     "data": {
      "application/vnd.jupyter.widget-view+json": {
       "model_id": "",
       "version_major": 2,
       "version_minor": 0
      },
      "text/plain": [
       "HBox(children=(IntProgress(value=0, description='Measurement sweep', max=10000, style=ProgressStyle(descriptio…"
      ]
     },
     "metadata": {},
     "output_type": "display_data"
    },
    {
     "data": {
      "application/vnd.jupyter.widget-view+json": {
       "model_id": "",
       "version_major": 2,
       "version_minor": 0
      },
      "text/plain": [
       "HBox(children=(IntProgress(value=0, description='Equilibrate sweep', style=ProgressStyle(description_width='in…"
      ]
     },
     "metadata": {},
     "output_type": "display_data"
    },
    {
     "data": {
      "application/vnd.jupyter.widget-view+json": {
       "model_id": "",
       "version_major": 2,
       "version_minor": 0
      },
      "text/plain": [
       "HBox(children=(IntProgress(value=0, description='Measurement sweep', max=10000, style=ProgressStyle(descriptio…"
      ]
     },
     "metadata": {},
     "output_type": "display_data"
    },
    {
     "data": {
      "application/vnd.jupyter.widget-view+json": {
       "model_id": "",
       "version_major": 2,
       "version_minor": 0
      },
      "text/plain": [
       "HBox(children=(IntProgress(value=0, description='Equilibrate sweep', style=ProgressStyle(description_width='in…"
      ]
     },
     "metadata": {},
     "output_type": "display_data"
    },
    {
     "data": {
      "application/vnd.jupyter.widget-view+json": {
       "model_id": "",
       "version_major": 2,
       "version_minor": 0
      },
      "text/plain": [
       "HBox(children=(IntProgress(value=0, description='Measurement sweep', max=10000, style=ProgressStyle(descriptio…"
      ]
     },
     "metadata": {},
     "output_type": "display_data"
    },
    {
     "data": {
      "application/vnd.jupyter.widget-view+json": {
       "model_id": "",
       "version_major": 2,
       "version_minor": 0
      },
      "text/plain": [
       "HBox(children=(IntProgress(value=0, description='Equilibrate sweep', style=ProgressStyle(description_width='in…"
      ]
     },
     "metadata": {},
     "output_type": "display_data"
    },
    {
     "data": {
      "application/vnd.jupyter.widget-view+json": {
       "model_id": "",
       "version_major": 2,
       "version_minor": 0
      },
      "text/plain": [
       "HBox(children=(IntProgress(value=0, description='Measurement sweep', max=10000, style=ProgressStyle(descriptio…"
      ]
     },
     "metadata": {},
     "output_type": "display_data"
    },
    {
     "data": {
      "application/vnd.jupyter.widget-view+json": {
       "model_id": "",
       "version_major": 2,
       "version_minor": 0
      },
      "text/plain": [
       "HBox(children=(IntProgress(value=0, description='Equilibrate sweep', style=ProgressStyle(description_width='in…"
      ]
     },
     "metadata": {},
     "output_type": "display_data"
    },
    {
     "data": {
      "application/vnd.jupyter.widget-view+json": {
       "model_id": "",
       "version_major": 2,
       "version_minor": 0
      },
      "text/plain": [
       "HBox(children=(IntProgress(value=0, description='Measurement sweep', max=10000, style=ProgressStyle(descriptio…"
      ]
     },
     "metadata": {},
     "output_type": "display_data"
    },
    {
     "data": {
      "application/vnd.jupyter.widget-view+json": {
       "model_id": "",
       "version_major": 2,
       "version_minor": 0
      },
      "text/plain": [
       "HBox(children=(IntProgress(value=0, description='Equilibrate sweep', style=ProgressStyle(description_width='in…"
      ]
     },
     "metadata": {},
     "output_type": "display_data"
    },
    {
     "data": {
      "application/vnd.jupyter.widget-view+json": {
       "model_id": "",
       "version_major": 2,
       "version_minor": 0
      },
      "text/plain": [
       "HBox(children=(IntProgress(value=0, description='Measurement sweep', max=10000, style=ProgressStyle(descriptio…"
      ]
     },
     "metadata": {},
     "output_type": "display_data"
    },
    {
     "data": {
      "application/vnd.jupyter.widget-view+json": {
       "model_id": "",
       "version_major": 2,
       "version_minor": 0
      },
      "text/plain": [
       "HBox(children=(IntProgress(value=0, description='Equilibrate sweep', style=ProgressStyle(description_width='in…"
      ]
     },
     "metadata": {},
     "output_type": "display_data"
    },
    {
     "data": {
      "application/vnd.jupyter.widget-view+json": {
       "model_id": "",
       "version_major": 2,
       "version_minor": 0
      },
      "text/plain": [
       "HBox(children=(IntProgress(value=0, description='Measurement sweep', max=10000, style=ProgressStyle(descriptio…"
      ]
     },
     "metadata": {},
     "output_type": "display_data"
    },
    {
     "data": {
      "application/vnd.jupyter.widget-view+json": {
       "model_id": "",
       "version_major": 2,
       "version_minor": 0
      },
      "text/plain": [
       "HBox(children=(IntProgress(value=0, description='Equilibrate sweep', style=ProgressStyle(description_width='in…"
      ]
     },
     "metadata": {},
     "output_type": "display_data"
    },
    {
     "data": {
      "application/vnd.jupyter.widget-view+json": {
       "model_id": "",
       "version_major": 2,
       "version_minor": 0
      },
      "text/plain": [
       "HBox(children=(IntProgress(value=0, description='Measurement sweep', max=10000, style=ProgressStyle(descriptio…"
      ]
     },
     "metadata": {},
     "output_type": "display_data"
    },
    {
     "data": {
      "application/vnd.jupyter.widget-view+json": {
       "model_id": "",
       "version_major": 2,
       "version_minor": 0
      },
      "text/plain": [
       "HBox(children=(IntProgress(value=0, description='Equilibrate sweep', style=ProgressStyle(description_width='in…"
      ]
     },
     "metadata": {},
     "output_type": "display_data"
    },
    {
     "data": {
      "application/vnd.jupyter.widget-view+json": {
       "model_id": "",
       "version_major": 2,
       "version_minor": 0
      },
      "text/plain": [
       "HBox(children=(IntProgress(value=0, description='Measurement sweep', max=10000, style=ProgressStyle(descriptio…"
      ]
     },
     "metadata": {},
     "output_type": "display_data"
    },
    {
     "data": {
      "application/vnd.jupyter.widget-view+json": {
       "model_id": "",
       "version_major": 2,
       "version_minor": 0
      },
      "text/plain": [
       "HBox(children=(IntProgress(value=0, description='Equilibrate sweep', style=ProgressStyle(description_width='in…"
      ]
     },
     "metadata": {},
     "output_type": "display_data"
    },
    {
     "data": {
      "application/vnd.jupyter.widget-view+json": {
       "model_id": "",
       "version_major": 2,
       "version_minor": 0
      },
      "text/plain": [
       "HBox(children=(IntProgress(value=0, description='Measurement sweep', max=10000, style=ProgressStyle(descriptio…"
      ]
     },
     "metadata": {},
     "output_type": "display_data"
    },
    {
     "data": {
      "application/vnd.jupyter.widget-view+json": {
       "model_id": "",
       "version_major": 2,
       "version_minor": 0
      },
      "text/plain": [
       "HBox(children=(IntProgress(value=0, description='Equilibrate sweep', style=ProgressStyle(description_width='in…"
      ]
     },
     "metadata": {},
     "output_type": "display_data"
    },
    {
     "data": {
      "application/vnd.jupyter.widget-view+json": {
       "model_id": "",
       "version_major": 2,
       "version_minor": 0
      },
      "text/plain": [
       "HBox(children=(IntProgress(value=0, description='Measurement sweep', max=10000, style=ProgressStyle(descriptio…"
      ]
     },
     "metadata": {},
     "output_type": "display_data"
    },
    {
     "data": {
      "application/vnd.jupyter.widget-view+json": {
       "model_id": "",
       "version_major": 2,
       "version_minor": 0
      },
      "text/plain": [
       "HBox(children=(IntProgress(value=0, description='Equilibrate sweep', style=ProgressStyle(description_width='in…"
      ]
     },
     "metadata": {},
     "output_type": "display_data"
    },
    {
     "data": {
      "application/vnd.jupyter.widget-view+json": {
       "model_id": "",
       "version_major": 2,
       "version_minor": 0
      },
      "text/plain": [
       "HBox(children=(IntProgress(value=0, description='Measurement sweep', max=10000, style=ProgressStyle(descriptio…"
      ]
     },
     "metadata": {},
     "output_type": "display_data"
    },
    {
     "data": {
      "application/vnd.jupyter.widget-view+json": {
       "model_id": "",
       "version_major": 2,
       "version_minor": 0
      },
      "text/plain": [
       "HBox(children=(IntProgress(value=0, description='Col', max=20, style=ProgressStyle(description_width='initial'…"
      ]
     },
     "metadata": {},
     "output_type": "display_data"
    },
    {
     "data": {
      "application/vnd.jupyter.widget-view+json": {
       "model_id": "",
       "version_major": 2,
       "version_minor": 0
      },
      "text/plain": [
       "HBox(children=(IntProgress(value=0, description='Equilibrate sweep', style=ProgressStyle(description_width='in…"
      ]
     },
     "metadata": {},
     "output_type": "display_data"
    },
    {
     "data": {
      "application/vnd.jupyter.widget-view+json": {
       "model_id": "",
       "version_major": 2,
       "version_minor": 0
      },
      "text/plain": [
       "HBox(children=(IntProgress(value=0, description='Measurement sweep', max=10000, style=ProgressStyle(descriptio…"
      ]
     },
     "metadata": {},
     "output_type": "display_data"
    },
    {
     "data": {
      "application/vnd.jupyter.widget-view+json": {
       "model_id": "",
       "version_major": 2,
       "version_minor": 0
      },
      "text/plain": [
       "HBox(children=(IntProgress(value=0, description='Equilibrate sweep', style=ProgressStyle(description_width='in…"
      ]
     },
     "metadata": {},
     "output_type": "display_data"
    },
    {
     "data": {
      "application/vnd.jupyter.widget-view+json": {
       "model_id": "",
       "version_major": 2,
       "version_minor": 0
      },
      "text/plain": [
       "HBox(children=(IntProgress(value=0, description='Measurement sweep', max=10000, style=ProgressStyle(descriptio…"
      ]
     },
     "metadata": {},
     "output_type": "display_data"
    },
    {
     "data": {
      "application/vnd.jupyter.widget-view+json": {
       "model_id": "",
       "version_major": 2,
       "version_minor": 0
      },
      "text/plain": [
       "HBox(children=(IntProgress(value=0, description='Equilibrate sweep', style=ProgressStyle(description_width='in…"
      ]
     },
     "metadata": {},
     "output_type": "display_data"
    },
    {
     "data": {
      "application/vnd.jupyter.widget-view+json": {
       "model_id": "",
       "version_major": 2,
       "version_minor": 0
      },
      "text/plain": [
       "HBox(children=(IntProgress(value=0, description='Measurement sweep', max=10000, style=ProgressStyle(descriptio…"
      ]
     },
     "metadata": {},
     "output_type": "display_data"
    },
    {
     "data": {
      "application/vnd.jupyter.widget-view+json": {
       "model_id": "",
       "version_major": 2,
       "version_minor": 0
      },
      "text/plain": [
       "HBox(children=(IntProgress(value=0, description='Equilibrate sweep', style=ProgressStyle(description_width='in…"
      ]
     },
     "metadata": {},
     "output_type": "display_data"
    },
    {
     "data": {
      "application/vnd.jupyter.widget-view+json": {
       "model_id": "",
       "version_major": 2,
       "version_minor": 0
      },
      "text/plain": [
       "HBox(children=(IntProgress(value=0, description='Measurement sweep', max=10000, style=ProgressStyle(descriptio…"
      ]
     },
     "metadata": {},
     "output_type": "display_data"
    },
    {
     "data": {
      "application/vnd.jupyter.widget-view+json": {
       "model_id": "",
       "version_major": 2,
       "version_minor": 0
      },
      "text/plain": [
       "HBox(children=(IntProgress(value=0, description='Equilibrate sweep', style=ProgressStyle(description_width='in…"
      ]
     },
     "metadata": {},
     "output_type": "display_data"
    },
    {
     "data": {
      "application/vnd.jupyter.widget-view+json": {
       "model_id": "",
       "version_major": 2,
       "version_minor": 0
      },
      "text/plain": [
       "HBox(children=(IntProgress(value=0, description='Measurement sweep', max=10000, style=ProgressStyle(descriptio…"
      ]
     },
     "metadata": {},
     "output_type": "display_data"
    },
    {
     "data": {
      "application/vnd.jupyter.widget-view+json": {
       "model_id": "",
       "version_major": 2,
       "version_minor": 0
      },
      "text/plain": [
       "HBox(children=(IntProgress(value=0, description='Equilibrate sweep', style=ProgressStyle(description_width='in…"
      ]
     },
     "metadata": {},
     "output_type": "display_data"
    },
    {
     "data": {
      "application/vnd.jupyter.widget-view+json": {
       "model_id": "",
       "version_major": 2,
       "version_minor": 0
      },
      "text/plain": [
       "HBox(children=(IntProgress(value=0, description='Measurement sweep', max=10000, style=ProgressStyle(descriptio…"
      ]
     },
     "metadata": {},
     "output_type": "display_data"
    },
    {
     "data": {
      "application/vnd.jupyter.widget-view+json": {
       "model_id": "",
       "version_major": 2,
       "version_minor": 0
      },
      "text/plain": [
       "HBox(children=(IntProgress(value=0, description='Equilibrate sweep', style=ProgressStyle(description_width='in…"
      ]
     },
     "metadata": {},
     "output_type": "display_data"
    },
    {
     "data": {
      "application/vnd.jupyter.widget-view+json": {
       "model_id": "",
       "version_major": 2,
       "version_minor": 0
      },
      "text/plain": [
       "HBox(children=(IntProgress(value=0, description='Measurement sweep', max=10000, style=ProgressStyle(descriptio…"
      ]
     },
     "metadata": {},
     "output_type": "display_data"
    },
    {
     "data": {
      "application/vnd.jupyter.widget-view+json": {
       "model_id": "",
       "version_major": 2,
       "version_minor": 0
      },
      "text/plain": [
       "HBox(children=(IntProgress(value=0, description='Equilibrate sweep', style=ProgressStyle(description_width='in…"
      ]
     },
     "metadata": {},
     "output_type": "display_data"
    },
    {
     "data": {
      "application/vnd.jupyter.widget-view+json": {
       "model_id": "",
       "version_major": 2,
       "version_minor": 0
      },
      "text/plain": [
       "HBox(children=(IntProgress(value=0, description='Measurement sweep', max=10000, style=ProgressStyle(descriptio…"
      ]
     },
     "metadata": {},
     "output_type": "display_data"
    },
    {
     "data": {
      "application/vnd.jupyter.widget-view+json": {
       "model_id": "",
       "version_major": 2,
       "version_minor": 0
      },
      "text/plain": [
       "HBox(children=(IntProgress(value=0, description='Equilibrate sweep', style=ProgressStyle(description_width='in…"
      ]
     },
     "metadata": {},
     "output_type": "display_data"
    },
    {
     "data": {
      "application/vnd.jupyter.widget-view+json": {
       "model_id": "",
       "version_major": 2,
       "version_minor": 0
      },
      "text/plain": [
       "HBox(children=(IntProgress(value=0, description='Measurement sweep', max=10000, style=ProgressStyle(descriptio…"
      ]
     },
     "metadata": {},
     "output_type": "display_data"
    },
    {
     "data": {
      "application/vnd.jupyter.widget-view+json": {
       "model_id": "",
       "version_major": 2,
       "version_minor": 0
      },
      "text/plain": [
       "HBox(children=(IntProgress(value=0, description='Equilibrate sweep', style=ProgressStyle(description_width='in…"
      ]
     },
     "metadata": {},
     "output_type": "display_data"
    },
    {
     "data": {
      "application/vnd.jupyter.widget-view+json": {
       "model_id": "",
       "version_major": 2,
       "version_minor": 0
      },
      "text/plain": [
       "HBox(children=(IntProgress(value=0, description='Measurement sweep', max=10000, style=ProgressStyle(descriptio…"
      ]
     },
     "metadata": {},
     "output_type": "display_data"
    },
    {
     "data": {
      "application/vnd.jupyter.widget-view+json": {
       "model_id": "",
       "version_major": 2,
       "version_minor": 0
      },
      "text/plain": [
       "HBox(children=(IntProgress(value=0, description='Equilibrate sweep', style=ProgressStyle(description_width='in…"
      ]
     },
     "metadata": {},
     "output_type": "display_data"
    },
    {
     "data": {
      "application/vnd.jupyter.widget-view+json": {
       "model_id": "",
       "version_major": 2,
       "version_minor": 0
      },
      "text/plain": [
       "HBox(children=(IntProgress(value=0, description='Measurement sweep', max=10000, style=ProgressStyle(descriptio…"
      ]
     },
     "metadata": {},
     "output_type": "display_data"
    },
    {
     "data": {
      "application/vnd.jupyter.widget-view+json": {
       "model_id": "",
       "version_major": 2,
       "version_minor": 0
      },
      "text/plain": [
       "HBox(children=(IntProgress(value=0, description='Equilibrate sweep', style=ProgressStyle(description_width='in…"
      ]
     },
     "metadata": {},
     "output_type": "display_data"
    },
    {
     "data": {
      "application/vnd.jupyter.widget-view+json": {
       "model_id": "",
       "version_major": 2,
       "version_minor": 0
      },
      "text/plain": [
       "HBox(children=(IntProgress(value=0, description='Measurement sweep', max=10000, style=ProgressStyle(descriptio…"
      ]
     },
     "metadata": {},
     "output_type": "display_data"
    },
    {
     "data": {
      "application/vnd.jupyter.widget-view+json": {
       "model_id": "",
       "version_major": 2,
       "version_minor": 0
      },
      "text/plain": [
       "HBox(children=(IntProgress(value=0, description='Equilibrate sweep', style=ProgressStyle(description_width='in…"
      ]
     },
     "metadata": {},
     "output_type": "display_data"
    },
    {
     "data": {
      "application/vnd.jupyter.widget-view+json": {
       "model_id": "",
       "version_major": 2,
       "version_minor": 0
      },
      "text/plain": [
       "HBox(children=(IntProgress(value=0, description='Measurement sweep', max=10000, style=ProgressStyle(descriptio…"
      ]
     },
     "metadata": {},
     "output_type": "display_data"
    },
    {
     "data": {
      "application/vnd.jupyter.widget-view+json": {
       "model_id": "",
       "version_major": 2,
       "version_minor": 0
      },
      "text/plain": [
       "HBox(children=(IntProgress(value=0, description='Equilibrate sweep', style=ProgressStyle(description_width='in…"
      ]
     },
     "metadata": {},
     "output_type": "display_data"
    },
    {
     "data": {
      "application/vnd.jupyter.widget-view+json": {
       "model_id": "",
       "version_major": 2,
       "version_minor": 0
      },
      "text/plain": [
       "HBox(children=(IntProgress(value=0, description='Measurement sweep', max=10000, style=ProgressStyle(descriptio…"
      ]
     },
     "metadata": {},
     "output_type": "display_data"
    },
    {
     "data": {
      "application/vnd.jupyter.widget-view+json": {
       "model_id": "",
       "version_major": 2,
       "version_minor": 0
      },
      "text/plain": [
       "HBox(children=(IntProgress(value=0, description='Equilibrate sweep', style=ProgressStyle(description_width='in…"
      ]
     },
     "metadata": {},
     "output_type": "display_data"
    },
    {
     "data": {
      "application/vnd.jupyter.widget-view+json": {
       "model_id": "",
       "version_major": 2,
       "version_minor": 0
      },
      "text/plain": [
       "HBox(children=(IntProgress(value=0, description='Measurement sweep', max=10000, style=ProgressStyle(descriptio…"
      ]
     },
     "metadata": {},
     "output_type": "display_data"
    },
    {
     "data": {
      "application/vnd.jupyter.widget-view+json": {
       "model_id": "",
       "version_major": 2,
       "version_minor": 0
      },
      "text/plain": [
       "HBox(children=(IntProgress(value=0, description='Equilibrate sweep', style=ProgressStyle(description_width='in…"
      ]
     },
     "metadata": {},
     "output_type": "display_data"
    },
    {
     "data": {
      "application/vnd.jupyter.widget-view+json": {
       "model_id": "",
       "version_major": 2,
       "version_minor": 0
      },
      "text/plain": [
       "HBox(children=(IntProgress(value=0, description='Measurement sweep', max=10000, style=ProgressStyle(descriptio…"
      ]
     },
     "metadata": {},
     "output_type": "display_data"
    },
    {
     "data": {
      "application/vnd.jupyter.widget-view+json": {
       "model_id": "",
       "version_major": 2,
       "version_minor": 0
      },
      "text/plain": [
       "HBox(children=(IntProgress(value=0, description='Equilibrate sweep', style=ProgressStyle(description_width='in…"
      ]
     },
     "metadata": {},
     "output_type": "display_data"
    },
    {
     "data": {
      "application/vnd.jupyter.widget-view+json": {
       "model_id": "",
       "version_major": 2,
       "version_minor": 0
      },
      "text/plain": [
       "HBox(children=(IntProgress(value=0, description='Measurement sweep', max=10000, style=ProgressStyle(descriptio…"
      ]
     },
     "metadata": {},
     "output_type": "display_data"
    },
    {
     "data": {
      "application/vnd.jupyter.widget-view+json": {
       "model_id": "",
       "version_major": 2,
       "version_minor": 0
      },
      "text/plain": [
       "HBox(children=(IntProgress(value=0, description='Equilibrate sweep', style=ProgressStyle(description_width='in…"
      ]
     },
     "metadata": {},
     "output_type": "display_data"
    },
    {
     "data": {
      "application/vnd.jupyter.widget-view+json": {
       "model_id": "",
       "version_major": 2,
       "version_minor": 0
      },
      "text/plain": [
       "HBox(children=(IntProgress(value=0, description='Measurement sweep', max=10000, style=ProgressStyle(descriptio…"
      ]
     },
     "metadata": {},
     "output_type": "display_data"
    },
    {
     "data": {
      "application/vnd.jupyter.widget-view+json": {
       "model_id": "",
       "version_major": 2,
       "version_minor": 0
      },
      "text/plain": [
       "HBox(children=(IntProgress(value=0, description='Equilibrate sweep', style=ProgressStyle(description_width='in…"
      ]
     },
     "metadata": {},
     "output_type": "display_data"
    },
    {
     "data": {
      "application/vnd.jupyter.widget-view+json": {
       "model_id": "",
       "version_major": 2,
       "version_minor": 0
      },
      "text/plain": [
       "HBox(children=(IntProgress(value=0, description='Measurement sweep', max=10000, style=ProgressStyle(descriptio…"
      ]
     },
     "metadata": {},
     "output_type": "display_data"
    },
    {
     "data": {
      "application/vnd.jupyter.widget-view+json": {
       "model_id": "",
       "version_major": 2,
       "version_minor": 0
      },
      "text/plain": [
       "HBox(children=(IntProgress(value=0, description='Equilibrate sweep', style=ProgressStyle(description_width='in…"
      ]
     },
     "metadata": {},
     "output_type": "display_data"
    },
    {
     "data": {
      "application/vnd.jupyter.widget-view+json": {
       "model_id": "",
       "version_major": 2,
       "version_minor": 0
      },
      "text/plain": [
       "HBox(children=(IntProgress(value=0, description='Measurement sweep', max=10000, style=ProgressStyle(descriptio…"
      ]
     },
     "metadata": {},
     "output_type": "display_data"
    },
    {
     "data": {
      "application/vnd.jupyter.widget-view+json": {
       "model_id": "",
       "version_major": 2,
       "version_minor": 0
      },
      "text/plain": [
       "HBox(children=(IntProgress(value=0, description='Col', max=20, style=ProgressStyle(description_width='initial'…"
      ]
     },
     "metadata": {},
     "output_type": "display_data"
    },
    {
     "data": {
      "application/vnd.jupyter.widget-view+json": {
       "model_id": "",
       "version_major": 2,
       "version_minor": 0
      },
      "text/plain": [
       "HBox(children=(IntProgress(value=0, description='Equilibrate sweep', style=ProgressStyle(description_width='in…"
      ]
     },
     "metadata": {},
     "output_type": "display_data"
    },
    {
     "data": {
      "application/vnd.jupyter.widget-view+json": {
       "model_id": "",
       "version_major": 2,
       "version_minor": 0
      },
      "text/plain": [
       "HBox(children=(IntProgress(value=0, description='Measurement sweep', max=10000, style=ProgressStyle(descriptio…"
      ]
     },
     "metadata": {},
     "output_type": "display_data"
    },
    {
     "data": {
      "application/vnd.jupyter.widget-view+json": {
       "model_id": "",
       "version_major": 2,
       "version_minor": 0
      },
      "text/plain": [
       "HBox(children=(IntProgress(value=0, description='Equilibrate sweep', style=ProgressStyle(description_width='in…"
      ]
     },
     "metadata": {},
     "output_type": "display_data"
    },
    {
     "data": {
      "application/vnd.jupyter.widget-view+json": {
       "model_id": "",
       "version_major": 2,
       "version_minor": 0
      },
      "text/plain": [
       "HBox(children=(IntProgress(value=0, description='Measurement sweep', max=10000, style=ProgressStyle(descriptio…"
      ]
     },
     "metadata": {},
     "output_type": "display_data"
    },
    {
     "data": {
      "application/vnd.jupyter.widget-view+json": {
       "model_id": "",
       "version_major": 2,
       "version_minor": 0
      },
      "text/plain": [
       "HBox(children=(IntProgress(value=0, description='Equilibrate sweep', style=ProgressStyle(description_width='in…"
      ]
     },
     "metadata": {},
     "output_type": "display_data"
    },
    {
     "data": {
      "application/vnd.jupyter.widget-view+json": {
       "model_id": "",
       "version_major": 2,
       "version_minor": 0
      },
      "text/plain": [
       "HBox(children=(IntProgress(value=0, description='Measurement sweep', max=10000, style=ProgressStyle(descriptio…"
      ]
     },
     "metadata": {},
     "output_type": "display_data"
    },
    {
     "data": {
      "application/vnd.jupyter.widget-view+json": {
       "model_id": "",
       "version_major": 2,
       "version_minor": 0
      },
      "text/plain": [
       "HBox(children=(IntProgress(value=0, description='Equilibrate sweep', style=ProgressStyle(description_width='in…"
      ]
     },
     "metadata": {},
     "output_type": "display_data"
    },
    {
     "data": {
      "application/vnd.jupyter.widget-view+json": {
       "model_id": "",
       "version_major": 2,
       "version_minor": 0
      },
      "text/plain": [
       "HBox(children=(IntProgress(value=0, description='Measurement sweep', max=10000, style=ProgressStyle(descriptio…"
      ]
     },
     "metadata": {},
     "output_type": "display_data"
    },
    {
     "data": {
      "application/vnd.jupyter.widget-view+json": {
       "model_id": "",
       "version_major": 2,
       "version_minor": 0
      },
      "text/plain": [
       "HBox(children=(IntProgress(value=0, description='Equilibrate sweep', style=ProgressStyle(description_width='in…"
      ]
     },
     "metadata": {},
     "output_type": "display_data"
    },
    {
     "data": {
      "application/vnd.jupyter.widget-view+json": {
       "model_id": "",
       "version_major": 2,
       "version_minor": 0
      },
      "text/plain": [
       "HBox(children=(IntProgress(value=0, description='Measurement sweep', max=10000, style=ProgressStyle(descriptio…"
      ]
     },
     "metadata": {},
     "output_type": "display_data"
    },
    {
     "data": {
      "application/vnd.jupyter.widget-view+json": {
       "model_id": "",
       "version_major": 2,
       "version_minor": 0
      },
      "text/plain": [
       "HBox(children=(IntProgress(value=0, description='Equilibrate sweep', style=ProgressStyle(description_width='in…"
      ]
     },
     "metadata": {},
     "output_type": "display_data"
    },
    {
     "data": {
      "application/vnd.jupyter.widget-view+json": {
       "model_id": "",
       "version_major": 2,
       "version_minor": 0
      },
      "text/plain": [
       "HBox(children=(IntProgress(value=0, description='Measurement sweep', max=10000, style=ProgressStyle(descriptio…"
      ]
     },
     "metadata": {},
     "output_type": "display_data"
    },
    {
     "data": {
      "application/vnd.jupyter.widget-view+json": {
       "model_id": "",
       "version_major": 2,
       "version_minor": 0
      },
      "text/plain": [
       "HBox(children=(IntProgress(value=0, description='Equilibrate sweep', style=ProgressStyle(description_width='in…"
      ]
     },
     "metadata": {},
     "output_type": "display_data"
    },
    {
     "data": {
      "application/vnd.jupyter.widget-view+json": {
       "model_id": "",
       "version_major": 2,
       "version_minor": 0
      },
      "text/plain": [
       "HBox(children=(IntProgress(value=0, description='Measurement sweep', max=10000, style=ProgressStyle(descriptio…"
      ]
     },
     "metadata": {},
     "output_type": "display_data"
    },
    {
     "data": {
      "application/vnd.jupyter.widget-view+json": {
       "model_id": "",
       "version_major": 2,
       "version_minor": 0
      },
      "text/plain": [
       "HBox(children=(IntProgress(value=0, description='Equilibrate sweep', style=ProgressStyle(description_width='in…"
      ]
     },
     "metadata": {},
     "output_type": "display_data"
    },
    {
     "data": {
      "application/vnd.jupyter.widget-view+json": {
       "model_id": "",
       "version_major": 2,
       "version_minor": 0
      },
      "text/plain": [
       "HBox(children=(IntProgress(value=0, description='Measurement sweep', max=10000, style=ProgressStyle(descriptio…"
      ]
     },
     "metadata": {},
     "output_type": "display_data"
    },
    {
     "data": {
      "application/vnd.jupyter.widget-view+json": {
       "model_id": "",
       "version_major": 2,
       "version_minor": 0
      },
      "text/plain": [
       "HBox(children=(IntProgress(value=0, description='Equilibrate sweep', style=ProgressStyle(description_width='in…"
      ]
     },
     "metadata": {},
     "output_type": "display_data"
    },
    {
     "data": {
      "application/vnd.jupyter.widget-view+json": {
       "model_id": "",
       "version_major": 2,
       "version_minor": 0
      },
      "text/plain": [
       "HBox(children=(IntProgress(value=0, description='Measurement sweep', max=10000, style=ProgressStyle(descriptio…"
      ]
     },
     "metadata": {},
     "output_type": "display_data"
    },
    {
     "data": {
      "application/vnd.jupyter.widget-view+json": {
       "model_id": "",
       "version_major": 2,
       "version_minor": 0
      },
      "text/plain": [
       "HBox(children=(IntProgress(value=0, description='Equilibrate sweep', style=ProgressStyle(description_width='in…"
      ]
     },
     "metadata": {},
     "output_type": "display_data"
    },
    {
     "data": {
      "application/vnd.jupyter.widget-view+json": {
       "model_id": "",
       "version_major": 2,
       "version_minor": 0
      },
      "text/plain": [
       "HBox(children=(IntProgress(value=0, description='Measurement sweep', max=10000, style=ProgressStyle(descriptio…"
      ]
     },
     "metadata": {},
     "output_type": "display_data"
    },
    {
     "data": {
      "application/vnd.jupyter.widget-view+json": {
       "model_id": "",
       "version_major": 2,
       "version_minor": 0
      },
      "text/plain": [
       "HBox(children=(IntProgress(value=0, description='Equilibrate sweep', style=ProgressStyle(description_width='in…"
      ]
     },
     "metadata": {},
     "output_type": "display_data"
    },
    {
     "data": {
      "application/vnd.jupyter.widget-view+json": {
       "model_id": "",
       "version_major": 2,
       "version_minor": 0
      },
      "text/plain": [
       "HBox(children=(IntProgress(value=0, description='Measurement sweep', max=10000, style=ProgressStyle(descriptio…"
      ]
     },
     "metadata": {},
     "output_type": "display_data"
    },
    {
     "data": {
      "application/vnd.jupyter.widget-view+json": {
       "model_id": "",
       "version_major": 2,
       "version_minor": 0
      },
      "text/plain": [
       "HBox(children=(IntProgress(value=0, description='Equilibrate sweep', style=ProgressStyle(description_width='in…"
      ]
     },
     "metadata": {},
     "output_type": "display_data"
    },
    {
     "data": {
      "application/vnd.jupyter.widget-view+json": {
       "model_id": "",
       "version_major": 2,
       "version_minor": 0
      },
      "text/plain": [
       "HBox(children=(IntProgress(value=0, description='Measurement sweep', max=10000, style=ProgressStyle(descriptio…"
      ]
     },
     "metadata": {},
     "output_type": "display_data"
    },
    {
     "data": {
      "application/vnd.jupyter.widget-view+json": {
       "model_id": "",
       "version_major": 2,
       "version_minor": 0
      },
      "text/plain": [
       "HBox(children=(IntProgress(value=0, description='Equilibrate sweep', style=ProgressStyle(description_width='in…"
      ]
     },
     "metadata": {},
     "output_type": "display_data"
    },
    {
     "data": {
      "application/vnd.jupyter.widget-view+json": {
       "model_id": "",
       "version_major": 2,
       "version_minor": 0
      },
      "text/plain": [
       "HBox(children=(IntProgress(value=0, description='Measurement sweep', max=10000, style=ProgressStyle(descriptio…"
      ]
     },
     "metadata": {},
     "output_type": "display_data"
    },
    {
     "data": {
      "application/vnd.jupyter.widget-view+json": {
       "model_id": "",
       "version_major": 2,
       "version_minor": 0
      },
      "text/plain": [
       "HBox(children=(IntProgress(value=0, description='Equilibrate sweep', style=ProgressStyle(description_width='in…"
      ]
     },
     "metadata": {},
     "output_type": "display_data"
    },
    {
     "data": {
      "application/vnd.jupyter.widget-view+json": {
       "model_id": "",
       "version_major": 2,
       "version_minor": 0
      },
      "text/plain": [
       "HBox(children=(IntProgress(value=0, description='Measurement sweep', max=10000, style=ProgressStyle(descriptio…"
      ]
     },
     "metadata": {},
     "output_type": "display_data"
    },
    {
     "data": {
      "application/vnd.jupyter.widget-view+json": {
       "model_id": "",
       "version_major": 2,
       "version_minor": 0
      },
      "text/plain": [
       "HBox(children=(IntProgress(value=0, description='Equilibrate sweep', style=ProgressStyle(description_width='in…"
      ]
     },
     "metadata": {},
     "output_type": "display_data"
    },
    {
     "data": {
      "application/vnd.jupyter.widget-view+json": {
       "model_id": "",
       "version_major": 2,
       "version_minor": 0
      },
      "text/plain": [
       "HBox(children=(IntProgress(value=0, description='Measurement sweep', max=10000, style=ProgressStyle(descriptio…"
      ]
     },
     "metadata": {},
     "output_type": "display_data"
    },
    {
     "data": {
      "application/vnd.jupyter.widget-view+json": {
       "model_id": "",
       "version_major": 2,
       "version_minor": 0
      },
      "text/plain": [
       "HBox(children=(IntProgress(value=0, description='Equilibrate sweep', style=ProgressStyle(description_width='in…"
      ]
     },
     "metadata": {},
     "output_type": "display_data"
    },
    {
     "data": {
      "application/vnd.jupyter.widget-view+json": {
       "model_id": "",
       "version_major": 2,
       "version_minor": 0
      },
      "text/plain": [
       "HBox(children=(IntProgress(value=0, description='Measurement sweep', max=10000, style=ProgressStyle(descriptio…"
      ]
     },
     "metadata": {},
     "output_type": "display_data"
    },
    {
     "data": {
      "application/vnd.jupyter.widget-view+json": {
       "model_id": "",
       "version_major": 2,
       "version_minor": 0
      },
      "text/plain": [
       "HBox(children=(IntProgress(value=0, description='Equilibrate sweep', style=ProgressStyle(description_width='in…"
      ]
     },
     "metadata": {},
     "output_type": "display_data"
    },
    {
     "data": {
      "application/vnd.jupyter.widget-view+json": {
       "model_id": "",
       "version_major": 2,
       "version_minor": 0
      },
      "text/plain": [
       "HBox(children=(IntProgress(value=0, description='Measurement sweep', max=10000, style=ProgressStyle(descriptio…"
      ]
     },
     "metadata": {},
     "output_type": "display_data"
    },
    {
     "data": {
      "application/vnd.jupyter.widget-view+json": {
       "model_id": "",
       "version_major": 2,
       "version_minor": 0
      },
      "text/plain": [
       "HBox(children=(IntProgress(value=0, description='Equilibrate sweep', style=ProgressStyle(description_width='in…"
      ]
     },
     "metadata": {},
     "output_type": "display_data"
    },
    {
     "data": {
      "application/vnd.jupyter.widget-view+json": {
       "model_id": "",
       "version_major": 2,
       "version_minor": 0
      },
      "text/plain": [
       "HBox(children=(IntProgress(value=0, description='Measurement sweep', max=10000, style=ProgressStyle(descriptio…"
      ]
     },
     "metadata": {},
     "output_type": "display_data"
    },
    {
     "data": {
      "application/vnd.jupyter.widget-view+json": {
       "model_id": "",
       "version_major": 2,
       "version_minor": 0
      },
      "text/plain": [
       "HBox(children=(IntProgress(value=0, description='Equilibrate sweep', style=ProgressStyle(description_width='in…"
      ]
     },
     "metadata": {},
     "output_type": "display_data"
    },
    {
     "data": {
      "application/vnd.jupyter.widget-view+json": {
       "model_id": "",
       "version_major": 2,
       "version_minor": 0
      },
      "text/plain": [
       "HBox(children=(IntProgress(value=0, description='Measurement sweep', max=10000, style=ProgressStyle(descriptio…"
      ]
     },
     "metadata": {},
     "output_type": "display_data"
    },
    {
     "data": {
      "application/vnd.jupyter.widget-view+json": {
       "model_id": "",
       "version_major": 2,
       "version_minor": 0
      },
      "text/plain": [
       "HBox(children=(IntProgress(value=0, description='Equilibrate sweep', style=ProgressStyle(description_width='in…"
      ]
     },
     "metadata": {},
     "output_type": "display_data"
    },
    {
     "data": {
      "application/vnd.jupyter.widget-view+json": {
       "model_id": "",
       "version_major": 2,
       "version_minor": 0
      },
      "text/plain": [
       "HBox(children=(IntProgress(value=0, description='Measurement sweep', max=10000, style=ProgressStyle(descriptio…"
      ]
     },
     "metadata": {},
     "output_type": "display_data"
    },
    {
     "data": {
      "application/vnd.jupyter.widget-view+json": {
       "model_id": "",
       "version_major": 2,
       "version_minor": 0
      },
      "text/plain": [
       "HBox(children=(IntProgress(value=0, description='Col', max=20, style=ProgressStyle(description_width='initial'…"
      ]
     },
     "metadata": {},
     "output_type": "display_data"
    },
    {
     "data": {
      "application/vnd.jupyter.widget-view+json": {
       "model_id": "",
       "version_major": 2,
       "version_minor": 0
      },
      "text/plain": [
       "HBox(children=(IntProgress(value=0, description='Equilibrate sweep', style=ProgressStyle(description_width='in…"
      ]
     },
     "metadata": {},
     "output_type": "display_data"
    },
    {
     "data": {
      "application/vnd.jupyter.widget-view+json": {
       "model_id": "",
       "version_major": 2,
       "version_minor": 0
      },
      "text/plain": [
       "HBox(children=(IntProgress(value=0, description='Measurement sweep', max=10000, style=ProgressStyle(descriptio…"
      ]
     },
     "metadata": {},
     "output_type": "display_data"
    },
    {
     "data": {
      "application/vnd.jupyter.widget-view+json": {
       "model_id": "",
       "version_major": 2,
       "version_minor": 0
      },
      "text/plain": [
       "HBox(children=(IntProgress(value=0, description='Equilibrate sweep', style=ProgressStyle(description_width='in…"
      ]
     },
     "metadata": {},
     "output_type": "display_data"
    },
    {
     "data": {
      "application/vnd.jupyter.widget-view+json": {
       "model_id": "",
       "version_major": 2,
       "version_minor": 0
      },
      "text/plain": [
       "HBox(children=(IntProgress(value=0, description='Measurement sweep', max=10000, style=ProgressStyle(descriptio…"
      ]
     },
     "metadata": {},
     "output_type": "display_data"
    },
    {
     "data": {
      "application/vnd.jupyter.widget-view+json": {
       "model_id": "",
       "version_major": 2,
       "version_minor": 0
      },
      "text/plain": [
       "HBox(children=(IntProgress(value=0, description='Equilibrate sweep', style=ProgressStyle(description_width='in…"
      ]
     },
     "metadata": {},
     "output_type": "display_data"
    },
    {
     "data": {
      "application/vnd.jupyter.widget-view+json": {
       "model_id": "",
       "version_major": 2,
       "version_minor": 0
      },
      "text/plain": [
       "HBox(children=(IntProgress(value=0, description='Measurement sweep', max=10000, style=ProgressStyle(descriptio…"
      ]
     },
     "metadata": {},
     "output_type": "display_data"
    },
    {
     "data": {
      "application/vnd.jupyter.widget-view+json": {
       "model_id": "",
       "version_major": 2,
       "version_minor": 0
      },
      "text/plain": [
       "HBox(children=(IntProgress(value=0, description='Equilibrate sweep', style=ProgressStyle(description_width='in…"
      ]
     },
     "metadata": {},
     "output_type": "display_data"
    },
    {
     "data": {
      "application/vnd.jupyter.widget-view+json": {
       "model_id": "",
       "version_major": 2,
       "version_minor": 0
      },
      "text/plain": [
       "HBox(children=(IntProgress(value=0, description='Measurement sweep', max=10000, style=ProgressStyle(descriptio…"
      ]
     },
     "metadata": {},
     "output_type": "display_data"
    },
    {
     "data": {
      "application/vnd.jupyter.widget-view+json": {
       "model_id": "",
       "version_major": 2,
       "version_minor": 0
      },
      "text/plain": [
       "HBox(children=(IntProgress(value=0, description='Equilibrate sweep', style=ProgressStyle(description_width='in…"
      ]
     },
     "metadata": {},
     "output_type": "display_data"
    },
    {
     "data": {
      "application/vnd.jupyter.widget-view+json": {
       "model_id": "",
       "version_major": 2,
       "version_minor": 0
      },
      "text/plain": [
       "HBox(children=(IntProgress(value=0, description='Measurement sweep', max=10000, style=ProgressStyle(descriptio…"
      ]
     },
     "metadata": {},
     "output_type": "display_data"
    },
    {
     "data": {
      "application/vnd.jupyter.widget-view+json": {
       "model_id": "",
       "version_major": 2,
       "version_minor": 0
      },
      "text/plain": [
       "HBox(children=(IntProgress(value=0, description='Equilibrate sweep', style=ProgressStyle(description_width='in…"
      ]
     },
     "metadata": {},
     "output_type": "display_data"
    },
    {
     "data": {
      "application/vnd.jupyter.widget-view+json": {
       "model_id": "",
       "version_major": 2,
       "version_minor": 0
      },
      "text/plain": [
       "HBox(children=(IntProgress(value=0, description='Measurement sweep', max=10000, style=ProgressStyle(descriptio…"
      ]
     },
     "metadata": {},
     "output_type": "display_data"
    },
    {
     "data": {
      "application/vnd.jupyter.widget-view+json": {
       "model_id": "",
       "version_major": 2,
       "version_minor": 0
      },
      "text/plain": [
       "HBox(children=(IntProgress(value=0, description='Equilibrate sweep', style=ProgressStyle(description_width='in…"
      ]
     },
     "metadata": {},
     "output_type": "display_data"
    },
    {
     "data": {
      "application/vnd.jupyter.widget-view+json": {
       "model_id": "",
       "version_major": 2,
       "version_minor": 0
      },
      "text/plain": [
       "HBox(children=(IntProgress(value=0, description='Measurement sweep', max=10000, style=ProgressStyle(descriptio…"
      ]
     },
     "metadata": {},
     "output_type": "display_data"
    },
    {
     "data": {
      "application/vnd.jupyter.widget-view+json": {
       "model_id": "",
       "version_major": 2,
       "version_minor": 0
      },
      "text/plain": [
       "HBox(children=(IntProgress(value=0, description='Equilibrate sweep', style=ProgressStyle(description_width='in…"
      ]
     },
     "metadata": {},
     "output_type": "display_data"
    },
    {
     "data": {
      "application/vnd.jupyter.widget-view+json": {
       "model_id": "",
       "version_major": 2,
       "version_minor": 0
      },
      "text/plain": [
       "HBox(children=(IntProgress(value=0, description='Measurement sweep', max=10000, style=ProgressStyle(descriptio…"
      ]
     },
     "metadata": {},
     "output_type": "display_data"
    },
    {
     "data": {
      "application/vnd.jupyter.widget-view+json": {
       "model_id": "",
       "version_major": 2,
       "version_minor": 0
      },
      "text/plain": [
       "HBox(children=(IntProgress(value=0, description='Equilibrate sweep', style=ProgressStyle(description_width='in…"
      ]
     },
     "metadata": {},
     "output_type": "display_data"
    },
    {
     "data": {
      "application/vnd.jupyter.widget-view+json": {
       "model_id": "",
       "version_major": 2,
       "version_minor": 0
      },
      "text/plain": [
       "HBox(children=(IntProgress(value=0, description='Measurement sweep', max=10000, style=ProgressStyle(descriptio…"
      ]
     },
     "metadata": {},
     "output_type": "display_data"
    },
    {
     "data": {
      "application/vnd.jupyter.widget-view+json": {
       "model_id": "",
       "version_major": 2,
       "version_minor": 0
      },
      "text/plain": [
       "HBox(children=(IntProgress(value=0, description='Equilibrate sweep', style=ProgressStyle(description_width='in…"
      ]
     },
     "metadata": {},
     "output_type": "display_data"
    },
    {
     "data": {
      "application/vnd.jupyter.widget-view+json": {
       "model_id": "",
       "version_major": 2,
       "version_minor": 0
      },
      "text/plain": [
       "HBox(children=(IntProgress(value=0, description='Measurement sweep', max=10000, style=ProgressStyle(descriptio…"
      ]
     },
     "metadata": {},
     "output_type": "display_data"
    },
    {
     "data": {
      "application/vnd.jupyter.widget-view+json": {
       "model_id": "",
       "version_major": 2,
       "version_minor": 0
      },
      "text/plain": [
       "HBox(children=(IntProgress(value=0, description='Equilibrate sweep', style=ProgressStyle(description_width='in…"
      ]
     },
     "metadata": {},
     "output_type": "display_data"
    },
    {
     "data": {
      "application/vnd.jupyter.widget-view+json": {
       "model_id": "",
       "version_major": 2,
       "version_minor": 0
      },
      "text/plain": [
       "HBox(children=(IntProgress(value=0, description='Measurement sweep', max=10000, style=ProgressStyle(descriptio…"
      ]
     },
     "metadata": {},
     "output_type": "display_data"
    },
    {
     "data": {
      "application/vnd.jupyter.widget-view+json": {
       "model_id": "",
       "version_major": 2,
       "version_minor": 0
      },
      "text/plain": [
       "HBox(children=(IntProgress(value=0, description='Equilibrate sweep', style=ProgressStyle(description_width='in…"
      ]
     },
     "metadata": {},
     "output_type": "display_data"
    },
    {
     "data": {
      "application/vnd.jupyter.widget-view+json": {
       "model_id": "",
       "version_major": 2,
       "version_minor": 0
      },
      "text/plain": [
       "HBox(children=(IntProgress(value=0, description='Measurement sweep', max=10000, style=ProgressStyle(descriptio…"
      ]
     },
     "metadata": {},
     "output_type": "display_data"
    },
    {
     "data": {
      "application/vnd.jupyter.widget-view+json": {
       "model_id": "",
       "version_major": 2,
       "version_minor": 0
      },
      "text/plain": [
       "HBox(children=(IntProgress(value=0, description='Equilibrate sweep', style=ProgressStyle(description_width='in…"
      ]
     },
     "metadata": {},
     "output_type": "display_data"
    },
    {
     "data": {
      "application/vnd.jupyter.widget-view+json": {
       "model_id": "",
       "version_major": 2,
       "version_minor": 0
      },
      "text/plain": [
       "HBox(children=(IntProgress(value=0, description='Measurement sweep', max=10000, style=ProgressStyle(descriptio…"
      ]
     },
     "metadata": {},
     "output_type": "display_data"
    },
    {
     "data": {
      "application/vnd.jupyter.widget-view+json": {
       "model_id": "",
       "version_major": 2,
       "version_minor": 0
      },
      "text/plain": [
       "HBox(children=(IntProgress(value=0, description='Equilibrate sweep', style=ProgressStyle(description_width='in…"
      ]
     },
     "metadata": {},
     "output_type": "display_data"
    },
    {
     "data": {
      "application/vnd.jupyter.widget-view+json": {
       "model_id": "",
       "version_major": 2,
       "version_minor": 0
      },
      "text/plain": [
       "HBox(children=(IntProgress(value=0, description='Measurement sweep', max=10000, style=ProgressStyle(descriptio…"
      ]
     },
     "metadata": {},
     "output_type": "display_data"
    },
    {
     "data": {
      "application/vnd.jupyter.widget-view+json": {
       "model_id": "",
       "version_major": 2,
       "version_minor": 0
      },
      "text/plain": [
       "HBox(children=(IntProgress(value=0, description='Equilibrate sweep', style=ProgressStyle(description_width='in…"
      ]
     },
     "metadata": {},
     "output_type": "display_data"
    },
    {
     "data": {
      "application/vnd.jupyter.widget-view+json": {
       "model_id": "",
       "version_major": 2,
       "version_minor": 0
      },
      "text/plain": [
       "HBox(children=(IntProgress(value=0, description='Measurement sweep', max=10000, style=ProgressStyle(descriptio…"
      ]
     },
     "metadata": {},
     "output_type": "display_data"
    },
    {
     "data": {
      "application/vnd.jupyter.widget-view+json": {
       "model_id": "",
       "version_major": 2,
       "version_minor": 0
      },
      "text/plain": [
       "HBox(children=(IntProgress(value=0, description='Equilibrate sweep', style=ProgressStyle(description_width='in…"
      ]
     },
     "metadata": {},
     "output_type": "display_data"
    },
    {
     "data": {
      "application/vnd.jupyter.widget-view+json": {
       "model_id": "",
       "version_major": 2,
       "version_minor": 0
      },
      "text/plain": [
       "HBox(children=(IntProgress(value=0, description='Measurement sweep', max=10000, style=ProgressStyle(descriptio…"
      ]
     },
     "metadata": {},
     "output_type": "display_data"
    },
    {
     "data": {
      "application/vnd.jupyter.widget-view+json": {
       "model_id": "",
       "version_major": 2,
       "version_minor": 0
      },
      "text/plain": [
       "HBox(children=(IntProgress(value=0, description='Equilibrate sweep', style=ProgressStyle(description_width='in…"
      ]
     },
     "metadata": {},
     "output_type": "display_data"
    },
    {
     "data": {
      "application/vnd.jupyter.widget-view+json": {
       "model_id": "",
       "version_major": 2,
       "version_minor": 0
      },
      "text/plain": [
       "HBox(children=(IntProgress(value=0, description='Measurement sweep', max=10000, style=ProgressStyle(descriptio…"
      ]
     },
     "metadata": {},
     "output_type": "display_data"
    },
    {
     "data": {
      "application/vnd.jupyter.widget-view+json": {
       "model_id": "",
       "version_major": 2,
       "version_minor": 0
      },
      "text/plain": [
       "HBox(children=(IntProgress(value=0, description='Equilibrate sweep', style=ProgressStyle(description_width='in…"
      ]
     },
     "metadata": {},
     "output_type": "display_data"
    },
    {
     "data": {
      "application/vnd.jupyter.widget-view+json": {
       "model_id": "",
       "version_major": 2,
       "version_minor": 0
      },
      "text/plain": [
       "HBox(children=(IntProgress(value=0, description='Measurement sweep', max=10000, style=ProgressStyle(descriptio…"
      ]
     },
     "metadata": {},
     "output_type": "display_data"
    },
    {
     "data": {
      "application/vnd.jupyter.widget-view+json": {
       "model_id": "",
       "version_major": 2,
       "version_minor": 0
      },
      "text/plain": [
       "HBox(children=(IntProgress(value=0, description='Equilibrate sweep', style=ProgressStyle(description_width='in…"
      ]
     },
     "metadata": {},
     "output_type": "display_data"
    },
    {
     "data": {
      "application/vnd.jupyter.widget-view+json": {
       "model_id": "",
       "version_major": 2,
       "version_minor": 0
      },
      "text/plain": [
       "HBox(children=(IntProgress(value=0, description='Measurement sweep', max=10000, style=ProgressStyle(descriptio…"
      ]
     },
     "metadata": {},
     "output_type": "display_data"
    },
    {
     "data": {
      "application/vnd.jupyter.widget-view+json": {
       "model_id": "",
       "version_major": 2,
       "version_minor": 0
      },
      "text/plain": [
       "HBox(children=(IntProgress(value=0, description='Equilibrate sweep', style=ProgressStyle(description_width='in…"
      ]
     },
     "metadata": {},
     "output_type": "display_data"
    },
    {
     "data": {
      "application/vnd.jupyter.widget-view+json": {
       "model_id": "",
       "version_major": 2,
       "version_minor": 0
      },
      "text/plain": [
       "HBox(children=(IntProgress(value=0, description='Measurement sweep', max=10000, style=ProgressStyle(descriptio…"
      ]
     },
     "metadata": {},
     "output_type": "display_data"
    },
    {
     "data": {
      "application/vnd.jupyter.widget-view+json": {
       "model_id": "",
       "version_major": 2,
       "version_minor": 0
      },
      "text/plain": [
       "HBox(children=(IntProgress(value=0, description='Col', max=20, style=ProgressStyle(description_width='initial'…"
      ]
     },
     "metadata": {},
     "output_type": "display_data"
    },
    {
     "data": {
      "application/vnd.jupyter.widget-view+json": {
       "model_id": "",
       "version_major": 2,
       "version_minor": 0
      },
      "text/plain": [
       "HBox(children=(IntProgress(value=0, description='Equilibrate sweep', style=ProgressStyle(description_width='in…"
      ]
     },
     "metadata": {},
     "output_type": "display_data"
    },
    {
     "data": {
      "application/vnd.jupyter.widget-view+json": {
       "model_id": "",
       "version_major": 2,
       "version_minor": 0
      },
      "text/plain": [
       "HBox(children=(IntProgress(value=0, description='Measurement sweep', max=10000, style=ProgressStyle(descriptio…"
      ]
     },
     "metadata": {},
     "output_type": "display_data"
    },
    {
     "data": {
      "application/vnd.jupyter.widget-view+json": {
       "model_id": "",
       "version_major": 2,
       "version_minor": 0
      },
      "text/plain": [
       "HBox(children=(IntProgress(value=0, description='Equilibrate sweep', style=ProgressStyle(description_width='in…"
      ]
     },
     "metadata": {},
     "output_type": "display_data"
    },
    {
     "data": {
      "application/vnd.jupyter.widget-view+json": {
       "model_id": "",
       "version_major": 2,
       "version_minor": 0
      },
      "text/plain": [
       "HBox(children=(IntProgress(value=0, description='Measurement sweep', max=10000, style=ProgressStyle(descriptio…"
      ]
     },
     "metadata": {},
     "output_type": "display_data"
    },
    {
     "data": {
      "application/vnd.jupyter.widget-view+json": {
       "model_id": "",
       "version_major": 2,
       "version_minor": 0
      },
      "text/plain": [
       "HBox(children=(IntProgress(value=0, description='Equilibrate sweep', style=ProgressStyle(description_width='in…"
      ]
     },
     "metadata": {},
     "output_type": "display_data"
    },
    {
     "data": {
      "application/vnd.jupyter.widget-view+json": {
       "model_id": "",
       "version_major": 2,
       "version_minor": 0
      },
      "text/plain": [
       "HBox(children=(IntProgress(value=0, description='Measurement sweep', max=10000, style=ProgressStyle(descriptio…"
      ]
     },
     "metadata": {},
     "output_type": "display_data"
    },
    {
     "data": {
      "application/vnd.jupyter.widget-view+json": {
       "model_id": "",
       "version_major": 2,
       "version_minor": 0
      },
      "text/plain": [
       "HBox(children=(IntProgress(value=0, description='Equilibrate sweep', style=ProgressStyle(description_width='in…"
      ]
     },
     "metadata": {},
     "output_type": "display_data"
    },
    {
     "data": {
      "application/vnd.jupyter.widget-view+json": {
       "model_id": "",
       "version_major": 2,
       "version_minor": 0
      },
      "text/plain": [
       "HBox(children=(IntProgress(value=0, description='Measurement sweep', max=10000, style=ProgressStyle(descriptio…"
      ]
     },
     "metadata": {},
     "output_type": "display_data"
    },
    {
     "data": {
      "application/vnd.jupyter.widget-view+json": {
       "model_id": "",
       "version_major": 2,
       "version_minor": 0
      },
      "text/plain": [
       "HBox(children=(IntProgress(value=0, description='Equilibrate sweep', style=ProgressStyle(description_width='in…"
      ]
     },
     "metadata": {},
     "output_type": "display_data"
    },
    {
     "data": {
      "application/vnd.jupyter.widget-view+json": {
       "model_id": "",
       "version_major": 2,
       "version_minor": 0
      },
      "text/plain": [
       "HBox(children=(IntProgress(value=0, description='Measurement sweep', max=10000, style=ProgressStyle(descriptio…"
      ]
     },
     "metadata": {},
     "output_type": "display_data"
    },
    {
     "data": {
      "application/vnd.jupyter.widget-view+json": {
       "model_id": "",
       "version_major": 2,
       "version_minor": 0
      },
      "text/plain": [
       "HBox(children=(IntProgress(value=0, description='Equilibrate sweep', style=ProgressStyle(description_width='in…"
      ]
     },
     "metadata": {},
     "output_type": "display_data"
    },
    {
     "data": {
      "application/vnd.jupyter.widget-view+json": {
       "model_id": "",
       "version_major": 2,
       "version_minor": 0
      },
      "text/plain": [
       "HBox(children=(IntProgress(value=0, description='Measurement sweep', max=10000, style=ProgressStyle(descriptio…"
      ]
     },
     "metadata": {},
     "output_type": "display_data"
    },
    {
     "data": {
      "application/vnd.jupyter.widget-view+json": {
       "model_id": "",
       "version_major": 2,
       "version_minor": 0
      },
      "text/plain": [
       "HBox(children=(IntProgress(value=0, description='Equilibrate sweep', style=ProgressStyle(description_width='in…"
      ]
     },
     "metadata": {},
     "output_type": "display_data"
    },
    {
     "data": {
      "application/vnd.jupyter.widget-view+json": {
       "model_id": "",
       "version_major": 2,
       "version_minor": 0
      },
      "text/plain": [
       "HBox(children=(IntProgress(value=0, description='Measurement sweep', max=10000, style=ProgressStyle(descriptio…"
      ]
     },
     "metadata": {},
     "output_type": "display_data"
    },
    {
     "data": {
      "application/vnd.jupyter.widget-view+json": {
       "model_id": "",
       "version_major": 2,
       "version_minor": 0
      },
      "text/plain": [
       "HBox(children=(IntProgress(value=0, description='Equilibrate sweep', style=ProgressStyle(description_width='in…"
      ]
     },
     "metadata": {},
     "output_type": "display_data"
    },
    {
     "data": {
      "application/vnd.jupyter.widget-view+json": {
       "model_id": "",
       "version_major": 2,
       "version_minor": 0
      },
      "text/plain": [
       "HBox(children=(IntProgress(value=0, description='Measurement sweep', max=10000, style=ProgressStyle(descriptio…"
      ]
     },
     "metadata": {},
     "output_type": "display_data"
    },
    {
     "data": {
      "application/vnd.jupyter.widget-view+json": {
       "model_id": "",
       "version_major": 2,
       "version_minor": 0
      },
      "text/plain": [
       "HBox(children=(IntProgress(value=0, description='Equilibrate sweep', style=ProgressStyle(description_width='in…"
      ]
     },
     "metadata": {},
     "output_type": "display_data"
    },
    {
     "data": {
      "application/vnd.jupyter.widget-view+json": {
       "model_id": "",
       "version_major": 2,
       "version_minor": 0
      },
      "text/plain": [
       "HBox(children=(IntProgress(value=0, description='Measurement sweep', max=10000, style=ProgressStyle(descriptio…"
      ]
     },
     "metadata": {},
     "output_type": "display_data"
    },
    {
     "data": {
      "application/vnd.jupyter.widget-view+json": {
       "model_id": "",
       "version_major": 2,
       "version_minor": 0
      },
      "text/plain": [
       "HBox(children=(IntProgress(value=0, description='Equilibrate sweep', style=ProgressStyle(description_width='in…"
      ]
     },
     "metadata": {},
     "output_type": "display_data"
    },
    {
     "data": {
      "application/vnd.jupyter.widget-view+json": {
       "model_id": "",
       "version_major": 2,
       "version_minor": 0
      },
      "text/plain": [
       "HBox(children=(IntProgress(value=0, description='Measurement sweep', max=10000, style=ProgressStyle(descriptio…"
      ]
     },
     "metadata": {},
     "output_type": "display_data"
    },
    {
     "data": {
      "application/vnd.jupyter.widget-view+json": {
       "model_id": "",
       "version_major": 2,
       "version_minor": 0
      },
      "text/plain": [
       "HBox(children=(IntProgress(value=0, description='Equilibrate sweep', style=ProgressStyle(description_width='in…"
      ]
     },
     "metadata": {},
     "output_type": "display_data"
    },
    {
     "data": {
      "application/vnd.jupyter.widget-view+json": {
       "model_id": "",
       "version_major": 2,
       "version_minor": 0
      },
      "text/plain": [
       "HBox(children=(IntProgress(value=0, description='Measurement sweep', max=10000, style=ProgressStyle(descriptio…"
      ]
     },
     "metadata": {},
     "output_type": "display_data"
    },
    {
     "data": {
      "application/vnd.jupyter.widget-view+json": {
       "model_id": "",
       "version_major": 2,
       "version_minor": 0
      },
      "text/plain": [
       "HBox(children=(IntProgress(value=0, description='Equilibrate sweep', style=ProgressStyle(description_width='in…"
      ]
     },
     "metadata": {},
     "output_type": "display_data"
    },
    {
     "data": {
      "application/vnd.jupyter.widget-view+json": {
       "model_id": "",
       "version_major": 2,
       "version_minor": 0
      },
      "text/plain": [
       "HBox(children=(IntProgress(value=0, description='Measurement sweep', max=10000, style=ProgressStyle(descriptio…"
      ]
     },
     "metadata": {},
     "output_type": "display_data"
    },
    {
     "data": {
      "application/vnd.jupyter.widget-view+json": {
       "model_id": "",
       "version_major": 2,
       "version_minor": 0
      },
      "text/plain": [
       "HBox(children=(IntProgress(value=0, description='Equilibrate sweep', style=ProgressStyle(description_width='in…"
      ]
     },
     "metadata": {},
     "output_type": "display_data"
    },
    {
     "data": {
      "application/vnd.jupyter.widget-view+json": {
       "model_id": "",
       "version_major": 2,
       "version_minor": 0
      },
      "text/plain": [
       "HBox(children=(IntProgress(value=0, description='Measurement sweep', max=10000, style=ProgressStyle(descriptio…"
      ]
     },
     "metadata": {},
     "output_type": "display_data"
    },
    {
     "data": {
      "application/vnd.jupyter.widget-view+json": {
       "model_id": "",
       "version_major": 2,
       "version_minor": 0
      },
      "text/plain": [
       "HBox(children=(IntProgress(value=0, description='Equilibrate sweep', style=ProgressStyle(description_width='in…"
      ]
     },
     "metadata": {},
     "output_type": "display_data"
    },
    {
     "data": {
      "application/vnd.jupyter.widget-view+json": {
       "model_id": "",
       "version_major": 2,
       "version_minor": 0
      },
      "text/plain": [
       "HBox(children=(IntProgress(value=0, description='Measurement sweep', max=10000, style=ProgressStyle(descriptio…"
      ]
     },
     "metadata": {},
     "output_type": "display_data"
    },
    {
     "data": {
      "application/vnd.jupyter.widget-view+json": {
       "model_id": "",
       "version_major": 2,
       "version_minor": 0
      },
      "text/plain": [
       "HBox(children=(IntProgress(value=0, description='Equilibrate sweep', style=ProgressStyle(description_width='in…"
      ]
     },
     "metadata": {},
     "output_type": "display_data"
    },
    {
     "data": {
      "application/vnd.jupyter.widget-view+json": {
       "model_id": "",
       "version_major": 2,
       "version_minor": 0
      },
      "text/plain": [
       "HBox(children=(IntProgress(value=0, description='Measurement sweep', max=10000, style=ProgressStyle(descriptio…"
      ]
     },
     "metadata": {},
     "output_type": "display_data"
    },
    {
     "data": {
      "application/vnd.jupyter.widget-view+json": {
       "model_id": "",
       "version_major": 2,
       "version_minor": 0
      },
      "text/plain": [
       "HBox(children=(IntProgress(value=0, description='Equilibrate sweep', style=ProgressStyle(description_width='in…"
      ]
     },
     "metadata": {},
     "output_type": "display_data"
    },
    {
     "data": {
      "application/vnd.jupyter.widget-view+json": {
       "model_id": "",
       "version_major": 2,
       "version_minor": 0
      },
      "text/plain": [
       "HBox(children=(IntProgress(value=0, description='Measurement sweep', max=10000, style=ProgressStyle(descriptio…"
      ]
     },
     "metadata": {},
     "output_type": "display_data"
    },
    {
     "data": {
      "application/vnd.jupyter.widget-view+json": {
       "model_id": "",
       "version_major": 2,
       "version_minor": 0
      },
      "text/plain": [
       "HBox(children=(IntProgress(value=0, description='Equilibrate sweep', style=ProgressStyle(description_width='in…"
      ]
     },
     "metadata": {},
     "output_type": "display_data"
    },
    {
     "data": {
      "application/vnd.jupyter.widget-view+json": {
       "model_id": "",
       "version_major": 2,
       "version_minor": 0
      },
      "text/plain": [
       "HBox(children=(IntProgress(value=0, description='Measurement sweep', max=10000, style=ProgressStyle(descriptio…"
      ]
     },
     "metadata": {},
     "output_type": "display_data"
    },
    {
     "data": {
      "application/vnd.jupyter.widget-view+json": {
       "model_id": "",
       "version_major": 2,
       "version_minor": 0
      },
      "text/plain": [
       "HBox(children=(IntProgress(value=0, description='Equilibrate sweep', style=ProgressStyle(description_width='in…"
      ]
     },
     "metadata": {},
     "output_type": "display_data"
    },
    {
     "data": {
      "application/vnd.jupyter.widget-view+json": {
       "model_id": "",
       "version_major": 2,
       "version_minor": 0
      },
      "text/plain": [
       "HBox(children=(IntProgress(value=0, description='Measurement sweep', max=10000, style=ProgressStyle(descriptio…"
      ]
     },
     "metadata": {},
     "output_type": "display_data"
    },
    {
     "data": {
      "application/vnd.jupyter.widget-view+json": {
       "model_id": "",
       "version_major": 2,
       "version_minor": 0
      },
      "text/plain": [
       "HBox(children=(IntProgress(value=0, description='Equilibrate sweep', style=ProgressStyle(description_width='in…"
      ]
     },
     "metadata": {},
     "output_type": "display_data"
    },
    {
     "data": {
      "application/vnd.jupyter.widget-view+json": {
       "model_id": "",
       "version_major": 2,
       "version_minor": 0
      },
      "text/plain": [
       "HBox(children=(IntProgress(value=0, description='Measurement sweep', max=10000, style=ProgressStyle(descriptio…"
      ]
     },
     "metadata": {},
     "output_type": "display_data"
    },
    {
     "data": {
      "application/vnd.jupyter.widget-view+json": {
       "model_id": "",
       "version_major": 2,
       "version_minor": 0
      },
      "text/plain": [
       "HBox(children=(IntProgress(value=0, description='Equilibrate sweep', style=ProgressStyle(description_width='in…"
      ]
     },
     "metadata": {},
     "output_type": "display_data"
    },
    {
     "data": {
      "application/vnd.jupyter.widget-view+json": {
       "model_id": "",
       "version_major": 2,
       "version_minor": 0
      },
      "text/plain": [
       "HBox(children=(IntProgress(value=0, description='Measurement sweep', max=10000, style=ProgressStyle(descriptio…"
      ]
     },
     "metadata": {},
     "output_type": "display_data"
    },
    {
     "data": {
      "application/vnd.jupyter.widget-view+json": {
       "model_id": "",
       "version_major": 2,
       "version_minor": 0
      },
      "text/plain": [
       "HBox(children=(IntProgress(value=0, description='Col', max=20, style=ProgressStyle(description_width='initial'…"
      ]
     },
     "metadata": {},
     "output_type": "display_data"
    },
    {
     "data": {
      "application/vnd.jupyter.widget-view+json": {
       "model_id": "",
       "version_major": 2,
       "version_minor": 0
      },
      "text/plain": [
       "HBox(children=(IntProgress(value=0, description='Equilibrate sweep', style=ProgressStyle(description_width='in…"
      ]
     },
     "metadata": {},
     "output_type": "display_data"
    },
    {
     "data": {
      "application/vnd.jupyter.widget-view+json": {
       "model_id": "",
       "version_major": 2,
       "version_minor": 0
      },
      "text/plain": [
       "HBox(children=(IntProgress(value=0, description='Measurement sweep', max=10000, style=ProgressStyle(descriptio…"
      ]
     },
     "metadata": {},
     "output_type": "display_data"
    },
    {
     "data": {
      "application/vnd.jupyter.widget-view+json": {
       "model_id": "",
       "version_major": 2,
       "version_minor": 0
      },
      "text/plain": [
       "HBox(children=(IntProgress(value=0, description='Equilibrate sweep', style=ProgressStyle(description_width='in…"
      ]
     },
     "metadata": {},
     "output_type": "display_data"
    },
    {
     "data": {
      "application/vnd.jupyter.widget-view+json": {
       "model_id": "",
       "version_major": 2,
       "version_minor": 0
      },
      "text/plain": [
       "HBox(children=(IntProgress(value=0, description='Measurement sweep', max=10000, style=ProgressStyle(descriptio…"
      ]
     },
     "metadata": {},
     "output_type": "display_data"
    },
    {
     "data": {
      "application/vnd.jupyter.widget-view+json": {
       "model_id": "",
       "version_major": 2,
       "version_minor": 0
      },
      "text/plain": [
       "HBox(children=(IntProgress(value=0, description='Equilibrate sweep', style=ProgressStyle(description_width='in…"
      ]
     },
     "metadata": {},
     "output_type": "display_data"
    },
    {
     "data": {
      "application/vnd.jupyter.widget-view+json": {
       "model_id": "",
       "version_major": 2,
       "version_minor": 0
      },
      "text/plain": [
       "HBox(children=(IntProgress(value=0, description='Measurement sweep', max=10000, style=ProgressStyle(descriptio…"
      ]
     },
     "metadata": {},
     "output_type": "display_data"
    },
    {
     "data": {
      "application/vnd.jupyter.widget-view+json": {
       "model_id": "",
       "version_major": 2,
       "version_minor": 0
      },
      "text/plain": [
       "HBox(children=(IntProgress(value=0, description='Equilibrate sweep', style=ProgressStyle(description_width='in…"
      ]
     },
     "metadata": {},
     "output_type": "display_data"
    },
    {
     "data": {
      "application/vnd.jupyter.widget-view+json": {
       "model_id": "",
       "version_major": 2,
       "version_minor": 0
      },
      "text/plain": [
       "HBox(children=(IntProgress(value=0, description='Measurement sweep', max=10000, style=ProgressStyle(descriptio…"
      ]
     },
     "metadata": {},
     "output_type": "display_data"
    },
    {
     "data": {
      "application/vnd.jupyter.widget-view+json": {
       "model_id": "",
       "version_major": 2,
       "version_minor": 0
      },
      "text/plain": [
       "HBox(children=(IntProgress(value=0, description='Equilibrate sweep', style=ProgressStyle(description_width='in…"
      ]
     },
     "metadata": {},
     "output_type": "display_data"
    },
    {
     "data": {
      "application/vnd.jupyter.widget-view+json": {
       "model_id": "",
       "version_major": 2,
       "version_minor": 0
      },
      "text/plain": [
       "HBox(children=(IntProgress(value=0, description='Measurement sweep', max=10000, style=ProgressStyle(descriptio…"
      ]
     },
     "metadata": {},
     "output_type": "display_data"
    },
    {
     "data": {
      "application/vnd.jupyter.widget-view+json": {
       "model_id": "",
       "version_major": 2,
       "version_minor": 0
      },
      "text/plain": [
       "HBox(children=(IntProgress(value=0, description='Equilibrate sweep', style=ProgressStyle(description_width='in…"
      ]
     },
     "metadata": {},
     "output_type": "display_data"
    },
    {
     "data": {
      "application/vnd.jupyter.widget-view+json": {
       "model_id": "",
       "version_major": 2,
       "version_minor": 0
      },
      "text/plain": [
       "HBox(children=(IntProgress(value=0, description='Measurement sweep', max=10000, style=ProgressStyle(descriptio…"
      ]
     },
     "metadata": {},
     "output_type": "display_data"
    },
    {
     "data": {
      "application/vnd.jupyter.widget-view+json": {
       "model_id": "",
       "version_major": 2,
       "version_minor": 0
      },
      "text/plain": [
       "HBox(children=(IntProgress(value=0, description='Equilibrate sweep', style=ProgressStyle(description_width='in…"
      ]
     },
     "metadata": {},
     "output_type": "display_data"
    },
    {
     "data": {
      "application/vnd.jupyter.widget-view+json": {
       "model_id": "",
       "version_major": 2,
       "version_minor": 0
      },
      "text/plain": [
       "HBox(children=(IntProgress(value=0, description='Measurement sweep', max=10000, style=ProgressStyle(descriptio…"
      ]
     },
     "metadata": {},
     "output_type": "display_data"
    },
    {
     "data": {
      "application/vnd.jupyter.widget-view+json": {
       "model_id": "",
       "version_major": 2,
       "version_minor": 0
      },
      "text/plain": [
       "HBox(children=(IntProgress(value=0, description='Equilibrate sweep', style=ProgressStyle(description_width='in…"
      ]
     },
     "metadata": {},
     "output_type": "display_data"
    },
    {
     "data": {
      "application/vnd.jupyter.widget-view+json": {
       "model_id": "",
       "version_major": 2,
       "version_minor": 0
      },
      "text/plain": [
       "HBox(children=(IntProgress(value=0, description='Measurement sweep', max=10000, style=ProgressStyle(descriptio…"
      ]
     },
     "metadata": {},
     "output_type": "display_data"
    },
    {
     "data": {
      "application/vnd.jupyter.widget-view+json": {
       "model_id": "",
       "version_major": 2,
       "version_minor": 0
      },
      "text/plain": [
       "HBox(children=(IntProgress(value=0, description='Equilibrate sweep', style=ProgressStyle(description_width='in…"
      ]
     },
     "metadata": {},
     "output_type": "display_data"
    },
    {
     "data": {
      "application/vnd.jupyter.widget-view+json": {
       "model_id": "",
       "version_major": 2,
       "version_minor": 0
      },
      "text/plain": [
       "HBox(children=(IntProgress(value=0, description='Measurement sweep', max=10000, style=ProgressStyle(descriptio…"
      ]
     },
     "metadata": {},
     "output_type": "display_data"
    },
    {
     "data": {
      "application/vnd.jupyter.widget-view+json": {
       "model_id": "",
       "version_major": 2,
       "version_minor": 0
      },
      "text/plain": [
       "HBox(children=(IntProgress(value=0, description='Equilibrate sweep', style=ProgressStyle(description_width='in…"
      ]
     },
     "metadata": {},
     "output_type": "display_data"
    },
    {
     "data": {
      "application/vnd.jupyter.widget-view+json": {
       "model_id": "",
       "version_major": 2,
       "version_minor": 0
      },
      "text/plain": [
       "HBox(children=(IntProgress(value=0, description='Measurement sweep', max=10000, style=ProgressStyle(descriptio…"
      ]
     },
     "metadata": {},
     "output_type": "display_data"
    },
    {
     "data": {
      "application/vnd.jupyter.widget-view+json": {
       "model_id": "",
       "version_major": 2,
       "version_minor": 0
      },
      "text/plain": [
       "HBox(children=(IntProgress(value=0, description='Equilibrate sweep', style=ProgressStyle(description_width='in…"
      ]
     },
     "metadata": {},
     "output_type": "display_data"
    },
    {
     "data": {
      "application/vnd.jupyter.widget-view+json": {
       "model_id": "",
       "version_major": 2,
       "version_minor": 0
      },
      "text/plain": [
       "HBox(children=(IntProgress(value=0, description='Measurement sweep', max=10000, style=ProgressStyle(descriptio…"
      ]
     },
     "metadata": {},
     "output_type": "display_data"
    },
    {
     "data": {
      "application/vnd.jupyter.widget-view+json": {
       "model_id": "",
       "version_major": 2,
       "version_minor": 0
      },
      "text/plain": [
       "HBox(children=(IntProgress(value=0, description='Equilibrate sweep', style=ProgressStyle(description_width='in…"
      ]
     },
     "metadata": {},
     "output_type": "display_data"
    },
    {
     "data": {
      "application/vnd.jupyter.widget-view+json": {
       "model_id": "",
       "version_major": 2,
       "version_minor": 0
      },
      "text/plain": [
       "HBox(children=(IntProgress(value=0, description='Measurement sweep', max=10000, style=ProgressStyle(descriptio…"
      ]
     },
     "metadata": {},
     "output_type": "display_data"
    },
    {
     "data": {
      "application/vnd.jupyter.widget-view+json": {
       "model_id": "",
       "version_major": 2,
       "version_minor": 0
      },
      "text/plain": [
       "HBox(children=(IntProgress(value=0, description='Equilibrate sweep', style=ProgressStyle(description_width='in…"
      ]
     },
     "metadata": {},
     "output_type": "display_data"
    },
    {
     "data": {
      "application/vnd.jupyter.widget-view+json": {
       "model_id": "",
       "version_major": 2,
       "version_minor": 0
      },
      "text/plain": [
       "HBox(children=(IntProgress(value=0, description='Measurement sweep', max=10000, style=ProgressStyle(descriptio…"
      ]
     },
     "metadata": {},
     "output_type": "display_data"
    },
    {
     "data": {
      "application/vnd.jupyter.widget-view+json": {
       "model_id": "",
       "version_major": 2,
       "version_minor": 0
      },
      "text/plain": [
       "HBox(children=(IntProgress(value=0, description='Equilibrate sweep', style=ProgressStyle(description_width='in…"
      ]
     },
     "metadata": {},
     "output_type": "display_data"
    },
    {
     "data": {
      "application/vnd.jupyter.widget-view+json": {
       "model_id": "",
       "version_major": 2,
       "version_minor": 0
      },
      "text/plain": [
       "HBox(children=(IntProgress(value=0, description='Measurement sweep', max=10000, style=ProgressStyle(descriptio…"
      ]
     },
     "metadata": {},
     "output_type": "display_data"
    },
    {
     "data": {
      "application/vnd.jupyter.widget-view+json": {
       "model_id": "",
       "version_major": 2,
       "version_minor": 0
      },
      "text/plain": [
       "HBox(children=(IntProgress(value=0, description='Equilibrate sweep', style=ProgressStyle(description_width='in…"
      ]
     },
     "metadata": {},
     "output_type": "display_data"
    },
    {
     "data": {
      "application/vnd.jupyter.widget-view+json": {
       "model_id": "",
       "version_major": 2,
       "version_minor": 0
      },
      "text/plain": [
       "HBox(children=(IntProgress(value=0, description='Measurement sweep', max=10000, style=ProgressStyle(descriptio…"
      ]
     },
     "metadata": {},
     "output_type": "display_data"
    },
    {
     "data": {
      "application/vnd.jupyter.widget-view+json": {
       "model_id": "",
       "version_major": 2,
       "version_minor": 0
      },
      "text/plain": [
       "HBox(children=(IntProgress(value=0, description='Equilibrate sweep', style=ProgressStyle(description_width='in…"
      ]
     },
     "metadata": {},
     "output_type": "display_data"
    },
    {
     "data": {
      "application/vnd.jupyter.widget-view+json": {
       "model_id": "",
       "version_major": 2,
       "version_minor": 0
      },
      "text/plain": [
       "HBox(children=(IntProgress(value=0, description='Measurement sweep', max=10000, style=ProgressStyle(descriptio…"
      ]
     },
     "metadata": {},
     "output_type": "display_data"
    },
    {
     "data": {
      "application/vnd.jupyter.widget-view+json": {
       "model_id": "",
       "version_major": 2,
       "version_minor": 0
      },
      "text/plain": [
       "HBox(children=(IntProgress(value=0, description='Equilibrate sweep', style=ProgressStyle(description_width='in…"
      ]
     },
     "metadata": {},
     "output_type": "display_data"
    },
    {
     "data": {
      "application/vnd.jupyter.widget-view+json": {
       "model_id": "",
       "version_major": 2,
       "version_minor": 0
      },
      "text/plain": [
       "HBox(children=(IntProgress(value=0, description='Measurement sweep', max=10000, style=ProgressStyle(descriptio…"
      ]
     },
     "metadata": {},
     "output_type": "display_data"
    },
    {
     "data": {
      "application/vnd.jupyter.widget-view+json": {
       "model_id": "",
       "version_major": 2,
       "version_minor": 0
      },
      "text/plain": [
       "HBox(children=(IntProgress(value=0, description='Equilibrate sweep', style=ProgressStyle(description_width='in…"
      ]
     },
     "metadata": {},
     "output_type": "display_data"
    },
    {
     "data": {
      "application/vnd.jupyter.widget-view+json": {
       "model_id": "",
       "version_major": 2,
       "version_minor": 0
      },
      "text/plain": [
       "HBox(children=(IntProgress(value=0, description='Measurement sweep', max=10000, style=ProgressStyle(descriptio…"
      ]
     },
     "metadata": {},
     "output_type": "display_data"
    },
    {
     "data": {
      "application/vnd.jupyter.widget-view+json": {
       "model_id": "",
       "version_major": 2,
       "version_minor": 0
      },
      "text/plain": [
       "HBox(children=(IntProgress(value=0, description='Equilibrate sweep', style=ProgressStyle(description_width='in…"
      ]
     },
     "metadata": {},
     "output_type": "display_data"
    },
    {
     "data": {
      "application/vnd.jupyter.widget-view+json": {
       "model_id": "",
       "version_major": 2,
       "version_minor": 0
      },
      "text/plain": [
       "HBox(children=(IntProgress(value=0, description='Measurement sweep', max=10000, style=ProgressStyle(descriptio…"
      ]
     },
     "metadata": {},
     "output_type": "display_data"
    },
    {
     "data": {
      "application/vnd.jupyter.widget-view+json": {
       "model_id": "",
       "version_major": 2,
       "version_minor": 0
      },
      "text/plain": [
       "HBox(children=(IntProgress(value=0, description='Equilibrate sweep', style=ProgressStyle(description_width='in…"
      ]
     },
     "metadata": {},
     "output_type": "display_data"
    },
    {
     "data": {
      "application/vnd.jupyter.widget-view+json": {
       "model_id": "",
       "version_major": 2,
       "version_minor": 0
      },
      "text/plain": [
       "HBox(children=(IntProgress(value=0, description='Measurement sweep', max=10000, style=ProgressStyle(descriptio…"
      ]
     },
     "metadata": {},
     "output_type": "display_data"
    },
    {
     "name": "stdout",
     "output_type": "stream",
     "text": [
      "\r"
     ]
    },
    {
     "data": {
      "application/javascript": [
       "/* Put everything inside the global mpl namespace */\n",
       "window.mpl = {};\n",
       "\n",
       "\n",
       "mpl.get_websocket_type = function() {\n",
       "    if (typeof(WebSocket) !== 'undefined') {\n",
       "        return WebSocket;\n",
       "    } else if (typeof(MozWebSocket) !== 'undefined') {\n",
       "        return MozWebSocket;\n",
       "    } else {\n",
       "        alert('Your browser does not have WebSocket support.' +\n",
       "              'Please try Chrome, Safari or Firefox ≥ 6. ' +\n",
       "              'Firefox 4 and 5 are also supported but you ' +\n",
       "              'have to enable WebSockets in about:config.');\n",
       "    };\n",
       "}\n",
       "\n",
       "mpl.figure = function(figure_id, websocket, ondownload, parent_element) {\n",
       "    this.id = figure_id;\n",
       "\n",
       "    this.ws = websocket;\n",
       "\n",
       "    this.supports_binary = (this.ws.binaryType != undefined);\n",
       "\n",
       "    if (!this.supports_binary) {\n",
       "        var warnings = document.getElementById(\"mpl-warnings\");\n",
       "        if (warnings) {\n",
       "            warnings.style.display = 'block';\n",
       "            warnings.textContent = (\n",
       "                \"This browser does not support binary websocket messages. \" +\n",
       "                    \"Performance may be slow.\");\n",
       "        }\n",
       "    }\n",
       "\n",
       "    this.imageObj = new Image();\n",
       "\n",
       "    this.context = undefined;\n",
       "    this.message = undefined;\n",
       "    this.canvas = undefined;\n",
       "    this.rubberband_canvas = undefined;\n",
       "    this.rubberband_context = undefined;\n",
       "    this.format_dropdown = undefined;\n",
       "\n",
       "    this.image_mode = 'full';\n",
       "\n",
       "    this.root = $('<div/>');\n",
       "    this._root_extra_style(this.root)\n",
       "    this.root.attr('style', 'display: inline-block');\n",
       "\n",
       "    $(parent_element).append(this.root);\n",
       "\n",
       "    this._init_header(this);\n",
       "    this._init_canvas(this);\n",
       "    this._init_toolbar(this);\n",
       "\n",
       "    var fig = this;\n",
       "\n",
       "    this.waiting = false;\n",
       "\n",
       "    this.ws.onopen =  function () {\n",
       "            fig.send_message(\"supports_binary\", {value: fig.supports_binary});\n",
       "            fig.send_message(\"send_image_mode\", {});\n",
       "            if (mpl.ratio != 1) {\n",
       "                fig.send_message(\"set_dpi_ratio\", {'dpi_ratio': mpl.ratio});\n",
       "            }\n",
       "            fig.send_message(\"refresh\", {});\n",
       "        }\n",
       "\n",
       "    this.imageObj.onload = function() {\n",
       "            if (fig.image_mode == 'full') {\n",
       "                // Full images could contain transparency (where diff images\n",
       "                // almost always do), so we need to clear the canvas so that\n",
       "                // there is no ghosting.\n",
       "                fig.context.clearRect(0, 0, fig.canvas.width, fig.canvas.height);\n",
       "            }\n",
       "            fig.context.drawImage(fig.imageObj, 0, 0);\n",
       "        };\n",
       "\n",
       "    this.imageObj.onunload = function() {\n",
       "        fig.ws.close();\n",
       "    }\n",
       "\n",
       "    this.ws.onmessage = this._make_on_message_function(this);\n",
       "\n",
       "    this.ondownload = ondownload;\n",
       "}\n",
       "\n",
       "mpl.figure.prototype._init_header = function() {\n",
       "    var titlebar = $(\n",
       "        '<div class=\"ui-dialog-titlebar ui-widget-header ui-corner-all ' +\n",
       "        'ui-helper-clearfix\"/>');\n",
       "    var titletext = $(\n",
       "        '<div class=\"ui-dialog-title\" style=\"width: 100%; ' +\n",
       "        'text-align: center; padding: 3px;\"/>');\n",
       "    titlebar.append(titletext)\n",
       "    this.root.append(titlebar);\n",
       "    this.header = titletext[0];\n",
       "}\n",
       "\n",
       "\n",
       "\n",
       "mpl.figure.prototype._canvas_extra_style = function(canvas_div) {\n",
       "\n",
       "}\n",
       "\n",
       "\n",
       "mpl.figure.prototype._root_extra_style = function(canvas_div) {\n",
       "\n",
       "}\n",
       "\n",
       "mpl.figure.prototype._init_canvas = function() {\n",
       "    var fig = this;\n",
       "\n",
       "    var canvas_div = $('<div/>');\n",
       "\n",
       "    canvas_div.attr('style', 'position: relative; clear: both; outline: 0');\n",
       "\n",
       "    function canvas_keyboard_event(event) {\n",
       "        return fig.key_event(event, event['data']);\n",
       "    }\n",
       "\n",
       "    canvas_div.keydown('key_press', canvas_keyboard_event);\n",
       "    canvas_div.keyup('key_release', canvas_keyboard_event);\n",
       "    this.canvas_div = canvas_div\n",
       "    this._canvas_extra_style(canvas_div)\n",
       "    this.root.append(canvas_div);\n",
       "\n",
       "    var canvas = $('<canvas/>');\n",
       "    canvas.addClass('mpl-canvas');\n",
       "    canvas.attr('style', \"left: 0; top: 0; z-index: 0; outline: 0\")\n",
       "\n",
       "    this.canvas = canvas[0];\n",
       "    this.context = canvas[0].getContext(\"2d\");\n",
       "\n",
       "    var backingStore = this.context.backingStorePixelRatio ||\n",
       "\tthis.context.webkitBackingStorePixelRatio ||\n",
       "\tthis.context.mozBackingStorePixelRatio ||\n",
       "\tthis.context.msBackingStorePixelRatio ||\n",
       "\tthis.context.oBackingStorePixelRatio ||\n",
       "\tthis.context.backingStorePixelRatio || 1;\n",
       "\n",
       "    mpl.ratio = (window.devicePixelRatio || 1) / backingStore;\n",
       "\n",
       "    var rubberband = $('<canvas/>');\n",
       "    rubberband.attr('style', \"position: absolute; left: 0; top: 0; z-index: 1;\")\n",
       "\n",
       "    var pass_mouse_events = true;\n",
       "\n",
       "    canvas_div.resizable({\n",
       "        start: function(event, ui) {\n",
       "            pass_mouse_events = false;\n",
       "        },\n",
       "        resize: function(event, ui) {\n",
       "            fig.request_resize(ui.size.width, ui.size.height);\n",
       "        },\n",
       "        stop: function(event, ui) {\n",
       "            pass_mouse_events = true;\n",
       "            fig.request_resize(ui.size.width, ui.size.height);\n",
       "        },\n",
       "    });\n",
       "\n",
       "    function mouse_event_fn(event) {\n",
       "        if (pass_mouse_events)\n",
       "            return fig.mouse_event(event, event['data']);\n",
       "    }\n",
       "\n",
       "    rubberband.mousedown('button_press', mouse_event_fn);\n",
       "    rubberband.mouseup('button_release', mouse_event_fn);\n",
       "    // Throttle sequential mouse events to 1 every 20ms.\n",
       "    rubberband.mousemove('motion_notify', mouse_event_fn);\n",
       "\n",
       "    rubberband.mouseenter('figure_enter', mouse_event_fn);\n",
       "    rubberband.mouseleave('figure_leave', mouse_event_fn);\n",
       "\n",
       "    canvas_div.on(\"wheel\", function (event) {\n",
       "        event = event.originalEvent;\n",
       "        event['data'] = 'scroll'\n",
       "        if (event.deltaY < 0) {\n",
       "            event.step = 1;\n",
       "        } else {\n",
       "            event.step = -1;\n",
       "        }\n",
       "        mouse_event_fn(event);\n",
       "    });\n",
       "\n",
       "    canvas_div.append(canvas);\n",
       "    canvas_div.append(rubberband);\n",
       "\n",
       "    this.rubberband = rubberband;\n",
       "    this.rubberband_canvas = rubberband[0];\n",
       "    this.rubberband_context = rubberband[0].getContext(\"2d\");\n",
       "    this.rubberband_context.strokeStyle = \"#000000\";\n",
       "\n",
       "    this._resize_canvas = function(width, height) {\n",
       "        // Keep the size of the canvas, canvas container, and rubber band\n",
       "        // canvas in synch.\n",
       "        canvas_div.css('width', width)\n",
       "        canvas_div.css('height', height)\n",
       "\n",
       "        canvas.attr('width', width * mpl.ratio);\n",
       "        canvas.attr('height', height * mpl.ratio);\n",
       "        canvas.attr('style', 'width: ' + width + 'px; height: ' + height + 'px;');\n",
       "\n",
       "        rubberband.attr('width', width);\n",
       "        rubberband.attr('height', height);\n",
       "    }\n",
       "\n",
       "    // Set the figure to an initial 600x600px, this will subsequently be updated\n",
       "    // upon first draw.\n",
       "    this._resize_canvas(600, 600);\n",
       "\n",
       "    // Disable right mouse context menu.\n",
       "    $(this.rubberband_canvas).bind(\"contextmenu\",function(e){\n",
       "        return false;\n",
       "    });\n",
       "\n",
       "    function set_focus () {\n",
       "        canvas.focus();\n",
       "        canvas_div.focus();\n",
       "    }\n",
       "\n",
       "    window.setTimeout(set_focus, 100);\n",
       "}\n",
       "\n",
       "mpl.figure.prototype._init_toolbar = function() {\n",
       "    var fig = this;\n",
       "\n",
       "    var nav_element = $('<div/>')\n",
       "    nav_element.attr('style', 'width: 100%');\n",
       "    this.root.append(nav_element);\n",
       "\n",
       "    // Define a callback function for later on.\n",
       "    function toolbar_event(event) {\n",
       "        return fig.toolbar_button_onclick(event['data']);\n",
       "    }\n",
       "    function toolbar_mouse_event(event) {\n",
       "        return fig.toolbar_button_onmouseover(event['data']);\n",
       "    }\n",
       "\n",
       "    for(var toolbar_ind in mpl.toolbar_items) {\n",
       "        var name = mpl.toolbar_items[toolbar_ind][0];\n",
       "        var tooltip = mpl.toolbar_items[toolbar_ind][1];\n",
       "        var image = mpl.toolbar_items[toolbar_ind][2];\n",
       "        var method_name = mpl.toolbar_items[toolbar_ind][3];\n",
       "\n",
       "        if (!name) {\n",
       "            // put a spacer in here.\n",
       "            continue;\n",
       "        }\n",
       "        var button = $('<button/>');\n",
       "        button.addClass('ui-button ui-widget ui-state-default ui-corner-all ' +\n",
       "                        'ui-button-icon-only');\n",
       "        button.attr('role', 'button');\n",
       "        button.attr('aria-disabled', 'false');\n",
       "        button.click(method_name, toolbar_event);\n",
       "        button.mouseover(tooltip, toolbar_mouse_event);\n",
       "\n",
       "        var icon_img = $('<span/>');\n",
       "        icon_img.addClass('ui-button-icon-primary ui-icon');\n",
       "        icon_img.addClass(image);\n",
       "        icon_img.addClass('ui-corner-all');\n",
       "\n",
       "        var tooltip_span = $('<span/>');\n",
       "        tooltip_span.addClass('ui-button-text');\n",
       "        tooltip_span.html(tooltip);\n",
       "\n",
       "        button.append(icon_img);\n",
       "        button.append(tooltip_span);\n",
       "\n",
       "        nav_element.append(button);\n",
       "    }\n",
       "\n",
       "    var fmt_picker_span = $('<span/>');\n",
       "\n",
       "    var fmt_picker = $('<select/>');\n",
       "    fmt_picker.addClass('mpl-toolbar-option ui-widget ui-widget-content');\n",
       "    fmt_picker_span.append(fmt_picker);\n",
       "    nav_element.append(fmt_picker_span);\n",
       "    this.format_dropdown = fmt_picker[0];\n",
       "\n",
       "    for (var ind in mpl.extensions) {\n",
       "        var fmt = mpl.extensions[ind];\n",
       "        var option = $(\n",
       "            '<option/>', {selected: fmt === mpl.default_extension}).html(fmt);\n",
       "        fmt_picker.append(option)\n",
       "    }\n",
       "\n",
       "    // Add hover states to the ui-buttons\n",
       "    $( \".ui-button\" ).hover(\n",
       "        function() { $(this).addClass(\"ui-state-hover\");},\n",
       "        function() { $(this).removeClass(\"ui-state-hover\");}\n",
       "    );\n",
       "\n",
       "    var status_bar = $('<span class=\"mpl-message\"/>');\n",
       "    nav_element.append(status_bar);\n",
       "    this.message = status_bar[0];\n",
       "}\n",
       "\n",
       "mpl.figure.prototype.request_resize = function(x_pixels, y_pixels) {\n",
       "    // Request matplotlib to resize the figure. Matplotlib will then trigger a resize in the client,\n",
       "    // which will in turn request a refresh of the image.\n",
       "    this.send_message('resize', {'width': x_pixels, 'height': y_pixels});\n",
       "}\n",
       "\n",
       "mpl.figure.prototype.send_message = function(type, properties) {\n",
       "    properties['type'] = type;\n",
       "    properties['figure_id'] = this.id;\n",
       "    this.ws.send(JSON.stringify(properties));\n",
       "}\n",
       "\n",
       "mpl.figure.prototype.send_draw_message = function() {\n",
       "    if (!this.waiting) {\n",
       "        this.waiting = true;\n",
       "        this.ws.send(JSON.stringify({type: \"draw\", figure_id: this.id}));\n",
       "    }\n",
       "}\n",
       "\n",
       "\n",
       "mpl.figure.prototype.handle_save = function(fig, msg) {\n",
       "    var format_dropdown = fig.format_dropdown;\n",
       "    var format = format_dropdown.options[format_dropdown.selectedIndex].value;\n",
       "    fig.ondownload(fig, format);\n",
       "}\n",
       "\n",
       "\n",
       "mpl.figure.prototype.handle_resize = function(fig, msg) {\n",
       "    var size = msg['size'];\n",
       "    if (size[0] != fig.canvas.width || size[1] != fig.canvas.height) {\n",
       "        fig._resize_canvas(size[0], size[1]);\n",
       "        fig.send_message(\"refresh\", {});\n",
       "    };\n",
       "}\n",
       "\n",
       "mpl.figure.prototype.handle_rubberband = function(fig, msg) {\n",
       "    var x0 = msg['x0'] / mpl.ratio;\n",
       "    var y0 = (fig.canvas.height - msg['y0']) / mpl.ratio;\n",
       "    var x1 = msg['x1'] / mpl.ratio;\n",
       "    var y1 = (fig.canvas.height - msg['y1']) / mpl.ratio;\n",
       "    x0 = Math.floor(x0) + 0.5;\n",
       "    y0 = Math.floor(y0) + 0.5;\n",
       "    x1 = Math.floor(x1) + 0.5;\n",
       "    y1 = Math.floor(y1) + 0.5;\n",
       "    var min_x = Math.min(x0, x1);\n",
       "    var min_y = Math.min(y0, y1);\n",
       "    var width = Math.abs(x1 - x0);\n",
       "    var height = Math.abs(y1 - y0);\n",
       "\n",
       "    fig.rubberband_context.clearRect(\n",
       "        0, 0, fig.canvas.width, fig.canvas.height);\n",
       "\n",
       "    fig.rubberband_context.strokeRect(min_x, min_y, width, height);\n",
       "}\n",
       "\n",
       "mpl.figure.prototype.handle_figure_label = function(fig, msg) {\n",
       "    // Updates the figure title.\n",
       "    fig.header.textContent = msg['label'];\n",
       "}\n",
       "\n",
       "mpl.figure.prototype.handle_cursor = function(fig, msg) {\n",
       "    var cursor = msg['cursor'];\n",
       "    switch(cursor)\n",
       "    {\n",
       "    case 0:\n",
       "        cursor = 'pointer';\n",
       "        break;\n",
       "    case 1:\n",
       "        cursor = 'default';\n",
       "        break;\n",
       "    case 2:\n",
       "        cursor = 'crosshair';\n",
       "        break;\n",
       "    case 3:\n",
       "        cursor = 'move';\n",
       "        break;\n",
       "    }\n",
       "    fig.rubberband_canvas.style.cursor = cursor;\n",
       "}\n",
       "\n",
       "mpl.figure.prototype.handle_message = function(fig, msg) {\n",
       "    fig.message.textContent = msg['message'];\n",
       "}\n",
       "\n",
       "mpl.figure.prototype.handle_draw = function(fig, msg) {\n",
       "    // Request the server to send over a new figure.\n",
       "    fig.send_draw_message();\n",
       "}\n",
       "\n",
       "mpl.figure.prototype.handle_image_mode = function(fig, msg) {\n",
       "    fig.image_mode = msg['mode'];\n",
       "}\n",
       "\n",
       "mpl.figure.prototype.updated_canvas_event = function() {\n",
       "    // Called whenever the canvas gets updated.\n",
       "    this.send_message(\"ack\", {});\n",
       "}\n",
       "\n",
       "// A function to construct a web socket function for onmessage handling.\n",
       "// Called in the figure constructor.\n",
       "mpl.figure.prototype._make_on_message_function = function(fig) {\n",
       "    return function socket_on_message(evt) {\n",
       "        if (evt.data instanceof Blob) {\n",
       "            /* FIXME: We get \"Resource interpreted as Image but\n",
       "             * transferred with MIME type text/plain:\" errors on\n",
       "             * Chrome.  But how to set the MIME type?  It doesn't seem\n",
       "             * to be part of the websocket stream */\n",
       "            evt.data.type = \"image/png\";\n",
       "\n",
       "            /* Free the memory for the previous frames */\n",
       "            if (fig.imageObj.src) {\n",
       "                (window.URL || window.webkitURL).revokeObjectURL(\n",
       "                    fig.imageObj.src);\n",
       "            }\n",
       "\n",
       "            fig.imageObj.src = (window.URL || window.webkitURL).createObjectURL(\n",
       "                evt.data);\n",
       "            fig.updated_canvas_event();\n",
       "            fig.waiting = false;\n",
       "            return;\n",
       "        }\n",
       "        else if (typeof evt.data === 'string' && evt.data.slice(0, 21) == \"data:image/png;base64\") {\n",
       "            fig.imageObj.src = evt.data;\n",
       "            fig.updated_canvas_event();\n",
       "            fig.waiting = false;\n",
       "            return;\n",
       "        }\n",
       "\n",
       "        var msg = JSON.parse(evt.data);\n",
       "        var msg_type = msg['type'];\n",
       "\n",
       "        // Call the  \"handle_{type}\" callback, which takes\n",
       "        // the figure and JSON message as its only arguments.\n",
       "        try {\n",
       "            var callback = fig[\"handle_\" + msg_type];\n",
       "        } catch (e) {\n",
       "            console.log(\"No handler for the '\" + msg_type + \"' message type: \", msg);\n",
       "            return;\n",
       "        }\n",
       "\n",
       "        if (callback) {\n",
       "            try {\n",
       "                // console.log(\"Handling '\" + msg_type + \"' message: \", msg);\n",
       "                callback(fig, msg);\n",
       "            } catch (e) {\n",
       "                console.log(\"Exception inside the 'handler_\" + msg_type + \"' callback:\", e, e.stack, msg);\n",
       "            }\n",
       "        }\n",
       "    };\n",
       "}\n",
       "\n",
       "// from http://stackoverflow.com/questions/1114465/getting-mouse-location-in-canvas\n",
       "mpl.findpos = function(e) {\n",
       "    //this section is from http://www.quirksmode.org/js/events_properties.html\n",
       "    var targ;\n",
       "    if (!e)\n",
       "        e = window.event;\n",
       "    if (e.target)\n",
       "        targ = e.target;\n",
       "    else if (e.srcElement)\n",
       "        targ = e.srcElement;\n",
       "    if (targ.nodeType == 3) // defeat Safari bug\n",
       "        targ = targ.parentNode;\n",
       "\n",
       "    // jQuery normalizes the pageX and pageY\n",
       "    // pageX,Y are the mouse positions relative to the document\n",
       "    // offset() returns the position of the element relative to the document\n",
       "    var x = e.pageX - $(targ).offset().left;\n",
       "    var y = e.pageY - $(targ).offset().top;\n",
       "\n",
       "    return {\"x\": x, \"y\": y};\n",
       "};\n",
       "\n",
       "/*\n",
       " * return a copy of an object with only non-object keys\n",
       " * we need this to avoid circular references\n",
       " * http://stackoverflow.com/a/24161582/3208463\n",
       " */\n",
       "function simpleKeys (original) {\n",
       "  return Object.keys(original).reduce(function (obj, key) {\n",
       "    if (typeof original[key] !== 'object')\n",
       "        obj[key] = original[key]\n",
       "    return obj;\n",
       "  }, {});\n",
       "}\n",
       "\n",
       "mpl.figure.prototype.mouse_event = function(event, name) {\n",
       "    var canvas_pos = mpl.findpos(event)\n",
       "\n",
       "    if (name === 'button_press')\n",
       "    {\n",
       "        this.canvas.focus();\n",
       "        this.canvas_div.focus();\n",
       "    }\n",
       "\n",
       "    var x = canvas_pos.x * mpl.ratio;\n",
       "    var y = canvas_pos.y * mpl.ratio;\n",
       "\n",
       "    this.send_message(name, {x: x, y: y, button: event.button,\n",
       "                             step: event.step,\n",
       "                             guiEvent: simpleKeys(event)});\n",
       "\n",
       "    /* This prevents the web browser from automatically changing to\n",
       "     * the text insertion cursor when the button is pressed.  We want\n",
       "     * to control all of the cursor setting manually through the\n",
       "     * 'cursor' event from matplotlib */\n",
       "    event.preventDefault();\n",
       "    return false;\n",
       "}\n",
       "\n",
       "mpl.figure.prototype._key_event_extra = function(event, name) {\n",
       "    // Handle any extra behaviour associated with a key event\n",
       "}\n",
       "\n",
       "mpl.figure.prototype.key_event = function(event, name) {\n",
       "\n",
       "    // Prevent repeat events\n",
       "    if (name == 'key_press')\n",
       "    {\n",
       "        if (event.which === this._key)\n",
       "            return;\n",
       "        else\n",
       "            this._key = event.which;\n",
       "    }\n",
       "    if (name == 'key_release')\n",
       "        this._key = null;\n",
       "\n",
       "    var value = '';\n",
       "    if (event.ctrlKey && event.which != 17)\n",
       "        value += \"ctrl+\";\n",
       "    if (event.altKey && event.which != 18)\n",
       "        value += \"alt+\";\n",
       "    if (event.shiftKey && event.which != 16)\n",
       "        value += \"shift+\";\n",
       "\n",
       "    value += 'k';\n",
       "    value += event.which.toString();\n",
       "\n",
       "    this._key_event_extra(event, name);\n",
       "\n",
       "    this.send_message(name, {key: value,\n",
       "                             guiEvent: simpleKeys(event)});\n",
       "    return false;\n",
       "}\n",
       "\n",
       "mpl.figure.prototype.toolbar_button_onclick = function(name) {\n",
       "    if (name == 'download') {\n",
       "        this.handle_save(this, null);\n",
       "    } else {\n",
       "        this.send_message(\"toolbar_button\", {name: name});\n",
       "    }\n",
       "};\n",
       "\n",
       "mpl.figure.prototype.toolbar_button_onmouseover = function(tooltip) {\n",
       "    this.message.textContent = tooltip;\n",
       "};\n",
       "mpl.toolbar_items = [[\"Home\", \"Reset original view\", \"fa fa-home icon-home\", \"home\"], [\"Back\", \"Back to previous view\", \"fa fa-arrow-left icon-arrow-left\", \"back\"], [\"Forward\", \"Forward to next view\", \"fa fa-arrow-right icon-arrow-right\", \"forward\"], [\"\", \"\", \"\", \"\"], [\"Pan\", \"Pan axes with left mouse, zoom with right\", \"fa fa-arrows icon-move\", \"pan\"], [\"Zoom\", \"Zoom to rectangle\", \"fa fa-square-o icon-check-empty\", \"zoom\"], [\"\", \"\", \"\", \"\"], [\"Download\", \"Download plot\", \"fa fa-floppy-o icon-save\", \"download\"]];\n",
       "\n",
       "mpl.extensions = [\"eps\", \"jpeg\", \"pdf\", \"png\", \"ps\", \"raw\", \"svg\", \"tif\"];\n",
       "\n",
       "mpl.default_extension = \"png\";var comm_websocket_adapter = function(comm) {\n",
       "    // Create a \"websocket\"-like object which calls the given IPython comm\n",
       "    // object with the appropriate methods. Currently this is a non binary\n",
       "    // socket, so there is still some room for performance tuning.\n",
       "    var ws = {};\n",
       "\n",
       "    ws.close = function() {\n",
       "        comm.close()\n",
       "    };\n",
       "    ws.send = function(m) {\n",
       "        //console.log('sending', m);\n",
       "        comm.send(m);\n",
       "    };\n",
       "    // Register the callback with on_msg.\n",
       "    comm.on_msg(function(msg) {\n",
       "        //console.log('receiving', msg['content']['data'], msg);\n",
       "        // Pass the mpl event to the overridden (by mpl) onmessage function.\n",
       "        ws.onmessage(msg['content']['data'])\n",
       "    });\n",
       "    return ws;\n",
       "}\n",
       "\n",
       "mpl.mpl_figure_comm = function(comm, msg) {\n",
       "    // This is the function which gets called when the mpl process\n",
       "    // starts-up an IPython Comm through the \"matplotlib\" channel.\n",
       "\n",
       "    var id = msg.content.data.id;\n",
       "    // Get hold of the div created by the display call when the Comm\n",
       "    // socket was opened in Python.\n",
       "    var element = $(\"#\" + id);\n",
       "    var ws_proxy = comm_websocket_adapter(comm)\n",
       "\n",
       "    function ondownload(figure, format) {\n",
       "        window.open(figure.imageObj.src);\n",
       "    }\n",
       "\n",
       "    var fig = new mpl.figure(id, ws_proxy,\n",
       "                           ondownload,\n",
       "                           element.get(0));\n",
       "\n",
       "    // Call onopen now - mpl needs it, as it is assuming we've passed it a real\n",
       "    // web socket which is closed, not our websocket->open comm proxy.\n",
       "    ws_proxy.onopen();\n",
       "\n",
       "    fig.parent_element = element.get(0);\n",
       "    fig.cell_info = mpl.find_output_cell(\"<div id='\" + id + \"'></div>\");\n",
       "    if (!fig.cell_info) {\n",
       "        console.error(\"Failed to find cell for figure\", id, fig);\n",
       "        return;\n",
       "    }\n",
       "\n",
       "    var output_index = fig.cell_info[2]\n",
       "    var cell = fig.cell_info[0];\n",
       "\n",
       "};\n",
       "\n",
       "mpl.figure.prototype.handle_close = function(fig, msg) {\n",
       "    var width = fig.canvas.width/mpl.ratio\n",
       "    fig.root.unbind('remove')\n",
       "\n",
       "    // Update the output cell to use the data from the current canvas.\n",
       "    fig.push_to_output();\n",
       "    var dataURL = fig.canvas.toDataURL();\n",
       "    // Re-enable the keyboard manager in IPython - without this line, in FF,\n",
       "    // the notebook keyboard shortcuts fail.\n",
       "    IPython.keyboard_manager.enable()\n",
       "    $(fig.parent_element).html('<img src=\"' + dataURL + '\" width=\"' + width + '\">');\n",
       "    fig.close_ws(fig, msg);\n",
       "}\n",
       "\n",
       "mpl.figure.prototype.close_ws = function(fig, msg){\n",
       "    fig.send_message('closing', msg);\n",
       "    // fig.ws.close()\n",
       "}\n",
       "\n",
       "mpl.figure.prototype.push_to_output = function(remove_interactive) {\n",
       "    // Turn the data on the canvas into data in the output cell.\n",
       "    var width = this.canvas.width/mpl.ratio\n",
       "    var dataURL = this.canvas.toDataURL();\n",
       "    this.cell_info[1]['text/html'] = '<img src=\"' + dataURL + '\" width=\"' + width + '\">';\n",
       "}\n",
       "\n",
       "mpl.figure.prototype.updated_canvas_event = function() {\n",
       "    // Tell IPython that the notebook contents must change.\n",
       "    IPython.notebook.set_dirty(true);\n",
       "    this.send_message(\"ack\", {});\n",
       "    var fig = this;\n",
       "    // Wait a second, then push the new image to the DOM so\n",
       "    // that it is saved nicely (might be nice to debounce this).\n",
       "    setTimeout(function () { fig.push_to_output() }, 1000);\n",
       "}\n",
       "\n",
       "mpl.figure.prototype._init_toolbar = function() {\n",
       "    var fig = this;\n",
       "\n",
       "    var nav_element = $('<div/>')\n",
       "    nav_element.attr('style', 'width: 100%');\n",
       "    this.root.append(nav_element);\n",
       "\n",
       "    // Define a callback function for later on.\n",
       "    function toolbar_event(event) {\n",
       "        return fig.toolbar_button_onclick(event['data']);\n",
       "    }\n",
       "    function toolbar_mouse_event(event) {\n",
       "        return fig.toolbar_button_onmouseover(event['data']);\n",
       "    }\n",
       "\n",
       "    for(var toolbar_ind in mpl.toolbar_items){\n",
       "        var name = mpl.toolbar_items[toolbar_ind][0];\n",
       "        var tooltip = mpl.toolbar_items[toolbar_ind][1];\n",
       "        var image = mpl.toolbar_items[toolbar_ind][2];\n",
       "        var method_name = mpl.toolbar_items[toolbar_ind][3];\n",
       "\n",
       "        if (!name) { continue; };\n",
       "\n",
       "        var button = $('<button class=\"btn btn-default\" href=\"#\" title=\"' + name + '\"><i class=\"fa ' + image + ' fa-lg\"></i></button>');\n",
       "        button.click(method_name, toolbar_event);\n",
       "        button.mouseover(tooltip, toolbar_mouse_event);\n",
       "        nav_element.append(button);\n",
       "    }\n",
       "\n",
       "    // Add the status bar.\n",
       "    var status_bar = $('<span class=\"mpl-message\" style=\"text-align:right; float: right;\"/>');\n",
       "    nav_element.append(status_bar);\n",
       "    this.message = status_bar[0];\n",
       "\n",
       "    // Add the close button to the window.\n",
       "    var buttongrp = $('<div class=\"btn-group inline pull-right\"></div>');\n",
       "    var button = $('<button class=\"btn btn-mini btn-primary\" href=\"#\" title=\"Stop Interaction\"><i class=\"fa fa-power-off icon-remove icon-large\"></i></button>');\n",
       "    button.click(function (evt) { fig.handle_close(fig, {}); } );\n",
       "    button.mouseover('Stop Interaction', toolbar_mouse_event);\n",
       "    buttongrp.append(button);\n",
       "    var titlebar = this.root.find($('.ui-dialog-titlebar'));\n",
       "    titlebar.prepend(buttongrp);\n",
       "}\n",
       "\n",
       "mpl.figure.prototype._root_extra_style = function(el){\n",
       "    var fig = this\n",
       "    el.on(\"remove\", function(){\n",
       "\tfig.close_ws(fig, {});\n",
       "    });\n",
       "}\n",
       "\n",
       "mpl.figure.prototype._canvas_extra_style = function(el){\n",
       "    // this is important to make the div 'focusable\n",
       "    el.attr('tabindex', 0)\n",
       "    // reach out to IPython and tell the keyboard manager to turn it's self\n",
       "    // off when our div gets focus\n",
       "\n",
       "    // location in version 3\n",
       "    if (IPython.notebook.keyboard_manager) {\n",
       "        IPython.notebook.keyboard_manager.register_events(el);\n",
       "    }\n",
       "    else {\n",
       "        // location in version 2\n",
       "        IPython.keyboard_manager.register_events(el);\n",
       "    }\n",
       "\n",
       "}\n",
       "\n",
       "mpl.figure.prototype._key_event_extra = function(event, name) {\n",
       "    var manager = IPython.notebook.keyboard_manager;\n",
       "    if (!manager)\n",
       "        manager = IPython.keyboard_manager;\n",
       "\n",
       "    // Check for shift+enter\n",
       "    if (event.shiftKey && event.which == 13) {\n",
       "        this.canvas_div.blur();\n",
       "        event.shiftKey = false;\n",
       "        // Send a \"J\" for go to next cell\n",
       "        event.which = 74;\n",
       "        event.keyCode = 74;\n",
       "        manager.command_mode();\n",
       "        manager.handle_keydown(event);\n",
       "    }\n",
       "}\n",
       "\n",
       "mpl.figure.prototype.handle_save = function(fig, msg) {\n",
       "    fig.ondownload(fig, null);\n",
       "}\n",
       "\n",
       "\n",
       "mpl.find_output_cell = function(html_output) {\n",
       "    // Return the cell and output element which can be found *uniquely* in the notebook.\n",
       "    // Note - this is a bit hacky, but it is done because the \"notebook_saving.Notebook\"\n",
       "    // IPython event is triggered only after the cells have been serialised, which for\n",
       "    // our purposes (turning an active figure into a static one), is too late.\n",
       "    var cells = IPython.notebook.get_cells();\n",
       "    var ncells = cells.length;\n",
       "    for (var i=0; i<ncells; i++) {\n",
       "        var cell = cells[i];\n",
       "        if (cell.cell_type === 'code'){\n",
       "            for (var j=0; j<cell.output_area.outputs.length; j++) {\n",
       "                var data = cell.output_area.outputs[j];\n",
       "                if (data.data) {\n",
       "                    // IPython >= 3 moved mimebundle to data attribute of output\n",
       "                    data = data.data;\n",
       "                }\n",
       "                if (data['text/html'] == html_output) {\n",
       "                    return [cell, data, j];\n",
       "                }\n",
       "            }\n",
       "        }\n",
       "    }\n",
       "}\n",
       "\n",
       "// Register the function which deals with the matplotlib target/channel.\n",
       "// The kernel may be null if the page has been refreshed.\n",
       "if (IPython.notebook.kernel != null) {\n",
       "    IPython.notebook.kernel.comm_manager.register_target('matplotlib', mpl.mpl_figure_comm);\n",
       "}\n"
      ],
      "text/plain": [
       "<IPython.core.display.Javascript object>"
      ]
     },
     "metadata": {},
     "output_type": "display_data"
    },
    {
     "data": {
      "text/html": [
       "<img src=\"data:image/png;base64,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\" width=\"640\">"
      ],
      "text/plain": [
       "<IPython.core.display.HTML object>"
      ]
     },
     "metadata": {},
     "output_type": "display_data"
    }
   ],
   "source": [
    "%matplotlib notebook\n",
    "sir_model.phaseDiagram()"
   ]
  },
  {
   "cell_type": "code",
   "execution_count": 4,
   "metadata": {
    "scrolled": true
   },
   "outputs": [
    {
     "data": {
      "application/vnd.jupyter.widget-view+json": {
       "model_id": "",
       "version_major": 2,
       "version_minor": 0
      },
      "text/plain": [
       "HBox(children=(IntProgress(value=0, description='Row', max=20, style=ProgressStyle(description_width='initial'…"
      ]
     },
     "metadata": {},
     "output_type": "display_data"
    },
    {
     "data": {
      "application/vnd.jupyter.widget-view+json": {
       "model_id": "",
       "version_major": 2,
       "version_minor": 0
      },
      "text/plain": [
       "HBox(children=(IntProgress(value=0, description='Col', max=20, style=ProgressStyle(description_width='initial'…"
      ]
     },
     "metadata": {},
     "output_type": "display_data"
    },
    {
     "data": {
      "application/vnd.jupyter.widget-view+json": {
       "model_id": "",
       "version_major": 2,
       "version_minor": 0
      },
      "text/plain": [
       "HBox(children=(IntProgress(value=0, description='Equilibrate sweep', style=ProgressStyle(description_width='in…"
      ]
     },
     "metadata": {},
     "output_type": "display_data"
    },
    {
     "data": {
      "application/vnd.jupyter.widget-view+json": {
       "model_id": "",
       "version_major": 2,
       "version_minor": 0
      },
      "text/plain": [
       "HBox(children=(IntProgress(value=0, description='Measurement sweep', max=10000, style=ProgressStyle(descriptio…"
      ]
     },
     "metadata": {},
     "output_type": "display_data"
    },
    {
     "data": {
      "application/vnd.jupyter.widget-view+json": {
       "model_id": "",
       "version_major": 2,
       "version_minor": 0
      },
      "text/plain": [
       "HBox(children=(IntProgress(value=0, description='Equilibrate sweep', style=ProgressStyle(description_width='in…"
      ]
     },
     "metadata": {},
     "output_type": "display_data"
    },
    {
     "data": {
      "application/vnd.jupyter.widget-view+json": {
       "model_id": "",
       "version_major": 2,
       "version_minor": 0
      },
      "text/plain": [
       "HBox(children=(IntProgress(value=0, description='Measurement sweep', max=10000, style=ProgressStyle(descriptio…"
      ]
     },
     "metadata": {},
     "output_type": "display_data"
    },
    {
     "data": {
      "application/vnd.jupyter.widget-view+json": {
       "model_id": "",
       "version_major": 2,
       "version_minor": 0
      },
      "text/plain": [
       "HBox(children=(IntProgress(value=0, description='Equilibrate sweep', style=ProgressStyle(description_width='in…"
      ]
     },
     "metadata": {},
     "output_type": "display_data"
    },
    {
     "data": {
      "application/vnd.jupyter.widget-view+json": {
       "model_id": "",
       "version_major": 2,
       "version_minor": 0
      },
      "text/plain": [
       "HBox(children=(IntProgress(value=0, description='Measurement sweep', max=10000, style=ProgressStyle(descriptio…"
      ]
     },
     "metadata": {},
     "output_type": "display_data"
    },
    {
     "data": {
      "application/vnd.jupyter.widget-view+json": {
       "model_id": "",
       "version_major": 2,
       "version_minor": 0
      },
      "text/plain": [
       "HBox(children=(IntProgress(value=0, description='Equilibrate sweep', style=ProgressStyle(description_width='in…"
      ]
     },
     "metadata": {},
     "output_type": "display_data"
    },
    {
     "data": {
      "application/vnd.jupyter.widget-view+json": {
       "model_id": "",
       "version_major": 2,
       "version_minor": 0
      },
      "text/plain": [
       "HBox(children=(IntProgress(value=0, description='Measurement sweep', max=10000, style=ProgressStyle(descriptio…"
      ]
     },
     "metadata": {},
     "output_type": "display_data"
    },
    {
     "data": {
      "application/vnd.jupyter.widget-view+json": {
       "model_id": "",
       "version_major": 2,
       "version_minor": 0
      },
      "text/plain": [
       "HBox(children=(IntProgress(value=0, description='Equilibrate sweep', style=ProgressStyle(description_width='in…"
      ]
     },
     "metadata": {},
     "output_type": "display_data"
    },
    {
     "data": {
      "application/vnd.jupyter.widget-view+json": {
       "model_id": "",
       "version_major": 2,
       "version_minor": 0
      },
      "text/plain": [
       "HBox(children=(IntProgress(value=0, description='Measurement sweep', max=10000, style=ProgressStyle(descriptio…"
      ]
     },
     "metadata": {},
     "output_type": "display_data"
    },
    {
     "data": {
      "application/vnd.jupyter.widget-view+json": {
       "model_id": "",
       "version_major": 2,
       "version_minor": 0
      },
      "text/plain": [
       "HBox(children=(IntProgress(value=0, description='Equilibrate sweep', style=ProgressStyle(description_width='in…"
      ]
     },
     "metadata": {},
     "output_type": "display_data"
    },
    {
     "data": {
      "application/vnd.jupyter.widget-view+json": {
       "model_id": "",
       "version_major": 2,
       "version_minor": 0
      },
      "text/plain": [
       "HBox(children=(IntProgress(value=0, description='Measurement sweep', max=10000, style=ProgressStyle(descriptio…"
      ]
     },
     "metadata": {},
     "output_type": "display_data"
    },
    {
     "data": {
      "application/vnd.jupyter.widget-view+json": {
       "model_id": "",
       "version_major": 2,
       "version_minor": 0
      },
      "text/plain": [
       "HBox(children=(IntProgress(value=0, description='Equilibrate sweep', style=ProgressStyle(description_width='in…"
      ]
     },
     "metadata": {},
     "output_type": "display_data"
    },
    {
     "data": {
      "application/vnd.jupyter.widget-view+json": {
       "model_id": "",
       "version_major": 2,
       "version_minor": 0
      },
      "text/plain": [
       "HBox(children=(IntProgress(value=0, description='Measurement sweep', max=10000, style=ProgressStyle(descriptio…"
      ]
     },
     "metadata": {},
     "output_type": "display_data"
    },
    {
     "data": {
      "application/vnd.jupyter.widget-view+json": {
       "model_id": "",
       "version_major": 2,
       "version_minor": 0
      },
      "text/plain": [
       "HBox(children=(IntProgress(value=0, description='Equilibrate sweep', style=ProgressStyle(description_width='in…"
      ]
     },
     "metadata": {},
     "output_type": "display_data"
    },
    {
     "data": {
      "application/vnd.jupyter.widget-view+json": {
       "model_id": "",
       "version_major": 2,
       "version_minor": 0
      },
      "text/plain": [
       "HBox(children=(IntProgress(value=0, description='Measurement sweep', max=10000, style=ProgressStyle(descriptio…"
      ]
     },
     "metadata": {},
     "output_type": "display_data"
    },
    {
     "data": {
      "application/vnd.jupyter.widget-view+json": {
       "model_id": "",
       "version_major": 2,
       "version_minor": 0
      },
      "text/plain": [
       "HBox(children=(IntProgress(value=0, description='Equilibrate sweep', style=ProgressStyle(description_width='in…"
      ]
     },
     "metadata": {},
     "output_type": "display_data"
    },
    {
     "data": {
      "application/vnd.jupyter.widget-view+json": {
       "model_id": "",
       "version_major": 2,
       "version_minor": 0
      },
      "text/plain": [
       "HBox(children=(IntProgress(value=0, description='Measurement sweep', max=10000, style=ProgressStyle(descriptio…"
      ]
     },
     "metadata": {},
     "output_type": "display_data"
    },
    {
     "data": {
      "application/vnd.jupyter.widget-view+json": {
       "model_id": "",
       "version_major": 2,
       "version_minor": 0
      },
      "text/plain": [
       "HBox(children=(IntProgress(value=0, description='Equilibrate sweep', style=ProgressStyle(description_width='in…"
      ]
     },
     "metadata": {},
     "output_type": "display_data"
    },
    {
     "data": {
      "application/vnd.jupyter.widget-view+json": {
       "model_id": "",
       "version_major": 2,
       "version_minor": 0
      },
      "text/plain": [
       "HBox(children=(IntProgress(value=0, description='Measurement sweep', max=10000, style=ProgressStyle(descriptio…"
      ]
     },
     "metadata": {},
     "output_type": "display_data"
    },
    {
     "data": {
      "application/vnd.jupyter.widget-view+json": {
       "model_id": "",
       "version_major": 2,
       "version_minor": 0
      },
      "text/plain": [
       "HBox(children=(IntProgress(value=0, description='Equilibrate sweep', style=ProgressStyle(description_width='in…"
      ]
     },
     "metadata": {},
     "output_type": "display_data"
    },
    {
     "data": {
      "application/vnd.jupyter.widget-view+json": {
       "model_id": "",
       "version_major": 2,
       "version_minor": 0
      },
      "text/plain": [
       "HBox(children=(IntProgress(value=0, description='Measurement sweep', max=10000, style=ProgressStyle(descriptio…"
      ]
     },
     "metadata": {},
     "output_type": "display_data"
    },
    {
     "data": {
      "application/vnd.jupyter.widget-view+json": {
       "model_id": "",
       "version_major": 2,
       "version_minor": 0
      },
      "text/plain": [
       "HBox(children=(IntProgress(value=0, description='Equilibrate sweep', style=ProgressStyle(description_width='in…"
      ]
     },
     "metadata": {},
     "output_type": "display_data"
    },
    {
     "data": {
      "application/vnd.jupyter.widget-view+json": {
       "model_id": "",
       "version_major": 2,
       "version_minor": 0
      },
      "text/plain": [
       "HBox(children=(IntProgress(value=0, description='Measurement sweep', max=10000, style=ProgressStyle(descriptio…"
      ]
     },
     "metadata": {},
     "output_type": "display_data"
    },
    {
     "data": {
      "application/vnd.jupyter.widget-view+json": {
       "model_id": "",
       "version_major": 2,
       "version_minor": 0
      },
      "text/plain": [
       "HBox(children=(IntProgress(value=0, description='Equilibrate sweep', style=ProgressStyle(description_width='in…"
      ]
     },
     "metadata": {},
     "output_type": "display_data"
    },
    {
     "data": {
      "application/vnd.jupyter.widget-view+json": {
       "model_id": "",
       "version_major": 2,
       "version_minor": 0
      },
      "text/plain": [
       "HBox(children=(IntProgress(value=0, description='Measurement sweep', max=10000, style=ProgressStyle(descriptio…"
      ]
     },
     "metadata": {},
     "output_type": "display_data"
    },
    {
     "data": {
      "application/vnd.jupyter.widget-view+json": {
       "model_id": "",
       "version_major": 2,
       "version_minor": 0
      },
      "text/plain": [
       "HBox(children=(IntProgress(value=0, description='Equilibrate sweep', style=ProgressStyle(description_width='in…"
      ]
     },
     "metadata": {},
     "output_type": "display_data"
    },
    {
     "data": {
      "application/vnd.jupyter.widget-view+json": {
       "model_id": "",
       "version_major": 2,
       "version_minor": 0
      },
      "text/plain": [
       "HBox(children=(IntProgress(value=0, description='Measurement sweep', max=10000, style=ProgressStyle(descriptio…"
      ]
     },
     "metadata": {},
     "output_type": "display_data"
    },
    {
     "data": {
      "application/vnd.jupyter.widget-view+json": {
       "model_id": "",
       "version_major": 2,
       "version_minor": 0
      },
      "text/plain": [
       "HBox(children=(IntProgress(value=0, description='Equilibrate sweep', style=ProgressStyle(description_width='in…"
      ]
     },
     "metadata": {},
     "output_type": "display_data"
    },
    {
     "data": {
      "application/vnd.jupyter.widget-view+json": {
       "model_id": "",
       "version_major": 2,
       "version_minor": 0
      },
      "text/plain": [
       "HBox(children=(IntProgress(value=0, description='Measurement sweep', max=10000, style=ProgressStyle(descriptio…"
      ]
     },
     "metadata": {},
     "output_type": "display_data"
    },
    {
     "data": {
      "application/vnd.jupyter.widget-view+json": {
       "model_id": "",
       "version_major": 2,
       "version_minor": 0
      },
      "text/plain": [
       "HBox(children=(IntProgress(value=0, description='Equilibrate sweep', style=ProgressStyle(description_width='in…"
      ]
     },
     "metadata": {},
     "output_type": "display_data"
    },
    {
     "data": {
      "application/vnd.jupyter.widget-view+json": {
       "model_id": "",
       "version_major": 2,
       "version_minor": 0
      },
      "text/plain": [
       "HBox(children=(IntProgress(value=0, description='Measurement sweep', max=10000, style=ProgressStyle(descriptio…"
      ]
     },
     "metadata": {},
     "output_type": "display_data"
    },
    {
     "data": {
      "application/vnd.jupyter.widget-view+json": {
       "model_id": "",
       "version_major": 2,
       "version_minor": 0
      },
      "text/plain": [
       "HBox(children=(IntProgress(value=0, description='Equilibrate sweep', style=ProgressStyle(description_width='in…"
      ]
     },
     "metadata": {},
     "output_type": "display_data"
    },
    {
     "data": {
      "application/vnd.jupyter.widget-view+json": {
       "model_id": "",
       "version_major": 2,
       "version_minor": 0
      },
      "text/plain": [
       "HBox(children=(IntProgress(value=0, description='Measurement sweep', max=10000, style=ProgressStyle(descriptio…"
      ]
     },
     "metadata": {},
     "output_type": "display_data"
    },
    {
     "data": {
      "application/vnd.jupyter.widget-view+json": {
       "model_id": "",
       "version_major": 2,
       "version_minor": 0
      },
      "text/plain": [
       "HBox(children=(IntProgress(value=0, description='Equilibrate sweep', style=ProgressStyle(description_width='in…"
      ]
     },
     "metadata": {},
     "output_type": "display_data"
    },
    {
     "data": {
      "application/vnd.jupyter.widget-view+json": {
       "model_id": "",
       "version_major": 2,
       "version_minor": 0
      },
      "text/plain": [
       "HBox(children=(IntProgress(value=0, description='Measurement sweep', max=10000, style=ProgressStyle(descriptio…"
      ]
     },
     "metadata": {},
     "output_type": "display_data"
    },
    {
     "data": {
      "application/vnd.jupyter.widget-view+json": {
       "model_id": "",
       "version_major": 2,
       "version_minor": 0
      },
      "text/plain": [
       "HBox(children=(IntProgress(value=0, description='Equilibrate sweep', style=ProgressStyle(description_width='in…"
      ]
     },
     "metadata": {},
     "output_type": "display_data"
    },
    {
     "data": {
      "application/vnd.jupyter.widget-view+json": {
       "model_id": "",
       "version_major": 2,
       "version_minor": 0
      },
      "text/plain": [
       "HBox(children=(IntProgress(value=0, description='Measurement sweep', max=10000, style=ProgressStyle(descriptio…"
      ]
     },
     "metadata": {},
     "output_type": "display_data"
    },
    {
     "data": {
      "application/vnd.jupyter.widget-view+json": {
       "model_id": "",
       "version_major": 2,
       "version_minor": 0
      },
      "text/plain": [
       "HBox(children=(IntProgress(value=0, description='Equilibrate sweep', style=ProgressStyle(description_width='in…"
      ]
     },
     "metadata": {},
     "output_type": "display_data"
    },
    {
     "data": {
      "application/vnd.jupyter.widget-view+json": {
       "model_id": "",
       "version_major": 2,
       "version_minor": 0
      },
      "text/plain": [
       "HBox(children=(IntProgress(value=0, description='Measurement sweep', max=10000, style=ProgressStyle(descriptio…"
      ]
     },
     "metadata": {},
     "output_type": "display_data"
    },
    {
     "data": {
      "application/vnd.jupyter.widget-view+json": {
       "model_id": "",
       "version_major": 2,
       "version_minor": 0
      },
      "text/plain": [
       "HBox(children=(IntProgress(value=0, description='Col', max=20, style=ProgressStyle(description_width='initial'…"
      ]
     },
     "metadata": {},
     "output_type": "display_data"
    },
    {
     "data": {
      "application/vnd.jupyter.widget-view+json": {
       "model_id": "",
       "version_major": 2,
       "version_minor": 0
      },
      "text/plain": [
       "HBox(children=(IntProgress(value=0, description='Equilibrate sweep', style=ProgressStyle(description_width='in…"
      ]
     },
     "metadata": {},
     "output_type": "display_data"
    },
    {
     "data": {
      "application/vnd.jupyter.widget-view+json": {
       "model_id": "",
       "version_major": 2,
       "version_minor": 0
      },
      "text/plain": [
       "HBox(children=(IntProgress(value=0, description='Measurement sweep', max=10000, style=ProgressStyle(descriptio…"
      ]
     },
     "metadata": {},
     "output_type": "display_data"
    },
    {
     "data": {
      "application/vnd.jupyter.widget-view+json": {
       "model_id": "",
       "version_major": 2,
       "version_minor": 0
      },
      "text/plain": [
       "HBox(children=(IntProgress(value=0, description='Equilibrate sweep', style=ProgressStyle(description_width='in…"
      ]
     },
     "metadata": {},
     "output_type": "display_data"
    },
    {
     "data": {
      "application/vnd.jupyter.widget-view+json": {
       "model_id": "",
       "version_major": 2,
       "version_minor": 0
      },
      "text/plain": [
       "HBox(children=(IntProgress(value=0, description='Measurement sweep', max=10000, style=ProgressStyle(descriptio…"
      ]
     },
     "metadata": {},
     "output_type": "display_data"
    },
    {
     "data": {
      "application/vnd.jupyter.widget-view+json": {
       "model_id": "",
       "version_major": 2,
       "version_minor": 0
      },
      "text/plain": [
       "HBox(children=(IntProgress(value=0, description='Equilibrate sweep', style=ProgressStyle(description_width='in…"
      ]
     },
     "metadata": {},
     "output_type": "display_data"
    },
    {
     "data": {
      "application/vnd.jupyter.widget-view+json": {
       "model_id": "",
       "version_major": 2,
       "version_minor": 0
      },
      "text/plain": [
       "HBox(children=(IntProgress(value=0, description='Measurement sweep', max=10000, style=ProgressStyle(descriptio…"
      ]
     },
     "metadata": {},
     "output_type": "display_data"
    },
    {
     "data": {
      "application/vnd.jupyter.widget-view+json": {
       "model_id": "",
       "version_major": 2,
       "version_minor": 0
      },
      "text/plain": [
       "HBox(children=(IntProgress(value=0, description='Equilibrate sweep', style=ProgressStyle(description_width='in…"
      ]
     },
     "metadata": {},
     "output_type": "display_data"
    },
    {
     "data": {
      "application/vnd.jupyter.widget-view+json": {
       "model_id": "",
       "version_major": 2,
       "version_minor": 0
      },
      "text/plain": [
       "HBox(children=(IntProgress(value=0, description='Measurement sweep', max=10000, style=ProgressStyle(descriptio…"
      ]
     },
     "metadata": {},
     "output_type": "display_data"
    },
    {
     "data": {
      "application/vnd.jupyter.widget-view+json": {
       "model_id": "",
       "version_major": 2,
       "version_minor": 0
      },
      "text/plain": [
       "HBox(children=(IntProgress(value=0, description='Equilibrate sweep', style=ProgressStyle(description_width='in…"
      ]
     },
     "metadata": {},
     "output_type": "display_data"
    },
    {
     "data": {
      "application/vnd.jupyter.widget-view+json": {
       "model_id": "",
       "version_major": 2,
       "version_minor": 0
      },
      "text/plain": [
       "HBox(children=(IntProgress(value=0, description='Measurement sweep', max=10000, style=ProgressStyle(descriptio…"
      ]
     },
     "metadata": {},
     "output_type": "display_data"
    },
    {
     "data": {
      "application/vnd.jupyter.widget-view+json": {
       "model_id": "",
       "version_major": 2,
       "version_minor": 0
      },
      "text/plain": [
       "HBox(children=(IntProgress(value=0, description='Equilibrate sweep', style=ProgressStyle(description_width='in…"
      ]
     },
     "metadata": {},
     "output_type": "display_data"
    },
    {
     "data": {
      "application/vnd.jupyter.widget-view+json": {
       "model_id": "",
       "version_major": 2,
       "version_minor": 0
      },
      "text/plain": [
       "HBox(children=(IntProgress(value=0, description='Measurement sweep', max=10000, style=ProgressStyle(descriptio…"
      ]
     },
     "metadata": {},
     "output_type": "display_data"
    },
    {
     "data": {
      "application/vnd.jupyter.widget-view+json": {
       "model_id": "",
       "version_major": 2,
       "version_minor": 0
      },
      "text/plain": [
       "HBox(children=(IntProgress(value=0, description='Equilibrate sweep', style=ProgressStyle(description_width='in…"
      ]
     },
     "metadata": {},
     "output_type": "display_data"
    },
    {
     "data": {
      "application/vnd.jupyter.widget-view+json": {
       "model_id": "",
       "version_major": 2,
       "version_minor": 0
      },
      "text/plain": [
       "HBox(children=(IntProgress(value=0, description='Measurement sweep', max=10000, style=ProgressStyle(descriptio…"
      ]
     },
     "metadata": {},
     "output_type": "display_data"
    },
    {
     "data": {
      "application/vnd.jupyter.widget-view+json": {
       "model_id": "",
       "version_major": 2,
       "version_minor": 0
      },
      "text/plain": [
       "HBox(children=(IntProgress(value=0, description='Equilibrate sweep', style=ProgressStyle(description_width='in…"
      ]
     },
     "metadata": {},
     "output_type": "display_data"
    },
    {
     "data": {
      "application/vnd.jupyter.widget-view+json": {
       "model_id": "",
       "version_major": 2,
       "version_minor": 0
      },
      "text/plain": [
       "HBox(children=(IntProgress(value=0, description='Measurement sweep', max=10000, style=ProgressStyle(descriptio…"
      ]
     },
     "metadata": {},
     "output_type": "display_data"
    },
    {
     "data": {
      "application/vnd.jupyter.widget-view+json": {
       "model_id": "",
       "version_major": 2,
       "version_minor": 0
      },
      "text/plain": [
       "HBox(children=(IntProgress(value=0, description='Equilibrate sweep', style=ProgressStyle(description_width='in…"
      ]
     },
     "metadata": {},
     "output_type": "display_data"
    },
    {
     "data": {
      "application/vnd.jupyter.widget-view+json": {
       "model_id": "",
       "version_major": 2,
       "version_minor": 0
      },
      "text/plain": [
       "HBox(children=(IntProgress(value=0, description='Measurement sweep', max=10000, style=ProgressStyle(descriptio…"
      ]
     },
     "metadata": {},
     "output_type": "display_data"
    },
    {
     "data": {
      "application/vnd.jupyter.widget-view+json": {
       "model_id": "",
       "version_major": 2,
       "version_minor": 0
      },
      "text/plain": [
       "HBox(children=(IntProgress(value=0, description='Equilibrate sweep', style=ProgressStyle(description_width='in…"
      ]
     },
     "metadata": {},
     "output_type": "display_data"
    },
    {
     "data": {
      "application/vnd.jupyter.widget-view+json": {
       "model_id": "",
       "version_major": 2,
       "version_minor": 0
      },
      "text/plain": [
       "HBox(children=(IntProgress(value=0, description='Measurement sweep', max=10000, style=ProgressStyle(descriptio…"
      ]
     },
     "metadata": {},
     "output_type": "display_data"
    },
    {
     "data": {
      "application/vnd.jupyter.widget-view+json": {
       "model_id": "",
       "version_major": 2,
       "version_minor": 0
      },
      "text/plain": [
       "HBox(children=(IntProgress(value=0, description='Equilibrate sweep', style=ProgressStyle(description_width='in…"
      ]
     },
     "metadata": {},
     "output_type": "display_data"
    },
    {
     "data": {
      "application/vnd.jupyter.widget-view+json": {
       "model_id": "",
       "version_major": 2,
       "version_minor": 0
      },
      "text/plain": [
       "HBox(children=(IntProgress(value=0, description='Measurement sweep', max=10000, style=ProgressStyle(descriptio…"
      ]
     },
     "metadata": {},
     "output_type": "display_data"
    },
    {
     "data": {
      "application/vnd.jupyter.widget-view+json": {
       "model_id": "",
       "version_major": 2,
       "version_minor": 0
      },
      "text/plain": [
       "HBox(children=(IntProgress(value=0, description='Equilibrate sweep', style=ProgressStyle(description_width='in…"
      ]
     },
     "metadata": {},
     "output_type": "display_data"
    },
    {
     "data": {
      "application/vnd.jupyter.widget-view+json": {
       "model_id": "",
       "version_major": 2,
       "version_minor": 0
      },
      "text/plain": [
       "HBox(children=(IntProgress(value=0, description='Measurement sweep', max=10000, style=ProgressStyle(descriptio…"
      ]
     },
     "metadata": {},
     "output_type": "display_data"
    },
    {
     "data": {
      "application/vnd.jupyter.widget-view+json": {
       "model_id": "",
       "version_major": 2,
       "version_minor": 0
      },
      "text/plain": [
       "HBox(children=(IntProgress(value=0, description='Equilibrate sweep', style=ProgressStyle(description_width='in…"
      ]
     },
     "metadata": {},
     "output_type": "display_data"
    },
    {
     "data": {
      "application/vnd.jupyter.widget-view+json": {
       "model_id": "",
       "version_major": 2,
       "version_minor": 0
      },
      "text/plain": [
       "HBox(children=(IntProgress(value=0, description='Measurement sweep', max=10000, style=ProgressStyle(descriptio…"
      ]
     },
     "metadata": {},
     "output_type": "display_data"
    },
    {
     "data": {
      "application/vnd.jupyter.widget-view+json": {
       "model_id": "",
       "version_major": 2,
       "version_minor": 0
      },
      "text/plain": [
       "HBox(children=(IntProgress(value=0, description='Equilibrate sweep', style=ProgressStyle(description_width='in…"
      ]
     },
     "metadata": {},
     "output_type": "display_data"
    },
    {
     "data": {
      "application/vnd.jupyter.widget-view+json": {
       "model_id": "",
       "version_major": 2,
       "version_minor": 0
      },
      "text/plain": [
       "HBox(children=(IntProgress(value=0, description='Measurement sweep', max=10000, style=ProgressStyle(descriptio…"
      ]
     },
     "metadata": {},
     "output_type": "display_data"
    },
    {
     "data": {
      "application/vnd.jupyter.widget-view+json": {
       "model_id": "",
       "version_major": 2,
       "version_minor": 0
      },
      "text/plain": [
       "HBox(children=(IntProgress(value=0, description='Equilibrate sweep', style=ProgressStyle(description_width='in…"
      ]
     },
     "metadata": {},
     "output_type": "display_data"
    },
    {
     "data": {
      "application/vnd.jupyter.widget-view+json": {
       "model_id": "",
       "version_major": 2,
       "version_minor": 0
      },
      "text/plain": [
       "HBox(children=(IntProgress(value=0, description='Measurement sweep', max=10000, style=ProgressStyle(descriptio…"
      ]
     },
     "metadata": {},
     "output_type": "display_data"
    },
    {
     "data": {
      "application/vnd.jupyter.widget-view+json": {
       "model_id": "",
       "version_major": 2,
       "version_minor": 0
      },
      "text/plain": [
       "HBox(children=(IntProgress(value=0, description='Equilibrate sweep', style=ProgressStyle(description_width='in…"
      ]
     },
     "metadata": {},
     "output_type": "display_data"
    },
    {
     "data": {
      "application/vnd.jupyter.widget-view+json": {
       "model_id": "",
       "version_major": 2,
       "version_minor": 0
      },
      "text/plain": [
       "HBox(children=(IntProgress(value=0, description='Measurement sweep', max=10000, style=ProgressStyle(descriptio…"
      ]
     },
     "metadata": {},
     "output_type": "display_data"
    },
    {
     "data": {
      "application/vnd.jupyter.widget-view+json": {
       "model_id": "",
       "version_major": 2,
       "version_minor": 0
      },
      "text/plain": [
       "HBox(children=(IntProgress(value=0, description='Equilibrate sweep', style=ProgressStyle(description_width='in…"
      ]
     },
     "metadata": {},
     "output_type": "display_data"
    },
    {
     "data": {
      "application/vnd.jupyter.widget-view+json": {
       "model_id": "",
       "version_major": 2,
       "version_minor": 0
      },
      "text/plain": [
       "HBox(children=(IntProgress(value=0, description='Measurement sweep', max=10000, style=ProgressStyle(descriptio…"
      ]
     },
     "metadata": {},
     "output_type": "display_data"
    },
    {
     "data": {
      "application/vnd.jupyter.widget-view+json": {
       "model_id": "",
       "version_major": 2,
       "version_minor": 0
      },
      "text/plain": [
       "HBox(children=(IntProgress(value=0, description='Equilibrate sweep', style=ProgressStyle(description_width='in…"
      ]
     },
     "metadata": {},
     "output_type": "display_data"
    },
    {
     "data": {
      "application/vnd.jupyter.widget-view+json": {
       "model_id": "",
       "version_major": 2,
       "version_minor": 0
      },
      "text/plain": [
       "HBox(children=(IntProgress(value=0, description='Measurement sweep', max=10000, style=ProgressStyle(descriptio…"
      ]
     },
     "metadata": {},
     "output_type": "display_data"
    },
    {
     "data": {
      "application/vnd.jupyter.widget-view+json": {
       "model_id": "",
       "version_major": 2,
       "version_minor": 0
      },
      "text/plain": [
       "HBox(children=(IntProgress(value=0, description='Equilibrate sweep', style=ProgressStyle(description_width='in…"
      ]
     },
     "metadata": {},
     "output_type": "display_data"
    },
    {
     "data": {
      "application/vnd.jupyter.widget-view+json": {
       "model_id": "",
       "version_major": 2,
       "version_minor": 0
      },
      "text/plain": [
       "HBox(children=(IntProgress(value=0, description='Measurement sweep', max=10000, style=ProgressStyle(descriptio…"
      ]
     },
     "metadata": {},
     "output_type": "display_data"
    },
    {
     "data": {
      "application/vnd.jupyter.widget-view+json": {
       "model_id": "",
       "version_major": 2,
       "version_minor": 0
      },
      "text/plain": [
       "HBox(children=(IntProgress(value=0, description='Equilibrate sweep', style=ProgressStyle(description_width='in…"
      ]
     },
     "metadata": {},
     "output_type": "display_data"
    },
    {
     "data": {
      "application/vnd.jupyter.widget-view+json": {
       "model_id": "",
       "version_major": 2,
       "version_minor": 0
      },
      "text/plain": [
       "HBox(children=(IntProgress(value=0, description='Measurement sweep', max=10000, style=ProgressStyle(descriptio…"
      ]
     },
     "metadata": {},
     "output_type": "display_data"
    },
    {
     "data": {
      "application/vnd.jupyter.widget-view+json": {
       "model_id": "",
       "version_major": 2,
       "version_minor": 0
      },
      "text/plain": [
       "HBox(children=(IntProgress(value=0, description='Col', max=20, style=ProgressStyle(description_width='initial'…"
      ]
     },
     "metadata": {},
     "output_type": "display_data"
    },
    {
     "data": {
      "application/vnd.jupyter.widget-view+json": {
       "model_id": "",
       "version_major": 2,
       "version_minor": 0
      },
      "text/plain": [
       "HBox(children=(IntProgress(value=0, description='Equilibrate sweep', style=ProgressStyle(description_width='in…"
      ]
     },
     "metadata": {},
     "output_type": "display_data"
    },
    {
     "data": {
      "application/vnd.jupyter.widget-view+json": {
       "model_id": "",
       "version_major": 2,
       "version_minor": 0
      },
      "text/plain": [
       "HBox(children=(IntProgress(value=0, description='Measurement sweep', max=10000, style=ProgressStyle(descriptio…"
      ]
     },
     "metadata": {},
     "output_type": "display_data"
    },
    {
     "data": {
      "application/vnd.jupyter.widget-view+json": {
       "model_id": "",
       "version_major": 2,
       "version_minor": 0
      },
      "text/plain": [
       "HBox(children=(IntProgress(value=0, description='Equilibrate sweep', style=ProgressStyle(description_width='in…"
      ]
     },
     "metadata": {},
     "output_type": "display_data"
    },
    {
     "data": {
      "application/vnd.jupyter.widget-view+json": {
       "model_id": "",
       "version_major": 2,
       "version_minor": 0
      },
      "text/plain": [
       "HBox(children=(IntProgress(value=0, description='Measurement sweep', max=10000, style=ProgressStyle(descriptio…"
      ]
     },
     "metadata": {},
     "output_type": "display_data"
    },
    {
     "data": {
      "application/vnd.jupyter.widget-view+json": {
       "model_id": "",
       "version_major": 2,
       "version_minor": 0
      },
      "text/plain": [
       "HBox(children=(IntProgress(value=0, description='Equilibrate sweep', style=ProgressStyle(description_width='in…"
      ]
     },
     "metadata": {},
     "output_type": "display_data"
    },
    {
     "data": {
      "application/vnd.jupyter.widget-view+json": {
       "model_id": "",
       "version_major": 2,
       "version_minor": 0
      },
      "text/plain": [
       "HBox(children=(IntProgress(value=0, description='Measurement sweep', max=10000, style=ProgressStyle(descriptio…"
      ]
     },
     "metadata": {},
     "output_type": "display_data"
    },
    {
     "data": {
      "application/vnd.jupyter.widget-view+json": {
       "model_id": "",
       "version_major": 2,
       "version_minor": 0
      },
      "text/plain": [
       "HBox(children=(IntProgress(value=0, description='Equilibrate sweep', style=ProgressStyle(description_width='in…"
      ]
     },
     "metadata": {},
     "output_type": "display_data"
    },
    {
     "data": {
      "application/vnd.jupyter.widget-view+json": {
       "model_id": "",
       "version_major": 2,
       "version_minor": 0
      },
      "text/plain": [
       "HBox(children=(IntProgress(value=0, description='Measurement sweep', max=10000, style=ProgressStyle(descriptio…"
      ]
     },
     "metadata": {},
     "output_type": "display_data"
    },
    {
     "data": {
      "application/vnd.jupyter.widget-view+json": {
       "model_id": "",
       "version_major": 2,
       "version_minor": 0
      },
      "text/plain": [
       "HBox(children=(IntProgress(value=0, description='Equilibrate sweep', style=ProgressStyle(description_width='in…"
      ]
     },
     "metadata": {},
     "output_type": "display_data"
    },
    {
     "data": {
      "application/vnd.jupyter.widget-view+json": {
       "model_id": "",
       "version_major": 2,
       "version_minor": 0
      },
      "text/plain": [
       "HBox(children=(IntProgress(value=0, description='Measurement sweep', max=10000, style=ProgressStyle(descriptio…"
      ]
     },
     "metadata": {},
     "output_type": "display_data"
    },
    {
     "data": {
      "application/vnd.jupyter.widget-view+json": {
       "model_id": "",
       "version_major": 2,
       "version_minor": 0
      },
      "text/plain": [
       "HBox(children=(IntProgress(value=0, description='Equilibrate sweep', style=ProgressStyle(description_width='in…"
      ]
     },
     "metadata": {},
     "output_type": "display_data"
    },
    {
     "data": {
      "application/vnd.jupyter.widget-view+json": {
       "model_id": "",
       "version_major": 2,
       "version_minor": 0
      },
      "text/plain": [
       "HBox(children=(IntProgress(value=0, description='Measurement sweep', max=10000, style=ProgressStyle(descriptio…"
      ]
     },
     "metadata": {},
     "output_type": "display_data"
    },
    {
     "data": {
      "application/vnd.jupyter.widget-view+json": {
       "model_id": "",
       "version_major": 2,
       "version_minor": 0
      },
      "text/plain": [
       "HBox(children=(IntProgress(value=0, description='Equilibrate sweep', style=ProgressStyle(description_width='in…"
      ]
     },
     "metadata": {},
     "output_type": "display_data"
    },
    {
     "data": {
      "application/vnd.jupyter.widget-view+json": {
       "model_id": "",
       "version_major": 2,
       "version_minor": 0
      },
      "text/plain": [
       "HBox(children=(IntProgress(value=0, description='Measurement sweep', max=10000, style=ProgressStyle(descriptio…"
      ]
     },
     "metadata": {},
     "output_type": "display_data"
    },
    {
     "data": {
      "application/vnd.jupyter.widget-view+json": {
       "model_id": "",
       "version_major": 2,
       "version_minor": 0
      },
      "text/plain": [
       "HBox(children=(IntProgress(value=0, description='Equilibrate sweep', style=ProgressStyle(description_width='in…"
      ]
     },
     "metadata": {},
     "output_type": "display_data"
    },
    {
     "data": {
      "application/vnd.jupyter.widget-view+json": {
       "model_id": "",
       "version_major": 2,
       "version_minor": 0
      },
      "text/plain": [
       "HBox(children=(IntProgress(value=0, description='Measurement sweep', max=10000, style=ProgressStyle(descriptio…"
      ]
     },
     "metadata": {},
     "output_type": "display_data"
    },
    {
     "data": {
      "application/vnd.jupyter.widget-view+json": {
       "model_id": "",
       "version_major": 2,
       "version_minor": 0
      },
      "text/plain": [
       "HBox(children=(IntProgress(value=0, description='Equilibrate sweep', style=ProgressStyle(description_width='in…"
      ]
     },
     "metadata": {},
     "output_type": "display_data"
    },
    {
     "data": {
      "application/vnd.jupyter.widget-view+json": {
       "model_id": "",
       "version_major": 2,
       "version_minor": 0
      },
      "text/plain": [
       "HBox(children=(IntProgress(value=0, description='Measurement sweep', max=10000, style=ProgressStyle(descriptio…"
      ]
     },
     "metadata": {},
     "output_type": "display_data"
    },
    {
     "data": {
      "application/vnd.jupyter.widget-view+json": {
       "model_id": "",
       "version_major": 2,
       "version_minor": 0
      },
      "text/plain": [
       "HBox(children=(IntProgress(value=0, description='Equilibrate sweep', style=ProgressStyle(description_width='in…"
      ]
     },
     "metadata": {},
     "output_type": "display_data"
    },
    {
     "data": {
      "application/vnd.jupyter.widget-view+json": {
       "model_id": "",
       "version_major": 2,
       "version_minor": 0
      },
      "text/plain": [
       "HBox(children=(IntProgress(value=0, description='Measurement sweep', max=10000, style=ProgressStyle(descriptio…"
      ]
     },
     "metadata": {},
     "output_type": "display_data"
    },
    {
     "data": {
      "application/vnd.jupyter.widget-view+json": {
       "model_id": "",
       "version_major": 2,
       "version_minor": 0
      },
      "text/plain": [
       "HBox(children=(IntProgress(value=0, description='Equilibrate sweep', style=ProgressStyle(description_width='in…"
      ]
     },
     "metadata": {},
     "output_type": "display_data"
    },
    {
     "data": {
      "application/vnd.jupyter.widget-view+json": {
       "model_id": "",
       "version_major": 2,
       "version_minor": 0
      },
      "text/plain": [
       "HBox(children=(IntProgress(value=0, description='Measurement sweep', max=10000, style=ProgressStyle(descriptio…"
      ]
     },
     "metadata": {},
     "output_type": "display_data"
    },
    {
     "data": {
      "application/vnd.jupyter.widget-view+json": {
       "model_id": "",
       "version_major": 2,
       "version_minor": 0
      },
      "text/plain": [
       "HBox(children=(IntProgress(value=0, description='Equilibrate sweep', style=ProgressStyle(description_width='in…"
      ]
     },
     "metadata": {},
     "output_type": "display_data"
    },
    {
     "data": {
      "application/vnd.jupyter.widget-view+json": {
       "model_id": "",
       "version_major": 2,
       "version_minor": 0
      },
      "text/plain": [
       "HBox(children=(IntProgress(value=0, description='Measurement sweep', max=10000, style=ProgressStyle(descriptio…"
      ]
     },
     "metadata": {},
     "output_type": "display_data"
    },
    {
     "data": {
      "application/vnd.jupyter.widget-view+json": {
       "model_id": "",
       "version_major": 2,
       "version_minor": 0
      },
      "text/plain": [
       "HBox(children=(IntProgress(value=0, description='Equilibrate sweep', style=ProgressStyle(description_width='in…"
      ]
     },
     "metadata": {},
     "output_type": "display_data"
    },
    {
     "data": {
      "application/vnd.jupyter.widget-view+json": {
       "model_id": "",
       "version_major": 2,
       "version_minor": 0
      },
      "text/plain": [
       "HBox(children=(IntProgress(value=0, description='Measurement sweep', max=10000, style=ProgressStyle(descriptio…"
      ]
     },
     "metadata": {},
     "output_type": "display_data"
    },
    {
     "data": {
      "application/vnd.jupyter.widget-view+json": {
       "model_id": "",
       "version_major": 2,
       "version_minor": 0
      },
      "text/plain": [
       "HBox(children=(IntProgress(value=0, description='Equilibrate sweep', style=ProgressStyle(description_width='in…"
      ]
     },
     "metadata": {},
     "output_type": "display_data"
    },
    {
     "data": {
      "application/vnd.jupyter.widget-view+json": {
       "model_id": "",
       "version_major": 2,
       "version_minor": 0
      },
      "text/plain": [
       "HBox(children=(IntProgress(value=0, description='Measurement sweep', max=10000, style=ProgressStyle(descriptio…"
      ]
     },
     "metadata": {},
     "output_type": "display_data"
    },
    {
     "data": {
      "application/vnd.jupyter.widget-view+json": {
       "model_id": "",
       "version_major": 2,
       "version_minor": 0
      },
      "text/plain": [
       "HBox(children=(IntProgress(value=0, description='Equilibrate sweep', style=ProgressStyle(description_width='in…"
      ]
     },
     "metadata": {},
     "output_type": "display_data"
    },
    {
     "data": {
      "application/vnd.jupyter.widget-view+json": {
       "model_id": "",
       "version_major": 2,
       "version_minor": 0
      },
      "text/plain": [
       "HBox(children=(IntProgress(value=0, description='Measurement sweep', max=10000, style=ProgressStyle(descriptio…"
      ]
     },
     "metadata": {},
     "output_type": "display_data"
    },
    {
     "data": {
      "application/vnd.jupyter.widget-view+json": {
       "model_id": "",
       "version_major": 2,
       "version_minor": 0
      },
      "text/plain": [
       "HBox(children=(IntProgress(value=0, description='Equilibrate sweep', style=ProgressStyle(description_width='in…"
      ]
     },
     "metadata": {},
     "output_type": "display_data"
    },
    {
     "data": {
      "application/vnd.jupyter.widget-view+json": {
       "model_id": "",
       "version_major": 2,
       "version_minor": 0
      },
      "text/plain": [
       "HBox(children=(IntProgress(value=0, description='Measurement sweep', max=10000, style=ProgressStyle(descriptio…"
      ]
     },
     "metadata": {},
     "output_type": "display_data"
    },
    {
     "data": {
      "application/vnd.jupyter.widget-view+json": {
       "model_id": "",
       "version_major": 2,
       "version_minor": 0
      },
      "text/plain": [
       "HBox(children=(IntProgress(value=0, description='Equilibrate sweep', style=ProgressStyle(description_width='in…"
      ]
     },
     "metadata": {},
     "output_type": "display_data"
    },
    {
     "data": {
      "application/vnd.jupyter.widget-view+json": {
       "model_id": "",
       "version_major": 2,
       "version_minor": 0
      },
      "text/plain": [
       "HBox(children=(IntProgress(value=0, description='Measurement sweep', max=10000, style=ProgressStyle(descriptio…"
      ]
     },
     "metadata": {},
     "output_type": "display_data"
    },
    {
     "data": {
      "application/vnd.jupyter.widget-view+json": {
       "model_id": "",
       "version_major": 2,
       "version_minor": 0
      },
      "text/plain": [
       "HBox(children=(IntProgress(value=0, description='Equilibrate sweep', style=ProgressStyle(description_width='in…"
      ]
     },
     "metadata": {},
     "output_type": "display_data"
    },
    {
     "data": {
      "application/vnd.jupyter.widget-view+json": {
       "model_id": "",
       "version_major": 2,
       "version_minor": 0
      },
      "text/plain": [
       "HBox(children=(IntProgress(value=0, description='Measurement sweep', max=10000, style=ProgressStyle(descriptio…"
      ]
     },
     "metadata": {},
     "output_type": "display_data"
    },
    {
     "data": {
      "application/vnd.jupyter.widget-view+json": {
       "model_id": "",
       "version_major": 2,
       "version_minor": 0
      },
      "text/plain": [
       "HBox(children=(IntProgress(value=0, description='Equilibrate sweep', style=ProgressStyle(description_width='in…"
      ]
     },
     "metadata": {},
     "output_type": "display_data"
    },
    {
     "data": {
      "application/vnd.jupyter.widget-view+json": {
       "model_id": "",
       "version_major": 2,
       "version_minor": 0
      },
      "text/plain": [
       "HBox(children=(IntProgress(value=0, description='Measurement sweep', max=10000, style=ProgressStyle(descriptio…"
      ]
     },
     "metadata": {},
     "output_type": "display_data"
    },
    {
     "data": {
      "application/vnd.jupyter.widget-view+json": {
       "model_id": "",
       "version_major": 2,
       "version_minor": 0
      },
      "text/plain": [
       "HBox(children=(IntProgress(value=0, description='Equilibrate sweep', style=ProgressStyle(description_width='in…"
      ]
     },
     "metadata": {},
     "output_type": "display_data"
    },
    {
     "data": {
      "application/vnd.jupyter.widget-view+json": {
       "model_id": "",
       "version_major": 2,
       "version_minor": 0
      },
      "text/plain": [
       "HBox(children=(IntProgress(value=0, description='Measurement sweep', max=10000, style=ProgressStyle(descriptio…"
      ]
     },
     "metadata": {},
     "output_type": "display_data"
    },
    {
     "data": {
      "application/vnd.jupyter.widget-view+json": {
       "model_id": "",
       "version_major": 2,
       "version_minor": 0
      },
      "text/plain": [
       "HBox(children=(IntProgress(value=0, description='Col', max=20, style=ProgressStyle(description_width='initial'…"
      ]
     },
     "metadata": {},
     "output_type": "display_data"
    },
    {
     "data": {
      "application/vnd.jupyter.widget-view+json": {
       "model_id": "",
       "version_major": 2,
       "version_minor": 0
      },
      "text/plain": [
       "HBox(children=(IntProgress(value=0, description='Equilibrate sweep', style=ProgressStyle(description_width='in…"
      ]
     },
     "metadata": {},
     "output_type": "display_data"
    },
    {
     "data": {
      "application/vnd.jupyter.widget-view+json": {
       "model_id": "",
       "version_major": 2,
       "version_minor": 0
      },
      "text/plain": [
       "HBox(children=(IntProgress(value=0, description='Measurement sweep', max=10000, style=ProgressStyle(descriptio…"
      ]
     },
     "metadata": {},
     "output_type": "display_data"
    },
    {
     "data": {
      "application/vnd.jupyter.widget-view+json": {
       "model_id": "",
       "version_major": 2,
       "version_minor": 0
      },
      "text/plain": [
       "HBox(children=(IntProgress(value=0, description='Equilibrate sweep', style=ProgressStyle(description_width='in…"
      ]
     },
     "metadata": {},
     "output_type": "display_data"
    },
    {
     "data": {
      "application/vnd.jupyter.widget-view+json": {
       "model_id": "",
       "version_major": 2,
       "version_minor": 0
      },
      "text/plain": [
       "HBox(children=(IntProgress(value=0, description='Measurement sweep', max=10000, style=ProgressStyle(descriptio…"
      ]
     },
     "metadata": {},
     "output_type": "display_data"
    },
    {
     "data": {
      "application/vnd.jupyter.widget-view+json": {
       "model_id": "",
       "version_major": 2,
       "version_minor": 0
      },
      "text/plain": [
       "HBox(children=(IntProgress(value=0, description='Equilibrate sweep', style=ProgressStyle(description_width='in…"
      ]
     },
     "metadata": {},
     "output_type": "display_data"
    },
    {
     "data": {
      "application/vnd.jupyter.widget-view+json": {
       "model_id": "",
       "version_major": 2,
       "version_minor": 0
      },
      "text/plain": [
       "HBox(children=(IntProgress(value=0, description='Measurement sweep', max=10000, style=ProgressStyle(descriptio…"
      ]
     },
     "metadata": {},
     "output_type": "display_data"
    },
    {
     "data": {
      "application/vnd.jupyter.widget-view+json": {
       "model_id": "",
       "version_major": 2,
       "version_minor": 0
      },
      "text/plain": [
       "HBox(children=(IntProgress(value=0, description='Equilibrate sweep', style=ProgressStyle(description_width='in…"
      ]
     },
     "metadata": {},
     "output_type": "display_data"
    },
    {
     "data": {
      "application/vnd.jupyter.widget-view+json": {
       "model_id": "",
       "version_major": 2,
       "version_minor": 0
      },
      "text/plain": [
       "HBox(children=(IntProgress(value=0, description='Measurement sweep', max=10000, style=ProgressStyle(descriptio…"
      ]
     },
     "metadata": {},
     "output_type": "display_data"
    },
    {
     "data": {
      "application/vnd.jupyter.widget-view+json": {
       "model_id": "",
       "version_major": 2,
       "version_minor": 0
      },
      "text/plain": [
       "HBox(children=(IntProgress(value=0, description='Equilibrate sweep', style=ProgressStyle(description_width='in…"
      ]
     },
     "metadata": {},
     "output_type": "display_data"
    },
    {
     "data": {
      "application/vnd.jupyter.widget-view+json": {
       "model_id": "",
       "version_major": 2,
       "version_minor": 0
      },
      "text/plain": [
       "HBox(children=(IntProgress(value=0, description='Measurement sweep', max=10000, style=ProgressStyle(descriptio…"
      ]
     },
     "metadata": {},
     "output_type": "display_data"
    },
    {
     "data": {
      "application/vnd.jupyter.widget-view+json": {
       "model_id": "",
       "version_major": 2,
       "version_minor": 0
      },
      "text/plain": [
       "HBox(children=(IntProgress(value=0, description='Equilibrate sweep', style=ProgressStyle(description_width='in…"
      ]
     },
     "metadata": {},
     "output_type": "display_data"
    },
    {
     "data": {
      "application/vnd.jupyter.widget-view+json": {
       "model_id": "",
       "version_major": 2,
       "version_minor": 0
      },
      "text/plain": [
       "HBox(children=(IntProgress(value=0, description='Measurement sweep', max=10000, style=ProgressStyle(descriptio…"
      ]
     },
     "metadata": {},
     "output_type": "display_data"
    },
    {
     "data": {
      "application/vnd.jupyter.widget-view+json": {
       "model_id": "",
       "version_major": 2,
       "version_minor": 0
      },
      "text/plain": [
       "HBox(children=(IntProgress(value=0, description='Equilibrate sweep', style=ProgressStyle(description_width='in…"
      ]
     },
     "metadata": {},
     "output_type": "display_data"
    },
    {
     "data": {
      "application/vnd.jupyter.widget-view+json": {
       "model_id": "",
       "version_major": 2,
       "version_minor": 0
      },
      "text/plain": [
       "HBox(children=(IntProgress(value=0, description='Measurement sweep', max=10000, style=ProgressStyle(descriptio…"
      ]
     },
     "metadata": {},
     "output_type": "display_data"
    },
    {
     "data": {
      "application/vnd.jupyter.widget-view+json": {
       "model_id": "",
       "version_major": 2,
       "version_minor": 0
      },
      "text/plain": [
       "HBox(children=(IntProgress(value=0, description='Equilibrate sweep', style=ProgressStyle(description_width='in…"
      ]
     },
     "metadata": {},
     "output_type": "display_data"
    },
    {
     "data": {
      "application/vnd.jupyter.widget-view+json": {
       "model_id": "",
       "version_major": 2,
       "version_minor": 0
      },
      "text/plain": [
       "HBox(children=(IntProgress(value=0, description='Measurement sweep', max=10000, style=ProgressStyle(descriptio…"
      ]
     },
     "metadata": {},
     "output_type": "display_data"
    },
    {
     "data": {
      "application/vnd.jupyter.widget-view+json": {
       "model_id": "",
       "version_major": 2,
       "version_minor": 0
      },
      "text/plain": [
       "HBox(children=(IntProgress(value=0, description='Equilibrate sweep', style=ProgressStyle(description_width='in…"
      ]
     },
     "metadata": {},
     "output_type": "display_data"
    },
    {
     "data": {
      "application/vnd.jupyter.widget-view+json": {
       "model_id": "",
       "version_major": 2,
       "version_minor": 0
      },
      "text/plain": [
       "HBox(children=(IntProgress(value=0, description='Measurement sweep', max=10000, style=ProgressStyle(descriptio…"
      ]
     },
     "metadata": {},
     "output_type": "display_data"
    },
    {
     "data": {
      "application/vnd.jupyter.widget-view+json": {
       "model_id": "",
       "version_major": 2,
       "version_minor": 0
      },
      "text/plain": [
       "HBox(children=(IntProgress(value=0, description='Equilibrate sweep', style=ProgressStyle(description_width='in…"
      ]
     },
     "metadata": {},
     "output_type": "display_data"
    },
    {
     "data": {
      "application/vnd.jupyter.widget-view+json": {
       "model_id": "",
       "version_major": 2,
       "version_minor": 0
      },
      "text/plain": [
       "HBox(children=(IntProgress(value=0, description='Measurement sweep', max=10000, style=ProgressStyle(descriptio…"
      ]
     },
     "metadata": {},
     "output_type": "display_data"
    },
    {
     "data": {
      "application/vnd.jupyter.widget-view+json": {
       "model_id": "",
       "version_major": 2,
       "version_minor": 0
      },
      "text/plain": [
       "HBox(children=(IntProgress(value=0, description='Equilibrate sweep', style=ProgressStyle(description_width='in…"
      ]
     },
     "metadata": {},
     "output_type": "display_data"
    },
    {
     "data": {
      "application/vnd.jupyter.widget-view+json": {
       "model_id": "",
       "version_major": 2,
       "version_minor": 0
      },
      "text/plain": [
       "HBox(children=(IntProgress(value=0, description='Measurement sweep', max=10000, style=ProgressStyle(descriptio…"
      ]
     },
     "metadata": {},
     "output_type": "display_data"
    },
    {
     "data": {
      "application/vnd.jupyter.widget-view+json": {
       "model_id": "",
       "version_major": 2,
       "version_minor": 0
      },
      "text/plain": [
       "HBox(children=(IntProgress(value=0, description='Equilibrate sweep', style=ProgressStyle(description_width='in…"
      ]
     },
     "metadata": {},
     "output_type": "display_data"
    },
    {
     "data": {
      "application/vnd.jupyter.widget-view+json": {
       "model_id": "",
       "version_major": 2,
       "version_minor": 0
      },
      "text/plain": [
       "HBox(children=(IntProgress(value=0, description='Measurement sweep', max=10000, style=ProgressStyle(descriptio…"
      ]
     },
     "metadata": {},
     "output_type": "display_data"
    },
    {
     "data": {
      "application/vnd.jupyter.widget-view+json": {
       "model_id": "",
       "version_major": 2,
       "version_minor": 0
      },
      "text/plain": [
       "HBox(children=(IntProgress(value=0, description='Equilibrate sweep', style=ProgressStyle(description_width='in…"
      ]
     },
     "metadata": {},
     "output_type": "display_data"
    },
    {
     "data": {
      "application/vnd.jupyter.widget-view+json": {
       "model_id": "",
       "version_major": 2,
       "version_minor": 0
      },
      "text/plain": [
       "HBox(children=(IntProgress(value=0, description='Measurement sweep', max=10000, style=ProgressStyle(descriptio…"
      ]
     },
     "metadata": {},
     "output_type": "display_data"
    },
    {
     "data": {
      "application/vnd.jupyter.widget-view+json": {
       "model_id": "",
       "version_major": 2,
       "version_minor": 0
      },
      "text/plain": [
       "HBox(children=(IntProgress(value=0, description='Equilibrate sweep', style=ProgressStyle(description_width='in…"
      ]
     },
     "metadata": {},
     "output_type": "display_data"
    },
    {
     "data": {
      "application/vnd.jupyter.widget-view+json": {
       "model_id": "",
       "version_major": 2,
       "version_minor": 0
      },
      "text/plain": [
       "HBox(children=(IntProgress(value=0, description='Measurement sweep', max=10000, style=ProgressStyle(descriptio…"
      ]
     },
     "metadata": {},
     "output_type": "display_data"
    },
    {
     "data": {
      "application/vnd.jupyter.widget-view+json": {
       "model_id": "",
       "version_major": 2,
       "version_minor": 0
      },
      "text/plain": [
       "HBox(children=(IntProgress(value=0, description='Equilibrate sweep', style=ProgressStyle(description_width='in…"
      ]
     },
     "metadata": {},
     "output_type": "display_data"
    },
    {
     "data": {
      "application/vnd.jupyter.widget-view+json": {
       "model_id": "",
       "version_major": 2,
       "version_minor": 0
      },
      "text/plain": [
       "HBox(children=(IntProgress(value=0, description='Measurement sweep', max=10000, style=ProgressStyle(descriptio…"
      ]
     },
     "metadata": {},
     "output_type": "display_data"
    },
    {
     "data": {
      "application/vnd.jupyter.widget-view+json": {
       "model_id": "",
       "version_major": 2,
       "version_minor": 0
      },
      "text/plain": [
       "HBox(children=(IntProgress(value=0, description='Equilibrate sweep', style=ProgressStyle(description_width='in…"
      ]
     },
     "metadata": {},
     "output_type": "display_data"
    },
    {
     "data": {
      "application/vnd.jupyter.widget-view+json": {
       "model_id": "",
       "version_major": 2,
       "version_minor": 0
      },
      "text/plain": [
       "HBox(children=(IntProgress(value=0, description='Measurement sweep', max=10000, style=ProgressStyle(descriptio…"
      ]
     },
     "metadata": {},
     "output_type": "display_data"
    },
    {
     "data": {
      "application/vnd.jupyter.widget-view+json": {
       "model_id": "",
       "version_major": 2,
       "version_minor": 0
      },
      "text/plain": [
       "HBox(children=(IntProgress(value=0, description='Equilibrate sweep', style=ProgressStyle(description_width='in…"
      ]
     },
     "metadata": {},
     "output_type": "display_data"
    },
    {
     "data": {
      "application/vnd.jupyter.widget-view+json": {
       "model_id": "",
       "version_major": 2,
       "version_minor": 0
      },
      "text/plain": [
       "HBox(children=(IntProgress(value=0, description='Measurement sweep', max=10000, style=ProgressStyle(descriptio…"
      ]
     },
     "metadata": {},
     "output_type": "display_data"
    },
    {
     "data": {
      "application/vnd.jupyter.widget-view+json": {
       "model_id": "",
       "version_major": 2,
       "version_minor": 0
      },
      "text/plain": [
       "HBox(children=(IntProgress(value=0, description='Equilibrate sweep', style=ProgressStyle(description_width='in…"
      ]
     },
     "metadata": {},
     "output_type": "display_data"
    },
    {
     "data": {
      "application/vnd.jupyter.widget-view+json": {
       "model_id": "",
       "version_major": 2,
       "version_minor": 0
      },
      "text/plain": [
       "HBox(children=(IntProgress(value=0, description='Measurement sweep', max=10000, style=ProgressStyle(descriptio…"
      ]
     },
     "metadata": {},
     "output_type": "display_data"
    },
    {
     "data": {
      "application/vnd.jupyter.widget-view+json": {
       "model_id": "",
       "version_major": 2,
       "version_minor": 0
      },
      "text/plain": [
       "HBox(children=(IntProgress(value=0, description='Equilibrate sweep', style=ProgressStyle(description_width='in…"
      ]
     },
     "metadata": {},
     "output_type": "display_data"
    },
    {
     "data": {
      "application/vnd.jupyter.widget-view+json": {
       "model_id": "",
       "version_major": 2,
       "version_minor": 0
      },
      "text/plain": [
       "HBox(children=(IntProgress(value=0, description='Measurement sweep', max=10000, style=ProgressStyle(descriptio…"
      ]
     },
     "metadata": {},
     "output_type": "display_data"
    },
    {
     "data": {
      "application/vnd.jupyter.widget-view+json": {
       "model_id": "",
       "version_major": 2,
       "version_minor": 0
      },
      "text/plain": [
       "HBox(children=(IntProgress(value=0, description='Equilibrate sweep', style=ProgressStyle(description_width='in…"
      ]
     },
     "metadata": {},
     "output_type": "display_data"
    },
    {
     "data": {
      "application/vnd.jupyter.widget-view+json": {
       "model_id": "",
       "version_major": 2,
       "version_minor": 0
      },
      "text/plain": [
       "HBox(children=(IntProgress(value=0, description='Measurement sweep', max=10000, style=ProgressStyle(descriptio…"
      ]
     },
     "metadata": {},
     "output_type": "display_data"
    },
    {
     "data": {
      "application/vnd.jupyter.widget-view+json": {
       "model_id": "",
       "version_major": 2,
       "version_minor": 0
      },
      "text/plain": [
       "HBox(children=(IntProgress(value=0, description='Col', max=20, style=ProgressStyle(description_width='initial'…"
      ]
     },
     "metadata": {},
     "output_type": "display_data"
    },
    {
     "data": {
      "application/vnd.jupyter.widget-view+json": {
       "model_id": "",
       "version_major": 2,
       "version_minor": 0
      },
      "text/plain": [
       "HBox(children=(IntProgress(value=0, description='Equilibrate sweep', style=ProgressStyle(description_width='in…"
      ]
     },
     "metadata": {},
     "output_type": "display_data"
    },
    {
     "data": {
      "application/vnd.jupyter.widget-view+json": {
       "model_id": "",
       "version_major": 2,
       "version_minor": 0
      },
      "text/plain": [
       "HBox(children=(IntProgress(value=0, description='Measurement sweep', max=10000, style=ProgressStyle(descriptio…"
      ]
     },
     "metadata": {},
     "output_type": "display_data"
    },
    {
     "data": {
      "application/vnd.jupyter.widget-view+json": {
       "model_id": "",
       "version_major": 2,
       "version_minor": 0
      },
      "text/plain": [
       "HBox(children=(IntProgress(value=0, description='Equilibrate sweep', style=ProgressStyle(description_width='in…"
      ]
     },
     "metadata": {},
     "output_type": "display_data"
    },
    {
     "data": {
      "application/vnd.jupyter.widget-view+json": {
       "model_id": "",
       "version_major": 2,
       "version_minor": 0
      },
      "text/plain": [
       "HBox(children=(IntProgress(value=0, description='Measurement sweep', max=10000, style=ProgressStyle(descriptio…"
      ]
     },
     "metadata": {},
     "output_type": "display_data"
    },
    {
     "data": {
      "application/vnd.jupyter.widget-view+json": {
       "model_id": "",
       "version_major": 2,
       "version_minor": 0
      },
      "text/plain": [
       "HBox(children=(IntProgress(value=0, description='Equilibrate sweep', style=ProgressStyle(description_width='in…"
      ]
     },
     "metadata": {},
     "output_type": "display_data"
    },
    {
     "data": {
      "application/vnd.jupyter.widget-view+json": {
       "model_id": "",
       "version_major": 2,
       "version_minor": 0
      },
      "text/plain": [
       "HBox(children=(IntProgress(value=0, description='Measurement sweep', max=10000, style=ProgressStyle(descriptio…"
      ]
     },
     "metadata": {},
     "output_type": "display_data"
    },
    {
     "data": {
      "application/vnd.jupyter.widget-view+json": {
       "model_id": "",
       "version_major": 2,
       "version_minor": 0
      },
      "text/plain": [
       "HBox(children=(IntProgress(value=0, description='Equilibrate sweep', style=ProgressStyle(description_width='in…"
      ]
     },
     "metadata": {},
     "output_type": "display_data"
    },
    {
     "data": {
      "application/vnd.jupyter.widget-view+json": {
       "model_id": "",
       "version_major": 2,
       "version_minor": 0
      },
      "text/plain": [
       "HBox(children=(IntProgress(value=0, description='Measurement sweep', max=10000, style=ProgressStyle(descriptio…"
      ]
     },
     "metadata": {},
     "output_type": "display_data"
    },
    {
     "data": {
      "application/vnd.jupyter.widget-view+json": {
       "model_id": "",
       "version_major": 2,
       "version_minor": 0
      },
      "text/plain": [
       "HBox(children=(IntProgress(value=0, description='Equilibrate sweep', style=ProgressStyle(description_width='in…"
      ]
     },
     "metadata": {},
     "output_type": "display_data"
    },
    {
     "data": {
      "application/vnd.jupyter.widget-view+json": {
       "model_id": "",
       "version_major": 2,
       "version_minor": 0
      },
      "text/plain": [
       "HBox(children=(IntProgress(value=0, description='Measurement sweep', max=10000, style=ProgressStyle(descriptio…"
      ]
     },
     "metadata": {},
     "output_type": "display_data"
    },
    {
     "data": {
      "application/vnd.jupyter.widget-view+json": {
       "model_id": "",
       "version_major": 2,
       "version_minor": 0
      },
      "text/plain": [
       "HBox(children=(IntProgress(value=0, description='Equilibrate sweep', style=ProgressStyle(description_width='in…"
      ]
     },
     "metadata": {},
     "output_type": "display_data"
    },
    {
     "data": {
      "application/vnd.jupyter.widget-view+json": {
       "model_id": "",
       "version_major": 2,
       "version_minor": 0
      },
      "text/plain": [
       "HBox(children=(IntProgress(value=0, description='Measurement sweep', max=10000, style=ProgressStyle(descriptio…"
      ]
     },
     "metadata": {},
     "output_type": "display_data"
    },
    {
     "data": {
      "application/vnd.jupyter.widget-view+json": {
       "model_id": "",
       "version_major": 2,
       "version_minor": 0
      },
      "text/plain": [
       "HBox(children=(IntProgress(value=0, description='Equilibrate sweep', style=ProgressStyle(description_width='in…"
      ]
     },
     "metadata": {},
     "output_type": "display_data"
    },
    {
     "data": {
      "application/vnd.jupyter.widget-view+json": {
       "model_id": "",
       "version_major": 2,
       "version_minor": 0
      },
      "text/plain": [
       "HBox(children=(IntProgress(value=0, description='Measurement sweep', max=10000, style=ProgressStyle(descriptio…"
      ]
     },
     "metadata": {},
     "output_type": "display_data"
    },
    {
     "data": {
      "application/vnd.jupyter.widget-view+json": {
       "model_id": "",
       "version_major": 2,
       "version_minor": 0
      },
      "text/plain": [
       "HBox(children=(IntProgress(value=0, description='Equilibrate sweep', style=ProgressStyle(description_width='in…"
      ]
     },
     "metadata": {},
     "output_type": "display_data"
    },
    {
     "data": {
      "application/vnd.jupyter.widget-view+json": {
       "model_id": "",
       "version_major": 2,
       "version_minor": 0
      },
      "text/plain": [
       "HBox(children=(IntProgress(value=0, description='Measurement sweep', max=10000, style=ProgressStyle(descriptio…"
      ]
     },
     "metadata": {},
     "output_type": "display_data"
    },
    {
     "data": {
      "application/vnd.jupyter.widget-view+json": {
       "model_id": "",
       "version_major": 2,
       "version_minor": 0
      },
      "text/plain": [
       "HBox(children=(IntProgress(value=0, description='Equilibrate sweep', style=ProgressStyle(description_width='in…"
      ]
     },
     "metadata": {},
     "output_type": "display_data"
    },
    {
     "data": {
      "application/vnd.jupyter.widget-view+json": {
       "model_id": "",
       "version_major": 2,
       "version_minor": 0
      },
      "text/plain": [
       "HBox(children=(IntProgress(value=0, description='Measurement sweep', max=10000, style=ProgressStyle(descriptio…"
      ]
     },
     "metadata": {},
     "output_type": "display_data"
    },
    {
     "data": {
      "application/vnd.jupyter.widget-view+json": {
       "model_id": "",
       "version_major": 2,
       "version_minor": 0
      },
      "text/plain": [
       "HBox(children=(IntProgress(value=0, description='Equilibrate sweep', style=ProgressStyle(description_width='in…"
      ]
     },
     "metadata": {},
     "output_type": "display_data"
    },
    {
     "data": {
      "application/vnd.jupyter.widget-view+json": {
       "model_id": "",
       "version_major": 2,
       "version_minor": 0
      },
      "text/plain": [
       "HBox(children=(IntProgress(value=0, description='Measurement sweep', max=10000, style=ProgressStyle(descriptio…"
      ]
     },
     "metadata": {},
     "output_type": "display_data"
    },
    {
     "data": {
      "application/vnd.jupyter.widget-view+json": {
       "model_id": "",
       "version_major": 2,
       "version_minor": 0
      },
      "text/plain": [
       "HBox(children=(IntProgress(value=0, description='Equilibrate sweep', style=ProgressStyle(description_width='in…"
      ]
     },
     "metadata": {},
     "output_type": "display_data"
    },
    {
     "data": {
      "application/vnd.jupyter.widget-view+json": {
       "model_id": "",
       "version_major": 2,
       "version_minor": 0
      },
      "text/plain": [
       "HBox(children=(IntProgress(value=0, description='Measurement sweep', max=10000, style=ProgressStyle(descriptio…"
      ]
     },
     "metadata": {},
     "output_type": "display_data"
    },
    {
     "data": {
      "application/vnd.jupyter.widget-view+json": {
       "model_id": "",
       "version_major": 2,
       "version_minor": 0
      },
      "text/plain": [
       "HBox(children=(IntProgress(value=0, description='Equilibrate sweep', style=ProgressStyle(description_width='in…"
      ]
     },
     "metadata": {},
     "output_type": "display_data"
    },
    {
     "data": {
      "application/vnd.jupyter.widget-view+json": {
       "model_id": "",
       "version_major": 2,
       "version_minor": 0
      },
      "text/plain": [
       "HBox(children=(IntProgress(value=0, description='Measurement sweep', max=10000, style=ProgressStyle(descriptio…"
      ]
     },
     "metadata": {},
     "output_type": "display_data"
    },
    {
     "data": {
      "application/vnd.jupyter.widget-view+json": {
       "model_id": "",
       "version_major": 2,
       "version_minor": 0
      },
      "text/plain": [
       "HBox(children=(IntProgress(value=0, description='Equilibrate sweep', style=ProgressStyle(description_width='in…"
      ]
     },
     "metadata": {},
     "output_type": "display_data"
    },
    {
     "data": {
      "application/vnd.jupyter.widget-view+json": {
       "model_id": "",
       "version_major": 2,
       "version_minor": 0
      },
      "text/plain": [
       "HBox(children=(IntProgress(value=0, description='Measurement sweep', max=10000, style=ProgressStyle(descriptio…"
      ]
     },
     "metadata": {},
     "output_type": "display_data"
    },
    {
     "data": {
      "application/vnd.jupyter.widget-view+json": {
       "model_id": "",
       "version_major": 2,
       "version_minor": 0
      },
      "text/plain": [
       "HBox(children=(IntProgress(value=0, description='Equilibrate sweep', style=ProgressStyle(description_width='in…"
      ]
     },
     "metadata": {},
     "output_type": "display_data"
    },
    {
     "data": {
      "application/vnd.jupyter.widget-view+json": {
       "model_id": "",
       "version_major": 2,
       "version_minor": 0
      },
      "text/plain": [
       "HBox(children=(IntProgress(value=0, description='Measurement sweep', max=10000, style=ProgressStyle(descriptio…"
      ]
     },
     "metadata": {},
     "output_type": "display_data"
    },
    {
     "data": {
      "application/vnd.jupyter.widget-view+json": {
       "model_id": "",
       "version_major": 2,
       "version_minor": 0
      },
      "text/plain": [
       "HBox(children=(IntProgress(value=0, description='Equilibrate sweep', style=ProgressStyle(description_width='in…"
      ]
     },
     "metadata": {},
     "output_type": "display_data"
    },
    {
     "data": {
      "application/vnd.jupyter.widget-view+json": {
       "model_id": "",
       "version_major": 2,
       "version_minor": 0
      },
      "text/plain": [
       "HBox(children=(IntProgress(value=0, description='Measurement sweep', max=10000, style=ProgressStyle(descriptio…"
      ]
     },
     "metadata": {},
     "output_type": "display_data"
    },
    {
     "data": {
      "application/vnd.jupyter.widget-view+json": {
       "model_id": "",
       "version_major": 2,
       "version_minor": 0
      },
      "text/plain": [
       "HBox(children=(IntProgress(value=0, description='Equilibrate sweep', style=ProgressStyle(description_width='in…"
      ]
     },
     "metadata": {},
     "output_type": "display_data"
    },
    {
     "data": {
      "application/vnd.jupyter.widget-view+json": {
       "model_id": "",
       "version_major": 2,
       "version_minor": 0
      },
      "text/plain": [
       "HBox(children=(IntProgress(value=0, description='Measurement sweep', max=10000, style=ProgressStyle(descriptio…"
      ]
     },
     "metadata": {},
     "output_type": "display_data"
    },
    {
     "data": {
      "application/vnd.jupyter.widget-view+json": {
       "model_id": "",
       "version_major": 2,
       "version_minor": 0
      },
      "text/plain": [
       "HBox(children=(IntProgress(value=0, description='Equilibrate sweep', style=ProgressStyle(description_width='in…"
      ]
     },
     "metadata": {},
     "output_type": "display_data"
    },
    {
     "data": {
      "application/vnd.jupyter.widget-view+json": {
       "model_id": "",
       "version_major": 2,
       "version_minor": 0
      },
      "text/plain": [
       "HBox(children=(IntProgress(value=0, description='Measurement sweep', max=10000, style=ProgressStyle(descriptio…"
      ]
     },
     "metadata": {},
     "output_type": "display_data"
    },
    {
     "data": {
      "application/vnd.jupyter.widget-view+json": {
       "model_id": "",
       "version_major": 2,
       "version_minor": 0
      },
      "text/plain": [
       "HBox(children=(IntProgress(value=0, description='Equilibrate sweep', style=ProgressStyle(description_width='in…"
      ]
     },
     "metadata": {},
     "output_type": "display_data"
    },
    {
     "data": {
      "application/vnd.jupyter.widget-view+json": {
       "model_id": "",
       "version_major": 2,
       "version_minor": 0
      },
      "text/plain": [
       "HBox(children=(IntProgress(value=0, description='Measurement sweep', max=10000, style=ProgressStyle(descriptio…"
      ]
     },
     "metadata": {},
     "output_type": "display_data"
    },
    {
     "data": {
      "application/vnd.jupyter.widget-view+json": {
       "model_id": "",
       "version_major": 2,
       "version_minor": 0
      },
      "text/plain": [
       "HBox(children=(IntProgress(value=0, description='Equilibrate sweep', style=ProgressStyle(description_width='in…"
      ]
     },
     "metadata": {},
     "output_type": "display_data"
    },
    {
     "data": {
      "application/vnd.jupyter.widget-view+json": {
       "model_id": "",
       "version_major": 2,
       "version_minor": 0
      },
      "text/plain": [
       "HBox(children=(IntProgress(value=0, description='Measurement sweep', max=10000, style=ProgressStyle(descriptio…"
      ]
     },
     "metadata": {},
     "output_type": "display_data"
    },
    {
     "data": {
      "application/vnd.jupyter.widget-view+json": {
       "model_id": "",
       "version_major": 2,
       "version_minor": 0
      },
      "text/plain": [
       "HBox(children=(IntProgress(value=0, description='Equilibrate sweep', style=ProgressStyle(description_width='in…"
      ]
     },
     "metadata": {},
     "output_type": "display_data"
    },
    {
     "data": {
      "application/vnd.jupyter.widget-view+json": {
       "model_id": "",
       "version_major": 2,
       "version_minor": 0
      },
      "text/plain": [
       "HBox(children=(IntProgress(value=0, description='Measurement sweep', max=10000, style=ProgressStyle(descriptio…"
      ]
     },
     "metadata": {},
     "output_type": "display_data"
    },
    {
     "data": {
      "application/vnd.jupyter.widget-view+json": {
       "model_id": "",
       "version_major": 2,
       "version_minor": 0
      },
      "text/plain": [
       "HBox(children=(IntProgress(value=0, description='Col', max=20, style=ProgressStyle(description_width='initial'…"
      ]
     },
     "metadata": {},
     "output_type": "display_data"
    },
    {
     "data": {
      "application/vnd.jupyter.widget-view+json": {
       "model_id": "",
       "version_major": 2,
       "version_minor": 0
      },
      "text/plain": [
       "HBox(children=(IntProgress(value=0, description='Equilibrate sweep', style=ProgressStyle(description_width='in…"
      ]
     },
     "metadata": {},
     "output_type": "display_data"
    },
    {
     "data": {
      "application/vnd.jupyter.widget-view+json": {
       "model_id": "",
       "version_major": 2,
       "version_minor": 0
      },
      "text/plain": [
       "HBox(children=(IntProgress(value=0, description='Measurement sweep', max=10000, style=ProgressStyle(descriptio…"
      ]
     },
     "metadata": {},
     "output_type": "display_data"
    },
    {
     "data": {
      "application/vnd.jupyter.widget-view+json": {
       "model_id": "",
       "version_major": 2,
       "version_minor": 0
      },
      "text/plain": [
       "HBox(children=(IntProgress(value=0, description='Equilibrate sweep', style=ProgressStyle(description_width='in…"
      ]
     },
     "metadata": {},
     "output_type": "display_data"
    },
    {
     "data": {
      "application/vnd.jupyter.widget-view+json": {
       "model_id": "",
       "version_major": 2,
       "version_minor": 0
      },
      "text/plain": [
       "HBox(children=(IntProgress(value=0, description='Measurement sweep', max=10000, style=ProgressStyle(descriptio…"
      ]
     },
     "metadata": {},
     "output_type": "display_data"
    },
    {
     "data": {
      "application/vnd.jupyter.widget-view+json": {
       "model_id": "",
       "version_major": 2,
       "version_minor": 0
      },
      "text/plain": [
       "HBox(children=(IntProgress(value=0, description='Equilibrate sweep', style=ProgressStyle(description_width='in…"
      ]
     },
     "metadata": {},
     "output_type": "display_data"
    },
    {
     "data": {
      "application/vnd.jupyter.widget-view+json": {
       "model_id": "",
       "version_major": 2,
       "version_minor": 0
      },
      "text/plain": [
       "HBox(children=(IntProgress(value=0, description='Measurement sweep', max=10000, style=ProgressStyle(descriptio…"
      ]
     },
     "metadata": {},
     "output_type": "display_data"
    },
    {
     "data": {
      "application/vnd.jupyter.widget-view+json": {
       "model_id": "",
       "version_major": 2,
       "version_minor": 0
      },
      "text/plain": [
       "HBox(children=(IntProgress(value=0, description='Equilibrate sweep', style=ProgressStyle(description_width='in…"
      ]
     },
     "metadata": {},
     "output_type": "display_data"
    },
    {
     "data": {
      "application/vnd.jupyter.widget-view+json": {
       "model_id": "",
       "version_major": 2,
       "version_minor": 0
      },
      "text/plain": [
       "HBox(children=(IntProgress(value=0, description='Measurement sweep', max=10000, style=ProgressStyle(descriptio…"
      ]
     },
     "metadata": {},
     "output_type": "display_data"
    },
    {
     "data": {
      "application/vnd.jupyter.widget-view+json": {
       "model_id": "",
       "version_major": 2,
       "version_minor": 0
      },
      "text/plain": [
       "HBox(children=(IntProgress(value=0, description='Equilibrate sweep', style=ProgressStyle(description_width='in…"
      ]
     },
     "metadata": {},
     "output_type": "display_data"
    },
    {
     "data": {
      "application/vnd.jupyter.widget-view+json": {
       "model_id": "",
       "version_major": 2,
       "version_minor": 0
      },
      "text/plain": [
       "HBox(children=(IntProgress(value=0, description='Measurement sweep', max=10000, style=ProgressStyle(descriptio…"
      ]
     },
     "metadata": {},
     "output_type": "display_data"
    },
    {
     "data": {
      "application/vnd.jupyter.widget-view+json": {
       "model_id": "",
       "version_major": 2,
       "version_minor": 0
      },
      "text/plain": [
       "HBox(children=(IntProgress(value=0, description='Equilibrate sweep', style=ProgressStyle(description_width='in…"
      ]
     },
     "metadata": {},
     "output_type": "display_data"
    },
    {
     "data": {
      "application/vnd.jupyter.widget-view+json": {
       "model_id": "",
       "version_major": 2,
       "version_minor": 0
      },
      "text/plain": [
       "HBox(children=(IntProgress(value=0, description='Measurement sweep', max=10000, style=ProgressStyle(descriptio…"
      ]
     },
     "metadata": {},
     "output_type": "display_data"
    },
    {
     "data": {
      "application/vnd.jupyter.widget-view+json": {
       "model_id": "",
       "version_major": 2,
       "version_minor": 0
      },
      "text/plain": [
       "HBox(children=(IntProgress(value=0, description='Equilibrate sweep', style=ProgressStyle(description_width='in…"
      ]
     },
     "metadata": {},
     "output_type": "display_data"
    },
    {
     "data": {
      "application/vnd.jupyter.widget-view+json": {
       "model_id": "",
       "version_major": 2,
       "version_minor": 0
      },
      "text/plain": [
       "HBox(children=(IntProgress(value=0, description='Measurement sweep', max=10000, style=ProgressStyle(descriptio…"
      ]
     },
     "metadata": {},
     "output_type": "display_data"
    },
    {
     "data": {
      "application/vnd.jupyter.widget-view+json": {
       "model_id": "",
       "version_major": 2,
       "version_minor": 0
      },
      "text/plain": [
       "HBox(children=(IntProgress(value=0, description='Equilibrate sweep', style=ProgressStyle(description_width='in…"
      ]
     },
     "metadata": {},
     "output_type": "display_data"
    },
    {
     "data": {
      "application/vnd.jupyter.widget-view+json": {
       "model_id": "",
       "version_major": 2,
       "version_minor": 0
      },
      "text/plain": [
       "HBox(children=(IntProgress(value=0, description='Measurement sweep', max=10000, style=ProgressStyle(descriptio…"
      ]
     },
     "metadata": {},
     "output_type": "display_data"
    },
    {
     "data": {
      "application/vnd.jupyter.widget-view+json": {
       "model_id": "",
       "version_major": 2,
       "version_minor": 0
      },
      "text/plain": [
       "HBox(children=(IntProgress(value=0, description='Equilibrate sweep', style=ProgressStyle(description_width='in…"
      ]
     },
     "metadata": {},
     "output_type": "display_data"
    },
    {
     "data": {
      "application/vnd.jupyter.widget-view+json": {
       "model_id": "",
       "version_major": 2,
       "version_minor": 0
      },
      "text/plain": [
       "HBox(children=(IntProgress(value=0, description='Measurement sweep', max=10000, style=ProgressStyle(descriptio…"
      ]
     },
     "metadata": {},
     "output_type": "display_data"
    },
    {
     "data": {
      "application/vnd.jupyter.widget-view+json": {
       "model_id": "",
       "version_major": 2,
       "version_minor": 0
      },
      "text/plain": [
       "HBox(children=(IntProgress(value=0, description='Equilibrate sweep', style=ProgressStyle(description_width='in…"
      ]
     },
     "metadata": {},
     "output_type": "display_data"
    },
    {
     "data": {
      "application/vnd.jupyter.widget-view+json": {
       "model_id": "",
       "version_major": 2,
       "version_minor": 0
      },
      "text/plain": [
       "HBox(children=(IntProgress(value=0, description='Measurement sweep', max=10000, style=ProgressStyle(descriptio…"
      ]
     },
     "metadata": {},
     "output_type": "display_data"
    },
    {
     "data": {
      "application/vnd.jupyter.widget-view+json": {
       "model_id": "",
       "version_major": 2,
       "version_minor": 0
      },
      "text/plain": [
       "HBox(children=(IntProgress(value=0, description='Equilibrate sweep', style=ProgressStyle(description_width='in…"
      ]
     },
     "metadata": {},
     "output_type": "display_data"
    },
    {
     "data": {
      "application/vnd.jupyter.widget-view+json": {
       "model_id": "",
       "version_major": 2,
       "version_minor": 0
      },
      "text/plain": [
       "HBox(children=(IntProgress(value=0, description='Measurement sweep', max=10000, style=ProgressStyle(descriptio…"
      ]
     },
     "metadata": {},
     "output_type": "display_data"
    },
    {
     "data": {
      "application/vnd.jupyter.widget-view+json": {
       "model_id": "",
       "version_major": 2,
       "version_minor": 0
      },
      "text/plain": [
       "HBox(children=(IntProgress(value=0, description='Equilibrate sweep', style=ProgressStyle(description_width='in…"
      ]
     },
     "metadata": {},
     "output_type": "display_data"
    },
    {
     "data": {
      "application/vnd.jupyter.widget-view+json": {
       "model_id": "",
       "version_major": 2,
       "version_minor": 0
      },
      "text/plain": [
       "HBox(children=(IntProgress(value=0, description='Measurement sweep', max=10000, style=ProgressStyle(descriptio…"
      ]
     },
     "metadata": {},
     "output_type": "display_data"
    },
    {
     "data": {
      "application/vnd.jupyter.widget-view+json": {
       "model_id": "",
       "version_major": 2,
       "version_minor": 0
      },
      "text/plain": [
       "HBox(children=(IntProgress(value=0, description='Equilibrate sweep', style=ProgressStyle(description_width='in…"
      ]
     },
     "metadata": {},
     "output_type": "display_data"
    },
    {
     "data": {
      "application/vnd.jupyter.widget-view+json": {
       "model_id": "",
       "version_major": 2,
       "version_minor": 0
      },
      "text/plain": [
       "HBox(children=(IntProgress(value=0, description='Measurement sweep', max=10000, style=ProgressStyle(descriptio…"
      ]
     },
     "metadata": {},
     "output_type": "display_data"
    },
    {
     "data": {
      "application/vnd.jupyter.widget-view+json": {
       "model_id": "",
       "version_major": 2,
       "version_minor": 0
      },
      "text/plain": [
       "HBox(children=(IntProgress(value=0, description='Equilibrate sweep', style=ProgressStyle(description_width='in…"
      ]
     },
     "metadata": {},
     "output_type": "display_data"
    },
    {
     "data": {
      "application/vnd.jupyter.widget-view+json": {
       "model_id": "",
       "version_major": 2,
       "version_minor": 0
      },
      "text/plain": [
       "HBox(children=(IntProgress(value=0, description='Measurement sweep', max=10000, style=ProgressStyle(descriptio…"
      ]
     },
     "metadata": {},
     "output_type": "display_data"
    },
    {
     "data": {
      "application/vnd.jupyter.widget-view+json": {
       "model_id": "",
       "version_major": 2,
       "version_minor": 0
      },
      "text/plain": [
       "HBox(children=(IntProgress(value=0, description='Equilibrate sweep', style=ProgressStyle(description_width='in…"
      ]
     },
     "metadata": {},
     "output_type": "display_data"
    },
    {
     "data": {
      "application/vnd.jupyter.widget-view+json": {
       "model_id": "",
       "version_major": 2,
       "version_minor": 0
      },
      "text/plain": [
       "HBox(children=(IntProgress(value=0, description='Measurement sweep', max=10000, style=ProgressStyle(descriptio…"
      ]
     },
     "metadata": {},
     "output_type": "display_data"
    },
    {
     "data": {
      "application/vnd.jupyter.widget-view+json": {
       "model_id": "",
       "version_major": 2,
       "version_minor": 0
      },
      "text/plain": [
       "HBox(children=(IntProgress(value=0, description='Equilibrate sweep', style=ProgressStyle(description_width='in…"
      ]
     },
     "metadata": {},
     "output_type": "display_data"
    },
    {
     "data": {
      "application/vnd.jupyter.widget-view+json": {
       "model_id": "",
       "version_major": 2,
       "version_minor": 0
      },
      "text/plain": [
       "HBox(children=(IntProgress(value=0, description='Measurement sweep', max=10000, style=ProgressStyle(descriptio…"
      ]
     },
     "metadata": {},
     "output_type": "display_data"
    },
    {
     "data": {
      "application/vnd.jupyter.widget-view+json": {
       "model_id": "",
       "version_major": 2,
       "version_minor": 0
      },
      "text/plain": [
       "HBox(children=(IntProgress(value=0, description='Equilibrate sweep', style=ProgressStyle(description_width='in…"
      ]
     },
     "metadata": {},
     "output_type": "display_data"
    },
    {
     "data": {
      "application/vnd.jupyter.widget-view+json": {
       "model_id": "",
       "version_major": 2,
       "version_minor": 0
      },
      "text/plain": [
       "HBox(children=(IntProgress(value=0, description='Measurement sweep', max=10000, style=ProgressStyle(descriptio…"
      ]
     },
     "metadata": {},
     "output_type": "display_data"
    },
    {
     "data": {
      "application/vnd.jupyter.widget-view+json": {
       "model_id": "",
       "version_major": 2,
       "version_minor": 0
      },
      "text/plain": [
       "HBox(children=(IntProgress(value=0, description='Equilibrate sweep', style=ProgressStyle(description_width='in…"
      ]
     },
     "metadata": {},
     "output_type": "display_data"
    },
    {
     "data": {
      "application/vnd.jupyter.widget-view+json": {
       "model_id": "",
       "version_major": 2,
       "version_minor": 0
      },
      "text/plain": [
       "HBox(children=(IntProgress(value=0, description='Measurement sweep', max=10000, style=ProgressStyle(descriptio…"
      ]
     },
     "metadata": {},
     "output_type": "display_data"
    },
    {
     "data": {
      "application/vnd.jupyter.widget-view+json": {
       "model_id": "",
       "version_major": 2,
       "version_minor": 0
      },
      "text/plain": [
       "HBox(children=(IntProgress(value=0, description='Equilibrate sweep', style=ProgressStyle(description_width='in…"
      ]
     },
     "metadata": {},
     "output_type": "display_data"
    },
    {
     "data": {
      "application/vnd.jupyter.widget-view+json": {
       "model_id": "",
       "version_major": 2,
       "version_minor": 0
      },
      "text/plain": [
       "HBox(children=(IntProgress(value=0, description='Measurement sweep', max=10000, style=ProgressStyle(descriptio…"
      ]
     },
     "metadata": {},
     "output_type": "display_data"
    },
    {
     "data": {
      "application/vnd.jupyter.widget-view+json": {
       "model_id": "",
       "version_major": 2,
       "version_minor": 0
      },
      "text/plain": [
       "HBox(children=(IntProgress(value=0, description='Equilibrate sweep', style=ProgressStyle(description_width='in…"
      ]
     },
     "metadata": {},
     "output_type": "display_data"
    },
    {
     "data": {
      "application/vnd.jupyter.widget-view+json": {
       "model_id": "",
       "version_major": 2,
       "version_minor": 0
      },
      "text/plain": [
       "HBox(children=(IntProgress(value=0, description='Measurement sweep', max=10000, style=ProgressStyle(descriptio…"
      ]
     },
     "metadata": {},
     "output_type": "display_data"
    },
    {
     "data": {
      "application/vnd.jupyter.widget-view+json": {
       "model_id": "",
       "version_major": 2,
       "version_minor": 0
      },
      "text/plain": [
       "HBox(children=(IntProgress(value=0, description='Col', max=20, style=ProgressStyle(description_width='initial'…"
      ]
     },
     "metadata": {},
     "output_type": "display_data"
    },
    {
     "data": {
      "application/vnd.jupyter.widget-view+json": {
       "model_id": "",
       "version_major": 2,
       "version_minor": 0
      },
      "text/plain": [
       "HBox(children=(IntProgress(value=0, description='Equilibrate sweep', style=ProgressStyle(description_width='in…"
      ]
     },
     "metadata": {},
     "output_type": "display_data"
    },
    {
     "data": {
      "application/vnd.jupyter.widget-view+json": {
       "model_id": "",
       "version_major": 2,
       "version_minor": 0
      },
      "text/plain": [
       "HBox(children=(IntProgress(value=0, description='Measurement sweep', max=10000, style=ProgressStyle(descriptio…"
      ]
     },
     "metadata": {},
     "output_type": "display_data"
    },
    {
     "data": {
      "application/vnd.jupyter.widget-view+json": {
       "model_id": "",
       "version_major": 2,
       "version_minor": 0
      },
      "text/plain": [
       "HBox(children=(IntProgress(value=0, description='Equilibrate sweep', style=ProgressStyle(description_width='in…"
      ]
     },
     "metadata": {},
     "output_type": "display_data"
    },
    {
     "data": {
      "application/vnd.jupyter.widget-view+json": {
       "model_id": "",
       "version_major": 2,
       "version_minor": 0
      },
      "text/plain": [
       "HBox(children=(IntProgress(value=0, description='Measurement sweep', max=10000, style=ProgressStyle(descriptio…"
      ]
     },
     "metadata": {},
     "output_type": "display_data"
    },
    {
     "data": {
      "application/vnd.jupyter.widget-view+json": {
       "model_id": "",
       "version_major": 2,
       "version_minor": 0
      },
      "text/plain": [
       "HBox(children=(IntProgress(value=0, description='Equilibrate sweep', style=ProgressStyle(description_width='in…"
      ]
     },
     "metadata": {},
     "output_type": "display_data"
    },
    {
     "data": {
      "application/vnd.jupyter.widget-view+json": {
       "model_id": "",
       "version_major": 2,
       "version_minor": 0
      },
      "text/plain": [
       "HBox(children=(IntProgress(value=0, description='Measurement sweep', max=10000, style=ProgressStyle(descriptio…"
      ]
     },
     "metadata": {},
     "output_type": "display_data"
    },
    {
     "data": {
      "application/vnd.jupyter.widget-view+json": {
       "model_id": "",
       "version_major": 2,
       "version_minor": 0
      },
      "text/plain": [
       "HBox(children=(IntProgress(value=0, description='Equilibrate sweep', style=ProgressStyle(description_width='in…"
      ]
     },
     "metadata": {},
     "output_type": "display_data"
    },
    {
     "data": {
      "application/vnd.jupyter.widget-view+json": {
       "model_id": "",
       "version_major": 2,
       "version_minor": 0
      },
      "text/plain": [
       "HBox(children=(IntProgress(value=0, description='Measurement sweep', max=10000, style=ProgressStyle(descriptio…"
      ]
     },
     "metadata": {},
     "output_type": "display_data"
    },
    {
     "data": {
      "application/vnd.jupyter.widget-view+json": {
       "model_id": "",
       "version_major": 2,
       "version_minor": 0
      },
      "text/plain": [
       "HBox(children=(IntProgress(value=0, description='Equilibrate sweep', style=ProgressStyle(description_width='in…"
      ]
     },
     "metadata": {},
     "output_type": "display_data"
    },
    {
     "data": {
      "application/vnd.jupyter.widget-view+json": {
       "model_id": "",
       "version_major": 2,
       "version_minor": 0
      },
      "text/plain": [
       "HBox(children=(IntProgress(value=0, description='Measurement sweep', max=10000, style=ProgressStyle(descriptio…"
      ]
     },
     "metadata": {},
     "output_type": "display_data"
    },
    {
     "data": {
      "application/vnd.jupyter.widget-view+json": {
       "model_id": "",
       "version_major": 2,
       "version_minor": 0
      },
      "text/plain": [
       "HBox(children=(IntProgress(value=0, description='Equilibrate sweep', style=ProgressStyle(description_width='in…"
      ]
     },
     "metadata": {},
     "output_type": "display_data"
    },
    {
     "data": {
      "application/vnd.jupyter.widget-view+json": {
       "model_id": "",
       "version_major": 2,
       "version_minor": 0
      },
      "text/plain": [
       "HBox(children=(IntProgress(value=0, description='Measurement sweep', max=10000, style=ProgressStyle(descriptio…"
      ]
     },
     "metadata": {},
     "output_type": "display_data"
    },
    {
     "data": {
      "application/vnd.jupyter.widget-view+json": {
       "model_id": "",
       "version_major": 2,
       "version_minor": 0
      },
      "text/plain": [
       "HBox(children=(IntProgress(value=0, description='Equilibrate sweep', style=ProgressStyle(description_width='in…"
      ]
     },
     "metadata": {},
     "output_type": "display_data"
    },
    {
     "data": {
      "application/vnd.jupyter.widget-view+json": {
       "model_id": "",
       "version_major": 2,
       "version_minor": 0
      },
      "text/plain": [
       "HBox(children=(IntProgress(value=0, description='Measurement sweep', max=10000, style=ProgressStyle(descriptio…"
      ]
     },
     "metadata": {},
     "output_type": "display_data"
    },
    {
     "data": {
      "application/vnd.jupyter.widget-view+json": {
       "model_id": "",
       "version_major": 2,
       "version_minor": 0
      },
      "text/plain": [
       "HBox(children=(IntProgress(value=0, description='Equilibrate sweep', style=ProgressStyle(description_width='in…"
      ]
     },
     "metadata": {},
     "output_type": "display_data"
    },
    {
     "data": {
      "application/vnd.jupyter.widget-view+json": {
       "model_id": "",
       "version_major": 2,
       "version_minor": 0
      },
      "text/plain": [
       "HBox(children=(IntProgress(value=0, description='Measurement sweep', max=10000, style=ProgressStyle(descriptio…"
      ]
     },
     "metadata": {},
     "output_type": "display_data"
    },
    {
     "data": {
      "application/vnd.jupyter.widget-view+json": {
       "model_id": "",
       "version_major": 2,
       "version_minor": 0
      },
      "text/plain": [
       "HBox(children=(IntProgress(value=0, description='Equilibrate sweep', style=ProgressStyle(description_width='in…"
      ]
     },
     "metadata": {},
     "output_type": "display_data"
    },
    {
     "data": {
      "application/vnd.jupyter.widget-view+json": {
       "model_id": "",
       "version_major": 2,
       "version_minor": 0
      },
      "text/plain": [
       "HBox(children=(IntProgress(value=0, description='Measurement sweep', max=10000, style=ProgressStyle(descriptio…"
      ]
     },
     "metadata": {},
     "output_type": "display_data"
    },
    {
     "data": {
      "application/vnd.jupyter.widget-view+json": {
       "model_id": "",
       "version_major": 2,
       "version_minor": 0
      },
      "text/plain": [
       "HBox(children=(IntProgress(value=0, description='Equilibrate sweep', style=ProgressStyle(description_width='in…"
      ]
     },
     "metadata": {},
     "output_type": "display_data"
    },
    {
     "data": {
      "application/vnd.jupyter.widget-view+json": {
       "model_id": "",
       "version_major": 2,
       "version_minor": 0
      },
      "text/plain": [
       "HBox(children=(IntProgress(value=0, description='Measurement sweep', max=10000, style=ProgressStyle(descriptio…"
      ]
     },
     "metadata": {},
     "output_type": "display_data"
    },
    {
     "data": {
      "application/vnd.jupyter.widget-view+json": {
       "model_id": "",
       "version_major": 2,
       "version_minor": 0
      },
      "text/plain": [
       "HBox(children=(IntProgress(value=0, description='Equilibrate sweep', style=ProgressStyle(description_width='in…"
      ]
     },
     "metadata": {},
     "output_type": "display_data"
    },
    {
     "data": {
      "application/vnd.jupyter.widget-view+json": {
       "model_id": "",
       "version_major": 2,
       "version_minor": 0
      },
      "text/plain": [
       "HBox(children=(IntProgress(value=0, description='Measurement sweep', max=10000, style=ProgressStyle(descriptio…"
      ]
     },
     "metadata": {},
     "output_type": "display_data"
    },
    {
     "data": {
      "application/vnd.jupyter.widget-view+json": {
       "model_id": "",
       "version_major": 2,
       "version_minor": 0
      },
      "text/plain": [
       "HBox(children=(IntProgress(value=0, description='Equilibrate sweep', style=ProgressStyle(description_width='in…"
      ]
     },
     "metadata": {},
     "output_type": "display_data"
    },
    {
     "data": {
      "application/vnd.jupyter.widget-view+json": {
       "model_id": "",
       "version_major": 2,
       "version_minor": 0
      },
      "text/plain": [
       "HBox(children=(IntProgress(value=0, description='Measurement sweep', max=10000, style=ProgressStyle(descriptio…"
      ]
     },
     "metadata": {},
     "output_type": "display_data"
    },
    {
     "data": {
      "application/vnd.jupyter.widget-view+json": {
       "model_id": "",
       "version_major": 2,
       "version_minor": 0
      },
      "text/plain": [
       "HBox(children=(IntProgress(value=0, description='Equilibrate sweep', style=ProgressStyle(description_width='in…"
      ]
     },
     "metadata": {},
     "output_type": "display_data"
    },
    {
     "data": {
      "application/vnd.jupyter.widget-view+json": {
       "model_id": "",
       "version_major": 2,
       "version_minor": 0
      },
      "text/plain": [
       "HBox(children=(IntProgress(value=0, description='Measurement sweep', max=10000, style=ProgressStyle(descriptio…"
      ]
     },
     "metadata": {},
     "output_type": "display_data"
    },
    {
     "data": {
      "application/vnd.jupyter.widget-view+json": {
       "model_id": "",
       "version_major": 2,
       "version_minor": 0
      },
      "text/plain": [
       "HBox(children=(IntProgress(value=0, description='Equilibrate sweep', style=ProgressStyle(description_width='in…"
      ]
     },
     "metadata": {},
     "output_type": "display_data"
    },
    {
     "data": {
      "application/vnd.jupyter.widget-view+json": {
       "model_id": "",
       "version_major": 2,
       "version_minor": 0
      },
      "text/plain": [
       "HBox(children=(IntProgress(value=0, description='Measurement sweep', max=10000, style=ProgressStyle(descriptio…"
      ]
     },
     "metadata": {},
     "output_type": "display_data"
    },
    {
     "data": {
      "application/vnd.jupyter.widget-view+json": {
       "model_id": "",
       "version_major": 2,
       "version_minor": 0
      },
      "text/plain": [
       "HBox(children=(IntProgress(value=0, description='Equilibrate sweep', style=ProgressStyle(description_width='in…"
      ]
     },
     "metadata": {},
     "output_type": "display_data"
    },
    {
     "data": {
      "application/vnd.jupyter.widget-view+json": {
       "model_id": "",
       "version_major": 2,
       "version_minor": 0
      },
      "text/plain": [
       "HBox(children=(IntProgress(value=0, description='Measurement sweep', max=10000, style=ProgressStyle(descriptio…"
      ]
     },
     "metadata": {},
     "output_type": "display_data"
    },
    {
     "data": {
      "application/vnd.jupyter.widget-view+json": {
       "model_id": "",
       "version_major": 2,
       "version_minor": 0
      },
      "text/plain": [
       "HBox(children=(IntProgress(value=0, description='Equilibrate sweep', style=ProgressStyle(description_width='in…"
      ]
     },
     "metadata": {},
     "output_type": "display_data"
    },
    {
     "data": {
      "application/vnd.jupyter.widget-view+json": {
       "model_id": "",
       "version_major": 2,
       "version_minor": 0
      },
      "text/plain": [
       "HBox(children=(IntProgress(value=0, description='Measurement sweep', max=10000, style=ProgressStyle(descriptio…"
      ]
     },
     "metadata": {},
     "output_type": "display_data"
    },
    {
     "data": {
      "application/vnd.jupyter.widget-view+json": {
       "model_id": "",
       "version_major": 2,
       "version_minor": 0
      },
      "text/plain": [
       "HBox(children=(IntProgress(value=0, description='Equilibrate sweep', style=ProgressStyle(description_width='in…"
      ]
     },
     "metadata": {},
     "output_type": "display_data"
    },
    {
     "data": {
      "application/vnd.jupyter.widget-view+json": {
       "model_id": "",
       "version_major": 2,
       "version_minor": 0
      },
      "text/plain": [
       "HBox(children=(IntProgress(value=0, description='Measurement sweep', max=10000, style=ProgressStyle(descriptio…"
      ]
     },
     "metadata": {},
     "output_type": "display_data"
    },
    {
     "data": {
      "application/vnd.jupyter.widget-view+json": {
       "model_id": "",
       "version_major": 2,
       "version_minor": 0
      },
      "text/plain": [
       "HBox(children=(IntProgress(value=0, description='Equilibrate sweep', style=ProgressStyle(description_width='in…"
      ]
     },
     "metadata": {},
     "output_type": "display_data"
    },
    {
     "data": {
      "application/vnd.jupyter.widget-view+json": {
       "model_id": "",
       "version_major": 2,
       "version_minor": 0
      },
      "text/plain": [
       "HBox(children=(IntProgress(value=0, description='Measurement sweep', max=10000, style=ProgressStyle(descriptio…"
      ]
     },
     "metadata": {},
     "output_type": "display_data"
    },
    {
     "data": {
      "application/vnd.jupyter.widget-view+json": {
       "model_id": "",
       "version_major": 2,
       "version_minor": 0
      },
      "text/plain": [
       "HBox(children=(IntProgress(value=0, description='Equilibrate sweep', style=ProgressStyle(description_width='in…"
      ]
     },
     "metadata": {},
     "output_type": "display_data"
    },
    {
     "data": {
      "application/vnd.jupyter.widget-view+json": {
       "model_id": "",
       "version_major": 2,
       "version_minor": 0
      },
      "text/plain": [
       "HBox(children=(IntProgress(value=0, description='Measurement sweep', max=10000, style=ProgressStyle(descriptio…"
      ]
     },
     "metadata": {},
     "output_type": "display_data"
    },
    {
     "data": {
      "application/vnd.jupyter.widget-view+json": {
       "model_id": "",
       "version_major": 2,
       "version_minor": 0
      },
      "text/plain": [
       "HBox(children=(IntProgress(value=0, description='Equilibrate sweep', style=ProgressStyle(description_width='in…"
      ]
     },
     "metadata": {},
     "output_type": "display_data"
    },
    {
     "data": {
      "application/vnd.jupyter.widget-view+json": {
       "model_id": "",
       "version_major": 2,
       "version_minor": 0
      },
      "text/plain": [
       "HBox(children=(IntProgress(value=0, description='Measurement sweep', max=10000, style=ProgressStyle(descriptio…"
      ]
     },
     "metadata": {},
     "output_type": "display_data"
    },
    {
     "data": {
      "application/vnd.jupyter.widget-view+json": {
       "model_id": "",
       "version_major": 2,
       "version_minor": 0
      },
      "text/plain": [
       "HBox(children=(IntProgress(value=0, description='Col', max=20, style=ProgressStyle(description_width='initial'…"
      ]
     },
     "metadata": {},
     "output_type": "display_data"
    },
    {
     "data": {
      "application/vnd.jupyter.widget-view+json": {
       "model_id": "",
       "version_major": 2,
       "version_minor": 0
      },
      "text/plain": [
       "HBox(children=(IntProgress(value=0, description='Equilibrate sweep', style=ProgressStyle(description_width='in…"
      ]
     },
     "metadata": {},
     "output_type": "display_data"
    },
    {
     "data": {
      "application/vnd.jupyter.widget-view+json": {
       "model_id": "",
       "version_major": 2,
       "version_minor": 0
      },
      "text/plain": [
       "HBox(children=(IntProgress(value=0, description='Measurement sweep', max=10000, style=ProgressStyle(descriptio…"
      ]
     },
     "metadata": {},
     "output_type": "display_data"
    },
    {
     "data": {
      "application/vnd.jupyter.widget-view+json": {
       "model_id": "",
       "version_major": 2,
       "version_minor": 0
      },
      "text/plain": [
       "HBox(children=(IntProgress(value=0, description='Equilibrate sweep', style=ProgressStyle(description_width='in…"
      ]
     },
     "metadata": {},
     "output_type": "display_data"
    },
    {
     "data": {
      "application/vnd.jupyter.widget-view+json": {
       "model_id": "",
       "version_major": 2,
       "version_minor": 0
      },
      "text/plain": [
       "HBox(children=(IntProgress(value=0, description='Measurement sweep', max=10000, style=ProgressStyle(descriptio…"
      ]
     },
     "metadata": {},
     "output_type": "display_data"
    },
    {
     "data": {
      "application/vnd.jupyter.widget-view+json": {
       "model_id": "",
       "version_major": 2,
       "version_minor": 0
      },
      "text/plain": [
       "HBox(children=(IntProgress(value=0, description='Equilibrate sweep', style=ProgressStyle(description_width='in…"
      ]
     },
     "metadata": {},
     "output_type": "display_data"
    },
    {
     "data": {
      "application/vnd.jupyter.widget-view+json": {
       "model_id": "",
       "version_major": 2,
       "version_minor": 0
      },
      "text/plain": [
       "HBox(children=(IntProgress(value=0, description='Measurement sweep', max=10000, style=ProgressStyle(descriptio…"
      ]
     },
     "metadata": {},
     "output_type": "display_data"
    },
    {
     "data": {
      "application/vnd.jupyter.widget-view+json": {
       "model_id": "",
       "version_major": 2,
       "version_minor": 0
      },
      "text/plain": [
       "HBox(children=(IntProgress(value=0, description='Equilibrate sweep', style=ProgressStyle(description_width='in…"
      ]
     },
     "metadata": {},
     "output_type": "display_data"
    },
    {
     "data": {
      "application/vnd.jupyter.widget-view+json": {
       "model_id": "",
       "version_major": 2,
       "version_minor": 0
      },
      "text/plain": [
       "HBox(children=(IntProgress(value=0, description='Measurement sweep', max=10000, style=ProgressStyle(descriptio…"
      ]
     },
     "metadata": {},
     "output_type": "display_data"
    },
    {
     "data": {
      "application/vnd.jupyter.widget-view+json": {
       "model_id": "",
       "version_major": 2,
       "version_minor": 0
      },
      "text/plain": [
       "HBox(children=(IntProgress(value=0, description='Equilibrate sweep', style=ProgressStyle(description_width='in…"
      ]
     },
     "metadata": {},
     "output_type": "display_data"
    },
    {
     "data": {
      "application/vnd.jupyter.widget-view+json": {
       "model_id": "",
       "version_major": 2,
       "version_minor": 0
      },
      "text/plain": [
       "HBox(children=(IntProgress(value=0, description='Measurement sweep', max=10000, style=ProgressStyle(descriptio…"
      ]
     },
     "metadata": {},
     "output_type": "display_data"
    },
    {
     "data": {
      "application/vnd.jupyter.widget-view+json": {
       "model_id": "",
       "version_major": 2,
       "version_minor": 0
      },
      "text/plain": [
       "HBox(children=(IntProgress(value=0, description='Equilibrate sweep', style=ProgressStyle(description_width='in…"
      ]
     },
     "metadata": {},
     "output_type": "display_data"
    },
    {
     "data": {
      "application/vnd.jupyter.widget-view+json": {
       "model_id": "",
       "version_major": 2,
       "version_minor": 0
      },
      "text/plain": [
       "HBox(children=(IntProgress(value=0, description='Measurement sweep', max=10000, style=ProgressStyle(descriptio…"
      ]
     },
     "metadata": {},
     "output_type": "display_data"
    },
    {
     "data": {
      "application/vnd.jupyter.widget-view+json": {
       "model_id": "",
       "version_major": 2,
       "version_minor": 0
      },
      "text/plain": [
       "HBox(children=(IntProgress(value=0, description='Equilibrate sweep', style=ProgressStyle(description_width='in…"
      ]
     },
     "metadata": {},
     "output_type": "display_data"
    },
    {
     "data": {
      "application/vnd.jupyter.widget-view+json": {
       "model_id": "",
       "version_major": 2,
       "version_minor": 0
      },
      "text/plain": [
       "HBox(children=(IntProgress(value=0, description='Measurement sweep', max=10000, style=ProgressStyle(descriptio…"
      ]
     },
     "metadata": {},
     "output_type": "display_data"
    },
    {
     "data": {
      "application/vnd.jupyter.widget-view+json": {
       "model_id": "",
       "version_major": 2,
       "version_minor": 0
      },
      "text/plain": [
       "HBox(children=(IntProgress(value=0, description='Equilibrate sweep', style=ProgressStyle(description_width='in…"
      ]
     },
     "metadata": {},
     "output_type": "display_data"
    },
    {
     "data": {
      "application/vnd.jupyter.widget-view+json": {
       "model_id": "",
       "version_major": 2,
       "version_minor": 0
      },
      "text/plain": [
       "HBox(children=(IntProgress(value=0, description='Measurement sweep', max=10000, style=ProgressStyle(descriptio…"
      ]
     },
     "metadata": {},
     "output_type": "display_data"
    },
    {
     "data": {
      "application/vnd.jupyter.widget-view+json": {
       "model_id": "",
       "version_major": 2,
       "version_minor": 0
      },
      "text/plain": [
       "HBox(children=(IntProgress(value=0, description='Equilibrate sweep', style=ProgressStyle(description_width='in…"
      ]
     },
     "metadata": {},
     "output_type": "display_data"
    },
    {
     "data": {
      "application/vnd.jupyter.widget-view+json": {
       "model_id": "",
       "version_major": 2,
       "version_minor": 0
      },
      "text/plain": [
       "HBox(children=(IntProgress(value=0, description='Measurement sweep', max=10000, style=ProgressStyle(descriptio…"
      ]
     },
     "metadata": {},
     "output_type": "display_data"
    },
    {
     "data": {
      "application/vnd.jupyter.widget-view+json": {
       "model_id": "",
       "version_major": 2,
       "version_minor": 0
      },
      "text/plain": [
       "HBox(children=(IntProgress(value=0, description='Equilibrate sweep', style=ProgressStyle(description_width='in…"
      ]
     },
     "metadata": {},
     "output_type": "display_data"
    },
    {
     "data": {
      "application/vnd.jupyter.widget-view+json": {
       "model_id": "",
       "version_major": 2,
       "version_minor": 0
      },
      "text/plain": [
       "HBox(children=(IntProgress(value=0, description='Measurement sweep', max=10000, style=ProgressStyle(descriptio…"
      ]
     },
     "metadata": {},
     "output_type": "display_data"
    },
    {
     "data": {
      "application/vnd.jupyter.widget-view+json": {
       "model_id": "",
       "version_major": 2,
       "version_minor": 0
      },
      "text/plain": [
       "HBox(children=(IntProgress(value=0, description='Equilibrate sweep', style=ProgressStyle(description_width='in…"
      ]
     },
     "metadata": {},
     "output_type": "display_data"
    },
    {
     "data": {
      "application/vnd.jupyter.widget-view+json": {
       "model_id": "",
       "version_major": 2,
       "version_minor": 0
      },
      "text/plain": [
       "HBox(children=(IntProgress(value=0, description='Measurement sweep', max=10000, style=ProgressStyle(descriptio…"
      ]
     },
     "metadata": {},
     "output_type": "display_data"
    },
    {
     "data": {
      "application/vnd.jupyter.widget-view+json": {
       "model_id": "",
       "version_major": 2,
       "version_minor": 0
      },
      "text/plain": [
       "HBox(children=(IntProgress(value=0, description='Equilibrate sweep', style=ProgressStyle(description_width='in…"
      ]
     },
     "metadata": {},
     "output_type": "display_data"
    },
    {
     "data": {
      "application/vnd.jupyter.widget-view+json": {
       "model_id": "",
       "version_major": 2,
       "version_minor": 0
      },
      "text/plain": [
       "HBox(children=(IntProgress(value=0, description='Measurement sweep', max=10000, style=ProgressStyle(descriptio…"
      ]
     },
     "metadata": {},
     "output_type": "display_data"
    },
    {
     "data": {
      "application/vnd.jupyter.widget-view+json": {
       "model_id": "",
       "version_major": 2,
       "version_minor": 0
      },
      "text/plain": [
       "HBox(children=(IntProgress(value=0, description='Equilibrate sweep', style=ProgressStyle(description_width='in…"
      ]
     },
     "metadata": {},
     "output_type": "display_data"
    },
    {
     "data": {
      "application/vnd.jupyter.widget-view+json": {
       "model_id": "",
       "version_major": 2,
       "version_minor": 0
      },
      "text/plain": [
       "HBox(children=(IntProgress(value=0, description='Measurement sweep', max=10000, style=ProgressStyle(descriptio…"
      ]
     },
     "metadata": {},
     "output_type": "display_data"
    },
    {
     "data": {
      "application/vnd.jupyter.widget-view+json": {
       "model_id": "",
       "version_major": 2,
       "version_minor": 0
      },
      "text/plain": [
       "HBox(children=(IntProgress(value=0, description='Equilibrate sweep', style=ProgressStyle(description_width='in…"
      ]
     },
     "metadata": {},
     "output_type": "display_data"
    },
    {
     "data": {
      "application/vnd.jupyter.widget-view+json": {
       "model_id": "",
       "version_major": 2,
       "version_minor": 0
      },
      "text/plain": [
       "HBox(children=(IntProgress(value=0, description='Measurement sweep', max=10000, style=ProgressStyle(descriptio…"
      ]
     },
     "metadata": {},
     "output_type": "display_data"
    },
    {
     "data": {
      "application/vnd.jupyter.widget-view+json": {
       "model_id": "",
       "version_major": 2,
       "version_minor": 0
      },
      "text/plain": [
       "HBox(children=(IntProgress(value=0, description='Equilibrate sweep', style=ProgressStyle(description_width='in…"
      ]
     },
     "metadata": {},
     "output_type": "display_data"
    },
    {
     "data": {
      "application/vnd.jupyter.widget-view+json": {
       "model_id": "",
       "version_major": 2,
       "version_minor": 0
      },
      "text/plain": [
       "HBox(children=(IntProgress(value=0, description='Measurement sweep', max=10000, style=ProgressStyle(descriptio…"
      ]
     },
     "metadata": {},
     "output_type": "display_data"
    },
    {
     "data": {
      "application/vnd.jupyter.widget-view+json": {
       "model_id": "",
       "version_major": 2,
       "version_minor": 0
      },
      "text/plain": [
       "HBox(children=(IntProgress(value=0, description='Equilibrate sweep', style=ProgressStyle(description_width='in…"
      ]
     },
     "metadata": {},
     "output_type": "display_data"
    },
    {
     "data": {
      "application/vnd.jupyter.widget-view+json": {
       "model_id": "",
       "version_major": 2,
       "version_minor": 0
      },
      "text/plain": [
       "HBox(children=(IntProgress(value=0, description='Measurement sweep', max=10000, style=ProgressStyle(descriptio…"
      ]
     },
     "metadata": {},
     "output_type": "display_data"
    },
    {
     "data": {
      "application/vnd.jupyter.widget-view+json": {
       "model_id": "",
       "version_major": 2,
       "version_minor": 0
      },
      "text/plain": [
       "HBox(children=(IntProgress(value=0, description='Equilibrate sweep', style=ProgressStyle(description_width='in…"
      ]
     },
     "metadata": {},
     "output_type": "display_data"
    },
    {
     "data": {
      "application/vnd.jupyter.widget-view+json": {
       "model_id": "",
       "version_major": 2,
       "version_minor": 0
      },
      "text/plain": [
       "HBox(children=(IntProgress(value=0, description='Measurement sweep', max=10000, style=ProgressStyle(descriptio…"
      ]
     },
     "metadata": {},
     "output_type": "display_data"
    },
    {
     "data": {
      "application/vnd.jupyter.widget-view+json": {
       "model_id": "",
       "version_major": 2,
       "version_minor": 0
      },
      "text/plain": [
       "HBox(children=(IntProgress(value=0, description='Equilibrate sweep', style=ProgressStyle(description_width='in…"
      ]
     },
     "metadata": {},
     "output_type": "display_data"
    },
    {
     "data": {
      "application/vnd.jupyter.widget-view+json": {
       "model_id": "",
       "version_major": 2,
       "version_minor": 0
      },
      "text/plain": [
       "HBox(children=(IntProgress(value=0, description='Measurement sweep', max=10000, style=ProgressStyle(descriptio…"
      ]
     },
     "metadata": {},
     "output_type": "display_data"
    },
    {
     "data": {
      "application/vnd.jupyter.widget-view+json": {
       "model_id": "",
       "version_major": 2,
       "version_minor": 0
      },
      "text/plain": [
       "HBox(children=(IntProgress(value=0, description='Equilibrate sweep', style=ProgressStyle(description_width='in…"
      ]
     },
     "metadata": {},
     "output_type": "display_data"
    },
    {
     "data": {
      "application/vnd.jupyter.widget-view+json": {
       "model_id": "",
       "version_major": 2,
       "version_minor": 0
      },
      "text/plain": [
       "HBox(children=(IntProgress(value=0, description='Measurement sweep', max=10000, style=ProgressStyle(descriptio…"
      ]
     },
     "metadata": {},
     "output_type": "display_data"
    },
    {
     "data": {
      "application/vnd.jupyter.widget-view+json": {
       "model_id": "",
       "version_major": 2,
       "version_minor": 0
      },
      "text/plain": [
       "HBox(children=(IntProgress(value=0, description='Equilibrate sweep', style=ProgressStyle(description_width='in…"
      ]
     },
     "metadata": {},
     "output_type": "display_data"
    },
    {
     "data": {
      "application/vnd.jupyter.widget-view+json": {
       "model_id": "",
       "version_major": 2,
       "version_minor": 0
      },
      "text/plain": [
       "HBox(children=(IntProgress(value=0, description='Measurement sweep', max=10000, style=ProgressStyle(descriptio…"
      ]
     },
     "metadata": {},
     "output_type": "display_data"
    },
    {
     "data": {
      "application/vnd.jupyter.widget-view+json": {
       "model_id": "",
       "version_major": 2,
       "version_minor": 0
      },
      "text/plain": [
       "HBox(children=(IntProgress(value=0, description='Col', max=20, style=ProgressStyle(description_width='initial'…"
      ]
     },
     "metadata": {},
     "output_type": "display_data"
    },
    {
     "data": {
      "application/vnd.jupyter.widget-view+json": {
       "model_id": "",
       "version_major": 2,
       "version_minor": 0
      },
      "text/plain": [
       "HBox(children=(IntProgress(value=0, description='Equilibrate sweep', style=ProgressStyle(description_width='in…"
      ]
     },
     "metadata": {},
     "output_type": "display_data"
    },
    {
     "data": {
      "application/vnd.jupyter.widget-view+json": {
       "model_id": "",
       "version_major": 2,
       "version_minor": 0
      },
      "text/plain": [
       "HBox(children=(IntProgress(value=0, description='Measurement sweep', max=10000, style=ProgressStyle(descriptio…"
      ]
     },
     "metadata": {},
     "output_type": "display_data"
    },
    {
     "data": {
      "application/vnd.jupyter.widget-view+json": {
       "model_id": "",
       "version_major": 2,
       "version_minor": 0
      },
      "text/plain": [
       "HBox(children=(IntProgress(value=0, description='Equilibrate sweep', style=ProgressStyle(description_width='in…"
      ]
     },
     "metadata": {},
     "output_type": "display_data"
    },
    {
     "data": {
      "application/vnd.jupyter.widget-view+json": {
       "model_id": "",
       "version_major": 2,
       "version_minor": 0
      },
      "text/plain": [
       "HBox(children=(IntProgress(value=0, description='Measurement sweep', max=10000, style=ProgressStyle(descriptio…"
      ]
     },
     "metadata": {},
     "output_type": "display_data"
    },
    {
     "data": {
      "application/vnd.jupyter.widget-view+json": {
       "model_id": "",
       "version_major": 2,
       "version_minor": 0
      },
      "text/plain": [
       "HBox(children=(IntProgress(value=0, description='Equilibrate sweep', style=ProgressStyle(description_width='in…"
      ]
     },
     "metadata": {},
     "output_type": "display_data"
    },
    {
     "data": {
      "application/vnd.jupyter.widget-view+json": {
       "model_id": "",
       "version_major": 2,
       "version_minor": 0
      },
      "text/plain": [
       "HBox(children=(IntProgress(value=0, description='Measurement sweep', max=10000, style=ProgressStyle(descriptio…"
      ]
     },
     "metadata": {},
     "output_type": "display_data"
    },
    {
     "data": {
      "application/vnd.jupyter.widget-view+json": {
       "model_id": "",
       "version_major": 2,
       "version_minor": 0
      },
      "text/plain": [
       "HBox(children=(IntProgress(value=0, description='Equilibrate sweep', style=ProgressStyle(description_width='in…"
      ]
     },
     "metadata": {},
     "output_type": "display_data"
    },
    {
     "data": {
      "application/vnd.jupyter.widget-view+json": {
       "model_id": "",
       "version_major": 2,
       "version_minor": 0
      },
      "text/plain": [
       "HBox(children=(IntProgress(value=0, description='Measurement sweep', max=10000, style=ProgressStyle(descriptio…"
      ]
     },
     "metadata": {},
     "output_type": "display_data"
    },
    {
     "data": {
      "application/vnd.jupyter.widget-view+json": {
       "model_id": "",
       "version_major": 2,
       "version_minor": 0
      },
      "text/plain": [
       "HBox(children=(IntProgress(value=0, description='Equilibrate sweep', style=ProgressStyle(description_width='in…"
      ]
     },
     "metadata": {},
     "output_type": "display_data"
    },
    {
     "data": {
      "application/vnd.jupyter.widget-view+json": {
       "model_id": "",
       "version_major": 2,
       "version_minor": 0
      },
      "text/plain": [
       "HBox(children=(IntProgress(value=0, description='Measurement sweep', max=10000, style=ProgressStyle(descriptio…"
      ]
     },
     "metadata": {},
     "output_type": "display_data"
    },
    {
     "data": {
      "application/vnd.jupyter.widget-view+json": {
       "model_id": "",
       "version_major": 2,
       "version_minor": 0
      },
      "text/plain": [
       "HBox(children=(IntProgress(value=0, description='Equilibrate sweep', style=ProgressStyle(description_width='in…"
      ]
     },
     "metadata": {},
     "output_type": "display_data"
    },
    {
     "data": {
      "application/vnd.jupyter.widget-view+json": {
       "model_id": "",
       "version_major": 2,
       "version_minor": 0
      },
      "text/plain": [
       "HBox(children=(IntProgress(value=0, description='Measurement sweep', max=10000, style=ProgressStyle(descriptio…"
      ]
     },
     "metadata": {},
     "output_type": "display_data"
    },
    {
     "data": {
      "application/vnd.jupyter.widget-view+json": {
       "model_id": "",
       "version_major": 2,
       "version_minor": 0
      },
      "text/plain": [
       "HBox(children=(IntProgress(value=0, description='Equilibrate sweep', style=ProgressStyle(description_width='in…"
      ]
     },
     "metadata": {},
     "output_type": "display_data"
    },
    {
     "data": {
      "application/vnd.jupyter.widget-view+json": {
       "model_id": "",
       "version_major": 2,
       "version_minor": 0
      },
      "text/plain": [
       "HBox(children=(IntProgress(value=0, description='Measurement sweep', max=10000, style=ProgressStyle(descriptio…"
      ]
     },
     "metadata": {},
     "output_type": "display_data"
    },
    {
     "data": {
      "application/vnd.jupyter.widget-view+json": {
       "model_id": "",
       "version_major": 2,
       "version_minor": 0
      },
      "text/plain": [
       "HBox(children=(IntProgress(value=0, description='Equilibrate sweep', style=ProgressStyle(description_width='in…"
      ]
     },
     "metadata": {},
     "output_type": "display_data"
    },
    {
     "data": {
      "application/vnd.jupyter.widget-view+json": {
       "model_id": "",
       "version_major": 2,
       "version_minor": 0
      },
      "text/plain": [
       "HBox(children=(IntProgress(value=0, description='Measurement sweep', max=10000, style=ProgressStyle(descriptio…"
      ]
     },
     "metadata": {},
     "output_type": "display_data"
    },
    {
     "data": {
      "application/vnd.jupyter.widget-view+json": {
       "model_id": "",
       "version_major": 2,
       "version_minor": 0
      },
      "text/plain": [
       "HBox(children=(IntProgress(value=0, description='Equilibrate sweep', style=ProgressStyle(description_width='in…"
      ]
     },
     "metadata": {},
     "output_type": "display_data"
    },
    {
     "data": {
      "application/vnd.jupyter.widget-view+json": {
       "model_id": "",
       "version_major": 2,
       "version_minor": 0
      },
      "text/plain": [
       "HBox(children=(IntProgress(value=0, description='Measurement sweep', max=10000, style=ProgressStyle(descriptio…"
      ]
     },
     "metadata": {},
     "output_type": "display_data"
    },
    {
     "data": {
      "application/vnd.jupyter.widget-view+json": {
       "model_id": "",
       "version_major": 2,
       "version_minor": 0
      },
      "text/plain": [
       "HBox(children=(IntProgress(value=0, description='Equilibrate sweep', style=ProgressStyle(description_width='in…"
      ]
     },
     "metadata": {},
     "output_type": "display_data"
    },
    {
     "data": {
      "application/vnd.jupyter.widget-view+json": {
       "model_id": "",
       "version_major": 2,
       "version_minor": 0
      },
      "text/plain": [
       "HBox(children=(IntProgress(value=0, description='Measurement sweep', max=10000, style=ProgressStyle(descriptio…"
      ]
     },
     "metadata": {},
     "output_type": "display_data"
    },
    {
     "data": {
      "application/vnd.jupyter.widget-view+json": {
       "model_id": "",
       "version_major": 2,
       "version_minor": 0
      },
      "text/plain": [
       "HBox(children=(IntProgress(value=0, description='Equilibrate sweep', style=ProgressStyle(description_width='in…"
      ]
     },
     "metadata": {},
     "output_type": "display_data"
    },
    {
     "data": {
      "application/vnd.jupyter.widget-view+json": {
       "model_id": "",
       "version_major": 2,
       "version_minor": 0
      },
      "text/plain": [
       "HBox(children=(IntProgress(value=0, description='Measurement sweep', max=10000, style=ProgressStyle(descriptio…"
      ]
     },
     "metadata": {},
     "output_type": "display_data"
    },
    {
     "data": {
      "application/vnd.jupyter.widget-view+json": {
       "model_id": "",
       "version_major": 2,
       "version_minor": 0
      },
      "text/plain": [
       "HBox(children=(IntProgress(value=0, description='Equilibrate sweep', style=ProgressStyle(description_width='in…"
      ]
     },
     "metadata": {},
     "output_type": "display_data"
    },
    {
     "data": {
      "application/vnd.jupyter.widget-view+json": {
       "model_id": "",
       "version_major": 2,
       "version_minor": 0
      },
      "text/plain": [
       "HBox(children=(IntProgress(value=0, description='Measurement sweep', max=10000, style=ProgressStyle(descriptio…"
      ]
     },
     "metadata": {},
     "output_type": "display_data"
    },
    {
     "data": {
      "application/vnd.jupyter.widget-view+json": {
       "model_id": "",
       "version_major": 2,
       "version_minor": 0
      },
      "text/plain": [
       "HBox(children=(IntProgress(value=0, description='Equilibrate sweep', style=ProgressStyle(description_width='in…"
      ]
     },
     "metadata": {},
     "output_type": "display_data"
    },
    {
     "data": {
      "application/vnd.jupyter.widget-view+json": {
       "model_id": "",
       "version_major": 2,
       "version_minor": 0
      },
      "text/plain": [
       "HBox(children=(IntProgress(value=0, description='Measurement sweep', max=10000, style=ProgressStyle(descriptio…"
      ]
     },
     "metadata": {},
     "output_type": "display_data"
    },
    {
     "data": {
      "application/vnd.jupyter.widget-view+json": {
       "model_id": "",
       "version_major": 2,
       "version_minor": 0
      },
      "text/plain": [
       "HBox(children=(IntProgress(value=0, description='Equilibrate sweep', style=ProgressStyle(description_width='in…"
      ]
     },
     "metadata": {},
     "output_type": "display_data"
    },
    {
     "data": {
      "application/vnd.jupyter.widget-view+json": {
       "model_id": "",
       "version_major": 2,
       "version_minor": 0
      },
      "text/plain": [
       "HBox(children=(IntProgress(value=0, description='Measurement sweep', max=10000, style=ProgressStyle(descriptio…"
      ]
     },
     "metadata": {},
     "output_type": "display_data"
    },
    {
     "data": {
      "application/vnd.jupyter.widget-view+json": {
       "model_id": "",
       "version_major": 2,
       "version_minor": 0
      },
      "text/plain": [
       "HBox(children=(IntProgress(value=0, description='Equilibrate sweep', style=ProgressStyle(description_width='in…"
      ]
     },
     "metadata": {},
     "output_type": "display_data"
    },
    {
     "data": {
      "application/vnd.jupyter.widget-view+json": {
       "model_id": "",
       "version_major": 2,
       "version_minor": 0
      },
      "text/plain": [
       "HBox(children=(IntProgress(value=0, description='Measurement sweep', max=10000, style=ProgressStyle(descriptio…"
      ]
     },
     "metadata": {},
     "output_type": "display_data"
    },
    {
     "data": {
      "application/vnd.jupyter.widget-view+json": {
       "model_id": "",
       "version_major": 2,
       "version_minor": 0
      },
      "text/plain": [
       "HBox(children=(IntProgress(value=0, description='Equilibrate sweep', style=ProgressStyle(description_width='in…"
      ]
     },
     "metadata": {},
     "output_type": "display_data"
    },
    {
     "data": {
      "application/vnd.jupyter.widget-view+json": {
       "model_id": "",
       "version_major": 2,
       "version_minor": 0
      },
      "text/plain": [
       "HBox(children=(IntProgress(value=0, description='Measurement sweep', max=10000, style=ProgressStyle(descriptio…"
      ]
     },
     "metadata": {},
     "output_type": "display_data"
    },
    {
     "data": {
      "application/vnd.jupyter.widget-view+json": {
       "model_id": "",
       "version_major": 2,
       "version_minor": 0
      },
      "text/plain": [
       "HBox(children=(IntProgress(value=0, description='Equilibrate sweep', style=ProgressStyle(description_width='in…"
      ]
     },
     "metadata": {},
     "output_type": "display_data"
    },
    {
     "data": {
      "application/vnd.jupyter.widget-view+json": {
       "model_id": "",
       "version_major": 2,
       "version_minor": 0
      },
      "text/plain": [
       "HBox(children=(IntProgress(value=0, description='Measurement sweep', max=10000, style=ProgressStyle(descriptio…"
      ]
     },
     "metadata": {},
     "output_type": "display_data"
    },
    {
     "data": {
      "application/vnd.jupyter.widget-view+json": {
       "model_id": "",
       "version_major": 2,
       "version_minor": 0
      },
      "text/plain": [
       "HBox(children=(IntProgress(value=0, description='Equilibrate sweep', style=ProgressStyle(description_width='in…"
      ]
     },
     "metadata": {},
     "output_type": "display_data"
    },
    {
     "data": {
      "application/vnd.jupyter.widget-view+json": {
       "model_id": "",
       "version_major": 2,
       "version_minor": 0
      },
      "text/plain": [
       "HBox(children=(IntProgress(value=0, description='Measurement sweep', max=10000, style=ProgressStyle(descriptio…"
      ]
     },
     "metadata": {},
     "output_type": "display_data"
    },
    {
     "data": {
      "application/vnd.jupyter.widget-view+json": {
       "model_id": "",
       "version_major": 2,
       "version_minor": 0
      },
      "text/plain": [
       "HBox(children=(IntProgress(value=0, description='Equilibrate sweep', style=ProgressStyle(description_width='in…"
      ]
     },
     "metadata": {},
     "output_type": "display_data"
    },
    {
     "data": {
      "application/vnd.jupyter.widget-view+json": {
       "model_id": "",
       "version_major": 2,
       "version_minor": 0
      },
      "text/plain": [
       "HBox(children=(IntProgress(value=0, description='Measurement sweep', max=10000, style=ProgressStyle(descriptio…"
      ]
     },
     "metadata": {},
     "output_type": "display_data"
    },
    {
     "data": {
      "application/vnd.jupyter.widget-view+json": {
       "model_id": "",
       "version_major": 2,
       "version_minor": 0
      },
      "text/plain": [
       "HBox(children=(IntProgress(value=0, description='Equilibrate sweep', style=ProgressStyle(description_width='in…"
      ]
     },
     "metadata": {},
     "output_type": "display_data"
    },
    {
     "data": {
      "application/vnd.jupyter.widget-view+json": {
       "model_id": "",
       "version_major": 2,
       "version_minor": 0
      },
      "text/plain": [
       "HBox(children=(IntProgress(value=0, description='Measurement sweep', max=10000, style=ProgressStyle(descriptio…"
      ]
     },
     "metadata": {},
     "output_type": "display_data"
    },
    {
     "data": {
      "application/vnd.jupyter.widget-view+json": {
       "model_id": "",
       "version_major": 2,
       "version_minor": 0
      },
      "text/plain": [
       "HBox(children=(IntProgress(value=0, description='Col', max=20, style=ProgressStyle(description_width='initial'…"
      ]
     },
     "metadata": {},
     "output_type": "display_data"
    },
    {
     "data": {
      "application/vnd.jupyter.widget-view+json": {
       "model_id": "",
       "version_major": 2,
       "version_minor": 0
      },
      "text/plain": [
       "HBox(children=(IntProgress(value=0, description='Equilibrate sweep', style=ProgressStyle(description_width='in…"
      ]
     },
     "metadata": {},
     "output_type": "display_data"
    },
    {
     "data": {
      "application/vnd.jupyter.widget-view+json": {
       "model_id": "",
       "version_major": 2,
       "version_minor": 0
      },
      "text/plain": [
       "HBox(children=(IntProgress(value=0, description='Measurement sweep', max=10000, style=ProgressStyle(descriptio…"
      ]
     },
     "metadata": {},
     "output_type": "display_data"
    },
    {
     "data": {
      "application/vnd.jupyter.widget-view+json": {
       "model_id": "",
       "version_major": 2,
       "version_minor": 0
      },
      "text/plain": [
       "HBox(children=(IntProgress(value=0, description='Equilibrate sweep', style=ProgressStyle(description_width='in…"
      ]
     },
     "metadata": {},
     "output_type": "display_data"
    },
    {
     "data": {
      "application/vnd.jupyter.widget-view+json": {
       "model_id": "",
       "version_major": 2,
       "version_minor": 0
      },
      "text/plain": [
       "HBox(children=(IntProgress(value=0, description='Measurement sweep', max=10000, style=ProgressStyle(descriptio…"
      ]
     },
     "metadata": {},
     "output_type": "display_data"
    },
    {
     "data": {
      "application/vnd.jupyter.widget-view+json": {
       "model_id": "",
       "version_major": 2,
       "version_minor": 0
      },
      "text/plain": [
       "HBox(children=(IntProgress(value=0, description='Equilibrate sweep', style=ProgressStyle(description_width='in…"
      ]
     },
     "metadata": {},
     "output_type": "display_data"
    },
    {
     "data": {
      "application/vnd.jupyter.widget-view+json": {
       "model_id": "",
       "version_major": 2,
       "version_minor": 0
      },
      "text/plain": [
       "HBox(children=(IntProgress(value=0, description='Measurement sweep', max=10000, style=ProgressStyle(descriptio…"
      ]
     },
     "metadata": {},
     "output_type": "display_data"
    },
    {
     "data": {
      "application/vnd.jupyter.widget-view+json": {
       "model_id": "",
       "version_major": 2,
       "version_minor": 0
      },
      "text/plain": [
       "HBox(children=(IntProgress(value=0, description='Equilibrate sweep', style=ProgressStyle(description_width='in…"
      ]
     },
     "metadata": {},
     "output_type": "display_data"
    },
    {
     "data": {
      "application/vnd.jupyter.widget-view+json": {
       "model_id": "",
       "version_major": 2,
       "version_minor": 0
      },
      "text/plain": [
       "HBox(children=(IntProgress(value=0, description='Measurement sweep', max=10000, style=ProgressStyle(descriptio…"
      ]
     },
     "metadata": {},
     "output_type": "display_data"
    },
    {
     "data": {
      "application/vnd.jupyter.widget-view+json": {
       "model_id": "",
       "version_major": 2,
       "version_minor": 0
      },
      "text/plain": [
       "HBox(children=(IntProgress(value=0, description='Equilibrate sweep', style=ProgressStyle(description_width='in…"
      ]
     },
     "metadata": {},
     "output_type": "display_data"
    },
    {
     "data": {
      "application/vnd.jupyter.widget-view+json": {
       "model_id": "",
       "version_major": 2,
       "version_minor": 0
      },
      "text/plain": [
       "HBox(children=(IntProgress(value=0, description='Measurement sweep', max=10000, style=ProgressStyle(descriptio…"
      ]
     },
     "metadata": {},
     "output_type": "display_data"
    },
    {
     "data": {
      "application/vnd.jupyter.widget-view+json": {
       "model_id": "",
       "version_major": 2,
       "version_minor": 0
      },
      "text/plain": [
       "HBox(children=(IntProgress(value=0, description='Equilibrate sweep', style=ProgressStyle(description_width='in…"
      ]
     },
     "metadata": {},
     "output_type": "display_data"
    },
    {
     "data": {
      "application/vnd.jupyter.widget-view+json": {
       "model_id": "",
       "version_major": 2,
       "version_minor": 0
      },
      "text/plain": [
       "HBox(children=(IntProgress(value=0, description='Measurement sweep', max=10000, style=ProgressStyle(descriptio…"
      ]
     },
     "metadata": {},
     "output_type": "display_data"
    },
    {
     "data": {
      "application/vnd.jupyter.widget-view+json": {
       "model_id": "",
       "version_major": 2,
       "version_minor": 0
      },
      "text/plain": [
       "HBox(children=(IntProgress(value=0, description='Equilibrate sweep', style=ProgressStyle(description_width='in…"
      ]
     },
     "metadata": {},
     "output_type": "display_data"
    },
    {
     "data": {
      "application/vnd.jupyter.widget-view+json": {
       "model_id": "",
       "version_major": 2,
       "version_minor": 0
      },
      "text/plain": [
       "HBox(children=(IntProgress(value=0, description='Measurement sweep', max=10000, style=ProgressStyle(descriptio…"
      ]
     },
     "metadata": {},
     "output_type": "display_data"
    },
    {
     "data": {
      "application/vnd.jupyter.widget-view+json": {
       "model_id": "",
       "version_major": 2,
       "version_minor": 0
      },
      "text/plain": [
       "HBox(children=(IntProgress(value=0, description='Equilibrate sweep', style=ProgressStyle(description_width='in…"
      ]
     },
     "metadata": {},
     "output_type": "display_data"
    },
    {
     "data": {
      "application/vnd.jupyter.widget-view+json": {
       "model_id": "",
       "version_major": 2,
       "version_minor": 0
      },
      "text/plain": [
       "HBox(children=(IntProgress(value=0, description='Measurement sweep', max=10000, style=ProgressStyle(descriptio…"
      ]
     },
     "metadata": {},
     "output_type": "display_data"
    },
    {
     "data": {
      "application/vnd.jupyter.widget-view+json": {
       "model_id": "",
       "version_major": 2,
       "version_minor": 0
      },
      "text/plain": [
       "HBox(children=(IntProgress(value=0, description='Equilibrate sweep', style=ProgressStyle(description_width='in…"
      ]
     },
     "metadata": {},
     "output_type": "display_data"
    },
    {
     "data": {
      "application/vnd.jupyter.widget-view+json": {
       "model_id": "",
       "version_major": 2,
       "version_minor": 0
      },
      "text/plain": [
       "HBox(children=(IntProgress(value=0, description='Measurement sweep', max=10000, style=ProgressStyle(descriptio…"
      ]
     },
     "metadata": {},
     "output_type": "display_data"
    },
    {
     "data": {
      "application/vnd.jupyter.widget-view+json": {
       "model_id": "",
       "version_major": 2,
       "version_minor": 0
      },
      "text/plain": [
       "HBox(children=(IntProgress(value=0, description='Equilibrate sweep', style=ProgressStyle(description_width='in…"
      ]
     },
     "metadata": {},
     "output_type": "display_data"
    },
    {
     "data": {
      "application/vnd.jupyter.widget-view+json": {
       "model_id": "",
       "version_major": 2,
       "version_minor": 0
      },
      "text/plain": [
       "HBox(children=(IntProgress(value=0, description='Measurement sweep', max=10000, style=ProgressStyle(descriptio…"
      ]
     },
     "metadata": {},
     "output_type": "display_data"
    },
    {
     "data": {
      "application/vnd.jupyter.widget-view+json": {
       "model_id": "",
       "version_major": 2,
       "version_minor": 0
      },
      "text/plain": [
       "HBox(children=(IntProgress(value=0, description='Equilibrate sweep', style=ProgressStyle(description_width='in…"
      ]
     },
     "metadata": {},
     "output_type": "display_data"
    },
    {
     "data": {
      "application/vnd.jupyter.widget-view+json": {
       "model_id": "",
       "version_major": 2,
       "version_minor": 0
      },
      "text/plain": [
       "HBox(children=(IntProgress(value=0, description='Measurement sweep', max=10000, style=ProgressStyle(descriptio…"
      ]
     },
     "metadata": {},
     "output_type": "display_data"
    },
    {
     "data": {
      "application/vnd.jupyter.widget-view+json": {
       "model_id": "",
       "version_major": 2,
       "version_minor": 0
      },
      "text/plain": [
       "HBox(children=(IntProgress(value=0, description='Equilibrate sweep', style=ProgressStyle(description_width='in…"
      ]
     },
     "metadata": {},
     "output_type": "display_data"
    },
    {
     "data": {
      "application/vnd.jupyter.widget-view+json": {
       "model_id": "",
       "version_major": 2,
       "version_minor": 0
      },
      "text/plain": [
       "HBox(children=(IntProgress(value=0, description='Measurement sweep', max=10000, style=ProgressStyle(descriptio…"
      ]
     },
     "metadata": {},
     "output_type": "display_data"
    },
    {
     "data": {
      "application/vnd.jupyter.widget-view+json": {
       "model_id": "",
       "version_major": 2,
       "version_minor": 0
      },
      "text/plain": [
       "HBox(children=(IntProgress(value=0, description='Equilibrate sweep', style=ProgressStyle(description_width='in…"
      ]
     },
     "metadata": {},
     "output_type": "display_data"
    },
    {
     "data": {
      "application/vnd.jupyter.widget-view+json": {
       "model_id": "",
       "version_major": 2,
       "version_minor": 0
      },
      "text/plain": [
       "HBox(children=(IntProgress(value=0, description='Measurement sweep', max=10000, style=ProgressStyle(descriptio…"
      ]
     },
     "metadata": {},
     "output_type": "display_data"
    },
    {
     "data": {
      "application/vnd.jupyter.widget-view+json": {
       "model_id": "",
       "version_major": 2,
       "version_minor": 0
      },
      "text/plain": [
       "HBox(children=(IntProgress(value=0, description='Equilibrate sweep', style=ProgressStyle(description_width='in…"
      ]
     },
     "metadata": {},
     "output_type": "display_data"
    },
    {
     "data": {
      "application/vnd.jupyter.widget-view+json": {
       "model_id": "",
       "version_major": 2,
       "version_minor": 0
      },
      "text/plain": [
       "HBox(children=(IntProgress(value=0, description='Measurement sweep', max=10000, style=ProgressStyle(descriptio…"
      ]
     },
     "metadata": {},
     "output_type": "display_data"
    },
    {
     "data": {
      "application/vnd.jupyter.widget-view+json": {
       "model_id": "",
       "version_major": 2,
       "version_minor": 0
      },
      "text/plain": [
       "HBox(children=(IntProgress(value=0, description='Equilibrate sweep', style=ProgressStyle(description_width='in…"
      ]
     },
     "metadata": {},
     "output_type": "display_data"
    },
    {
     "data": {
      "application/vnd.jupyter.widget-view+json": {
       "model_id": "",
       "version_major": 2,
       "version_minor": 0
      },
      "text/plain": [
       "HBox(children=(IntProgress(value=0, description='Measurement sweep', max=10000, style=ProgressStyle(descriptio…"
      ]
     },
     "metadata": {},
     "output_type": "display_data"
    },
    {
     "data": {
      "application/vnd.jupyter.widget-view+json": {
       "model_id": "",
       "version_major": 2,
       "version_minor": 0
      },
      "text/plain": [
       "HBox(children=(IntProgress(value=0, description='Equilibrate sweep', style=ProgressStyle(description_width='in…"
      ]
     },
     "metadata": {},
     "output_type": "display_data"
    },
    {
     "data": {
      "application/vnd.jupyter.widget-view+json": {
       "model_id": "",
       "version_major": 2,
       "version_minor": 0
      },
      "text/plain": [
       "HBox(children=(IntProgress(value=0, description='Measurement sweep', max=10000, style=ProgressStyle(descriptio…"
      ]
     },
     "metadata": {},
     "output_type": "display_data"
    },
    {
     "data": {
      "application/vnd.jupyter.widget-view+json": {
       "model_id": "",
       "version_major": 2,
       "version_minor": 0
      },
      "text/plain": [
       "HBox(children=(IntProgress(value=0, description='Equilibrate sweep', style=ProgressStyle(description_width='in…"
      ]
     },
     "metadata": {},
     "output_type": "display_data"
    },
    {
     "data": {
      "application/vnd.jupyter.widget-view+json": {
       "model_id": "",
       "version_major": 2,
       "version_minor": 0
      },
      "text/plain": [
       "HBox(children=(IntProgress(value=0, description='Measurement sweep', max=10000, style=ProgressStyle(descriptio…"
      ]
     },
     "metadata": {},
     "output_type": "display_data"
    },
    {
     "data": {
      "application/vnd.jupyter.widget-view+json": {
       "model_id": "",
       "version_major": 2,
       "version_minor": 0
      },
      "text/plain": [
       "HBox(children=(IntProgress(value=0, description='Equilibrate sweep', style=ProgressStyle(description_width='in…"
      ]
     },
     "metadata": {},
     "output_type": "display_data"
    },
    {
     "data": {
      "application/vnd.jupyter.widget-view+json": {
       "model_id": "",
       "version_major": 2,
       "version_minor": 0
      },
      "text/plain": [
       "HBox(children=(IntProgress(value=0, description='Measurement sweep', max=10000, style=ProgressStyle(descriptio…"
      ]
     },
     "metadata": {},
     "output_type": "display_data"
    },
    {
     "data": {
      "application/vnd.jupyter.widget-view+json": {
       "model_id": "",
       "version_major": 2,
       "version_minor": 0
      },
      "text/plain": [
       "HBox(children=(IntProgress(value=0, description='Equilibrate sweep', style=ProgressStyle(description_width='in…"
      ]
     },
     "metadata": {},
     "output_type": "display_data"
    },
    {
     "data": {
      "application/vnd.jupyter.widget-view+json": {
       "model_id": "",
       "version_major": 2,
       "version_minor": 0
      },
      "text/plain": [
       "HBox(children=(IntProgress(value=0, description='Measurement sweep', max=10000, style=ProgressStyle(descriptio…"
      ]
     },
     "metadata": {},
     "output_type": "display_data"
    },
    {
     "data": {
      "application/vnd.jupyter.widget-view+json": {
       "model_id": "",
       "version_major": 2,
       "version_minor": 0
      },
      "text/plain": [
       "HBox(children=(IntProgress(value=0, description='Equilibrate sweep', style=ProgressStyle(description_width='in…"
      ]
     },
     "metadata": {},
     "output_type": "display_data"
    },
    {
     "data": {
      "application/vnd.jupyter.widget-view+json": {
       "model_id": "",
       "version_major": 2,
       "version_minor": 0
      },
      "text/plain": [
       "HBox(children=(IntProgress(value=0, description='Measurement sweep', max=10000, style=ProgressStyle(descriptio…"
      ]
     },
     "metadata": {},
     "output_type": "display_data"
    },
    {
     "data": {
      "application/vnd.jupyter.widget-view+json": {
       "model_id": "",
       "version_major": 2,
       "version_minor": 0
      },
      "text/plain": [
       "HBox(children=(IntProgress(value=0, description='Col', max=20, style=ProgressStyle(description_width='initial'…"
      ]
     },
     "metadata": {},
     "output_type": "display_data"
    },
    {
     "data": {
      "application/vnd.jupyter.widget-view+json": {
       "model_id": "",
       "version_major": 2,
       "version_minor": 0
      },
      "text/plain": [
       "HBox(children=(IntProgress(value=0, description='Equilibrate sweep', style=ProgressStyle(description_width='in…"
      ]
     },
     "metadata": {},
     "output_type": "display_data"
    },
    {
     "data": {
      "application/vnd.jupyter.widget-view+json": {
       "model_id": "",
       "version_major": 2,
       "version_minor": 0
      },
      "text/plain": [
       "HBox(children=(IntProgress(value=0, description='Measurement sweep', max=10000, style=ProgressStyle(descriptio…"
      ]
     },
     "metadata": {},
     "output_type": "display_data"
    },
    {
     "data": {
      "application/vnd.jupyter.widget-view+json": {
       "model_id": "",
       "version_major": 2,
       "version_minor": 0
      },
      "text/plain": [
       "HBox(children=(IntProgress(value=0, description='Equilibrate sweep', style=ProgressStyle(description_width='in…"
      ]
     },
     "metadata": {},
     "output_type": "display_data"
    },
    {
     "data": {
      "application/vnd.jupyter.widget-view+json": {
       "model_id": "",
       "version_major": 2,
       "version_minor": 0
      },
      "text/plain": [
       "HBox(children=(IntProgress(value=0, description='Measurement sweep', max=10000, style=ProgressStyle(descriptio…"
      ]
     },
     "metadata": {},
     "output_type": "display_data"
    },
    {
     "data": {
      "application/vnd.jupyter.widget-view+json": {
       "model_id": "",
       "version_major": 2,
       "version_minor": 0
      },
      "text/plain": [
       "HBox(children=(IntProgress(value=0, description='Equilibrate sweep', style=ProgressStyle(description_width='in…"
      ]
     },
     "metadata": {},
     "output_type": "display_data"
    },
    {
     "data": {
      "application/vnd.jupyter.widget-view+json": {
       "model_id": "",
       "version_major": 2,
       "version_minor": 0
      },
      "text/plain": [
       "HBox(children=(IntProgress(value=0, description='Measurement sweep', max=10000, style=ProgressStyle(descriptio…"
      ]
     },
     "metadata": {},
     "output_type": "display_data"
    },
    {
     "data": {
      "application/vnd.jupyter.widget-view+json": {
       "model_id": "",
       "version_major": 2,
       "version_minor": 0
      },
      "text/plain": [
       "HBox(children=(IntProgress(value=0, description='Equilibrate sweep', style=ProgressStyle(description_width='in…"
      ]
     },
     "metadata": {},
     "output_type": "display_data"
    },
    {
     "data": {
      "application/vnd.jupyter.widget-view+json": {
       "model_id": "",
       "version_major": 2,
       "version_minor": 0
      },
      "text/plain": [
       "HBox(children=(IntProgress(value=0, description='Measurement sweep', max=10000, style=ProgressStyle(descriptio…"
      ]
     },
     "metadata": {},
     "output_type": "display_data"
    },
    {
     "data": {
      "application/vnd.jupyter.widget-view+json": {
       "model_id": "",
       "version_major": 2,
       "version_minor": 0
      },
      "text/plain": [
       "HBox(children=(IntProgress(value=0, description='Equilibrate sweep', style=ProgressStyle(description_width='in…"
      ]
     },
     "metadata": {},
     "output_type": "display_data"
    },
    {
     "data": {
      "application/vnd.jupyter.widget-view+json": {
       "model_id": "",
       "version_major": 2,
       "version_minor": 0
      },
      "text/plain": [
       "HBox(children=(IntProgress(value=0, description='Measurement sweep', max=10000, style=ProgressStyle(descriptio…"
      ]
     },
     "metadata": {},
     "output_type": "display_data"
    },
    {
     "data": {
      "application/vnd.jupyter.widget-view+json": {
       "model_id": "",
       "version_major": 2,
       "version_minor": 0
      },
      "text/plain": [
       "HBox(children=(IntProgress(value=0, description='Equilibrate sweep', style=ProgressStyle(description_width='in…"
      ]
     },
     "metadata": {},
     "output_type": "display_data"
    },
    {
     "data": {
      "application/vnd.jupyter.widget-view+json": {
       "model_id": "",
       "version_major": 2,
       "version_minor": 0
      },
      "text/plain": [
       "HBox(children=(IntProgress(value=0, description='Measurement sweep', max=10000, style=ProgressStyle(descriptio…"
      ]
     },
     "metadata": {},
     "output_type": "display_data"
    },
    {
     "data": {
      "application/vnd.jupyter.widget-view+json": {
       "model_id": "",
       "version_major": 2,
       "version_minor": 0
      },
      "text/plain": [
       "HBox(children=(IntProgress(value=0, description='Equilibrate sweep', style=ProgressStyle(description_width='in…"
      ]
     },
     "metadata": {},
     "output_type": "display_data"
    },
    {
     "data": {
      "application/vnd.jupyter.widget-view+json": {
       "model_id": "",
       "version_major": 2,
       "version_minor": 0
      },
      "text/plain": [
       "HBox(children=(IntProgress(value=0, description='Measurement sweep', max=10000, style=ProgressStyle(descriptio…"
      ]
     },
     "metadata": {},
     "output_type": "display_data"
    },
    {
     "data": {
      "application/vnd.jupyter.widget-view+json": {
       "model_id": "",
       "version_major": 2,
       "version_minor": 0
      },
      "text/plain": [
       "HBox(children=(IntProgress(value=0, description='Equilibrate sweep', style=ProgressStyle(description_width='in…"
      ]
     },
     "metadata": {},
     "output_type": "display_data"
    },
    {
     "data": {
      "application/vnd.jupyter.widget-view+json": {
       "model_id": "",
       "version_major": 2,
       "version_minor": 0
      },
      "text/plain": [
       "HBox(children=(IntProgress(value=0, description='Measurement sweep', max=10000, style=ProgressStyle(descriptio…"
      ]
     },
     "metadata": {},
     "output_type": "display_data"
    },
    {
     "data": {
      "application/vnd.jupyter.widget-view+json": {
       "model_id": "",
       "version_major": 2,
       "version_minor": 0
      },
      "text/plain": [
       "HBox(children=(IntProgress(value=0, description='Equilibrate sweep', style=ProgressStyle(description_width='in…"
      ]
     },
     "metadata": {},
     "output_type": "display_data"
    },
    {
     "data": {
      "application/vnd.jupyter.widget-view+json": {
       "model_id": "",
       "version_major": 2,
       "version_minor": 0
      },
      "text/plain": [
       "HBox(children=(IntProgress(value=0, description='Measurement sweep', max=10000, style=ProgressStyle(descriptio…"
      ]
     },
     "metadata": {},
     "output_type": "display_data"
    },
    {
     "data": {
      "application/vnd.jupyter.widget-view+json": {
       "model_id": "",
       "version_major": 2,
       "version_minor": 0
      },
      "text/plain": [
       "HBox(children=(IntProgress(value=0, description='Equilibrate sweep', style=ProgressStyle(description_width='in…"
      ]
     },
     "metadata": {},
     "output_type": "display_data"
    },
    {
     "data": {
      "application/vnd.jupyter.widget-view+json": {
       "model_id": "",
       "version_major": 2,
       "version_minor": 0
      },
      "text/plain": [
       "HBox(children=(IntProgress(value=0, description='Measurement sweep', max=10000, style=ProgressStyle(descriptio…"
      ]
     },
     "metadata": {},
     "output_type": "display_data"
    },
    {
     "data": {
      "application/vnd.jupyter.widget-view+json": {
       "model_id": "",
       "version_major": 2,
       "version_minor": 0
      },
      "text/plain": [
       "HBox(children=(IntProgress(value=0, description='Equilibrate sweep', style=ProgressStyle(description_width='in…"
      ]
     },
     "metadata": {},
     "output_type": "display_data"
    },
    {
     "data": {
      "application/vnd.jupyter.widget-view+json": {
       "model_id": "",
       "version_major": 2,
       "version_minor": 0
      },
      "text/plain": [
       "HBox(children=(IntProgress(value=0, description='Measurement sweep', max=10000, style=ProgressStyle(descriptio…"
      ]
     },
     "metadata": {},
     "output_type": "display_data"
    },
    {
     "data": {
      "application/vnd.jupyter.widget-view+json": {
       "model_id": "",
       "version_major": 2,
       "version_minor": 0
      },
      "text/plain": [
       "HBox(children=(IntProgress(value=0, description='Equilibrate sweep', style=ProgressStyle(description_width='in…"
      ]
     },
     "metadata": {},
     "output_type": "display_data"
    },
    {
     "data": {
      "application/vnd.jupyter.widget-view+json": {
       "model_id": "",
       "version_major": 2,
       "version_minor": 0
      },
      "text/plain": [
       "HBox(children=(IntProgress(value=0, description='Measurement sweep', max=10000, style=ProgressStyle(descriptio…"
      ]
     },
     "metadata": {},
     "output_type": "display_data"
    },
    {
     "data": {
      "application/vnd.jupyter.widget-view+json": {
       "model_id": "",
       "version_major": 2,
       "version_minor": 0
      },
      "text/plain": [
       "HBox(children=(IntProgress(value=0, description='Equilibrate sweep', style=ProgressStyle(description_width='in…"
      ]
     },
     "metadata": {},
     "output_type": "display_data"
    },
    {
     "data": {
      "application/vnd.jupyter.widget-view+json": {
       "model_id": "",
       "version_major": 2,
       "version_minor": 0
      },
      "text/plain": [
       "HBox(children=(IntProgress(value=0, description='Measurement sweep', max=10000, style=ProgressStyle(descriptio…"
      ]
     },
     "metadata": {},
     "output_type": "display_data"
    },
    {
     "data": {
      "application/vnd.jupyter.widget-view+json": {
       "model_id": "",
       "version_major": 2,
       "version_minor": 0
      },
      "text/plain": [
       "HBox(children=(IntProgress(value=0, description='Equilibrate sweep', style=ProgressStyle(description_width='in…"
      ]
     },
     "metadata": {},
     "output_type": "display_data"
    },
    {
     "data": {
      "application/vnd.jupyter.widget-view+json": {
       "model_id": "",
       "version_major": 2,
       "version_minor": 0
      },
      "text/plain": [
       "HBox(children=(IntProgress(value=0, description='Measurement sweep', max=10000, style=ProgressStyle(descriptio…"
      ]
     },
     "metadata": {},
     "output_type": "display_data"
    },
    {
     "data": {
      "application/vnd.jupyter.widget-view+json": {
       "model_id": "",
       "version_major": 2,
       "version_minor": 0
      },
      "text/plain": [
       "HBox(children=(IntProgress(value=0, description='Equilibrate sweep', style=ProgressStyle(description_width='in…"
      ]
     },
     "metadata": {},
     "output_type": "display_data"
    },
    {
     "data": {
      "application/vnd.jupyter.widget-view+json": {
       "model_id": "",
       "version_major": 2,
       "version_minor": 0
      },
      "text/plain": [
       "HBox(children=(IntProgress(value=0, description='Measurement sweep', max=10000, style=ProgressStyle(descriptio…"
      ]
     },
     "metadata": {},
     "output_type": "display_data"
    },
    {
     "data": {
      "application/vnd.jupyter.widget-view+json": {
       "model_id": "",
       "version_major": 2,
       "version_minor": 0
      },
      "text/plain": [
       "HBox(children=(IntProgress(value=0, description='Equilibrate sweep', style=ProgressStyle(description_width='in…"
      ]
     },
     "metadata": {},
     "output_type": "display_data"
    },
    {
     "data": {
      "application/vnd.jupyter.widget-view+json": {
       "model_id": "",
       "version_major": 2,
       "version_minor": 0
      },
      "text/plain": [
       "HBox(children=(IntProgress(value=0, description='Measurement sweep', max=10000, style=ProgressStyle(descriptio…"
      ]
     },
     "metadata": {},
     "output_type": "display_data"
    },
    {
     "data": {
      "application/vnd.jupyter.widget-view+json": {
       "model_id": "",
       "version_major": 2,
       "version_minor": 0
      },
      "text/plain": [
       "HBox(children=(IntProgress(value=0, description='Equilibrate sweep', style=ProgressStyle(description_width='in…"
      ]
     },
     "metadata": {},
     "output_type": "display_data"
    },
    {
     "data": {
      "application/vnd.jupyter.widget-view+json": {
       "model_id": "",
       "version_major": 2,
       "version_minor": 0
      },
      "text/plain": [
       "HBox(children=(IntProgress(value=0, description='Measurement sweep', max=10000, style=ProgressStyle(descriptio…"
      ]
     },
     "metadata": {},
     "output_type": "display_data"
    },
    {
     "data": {
      "application/vnd.jupyter.widget-view+json": {
       "model_id": "",
       "version_major": 2,
       "version_minor": 0
      },
      "text/plain": [
       "HBox(children=(IntProgress(value=0, description='Equilibrate sweep', style=ProgressStyle(description_width='in…"
      ]
     },
     "metadata": {},
     "output_type": "display_data"
    },
    {
     "data": {
      "application/vnd.jupyter.widget-view+json": {
       "model_id": "",
       "version_major": 2,
       "version_minor": 0
      },
      "text/plain": [
       "HBox(children=(IntProgress(value=0, description='Measurement sweep', max=10000, style=ProgressStyle(descriptio…"
      ]
     },
     "metadata": {},
     "output_type": "display_data"
    },
    {
     "data": {
      "application/vnd.jupyter.widget-view+json": {
       "model_id": "",
       "version_major": 2,
       "version_minor": 0
      },
      "text/plain": [
       "HBox(children=(IntProgress(value=0, description='Equilibrate sweep', style=ProgressStyle(description_width='in…"
      ]
     },
     "metadata": {},
     "output_type": "display_data"
    },
    {
     "data": {
      "application/vnd.jupyter.widget-view+json": {
       "model_id": "",
       "version_major": 2,
       "version_minor": 0
      },
      "text/plain": [
       "HBox(children=(IntProgress(value=0, description='Measurement sweep', max=10000, style=ProgressStyle(descriptio…"
      ]
     },
     "metadata": {},
     "output_type": "display_data"
    },
    {
     "data": {
      "application/vnd.jupyter.widget-view+json": {
       "model_id": "",
       "version_major": 2,
       "version_minor": 0
      },
      "text/plain": [
       "HBox(children=(IntProgress(value=0, description='Equilibrate sweep', style=ProgressStyle(description_width='in…"
      ]
     },
     "metadata": {},
     "output_type": "display_data"
    },
    {
     "data": {
      "application/vnd.jupyter.widget-view+json": {
       "model_id": "",
       "version_major": 2,
       "version_minor": 0
      },
      "text/plain": [
       "HBox(children=(IntProgress(value=0, description='Measurement sweep', max=10000, style=ProgressStyle(descriptio…"
      ]
     },
     "metadata": {},
     "output_type": "display_data"
    },
    {
     "data": {
      "application/vnd.jupyter.widget-view+json": {
       "model_id": "",
       "version_major": 2,
       "version_minor": 0
      },
      "text/plain": [
       "HBox(children=(IntProgress(value=0, description='Col', max=20, style=ProgressStyle(description_width='initial'…"
      ]
     },
     "metadata": {},
     "output_type": "display_data"
    },
    {
     "data": {
      "application/vnd.jupyter.widget-view+json": {
       "model_id": "",
       "version_major": 2,
       "version_minor": 0
      },
      "text/plain": [
       "HBox(children=(IntProgress(value=0, description='Equilibrate sweep', style=ProgressStyle(description_width='in…"
      ]
     },
     "metadata": {},
     "output_type": "display_data"
    },
    {
     "data": {
      "application/vnd.jupyter.widget-view+json": {
       "model_id": "",
       "version_major": 2,
       "version_minor": 0
      },
      "text/plain": [
       "HBox(children=(IntProgress(value=0, description='Measurement sweep', max=10000, style=ProgressStyle(descriptio…"
      ]
     },
     "metadata": {},
     "output_type": "display_data"
    },
    {
     "data": {
      "application/vnd.jupyter.widget-view+json": {
       "model_id": "",
       "version_major": 2,
       "version_minor": 0
      },
      "text/plain": [
       "HBox(children=(IntProgress(value=0, description='Equilibrate sweep', style=ProgressStyle(description_width='in…"
      ]
     },
     "metadata": {},
     "output_type": "display_data"
    },
    {
     "data": {
      "application/vnd.jupyter.widget-view+json": {
       "model_id": "",
       "version_major": 2,
       "version_minor": 0
      },
      "text/plain": [
       "HBox(children=(IntProgress(value=0, description='Measurement sweep', max=10000, style=ProgressStyle(descriptio…"
      ]
     },
     "metadata": {},
     "output_type": "display_data"
    },
    {
     "data": {
      "application/vnd.jupyter.widget-view+json": {
       "model_id": "",
       "version_major": 2,
       "version_minor": 0
      },
      "text/plain": [
       "HBox(children=(IntProgress(value=0, description='Equilibrate sweep', style=ProgressStyle(description_width='in…"
      ]
     },
     "metadata": {},
     "output_type": "display_data"
    },
    {
     "data": {
      "application/vnd.jupyter.widget-view+json": {
       "model_id": "",
       "version_major": 2,
       "version_minor": 0
      },
      "text/plain": [
       "HBox(children=(IntProgress(value=0, description='Measurement sweep', max=10000, style=ProgressStyle(descriptio…"
      ]
     },
     "metadata": {},
     "output_type": "display_data"
    },
    {
     "data": {
      "application/vnd.jupyter.widget-view+json": {
       "model_id": "",
       "version_major": 2,
       "version_minor": 0
      },
      "text/plain": [
       "HBox(children=(IntProgress(value=0, description='Equilibrate sweep', style=ProgressStyle(description_width='in…"
      ]
     },
     "metadata": {},
     "output_type": "display_data"
    },
    {
     "data": {
      "application/vnd.jupyter.widget-view+json": {
       "model_id": "",
       "version_major": 2,
       "version_minor": 0
      },
      "text/plain": [
       "HBox(children=(IntProgress(value=0, description='Measurement sweep', max=10000, style=ProgressStyle(descriptio…"
      ]
     },
     "metadata": {},
     "output_type": "display_data"
    },
    {
     "data": {
      "application/vnd.jupyter.widget-view+json": {
       "model_id": "",
       "version_major": 2,
       "version_minor": 0
      },
      "text/plain": [
       "HBox(children=(IntProgress(value=0, description='Equilibrate sweep', style=ProgressStyle(description_width='in…"
      ]
     },
     "metadata": {},
     "output_type": "display_data"
    },
    {
     "data": {
      "application/vnd.jupyter.widget-view+json": {
       "model_id": "",
       "version_major": 2,
       "version_minor": 0
      },
      "text/plain": [
       "HBox(children=(IntProgress(value=0, description='Measurement sweep', max=10000, style=ProgressStyle(descriptio…"
      ]
     },
     "metadata": {},
     "output_type": "display_data"
    },
    {
     "data": {
      "application/vnd.jupyter.widget-view+json": {
       "model_id": "",
       "version_major": 2,
       "version_minor": 0
      },
      "text/plain": [
       "HBox(children=(IntProgress(value=0, description='Equilibrate sweep', style=ProgressStyle(description_width='in…"
      ]
     },
     "metadata": {},
     "output_type": "display_data"
    },
    {
     "data": {
      "application/vnd.jupyter.widget-view+json": {
       "model_id": "",
       "version_major": 2,
       "version_minor": 0
      },
      "text/plain": [
       "HBox(children=(IntProgress(value=0, description='Measurement sweep', max=10000, style=ProgressStyle(descriptio…"
      ]
     },
     "metadata": {},
     "output_type": "display_data"
    },
    {
     "data": {
      "application/vnd.jupyter.widget-view+json": {
       "model_id": "",
       "version_major": 2,
       "version_minor": 0
      },
      "text/plain": [
       "HBox(children=(IntProgress(value=0, description='Equilibrate sweep', style=ProgressStyle(description_width='in…"
      ]
     },
     "metadata": {},
     "output_type": "display_data"
    },
    {
     "data": {
      "application/vnd.jupyter.widget-view+json": {
       "model_id": "",
       "version_major": 2,
       "version_minor": 0
      },
      "text/plain": [
       "HBox(children=(IntProgress(value=0, description='Measurement sweep', max=10000, style=ProgressStyle(descriptio…"
      ]
     },
     "metadata": {},
     "output_type": "display_data"
    },
    {
     "data": {
      "application/vnd.jupyter.widget-view+json": {
       "model_id": "",
       "version_major": 2,
       "version_minor": 0
      },
      "text/plain": [
       "HBox(children=(IntProgress(value=0, description='Equilibrate sweep', style=ProgressStyle(description_width='in…"
      ]
     },
     "metadata": {},
     "output_type": "display_data"
    },
    {
     "data": {
      "application/vnd.jupyter.widget-view+json": {
       "model_id": "",
       "version_major": 2,
       "version_minor": 0
      },
      "text/plain": [
       "HBox(children=(IntProgress(value=0, description='Measurement sweep', max=10000, style=ProgressStyle(descriptio…"
      ]
     },
     "metadata": {},
     "output_type": "display_data"
    },
    {
     "data": {
      "application/vnd.jupyter.widget-view+json": {
       "model_id": "",
       "version_major": 2,
       "version_minor": 0
      },
      "text/plain": [
       "HBox(children=(IntProgress(value=0, description='Equilibrate sweep', style=ProgressStyle(description_width='in…"
      ]
     },
     "metadata": {},
     "output_type": "display_data"
    },
    {
     "data": {
      "application/vnd.jupyter.widget-view+json": {
       "model_id": "",
       "version_major": 2,
       "version_minor": 0
      },
      "text/plain": [
       "HBox(children=(IntProgress(value=0, description='Measurement sweep', max=10000, style=ProgressStyle(descriptio…"
      ]
     },
     "metadata": {},
     "output_type": "display_data"
    },
    {
     "data": {
      "application/vnd.jupyter.widget-view+json": {
       "model_id": "",
       "version_major": 2,
       "version_minor": 0
      },
      "text/plain": [
       "HBox(children=(IntProgress(value=0, description='Equilibrate sweep', style=ProgressStyle(description_width='in…"
      ]
     },
     "metadata": {},
     "output_type": "display_data"
    },
    {
     "data": {
      "application/vnd.jupyter.widget-view+json": {
       "model_id": "",
       "version_major": 2,
       "version_minor": 0
      },
      "text/plain": [
       "HBox(children=(IntProgress(value=0, description='Measurement sweep', max=10000, style=ProgressStyle(descriptio…"
      ]
     },
     "metadata": {},
     "output_type": "display_data"
    },
    {
     "data": {
      "application/vnd.jupyter.widget-view+json": {
       "model_id": "",
       "version_major": 2,
       "version_minor": 0
      },
      "text/plain": [
       "HBox(children=(IntProgress(value=0, description='Equilibrate sweep', style=ProgressStyle(description_width='in…"
      ]
     },
     "metadata": {},
     "output_type": "display_data"
    },
    {
     "data": {
      "application/vnd.jupyter.widget-view+json": {
       "model_id": "",
       "version_major": 2,
       "version_minor": 0
      },
      "text/plain": [
       "HBox(children=(IntProgress(value=0, description='Measurement sweep', max=10000, style=ProgressStyle(descriptio…"
      ]
     },
     "metadata": {},
     "output_type": "display_data"
    },
    {
     "data": {
      "application/vnd.jupyter.widget-view+json": {
       "model_id": "",
       "version_major": 2,
       "version_minor": 0
      },
      "text/plain": [
       "HBox(children=(IntProgress(value=0, description='Equilibrate sweep', style=ProgressStyle(description_width='in…"
      ]
     },
     "metadata": {},
     "output_type": "display_data"
    },
    {
     "data": {
      "application/vnd.jupyter.widget-view+json": {
       "model_id": "",
       "version_major": 2,
       "version_minor": 0
      },
      "text/plain": [
       "HBox(children=(IntProgress(value=0, description='Measurement sweep', max=10000, style=ProgressStyle(descriptio…"
      ]
     },
     "metadata": {},
     "output_type": "display_data"
    },
    {
     "data": {
      "application/vnd.jupyter.widget-view+json": {
       "model_id": "",
       "version_major": 2,
       "version_minor": 0
      },
      "text/plain": [
       "HBox(children=(IntProgress(value=0, description='Equilibrate sweep', style=ProgressStyle(description_width='in…"
      ]
     },
     "metadata": {},
     "output_type": "display_data"
    },
    {
     "data": {
      "application/vnd.jupyter.widget-view+json": {
       "model_id": "",
       "version_major": 2,
       "version_minor": 0
      },
      "text/plain": [
       "HBox(children=(IntProgress(value=0, description='Measurement sweep', max=10000, style=ProgressStyle(descriptio…"
      ]
     },
     "metadata": {},
     "output_type": "display_data"
    },
    {
     "data": {
      "application/vnd.jupyter.widget-view+json": {
       "model_id": "",
       "version_major": 2,
       "version_minor": 0
      },
      "text/plain": [
       "HBox(children=(IntProgress(value=0, description='Equilibrate sweep', style=ProgressStyle(description_width='in…"
      ]
     },
     "metadata": {},
     "output_type": "display_data"
    },
    {
     "data": {
      "application/vnd.jupyter.widget-view+json": {
       "model_id": "",
       "version_major": 2,
       "version_minor": 0
      },
      "text/plain": [
       "HBox(children=(IntProgress(value=0, description='Measurement sweep', max=10000, style=ProgressStyle(descriptio…"
      ]
     },
     "metadata": {},
     "output_type": "display_data"
    },
    {
     "data": {
      "application/vnd.jupyter.widget-view+json": {
       "model_id": "",
       "version_major": 2,
       "version_minor": 0
      },
      "text/plain": [
       "HBox(children=(IntProgress(value=0, description='Equilibrate sweep', style=ProgressStyle(description_width='in…"
      ]
     },
     "metadata": {},
     "output_type": "display_data"
    },
    {
     "data": {
      "application/vnd.jupyter.widget-view+json": {
       "model_id": "",
       "version_major": 2,
       "version_minor": 0
      },
      "text/plain": [
       "HBox(children=(IntProgress(value=0, description='Measurement sweep', max=10000, style=ProgressStyle(descriptio…"
      ]
     },
     "metadata": {},
     "output_type": "display_data"
    },
    {
     "data": {
      "application/vnd.jupyter.widget-view+json": {
       "model_id": "",
       "version_major": 2,
       "version_minor": 0
      },
      "text/plain": [
       "HBox(children=(IntProgress(value=0, description='Equilibrate sweep', style=ProgressStyle(description_width='in…"
      ]
     },
     "metadata": {},
     "output_type": "display_data"
    },
    {
     "data": {
      "application/vnd.jupyter.widget-view+json": {
       "model_id": "",
       "version_major": 2,
       "version_minor": 0
      },
      "text/plain": [
       "HBox(children=(IntProgress(value=0, description='Measurement sweep', max=10000, style=ProgressStyle(descriptio…"
      ]
     },
     "metadata": {},
     "output_type": "display_data"
    },
    {
     "data": {
      "application/vnd.jupyter.widget-view+json": {
       "model_id": "",
       "version_major": 2,
       "version_minor": 0
      },
      "text/plain": [
       "HBox(children=(IntProgress(value=0, description='Equilibrate sweep', style=ProgressStyle(description_width='in…"
      ]
     },
     "metadata": {},
     "output_type": "display_data"
    },
    {
     "data": {
      "application/vnd.jupyter.widget-view+json": {
       "model_id": "",
       "version_major": 2,
       "version_minor": 0
      },
      "text/plain": [
       "HBox(children=(IntProgress(value=0, description='Measurement sweep', max=10000, style=ProgressStyle(descriptio…"
      ]
     },
     "metadata": {},
     "output_type": "display_data"
    },
    {
     "data": {
      "application/vnd.jupyter.widget-view+json": {
       "model_id": "",
       "version_major": 2,
       "version_minor": 0
      },
      "text/plain": [
       "HBox(children=(IntProgress(value=0, description='Equilibrate sweep', style=ProgressStyle(description_width='in…"
      ]
     },
     "metadata": {},
     "output_type": "display_data"
    },
    {
     "data": {
      "application/vnd.jupyter.widget-view+json": {
       "model_id": "",
       "version_major": 2,
       "version_minor": 0
      },
      "text/plain": [
       "HBox(children=(IntProgress(value=0, description='Measurement sweep', max=10000, style=ProgressStyle(descriptio…"
      ]
     },
     "metadata": {},
     "output_type": "display_data"
    },
    {
     "data": {
      "application/vnd.jupyter.widget-view+json": {
       "model_id": "",
       "version_major": 2,
       "version_minor": 0
      },
      "text/plain": [
       "HBox(children=(IntProgress(value=0, description='Equilibrate sweep', style=ProgressStyle(description_width='in…"
      ]
     },
     "metadata": {},
     "output_type": "display_data"
    },
    {
     "data": {
      "application/vnd.jupyter.widget-view+json": {
       "model_id": "",
       "version_major": 2,
       "version_minor": 0
      },
      "text/plain": [
       "HBox(children=(IntProgress(value=0, description='Measurement sweep', max=10000, style=ProgressStyle(descriptio…"
      ]
     },
     "metadata": {},
     "output_type": "display_data"
    },
    {
     "data": {
      "application/vnd.jupyter.widget-view+json": {
       "model_id": "",
       "version_major": 2,
       "version_minor": 0
      },
      "text/plain": [
       "HBox(children=(IntProgress(value=0, description='Equilibrate sweep', style=ProgressStyle(description_width='in…"
      ]
     },
     "metadata": {},
     "output_type": "display_data"
    },
    {
     "data": {
      "application/vnd.jupyter.widget-view+json": {
       "model_id": "",
       "version_major": 2,
       "version_minor": 0
      },
      "text/plain": [
       "HBox(children=(IntProgress(value=0, description='Measurement sweep', max=10000, style=ProgressStyle(descriptio…"
      ]
     },
     "metadata": {},
     "output_type": "display_data"
    },
    {
     "data": {
      "application/vnd.jupyter.widget-view+json": {
       "model_id": "",
       "version_major": 2,
       "version_minor": 0
      },
      "text/plain": [
       "HBox(children=(IntProgress(value=0, description='Col', max=20, style=ProgressStyle(description_width='initial'…"
      ]
     },
     "metadata": {},
     "output_type": "display_data"
    },
    {
     "data": {
      "application/vnd.jupyter.widget-view+json": {
       "model_id": "",
       "version_major": 2,
       "version_minor": 0
      },
      "text/plain": [
       "HBox(children=(IntProgress(value=0, description='Equilibrate sweep', style=ProgressStyle(description_width='in…"
      ]
     },
     "metadata": {},
     "output_type": "display_data"
    },
    {
     "data": {
      "application/vnd.jupyter.widget-view+json": {
       "model_id": "",
       "version_major": 2,
       "version_minor": 0
      },
      "text/plain": [
       "HBox(children=(IntProgress(value=0, description='Measurement sweep', max=10000, style=ProgressStyle(descriptio…"
      ]
     },
     "metadata": {},
     "output_type": "display_data"
    },
    {
     "data": {
      "application/vnd.jupyter.widget-view+json": {
       "model_id": "",
       "version_major": 2,
       "version_minor": 0
      },
      "text/plain": [
       "HBox(children=(IntProgress(value=0, description='Equilibrate sweep', style=ProgressStyle(description_width='in…"
      ]
     },
     "metadata": {},
     "output_type": "display_data"
    },
    {
     "data": {
      "application/vnd.jupyter.widget-view+json": {
       "model_id": "",
       "version_major": 2,
       "version_minor": 0
      },
      "text/plain": [
       "HBox(children=(IntProgress(value=0, description='Measurement sweep', max=10000, style=ProgressStyle(descriptio…"
      ]
     },
     "metadata": {},
     "output_type": "display_data"
    },
    {
     "data": {
      "application/vnd.jupyter.widget-view+json": {
       "model_id": "",
       "version_major": 2,
       "version_minor": 0
      },
      "text/plain": [
       "HBox(children=(IntProgress(value=0, description='Equilibrate sweep', style=ProgressStyle(description_width='in…"
      ]
     },
     "metadata": {},
     "output_type": "display_data"
    },
    {
     "data": {
      "application/vnd.jupyter.widget-view+json": {
       "model_id": "",
       "version_major": 2,
       "version_minor": 0
      },
      "text/plain": [
       "HBox(children=(IntProgress(value=0, description='Measurement sweep', max=10000, style=ProgressStyle(descriptio…"
      ]
     },
     "metadata": {},
     "output_type": "display_data"
    },
    {
     "data": {
      "application/vnd.jupyter.widget-view+json": {
       "model_id": "",
       "version_major": 2,
       "version_minor": 0
      },
      "text/plain": [
       "HBox(children=(IntProgress(value=0, description='Equilibrate sweep', style=ProgressStyle(description_width='in…"
      ]
     },
     "metadata": {},
     "output_type": "display_data"
    },
    {
     "data": {
      "application/vnd.jupyter.widget-view+json": {
       "model_id": "",
       "version_major": 2,
       "version_minor": 0
      },
      "text/plain": [
       "HBox(children=(IntProgress(value=0, description='Measurement sweep', max=10000, style=ProgressStyle(descriptio…"
      ]
     },
     "metadata": {},
     "output_type": "display_data"
    },
    {
     "data": {
      "application/vnd.jupyter.widget-view+json": {
       "model_id": "",
       "version_major": 2,
       "version_minor": 0
      },
      "text/plain": [
       "HBox(children=(IntProgress(value=0, description='Equilibrate sweep', style=ProgressStyle(description_width='in…"
      ]
     },
     "metadata": {},
     "output_type": "display_data"
    },
    {
     "data": {
      "application/vnd.jupyter.widget-view+json": {
       "model_id": "",
       "version_major": 2,
       "version_minor": 0
      },
      "text/plain": [
       "HBox(children=(IntProgress(value=0, description='Measurement sweep', max=10000, style=ProgressStyle(descriptio…"
      ]
     },
     "metadata": {},
     "output_type": "display_data"
    },
    {
     "data": {
      "application/vnd.jupyter.widget-view+json": {
       "model_id": "",
       "version_major": 2,
       "version_minor": 0
      },
      "text/plain": [
       "HBox(children=(IntProgress(value=0, description='Equilibrate sweep', style=ProgressStyle(description_width='in…"
      ]
     },
     "metadata": {},
     "output_type": "display_data"
    },
    {
     "data": {
      "application/vnd.jupyter.widget-view+json": {
       "model_id": "",
       "version_major": 2,
       "version_minor": 0
      },
      "text/plain": [
       "HBox(children=(IntProgress(value=0, description='Measurement sweep', max=10000, style=ProgressStyle(descriptio…"
      ]
     },
     "metadata": {},
     "output_type": "display_data"
    },
    {
     "data": {
      "application/vnd.jupyter.widget-view+json": {
       "model_id": "",
       "version_major": 2,
       "version_minor": 0
      },
      "text/plain": [
       "HBox(children=(IntProgress(value=0, description='Equilibrate sweep', style=ProgressStyle(description_width='in…"
      ]
     },
     "metadata": {},
     "output_type": "display_data"
    },
    {
     "data": {
      "application/vnd.jupyter.widget-view+json": {
       "model_id": "",
       "version_major": 2,
       "version_minor": 0
      },
      "text/plain": [
       "HBox(children=(IntProgress(value=0, description='Measurement sweep', max=10000, style=ProgressStyle(descriptio…"
      ]
     },
     "metadata": {},
     "output_type": "display_data"
    },
    {
     "data": {
      "application/vnd.jupyter.widget-view+json": {
       "model_id": "",
       "version_major": 2,
       "version_minor": 0
      },
      "text/plain": [
       "HBox(children=(IntProgress(value=0, description='Equilibrate sweep', style=ProgressStyle(description_width='in…"
      ]
     },
     "metadata": {},
     "output_type": "display_data"
    },
    {
     "data": {
      "application/vnd.jupyter.widget-view+json": {
       "model_id": "",
       "version_major": 2,
       "version_minor": 0
      },
      "text/plain": [
       "HBox(children=(IntProgress(value=0, description='Measurement sweep', max=10000, style=ProgressStyle(descriptio…"
      ]
     },
     "metadata": {},
     "output_type": "display_data"
    },
    {
     "data": {
      "application/vnd.jupyter.widget-view+json": {
       "model_id": "",
       "version_major": 2,
       "version_minor": 0
      },
      "text/plain": [
       "HBox(children=(IntProgress(value=0, description='Equilibrate sweep', style=ProgressStyle(description_width='in…"
      ]
     },
     "metadata": {},
     "output_type": "display_data"
    },
    {
     "data": {
      "application/vnd.jupyter.widget-view+json": {
       "model_id": "",
       "version_major": 2,
       "version_minor": 0
      },
      "text/plain": [
       "HBox(children=(IntProgress(value=0, description='Measurement sweep', max=10000, style=ProgressStyle(descriptio…"
      ]
     },
     "metadata": {},
     "output_type": "display_data"
    },
    {
     "data": {
      "application/vnd.jupyter.widget-view+json": {
       "model_id": "",
       "version_major": 2,
       "version_minor": 0
      },
      "text/plain": [
       "HBox(children=(IntProgress(value=0, description='Equilibrate sweep', style=ProgressStyle(description_width='in…"
      ]
     },
     "metadata": {},
     "output_type": "display_data"
    },
    {
     "data": {
      "application/vnd.jupyter.widget-view+json": {
       "model_id": "",
       "version_major": 2,
       "version_minor": 0
      },
      "text/plain": [
       "HBox(children=(IntProgress(value=0, description='Measurement sweep', max=10000, style=ProgressStyle(descriptio…"
      ]
     },
     "metadata": {},
     "output_type": "display_data"
    },
    {
     "data": {
      "application/vnd.jupyter.widget-view+json": {
       "model_id": "",
       "version_major": 2,
       "version_minor": 0
      },
      "text/plain": [
       "HBox(children=(IntProgress(value=0, description='Equilibrate sweep', style=ProgressStyle(description_width='in…"
      ]
     },
     "metadata": {},
     "output_type": "display_data"
    },
    {
     "data": {
      "application/vnd.jupyter.widget-view+json": {
       "model_id": "",
       "version_major": 2,
       "version_minor": 0
      },
      "text/plain": [
       "HBox(children=(IntProgress(value=0, description='Measurement sweep', max=10000, style=ProgressStyle(descriptio…"
      ]
     },
     "metadata": {},
     "output_type": "display_data"
    },
    {
     "data": {
      "application/vnd.jupyter.widget-view+json": {
       "model_id": "",
       "version_major": 2,
       "version_minor": 0
      },
      "text/plain": [
       "HBox(children=(IntProgress(value=0, description='Equilibrate sweep', style=ProgressStyle(description_width='in…"
      ]
     },
     "metadata": {},
     "output_type": "display_data"
    },
    {
     "data": {
      "application/vnd.jupyter.widget-view+json": {
       "model_id": "",
       "version_major": 2,
       "version_minor": 0
      },
      "text/plain": [
       "HBox(children=(IntProgress(value=0, description='Measurement sweep', max=10000, style=ProgressStyle(descriptio…"
      ]
     },
     "metadata": {},
     "output_type": "display_data"
    },
    {
     "data": {
      "application/vnd.jupyter.widget-view+json": {
       "model_id": "",
       "version_major": 2,
       "version_minor": 0
      },
      "text/plain": [
       "HBox(children=(IntProgress(value=0, description='Equilibrate sweep', style=ProgressStyle(description_width='in…"
      ]
     },
     "metadata": {},
     "output_type": "display_data"
    },
    {
     "data": {
      "application/vnd.jupyter.widget-view+json": {
       "model_id": "",
       "version_major": 2,
       "version_minor": 0
      },
      "text/plain": [
       "HBox(children=(IntProgress(value=0, description='Measurement sweep', max=10000, style=ProgressStyle(descriptio…"
      ]
     },
     "metadata": {},
     "output_type": "display_data"
    },
    {
     "data": {
      "application/vnd.jupyter.widget-view+json": {
       "model_id": "",
       "version_major": 2,
       "version_minor": 0
      },
      "text/plain": [
       "HBox(children=(IntProgress(value=0, description='Equilibrate sweep', style=ProgressStyle(description_width='in…"
      ]
     },
     "metadata": {},
     "output_type": "display_data"
    },
    {
     "data": {
      "application/vnd.jupyter.widget-view+json": {
       "model_id": "",
       "version_major": 2,
       "version_minor": 0
      },
      "text/plain": [
       "HBox(children=(IntProgress(value=0, description='Measurement sweep', max=10000, style=ProgressStyle(descriptio…"
      ]
     },
     "metadata": {},
     "output_type": "display_data"
    },
    {
     "data": {
      "application/vnd.jupyter.widget-view+json": {
       "model_id": "",
       "version_major": 2,
       "version_minor": 0
      },
      "text/plain": [
       "HBox(children=(IntProgress(value=0, description='Equilibrate sweep', style=ProgressStyle(description_width='in…"
      ]
     },
     "metadata": {},
     "output_type": "display_data"
    },
    {
     "data": {
      "application/vnd.jupyter.widget-view+json": {
       "model_id": "",
       "version_major": 2,
       "version_minor": 0
      },
      "text/plain": [
       "HBox(children=(IntProgress(value=0, description='Measurement sweep', max=10000, style=ProgressStyle(descriptio…"
      ]
     },
     "metadata": {},
     "output_type": "display_data"
    },
    {
     "data": {
      "application/vnd.jupyter.widget-view+json": {
       "model_id": "",
       "version_major": 2,
       "version_minor": 0
      },
      "text/plain": [
       "HBox(children=(IntProgress(value=0, description='Equilibrate sweep', style=ProgressStyle(description_width='in…"
      ]
     },
     "metadata": {},
     "output_type": "display_data"
    },
    {
     "data": {
      "application/vnd.jupyter.widget-view+json": {
       "model_id": "",
       "version_major": 2,
       "version_minor": 0
      },
      "text/plain": [
       "HBox(children=(IntProgress(value=0, description='Measurement sweep', max=10000, style=ProgressStyle(descriptio…"
      ]
     },
     "metadata": {},
     "output_type": "display_data"
    },
    {
     "data": {
      "application/vnd.jupyter.widget-view+json": {
       "model_id": "",
       "version_major": 2,
       "version_minor": 0
      },
      "text/plain": [
       "HBox(children=(IntProgress(value=0, description='Equilibrate sweep', style=ProgressStyle(description_width='in…"
      ]
     },
     "metadata": {},
     "output_type": "display_data"
    },
    {
     "data": {
      "application/vnd.jupyter.widget-view+json": {
       "model_id": "",
       "version_major": 2,
       "version_minor": 0
      },
      "text/plain": [
       "HBox(children=(IntProgress(value=0, description='Measurement sweep', max=10000, style=ProgressStyle(descriptio…"
      ]
     },
     "metadata": {},
     "output_type": "display_data"
    },
    {
     "data": {
      "application/vnd.jupyter.widget-view+json": {
       "model_id": "",
       "version_major": 2,
       "version_minor": 0
      },
      "text/plain": [
       "HBox(children=(IntProgress(value=0, description='Equilibrate sweep', style=ProgressStyle(description_width='in…"
      ]
     },
     "metadata": {},
     "output_type": "display_data"
    },
    {
     "data": {
      "application/vnd.jupyter.widget-view+json": {
       "model_id": "",
       "version_major": 2,
       "version_minor": 0
      },
      "text/plain": [
       "HBox(children=(IntProgress(value=0, description='Measurement sweep', max=10000, style=ProgressStyle(descriptio…"
      ]
     },
     "metadata": {},
     "output_type": "display_data"
    },
    {
     "data": {
      "application/vnd.jupyter.widget-view+json": {
       "model_id": "",
       "version_major": 2,
       "version_minor": 0
      },
      "text/plain": [
       "HBox(children=(IntProgress(value=0, description='Equilibrate sweep', style=ProgressStyle(description_width='in…"
      ]
     },
     "metadata": {},
     "output_type": "display_data"
    },
    {
     "data": {
      "application/vnd.jupyter.widget-view+json": {
       "model_id": "",
       "version_major": 2,
       "version_minor": 0
      },
      "text/plain": [
       "HBox(children=(IntProgress(value=0, description='Measurement sweep', max=10000, style=ProgressStyle(descriptio…"
      ]
     },
     "metadata": {},
     "output_type": "display_data"
    },
    {
     "data": {
      "application/vnd.jupyter.widget-view+json": {
       "model_id": "",
       "version_major": 2,
       "version_minor": 0
      },
      "text/plain": [
       "HBox(children=(IntProgress(value=0, description='Equilibrate sweep', style=ProgressStyle(description_width='in…"
      ]
     },
     "metadata": {},
     "output_type": "display_data"
    },
    {
     "data": {
      "application/vnd.jupyter.widget-view+json": {
       "model_id": "",
       "version_major": 2,
       "version_minor": 0
      },
      "text/plain": [
       "HBox(children=(IntProgress(value=0, description='Measurement sweep', max=10000, style=ProgressStyle(descriptio…"
      ]
     },
     "metadata": {},
     "output_type": "display_data"
    },
    {
     "data": {
      "application/vnd.jupyter.widget-view+json": {
       "model_id": "",
       "version_major": 2,
       "version_minor": 0
      },
      "text/plain": [
       "HBox(children=(IntProgress(value=0, description='Col', max=20, style=ProgressStyle(description_width='initial'…"
      ]
     },
     "metadata": {},
     "output_type": "display_data"
    },
    {
     "data": {
      "application/vnd.jupyter.widget-view+json": {
       "model_id": "",
       "version_major": 2,
       "version_minor": 0
      },
      "text/plain": [
       "HBox(children=(IntProgress(value=0, description='Equilibrate sweep', style=ProgressStyle(description_width='in…"
      ]
     },
     "metadata": {},
     "output_type": "display_data"
    },
    {
     "data": {
      "application/vnd.jupyter.widget-view+json": {
       "model_id": "",
       "version_major": 2,
       "version_minor": 0
      },
      "text/plain": [
       "HBox(children=(IntProgress(value=0, description='Measurement sweep', max=10000, style=ProgressStyle(descriptio…"
      ]
     },
     "metadata": {},
     "output_type": "display_data"
    },
    {
     "data": {
      "application/vnd.jupyter.widget-view+json": {
       "model_id": "",
       "version_major": 2,
       "version_minor": 0
      },
      "text/plain": [
       "HBox(children=(IntProgress(value=0, description='Equilibrate sweep', style=ProgressStyle(description_width='in…"
      ]
     },
     "metadata": {},
     "output_type": "display_data"
    },
    {
     "data": {
      "application/vnd.jupyter.widget-view+json": {
       "model_id": "",
       "version_major": 2,
       "version_minor": 0
      },
      "text/plain": [
       "HBox(children=(IntProgress(value=0, description='Measurement sweep', max=10000, style=ProgressStyle(descriptio…"
      ]
     },
     "metadata": {},
     "output_type": "display_data"
    },
    {
     "data": {
      "application/vnd.jupyter.widget-view+json": {
       "model_id": "",
       "version_major": 2,
       "version_minor": 0
      },
      "text/plain": [
       "HBox(children=(IntProgress(value=0, description='Equilibrate sweep', style=ProgressStyle(description_width='in…"
      ]
     },
     "metadata": {},
     "output_type": "display_data"
    },
    {
     "data": {
      "application/vnd.jupyter.widget-view+json": {
       "model_id": "",
       "version_major": 2,
       "version_minor": 0
      },
      "text/plain": [
       "HBox(children=(IntProgress(value=0, description='Measurement sweep', max=10000, style=ProgressStyle(descriptio…"
      ]
     },
     "metadata": {},
     "output_type": "display_data"
    },
    {
     "data": {
      "application/vnd.jupyter.widget-view+json": {
       "model_id": "",
       "version_major": 2,
       "version_minor": 0
      },
      "text/plain": [
       "HBox(children=(IntProgress(value=0, description='Equilibrate sweep', style=ProgressStyle(description_width='in…"
      ]
     },
     "metadata": {},
     "output_type": "display_data"
    },
    {
     "data": {
      "application/vnd.jupyter.widget-view+json": {
       "model_id": "",
       "version_major": 2,
       "version_minor": 0
      },
      "text/plain": [
       "HBox(children=(IntProgress(value=0, description='Measurement sweep', max=10000, style=ProgressStyle(descriptio…"
      ]
     },
     "metadata": {},
     "output_type": "display_data"
    },
    {
     "data": {
      "application/vnd.jupyter.widget-view+json": {
       "model_id": "",
       "version_major": 2,
       "version_minor": 0
      },
      "text/plain": [
       "HBox(children=(IntProgress(value=0, description='Equilibrate sweep', style=ProgressStyle(description_width='in…"
      ]
     },
     "metadata": {},
     "output_type": "display_data"
    },
    {
     "data": {
      "application/vnd.jupyter.widget-view+json": {
       "model_id": "",
       "version_major": 2,
       "version_minor": 0
      },
      "text/plain": [
       "HBox(children=(IntProgress(value=0, description='Measurement sweep', max=10000, style=ProgressStyle(descriptio…"
      ]
     },
     "metadata": {},
     "output_type": "display_data"
    },
    {
     "data": {
      "application/vnd.jupyter.widget-view+json": {
       "model_id": "",
       "version_major": 2,
       "version_minor": 0
      },
      "text/plain": [
       "HBox(children=(IntProgress(value=0, description='Equilibrate sweep', style=ProgressStyle(description_width='in…"
      ]
     },
     "metadata": {},
     "output_type": "display_data"
    },
    {
     "data": {
      "application/vnd.jupyter.widget-view+json": {
       "model_id": "",
       "version_major": 2,
       "version_minor": 0
      },
      "text/plain": [
       "HBox(children=(IntProgress(value=0, description='Measurement sweep', max=10000, style=ProgressStyle(descriptio…"
      ]
     },
     "metadata": {},
     "output_type": "display_data"
    },
    {
     "data": {
      "application/vnd.jupyter.widget-view+json": {
       "model_id": "",
       "version_major": 2,
       "version_minor": 0
      },
      "text/plain": [
       "HBox(children=(IntProgress(value=0, description='Equilibrate sweep', style=ProgressStyle(description_width='in…"
      ]
     },
     "metadata": {},
     "output_type": "display_data"
    },
    {
     "data": {
      "application/vnd.jupyter.widget-view+json": {
       "model_id": "",
       "version_major": 2,
       "version_minor": 0
      },
      "text/plain": [
       "HBox(children=(IntProgress(value=0, description='Measurement sweep', max=10000, style=ProgressStyle(descriptio…"
      ]
     },
     "metadata": {},
     "output_type": "display_data"
    },
    {
     "data": {
      "application/vnd.jupyter.widget-view+json": {
       "model_id": "",
       "version_major": 2,
       "version_minor": 0
      },
      "text/plain": [
       "HBox(children=(IntProgress(value=0, description='Equilibrate sweep', style=ProgressStyle(description_width='in…"
      ]
     },
     "metadata": {},
     "output_type": "display_data"
    },
    {
     "data": {
      "application/vnd.jupyter.widget-view+json": {
       "model_id": "",
       "version_major": 2,
       "version_minor": 0
      },
      "text/plain": [
       "HBox(children=(IntProgress(value=0, description='Measurement sweep', max=10000, style=ProgressStyle(descriptio…"
      ]
     },
     "metadata": {},
     "output_type": "display_data"
    },
    {
     "data": {
      "application/vnd.jupyter.widget-view+json": {
       "model_id": "",
       "version_major": 2,
       "version_minor": 0
      },
      "text/plain": [
       "HBox(children=(IntProgress(value=0, description='Equilibrate sweep', style=ProgressStyle(description_width='in…"
      ]
     },
     "metadata": {},
     "output_type": "display_data"
    },
    {
     "data": {
      "application/vnd.jupyter.widget-view+json": {
       "model_id": "",
       "version_major": 2,
       "version_minor": 0
      },
      "text/plain": [
       "HBox(children=(IntProgress(value=0, description='Measurement sweep', max=10000, style=ProgressStyle(descriptio…"
      ]
     },
     "metadata": {},
     "output_type": "display_data"
    },
    {
     "data": {
      "application/vnd.jupyter.widget-view+json": {
       "model_id": "",
       "version_major": 2,
       "version_minor": 0
      },
      "text/plain": [
       "HBox(children=(IntProgress(value=0, description='Equilibrate sweep', style=ProgressStyle(description_width='in…"
      ]
     },
     "metadata": {},
     "output_type": "display_data"
    },
    {
     "data": {
      "application/vnd.jupyter.widget-view+json": {
       "model_id": "",
       "version_major": 2,
       "version_minor": 0
      },
      "text/plain": [
       "HBox(children=(IntProgress(value=0, description='Measurement sweep', max=10000, style=ProgressStyle(descriptio…"
      ]
     },
     "metadata": {},
     "output_type": "display_data"
    },
    {
     "data": {
      "application/vnd.jupyter.widget-view+json": {
       "model_id": "",
       "version_major": 2,
       "version_minor": 0
      },
      "text/plain": [
       "HBox(children=(IntProgress(value=0, description='Equilibrate sweep', style=ProgressStyle(description_width='in…"
      ]
     },
     "metadata": {},
     "output_type": "display_data"
    },
    {
     "data": {
      "application/vnd.jupyter.widget-view+json": {
       "model_id": "",
       "version_major": 2,
       "version_minor": 0
      },
      "text/plain": [
       "HBox(children=(IntProgress(value=0, description='Measurement sweep', max=10000, style=ProgressStyle(descriptio…"
      ]
     },
     "metadata": {},
     "output_type": "display_data"
    },
    {
     "data": {
      "application/vnd.jupyter.widget-view+json": {
       "model_id": "",
       "version_major": 2,
       "version_minor": 0
      },
      "text/plain": [
       "HBox(children=(IntProgress(value=0, description='Equilibrate sweep', style=ProgressStyle(description_width='in…"
      ]
     },
     "metadata": {},
     "output_type": "display_data"
    },
    {
     "data": {
      "application/vnd.jupyter.widget-view+json": {
       "model_id": "",
       "version_major": 2,
       "version_minor": 0
      },
      "text/plain": [
       "HBox(children=(IntProgress(value=0, description='Measurement sweep', max=10000, style=ProgressStyle(descriptio…"
      ]
     },
     "metadata": {},
     "output_type": "display_data"
    },
    {
     "data": {
      "application/vnd.jupyter.widget-view+json": {
       "model_id": "",
       "version_major": 2,
       "version_minor": 0
      },
      "text/plain": [
       "HBox(children=(IntProgress(value=0, description='Equilibrate sweep', style=ProgressStyle(description_width='in…"
      ]
     },
     "metadata": {},
     "output_type": "display_data"
    },
    {
     "data": {
      "application/vnd.jupyter.widget-view+json": {
       "model_id": "",
       "version_major": 2,
       "version_minor": 0
      },
      "text/plain": [
       "HBox(children=(IntProgress(value=0, description='Measurement sweep', max=10000, style=ProgressStyle(descriptio…"
      ]
     },
     "metadata": {},
     "output_type": "display_data"
    },
    {
     "data": {
      "application/vnd.jupyter.widget-view+json": {
       "model_id": "",
       "version_major": 2,
       "version_minor": 0
      },
      "text/plain": [
       "HBox(children=(IntProgress(value=0, description='Equilibrate sweep', style=ProgressStyle(description_width='in…"
      ]
     },
     "metadata": {},
     "output_type": "display_data"
    },
    {
     "data": {
      "application/vnd.jupyter.widget-view+json": {
       "model_id": "",
       "version_major": 2,
       "version_minor": 0
      },
      "text/plain": [
       "HBox(children=(IntProgress(value=0, description='Measurement sweep', max=10000, style=ProgressStyle(descriptio…"
      ]
     },
     "metadata": {},
     "output_type": "display_data"
    },
    {
     "data": {
      "application/vnd.jupyter.widget-view+json": {
       "model_id": "",
       "version_major": 2,
       "version_minor": 0
      },
      "text/plain": [
       "HBox(children=(IntProgress(value=0, description='Equilibrate sweep', style=ProgressStyle(description_width='in…"
      ]
     },
     "metadata": {},
     "output_type": "display_data"
    },
    {
     "data": {
      "application/vnd.jupyter.widget-view+json": {
       "model_id": "",
       "version_major": 2,
       "version_minor": 0
      },
      "text/plain": [
       "HBox(children=(IntProgress(value=0, description='Measurement sweep', max=10000, style=ProgressStyle(descriptio…"
      ]
     },
     "metadata": {},
     "output_type": "display_data"
    },
    {
     "data": {
      "application/vnd.jupyter.widget-view+json": {
       "model_id": "",
       "version_major": 2,
       "version_minor": 0
      },
      "text/plain": [
       "HBox(children=(IntProgress(value=0, description='Equilibrate sweep', style=ProgressStyle(description_width='in…"
      ]
     },
     "metadata": {},
     "output_type": "display_data"
    },
    {
     "data": {
      "application/vnd.jupyter.widget-view+json": {
       "model_id": "",
       "version_major": 2,
       "version_minor": 0
      },
      "text/plain": [
       "HBox(children=(IntProgress(value=0, description='Measurement sweep', max=10000, style=ProgressStyle(descriptio…"
      ]
     },
     "metadata": {},
     "output_type": "display_data"
    },
    {
     "data": {
      "application/vnd.jupyter.widget-view+json": {
       "model_id": "",
       "version_major": 2,
       "version_minor": 0
      },
      "text/plain": [
       "HBox(children=(IntProgress(value=0, description='Equilibrate sweep', style=ProgressStyle(description_width='in…"
      ]
     },
     "metadata": {},
     "output_type": "display_data"
    },
    {
     "data": {
      "application/vnd.jupyter.widget-view+json": {
       "model_id": "",
       "version_major": 2,
       "version_minor": 0
      },
      "text/plain": [
       "HBox(children=(IntProgress(value=0, description='Measurement sweep', max=10000, style=ProgressStyle(descriptio…"
      ]
     },
     "metadata": {},
     "output_type": "display_data"
    },
    {
     "data": {
      "application/vnd.jupyter.widget-view+json": {
       "model_id": "",
       "version_major": 2,
       "version_minor": 0
      },
      "text/plain": [
       "HBox(children=(IntProgress(value=0, description='Equilibrate sweep', style=ProgressStyle(description_width='in…"
      ]
     },
     "metadata": {},
     "output_type": "display_data"
    },
    {
     "data": {
      "application/vnd.jupyter.widget-view+json": {
       "model_id": "",
       "version_major": 2,
       "version_minor": 0
      },
      "text/plain": [
       "HBox(children=(IntProgress(value=0, description='Measurement sweep', max=10000, style=ProgressStyle(descriptio…"
      ]
     },
     "metadata": {},
     "output_type": "display_data"
    },
    {
     "data": {
      "application/vnd.jupyter.widget-view+json": {
       "model_id": "",
       "version_major": 2,
       "version_minor": 0
      },
      "text/plain": [
       "HBox(children=(IntProgress(value=0, description='Equilibrate sweep', style=ProgressStyle(description_width='in…"
      ]
     },
     "metadata": {},
     "output_type": "display_data"
    },
    {
     "data": {
      "application/vnd.jupyter.widget-view+json": {
       "model_id": "",
       "version_major": 2,
       "version_minor": 0
      },
      "text/plain": [
       "HBox(children=(IntProgress(value=0, description='Measurement sweep', max=10000, style=ProgressStyle(descriptio…"
      ]
     },
     "metadata": {},
     "output_type": "display_data"
    },
    {
     "data": {
      "application/vnd.jupyter.widget-view+json": {
       "model_id": "",
       "version_major": 2,
       "version_minor": 0
      },
      "text/plain": [
       "HBox(children=(IntProgress(value=0, description='Equilibrate sweep', style=ProgressStyle(description_width='in…"
      ]
     },
     "metadata": {},
     "output_type": "display_data"
    },
    {
     "data": {
      "application/vnd.jupyter.widget-view+json": {
       "model_id": "",
       "version_major": 2,
       "version_minor": 0
      },
      "text/plain": [
       "HBox(children=(IntProgress(value=0, description='Measurement sweep', max=10000, style=ProgressStyle(descriptio…"
      ]
     },
     "metadata": {},
     "output_type": "display_data"
    },
    {
     "data": {
      "application/vnd.jupyter.widget-view+json": {
       "model_id": "",
       "version_major": 2,
       "version_minor": 0
      },
      "text/plain": [
       "HBox(children=(IntProgress(value=0, description='Col', max=20, style=ProgressStyle(description_width='initial'…"
      ]
     },
     "metadata": {},
     "output_type": "display_data"
    },
    {
     "data": {
      "application/vnd.jupyter.widget-view+json": {
       "model_id": "",
       "version_major": 2,
       "version_minor": 0
      },
      "text/plain": [
       "HBox(children=(IntProgress(value=0, description='Equilibrate sweep', style=ProgressStyle(description_width='in…"
      ]
     },
     "metadata": {},
     "output_type": "display_data"
    },
    {
     "data": {
      "application/vnd.jupyter.widget-view+json": {
       "model_id": "",
       "version_major": 2,
       "version_minor": 0
      },
      "text/plain": [
       "HBox(children=(IntProgress(value=0, description='Measurement sweep', max=10000, style=ProgressStyle(descriptio…"
      ]
     },
     "metadata": {},
     "output_type": "display_data"
    },
    {
     "data": {
      "application/vnd.jupyter.widget-view+json": {
       "model_id": "",
       "version_major": 2,
       "version_minor": 0
      },
      "text/plain": [
       "HBox(children=(IntProgress(value=0, description='Equilibrate sweep', style=ProgressStyle(description_width='in…"
      ]
     },
     "metadata": {},
     "output_type": "display_data"
    },
    {
     "data": {
      "application/vnd.jupyter.widget-view+json": {
       "model_id": "",
       "version_major": 2,
       "version_minor": 0
      },
      "text/plain": [
       "HBox(children=(IntProgress(value=0, description='Measurement sweep', max=10000, style=ProgressStyle(descriptio…"
      ]
     },
     "metadata": {},
     "output_type": "display_data"
    },
    {
     "data": {
      "application/vnd.jupyter.widget-view+json": {
       "model_id": "",
       "version_major": 2,
       "version_minor": 0
      },
      "text/plain": [
       "HBox(children=(IntProgress(value=0, description='Equilibrate sweep', style=ProgressStyle(description_width='in…"
      ]
     },
     "metadata": {},
     "output_type": "display_data"
    },
    {
     "data": {
      "application/vnd.jupyter.widget-view+json": {
       "model_id": "",
       "version_major": 2,
       "version_minor": 0
      },
      "text/plain": [
       "HBox(children=(IntProgress(value=0, description='Measurement sweep', max=10000, style=ProgressStyle(descriptio…"
      ]
     },
     "metadata": {},
     "output_type": "display_data"
    },
    {
     "data": {
      "application/vnd.jupyter.widget-view+json": {
       "model_id": "",
       "version_major": 2,
       "version_minor": 0
      },
      "text/plain": [
       "HBox(children=(IntProgress(value=0, description='Equilibrate sweep', style=ProgressStyle(description_width='in…"
      ]
     },
     "metadata": {},
     "output_type": "display_data"
    },
    {
     "data": {
      "application/vnd.jupyter.widget-view+json": {
       "model_id": "",
       "version_major": 2,
       "version_minor": 0
      },
      "text/plain": [
       "HBox(children=(IntProgress(value=0, description='Measurement sweep', max=10000, style=ProgressStyle(descriptio…"
      ]
     },
     "metadata": {},
     "output_type": "display_data"
    },
    {
     "data": {
      "application/vnd.jupyter.widget-view+json": {
       "model_id": "",
       "version_major": 2,
       "version_minor": 0
      },
      "text/plain": [
       "HBox(children=(IntProgress(value=0, description='Equilibrate sweep', style=ProgressStyle(description_width='in…"
      ]
     },
     "metadata": {},
     "output_type": "display_data"
    },
    {
     "data": {
      "application/vnd.jupyter.widget-view+json": {
       "model_id": "",
       "version_major": 2,
       "version_minor": 0
      },
      "text/plain": [
       "HBox(children=(IntProgress(value=0, description='Measurement sweep', max=10000, style=ProgressStyle(descriptio…"
      ]
     },
     "metadata": {},
     "output_type": "display_data"
    },
    {
     "data": {
      "application/vnd.jupyter.widget-view+json": {
       "model_id": "",
       "version_major": 2,
       "version_minor": 0
      },
      "text/plain": [
       "HBox(children=(IntProgress(value=0, description='Equilibrate sweep', style=ProgressStyle(description_width='in…"
      ]
     },
     "metadata": {},
     "output_type": "display_data"
    },
    {
     "data": {
      "application/vnd.jupyter.widget-view+json": {
       "model_id": "",
       "version_major": 2,
       "version_minor": 0
      },
      "text/plain": [
       "HBox(children=(IntProgress(value=0, description='Measurement sweep', max=10000, style=ProgressStyle(descriptio…"
      ]
     },
     "metadata": {},
     "output_type": "display_data"
    },
    {
     "data": {
      "application/vnd.jupyter.widget-view+json": {
       "model_id": "",
       "version_major": 2,
       "version_minor": 0
      },
      "text/plain": [
       "HBox(children=(IntProgress(value=0, description='Equilibrate sweep', style=ProgressStyle(description_width='in…"
      ]
     },
     "metadata": {},
     "output_type": "display_data"
    },
    {
     "data": {
      "application/vnd.jupyter.widget-view+json": {
       "model_id": "",
       "version_major": 2,
       "version_minor": 0
      },
      "text/plain": [
       "HBox(children=(IntProgress(value=0, description='Measurement sweep', max=10000, style=ProgressStyle(descriptio…"
      ]
     },
     "metadata": {},
     "output_type": "display_data"
    },
    {
     "data": {
      "application/vnd.jupyter.widget-view+json": {
       "model_id": "",
       "version_major": 2,
       "version_minor": 0
      },
      "text/plain": [
       "HBox(children=(IntProgress(value=0, description='Equilibrate sweep', style=ProgressStyle(description_width='in…"
      ]
     },
     "metadata": {},
     "output_type": "display_data"
    },
    {
     "data": {
      "application/vnd.jupyter.widget-view+json": {
       "model_id": "",
       "version_major": 2,
       "version_minor": 0
      },
      "text/plain": [
       "HBox(children=(IntProgress(value=0, description='Measurement sweep', max=10000, style=ProgressStyle(descriptio…"
      ]
     },
     "metadata": {},
     "output_type": "display_data"
    },
    {
     "data": {
      "application/vnd.jupyter.widget-view+json": {
       "model_id": "",
       "version_major": 2,
       "version_minor": 0
      },
      "text/plain": [
       "HBox(children=(IntProgress(value=0, description='Equilibrate sweep', style=ProgressStyle(description_width='in…"
      ]
     },
     "metadata": {},
     "output_type": "display_data"
    },
    {
     "data": {
      "application/vnd.jupyter.widget-view+json": {
       "model_id": "",
       "version_major": 2,
       "version_minor": 0
      },
      "text/plain": [
       "HBox(children=(IntProgress(value=0, description='Measurement sweep', max=10000, style=ProgressStyle(descriptio…"
      ]
     },
     "metadata": {},
     "output_type": "display_data"
    },
    {
     "data": {
      "application/vnd.jupyter.widget-view+json": {
       "model_id": "",
       "version_major": 2,
       "version_minor": 0
      },
      "text/plain": [
       "HBox(children=(IntProgress(value=0, description='Equilibrate sweep', style=ProgressStyle(description_width='in…"
      ]
     },
     "metadata": {},
     "output_type": "display_data"
    },
    {
     "data": {
      "application/vnd.jupyter.widget-view+json": {
       "model_id": "",
       "version_major": 2,
       "version_minor": 0
      },
      "text/plain": [
       "HBox(children=(IntProgress(value=0, description='Measurement sweep', max=10000, style=ProgressStyle(descriptio…"
      ]
     },
     "metadata": {},
     "output_type": "display_data"
    },
    {
     "data": {
      "application/vnd.jupyter.widget-view+json": {
       "model_id": "",
       "version_major": 2,
       "version_minor": 0
      },
      "text/plain": [
       "HBox(children=(IntProgress(value=0, description='Equilibrate sweep', style=ProgressStyle(description_width='in…"
      ]
     },
     "metadata": {},
     "output_type": "display_data"
    },
    {
     "data": {
      "application/vnd.jupyter.widget-view+json": {
       "model_id": "",
       "version_major": 2,
       "version_minor": 0
      },
      "text/plain": [
       "HBox(children=(IntProgress(value=0, description='Measurement sweep', max=10000, style=ProgressStyle(descriptio…"
      ]
     },
     "metadata": {},
     "output_type": "display_data"
    },
    {
     "data": {
      "application/vnd.jupyter.widget-view+json": {
       "model_id": "",
       "version_major": 2,
       "version_minor": 0
      },
      "text/plain": [
       "HBox(children=(IntProgress(value=0, description='Equilibrate sweep', style=ProgressStyle(description_width='in…"
      ]
     },
     "metadata": {},
     "output_type": "display_data"
    },
    {
     "data": {
      "application/vnd.jupyter.widget-view+json": {
       "model_id": "",
       "version_major": 2,
       "version_minor": 0
      },
      "text/plain": [
       "HBox(children=(IntProgress(value=0, description='Measurement sweep', max=10000, style=ProgressStyle(descriptio…"
      ]
     },
     "metadata": {},
     "output_type": "display_data"
    },
    {
     "data": {
      "application/vnd.jupyter.widget-view+json": {
       "model_id": "",
       "version_major": 2,
       "version_minor": 0
      },
      "text/plain": [
       "HBox(children=(IntProgress(value=0, description='Equilibrate sweep', style=ProgressStyle(description_width='in…"
      ]
     },
     "metadata": {},
     "output_type": "display_data"
    },
    {
     "data": {
      "application/vnd.jupyter.widget-view+json": {
       "model_id": "",
       "version_major": 2,
       "version_minor": 0
      },
      "text/plain": [
       "HBox(children=(IntProgress(value=0, description='Measurement sweep', max=10000, style=ProgressStyle(descriptio…"
      ]
     },
     "metadata": {},
     "output_type": "display_data"
    },
    {
     "data": {
      "application/vnd.jupyter.widget-view+json": {
       "model_id": "",
       "version_major": 2,
       "version_minor": 0
      },
      "text/plain": [
       "HBox(children=(IntProgress(value=0, description='Equilibrate sweep', style=ProgressStyle(description_width='in…"
      ]
     },
     "metadata": {},
     "output_type": "display_data"
    },
    {
     "data": {
      "application/vnd.jupyter.widget-view+json": {
       "model_id": "",
       "version_major": 2,
       "version_minor": 0
      },
      "text/plain": [
       "HBox(children=(IntProgress(value=0, description='Measurement sweep', max=10000, style=ProgressStyle(descriptio…"
      ]
     },
     "metadata": {},
     "output_type": "display_data"
    },
    {
     "data": {
      "application/vnd.jupyter.widget-view+json": {
       "model_id": "",
       "version_major": 2,
       "version_minor": 0
      },
      "text/plain": [
       "HBox(children=(IntProgress(value=0, description='Equilibrate sweep', style=ProgressStyle(description_width='in…"
      ]
     },
     "metadata": {},
     "output_type": "display_data"
    },
    {
     "data": {
      "application/vnd.jupyter.widget-view+json": {
       "model_id": "",
       "version_major": 2,
       "version_minor": 0
      },
      "text/plain": [
       "HBox(children=(IntProgress(value=0, description='Measurement sweep', max=10000, style=ProgressStyle(descriptio…"
      ]
     },
     "metadata": {},
     "output_type": "display_data"
    },
    {
     "data": {
      "application/vnd.jupyter.widget-view+json": {
       "model_id": "",
       "version_major": 2,
       "version_minor": 0
      },
      "text/plain": [
       "HBox(children=(IntProgress(value=0, description='Equilibrate sweep', style=ProgressStyle(description_width='in…"
      ]
     },
     "metadata": {},
     "output_type": "display_data"
    },
    {
     "data": {
      "application/vnd.jupyter.widget-view+json": {
       "model_id": "",
       "version_major": 2,
       "version_minor": 0
      },
      "text/plain": [
       "HBox(children=(IntProgress(value=0, description='Measurement sweep', max=10000, style=ProgressStyle(descriptio…"
      ]
     },
     "metadata": {},
     "output_type": "display_data"
    },
    {
     "data": {
      "application/vnd.jupyter.widget-view+json": {
       "model_id": "",
       "version_major": 2,
       "version_minor": 0
      },
      "text/plain": [
       "HBox(children=(IntProgress(value=0, description='Equilibrate sweep', style=ProgressStyle(description_width='in…"
      ]
     },
     "metadata": {},
     "output_type": "display_data"
    },
    {
     "data": {
      "application/vnd.jupyter.widget-view+json": {
       "model_id": "",
       "version_major": 2,
       "version_minor": 0
      },
      "text/plain": [
       "HBox(children=(IntProgress(value=0, description='Measurement sweep', max=10000, style=ProgressStyle(descriptio…"
      ]
     },
     "metadata": {},
     "output_type": "display_data"
    },
    {
     "data": {
      "application/vnd.jupyter.widget-view+json": {
       "model_id": "",
       "version_major": 2,
       "version_minor": 0
      },
      "text/plain": [
       "HBox(children=(IntProgress(value=0, description='Equilibrate sweep', style=ProgressStyle(description_width='in…"
      ]
     },
     "metadata": {},
     "output_type": "display_data"
    },
    {
     "data": {
      "application/vnd.jupyter.widget-view+json": {
       "model_id": "",
       "version_major": 2,
       "version_minor": 0
      },
      "text/plain": [
       "HBox(children=(IntProgress(value=0, description='Measurement sweep', max=10000, style=ProgressStyle(descriptio…"
      ]
     },
     "metadata": {},
     "output_type": "display_data"
    },
    {
     "data": {
      "application/vnd.jupyter.widget-view+json": {
       "model_id": "",
       "version_major": 2,
       "version_minor": 0
      },
      "text/plain": [
       "HBox(children=(IntProgress(value=0, description='Equilibrate sweep', style=ProgressStyle(description_width='in…"
      ]
     },
     "metadata": {},
     "output_type": "display_data"
    },
    {
     "data": {
      "application/vnd.jupyter.widget-view+json": {
       "model_id": "",
       "version_major": 2,
       "version_minor": 0
      },
      "text/plain": [
       "HBox(children=(IntProgress(value=0, description='Measurement sweep', max=10000, style=ProgressStyle(descriptio…"
      ]
     },
     "metadata": {},
     "output_type": "display_data"
    },
    {
     "data": {
      "application/vnd.jupyter.widget-view+json": {
       "model_id": "",
       "version_major": 2,
       "version_minor": 0
      },
      "text/plain": [
       "HBox(children=(IntProgress(value=0, description='Equilibrate sweep', style=ProgressStyle(description_width='in…"
      ]
     },
     "metadata": {},
     "output_type": "display_data"
    },
    {
     "data": {
      "application/vnd.jupyter.widget-view+json": {
       "model_id": "",
       "version_major": 2,
       "version_minor": 0
      },
      "text/plain": [
       "HBox(children=(IntProgress(value=0, description='Measurement sweep', max=10000, style=ProgressStyle(descriptio…"
      ]
     },
     "metadata": {},
     "output_type": "display_data"
    },
    {
     "data": {
      "application/vnd.jupyter.widget-view+json": {
       "model_id": "",
       "version_major": 2,
       "version_minor": 0
      },
      "text/plain": [
       "HBox(children=(IntProgress(value=0, description='Col', max=20, style=ProgressStyle(description_width='initial'…"
      ]
     },
     "metadata": {},
     "output_type": "display_data"
    },
    {
     "data": {
      "application/vnd.jupyter.widget-view+json": {
       "model_id": "",
       "version_major": 2,
       "version_minor": 0
      },
      "text/plain": [
       "HBox(children=(IntProgress(value=0, description='Equilibrate sweep', style=ProgressStyle(description_width='in…"
      ]
     },
     "metadata": {},
     "output_type": "display_data"
    },
    {
     "data": {
      "application/vnd.jupyter.widget-view+json": {
       "model_id": "",
       "version_major": 2,
       "version_minor": 0
      },
      "text/plain": [
       "HBox(children=(IntProgress(value=0, description='Measurement sweep', max=10000, style=ProgressStyle(descriptio…"
      ]
     },
     "metadata": {},
     "output_type": "display_data"
    },
    {
     "data": {
      "application/vnd.jupyter.widget-view+json": {
       "model_id": "",
       "version_major": 2,
       "version_minor": 0
      },
      "text/plain": [
       "HBox(children=(IntProgress(value=0, description='Equilibrate sweep', style=ProgressStyle(description_width='in…"
      ]
     },
     "metadata": {},
     "output_type": "display_data"
    },
    {
     "data": {
      "application/vnd.jupyter.widget-view+json": {
       "model_id": "",
       "version_major": 2,
       "version_minor": 0
      },
      "text/plain": [
       "HBox(children=(IntProgress(value=0, description='Measurement sweep', max=10000, style=ProgressStyle(descriptio…"
      ]
     },
     "metadata": {},
     "output_type": "display_data"
    },
    {
     "data": {
      "application/vnd.jupyter.widget-view+json": {
       "model_id": "",
       "version_major": 2,
       "version_minor": 0
      },
      "text/plain": [
       "HBox(children=(IntProgress(value=0, description='Equilibrate sweep', style=ProgressStyle(description_width='in…"
      ]
     },
     "metadata": {},
     "output_type": "display_data"
    },
    {
     "data": {
      "application/vnd.jupyter.widget-view+json": {
       "model_id": "",
       "version_major": 2,
       "version_minor": 0
      },
      "text/plain": [
       "HBox(children=(IntProgress(value=0, description='Measurement sweep', max=10000, style=ProgressStyle(descriptio…"
      ]
     },
     "metadata": {},
     "output_type": "display_data"
    },
    {
     "data": {
      "application/vnd.jupyter.widget-view+json": {
       "model_id": "",
       "version_major": 2,
       "version_minor": 0
      },
      "text/plain": [
       "HBox(children=(IntProgress(value=0, description='Equilibrate sweep', style=ProgressStyle(description_width='in…"
      ]
     },
     "metadata": {},
     "output_type": "display_data"
    },
    {
     "data": {
      "application/vnd.jupyter.widget-view+json": {
       "model_id": "",
       "version_major": 2,
       "version_minor": 0
      },
      "text/plain": [
       "HBox(children=(IntProgress(value=0, description='Measurement sweep', max=10000, style=ProgressStyle(descriptio…"
      ]
     },
     "metadata": {},
     "output_type": "display_data"
    },
    {
     "data": {
      "application/vnd.jupyter.widget-view+json": {
       "model_id": "",
       "version_major": 2,
       "version_minor": 0
      },
      "text/plain": [
       "HBox(children=(IntProgress(value=0, description='Equilibrate sweep', style=ProgressStyle(description_width='in…"
      ]
     },
     "metadata": {},
     "output_type": "display_data"
    },
    {
     "data": {
      "application/vnd.jupyter.widget-view+json": {
       "model_id": "",
       "version_major": 2,
       "version_minor": 0
      },
      "text/plain": [
       "HBox(children=(IntProgress(value=0, description='Measurement sweep', max=10000, style=ProgressStyle(descriptio…"
      ]
     },
     "metadata": {},
     "output_type": "display_data"
    },
    {
     "data": {
      "application/vnd.jupyter.widget-view+json": {
       "model_id": "",
       "version_major": 2,
       "version_minor": 0
      },
      "text/plain": [
       "HBox(children=(IntProgress(value=0, description='Equilibrate sweep', style=ProgressStyle(description_width='in…"
      ]
     },
     "metadata": {},
     "output_type": "display_data"
    },
    {
     "data": {
      "application/vnd.jupyter.widget-view+json": {
       "model_id": "",
       "version_major": 2,
       "version_minor": 0
      },
      "text/plain": [
       "HBox(children=(IntProgress(value=0, description='Measurement sweep', max=10000, style=ProgressStyle(descriptio…"
      ]
     },
     "metadata": {},
     "output_type": "display_data"
    },
    {
     "data": {
      "application/vnd.jupyter.widget-view+json": {
       "model_id": "",
       "version_major": 2,
       "version_minor": 0
      },
      "text/plain": [
       "HBox(children=(IntProgress(value=0, description='Equilibrate sweep', style=ProgressStyle(description_width='in…"
      ]
     },
     "metadata": {},
     "output_type": "display_data"
    },
    {
     "data": {
      "application/vnd.jupyter.widget-view+json": {
       "model_id": "",
       "version_major": 2,
       "version_minor": 0
      },
      "text/plain": [
       "HBox(children=(IntProgress(value=0, description='Measurement sweep', max=10000, style=ProgressStyle(descriptio…"
      ]
     },
     "metadata": {},
     "output_type": "display_data"
    },
    {
     "data": {
      "application/vnd.jupyter.widget-view+json": {
       "model_id": "",
       "version_major": 2,
       "version_minor": 0
      },
      "text/plain": [
       "HBox(children=(IntProgress(value=0, description='Equilibrate sweep', style=ProgressStyle(description_width='in…"
      ]
     },
     "metadata": {},
     "output_type": "display_data"
    },
    {
     "data": {
      "application/vnd.jupyter.widget-view+json": {
       "model_id": "",
       "version_major": 2,
       "version_minor": 0
      },
      "text/plain": [
       "HBox(children=(IntProgress(value=0, description='Measurement sweep', max=10000, style=ProgressStyle(descriptio…"
      ]
     },
     "metadata": {},
     "output_type": "display_data"
    },
    {
     "data": {
      "application/vnd.jupyter.widget-view+json": {
       "model_id": "",
       "version_major": 2,
       "version_minor": 0
      },
      "text/plain": [
       "HBox(children=(IntProgress(value=0, description='Equilibrate sweep', style=ProgressStyle(description_width='in…"
      ]
     },
     "metadata": {},
     "output_type": "display_data"
    },
    {
     "data": {
      "application/vnd.jupyter.widget-view+json": {
       "model_id": "",
       "version_major": 2,
       "version_minor": 0
      },
      "text/plain": [
       "HBox(children=(IntProgress(value=0, description='Measurement sweep', max=10000, style=ProgressStyle(descriptio…"
      ]
     },
     "metadata": {},
     "output_type": "display_data"
    },
    {
     "data": {
      "application/vnd.jupyter.widget-view+json": {
       "model_id": "",
       "version_major": 2,
       "version_minor": 0
      },
      "text/plain": [
       "HBox(children=(IntProgress(value=0, description='Equilibrate sweep', style=ProgressStyle(description_width='in…"
      ]
     },
     "metadata": {},
     "output_type": "display_data"
    },
    {
     "data": {
      "application/vnd.jupyter.widget-view+json": {
       "model_id": "",
       "version_major": 2,
       "version_minor": 0
      },
      "text/plain": [
       "HBox(children=(IntProgress(value=0, description='Measurement sweep', max=10000, style=ProgressStyle(descriptio…"
      ]
     },
     "metadata": {},
     "output_type": "display_data"
    },
    {
     "data": {
      "application/vnd.jupyter.widget-view+json": {
       "model_id": "",
       "version_major": 2,
       "version_minor": 0
      },
      "text/plain": [
       "HBox(children=(IntProgress(value=0, description='Equilibrate sweep', style=ProgressStyle(description_width='in…"
      ]
     },
     "metadata": {},
     "output_type": "display_data"
    },
    {
     "data": {
      "application/vnd.jupyter.widget-view+json": {
       "model_id": "",
       "version_major": 2,
       "version_minor": 0
      },
      "text/plain": [
       "HBox(children=(IntProgress(value=0, description='Measurement sweep', max=10000, style=ProgressStyle(descriptio…"
      ]
     },
     "metadata": {},
     "output_type": "display_data"
    },
    {
     "data": {
      "application/vnd.jupyter.widget-view+json": {
       "model_id": "",
       "version_major": 2,
       "version_minor": 0
      },
      "text/plain": [
       "HBox(children=(IntProgress(value=0, description='Equilibrate sweep', style=ProgressStyle(description_width='in…"
      ]
     },
     "metadata": {},
     "output_type": "display_data"
    },
    {
     "data": {
      "application/vnd.jupyter.widget-view+json": {
       "model_id": "",
       "version_major": 2,
       "version_minor": 0
      },
      "text/plain": [
       "HBox(children=(IntProgress(value=0, description='Measurement sweep', max=10000, style=ProgressStyle(descriptio…"
      ]
     },
     "metadata": {},
     "output_type": "display_data"
    },
    {
     "data": {
      "application/vnd.jupyter.widget-view+json": {
       "model_id": "",
       "version_major": 2,
       "version_minor": 0
      },
      "text/plain": [
       "HBox(children=(IntProgress(value=0, description='Equilibrate sweep', style=ProgressStyle(description_width='in…"
      ]
     },
     "metadata": {},
     "output_type": "display_data"
    },
    {
     "data": {
      "application/vnd.jupyter.widget-view+json": {
       "model_id": "",
       "version_major": 2,
       "version_minor": 0
      },
      "text/plain": [
       "HBox(children=(IntProgress(value=0, description='Measurement sweep', max=10000, style=ProgressStyle(descriptio…"
      ]
     },
     "metadata": {},
     "output_type": "display_data"
    },
    {
     "data": {
      "application/vnd.jupyter.widget-view+json": {
       "model_id": "",
       "version_major": 2,
       "version_minor": 0
      },
      "text/plain": [
       "HBox(children=(IntProgress(value=0, description='Equilibrate sweep', style=ProgressStyle(description_width='in…"
      ]
     },
     "metadata": {},
     "output_type": "display_data"
    },
    {
     "data": {
      "application/vnd.jupyter.widget-view+json": {
       "model_id": "",
       "version_major": 2,
       "version_minor": 0
      },
      "text/plain": [
       "HBox(children=(IntProgress(value=0, description='Measurement sweep', max=10000, style=ProgressStyle(descriptio…"
      ]
     },
     "metadata": {},
     "output_type": "display_data"
    },
    {
     "data": {
      "application/vnd.jupyter.widget-view+json": {
       "model_id": "",
       "version_major": 2,
       "version_minor": 0
      },
      "text/plain": [
       "HBox(children=(IntProgress(value=0, description='Equilibrate sweep', style=ProgressStyle(description_width='in…"
      ]
     },
     "metadata": {},
     "output_type": "display_data"
    },
    {
     "data": {
      "application/vnd.jupyter.widget-view+json": {
       "model_id": "",
       "version_major": 2,
       "version_minor": 0
      },
      "text/plain": [
       "HBox(children=(IntProgress(value=0, description='Measurement sweep', max=10000, style=ProgressStyle(descriptio…"
      ]
     },
     "metadata": {},
     "output_type": "display_data"
    },
    {
     "data": {
      "application/vnd.jupyter.widget-view+json": {
       "model_id": "",
       "version_major": 2,
       "version_minor": 0
      },
      "text/plain": [
       "HBox(children=(IntProgress(value=0, description='Equilibrate sweep', style=ProgressStyle(description_width='in…"
      ]
     },
     "metadata": {},
     "output_type": "display_data"
    },
    {
     "data": {
      "application/vnd.jupyter.widget-view+json": {
       "model_id": "",
       "version_major": 2,
       "version_minor": 0
      },
      "text/plain": [
       "HBox(children=(IntProgress(value=0, description='Measurement sweep', max=10000, style=ProgressStyle(descriptio…"
      ]
     },
     "metadata": {},
     "output_type": "display_data"
    },
    {
     "data": {
      "application/vnd.jupyter.widget-view+json": {
       "model_id": "",
       "version_major": 2,
       "version_minor": 0
      },
      "text/plain": [
       "HBox(children=(IntProgress(value=0, description='Equilibrate sweep', style=ProgressStyle(description_width='in…"
      ]
     },
     "metadata": {},
     "output_type": "display_data"
    },
    {
     "data": {
      "application/vnd.jupyter.widget-view+json": {
       "model_id": "",
       "version_major": 2,
       "version_minor": 0
      },
      "text/plain": [
       "HBox(children=(IntProgress(value=0, description='Measurement sweep', max=10000, style=ProgressStyle(descriptio…"
      ]
     },
     "metadata": {},
     "output_type": "display_data"
    },
    {
     "data": {
      "application/vnd.jupyter.widget-view+json": {
       "model_id": "",
       "version_major": 2,
       "version_minor": 0
      },
      "text/plain": [
       "HBox(children=(IntProgress(value=0, description='Equilibrate sweep', style=ProgressStyle(description_width='in…"
      ]
     },
     "metadata": {},
     "output_type": "display_data"
    },
    {
     "data": {
      "application/vnd.jupyter.widget-view+json": {
       "model_id": "",
       "version_major": 2,
       "version_minor": 0
      },
      "text/plain": [
       "HBox(children=(IntProgress(value=0, description='Measurement sweep', max=10000, style=ProgressStyle(descriptio…"
      ]
     },
     "metadata": {},
     "output_type": "display_data"
    },
    {
     "data": {
      "application/vnd.jupyter.widget-view+json": {
       "model_id": "",
       "version_major": 2,
       "version_minor": 0
      },
      "text/plain": [
       "HBox(children=(IntProgress(value=0, description='Equilibrate sweep', style=ProgressStyle(description_width='in…"
      ]
     },
     "metadata": {},
     "output_type": "display_data"
    },
    {
     "data": {
      "application/vnd.jupyter.widget-view+json": {
       "model_id": "",
       "version_major": 2,
       "version_minor": 0
      },
      "text/plain": [
       "HBox(children=(IntProgress(value=0, description='Measurement sweep', max=10000, style=ProgressStyle(descriptio…"
      ]
     },
     "metadata": {},
     "output_type": "display_data"
    },
    {
     "data": {
      "application/vnd.jupyter.widget-view+json": {
       "model_id": "",
       "version_major": 2,
       "version_minor": 0
      },
      "text/plain": [
       "HBox(children=(IntProgress(value=0, description='Equilibrate sweep', style=ProgressStyle(description_width='in…"
      ]
     },
     "metadata": {},
     "output_type": "display_data"
    },
    {
     "data": {
      "application/vnd.jupyter.widget-view+json": {
       "model_id": "",
       "version_major": 2,
       "version_minor": 0
      },
      "text/plain": [
       "HBox(children=(IntProgress(value=0, description='Measurement sweep', max=10000, style=ProgressStyle(descriptio…"
      ]
     },
     "metadata": {},
     "output_type": "display_data"
    },
    {
     "data": {
      "application/vnd.jupyter.widget-view+json": {
       "model_id": "",
       "version_major": 2,
       "version_minor": 0
      },
      "text/plain": [
       "HBox(children=(IntProgress(value=0, description='Col', max=20, style=ProgressStyle(description_width='initial'…"
      ]
     },
     "metadata": {},
     "output_type": "display_data"
    },
    {
     "data": {
      "application/vnd.jupyter.widget-view+json": {
       "model_id": "",
       "version_major": 2,
       "version_minor": 0
      },
      "text/plain": [
       "HBox(children=(IntProgress(value=0, description='Equilibrate sweep', style=ProgressStyle(description_width='in…"
      ]
     },
     "metadata": {},
     "output_type": "display_data"
    },
    {
     "data": {
      "application/vnd.jupyter.widget-view+json": {
       "model_id": "",
       "version_major": 2,
       "version_minor": 0
      },
      "text/plain": [
       "HBox(children=(IntProgress(value=0, description='Measurement sweep', max=10000, style=ProgressStyle(descriptio…"
      ]
     },
     "metadata": {},
     "output_type": "display_data"
    },
    {
     "data": {
      "application/vnd.jupyter.widget-view+json": {
       "model_id": "",
       "version_major": 2,
       "version_minor": 0
      },
      "text/plain": [
       "HBox(children=(IntProgress(value=0, description='Equilibrate sweep', style=ProgressStyle(description_width='in…"
      ]
     },
     "metadata": {},
     "output_type": "display_data"
    },
    {
     "data": {
      "application/vnd.jupyter.widget-view+json": {
       "model_id": "",
       "version_major": 2,
       "version_minor": 0
      },
      "text/plain": [
       "HBox(children=(IntProgress(value=0, description='Measurement sweep', max=10000, style=ProgressStyle(descriptio…"
      ]
     },
     "metadata": {},
     "output_type": "display_data"
    },
    {
     "data": {
      "application/vnd.jupyter.widget-view+json": {
       "model_id": "",
       "version_major": 2,
       "version_minor": 0
      },
      "text/plain": [
       "HBox(children=(IntProgress(value=0, description='Equilibrate sweep', style=ProgressStyle(description_width='in…"
      ]
     },
     "metadata": {},
     "output_type": "display_data"
    },
    {
     "data": {
      "application/vnd.jupyter.widget-view+json": {
       "model_id": "",
       "version_major": 2,
       "version_minor": 0
      },
      "text/plain": [
       "HBox(children=(IntProgress(value=0, description='Measurement sweep', max=10000, style=ProgressStyle(descriptio…"
      ]
     },
     "metadata": {},
     "output_type": "display_data"
    },
    {
     "data": {
      "application/vnd.jupyter.widget-view+json": {
       "model_id": "",
       "version_major": 2,
       "version_minor": 0
      },
      "text/plain": [
       "HBox(children=(IntProgress(value=0, description='Equilibrate sweep', style=ProgressStyle(description_width='in…"
      ]
     },
     "metadata": {},
     "output_type": "display_data"
    },
    {
     "data": {
      "application/vnd.jupyter.widget-view+json": {
       "model_id": "",
       "version_major": 2,
       "version_minor": 0
      },
      "text/plain": [
       "HBox(children=(IntProgress(value=0, description='Measurement sweep', max=10000, style=ProgressStyle(descriptio…"
      ]
     },
     "metadata": {},
     "output_type": "display_data"
    },
    {
     "data": {
      "application/vnd.jupyter.widget-view+json": {
       "model_id": "",
       "version_major": 2,
       "version_minor": 0
      },
      "text/plain": [
       "HBox(children=(IntProgress(value=0, description='Equilibrate sweep', style=ProgressStyle(description_width='in…"
      ]
     },
     "metadata": {},
     "output_type": "display_data"
    },
    {
     "data": {
      "application/vnd.jupyter.widget-view+json": {
       "model_id": "",
       "version_major": 2,
       "version_minor": 0
      },
      "text/plain": [
       "HBox(children=(IntProgress(value=0, description='Measurement sweep', max=10000, style=ProgressStyle(descriptio…"
      ]
     },
     "metadata": {},
     "output_type": "display_data"
    },
    {
     "data": {
      "application/vnd.jupyter.widget-view+json": {
       "model_id": "",
       "version_major": 2,
       "version_minor": 0
      },
      "text/plain": [
       "HBox(children=(IntProgress(value=0, description='Equilibrate sweep', style=ProgressStyle(description_width='in…"
      ]
     },
     "metadata": {},
     "output_type": "display_data"
    },
    {
     "data": {
      "application/vnd.jupyter.widget-view+json": {
       "model_id": "",
       "version_major": 2,
       "version_minor": 0
      },
      "text/plain": [
       "HBox(children=(IntProgress(value=0, description='Measurement sweep', max=10000, style=ProgressStyle(descriptio…"
      ]
     },
     "metadata": {},
     "output_type": "display_data"
    },
    {
     "data": {
      "application/vnd.jupyter.widget-view+json": {
       "model_id": "",
       "version_major": 2,
       "version_minor": 0
      },
      "text/plain": [
       "HBox(children=(IntProgress(value=0, description='Equilibrate sweep', style=ProgressStyle(description_width='in…"
      ]
     },
     "metadata": {},
     "output_type": "display_data"
    },
    {
     "data": {
      "application/vnd.jupyter.widget-view+json": {
       "model_id": "",
       "version_major": 2,
       "version_minor": 0
      },
      "text/plain": [
       "HBox(children=(IntProgress(value=0, description='Measurement sweep', max=10000, style=ProgressStyle(descriptio…"
      ]
     },
     "metadata": {},
     "output_type": "display_data"
    },
    {
     "data": {
      "application/vnd.jupyter.widget-view+json": {
       "model_id": "",
       "version_major": 2,
       "version_minor": 0
      },
      "text/plain": [
       "HBox(children=(IntProgress(value=0, description='Equilibrate sweep', style=ProgressStyle(description_width='in…"
      ]
     },
     "metadata": {},
     "output_type": "display_data"
    },
    {
     "data": {
      "application/vnd.jupyter.widget-view+json": {
       "model_id": "",
       "version_major": 2,
       "version_minor": 0
      },
      "text/plain": [
       "HBox(children=(IntProgress(value=0, description='Measurement sweep', max=10000, style=ProgressStyle(descriptio…"
      ]
     },
     "metadata": {},
     "output_type": "display_data"
    },
    {
     "data": {
      "application/vnd.jupyter.widget-view+json": {
       "model_id": "",
       "version_major": 2,
       "version_minor": 0
      },
      "text/plain": [
       "HBox(children=(IntProgress(value=0, description='Equilibrate sweep', style=ProgressStyle(description_width='in…"
      ]
     },
     "metadata": {},
     "output_type": "display_data"
    },
    {
     "data": {
      "application/vnd.jupyter.widget-view+json": {
       "model_id": "",
       "version_major": 2,
       "version_minor": 0
      },
      "text/plain": [
       "HBox(children=(IntProgress(value=0, description='Measurement sweep', max=10000, style=ProgressStyle(descriptio…"
      ]
     },
     "metadata": {},
     "output_type": "display_data"
    },
    {
     "data": {
      "application/vnd.jupyter.widget-view+json": {
       "model_id": "",
       "version_major": 2,
       "version_minor": 0
      },
      "text/plain": [
       "HBox(children=(IntProgress(value=0, description='Equilibrate sweep', style=ProgressStyle(description_width='in…"
      ]
     },
     "metadata": {},
     "output_type": "display_data"
    },
    {
     "data": {
      "application/vnd.jupyter.widget-view+json": {
       "model_id": "",
       "version_major": 2,
       "version_minor": 0
      },
      "text/plain": [
       "HBox(children=(IntProgress(value=0, description='Measurement sweep', max=10000, style=ProgressStyle(descriptio…"
      ]
     },
     "metadata": {},
     "output_type": "display_data"
    },
    {
     "data": {
      "application/vnd.jupyter.widget-view+json": {
       "model_id": "",
       "version_major": 2,
       "version_minor": 0
      },
      "text/plain": [
       "HBox(children=(IntProgress(value=0, description='Equilibrate sweep', style=ProgressStyle(description_width='in…"
      ]
     },
     "metadata": {},
     "output_type": "display_data"
    },
    {
     "data": {
      "application/vnd.jupyter.widget-view+json": {
       "model_id": "",
       "version_major": 2,
       "version_minor": 0
      },
      "text/plain": [
       "HBox(children=(IntProgress(value=0, description='Measurement sweep', max=10000, style=ProgressStyle(descriptio…"
      ]
     },
     "metadata": {},
     "output_type": "display_data"
    },
    {
     "data": {
      "application/vnd.jupyter.widget-view+json": {
       "model_id": "",
       "version_major": 2,
       "version_minor": 0
      },
      "text/plain": [
       "HBox(children=(IntProgress(value=0, description='Equilibrate sweep', style=ProgressStyle(description_width='in…"
      ]
     },
     "metadata": {},
     "output_type": "display_data"
    },
    {
     "data": {
      "application/vnd.jupyter.widget-view+json": {
       "model_id": "",
       "version_major": 2,
       "version_minor": 0
      },
      "text/plain": [
       "HBox(children=(IntProgress(value=0, description='Measurement sweep', max=10000, style=ProgressStyle(descriptio…"
      ]
     },
     "metadata": {},
     "output_type": "display_data"
    },
    {
     "data": {
      "application/vnd.jupyter.widget-view+json": {
       "model_id": "",
       "version_major": 2,
       "version_minor": 0
      },
      "text/plain": [
       "HBox(children=(IntProgress(value=0, description='Equilibrate sweep', style=ProgressStyle(description_width='in…"
      ]
     },
     "metadata": {},
     "output_type": "display_data"
    },
    {
     "data": {
      "application/vnd.jupyter.widget-view+json": {
       "model_id": "",
       "version_major": 2,
       "version_minor": 0
      },
      "text/plain": [
       "HBox(children=(IntProgress(value=0, description='Measurement sweep', max=10000, style=ProgressStyle(descriptio…"
      ]
     },
     "metadata": {},
     "output_type": "display_data"
    },
    {
     "data": {
      "application/vnd.jupyter.widget-view+json": {
       "model_id": "",
       "version_major": 2,
       "version_minor": 0
      },
      "text/plain": [
       "HBox(children=(IntProgress(value=0, description='Equilibrate sweep', style=ProgressStyle(description_width='in…"
      ]
     },
     "metadata": {},
     "output_type": "display_data"
    },
    {
     "data": {
      "application/vnd.jupyter.widget-view+json": {
       "model_id": "",
       "version_major": 2,
       "version_minor": 0
      },
      "text/plain": [
       "HBox(children=(IntProgress(value=0, description='Measurement sweep', max=10000, style=ProgressStyle(descriptio…"
      ]
     },
     "metadata": {},
     "output_type": "display_data"
    },
    {
     "data": {
      "application/vnd.jupyter.widget-view+json": {
       "model_id": "",
       "version_major": 2,
       "version_minor": 0
      },
      "text/plain": [
       "HBox(children=(IntProgress(value=0, description='Equilibrate sweep', style=ProgressStyle(description_width='in…"
      ]
     },
     "metadata": {},
     "output_type": "display_data"
    },
    {
     "data": {
      "application/vnd.jupyter.widget-view+json": {
       "model_id": "",
       "version_major": 2,
       "version_minor": 0
      },
      "text/plain": [
       "HBox(children=(IntProgress(value=0, description='Measurement sweep', max=10000, style=ProgressStyle(descriptio…"
      ]
     },
     "metadata": {},
     "output_type": "display_data"
    },
    {
     "data": {
      "application/vnd.jupyter.widget-view+json": {
       "model_id": "",
       "version_major": 2,
       "version_minor": 0
      },
      "text/plain": [
       "HBox(children=(IntProgress(value=0, description='Equilibrate sweep', style=ProgressStyle(description_width='in…"
      ]
     },
     "metadata": {},
     "output_type": "display_data"
    },
    {
     "data": {
      "application/vnd.jupyter.widget-view+json": {
       "model_id": "",
       "version_major": 2,
       "version_minor": 0
      },
      "text/plain": [
       "HBox(children=(IntProgress(value=0, description='Measurement sweep', max=10000, style=ProgressStyle(descriptio…"
      ]
     },
     "metadata": {},
     "output_type": "display_data"
    },
    {
     "data": {
      "application/vnd.jupyter.widget-view+json": {
       "model_id": "",
       "version_major": 2,
       "version_minor": 0
      },
      "text/plain": [
       "HBox(children=(IntProgress(value=0, description='Equilibrate sweep', style=ProgressStyle(description_width='in…"
      ]
     },
     "metadata": {},
     "output_type": "display_data"
    },
    {
     "data": {
      "application/vnd.jupyter.widget-view+json": {
       "model_id": "",
       "version_major": 2,
       "version_minor": 0
      },
      "text/plain": [
       "HBox(children=(IntProgress(value=0, description='Measurement sweep', max=10000, style=ProgressStyle(descriptio…"
      ]
     },
     "metadata": {},
     "output_type": "display_data"
    },
    {
     "data": {
      "application/vnd.jupyter.widget-view+json": {
       "model_id": "",
       "version_major": 2,
       "version_minor": 0
      },
      "text/plain": [
       "HBox(children=(IntProgress(value=0, description='Equilibrate sweep', style=ProgressStyle(description_width='in…"
      ]
     },
     "metadata": {},
     "output_type": "display_data"
    },
    {
     "data": {
      "application/vnd.jupyter.widget-view+json": {
       "model_id": "",
       "version_major": 2,
       "version_minor": 0
      },
      "text/plain": [
       "HBox(children=(IntProgress(value=0, description='Measurement sweep', max=10000, style=ProgressStyle(descriptio…"
      ]
     },
     "metadata": {},
     "output_type": "display_data"
    },
    {
     "data": {
      "application/vnd.jupyter.widget-view+json": {
       "model_id": "",
       "version_major": 2,
       "version_minor": 0
      },
      "text/plain": [
       "HBox(children=(IntProgress(value=0, description='Equilibrate sweep', style=ProgressStyle(description_width='in…"
      ]
     },
     "metadata": {},
     "output_type": "display_data"
    },
    {
     "data": {
      "application/vnd.jupyter.widget-view+json": {
       "model_id": "",
       "version_major": 2,
       "version_minor": 0
      },
      "text/plain": [
       "HBox(children=(IntProgress(value=0, description='Measurement sweep', max=10000, style=ProgressStyle(descriptio…"
      ]
     },
     "metadata": {},
     "output_type": "display_data"
    },
    {
     "data": {
      "application/vnd.jupyter.widget-view+json": {
       "model_id": "",
       "version_major": 2,
       "version_minor": 0
      },
      "text/plain": [
       "HBox(children=(IntProgress(value=0, description='Equilibrate sweep', style=ProgressStyle(description_width='in…"
      ]
     },
     "metadata": {},
     "output_type": "display_data"
    },
    {
     "data": {
      "application/vnd.jupyter.widget-view+json": {
       "model_id": "",
       "version_major": 2,
       "version_minor": 0
      },
      "text/plain": [
       "HBox(children=(IntProgress(value=0, description='Measurement sweep', max=10000, style=ProgressStyle(descriptio…"
      ]
     },
     "metadata": {},
     "output_type": "display_data"
    },
    {
     "data": {
      "application/vnd.jupyter.widget-view+json": {
       "model_id": "",
       "version_major": 2,
       "version_minor": 0
      },
      "text/plain": [
       "HBox(children=(IntProgress(value=0, description='Col', max=20, style=ProgressStyle(description_width='initial'…"
      ]
     },
     "metadata": {},
     "output_type": "display_data"
    },
    {
     "data": {
      "application/vnd.jupyter.widget-view+json": {
       "model_id": "",
       "version_major": 2,
       "version_minor": 0
      },
      "text/plain": [
       "HBox(children=(IntProgress(value=0, description='Equilibrate sweep', style=ProgressStyle(description_width='in…"
      ]
     },
     "metadata": {},
     "output_type": "display_data"
    },
    {
     "data": {
      "application/vnd.jupyter.widget-view+json": {
       "model_id": "",
       "version_major": 2,
       "version_minor": 0
      },
      "text/plain": [
       "HBox(children=(IntProgress(value=0, description='Measurement sweep', max=10000, style=ProgressStyle(descriptio…"
      ]
     },
     "metadata": {},
     "output_type": "display_data"
    },
    {
     "data": {
      "application/vnd.jupyter.widget-view+json": {
       "model_id": "",
       "version_major": 2,
       "version_minor": 0
      },
      "text/plain": [
       "HBox(children=(IntProgress(value=0, description='Equilibrate sweep', style=ProgressStyle(description_width='in…"
      ]
     },
     "metadata": {},
     "output_type": "display_data"
    },
    {
     "data": {
      "application/vnd.jupyter.widget-view+json": {
       "model_id": "",
       "version_major": 2,
       "version_minor": 0
      },
      "text/plain": [
       "HBox(children=(IntProgress(value=0, description='Measurement sweep', max=10000, style=ProgressStyle(descriptio…"
      ]
     },
     "metadata": {},
     "output_type": "display_data"
    },
    {
     "data": {
      "application/vnd.jupyter.widget-view+json": {
       "model_id": "",
       "version_major": 2,
       "version_minor": 0
      },
      "text/plain": [
       "HBox(children=(IntProgress(value=0, description='Equilibrate sweep', style=ProgressStyle(description_width='in…"
      ]
     },
     "metadata": {},
     "output_type": "display_data"
    },
    {
     "data": {
      "application/vnd.jupyter.widget-view+json": {
       "model_id": "",
       "version_major": 2,
       "version_minor": 0
      },
      "text/plain": [
       "HBox(children=(IntProgress(value=0, description='Measurement sweep', max=10000, style=ProgressStyle(descriptio…"
      ]
     },
     "metadata": {},
     "output_type": "display_data"
    },
    {
     "data": {
      "application/vnd.jupyter.widget-view+json": {
       "model_id": "",
       "version_major": 2,
       "version_minor": 0
      },
      "text/plain": [
       "HBox(children=(IntProgress(value=0, description='Equilibrate sweep', style=ProgressStyle(description_width='in…"
      ]
     },
     "metadata": {},
     "output_type": "display_data"
    },
    {
     "data": {
      "application/vnd.jupyter.widget-view+json": {
       "model_id": "",
       "version_major": 2,
       "version_minor": 0
      },
      "text/plain": [
       "HBox(children=(IntProgress(value=0, description='Measurement sweep', max=10000, style=ProgressStyle(descriptio…"
      ]
     },
     "metadata": {},
     "output_type": "display_data"
    },
    {
     "data": {
      "application/vnd.jupyter.widget-view+json": {
       "model_id": "",
       "version_major": 2,
       "version_minor": 0
      },
      "text/plain": [
       "HBox(children=(IntProgress(value=0, description='Equilibrate sweep', style=ProgressStyle(description_width='in…"
      ]
     },
     "metadata": {},
     "output_type": "display_data"
    },
    {
     "data": {
      "application/vnd.jupyter.widget-view+json": {
       "model_id": "",
       "version_major": 2,
       "version_minor": 0
      },
      "text/plain": [
       "HBox(children=(IntProgress(value=0, description='Measurement sweep', max=10000, style=ProgressStyle(descriptio…"
      ]
     },
     "metadata": {},
     "output_type": "display_data"
    },
    {
     "data": {
      "application/vnd.jupyter.widget-view+json": {
       "model_id": "",
       "version_major": 2,
       "version_minor": 0
      },
      "text/plain": [
       "HBox(children=(IntProgress(value=0, description='Equilibrate sweep', style=ProgressStyle(description_width='in…"
      ]
     },
     "metadata": {},
     "output_type": "display_data"
    },
    {
     "data": {
      "application/vnd.jupyter.widget-view+json": {
       "model_id": "",
       "version_major": 2,
       "version_minor": 0
      },
      "text/plain": [
       "HBox(children=(IntProgress(value=0, description='Measurement sweep', max=10000, style=ProgressStyle(descriptio…"
      ]
     },
     "metadata": {},
     "output_type": "display_data"
    },
    {
     "data": {
      "application/vnd.jupyter.widget-view+json": {
       "model_id": "",
       "version_major": 2,
       "version_minor": 0
      },
      "text/plain": [
       "HBox(children=(IntProgress(value=0, description='Equilibrate sweep', style=ProgressStyle(description_width='in…"
      ]
     },
     "metadata": {},
     "output_type": "display_data"
    },
    {
     "data": {
      "application/vnd.jupyter.widget-view+json": {
       "model_id": "",
       "version_major": 2,
       "version_minor": 0
      },
      "text/plain": [
       "HBox(children=(IntProgress(value=0, description='Measurement sweep', max=10000, style=ProgressStyle(descriptio…"
      ]
     },
     "metadata": {},
     "output_type": "display_data"
    },
    {
     "data": {
      "application/vnd.jupyter.widget-view+json": {
       "model_id": "",
       "version_major": 2,
       "version_minor": 0
      },
      "text/plain": [
       "HBox(children=(IntProgress(value=0, description='Equilibrate sweep', style=ProgressStyle(description_width='in…"
      ]
     },
     "metadata": {},
     "output_type": "display_data"
    },
    {
     "data": {
      "application/vnd.jupyter.widget-view+json": {
       "model_id": "",
       "version_major": 2,
       "version_minor": 0
      },
      "text/plain": [
       "HBox(children=(IntProgress(value=0, description='Measurement sweep', max=10000, style=ProgressStyle(descriptio…"
      ]
     },
     "metadata": {},
     "output_type": "display_data"
    },
    {
     "data": {
      "application/vnd.jupyter.widget-view+json": {
       "model_id": "",
       "version_major": 2,
       "version_minor": 0
      },
      "text/plain": [
       "HBox(children=(IntProgress(value=0, description='Equilibrate sweep', style=ProgressStyle(description_width='in…"
      ]
     },
     "metadata": {},
     "output_type": "display_data"
    },
    {
     "data": {
      "application/vnd.jupyter.widget-view+json": {
       "model_id": "",
       "version_major": 2,
       "version_minor": 0
      },
      "text/plain": [
       "HBox(children=(IntProgress(value=0, description='Measurement sweep', max=10000, style=ProgressStyle(descriptio…"
      ]
     },
     "metadata": {},
     "output_type": "display_data"
    },
    {
     "data": {
      "application/vnd.jupyter.widget-view+json": {
       "model_id": "",
       "version_major": 2,
       "version_minor": 0
      },
      "text/plain": [
       "HBox(children=(IntProgress(value=0, description='Equilibrate sweep', style=ProgressStyle(description_width='in…"
      ]
     },
     "metadata": {},
     "output_type": "display_data"
    },
    {
     "data": {
      "application/vnd.jupyter.widget-view+json": {
       "model_id": "",
       "version_major": 2,
       "version_minor": 0
      },
      "text/plain": [
       "HBox(children=(IntProgress(value=0, description='Measurement sweep', max=10000, style=ProgressStyle(descriptio…"
      ]
     },
     "metadata": {},
     "output_type": "display_data"
    },
    {
     "data": {
      "application/vnd.jupyter.widget-view+json": {
       "model_id": "",
       "version_major": 2,
       "version_minor": 0
      },
      "text/plain": [
       "HBox(children=(IntProgress(value=0, description='Equilibrate sweep', style=ProgressStyle(description_width='in…"
      ]
     },
     "metadata": {},
     "output_type": "display_data"
    },
    {
     "data": {
      "application/vnd.jupyter.widget-view+json": {
       "model_id": "",
       "version_major": 2,
       "version_minor": 0
      },
      "text/plain": [
       "HBox(children=(IntProgress(value=0, description='Measurement sweep', max=10000, style=ProgressStyle(descriptio…"
      ]
     },
     "metadata": {},
     "output_type": "display_data"
    },
    {
     "data": {
      "application/vnd.jupyter.widget-view+json": {
       "model_id": "",
       "version_major": 2,
       "version_minor": 0
      },
      "text/plain": [
       "HBox(children=(IntProgress(value=0, description='Equilibrate sweep', style=ProgressStyle(description_width='in…"
      ]
     },
     "metadata": {},
     "output_type": "display_data"
    },
    {
     "data": {
      "application/vnd.jupyter.widget-view+json": {
       "model_id": "",
       "version_major": 2,
       "version_minor": 0
      },
      "text/plain": [
       "HBox(children=(IntProgress(value=0, description='Measurement sweep', max=10000, style=ProgressStyle(descriptio…"
      ]
     },
     "metadata": {},
     "output_type": "display_data"
    },
    {
     "data": {
      "application/vnd.jupyter.widget-view+json": {
       "model_id": "",
       "version_major": 2,
       "version_minor": 0
      },
      "text/plain": [
       "HBox(children=(IntProgress(value=0, description='Equilibrate sweep', style=ProgressStyle(description_width='in…"
      ]
     },
     "metadata": {},
     "output_type": "display_data"
    },
    {
     "data": {
      "application/vnd.jupyter.widget-view+json": {
       "model_id": "",
       "version_major": 2,
       "version_minor": 0
      },
      "text/plain": [
       "HBox(children=(IntProgress(value=0, description='Measurement sweep', max=10000, style=ProgressStyle(descriptio…"
      ]
     },
     "metadata": {},
     "output_type": "display_data"
    },
    {
     "data": {
      "application/vnd.jupyter.widget-view+json": {
       "model_id": "",
       "version_major": 2,
       "version_minor": 0
      },
      "text/plain": [
       "HBox(children=(IntProgress(value=0, description='Equilibrate sweep', style=ProgressStyle(description_width='in…"
      ]
     },
     "metadata": {},
     "output_type": "display_data"
    },
    {
     "data": {
      "application/vnd.jupyter.widget-view+json": {
       "model_id": "",
       "version_major": 2,
       "version_minor": 0
      },
      "text/plain": [
       "HBox(children=(IntProgress(value=0, description='Measurement sweep', max=10000, style=ProgressStyle(descriptio…"
      ]
     },
     "metadata": {},
     "output_type": "display_data"
    },
    {
     "data": {
      "application/vnd.jupyter.widget-view+json": {
       "model_id": "",
       "version_major": 2,
       "version_minor": 0
      },
      "text/plain": [
       "HBox(children=(IntProgress(value=0, description='Equilibrate sweep', style=ProgressStyle(description_width='in…"
      ]
     },
     "metadata": {},
     "output_type": "display_data"
    },
    {
     "data": {
      "application/vnd.jupyter.widget-view+json": {
       "model_id": "",
       "version_major": 2,
       "version_minor": 0
      },
      "text/plain": [
       "HBox(children=(IntProgress(value=0, description='Measurement sweep', max=10000, style=ProgressStyle(descriptio…"
      ]
     },
     "metadata": {},
     "output_type": "display_data"
    },
    {
     "data": {
      "application/vnd.jupyter.widget-view+json": {
       "model_id": "",
       "version_major": 2,
       "version_minor": 0
      },
      "text/plain": [
       "HBox(children=(IntProgress(value=0, description='Equilibrate sweep', style=ProgressStyle(description_width='in…"
      ]
     },
     "metadata": {},
     "output_type": "display_data"
    },
    {
     "data": {
      "application/vnd.jupyter.widget-view+json": {
       "model_id": "",
       "version_major": 2,
       "version_minor": 0
      },
      "text/plain": [
       "HBox(children=(IntProgress(value=0, description='Measurement sweep', max=10000, style=ProgressStyle(descriptio…"
      ]
     },
     "metadata": {},
     "output_type": "display_data"
    },
    {
     "data": {
      "application/vnd.jupyter.widget-view+json": {
       "model_id": "",
       "version_major": 2,
       "version_minor": 0
      },
      "text/plain": [
       "HBox(children=(IntProgress(value=0, description='Equilibrate sweep', style=ProgressStyle(description_width='in…"
      ]
     },
     "metadata": {},
     "output_type": "display_data"
    },
    {
     "data": {
      "application/vnd.jupyter.widget-view+json": {
       "model_id": "",
       "version_major": 2,
       "version_minor": 0
      },
      "text/plain": [
       "HBox(children=(IntProgress(value=0, description='Measurement sweep', max=10000, style=ProgressStyle(descriptio…"
      ]
     },
     "metadata": {},
     "output_type": "display_data"
    },
    {
     "data": {
      "application/vnd.jupyter.widget-view+json": {
       "model_id": "",
       "version_major": 2,
       "version_minor": 0
      },
      "text/plain": [
       "HBox(children=(IntProgress(value=0, description='Equilibrate sweep', style=ProgressStyle(description_width='in…"
      ]
     },
     "metadata": {},
     "output_type": "display_data"
    },
    {
     "data": {
      "application/vnd.jupyter.widget-view+json": {
       "model_id": "",
       "version_major": 2,
       "version_minor": 0
      },
      "text/plain": [
       "HBox(children=(IntProgress(value=0, description='Measurement sweep', max=10000, style=ProgressStyle(descriptio…"
      ]
     },
     "metadata": {},
     "output_type": "display_data"
    },
    {
     "data": {
      "application/vnd.jupyter.widget-view+json": {
       "model_id": "",
       "version_major": 2,
       "version_minor": 0
      },
      "text/plain": [
       "HBox(children=(IntProgress(value=0, description='Equilibrate sweep', style=ProgressStyle(description_width='in…"
      ]
     },
     "metadata": {},
     "output_type": "display_data"
    },
    {
     "data": {
      "application/vnd.jupyter.widget-view+json": {
       "model_id": "",
       "version_major": 2,
       "version_minor": 0
      },
      "text/plain": [
       "HBox(children=(IntProgress(value=0, description='Measurement sweep', max=10000, style=ProgressStyle(descriptio…"
      ]
     },
     "metadata": {},
     "output_type": "display_data"
    },
    {
     "data": {
      "application/vnd.jupyter.widget-view+json": {
       "model_id": "",
       "version_major": 2,
       "version_minor": 0
      },
      "text/plain": [
       "HBox(children=(IntProgress(value=0, description='Equilibrate sweep', style=ProgressStyle(description_width='in…"
      ]
     },
     "metadata": {},
     "output_type": "display_data"
    },
    {
     "data": {
      "application/vnd.jupyter.widget-view+json": {
       "model_id": "",
       "version_major": 2,
       "version_minor": 0
      },
      "text/plain": [
       "HBox(children=(IntProgress(value=0, description='Measurement sweep', max=10000, style=ProgressStyle(descriptio…"
      ]
     },
     "metadata": {},
     "output_type": "display_data"
    },
    {
     "data": {
      "application/vnd.jupyter.widget-view+json": {
       "model_id": "",
       "version_major": 2,
       "version_minor": 0
      },
      "text/plain": [
       "HBox(children=(IntProgress(value=0, description='Col', max=20, style=ProgressStyle(description_width='initial'…"
      ]
     },
     "metadata": {},
     "output_type": "display_data"
    },
    {
     "data": {
      "application/vnd.jupyter.widget-view+json": {
       "model_id": "",
       "version_major": 2,
       "version_minor": 0
      },
      "text/plain": [
       "HBox(children=(IntProgress(value=0, description='Equilibrate sweep', style=ProgressStyle(description_width='in…"
      ]
     },
     "metadata": {},
     "output_type": "display_data"
    },
    {
     "data": {
      "application/vnd.jupyter.widget-view+json": {
       "model_id": "",
       "version_major": 2,
       "version_minor": 0
      },
      "text/plain": [
       "HBox(children=(IntProgress(value=0, description='Measurement sweep', max=10000, style=ProgressStyle(descriptio…"
      ]
     },
     "metadata": {},
     "output_type": "display_data"
    },
    {
     "data": {
      "application/vnd.jupyter.widget-view+json": {
       "model_id": "",
       "version_major": 2,
       "version_minor": 0
      },
      "text/plain": [
       "HBox(children=(IntProgress(value=0, description='Equilibrate sweep', style=ProgressStyle(description_width='in…"
      ]
     },
     "metadata": {},
     "output_type": "display_data"
    },
    {
     "data": {
      "application/vnd.jupyter.widget-view+json": {
       "model_id": "",
       "version_major": 2,
       "version_minor": 0
      },
      "text/plain": [
       "HBox(children=(IntProgress(value=0, description='Measurement sweep', max=10000, style=ProgressStyle(descriptio…"
      ]
     },
     "metadata": {},
     "output_type": "display_data"
    },
    {
     "data": {
      "application/vnd.jupyter.widget-view+json": {
       "model_id": "",
       "version_major": 2,
       "version_minor": 0
      },
      "text/plain": [
       "HBox(children=(IntProgress(value=0, description='Equilibrate sweep', style=ProgressStyle(description_width='in…"
      ]
     },
     "metadata": {},
     "output_type": "display_data"
    },
    {
     "data": {
      "application/vnd.jupyter.widget-view+json": {
       "model_id": "",
       "version_major": 2,
       "version_minor": 0
      },
      "text/plain": [
       "HBox(children=(IntProgress(value=0, description='Measurement sweep', max=10000, style=ProgressStyle(descriptio…"
      ]
     },
     "metadata": {},
     "output_type": "display_data"
    },
    {
     "data": {
      "application/vnd.jupyter.widget-view+json": {
       "model_id": "",
       "version_major": 2,
       "version_minor": 0
      },
      "text/plain": [
       "HBox(children=(IntProgress(value=0, description='Equilibrate sweep', style=ProgressStyle(description_width='in…"
      ]
     },
     "metadata": {},
     "output_type": "display_data"
    },
    {
     "data": {
      "application/vnd.jupyter.widget-view+json": {
       "model_id": "",
       "version_major": 2,
       "version_minor": 0
      },
      "text/plain": [
       "HBox(children=(IntProgress(value=0, description='Measurement sweep', max=10000, style=ProgressStyle(descriptio…"
      ]
     },
     "metadata": {},
     "output_type": "display_data"
    },
    {
     "data": {
      "application/vnd.jupyter.widget-view+json": {
       "model_id": "",
       "version_major": 2,
       "version_minor": 0
      },
      "text/plain": [
       "HBox(children=(IntProgress(value=0, description='Equilibrate sweep', style=ProgressStyle(description_width='in…"
      ]
     },
     "metadata": {},
     "output_type": "display_data"
    },
    {
     "data": {
      "application/vnd.jupyter.widget-view+json": {
       "model_id": "",
       "version_major": 2,
       "version_minor": 0
      },
      "text/plain": [
       "HBox(children=(IntProgress(value=0, description='Measurement sweep', max=10000, style=ProgressStyle(descriptio…"
      ]
     },
     "metadata": {},
     "output_type": "display_data"
    },
    {
     "data": {
      "application/vnd.jupyter.widget-view+json": {
       "model_id": "",
       "version_major": 2,
       "version_minor": 0
      },
      "text/plain": [
       "HBox(children=(IntProgress(value=0, description='Equilibrate sweep', style=ProgressStyle(description_width='in…"
      ]
     },
     "metadata": {},
     "output_type": "display_data"
    },
    {
     "data": {
      "application/vnd.jupyter.widget-view+json": {
       "model_id": "",
       "version_major": 2,
       "version_minor": 0
      },
      "text/plain": [
       "HBox(children=(IntProgress(value=0, description='Measurement sweep', max=10000, style=ProgressStyle(descriptio…"
      ]
     },
     "metadata": {},
     "output_type": "display_data"
    },
    {
     "data": {
      "application/vnd.jupyter.widget-view+json": {
       "model_id": "",
       "version_major": 2,
       "version_minor": 0
      },
      "text/plain": [
       "HBox(children=(IntProgress(value=0, description='Equilibrate sweep', style=ProgressStyle(description_width='in…"
      ]
     },
     "metadata": {},
     "output_type": "display_data"
    },
    {
     "data": {
      "application/vnd.jupyter.widget-view+json": {
       "model_id": "",
       "version_major": 2,
       "version_minor": 0
      },
      "text/plain": [
       "HBox(children=(IntProgress(value=0, description='Measurement sweep', max=10000, style=ProgressStyle(descriptio…"
      ]
     },
     "metadata": {},
     "output_type": "display_data"
    },
    {
     "data": {
      "application/vnd.jupyter.widget-view+json": {
       "model_id": "",
       "version_major": 2,
       "version_minor": 0
      },
      "text/plain": [
       "HBox(children=(IntProgress(value=0, description='Equilibrate sweep', style=ProgressStyle(description_width='in…"
      ]
     },
     "metadata": {},
     "output_type": "display_data"
    },
    {
     "data": {
      "application/vnd.jupyter.widget-view+json": {
       "model_id": "",
       "version_major": 2,
       "version_minor": 0
      },
      "text/plain": [
       "HBox(children=(IntProgress(value=0, description='Measurement sweep', max=10000, style=ProgressStyle(descriptio…"
      ]
     },
     "metadata": {},
     "output_type": "display_data"
    },
    {
     "data": {
      "application/vnd.jupyter.widget-view+json": {
       "model_id": "",
       "version_major": 2,
       "version_minor": 0
      },
      "text/plain": [
       "HBox(children=(IntProgress(value=0, description='Equilibrate sweep', style=ProgressStyle(description_width='in…"
      ]
     },
     "metadata": {},
     "output_type": "display_data"
    },
    {
     "data": {
      "application/vnd.jupyter.widget-view+json": {
       "model_id": "",
       "version_major": 2,
       "version_minor": 0
      },
      "text/plain": [
       "HBox(children=(IntProgress(value=0, description='Measurement sweep', max=10000, style=ProgressStyle(descriptio…"
      ]
     },
     "metadata": {},
     "output_type": "display_data"
    },
    {
     "data": {
      "application/vnd.jupyter.widget-view+json": {
       "model_id": "",
       "version_major": 2,
       "version_minor": 0
      },
      "text/plain": [
       "HBox(children=(IntProgress(value=0, description='Equilibrate sweep', style=ProgressStyle(description_width='in…"
      ]
     },
     "metadata": {},
     "output_type": "display_data"
    },
    {
     "data": {
      "application/vnd.jupyter.widget-view+json": {
       "model_id": "",
       "version_major": 2,
       "version_minor": 0
      },
      "text/plain": [
       "HBox(children=(IntProgress(value=0, description='Measurement sweep', max=10000, style=ProgressStyle(descriptio…"
      ]
     },
     "metadata": {},
     "output_type": "display_data"
    },
    {
     "data": {
      "application/vnd.jupyter.widget-view+json": {
       "model_id": "",
       "version_major": 2,
       "version_minor": 0
      },
      "text/plain": [
       "HBox(children=(IntProgress(value=0, description='Equilibrate sweep', style=ProgressStyle(description_width='in…"
      ]
     },
     "metadata": {},
     "output_type": "display_data"
    },
    {
     "data": {
      "application/vnd.jupyter.widget-view+json": {
       "model_id": "",
       "version_major": 2,
       "version_minor": 0
      },
      "text/plain": [
       "HBox(children=(IntProgress(value=0, description='Measurement sweep', max=10000, style=ProgressStyle(descriptio…"
      ]
     },
     "metadata": {},
     "output_type": "display_data"
    },
    {
     "data": {
      "application/vnd.jupyter.widget-view+json": {
       "model_id": "",
       "version_major": 2,
       "version_minor": 0
      },
      "text/plain": [
       "HBox(children=(IntProgress(value=0, description='Equilibrate sweep', style=ProgressStyle(description_width='in…"
      ]
     },
     "metadata": {},
     "output_type": "display_data"
    },
    {
     "data": {
      "application/vnd.jupyter.widget-view+json": {
       "model_id": "",
       "version_major": 2,
       "version_minor": 0
      },
      "text/plain": [
       "HBox(children=(IntProgress(value=0, description='Measurement sweep', max=10000, style=ProgressStyle(descriptio…"
      ]
     },
     "metadata": {},
     "output_type": "display_data"
    },
    {
     "data": {
      "application/vnd.jupyter.widget-view+json": {
       "model_id": "",
       "version_major": 2,
       "version_minor": 0
      },
      "text/plain": [
       "HBox(children=(IntProgress(value=0, description='Equilibrate sweep', style=ProgressStyle(description_width='in…"
      ]
     },
     "metadata": {},
     "output_type": "display_data"
    },
    {
     "data": {
      "application/vnd.jupyter.widget-view+json": {
       "model_id": "",
       "version_major": 2,
       "version_minor": 0
      },
      "text/plain": [
       "HBox(children=(IntProgress(value=0, description='Measurement sweep', max=10000, style=ProgressStyle(descriptio…"
      ]
     },
     "metadata": {},
     "output_type": "display_data"
    },
    {
     "data": {
      "application/vnd.jupyter.widget-view+json": {
       "model_id": "",
       "version_major": 2,
       "version_minor": 0
      },
      "text/plain": [
       "HBox(children=(IntProgress(value=0, description='Equilibrate sweep', style=ProgressStyle(description_width='in…"
      ]
     },
     "metadata": {},
     "output_type": "display_data"
    },
    {
     "data": {
      "application/vnd.jupyter.widget-view+json": {
       "model_id": "",
       "version_major": 2,
       "version_minor": 0
      },
      "text/plain": [
       "HBox(children=(IntProgress(value=0, description='Measurement sweep', max=10000, style=ProgressStyle(descriptio…"
      ]
     },
     "metadata": {},
     "output_type": "display_data"
    },
    {
     "data": {
      "application/vnd.jupyter.widget-view+json": {
       "model_id": "",
       "version_major": 2,
       "version_minor": 0
      },
      "text/plain": [
       "HBox(children=(IntProgress(value=0, description='Equilibrate sweep', style=ProgressStyle(description_width='in…"
      ]
     },
     "metadata": {},
     "output_type": "display_data"
    },
    {
     "data": {
      "application/vnd.jupyter.widget-view+json": {
       "model_id": "",
       "version_major": 2,
       "version_minor": 0
      },
      "text/plain": [
       "HBox(children=(IntProgress(value=0, description='Measurement sweep', max=10000, style=ProgressStyle(descriptio…"
      ]
     },
     "metadata": {},
     "output_type": "display_data"
    },
    {
     "data": {
      "application/vnd.jupyter.widget-view+json": {
       "model_id": "",
       "version_major": 2,
       "version_minor": 0
      },
      "text/plain": [
       "HBox(children=(IntProgress(value=0, description='Equilibrate sweep', style=ProgressStyle(description_width='in…"
      ]
     },
     "metadata": {},
     "output_type": "display_data"
    },
    {
     "data": {
      "application/vnd.jupyter.widget-view+json": {
       "model_id": "",
       "version_major": 2,
       "version_minor": 0
      },
      "text/plain": [
       "HBox(children=(IntProgress(value=0, description='Measurement sweep', max=10000, style=ProgressStyle(descriptio…"
      ]
     },
     "metadata": {},
     "output_type": "display_data"
    },
    {
     "data": {
      "application/vnd.jupyter.widget-view+json": {
       "model_id": "",
       "version_major": 2,
       "version_minor": 0
      },
      "text/plain": [
       "HBox(children=(IntProgress(value=0, description='Equilibrate sweep', style=ProgressStyle(description_width='in…"
      ]
     },
     "metadata": {},
     "output_type": "display_data"
    },
    {
     "data": {
      "application/vnd.jupyter.widget-view+json": {
       "model_id": "",
       "version_major": 2,
       "version_minor": 0
      },
      "text/plain": [
       "HBox(children=(IntProgress(value=0, description='Measurement sweep', max=10000, style=ProgressStyle(descriptio…"
      ]
     },
     "metadata": {},
     "output_type": "display_data"
    },
    {
     "data": {
      "application/vnd.jupyter.widget-view+json": {
       "model_id": "",
       "version_major": 2,
       "version_minor": 0
      },
      "text/plain": [
       "HBox(children=(IntProgress(value=0, description='Equilibrate sweep', style=ProgressStyle(description_width='in…"
      ]
     },
     "metadata": {},
     "output_type": "display_data"
    },
    {
     "data": {
      "application/vnd.jupyter.widget-view+json": {
       "model_id": "",
       "version_major": 2,
       "version_minor": 0
      },
      "text/plain": [
       "HBox(children=(IntProgress(value=0, description='Measurement sweep', max=10000, style=ProgressStyle(descriptio…"
      ]
     },
     "metadata": {},
     "output_type": "display_data"
    },
    {
     "data": {
      "application/vnd.jupyter.widget-view+json": {
       "model_id": "",
       "version_major": 2,
       "version_minor": 0
      },
      "text/plain": [
       "HBox(children=(IntProgress(value=0, description='Equilibrate sweep', style=ProgressStyle(description_width='in…"
      ]
     },
     "metadata": {},
     "output_type": "display_data"
    },
    {
     "data": {
      "application/vnd.jupyter.widget-view+json": {
       "model_id": "",
       "version_major": 2,
       "version_minor": 0
      },
      "text/plain": [
       "HBox(children=(IntProgress(value=0, description='Measurement sweep', max=10000, style=ProgressStyle(descriptio…"
      ]
     },
     "metadata": {},
     "output_type": "display_data"
    },
    {
     "data": {
      "application/vnd.jupyter.widget-view+json": {
       "model_id": "",
       "version_major": 2,
       "version_minor": 0
      },
      "text/plain": [
       "HBox(children=(IntProgress(value=0, description='Equilibrate sweep', style=ProgressStyle(description_width='in…"
      ]
     },
     "metadata": {},
     "output_type": "display_data"
    },
    {
     "data": {
      "application/vnd.jupyter.widget-view+json": {
       "model_id": "",
       "version_major": 2,
       "version_minor": 0
      },
      "text/plain": [
       "HBox(children=(IntProgress(value=0, description='Measurement sweep', max=10000, style=ProgressStyle(descriptio…"
      ]
     },
     "metadata": {},
     "output_type": "display_data"
    },
    {
     "data": {
      "application/vnd.jupyter.widget-view+json": {
       "model_id": "",
       "version_major": 2,
       "version_minor": 0
      },
      "text/plain": [
       "HBox(children=(IntProgress(value=0, description='Col', max=20, style=ProgressStyle(description_width='initial'…"
      ]
     },
     "metadata": {},
     "output_type": "display_data"
    },
    {
     "data": {
      "application/vnd.jupyter.widget-view+json": {
       "model_id": "",
       "version_major": 2,
       "version_minor": 0
      },
      "text/plain": [
       "HBox(children=(IntProgress(value=0, description='Equilibrate sweep', style=ProgressStyle(description_width='in…"
      ]
     },
     "metadata": {},
     "output_type": "display_data"
    },
    {
     "data": {
      "application/vnd.jupyter.widget-view+json": {
       "model_id": "",
       "version_major": 2,
       "version_minor": 0
      },
      "text/plain": [
       "HBox(children=(IntProgress(value=0, description='Measurement sweep', max=10000, style=ProgressStyle(descriptio…"
      ]
     },
     "metadata": {},
     "output_type": "display_data"
    },
    {
     "data": {
      "application/vnd.jupyter.widget-view+json": {
       "model_id": "",
       "version_major": 2,
       "version_minor": 0
      },
      "text/plain": [
       "HBox(children=(IntProgress(value=0, description='Equilibrate sweep', style=ProgressStyle(description_width='in…"
      ]
     },
     "metadata": {},
     "output_type": "display_data"
    },
    {
     "data": {
      "application/vnd.jupyter.widget-view+json": {
       "model_id": "",
       "version_major": 2,
       "version_minor": 0
      },
      "text/plain": [
       "HBox(children=(IntProgress(value=0, description='Measurement sweep', max=10000, style=ProgressStyle(descriptio…"
      ]
     },
     "metadata": {},
     "output_type": "display_data"
    },
    {
     "data": {
      "application/vnd.jupyter.widget-view+json": {
       "model_id": "",
       "version_major": 2,
       "version_minor": 0
      },
      "text/plain": [
       "HBox(children=(IntProgress(value=0, description='Equilibrate sweep', style=ProgressStyle(description_width='in…"
      ]
     },
     "metadata": {},
     "output_type": "display_data"
    },
    {
     "data": {
      "application/vnd.jupyter.widget-view+json": {
       "model_id": "",
       "version_major": 2,
       "version_minor": 0
      },
      "text/plain": [
       "HBox(children=(IntProgress(value=0, description='Measurement sweep', max=10000, style=ProgressStyle(descriptio…"
      ]
     },
     "metadata": {},
     "output_type": "display_data"
    },
    {
     "data": {
      "application/vnd.jupyter.widget-view+json": {
       "model_id": "",
       "version_major": 2,
       "version_minor": 0
      },
      "text/plain": [
       "HBox(children=(IntProgress(value=0, description='Equilibrate sweep', style=ProgressStyle(description_width='in…"
      ]
     },
     "metadata": {},
     "output_type": "display_data"
    },
    {
     "data": {
      "application/vnd.jupyter.widget-view+json": {
       "model_id": "",
       "version_major": 2,
       "version_minor": 0
      },
      "text/plain": [
       "HBox(children=(IntProgress(value=0, description='Measurement sweep', max=10000, style=ProgressStyle(descriptio…"
      ]
     },
     "metadata": {},
     "output_type": "display_data"
    },
    {
     "data": {
      "application/vnd.jupyter.widget-view+json": {
       "model_id": "",
       "version_major": 2,
       "version_minor": 0
      },
      "text/plain": [
       "HBox(children=(IntProgress(value=0, description='Equilibrate sweep', style=ProgressStyle(description_width='in…"
      ]
     },
     "metadata": {},
     "output_type": "display_data"
    },
    {
     "data": {
      "application/vnd.jupyter.widget-view+json": {
       "model_id": "",
       "version_major": 2,
       "version_minor": 0
      },
      "text/plain": [
       "HBox(children=(IntProgress(value=0, description='Measurement sweep', max=10000, style=ProgressStyle(descriptio…"
      ]
     },
     "metadata": {},
     "output_type": "display_data"
    },
    {
     "data": {
      "application/vnd.jupyter.widget-view+json": {
       "model_id": "",
       "version_major": 2,
       "version_minor": 0
      },
      "text/plain": [
       "HBox(children=(IntProgress(value=0, description='Equilibrate sweep', style=ProgressStyle(description_width='in…"
      ]
     },
     "metadata": {},
     "output_type": "display_data"
    },
    {
     "data": {
      "application/vnd.jupyter.widget-view+json": {
       "model_id": "",
       "version_major": 2,
       "version_minor": 0
      },
      "text/plain": [
       "HBox(children=(IntProgress(value=0, description='Measurement sweep', max=10000, style=ProgressStyle(descriptio…"
      ]
     },
     "metadata": {},
     "output_type": "display_data"
    },
    {
     "data": {
      "application/vnd.jupyter.widget-view+json": {
       "model_id": "",
       "version_major": 2,
       "version_minor": 0
      },
      "text/plain": [
       "HBox(children=(IntProgress(value=0, description='Equilibrate sweep', style=ProgressStyle(description_width='in…"
      ]
     },
     "metadata": {},
     "output_type": "display_data"
    },
    {
     "data": {
      "application/vnd.jupyter.widget-view+json": {
       "model_id": "",
       "version_major": 2,
       "version_minor": 0
      },
      "text/plain": [
       "HBox(children=(IntProgress(value=0, description='Measurement sweep', max=10000, style=ProgressStyle(descriptio…"
      ]
     },
     "metadata": {},
     "output_type": "display_data"
    },
    {
     "data": {
      "application/vnd.jupyter.widget-view+json": {
       "model_id": "",
       "version_major": 2,
       "version_minor": 0
      },
      "text/plain": [
       "HBox(children=(IntProgress(value=0, description='Equilibrate sweep', style=ProgressStyle(description_width='in…"
      ]
     },
     "metadata": {},
     "output_type": "display_data"
    },
    {
     "data": {
      "application/vnd.jupyter.widget-view+json": {
       "model_id": "",
       "version_major": 2,
       "version_minor": 0
      },
      "text/plain": [
       "HBox(children=(IntProgress(value=0, description='Measurement sweep', max=10000, style=ProgressStyle(descriptio…"
      ]
     },
     "metadata": {},
     "output_type": "display_data"
    },
    {
     "data": {
      "application/vnd.jupyter.widget-view+json": {
       "model_id": "",
       "version_major": 2,
       "version_minor": 0
      },
      "text/plain": [
       "HBox(children=(IntProgress(value=0, description='Equilibrate sweep', style=ProgressStyle(description_width='in…"
      ]
     },
     "metadata": {},
     "output_type": "display_data"
    },
    {
     "data": {
      "application/vnd.jupyter.widget-view+json": {
       "model_id": "",
       "version_major": 2,
       "version_minor": 0
      },
      "text/plain": [
       "HBox(children=(IntProgress(value=0, description='Measurement sweep', max=10000, style=ProgressStyle(descriptio…"
      ]
     },
     "metadata": {},
     "output_type": "display_data"
    },
    {
     "data": {
      "application/vnd.jupyter.widget-view+json": {
       "model_id": "",
       "version_major": 2,
       "version_minor": 0
      },
      "text/plain": [
       "HBox(children=(IntProgress(value=0, description='Equilibrate sweep', style=ProgressStyle(description_width='in…"
      ]
     },
     "metadata": {},
     "output_type": "display_data"
    },
    {
     "data": {
      "application/vnd.jupyter.widget-view+json": {
       "model_id": "",
       "version_major": 2,
       "version_minor": 0
      },
      "text/plain": [
       "HBox(children=(IntProgress(value=0, description='Measurement sweep', max=10000, style=ProgressStyle(descriptio…"
      ]
     },
     "metadata": {},
     "output_type": "display_data"
    },
    {
     "data": {
      "application/vnd.jupyter.widget-view+json": {
       "model_id": "",
       "version_major": 2,
       "version_minor": 0
      },
      "text/plain": [
       "HBox(children=(IntProgress(value=0, description='Equilibrate sweep', style=ProgressStyle(description_width='in…"
      ]
     },
     "metadata": {},
     "output_type": "display_data"
    },
    {
     "data": {
      "application/vnd.jupyter.widget-view+json": {
       "model_id": "",
       "version_major": 2,
       "version_minor": 0
      },
      "text/plain": [
       "HBox(children=(IntProgress(value=0, description='Measurement sweep', max=10000, style=ProgressStyle(descriptio…"
      ]
     },
     "metadata": {},
     "output_type": "display_data"
    },
    {
     "data": {
      "application/vnd.jupyter.widget-view+json": {
       "model_id": "",
       "version_major": 2,
       "version_minor": 0
      },
      "text/plain": [
       "HBox(children=(IntProgress(value=0, description='Equilibrate sweep', style=ProgressStyle(description_width='in…"
      ]
     },
     "metadata": {},
     "output_type": "display_data"
    },
    {
     "data": {
      "application/vnd.jupyter.widget-view+json": {
       "model_id": "",
       "version_major": 2,
       "version_minor": 0
      },
      "text/plain": [
       "HBox(children=(IntProgress(value=0, description='Measurement sweep', max=10000, style=ProgressStyle(descriptio…"
      ]
     },
     "metadata": {},
     "output_type": "display_data"
    },
    {
     "data": {
      "application/vnd.jupyter.widget-view+json": {
       "model_id": "",
       "version_major": 2,
       "version_minor": 0
      },
      "text/plain": [
       "HBox(children=(IntProgress(value=0, description='Equilibrate sweep', style=ProgressStyle(description_width='in…"
      ]
     },
     "metadata": {},
     "output_type": "display_data"
    },
    {
     "data": {
      "application/vnd.jupyter.widget-view+json": {
       "model_id": "",
       "version_major": 2,
       "version_minor": 0
      },
      "text/plain": [
       "HBox(children=(IntProgress(value=0, description='Measurement sweep', max=10000, style=ProgressStyle(descriptio…"
      ]
     },
     "metadata": {},
     "output_type": "display_data"
    },
    {
     "data": {
      "application/vnd.jupyter.widget-view+json": {
       "model_id": "",
       "version_major": 2,
       "version_minor": 0
      },
      "text/plain": [
       "HBox(children=(IntProgress(value=0, description='Equilibrate sweep', style=ProgressStyle(description_width='in…"
      ]
     },
     "metadata": {},
     "output_type": "display_data"
    },
    {
     "data": {
      "application/vnd.jupyter.widget-view+json": {
       "model_id": "",
       "version_major": 2,
       "version_minor": 0
      },
      "text/plain": [
       "HBox(children=(IntProgress(value=0, description='Measurement sweep', max=10000, style=ProgressStyle(descriptio…"
      ]
     },
     "metadata": {},
     "output_type": "display_data"
    },
    {
     "data": {
      "application/vnd.jupyter.widget-view+json": {
       "model_id": "",
       "version_major": 2,
       "version_minor": 0
      },
      "text/plain": [
       "HBox(children=(IntProgress(value=0, description='Equilibrate sweep', style=ProgressStyle(description_width='in…"
      ]
     },
     "metadata": {},
     "output_type": "display_data"
    },
    {
     "data": {
      "application/vnd.jupyter.widget-view+json": {
       "model_id": "",
       "version_major": 2,
       "version_minor": 0
      },
      "text/plain": [
       "HBox(children=(IntProgress(value=0, description='Measurement sweep', max=10000, style=ProgressStyle(descriptio…"
      ]
     },
     "metadata": {},
     "output_type": "display_data"
    },
    {
     "data": {
      "application/vnd.jupyter.widget-view+json": {
       "model_id": "",
       "version_major": 2,
       "version_minor": 0
      },
      "text/plain": [
       "HBox(children=(IntProgress(value=0, description='Equilibrate sweep', style=ProgressStyle(description_width='in…"
      ]
     },
     "metadata": {},
     "output_type": "display_data"
    },
    {
     "data": {
      "application/vnd.jupyter.widget-view+json": {
       "model_id": "",
       "version_major": 2,
       "version_minor": 0
      },
      "text/plain": [
       "HBox(children=(IntProgress(value=0, description='Measurement sweep', max=10000, style=ProgressStyle(descriptio…"
      ]
     },
     "metadata": {},
     "output_type": "display_data"
    },
    {
     "data": {
      "application/vnd.jupyter.widget-view+json": {
       "model_id": "",
       "version_major": 2,
       "version_minor": 0
      },
      "text/plain": [
       "HBox(children=(IntProgress(value=0, description='Equilibrate sweep', style=ProgressStyle(description_width='in…"
      ]
     },
     "metadata": {},
     "output_type": "display_data"
    },
    {
     "data": {
      "application/vnd.jupyter.widget-view+json": {
       "model_id": "",
       "version_major": 2,
       "version_minor": 0
      },
      "text/plain": [
       "HBox(children=(IntProgress(value=0, description='Measurement sweep', max=10000, style=ProgressStyle(descriptio…"
      ]
     },
     "metadata": {},
     "output_type": "display_data"
    },
    {
     "data": {
      "application/vnd.jupyter.widget-view+json": {
       "model_id": "",
       "version_major": 2,
       "version_minor": 0
      },
      "text/plain": [
       "HBox(children=(IntProgress(value=0, description='Equilibrate sweep', style=ProgressStyle(description_width='in…"
      ]
     },
     "metadata": {},
     "output_type": "display_data"
    },
    {
     "data": {
      "application/vnd.jupyter.widget-view+json": {
       "model_id": "",
       "version_major": 2,
       "version_minor": 0
      },
      "text/plain": [
       "HBox(children=(IntProgress(value=0, description='Measurement sweep', max=10000, style=ProgressStyle(descriptio…"
      ]
     },
     "metadata": {},
     "output_type": "display_data"
    },
    {
     "data": {
      "application/vnd.jupyter.widget-view+json": {
       "model_id": "",
       "version_major": 2,
       "version_minor": 0
      },
      "text/plain": [
       "HBox(children=(IntProgress(value=0, description='Equilibrate sweep', style=ProgressStyle(description_width='in…"
      ]
     },
     "metadata": {},
     "output_type": "display_data"
    },
    {
     "data": {
      "application/vnd.jupyter.widget-view+json": {
       "model_id": "",
       "version_major": 2,
       "version_minor": 0
      },
      "text/plain": [
       "HBox(children=(IntProgress(value=0, description='Measurement sweep', max=10000, style=ProgressStyle(descriptio…"
      ]
     },
     "metadata": {},
     "output_type": "display_data"
    },
    {
     "data": {
      "application/vnd.jupyter.widget-view+json": {
       "model_id": "",
       "version_major": 2,
       "version_minor": 0
      },
      "text/plain": [
       "HBox(children=(IntProgress(value=0, description='Equilibrate sweep', style=ProgressStyle(description_width='in…"
      ]
     },
     "metadata": {},
     "output_type": "display_data"
    },
    {
     "data": {
      "application/vnd.jupyter.widget-view+json": {
       "model_id": "",
       "version_major": 2,
       "version_minor": 0
      },
      "text/plain": [
       "HBox(children=(IntProgress(value=0, description='Measurement sweep', max=10000, style=ProgressStyle(descriptio…"
      ]
     },
     "metadata": {},
     "output_type": "display_data"
    },
    {
     "name": "stdout",
     "output_type": "stream",
     "text": [
      "\r"
     ]
    },
    {
     "data": {
      "application/javascript": [
       "/* Put everything inside the global mpl namespace */\n",
       "window.mpl = {};\n",
       "\n",
       "\n",
       "mpl.get_websocket_type = function() {\n",
       "    if (typeof(WebSocket) !== 'undefined') {\n",
       "        return WebSocket;\n",
       "    } else if (typeof(MozWebSocket) !== 'undefined') {\n",
       "        return MozWebSocket;\n",
       "    } else {\n",
       "        alert('Your browser does not have WebSocket support.' +\n",
       "              'Please try Chrome, Safari or Firefox ≥ 6. ' +\n",
       "              'Firefox 4 and 5 are also supported but you ' +\n",
       "              'have to enable WebSockets in about:config.');\n",
       "    };\n",
       "}\n",
       "\n",
       "mpl.figure = function(figure_id, websocket, ondownload, parent_element) {\n",
       "    this.id = figure_id;\n",
       "\n",
       "    this.ws = websocket;\n",
       "\n",
       "    this.supports_binary = (this.ws.binaryType != undefined);\n",
       "\n",
       "    if (!this.supports_binary) {\n",
       "        var warnings = document.getElementById(\"mpl-warnings\");\n",
       "        if (warnings) {\n",
       "            warnings.style.display = 'block';\n",
       "            warnings.textContent = (\n",
       "                \"This browser does not support binary websocket messages. \" +\n",
       "                    \"Performance may be slow.\");\n",
       "        }\n",
       "    }\n",
       "\n",
       "    this.imageObj = new Image();\n",
       "\n",
       "    this.context = undefined;\n",
       "    this.message = undefined;\n",
       "    this.canvas = undefined;\n",
       "    this.rubberband_canvas = undefined;\n",
       "    this.rubberband_context = undefined;\n",
       "    this.format_dropdown = undefined;\n",
       "\n",
       "    this.image_mode = 'full';\n",
       "\n",
       "    this.root = $('<div/>');\n",
       "    this._root_extra_style(this.root)\n",
       "    this.root.attr('style', 'display: inline-block');\n",
       "\n",
       "    $(parent_element).append(this.root);\n",
       "\n",
       "    this._init_header(this);\n",
       "    this._init_canvas(this);\n",
       "    this._init_toolbar(this);\n",
       "\n",
       "    var fig = this;\n",
       "\n",
       "    this.waiting = false;\n",
       "\n",
       "    this.ws.onopen =  function () {\n",
       "            fig.send_message(\"supports_binary\", {value: fig.supports_binary});\n",
       "            fig.send_message(\"send_image_mode\", {});\n",
       "            if (mpl.ratio != 1) {\n",
       "                fig.send_message(\"set_dpi_ratio\", {'dpi_ratio': mpl.ratio});\n",
       "            }\n",
       "            fig.send_message(\"refresh\", {});\n",
       "        }\n",
       "\n",
       "    this.imageObj.onload = function() {\n",
       "            if (fig.image_mode == 'full') {\n",
       "                // Full images could contain transparency (where diff images\n",
       "                // almost always do), so we need to clear the canvas so that\n",
       "                // there is no ghosting.\n",
       "                fig.context.clearRect(0, 0, fig.canvas.width, fig.canvas.height);\n",
       "            }\n",
       "            fig.context.drawImage(fig.imageObj, 0, 0);\n",
       "        };\n",
       "\n",
       "    this.imageObj.onunload = function() {\n",
       "        fig.ws.close();\n",
       "    }\n",
       "\n",
       "    this.ws.onmessage = this._make_on_message_function(this);\n",
       "\n",
       "    this.ondownload = ondownload;\n",
       "}\n",
       "\n",
       "mpl.figure.prototype._init_header = function() {\n",
       "    var titlebar = $(\n",
       "        '<div class=\"ui-dialog-titlebar ui-widget-header ui-corner-all ' +\n",
       "        'ui-helper-clearfix\"/>');\n",
       "    var titletext = $(\n",
       "        '<div class=\"ui-dialog-title\" style=\"width: 100%; ' +\n",
       "        'text-align: center; padding: 3px;\"/>');\n",
       "    titlebar.append(titletext)\n",
       "    this.root.append(titlebar);\n",
       "    this.header = titletext[0];\n",
       "}\n",
       "\n",
       "\n",
       "\n",
       "mpl.figure.prototype._canvas_extra_style = function(canvas_div) {\n",
       "\n",
       "}\n",
       "\n",
       "\n",
       "mpl.figure.prototype._root_extra_style = function(canvas_div) {\n",
       "\n",
       "}\n",
       "\n",
       "mpl.figure.prototype._init_canvas = function() {\n",
       "    var fig = this;\n",
       "\n",
       "    var canvas_div = $('<div/>');\n",
       "\n",
       "    canvas_div.attr('style', 'position: relative; clear: both; outline: 0');\n",
       "\n",
       "    function canvas_keyboard_event(event) {\n",
       "        return fig.key_event(event, event['data']);\n",
       "    }\n",
       "\n",
       "    canvas_div.keydown('key_press', canvas_keyboard_event);\n",
       "    canvas_div.keyup('key_release', canvas_keyboard_event);\n",
       "    this.canvas_div = canvas_div\n",
       "    this._canvas_extra_style(canvas_div)\n",
       "    this.root.append(canvas_div);\n",
       "\n",
       "    var canvas = $('<canvas/>');\n",
       "    canvas.addClass('mpl-canvas');\n",
       "    canvas.attr('style', \"left: 0; top: 0; z-index: 0; outline: 0\")\n",
       "\n",
       "    this.canvas = canvas[0];\n",
       "    this.context = canvas[0].getContext(\"2d\");\n",
       "\n",
       "    var backingStore = this.context.backingStorePixelRatio ||\n",
       "\tthis.context.webkitBackingStorePixelRatio ||\n",
       "\tthis.context.mozBackingStorePixelRatio ||\n",
       "\tthis.context.msBackingStorePixelRatio ||\n",
       "\tthis.context.oBackingStorePixelRatio ||\n",
       "\tthis.context.backingStorePixelRatio || 1;\n",
       "\n",
       "    mpl.ratio = (window.devicePixelRatio || 1) / backingStore;\n",
       "\n",
       "    var rubberband = $('<canvas/>');\n",
       "    rubberband.attr('style', \"position: absolute; left: 0; top: 0; z-index: 1;\")\n",
       "\n",
       "    var pass_mouse_events = true;\n",
       "\n",
       "    canvas_div.resizable({\n",
       "        start: function(event, ui) {\n",
       "            pass_mouse_events = false;\n",
       "        },\n",
       "        resize: function(event, ui) {\n",
       "            fig.request_resize(ui.size.width, ui.size.height);\n",
       "        },\n",
       "        stop: function(event, ui) {\n",
       "            pass_mouse_events = true;\n",
       "            fig.request_resize(ui.size.width, ui.size.height);\n",
       "        },\n",
       "    });\n",
       "\n",
       "    function mouse_event_fn(event) {\n",
       "        if (pass_mouse_events)\n",
       "            return fig.mouse_event(event, event['data']);\n",
       "    }\n",
       "\n",
       "    rubberband.mousedown('button_press', mouse_event_fn);\n",
       "    rubberband.mouseup('button_release', mouse_event_fn);\n",
       "    // Throttle sequential mouse events to 1 every 20ms.\n",
       "    rubberband.mousemove('motion_notify', mouse_event_fn);\n",
       "\n",
       "    rubberband.mouseenter('figure_enter', mouse_event_fn);\n",
       "    rubberband.mouseleave('figure_leave', mouse_event_fn);\n",
       "\n",
       "    canvas_div.on(\"wheel\", function (event) {\n",
       "        event = event.originalEvent;\n",
       "        event['data'] = 'scroll'\n",
       "        if (event.deltaY < 0) {\n",
       "            event.step = 1;\n",
       "        } else {\n",
       "            event.step = -1;\n",
       "        }\n",
       "        mouse_event_fn(event);\n",
       "    });\n",
       "\n",
       "    canvas_div.append(canvas);\n",
       "    canvas_div.append(rubberband);\n",
       "\n",
       "    this.rubberband = rubberband;\n",
       "    this.rubberband_canvas = rubberband[0];\n",
       "    this.rubberband_context = rubberband[0].getContext(\"2d\");\n",
       "    this.rubberband_context.strokeStyle = \"#000000\";\n",
       "\n",
       "    this._resize_canvas = function(width, height) {\n",
       "        // Keep the size of the canvas, canvas container, and rubber band\n",
       "        // canvas in synch.\n",
       "        canvas_div.css('width', width)\n",
       "        canvas_div.css('height', height)\n",
       "\n",
       "        canvas.attr('width', width * mpl.ratio);\n",
       "        canvas.attr('height', height * mpl.ratio);\n",
       "        canvas.attr('style', 'width: ' + width + 'px; height: ' + height + 'px;');\n",
       "\n",
       "        rubberband.attr('width', width);\n",
       "        rubberband.attr('height', height);\n",
       "    }\n",
       "\n",
       "    // Set the figure to an initial 600x600px, this will subsequently be updated\n",
       "    // upon first draw.\n",
       "    this._resize_canvas(600, 600);\n",
       "\n",
       "    // Disable right mouse context menu.\n",
       "    $(this.rubberband_canvas).bind(\"contextmenu\",function(e){\n",
       "        return false;\n",
       "    });\n",
       "\n",
       "    function set_focus () {\n",
       "        canvas.focus();\n",
       "        canvas_div.focus();\n",
       "    }\n",
       "\n",
       "    window.setTimeout(set_focus, 100);\n",
       "}\n",
       "\n",
       "mpl.figure.prototype._init_toolbar = function() {\n",
       "    var fig = this;\n",
       "\n",
       "    var nav_element = $('<div/>')\n",
       "    nav_element.attr('style', 'width: 100%');\n",
       "    this.root.append(nav_element);\n",
       "\n",
       "    // Define a callback function for later on.\n",
       "    function toolbar_event(event) {\n",
       "        return fig.toolbar_button_onclick(event['data']);\n",
       "    }\n",
       "    function toolbar_mouse_event(event) {\n",
       "        return fig.toolbar_button_onmouseover(event['data']);\n",
       "    }\n",
       "\n",
       "    for(var toolbar_ind in mpl.toolbar_items) {\n",
       "        var name = mpl.toolbar_items[toolbar_ind][0];\n",
       "        var tooltip = mpl.toolbar_items[toolbar_ind][1];\n",
       "        var image = mpl.toolbar_items[toolbar_ind][2];\n",
       "        var method_name = mpl.toolbar_items[toolbar_ind][3];\n",
       "\n",
       "        if (!name) {\n",
       "            // put a spacer in here.\n",
       "            continue;\n",
       "        }\n",
       "        var button = $('<button/>');\n",
       "        button.addClass('ui-button ui-widget ui-state-default ui-corner-all ' +\n",
       "                        'ui-button-icon-only');\n",
       "        button.attr('role', 'button');\n",
       "        button.attr('aria-disabled', 'false');\n",
       "        button.click(method_name, toolbar_event);\n",
       "        button.mouseover(tooltip, toolbar_mouse_event);\n",
       "\n",
       "        var icon_img = $('<span/>');\n",
       "        icon_img.addClass('ui-button-icon-primary ui-icon');\n",
       "        icon_img.addClass(image);\n",
       "        icon_img.addClass('ui-corner-all');\n",
       "\n",
       "        var tooltip_span = $('<span/>');\n",
       "        tooltip_span.addClass('ui-button-text');\n",
       "        tooltip_span.html(tooltip);\n",
       "\n",
       "        button.append(icon_img);\n",
       "        button.append(tooltip_span);\n",
       "\n",
       "        nav_element.append(button);\n",
       "    }\n",
       "\n",
       "    var fmt_picker_span = $('<span/>');\n",
       "\n",
       "    var fmt_picker = $('<select/>');\n",
       "    fmt_picker.addClass('mpl-toolbar-option ui-widget ui-widget-content');\n",
       "    fmt_picker_span.append(fmt_picker);\n",
       "    nav_element.append(fmt_picker_span);\n",
       "    this.format_dropdown = fmt_picker[0];\n",
       "\n",
       "    for (var ind in mpl.extensions) {\n",
       "        var fmt = mpl.extensions[ind];\n",
       "        var option = $(\n",
       "            '<option/>', {selected: fmt === mpl.default_extension}).html(fmt);\n",
       "        fmt_picker.append(option)\n",
       "    }\n",
       "\n",
       "    // Add hover states to the ui-buttons\n",
       "    $( \".ui-button\" ).hover(\n",
       "        function() { $(this).addClass(\"ui-state-hover\");},\n",
       "        function() { $(this).removeClass(\"ui-state-hover\");}\n",
       "    );\n",
       "\n",
       "    var status_bar = $('<span class=\"mpl-message\"/>');\n",
       "    nav_element.append(status_bar);\n",
       "    this.message = status_bar[0];\n",
       "}\n",
       "\n",
       "mpl.figure.prototype.request_resize = function(x_pixels, y_pixels) {\n",
       "    // Request matplotlib to resize the figure. Matplotlib will then trigger a resize in the client,\n",
       "    // which will in turn request a refresh of the image.\n",
       "    this.send_message('resize', {'width': x_pixels, 'height': y_pixels});\n",
       "}\n",
       "\n",
       "mpl.figure.prototype.send_message = function(type, properties) {\n",
       "    properties['type'] = type;\n",
       "    properties['figure_id'] = this.id;\n",
       "    this.ws.send(JSON.stringify(properties));\n",
       "}\n",
       "\n",
       "mpl.figure.prototype.send_draw_message = function() {\n",
       "    if (!this.waiting) {\n",
       "        this.waiting = true;\n",
       "        this.ws.send(JSON.stringify({type: \"draw\", figure_id: this.id}));\n",
       "    }\n",
       "}\n",
       "\n",
       "\n",
       "mpl.figure.prototype.handle_save = function(fig, msg) {\n",
       "    var format_dropdown = fig.format_dropdown;\n",
       "    var format = format_dropdown.options[format_dropdown.selectedIndex].value;\n",
       "    fig.ondownload(fig, format);\n",
       "}\n",
       "\n",
       "\n",
       "mpl.figure.prototype.handle_resize = function(fig, msg) {\n",
       "    var size = msg['size'];\n",
       "    if (size[0] != fig.canvas.width || size[1] != fig.canvas.height) {\n",
       "        fig._resize_canvas(size[0], size[1]);\n",
       "        fig.send_message(\"refresh\", {});\n",
       "    };\n",
       "}\n",
       "\n",
       "mpl.figure.prototype.handle_rubberband = function(fig, msg) {\n",
       "    var x0 = msg['x0'] / mpl.ratio;\n",
       "    var y0 = (fig.canvas.height - msg['y0']) / mpl.ratio;\n",
       "    var x1 = msg['x1'] / mpl.ratio;\n",
       "    var y1 = (fig.canvas.height - msg['y1']) / mpl.ratio;\n",
       "    x0 = Math.floor(x0) + 0.5;\n",
       "    y0 = Math.floor(y0) + 0.5;\n",
       "    x1 = Math.floor(x1) + 0.5;\n",
       "    y1 = Math.floor(y1) + 0.5;\n",
       "    var min_x = Math.min(x0, x1);\n",
       "    var min_y = Math.min(y0, y1);\n",
       "    var width = Math.abs(x1 - x0);\n",
       "    var height = Math.abs(y1 - y0);\n",
       "\n",
       "    fig.rubberband_context.clearRect(\n",
       "        0, 0, fig.canvas.width, fig.canvas.height);\n",
       "\n",
       "    fig.rubberband_context.strokeRect(min_x, min_y, width, height);\n",
       "}\n",
       "\n",
       "mpl.figure.prototype.handle_figure_label = function(fig, msg) {\n",
       "    // Updates the figure title.\n",
       "    fig.header.textContent = msg['label'];\n",
       "}\n",
       "\n",
       "mpl.figure.prototype.handle_cursor = function(fig, msg) {\n",
       "    var cursor = msg['cursor'];\n",
       "    switch(cursor)\n",
       "    {\n",
       "    case 0:\n",
       "        cursor = 'pointer';\n",
       "        break;\n",
       "    case 1:\n",
       "        cursor = 'default';\n",
       "        break;\n",
       "    case 2:\n",
       "        cursor = 'crosshair';\n",
       "        break;\n",
       "    case 3:\n",
       "        cursor = 'move';\n",
       "        break;\n",
       "    }\n",
       "    fig.rubberband_canvas.style.cursor = cursor;\n",
       "}\n",
       "\n",
       "mpl.figure.prototype.handle_message = function(fig, msg) {\n",
       "    fig.message.textContent = msg['message'];\n",
       "}\n",
       "\n",
       "mpl.figure.prototype.handle_draw = function(fig, msg) {\n",
       "    // Request the server to send over a new figure.\n",
       "    fig.send_draw_message();\n",
       "}\n",
       "\n",
       "mpl.figure.prototype.handle_image_mode = function(fig, msg) {\n",
       "    fig.image_mode = msg['mode'];\n",
       "}\n",
       "\n",
       "mpl.figure.prototype.updated_canvas_event = function() {\n",
       "    // Called whenever the canvas gets updated.\n",
       "    this.send_message(\"ack\", {});\n",
       "}\n",
       "\n",
       "// A function to construct a web socket function for onmessage handling.\n",
       "// Called in the figure constructor.\n",
       "mpl.figure.prototype._make_on_message_function = function(fig) {\n",
       "    return function socket_on_message(evt) {\n",
       "        if (evt.data instanceof Blob) {\n",
       "            /* FIXME: We get \"Resource interpreted as Image but\n",
       "             * transferred with MIME type text/plain:\" errors on\n",
       "             * Chrome.  But how to set the MIME type?  It doesn't seem\n",
       "             * to be part of the websocket stream */\n",
       "            evt.data.type = \"image/png\";\n",
       "\n",
       "            /* Free the memory for the previous frames */\n",
       "            if (fig.imageObj.src) {\n",
       "                (window.URL || window.webkitURL).revokeObjectURL(\n",
       "                    fig.imageObj.src);\n",
       "            }\n",
       "\n",
       "            fig.imageObj.src = (window.URL || window.webkitURL).createObjectURL(\n",
       "                evt.data);\n",
       "            fig.updated_canvas_event();\n",
       "            fig.waiting = false;\n",
       "            return;\n",
       "        }\n",
       "        else if (typeof evt.data === 'string' && evt.data.slice(0, 21) == \"data:image/png;base64\") {\n",
       "            fig.imageObj.src = evt.data;\n",
       "            fig.updated_canvas_event();\n",
       "            fig.waiting = false;\n",
       "            return;\n",
       "        }\n",
       "\n",
       "        var msg = JSON.parse(evt.data);\n",
       "        var msg_type = msg['type'];\n",
       "\n",
       "        // Call the  \"handle_{type}\" callback, which takes\n",
       "        // the figure and JSON message as its only arguments.\n",
       "        try {\n",
       "            var callback = fig[\"handle_\" + msg_type];\n",
       "        } catch (e) {\n",
       "            console.log(\"No handler for the '\" + msg_type + \"' message type: \", msg);\n",
       "            return;\n",
       "        }\n",
       "\n",
       "        if (callback) {\n",
       "            try {\n",
       "                // console.log(\"Handling '\" + msg_type + \"' message: \", msg);\n",
       "                callback(fig, msg);\n",
       "            } catch (e) {\n",
       "                console.log(\"Exception inside the 'handler_\" + msg_type + \"' callback:\", e, e.stack, msg);\n",
       "            }\n",
       "        }\n",
       "    };\n",
       "}\n",
       "\n",
       "// from http://stackoverflow.com/questions/1114465/getting-mouse-location-in-canvas\n",
       "mpl.findpos = function(e) {\n",
       "    //this section is from http://www.quirksmode.org/js/events_properties.html\n",
       "    var targ;\n",
       "    if (!e)\n",
       "        e = window.event;\n",
       "    if (e.target)\n",
       "        targ = e.target;\n",
       "    else if (e.srcElement)\n",
       "        targ = e.srcElement;\n",
       "    if (targ.nodeType == 3) // defeat Safari bug\n",
       "        targ = targ.parentNode;\n",
       "\n",
       "    // jQuery normalizes the pageX and pageY\n",
       "    // pageX,Y are the mouse positions relative to the document\n",
       "    // offset() returns the position of the element relative to the document\n",
       "    var x = e.pageX - $(targ).offset().left;\n",
       "    var y = e.pageY - $(targ).offset().top;\n",
       "\n",
       "    return {\"x\": x, \"y\": y};\n",
       "};\n",
       "\n",
       "/*\n",
       " * return a copy of an object with only non-object keys\n",
       " * we need this to avoid circular references\n",
       " * http://stackoverflow.com/a/24161582/3208463\n",
       " */\n",
       "function simpleKeys (original) {\n",
       "  return Object.keys(original).reduce(function (obj, key) {\n",
       "    if (typeof original[key] !== 'object')\n",
       "        obj[key] = original[key]\n",
       "    return obj;\n",
       "  }, {});\n",
       "}\n",
       "\n",
       "mpl.figure.prototype.mouse_event = function(event, name) {\n",
       "    var canvas_pos = mpl.findpos(event)\n",
       "\n",
       "    if (name === 'button_press')\n",
       "    {\n",
       "        this.canvas.focus();\n",
       "        this.canvas_div.focus();\n",
       "    }\n",
       "\n",
       "    var x = canvas_pos.x * mpl.ratio;\n",
       "    var y = canvas_pos.y * mpl.ratio;\n",
       "\n",
       "    this.send_message(name, {x: x, y: y, button: event.button,\n",
       "                             step: event.step,\n",
       "                             guiEvent: simpleKeys(event)});\n",
       "\n",
       "    /* This prevents the web browser from automatically changing to\n",
       "     * the text insertion cursor when the button is pressed.  We want\n",
       "     * to control all of the cursor setting manually through the\n",
       "     * 'cursor' event from matplotlib */\n",
       "    event.preventDefault();\n",
       "    return false;\n",
       "}\n",
       "\n",
       "mpl.figure.prototype._key_event_extra = function(event, name) {\n",
       "    // Handle any extra behaviour associated with a key event\n",
       "}\n",
       "\n",
       "mpl.figure.prototype.key_event = function(event, name) {\n",
       "\n",
       "    // Prevent repeat events\n",
       "    if (name == 'key_press')\n",
       "    {\n",
       "        if (event.which === this._key)\n",
       "            return;\n",
       "        else\n",
       "            this._key = event.which;\n",
       "    }\n",
       "    if (name == 'key_release')\n",
       "        this._key = null;\n",
       "\n",
       "    var value = '';\n",
       "    if (event.ctrlKey && event.which != 17)\n",
       "        value += \"ctrl+\";\n",
       "    if (event.altKey && event.which != 18)\n",
       "        value += \"alt+\";\n",
       "    if (event.shiftKey && event.which != 16)\n",
       "        value += \"shift+\";\n",
       "\n",
       "    value += 'k';\n",
       "    value += event.which.toString();\n",
       "\n",
       "    this._key_event_extra(event, name);\n",
       "\n",
       "    this.send_message(name, {key: value,\n",
       "                             guiEvent: simpleKeys(event)});\n",
       "    return false;\n",
       "}\n",
       "\n",
       "mpl.figure.prototype.toolbar_button_onclick = function(name) {\n",
       "    if (name == 'download') {\n",
       "        this.handle_save(this, null);\n",
       "    } else {\n",
       "        this.send_message(\"toolbar_button\", {name: name});\n",
       "    }\n",
       "};\n",
       "\n",
       "mpl.figure.prototype.toolbar_button_onmouseover = function(tooltip) {\n",
       "    this.message.textContent = tooltip;\n",
       "};\n",
       "mpl.toolbar_items = [[\"Home\", \"Reset original view\", \"fa fa-home icon-home\", \"home\"], [\"Back\", \"Back to previous view\", \"fa fa-arrow-left icon-arrow-left\", \"back\"], [\"Forward\", \"Forward to next view\", \"fa fa-arrow-right icon-arrow-right\", \"forward\"], [\"\", \"\", \"\", \"\"], [\"Pan\", \"Pan axes with left mouse, zoom with right\", \"fa fa-arrows icon-move\", \"pan\"], [\"Zoom\", \"Zoom to rectangle\", \"fa fa-square-o icon-check-empty\", \"zoom\"], [\"\", \"\", \"\", \"\"], [\"Download\", \"Download plot\", \"fa fa-floppy-o icon-save\", \"download\"]];\n",
       "\n",
       "mpl.extensions = [\"eps\", \"jpeg\", \"pdf\", \"png\", \"ps\", \"raw\", \"svg\", \"tif\"];\n",
       "\n",
       "mpl.default_extension = \"png\";var comm_websocket_adapter = function(comm) {\n",
       "    // Create a \"websocket\"-like object which calls the given IPython comm\n",
       "    // object with the appropriate methods. Currently this is a non binary\n",
       "    // socket, so there is still some room for performance tuning.\n",
       "    var ws = {};\n",
       "\n",
       "    ws.close = function() {\n",
       "        comm.close()\n",
       "    };\n",
       "    ws.send = function(m) {\n",
       "        //console.log('sending', m);\n",
       "        comm.send(m);\n",
       "    };\n",
       "    // Register the callback with on_msg.\n",
       "    comm.on_msg(function(msg) {\n",
       "        //console.log('receiving', msg['content']['data'], msg);\n",
       "        // Pass the mpl event to the overridden (by mpl) onmessage function.\n",
       "        ws.onmessage(msg['content']['data'])\n",
       "    });\n",
       "    return ws;\n",
       "}\n",
       "\n",
       "mpl.mpl_figure_comm = function(comm, msg) {\n",
       "    // This is the function which gets called when the mpl process\n",
       "    // starts-up an IPython Comm through the \"matplotlib\" channel.\n",
       "\n",
       "    var id = msg.content.data.id;\n",
       "    // Get hold of the div created by the display call when the Comm\n",
       "    // socket was opened in Python.\n",
       "    var element = $(\"#\" + id);\n",
       "    var ws_proxy = comm_websocket_adapter(comm)\n",
       "\n",
       "    function ondownload(figure, format) {\n",
       "        window.open(figure.imageObj.src);\n",
       "    }\n",
       "\n",
       "    var fig = new mpl.figure(id, ws_proxy,\n",
       "                           ondownload,\n",
       "                           element.get(0));\n",
       "\n",
       "    // Call onopen now - mpl needs it, as it is assuming we've passed it a real\n",
       "    // web socket which is closed, not our websocket->open comm proxy.\n",
       "    ws_proxy.onopen();\n",
       "\n",
       "    fig.parent_element = element.get(0);\n",
       "    fig.cell_info = mpl.find_output_cell(\"<div id='\" + id + \"'></div>\");\n",
       "    if (!fig.cell_info) {\n",
       "        console.error(\"Failed to find cell for figure\", id, fig);\n",
       "        return;\n",
       "    }\n",
       "\n",
       "    var output_index = fig.cell_info[2]\n",
       "    var cell = fig.cell_info[0];\n",
       "\n",
       "};\n",
       "\n",
       "mpl.figure.prototype.handle_close = function(fig, msg) {\n",
       "    var width = fig.canvas.width/mpl.ratio\n",
       "    fig.root.unbind('remove')\n",
       "\n",
       "    // Update the output cell to use the data from the current canvas.\n",
       "    fig.push_to_output();\n",
       "    var dataURL = fig.canvas.toDataURL();\n",
       "    // Re-enable the keyboard manager in IPython - without this line, in FF,\n",
       "    // the notebook keyboard shortcuts fail.\n",
       "    IPython.keyboard_manager.enable()\n",
       "    $(fig.parent_element).html('<img src=\"' + dataURL + '\" width=\"' + width + '\">');\n",
       "    fig.close_ws(fig, msg);\n",
       "}\n",
       "\n",
       "mpl.figure.prototype.close_ws = function(fig, msg){\n",
       "    fig.send_message('closing', msg);\n",
       "    // fig.ws.close()\n",
       "}\n",
       "\n",
       "mpl.figure.prototype.push_to_output = function(remove_interactive) {\n",
       "    // Turn the data on the canvas into data in the output cell.\n",
       "    var width = this.canvas.width/mpl.ratio\n",
       "    var dataURL = this.canvas.toDataURL();\n",
       "    this.cell_info[1]['text/html'] = '<img src=\"' + dataURL + '\" width=\"' + width + '\">';\n",
       "}\n",
       "\n",
       "mpl.figure.prototype.updated_canvas_event = function() {\n",
       "    // Tell IPython that the notebook contents must change.\n",
       "    IPython.notebook.set_dirty(true);\n",
       "    this.send_message(\"ack\", {});\n",
       "    var fig = this;\n",
       "    // Wait a second, then push the new image to the DOM so\n",
       "    // that it is saved nicely (might be nice to debounce this).\n",
       "    setTimeout(function () { fig.push_to_output() }, 1000);\n",
       "}\n",
       "\n",
       "mpl.figure.prototype._init_toolbar = function() {\n",
       "    var fig = this;\n",
       "\n",
       "    var nav_element = $('<div/>')\n",
       "    nav_element.attr('style', 'width: 100%');\n",
       "    this.root.append(nav_element);\n",
       "\n",
       "    // Define a callback function for later on.\n",
       "    function toolbar_event(event) {\n",
       "        return fig.toolbar_button_onclick(event['data']);\n",
       "    }\n",
       "    function toolbar_mouse_event(event) {\n",
       "        return fig.toolbar_button_onmouseover(event['data']);\n",
       "    }\n",
       "\n",
       "    for(var toolbar_ind in mpl.toolbar_items){\n",
       "        var name = mpl.toolbar_items[toolbar_ind][0];\n",
       "        var tooltip = mpl.toolbar_items[toolbar_ind][1];\n",
       "        var image = mpl.toolbar_items[toolbar_ind][2];\n",
       "        var method_name = mpl.toolbar_items[toolbar_ind][3];\n",
       "\n",
       "        if (!name) { continue; };\n",
       "\n",
       "        var button = $('<button class=\"btn btn-default\" href=\"#\" title=\"' + name + '\"><i class=\"fa ' + image + ' fa-lg\"></i></button>');\n",
       "        button.click(method_name, toolbar_event);\n",
       "        button.mouseover(tooltip, toolbar_mouse_event);\n",
       "        nav_element.append(button);\n",
       "    }\n",
       "\n",
       "    // Add the status bar.\n",
       "    var status_bar = $('<span class=\"mpl-message\" style=\"text-align:right; float: right;\"/>');\n",
       "    nav_element.append(status_bar);\n",
       "    this.message = status_bar[0];\n",
       "\n",
       "    // Add the close button to the window.\n",
       "    var buttongrp = $('<div class=\"btn-group inline pull-right\"></div>');\n",
       "    var button = $('<button class=\"btn btn-mini btn-primary\" href=\"#\" title=\"Stop Interaction\"><i class=\"fa fa-power-off icon-remove icon-large\"></i></button>');\n",
       "    button.click(function (evt) { fig.handle_close(fig, {}); } );\n",
       "    button.mouseover('Stop Interaction', toolbar_mouse_event);\n",
       "    buttongrp.append(button);\n",
       "    var titlebar = this.root.find($('.ui-dialog-titlebar'));\n",
       "    titlebar.prepend(buttongrp);\n",
       "}\n",
       "\n",
       "mpl.figure.prototype._root_extra_style = function(el){\n",
       "    var fig = this\n",
       "    el.on(\"remove\", function(){\n",
       "\tfig.close_ws(fig, {});\n",
       "    });\n",
       "}\n",
       "\n",
       "mpl.figure.prototype._canvas_extra_style = function(el){\n",
       "    // this is important to make the div 'focusable\n",
       "    el.attr('tabindex', 0)\n",
       "    // reach out to IPython and tell the keyboard manager to turn it's self\n",
       "    // off when our div gets focus\n",
       "\n",
       "    // location in version 3\n",
       "    if (IPython.notebook.keyboard_manager) {\n",
       "        IPython.notebook.keyboard_manager.register_events(el);\n",
       "    }\n",
       "    else {\n",
       "        // location in version 2\n",
       "        IPython.keyboard_manager.register_events(el);\n",
       "    }\n",
       "\n",
       "}\n",
       "\n",
       "mpl.figure.prototype._key_event_extra = function(event, name) {\n",
       "    var manager = IPython.notebook.keyboard_manager;\n",
       "    if (!manager)\n",
       "        manager = IPython.keyboard_manager;\n",
       "\n",
       "    // Check for shift+enter\n",
       "    if (event.shiftKey && event.which == 13) {\n",
       "        this.canvas_div.blur();\n",
       "        event.shiftKey = false;\n",
       "        // Send a \"J\" for go to next cell\n",
       "        event.which = 74;\n",
       "        event.keyCode = 74;\n",
       "        manager.command_mode();\n",
       "        manager.handle_keydown(event);\n",
       "    }\n",
       "}\n",
       "\n",
       "mpl.figure.prototype.handle_save = function(fig, msg) {\n",
       "    fig.ondownload(fig, null);\n",
       "}\n",
       "\n",
       "\n",
       "mpl.find_output_cell = function(html_output) {\n",
       "    // Return the cell and output element which can be found *uniquely* in the notebook.\n",
       "    // Note - this is a bit hacky, but it is done because the \"notebook_saving.Notebook\"\n",
       "    // IPython event is triggered only after the cells have been serialised, which for\n",
       "    // our purposes (turning an active figure into a static one), is too late.\n",
       "    var cells = IPython.notebook.get_cells();\n",
       "    var ncells = cells.length;\n",
       "    for (var i=0; i<ncells; i++) {\n",
       "        var cell = cells[i];\n",
       "        if (cell.cell_type === 'code'){\n",
       "            for (var j=0; j<cell.output_area.outputs.length; j++) {\n",
       "                var data = cell.output_area.outputs[j];\n",
       "                if (data.data) {\n",
       "                    // IPython >= 3 moved mimebundle to data attribute of output\n",
       "                    data = data.data;\n",
       "                }\n",
       "                if (data['text/html'] == html_output) {\n",
       "                    return [cell, data, j];\n",
       "                }\n",
       "            }\n",
       "        }\n",
       "    }\n",
       "}\n",
       "\n",
       "// Register the function which deals with the matplotlib target/channel.\n",
       "// The kernel may be null if the page has been refreshed.\n",
       "if (IPython.notebook.kernel != null) {\n",
       "    IPython.notebook.kernel.comm_manager.register_target('matplotlib', mpl.mpl_figure_comm);\n",
       "}\n"
      ],
      "text/plain": [
       "<IPython.core.display.Javascript object>"
      ]
     },
     "metadata": {},
     "output_type": "display_data"
    },
    {
     "data": {
      "text/html": [
       "<img src=\"data:image/png;base64,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\" width=\"640\">"
      ],
      "text/plain": [
       "<IPython.core.display.HTML object>"
      ]
     },
     "metadata": {},
     "output_type": "display_data"
    }
   ],
   "source": [
    "%matplotlib notebook\n",
    "sir_model.variance()"
   ]
  },
  {
   "cell_type": "markdown",
   "metadata": {},
   "source": [
    "#### Initilisation Model 2 (Cut for Wave Variance)"
   ]
  },
  {
   "cell_type": "code",
   "execution_count": 8,
   "metadata": {},
   "outputs": [],
   "source": [
    "N           = 20                            # lattice size\n",
    "p1, p2, p3  = 0.05, 0.5, 0.5                # p for visualisation\n",
    "S0, I0, R0  = 0.5, 0.3, 0.2                 # initial fraction of S, I, R\n",
    "equistep    = 100                           # equilibrate sweep (No system equilibration in this case)\n",
    "calcstep    = 20000                         # measurement sweep\n",
    "factor      = int(calcstep/10)              # because of 'if (j%10 == 0):' in 'analyse' fn\n",
    "\n",
    "p = [p1, p2, p3]\n",
    "fraction = [S0, I0, R0]\n",
    "\n",
    "np.random.seed(0)\n",
    "# sir_model_2 = ca_utils.SIR(N, fraction, p, factor, equistep, calcstep)\n",
    "sir_model_2 = ca_utils_cy.SIR(N, fraction, p, factor, equistep, calcstep)"
   ]
  },
  {
   "cell_type": "markdown",
   "metadata": {},
   "source": [
    "- Method behavior\n",
    "    - Cut for Wave Variance\n",
    "    - Wave cut observed to be for p1 > ~0.15 with p2, p3 = 0.5"
   ]
  },
  {
   "cell_type": "code",
   "execution_count": 7,
   "metadata": {
    "scrolled": false
   },
   "outputs": [
    {
     "data": {
      "application/vnd.jupyter.widget-view+json": {
       "model_id": "",
       "version_major": 2,
       "version_minor": 0
      },
      "text/plain": [
       "HBox(children=(IntProgress(value=1, bar_style='info', description='Col', max=1, style=ProgressStyle(descriptio…"
      ]
     },
     "metadata": {},
     "output_type": "display_data"
    },
    {
     "data": {
      "application/vnd.jupyter.widget-view+json": {
       "model_id": "",
       "version_major": 2,
       "version_minor": 0
      },
      "text/plain": [
       "HBox(children=(IntProgress(value=0, description='Measurement sweep', max=20000, style=ProgressStyle(descriptio…"
      ]
     },
     "metadata": {},
     "output_type": "display_data"
    },
    {
     "data": {
      "application/vnd.jupyter.widget-view+json": {
       "model_id": "",
       "version_major": 2,
       "version_minor": 0
      },
      "text/plain": [
       "HBox(children=(IntProgress(value=0, description='Measurement sweep', max=20000, style=ProgressStyle(descriptio…"
      ]
     },
     "metadata": {},
     "output_type": "display_data"
    },
    {
     "data": {
      "application/vnd.jupyter.widget-view+json": {
       "model_id": "",
       "version_major": 2,
       "version_minor": 0
      },
      "text/plain": [
       "HBox(children=(IntProgress(value=0, description='Measurement sweep', max=20000, style=ProgressStyle(descriptio…"
      ]
     },
     "metadata": {},
     "output_type": "display_data"
    },
    {
     "data": {
      "application/vnd.jupyter.widget-view+json": {
       "model_id": "",
       "version_major": 2,
       "version_minor": 0
      },
      "text/plain": [
       "HBox(children=(IntProgress(value=0, description='Measurement sweep', max=20000, style=ProgressStyle(descriptio…"
      ]
     },
     "metadata": {},
     "output_type": "display_data"
    },
    {
     "data": {
      "application/vnd.jupyter.widget-view+json": {
       "model_id": "",
       "version_major": 2,
       "version_minor": 0
      },
      "text/plain": [
       "HBox(children=(IntProgress(value=0, description='Measurement sweep', max=20000, style=ProgressStyle(descriptio…"
      ]
     },
     "metadata": {},
     "output_type": "display_data"
    },
    {
     "data": {
      "application/vnd.jupyter.widget-view+json": {
       "model_id": "",
       "version_major": 2,
       "version_minor": 0
      },
      "text/plain": [
       "HBox(children=(IntProgress(value=0, description='Measurement sweep', max=20000, style=ProgressStyle(descriptio…"
      ]
     },
     "metadata": {},
     "output_type": "display_data"
    },
    {
     "data": {
      "application/vnd.jupyter.widget-view+json": {
       "model_id": "",
       "version_major": 2,
       "version_minor": 0
      },
      "text/plain": [
       "HBox(children=(IntProgress(value=0, description='Measurement sweep', max=20000, style=ProgressStyle(descriptio…"
      ]
     },
     "metadata": {},
     "output_type": "display_data"
    },
    {
     "data": {
      "application/vnd.jupyter.widget-view+json": {
       "model_id": "",
       "version_major": 2,
       "version_minor": 0
      },
      "text/plain": [
       "HBox(children=(IntProgress(value=0, description='Measurement sweep', max=20000, style=ProgressStyle(descriptio…"
      ]
     },
     "metadata": {},
     "output_type": "display_data"
    },
    {
     "data": {
      "application/vnd.jupyter.widget-view+json": {
       "model_id": "",
       "version_major": 2,
       "version_minor": 0
      },
      "text/plain": [
       "HBox(children=(IntProgress(value=0, description='Measurement sweep', max=20000, style=ProgressStyle(descriptio…"
      ]
     },
     "metadata": {},
     "output_type": "display_data"
    },
    {
     "data": {
      "application/vnd.jupyter.widget-view+json": {
       "model_id": "",
       "version_major": 2,
       "version_minor": 0
      },
      "text/plain": [
       "HBox(children=(IntProgress(value=0, description='Measurement sweep', max=20000, style=ProgressStyle(descriptio…"
      ]
     },
     "metadata": {},
     "output_type": "display_data"
    },
    {
     "data": {
      "application/vnd.jupyter.widget-view+json": {
       "model_id": "",
       "version_major": 2,
       "version_minor": 0
      },
      "text/plain": [
       "HBox(children=(IntProgress(value=0, description='Measurement sweep', max=20000, style=ProgressStyle(descriptio…"
      ]
     },
     "metadata": {},
     "output_type": "display_data"
    },
    {
     "data": {
      "application/vnd.jupyter.widget-view+json": {
       "model_id": "",
       "version_major": 2,
       "version_minor": 0
      },
      "text/plain": [
       "HBox(children=(IntProgress(value=0, description='Measurement sweep', max=20000, style=ProgressStyle(descriptio…"
      ]
     },
     "metadata": {},
     "output_type": "display_data"
    },
    {
     "data": {
      "application/vnd.jupyter.widget-view+json": {
       "model_id": "",
       "version_major": 2,
       "version_minor": 0
      },
      "text/plain": [
       "HBox(children=(IntProgress(value=0, description='Measurement sweep', max=20000, style=ProgressStyle(descriptio…"
      ]
     },
     "metadata": {},
     "output_type": "display_data"
    },
    {
     "data": {
      "application/vnd.jupyter.widget-view+json": {
       "model_id": "",
       "version_major": 2,
       "version_minor": 0
      },
      "text/plain": [
       "HBox(children=(IntProgress(value=0, description='Measurement sweep', max=20000, style=ProgressStyle(descriptio…"
      ]
     },
     "metadata": {},
     "output_type": "display_data"
    },
    {
     "data": {
      "application/vnd.jupyter.widget-view+json": {
       "model_id": "",
       "version_major": 2,
       "version_minor": 0
      },
      "text/plain": [
       "HBox(children=(IntProgress(value=0, description='Measurement sweep', max=20000, style=ProgressStyle(descriptio…"
      ]
     },
     "metadata": {},
     "output_type": "display_data"
    },
    {
     "data": {
      "application/vnd.jupyter.widget-view+json": {
       "model_id": "",
       "version_major": 2,
       "version_minor": 0
      },
      "text/plain": [
       "HBox(children=(IntProgress(value=0, description='Measurement sweep', max=20000, style=ProgressStyle(descriptio…"
      ]
     },
     "metadata": {},
     "output_type": "display_data"
    },
    {
     "data": {
      "application/vnd.jupyter.widget-view+json": {
       "model_id": "",
       "version_major": 2,
       "version_minor": 0
      },
      "text/plain": [
       "HBox(children=(IntProgress(value=0, description='Measurement sweep', max=20000, style=ProgressStyle(descriptio…"
      ]
     },
     "metadata": {},
     "output_type": "display_data"
    },
    {
     "data": {
      "application/vnd.jupyter.widget-view+json": {
       "model_id": "",
       "version_major": 2,
       "version_minor": 0
      },
      "text/plain": [
       "HBox(children=(IntProgress(value=0, description='Measurement sweep', max=20000, style=ProgressStyle(descriptio…"
      ]
     },
     "metadata": {},
     "output_type": "display_data"
    },
    {
     "data": {
      "application/vnd.jupyter.widget-view+json": {
       "model_id": "",
       "version_major": 2,
       "version_minor": 0
      },
      "text/plain": [
       "HBox(children=(IntProgress(value=0, description='Measurement sweep', max=20000, style=ProgressStyle(descriptio…"
      ]
     },
     "metadata": {},
     "output_type": "display_data"
    },
    {
     "data": {
      "application/vnd.jupyter.widget-view+json": {
       "model_id": "",
       "version_major": 2,
       "version_minor": 0
      },
      "text/plain": [
       "HBox(children=(IntProgress(value=0, description='Measurement sweep', max=20000, style=ProgressStyle(descriptio…"
      ]
     },
     "metadata": {},
     "output_type": "display_data"
    },
    {
     "name": "stdout",
     "output_type": "stream",
     "text": [
      "\r"
     ]
    },
    {
     "data": {
      "application/javascript": [
       "/* Put everything inside the global mpl namespace */\n",
       "window.mpl = {};\n",
       "\n",
       "\n",
       "mpl.get_websocket_type = function() {\n",
       "    if (typeof(WebSocket) !== 'undefined') {\n",
       "        return WebSocket;\n",
       "    } else if (typeof(MozWebSocket) !== 'undefined') {\n",
       "        return MozWebSocket;\n",
       "    } else {\n",
       "        alert('Your browser does not have WebSocket support.' +\n",
       "              'Please try Chrome, Safari or Firefox ≥ 6. ' +\n",
       "              'Firefox 4 and 5 are also supported but you ' +\n",
       "              'have to enable WebSockets in about:config.');\n",
       "    };\n",
       "}\n",
       "\n",
       "mpl.figure = function(figure_id, websocket, ondownload, parent_element) {\n",
       "    this.id = figure_id;\n",
       "\n",
       "    this.ws = websocket;\n",
       "\n",
       "    this.supports_binary = (this.ws.binaryType != undefined);\n",
       "\n",
       "    if (!this.supports_binary) {\n",
       "        var warnings = document.getElementById(\"mpl-warnings\");\n",
       "        if (warnings) {\n",
       "            warnings.style.display = 'block';\n",
       "            warnings.textContent = (\n",
       "                \"This browser does not support binary websocket messages. \" +\n",
       "                    \"Performance may be slow.\");\n",
       "        }\n",
       "    }\n",
       "\n",
       "    this.imageObj = new Image();\n",
       "\n",
       "    this.context = undefined;\n",
       "    this.message = undefined;\n",
       "    this.canvas = undefined;\n",
       "    this.rubberband_canvas = undefined;\n",
       "    this.rubberband_context = undefined;\n",
       "    this.format_dropdown = undefined;\n",
       "\n",
       "    this.image_mode = 'full';\n",
       "\n",
       "    this.root = $('<div/>');\n",
       "    this._root_extra_style(this.root)\n",
       "    this.root.attr('style', 'display: inline-block');\n",
       "\n",
       "    $(parent_element).append(this.root);\n",
       "\n",
       "    this._init_header(this);\n",
       "    this._init_canvas(this);\n",
       "    this._init_toolbar(this);\n",
       "\n",
       "    var fig = this;\n",
       "\n",
       "    this.waiting = false;\n",
       "\n",
       "    this.ws.onopen =  function () {\n",
       "            fig.send_message(\"supports_binary\", {value: fig.supports_binary});\n",
       "            fig.send_message(\"send_image_mode\", {});\n",
       "            if (mpl.ratio != 1) {\n",
       "                fig.send_message(\"set_dpi_ratio\", {'dpi_ratio': mpl.ratio});\n",
       "            }\n",
       "            fig.send_message(\"refresh\", {});\n",
       "        }\n",
       "\n",
       "    this.imageObj.onload = function() {\n",
       "            if (fig.image_mode == 'full') {\n",
       "                // Full images could contain transparency (where diff images\n",
       "                // almost always do), so we need to clear the canvas so that\n",
       "                // there is no ghosting.\n",
       "                fig.context.clearRect(0, 0, fig.canvas.width, fig.canvas.height);\n",
       "            }\n",
       "            fig.context.drawImage(fig.imageObj, 0, 0);\n",
       "        };\n",
       "\n",
       "    this.imageObj.onunload = function() {\n",
       "        fig.ws.close();\n",
       "    }\n",
       "\n",
       "    this.ws.onmessage = this._make_on_message_function(this);\n",
       "\n",
       "    this.ondownload = ondownload;\n",
       "}\n",
       "\n",
       "mpl.figure.prototype._init_header = function() {\n",
       "    var titlebar = $(\n",
       "        '<div class=\"ui-dialog-titlebar ui-widget-header ui-corner-all ' +\n",
       "        'ui-helper-clearfix\"/>');\n",
       "    var titletext = $(\n",
       "        '<div class=\"ui-dialog-title\" style=\"width: 100%; ' +\n",
       "        'text-align: center; padding: 3px;\"/>');\n",
       "    titlebar.append(titletext)\n",
       "    this.root.append(titlebar);\n",
       "    this.header = titletext[0];\n",
       "}\n",
       "\n",
       "\n",
       "\n",
       "mpl.figure.prototype._canvas_extra_style = function(canvas_div) {\n",
       "\n",
       "}\n",
       "\n",
       "\n",
       "mpl.figure.prototype._root_extra_style = function(canvas_div) {\n",
       "\n",
       "}\n",
       "\n",
       "mpl.figure.prototype._init_canvas = function() {\n",
       "    var fig = this;\n",
       "\n",
       "    var canvas_div = $('<div/>');\n",
       "\n",
       "    canvas_div.attr('style', 'position: relative; clear: both; outline: 0');\n",
       "\n",
       "    function canvas_keyboard_event(event) {\n",
       "        return fig.key_event(event, event['data']);\n",
       "    }\n",
       "\n",
       "    canvas_div.keydown('key_press', canvas_keyboard_event);\n",
       "    canvas_div.keyup('key_release', canvas_keyboard_event);\n",
       "    this.canvas_div = canvas_div\n",
       "    this._canvas_extra_style(canvas_div)\n",
       "    this.root.append(canvas_div);\n",
       "\n",
       "    var canvas = $('<canvas/>');\n",
       "    canvas.addClass('mpl-canvas');\n",
       "    canvas.attr('style', \"left: 0; top: 0; z-index: 0; outline: 0\")\n",
       "\n",
       "    this.canvas = canvas[0];\n",
       "    this.context = canvas[0].getContext(\"2d\");\n",
       "\n",
       "    var backingStore = this.context.backingStorePixelRatio ||\n",
       "\tthis.context.webkitBackingStorePixelRatio ||\n",
       "\tthis.context.mozBackingStorePixelRatio ||\n",
       "\tthis.context.msBackingStorePixelRatio ||\n",
       "\tthis.context.oBackingStorePixelRatio ||\n",
       "\tthis.context.backingStorePixelRatio || 1;\n",
       "\n",
       "    mpl.ratio = (window.devicePixelRatio || 1) / backingStore;\n",
       "\n",
       "    var rubberband = $('<canvas/>');\n",
       "    rubberband.attr('style', \"position: absolute; left: 0; top: 0; z-index: 1;\")\n",
       "\n",
       "    var pass_mouse_events = true;\n",
       "\n",
       "    canvas_div.resizable({\n",
       "        start: function(event, ui) {\n",
       "            pass_mouse_events = false;\n",
       "        },\n",
       "        resize: function(event, ui) {\n",
       "            fig.request_resize(ui.size.width, ui.size.height);\n",
       "        },\n",
       "        stop: function(event, ui) {\n",
       "            pass_mouse_events = true;\n",
       "            fig.request_resize(ui.size.width, ui.size.height);\n",
       "        },\n",
       "    });\n",
       "\n",
       "    function mouse_event_fn(event) {\n",
       "        if (pass_mouse_events)\n",
       "            return fig.mouse_event(event, event['data']);\n",
       "    }\n",
       "\n",
       "    rubberband.mousedown('button_press', mouse_event_fn);\n",
       "    rubberband.mouseup('button_release', mouse_event_fn);\n",
       "    // Throttle sequential mouse events to 1 every 20ms.\n",
       "    rubberband.mousemove('motion_notify', mouse_event_fn);\n",
       "\n",
       "    rubberband.mouseenter('figure_enter', mouse_event_fn);\n",
       "    rubberband.mouseleave('figure_leave', mouse_event_fn);\n",
       "\n",
       "    canvas_div.on(\"wheel\", function (event) {\n",
       "        event = event.originalEvent;\n",
       "        event['data'] = 'scroll'\n",
       "        if (event.deltaY < 0) {\n",
       "            event.step = 1;\n",
       "        } else {\n",
       "            event.step = -1;\n",
       "        }\n",
       "        mouse_event_fn(event);\n",
       "    });\n",
       "\n",
       "    canvas_div.append(canvas);\n",
       "    canvas_div.append(rubberband);\n",
       "\n",
       "    this.rubberband = rubberband;\n",
       "    this.rubberband_canvas = rubberband[0];\n",
       "    this.rubberband_context = rubberband[0].getContext(\"2d\");\n",
       "    this.rubberband_context.strokeStyle = \"#000000\";\n",
       "\n",
       "    this._resize_canvas = function(width, height) {\n",
       "        // Keep the size of the canvas, canvas container, and rubber band\n",
       "        // canvas in synch.\n",
       "        canvas_div.css('width', width)\n",
       "        canvas_div.css('height', height)\n",
       "\n",
       "        canvas.attr('width', width * mpl.ratio);\n",
       "        canvas.attr('height', height * mpl.ratio);\n",
       "        canvas.attr('style', 'width: ' + width + 'px; height: ' + height + 'px;');\n",
       "\n",
       "        rubberband.attr('width', width);\n",
       "        rubberband.attr('height', height);\n",
       "    }\n",
       "\n",
       "    // Set the figure to an initial 600x600px, this will subsequently be updated\n",
       "    // upon first draw.\n",
       "    this._resize_canvas(600, 600);\n",
       "\n",
       "    // Disable right mouse context menu.\n",
       "    $(this.rubberband_canvas).bind(\"contextmenu\",function(e){\n",
       "        return false;\n",
       "    });\n",
       "\n",
       "    function set_focus () {\n",
       "        canvas.focus();\n",
       "        canvas_div.focus();\n",
       "    }\n",
       "\n",
       "    window.setTimeout(set_focus, 100);\n",
       "}\n",
       "\n",
       "mpl.figure.prototype._init_toolbar = function() {\n",
       "    var fig = this;\n",
       "\n",
       "    var nav_element = $('<div/>')\n",
       "    nav_element.attr('style', 'width: 100%');\n",
       "    this.root.append(nav_element);\n",
       "\n",
       "    // Define a callback function for later on.\n",
       "    function toolbar_event(event) {\n",
       "        return fig.toolbar_button_onclick(event['data']);\n",
       "    }\n",
       "    function toolbar_mouse_event(event) {\n",
       "        return fig.toolbar_button_onmouseover(event['data']);\n",
       "    }\n",
       "\n",
       "    for(var toolbar_ind in mpl.toolbar_items) {\n",
       "        var name = mpl.toolbar_items[toolbar_ind][0];\n",
       "        var tooltip = mpl.toolbar_items[toolbar_ind][1];\n",
       "        var image = mpl.toolbar_items[toolbar_ind][2];\n",
       "        var method_name = mpl.toolbar_items[toolbar_ind][3];\n",
       "\n",
       "        if (!name) {\n",
       "            // put a spacer in here.\n",
       "            continue;\n",
       "        }\n",
       "        var button = $('<button/>');\n",
       "        button.addClass('ui-button ui-widget ui-state-default ui-corner-all ' +\n",
       "                        'ui-button-icon-only');\n",
       "        button.attr('role', 'button');\n",
       "        button.attr('aria-disabled', 'false');\n",
       "        button.click(method_name, toolbar_event);\n",
       "        button.mouseover(tooltip, toolbar_mouse_event);\n",
       "\n",
       "        var icon_img = $('<span/>');\n",
       "        icon_img.addClass('ui-button-icon-primary ui-icon');\n",
       "        icon_img.addClass(image);\n",
       "        icon_img.addClass('ui-corner-all');\n",
       "\n",
       "        var tooltip_span = $('<span/>');\n",
       "        tooltip_span.addClass('ui-button-text');\n",
       "        tooltip_span.html(tooltip);\n",
       "\n",
       "        button.append(icon_img);\n",
       "        button.append(tooltip_span);\n",
       "\n",
       "        nav_element.append(button);\n",
       "    }\n",
       "\n",
       "    var fmt_picker_span = $('<span/>');\n",
       "\n",
       "    var fmt_picker = $('<select/>');\n",
       "    fmt_picker.addClass('mpl-toolbar-option ui-widget ui-widget-content');\n",
       "    fmt_picker_span.append(fmt_picker);\n",
       "    nav_element.append(fmt_picker_span);\n",
       "    this.format_dropdown = fmt_picker[0];\n",
       "\n",
       "    for (var ind in mpl.extensions) {\n",
       "        var fmt = mpl.extensions[ind];\n",
       "        var option = $(\n",
       "            '<option/>', {selected: fmt === mpl.default_extension}).html(fmt);\n",
       "        fmt_picker.append(option)\n",
       "    }\n",
       "\n",
       "    // Add hover states to the ui-buttons\n",
       "    $( \".ui-button\" ).hover(\n",
       "        function() { $(this).addClass(\"ui-state-hover\");},\n",
       "        function() { $(this).removeClass(\"ui-state-hover\");}\n",
       "    );\n",
       "\n",
       "    var status_bar = $('<span class=\"mpl-message\"/>');\n",
       "    nav_element.append(status_bar);\n",
       "    this.message = status_bar[0];\n",
       "}\n",
       "\n",
       "mpl.figure.prototype.request_resize = function(x_pixels, y_pixels) {\n",
       "    // Request matplotlib to resize the figure. Matplotlib will then trigger a resize in the client,\n",
       "    // which will in turn request a refresh of the image.\n",
       "    this.send_message('resize', {'width': x_pixels, 'height': y_pixels});\n",
       "}\n",
       "\n",
       "mpl.figure.prototype.send_message = function(type, properties) {\n",
       "    properties['type'] = type;\n",
       "    properties['figure_id'] = this.id;\n",
       "    this.ws.send(JSON.stringify(properties));\n",
       "}\n",
       "\n",
       "mpl.figure.prototype.send_draw_message = function() {\n",
       "    if (!this.waiting) {\n",
       "        this.waiting = true;\n",
       "        this.ws.send(JSON.stringify({type: \"draw\", figure_id: this.id}));\n",
       "    }\n",
       "}\n",
       "\n",
       "\n",
       "mpl.figure.prototype.handle_save = function(fig, msg) {\n",
       "    var format_dropdown = fig.format_dropdown;\n",
       "    var format = format_dropdown.options[format_dropdown.selectedIndex].value;\n",
       "    fig.ondownload(fig, format);\n",
       "}\n",
       "\n",
       "\n",
       "mpl.figure.prototype.handle_resize = function(fig, msg) {\n",
       "    var size = msg['size'];\n",
       "    if (size[0] != fig.canvas.width || size[1] != fig.canvas.height) {\n",
       "        fig._resize_canvas(size[0], size[1]);\n",
       "        fig.send_message(\"refresh\", {});\n",
       "    };\n",
       "}\n",
       "\n",
       "mpl.figure.prototype.handle_rubberband = function(fig, msg) {\n",
       "    var x0 = msg['x0'] / mpl.ratio;\n",
       "    var y0 = (fig.canvas.height - msg['y0']) / mpl.ratio;\n",
       "    var x1 = msg['x1'] / mpl.ratio;\n",
       "    var y1 = (fig.canvas.height - msg['y1']) / mpl.ratio;\n",
       "    x0 = Math.floor(x0) + 0.5;\n",
       "    y0 = Math.floor(y0) + 0.5;\n",
       "    x1 = Math.floor(x1) + 0.5;\n",
       "    y1 = Math.floor(y1) + 0.5;\n",
       "    var min_x = Math.min(x0, x1);\n",
       "    var min_y = Math.min(y0, y1);\n",
       "    var width = Math.abs(x1 - x0);\n",
       "    var height = Math.abs(y1 - y0);\n",
       "\n",
       "    fig.rubberband_context.clearRect(\n",
       "        0, 0, fig.canvas.width, fig.canvas.height);\n",
       "\n",
       "    fig.rubberband_context.strokeRect(min_x, min_y, width, height);\n",
       "}\n",
       "\n",
       "mpl.figure.prototype.handle_figure_label = function(fig, msg) {\n",
       "    // Updates the figure title.\n",
       "    fig.header.textContent = msg['label'];\n",
       "}\n",
       "\n",
       "mpl.figure.prototype.handle_cursor = function(fig, msg) {\n",
       "    var cursor = msg['cursor'];\n",
       "    switch(cursor)\n",
       "    {\n",
       "    case 0:\n",
       "        cursor = 'pointer';\n",
       "        break;\n",
       "    case 1:\n",
       "        cursor = 'default';\n",
       "        break;\n",
       "    case 2:\n",
       "        cursor = 'crosshair';\n",
       "        break;\n",
       "    case 3:\n",
       "        cursor = 'move';\n",
       "        break;\n",
       "    }\n",
       "    fig.rubberband_canvas.style.cursor = cursor;\n",
       "}\n",
       "\n",
       "mpl.figure.prototype.handle_message = function(fig, msg) {\n",
       "    fig.message.textContent = msg['message'];\n",
       "}\n",
       "\n",
       "mpl.figure.prototype.handle_draw = function(fig, msg) {\n",
       "    // Request the server to send over a new figure.\n",
       "    fig.send_draw_message();\n",
       "}\n",
       "\n",
       "mpl.figure.prototype.handle_image_mode = function(fig, msg) {\n",
       "    fig.image_mode = msg['mode'];\n",
       "}\n",
       "\n",
       "mpl.figure.prototype.updated_canvas_event = function() {\n",
       "    // Called whenever the canvas gets updated.\n",
       "    this.send_message(\"ack\", {});\n",
       "}\n",
       "\n",
       "// A function to construct a web socket function for onmessage handling.\n",
       "// Called in the figure constructor.\n",
       "mpl.figure.prototype._make_on_message_function = function(fig) {\n",
       "    return function socket_on_message(evt) {\n",
       "        if (evt.data instanceof Blob) {\n",
       "            /* FIXME: We get \"Resource interpreted as Image but\n",
       "             * transferred with MIME type text/plain:\" errors on\n",
       "             * Chrome.  But how to set the MIME type?  It doesn't seem\n",
       "             * to be part of the websocket stream */\n",
       "            evt.data.type = \"image/png\";\n",
       "\n",
       "            /* Free the memory for the previous frames */\n",
       "            if (fig.imageObj.src) {\n",
       "                (window.URL || window.webkitURL).revokeObjectURL(\n",
       "                    fig.imageObj.src);\n",
       "            }\n",
       "\n",
       "            fig.imageObj.src = (window.URL || window.webkitURL).createObjectURL(\n",
       "                evt.data);\n",
       "            fig.updated_canvas_event();\n",
       "            fig.waiting = false;\n",
       "            return;\n",
       "        }\n",
       "        else if (typeof evt.data === 'string' && evt.data.slice(0, 21) == \"data:image/png;base64\") {\n",
       "            fig.imageObj.src = evt.data;\n",
       "            fig.updated_canvas_event();\n",
       "            fig.waiting = false;\n",
       "            return;\n",
       "        }\n",
       "\n",
       "        var msg = JSON.parse(evt.data);\n",
       "        var msg_type = msg['type'];\n",
       "\n",
       "        // Call the  \"handle_{type}\" callback, which takes\n",
       "        // the figure and JSON message as its only arguments.\n",
       "        try {\n",
       "            var callback = fig[\"handle_\" + msg_type];\n",
       "        } catch (e) {\n",
       "            console.log(\"No handler for the '\" + msg_type + \"' message type: \", msg);\n",
       "            return;\n",
       "        }\n",
       "\n",
       "        if (callback) {\n",
       "            try {\n",
       "                // console.log(\"Handling '\" + msg_type + \"' message: \", msg);\n",
       "                callback(fig, msg);\n",
       "            } catch (e) {\n",
       "                console.log(\"Exception inside the 'handler_\" + msg_type + \"' callback:\", e, e.stack, msg);\n",
       "            }\n",
       "        }\n",
       "    };\n",
       "}\n",
       "\n",
       "// from http://stackoverflow.com/questions/1114465/getting-mouse-location-in-canvas\n",
       "mpl.findpos = function(e) {\n",
       "    //this section is from http://www.quirksmode.org/js/events_properties.html\n",
       "    var targ;\n",
       "    if (!e)\n",
       "        e = window.event;\n",
       "    if (e.target)\n",
       "        targ = e.target;\n",
       "    else if (e.srcElement)\n",
       "        targ = e.srcElement;\n",
       "    if (targ.nodeType == 3) // defeat Safari bug\n",
       "        targ = targ.parentNode;\n",
       "\n",
       "    // jQuery normalizes the pageX and pageY\n",
       "    // pageX,Y are the mouse positions relative to the document\n",
       "    // offset() returns the position of the element relative to the document\n",
       "    var x = e.pageX - $(targ).offset().left;\n",
       "    var y = e.pageY - $(targ).offset().top;\n",
       "\n",
       "    return {\"x\": x, \"y\": y};\n",
       "};\n",
       "\n",
       "/*\n",
       " * return a copy of an object with only non-object keys\n",
       " * we need this to avoid circular references\n",
       " * http://stackoverflow.com/a/24161582/3208463\n",
       " */\n",
       "function simpleKeys (original) {\n",
       "  return Object.keys(original).reduce(function (obj, key) {\n",
       "    if (typeof original[key] !== 'object')\n",
       "        obj[key] = original[key]\n",
       "    return obj;\n",
       "  }, {});\n",
       "}\n",
       "\n",
       "mpl.figure.prototype.mouse_event = function(event, name) {\n",
       "    var canvas_pos = mpl.findpos(event)\n",
       "\n",
       "    if (name === 'button_press')\n",
       "    {\n",
       "        this.canvas.focus();\n",
       "        this.canvas_div.focus();\n",
       "    }\n",
       "\n",
       "    var x = canvas_pos.x * mpl.ratio;\n",
       "    var y = canvas_pos.y * mpl.ratio;\n",
       "\n",
       "    this.send_message(name, {x: x, y: y, button: event.button,\n",
       "                             step: event.step,\n",
       "                             guiEvent: simpleKeys(event)});\n",
       "\n",
       "    /* This prevents the web browser from automatically changing to\n",
       "     * the text insertion cursor when the button is pressed.  We want\n",
       "     * to control all of the cursor setting manually through the\n",
       "     * 'cursor' event from matplotlib */\n",
       "    event.preventDefault();\n",
       "    return false;\n",
       "}\n",
       "\n",
       "mpl.figure.prototype._key_event_extra = function(event, name) {\n",
       "    // Handle any extra behaviour associated with a key event\n",
       "}\n",
       "\n",
       "mpl.figure.prototype.key_event = function(event, name) {\n",
       "\n",
       "    // Prevent repeat events\n",
       "    if (name == 'key_press')\n",
       "    {\n",
       "        if (event.which === this._key)\n",
       "            return;\n",
       "        else\n",
       "            this._key = event.which;\n",
       "    }\n",
       "    if (name == 'key_release')\n",
       "        this._key = null;\n",
       "\n",
       "    var value = '';\n",
       "    if (event.ctrlKey && event.which != 17)\n",
       "        value += \"ctrl+\";\n",
       "    if (event.altKey && event.which != 18)\n",
       "        value += \"alt+\";\n",
       "    if (event.shiftKey && event.which != 16)\n",
       "        value += \"shift+\";\n",
       "\n",
       "    value += 'k';\n",
       "    value += event.which.toString();\n",
       "\n",
       "    this._key_event_extra(event, name);\n",
       "\n",
       "    this.send_message(name, {key: value,\n",
       "                             guiEvent: simpleKeys(event)});\n",
       "    return false;\n",
       "}\n",
       "\n",
       "mpl.figure.prototype.toolbar_button_onclick = function(name) {\n",
       "    if (name == 'download') {\n",
       "        this.handle_save(this, null);\n",
       "    } else {\n",
       "        this.send_message(\"toolbar_button\", {name: name});\n",
       "    }\n",
       "};\n",
       "\n",
       "mpl.figure.prototype.toolbar_button_onmouseover = function(tooltip) {\n",
       "    this.message.textContent = tooltip;\n",
       "};\n",
       "mpl.toolbar_items = [[\"Home\", \"Reset original view\", \"fa fa-home icon-home\", \"home\"], [\"Back\", \"Back to previous view\", \"fa fa-arrow-left icon-arrow-left\", \"back\"], [\"Forward\", \"Forward to next view\", \"fa fa-arrow-right icon-arrow-right\", \"forward\"], [\"\", \"\", \"\", \"\"], [\"Pan\", \"Pan axes with left mouse, zoom with right\", \"fa fa-arrows icon-move\", \"pan\"], [\"Zoom\", \"Zoom to rectangle\", \"fa fa-square-o icon-check-empty\", \"zoom\"], [\"\", \"\", \"\", \"\"], [\"Download\", \"Download plot\", \"fa fa-floppy-o icon-save\", \"download\"]];\n",
       "\n",
       "mpl.extensions = [\"eps\", \"jpeg\", \"pdf\", \"png\", \"ps\", \"raw\", \"svg\", \"tif\"];\n",
       "\n",
       "mpl.default_extension = \"png\";var comm_websocket_adapter = function(comm) {\n",
       "    // Create a \"websocket\"-like object which calls the given IPython comm\n",
       "    // object with the appropriate methods. Currently this is a non binary\n",
       "    // socket, so there is still some room for performance tuning.\n",
       "    var ws = {};\n",
       "\n",
       "    ws.close = function() {\n",
       "        comm.close()\n",
       "    };\n",
       "    ws.send = function(m) {\n",
       "        //console.log('sending', m);\n",
       "        comm.send(m);\n",
       "    };\n",
       "    // Register the callback with on_msg.\n",
       "    comm.on_msg(function(msg) {\n",
       "        //console.log('receiving', msg['content']['data'], msg);\n",
       "        // Pass the mpl event to the overridden (by mpl) onmessage function.\n",
       "        ws.onmessage(msg['content']['data'])\n",
       "    });\n",
       "    return ws;\n",
       "}\n",
       "\n",
       "mpl.mpl_figure_comm = function(comm, msg) {\n",
       "    // This is the function which gets called when the mpl process\n",
       "    // starts-up an IPython Comm through the \"matplotlib\" channel.\n",
       "\n",
       "    var id = msg.content.data.id;\n",
       "    // Get hold of the div created by the display call when the Comm\n",
       "    // socket was opened in Python.\n",
       "    var element = $(\"#\" + id);\n",
       "    var ws_proxy = comm_websocket_adapter(comm)\n",
       "\n",
       "    function ondownload(figure, format) {\n",
       "        window.open(figure.imageObj.src);\n",
       "    }\n",
       "\n",
       "    var fig = new mpl.figure(id, ws_proxy,\n",
       "                           ondownload,\n",
       "                           element.get(0));\n",
       "\n",
       "    // Call onopen now - mpl needs it, as it is assuming we've passed it a real\n",
       "    // web socket which is closed, not our websocket->open comm proxy.\n",
       "    ws_proxy.onopen();\n",
       "\n",
       "    fig.parent_element = element.get(0);\n",
       "    fig.cell_info = mpl.find_output_cell(\"<div id='\" + id + \"'></div>\");\n",
       "    if (!fig.cell_info) {\n",
       "        console.error(\"Failed to find cell for figure\", id, fig);\n",
       "        return;\n",
       "    }\n",
       "\n",
       "    var output_index = fig.cell_info[2]\n",
       "    var cell = fig.cell_info[0];\n",
       "\n",
       "};\n",
       "\n",
       "mpl.figure.prototype.handle_close = function(fig, msg) {\n",
       "    var width = fig.canvas.width/mpl.ratio\n",
       "    fig.root.unbind('remove')\n",
       "\n",
       "    // Update the output cell to use the data from the current canvas.\n",
       "    fig.push_to_output();\n",
       "    var dataURL = fig.canvas.toDataURL();\n",
       "    // Re-enable the keyboard manager in IPython - without this line, in FF,\n",
       "    // the notebook keyboard shortcuts fail.\n",
       "    IPython.keyboard_manager.enable()\n",
       "    $(fig.parent_element).html('<img src=\"' + dataURL + '\" width=\"' + width + '\">');\n",
       "    fig.close_ws(fig, msg);\n",
       "}\n",
       "\n",
       "mpl.figure.prototype.close_ws = function(fig, msg){\n",
       "    fig.send_message('closing', msg);\n",
       "    // fig.ws.close()\n",
       "}\n",
       "\n",
       "mpl.figure.prototype.push_to_output = function(remove_interactive) {\n",
       "    // Turn the data on the canvas into data in the output cell.\n",
       "    var width = this.canvas.width/mpl.ratio\n",
       "    var dataURL = this.canvas.toDataURL();\n",
       "    this.cell_info[1]['text/html'] = '<img src=\"' + dataURL + '\" width=\"' + width + '\">';\n",
       "}\n",
       "\n",
       "mpl.figure.prototype.updated_canvas_event = function() {\n",
       "    // Tell IPython that the notebook contents must change.\n",
       "    IPython.notebook.set_dirty(true);\n",
       "    this.send_message(\"ack\", {});\n",
       "    var fig = this;\n",
       "    // Wait a second, then push the new image to the DOM so\n",
       "    // that it is saved nicely (might be nice to debounce this).\n",
       "    setTimeout(function () { fig.push_to_output() }, 1000);\n",
       "}\n",
       "\n",
       "mpl.figure.prototype._init_toolbar = function() {\n",
       "    var fig = this;\n",
       "\n",
       "    var nav_element = $('<div/>')\n",
       "    nav_element.attr('style', 'width: 100%');\n",
       "    this.root.append(nav_element);\n",
       "\n",
       "    // Define a callback function for later on.\n",
       "    function toolbar_event(event) {\n",
       "        return fig.toolbar_button_onclick(event['data']);\n",
       "    }\n",
       "    function toolbar_mouse_event(event) {\n",
       "        return fig.toolbar_button_onmouseover(event['data']);\n",
       "    }\n",
       "\n",
       "    for(var toolbar_ind in mpl.toolbar_items){\n",
       "        var name = mpl.toolbar_items[toolbar_ind][0];\n",
       "        var tooltip = mpl.toolbar_items[toolbar_ind][1];\n",
       "        var image = mpl.toolbar_items[toolbar_ind][2];\n",
       "        var method_name = mpl.toolbar_items[toolbar_ind][3];\n",
       "\n",
       "        if (!name) { continue; };\n",
       "\n",
       "        var button = $('<button class=\"btn btn-default\" href=\"#\" title=\"' + name + '\"><i class=\"fa ' + image + ' fa-lg\"></i></button>');\n",
       "        button.click(method_name, toolbar_event);\n",
       "        button.mouseover(tooltip, toolbar_mouse_event);\n",
       "        nav_element.append(button);\n",
       "    }\n",
       "\n",
       "    // Add the status bar.\n",
       "    var status_bar = $('<span class=\"mpl-message\" style=\"text-align:right; float: right;\"/>');\n",
       "    nav_element.append(status_bar);\n",
       "    this.message = status_bar[0];\n",
       "\n",
       "    // Add the close button to the window.\n",
       "    var buttongrp = $('<div class=\"btn-group inline pull-right\"></div>');\n",
       "    var button = $('<button class=\"btn btn-mini btn-primary\" href=\"#\" title=\"Stop Interaction\"><i class=\"fa fa-power-off icon-remove icon-large\"></i></button>');\n",
       "    button.click(function (evt) { fig.handle_close(fig, {}); } );\n",
       "    button.mouseover('Stop Interaction', toolbar_mouse_event);\n",
       "    buttongrp.append(button);\n",
       "    var titlebar = this.root.find($('.ui-dialog-titlebar'));\n",
       "    titlebar.prepend(buttongrp);\n",
       "}\n",
       "\n",
       "mpl.figure.prototype._root_extra_style = function(el){\n",
       "    var fig = this\n",
       "    el.on(\"remove\", function(){\n",
       "\tfig.close_ws(fig, {});\n",
       "    });\n",
       "}\n",
       "\n",
       "mpl.figure.prototype._canvas_extra_style = function(el){\n",
       "    // this is important to make the div 'focusable\n",
       "    el.attr('tabindex', 0)\n",
       "    // reach out to IPython and tell the keyboard manager to turn it's self\n",
       "    // off when our div gets focus\n",
       "\n",
       "    // location in version 3\n",
       "    if (IPython.notebook.keyboard_manager) {\n",
       "        IPython.notebook.keyboard_manager.register_events(el);\n",
       "    }\n",
       "    else {\n",
       "        // location in version 2\n",
       "        IPython.keyboard_manager.register_events(el);\n",
       "    }\n",
       "\n",
       "}\n",
       "\n",
       "mpl.figure.prototype._key_event_extra = function(event, name) {\n",
       "    var manager = IPython.notebook.keyboard_manager;\n",
       "    if (!manager)\n",
       "        manager = IPython.keyboard_manager;\n",
       "\n",
       "    // Check for shift+enter\n",
       "    if (event.shiftKey && event.which == 13) {\n",
       "        this.canvas_div.blur();\n",
       "        event.shiftKey = false;\n",
       "        // Send a \"J\" for go to next cell\n",
       "        event.which = 74;\n",
       "        event.keyCode = 74;\n",
       "        manager.command_mode();\n",
       "        manager.handle_keydown(event);\n",
       "    }\n",
       "}\n",
       "\n",
       "mpl.figure.prototype.handle_save = function(fig, msg) {\n",
       "    fig.ondownload(fig, null);\n",
       "}\n",
       "\n",
       "\n",
       "mpl.find_output_cell = function(html_output) {\n",
       "    // Return the cell and output element which can be found *uniquely* in the notebook.\n",
       "    // Note - this is a bit hacky, but it is done because the \"notebook_saving.Notebook\"\n",
       "    // IPython event is triggered only after the cells have been serialised, which for\n",
       "    // our purposes (turning an active figure into a static one), is too late.\n",
       "    var cells = IPython.notebook.get_cells();\n",
       "    var ncells = cells.length;\n",
       "    for (var i=0; i<ncells; i++) {\n",
       "        var cell = cells[i];\n",
       "        if (cell.cell_type === 'code'){\n",
       "            for (var j=0; j<cell.output_area.outputs.length; j++) {\n",
       "                var data = cell.output_area.outputs[j];\n",
       "                if (data.data) {\n",
       "                    // IPython >= 3 moved mimebundle to data attribute of output\n",
       "                    data = data.data;\n",
       "                }\n",
       "                if (data['text/html'] == html_output) {\n",
       "                    return [cell, data, j];\n",
       "                }\n",
       "            }\n",
       "        }\n",
       "    }\n",
       "}\n",
       "\n",
       "// Register the function which deals with the matplotlib target/channel.\n",
       "// The kernel may be null if the page has been refreshed.\n",
       "if (IPython.notebook.kernel != null) {\n",
       "    IPython.notebook.kernel.comm_manager.register_target('matplotlib', mpl.mpl_figure_comm);\n",
       "}\n"
      ],
      "text/plain": [
       "<IPython.core.display.Javascript object>"
      ]
     },
     "metadata": {},
     "output_type": "display_data"
    },
    {
     "data": {
      "text/html": [
       "<img src=\"data:image/png;base64,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\" width=\"640\">"
      ],
      "text/plain": [
       "<IPython.core.display.HTML object>"
      ]
     },
     "metadata": {},
     "output_type": "display_data"
    }
   ],
   "source": [
    "%matplotlib notebook\n",
    "p1_range     = np.linspace(0.2, 0.5, N)\n",
    "sir_model_2.cutVariance(p1_range)"
   ]
  },
  {
   "cell_type": "code",
   "execution_count": 9,
   "metadata": {
    "scrolled": false
   },
   "outputs": [
    {
     "data": {
      "application/vnd.jupyter.widget-view+json": {
       "model_id": "",
       "version_major": 2,
       "version_minor": 0
      },
      "text/plain": [
       "HBox(children=(IntProgress(value=1, bar_style='info', description='Col', max=1, style=ProgressStyle(descriptio…"
      ]
     },
     "metadata": {},
     "output_type": "display_data"
    },
    {
     "data": {
      "application/vnd.jupyter.widget-view+json": {
       "model_id": "",
       "version_major": 2,
       "version_minor": 0
      },
      "text/plain": [
       "HBox(children=(IntProgress(value=0, description='Measurement sweep', max=20000, style=ProgressStyle(descriptio…"
      ]
     },
     "metadata": {},
     "output_type": "display_data"
    },
    {
     "data": {
      "application/vnd.jupyter.widget-view+json": {
       "model_id": "",
       "version_major": 2,
       "version_minor": 0
      },
      "text/plain": [
       "HBox(children=(IntProgress(value=0, description='Measurement sweep', max=20000, style=ProgressStyle(descriptio…"
      ]
     },
     "metadata": {},
     "output_type": "display_data"
    },
    {
     "data": {
      "application/vnd.jupyter.widget-view+json": {
       "model_id": "",
       "version_major": 2,
       "version_minor": 0
      },
      "text/plain": [
       "HBox(children=(IntProgress(value=0, description='Measurement sweep', max=20000, style=ProgressStyle(descriptio…"
      ]
     },
     "metadata": {},
     "output_type": "display_data"
    },
    {
     "data": {
      "application/vnd.jupyter.widget-view+json": {
       "model_id": "",
       "version_major": 2,
       "version_minor": 0
      },
      "text/plain": [
       "HBox(children=(IntProgress(value=0, description='Measurement sweep', max=20000, style=ProgressStyle(descriptio…"
      ]
     },
     "metadata": {},
     "output_type": "display_data"
    },
    {
     "data": {
      "application/vnd.jupyter.widget-view+json": {
       "model_id": "",
       "version_major": 2,
       "version_minor": 0
      },
      "text/plain": [
       "HBox(children=(IntProgress(value=0, description='Measurement sweep', max=20000, style=ProgressStyle(descriptio…"
      ]
     },
     "metadata": {},
     "output_type": "display_data"
    },
    {
     "data": {
      "application/vnd.jupyter.widget-view+json": {
       "model_id": "",
       "version_major": 2,
       "version_minor": 0
      },
      "text/plain": [
       "HBox(children=(IntProgress(value=0, description='Measurement sweep', max=20000, style=ProgressStyle(descriptio…"
      ]
     },
     "metadata": {},
     "output_type": "display_data"
    },
    {
     "data": {
      "application/vnd.jupyter.widget-view+json": {
       "model_id": "",
       "version_major": 2,
       "version_minor": 0
      },
      "text/plain": [
       "HBox(children=(IntProgress(value=0, description='Measurement sweep', max=20000, style=ProgressStyle(descriptio…"
      ]
     },
     "metadata": {},
     "output_type": "display_data"
    },
    {
     "data": {
      "application/vnd.jupyter.widget-view+json": {
       "model_id": "",
       "version_major": 2,
       "version_minor": 0
      },
      "text/plain": [
       "HBox(children=(IntProgress(value=0, description='Measurement sweep', max=20000, style=ProgressStyle(descriptio…"
      ]
     },
     "metadata": {},
     "output_type": "display_data"
    },
    {
     "data": {
      "application/vnd.jupyter.widget-view+json": {
       "model_id": "",
       "version_major": 2,
       "version_minor": 0
      },
      "text/plain": [
       "HBox(children=(IntProgress(value=0, description='Measurement sweep', max=20000, style=ProgressStyle(descriptio…"
      ]
     },
     "metadata": {},
     "output_type": "display_data"
    },
    {
     "data": {
      "application/vnd.jupyter.widget-view+json": {
       "model_id": "",
       "version_major": 2,
       "version_minor": 0
      },
      "text/plain": [
       "HBox(children=(IntProgress(value=0, description='Measurement sweep', max=20000, style=ProgressStyle(descriptio…"
      ]
     },
     "metadata": {},
     "output_type": "display_data"
    },
    {
     "data": {
      "application/vnd.jupyter.widget-view+json": {
       "model_id": "",
       "version_major": 2,
       "version_minor": 0
      },
      "text/plain": [
       "HBox(children=(IntProgress(value=0, description='Measurement sweep', max=20000, style=ProgressStyle(descriptio…"
      ]
     },
     "metadata": {},
     "output_type": "display_data"
    },
    {
     "data": {
      "application/vnd.jupyter.widget-view+json": {
       "model_id": "",
       "version_major": 2,
       "version_minor": 0
      },
      "text/plain": [
       "HBox(children=(IntProgress(value=0, description='Measurement sweep', max=20000, style=ProgressStyle(descriptio…"
      ]
     },
     "metadata": {},
     "output_type": "display_data"
    },
    {
     "data": {
      "application/vnd.jupyter.widget-view+json": {
       "model_id": "",
       "version_major": 2,
       "version_minor": 0
      },
      "text/plain": [
       "HBox(children=(IntProgress(value=0, description='Measurement sweep', max=20000, style=ProgressStyle(descriptio…"
      ]
     },
     "metadata": {},
     "output_type": "display_data"
    },
    {
     "data": {
      "application/vnd.jupyter.widget-view+json": {
       "model_id": "",
       "version_major": 2,
       "version_minor": 0
      },
      "text/plain": [
       "HBox(children=(IntProgress(value=0, description='Measurement sweep', max=20000, style=ProgressStyle(descriptio…"
      ]
     },
     "metadata": {},
     "output_type": "display_data"
    },
    {
     "data": {
      "application/vnd.jupyter.widget-view+json": {
       "model_id": "",
       "version_major": 2,
       "version_minor": 0
      },
      "text/plain": [
       "HBox(children=(IntProgress(value=0, description='Measurement sweep', max=20000, style=ProgressStyle(descriptio…"
      ]
     },
     "metadata": {},
     "output_type": "display_data"
    },
    {
     "data": {
      "application/vnd.jupyter.widget-view+json": {
       "model_id": "",
       "version_major": 2,
       "version_minor": 0
      },
      "text/plain": [
       "HBox(children=(IntProgress(value=0, description='Measurement sweep', max=20000, style=ProgressStyle(descriptio…"
      ]
     },
     "metadata": {},
     "output_type": "display_data"
    },
    {
     "data": {
      "application/vnd.jupyter.widget-view+json": {
       "model_id": "",
       "version_major": 2,
       "version_minor": 0
      },
      "text/plain": [
       "HBox(children=(IntProgress(value=0, description='Measurement sweep', max=20000, style=ProgressStyle(descriptio…"
      ]
     },
     "metadata": {},
     "output_type": "display_data"
    },
    {
     "data": {
      "application/vnd.jupyter.widget-view+json": {
       "model_id": "",
       "version_major": 2,
       "version_minor": 0
      },
      "text/plain": [
       "HBox(children=(IntProgress(value=0, description='Measurement sweep', max=20000, style=ProgressStyle(descriptio…"
      ]
     },
     "metadata": {},
     "output_type": "display_data"
    },
    {
     "data": {
      "application/vnd.jupyter.widget-view+json": {
       "model_id": "",
       "version_major": 2,
       "version_minor": 0
      },
      "text/plain": [
       "HBox(children=(IntProgress(value=0, description='Measurement sweep', max=20000, style=ProgressStyle(descriptio…"
      ]
     },
     "metadata": {},
     "output_type": "display_data"
    },
    {
     "data": {
      "application/vnd.jupyter.widget-view+json": {
       "model_id": "",
       "version_major": 2,
       "version_minor": 0
      },
      "text/plain": [
       "HBox(children=(IntProgress(value=0, description='Measurement sweep', max=20000, style=ProgressStyle(descriptio…"
      ]
     },
     "metadata": {},
     "output_type": "display_data"
    },
    {
     "name": "stdout",
     "output_type": "stream",
     "text": [
      "\r"
     ]
    },
    {
     "data": {
      "application/javascript": [
       "/* Put everything inside the global mpl namespace */\n",
       "window.mpl = {};\n",
       "\n",
       "\n",
       "mpl.get_websocket_type = function() {\n",
       "    if (typeof(WebSocket) !== 'undefined') {\n",
       "        return WebSocket;\n",
       "    } else if (typeof(MozWebSocket) !== 'undefined') {\n",
       "        return MozWebSocket;\n",
       "    } else {\n",
       "        alert('Your browser does not have WebSocket support.' +\n",
       "              'Please try Chrome, Safari or Firefox ≥ 6. ' +\n",
       "              'Firefox 4 and 5 are also supported but you ' +\n",
       "              'have to enable WebSockets in about:config.');\n",
       "    };\n",
       "}\n",
       "\n",
       "mpl.figure = function(figure_id, websocket, ondownload, parent_element) {\n",
       "    this.id = figure_id;\n",
       "\n",
       "    this.ws = websocket;\n",
       "\n",
       "    this.supports_binary = (this.ws.binaryType != undefined);\n",
       "\n",
       "    if (!this.supports_binary) {\n",
       "        var warnings = document.getElementById(\"mpl-warnings\");\n",
       "        if (warnings) {\n",
       "            warnings.style.display = 'block';\n",
       "            warnings.textContent = (\n",
       "                \"This browser does not support binary websocket messages. \" +\n",
       "                    \"Performance may be slow.\");\n",
       "        }\n",
       "    }\n",
       "\n",
       "    this.imageObj = new Image();\n",
       "\n",
       "    this.context = undefined;\n",
       "    this.message = undefined;\n",
       "    this.canvas = undefined;\n",
       "    this.rubberband_canvas = undefined;\n",
       "    this.rubberband_context = undefined;\n",
       "    this.format_dropdown = undefined;\n",
       "\n",
       "    this.image_mode = 'full';\n",
       "\n",
       "    this.root = $('<div/>');\n",
       "    this._root_extra_style(this.root)\n",
       "    this.root.attr('style', 'display: inline-block');\n",
       "\n",
       "    $(parent_element).append(this.root);\n",
       "\n",
       "    this._init_header(this);\n",
       "    this._init_canvas(this);\n",
       "    this._init_toolbar(this);\n",
       "\n",
       "    var fig = this;\n",
       "\n",
       "    this.waiting = false;\n",
       "\n",
       "    this.ws.onopen =  function () {\n",
       "            fig.send_message(\"supports_binary\", {value: fig.supports_binary});\n",
       "            fig.send_message(\"send_image_mode\", {});\n",
       "            if (mpl.ratio != 1) {\n",
       "                fig.send_message(\"set_dpi_ratio\", {'dpi_ratio': mpl.ratio});\n",
       "            }\n",
       "            fig.send_message(\"refresh\", {});\n",
       "        }\n",
       "\n",
       "    this.imageObj.onload = function() {\n",
       "            if (fig.image_mode == 'full') {\n",
       "                // Full images could contain transparency (where diff images\n",
       "                // almost always do), so we need to clear the canvas so that\n",
       "                // there is no ghosting.\n",
       "                fig.context.clearRect(0, 0, fig.canvas.width, fig.canvas.height);\n",
       "            }\n",
       "            fig.context.drawImage(fig.imageObj, 0, 0);\n",
       "        };\n",
       "\n",
       "    this.imageObj.onunload = function() {\n",
       "        fig.ws.close();\n",
       "    }\n",
       "\n",
       "    this.ws.onmessage = this._make_on_message_function(this);\n",
       "\n",
       "    this.ondownload = ondownload;\n",
       "}\n",
       "\n",
       "mpl.figure.prototype._init_header = function() {\n",
       "    var titlebar = $(\n",
       "        '<div class=\"ui-dialog-titlebar ui-widget-header ui-corner-all ' +\n",
       "        'ui-helper-clearfix\"/>');\n",
       "    var titletext = $(\n",
       "        '<div class=\"ui-dialog-title\" style=\"width: 100%; ' +\n",
       "        'text-align: center; padding: 3px;\"/>');\n",
       "    titlebar.append(titletext)\n",
       "    this.root.append(titlebar);\n",
       "    this.header = titletext[0];\n",
       "}\n",
       "\n",
       "\n",
       "\n",
       "mpl.figure.prototype._canvas_extra_style = function(canvas_div) {\n",
       "\n",
       "}\n",
       "\n",
       "\n",
       "mpl.figure.prototype._root_extra_style = function(canvas_div) {\n",
       "\n",
       "}\n",
       "\n",
       "mpl.figure.prototype._init_canvas = function() {\n",
       "    var fig = this;\n",
       "\n",
       "    var canvas_div = $('<div/>');\n",
       "\n",
       "    canvas_div.attr('style', 'position: relative; clear: both; outline: 0');\n",
       "\n",
       "    function canvas_keyboard_event(event) {\n",
       "        return fig.key_event(event, event['data']);\n",
       "    }\n",
       "\n",
       "    canvas_div.keydown('key_press', canvas_keyboard_event);\n",
       "    canvas_div.keyup('key_release', canvas_keyboard_event);\n",
       "    this.canvas_div = canvas_div\n",
       "    this._canvas_extra_style(canvas_div)\n",
       "    this.root.append(canvas_div);\n",
       "\n",
       "    var canvas = $('<canvas/>');\n",
       "    canvas.addClass('mpl-canvas');\n",
       "    canvas.attr('style', \"left: 0; top: 0; z-index: 0; outline: 0\")\n",
       "\n",
       "    this.canvas = canvas[0];\n",
       "    this.context = canvas[0].getContext(\"2d\");\n",
       "\n",
       "    var backingStore = this.context.backingStorePixelRatio ||\n",
       "\tthis.context.webkitBackingStorePixelRatio ||\n",
       "\tthis.context.mozBackingStorePixelRatio ||\n",
       "\tthis.context.msBackingStorePixelRatio ||\n",
       "\tthis.context.oBackingStorePixelRatio ||\n",
       "\tthis.context.backingStorePixelRatio || 1;\n",
       "\n",
       "    mpl.ratio = (window.devicePixelRatio || 1) / backingStore;\n",
       "\n",
       "    var rubberband = $('<canvas/>');\n",
       "    rubberband.attr('style', \"position: absolute; left: 0; top: 0; z-index: 1;\")\n",
       "\n",
       "    var pass_mouse_events = true;\n",
       "\n",
       "    canvas_div.resizable({\n",
       "        start: function(event, ui) {\n",
       "            pass_mouse_events = false;\n",
       "        },\n",
       "        resize: function(event, ui) {\n",
       "            fig.request_resize(ui.size.width, ui.size.height);\n",
       "        },\n",
       "        stop: function(event, ui) {\n",
       "            pass_mouse_events = true;\n",
       "            fig.request_resize(ui.size.width, ui.size.height);\n",
       "        },\n",
       "    });\n",
       "\n",
       "    function mouse_event_fn(event) {\n",
       "        if (pass_mouse_events)\n",
       "            return fig.mouse_event(event, event['data']);\n",
       "    }\n",
       "\n",
       "    rubberband.mousedown('button_press', mouse_event_fn);\n",
       "    rubberband.mouseup('button_release', mouse_event_fn);\n",
       "    // Throttle sequential mouse events to 1 every 20ms.\n",
       "    rubberband.mousemove('motion_notify', mouse_event_fn);\n",
       "\n",
       "    rubberband.mouseenter('figure_enter', mouse_event_fn);\n",
       "    rubberband.mouseleave('figure_leave', mouse_event_fn);\n",
       "\n",
       "    canvas_div.on(\"wheel\", function (event) {\n",
       "        event = event.originalEvent;\n",
       "        event['data'] = 'scroll'\n",
       "        if (event.deltaY < 0) {\n",
       "            event.step = 1;\n",
       "        } else {\n",
       "            event.step = -1;\n",
       "        }\n",
       "        mouse_event_fn(event);\n",
       "    });\n",
       "\n",
       "    canvas_div.append(canvas);\n",
       "    canvas_div.append(rubberband);\n",
       "\n",
       "    this.rubberband = rubberband;\n",
       "    this.rubberband_canvas = rubberband[0];\n",
       "    this.rubberband_context = rubberband[0].getContext(\"2d\");\n",
       "    this.rubberband_context.strokeStyle = \"#000000\";\n",
       "\n",
       "    this._resize_canvas = function(width, height) {\n",
       "        // Keep the size of the canvas, canvas container, and rubber band\n",
       "        // canvas in synch.\n",
       "        canvas_div.css('width', width)\n",
       "        canvas_div.css('height', height)\n",
       "\n",
       "        canvas.attr('width', width * mpl.ratio);\n",
       "        canvas.attr('height', height * mpl.ratio);\n",
       "        canvas.attr('style', 'width: ' + width + 'px; height: ' + height + 'px;');\n",
       "\n",
       "        rubberband.attr('width', width);\n",
       "        rubberband.attr('height', height);\n",
       "    }\n",
       "\n",
       "    // Set the figure to an initial 600x600px, this will subsequently be updated\n",
       "    // upon first draw.\n",
       "    this._resize_canvas(600, 600);\n",
       "\n",
       "    // Disable right mouse context menu.\n",
       "    $(this.rubberband_canvas).bind(\"contextmenu\",function(e){\n",
       "        return false;\n",
       "    });\n",
       "\n",
       "    function set_focus () {\n",
       "        canvas.focus();\n",
       "        canvas_div.focus();\n",
       "    }\n",
       "\n",
       "    window.setTimeout(set_focus, 100);\n",
       "}\n",
       "\n",
       "mpl.figure.prototype._init_toolbar = function() {\n",
       "    var fig = this;\n",
       "\n",
       "    var nav_element = $('<div/>')\n",
       "    nav_element.attr('style', 'width: 100%');\n",
       "    this.root.append(nav_element);\n",
       "\n",
       "    // Define a callback function for later on.\n",
       "    function toolbar_event(event) {\n",
       "        return fig.toolbar_button_onclick(event['data']);\n",
       "    }\n",
       "    function toolbar_mouse_event(event) {\n",
       "        return fig.toolbar_button_onmouseover(event['data']);\n",
       "    }\n",
       "\n",
       "    for(var toolbar_ind in mpl.toolbar_items) {\n",
       "        var name = mpl.toolbar_items[toolbar_ind][0];\n",
       "        var tooltip = mpl.toolbar_items[toolbar_ind][1];\n",
       "        var image = mpl.toolbar_items[toolbar_ind][2];\n",
       "        var method_name = mpl.toolbar_items[toolbar_ind][3];\n",
       "\n",
       "        if (!name) {\n",
       "            // put a spacer in here.\n",
       "            continue;\n",
       "        }\n",
       "        var button = $('<button/>');\n",
       "        button.addClass('ui-button ui-widget ui-state-default ui-corner-all ' +\n",
       "                        'ui-button-icon-only');\n",
       "        button.attr('role', 'button');\n",
       "        button.attr('aria-disabled', 'false');\n",
       "        button.click(method_name, toolbar_event);\n",
       "        button.mouseover(tooltip, toolbar_mouse_event);\n",
       "\n",
       "        var icon_img = $('<span/>');\n",
       "        icon_img.addClass('ui-button-icon-primary ui-icon');\n",
       "        icon_img.addClass(image);\n",
       "        icon_img.addClass('ui-corner-all');\n",
       "\n",
       "        var tooltip_span = $('<span/>');\n",
       "        tooltip_span.addClass('ui-button-text');\n",
       "        tooltip_span.html(tooltip);\n",
       "\n",
       "        button.append(icon_img);\n",
       "        button.append(tooltip_span);\n",
       "\n",
       "        nav_element.append(button);\n",
       "    }\n",
       "\n",
       "    var fmt_picker_span = $('<span/>');\n",
       "\n",
       "    var fmt_picker = $('<select/>');\n",
       "    fmt_picker.addClass('mpl-toolbar-option ui-widget ui-widget-content');\n",
       "    fmt_picker_span.append(fmt_picker);\n",
       "    nav_element.append(fmt_picker_span);\n",
       "    this.format_dropdown = fmt_picker[0];\n",
       "\n",
       "    for (var ind in mpl.extensions) {\n",
       "        var fmt = mpl.extensions[ind];\n",
       "        var option = $(\n",
       "            '<option/>', {selected: fmt === mpl.default_extension}).html(fmt);\n",
       "        fmt_picker.append(option)\n",
       "    }\n",
       "\n",
       "    // Add hover states to the ui-buttons\n",
       "    $( \".ui-button\" ).hover(\n",
       "        function() { $(this).addClass(\"ui-state-hover\");},\n",
       "        function() { $(this).removeClass(\"ui-state-hover\");}\n",
       "    );\n",
       "\n",
       "    var status_bar = $('<span class=\"mpl-message\"/>');\n",
       "    nav_element.append(status_bar);\n",
       "    this.message = status_bar[0];\n",
       "}\n",
       "\n",
       "mpl.figure.prototype.request_resize = function(x_pixels, y_pixels) {\n",
       "    // Request matplotlib to resize the figure. Matplotlib will then trigger a resize in the client,\n",
       "    // which will in turn request a refresh of the image.\n",
       "    this.send_message('resize', {'width': x_pixels, 'height': y_pixels});\n",
       "}\n",
       "\n",
       "mpl.figure.prototype.send_message = function(type, properties) {\n",
       "    properties['type'] = type;\n",
       "    properties['figure_id'] = this.id;\n",
       "    this.ws.send(JSON.stringify(properties));\n",
       "}\n",
       "\n",
       "mpl.figure.prototype.send_draw_message = function() {\n",
       "    if (!this.waiting) {\n",
       "        this.waiting = true;\n",
       "        this.ws.send(JSON.stringify({type: \"draw\", figure_id: this.id}));\n",
       "    }\n",
       "}\n",
       "\n",
       "\n",
       "mpl.figure.prototype.handle_save = function(fig, msg) {\n",
       "    var format_dropdown = fig.format_dropdown;\n",
       "    var format = format_dropdown.options[format_dropdown.selectedIndex].value;\n",
       "    fig.ondownload(fig, format);\n",
       "}\n",
       "\n",
       "\n",
       "mpl.figure.prototype.handle_resize = function(fig, msg) {\n",
       "    var size = msg['size'];\n",
       "    if (size[0] != fig.canvas.width || size[1] != fig.canvas.height) {\n",
       "        fig._resize_canvas(size[0], size[1]);\n",
       "        fig.send_message(\"refresh\", {});\n",
       "    };\n",
       "}\n",
       "\n",
       "mpl.figure.prototype.handle_rubberband = function(fig, msg) {\n",
       "    var x0 = msg['x0'] / mpl.ratio;\n",
       "    var y0 = (fig.canvas.height - msg['y0']) / mpl.ratio;\n",
       "    var x1 = msg['x1'] / mpl.ratio;\n",
       "    var y1 = (fig.canvas.height - msg['y1']) / mpl.ratio;\n",
       "    x0 = Math.floor(x0) + 0.5;\n",
       "    y0 = Math.floor(y0) + 0.5;\n",
       "    x1 = Math.floor(x1) + 0.5;\n",
       "    y1 = Math.floor(y1) + 0.5;\n",
       "    var min_x = Math.min(x0, x1);\n",
       "    var min_y = Math.min(y0, y1);\n",
       "    var width = Math.abs(x1 - x0);\n",
       "    var height = Math.abs(y1 - y0);\n",
       "\n",
       "    fig.rubberband_context.clearRect(\n",
       "        0, 0, fig.canvas.width, fig.canvas.height);\n",
       "\n",
       "    fig.rubberband_context.strokeRect(min_x, min_y, width, height);\n",
       "}\n",
       "\n",
       "mpl.figure.prototype.handle_figure_label = function(fig, msg) {\n",
       "    // Updates the figure title.\n",
       "    fig.header.textContent = msg['label'];\n",
       "}\n",
       "\n",
       "mpl.figure.prototype.handle_cursor = function(fig, msg) {\n",
       "    var cursor = msg['cursor'];\n",
       "    switch(cursor)\n",
       "    {\n",
       "    case 0:\n",
       "        cursor = 'pointer';\n",
       "        break;\n",
       "    case 1:\n",
       "        cursor = 'default';\n",
       "        break;\n",
       "    case 2:\n",
       "        cursor = 'crosshair';\n",
       "        break;\n",
       "    case 3:\n",
       "        cursor = 'move';\n",
       "        break;\n",
       "    }\n",
       "    fig.rubberband_canvas.style.cursor = cursor;\n",
       "}\n",
       "\n",
       "mpl.figure.prototype.handle_message = function(fig, msg) {\n",
       "    fig.message.textContent = msg['message'];\n",
       "}\n",
       "\n",
       "mpl.figure.prototype.handle_draw = function(fig, msg) {\n",
       "    // Request the server to send over a new figure.\n",
       "    fig.send_draw_message();\n",
       "}\n",
       "\n",
       "mpl.figure.prototype.handle_image_mode = function(fig, msg) {\n",
       "    fig.image_mode = msg['mode'];\n",
       "}\n",
       "\n",
       "mpl.figure.prototype.updated_canvas_event = function() {\n",
       "    // Called whenever the canvas gets updated.\n",
       "    this.send_message(\"ack\", {});\n",
       "}\n",
       "\n",
       "// A function to construct a web socket function for onmessage handling.\n",
       "// Called in the figure constructor.\n",
       "mpl.figure.prototype._make_on_message_function = function(fig) {\n",
       "    return function socket_on_message(evt) {\n",
       "        if (evt.data instanceof Blob) {\n",
       "            /* FIXME: We get \"Resource interpreted as Image but\n",
       "             * transferred with MIME type text/plain:\" errors on\n",
       "             * Chrome.  But how to set the MIME type?  It doesn't seem\n",
       "             * to be part of the websocket stream */\n",
       "            evt.data.type = \"image/png\";\n",
       "\n",
       "            /* Free the memory for the previous frames */\n",
       "            if (fig.imageObj.src) {\n",
       "                (window.URL || window.webkitURL).revokeObjectURL(\n",
       "                    fig.imageObj.src);\n",
       "            }\n",
       "\n",
       "            fig.imageObj.src = (window.URL || window.webkitURL).createObjectURL(\n",
       "                evt.data);\n",
       "            fig.updated_canvas_event();\n",
       "            fig.waiting = false;\n",
       "            return;\n",
       "        }\n",
       "        else if (typeof evt.data === 'string' && evt.data.slice(0, 21) == \"data:image/png;base64\") {\n",
       "            fig.imageObj.src = evt.data;\n",
       "            fig.updated_canvas_event();\n",
       "            fig.waiting = false;\n",
       "            return;\n",
       "        }\n",
       "\n",
       "        var msg = JSON.parse(evt.data);\n",
       "        var msg_type = msg['type'];\n",
       "\n",
       "        // Call the  \"handle_{type}\" callback, which takes\n",
       "        // the figure and JSON message as its only arguments.\n",
       "        try {\n",
       "            var callback = fig[\"handle_\" + msg_type];\n",
       "        } catch (e) {\n",
       "            console.log(\"No handler for the '\" + msg_type + \"' message type: \", msg);\n",
       "            return;\n",
       "        }\n",
       "\n",
       "        if (callback) {\n",
       "            try {\n",
       "                // console.log(\"Handling '\" + msg_type + \"' message: \", msg);\n",
       "                callback(fig, msg);\n",
       "            } catch (e) {\n",
       "                console.log(\"Exception inside the 'handler_\" + msg_type + \"' callback:\", e, e.stack, msg);\n",
       "            }\n",
       "        }\n",
       "    };\n",
       "}\n",
       "\n",
       "// from http://stackoverflow.com/questions/1114465/getting-mouse-location-in-canvas\n",
       "mpl.findpos = function(e) {\n",
       "    //this section is from http://www.quirksmode.org/js/events_properties.html\n",
       "    var targ;\n",
       "    if (!e)\n",
       "        e = window.event;\n",
       "    if (e.target)\n",
       "        targ = e.target;\n",
       "    else if (e.srcElement)\n",
       "        targ = e.srcElement;\n",
       "    if (targ.nodeType == 3) // defeat Safari bug\n",
       "        targ = targ.parentNode;\n",
       "\n",
       "    // jQuery normalizes the pageX and pageY\n",
       "    // pageX,Y are the mouse positions relative to the document\n",
       "    // offset() returns the position of the element relative to the document\n",
       "    var x = e.pageX - $(targ).offset().left;\n",
       "    var y = e.pageY - $(targ).offset().top;\n",
       "\n",
       "    return {\"x\": x, \"y\": y};\n",
       "};\n",
       "\n",
       "/*\n",
       " * return a copy of an object with only non-object keys\n",
       " * we need this to avoid circular references\n",
       " * http://stackoverflow.com/a/24161582/3208463\n",
       " */\n",
       "function simpleKeys (original) {\n",
       "  return Object.keys(original).reduce(function (obj, key) {\n",
       "    if (typeof original[key] !== 'object')\n",
       "        obj[key] = original[key]\n",
       "    return obj;\n",
       "  }, {});\n",
       "}\n",
       "\n",
       "mpl.figure.prototype.mouse_event = function(event, name) {\n",
       "    var canvas_pos = mpl.findpos(event)\n",
       "\n",
       "    if (name === 'button_press')\n",
       "    {\n",
       "        this.canvas.focus();\n",
       "        this.canvas_div.focus();\n",
       "    }\n",
       "\n",
       "    var x = canvas_pos.x * mpl.ratio;\n",
       "    var y = canvas_pos.y * mpl.ratio;\n",
       "\n",
       "    this.send_message(name, {x: x, y: y, button: event.button,\n",
       "                             step: event.step,\n",
       "                             guiEvent: simpleKeys(event)});\n",
       "\n",
       "    /* This prevents the web browser from automatically changing to\n",
       "     * the text insertion cursor when the button is pressed.  We want\n",
       "     * to control all of the cursor setting manually through the\n",
       "     * 'cursor' event from matplotlib */\n",
       "    event.preventDefault();\n",
       "    return false;\n",
       "}\n",
       "\n",
       "mpl.figure.prototype._key_event_extra = function(event, name) {\n",
       "    // Handle any extra behaviour associated with a key event\n",
       "}\n",
       "\n",
       "mpl.figure.prototype.key_event = function(event, name) {\n",
       "\n",
       "    // Prevent repeat events\n",
       "    if (name == 'key_press')\n",
       "    {\n",
       "        if (event.which === this._key)\n",
       "            return;\n",
       "        else\n",
       "            this._key = event.which;\n",
       "    }\n",
       "    if (name == 'key_release')\n",
       "        this._key = null;\n",
       "\n",
       "    var value = '';\n",
       "    if (event.ctrlKey && event.which != 17)\n",
       "        value += \"ctrl+\";\n",
       "    if (event.altKey && event.which != 18)\n",
       "        value += \"alt+\";\n",
       "    if (event.shiftKey && event.which != 16)\n",
       "        value += \"shift+\";\n",
       "\n",
       "    value += 'k';\n",
       "    value += event.which.toString();\n",
       "\n",
       "    this._key_event_extra(event, name);\n",
       "\n",
       "    this.send_message(name, {key: value,\n",
       "                             guiEvent: simpleKeys(event)});\n",
       "    return false;\n",
       "}\n",
       "\n",
       "mpl.figure.prototype.toolbar_button_onclick = function(name) {\n",
       "    if (name == 'download') {\n",
       "        this.handle_save(this, null);\n",
       "    } else {\n",
       "        this.send_message(\"toolbar_button\", {name: name});\n",
       "    }\n",
       "};\n",
       "\n",
       "mpl.figure.prototype.toolbar_button_onmouseover = function(tooltip) {\n",
       "    this.message.textContent = tooltip;\n",
       "};\n",
       "mpl.toolbar_items = [[\"Home\", \"Reset original view\", \"fa fa-home icon-home\", \"home\"], [\"Back\", \"Back to previous view\", \"fa fa-arrow-left icon-arrow-left\", \"back\"], [\"Forward\", \"Forward to next view\", \"fa fa-arrow-right icon-arrow-right\", \"forward\"], [\"\", \"\", \"\", \"\"], [\"Pan\", \"Pan axes with left mouse, zoom with right\", \"fa fa-arrows icon-move\", \"pan\"], [\"Zoom\", \"Zoom to rectangle\", \"fa fa-square-o icon-check-empty\", \"zoom\"], [\"\", \"\", \"\", \"\"], [\"Download\", \"Download plot\", \"fa fa-floppy-o icon-save\", \"download\"]];\n",
       "\n",
       "mpl.extensions = [\"eps\", \"jpeg\", \"pdf\", \"png\", \"ps\", \"raw\", \"svg\", \"tif\"];\n",
       "\n",
       "mpl.default_extension = \"png\";var comm_websocket_adapter = function(comm) {\n",
       "    // Create a \"websocket\"-like object which calls the given IPython comm\n",
       "    // object with the appropriate methods. Currently this is a non binary\n",
       "    // socket, so there is still some room for performance tuning.\n",
       "    var ws = {};\n",
       "\n",
       "    ws.close = function() {\n",
       "        comm.close()\n",
       "    };\n",
       "    ws.send = function(m) {\n",
       "        //console.log('sending', m);\n",
       "        comm.send(m);\n",
       "    };\n",
       "    // Register the callback with on_msg.\n",
       "    comm.on_msg(function(msg) {\n",
       "        //console.log('receiving', msg['content']['data'], msg);\n",
       "        // Pass the mpl event to the overridden (by mpl) onmessage function.\n",
       "        ws.onmessage(msg['content']['data'])\n",
       "    });\n",
       "    return ws;\n",
       "}\n",
       "\n",
       "mpl.mpl_figure_comm = function(comm, msg) {\n",
       "    // This is the function which gets called when the mpl process\n",
       "    // starts-up an IPython Comm through the \"matplotlib\" channel.\n",
       "\n",
       "    var id = msg.content.data.id;\n",
       "    // Get hold of the div created by the display call when the Comm\n",
       "    // socket was opened in Python.\n",
       "    var element = $(\"#\" + id);\n",
       "    var ws_proxy = comm_websocket_adapter(comm)\n",
       "\n",
       "    function ondownload(figure, format) {\n",
       "        window.open(figure.imageObj.src);\n",
       "    }\n",
       "\n",
       "    var fig = new mpl.figure(id, ws_proxy,\n",
       "                           ondownload,\n",
       "                           element.get(0));\n",
       "\n",
       "    // Call onopen now - mpl needs it, as it is assuming we've passed it a real\n",
       "    // web socket which is closed, not our websocket->open comm proxy.\n",
       "    ws_proxy.onopen();\n",
       "\n",
       "    fig.parent_element = element.get(0);\n",
       "    fig.cell_info = mpl.find_output_cell(\"<div id='\" + id + \"'></div>\");\n",
       "    if (!fig.cell_info) {\n",
       "        console.error(\"Failed to find cell for figure\", id, fig);\n",
       "        return;\n",
       "    }\n",
       "\n",
       "    var output_index = fig.cell_info[2]\n",
       "    var cell = fig.cell_info[0];\n",
       "\n",
       "};\n",
       "\n",
       "mpl.figure.prototype.handle_close = function(fig, msg) {\n",
       "    var width = fig.canvas.width/mpl.ratio\n",
       "    fig.root.unbind('remove')\n",
       "\n",
       "    // Update the output cell to use the data from the current canvas.\n",
       "    fig.push_to_output();\n",
       "    var dataURL = fig.canvas.toDataURL();\n",
       "    // Re-enable the keyboard manager in IPython - without this line, in FF,\n",
       "    // the notebook keyboard shortcuts fail.\n",
       "    IPython.keyboard_manager.enable()\n",
       "    $(fig.parent_element).html('<img src=\"' + dataURL + '\" width=\"' + width + '\">');\n",
       "    fig.close_ws(fig, msg);\n",
       "}\n",
       "\n",
       "mpl.figure.prototype.close_ws = function(fig, msg){\n",
       "    fig.send_message('closing', msg);\n",
       "    // fig.ws.close()\n",
       "}\n",
       "\n",
       "mpl.figure.prototype.push_to_output = function(remove_interactive) {\n",
       "    // Turn the data on the canvas into data in the output cell.\n",
       "    var width = this.canvas.width/mpl.ratio\n",
       "    var dataURL = this.canvas.toDataURL();\n",
       "    this.cell_info[1]['text/html'] = '<img src=\"' + dataURL + '\" width=\"' + width + '\">';\n",
       "}\n",
       "\n",
       "mpl.figure.prototype.updated_canvas_event = function() {\n",
       "    // Tell IPython that the notebook contents must change.\n",
       "    IPython.notebook.set_dirty(true);\n",
       "    this.send_message(\"ack\", {});\n",
       "    var fig = this;\n",
       "    // Wait a second, then push the new image to the DOM so\n",
       "    // that it is saved nicely (might be nice to debounce this).\n",
       "    setTimeout(function () { fig.push_to_output() }, 1000);\n",
       "}\n",
       "\n",
       "mpl.figure.prototype._init_toolbar = function() {\n",
       "    var fig = this;\n",
       "\n",
       "    var nav_element = $('<div/>')\n",
       "    nav_element.attr('style', 'width: 100%');\n",
       "    this.root.append(nav_element);\n",
       "\n",
       "    // Define a callback function for later on.\n",
       "    function toolbar_event(event) {\n",
       "        return fig.toolbar_button_onclick(event['data']);\n",
       "    }\n",
       "    function toolbar_mouse_event(event) {\n",
       "        return fig.toolbar_button_onmouseover(event['data']);\n",
       "    }\n",
       "\n",
       "    for(var toolbar_ind in mpl.toolbar_items){\n",
       "        var name = mpl.toolbar_items[toolbar_ind][0];\n",
       "        var tooltip = mpl.toolbar_items[toolbar_ind][1];\n",
       "        var image = mpl.toolbar_items[toolbar_ind][2];\n",
       "        var method_name = mpl.toolbar_items[toolbar_ind][3];\n",
       "\n",
       "        if (!name) { continue; };\n",
       "\n",
       "        var button = $('<button class=\"btn btn-default\" href=\"#\" title=\"' + name + '\"><i class=\"fa ' + image + ' fa-lg\"></i></button>');\n",
       "        button.click(method_name, toolbar_event);\n",
       "        button.mouseover(tooltip, toolbar_mouse_event);\n",
       "        nav_element.append(button);\n",
       "    }\n",
       "\n",
       "    // Add the status bar.\n",
       "    var status_bar = $('<span class=\"mpl-message\" style=\"text-align:right; float: right;\"/>');\n",
       "    nav_element.append(status_bar);\n",
       "    this.message = status_bar[0];\n",
       "\n",
       "    // Add the close button to the window.\n",
       "    var buttongrp = $('<div class=\"btn-group inline pull-right\"></div>');\n",
       "    var button = $('<button class=\"btn btn-mini btn-primary\" href=\"#\" title=\"Stop Interaction\"><i class=\"fa fa-power-off icon-remove icon-large\"></i></button>');\n",
       "    button.click(function (evt) { fig.handle_close(fig, {}); } );\n",
       "    button.mouseover('Stop Interaction', toolbar_mouse_event);\n",
       "    buttongrp.append(button);\n",
       "    var titlebar = this.root.find($('.ui-dialog-titlebar'));\n",
       "    titlebar.prepend(buttongrp);\n",
       "}\n",
       "\n",
       "mpl.figure.prototype._root_extra_style = function(el){\n",
       "    var fig = this\n",
       "    el.on(\"remove\", function(){\n",
       "\tfig.close_ws(fig, {});\n",
       "    });\n",
       "}\n",
       "\n",
       "mpl.figure.prototype._canvas_extra_style = function(el){\n",
       "    // this is important to make the div 'focusable\n",
       "    el.attr('tabindex', 0)\n",
       "    // reach out to IPython and tell the keyboard manager to turn it's self\n",
       "    // off when our div gets focus\n",
       "\n",
       "    // location in version 3\n",
       "    if (IPython.notebook.keyboard_manager) {\n",
       "        IPython.notebook.keyboard_manager.register_events(el);\n",
       "    }\n",
       "    else {\n",
       "        // location in version 2\n",
       "        IPython.keyboard_manager.register_events(el);\n",
       "    }\n",
       "\n",
       "}\n",
       "\n",
       "mpl.figure.prototype._key_event_extra = function(event, name) {\n",
       "    var manager = IPython.notebook.keyboard_manager;\n",
       "    if (!manager)\n",
       "        manager = IPython.keyboard_manager;\n",
       "\n",
       "    // Check for shift+enter\n",
       "    if (event.shiftKey && event.which == 13) {\n",
       "        this.canvas_div.blur();\n",
       "        event.shiftKey = false;\n",
       "        // Send a \"J\" for go to next cell\n",
       "        event.which = 74;\n",
       "        event.keyCode = 74;\n",
       "        manager.command_mode();\n",
       "        manager.handle_keydown(event);\n",
       "    }\n",
       "}\n",
       "\n",
       "mpl.figure.prototype.handle_save = function(fig, msg) {\n",
       "    fig.ondownload(fig, null);\n",
       "}\n",
       "\n",
       "\n",
       "mpl.find_output_cell = function(html_output) {\n",
       "    // Return the cell and output element which can be found *uniquely* in the notebook.\n",
       "    // Note - this is a bit hacky, but it is done because the \"notebook_saving.Notebook\"\n",
       "    // IPython event is triggered only after the cells have been serialised, which for\n",
       "    // our purposes (turning an active figure into a static one), is too late.\n",
       "    var cells = IPython.notebook.get_cells();\n",
       "    var ncells = cells.length;\n",
       "    for (var i=0; i<ncells; i++) {\n",
       "        var cell = cells[i];\n",
       "        if (cell.cell_type === 'code'){\n",
       "            for (var j=0; j<cell.output_area.outputs.length; j++) {\n",
       "                var data = cell.output_area.outputs[j];\n",
       "                if (data.data) {\n",
       "                    // IPython >= 3 moved mimebundle to data attribute of output\n",
       "                    data = data.data;\n",
       "                }\n",
       "                if (data['text/html'] == html_output) {\n",
       "                    return [cell, data, j];\n",
       "                }\n",
       "            }\n",
       "        }\n",
       "    }\n",
       "}\n",
       "\n",
       "// Register the function which deals with the matplotlib target/channel.\n",
       "// The kernel may be null if the page has been refreshed.\n",
       "if (IPython.notebook.kernel != null) {\n",
       "    IPython.notebook.kernel.comm_manager.register_target('matplotlib', mpl.mpl_figure_comm);\n",
       "}\n"
      ],
      "text/plain": [
       "<IPython.core.display.Javascript object>"
      ]
     },
     "metadata": {},
     "output_type": "display_data"
    },
    {
     "data": {
      "text/html": [
       "<img src=\"data:image/png;base64,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\" width=\"640\">"
      ],
      "text/plain": [
       "<IPython.core.display.HTML object>"
      ]
     },
     "metadata": {},
     "output_type": "display_data"
    }
   ],
   "source": [
    "%matplotlib notebook\n",
    "p1_range     = np.linspace(0.0, 0.25, N)\n",
    "sir_model_2.cutVariance(p1_range)"
   ]
  },
  {
   "cell_type": "markdown",
   "metadata": {},
   "source": [
    "#### Initilisation Model 3 (Infected Fraction vs Immune Fraction)"
   ]
  },
  {
   "cell_type": "code",
   "execution_count": 12,
   "metadata": {},
   "outputs": [],
   "source": [
    "N           = 20                            # lattice size\n",
    "p1, p2, p3  = 0.5, 0.5, 0.5                 # p for visualisation\n",
    "S0, I0, R0  = 0.1, 0.4, 0.5                 # initial fraction of S, I, R\n",
    "equistep    = 100                           # equilibrate sweep (No system equilibration in this case)\n",
    "calcstep    = 20000                         # measurement sweep\n",
    "factor      = int(calcstep/10)              # because of 'if (j%10 == 0):' in 'analyse' fn\n",
    "\n",
    "p = [p1, p2, p3]\n",
    "fraction = [S0, I0, R0]\n",
    "\n",
    "np.random.seed(0)\n",
    "# sir_model_3 = ca_utils.SIR(N, fraction, p, factor, equistep, calcstep)\n",
    "sir_model_3 = ca_utils_cy.SIR(N, fraction, p, factor, equistep, calcstep)"
   ]
  },
  {
   "cell_type": "markdown",
   "metadata": {},
   "source": [
    "- Method behavior\n",
    "    - Average Infected fraction $\\frac{<I>}{N}$ vs Fraction of Immunity, $f_{im}$\n",
    "    - Immune fraction of at least 0.55 is required to stop the spreading of the infection"
   ]
  },
  {
   "cell_type": "code",
   "execution_count": 13,
   "metadata": {
    "scrolled": true
   },
   "outputs": [
    {
     "data": {
      "application/vnd.jupyter.widget-view+json": {
       "model_id": "",
       "version_major": 2,
       "version_minor": 0
      },
      "text/plain": [
       "HBox(children=(IntProgress(value=1, bar_style='info', description='Immune Fraction', max=1, style=ProgressStyl…"
      ]
     },
     "metadata": {},
     "output_type": "display_data"
    },
    {
     "data": {
      "application/vnd.jupyter.widget-view+json": {
       "model_id": "",
       "version_major": 2,
       "version_minor": 0
      },
      "text/plain": [
       "HBox(children=(IntProgress(value=0, description='Measurement sweep', max=20000, style=ProgressStyle(descriptio…"
      ]
     },
     "metadata": {},
     "output_type": "display_data"
    },
    {
     "data": {
      "application/vnd.jupyter.widget-view+json": {
       "model_id": "",
       "version_major": 2,
       "version_minor": 0
      },
      "text/plain": [
       "HBox(children=(IntProgress(value=0, description='Measurement sweep', max=20000, style=ProgressStyle(descriptio…"
      ]
     },
     "metadata": {},
     "output_type": "display_data"
    },
    {
     "data": {
      "application/vnd.jupyter.widget-view+json": {
       "model_id": "",
       "version_major": 2,
       "version_minor": 0
      },
      "text/plain": [
       "HBox(children=(IntProgress(value=0, description='Measurement sweep', max=20000, style=ProgressStyle(descriptio…"
      ]
     },
     "metadata": {},
     "output_type": "display_data"
    },
    {
     "data": {
      "application/vnd.jupyter.widget-view+json": {
       "model_id": "",
       "version_major": 2,
       "version_minor": 0
      },
      "text/plain": [
       "HBox(children=(IntProgress(value=0, description='Measurement sweep', max=20000, style=ProgressStyle(descriptio…"
      ]
     },
     "metadata": {},
     "output_type": "display_data"
    },
    {
     "data": {
      "application/vnd.jupyter.widget-view+json": {
       "model_id": "",
       "version_major": 2,
       "version_minor": 0
      },
      "text/plain": [
       "HBox(children=(IntProgress(value=0, description='Measurement sweep', max=20000, style=ProgressStyle(descriptio…"
      ]
     },
     "metadata": {},
     "output_type": "display_data"
    },
    {
     "data": {
      "application/vnd.jupyter.widget-view+json": {
       "model_id": "",
       "version_major": 2,
       "version_minor": 0
      },
      "text/plain": [
       "HBox(children=(IntProgress(value=0, description='Measurement sweep', max=20000, style=ProgressStyle(descriptio…"
      ]
     },
     "metadata": {},
     "output_type": "display_data"
    },
    {
     "data": {
      "application/vnd.jupyter.widget-view+json": {
       "model_id": "",
       "version_major": 2,
       "version_minor": 0
      },
      "text/plain": [
       "HBox(children=(IntProgress(value=0, description='Measurement sweep', max=20000, style=ProgressStyle(descriptio…"
      ]
     },
     "metadata": {},
     "output_type": "display_data"
    },
    {
     "data": {
      "application/vnd.jupyter.widget-view+json": {
       "model_id": "",
       "version_major": 2,
       "version_minor": 0
      },
      "text/plain": [
       "HBox(children=(IntProgress(value=0, description='Measurement sweep', max=20000, style=ProgressStyle(descriptio…"
      ]
     },
     "metadata": {},
     "output_type": "display_data"
    },
    {
     "data": {
      "application/vnd.jupyter.widget-view+json": {
       "model_id": "",
       "version_major": 2,
       "version_minor": 0
      },
      "text/plain": [
       "HBox(children=(IntProgress(value=0, description='Measurement sweep', max=20000, style=ProgressStyle(descriptio…"
      ]
     },
     "metadata": {},
     "output_type": "display_data"
    },
    {
     "data": {
      "application/vnd.jupyter.widget-view+json": {
       "model_id": "",
       "version_major": 2,
       "version_minor": 0
      },
      "text/plain": [
       "HBox(children=(IntProgress(value=0, description='Measurement sweep', max=20000, style=ProgressStyle(descriptio…"
      ]
     },
     "metadata": {},
     "output_type": "display_data"
    },
    {
     "data": {
      "application/vnd.jupyter.widget-view+json": {
       "model_id": "",
       "version_major": 2,
       "version_minor": 0
      },
      "text/plain": [
       "HBox(children=(IntProgress(value=0, description='Measurement sweep', max=20000, style=ProgressStyle(descriptio…"
      ]
     },
     "metadata": {},
     "output_type": "display_data"
    },
    {
     "data": {
      "application/vnd.jupyter.widget-view+json": {
       "model_id": "",
       "version_major": 2,
       "version_minor": 0
      },
      "text/plain": [
       "HBox(children=(IntProgress(value=0, description='Measurement sweep', max=20000, style=ProgressStyle(descriptio…"
      ]
     },
     "metadata": {},
     "output_type": "display_data"
    },
    {
     "data": {
      "application/vnd.jupyter.widget-view+json": {
       "model_id": "",
       "version_major": 2,
       "version_minor": 0
      },
      "text/plain": [
       "HBox(children=(IntProgress(value=0, description='Measurement sweep', max=20000, style=ProgressStyle(descriptio…"
      ]
     },
     "metadata": {},
     "output_type": "display_data"
    },
    {
     "data": {
      "application/vnd.jupyter.widget-view+json": {
       "model_id": "",
       "version_major": 2,
       "version_minor": 0
      },
      "text/plain": [
       "HBox(children=(IntProgress(value=0, description='Measurement sweep', max=20000, style=ProgressStyle(descriptio…"
      ]
     },
     "metadata": {},
     "output_type": "display_data"
    },
    {
     "data": {
      "application/vnd.jupyter.widget-view+json": {
       "model_id": "",
       "version_major": 2,
       "version_minor": 0
      },
      "text/plain": [
       "HBox(children=(IntProgress(value=0, description='Measurement sweep', max=20000, style=ProgressStyle(descriptio…"
      ]
     },
     "metadata": {},
     "output_type": "display_data"
    },
    {
     "data": {
      "application/vnd.jupyter.widget-view+json": {
       "model_id": "",
       "version_major": 2,
       "version_minor": 0
      },
      "text/plain": [
       "HBox(children=(IntProgress(value=0, description='Measurement sweep', max=20000, style=ProgressStyle(descriptio…"
      ]
     },
     "metadata": {},
     "output_type": "display_data"
    },
    {
     "data": {
      "application/vnd.jupyter.widget-view+json": {
       "model_id": "",
       "version_major": 2,
       "version_minor": 0
      },
      "text/plain": [
       "HBox(children=(IntProgress(value=0, description='Measurement sweep', max=20000, style=ProgressStyle(descriptio…"
      ]
     },
     "metadata": {},
     "output_type": "display_data"
    },
    {
     "data": {
      "application/vnd.jupyter.widget-view+json": {
       "model_id": "",
       "version_major": 2,
       "version_minor": 0
      },
      "text/plain": [
       "HBox(children=(IntProgress(value=0, description='Measurement sweep', max=20000, style=ProgressStyle(descriptio…"
      ]
     },
     "metadata": {},
     "output_type": "display_data"
    },
    {
     "data": {
      "application/vnd.jupyter.widget-view+json": {
       "model_id": "",
       "version_major": 2,
       "version_minor": 0
      },
      "text/plain": [
       "HBox(children=(IntProgress(value=0, description='Measurement sweep', max=20000, style=ProgressStyle(descriptio…"
      ]
     },
     "metadata": {},
     "output_type": "display_data"
    },
    {
     "data": {
      "application/vnd.jupyter.widget-view+json": {
       "model_id": "",
       "version_major": 2,
       "version_minor": 0
      },
      "text/plain": [
       "HBox(children=(IntProgress(value=0, description='Measurement sweep', max=20000, style=ProgressStyle(descriptio…"
      ]
     },
     "metadata": {},
     "output_type": "display_data"
    },
    {
     "name": "stdout",
     "output_type": "stream",
     "text": [
      "\r"
     ]
    },
    {
     "data": {
      "application/javascript": [
       "/* Put everything inside the global mpl namespace */\n",
       "window.mpl = {};\n",
       "\n",
       "\n",
       "mpl.get_websocket_type = function() {\n",
       "    if (typeof(WebSocket) !== 'undefined') {\n",
       "        return WebSocket;\n",
       "    } else if (typeof(MozWebSocket) !== 'undefined') {\n",
       "        return MozWebSocket;\n",
       "    } else {\n",
       "        alert('Your browser does not have WebSocket support.' +\n",
       "              'Please try Chrome, Safari or Firefox ≥ 6. ' +\n",
       "              'Firefox 4 and 5 are also supported but you ' +\n",
       "              'have to enable WebSockets in about:config.');\n",
       "    };\n",
       "}\n",
       "\n",
       "mpl.figure = function(figure_id, websocket, ondownload, parent_element) {\n",
       "    this.id = figure_id;\n",
       "\n",
       "    this.ws = websocket;\n",
       "\n",
       "    this.supports_binary = (this.ws.binaryType != undefined);\n",
       "\n",
       "    if (!this.supports_binary) {\n",
       "        var warnings = document.getElementById(\"mpl-warnings\");\n",
       "        if (warnings) {\n",
       "            warnings.style.display = 'block';\n",
       "            warnings.textContent = (\n",
       "                \"This browser does not support binary websocket messages. \" +\n",
       "                    \"Performance may be slow.\");\n",
       "        }\n",
       "    }\n",
       "\n",
       "    this.imageObj = new Image();\n",
       "\n",
       "    this.context = undefined;\n",
       "    this.message = undefined;\n",
       "    this.canvas = undefined;\n",
       "    this.rubberband_canvas = undefined;\n",
       "    this.rubberband_context = undefined;\n",
       "    this.format_dropdown = undefined;\n",
       "\n",
       "    this.image_mode = 'full';\n",
       "\n",
       "    this.root = $('<div/>');\n",
       "    this._root_extra_style(this.root)\n",
       "    this.root.attr('style', 'display: inline-block');\n",
       "\n",
       "    $(parent_element).append(this.root);\n",
       "\n",
       "    this._init_header(this);\n",
       "    this._init_canvas(this);\n",
       "    this._init_toolbar(this);\n",
       "\n",
       "    var fig = this;\n",
       "\n",
       "    this.waiting = false;\n",
       "\n",
       "    this.ws.onopen =  function () {\n",
       "            fig.send_message(\"supports_binary\", {value: fig.supports_binary});\n",
       "            fig.send_message(\"send_image_mode\", {});\n",
       "            if (mpl.ratio != 1) {\n",
       "                fig.send_message(\"set_dpi_ratio\", {'dpi_ratio': mpl.ratio});\n",
       "            }\n",
       "            fig.send_message(\"refresh\", {});\n",
       "        }\n",
       "\n",
       "    this.imageObj.onload = function() {\n",
       "            if (fig.image_mode == 'full') {\n",
       "                // Full images could contain transparency (where diff images\n",
       "                // almost always do), so we need to clear the canvas so that\n",
       "                // there is no ghosting.\n",
       "                fig.context.clearRect(0, 0, fig.canvas.width, fig.canvas.height);\n",
       "            }\n",
       "            fig.context.drawImage(fig.imageObj, 0, 0);\n",
       "        };\n",
       "\n",
       "    this.imageObj.onunload = function() {\n",
       "        fig.ws.close();\n",
       "    }\n",
       "\n",
       "    this.ws.onmessage = this._make_on_message_function(this);\n",
       "\n",
       "    this.ondownload = ondownload;\n",
       "}\n",
       "\n",
       "mpl.figure.prototype._init_header = function() {\n",
       "    var titlebar = $(\n",
       "        '<div class=\"ui-dialog-titlebar ui-widget-header ui-corner-all ' +\n",
       "        'ui-helper-clearfix\"/>');\n",
       "    var titletext = $(\n",
       "        '<div class=\"ui-dialog-title\" style=\"width: 100%; ' +\n",
       "        'text-align: center; padding: 3px;\"/>');\n",
       "    titlebar.append(titletext)\n",
       "    this.root.append(titlebar);\n",
       "    this.header = titletext[0];\n",
       "}\n",
       "\n",
       "\n",
       "\n",
       "mpl.figure.prototype._canvas_extra_style = function(canvas_div) {\n",
       "\n",
       "}\n",
       "\n",
       "\n",
       "mpl.figure.prototype._root_extra_style = function(canvas_div) {\n",
       "\n",
       "}\n",
       "\n",
       "mpl.figure.prototype._init_canvas = function() {\n",
       "    var fig = this;\n",
       "\n",
       "    var canvas_div = $('<div/>');\n",
       "\n",
       "    canvas_div.attr('style', 'position: relative; clear: both; outline: 0');\n",
       "\n",
       "    function canvas_keyboard_event(event) {\n",
       "        return fig.key_event(event, event['data']);\n",
       "    }\n",
       "\n",
       "    canvas_div.keydown('key_press', canvas_keyboard_event);\n",
       "    canvas_div.keyup('key_release', canvas_keyboard_event);\n",
       "    this.canvas_div = canvas_div\n",
       "    this._canvas_extra_style(canvas_div)\n",
       "    this.root.append(canvas_div);\n",
       "\n",
       "    var canvas = $('<canvas/>');\n",
       "    canvas.addClass('mpl-canvas');\n",
       "    canvas.attr('style', \"left: 0; top: 0; z-index: 0; outline: 0\")\n",
       "\n",
       "    this.canvas = canvas[0];\n",
       "    this.context = canvas[0].getContext(\"2d\");\n",
       "\n",
       "    var backingStore = this.context.backingStorePixelRatio ||\n",
       "\tthis.context.webkitBackingStorePixelRatio ||\n",
       "\tthis.context.mozBackingStorePixelRatio ||\n",
       "\tthis.context.msBackingStorePixelRatio ||\n",
       "\tthis.context.oBackingStorePixelRatio ||\n",
       "\tthis.context.backingStorePixelRatio || 1;\n",
       "\n",
       "    mpl.ratio = (window.devicePixelRatio || 1) / backingStore;\n",
       "\n",
       "    var rubberband = $('<canvas/>');\n",
       "    rubberband.attr('style', \"position: absolute; left: 0; top: 0; z-index: 1;\")\n",
       "\n",
       "    var pass_mouse_events = true;\n",
       "\n",
       "    canvas_div.resizable({\n",
       "        start: function(event, ui) {\n",
       "            pass_mouse_events = false;\n",
       "        },\n",
       "        resize: function(event, ui) {\n",
       "            fig.request_resize(ui.size.width, ui.size.height);\n",
       "        },\n",
       "        stop: function(event, ui) {\n",
       "            pass_mouse_events = true;\n",
       "            fig.request_resize(ui.size.width, ui.size.height);\n",
       "        },\n",
       "    });\n",
       "\n",
       "    function mouse_event_fn(event) {\n",
       "        if (pass_mouse_events)\n",
       "            return fig.mouse_event(event, event['data']);\n",
       "    }\n",
       "\n",
       "    rubberband.mousedown('button_press', mouse_event_fn);\n",
       "    rubberband.mouseup('button_release', mouse_event_fn);\n",
       "    // Throttle sequential mouse events to 1 every 20ms.\n",
       "    rubberband.mousemove('motion_notify', mouse_event_fn);\n",
       "\n",
       "    rubberband.mouseenter('figure_enter', mouse_event_fn);\n",
       "    rubberband.mouseleave('figure_leave', mouse_event_fn);\n",
       "\n",
       "    canvas_div.on(\"wheel\", function (event) {\n",
       "        event = event.originalEvent;\n",
       "        event['data'] = 'scroll'\n",
       "        if (event.deltaY < 0) {\n",
       "            event.step = 1;\n",
       "        } else {\n",
       "            event.step = -1;\n",
       "        }\n",
       "        mouse_event_fn(event);\n",
       "    });\n",
       "\n",
       "    canvas_div.append(canvas);\n",
       "    canvas_div.append(rubberband);\n",
       "\n",
       "    this.rubberband = rubberband;\n",
       "    this.rubberband_canvas = rubberband[0];\n",
       "    this.rubberband_context = rubberband[0].getContext(\"2d\");\n",
       "    this.rubberband_context.strokeStyle = \"#000000\";\n",
       "\n",
       "    this._resize_canvas = function(width, height) {\n",
       "        // Keep the size of the canvas, canvas container, and rubber band\n",
       "        // canvas in synch.\n",
       "        canvas_div.css('width', width)\n",
       "        canvas_div.css('height', height)\n",
       "\n",
       "        canvas.attr('width', width * mpl.ratio);\n",
       "        canvas.attr('height', height * mpl.ratio);\n",
       "        canvas.attr('style', 'width: ' + width + 'px; height: ' + height + 'px;');\n",
       "\n",
       "        rubberband.attr('width', width);\n",
       "        rubberband.attr('height', height);\n",
       "    }\n",
       "\n",
       "    // Set the figure to an initial 600x600px, this will subsequently be updated\n",
       "    // upon first draw.\n",
       "    this._resize_canvas(600, 600);\n",
       "\n",
       "    // Disable right mouse context menu.\n",
       "    $(this.rubberband_canvas).bind(\"contextmenu\",function(e){\n",
       "        return false;\n",
       "    });\n",
       "\n",
       "    function set_focus () {\n",
       "        canvas.focus();\n",
       "        canvas_div.focus();\n",
       "    }\n",
       "\n",
       "    window.setTimeout(set_focus, 100);\n",
       "}\n",
       "\n",
       "mpl.figure.prototype._init_toolbar = function() {\n",
       "    var fig = this;\n",
       "\n",
       "    var nav_element = $('<div/>')\n",
       "    nav_element.attr('style', 'width: 100%');\n",
       "    this.root.append(nav_element);\n",
       "\n",
       "    // Define a callback function for later on.\n",
       "    function toolbar_event(event) {\n",
       "        return fig.toolbar_button_onclick(event['data']);\n",
       "    }\n",
       "    function toolbar_mouse_event(event) {\n",
       "        return fig.toolbar_button_onmouseover(event['data']);\n",
       "    }\n",
       "\n",
       "    for(var toolbar_ind in mpl.toolbar_items) {\n",
       "        var name = mpl.toolbar_items[toolbar_ind][0];\n",
       "        var tooltip = mpl.toolbar_items[toolbar_ind][1];\n",
       "        var image = mpl.toolbar_items[toolbar_ind][2];\n",
       "        var method_name = mpl.toolbar_items[toolbar_ind][3];\n",
       "\n",
       "        if (!name) {\n",
       "            // put a spacer in here.\n",
       "            continue;\n",
       "        }\n",
       "        var button = $('<button/>');\n",
       "        button.addClass('ui-button ui-widget ui-state-default ui-corner-all ' +\n",
       "                        'ui-button-icon-only');\n",
       "        button.attr('role', 'button');\n",
       "        button.attr('aria-disabled', 'false');\n",
       "        button.click(method_name, toolbar_event);\n",
       "        button.mouseover(tooltip, toolbar_mouse_event);\n",
       "\n",
       "        var icon_img = $('<span/>');\n",
       "        icon_img.addClass('ui-button-icon-primary ui-icon');\n",
       "        icon_img.addClass(image);\n",
       "        icon_img.addClass('ui-corner-all');\n",
       "\n",
       "        var tooltip_span = $('<span/>');\n",
       "        tooltip_span.addClass('ui-button-text');\n",
       "        tooltip_span.html(tooltip);\n",
       "\n",
       "        button.append(icon_img);\n",
       "        button.append(tooltip_span);\n",
       "\n",
       "        nav_element.append(button);\n",
       "    }\n",
       "\n",
       "    var fmt_picker_span = $('<span/>');\n",
       "\n",
       "    var fmt_picker = $('<select/>');\n",
       "    fmt_picker.addClass('mpl-toolbar-option ui-widget ui-widget-content');\n",
       "    fmt_picker_span.append(fmt_picker);\n",
       "    nav_element.append(fmt_picker_span);\n",
       "    this.format_dropdown = fmt_picker[0];\n",
       "\n",
       "    for (var ind in mpl.extensions) {\n",
       "        var fmt = mpl.extensions[ind];\n",
       "        var option = $(\n",
       "            '<option/>', {selected: fmt === mpl.default_extension}).html(fmt);\n",
       "        fmt_picker.append(option)\n",
       "    }\n",
       "\n",
       "    // Add hover states to the ui-buttons\n",
       "    $( \".ui-button\" ).hover(\n",
       "        function() { $(this).addClass(\"ui-state-hover\");},\n",
       "        function() { $(this).removeClass(\"ui-state-hover\");}\n",
       "    );\n",
       "\n",
       "    var status_bar = $('<span class=\"mpl-message\"/>');\n",
       "    nav_element.append(status_bar);\n",
       "    this.message = status_bar[0];\n",
       "}\n",
       "\n",
       "mpl.figure.prototype.request_resize = function(x_pixels, y_pixels) {\n",
       "    // Request matplotlib to resize the figure. Matplotlib will then trigger a resize in the client,\n",
       "    // which will in turn request a refresh of the image.\n",
       "    this.send_message('resize', {'width': x_pixels, 'height': y_pixels});\n",
       "}\n",
       "\n",
       "mpl.figure.prototype.send_message = function(type, properties) {\n",
       "    properties['type'] = type;\n",
       "    properties['figure_id'] = this.id;\n",
       "    this.ws.send(JSON.stringify(properties));\n",
       "}\n",
       "\n",
       "mpl.figure.prototype.send_draw_message = function() {\n",
       "    if (!this.waiting) {\n",
       "        this.waiting = true;\n",
       "        this.ws.send(JSON.stringify({type: \"draw\", figure_id: this.id}));\n",
       "    }\n",
       "}\n",
       "\n",
       "\n",
       "mpl.figure.prototype.handle_save = function(fig, msg) {\n",
       "    var format_dropdown = fig.format_dropdown;\n",
       "    var format = format_dropdown.options[format_dropdown.selectedIndex].value;\n",
       "    fig.ondownload(fig, format);\n",
       "}\n",
       "\n",
       "\n",
       "mpl.figure.prototype.handle_resize = function(fig, msg) {\n",
       "    var size = msg['size'];\n",
       "    if (size[0] != fig.canvas.width || size[1] != fig.canvas.height) {\n",
       "        fig._resize_canvas(size[0], size[1]);\n",
       "        fig.send_message(\"refresh\", {});\n",
       "    };\n",
       "}\n",
       "\n",
       "mpl.figure.prototype.handle_rubberband = function(fig, msg) {\n",
       "    var x0 = msg['x0'] / mpl.ratio;\n",
       "    var y0 = (fig.canvas.height - msg['y0']) / mpl.ratio;\n",
       "    var x1 = msg['x1'] / mpl.ratio;\n",
       "    var y1 = (fig.canvas.height - msg['y1']) / mpl.ratio;\n",
       "    x0 = Math.floor(x0) + 0.5;\n",
       "    y0 = Math.floor(y0) + 0.5;\n",
       "    x1 = Math.floor(x1) + 0.5;\n",
       "    y1 = Math.floor(y1) + 0.5;\n",
       "    var min_x = Math.min(x0, x1);\n",
       "    var min_y = Math.min(y0, y1);\n",
       "    var width = Math.abs(x1 - x0);\n",
       "    var height = Math.abs(y1 - y0);\n",
       "\n",
       "    fig.rubberband_context.clearRect(\n",
       "        0, 0, fig.canvas.width, fig.canvas.height);\n",
       "\n",
       "    fig.rubberband_context.strokeRect(min_x, min_y, width, height);\n",
       "}\n",
       "\n",
       "mpl.figure.prototype.handle_figure_label = function(fig, msg) {\n",
       "    // Updates the figure title.\n",
       "    fig.header.textContent = msg['label'];\n",
       "}\n",
       "\n",
       "mpl.figure.prototype.handle_cursor = function(fig, msg) {\n",
       "    var cursor = msg['cursor'];\n",
       "    switch(cursor)\n",
       "    {\n",
       "    case 0:\n",
       "        cursor = 'pointer';\n",
       "        break;\n",
       "    case 1:\n",
       "        cursor = 'default';\n",
       "        break;\n",
       "    case 2:\n",
       "        cursor = 'crosshair';\n",
       "        break;\n",
       "    case 3:\n",
       "        cursor = 'move';\n",
       "        break;\n",
       "    }\n",
       "    fig.rubberband_canvas.style.cursor = cursor;\n",
       "}\n",
       "\n",
       "mpl.figure.prototype.handle_message = function(fig, msg) {\n",
       "    fig.message.textContent = msg['message'];\n",
       "}\n",
       "\n",
       "mpl.figure.prototype.handle_draw = function(fig, msg) {\n",
       "    // Request the server to send over a new figure.\n",
       "    fig.send_draw_message();\n",
       "}\n",
       "\n",
       "mpl.figure.prototype.handle_image_mode = function(fig, msg) {\n",
       "    fig.image_mode = msg['mode'];\n",
       "}\n",
       "\n",
       "mpl.figure.prototype.updated_canvas_event = function() {\n",
       "    // Called whenever the canvas gets updated.\n",
       "    this.send_message(\"ack\", {});\n",
       "}\n",
       "\n",
       "// A function to construct a web socket function for onmessage handling.\n",
       "// Called in the figure constructor.\n",
       "mpl.figure.prototype._make_on_message_function = function(fig) {\n",
       "    return function socket_on_message(evt) {\n",
       "        if (evt.data instanceof Blob) {\n",
       "            /* FIXME: We get \"Resource interpreted as Image but\n",
       "             * transferred with MIME type text/plain:\" errors on\n",
       "             * Chrome.  But how to set the MIME type?  It doesn't seem\n",
       "             * to be part of the websocket stream */\n",
       "            evt.data.type = \"image/png\";\n",
       "\n",
       "            /* Free the memory for the previous frames */\n",
       "            if (fig.imageObj.src) {\n",
       "                (window.URL || window.webkitURL).revokeObjectURL(\n",
       "                    fig.imageObj.src);\n",
       "            }\n",
       "\n",
       "            fig.imageObj.src = (window.URL || window.webkitURL).createObjectURL(\n",
       "                evt.data);\n",
       "            fig.updated_canvas_event();\n",
       "            fig.waiting = false;\n",
       "            return;\n",
       "        }\n",
       "        else if (typeof evt.data === 'string' && evt.data.slice(0, 21) == \"data:image/png;base64\") {\n",
       "            fig.imageObj.src = evt.data;\n",
       "            fig.updated_canvas_event();\n",
       "            fig.waiting = false;\n",
       "            return;\n",
       "        }\n",
       "\n",
       "        var msg = JSON.parse(evt.data);\n",
       "        var msg_type = msg['type'];\n",
       "\n",
       "        // Call the  \"handle_{type}\" callback, which takes\n",
       "        // the figure and JSON message as its only arguments.\n",
       "        try {\n",
       "            var callback = fig[\"handle_\" + msg_type];\n",
       "        } catch (e) {\n",
       "            console.log(\"No handler for the '\" + msg_type + \"' message type: \", msg);\n",
       "            return;\n",
       "        }\n",
       "\n",
       "        if (callback) {\n",
       "            try {\n",
       "                // console.log(\"Handling '\" + msg_type + \"' message: \", msg);\n",
       "                callback(fig, msg);\n",
       "            } catch (e) {\n",
       "                console.log(\"Exception inside the 'handler_\" + msg_type + \"' callback:\", e, e.stack, msg);\n",
       "            }\n",
       "        }\n",
       "    };\n",
       "}\n",
       "\n",
       "// from http://stackoverflow.com/questions/1114465/getting-mouse-location-in-canvas\n",
       "mpl.findpos = function(e) {\n",
       "    //this section is from http://www.quirksmode.org/js/events_properties.html\n",
       "    var targ;\n",
       "    if (!e)\n",
       "        e = window.event;\n",
       "    if (e.target)\n",
       "        targ = e.target;\n",
       "    else if (e.srcElement)\n",
       "        targ = e.srcElement;\n",
       "    if (targ.nodeType == 3) // defeat Safari bug\n",
       "        targ = targ.parentNode;\n",
       "\n",
       "    // jQuery normalizes the pageX and pageY\n",
       "    // pageX,Y are the mouse positions relative to the document\n",
       "    // offset() returns the position of the element relative to the document\n",
       "    var x = e.pageX - $(targ).offset().left;\n",
       "    var y = e.pageY - $(targ).offset().top;\n",
       "\n",
       "    return {\"x\": x, \"y\": y};\n",
       "};\n",
       "\n",
       "/*\n",
       " * return a copy of an object with only non-object keys\n",
       " * we need this to avoid circular references\n",
       " * http://stackoverflow.com/a/24161582/3208463\n",
       " */\n",
       "function simpleKeys (original) {\n",
       "  return Object.keys(original).reduce(function (obj, key) {\n",
       "    if (typeof original[key] !== 'object')\n",
       "        obj[key] = original[key]\n",
       "    return obj;\n",
       "  }, {});\n",
       "}\n",
       "\n",
       "mpl.figure.prototype.mouse_event = function(event, name) {\n",
       "    var canvas_pos = mpl.findpos(event)\n",
       "\n",
       "    if (name === 'button_press')\n",
       "    {\n",
       "        this.canvas.focus();\n",
       "        this.canvas_div.focus();\n",
       "    }\n",
       "\n",
       "    var x = canvas_pos.x * mpl.ratio;\n",
       "    var y = canvas_pos.y * mpl.ratio;\n",
       "\n",
       "    this.send_message(name, {x: x, y: y, button: event.button,\n",
       "                             step: event.step,\n",
       "                             guiEvent: simpleKeys(event)});\n",
       "\n",
       "    /* This prevents the web browser from automatically changing to\n",
       "     * the text insertion cursor when the button is pressed.  We want\n",
       "     * to control all of the cursor setting manually through the\n",
       "     * 'cursor' event from matplotlib */\n",
       "    event.preventDefault();\n",
       "    return false;\n",
       "}\n",
       "\n",
       "mpl.figure.prototype._key_event_extra = function(event, name) {\n",
       "    // Handle any extra behaviour associated with a key event\n",
       "}\n",
       "\n",
       "mpl.figure.prototype.key_event = function(event, name) {\n",
       "\n",
       "    // Prevent repeat events\n",
       "    if (name == 'key_press')\n",
       "    {\n",
       "        if (event.which === this._key)\n",
       "            return;\n",
       "        else\n",
       "            this._key = event.which;\n",
       "    }\n",
       "    if (name == 'key_release')\n",
       "        this._key = null;\n",
       "\n",
       "    var value = '';\n",
       "    if (event.ctrlKey && event.which != 17)\n",
       "        value += \"ctrl+\";\n",
       "    if (event.altKey && event.which != 18)\n",
       "        value += \"alt+\";\n",
       "    if (event.shiftKey && event.which != 16)\n",
       "        value += \"shift+\";\n",
       "\n",
       "    value += 'k';\n",
       "    value += event.which.toString();\n",
       "\n",
       "    this._key_event_extra(event, name);\n",
       "\n",
       "    this.send_message(name, {key: value,\n",
       "                             guiEvent: simpleKeys(event)});\n",
       "    return false;\n",
       "}\n",
       "\n",
       "mpl.figure.prototype.toolbar_button_onclick = function(name) {\n",
       "    if (name == 'download') {\n",
       "        this.handle_save(this, null);\n",
       "    } else {\n",
       "        this.send_message(\"toolbar_button\", {name: name});\n",
       "    }\n",
       "};\n",
       "\n",
       "mpl.figure.prototype.toolbar_button_onmouseover = function(tooltip) {\n",
       "    this.message.textContent = tooltip;\n",
       "};\n",
       "mpl.toolbar_items = [[\"Home\", \"Reset original view\", \"fa fa-home icon-home\", \"home\"], [\"Back\", \"Back to previous view\", \"fa fa-arrow-left icon-arrow-left\", \"back\"], [\"Forward\", \"Forward to next view\", \"fa fa-arrow-right icon-arrow-right\", \"forward\"], [\"\", \"\", \"\", \"\"], [\"Pan\", \"Pan axes with left mouse, zoom with right\", \"fa fa-arrows icon-move\", \"pan\"], [\"Zoom\", \"Zoom to rectangle\", \"fa fa-square-o icon-check-empty\", \"zoom\"], [\"\", \"\", \"\", \"\"], [\"Download\", \"Download plot\", \"fa fa-floppy-o icon-save\", \"download\"]];\n",
       "\n",
       "mpl.extensions = [\"eps\", \"jpeg\", \"pdf\", \"png\", \"ps\", \"raw\", \"svg\", \"tif\"];\n",
       "\n",
       "mpl.default_extension = \"png\";var comm_websocket_adapter = function(comm) {\n",
       "    // Create a \"websocket\"-like object which calls the given IPython comm\n",
       "    // object with the appropriate methods. Currently this is a non binary\n",
       "    // socket, so there is still some room for performance tuning.\n",
       "    var ws = {};\n",
       "\n",
       "    ws.close = function() {\n",
       "        comm.close()\n",
       "    };\n",
       "    ws.send = function(m) {\n",
       "        //console.log('sending', m);\n",
       "        comm.send(m);\n",
       "    };\n",
       "    // Register the callback with on_msg.\n",
       "    comm.on_msg(function(msg) {\n",
       "        //console.log('receiving', msg['content']['data'], msg);\n",
       "        // Pass the mpl event to the overridden (by mpl) onmessage function.\n",
       "        ws.onmessage(msg['content']['data'])\n",
       "    });\n",
       "    return ws;\n",
       "}\n",
       "\n",
       "mpl.mpl_figure_comm = function(comm, msg) {\n",
       "    // This is the function which gets called when the mpl process\n",
       "    // starts-up an IPython Comm through the \"matplotlib\" channel.\n",
       "\n",
       "    var id = msg.content.data.id;\n",
       "    // Get hold of the div created by the display call when the Comm\n",
       "    // socket was opened in Python.\n",
       "    var element = $(\"#\" + id);\n",
       "    var ws_proxy = comm_websocket_adapter(comm)\n",
       "\n",
       "    function ondownload(figure, format) {\n",
       "        window.open(figure.imageObj.src);\n",
       "    }\n",
       "\n",
       "    var fig = new mpl.figure(id, ws_proxy,\n",
       "                           ondownload,\n",
       "                           element.get(0));\n",
       "\n",
       "    // Call onopen now - mpl needs it, as it is assuming we've passed it a real\n",
       "    // web socket which is closed, not our websocket->open comm proxy.\n",
       "    ws_proxy.onopen();\n",
       "\n",
       "    fig.parent_element = element.get(0);\n",
       "    fig.cell_info = mpl.find_output_cell(\"<div id='\" + id + \"'></div>\");\n",
       "    if (!fig.cell_info) {\n",
       "        console.error(\"Failed to find cell for figure\", id, fig);\n",
       "        return;\n",
       "    }\n",
       "\n",
       "    var output_index = fig.cell_info[2]\n",
       "    var cell = fig.cell_info[0];\n",
       "\n",
       "};\n",
       "\n",
       "mpl.figure.prototype.handle_close = function(fig, msg) {\n",
       "    var width = fig.canvas.width/mpl.ratio\n",
       "    fig.root.unbind('remove')\n",
       "\n",
       "    // Update the output cell to use the data from the current canvas.\n",
       "    fig.push_to_output();\n",
       "    var dataURL = fig.canvas.toDataURL();\n",
       "    // Re-enable the keyboard manager in IPython - without this line, in FF,\n",
       "    // the notebook keyboard shortcuts fail.\n",
       "    IPython.keyboard_manager.enable()\n",
       "    $(fig.parent_element).html('<img src=\"' + dataURL + '\" width=\"' + width + '\">');\n",
       "    fig.close_ws(fig, msg);\n",
       "}\n",
       "\n",
       "mpl.figure.prototype.close_ws = function(fig, msg){\n",
       "    fig.send_message('closing', msg);\n",
       "    // fig.ws.close()\n",
       "}\n",
       "\n",
       "mpl.figure.prototype.push_to_output = function(remove_interactive) {\n",
       "    // Turn the data on the canvas into data in the output cell.\n",
       "    var width = this.canvas.width/mpl.ratio\n",
       "    var dataURL = this.canvas.toDataURL();\n",
       "    this.cell_info[1]['text/html'] = '<img src=\"' + dataURL + '\" width=\"' + width + '\">';\n",
       "}\n",
       "\n",
       "mpl.figure.prototype.updated_canvas_event = function() {\n",
       "    // Tell IPython that the notebook contents must change.\n",
       "    IPython.notebook.set_dirty(true);\n",
       "    this.send_message(\"ack\", {});\n",
       "    var fig = this;\n",
       "    // Wait a second, then push the new image to the DOM so\n",
       "    // that it is saved nicely (might be nice to debounce this).\n",
       "    setTimeout(function () { fig.push_to_output() }, 1000);\n",
       "}\n",
       "\n",
       "mpl.figure.prototype._init_toolbar = function() {\n",
       "    var fig = this;\n",
       "\n",
       "    var nav_element = $('<div/>')\n",
       "    nav_element.attr('style', 'width: 100%');\n",
       "    this.root.append(nav_element);\n",
       "\n",
       "    // Define a callback function for later on.\n",
       "    function toolbar_event(event) {\n",
       "        return fig.toolbar_button_onclick(event['data']);\n",
       "    }\n",
       "    function toolbar_mouse_event(event) {\n",
       "        return fig.toolbar_button_onmouseover(event['data']);\n",
       "    }\n",
       "\n",
       "    for(var toolbar_ind in mpl.toolbar_items){\n",
       "        var name = mpl.toolbar_items[toolbar_ind][0];\n",
       "        var tooltip = mpl.toolbar_items[toolbar_ind][1];\n",
       "        var image = mpl.toolbar_items[toolbar_ind][2];\n",
       "        var method_name = mpl.toolbar_items[toolbar_ind][3];\n",
       "\n",
       "        if (!name) { continue; };\n",
       "\n",
       "        var button = $('<button class=\"btn btn-default\" href=\"#\" title=\"' + name + '\"><i class=\"fa ' + image + ' fa-lg\"></i></button>');\n",
       "        button.click(method_name, toolbar_event);\n",
       "        button.mouseover(tooltip, toolbar_mouse_event);\n",
       "        nav_element.append(button);\n",
       "    }\n",
       "\n",
       "    // Add the status bar.\n",
       "    var status_bar = $('<span class=\"mpl-message\" style=\"text-align:right; float: right;\"/>');\n",
       "    nav_element.append(status_bar);\n",
       "    this.message = status_bar[0];\n",
       "\n",
       "    // Add the close button to the window.\n",
       "    var buttongrp = $('<div class=\"btn-group inline pull-right\"></div>');\n",
       "    var button = $('<button class=\"btn btn-mini btn-primary\" href=\"#\" title=\"Stop Interaction\"><i class=\"fa fa-power-off icon-remove icon-large\"></i></button>');\n",
       "    button.click(function (evt) { fig.handle_close(fig, {}); } );\n",
       "    button.mouseover('Stop Interaction', toolbar_mouse_event);\n",
       "    buttongrp.append(button);\n",
       "    var titlebar = this.root.find($('.ui-dialog-titlebar'));\n",
       "    titlebar.prepend(buttongrp);\n",
       "}\n",
       "\n",
       "mpl.figure.prototype._root_extra_style = function(el){\n",
       "    var fig = this\n",
       "    el.on(\"remove\", function(){\n",
       "\tfig.close_ws(fig, {});\n",
       "    });\n",
       "}\n",
       "\n",
       "mpl.figure.prototype._canvas_extra_style = function(el){\n",
       "    // this is important to make the div 'focusable\n",
       "    el.attr('tabindex', 0)\n",
       "    // reach out to IPython and tell the keyboard manager to turn it's self\n",
       "    // off when our div gets focus\n",
       "\n",
       "    // location in version 3\n",
       "    if (IPython.notebook.keyboard_manager) {\n",
       "        IPython.notebook.keyboard_manager.register_events(el);\n",
       "    }\n",
       "    else {\n",
       "        // location in version 2\n",
       "        IPython.keyboard_manager.register_events(el);\n",
       "    }\n",
       "\n",
       "}\n",
       "\n",
       "mpl.figure.prototype._key_event_extra = function(event, name) {\n",
       "    var manager = IPython.notebook.keyboard_manager;\n",
       "    if (!manager)\n",
       "        manager = IPython.keyboard_manager;\n",
       "\n",
       "    // Check for shift+enter\n",
       "    if (event.shiftKey && event.which == 13) {\n",
       "        this.canvas_div.blur();\n",
       "        event.shiftKey = false;\n",
       "        // Send a \"J\" for go to next cell\n",
       "        event.which = 74;\n",
       "        event.keyCode = 74;\n",
       "        manager.command_mode();\n",
       "        manager.handle_keydown(event);\n",
       "    }\n",
       "}\n",
       "\n",
       "mpl.figure.prototype.handle_save = function(fig, msg) {\n",
       "    fig.ondownload(fig, null);\n",
       "}\n",
       "\n",
       "\n",
       "mpl.find_output_cell = function(html_output) {\n",
       "    // Return the cell and output element which can be found *uniquely* in the notebook.\n",
       "    // Note - this is a bit hacky, but it is done because the \"notebook_saving.Notebook\"\n",
       "    // IPython event is triggered only after the cells have been serialised, which for\n",
       "    // our purposes (turning an active figure into a static one), is too late.\n",
       "    var cells = IPython.notebook.get_cells();\n",
       "    var ncells = cells.length;\n",
       "    for (var i=0; i<ncells; i++) {\n",
       "        var cell = cells[i];\n",
       "        if (cell.cell_type === 'code'){\n",
       "            for (var j=0; j<cell.output_area.outputs.length; j++) {\n",
       "                var data = cell.output_area.outputs[j];\n",
       "                if (data.data) {\n",
       "                    // IPython >= 3 moved mimebundle to data attribute of output\n",
       "                    data = data.data;\n",
       "                }\n",
       "                if (data['text/html'] == html_output) {\n",
       "                    return [cell, data, j];\n",
       "                }\n",
       "            }\n",
       "        }\n",
       "    }\n",
       "}\n",
       "\n",
       "// Register the function which deals with the matplotlib target/channel.\n",
       "// The kernel may be null if the page has been refreshed.\n",
       "if (IPython.notebook.kernel != null) {\n",
       "    IPython.notebook.kernel.comm_manager.register_target('matplotlib', mpl.mpl_figure_comm);\n",
       "}\n"
      ],
      "text/plain": [
       "<IPython.core.display.Javascript object>"
      ]
     },
     "metadata": {},
     "output_type": "display_data"
    },
    {
     "data": {
      "text/html": [
       "<img src=\"data:image/png;base64,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\" width=\"640\">"
      ],
      "text/plain": [
       "<IPython.core.display.HTML object>"
      ]
     },
     "metadata": {},
     "output_type": "display_data"
    }
   ],
   "source": [
    "%matplotlib notebook\n",
    "sir_model_3.compare_infected_immune()"
   ]
  }
 ],
 "metadata": {
  "kernelspec": {
   "display_name": "Python 3",
   "language": "python",
   "name": "python3"
  },
  "language_info": {
   "codemirror_mode": {
    "name": "ipython",
    "version": 3
   },
   "file_extension": ".py",
   "mimetype": "text/x-python",
   "name": "python",
   "nbconvert_exporter": "python",
   "pygments_lexer": "ipython3",
   "version": "3.6.7"
  }
 },
 "nbformat": 4,
 "nbformat_minor": 2
}
